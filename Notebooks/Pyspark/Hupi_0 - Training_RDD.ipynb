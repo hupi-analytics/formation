{
 "cells": [
  {
   "cell_type": "markdown",
   "metadata": {},
   "source": [
    "# Manipulation de RDD - RDD handling"
   ]
  },
  {
   "cell_type": "markdown",
   "metadata": {},
   "source": [
    "### Créer un RDD - Create a RDD"
   ]
  },
  {
   "cell_type": "code",
   "execution_count": 6,
   "metadata": {
    "collapsed": true
   },
   "outputs": [],
   "source": [
    "liste = [\"pandas\", \"i like pandas\"]\n",
    "exemple = sc.parallelize(liste)\n",
    "# ou exemple = sc.parallelize([\"pandas\", \"i like pandas\"])"
   ]
  },
  {
   "cell_type": "code",
   "execution_count": 7,
   "metadata": {
    "collapsed": false
   },
   "outputs": [
    {
     "data": {
      "text/plain": [
       "pyspark.rdd.RDD"
      ]
     },
     "execution_count": 7,
     "metadata": {},
     "output_type": "execute_result"
    }
   ],
   "source": [
    "type(exemple)"
   ]
  },
  {
   "cell_type": "markdown",
   "metadata": {},
   "source": [
    "### Operations sur RDD - Operations in RDD  "
   ]
  },
  {
   "cell_type": "markdown",
   "metadata": {},
   "source": [
    "* On lit un fichier texte \"file1.txt\"\n",
    "\n",
    "* We read \"file1.txt\""
   ]
  },
  {
   "cell_type": "code",
   "execution_count": 8,
   "metadata": {
    "collapsed": true
   },
   "outputs": [],
   "source": [
    "ville = sc.textFile(\"hdfs:///user/ecoles/test_Helene/file1.txt\",use_unicode=False).cache()\n",
    "# Si on n'ajoute pas \"use_unicode = False\", par défaut, c'est True, il y aura des \"u\" devant chaque ligne.\n",
    "# If we don't add \"use_unicode = False\", by default, it is True, and we will see \"u\" in the result.\n",
    "ville1 = sc.textFile(\"hdfs:///user/ecoles/test_Helene/file1.txt\").cache()"
   ]
  },
  {
   "cell_type": "code",
   "execution_count": 9,
   "metadata": {
    "collapsed": false
   },
   "outputs": [
    {
     "data": {
      "text/plain": [
       "['44000, Nantes',\n",
       " '49000, Angers',\n",
       " '50000, Baudre',\n",
       " '51100, Reims',\n",
       " '59000, Lille',\n",
       " '64500, Saint-Jean de Luz',\n",
       " '64600, Anglet',\n",
       " '75013, Paris 13',\n",
       " '75004, Paris 4']"
      ]
     },
     "execution_count": 9,
     "metadata": {},
     "output_type": "execute_result"
    }
   ],
   "source": [
    "ville.collect()"
   ]
  },
  {
   "cell_type": "code",
   "execution_count": 10,
   "metadata": {
    "collapsed": false
   },
   "outputs": [
    {
     "data": {
      "text/plain": [
       "[u'44000, Nantes',\n",
       " u'49000, Angers',\n",
       " u'50000, Baudre',\n",
       " u'51100, Reims',\n",
       " u'59000, Lille',\n",
       " u'64500, Saint-Jean de Luz',\n",
       " u'64600, Anglet',\n",
       " u'75013, Paris 13',\n",
       " u'75004, Paris 4']"
      ]
     },
     "execution_count": 10,
     "metadata": {},
     "output_type": "execute_result"
    }
   ],
   "source": [
    "ville1.collect()"
   ]
  },
  {
   "cell_type": "markdown",
   "metadata": {},
   "source": [
    "#### count() "
   ]
  },
  {
   "cell_type": "markdown",
   "metadata": {},
   "source": [
    "* Pour compter nombre de lignes de RDD\n",
    "\n",
    "* To count number of lines in RDD"
   ]
  },
  {
   "cell_type": "code",
   "execution_count": 11,
   "metadata": {
    "collapsed": false
   },
   "outputs": [
    {
     "data": {
      "text/plain": [
       "9"
      ]
     },
     "execution_count": 11,
     "metadata": {},
     "output_type": "execute_result"
    }
   ],
   "source": [
    "ville.count()"
   ]
  },
  {
   "cell_type": "markdown",
   "metadata": {},
   "source": [
    "### Afficher le résultat - Show results"
   ]
  },
  {
   "cell_type": "markdown",
   "metadata": {},
   "source": [
    "#### first() "
   ]
  },
  {
   "cell_type": "markdown",
   "metadata": {},
   "source": [
    "* Pour afficher la première ligne \n",
    "\n",
    "* To show first line"
   ]
  },
  {
   "cell_type": "code",
   "execution_count": 12,
   "metadata": {
    "collapsed": false
   },
   "outputs": [
    {
     "data": {
      "text/plain": [
       "'44000, Nantes'"
      ]
     },
     "execution_count": 12,
     "metadata": {},
     "output_type": "execute_result"
    }
   ],
   "source": [
    "ville.first()"
   ]
  },
  {
   "cell_type": "markdown",
   "metadata": {},
   "source": [
    "##### take() ou top()  "
   ]
  },
  {
   "cell_type": "markdown",
   "metadata": {},
   "source": [
    "* Pour afficher 10 premieres lignes\n",
    "\n",
    "* To show 10 first lines"
   ]
  },
  {
   "cell_type": "code",
   "execution_count": 13,
   "metadata": {
    "collapsed": false
   },
   "outputs": [
    {
     "data": {
      "text/plain": [
       "['44000, Nantes',\n",
       " '49000, Angers',\n",
       " '50000, Baudre',\n",
       " '51100, Reims',\n",
       " '59000, Lille',\n",
       " '64500, Saint-Jean de Luz',\n",
       " '64600, Anglet',\n",
       " '75013, Paris 13',\n",
       " '75004, Paris 4']"
      ]
     },
     "execution_count": 13,
     "metadata": {},
     "output_type": "execute_result"
    }
   ],
   "source": [
    "ville.take(10)"
   ]
  },
  {
   "cell_type": "markdown",
   "metadata": {},
   "source": [
    "* Ici on a 9 lignes en total, du coup il va afficher tout.\n",
    "\n",
    "* Here we have 9 lines in total, so it will show all lines."
   ]
  },
  {
   "cell_type": "code",
   "execution_count": 14,
   "metadata": {
    "collapsed": false
   },
   "outputs": [
    {
     "data": {
      "text/plain": [
       "['75013, Paris 13',\n",
       " '75004, Paris 4',\n",
       " '64600, Anglet',\n",
       " '64500, Saint-Jean de Luz',\n",
       " '59000, Lille',\n",
       " '51100, Reims',\n",
       " '50000, Baudre',\n",
       " '49000, Angers',\n",
       " '44000, Nantes']"
      ]
     },
     "execution_count": 14,
     "metadata": {},
     "output_type": "execute_result"
    }
   ],
   "source": [
    "ville.top(10)"
   ]
  },
  {
   "cell_type": "markdown",
   "metadata": {},
   "source": [
    "##### Pour imprimer joliment, pas dans une liste - To have result not in list"
   ]
  },
  {
   "cell_type": "code",
   "execution_count": 15,
   "metadata": {
    "collapsed": false
   },
   "outputs": [],
   "source": [
    "# Si on utilise take(), on aura un resultat qui sera une liste\n",
    "# If we use take(), the result will be a list\n",
    "ex1 = ville.take(5)"
   ]
  },
  {
   "cell_type": "code",
   "execution_count": 16,
   "metadata": {
    "collapsed": false
   },
   "outputs": [
    {
     "data": {
      "text/plain": [
       "list"
      ]
     },
     "execution_count": 16,
     "metadata": {},
     "output_type": "execute_result"
    }
   ],
   "source": [
    "type(ex1)"
   ]
  },
  {
   "cell_type": "code",
   "execution_count": 17,
   "metadata": {
    "collapsed": false
   },
   "outputs": [
    {
     "data": {
      "text/plain": [
       "['44000, Nantes',\n",
       " '49000, Angers',\n",
       " '50000, Baudre',\n",
       " '51100, Reims',\n",
       " '59000, Lille']"
      ]
     },
     "execution_count": 17,
     "metadata": {},
     "output_type": "execute_result"
    }
   ],
   "source": [
    "ex1"
   ]
  },
  {
   "cell_type": "code",
   "execution_count": 18,
   "metadata": {
    "collapsed": false
   },
   "outputs": [
    {
     "name": "stdout",
     "output_type": "stream",
     "text": [
      "44000, Nantes\n",
      "49000, Angers\n",
      "50000, Baudre\n",
      "51100, Reims\n",
      "59000, Lille\n"
     ]
    }
   ],
   "source": [
    "for line in ville.take(5):\n",
    "    print line"
   ]
  },
  {
   "cell_type": "markdown",
   "metadata": {},
   "source": [
    "#### collect() "
   ]
  },
  {
   "cell_type": "code",
   "execution_count": 19,
   "metadata": {
    "collapsed": false
   },
   "outputs": [
    {
     "data": {
      "text/plain": [
       "['44000, Nantes',\n",
       " '49000, Angers',\n",
       " '50000, Baudre',\n",
       " '51100, Reims',\n",
       " '59000, Lille',\n",
       " '64500, Saint-Jean de Luz',\n",
       " '64600, Anglet',\n",
       " '75013, Paris 13',\n",
       " '75004, Paris 4']"
      ]
     },
     "execution_count": 19,
     "metadata": {},
     "output_type": "execute_result"
    }
   ],
   "source": [
    "ville.collect()"
   ]
  },
  {
   "cell_type": "markdown",
   "metadata": {},
   "source": [
    "### Transformations basiques sur RDD - Basic Transformations in RDD"
   ]
  },
  {
   "cell_type": "code",
   "execution_count": 20,
   "metadata": {
    "collapsed": true
   },
   "outputs": [],
   "source": [
    "exemple = sc.parallelize([1, 2, 3, 4])"
   ]
  },
  {
   "cell_type": "markdown",
   "metadata": {},
   "source": [
    "#### map() "
   ]
  },
  {
   "cell_type": "markdown",
   "metadata": {},
   "source": [
    "* Pour appliquer une fonction pour chaque ligne de RDD\n",
    "\n",
    "* To apply a function for each line of RDD"
   ]
  },
  {
   "cell_type": "code",
   "execution_count": 21,
   "metadata": {
    "collapsed": false
   },
   "outputs": [],
   "source": [
    "# Pour ajouter 1 à chaque ligne\n",
    "# To add 1 to each line of RDD\n",
    "res = exemple.map(lambda x : x + 1)"
   ]
  },
  {
   "cell_type": "code",
   "execution_count": 22,
   "metadata": {
    "collapsed": false
   },
   "outputs": [
    {
     "data": {
      "text/plain": [
       "[2, 3, 4, 5]"
      ]
     },
     "execution_count": 22,
     "metadata": {},
     "output_type": "execute_result"
    }
   ],
   "source": [
    "res.collect()"
   ]
  },
  {
   "cell_type": "markdown",
   "metadata": {},
   "source": [
    "#### filter() "
   ]
  },
  {
   "cell_type": "code",
   "execution_count": 23,
   "metadata": {
    "collapsed": false
   },
   "outputs": [],
   "source": [
    "# Pour filtrer les lignes contenant \"Nantes\"\n",
    "# To filter lines that contains \"Nantes\"\n",
    "nantes = ville.filter(lambda ville: \"Nantes\" in ville)"
   ]
  },
  {
   "cell_type": "code",
   "execution_count": 24,
   "metadata": {
    "collapsed": false
   },
   "outputs": [
    {
     "data": {
      "text/plain": [
       "1"
      ]
     },
     "execution_count": 24,
     "metadata": {},
     "output_type": "execute_result"
    }
   ],
   "source": [
    "nantes.count()"
   ]
  },
  {
   "cell_type": "code",
   "execution_count": 25,
   "metadata": {
    "collapsed": false
   },
   "outputs": [],
   "source": [
    "# Pour selectionner les lignes > 2 dans exemple\n",
    "# To select line > 2 in exemple\n",
    "dat = exemple.filter(lambda x : x>2)"
   ]
  },
  {
   "cell_type": "code",
   "execution_count": 26,
   "metadata": {
    "collapsed": false
   },
   "outputs": [
    {
     "data": {
      "text/plain": [
       "[3, 4]"
      ]
     },
     "execution_count": 26,
     "metadata": {},
     "output_type": "execute_result"
    }
   ],
   "source": [
    "dat.collect()"
   ]
  },
  {
   "cell_type": "markdown",
   "metadata": {},
   "source": [
    "##### reduce() "
   ]
  },
  {
   "cell_type": "markdown",
   "metadata": {},
   "source": [
    "* Pour appliquer une fonction sur toutes les lignes de RDD\n",
    "\n",
    "* To apply a function for every lines of RDD"
   ]
  },
  {
   "cell_type": "code",
   "execution_count": 27,
   "metadata": {
    "collapsed": true
   },
   "outputs": [],
   "source": [
    "# On calcule la somme des lignes dans RDD\n",
    "# We compute sum of lines in RDD\n",
    "red = exemple.reduce(lambda x, y: x + y)"
   ]
  },
  {
   "cell_type": "code",
   "execution_count": 28,
   "metadata": {
    "collapsed": false
   },
   "outputs": [
    {
     "data": {
      "text/plain": [
       "10"
      ]
     },
     "execution_count": 28,
     "metadata": {},
     "output_type": "execute_result"
    }
   ],
   "source": [
    "red"
   ]
  },
  {
   "cell_type": "code",
   "execution_count": null,
   "metadata": {
    "collapsed": true
   },
   "outputs": [],
   "source": []
  }
 ],
 "metadata": {
  "kernelspec": {
   "display_name": "PySpark 1G ",
   "language": "python",
   "name": "pyspark1g"
  },
  "language_info": {
   "codemirror_mode": {
    "name": "ipython",
    "version": 2
   },
   "file_extension": ".py",
   "mimetype": "text/x-python",
   "name": "python",
   "nbconvert_exporter": "python",
   "pygments_lexer": "ipython2",
   "version": "2.7.11"
  }
 },
 "nbformat": 4,
 "nbformat_minor": 0
}
