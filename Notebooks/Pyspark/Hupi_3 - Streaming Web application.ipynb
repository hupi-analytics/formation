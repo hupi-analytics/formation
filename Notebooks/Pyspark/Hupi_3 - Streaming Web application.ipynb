{
 "cells": [
  {
   "cell_type": "markdown",
   "metadata": {},
   "source": [
    "\n",
    "________________________________________________________________________________________________________________________________\n",
    "\n",
    "________________________________________________________________________________________________________________________________\n",
    "\n",
    "\n",
    "# Données de site internet en streaming - Streaming on internet website\n",
    "\n",
    "\n",
    "________________________________________________________________________________________________________________________________\n",
    "\n",
    "________________________________________________________________________________________________________________________________"
   ]
  },
  {
   "cell_type": "markdown",
   "metadata": {},
   "source": [
    "## Sujet - Subject"
   ]
  },
  {
   "cell_type": "markdown",
   "metadata": {},
   "source": [
    "Cette fois-ci, nous allons récupérer en streaming les données de l'usine ecoles (http://ecoles.hupi.io/). Nous récupérerons les données et afficheront le nombre d'utilisateurs sur le site et le nombre d'actions (clics,...).\n",
    "> \n",
    "*\n",
    "Here, we are going to collect in streaming the data of the ecoles platform (http://ecoles.hupi.io/). We will collect the data and display the number of users on the website and the number of actions (clicks,...).\n",
    "*"
   ]
  },
  {
   "cell_type": "markdown",
   "metadata": {},
   "source": [
    "## Importation des libraries - Library import"
   ]
  },
  {
   "cell_type": "code",
   "execution_count": 1,
   "metadata": {
    "collapsed": false
   },
   "outputs": [],
   "source": [
    "# Modules pour la liaison entre Kafka et Spark / Packages for linking Kafka et Spark\n",
    "from pyspark.streaming import StreamingContext\n",
    "from pyspark.streaming.kafka import KafkaUtils"
   ]
  },
  {
   "cell_type": "markdown",
   "metadata": {},
   "source": [
    "## SparkContext"
   ]
  },
  {
   "cell_type": "code",
   "execution_count": 2,
   "metadata": {
    "collapsed": true
   },
   "outputs": [],
   "source": [
    "# Si il n'y a pas de SparkContext, il faut le créer / Create a SparkContext if there is not :\n",
    "#from pyspark import SparkContext # Si il n'existe pas déjà / if it doesn't exist\n",
    "#sc = SparkContext(appName=\"PythonStreamingKafka_SentimentAnalysis\")"
   ]
  },
  {
   "cell_type": "markdown",
   "metadata": {},
   "source": [
    "## Liaison avec Kafka - Link with Kafka"
   ]
  },
  {
   "cell_type": "code",
   "execution_count": 8,
   "metadata": {
    "collapsed": false
   },
   "outputs": [],
   "source": [
    "intervalle = 10 # Fenêtre de x secondes / x seconds window\n",
    "\n",
    "ssc = StreamingContext(sc, intervalle) \n",
    "\n",
    "zkQuorum = \"hupi.node1.pro.hupi.loc:2181\"  \n",
    "\n",
    "topic = {\"hupi_hupilytics\": 1} \n",
    "\n",
    "identifiant = \"Anthony\" # A modifier pour chaque personne / to modify for each user\n",
    "\n",
    "streamdata = KafkaUtils.createStream(ssc, zkQuorum, identifiant, topic)"
   ]
  },
  {
   "cell_type": "markdown",
   "metadata": {},
   "source": [
    "## Traitement - Treatment"
   ]
  },
  {
   "cell_type": "code",
   "execution_count": 9,
   "metadata": {
    "collapsed": true
   },
   "outputs": [],
   "source": [
    "# Fonction d'affichage / Display fonction\n",
    "def get_output(rdd):\n",
    "    li = rdd.collect()\n",
    "    for x in li:\n",
    "        print x\n",
    "    print(\"\\n\")"
   ]
  },
  {
   "cell_type": "code",
   "execution_count": 10,
   "metadata": {
    "collapsed": false
   },
   "outputs": [],
   "source": [
    "# Affichage des résultats / Display results\n",
    "\n",
    "intro = streamdata.count().map(lambda l : \"\\n   Résultats pour cet interval : \\n\")\n",
    "intro.pprint()\n",
    "\n",
    "\n",
    "actions = streamdata.count().map(lambda l : \" - Nombre d'actions sur le site : \"+str(l))\n",
    "actions.foreachRDD(lambda w : get_output(w))\n",
    "\n",
    "userss = streamdata.count().map(lambda l : \" - Evolution du nombre d'utilisateurs : \")\n",
    "userss.foreachRDD(lambda w : get_output(w))\n",
    "nb_user = streamdata.map(lambda l: l[1]) \\\n",
    "                   .map(lambda rdd : (\"      --> Nombre d'utilisateurs :\" + \\\n",
    "                                      str(rdd[(rdd.find(\"idvc\")+7):(rdd.find(\"idn\")-4)]) ) )\n",
    "nb_user.foreachRDD(lambda w : get_output(w))"
   ]
  },
  {
   "cell_type": "markdown",
   "metadata": {},
   "source": [
    "### Lancement du programme - Program's launching"
   ]
  },
  {
   "cell_type": "code",
   "execution_count": 11,
   "metadata": {
    "collapsed": false
   },
   "outputs": [
    {
     "name": "stdout",
     "output_type": "stream",
     "text": [
      "-------------------------------------------\n",
      "Time: 2016-05-27 11:27:50\n",
      "-------------------------------------------\n",
      "\n",
      "\n",
      "\n",
      "\n",
      "\n",
      "\n",
      "\n",
      "-------------------------------------------\n",
      "Time: 2016-05-27 11:28:00\n",
      "-------------------------------------------\n",
      "\n",
      "\n",
      "\n",
      "\n",
      "\n",
      "\n",
      "\n",
      "-------------------------------------------\n",
      "Time: 2016-05-27 11:28:10\n",
      "-------------------------------------------\n",
      "\n",
      "   Résultats pour cet interval : \n",
      "\n",
      "\n",
      " - Nombre d'actions sur le site : 5\n",
      "\n",
      "\n",
      " - Evolution du nombre d'utilisateurs : \n",
      "\n",
      "\n",
      "      --> Nombre d'utilisateurs :3\n",
      "      --> Nombre d'utilisateurs :3\n",
      "      --> Nombre d'utilisateurs :3\n",
      "      --> Nombre d'utilisateurs :3\n",
      "      --> Nombre d'utilisateurs :3\n",
      "\n",
      "\n",
      "-------------------------------------------\n",
      "Time: 2016-05-27 11:28:20\n",
      "-------------------------------------------\n",
      "\n",
      "   Résultats pour cet interval : \n",
      "\n",
      "\n",
      " - Nombre d'actions sur le site : 12\n",
      "\n",
      "\n",
      " - Evolution du nombre d'utilisateurs : \n",
      "\n",
      "\n",
      "      --> Nombre d'utilisateurs :3\n",
      "      --> Nombre d'utilisateurs :3\n",
      "      --> Nombre d'utilisateurs :3\n",
      "      --> Nombre d'utilisateurs :3\n",
      "      --> Nombre d'utilisateurs :3\n",
      "      --> Nombre d'utilisateurs :3\n",
      "      --> Nombre d'utilisateurs :3\n",
      "      --> Nombre d'utilisateurs :3\n",
      "      --> Nombre d'utilisateurs :3\n",
      "      --> Nombre d'utilisateurs :3\n",
      "      --> Nombre d'utilisateurs :3\n",
      "      --> Nombre d'utilisateurs :3\n",
      "\n",
      "\n"
     ]
    }
   ],
   "source": [
    "ssc.start()\n",
    "ssc.awaitTermination(intervalle)"
   ]
  },
  {
   "cell_type": "code",
   "execution_count": 12,
   "metadata": {
    "collapsed": false
   },
   "outputs": [],
   "source": [
    "ssc.stop(stopSparkContext=False) # Stop streaming"
   ]
  },
  {
   "cell_type": "code",
   "execution_count": null,
   "metadata": {
    "collapsed": true
   },
   "outputs": [],
   "source": []
  }
 ],
 "metadata": {
  "kernelspec": {
   "display_name": "PySpark 3G",
   "language": "python",
   "name": "pyspark"
  },
  "language_info": {
   "codemirror_mode": {
    "name": "ipython",
    "version": 2
   },
   "file_extension": ".py",
   "mimetype": "text/x-python",
   "name": "python",
   "nbconvert_exporter": "python",
   "pygments_lexer": "ipython2",
   "version": "2.7.11"
  }
 },
 "nbformat": 4,
 "nbformat_minor": 0
}
