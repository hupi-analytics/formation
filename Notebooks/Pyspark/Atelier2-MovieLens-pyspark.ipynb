{
 "cells": [
  {
   "cell_type": "markdown",
   "metadata": {},
   "source": [
    "<center>\n",
    "<a href=\"http://www.insa-toulouse.fr/\" ><img src=\"http://www.math.univ-toulouse.fr/~besse/Wikistat/Images/logo-insa.jpg\" style=\"float:left; max-width: 120px; display: inline\" alt=\"INSA\"/></a> \n",
    "\n",
    "<a href=\"http://www.hupi.fr/\" ><img src=\"http://www.hupi.fr/wp-content/uploads/2016/03/hupi_logo_vectoris_menu.png\" style=\"max-width: 300px; display: inline\"  alt=\"Wikistat\"/></a>\n",
    "\n",
    "<a href=\"http://www.math.univ-toulouse.fr/\" ><img src=\"http://www.math.univ-toulouse.fr/~besse/Wikistat/Images/logo_imt.jpg\" style=\"float:right; max-width: 200px; display: inline\" alt=\"IMT\"/> </a>\n",
    "</center>"
   ]
  },
  {
   "cell_type": "markdown",
   "metadata": {},
   "source": [
    "# Recommandation de Films par Filtrage Collaboratif: [NMF](http://wikistat.fr/pdf/st-m-explo-nmf.pdf) de la librairie [MLlib](http://spark.apache.org/mllib/) de [Spark](http://spark.apache.org/)"
   ]
  },
  {
   "cell_type": "markdown",
   "metadata": {},
   "source": [
    "## 1. Introduction"
   ]
  },
  {
   "cell_type": "markdown",
   "metadata": {},
   "source": [
    "Ce calepin traite d'un problème classique de recommandation par filtrage collaboratif en utilisant les ressources de la librairie [MLlib de Spark]([http://spark.apache.org/docs/latest/api/python/pyspark.mllib.html#pyspark.mllib.recommendation.ALS) avec l'API pyspark. Le problème général est décrit dans une [vignette](http://wikistat.fr/pdf/st-atelier-recom-film.pdf) de [Wikistat](http://wikistat.fr/). Il est appliqué aux données publiques du site [GroupLens](http://grouplens.org/datasets/movielens/). L'objectif est donc de tester les méthodes et la procédure d'optimisation sur le plus petit jeu de données composé de 100k notes  de 943 clients sur 1682 films où chaque client a au moins noté 20 films. Les jeux de données plus gros (1M, 10M, 20M notes) peuvent être utilisés pour \"passer à l'échelle volume\". \n",
    "\n",
    "Ce calepin s'inspire des exemples de la [documentation](http://spark.apache.org/docs/latest/api/python/pyspark.mllib.html#pyspark.mllib.recommendation.ALS) et d'un [tutoriel](https://github.com/jadianes/spark-movie-lens/blob/master/notebooks/building-recommender.ipynb) de [Jose A. Dianes](https://www.codementor.io/jadianes). Le sujet a été traité lors d'un [Spark Summit](https://databricks-training.s3.amazonaws.com/movie-recommendation-with-mllib.html).\n",
    "\n",
    "L'objectif est d'utiliser ces seules données pour proposer des recommandations.  Les données initiales sont sous la forme d'une matrice très \"creuse\" (sparse) contenant des notes ou évaluations. *Attention*, les \"0\" de la matrice ne sont pas des notes mais des données manquantes, le film n'a pas encore été vu ou évalué. \n",
    "\n",
    "Un algorithme satisfaisant à cet objectif: complétion de grande matrice creuse, et implémenté dans un logiciel libre d'accès est par exemple disponible dans la librairie [softImpute de R](https://cran.r-project.org/web/packages/softImpute/index.html). La version de [NMF](http://wikistat.fr/pdf/st-m-explo-nmf.pdf) de [MLlib de Spark](http://spark.apache.org/docs/latest/api/python/pyspark.mllib.html#pyspark.mllib.recommendation.ALS) autorise permet également la complétion.\n",
    "\n",
    "En revanhe,la version  de NMF incluse dans la librairie [Scikit-learn](http://scikit-learn.org/stable/modules/generated/sklearn.decomposition.NMF.html) traite également des [matrices creuses](http://docs.scipy.org/doc/scipy/reference/sparse.html) mais le critère (moindres carrés) optimisé considère les \"0\" comme des notes nulles, pas comme des données manquantes. Elle n'est pas adaptée au problème de complétion, contrairement à celle de MLliB.\n",
    "\n",
    "Dans la première partie, le plus petit fichier est partagé en trois échantillons: apprentissage, validation et test; l'optimisation du rang de la factorisation (nombre de facteurs latents) est réalisée par minimisation de l'erreur estimée sur l'échantillon de validation.\n",
    "\n",
    "Ensuite le plus gros fichier est utilisé pour évaluer l'impact de la taille de la base d'apprentissage."
   ]
  },
  {
   "cell_type": "markdown",
   "metadata": {},
   "source": [
    "## 2. Importation des données en HDFS"
   ]
  },
  {
   "cell_type": "markdown",
   "metadata": {},
   "source": [
    "Les données sont lues comme une seule ligne de texte avant d'être restructurées au bon format d'une matrice creuse à savoir une liste de triplets contenant les  indices de ligne, de colonne et la note pour les seules valeurs renseignées."
   ]
  },
  {
   "cell_type": "code",
   "execution_count": 1,
   "metadata": {
    "collapsed": false
   },
   "outputs": [
    {
     "data": {
      "text/plain": [
       "u'userId,movieId,rating,timestamp'"
      ]
     },
     "execution_count": 1,
     "metadata": {},
     "output_type": "execute_result"
    }
   ],
   "source": [
    "# Importer les données au format texte dans un RDD\n",
    "# le chemin dépend de l'environnement\n",
    "path=\"/user/philippe.besse/Data-rdd/ml-latest-small/ml-latest-small/\"\n",
    "small_ratings_raw_data = sc.textFile(\"ratings.csv\")\n",
    "# Identifier et afficher la première ligne\n",
    "small_ratings_raw_data_header = small_ratings_raw_data.take(1)[0]\n",
    "small_ratings_raw_data_header"
   ]
  },
  {
   "cell_type": "code",
   "execution_count": 2,
   "metadata": {
    "collapsed": false
   },
   "outputs": [
    {
     "data": {
      "text/plain": [
       "[(u'1', u'16', u'4.0'), (u'1', u'24', u'1.5'), (u'1', u'32', u'4.0')]"
      ]
     },
     "execution_count": 2,
     "metadata": {},
     "output_type": "execute_result"
    }
   ],
   "source": [
    "# Séparer les champs (user, item, note) dans un nouveau RDD\n",
    "# La première ligne est éliminée\n",
    "# .cache() : le RDD est conservé en mémoire une fois traité\n",
    "small_ratings_data = small_ratings_raw_data.filter(lambda line: line!=small_ratings_raw_data_header)\\\n",
    "    .map(lambda line: line.split(\",\")).map(lambda tokens: (tokens[0],tokens[1],tokens[2])).cache()\n",
    "# Trois premières lignes pour voir\n",
    "small_ratings_data.take(3)"
   ]
  },
  {
   "cell_type": "markdown",
   "metadata": {},
   "source": [
    "## 3. Optimisation du rang sur l'échantillon 10k\n",
    "Le fichier comporte 10 000 évaluations croisant les avis de mille utilisateurs sur les films qu'ils ont vus parmi 1700."
   ]
  },
  {
   "cell_type": "markdown",
   "metadata": {},
   "source": [
    "### 3.1 Constitution des échantillons"
   ]
  },
  {
   "cell_type": "markdown",
   "metadata": {},
   "source": [
    "Séparation aléatoire en trois échantillons apprentissage, validation et test. Le paramètre d erang est optimisé en minimisant l'estimaiton de l'erreur sur l'échantillon test. Cette stratégie, plutôt qu'ue validation croisée est plus adaptée à des données massives.\n"
   ]
  },
  {
   "cell_type": "code",
   "execution_count": 3,
   "metadata": {
    "collapsed": false
   },
   "outputs": [],
   "source": [
    "tauxApp=0.6\n",
    "tauxVal=0.2\n",
    "tauxTes=0.2\n",
    "# Si le total est inférieur à 1, les données sont sous-échantillonnées.\n",
    "trainRDD, validRDD, testRDD = small_ratings_data.randomSplit([6, 2, 2], seed=0L)\n",
    "# validation et test à prédire, sans les notes\n",
    "validRDD_P = validRDD.map(lambda x: (x[0], x[1]))\n",
    "testRDD_P = testRDD.map(lambda x: (x[0], x[1]))"
   ]
  },
  {
   "cell_type": "markdown",
   "metadata": {},
   "source": [
    "### 3.2 Optimisation du rang de la NMF"
   ]
  },
  {
   "cell_type": "markdown",
   "metadata": {},
   "source": [
    "L'erreur d'imputation des données, donc de recommandation, est estimée sur l'échantillon de validation pour différentes valeurs (grille) du rang de la factorisation matricielle. \n",
    "\n",
    "Il faudrait en principe aussi optimiser la valeur du paramètre de pénalisation pris à 0.1 par défaut.\n",
    "\n",
    "*Point important:* l'erreur d'ajustement de la factorisation ne prend en compte que les valeurs listées dans la matrice creuses, pas les \"0\" qui sont des données manquantes."
   ]
  },
  {
   "cell_type": "code",
   "execution_count": 9,
   "metadata": {
    "collapsed": false
   },
   "outputs": [
    {
     "name": "stdout",
     "output_type": "stream",
     "text": [
      "Pour le rang 4 le RMSE est: 0.918658154026\n",
      "Pour le rang 8 le RMSE est: 0.924894756693\n",
      "Pour le rang 12 le RMSE est: 0.928359469093\n",
      "Rang optimal: 4\n"
     ]
    }
   ],
   "source": [
    "from pyspark.mllib.recommendation import ALS\n",
    "import math\n",
    "# Initialisation du générateur\n",
    "seed = 5L\n",
    "# Nombre max d'itérations (ALS)\n",
    "iterations = 10\n",
    "# Régularisation L1; à optimiser également\n",
    "regularization_parameter = 0.1\n",
    "# Choix d'une grille pour les valeurs du rang à optimiser\n",
    "ranks = [4, 8, 12]\n",
    "# Une erreur par rang\n",
    "errors = [0, 0, 0]\n",
    "# Initialisations\n",
    "err = 0\n",
    "tolerance = 0.02\n",
    "min_error = float('inf')\n",
    "best_rank = -1\n",
    "best_iteration = -1\n",
    "# Estimation pour chaque valeur de rang\n",
    "for rank in ranks:\n",
    "    model = ALS.train(trainRDD, rank, seed=seed, iterations=iterations,\n",
    "                      lambda_=regularization_parameter)\n",
    "    # Prévision de l'échantillon de validation\n",
    "    predRDD = model.predictAll(validRDD_P).map(lambda r: ((r[0], r[1]), r[2]))\n",
    "    # Jointure avec la vraie solution (échantillon de validation)\n",
    "    notETpredRDD = validRDD.map(lambda r: ((int(r[0]), int(r[1])), float(r[2]))).join(predRDD)\n",
    "    # Calcul du RMSE\n",
    "    error = math.sqrt(notETpredRDD.map(lambda r: (r[1][0] - r[1][1])**2).mean())\n",
    "    errors[err] = error\n",
    "    err += 1\n",
    "    print 'Pour le rang %s le RMSE est: %s' % (rank, error)\n",
    "    if error < min_error:\n",
    "        min_error = error\n",
    "        best_rank = rank\n",
    "# Meilleure solution\n",
    "print 'Rang optimal: %s' % best_rank"
   ]
  },
  {
   "cell_type": "markdown",
   "metadata": {},
   "source": [
    "### 3.3 Résultats et test"
   ]
  },
  {
   "cell_type": "code",
   "execution_count": 5,
   "metadata": {
    "collapsed": false
   },
   "outputs": [
    {
     "data": {
      "text/plain": [
       "[((413, 1084), 3.7539786940704554),\n",
       " ((397, 1084), 3.536230266105877),\n",
       " ((601, 1084), 4.0143910646242125)]"
      ]
     },
     "execution_count": 5,
     "metadata": {},
     "output_type": "execute_result"
    }
   ],
   "source": [
    "# Quelques prévisions\n",
    "predRDD.take(3)"
   ]
  },
  {
   "cell_type": "code",
   "execution_count": 6,
   "metadata": {
    "collapsed": false
   },
   "outputs": [
    {
     "data": {
      "text/plain": [
       "[((361, 589), (5.0, 3.700023123651577)),\n",
       " ((462, 1356), (4.0, 3.830516937832982)),\n",
       " ((530, 7132), (3.0, 3.2169339101300976))]"
      ]
     },
     "execution_count": 6,
     "metadata": {},
     "output_type": "execute_result"
    }
   ],
   "source": [
    "# \"vraie\" note et sa prévision\n",
    "notETpredRDD.take(3)"
   ]
  },
  {
   "cell_type": "markdown",
   "metadata": {},
   "source": [
    "Prévision finale de l'échantillon test.\n",
    "\n",
    "**Remarque :** il aurait été judicieux de fusionner les échantillons d'apprentissage et de validation avant de réestimer le modèle avec le rang optimal précédemment trouvé avant de prévoir l'échantillon test. "
   ]
  },
  {
   "cell_type": "code",
   "execution_count": 7,
   "metadata": {
    "collapsed": false
   },
   "outputs": [
    {
     "name": "stdout",
     "output_type": "stream",
     "text": [
      "RMSE pour le test 0.920772396477\n"
     ]
    }
   ],
   "source": [
    "# Le seul échantillon d'apprentissage est utilisé avec le rang optimal\n",
    "model = ALS.train(trainRDD, best_rank, seed=seed, iterations=iterations,\n",
    "                      lambda_=regularization_parameter)\n",
    "# Prévision de l'échantillon test\n",
    "predRDD = model.predictAll(testRDD_P).map(lambda r: ((r[0], r[1]), r[2]))\n",
    "# Jointure\n",
    "notETpredRDD = testRDD.map(lambda r: ((int(r[0]), int(r[1])), float(r[2]))).join(predRDD)\n",
    "# Calcul de l'erreur.\n",
    "error = math.sqrt(notETpredRDD.map(lambda r: (r[1][0] - r[1][1])**2).mean())\n",
    "    \n",
    "print 'RMSE pour le test: %s' % (error)"
   ]
  },
  {
   "cell_type": "markdown",
   "metadata": {
    "collapsed": true
   },
   "source": [
    "## 3 Analyse du fichier complet"
   ]
  },
  {
   "cell_type": "markdown",
   "metadata": {},
   "source": [
    "MovieLens propose un plus gros fichier avec 20M de notes (138000 utilisateurs, 27000 films). Ce fichier est utilisé pour extraire un fichier test de deux millions de notes à reconstruire. Les paramètres précédemment optimisés, ils pourraient sans doute l'être mieux, sont appliqués pour une succesion d'estimation / prévision avec une taille croissante de l'échantillon d'apprentissage. Il aurait été plus élégant d'automatiser le travial dans une boucle mais des comportements mal contrôlés lorsque les données sont le splus volumineuses peut provoquer des plantages."
   ]
  },
  {
   "cell_type": "markdown",
   "metadata": {
    "collapsed": true
   },
   "source": [
    "### 3.1 Lecture des données"
   ]
  },
  {
   "cell_type": "markdown",
   "metadata": {},
   "source": [
    "Le fichier est prétraité de manière analogue."
   ]
  },
  {
   "cell_type": "code",
   "execution_count": 2,
   "metadata": {
    "collapsed": false
   },
   "outputs": [
    {
     "data": {
      "text/plain": [
       "u'userId,movieId,rating,timestamp'"
      ]
     },
     "execution_count": 2,
     "metadata": {},
     "output_type": "execute_result"
    }
   ],
   "source": [
    "# Importer les données au format texte dans un RDD\n",
    "path=\"/user/philippe.besse/Data-rdd/ml-latest/ml-latest/\"\n",
    "ratings_raw_data = sc.textFile(path+\"ratings.csv\")\n",
    "# Identifier et afficher la première ligne\n",
    "ratings_raw_data_header = ratings_raw_data.take(1)[0]\n",
    "ratings_raw_data_header"
   ]
  },
  {
   "cell_type": "code",
   "execution_count": 4,
   "metadata": {
    "collapsed": false
   },
   "outputs": [
    {
     "data": {
      "text/plain": [
       "[(u'1', u'169', u'2.5'), (u'1', u'2471', u'3.0'), (u'1', u'48516', u'5.0')]"
      ]
     },
     "execution_count": 4,
     "metadata": {},
     "output_type": "execute_result"
    }
   ],
   "source": [
    "# Séparer les champs (user, item, note) dans un nouveau RDD\n",
    "# La première ligne est éliminée\n",
    "# les trois premiers champs sont sélectionnés\n",
    "ratings_data = ratings_raw_data.filter(lambda line: line!=ratings_raw_data_header)\\\n",
    "    .map(lambda line: line.split(\",\")).map(lambda tokens: (tokens[0],tokens[1],tokens[2]))\n",
    "# Trois premières lignes pour voir\n",
    "ratings_data.take(3)"
   ]
  },
  {
   "cell_type": "markdown",
   "metadata": {},
   "source": [
    "### 3.2 Echantillonnage"
   ]
  },
  {
   "cell_type": "markdown",
   "metadata": {},
   "source": [
    "Extraction de l'échantillon test et éventuellement sous-échantillonnage de l'échantillon d'apprentissage. "
   ]
  },
  {
   "cell_type": "code",
   "execution_count": 15,
   "metadata": {
    "collapsed": false
   },
   "outputs": [
    {
     "data": {
      "text/plain": [
       "2288114"
      ]
     },
     "execution_count": 15,
     "metadata": {},
     "output_type": "execute_result"
    }
   ],
   "source": [
    "tauxTest=0.10\n",
    "(trainDataTot, testData) = ratings_data.randomSplit([1-tauxTest, tauxTest], seed=0L)\n",
    "testData.count()"
   ]
  },
  {
   "cell_type": "code",
   "execution_count": 50,
   "metadata": {
    "collapsed": true
   },
   "outputs": [],
   "source": [
    "# départ"
   ]
  },
  {
   "cell_type": "code",
   "execution_count": 51,
   "metadata": {
    "collapsed": false
   },
   "outputs": [
    {
     "data": {
      "text/plain": [
       "20596263"
      ]
     },
     "execution_count": 51,
     "metadata": {},
     "output_type": "execute_result"
    }
   ],
   "source": [
    "# Sous-échantillonnage de l'apprentissage permettant de \n",
    "# tester pour des tailles croissantes de cet échantillon\n",
    "tauxEch=1\n",
    "(trainData, DropData) = trainDataTot.randomSplit([tauxEch, 1-tauxEch])\n",
    "trainData.count()"
   ]
  },
  {
   "cell_type": "markdown",
   "metadata": {},
   "source": [
    "### 3.3 Estimation du modèle"
   ]
  },
  {
   "cell_type": "markdown",
   "metadata": {},
   "source": [
    "Le modèle est estimé en utilisant les valeurs des paramètres obtenues dans l'étape précédente."
   ]
  },
  {
   "cell_type": "code",
   "execution_count": 52,
   "metadata": {
    "collapsed": false
   },
   "outputs": [
    {
     "name": "stdout",
     "output_type": "stream",
     "text": [
      "ALS prend 166 s\n"
     ]
    }
   ],
   "source": [
    "from pyspark.mllib.recommendation import ALS\n",
    "import math\n",
    "import time\n",
    "time_start=time.time()\n",
    "# Initialisation du générateur\n",
    "seed = 5L\n",
    "# Nombre max d'itérations (ALS)\n",
    "iterations = 10\n",
    "# Régularisation L1 (valeur par défaut)\n",
    "regularization_parameter = 0.1\n",
    "tolerance = 0.02\n",
    "min_error = float('inf')\n",
    "best_rank = 8\n",
    "# Estimation pour chaque valeur de rang\n",
    "model = ALS.train(trainData, rank=best_rank, seed=seed, \n",
    "                iterations=iterations,lambda_=regularization_parameter)\n",
    "time_end=time.time()\n",
    "time_als=(time_end - time_start)\n",
    "print(\"ALS prend %d s\" %(time_als)) "
   ]
  },
  {
   "cell_type": "markdown",
   "metadata": {},
   "source": [
    "### 3.4 Prévision de l'échantillon test et erreur"
   ]
  },
  {
   "cell_type": "code",
   "execution_count": 53,
   "metadata": {
    "collapsed": false
   },
   "outputs": [
    {
     "name": "stdout",
     "output_type": "stream",
     "text": [
      "RMSE pour le test: 0.820186532239\n"
     ]
    }
   ],
   "source": [
    "# Listes (i,j) des notes à prédire\n",
    "testData_r = testData.map(lambda x: (x[0], x[1]))\n",
    "# Prévision de l'échantillon test\n",
    "predTest = model.predictAll(testData_r).map(lambda r: ((r[0], r[1]), r[2]))\n",
    "# Jointure\n",
    "notETpred = testData.map(lambda r: ((int(r[0]), int(r[1])), float(r[2]))).join(predTest)\n",
    "\n",
    "# Calcul de l'erreur\n",
    "erreur = math.sqrt(notETpred.map(lambda r: (r[1][0] - r[1][1])**2).mean())\n",
    "print 'RMSE pour le test: %s' % (erreur)"
   ]
  },
  {
   "cell_type": "markdown",
   "metadata": {},
   "source": [
    "Quelques résultats montrant l'évolution du temps de calcul et de l'erreur de prévision en fonction de la taille de l'échantillon d'apprentissage. Le nombre d'utilisateurs de la plateforme étant assez aléatoire, les temps calculés sont peu fiables. D'autre part il est probable que la valeur des paramètres optimaux dépendent de la taille de l'échantillon d'apprenitssage.\n",
    "\n",
    "Taille | Temps(s) | RMSE\n",
    "-------|-------|------\n",
    "217439 | 70    | 1.65\n",
    "1029416| 73    | 1.06\n",
    "2059855| 72    | 1.05\n",
    "4119486| 89    | 0.88\n",
    "6176085| 99    | 0.85\n",
    "10301909| 117  | 0.83\n",
    "12361034| 125  | 0.83\n",
    "14414907| 137  | 0.82\n",
    "16474087| 148  | 0.818\n",
    "18538142| 190  | 0.816\n",
    "20596263| 166  | 0.82\n"
   ]
  }
 ],
 "metadata": {
  "kernelspec": {
   "display_name": "PySpark 3G",
   "language": "python",
   "name": "pyspark"
  },
  "language_info": {
   "codemirror_mode": {
    "name": "ipython",
    "version": 2
   },
   "file_extension": ".py",
   "mimetype": "text/x-python",
   "name": "python",
   "nbconvert_exporter": "python",
   "pygments_lexer": "ipython2",
   "version": "2.7.11"
  }
 },
 "nbformat": 4,
 "nbformat_minor": 0
}
