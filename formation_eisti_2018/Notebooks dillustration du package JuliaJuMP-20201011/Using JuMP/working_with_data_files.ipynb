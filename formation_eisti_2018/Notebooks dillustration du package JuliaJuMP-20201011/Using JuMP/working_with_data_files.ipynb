{
 "cells": [
  {
   "cell_type": "markdown",
   "metadata": {},
   "source": [
    "# Working with Data Files"
   ]
  },
  {
   "cell_type": "markdown",
   "metadata": {},
   "source": [
    "**Originally Contributed by**: Arpit Bhatia"
   ]
  },
  {
   "cell_type": "markdown",
   "metadata": {},
   "source": [
    "In many cases we might need to read data available in an external file rather than type it into Julia ourselves.\n",
    "This tutorial is concerned with reading tabular data into Julia and using it for a JuMP model. \n",
    "We'll be reading data using the DataFrames.jl package and some other packages specific to file types."
   ]
  },
  {
   "cell_type": "markdown",
   "metadata": {},
   "source": [
    "Note: There are multiple ways to read the same kind of data intto Julia.\n",
    "However, this tutorial only focuses on DataFrames.jl as\n",
    "it provides the ecosystem to work with most of the required file types in a straightforward manner."
   ]
  },
  {
   "cell_type": "markdown",
   "metadata": {},
   "source": [
    "### DataFrames.jl"
   ]
  },
  {
   "cell_type": "markdown",
   "metadata": {},
   "source": [
    "The DataFrames package provides a set of tools for working with tabular data. \n",
    "It is available through the Julia package system."
   ]
  },
  {
   "cell_type": "code",
   "execution_count": 1,
   "metadata": {},
   "outputs": [
    {
     "name": "stdout",
     "output_type": "stream",
     "text": [
      "\u001b[32m\u001b[1m  Updating\u001b[22m\u001b[39m registry at `~/.julia/registries/General`\n",
      "\u001b[32m\u001b[1m  Updating\u001b[22m\u001b[39m git-repo `https://github.com/JuliaRegistries/General.git`\n",
      "\u001b[2K\u001b[?25h\u001b[32m\u001b[1m Resolving\u001b[22m\u001b[39m package versions...\n",
      "\u001b[32m\u001b[1m  Updating\u001b[22m\u001b[39m `~/Documents/crptests/project_julia/JuMPTutorials.jl/Project.toml`\n",
      "\u001b[90m [no changes]\u001b[39m\n",
      "\u001b[32m\u001b[1m  Updating\u001b[22m\u001b[39m `~/Documents/crptests/project_julia/JuMPTutorials.jl/Manifest.toml`\n",
      "\u001b[90m [no changes]\u001b[39m\n"
     ]
    }
   ],
   "source": [
    "using Pkg\n",
    "Pkg.add(\"DataFrames\")"
   ]
  },
  {
   "cell_type": "markdown",
   "metadata": {},
   "source": [
    "### What is a DataFrame?"
   ]
  },
  {
   "cell_type": "markdown",
   "metadata": {},
   "source": [
    "A DataFrame is a data structure like a table or spreadsheet. You can use it for storing and exploring a set of related data values. \n",
    "Think of it as a smarter array for holding tabular data."
   ]
  },
  {
   "cell_type": "markdown",
   "metadata": {},
   "source": [
    "## Reading Tabular Data into a DataFrame\n",
    "We will begin by reading data from different file formats into a DataFrame object.\n",
    "The example files that we will be reading are present in the data folder."
   ]
  },
  {
   "cell_type": "markdown",
   "metadata": {},
   "source": [
    "### Excel Sheets\n",
    "Excel files can be read using the ExcelFiles.jl package."
   ]
  },
  {
   "cell_type": "code",
   "execution_count": 2,
   "metadata": {},
   "outputs": [
    {
     "name": "stdout",
     "output_type": "stream",
     "text": [
      "\u001b[32m\u001b[1m Resolving\u001b[22m\u001b[39m package versions...\n",
      "\u001b[32m\u001b[1m  Updating\u001b[22m\u001b[39m `~/Documents/crptests/project_julia/JuMPTutorials.jl/Project.toml`\n",
      "\u001b[90m [no changes]\u001b[39m\n",
      "\u001b[32m\u001b[1m  Updating\u001b[22m\u001b[39m `~/Documents/crptests/project_julia/JuMPTutorials.jl/Manifest.toml`\n",
      "\u001b[90m [no changes]\u001b[39m\n"
     ]
    }
   ],
   "source": [
    "Pkg.add(\"XLSX\")"
   ]
  },
  {
   "cell_type": "markdown",
   "metadata": {},
   "source": [
    "To read a Excel file into a DataFrame, we use the following julia code. \n",
    "The first arguement to the `readtable` function is the file to be read and the second arguement is the name of the sheet."
   ]
  },
  {
   "cell_type": "code",
   "execution_count": 3,
   "metadata": {},
   "outputs": [],
   "source": [
    "using DataFrames\n",
    "using XLSX"
   ]
  },
  {
   "cell_type": "code",
   "execution_count": 4,
   "metadata": {},
   "outputs": [
    {
     "data": {
      "text/html": [
       "<table class=\"data-frame\"><thead><tr><th></th><th>OrderDate</th><th>Region</th><th>Rep</th><th>Item</th><th>Units</th><th>Unit Cost</th><th>Total</th></tr><tr><th></th><th>Any</th><th>Any</th><th>Any</th><th>Any</th><th>Any</th><th>Any</th><th>Any</th></tr></thead><tbody><p>18 rows × 7 columns</p><tr><th>1</th><td>2018-01-06</td><td>East</td><td>Jones</td><td>Pencil</td><td>95</td><td>1.99</td><td>189.05</td></tr><tr><th>2</th><td>2018-01-23</td><td>Central</td><td>Kivell</td><td>Binder</td><td>50</td><td>19.99</td><td>999.5</td></tr><tr><th>3</th><td>2018-02-09</td><td>Central</td><td>Jardine</td><td>Pencil</td><td>36</td><td>4.99</td><td>179.64</td></tr><tr><th>4</th><td>2018-02-26</td><td>Central</td><td>Gill</td><td>Pen</td><td>27</td><td>19.99</td><td>539.73</td></tr><tr><th>5</th><td>2018-03-15</td><td>West</td><td>Sorvino</td><td>Pencil</td><td>56</td><td>2.99</td><td>167.44</td></tr><tr><th>6</th><td>2018-06-08</td><td>East</td><td>Jones</td><td>Binder</td><td>60</td><td>8.99</td><td>539.4</td></tr><tr><th>7</th><td>2018-06-25</td><td>Central</td><td>Morgan</td><td>Pencil</td><td>90</td><td>4.99</td><td>449.1</td></tr><tr><th>8</th><td>2018-07-12</td><td>East</td><td>Howard</td><td>Binder</td><td>29</td><td>1.99</td><td>57.71</td></tr><tr><th>9</th><td>2019-07-21</td><td>Central</td><td>Morgan</td><td>Pen Set</td><td>55</td><td>12.49</td><td>686.95</td></tr><tr><th>10</th><td>2019-08-07</td><td>Central</td><td>Kivell</td><td>Pen Set</td><td>42</td><td>23.95</td><td>1005.9</td></tr><tr><th>11</th><td>2019-08-24</td><td>West</td><td>Sorvino</td><td>Desk</td><td>3</td><td>275.0</td><td>825.0</td></tr><tr><th>12</th><td>2019-09-10</td><td>Central</td><td>Gill</td><td>Pencil</td><td>7</td><td>1.29</td><td>9.03</td></tr><tr><th>13</th><td>2019-09-27</td><td>West</td><td>Sorvino</td><td>Pen</td><td>76</td><td>1.99</td><td>151.24</td></tr><tr><th>14</th><td>2019-10-14</td><td>West</td><td>Thompson</td><td>Binder</td><td>57</td><td>19.99</td><td>1139.43</td></tr><tr><th>15</th><td>2019-10-31</td><td>Central</td><td>Andrews</td><td>Pencil</td><td>14</td><td>1.29</td><td>18.06</td></tr><tr><th>16</th><td>2019-11-17</td><td>Central</td><td>Jardine</td><td>Binder</td><td>11</td><td>4.99</td><td>54.89</td></tr><tr><th>17</th><td>2019-12-04</td><td>Central</td><td>Jardine</td><td>Binder</td><td>94</td><td>19.99</td><td>1879.06</td></tr><tr><th>18</th><td>2019-12-21</td><td>Central</td><td>Andrews</td><td>Binder</td><td>28</td><td>4.99</td><td>139.72</td></tr></tbody></table>"
      ],
      "text/latex": [
       "\\begin{tabular}{r|ccccccc}\n",
       "\t& OrderDate & Region & Rep & Item & Units & Unit Cost & Total\\\\\n",
       "\t\\hline\n",
       "\t& Any & Any & Any & Any & Any & Any & Any\\\\\n",
       "\t\\hline\n",
       "\t1 & 2018-01-06 & East & Jones & Pencil & 95 & 1.99 & 189.05 \\\\\n",
       "\t2 & 2018-01-23 & Central & Kivell & Binder & 50 & 19.99 & 999.5 \\\\\n",
       "\t3 & 2018-02-09 & Central & Jardine & Pencil & 36 & 4.99 & 179.64 \\\\\n",
       "\t4 & 2018-02-26 & Central & Gill & Pen & 27 & 19.99 & 539.73 \\\\\n",
       "\t5 & 2018-03-15 & West & Sorvino & Pencil & 56 & 2.99 & 167.44 \\\\\n",
       "\t6 & 2018-06-08 & East & Jones & Binder & 60 & 8.99 & 539.4 \\\\\n",
       "\t7 & 2018-06-25 & Central & Morgan & Pencil & 90 & 4.99 & 449.1 \\\\\n",
       "\t8 & 2018-07-12 & East & Howard & Binder & 29 & 1.99 & 57.71 \\\\\n",
       "\t9 & 2019-07-21 & Central & Morgan & Pen Set & 55 & 12.49 & 686.95 \\\\\n",
       "\t10 & 2019-08-07 & Central & Kivell & Pen Set & 42 & 23.95 & 1005.9 \\\\\n",
       "\t11 & 2019-08-24 & West & Sorvino & Desk & 3 & 275.0 & 825.0 \\\\\n",
       "\t12 & 2019-09-10 & Central & Gill & Pencil & 7 & 1.29 & 9.03 \\\\\n",
       "\t13 & 2019-09-27 & West & Sorvino & Pen & 76 & 1.99 & 151.24 \\\\\n",
       "\t14 & 2019-10-14 & West & Thompson & Binder & 57 & 19.99 & 1139.43 \\\\\n",
       "\t15 & 2019-10-31 & Central & Andrews & Pencil & 14 & 1.29 & 18.06 \\\\\n",
       "\t16 & 2019-11-17 & Central & Jardine & Binder & 11 & 4.99 & 54.89 \\\\\n",
       "\t17 & 2019-12-04 & Central & Jardine & Binder & 94 & 19.99 & 1879.06 \\\\\n",
       "\t18 & 2019-12-21 & Central & Andrews & Binder & 28 & 4.99 & 139.72 \\\\\n",
       "\\end{tabular}\n"
      ],
      "text/plain": [
       "18×7 DataFrame. Omitted printing of 1 columns\n",
       "│ Row │ OrderDate  │ Region  │ Rep      │ Item    │ Units │ Unit Cost │\n",
       "│     │ \u001b[90mAny\u001b[39m        │ \u001b[90mAny\u001b[39m     │ \u001b[90mAny\u001b[39m      │ \u001b[90mAny\u001b[39m     │ \u001b[90mAny\u001b[39m   │ \u001b[90mAny\u001b[39m       │\n",
       "├─────┼────────────┼─────────┼──────────┼─────────┼───────┼───────────┤\n",
       "│ 1   │ 2018-01-06 │ East    │ Jones    │ Pencil  │ 95    │ 1.99      │\n",
       "│ 2   │ 2018-01-23 │ Central │ Kivell   │ Binder  │ 50    │ 19.99     │\n",
       "│ 3   │ 2018-02-09 │ Central │ Jardine  │ Pencil  │ 36    │ 4.99      │\n",
       "│ 4   │ 2018-02-26 │ Central │ Gill     │ Pen     │ 27    │ 19.99     │\n",
       "│ 5   │ 2018-03-15 │ West    │ Sorvino  │ Pencil  │ 56    │ 2.99      │\n",
       "│ 6   │ 2018-06-08 │ East    │ Jones    │ Binder  │ 60    │ 8.99      │\n",
       "│ 7   │ 2018-06-25 │ Central │ Morgan   │ Pencil  │ 90    │ 4.99      │\n",
       "│ 8   │ 2018-07-12 │ East    │ Howard   │ Binder  │ 29    │ 1.99      │\n",
       "│ 9   │ 2019-07-21 │ Central │ Morgan   │ Pen Set │ 55    │ 12.49     │\n",
       "│ 10  │ 2019-08-07 │ Central │ Kivell   │ Pen Set │ 42    │ 23.95     │\n",
       "│ 11  │ 2019-08-24 │ West    │ Sorvino  │ Desk    │ 3     │ 275.0     │\n",
       "│ 12  │ 2019-09-10 │ Central │ Gill     │ Pencil  │ 7     │ 1.29      │\n",
       "│ 13  │ 2019-09-27 │ West    │ Sorvino  │ Pen     │ 76    │ 1.99      │\n",
       "│ 14  │ 2019-10-14 │ West    │ Thompson │ Binder  │ 57    │ 19.99     │\n",
       "│ 15  │ 2019-10-31 │ Central │ Andrews  │ Pencil  │ 14    │ 1.29      │\n",
       "│ 16  │ 2019-11-17 │ Central │ Jardine  │ Binder  │ 11    │ 4.99      │\n",
       "│ 17  │ 2019-12-04 │ Central │ Jardine  │ Binder  │ 94    │ 19.99     │\n",
       "│ 18  │ 2019-12-21 │ Central │ Andrews  │ Binder  │ 28    │ 4.99      │"
      ]
     },
     "execution_count": 4,
     "metadata": {},
     "output_type": "execute_result"
    }
   ],
   "source": [
    "data_dir = joinpath(@__DIR__, \"data\")\n",
    "excel_df = DataFrame(XLSX.readtable(joinpath(data_dir, \"SalesData.xlsx\"), \"SalesOrders\")...)"
   ]
  },
  {
   "cell_type": "markdown",
   "metadata": {},
   "source": [
    "### CSV Files\n",
    "CSV and other delimited text files can be read the CSV.jl package."
   ]
  },
  {
   "cell_type": "code",
   "execution_count": 5,
   "metadata": {},
   "outputs": [
    {
     "name": "stdout",
     "output_type": "stream",
     "text": [
      "\u001b[32m\u001b[1m Resolving\u001b[22m\u001b[39m package versions...\n",
      "\u001b[32m\u001b[1m  Updating\u001b[22m\u001b[39m `~/Documents/crptests/project_julia/JuMPTutorials.jl/Project.toml`\n",
      "\u001b[90m [no changes]\u001b[39m\n",
      "\u001b[32m\u001b[1m  Updating\u001b[22m\u001b[39m `~/Documents/crptests/project_julia/JuMPTutorials.jl/Manifest.toml`\n",
      "\u001b[90m [no changes]\u001b[39m\n"
     ]
    }
   ],
   "source": [
    "Pkg.add(\"CSV\")"
   ]
  },
  {
   "cell_type": "markdown",
   "metadata": {},
   "source": [
    "To read a CSV file into a DataFrame, we use the `CSV.read` function."
   ]
  },
  {
   "cell_type": "code",
   "execution_count": 6,
   "metadata": {},
   "outputs": [
    {
     "data": {
      "text/html": [
       "<table class=\"data-frame\"><thead><tr><th></th><th>Name</th><th>Gender</th><th>Height</th><th>Weight</th><th>Eyecolor</th><th>Haircolor</th><th>Skincolor</th><th>Homeland</th></tr><tr><th></th><th>String</th><th>String</th><th>Float64</th><th>String</th><th>String</th><th>String</th><th>String</th><th>String</th></tr></thead><tbody><p>20 rows × 13 columns (omitted printing of 5 columns)</p><tr><th>1</th><td>Anakin Skywalker</td><td>male</td><td>1.88</td><td>84</td><td>blue</td><td>blond</td><td>fair</td><td>Tatooine</td></tr><tr><th>2</th><td>Padme Amidala</td><td>female</td><td>1.65</td><td>45</td><td>brown</td><td>brown</td><td>light</td><td>Naboo</td></tr><tr><th>3</th><td>Luke Skywalker</td><td>male</td><td>1.72</td><td>77</td><td>blue</td><td>blond</td><td>fair</td><td>Tatooine</td></tr><tr><th>4</th><td>Leia Skywalker</td><td>female</td><td>1.5</td><td>49</td><td>brown</td><td>brown</td><td>light</td><td>Alderaan</td></tr><tr><th>5</th><td>Qui-Gon Jinn</td><td>male</td><td>1.93</td><td>88.5</td><td>blue</td><td>brown</td><td>light</td><td>unk_planet</td></tr><tr><th>6</th><td>Obi-Wan Kenobi</td><td>male</td><td>1.82</td><td>77</td><td>bluegray</td><td>auburn</td><td>fair</td><td>Stewjon</td></tr><tr><th>7</th><td>Han Solo</td><td>male</td><td>1.8</td><td>80</td><td>brown</td><td>brown</td><td>light</td><td>Corellia</td></tr><tr><th>8</th><td>Sheev Palpatine</td><td>male</td><td>1.73</td><td>75</td><td>blue</td><td>red</td><td>pale</td><td>Naboo</td></tr><tr><th>9</th><td>R2-D2</td><td>male</td><td>0.96</td><td>32</td><td>NA</td><td>NA</td><td>NA</td><td>Naboo</td></tr><tr><th>10</th><td>C-3PO</td><td>male</td><td>1.67</td><td>75</td><td>NA</td><td>NA</td><td>NA</td><td>Tatooine</td></tr><tr><th>11</th><td>Yoda</td><td>male</td><td>0.66</td><td>17</td><td>brown</td><td>brown</td><td>green</td><td>unk_planet</td></tr><tr><th>12</th><td>Darth Maul</td><td>male</td><td>1.75</td><td>80</td><td>yellow</td><td>none</td><td>red</td><td>Dathomir</td></tr><tr><th>13</th><td>Dooku</td><td>male</td><td>1.93</td><td>86</td><td>brown</td><td>brown</td><td>light</td><td>Serenno</td></tr><tr><th>14</th><td>Chewbacca</td><td>male</td><td>2.28</td><td>112</td><td>blue</td><td>brown</td><td>NA</td><td>Kashyyyk</td></tr><tr><th>15</th><td>Jabba</td><td>male</td><td>3.9</td><td>NA</td><td>yellow</td><td>none</td><td>tan-green</td><td>Tatooine</td></tr><tr><th>16</th><td>Lando Calrissian</td><td>male</td><td>1.78</td><td>79</td><td>brown</td><td>blank</td><td>dark</td><td>Socorro</td></tr><tr><th>17</th><td>Boba Fett</td><td>male</td><td>1.83</td><td>78</td><td>brown</td><td>black</td><td>brown</td><td>Kamino</td></tr><tr><th>18</th><td>Jango Fett</td><td>male</td><td>1.83</td><td>79</td><td>brown</td><td>black</td><td>brown</td><td>ConcordDawn</td></tr><tr><th>19</th><td>Grievous</td><td>male</td><td>2.16</td><td>159</td><td>gold</td><td>black</td><td>orange</td><td>Kalee</td></tr><tr><th>20</th><td>Chief Chirpa</td><td>male</td><td>1.0</td><td>50</td><td>black</td><td>gray</td><td>brown</td><td>Endor</td></tr></tbody></table>"
      ],
      "text/latex": [
       "\\begin{tabular}{r|ccccccccc}\n",
       "\t& Name & Gender & Height & Weight & Eyecolor & Haircolor & Skincolor & Homeland & \\\\\n",
       "\t\\hline\n",
       "\t& String & String & Float64 & String & String & String & String & String & \\\\\n",
       "\t\\hline\n",
       "\t1 & Anakin Skywalker & male & 1.88 & 84 & blue & blond & fair & Tatooine & $\\dots$ \\\\\n",
       "\t2 & Padme Amidala & female & 1.65 & 45 & brown & brown & light & Naboo & $\\dots$ \\\\\n",
       "\t3 & Luke Skywalker & male & 1.72 & 77 & blue & blond & fair & Tatooine & $\\dots$ \\\\\n",
       "\t4 & Leia Skywalker & female & 1.5 & 49 & brown & brown & light & Alderaan & $\\dots$ \\\\\n",
       "\t5 & Qui-Gon Jinn & male & 1.93 & 88.5 & blue & brown & light & unk\\_planet & $\\dots$ \\\\\n",
       "\t6 & Obi-Wan Kenobi & male & 1.82 & 77 & bluegray & auburn & fair & Stewjon & $\\dots$ \\\\\n",
       "\t7 & Han Solo & male & 1.8 & 80 & brown & brown & light & Corellia & $\\dots$ \\\\\n",
       "\t8 & Sheev Palpatine & male & 1.73 & 75 & blue & red & pale & Naboo & $\\dots$ \\\\\n",
       "\t9 & R2-D2 & male & 0.96 & 32 & NA & NA & NA & Naboo & $\\dots$ \\\\\n",
       "\t10 & C-3PO & male & 1.67 & 75 & NA & NA & NA & Tatooine & $\\dots$ \\\\\n",
       "\t11 & Yoda & male & 0.66 & 17 & brown & brown & green & unk\\_planet & $\\dots$ \\\\\n",
       "\t12 & Darth Maul & male & 1.75 & 80 & yellow & none & red & Dathomir & $\\dots$ \\\\\n",
       "\t13 & Dooku & male & 1.93 & 86 & brown & brown & light & Serenno & $\\dots$ \\\\\n",
       "\t14 & Chewbacca & male & 2.28 & 112 & blue & brown & NA & Kashyyyk & $\\dots$ \\\\\n",
       "\t15 & Jabba & male & 3.9 & NA & yellow & none & tan-green & Tatooine & $\\dots$ \\\\\n",
       "\t16 & Lando Calrissian & male & 1.78 & 79 & brown & blank & dark & Socorro & $\\dots$ \\\\\n",
       "\t17 & Boba Fett & male & 1.83 & 78 & brown & black & brown & Kamino & $\\dots$ \\\\\n",
       "\t18 & Jango Fett & male & 1.83 & 79 & brown & black & brown & ConcordDawn & $\\dots$ \\\\\n",
       "\t19 & Grievous & male & 2.16 & 159 & gold & black & orange & Kalee & $\\dots$ \\\\\n",
       "\t20 & Chief Chirpa & male & 1.0 & 50 & black & gray & brown & Endor & $\\dots$ \\\\\n",
       "\\end{tabular}\n"
      ],
      "text/plain": [
       "20×13 DataFrame. Omitted printing of 7 columns\n",
       "│ Row │ Name             │ Gender │ Height  │ Weight │ Eyecolor │ Haircolor │\n",
       "│     │ \u001b[90mString\u001b[39m           │ \u001b[90mString\u001b[39m │ \u001b[90mFloat64\u001b[39m │ \u001b[90mString\u001b[39m │ \u001b[90mString\u001b[39m   │ \u001b[90mString\u001b[39m    │\n",
       "├─────┼──────────────────┼────────┼─────────┼────────┼──────────┼───────────┤\n",
       "│ 1   │ Anakin Skywalker │ male   │ 1.88    │ 84     │ blue     │ blond     │\n",
       "│ 2   │ Padme Amidala    │ female │ 1.65    │ 45     │ brown    │ brown     │\n",
       "│ 3   │ Luke Skywalker   │ male   │ 1.72    │ 77     │ blue     │ blond     │\n",
       "│ 4   │ Leia Skywalker   │ female │ 1.5     │ 49     │ brown    │ brown     │\n",
       "│ 5   │ Qui-Gon Jinn     │ male   │ 1.93    │ 88.5   │ blue     │ brown     │\n",
       "│ 6   │ Obi-Wan Kenobi   │ male   │ 1.82    │ 77     │ bluegray │ auburn    │\n",
       "│ 7   │ Han Solo         │ male   │ 1.8     │ 80     │ brown    │ brown     │\n",
       "│ 8   │ Sheev Palpatine  │ male   │ 1.73    │ 75     │ blue     │ red       │\n",
       "│ 9   │ R2-D2            │ male   │ 0.96    │ 32     │ NA       │ NA        │\n",
       "│ 10  │ C-3PO            │ male   │ 1.67    │ 75     │ NA       │ NA        │\n",
       "│ 11  │ Yoda             │ male   │ 0.66    │ 17     │ brown    │ brown     │\n",
       "│ 12  │ Darth Maul       │ male   │ 1.75    │ 80     │ yellow   │ none      │\n",
       "│ 13  │ Dooku            │ male   │ 1.93    │ 86     │ brown    │ brown     │\n",
       "│ 14  │ Chewbacca        │ male   │ 2.28    │ 112    │ blue     │ brown     │\n",
       "│ 15  │ Jabba            │ male   │ 3.9     │ NA     │ yellow   │ none      │\n",
       "│ 16  │ Lando Calrissian │ male   │ 1.78    │ 79     │ brown    │ blank     │\n",
       "│ 17  │ Boba Fett        │ male   │ 1.83    │ 78     │ brown    │ black     │\n",
       "│ 18  │ Jango Fett       │ male   │ 1.83    │ 79     │ brown    │ black     │\n",
       "│ 19  │ Grievous         │ male   │ 2.16    │ 159    │ gold     │ black     │\n",
       "│ 20  │ Chief Chirpa     │ male   │ 1.0     │ 50     │ black    │ gray      │"
      ]
     },
     "execution_count": 6,
     "metadata": {},
     "output_type": "execute_result"
    }
   ],
   "source": [
    "using CSV\n",
    "csv_df = CSV.read(joinpath(data_dir, \"StarWars.csv\"))"
   ]
  },
  {
   "cell_type": "markdown",
   "metadata": {},
   "source": [
    "### Other Delimited Files\n",
    "We can also use the CSV.jl package to read any other delimited text file format. \n",
    "By default, CSV.File will try to detect a file's delimiter from the first 10 lines of the file.\n",
    "Candidate delimiters include `','`, `'\\t'`, `' '`, `'|'`, `';'`, and `':'`. If it can't auto-detect the delimiter, it will assume `','`.\n",
    "Let's take the example of space separated data."
   ]
  },
  {
   "cell_type": "code",
   "execution_count": 7,
   "metadata": {},
   "outputs": [
    {
     "data": {
      "text/html": [
       "<table class=\"data-frame\"><thead><tr><th></th><th>Name</th><th>Cups</th><th>Calories</th><th>Carbs</th><th>Fat</th><th>Fiber</th><th>Potassium</th><th>Protein</th></tr><tr><th></th><th>String</th><th>Float64</th><th>Int64</th><th>Float64</th><th>Int64</th><th>Float64</th><th>Int64</th><th>Int64</th></tr></thead><tbody><p>23 rows × 10 columns (omitted printing of 2 columns)</p><tr><th>1</th><td>CapnCrunch</td><td>0.75</td><td>120</td><td>12.0</td><td>2</td><td>0.0</td><td>35</td><td>1</td></tr><tr><th>2</th><td>CocoaPuffs</td><td>1.0</td><td>110</td><td>12.0</td><td>1</td><td>0.0</td><td>55</td><td>1</td></tr><tr><th>3</th><td>Trix</td><td>1.0</td><td>110</td><td>13.0</td><td>1</td><td>0.0</td><td>25</td><td>1</td></tr><tr><th>4</th><td>AppleJacks</td><td>1.0</td><td>110</td><td>11.0</td><td>0</td><td>1.0</td><td>30</td><td>2</td></tr><tr><th>5</th><td>CornChex</td><td>1.0</td><td>110</td><td>22.0</td><td>0</td><td>0.0</td><td>25</td><td>2</td></tr><tr><th>6</th><td>CornFlakes</td><td>1.0</td><td>100</td><td>21.0</td><td>0</td><td>1.0</td><td>35</td><td>2</td></tr><tr><th>7</th><td>Nut&amp;Honey</td><td>0.67</td><td>120</td><td>15.0</td><td>1</td><td>0.0</td><td>40</td><td>2</td></tr><tr><th>8</th><td>Smacks</td><td>0.75</td><td>110</td><td>9.0</td><td>1</td><td>1.0</td><td>40</td><td>2</td></tr><tr><th>9</th><td>MultiGrain</td><td>1.0</td><td>100</td><td>15.0</td><td>1</td><td>2.0</td><td>90</td><td>2</td></tr><tr><th>10</th><td>CracklinOat</td><td>0.5</td><td>110</td><td>10.0</td><td>3</td><td>4.0</td><td>160</td><td>3</td></tr><tr><th>11</th><td>GrapeNuts</td><td>0.25</td><td>110</td><td>17.0</td><td>0</td><td>3.0</td><td>90</td><td>3</td></tr><tr><th>12</th><td>HoneyNutCheerios</td><td>0.75</td><td>110</td><td>11.5</td><td>1</td><td>1.5</td><td>90</td><td>3</td></tr><tr><th>13</th><td>NutriGrain</td><td>0.67</td><td>140</td><td>21.0</td><td>2</td><td>3.0</td><td>130</td><td>3</td></tr><tr><th>14</th><td>Product19</td><td>1.0</td><td>100</td><td>20.0</td><td>0</td><td>1.0</td><td>45</td><td>3</td></tr><tr><th>15</th><td>TotalRaisinBran</td><td>1.0</td><td>140</td><td>15.0</td><td>1</td><td>4.0</td><td>230</td><td>3</td></tr><tr><th>16</th><td>WheatChex</td><td>0.67</td><td>100</td><td>17.0</td><td>1</td><td>3.0</td><td>115</td><td>3</td></tr><tr><th>17</th><td>Oatmeal</td><td>0.5</td><td>130</td><td>13.5</td><td>2</td><td>1.5</td><td>120</td><td>3</td></tr><tr><th>18</th><td>Life</td><td>0.67</td><td>100</td><td>12.0</td><td>2</td><td>2.0</td><td>95</td><td>4</td></tr><tr><th>19</th><td>Maypo</td><td>1.0</td><td>100</td><td>16.0</td><td>1</td><td>0.0</td><td>95</td><td>4</td></tr><tr><th>20</th><td>QuakerOats</td><td>0.5</td><td>100</td><td>14.0</td><td>1</td><td>2.0</td><td>110</td><td>4</td></tr><tr><th>21</th><td>Muesli</td><td>1.0</td><td>150</td><td>16.0</td><td>3</td><td>3.0</td><td>170</td><td>4</td></tr><tr><th>22</th><td>Cheerios</td><td>1.25</td><td>110</td><td>17.0</td><td>2</td><td>2.0</td><td>105</td><td>6</td></tr><tr><th>23</th><td>SpecialK</td><td>1.0</td><td>110</td><td>16.0</td><td>0</td><td>1.0</td><td>55</td><td>6</td></tr></tbody></table>"
      ],
      "text/latex": [
       "\\begin{tabular}{r|ccccccccc}\n",
       "\t& Name & Cups & Calories & Carbs & Fat & Fiber & Potassium & Protein & \\\\\n",
       "\t\\hline\n",
       "\t& String & Float64 & Int64 & Float64 & Int64 & Float64 & Int64 & Int64 & \\\\\n",
       "\t\\hline\n",
       "\t1 & CapnCrunch & 0.75 & 120 & 12.0 & 2 & 0.0 & 35 & 1 & $\\dots$ \\\\\n",
       "\t2 & CocoaPuffs & 1.0 & 110 & 12.0 & 1 & 0.0 & 55 & 1 & $\\dots$ \\\\\n",
       "\t3 & Trix & 1.0 & 110 & 13.0 & 1 & 0.0 & 25 & 1 & $\\dots$ \\\\\n",
       "\t4 & AppleJacks & 1.0 & 110 & 11.0 & 0 & 1.0 & 30 & 2 & $\\dots$ \\\\\n",
       "\t5 & CornChex & 1.0 & 110 & 22.0 & 0 & 0.0 & 25 & 2 & $\\dots$ \\\\\n",
       "\t6 & CornFlakes & 1.0 & 100 & 21.0 & 0 & 1.0 & 35 & 2 & $\\dots$ \\\\\n",
       "\t7 & Nut\\&Honey & 0.67 & 120 & 15.0 & 1 & 0.0 & 40 & 2 & $\\dots$ \\\\\n",
       "\t8 & Smacks & 0.75 & 110 & 9.0 & 1 & 1.0 & 40 & 2 & $\\dots$ \\\\\n",
       "\t9 & MultiGrain & 1.0 & 100 & 15.0 & 1 & 2.0 & 90 & 2 & $\\dots$ \\\\\n",
       "\t10 & CracklinOat & 0.5 & 110 & 10.0 & 3 & 4.0 & 160 & 3 & $\\dots$ \\\\\n",
       "\t11 & GrapeNuts & 0.25 & 110 & 17.0 & 0 & 3.0 & 90 & 3 & $\\dots$ \\\\\n",
       "\t12 & HoneyNutCheerios & 0.75 & 110 & 11.5 & 1 & 1.5 & 90 & 3 & $\\dots$ \\\\\n",
       "\t13 & NutriGrain & 0.67 & 140 & 21.0 & 2 & 3.0 & 130 & 3 & $\\dots$ \\\\\n",
       "\t14 & Product19 & 1.0 & 100 & 20.0 & 0 & 1.0 & 45 & 3 & $\\dots$ \\\\\n",
       "\t15 & TotalRaisinBran & 1.0 & 140 & 15.0 & 1 & 4.0 & 230 & 3 & $\\dots$ \\\\\n",
       "\t16 & WheatChex & 0.67 & 100 & 17.0 & 1 & 3.0 & 115 & 3 & $\\dots$ \\\\\n",
       "\t17 & Oatmeal & 0.5 & 130 & 13.5 & 2 & 1.5 & 120 & 3 & $\\dots$ \\\\\n",
       "\t18 & Life & 0.67 & 100 & 12.0 & 2 & 2.0 & 95 & 4 & $\\dots$ \\\\\n",
       "\t19 & Maypo & 1.0 & 100 & 16.0 & 1 & 0.0 & 95 & 4 & $\\dots$ \\\\\n",
       "\t20 & QuakerOats & 0.5 & 100 & 14.0 & 1 & 2.0 & 110 & 4 & $\\dots$ \\\\\n",
       "\t21 & Muesli & 1.0 & 150 & 16.0 & 3 & 3.0 & 170 & 4 & $\\dots$ \\\\\n",
       "\t22 & Cheerios & 1.25 & 110 & 17.0 & 2 & 2.0 & 105 & 6 & $\\dots$ \\\\\n",
       "\t23 & SpecialK & 1.0 & 110 & 16.0 & 0 & 1.0 & 55 & 6 & $\\dots$ \\\\\n",
       "\\end{tabular}\n"
      ],
      "text/plain": [
       "23×10 DataFrame. Omitted printing of 4 columns\n",
       "│ Row │ Name             │ Cups    │ Calories │ Carbs   │ Fat   │ Fiber   │\n",
       "│     │ \u001b[90mString\u001b[39m           │ \u001b[90mFloat64\u001b[39m │ \u001b[90mInt64\u001b[39m    │ \u001b[90mFloat64\u001b[39m │ \u001b[90mInt64\u001b[39m │ \u001b[90mFloat64\u001b[39m │\n",
       "├─────┼──────────────────┼─────────┼──────────┼─────────┼───────┼─────────┤\n",
       "│ 1   │ CapnCrunch       │ 0.75    │ 120      │ 12.0    │ 2     │ 0.0     │\n",
       "│ 2   │ CocoaPuffs       │ 1.0     │ 110      │ 12.0    │ 1     │ 0.0     │\n",
       "│ 3   │ Trix             │ 1.0     │ 110      │ 13.0    │ 1     │ 0.0     │\n",
       "│ 4   │ AppleJacks       │ 1.0     │ 110      │ 11.0    │ 0     │ 1.0     │\n",
       "│ 5   │ CornChex         │ 1.0     │ 110      │ 22.0    │ 0     │ 0.0     │\n",
       "│ 6   │ CornFlakes       │ 1.0     │ 100      │ 21.0    │ 0     │ 1.0     │\n",
       "│ 7   │ Nut&Honey        │ 0.67    │ 120      │ 15.0    │ 1     │ 0.0     │\n",
       "│ 8   │ Smacks           │ 0.75    │ 110      │ 9.0     │ 1     │ 1.0     │\n",
       "│ 9   │ MultiGrain       │ 1.0     │ 100      │ 15.0    │ 1     │ 2.0     │\n",
       "│ 10  │ CracklinOat      │ 0.5     │ 110      │ 10.0    │ 3     │ 4.0     │\n",
       "│ 11  │ GrapeNuts        │ 0.25    │ 110      │ 17.0    │ 0     │ 3.0     │\n",
       "│ 12  │ HoneyNutCheerios │ 0.75    │ 110      │ 11.5    │ 1     │ 1.5     │\n",
       "│ 13  │ NutriGrain       │ 0.67    │ 140      │ 21.0    │ 2     │ 3.0     │\n",
       "│ 14  │ Product19        │ 1.0     │ 100      │ 20.0    │ 0     │ 1.0     │\n",
       "│ 15  │ TotalRaisinBran  │ 1.0     │ 140      │ 15.0    │ 1     │ 4.0     │\n",
       "│ 16  │ WheatChex        │ 0.67    │ 100      │ 17.0    │ 1     │ 3.0     │\n",
       "│ 17  │ Oatmeal          │ 0.5     │ 130      │ 13.5    │ 2     │ 1.5     │\n",
       "│ 18  │ Life             │ 0.67    │ 100      │ 12.0    │ 2     │ 2.0     │\n",
       "│ 19  │ Maypo            │ 1.0     │ 100      │ 16.0    │ 1     │ 0.0     │\n",
       "│ 20  │ QuakerOats       │ 0.5     │ 100      │ 14.0    │ 1     │ 2.0     │\n",
       "│ 21  │ Muesli           │ 1.0     │ 150      │ 16.0    │ 3     │ 3.0     │\n",
       "│ 22  │ Cheerios         │ 1.25    │ 110      │ 17.0    │ 2     │ 2.0     │\n",
       "│ 23  │ SpecialK         │ 1.0     │ 110      │ 16.0    │ 0     │ 1.0     │"
      ]
     },
     "execution_count": 7,
     "metadata": {},
     "output_type": "execute_result"
    }
   ],
   "source": [
    "ss_df = CSV.read(joinpath(data_dir, \"Cereal.txt\"))"
   ]
  },
  {
   "cell_type": "markdown",
   "metadata": {},
   "source": [
    "We can also specify the delimiter by passing the `delim` arguement."
   ]
  },
  {
   "cell_type": "code",
   "execution_count": 8,
   "metadata": {},
   "outputs": [
    {
     "data": {
      "text/html": [
       "<table class=\"data-frame\"><thead><tr><th></th><th>Team</th><th>Played</th><th>Wins</th><th>Draws</th><th>Losses</th><th>Goals_for</th><th>Goals_against</th></tr><tr><th></th><th>String</th><th>Int64</th><th>Int64</th><th>Int64</th><th>Int64</th><th>String</th><th>String</th></tr></thead><tbody><p>20 rows × 7 columns</p><tr><th>1</th><td>Barcelona</td><td>38</td><td>30</td><td>4</td><td>4</td><td>110 goals</td><td>21 goals</td></tr><tr><th>2</th><td>Real Madrid</td><td>38</td><td>30</td><td>2</td><td>6</td><td>118 goals</td><td>38 goals</td></tr><tr><th>3</th><td>Atletico Madrid</td><td>38</td><td>23</td><td>9</td><td>6</td><td>67 goals</td><td>29 goals</td></tr><tr><th>4</th><td>Valencia</td><td>38</td><td>22</td><td>11</td><td>5</td><td>70 goals</td><td>32 goals</td></tr><tr><th>5</th><td>Seville</td><td>38</td><td>23</td><td>7</td><td>8</td><td>71 goals</td><td>45 goals</td></tr><tr><th>6</th><td>Villarreal</td><td>38</td><td>16</td><td>12</td><td>10</td><td>48 goals</td><td>37 goals</td></tr><tr><th>7</th><td>Athletic Bilbao</td><td>38</td><td>15</td><td>10</td><td>13</td><td>42 goals</td><td>41 goals</td></tr><tr><th>8</th><td>Celta Vigo</td><td>38</td><td>13</td><td>12</td><td>13</td><td>47 goals</td><td>44 goals</td></tr><tr><th>9</th><td>Malaga</td><td>38</td><td>14</td><td>8</td><td>16</td><td>42 goals</td><td>48 goals</td></tr><tr><th>10</th><td>Espanyol</td><td>38</td><td>13</td><td>10</td><td>15</td><td>47 goals</td><td>51 goals</td></tr><tr><th>11</th><td>Rayo Vallecano</td><td>38</td><td>15</td><td>4</td><td>19</td><td>46 goals</td><td>68 goals</td></tr><tr><th>12</th><td>Real Sociedad</td><td>38</td><td>11</td><td>13</td><td>14</td><td>44 goals</td><td>51 goals</td></tr><tr><th>13</th><td>Elche</td><td>38</td><td>11</td><td>8</td><td>19</td><td>35 goals</td><td>62 goals</td></tr><tr><th>14</th><td>Levante</td><td>38</td><td>9</td><td>10</td><td>19</td><td>34 goals</td><td>67 goals</td></tr><tr><th>15</th><td>Getafe</td><td>38</td><td>10</td><td>7</td><td>21</td><td>33 goals</td><td>64 goals</td></tr><tr><th>16</th><td>Deportivo La Coruna</td><td>38</td><td>7</td><td>14</td><td>17</td><td>35 goals</td><td>60 goals</td></tr><tr><th>17</th><td>Granada</td><td>38</td><td>7</td><td>14</td><td>17</td><td>29 goals</td><td>64 goals</td></tr><tr><th>18</th><td>Eibar</td><td>38</td><td>9</td><td>8</td><td>21</td><td>34 goals</td><td>55 goals</td></tr><tr><th>19</th><td>Almeria</td><td>38</td><td>8</td><td>8</td><td>22</td><td>35 goals</td><td>64 goals</td></tr><tr><th>20</th><td>Cordoba</td><td>38</td><td>3</td><td>11</td><td>24</td><td>22 goals</td><td>68 goals</td></tr></tbody></table>"
      ],
      "text/latex": [
       "\\begin{tabular}{r|ccccccc}\n",
       "\t& Team & Played & Wins & Draws & Losses & Goals\\_for & Goals\\_against\\\\\n",
       "\t\\hline\n",
       "\t& String & Int64 & Int64 & Int64 & Int64 & String & String\\\\\n",
       "\t\\hline\n",
       "\t1 & Barcelona & 38 & 30 & 4 & 4 & 110 goals & 21 goals \\\\\n",
       "\t2 & Real Madrid & 38 & 30 & 2 & 6 & 118 goals & 38 goals \\\\\n",
       "\t3 & Atletico Madrid & 38 & 23 & 9 & 6 & 67 goals & 29 goals \\\\\n",
       "\t4 & Valencia & 38 & 22 & 11 & 5 & 70 goals & 32 goals \\\\\n",
       "\t5 & Seville & 38 & 23 & 7 & 8 & 71 goals & 45 goals \\\\\n",
       "\t6 & Villarreal & 38 & 16 & 12 & 10 & 48 goals & 37 goals \\\\\n",
       "\t7 & Athletic Bilbao & 38 & 15 & 10 & 13 & 42 goals & 41 goals \\\\\n",
       "\t8 & Celta Vigo & 38 & 13 & 12 & 13 & 47 goals & 44 goals \\\\\n",
       "\t9 & Malaga & 38 & 14 & 8 & 16 & 42 goals & 48 goals \\\\\n",
       "\t10 & Espanyol & 38 & 13 & 10 & 15 & 47 goals & 51 goals \\\\\n",
       "\t11 & Rayo Vallecano & 38 & 15 & 4 & 19 & 46 goals & 68 goals \\\\\n",
       "\t12 & Real Sociedad & 38 & 11 & 13 & 14 & 44 goals & 51 goals \\\\\n",
       "\t13 & Elche & 38 & 11 & 8 & 19 & 35 goals & 62 goals \\\\\n",
       "\t14 & Levante & 38 & 9 & 10 & 19 & 34 goals & 67 goals \\\\\n",
       "\t15 & Getafe & 38 & 10 & 7 & 21 & 33 goals & 64 goals \\\\\n",
       "\t16 & Deportivo La Coruna & 38 & 7 & 14 & 17 & 35 goals & 60 goals \\\\\n",
       "\t17 & Granada & 38 & 7 & 14 & 17 & 29 goals & 64 goals \\\\\n",
       "\t18 & Eibar & 38 & 9 & 8 & 21 & 34 goals & 55 goals \\\\\n",
       "\t19 & Almeria & 38 & 8 & 8 & 22 & 35 goals & 64 goals \\\\\n",
       "\t20 & Cordoba & 38 & 3 & 11 & 24 & 22 goals & 68 goals \\\\\n",
       "\\end{tabular}\n"
      ],
      "text/plain": [
       "20×7 DataFrame. Omitted printing of 1 columns\n",
       "│ Row │ Team                │ Played │ Wins  │ Draws │ Losses │ Goals_for │\n",
       "│     │ \u001b[90mString\u001b[39m              │ \u001b[90mInt64\u001b[39m  │ \u001b[90mInt64\u001b[39m │ \u001b[90mInt64\u001b[39m │ \u001b[90mInt64\u001b[39m  │ \u001b[90mString\u001b[39m    │\n",
       "├─────┼─────────────────────┼────────┼───────┼───────┼────────┼───────────┤\n",
       "│ 1   │ Barcelona           │ 38     │ 30    │ 4     │ 4      │ 110 goals │\n",
       "│ 2   │ Real Madrid         │ 38     │ 30    │ 2     │ 6      │ 118 goals │\n",
       "│ 3   │ Atletico Madrid     │ 38     │ 23    │ 9     │ 6      │ 67 goals  │\n",
       "│ 4   │ Valencia            │ 38     │ 22    │ 11    │ 5      │ 70 goals  │\n",
       "│ 5   │ Seville             │ 38     │ 23    │ 7     │ 8      │ 71 goals  │\n",
       "│ 6   │ Villarreal          │ 38     │ 16    │ 12    │ 10     │ 48 goals  │\n",
       "│ 7   │ Athletic Bilbao     │ 38     │ 15    │ 10    │ 13     │ 42 goals  │\n",
       "│ 8   │ Celta Vigo          │ 38     │ 13    │ 12    │ 13     │ 47 goals  │\n",
       "│ 9   │ Malaga              │ 38     │ 14    │ 8     │ 16     │ 42 goals  │\n",
       "│ 10  │ Espanyol            │ 38     │ 13    │ 10    │ 15     │ 47 goals  │\n",
       "│ 11  │ Rayo Vallecano      │ 38     │ 15    │ 4     │ 19     │ 46 goals  │\n",
       "│ 12  │ Real Sociedad       │ 38     │ 11    │ 13    │ 14     │ 44 goals  │\n",
       "│ 13  │ Elche               │ 38     │ 11    │ 8     │ 19     │ 35 goals  │\n",
       "│ 14  │ Levante             │ 38     │ 9     │ 10    │ 19     │ 34 goals  │\n",
       "│ 15  │ Getafe              │ 38     │ 10    │ 7     │ 21     │ 33 goals  │\n",
       "│ 16  │ Deportivo La Coruna │ 38     │ 7     │ 14    │ 17     │ 35 goals  │\n",
       "│ 17  │ Granada             │ 38     │ 7     │ 14    │ 17     │ 29 goals  │\n",
       "│ 18  │ Eibar               │ 38     │ 9     │ 8     │ 21     │ 34 goals  │\n",
       "│ 19  │ Almeria             │ 38     │ 8     │ 8     │ 22     │ 35 goals  │\n",
       "│ 20  │ Cordoba             │ 38     │ 3     │ 11    │ 24     │ 22 goals  │"
      ]
     },
     "execution_count": 8,
     "metadata": {},
     "output_type": "execute_result"
    }
   ],
   "source": [
    "delim_df = CSV.read(joinpath(data_dir, \"Soccer.txt\"), delim = \"::\")"
   ]
  },
  {
   "cell_type": "markdown",
   "metadata": {},
   "source": [
    "Note that by default, are read-only. If we wish to make changes to the data read, we pass the `copycols = true` arguement in the function call."
   ]
  },
  {
   "cell_type": "code",
   "execution_count": 9,
   "metadata": {},
   "outputs": [
    {
     "data": {
      "text/html": [
       "<table class=\"data-frame\"><thead><tr><th></th><th>Name</th><th>Cups</th><th>Calories</th><th>Carbs</th><th>Fat</th><th>Fiber</th><th>Potassium</th><th>Protein</th></tr><tr><th></th><th>String</th><th>Float64</th><th>Int64</th><th>Float64</th><th>Int64</th><th>Float64</th><th>Int64</th><th>Int64</th></tr></thead><tbody><p>23 rows × 10 columns (omitted printing of 2 columns)</p><tr><th>1</th><td>CapnCrunch</td><td>0.75</td><td>120</td><td>12.0</td><td>2</td><td>0.0</td><td>35</td><td>1</td></tr><tr><th>2</th><td>CocoaPuffs</td><td>1.0</td><td>110</td><td>12.0</td><td>1</td><td>0.0</td><td>55</td><td>1</td></tr><tr><th>3</th><td>Trix</td><td>1.0</td><td>110</td><td>13.0</td><td>1</td><td>0.0</td><td>25</td><td>1</td></tr><tr><th>4</th><td>AppleJacks</td><td>1.0</td><td>110</td><td>11.0</td><td>0</td><td>1.0</td><td>30</td><td>2</td></tr><tr><th>5</th><td>CornChex</td><td>1.0</td><td>110</td><td>22.0</td><td>0</td><td>0.0</td><td>25</td><td>2</td></tr><tr><th>6</th><td>CornFlakes</td><td>1.0</td><td>100</td><td>21.0</td><td>0</td><td>1.0</td><td>35</td><td>2</td></tr><tr><th>7</th><td>Nut&amp;Honey</td><td>0.67</td><td>120</td><td>15.0</td><td>1</td><td>0.0</td><td>40</td><td>2</td></tr><tr><th>8</th><td>Smacks</td><td>0.75</td><td>110</td><td>9.0</td><td>1</td><td>1.0</td><td>40</td><td>2</td></tr><tr><th>9</th><td>MultiGrain</td><td>1.0</td><td>100</td><td>15.0</td><td>1</td><td>2.0</td><td>90</td><td>2</td></tr><tr><th>10</th><td>CracklinOat</td><td>0.5</td><td>110</td><td>10.0</td><td>3</td><td>4.0</td><td>160</td><td>3</td></tr><tr><th>11</th><td>GrapeNuts</td><td>0.25</td><td>110</td><td>17.0</td><td>0</td><td>3.0</td><td>90</td><td>3</td></tr><tr><th>12</th><td>HoneyNutCheerios</td><td>0.75</td><td>110</td><td>11.5</td><td>1</td><td>1.5</td><td>90</td><td>3</td></tr><tr><th>13</th><td>NutriGrain</td><td>0.67</td><td>140</td><td>21.0</td><td>2</td><td>3.0</td><td>130</td><td>3</td></tr><tr><th>14</th><td>Product19</td><td>1.0</td><td>100</td><td>20.0</td><td>0</td><td>1.0</td><td>45</td><td>3</td></tr><tr><th>15</th><td>TotalRaisinBran</td><td>1.0</td><td>140</td><td>15.0</td><td>1</td><td>4.0</td><td>230</td><td>3</td></tr><tr><th>16</th><td>WheatChex</td><td>0.67</td><td>100</td><td>17.0</td><td>1</td><td>3.0</td><td>115</td><td>3</td></tr><tr><th>17</th><td>Oatmeal</td><td>0.5</td><td>130</td><td>13.5</td><td>2</td><td>1.5</td><td>120</td><td>3</td></tr><tr><th>18</th><td>Life</td><td>0.67</td><td>100</td><td>12.0</td><td>2</td><td>2.0</td><td>95</td><td>4</td></tr><tr><th>19</th><td>Maypo</td><td>1.0</td><td>100</td><td>16.0</td><td>1</td><td>0.0</td><td>95</td><td>4</td></tr><tr><th>20</th><td>QuakerOats</td><td>0.5</td><td>100</td><td>14.0</td><td>1</td><td>2.0</td><td>110</td><td>4</td></tr><tr><th>21</th><td>Muesli</td><td>1.0</td><td>150</td><td>16.0</td><td>3</td><td>3.0</td><td>170</td><td>4</td></tr><tr><th>22</th><td>Cheerios</td><td>1.25</td><td>110</td><td>17.0</td><td>2</td><td>2.0</td><td>105</td><td>6</td></tr><tr><th>23</th><td>SpecialK</td><td>1.0</td><td>110</td><td>16.0</td><td>0</td><td>1.0</td><td>55</td><td>6</td></tr></tbody></table>"
      ],
      "text/latex": [
       "\\begin{tabular}{r|ccccccccc}\n",
       "\t& Name & Cups & Calories & Carbs & Fat & Fiber & Potassium & Protein & \\\\\n",
       "\t\\hline\n",
       "\t& String & Float64 & Int64 & Float64 & Int64 & Float64 & Int64 & Int64 & \\\\\n",
       "\t\\hline\n",
       "\t1 & CapnCrunch & 0.75 & 120 & 12.0 & 2 & 0.0 & 35 & 1 & $\\dots$ \\\\\n",
       "\t2 & CocoaPuffs & 1.0 & 110 & 12.0 & 1 & 0.0 & 55 & 1 & $\\dots$ \\\\\n",
       "\t3 & Trix & 1.0 & 110 & 13.0 & 1 & 0.0 & 25 & 1 & $\\dots$ \\\\\n",
       "\t4 & AppleJacks & 1.0 & 110 & 11.0 & 0 & 1.0 & 30 & 2 & $\\dots$ \\\\\n",
       "\t5 & CornChex & 1.0 & 110 & 22.0 & 0 & 0.0 & 25 & 2 & $\\dots$ \\\\\n",
       "\t6 & CornFlakes & 1.0 & 100 & 21.0 & 0 & 1.0 & 35 & 2 & $\\dots$ \\\\\n",
       "\t7 & Nut\\&Honey & 0.67 & 120 & 15.0 & 1 & 0.0 & 40 & 2 & $\\dots$ \\\\\n",
       "\t8 & Smacks & 0.75 & 110 & 9.0 & 1 & 1.0 & 40 & 2 & $\\dots$ \\\\\n",
       "\t9 & MultiGrain & 1.0 & 100 & 15.0 & 1 & 2.0 & 90 & 2 & $\\dots$ \\\\\n",
       "\t10 & CracklinOat & 0.5 & 110 & 10.0 & 3 & 4.0 & 160 & 3 & $\\dots$ \\\\\n",
       "\t11 & GrapeNuts & 0.25 & 110 & 17.0 & 0 & 3.0 & 90 & 3 & $\\dots$ \\\\\n",
       "\t12 & HoneyNutCheerios & 0.75 & 110 & 11.5 & 1 & 1.5 & 90 & 3 & $\\dots$ \\\\\n",
       "\t13 & NutriGrain & 0.67 & 140 & 21.0 & 2 & 3.0 & 130 & 3 & $\\dots$ \\\\\n",
       "\t14 & Product19 & 1.0 & 100 & 20.0 & 0 & 1.0 & 45 & 3 & $\\dots$ \\\\\n",
       "\t15 & TotalRaisinBran & 1.0 & 140 & 15.0 & 1 & 4.0 & 230 & 3 & $\\dots$ \\\\\n",
       "\t16 & WheatChex & 0.67 & 100 & 17.0 & 1 & 3.0 & 115 & 3 & $\\dots$ \\\\\n",
       "\t17 & Oatmeal & 0.5 & 130 & 13.5 & 2 & 1.5 & 120 & 3 & $\\dots$ \\\\\n",
       "\t18 & Life & 0.67 & 100 & 12.0 & 2 & 2.0 & 95 & 4 & $\\dots$ \\\\\n",
       "\t19 & Maypo & 1.0 & 100 & 16.0 & 1 & 0.0 & 95 & 4 & $\\dots$ \\\\\n",
       "\t20 & QuakerOats & 0.5 & 100 & 14.0 & 1 & 2.0 & 110 & 4 & $\\dots$ \\\\\n",
       "\t21 & Muesli & 1.0 & 150 & 16.0 & 3 & 3.0 & 170 & 4 & $\\dots$ \\\\\n",
       "\t22 & Cheerios & 1.25 & 110 & 17.0 & 2 & 2.0 & 105 & 6 & $\\dots$ \\\\\n",
       "\t23 & SpecialK & 1.0 & 110 & 16.0 & 0 & 1.0 & 55 & 6 & $\\dots$ \\\\\n",
       "\\end{tabular}\n"
      ],
      "text/plain": [
       "23×10 DataFrame. Omitted printing of 4 columns\n",
       "│ Row │ Name             │ Cups    │ Calories │ Carbs   │ Fat   │ Fiber   │\n",
       "│     │ \u001b[90mString\u001b[39m           │ \u001b[90mFloat64\u001b[39m │ \u001b[90mInt64\u001b[39m    │ \u001b[90mFloat64\u001b[39m │ \u001b[90mInt64\u001b[39m │ \u001b[90mFloat64\u001b[39m │\n",
       "├─────┼──────────────────┼─────────┼──────────┼─────────┼───────┼─────────┤\n",
       "│ 1   │ CapnCrunch       │ 0.75    │ 120      │ 12.0    │ 2     │ 0.0     │\n",
       "│ 2   │ CocoaPuffs       │ 1.0     │ 110      │ 12.0    │ 1     │ 0.0     │\n",
       "│ 3   │ Trix             │ 1.0     │ 110      │ 13.0    │ 1     │ 0.0     │\n",
       "│ 4   │ AppleJacks       │ 1.0     │ 110      │ 11.0    │ 0     │ 1.0     │\n",
       "│ 5   │ CornChex         │ 1.0     │ 110      │ 22.0    │ 0     │ 0.0     │\n",
       "│ 6   │ CornFlakes       │ 1.0     │ 100      │ 21.0    │ 0     │ 1.0     │\n",
       "│ 7   │ Nut&Honey        │ 0.67    │ 120      │ 15.0    │ 1     │ 0.0     │\n",
       "│ 8   │ Smacks           │ 0.75    │ 110      │ 9.0     │ 1     │ 1.0     │\n",
       "│ 9   │ MultiGrain       │ 1.0     │ 100      │ 15.0    │ 1     │ 2.0     │\n",
       "│ 10  │ CracklinOat      │ 0.5     │ 110      │ 10.0    │ 3     │ 4.0     │\n",
       "│ 11  │ GrapeNuts        │ 0.25    │ 110      │ 17.0    │ 0     │ 3.0     │\n",
       "│ 12  │ HoneyNutCheerios │ 0.75    │ 110      │ 11.5    │ 1     │ 1.5     │\n",
       "│ 13  │ NutriGrain       │ 0.67    │ 140      │ 21.0    │ 2     │ 3.0     │\n",
       "│ 14  │ Product19        │ 1.0     │ 100      │ 20.0    │ 0     │ 1.0     │\n",
       "│ 15  │ TotalRaisinBran  │ 1.0     │ 140      │ 15.0    │ 1     │ 4.0     │\n",
       "│ 16  │ WheatChex        │ 0.67    │ 100      │ 17.0    │ 1     │ 3.0     │\n",
       "│ 17  │ Oatmeal          │ 0.5     │ 130      │ 13.5    │ 2     │ 1.5     │\n",
       "│ 18  │ Life             │ 0.67    │ 100      │ 12.0    │ 2     │ 2.0     │\n",
       "│ 19  │ Maypo            │ 1.0     │ 100      │ 16.0    │ 1     │ 0.0     │\n",
       "│ 20  │ QuakerOats       │ 0.5     │ 100      │ 14.0    │ 1     │ 2.0     │\n",
       "│ 21  │ Muesli           │ 1.0     │ 150      │ 16.0    │ 3     │ 3.0     │\n",
       "│ 22  │ Cheerios         │ 1.25    │ 110      │ 17.0    │ 2     │ 2.0     │\n",
       "│ 23  │ SpecialK         │ 1.0     │ 110      │ 16.0    │ 0     │ 1.0     │"
      ]
     },
     "execution_count": 9,
     "metadata": {},
     "output_type": "execute_result"
    }
   ],
   "source": [
    "ss_df = CSV.read(joinpath(data_dir, \"Cereal.txt\"), copycols = true)"
   ]
  },
  {
   "cell_type": "markdown",
   "metadata": {},
   "source": [
    "## Working with DataFrames\n",
    "Now that we have read the required data into a DataFrame, let us look at some basic operations we can perform on it."
   ]
  },
  {
   "cell_type": "markdown",
   "metadata": {},
   "source": [
    "### Querying Basic Information\n",
    "The `size` function gets us the dimensions of the DataFrame."
   ]
  },
  {
   "cell_type": "code",
   "execution_count": 10,
   "metadata": {},
   "outputs": [
    {
     "data": {
      "text/plain": [
       "(23, 10)"
      ]
     },
     "execution_count": 10,
     "metadata": {},
     "output_type": "execute_result"
    }
   ],
   "source": [
    "size(ss_df)"
   ]
  },
  {
   "cell_type": "markdown",
   "metadata": {},
   "source": [
    "We can also us the `nrow` and `ncol` functions to get the number of rows and columns respectively."
   ]
  },
  {
   "cell_type": "code",
   "execution_count": 11,
   "metadata": {},
   "outputs": [
    {
     "data": {
      "text/plain": [
       "(23, 10)"
      ]
     },
     "execution_count": 11,
     "metadata": {},
     "output_type": "execute_result"
    }
   ],
   "source": [
    "nrow(ss_df), ncol(ss_df)"
   ]
  },
  {
   "cell_type": "markdown",
   "metadata": {},
   "source": [
    "The `describe` function gives basic summary statistics of data in a DataFrame."
   ]
  },
  {
   "cell_type": "code",
   "execution_count": 12,
   "metadata": {},
   "outputs": [
    {
     "data": {
      "text/html": [
       "<table class=\"data-frame\"><thead><tr><th></th><th>variable</th><th>mean</th><th>min</th><th>median</th><th>max</th><th>nunique</th><th>nmissing</th><th>eltype</th></tr><tr><th></th><th>Symbol</th><th>Union…</th><th>Any</th><th>Union…</th><th>Any</th><th>Union…</th><th>Nothing</th><th>DataType</th></tr></thead><tbody><p>10 rows × 8 columns</p><tr><th>1</th><td>Name</td><td></td><td>AppleJacks</td><td></td><td>WheatChex</td><td>23</td><td></td><td>String</td></tr><tr><th>2</th><td>Cups</td><td>0.823043</td><td>0.25</td><td>1.0</td><td>1.25</td><td></td><td></td><td>Float64</td></tr><tr><th>3</th><td>Calories</td><td>113.043</td><td>100</td><td>110.0</td><td>150</td><td></td><td></td><td>Int64</td></tr><tr><th>4</th><td>Carbs</td><td>15.0435</td><td>9.0</td><td>15.0</td><td>22.0</td><td></td><td></td><td>Float64</td></tr><tr><th>5</th><td>Fat</td><td>1.13043</td><td>0</td><td>1.0</td><td>3</td><td></td><td></td><td>Int64</td></tr><tr><th>6</th><td>Fiber</td><td>1.56522</td><td>0.0</td><td>1.5</td><td>4.0</td><td></td><td></td><td>Float64</td></tr><tr><th>7</th><td>Potassium</td><td>86.3043</td><td>25</td><td>90.0</td><td>230</td><td></td><td></td><td>Int64</td></tr><tr><th>8</th><td>Protein</td><td>2.91304</td><td>1</td><td>3.0</td><td>6</td><td></td><td></td><td>Int64</td></tr><tr><th>9</th><td>Sodium</td><td>189.957</td><td>0</td><td>190.0</td><td>320</td><td></td><td></td><td>Int64</td></tr><tr><th>10</th><td>Sugars</td><td>7.52174</td><td>1</td><td>7.0</td><td>15</td><td></td><td></td><td>Int64</td></tr></tbody></table>"
      ],
      "text/latex": [
       "\\begin{tabular}{r|cccccccc}\n",
       "\t& variable & mean & min & median & max & nunique & nmissing & eltype\\\\\n",
       "\t\\hline\n",
       "\t& Symbol & Union… & Any & Union… & Any & Union… & Nothing & DataType\\\\\n",
       "\t\\hline\n",
       "\t1 & Name &  & AppleJacks &  & WheatChex & 23 &  & String \\\\\n",
       "\t2 & Cups & 0.823043 & 0.25 & 1.0 & 1.25 &  &  & Float64 \\\\\n",
       "\t3 & Calories & 113.043 & 100 & 110.0 & 150 &  &  & Int64 \\\\\n",
       "\t4 & Carbs & 15.0435 & 9.0 & 15.0 & 22.0 &  &  & Float64 \\\\\n",
       "\t5 & Fat & 1.13043 & 0 & 1.0 & 3 &  &  & Int64 \\\\\n",
       "\t6 & Fiber & 1.56522 & 0.0 & 1.5 & 4.0 &  &  & Float64 \\\\\n",
       "\t7 & Potassium & 86.3043 & 25 & 90.0 & 230 &  &  & Int64 \\\\\n",
       "\t8 & Protein & 2.91304 & 1 & 3.0 & 6 &  &  & Int64 \\\\\n",
       "\t9 & Sodium & 189.957 & 0 & 190.0 & 320 &  &  & Int64 \\\\\n",
       "\t10 & Sugars & 7.52174 & 1 & 7.0 & 15 &  &  & Int64 \\\\\n",
       "\\end{tabular}\n"
      ],
      "text/plain": [
       "10×8 DataFrame. Omitted printing of 2 columns\n",
       "│ Row │ variable  │ mean     │ min        │ median │ max       │ nunique │\n",
       "│     │ \u001b[90mSymbol\u001b[39m    │ \u001b[90mUnion…\u001b[39m   │ \u001b[90mAny\u001b[39m        │ \u001b[90mUnion…\u001b[39m │ \u001b[90mAny\u001b[39m       │ \u001b[90mUnion…\u001b[39m  │\n",
       "├─────┼───────────┼──────────┼────────────┼────────┼───────────┼─────────┤\n",
       "│ 1   │ Name      │          │ AppleJacks │        │ WheatChex │ 23      │\n",
       "│ 2   │ Cups      │ 0.823043 │ 0.25       │ 1.0    │ 1.25      │         │\n",
       "│ 3   │ Calories  │ 113.043  │ 100        │ 110.0  │ 150       │         │\n",
       "│ 4   │ Carbs     │ 15.0435  │ 9.0        │ 15.0   │ 22.0      │         │\n",
       "│ 5   │ Fat       │ 1.13043  │ 0          │ 1.0    │ 3         │         │\n",
       "│ 6   │ Fiber     │ 1.56522  │ 0.0        │ 1.5    │ 4.0       │         │\n",
       "│ 7   │ Potassium │ 86.3043  │ 25         │ 90.0   │ 230       │         │\n",
       "│ 8   │ Protein   │ 2.91304  │ 1          │ 3.0    │ 6         │         │\n",
       "│ 9   │ Sodium    │ 189.957  │ 0          │ 190.0  │ 320       │         │\n",
       "│ 10  │ Sugars    │ 7.52174  │ 1          │ 7.0    │ 15        │         │"
      ]
     },
     "execution_count": 12,
     "metadata": {},
     "output_type": "execute_result"
    }
   ],
   "source": [
    "describe(ss_df)"
   ]
  },
  {
   "cell_type": "markdown",
   "metadata": {},
   "source": [
    "Names of every column can be obtained by the `names` function."
   ]
  },
  {
   "cell_type": "code",
   "execution_count": 13,
   "metadata": {},
   "outputs": [
    {
     "data": {
      "text/plain": [
       "10-element Array{Symbol,1}:\n",
       " :Name     \n",
       " :Cups     \n",
       " :Calories \n",
       " :Carbs    \n",
       " :Fat      \n",
       " :Fiber    \n",
       " :Potassium\n",
       " :Protein  \n",
       " :Sodium   \n",
       " :Sugars   "
      ]
     },
     "execution_count": 13,
     "metadata": {},
     "output_type": "execute_result"
    }
   ],
   "source": [
    "names(ss_df)"
   ]
  },
  {
   "cell_type": "markdown",
   "metadata": {},
   "source": [
    "Corresponding data types are obtained using the broadcasted `eltype` function."
   ]
  },
  {
   "cell_type": "code",
   "execution_count": 14,
   "metadata": {},
   "outputs": [
    {
     "data": {
      "text/html": [
       "<table class=\"data-frame\"><thead><tr><th></th><th>Name</th><th>Cups</th><th>Calories</th><th>Carbs</th><th>Fat</th><th>Fiber</th><th>Potassium</th><th>Protein</th></tr><tr><th></th><th>DataType</th><th>DataType</th><th>DataType</th><th>DataType</th><th>DataType</th><th>DataType</th><th>DataType</th><th>DataType</th></tr></thead><tbody><p>23 rows × 10 columns (omitted printing of 2 columns)</p><tr><th>1</th><td>Char</td><td>Float64</td><td>Int64</td><td>Float64</td><td>Int64</td><td>Float64</td><td>Int64</td><td>Int64</td></tr><tr><th>2</th><td>Char</td><td>Float64</td><td>Int64</td><td>Float64</td><td>Int64</td><td>Float64</td><td>Int64</td><td>Int64</td></tr><tr><th>3</th><td>Char</td><td>Float64</td><td>Int64</td><td>Float64</td><td>Int64</td><td>Float64</td><td>Int64</td><td>Int64</td></tr><tr><th>4</th><td>Char</td><td>Float64</td><td>Int64</td><td>Float64</td><td>Int64</td><td>Float64</td><td>Int64</td><td>Int64</td></tr><tr><th>5</th><td>Char</td><td>Float64</td><td>Int64</td><td>Float64</td><td>Int64</td><td>Float64</td><td>Int64</td><td>Int64</td></tr><tr><th>6</th><td>Char</td><td>Float64</td><td>Int64</td><td>Float64</td><td>Int64</td><td>Float64</td><td>Int64</td><td>Int64</td></tr><tr><th>7</th><td>Char</td><td>Float64</td><td>Int64</td><td>Float64</td><td>Int64</td><td>Float64</td><td>Int64</td><td>Int64</td></tr><tr><th>8</th><td>Char</td><td>Float64</td><td>Int64</td><td>Float64</td><td>Int64</td><td>Float64</td><td>Int64</td><td>Int64</td></tr><tr><th>9</th><td>Char</td><td>Float64</td><td>Int64</td><td>Float64</td><td>Int64</td><td>Float64</td><td>Int64</td><td>Int64</td></tr><tr><th>10</th><td>Char</td><td>Float64</td><td>Int64</td><td>Float64</td><td>Int64</td><td>Float64</td><td>Int64</td><td>Int64</td></tr><tr><th>11</th><td>Char</td><td>Float64</td><td>Int64</td><td>Float64</td><td>Int64</td><td>Float64</td><td>Int64</td><td>Int64</td></tr><tr><th>12</th><td>Char</td><td>Float64</td><td>Int64</td><td>Float64</td><td>Int64</td><td>Float64</td><td>Int64</td><td>Int64</td></tr><tr><th>13</th><td>Char</td><td>Float64</td><td>Int64</td><td>Float64</td><td>Int64</td><td>Float64</td><td>Int64</td><td>Int64</td></tr><tr><th>14</th><td>Char</td><td>Float64</td><td>Int64</td><td>Float64</td><td>Int64</td><td>Float64</td><td>Int64</td><td>Int64</td></tr><tr><th>15</th><td>Char</td><td>Float64</td><td>Int64</td><td>Float64</td><td>Int64</td><td>Float64</td><td>Int64</td><td>Int64</td></tr><tr><th>16</th><td>Char</td><td>Float64</td><td>Int64</td><td>Float64</td><td>Int64</td><td>Float64</td><td>Int64</td><td>Int64</td></tr><tr><th>17</th><td>Char</td><td>Float64</td><td>Int64</td><td>Float64</td><td>Int64</td><td>Float64</td><td>Int64</td><td>Int64</td></tr><tr><th>18</th><td>Char</td><td>Float64</td><td>Int64</td><td>Float64</td><td>Int64</td><td>Float64</td><td>Int64</td><td>Int64</td></tr><tr><th>19</th><td>Char</td><td>Float64</td><td>Int64</td><td>Float64</td><td>Int64</td><td>Float64</td><td>Int64</td><td>Int64</td></tr><tr><th>20</th><td>Char</td><td>Float64</td><td>Int64</td><td>Float64</td><td>Int64</td><td>Float64</td><td>Int64</td><td>Int64</td></tr><tr><th>21</th><td>Char</td><td>Float64</td><td>Int64</td><td>Float64</td><td>Int64</td><td>Float64</td><td>Int64</td><td>Int64</td></tr><tr><th>22</th><td>Char</td><td>Float64</td><td>Int64</td><td>Float64</td><td>Int64</td><td>Float64</td><td>Int64</td><td>Int64</td></tr><tr><th>23</th><td>Char</td><td>Float64</td><td>Int64</td><td>Float64</td><td>Int64</td><td>Float64</td><td>Int64</td><td>Int64</td></tr></tbody></table>"
      ],
      "text/latex": [
       "\\begin{tabular}{r|ccccccccc}\n",
       "\t& Name & Cups & Calories & Carbs & Fat & Fiber & Potassium & Protein & \\\\\n",
       "\t\\hline\n",
       "\t& DataType & DataType & DataType & DataType & DataType & DataType & DataType & DataType & \\\\\n",
       "\t\\hline\n",
       "\t1 & Char & Float64 & Int64 & Float64 & Int64 & Float64 & Int64 & Int64 & $\\dots$ \\\\\n",
       "\t2 & Char & Float64 & Int64 & Float64 & Int64 & Float64 & Int64 & Int64 & $\\dots$ \\\\\n",
       "\t3 & Char & Float64 & Int64 & Float64 & Int64 & Float64 & Int64 & Int64 & $\\dots$ \\\\\n",
       "\t4 & Char & Float64 & Int64 & Float64 & Int64 & Float64 & Int64 & Int64 & $\\dots$ \\\\\n",
       "\t5 & Char & Float64 & Int64 & Float64 & Int64 & Float64 & Int64 & Int64 & $\\dots$ \\\\\n",
       "\t6 & Char & Float64 & Int64 & Float64 & Int64 & Float64 & Int64 & Int64 & $\\dots$ \\\\\n",
       "\t7 & Char & Float64 & Int64 & Float64 & Int64 & Float64 & Int64 & Int64 & $\\dots$ \\\\\n",
       "\t8 & Char & Float64 & Int64 & Float64 & Int64 & Float64 & Int64 & Int64 & $\\dots$ \\\\\n",
       "\t9 & Char & Float64 & Int64 & Float64 & Int64 & Float64 & Int64 & Int64 & $\\dots$ \\\\\n",
       "\t10 & Char & Float64 & Int64 & Float64 & Int64 & Float64 & Int64 & Int64 & $\\dots$ \\\\\n",
       "\t11 & Char & Float64 & Int64 & Float64 & Int64 & Float64 & Int64 & Int64 & $\\dots$ \\\\\n",
       "\t12 & Char & Float64 & Int64 & Float64 & Int64 & Float64 & Int64 & Int64 & $\\dots$ \\\\\n",
       "\t13 & Char & Float64 & Int64 & Float64 & Int64 & Float64 & Int64 & Int64 & $\\dots$ \\\\\n",
       "\t14 & Char & Float64 & Int64 & Float64 & Int64 & Float64 & Int64 & Int64 & $\\dots$ \\\\\n",
       "\t15 & Char & Float64 & Int64 & Float64 & Int64 & Float64 & Int64 & Int64 & $\\dots$ \\\\\n",
       "\t16 & Char & Float64 & Int64 & Float64 & Int64 & Float64 & Int64 & Int64 & $\\dots$ \\\\\n",
       "\t17 & Char & Float64 & Int64 & Float64 & Int64 & Float64 & Int64 & Int64 & $\\dots$ \\\\\n",
       "\t18 & Char & Float64 & Int64 & Float64 & Int64 & Float64 & Int64 & Int64 & $\\dots$ \\\\\n",
       "\t19 & Char & Float64 & Int64 & Float64 & Int64 & Float64 & Int64 & Int64 & $\\dots$ \\\\\n",
       "\t20 & Char & Float64 & Int64 & Float64 & Int64 & Float64 & Int64 & Int64 & $\\dots$ \\\\\n",
       "\t21 & Char & Float64 & Int64 & Float64 & Int64 & Float64 & Int64 & Int64 & $\\dots$ \\\\\n",
       "\t22 & Char & Float64 & Int64 & Float64 & Int64 & Float64 & Int64 & Int64 & $\\dots$ \\\\\n",
       "\t23 & Char & Float64 & Int64 & Float64 & Int64 & Float64 & Int64 & Int64 & $\\dots$ \\\\\n",
       "\\end{tabular}\n"
      ],
      "text/plain": [
       "23×10 DataFrame. Omitted printing of 4 columns\n",
       "│ Row │ Name     │ Cups     │ Calories │ Carbs    │ Fat      │ Fiber    │\n",
       "│     │ \u001b[90mDataType\u001b[39m │ \u001b[90mDataType\u001b[39m │ \u001b[90mDataType\u001b[39m │ \u001b[90mDataType\u001b[39m │ \u001b[90mDataType\u001b[39m │ \u001b[90mDataType\u001b[39m │\n",
       "├─────┼──────────┼──────────┼──────────┼──────────┼──────────┼──────────┤\n",
       "│ 1   │ Char     │ Float64  │ Int64    │ Float64  │ Int64    │ Float64  │\n",
       "│ 2   │ Char     │ Float64  │ Int64    │ Float64  │ Int64    │ Float64  │\n",
       "│ 3   │ Char     │ Float64  │ Int64    │ Float64  │ Int64    │ Float64  │\n",
       "│ 4   │ Char     │ Float64  │ Int64    │ Float64  │ Int64    │ Float64  │\n",
       "│ 5   │ Char     │ Float64  │ Int64    │ Float64  │ Int64    │ Float64  │\n",
       "│ 6   │ Char     │ Float64  │ Int64    │ Float64  │ Int64    │ Float64  │\n",
       "│ 7   │ Char     │ Float64  │ Int64    │ Float64  │ Int64    │ Float64  │\n",
       "│ 8   │ Char     │ Float64  │ Int64    │ Float64  │ Int64    │ Float64  │\n",
       "│ 9   │ Char     │ Float64  │ Int64    │ Float64  │ Int64    │ Float64  │\n",
       "│ 10  │ Char     │ Float64  │ Int64    │ Float64  │ Int64    │ Float64  │\n",
       "│ 11  │ Char     │ Float64  │ Int64    │ Float64  │ Int64    │ Float64  │\n",
       "│ 12  │ Char     │ Float64  │ Int64    │ Float64  │ Int64    │ Float64  │\n",
       "│ 13  │ Char     │ Float64  │ Int64    │ Float64  │ Int64    │ Float64  │\n",
       "│ 14  │ Char     │ Float64  │ Int64    │ Float64  │ Int64    │ Float64  │\n",
       "│ 15  │ Char     │ Float64  │ Int64    │ Float64  │ Int64    │ Float64  │\n",
       "│ 16  │ Char     │ Float64  │ Int64    │ Float64  │ Int64    │ Float64  │\n",
       "│ 17  │ Char     │ Float64  │ Int64    │ Float64  │ Int64    │ Float64  │\n",
       "│ 18  │ Char     │ Float64  │ Int64    │ Float64  │ Int64    │ Float64  │\n",
       "│ 19  │ Char     │ Float64  │ Int64    │ Float64  │ Int64    │ Float64  │\n",
       "│ 20  │ Char     │ Float64  │ Int64    │ Float64  │ Int64    │ Float64  │\n",
       "│ 21  │ Char     │ Float64  │ Int64    │ Float64  │ Int64    │ Float64  │\n",
       "│ 22  │ Char     │ Float64  │ Int64    │ Float64  │ Int64    │ Float64  │\n",
       "│ 23  │ Char     │ Float64  │ Int64    │ Float64  │ Int64    │ Float64  │"
      ]
     },
     "execution_count": 14,
     "metadata": {},
     "output_type": "execute_result"
    }
   ],
   "source": [
    "eltype.(ss_df)"
   ]
  },
  {
   "cell_type": "markdown",
   "metadata": {},
   "source": [
    "### Accessing the Data\n",
    "Similar to regular arrays, we use numerical indexing to access elements of a DataFrame."
   ]
  },
  {
   "cell_type": "code",
   "execution_count": 15,
   "metadata": {},
   "outputs": [
    {
     "data": {
      "text/plain": [
       "\"Anakin Skywalker\""
      ]
     },
     "execution_count": 15,
     "metadata": {},
     "output_type": "execute_result"
    }
   ],
   "source": [
    "csv_df[1,1]"
   ]
  },
  {
   "cell_type": "markdown",
   "metadata": {},
   "source": [
    "The following are different ways to access a column."
   ]
  },
  {
   "cell_type": "code",
   "execution_count": 16,
   "metadata": {},
   "outputs": [
    {
     "data": {
      "text/plain": [
       "20-element CSV.Column{String,String}:\n",
       " \"Anakin Skywalker\"\n",
       " \"Padme Amidala\"   \n",
       " \"Luke Skywalker\"  \n",
       " \"Leia Skywalker\"  \n",
       " \"Qui-Gon Jinn\"    \n",
       " \"Obi-Wan Kenobi\"  \n",
       " \"Han Solo\"        \n",
       " \"Sheev Palpatine\" \n",
       " \"R2-D2\"           \n",
       " \"C-3PO\"           \n",
       " \"Yoda\"            \n",
       " \"Darth Maul\"      \n",
       " \"Dooku\"           \n",
       " \"Chewbacca\"       \n",
       " \"Jabba\"           \n",
       " \"Lando Calrissian\"\n",
       " \"Boba Fett\"       \n",
       " \"Jango Fett\"      \n",
       " \"Grievous\"        \n",
       " \"Chief Chirpa\"    "
      ]
     },
     "execution_count": 16,
     "metadata": {},
     "output_type": "execute_result"
    }
   ],
   "source": [
    "csv_df[!, 1]"
   ]
  },
  {
   "cell_type": "code",
   "execution_count": 17,
   "metadata": {},
   "outputs": [
    {
     "data": {
      "text/plain": [
       "20-element CSV.Column{String,String}:\n",
       " \"Anakin Skywalker\"\n",
       " \"Padme Amidala\"   \n",
       " \"Luke Skywalker\"  \n",
       " \"Leia Skywalker\"  \n",
       " \"Qui-Gon Jinn\"    \n",
       " \"Obi-Wan Kenobi\"  \n",
       " \"Han Solo\"        \n",
       " \"Sheev Palpatine\" \n",
       " \"R2-D2\"           \n",
       " \"C-3PO\"           \n",
       " \"Yoda\"            \n",
       " \"Darth Maul\"      \n",
       " \"Dooku\"           \n",
       " \"Chewbacca\"       \n",
       " \"Jabba\"           \n",
       " \"Lando Calrissian\"\n",
       " \"Boba Fett\"       \n",
       " \"Jango Fett\"      \n",
       " \"Grievous\"        \n",
       " \"Chief Chirpa\"    "
      ]
     },
     "execution_count": 17,
     "metadata": {},
     "output_type": "execute_result"
    }
   ],
   "source": [
    "csv_df[!, :Name]"
   ]
  },
  {
   "cell_type": "code",
   "execution_count": 18,
   "metadata": {},
   "outputs": [
    {
     "data": {
      "text/plain": [
       "20-element CSV.Column{String,String}:\n",
       " \"Anakin Skywalker\"\n",
       " \"Padme Amidala\"   \n",
       " \"Luke Skywalker\"  \n",
       " \"Leia Skywalker\"  \n",
       " \"Qui-Gon Jinn\"    \n",
       " \"Obi-Wan Kenobi\"  \n",
       " \"Han Solo\"        \n",
       " \"Sheev Palpatine\" \n",
       " \"R2-D2\"           \n",
       " \"C-3PO\"           \n",
       " \"Yoda\"            \n",
       " \"Darth Maul\"      \n",
       " \"Dooku\"           \n",
       " \"Chewbacca\"       \n",
       " \"Jabba\"           \n",
       " \"Lando Calrissian\"\n",
       " \"Boba Fett\"       \n",
       " \"Jango Fett\"      \n",
       " \"Grievous\"        \n",
       " \"Chief Chirpa\"    "
      ]
     },
     "execution_count": 18,
     "metadata": {},
     "output_type": "execute_result"
    }
   ],
   "source": [
    "csv_df.Name"
   ]
  },
  {
   "cell_type": "code",
   "execution_count": 19,
   "metadata": {},
   "outputs": [
    {
     "data": {
      "text/plain": [
       "20-element WeakRefStrings.StringArray{String,1}:\n",
       " \"Anakin Skywalker\"\n",
       " \"Padme Amidala\"   \n",
       " \"Luke Skywalker\"  \n",
       " \"Leia Skywalker\"  \n",
       " \"Qui-Gon Jinn\"    \n",
       " \"Obi-Wan Kenobi\"  \n",
       " \"Han Solo\"        \n",
       " \"Sheev Palpatine\" \n",
       " \"R2-D2\"           \n",
       " \"C-3PO\"           \n",
       " \"Yoda\"            \n",
       " \"Darth Maul\"      \n",
       " \"Dooku\"           \n",
       " \"Chewbacca\"       \n",
       " \"Jabba\"           \n",
       " \"Lando Calrissian\"\n",
       " \"Boba Fett\"       \n",
       " \"Jango Fett\"      \n",
       " \"Grievous\"        \n",
       " \"Chief Chirpa\"    "
      ]
     },
     "execution_count": 19,
     "metadata": {},
     "output_type": "execute_result"
    }
   ],
   "source": [
    "csv_df[:, 1] # note that this creates a copy"
   ]
  },
  {
   "cell_type": "markdown",
   "metadata": {},
   "source": [
    "The following are different ways to access a row."
   ]
  },
  {
   "cell_type": "code",
   "execution_count": 20,
   "metadata": {},
   "outputs": [
    {
     "data": {
      "text/html": [
       "<table class=\"data-frame\"><thead><tr><th></th><th>Name</th><th>Gender</th><th>Height</th><th>Weight</th><th>Eyecolor</th><th>Haircolor</th><th>Skincolor</th><th>Homeland</th></tr><tr><th></th><th>String</th><th>String</th><th>Float64</th><th>String</th><th>String</th><th>String</th><th>String</th><th>String</th></tr></thead><tbody><p>1 rows × 13 columns (omitted printing of 5 columns)</p><tr><th>1</th><td>Anakin Skywalker</td><td>male</td><td>1.88</td><td>84</td><td>blue</td><td>blond</td><td>fair</td><td>Tatooine</td></tr></tbody></table>"
      ],
      "text/latex": [
       "\\begin{tabular}{r|ccccccccc}\n",
       "\t& Name & Gender & Height & Weight & Eyecolor & Haircolor & Skincolor & Homeland & \\\\\n",
       "\t\\hline\n",
       "\t& String & String & Float64 & String & String & String & String & String & \\\\\n",
       "\t\\hline\n",
       "\t1 & Anakin Skywalker & male & 1.88 & 84 & blue & blond & fair & Tatooine & $\\dots$ \\\\\n",
       "\\end{tabular}\n"
      ],
      "text/plain": [
       "1×13 DataFrame. Omitted printing of 7 columns\n",
       "│ Row │ Name             │ Gender │ Height  │ Weight │ Eyecolor │ Haircolor │\n",
       "│     │ \u001b[90mString\u001b[39m           │ \u001b[90mString\u001b[39m │ \u001b[90mFloat64\u001b[39m │ \u001b[90mString\u001b[39m │ \u001b[90mString\u001b[39m   │ \u001b[90mString\u001b[39m    │\n",
       "├─────┼──────────────────┼────────┼─────────┼────────┼──────────┼───────────┤\n",
       "│ 1   │ Anakin Skywalker │ male   │ 1.88    │ 84     │ blue     │ blond     │"
      ]
     },
     "execution_count": 20,
     "metadata": {},
     "output_type": "execute_result"
    }
   ],
   "source": [
    "csv_df[1:1, :]"
   ]
  },
  {
   "cell_type": "code",
   "execution_count": 21,
   "metadata": {},
   "outputs": [
    {
     "data": {
      "text/html": [
       "<p>DataFrameRow (13 columns)</p><table class=\"data-frame\"><thead><tr><th></th><th>Name</th><th>Gender</th><th>Height</th><th>Weight</th><th>Eyecolor</th><th>Haircolor</th><th>Skincolor</th><th>Homeland</th></tr><tr><th></th><th>String</th><th>String</th><th>Float64</th><th>String</th><th>String</th><th>String</th><th>String</th><th>String</th></tr></thead><tbody><tr><th>1</th><td>Anakin Skywalker</td><td>male</td><td>1.88</td><td>84</td><td>blue</td><td>blond</td><td>fair</td><td>Tatooine</td></tr></tbody></table>"
      ],
      "text/latex": [
       "\\begin{tabular}{r|ccccccccc}\n",
       "\t& Name & Gender & Height & Weight & Eyecolor & Haircolor & Skincolor & Homeland & \\\\\n",
       "\t\\hline\n",
       "\t& String & String & Float64 & String & String & String & String & String & \\\\\n",
       "\t\\hline\n",
       "\t1 & Anakin Skywalker & male & 1.88 & 84 & blue & blond & fair & Tatooine & $\\dots$ \\\\\n",
       "\\end{tabular}\n"
      ],
      "text/plain": [
       "DataFrameRow. Omitted printing of 7 columns\n",
       "│ Row │ Name             │ Gender │ Height  │ Weight │ Eyecolor │ Haircolor │\n",
       "│     │ \u001b[90mString\u001b[39m           │ \u001b[90mString\u001b[39m │ \u001b[90mFloat64\u001b[39m │ \u001b[90mString\u001b[39m │ \u001b[90mString\u001b[39m   │ \u001b[90mString\u001b[39m    │\n",
       "├─────┼──────────────────┼────────┼─────────┼────────┼──────────┼───────────┤\n",
       "│ 1   │ Anakin Skywalker │ male   │ 1.88    │ 84     │ blue     │ blond     │"
      ]
     },
     "execution_count": 21,
     "metadata": {},
     "output_type": "execute_result"
    }
   ],
   "source": [
    "csv_df[1, :] # this produces a DataFrameRow"
   ]
  },
  {
   "cell_type": "markdown",
   "metadata": {},
   "source": [
    "We can change the values just as we normally assign values."
   ]
  },
  {
   "cell_type": "markdown",
   "metadata": {},
   "source": [
    "Assign a range to scalar."
   ]
  },
  {
   "cell_type": "code",
   "execution_count": 22,
   "metadata": {},
   "outputs": [
    {
     "data": {
      "text/plain": [
       "3-element view(::Array{Any,1}, 1:3) with eltype Any:\n",
       " 1\n",
       " 1\n",
       " 1"
      ]
     },
     "execution_count": 22,
     "metadata": {},
     "output_type": "execute_result"
    }
   ],
   "source": [
    "excel_df[1:3, 5] .= 1"
   ]
  },
  {
   "cell_type": "markdown",
   "metadata": {},
   "source": [
    "Vector to equal length vector."
   ]
  },
  {
   "cell_type": "code",
   "execution_count": 23,
   "metadata": {},
   "outputs": [
    {
     "data": {
      "text/plain": [
       "3-element Array{Int64,1}:\n",
       " 4\n",
       " 5\n",
       " 6"
      ]
     },
     "execution_count": 23,
     "metadata": {},
     "output_type": "execute_result"
    }
   ],
   "source": [
    "excel_df[4:6, 5] = [4, 5, 6]"
   ]
  },
  {
   "cell_type": "markdown",
   "metadata": {},
   "source": [
    "Subset of the DataFrame to another data frame of matching size."
   ]
  },
  {
   "cell_type": "code",
   "execution_count": 24,
   "metadata": {},
   "outputs": [
    {
     "data": {
      "text/html": [
       "<table class=\"data-frame\"><thead><tr><th></th><th>Unit Cost</th><th>Total</th></tr><tr><th></th><th>Int64</th><th>Int64</th></tr></thead><tbody><p>2 rows × 2 columns</p><tr><th>1</th><td>-2</td><td>-2</td></tr><tr><th>2</th><td>-2</td><td>-2</td></tr></tbody></table>"
      ],
      "text/latex": [
       "\\begin{tabular}{r|cc}\n",
       "\t& Unit Cost & Total\\\\\n",
       "\t\\hline\n",
       "\t& Int64 & Int64\\\\\n",
       "\t\\hline\n",
       "\t1 & -2 & -2 \\\\\n",
       "\t2 & -2 & -2 \\\\\n",
       "\\end{tabular}\n"
      ],
      "text/plain": [
       "2×2 DataFrame\n",
       "│ Row │ Unit Cost │ Total │\n",
       "│     │ \u001b[90mInt64\u001b[39m     │ \u001b[90mInt64\u001b[39m │\n",
       "├─────┼───────────┼───────┤\n",
       "│ 1   │ -2        │ -2    │\n",
       "│ 2   │ -2        │ -2    │"
      ]
     },
     "execution_count": 24,
     "metadata": {},
     "output_type": "execute_result"
    }
   ],
   "source": [
    "excel_df[1:2, 6:7] =  DataFrame([-2 -2; -2 -2], [Symbol(\"Unit Cost\"), :Total])"
   ]
  },
  {
   "cell_type": "code",
   "execution_count": 25,
   "metadata": {},
   "outputs": [
    {
     "data": {
      "text/html": [
       "<table class=\"data-frame\"><thead><tr><th></th><th>OrderDate</th><th>Region</th><th>Rep</th><th>Item</th><th>Units</th><th>Unit Cost</th><th>Total</th></tr><tr><th></th><th>Any</th><th>Any</th><th>Any</th><th>Any</th><th>Any</th><th>Any</th><th>Any</th></tr></thead><tbody><p>18 rows × 7 columns</p><tr><th>1</th><td>2018-01-06</td><td>East</td><td>Jones</td><td>Pencil</td><td>1</td><td>-2</td><td>-2</td></tr><tr><th>2</th><td>2018-01-23</td><td>Central</td><td>Kivell</td><td>Binder</td><td>1</td><td>-2</td><td>-2</td></tr><tr><th>3</th><td>2018-02-09</td><td>Central</td><td>Jardine</td><td>Pencil</td><td>1</td><td>4.99</td><td>179.64</td></tr><tr><th>4</th><td>2018-02-26</td><td>Central</td><td>Gill</td><td>Pen</td><td>4</td><td>19.99</td><td>539.73</td></tr><tr><th>5</th><td>2018-03-15</td><td>West</td><td>Sorvino</td><td>Pencil</td><td>5</td><td>2.99</td><td>167.44</td></tr><tr><th>6</th><td>2018-06-08</td><td>East</td><td>Jones</td><td>Binder</td><td>6</td><td>8.99</td><td>539.4</td></tr><tr><th>7</th><td>2018-06-25</td><td>Central</td><td>Morgan</td><td>Pencil</td><td>90</td><td>4.99</td><td>449.1</td></tr><tr><th>8</th><td>2018-07-12</td><td>East</td><td>Howard</td><td>Binder</td><td>29</td><td>1.99</td><td>57.71</td></tr><tr><th>9</th><td>2019-07-21</td><td>Central</td><td>Morgan</td><td>Pen Set</td><td>55</td><td>12.49</td><td>686.95</td></tr><tr><th>10</th><td>2019-08-07</td><td>Central</td><td>Kivell</td><td>Pen Set</td><td>42</td><td>23.95</td><td>1005.9</td></tr><tr><th>11</th><td>2019-08-24</td><td>West</td><td>Sorvino</td><td>Desk</td><td>3</td><td>275.0</td><td>825.0</td></tr><tr><th>12</th><td>2019-09-10</td><td>Central</td><td>Gill</td><td>Pencil</td><td>7</td><td>1.29</td><td>9.03</td></tr><tr><th>13</th><td>2019-09-27</td><td>West</td><td>Sorvino</td><td>Pen</td><td>76</td><td>1.99</td><td>151.24</td></tr><tr><th>14</th><td>2019-10-14</td><td>West</td><td>Thompson</td><td>Binder</td><td>57</td><td>19.99</td><td>1139.43</td></tr><tr><th>15</th><td>2019-10-31</td><td>Central</td><td>Andrews</td><td>Pencil</td><td>14</td><td>1.29</td><td>18.06</td></tr><tr><th>16</th><td>2019-11-17</td><td>Central</td><td>Jardine</td><td>Binder</td><td>11</td><td>4.99</td><td>54.89</td></tr><tr><th>17</th><td>2019-12-04</td><td>Central</td><td>Jardine</td><td>Binder</td><td>94</td><td>19.99</td><td>1879.06</td></tr><tr><th>18</th><td>2019-12-21</td><td>Central</td><td>Andrews</td><td>Binder</td><td>28</td><td>4.99</td><td>139.72</td></tr></tbody></table>"
      ],
      "text/latex": [
       "\\begin{tabular}{r|ccccccc}\n",
       "\t& OrderDate & Region & Rep & Item & Units & Unit Cost & Total\\\\\n",
       "\t\\hline\n",
       "\t& Any & Any & Any & Any & Any & Any & Any\\\\\n",
       "\t\\hline\n",
       "\t1 & 2018-01-06 & East & Jones & Pencil & 1 & -2 & -2 \\\\\n",
       "\t2 & 2018-01-23 & Central & Kivell & Binder & 1 & -2 & -2 \\\\\n",
       "\t3 & 2018-02-09 & Central & Jardine & Pencil & 1 & 4.99 & 179.64 \\\\\n",
       "\t4 & 2018-02-26 & Central & Gill & Pen & 4 & 19.99 & 539.73 \\\\\n",
       "\t5 & 2018-03-15 & West & Sorvino & Pencil & 5 & 2.99 & 167.44 \\\\\n",
       "\t6 & 2018-06-08 & East & Jones & Binder & 6 & 8.99 & 539.4 \\\\\n",
       "\t7 & 2018-06-25 & Central & Morgan & Pencil & 90 & 4.99 & 449.1 \\\\\n",
       "\t8 & 2018-07-12 & East & Howard & Binder & 29 & 1.99 & 57.71 \\\\\n",
       "\t9 & 2019-07-21 & Central & Morgan & Pen Set & 55 & 12.49 & 686.95 \\\\\n",
       "\t10 & 2019-08-07 & Central & Kivell & Pen Set & 42 & 23.95 & 1005.9 \\\\\n",
       "\t11 & 2019-08-24 & West & Sorvino & Desk & 3 & 275.0 & 825.0 \\\\\n",
       "\t12 & 2019-09-10 & Central & Gill & Pencil & 7 & 1.29 & 9.03 \\\\\n",
       "\t13 & 2019-09-27 & West & Sorvino & Pen & 76 & 1.99 & 151.24 \\\\\n",
       "\t14 & 2019-10-14 & West & Thompson & Binder & 57 & 19.99 & 1139.43 \\\\\n",
       "\t15 & 2019-10-31 & Central & Andrews & Pencil & 14 & 1.29 & 18.06 \\\\\n",
       "\t16 & 2019-11-17 & Central & Jardine & Binder & 11 & 4.99 & 54.89 \\\\\n",
       "\t17 & 2019-12-04 & Central & Jardine & Binder & 94 & 19.99 & 1879.06 \\\\\n",
       "\t18 & 2019-12-21 & Central & Andrews & Binder & 28 & 4.99 & 139.72 \\\\\n",
       "\\end{tabular}\n"
      ],
      "text/plain": [
       "18×7 DataFrame. Omitted printing of 1 columns\n",
       "│ Row │ OrderDate  │ Region  │ Rep      │ Item    │ Units │ Unit Cost │\n",
       "│     │ \u001b[90mAny\u001b[39m        │ \u001b[90mAny\u001b[39m     │ \u001b[90mAny\u001b[39m      │ \u001b[90mAny\u001b[39m     │ \u001b[90mAny\u001b[39m   │ \u001b[90mAny\u001b[39m       │\n",
       "├─────┼────────────┼─────────┼──────────┼─────────┼───────┼───────────┤\n",
       "│ 1   │ 2018-01-06 │ East    │ Jones    │ Pencil  │ 1     │ -2        │\n",
       "│ 2   │ 2018-01-23 │ Central │ Kivell   │ Binder  │ 1     │ -2        │\n",
       "│ 3   │ 2018-02-09 │ Central │ Jardine  │ Pencil  │ 1     │ 4.99      │\n",
       "│ 4   │ 2018-02-26 │ Central │ Gill     │ Pen     │ 4     │ 19.99     │\n",
       "│ 5   │ 2018-03-15 │ West    │ Sorvino  │ Pencil  │ 5     │ 2.99      │\n",
       "│ 6   │ 2018-06-08 │ East    │ Jones    │ Binder  │ 6     │ 8.99      │\n",
       "│ 7   │ 2018-06-25 │ Central │ Morgan   │ Pencil  │ 90    │ 4.99      │\n",
       "│ 8   │ 2018-07-12 │ East    │ Howard   │ Binder  │ 29    │ 1.99      │\n",
       "│ 9   │ 2019-07-21 │ Central │ Morgan   │ Pen Set │ 55    │ 12.49     │\n",
       "│ 10  │ 2019-08-07 │ Central │ Kivell   │ Pen Set │ 42    │ 23.95     │\n",
       "│ 11  │ 2019-08-24 │ West    │ Sorvino  │ Desk    │ 3     │ 275.0     │\n",
       "│ 12  │ 2019-09-10 │ Central │ Gill     │ Pencil  │ 7     │ 1.29      │\n",
       "│ 13  │ 2019-09-27 │ West    │ Sorvino  │ Pen     │ 76    │ 1.99      │\n",
       "│ 14  │ 2019-10-14 │ West    │ Thompson │ Binder  │ 57    │ 19.99     │\n",
       "│ 15  │ 2019-10-31 │ Central │ Andrews  │ Pencil  │ 14    │ 1.29      │\n",
       "│ 16  │ 2019-11-17 │ Central │ Jardine  │ Binder  │ 11    │ 4.99      │\n",
       "│ 17  │ 2019-12-04 │ Central │ Jardine  │ Binder  │ 94    │ 19.99     │\n",
       "│ 18  │ 2019-12-21 │ Central │ Andrews  │ Binder  │ 28    │ 4.99      │"
      ]
     },
     "execution_count": 25,
     "metadata": {},
     "output_type": "execute_result"
    }
   ],
   "source": [
    "excel_df"
   ]
  },
  {
   "cell_type": "markdown",
   "metadata": {},
   "source": [
    "There are a lot more things which can be done with a DataFrame. \n",
    "See the [docs](https://juliadata.github.io/DataFrames.jl/stable/) for more information."
   ]
  },
  {
   "cell_type": "markdown",
   "metadata": {},
   "source": [
    "## A Complete Modelling Example - Passport Problem"
   ]
  },
  {
   "cell_type": "markdown",
   "metadata": {},
   "source": [
    "Let's now apply what we have learnt to solve a real modelling problem."
   ]
  },
  {
   "cell_type": "markdown",
   "metadata": {},
   "source": [
    "The [Passport Index Dataset](https://github.com/ilyankou/passport-index-dataset) \n",
    "lists travel visa requirements for 199 countries, in .csv format.\n",
    "Our task is to find out the minimum number of passports required to visit all countries."
   ]
  },
  {
   "cell_type": "markdown",
   "metadata": {},
   "source": [
    "In this dataset, the first column represents a passport (=from) and each remaining column represents a foreign country (=to). \n",
    "The values in each cell are as follows:\n",
    "* 3 = visa-free travel\n",
    "* 2 = eTA is required\n",
    "* 1 = visa can be obtained on arrival\n",
    "* 0 = visa is required\n",
    "* -1 is for all instances where passport and destination are the same"
   ]
  },
  {
   "cell_type": "markdown",
   "metadata": {},
   "source": [
    "Our task is to find out the minimum number of passports needed to visit every country without requiring a visa.\n",
    "Thus, the values we are interested in are -1 and 3. Let us modify the data in the following manner -"
   ]
  },
  {
   "cell_type": "code",
   "execution_count": 26,
   "metadata": {},
   "outputs": [],
   "source": [
    "passportdata = CSV.read(joinpath(data_dir, \"passport-index-matrix.csv\"), copycols = true)\n",
    "\n",
    "for i in 1:nrow(passportdata)\n",
    "    for j in 2:ncol(passportdata)\n",
    "        if passportdata[i,j] == -1 || passportdata[i,j] == 3\n",
    "            passportdata[i,j] = 1\n",
    "        else\n",
    "            passportdata[i,j] = 0\n",
    "        end\n",
    "    end\n",
    "end"
   ]
  },
  {
   "cell_type": "markdown",
   "metadata": {},
   "source": [
    "The values in the cells now represent:\n",
    "* 1 = no visa required for travel\n",
    "* 0 = visa required for travel"
   ]
  },
  {
   "cell_type": "markdown",
   "metadata": {},
   "source": [
    "Let us assossciate each passport with a decision variable $pass_{cntr}$ for each country. \n",
    "We want to minize the sum $\\sum pass_{cntr}$ over all countries."
   ]
  },
  {
   "cell_type": "markdown",
   "metadata": {},
   "source": [
    "Since we wish to visit all the countries, for every country, \n",
    "we should own atleast one passport that lets us travel to that country visa free. \n",
    "For one destination, this can be mathematically represented as $\\sum_{cntr \\in world} passportdata_{cntr,dest} \\cdot pass_{cntr} \\geq 1$."
   ]
  },
  {
   "cell_type": "markdown",
   "metadata": {},
   "source": [
    "Thus, we can represent this problem using the following model:"
   ]
  },
  {
   "cell_type": "markdown",
   "metadata": {},
   "source": [
    "$$\n",
    "\\begin{align*}\n",
    "\\min && \\sum_{cntr \\in World} pass_{cntr} \\\\\n",
    "\\text{s.t.} && \\sum_{cntr \\in World} passportdata_{cntr,dest} \\cdot pass_{cntr} \\geq 1 && \\forall dest \\in World \\\\\n",
    "&& pass_{cntr} \\in \\{0,1\\} && \\forall cntr \\in World\n",
    "\\end{align*}\n",
    "$$"
   ]
  },
  {
   "cell_type": "markdown",
   "metadata": {},
   "source": [
    "We'll now solve the problem using JuMP."
   ]
  },
  {
   "cell_type": "code",
   "execution_count": 27,
   "metadata": {},
   "outputs": [
    {
     "name": "stdout",
     "output_type": "stream",
     "text": [
      "Minimum number of passports needed: 23.0\n"
     ]
    }
   ],
   "source": [
    "using JuMP, GLPK\n",
    "\n",
    "# Finding number of countries\n",
    "n = ncol(passportdata) - 1 # Subtract 1 for column representing country of passport\n",
    "\n",
    "model = Model(GLPK.Optimizer)\n",
    "@variable(model, pass[1:n], Bin)\n",
    "@constraint(model, [j = 2:n], sum(passportdata[i,j] * pass[i] for i in 1:n) >= 1)\n",
    "@objective(model, Min, sum(pass))\n",
    "optimize!(model)\n",
    "\n",
    "println(\"Minimum number of passports needed: \", objective_value(model))"
   ]
  },
  {
   "cell_type": "code",
   "execution_count": 28,
   "metadata": {},
   "outputs": [
    {
     "name": "stdout",
     "output_type": "stream",
     "text": [
      "Countries: Afghanistan Angola Australia Austria Comoros Congo Eritrea Gambia Georgia Hong Kong India Iraq Kenya Madagascar Maldives North Korea Papua New Guinea Singapore Somalia Sri Lanka Tunisia United Arab Emirates United States "
     ]
    }
   ],
   "source": [
    "countryindex = findall(value.(pass) .== 1 )\n",
    "\n",
    "print(\"Countries: \")\n",
    "for i in countryindex\n",
    "    print(names(passportdata)[i+1], \" \")\n",
    "end"
   ]
  }
 ],
 "metadata": {
  "kernelspec": {
   "display_name": "Julia 1.0.5",
   "language": "julia",
   "name": "julia-1.0"
  },
  "language_info": {
   "file_extension": ".jl",
   "mimetype": "application/julia",
   "name": "julia",
   "version": "1.0.5"
  }
 },
 "nbformat": 4,
 "nbformat_minor": 2
}
