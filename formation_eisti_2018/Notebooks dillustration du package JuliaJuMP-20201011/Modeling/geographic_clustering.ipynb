{
 "cells": [
  {
   "cell_type": "markdown",
   "metadata": {},
   "source": [
    "# Geographical Clustering With Additional Constraint"
   ]
  },
  {
   "cell_type": "markdown",
   "metadata": {},
   "source": [
    "**Originally Contributed by**: Matthew Helm ([with help from Mathieu Tanneau on Julia Discourse](https://discourse.julialang.org/t/which-jump-jl-solver-for-this-problem/43350/17?u=mthelm85))"
   ]
  },
  {
   "cell_type": "markdown",
   "metadata": {},
   "source": [
    "The goal of this exercise is to cluster $n$ cities into $k$ groups, minimizing the total pairwise distance between cities \n",
    "*and* ensuring that the variance in the total populations of each group is relatively small."
   ]
  },
  {
   "cell_type": "markdown",
   "metadata": {},
   "source": [
    "For this example, we'll use the 20 most populous cities in the United States."
   ]
  },
  {
   "cell_type": "code",
   "execution_count": 1,
   "metadata": {},
   "outputs": [
    {
     "name": "stderr",
     "output_type": "stream",
     "text": [
      "┌ Info: Recompiling stale cache file /home/mbesancon/.julia/compiled/v1.0/Cbc/ARPfV.ji for Cbc [9961bab8-2fa3-5c5a-9d89-47fab24efd76]\n",
      "└ @ Base loading.jl:1190\n",
      "ERROR: LoadError: Cbc not properly installed. Please run import `Pkg; Pkg.build(\"Cbc\")`.\n",
      "Stacktrace:\n",
      " [1] error(::String) at ./error.jl:33\n",
      " [2] top-level scope at /home/mbesancon/.julia/packages/Cbc/f5sSt/src/Cbc.jl:9\n",
      " [3] include at ./boot.jl:317 [inlined]\n",
      " [4] include_relative(::Module, ::String) at ./loading.jl:1044\n",
      " [5] include(::Module, ::String) at ./sysimg.jl:29\n",
      " [6] top-level scope at none:2\n",
      " [7] eval at ./boot.jl:319 [inlined]\n",
      " [8] eval(::Expr) at ./client.jl:393\n",
      " [9] top-level scope at ./none:3\n",
      "in expression starting at /home/mbesancon/.julia/packages/Cbc/f5sSt/src/Cbc.jl:3\n"
     ]
    },
    {
     "ename": "ErrorException",
     "evalue": "Failed to precompile Cbc [9961bab8-2fa3-5c5a-9d89-47fab24efd76] to /home/mbesancon/.julia/compiled/v1.0/Cbc/ARPfV.ji.",
     "output_type": "error",
     "traceback": [
      "Failed to precompile Cbc [9961bab8-2fa3-5c5a-9d89-47fab24efd76] to /home/mbesancon/.julia/compiled/v1.0/Cbc/ARPfV.ji.",
      "",
      "Stacktrace:",
      " [1] error(::String) at ./error.jl:33",
      " [2] compilecache(::Base.PkgId, ::String) at ./loading.jl:1203",
      " [3] _require(::Base.PkgId) at ./loading.jl:960",
      " [4] require(::Base.PkgId) at ./loading.jl:858",
      " [5] require(::Module, ::Symbol) at ./loading.jl:853",
      " [6] top-level scope at In[1]:1"
     ]
    }
   ],
   "source": [
    "using Cbc\n",
    "using DataFrames\n",
    "using Distances\n",
    "using JuMP\n",
    "using LinearAlgebra\n",
    "\n",
    "cities = DataFrame(\n",
    "    city=[ \"New York, NY\", \"Los Angeles, CA\", \"Chicago, IL\", \"Houston, TX\", \"Philadelphia, PA\", \"Phoenix, AZ\", \"San Antonio, TX\", \"San Diego, CA\", \"Dallas, TX\", \"San Jose, CA\", \"Austin, TX\", \"Indianapolis, IN\", \"Jacksonville, FL\", \"San Francisco, CA\", \"Columbus, OH\", \"Charlotte, NC\", \"Fort Worth, TX\", \"Detroit, MI\", \"El Paso, TX\", \"Memphis, TN\"],\n",
    "    population=[8405837,3884307,2718782,2195914,1553165,1513367,1409019,1355896,1257676,998537,885400,843393,842583,837442,822553,792862,792727,688701,674433,653450],\n",
    "    lat=[40.7127,34.0522,41.8781,29.7604,39.9525,33.4483,29.4241,32.7157,32.7766,37.3382,30.2671,39.7684,30.3321,37.7749,39.9611,35.2270,32.7554,42.3314,31.7775,35.1495],\n",
    "    lon=[-74.0059,-118.2436,-87.6297,-95.3698,-75.1652,-112.0740,-98.4936,-117.1610,-96.7969,-121.8863,-97.7430,-86.1580,-81.6556,-122.4194,-82.9987,-80.8431,-97.3307,-83.0457,-106.4424,-90.0489])"
   ]
  },
  {
   "cell_type": "markdown",
   "metadata": {},
   "source": [
    "### Model Specifics"
   ]
  },
  {
   "cell_type": "markdown",
   "metadata": {},
   "source": [
    "We will cluster these 20 cities into 3 different groups and we will assume that the ideal or target population $P$ for a\n",
    "group is simply the total population of the 20 cities divided by 3:"
   ]
  },
  {
   "cell_type": "code",
   "execution_count": 2,
   "metadata": {},
   "outputs": [
    {
     "ename": "UndefVarError",
     "evalue": "UndefVarError: cities not defined",
     "output_type": "error",
     "traceback": [
      "UndefVarError: cities not defined",
      "",
      "Stacktrace:",
      " [1] top-level scope at In[2]:1"
     ]
    }
   ],
   "source": [
    "n = size(cities,1)\n",
    "k = 3\n",
    "P = sum(cities.population) / k"
   ]
  },
  {
   "cell_type": "markdown",
   "metadata": {},
   "source": [
    "### Obtaining the distances between each city"
   ]
  },
  {
   "cell_type": "markdown",
   "metadata": {},
   "source": [
    "Let's leverage the *Distances.jl* package to compute the pairwise Haversine distance between each of the cities in our data\n",
    "set and store the result in a variable we'll call `dm`:"
   ]
  },
  {
   "cell_type": "code",
   "execution_count": 3,
   "metadata": {},
   "outputs": [
    {
     "ename": "UndefVarError",
     "evalue": "UndefVarError: Haversine not defined",
     "output_type": "error",
     "traceback": [
      "UndefVarError: Haversine not defined",
      "",
      "Stacktrace:",
      " [1] top-level scope at In[3]:1"
     ]
    }
   ],
   "source": [
    "dm = Distances.pairwise(Haversine(6372.8), Matrix(cities[:, [3,4]])', dims=2)"
   ]
  },
  {
   "cell_type": "markdown",
   "metadata": {},
   "source": [
    "Our distance matrix is symmetric so we'll convert it to a `LowerTriangular` matrix so that we can better interpret the\n",
    "objective value of our model (if we don't do this the total distance will be doubled):"
   ]
  },
  {
   "cell_type": "code",
   "execution_count": 4,
   "metadata": {},
   "outputs": [
    {
     "ename": "UndefVarError",
     "evalue": "UndefVarError: LowerTriangular not defined",
     "output_type": "error",
     "traceback": [
      "UndefVarError: LowerTriangular not defined",
      "",
      "Stacktrace:",
      " [1] top-level scope at In[4]:1"
     ]
    }
   ],
   "source": [
    "dm = LowerTriangular(dm)"
   ]
  },
  {
   "cell_type": "markdown",
   "metadata": {},
   "source": [
    "### Build the model\n",
    "Now that we have the basics taken  care of, we can set up our model, create decision variables, add constraints, and then\n",
    "solve."
   ]
  },
  {
   "cell_type": "markdown",
   "metadata": {},
   "source": [
    "First, we'll set up a model that leverages the [Cbc](https://github.com/coin-or/Cbc) solver. Next, we'll set up a binary\n",
    "variable $x_{i,k}$ that takes the value $1$ if city $i$ is in group $k$ and $0$ otherwise. Each city must be in a group, so\n",
    "we'll add the constraint $\\sum_kx_{i,k} = 1$ for every $i$."
   ]
  },
  {
   "cell_type": "code",
   "execution_count": 5,
   "metadata": {},
   "outputs": [
    {
     "ename": "UndefVarError",
     "evalue": "UndefVarError: Cbc not defined",
     "output_type": "error",
     "traceback": [
      "UndefVarError: Cbc not defined",
      "",
      "Stacktrace:",
      " [1] top-level scope at In[5]:1"
     ]
    }
   ],
   "source": [
    "model = Model(Cbc.Optimizer)\n",
    "\n",
    "@variable(model, x[1:n, 1:k], Bin)\n",
    "\n",
    "for i in 1:n\n",
    "    @constraint(model, sum(x[i,:]) == 1)\n",
    "end"
   ]
  },
  {
   "cell_type": "markdown",
   "metadata": {},
   "source": [
    "The total population of a group $k$ is $Q_k = \\sum_ix_{i,k}q_i$ where $q_i$ is simply the $i$th value from the `population`\n",
    "column in our `cities` DataFrame. Let's add constraints so that $\\alpha \\leq (Q_k - P) \\leq \\beta$. We'll set $\\alpha$\n",
    "equal to -2,500,000 and $\\beta$ equal to 2,500,000. By adjusting these thresholds you'll find that there is a tradeoff\n",
    "between having relatively even populations between groups and having geographically close cities within each group. In\n",
    "other words, the larger the absolute values of $\\alpha$ and $\\beta$, the closer together the cities in a group will be but\n",
    "the variance between the group populations will be higher."
   ]
  },
  {
   "cell_type": "code",
   "execution_count": 6,
   "metadata": {},
   "outputs": [
    {
     "ename": "LoadError",
     "evalue": "UndefVarError: @constraint not defined",
     "output_type": "error",
     "traceback": [
      "UndefVarError: @constraint not defined",
      ""
     ]
    }
   ],
   "source": [
    "α = -2_500_000\n",
    "β = 2_500_000\n",
    "\n",
    "for i in 1:k\n",
    "    @constraint(model, (x' * cities.population)[i] - P <= β)\n",
    "    @constraint(model, (x' * cities.population)[i] - P >= α)\n",
    "end"
   ]
  },
  {
   "cell_type": "markdown",
   "metadata": {},
   "source": [
    "Now we need to add one last binary variable $z_{i,j}$ to our model that we'll use to compute the total distance between the \n",
    "cities in our groups, defined as  $\\sum_{i,j}d_{i,j}z_{i,j}$. Variable $z_{i,j}$ will equal $1$ if cities $i$ and $j$ are \n",
    "in the same group, and $0$ if they are not in the same group."
   ]
  },
  {
   "cell_type": "markdown",
   "metadata": {},
   "source": [
    "To ensure that $z_{i,j} = 1$ if and only if cities $i$ and $j$ are in the same group, we add the constraints $z_{i,j} \\geq \n",
    "x_{i,k} + x_{j,k} - 1$ for every pair $i,j$ and every $k$:"
   ]
  },
  {
   "cell_type": "code",
   "execution_count": 7,
   "metadata": {},
   "outputs": [
    {
     "ename": "LoadError",
     "evalue": "UndefVarError: @variable not defined",
     "output_type": "error",
     "traceback": [
      "UndefVarError: @variable not defined",
      ""
     ]
    }
   ],
   "source": [
    "@variable(model, z[1:n,1:n], Bin)\n",
    "\n",
    "for k in 1:k, i in 1:n, j in 1:n\n",
    "    @constraint(model, z[i,j] >= x[i,k] + x[j,k] - 1)\n",
    "end"
   ]
  },
  {
   "cell_type": "markdown",
   "metadata": {},
   "source": [
    "We can now add an objective to our model which will simply be to minimize the dot product of $z$ and our distance matrix,\n",
    "`dm`. We can then call `optimize!` and review the results."
   ]
  },
  {
   "cell_type": "code",
   "execution_count": 8,
   "metadata": {},
   "outputs": [
    {
     "ename": "LoadError",
     "evalue": "UndefVarError: @objective not defined",
     "output_type": "error",
     "traceback": [
      "UndefVarError: @objective not defined",
      ""
     ]
    }
   ],
   "source": [
    "@objective(model, Min, dot(z,dm));\n",
    "\n",
    "optimize!(model)"
   ]
  },
  {
   "cell_type": "markdown",
   "metadata": {},
   "source": [
    "### Reviewing the Results"
   ]
  },
  {
   "cell_type": "markdown",
   "metadata": {},
   "source": [
    "Now that we have results, we can add a column to our `cities` DataFrame for the group and then loop through our $x$\n",
    "variable to assign each city to its group. Once we have that, we can look at the total population for each group and also\n",
    "plot the cities and their groups to verify visually that they are grouped by geographic proximity."
   ]
  },
  {
   "cell_type": "code",
   "execution_count": 9,
   "metadata": {},
   "outputs": [
    {
     "ename": "UndefVarError",
     "evalue": "UndefVarError: n not defined",
     "output_type": "error",
     "traceback": [
      "UndefVarError: n not defined",
      "",
      "Stacktrace:",
      " [1] top-level scope at In[9]:1"
     ]
    }
   ],
   "source": [
    "cities.group = zeros(n)\n",
    "\n",
    "for i in 1:n, j in 1:k\n",
    "    if round(value.(x)[i,j]) == 1.0\n",
    "        cities.group[i] = j\n",
    "    end\n",
    "end\n",
    "\n",
    "for group in groupby(cities, :group)\n",
    "    @show group\n",
    "    println(\"\")\n",
    "    @show sum(group.population)\n",
    "    println(\"\")\n",
    "end"
   ]
  },
  {
   "cell_type": "markdown",
   "metadata": {},
   "source": [
    "The populations of each group are fairly even and we can see from the plot below that the groupings look good in terms of\n",
    "geographic proximity:"
   ]
  },
  {
   "cell_type": "markdown",
   "metadata": {},
   "source": [
    "<img src=\"img/geo_clusters.png\" style=\"width: auto; height: auto\" alt=\"Geographic Clusters\">"
   ]
  },
  {
   "cell_type": "code",
   "execution_count": null,
   "metadata": {},
   "outputs": [],
   "source": []
  }
 ],
 "metadata": {
  "kernelspec": {
   "display_name": "Julia 1.0.5",
   "language": "julia",
   "name": "julia-1.0"
  },
  "language_info": {
   "file_extension": ".jl",
   "mimetype": "application/julia",
   "name": "julia",
   "version": "1.0.5"
  }
 },
 "nbformat": 4,
 "nbformat_minor": 2
}
