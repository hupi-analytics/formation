{
 "cells": [
  {
   "cell_type": "markdown",
   "metadata": {},
   "source": [
    "# Benders Decomposition"
   ]
  },
  {
   "cell_type": "markdown",
   "metadata": {},
   "source": [
    "**Originally Contributed by**: Mathieu Besançon"
   ]
  },
  {
   "cell_type": "markdown",
   "metadata": {},
   "source": [
    "This notebook describes how to implement the Benders decomposition in JuMP using lazy constraints.\n",
    "We keep the same notation and problem form as the first notebook *Benders decomposition*."
   ]
  },
  {
   "cell_type": "markdown",
   "metadata": {},
   "source": [
    "\\begin{align*}\n",
    "& \\text{maximize} \\quad &&c_1^T x+c_2^T v \\\\\n",
    "& \\text{subject to} \\quad &&A_1 x+ A_2 v \\preceq b \\\\\n",
    "& &&x \\succeq 0, x \\in \\mathbb{Z}^n \\\\\n",
    "& &&v \\succeq 0, v \\in \\mathbb{R}^p \\\\\n",
    "\\end{align*}"
   ]
  },
  {
   "cell_type": "markdown",
   "metadata": {},
   "source": [
    "where $b \\in \\mathbb{R}^m$, $A_1 \\in \\mathbb{R}^{m \\times n}$, $A_2 \\in \\mathbb{R}^{m \\times p}$ and\n",
    "\\mathbb{Z} is the set of integers. \n",
    "Here the symbol $\\succeq$ ($\\preceq$) stands for element-wise greater (less) than or equal to. \n",
    "Any mixed integer programming problem can be written in the form above."
   ]
  },
  {
   "cell_type": "markdown",
   "metadata": {},
   "source": [
    "For a detailed explanation on the Benders decomposition algorithm, see the introduction notebook."
   ]
  },
  {
   "cell_type": "markdown",
   "metadata": {},
   "source": [
    "### Lazy constraints"
   ]
  },
  {
   "cell_type": "markdown",
   "metadata": {},
   "source": [
    "Some optimization solvers allow users to interact with them during the solution process\n",
    "by providing user-defined functions which are triggered under certain conditions.\n",
    "The generic term for these functions is **callback**.\n",
    "In integer optimization, the main callback types are lazy constraints, user cuts and heuristic solutions.\n",
    "See the [JuMP documentation](https://www.juliaopt.org/JuMP.jl/stable/callbacks/) for an introduction on how to use them.\n",
    "Some callbacks define a new constraint which is only activated when necessary, i.e.\n",
    "when a current solution does not respect them. It can avoid building an optimization model\n",
    "with too many constraints up-front.\n",
    "This is the case for Benders decomposition, since the sub-problem defines an exponential number of primal vertices\n",
    "and therefore dual cuts.\n",
    "\n",
    "A detailed explanation on the distinction between user cuts and lazy constraints is also available on\n",
    "[Paul Rubin's blog](https://orinanobworld.blogspot.com/2012/08/user-cuts-versus-lazy-constraints.html)."
   ]
  },
  {
   "cell_type": "markdown",
   "metadata": {},
   "source": [
    "We use the data from the original notebook and change the solution algorithm to leverage lazy constraints:"
   ]
  },
  {
   "cell_type": "markdown",
   "metadata": {},
   "source": [
    "**Step 1 (Initialization)** \n",
    "**Step 2 (defining the subproblem model)**\n",
    "**Step 3 (registering the lazy constraint of the subproblem)**"
   ]
  },
  {
   "cell_type": "markdown",
   "metadata": {},
   "source": [
    "### Data for the problem"
   ]
  },
  {
   "cell_type": "markdown",
   "metadata": {},
   "source": [
    "The input data is from page 139, Integer programming by Garfinkel and Nemhauser[[1]](#c1)."
   ]
  },
  {
   "cell_type": "code",
   "execution_count": 1,
   "metadata": {},
   "outputs": [],
   "source": [
    "c1 = [-1; -4]\n",
    "c2 = [-2; -3]\n",
    "\n",
    "dim_x = length(c1)\n",
    "dim_u = length(c2)\n",
    "\n",
    "b = [-2; -3]\n",
    "\n",
    "A1 = [1 -3;\n",
    "     -1 -3]\n",
    "A2 = [1 -2;\n",
    "     -1 -1]\n",
    "\n",
    "M = 1000;"
   ]
  },
  {
   "cell_type": "markdown",
   "metadata": {},
   "source": [
    "[Paul Rubin's blog on Benders Decomposition](http://orinanobworld.blogspot.ca/2011/10/benders-decomposition-then-and-now.html)."
   ]
  },
  {
   "cell_type": "code",
   "execution_count": 7,
   "metadata": {},
   "outputs": [],
   "source": [
    "# Loading the necessary packages\n",
    "#-------------------------------\n",
    "using JuMP \n",
    "using Clp\n",
    "using Cbc\n",
    "using LinearAlgebra\n",
    "using Test"
   ]
  },
  {
   "cell_type": "markdown",
   "metadata": {},
   "source": [
    "Subproblem creation"
   ]
  },
  {
   "cell_type": "code",
   "execution_count": 8,
   "metadata": {},
   "outputs": [
    {
     "name": "stdout",
     "output_type": "stream",
     "text": [
      "Max t\n",
      "Subject to\n",
      " x[1] ≥ 0.0\n",
      " x[2] ≥ 0.0\n",
      " x[1] ≤ 1.0e6\n",
      " x[2] ≤ 1.0e6\n",
      " t ≤ 1.0e6\n",
      " x[1] integer\n",
      " x[2] integer\n"
     ]
    }
   ],
   "source": [
    "function build_subproblem()\n",
    "    sub_problem_model = Model(Clp.Optimizer)\n",
    "    @variable(sub_problem_model, u[1:dim_u] >= 0)\n",
    "    @constraint(sub_problem_model, constr_ref_subproblem[j = 1:size(A2, 2)], dot(A2[:, j], u) >= c2[j])\n",
    "    return (sub_problem_model, u)\n",
    "end\n",
    "\n",
    "# Master Problem Description\n",
    "# --------------------------\n",
    "\n",
    "master_problem_model = Model(Cbc.Optimizer)\n",
    "(sub_problem_model, u) = build_subproblem()\n",
    "\n",
    "# Variable Definition \n",
    "# ----------------------------------------------------------------\n",
    "@variable(master_problem_model, 0 <= x[1:dim_x] <= 1e6, Int) \n",
    "@variable(master_problem_model, t <= 1e6)\n",
    "\n",
    "# Objective Setting\n",
    "# -----------------\n",
    "@objective(master_problem_model, Max, t)\n",
    "\n",
    "print(master_problem_model)"
   ]
  },
  {
   "cell_type": "markdown",
   "metadata": {},
   "source": [
    "Track the calls to the callback"
   ]
  },
  {
   "cell_type": "code",
   "execution_count": 9,
   "metadata": {},
   "outputs": [
    {
     "data": {
      "text/plain": [
       "0"
      ]
     },
     "execution_count": 9,
     "metadata": {},
     "output_type": "execute_result"
    }
   ],
   "source": [
    "iter_num = 0"
   ]
  },
  {
   "cell_type": "markdown",
   "metadata": {},
   "source": [
    "Define lazy constraints"
   ]
  },
  {
   "cell_type": "code",
   "execution_count": 10,
   "metadata": {},
   "outputs": [
    {
     "ename": "LoadError",
     "evalue": "MathOptInterface.UnsupportedAttribute{MathOptInterface.LazyConstraintCallback}: Attribute MathOptInterface.LazyConstraintCallback() is not supported by the model.",
     "output_type": "error",
     "traceback": [
      "MathOptInterface.UnsupportedAttribute{MathOptInterface.LazyConstraintCallback}: Attribute MathOptInterface.LazyConstraintCallback() is not supported by the model.",
      "",
      "Stacktrace:",
      " [1] throw_set_error_fallback(::Cbc.Optimizer, ::MathOptInterface.LazyConstraintCallback, ::Function; error_if_supported::MathOptInterface.SetAttributeNotAllowed{MathOptInterface.LazyConstraintCallback}) at /Users/jeremy/.julia/packages/MathOptInterface/k7UUH/src/attributes.jl:387",
      " [2] throw_set_error_fallback(::Cbc.Optimizer, ::MathOptInterface.LazyConstraintCallback, ::Function) at /Users/jeremy/.julia/packages/MathOptInterface/k7UUH/src/attributes.jl:384",
      " [3] set(::Cbc.Optimizer, ::MathOptInterface.LazyConstraintCallback, ::Function) at /Users/jeremy/.julia/packages/MathOptInterface/k7UUH/src/attributes.jl:373",
      " [4] copy_to(::Cbc.Optimizer, ::MathOptInterface.Utilities.UniversalFallback{MathOptInterface.Utilities.Model{Float64}}; copy_names::Bool) at /Users/jeremy/.julia/packages/Cbc/8ANWi/src/MOI_wrapper/MOI_wrapper.jl:630",
      " [5] attach_optimizer(::MathOptInterface.Utilities.CachingOptimizer{Cbc.Optimizer,MathOptInterface.Utilities.UniversalFallback{MathOptInterface.Utilities.Model{Float64}}}) at /Users/jeremy/.julia/packages/MathOptInterface/k7UUH/src/Utilities/cachingoptimizer.jl:150",
      " [6] optimize!(::MathOptInterface.Utilities.CachingOptimizer{Cbc.Optimizer,MathOptInterface.Utilities.UniversalFallback{MathOptInterface.Utilities.Model{Float64}}}) at /Users/jeremy/.julia/packages/MathOptInterface/k7UUH/src/Utilities/cachingoptimizer.jl:211",
      " [7] optimize!(::MathOptInterface.Bridges.LazyBridgeOptimizer{MathOptInterface.Utilities.CachingOptimizer{Cbc.Optimizer,MathOptInterface.Utilities.UniversalFallback{MathOptInterface.Utilities.Model{Float64}}}}) at /Users/jeremy/.julia/packages/MathOptInterface/k7UUH/src/Bridges/bridge_optimizer.jl:264",
      " [8] optimize!(::MathOptInterface.Utilities.CachingOptimizer{MathOptInterface.AbstractOptimizer,MathOptInterface.Utilities.UniversalFallback{MathOptInterface.Utilities.Model{Float64}}}) at /Users/jeremy/.julia/packages/MathOptInterface/k7UUH/src/Utilities/cachingoptimizer.jl:215",
      " [9] optimize!(::Model, ::Nothing; bridge_constraints::Bool, ignore_optimize_hook::Bool, kwargs::Base.Iterators.Pairs{Union{},Union{},Tuple{},NamedTuple{(),Tuple{}}}) at /Users/jeremy/.julia/packages/JuMP/qhoVb/src/optimizer_interface.jl:130",
      " [10] optimize! at /Users/jeremy/.julia/packages/JuMP/qhoVb/src/optimizer_interface.jl:106 [inlined] (repeats 2 times)",
      " [11] top-level scope at In[10]:49",
      " [12] include_string(::Function, ::Module, ::String, ::String) at ./loading.jl:1091"
     ]
    }
   ],
   "source": [
    "function benders_lazy_constraint_callback(cb_data)\n",
    "    global iter_num\n",
    "    iter_num += 1\n",
    "    println(\"Iteration number = \", iter_num)\n",
    "\n",
    "    x_current = [callback_value(cb_data, x[j]) for j in eachindex(x)]\n",
    "    fm_current = callback_value(cb_data, t)\n",
    "    \n",
    "    c_sub = b - A1 * x_current\n",
    "    @objective(sub_problem_model, Min, dot(c1, x_current) + dot(c_sub, u))\n",
    "    optimize!(sub_problem_model)\n",
    "\n",
    "    print(\"\\nThe current subproblem model is \\n\", sub_problem_model)\n",
    "\n",
    "    t_status_sub = termination_status(sub_problem_model)\n",
    "    p_status_sub = primal_status(sub_problem_model)\n",
    "\n",
    "    fs_x_current = objective_value(sub_problem_model) \n",
    "\n",
    "    u_current = value.(u)\n",
    "\n",
    "    γ = dot(b, u_current)\n",
    "    \n",
    "    if p_status_sub == MOI.FEASIBLE_POINT && fs_x_current  ≈  fm_current # we are done\n",
    "        @info(\"No additional constraint from the subproblem\")\n",
    "        # println(\"Optimal solution of the original problem found\")\n",
    "        # println(\"The optimal objective value t is \", fm_current)\n",
    "        # println(\"The optimal x is \", x_current)\n",
    "        # println(\"The optimal v is \", dual.(constr_ref_subproblem))\n",
    "    end \n",
    "    \n",
    "    if p_status_sub == MOI.FEASIBLE_POINT && fs_x_current < fm_current\n",
    "        println(\"\\nThere is a suboptimal vertex, add the corresponding constraint\")\n",
    "        cv = A1' * u_current - c1\n",
    "        new_optimality_cons = @build_constraint(t + dot(cv, x) <= γ)\n",
    "        MOI.submit(master_problem_model, MOI.LazyConstraint(cb_data), new_optimality_cons)\n",
    "    end \n",
    "    \n",
    "    if t_status_sub == MOI.INFEASIBLE_OR_UNBOUNDED\n",
    "        println(\"\\nThere is an  extreme ray, adding the corresponding constraint\")\n",
    "        ce = A1' * u_current\n",
    "        new_feasibility_cons = @build_constraint(dot(ce, x) <= γ)\n",
    "        MOI.submit(master_problem_model, MOI.LazyConstraint(cb_data), new_feasibility_cons)\n",
    "    end\n",
    "end\n",
    "\n",
    "MOI.set(master_problem_model, MOI.LazyConstraintCallback(), benders_lazy_constraint_callback)\n",
    "     \n",
    "optimize!(master_problem_model)\n",
    "    \n",
    "t_status = termination_status(master_problem_model)\n",
    "p_status = primal_status(master_problem_model)\n",
    "\n",
    "if p_status == MOI.INFEASIBLE_POINT\n",
    "    println(\"The problem is infeasible :-(\")\n",
    "end\n",
    "\n",
    "if t_status == MOI.INFEASIBLE_OR_UNBOUNDED\n",
    "    fm_current = M\n",
    "    x_current = M * ones(dim_x)\n",
    "end\n",
    "\n",
    "if p_status == MOI.FEASIBLE_POINT\n",
    "    fm_current = value(t)\n",
    "    x_current = Float64[]\n",
    "        for i in 1:dim_x\n",
    "        push!(x_current, value(x[i]))\n",
    "    end\n",
    "end\n",
    "\n",
    "println(\"Status of the master problem is \", t_status, \n",
    "        \"\\nwith fm_current = \", fm_current, \n",
    "        \"\\nx_current = \", x_current)\n",
    "\n",
    "@test value(t) ≈ -4"
   ]
  },
  {
   "cell_type": "markdown",
   "metadata": {},
   "source": [
    "### References\n",
    "<a id='c1'></a>\n",
    "1. Garfinkel, R. & Nemhauser, G. L. Integer programming. (Wiley, 1972)."
   ]
  },
  {
   "cell_type": "code",
   "execution_count": null,
   "metadata": {},
   "outputs": [],
   "source": []
  }
 ],
 "metadata": {
  "kernelspec": {
   "display_name": "Julia 1.5.1",
   "language": "julia",
   "name": "julia-1.5"
  },
  "language_info": {
   "file_extension": ".jl",
   "mimetype": "application/julia",
   "name": "julia",
   "version": "1.5.1"
  }
 },
 "nbformat": 4,
 "nbformat_minor": 2
}
