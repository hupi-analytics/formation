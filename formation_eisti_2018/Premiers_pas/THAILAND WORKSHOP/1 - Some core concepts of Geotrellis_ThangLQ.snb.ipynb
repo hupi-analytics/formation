{
  "metadata" : {
    "id" : "c88a080f-aa13-49f5-a70c-2057115c2a9e",
    "name" : "1 - Some core concepts of Geotrellis_ThangLQ.snb.ipynb",
    "user_save_timestamp" : "2018-02-08T02:35:47.083Z",
    "auto_save_timestamp" : "1970-01-01T00:00:00.000Z",
    "language_info" : {
      "name" : "scala",
      "file_extension" : "scala",
      "codemirror_mode" : "text/x-scala"
    },
    "trusted" : true,
    "sparkNotebook" : null,
    "customLocalRepo" : null,
    "customRepos" : [
      "osgeo % default % http://download.osgeo.org/webdav/geotools/ % maven"
    ],
    "customDeps" : [
      "org.locationtech.geotrellis % geotrellis-spark_2.11 % 1.2.0"
    ],
    "customImports" : null,
    "customArgs" : null,
    "customSparkConf" : null,
    "customVars" : null
  },
  "cells" : [
    {
      "metadata" : {
        "id" : "858EDAF5B9924BC1BD9BAC6E970621B4"
      },
      "cell_type" : "markdown",
      "source" : "# Useful links to read :\n\nhttp://geotrellis.readthedocs.io/en/latest/guide/core-concepts.html\n\nGithub :\nhttps://github.com/locationtech/geotrellis\n\nFunction :\nhttp://geotrellis.github.io/scaladocs/latest/#geotrellis.package"
    },
    {
      "metadata" : {
        "id" : "F35652A52FCA4E58A0B31BE98C2132A1"
      },
      "cell_type" : "markdown",
      "source" : "# Import libraries"
    },
    {
      "metadata" : {
        "trusted" : true,
        "input_collapsed" : false,
        "collapsed" : false,
        "id" : "064033D960D846E9880DCE8C4D7EE2C7"
      },
      "cell_type" : "code",
      "source" : [
        "import geotrellis.proj4._\n",
        "\n",
        "import geotrellis.spark._\n",
        "import geotrellis.spark.io.hadoop._\n",
        "import geotrellis.spark.io.hadoop.formats._\n",
        "import geotrellis.spark.io.RasterReader\n",
        "import geotrellis.spark.tiling.FloatingLayoutScheme\n",
        "\n",
        "import geotrellis.vector._\n",
        "\n",
        "import geotrellis.raster._\n",
        "import geotrellis.raster.render._\n",
        "import geotrellis.raster.io.geotiff._\n",
        "import geotrellis.raster.io.geotiff.reader.GeoTiffReader\n",
        "import geotrellis.raster.io.geotiff.tags.TiffTags\n",
        "import geotrellis.raster.io.geotiff.GeoTiff\n",
        "\n",
        "import org.apache.hadoop.conf.Configuration\n",
        "import org.apache.hadoop.fs.Path"
      ],
      "outputs" : [
        {
          "name" : "stdout",
          "output_type" : "stream",
          "text" : "import geotrellis.proj4._\nimport geotrellis.spark._\nimport geotrellis.spark.io.hadoop._\nimport geotrellis.spark.io.hadoop.formats._\nimport geotrellis.spark.io.RasterReader\nimport geotrellis.spark.tiling.FloatingLayoutScheme\nimport geotrellis.vector._\nimport geotrellis.raster._\nimport geotrellis.raster.render._\nimport geotrellis.raster.io.geotiff._\nimport geotrellis.raster.io.geotiff.reader.GeoTiffReader\nimport geotrellis.raster.io.geotiff.tags.TiffTags\nimport geotrellis.raster.io.geotiff.GeoTiff\nimport org.apache.hadoop.conf.Configuration\nimport org.apache.hadoop.fs.Path\n"
        },
        {
          "metadata" : { },
          "data" : {
            "text/html" : ""
          },
          "output_type" : "execute_result",
          "execution_count" : 1,
          "time" : "Took: 1.949s, at 2018-03-13 03:12"
        }
      ]
    },
    {
      "metadata" : {
        "id" : "A1A0901E462942F8842F5FCB37ACA9AC"
      },
      "cell_type" : "markdown",
      "source" : "# Important variables (to run everytime we use Geotrellis)"
    },
    {
      "metadata" : {
        "trusted" : true,
        "input_collapsed" : false,
        "collapsed" : false,
        "id" : "44256257F6B748D78FED9E399516350A"
      },
      "cell_type" : "code",
      "source" : [
        "// implicit variable (important variables to run the functions in the geotrellis library)\n",
        "implicit val sparkContext = sc\n",
        "\n",
        "val rr = implicitly[RasterReader[HadoopGeoTiffRDD.Options, (ProjectedExtent, Tile)]]"
      ],
      "outputs" : [
        {
          "name" : "stdout",
          "output_type" : "stream",
          "text" : "sparkContext: org.apache.spark.SparkContext = org.apache.spark.SparkContext@3162bb66\nrr: geotrellis.spark.io.RasterReader[geotrellis.spark.io.hadoop.HadoopGeoTiffRDD.Options,(geotrellis.vector.ProjectedExtent, geotrellis.raster.Tile)] = geotrellis.spark.io.RasterReader$$anon$1@7b3e0a76\n"
        },
        {
          "metadata" : { },
          "data" : {
            "text/html" : ""
          },
          "output_type" : "execute_result",
          "execution_count" : 2,
          "time" : "Took: 1.709s, at 2018-03-13 03:12"
        }
      ]
    },
    {
      "metadata" : {
        "id" : "3B2B78A1357645B3BA5C61909B82CA99"
      },
      "cell_type" : "markdown",
      "source" : "# Parameters"
    },
    {
      "metadata" : {
        "trusted" : true,
        "input_collapsed" : false,
        "collapsed" : false,
        "id" : "629CE1563D4A4F6184A410020813CD2A"
      },
      "cell_type" : "code",
      "source" : [
        "val HdfsUrl = \"hdfs://hupi-factory-02-01-01-01/\"\n",
        "val dataRepo = \"user/factory02/thailand_workshop/data_usgs/\"\n",
        "// val dataRepo = \"user/luuthang211/vnu/\"\n",
        "\n",
        "// Landsat8 \n",
        "val bandPath = \"LC08_L1TP_125052_20171231_20180103_01_T1\"\n",
        "// val bandPath = \"IMAGERY.TIF\""
      ],
      "outputs" : [
        {
          "name" : "stdout",
          "output_type" : "stream",
          "text" : "HdfsUrl: String = hdfs://hupi-factory-02-01-01-01/\ndataRepo: String = user/factory02/thailand_workshop/data_usgs/\nbandPath: String = LC08_L1TP_125052_20171231_20180103_01_T1\n"
        },
        {
          "metadata" : { },
          "data" : {
            "text/html" : ""
          },
          "output_type" : "execute_result",
          "execution_count" : 3,
          "time" : "Took: 1.390s, at 2018-03-13 03:12"
        }
      ]
    },
    {
      "metadata" : {
        "id" : "BEF8EE75B39D4A72807188CC63534E62"
      },
      "cell_type" : "markdown",
      "source" : "# Load GeoTiff from HDFS\n\nWhen we read GeoTiff from HDFS, we will have a RDD[ProjectedExtent, Tile]\n\nFrom the documents of Geotrellis, some important concepts to know beforehand :\n\n- Tile is \"A grid of numeric cells that represent some data on the Earth\" \n- Cell is \"A single unit of data in some grid, also called a Location in GIS\"\n- In ProjectedExtent, we have extent and CRS. For definition, \"Extent: or \"Bounding Box\" represents some area on the Earth\".\n\nHere we have 2 ways to read, it's just 2 different ways to do the repartition"
    },
    {
      "metadata" : {
        "trusted" : true,
        "input_collapsed" : false,
        "collapsed" : false,
        "id" : "49EAEE3D97A14EC78ADF65A523FE94CD"
      },
      "cell_type" : "code",
      "source" : [
        "// To make the notebook run more efficiently \n",
        "val options =\n",
        "HadoopGeoTiffRDD.Options(\n",
        "  numPartitions = Some(100)\n",
        ")"
      ],
      "outputs" : [
        {
          "name" : "stdout",
          "output_type" : "stream",
          "text" : "options: geotrellis.spark.io.hadoop.HadoopGeoTiffRDD.Options = Options(List(.tif, .TIF, .tiff, .TIFF),None,TIFFTAG_DATETIME,yyyy:MM:dd HH:mm:ss,Some(256),Some(100),Some(134217728),None)\n"
        },
        {
          "metadata" : { },
          "data" : {
            "text/html" : ""
          },
          "output_type" : "execute_result",
          "execution_count" : 5,
          "time" : "Took: 1.246s, at 2018-03-13 03:12"
        }
      ]
    },
    {
      "metadata" : {
        "trusted" : true,
        "input_collapsed" : false,
        "collapsed" : false,
        "id" : "27CD2B6C4B424A6499382823162857DF"
      },
      "cell_type" : "code",
      "source" : [
        "// First option\n",
        "val band = HadoopGeoTiffRDD[ProjectedExtent, Tile](\n",
        "      new Path(HdfsUrl + dataRepo + bandPath + \"/\" + bandPath + \"_B1.TIF\"), \n",
        "      options).map(l => (l._1, l._2.convert(DoubleConstantNoDataCellType)))\n",
        "\n",
        "// val band = HadoopGeoTiffRDD[ProjectedExtent, Tile](\n",
        "//       new Path(HdfsUrl + dataRepo + bandPath), \n",
        "//       options).map(l => (l._1, l._2.convert(DoubleConstantNoDataCellType)))"
      ],
      "outputs" : [
        {
          "name" : "stdout",
          "output_type" : "stream",
          "text" : "org.apache.spark.SparkException: Job aborted due to stage failure: Task 3 in stage 0.0 failed 1 times, most recent failure: Lost task 3.0 in stage 0.0 (TID 3, localhost, executor driver): java.io.IOException: No space left on device\n\tat java.io.FileOutputStream.writeBytes(Native Method)\n\tat java.io.FileOutputStream.write(FileOutputStream.java:326)\n\tat org.apache.spark.util.Utils$$anonfun$copyStream$1.apply$mcJ$sp(Utils.scala:356)\n\tat org.apache.spark.util.Utils$$anonfun$copyStream$1.apply(Utils.scala:322)\n\tat org.apache.spark.util.Utils$$anonfun$copyStream$1.apply(Utils.scala:322)\n\tat org.apache.spark.util.Utils$.tryWithSafeFinally(Utils.scala:1303)\n\tat org.apache.spark.util.Utils$.copyStream(Utils.scala:362)\n\tat org.apache.spark.util.Utils$.downloadFile(Utils.scala:509)\n\tat org.apache.spark.util.Utils$.doFetchFile(Utils.scala:639)\n\tat org.apache.spark.util.Utils$.fetchFile(Utils.scala:463)\n\tat org.apache.spark.executor.Executor$$anonfun$org$apache$spark$executor$Executor$$updateDependencies$5.apply(Executor.scala:659)\n\tat org.apache.spark.executor.Executor$$anonfun$org$apache$spark$executor$Executor$$updateDependencies$5.apply(Executor.scala:651)\n\tat scala.collection.TraversableLike$WithFilter$$anonfun$foreach$1.apply(TraversableLike.scala:733)\n\tat scala.collection.mutable.HashMap$$anonfun$foreach$1.apply(HashMap.scala:99)\n\tat scala.collection.mutable.HashMap$$anonfun$foreach$1.apply(HashMap.scala:99)\n\tat scala.collection.mutable.HashTable$class.foreachEntry(HashTable.scala:230)\n\tat scala.collection.mutable.HashMap.foreachEntry(HashMap.scala:40)\n\tat scala.collection.mutable.HashMap.foreach(HashMap.scala:99)\n\tat scala.collection.TraversableLike$WithFilter.foreach(TraversableLike.scala:732)\n\tat org.apache.spark.executor.Executor.org$apache$spark$executor$Executor$$updateDependencies(Executor.scala:651)\n\tat org.apache.spark.executor.Executor$TaskRunner.run(Executor.scala:297)\n\tat java.util.concurrent.ThreadPoolExecutor.runWorker(ThreadPoolExecutor.java:1142)\n\tat java.util.concurrent.ThreadPoolExecutor$Worker.run(ThreadPoolExecutor.java:617)\n\tat java.lang.Thread.run(Thread.java:748)\n\nDriver stacktrace:\n  at org.apache.spark.scheduler.DAGScheduler.org$apache$spark$scheduler$DAGScheduler$$failJobAndIndependentStages(DAGScheduler.scala:1435)\n  at org.apache.spark.scheduler.DAGScheduler$$anonfun$abortStage$1.apply(DAGScheduler.scala:1423)\n  at org.apache.spark.scheduler.DAGScheduler$$anonfun$abortStage$1.apply(DAGScheduler.scala:1422)\n  at scala.collection.mutable.ResizableArray$class.foreach(ResizableArray.scala:59)\n  at scala.collection.mutable.ArrayBuffer.foreach(ArrayBuffer.scala:48)\n  at org.apache.spark.scheduler.DAGScheduler.abortStage(DAGScheduler.scala:1422)\n  at org.apache.spark.scheduler.DAGScheduler$$anonfun$handleTaskSetFailed$1.apply(DAGScheduler.scala:802)\n  at org.apache.spark.scheduler.DAGScheduler$$anonfun$handleTaskSetFailed$1.apply(DAGScheduler.scala:802)\n  at scala.Option.foreach(Option.scala:257)\n  at org.apache.spark.scheduler.DAGScheduler.handleTaskSetFailed(DAGScheduler.scala:802)\n  at org.apache.spark.scheduler.DAGSchedulerEventProcessLoop.doOnReceive(DAGScheduler.scala:1650)\n  at org.apache.spark.scheduler.DAGSchedulerEventProcessLoop.onReceive(DAGScheduler.scala:1605)\n  at org.apache.spark.scheduler.DAGSchedulerEventProcessLoop.onReceive(DAGScheduler.scala:1594)\n  at org.apache.spark.util.EventLoop$$anon$1.run(EventLoop.scala:48)\n  at org.apache.spark.scheduler.DAGScheduler.runJob(DAGScheduler.scala:628)\n  at org.apache.spark.SparkContext.runJob(SparkContext.scala:1925)\n  at org.apache.spark.SparkContext.runJob(SparkContext.scala:1938)\n  at org.apache.spark.SparkContext.runJob(SparkContext.scala:1951)\n  at org.apache.spark.SparkContext.runJob(SparkContext.scala:1965)\n  at org.apache.spark.rdd.RDD.count(RDD.scala:1158)\n  at geotrellis.spark.io.GeoTiffInfoReader$class.readWindows(GeoTiffInfoReader.scala:86)\n  at geotrellis.spark.io.hadoop.HadoopGeoTiffInfoReader.readWindows(HadoopGeoTiffInfoReader.scala:28)\n  at geotrellis.spark.io.hadoop.HadoopGeoTiffRDD$.apply(HadoopGeoTiffRDD.scala:122)\n  at geotrellis.spark.io.hadoop.HadoopGeoTiffRDD$.apply(HadoopGeoTiffRDD.scala:153)\n  ... 79 elided\nCaused by: java.io.IOException: No space left on device\n  at java.io.FileOutputStream.writeBytes(Native Method)\n  at java.io.FileOutputStream.write(FileOutputStream.java:326)\n  at org.apache.spark.util.Utils$$anonfun$copyStream$1.apply$mcJ$sp(Utils.scala:356)\n  at org.apache.spark.util.Utils$$anonfun$copyStream$1.apply(Utils.scala:322)\n  at org.apache.spark.util.Utils$$anonfun$copyStream$1.apply(Utils.scala:322)\n  at org.apache.spark.util.Utils$.tryWithSafeFinally(Utils.scala:1303)\n  at org.apache.spark.util.Utils$.copyStream(Utils.scala:362)\n  at org.apache.spark.util.Utils$.downloadFile(Utils.scala:509)\n  at org.apache.spark.util.Utils$.doFetchFile(Utils.scala:639)\n  at org.apache.spark.util.Utils$.fetchFile(Utils.scala:463)\n  at org.apache.spark.executor.Executor$$anonfun$org$apache$spark$executor$Executor$$updateDependencies$5.apply(Executor.scala:659)\n  at org.apache.spark.executor.Executor$$anonfun$org$apache$spark$executor$Executor$$updateDependencies$5.apply(Executor.scala:651)\n  at scala.collection.TraversableLike$WithFilter$$anonfun$foreach$1.apply(TraversableLike.scala:733)\n  at scala.collection.mutable.HashMap$$anonfun$foreach$1.apply(HashMap.scala:99)\n  at scala.collection.mutable.HashMap$$anonfun$foreach$1.apply(HashMap.scala:99)\n  at scala.collection.mutable.HashTable$class.foreachEntry(HashTable.scala:230)\n  at scala.collection.mutable.HashMap.foreachEntry(HashMap.scala:40)\n  at scala.collection.mutable.HashMap.foreach(HashMap.scala:99)\n  at scala.collection.TraversableLike$WithFilter.foreach(TraversableLike.scala:732)\n  at org.apache.spark.executor.Executor.org$apache$spark$executor$Executor$$updateDependencies(Executor.scala:651)\n  at org.apache.spark.executor.Executor$TaskRunner.run(Executor.scala:297)\n  at java.util.concurrent.ThreadPoolExecutor.runWorker(ThreadPoolExecutor.java:1142)\n  at java.util.concurrent.ThreadPoolExecutor$Worker.run(ThreadPoolExecutor.java:617)\n  at java.lang.Thread.run(Thread.java:748)\n"
        }
      ]
    },
    {
      "metadata" : {
        "trusted" : true,
        "input_collapsed" : false,
        "collapsed" : false,
        "id" : "90C6960A71E342BC84578C99F751821F"
      },
      "cell_type" : "code",
      "source" : [
        "// Second option\n",
        "val band = sc.hadoopGeoTiffRDD(HdfsUrl + dataRepo + bandPath + \"/\" + bandPath + \"_B1.TIF\")\n",
        "        .map(l => (l._1, l._2.convert(DoubleConstantNoDataCellType))).repartition(100)"
      ],
      "outputs" : [
        {
          "name" : "stdout",
          "output_type" : "stream",
          "text" : "band: org.apache.spark.rdd.RDD[(geotrellis.vector.ProjectedExtent, geotrellis.raster.Tile)] = MapPartitionsRDD[13] at repartition at <console>:106\n"
        },
        {
          "metadata" : { },
          "data" : {
            "text/html" : ""
          },
          "output_type" : "execute_result",
          "execution_count" : 6,
          "time" : "Took: 1.695s, at 2018-01-26 09:32"
        }
      ]
    },
    {
      "metadata" : {
        "id" : "008BDE72CA5B40AD9BBE1E4EB4359668"
      },
      "cell_type" : "markdown",
      "source" : "# Inside RDD[ProjectedExtent, Tile].."
    },
    {
      "metadata" : {
        "trusted" : true,
        "input_collapsed" : false,
        "collapsed" : false,
        "id" : "B2E09F56F74A40CD86ADAE6517FA4D27"
      },
      "cell_type" : "code",
      "source" : [
        "// This version of Spark divides one GeoTiff into multiples Tiles (SingleBand or MultiBand)\n",
        "// So if we count the number of observations in RDD, we will have number of Tiles\n",
        "println(\"Number of Tiles in this band is \" + band.count())"
      ],
      "outputs" : [
        {
          "name" : "stdout",
          "output_type" : "stream",
          "text" : "Number of Tiles in this band is 930\n"
        },
        {
          "metadata" : { },
          "data" : {
            "text/html" : ""
          },
          "output_type" : "execute_result",
          "execution_count" : 12,
          "time" : "Took: 5.772s, at 2018-03-07 12:40"
        }
      ]
    },
    {
      "metadata" : {
        "trusted" : true,
        "input_collapsed" : false,
        "collapsed" : false,
        "id" : "F16B7235507E4ED8843155CBCECF5891"
      },
      "cell_type" : "code",
      "source" : [
        "// Number of Cells\n",
        "println(\"Number of Cells in this band is \" + band.map(l => l._2.toArrayDouble()).flatMap(l => l).count())"
      ],
      "outputs" : [
        {
          "name" : "stdout",
          "output_type" : "stream",
          "text" : "Number of Cells in this band is 58378481\n"
        },
        {
          "metadata" : { },
          "data" : {
            "text/html" : ""
          },
          "output_type" : "execute_result",
          "execution_count" : 13,
          "time" : "Took: 6.101s, at 2018-03-07 12:41"
        }
      ]
    },
    {
      "metadata" : {
        "trusted" : true,
        "input_collapsed" : false,
        "collapsed" : false,
        "presentation" : {
          "tabs_state" : "{\n  \"tab_id\": \"#tab867061885-0\"\n}",
          "pivot_chart_state" : "{\n  \"hiddenAttributes\": [],\n  \"menuLimit\": 200,\n  \"cols\": [],\n  \"rows\": [],\n  \"vals\": [],\n  \"exclusions\": {},\n  \"inclusions\": {},\n  \"unusedAttrsVertical\": 85,\n  \"autoSortUnusedAttrs\": false,\n  \"inclusionsInfo\": {},\n  \"aggregatorName\": \"Count\",\n  \"rendererName\": \"Table\"\n}"
        },
        "id" : "BE482332064042FEACF43401C1829ACB"
      },
      "cell_type" : "code",
      "source" : [
        "// If we take some observations\n",
        "band.take(5)"
      ],
      "outputs" : [
        {
          "name" : "stdout",
          "output_type" : "stream",
          "text" : "<console>:70: error: not found: value band\n       band.take(5)\n       ^\n"
        }
      ]
    },
    {
      "metadata" : {
        "trusted" : true,
        "input_collapsed" : false,
        "collapsed" : false,
        "presentation" : {
          "tabs_state" : "{\n  \"tab_id\": \"#tab956722147-2\"\n}",
          "pivot_chart_state" : "{\n  \"hiddenAttributes\": [],\n  \"menuLimit\": 200,\n  \"cols\": [],\n  \"rows\": [],\n  \"vals\": [],\n  \"exclusions\": {},\n  \"inclusions\": {},\n  \"unusedAttrsVertical\": 85,\n  \"autoSortUnusedAttrs\": false,\n  \"inclusionsInfo\": {},\n  \"aggregatorName\": \"Count\",\n  \"rendererName\": \"Table\"\n}"
        },
        "id" : "EEB4984173E94A038B1964EC001586F1"
      },
      "cell_type" : "code",
      "source" : [
        "// ProjectedExtent\n",
        "band.map(l => l._1).take(10)"
      ],
      "outputs" : [
        {
          "name" : "stdout",
          "output_type" : "stream",
          "text" : "res13: Array[geotrellis.vector.ProjectedExtent] = Array(ProjectedExtent(Extent(551625.0, 1379055.0, 559305.0, 1386735.0),EPSG:32648), ProjectedExtent(Extent(628425.0, 1348335.0, 636105.0, 1356015.0),EPSG:32648), ProjectedExtent(Extent(705225.0, 1325295.0, 712905.0, 1332975.0),EPSG:32648), ProjectedExtent(Extent(551625.0, 1286895.0, 559305.0, 1294575.0),EPSG:32648), ProjectedExtent(Extent(628425.0, 1279215.0, 636105.0, 1286895.0),EPSG:32648), ProjectedExtent(Extent(705225.0, 1202415.0, 712905.0, 1210095.0),EPSG:32648), ProjectedExtent(Extent(551625.0, 1256175.0, 559305.0, 1263855.0),EPSG:32648), ProjectedExtent(Extent(628425.0, 1194735.0, 636105.0, 1202415.0),EPSG:32648), ProjectedExtent(Extent(705225.0, 1187055.0, 712905.0, 1194735.0),EPSG:32648), ProjectedExtent(Extent(559305.0, 137905..."
        },
        {
          "metadata" : { },
          "data" : {
            "text/html" : "<div>\n      <script data-this=\"{&quot;dataId&quot;:&quot;anon016ac0305a771c55d962355be24cfbdd&quot;,&quot;dataInit&quot;:[],&quot;genId&quot;:&quot;956722147&quot;}\" type=\"text/x-scoped-javascript\">/*<![CDATA[*/req(['../javascripts/notebook/playground','../javascripts/notebook/magic/tabs'], \n      function(playground, _magictabs) {\n        // data ==> data-this (in observable.js's scopedEval) ==> this in JS => { dataId, dataInit, ... }\n        // this ==> scope (in observable.js's scopedEval) ==> this.parentElement ==> div.container below (toHtml)\n\n        playground.call(data,\n                        this\n                        ,\n                        {\n    \"f\": _magictabs,\n    \"o\": {}\n  }\n  \n                        \n                        \n                      );\n      }\n    );/*]]>*/</script>\n    <div>\n      <div>\n        <ul class=\"nav nav-tabs\" id=\"ul956722147\"><li>\n              <a href=\"#tab956722147-0\"><i class=\"fa fa-table\"/></a>\n            </li><li>\n              <a href=\"#tab956722147-1\"><i class=\"fa fa-pie-chart\"/></a>\n            </li><li>\n              <a href=\"#tab956722147-2\"><i class=\"fa fa-cubes\"/></a>\n            </li></ul>\n\n        <div class=\"tab-content\" id=\"tab956722147\"><div class=\"tab-pane\" id=\"tab956722147-0\">\n            <div>\n      <script data-this=\"{&quot;dataId&quot;:&quot;anon0db381de9b34709be68f07f9c934ea74&quot;,&quot;dataInit&quot;:[{&quot;extent&quot;:&quot;Extent(551625.0, 1379055.0, 559305.0, 1386735.0)&quot;,&quot;crs&quot;:&quot;EPSG:32648&quot;},{&quot;extent&quot;:&quot;Extent(628425.0, 1348335.0, 636105.0, 1356015.0)&quot;,&quot;crs&quot;:&quot;EPSG:32648&quot;},{&quot;extent&quot;:&quot;Extent(705225.0, 1325295.0, 712905.0, 1332975.0)&quot;,&quot;crs&quot;:&quot;EPSG:32648&quot;},{&quot;extent&quot;:&quot;Extent(551625.0, 1286895.0, 559305.0, 1294575.0)&quot;,&quot;crs&quot;:&quot;EPSG:32648&quot;},{&quot;extent&quot;:&quot;Extent(628425.0, 1279215.0, 636105.0, 1286895.0)&quot;,&quot;crs&quot;:&quot;EPSG:32648&quot;},{&quot;extent&quot;:&quot;Extent(705225.0, 1202415.0, 712905.0, 1210095.0)&quot;,&quot;crs&quot;:&quot;EPSG:32648&quot;},{&quot;extent&quot;:&quot;Extent(551625.0, 1256175.0, 559305.0, 1263855.0)&quot;,&quot;crs&quot;:&quot;EPSG:32648&quot;},{&quot;extent&quot;:&quot;Extent(628425.0, 1194735.0, 636105.0, 1202415.0)&quot;,&quot;crs&quot;:&quot;EPSG:32648&quot;},{&quot;extent&quot;:&quot;Extent(705225.0, 1187055.0, 712905.0, 1194735.0)&quot;,&quot;crs&quot;:&quot;EPSG:32648&quot;},{&quot;extent&quot;:&quot;Extent(559305.0, 1379055.0, 566985.0, 1386735.0)&quot;,&quot;crs&quot;:&quot;EPSG:32648&quot;}],&quot;genId&quot;:&quot;1795535757&quot;}\" type=\"text/x-scoped-javascript\">/*<![CDATA[*/req(['../javascripts/notebook/playground','../javascripts/notebook/magic/tableChart'], \n      function(playground, _magictableChart) {\n        // data ==> data-this (in observable.js's scopedEval) ==> this in JS => { dataId, dataInit, ... }\n        // this ==> scope (in observable.js's scopedEval) ==> this.parentElement ==> div.container below (toHtml)\n\n        playground.call(data,\n                        this\n                        ,\n                        {\n    \"f\": _magictableChart,\n    \"o\": {\"headers\":[\"extent\",\"crs\"],\"width\":600,\"height\":400}\n  }\n  \n                        \n                        \n                      );\n      }\n    );/*]]>*/</script>\n    <div>\n      <span class=\"chart-total-item-count\"><p data-bind=\"text: value\"><script data-this=\"{&quot;valueId&quot;:&quot;anonb633159addd5a90b506204e2b3857ff3&quot;,&quot;initialValue&quot;:&quot;10&quot;}\" type=\"text/x-scoped-javascript\">/*<![CDATA[*/\nreq(\n['observable', 'knockout'],\nfunction (O, ko) {\n  ko.applyBindings({\n      value: O.makeObservable(valueId, initialValue)\n    },\n    this\n  );\n});\n        /*]]>*/</script></p> entries total</span>\n      <span class=\"chart-sampling-warning\"><p data-bind=\"text: value\"><script data-this=\"{&quot;valueId&quot;:&quot;anoncf0520edf7ceb054525198ae9c97609c&quot;,&quot;initialValue&quot;:&quot;&quot;}\" type=\"text/x-scoped-javascript\">/*<![CDATA[*/\nreq(\n['observable', 'knockout'],\nfunction (O, ko) {\n  ko.applyBindings({\n      value: O.makeObservable(valueId, initialValue)\n    },\n    this\n  );\n});\n        /*]]>*/</script></p></span>\n      <div>\n      </div>\n    </div></div>\n            </div><div class=\"tab-pane\" id=\"tab956722147-1\">\n            <div>\n      <script data-this=\"{&quot;dataId&quot;:&quot;anon1025c6b9c8c2d8026e84809c59456ae4&quot;,&quot;dataInit&quot;:[{&quot;extent&quot;:&quot;Extent(551625.0, 1379055.0, 559305.0, 1386735.0)&quot;,&quot;crs&quot;:&quot;EPSG:32648&quot;},{&quot;extent&quot;:&quot;Extent(628425.0, 1348335.0, 636105.0, 1356015.0)&quot;,&quot;crs&quot;:&quot;EPSG:32648&quot;},{&quot;extent&quot;:&quot;Extent(705225.0, 1325295.0, 712905.0, 1332975.0)&quot;,&quot;crs&quot;:&quot;EPSG:32648&quot;},{&quot;extent&quot;:&quot;Extent(551625.0, 1286895.0, 559305.0, 1294575.0)&quot;,&quot;crs&quot;:&quot;EPSG:32648&quot;},{&quot;extent&quot;:&quot;Extent(628425.0, 1279215.0, 636105.0, 1286895.0)&quot;,&quot;crs&quot;:&quot;EPSG:32648&quot;},{&quot;extent&quot;:&quot;Extent(705225.0, 1202415.0, 712905.0, 1210095.0)&quot;,&quot;crs&quot;:&quot;EPSG:32648&quot;},{&quot;extent&quot;:&quot;Extent(551625.0, 1256175.0, 559305.0, 1263855.0)&quot;,&quot;crs&quot;:&quot;EPSG:32648&quot;},{&quot;extent&quot;:&quot;Extent(628425.0, 1194735.0, 636105.0, 1202415.0)&quot;,&quot;crs&quot;:&quot;EPSG:32648&quot;},{&quot;extent&quot;:&quot;Extent(705225.0, 1187055.0, 712905.0, 1194735.0)&quot;,&quot;crs&quot;:&quot;EPSG:32648&quot;},{&quot;extent&quot;:&quot;Extent(559305.0, 1379055.0, 566985.0, 1386735.0)&quot;,&quot;crs&quot;:&quot;EPSG:32648&quot;}],&quot;genId&quot;:&quot;1323243123&quot;}\" type=\"text/x-scoped-javascript\">/*<![CDATA[*/req(['../javascripts/notebook/playground','../javascripts/notebook/magic/pieChart'], \n      function(playground, _magicpieChart) {\n        // data ==> data-this (in observable.js's scopedEval) ==> this in JS => { dataId, dataInit, ... }\n        // this ==> scope (in observable.js's scopedEval) ==> this.parentElement ==> div.container below (toHtml)\n\n        playground.call(data,\n                        this\n                        ,\n                        {\n    \"f\": _magicpieChart,\n    \"o\": {\"series\":\"extent\",\"p\":\"crs\",\"width\":600,\"height\":400}\n  }\n  \n                        \n                        \n                      );\n      }\n    );/*]]>*/</script>\n    <div>\n      <span class=\"chart-total-item-count\"><p data-bind=\"text: value\"><script data-this=\"{&quot;valueId&quot;:&quot;anon57212b0de9897a806ac95925ee6f0706&quot;,&quot;initialValue&quot;:&quot;10&quot;}\" type=\"text/x-scoped-javascript\">/*<![CDATA[*/\nreq(\n['observable', 'knockout'],\nfunction (O, ko) {\n  ko.applyBindings({\n      value: O.makeObservable(valueId, initialValue)\n    },\n    this\n  );\n});\n        /*]]>*/</script></p> entries total</span>\n      <span class=\"chart-sampling-warning\"><p data-bind=\"text: value\"><script data-this=\"{&quot;valueId&quot;:&quot;anon9ffdc3a27e7a7d15099fd4d07f5fd457&quot;,&quot;initialValue&quot;:&quot;&quot;}\" type=\"text/x-scoped-javascript\">/*<![CDATA[*/\nreq(\n['observable', 'knockout'],\nfunction (O, ko) {\n  ko.applyBindings({\n      value: O.makeObservable(valueId, initialValue)\n    },\n    this\n  );\n});\n        /*]]>*/</script></p></span>\n      <div>\n      </div>\n    </div></div>\n            </div><div class=\"tab-pane\" id=\"tab956722147-2\">\n            <div>\n      <script data-this=\"{&quot;dataId&quot;:&quot;anon299f4c3c014918b0edd8d3da69f03ef8&quot;,&quot;dataInit&quot;:[{&quot;extent&quot;:&quot;Extent(551625.0, 1379055.0, 559305.0, 1386735.0)&quot;,&quot;crs&quot;:&quot;EPSG:32648&quot;},{&quot;extent&quot;:&quot;Extent(628425.0, 1348335.0, 636105.0, 1356015.0)&quot;,&quot;crs&quot;:&quot;EPSG:32648&quot;},{&quot;extent&quot;:&quot;Extent(705225.0, 1325295.0, 712905.0, 1332975.0)&quot;,&quot;crs&quot;:&quot;EPSG:32648&quot;},{&quot;extent&quot;:&quot;Extent(551625.0, 1286895.0, 559305.0, 1294575.0)&quot;,&quot;crs&quot;:&quot;EPSG:32648&quot;},{&quot;extent&quot;:&quot;Extent(628425.0, 1279215.0, 636105.0, 1286895.0)&quot;,&quot;crs&quot;:&quot;EPSG:32648&quot;},{&quot;extent&quot;:&quot;Extent(705225.0, 1202415.0, 712905.0, 1210095.0)&quot;,&quot;crs&quot;:&quot;EPSG:32648&quot;},{&quot;extent&quot;:&quot;Extent(551625.0, 1256175.0, 559305.0, 1263855.0)&quot;,&quot;crs&quot;:&quot;EPSG:32648&quot;},{&quot;extent&quot;:&quot;Extent(628425.0, 1194735.0, 636105.0, 1202415.0)&quot;,&quot;crs&quot;:&quot;EPSG:32648&quot;},{&quot;extent&quot;:&quot;Extent(705225.0, 1187055.0, 712905.0, 1194735.0)&quot;,&quot;crs&quot;:&quot;EPSG:32648&quot;},{&quot;extent&quot;:&quot;Extent(559305.0, 1379055.0, 566985.0, 1386735.0)&quot;,&quot;crs&quot;:&quot;EPSG:32648&quot;}],&quot;genId&quot;:&quot;630933441&quot;}\" type=\"text/x-scoped-javascript\">/*<![CDATA[*/req(['../javascripts/notebook/playground','../javascripts/notebook/magic/pivotChart'], \n      function(playground, _magicpivotChart) {\n        // data ==> data-this (in observable.js's scopedEval) ==> this in JS => { dataId, dataInit, ... }\n        // this ==> scope (in observable.js's scopedEval) ==> this.parentElement ==> div.container below (toHtml)\n\n        playground.call(data,\n                        this\n                        ,\n                        {\n    \"f\": _magicpivotChart,\n    \"o\": {\"width\":600,\"height\":400,\"derivedAttributes\":{},\"extraOptions\":{}}\n  }\n  \n                        \n                        \n                      );\n      }\n    );/*]]>*/</script>\n    <div>\n      <span class=\"chart-total-item-count\"><p data-bind=\"text: value\"><script data-this=\"{&quot;valueId&quot;:&quot;anond367989f39b34475da5ea553ace193da&quot;,&quot;initialValue&quot;:&quot;10&quot;}\" type=\"text/x-scoped-javascript\">/*<![CDATA[*/\nreq(\n['observable', 'knockout'],\nfunction (O, ko) {\n  ko.applyBindings({\n      value: O.makeObservable(valueId, initialValue)\n    },\n    this\n  );\n});\n        /*]]>*/</script></p> entries total</span>\n      <span class=\"chart-sampling-warning\"><p data-bind=\"text: value\"><script data-this=\"{&quot;valueId&quot;:&quot;anond172b17f43493bd6ce77399d1a78837c&quot;,&quot;initialValue&quot;:&quot;&quot;}\" type=\"text/x-scoped-javascript\">/*<![CDATA[*/\nreq(\n['observable', 'knockout'],\nfunction (O, ko) {\n  ko.applyBindings({\n      value: O.makeObservable(valueId, initialValue)\n    },\n    this\n  );\n});\n        /*]]>*/</script></p></span>\n      <div>\n      </div>\n    </div></div>\n            </div></div>\n      </div>\n    </div></div>"
          },
          "output_type" : "execute_result",
          "execution_count" : 10,
          "time" : "Took: 1.740s, at 2018-01-26 09:32"
        }
      ]
    },
    {
      "metadata" : {
        "trusted" : true,
        "input_collapsed" : false,
        "collapsed" : false,
        "presentation" : {
          "tabs_state" : "{\n  \"tab_id\": \"#tab935621379-0\"\n}",
          "pivot_chart_state" : "{\n  \"hiddenAttributes\": [],\n  \"menuLimit\": 200,\n  \"cols\": [],\n  \"rows\": [],\n  \"vals\": [],\n  \"exclusions\": {},\n  \"inclusions\": {},\n  \"unusedAttrsVertical\": 85,\n  \"autoSortUnusedAttrs\": false,\n  \"inclusionsInfo\": {},\n  \"aggregatorName\": \"Count\",\n  \"rendererName\": \"Table\"\n}"
        },
        "id" : "453D34C0F9A14EC593954AE660187407"
      },
      "cell_type" : "code",
      "source" : [
        "// In extent, we can see details \n",
        "band.map(l => l._1.extent).take(10)"
      ],
      "outputs" : [
        {
          "name" : "stdout",
          "output_type" : "stream",
          "text" : "res15: Array[geotrellis.vector.Extent] = Array(Extent(551625.0, 1379055.0, 559305.0, 1386735.0), Extent(628425.0, 1348335.0, 636105.0, 1356015.0), Extent(705225.0, 1325295.0, 712905.0, 1332975.0), Extent(551625.0, 1286895.0, 559305.0, 1294575.0), Extent(628425.0, 1279215.0, 636105.0, 1286895.0), Extent(705225.0, 1202415.0, 712905.0, 1210095.0), Extent(551625.0, 1256175.0, 559305.0, 1263855.0), Extent(628425.0, 1194735.0, 636105.0, 1202415.0), Extent(705225.0, 1187055.0, 712905.0, 1194735.0), Extent(559305.0, 1379055.0, 566985.0, 1386735.0))\n"
        },
        {
          "metadata" : { },
          "data" : {
            "text/html" : "<div>\n      <script data-this=\"{&quot;dataId&quot;:&quot;anonb2cf24eaf379d9d2bf8840af3c94cde7&quot;,&quot;dataInit&quot;:[],&quot;genId&quot;:&quot;935621379&quot;}\" type=\"text/x-scoped-javascript\">/*<![CDATA[*/req(['../javascripts/notebook/playground','../javascripts/notebook/magic/tabs'], \n      function(playground, _magictabs) {\n        // data ==> data-this (in observable.js's scopedEval) ==> this in JS => { dataId, dataInit, ... }\n        // this ==> scope (in observable.js's scopedEval) ==> this.parentElement ==> div.container below (toHtml)\n\n        playground.call(data,\n                        this\n                        ,\n                        {\n    \"f\": _magictabs,\n    \"o\": {}\n  }\n  \n                        \n                        \n                      );\n      }\n    );/*]]>*/</script>\n    <div>\n      <div>\n        <ul class=\"nav nav-tabs\" id=\"ul935621379\"><li>\n              <a href=\"#tab935621379-0\"><i class=\"fa fa-table\"/></a>\n            </li><li>\n              <a href=\"#tab935621379-1\"><i class=\"fa fa-cubes\"/></a>\n            </li></ul>\n\n        <div class=\"tab-content\" id=\"tab935621379\"><div class=\"tab-pane\" id=\"tab935621379-0\">\n            <div>\n      <script data-this=\"{&quot;dataId&quot;:&quot;anon91a71e8fbae5cbf4b8fea5fe77d91410&quot;,&quot;dataInit&quot;:[{&quot;ymax&quot;:1386735,&quot;xmin&quot;:551625,&quot;height&quot;:7680,&quot;ymin&quot;:1379055,&quot;xmax&quot;:559305,&quot;width&quot;:7680},{&quot;ymax&quot;:1356015,&quot;xmin&quot;:628425,&quot;height&quot;:7680,&quot;ymin&quot;:1348335,&quot;xmax&quot;:636105,&quot;width&quot;:7680},{&quot;ymax&quot;:1332975,&quot;xmin&quot;:705225,&quot;height&quot;:7680,&quot;ymin&quot;:1325295,&quot;xmax&quot;:712905,&quot;width&quot;:7680},{&quot;ymax&quot;:1294575,&quot;xmin&quot;:551625,&quot;height&quot;:7680,&quot;ymin&quot;:1286895,&quot;xmax&quot;:559305,&quot;width&quot;:7680},{&quot;ymax&quot;:1286895,&quot;xmin&quot;:628425,&quot;height&quot;:7680,&quot;ymin&quot;:1279215,&quot;xmax&quot;:636105,&quot;width&quot;:7680},{&quot;ymax&quot;:1210095,&quot;xmin&quot;:705225,&quot;height&quot;:7680,&quot;ymin&quot;:1202415,&quot;xmax&quot;:712905,&quot;width&quot;:7680},{&quot;ymax&quot;:1263855,&quot;xmin&quot;:551625,&quot;height&quot;:7680,&quot;ymin&quot;:1256175,&quot;xmax&quot;:559305,&quot;width&quot;:7680},{&quot;ymax&quot;:1202415,&quot;xmin&quot;:628425,&quot;height&quot;:7680,&quot;ymin&quot;:1194735,&quot;xmax&quot;:636105,&quot;width&quot;:7680},{&quot;ymax&quot;:1194735,&quot;xmin&quot;:705225,&quot;height&quot;:7680,&quot;ymin&quot;:1187055,&quot;xmax&quot;:712905,&quot;width&quot;:7680},{&quot;ymax&quot;:1386735,&quot;xmin&quot;:559305,&quot;height&quot;:7680,&quot;ymin&quot;:1379055,&quot;xmax&quot;:566985,&quot;width&quot;:7680}],&quot;genId&quot;:&quot;1294821934&quot;}\" type=\"text/x-scoped-javascript\">/*<![CDATA[*/req(['../javascripts/notebook/playground','../javascripts/notebook/magic/tableChart'], \n      function(playground, _magictableChart) {\n        // data ==> data-this (in observable.js's scopedEval) ==> this in JS => { dataId, dataInit, ... }\n        // this ==> scope (in observable.js's scopedEval) ==> this.parentElement ==> div.container below (toHtml)\n\n        playground.call(data,\n                        this\n                        ,\n                        {\n    \"f\": _magictableChart,\n    \"o\": {\"headers\":[\"xmin\",\"ymin\",\"xmax\",\"ymax\",\"width\",\"height\"],\"width\":600,\"height\":400}\n  }\n  \n                        \n                        \n                      );\n      }\n    );/*]]>*/</script>\n    <div>\n      <span class=\"chart-total-item-count\"><p data-bind=\"text: value\"><script data-this=\"{&quot;valueId&quot;:&quot;anon0dd45cb971e2765f7796aeb3d0ad8368&quot;,&quot;initialValue&quot;:&quot;10&quot;}\" type=\"text/x-scoped-javascript\">/*<![CDATA[*/\nreq(\n['observable', 'knockout'],\nfunction (O, ko) {\n  ko.applyBindings({\n      value: O.makeObservable(valueId, initialValue)\n    },\n    this\n  );\n});\n        /*]]>*/</script></p> entries total</span>\n      <span class=\"chart-sampling-warning\"><p data-bind=\"text: value\"><script data-this=\"{&quot;valueId&quot;:&quot;anonc02323073a0b4eaf9dd139e47d6c1608&quot;,&quot;initialValue&quot;:&quot;&quot;}\" type=\"text/x-scoped-javascript\">/*<![CDATA[*/\nreq(\n['observable', 'knockout'],\nfunction (O, ko) {\n  ko.applyBindings({\n      value: O.makeObservable(valueId, initialValue)\n    },\n    this\n  );\n});\n        /*]]>*/</script></p></span>\n      <div>\n      </div>\n    </div></div>\n            </div><div class=\"tab-pane\" id=\"tab935621379-1\">\n            <div>\n      <script data-this=\"{&quot;dataId&quot;:&quot;anon7396408ed9d6f5935e8798e0d5a07a62&quot;,&quot;dataInit&quot;:[{&quot;ymax&quot;:1386735,&quot;xmin&quot;:551625,&quot;height&quot;:7680,&quot;ymin&quot;:1379055,&quot;xmax&quot;:559305,&quot;width&quot;:7680},{&quot;ymax&quot;:1356015,&quot;xmin&quot;:628425,&quot;height&quot;:7680,&quot;ymin&quot;:1348335,&quot;xmax&quot;:636105,&quot;width&quot;:7680},{&quot;ymax&quot;:1332975,&quot;xmin&quot;:705225,&quot;height&quot;:7680,&quot;ymin&quot;:1325295,&quot;xmax&quot;:712905,&quot;width&quot;:7680},{&quot;ymax&quot;:1294575,&quot;xmin&quot;:551625,&quot;height&quot;:7680,&quot;ymin&quot;:1286895,&quot;xmax&quot;:559305,&quot;width&quot;:7680},{&quot;ymax&quot;:1286895,&quot;xmin&quot;:628425,&quot;height&quot;:7680,&quot;ymin&quot;:1279215,&quot;xmax&quot;:636105,&quot;width&quot;:7680},{&quot;ymax&quot;:1210095,&quot;xmin&quot;:705225,&quot;height&quot;:7680,&quot;ymin&quot;:1202415,&quot;xmax&quot;:712905,&quot;width&quot;:7680},{&quot;ymax&quot;:1263855,&quot;xmin&quot;:551625,&quot;height&quot;:7680,&quot;ymin&quot;:1256175,&quot;xmax&quot;:559305,&quot;width&quot;:7680},{&quot;ymax&quot;:1202415,&quot;xmin&quot;:628425,&quot;height&quot;:7680,&quot;ymin&quot;:1194735,&quot;xmax&quot;:636105,&quot;width&quot;:7680},{&quot;ymax&quot;:1194735,&quot;xmin&quot;:705225,&quot;height&quot;:7680,&quot;ymin&quot;:1187055,&quot;xmax&quot;:712905,&quot;width&quot;:7680},{&quot;ymax&quot;:1386735,&quot;xmin&quot;:559305,&quot;height&quot;:7680,&quot;ymin&quot;:1379055,&quot;xmax&quot;:566985,&quot;width&quot;:7680}],&quot;genId&quot;:&quot;1934826622&quot;}\" type=\"text/x-scoped-javascript\">/*<![CDATA[*/req(['../javascripts/notebook/playground','../javascripts/notebook/magic/pivotChart'], \n      function(playground, _magicpivotChart) {\n        // data ==> data-this (in observable.js's scopedEval) ==> this in JS => { dataId, dataInit, ... }\n        // this ==> scope (in observable.js's scopedEval) ==> this.parentElement ==> div.container below (toHtml)\n\n        playground.call(data,\n                        this\n                        ,\n                        {\n    \"f\": _magicpivotChart,\n    \"o\": {\"width\":600,\"height\":400,\"derivedAttributes\":{},\"extraOptions\":{}}\n  }\n  \n                        \n                        \n                      );\n      }\n    );/*]]>*/</script>\n    <div>\n      <span class=\"chart-total-item-count\"><p data-bind=\"text: value\"><script data-this=\"{&quot;valueId&quot;:&quot;anonb94abc6bba10ed9c351edf952cf38b12&quot;,&quot;initialValue&quot;:&quot;10&quot;}\" type=\"text/x-scoped-javascript\">/*<![CDATA[*/\nreq(\n['observable', 'knockout'],\nfunction (O, ko) {\n  ko.applyBindings({\n      value: O.makeObservable(valueId, initialValue)\n    },\n    this\n  );\n});\n        /*]]>*/</script></p> entries total</span>\n      <span class=\"chart-sampling-warning\"><p data-bind=\"text: value\"><script data-this=\"{&quot;valueId&quot;:&quot;anondfa5cc23d7005ebd8c31be732fa937e1&quot;,&quot;initialValue&quot;:&quot;&quot;}\" type=\"text/x-scoped-javascript\">/*<![CDATA[*/\nreq(\n['observable', 'knockout'],\nfunction (O, ko) {\n  ko.applyBindings({\n      value: O.makeObservable(valueId, initialValue)\n    },\n    this\n  );\n});\n        /*]]>*/</script></p></span>\n      <div>\n      </div>\n    </div></div>\n            </div></div>\n      </div>\n    </div></div>"
          },
          "output_type" : "execute_result",
          "execution_count" : 11,
          "time" : "Took: 1.577s, at 2018-01-26 09:32"
        }
      ]
    },
    {
      "metadata" : {
        "trusted" : true,
        "input_collapsed" : false,
        "collapsed" : false,
        "presentation" : {
          "tabs_state" : "{\n  \"tab_id\": \"#tab1539246015-0\"\n}",
          "pivot_chart_state" : "{\n  \"hiddenAttributes\": [],\n  \"menuLimit\": 200,\n  \"cols\": [],\n  \"rows\": [],\n  \"vals\": [],\n  \"exclusions\": {},\n  \"inclusions\": {},\n  \"unusedAttrsVertical\": 85,\n  \"autoSortUnusedAttrs\": false,\n  \"inclusionsInfo\": {},\n  \"aggregatorName\": \"Count\",\n  \"rendererName\": \"Table\"\n}"
        },
        "id" : "9EE2A176D3F443139814B03E6B118677"
      },
      "cell_type" : "code",
      "source" : [
        "// In second element of RDD, we have details of number cols and rows of each Tile in RDD\n",
        "band.map(l => l._2).take(10)"
      ],
      "outputs" : [
        {
          "name" : "stdout",
          "output_type" : "stream",
          "text" : "res17: Array[geotrellis.raster.Tile] = Array(DoubleConstantNoDataArrayTile([D@5c6074be,256,256), DoubleConstantNoDataArrayTile([D@2ab20ee2,256,256), DoubleConstantNoDataArrayTile([D@7ad3b249,256,256), DoubleConstantNoDataArrayTile([D@3fcdf7d5,256,256), DoubleConstantNoDataArrayTile([D@6057a116,256,256), DoubleConstantNoDataArrayTile([D@5a2866e0,256,256), DoubleConstantNoDataArrayTile([D@3d8ed616,256,256), DoubleConstantNoDataArrayTile([D@6d2ded2d,256,256), DoubleConstantNoDataArrayTile([D@302fae8f,256,256), DoubleConstantNoDataArrayTile([D@2929d10c,256,256))\n"
        },
        {
          "metadata" : { },
          "data" : {
            "text/html" : "<div>\n      <script data-this=\"{&quot;dataId&quot;:&quot;anon695939a2f677bd7396cdef686cd7e703&quot;,&quot;dataInit&quot;:[],&quot;genId&quot;:&quot;1539246015&quot;}\" type=\"text/x-scoped-javascript\">/*<![CDATA[*/req(['../javascripts/notebook/playground','../javascripts/notebook/magic/tabs'], \n      function(playground, _magictabs) {\n        // data ==> data-this (in observable.js's scopedEval) ==> this in JS => { dataId, dataInit, ... }\n        // this ==> scope (in observable.js's scopedEval) ==> this.parentElement ==> div.container below (toHtml)\n\n        playground.call(data,\n                        this\n                        ,\n                        {\n    \"f\": _magictabs,\n    \"o\": {}\n  }\n  \n                        \n                        \n                      );\n      }\n    );/*]]>*/</script>\n    <div>\n      <div>\n        <ul class=\"nav nav-tabs\" id=\"ul1539246015\"><li>\n              <a href=\"#tab1539246015-0\"><i class=\"fa fa-table\"/></a>\n            </li><li>\n              <a href=\"#tab1539246015-1\"><i class=\"fa fa-cubes\"/></a>\n            </li></ul>\n\n        <div class=\"tab-content\" id=\"tab1539246015\"><div class=\"tab-pane\" id=\"tab1539246015-0\">\n            <div>\n      <script data-this=\"{&quot;dataId&quot;:&quot;anon0d550a66c7aa43d92c229de66c845a3b&quot;,&quot;dataInit&quot;:[{&quot;cols&quot;:256,&quot;rows&quot;:256,&quot;cellType&quot;:&quot;float64&quot;},{&quot;cols&quot;:256,&quot;rows&quot;:256,&quot;cellType&quot;:&quot;float64&quot;},{&quot;cols&quot;:256,&quot;rows&quot;:256,&quot;cellType&quot;:&quot;float64&quot;},{&quot;cols&quot;:256,&quot;rows&quot;:256,&quot;cellType&quot;:&quot;float64&quot;},{&quot;cols&quot;:256,&quot;rows&quot;:256,&quot;cellType&quot;:&quot;float64&quot;},{&quot;cols&quot;:256,&quot;rows&quot;:256,&quot;cellType&quot;:&quot;float64&quot;},{&quot;cols&quot;:256,&quot;rows&quot;:256,&quot;cellType&quot;:&quot;float64&quot;},{&quot;cols&quot;:256,&quot;rows&quot;:256,&quot;cellType&quot;:&quot;float64&quot;},{&quot;cols&quot;:256,&quot;rows&quot;:256,&quot;cellType&quot;:&quot;float64&quot;},{&quot;cols&quot;:256,&quot;rows&quot;:256,&quot;cellType&quot;:&quot;float64&quot;}],&quot;genId&quot;:&quot;1405039412&quot;}\" type=\"text/x-scoped-javascript\">/*<![CDATA[*/req(['../javascripts/notebook/playground','../javascripts/notebook/magic/tableChart'], \n      function(playground, _magictableChart) {\n        // data ==> data-this (in observable.js's scopedEval) ==> this in JS => { dataId, dataInit, ... }\n        // this ==> scope (in observable.js's scopedEval) ==> this.parentElement ==> div.container below (toHtml)\n\n        playground.call(data,\n                        this\n                        ,\n                        {\n    \"f\": _magictableChart,\n    \"o\": {\"headers\":[\"cols\",\"rows\",\"cellType\"],\"width\":600,\"height\":400}\n  }\n  \n                        \n                        \n                      );\n      }\n    );/*]]>*/</script>\n    <div>\n      <span class=\"chart-total-item-count\"><p data-bind=\"text: value\"><script data-this=\"{&quot;valueId&quot;:&quot;anone179988b88763167a2570d80776fafa6&quot;,&quot;initialValue&quot;:&quot;10&quot;}\" type=\"text/x-scoped-javascript\">/*<![CDATA[*/\nreq(\n['observable', 'knockout'],\nfunction (O, ko) {\n  ko.applyBindings({\n      value: O.makeObservable(valueId, initialValue)\n    },\n    this\n  );\n});\n        /*]]>*/</script></p> entries total</span>\n      <span class=\"chart-sampling-warning\"><p data-bind=\"text: value\"><script data-this=\"{&quot;valueId&quot;:&quot;anond709d227598c629bec02593f122839de&quot;,&quot;initialValue&quot;:&quot;&quot;}\" type=\"text/x-scoped-javascript\">/*<![CDATA[*/\nreq(\n['observable', 'knockout'],\nfunction (O, ko) {\n  ko.applyBindings({\n      value: O.makeObservable(valueId, initialValue)\n    },\n    this\n  );\n});\n        /*]]>*/</script></p></span>\n      <div>\n      </div>\n    </div></div>\n            </div><div class=\"tab-pane\" id=\"tab1539246015-1\">\n            <div>\n      <script data-this=\"{&quot;dataId&quot;:&quot;anon3324e83c07aed731916e580f23c986ba&quot;,&quot;dataInit&quot;:[{&quot;cols&quot;:256,&quot;rows&quot;:256,&quot;cellType&quot;:&quot;float64&quot;},{&quot;cols&quot;:256,&quot;rows&quot;:256,&quot;cellType&quot;:&quot;float64&quot;},{&quot;cols&quot;:256,&quot;rows&quot;:256,&quot;cellType&quot;:&quot;float64&quot;},{&quot;cols&quot;:256,&quot;rows&quot;:256,&quot;cellType&quot;:&quot;float64&quot;},{&quot;cols&quot;:256,&quot;rows&quot;:256,&quot;cellType&quot;:&quot;float64&quot;},{&quot;cols&quot;:256,&quot;rows&quot;:256,&quot;cellType&quot;:&quot;float64&quot;},{&quot;cols&quot;:256,&quot;rows&quot;:256,&quot;cellType&quot;:&quot;float64&quot;},{&quot;cols&quot;:256,&quot;rows&quot;:256,&quot;cellType&quot;:&quot;float64&quot;},{&quot;cols&quot;:256,&quot;rows&quot;:256,&quot;cellType&quot;:&quot;float64&quot;},{&quot;cols&quot;:256,&quot;rows&quot;:256,&quot;cellType&quot;:&quot;float64&quot;}],&quot;genId&quot;:&quot;848330645&quot;}\" type=\"text/x-scoped-javascript\">/*<![CDATA[*/req(['../javascripts/notebook/playground','../javascripts/notebook/magic/pivotChart'], \n      function(playground, _magicpivotChart) {\n        // data ==> data-this (in observable.js's scopedEval) ==> this in JS => { dataId, dataInit, ... }\n        // this ==> scope (in observable.js's scopedEval) ==> this.parentElement ==> div.container below (toHtml)\n\n        playground.call(data,\n                        this\n                        ,\n                        {\n    \"f\": _magicpivotChart,\n    \"o\": {\"width\":600,\"height\":400,\"derivedAttributes\":{},\"extraOptions\":{}}\n  }\n  \n                        \n                        \n                      );\n      }\n    );/*]]>*/</script>\n    <div>\n      <span class=\"chart-total-item-count\"><p data-bind=\"text: value\"><script data-this=\"{&quot;valueId&quot;:&quot;anoncd728d711b83fcafea1f9ef8fba16467&quot;,&quot;initialValue&quot;:&quot;10&quot;}\" type=\"text/x-scoped-javascript\">/*<![CDATA[*/\nreq(\n['observable', 'knockout'],\nfunction (O, ko) {\n  ko.applyBindings({\n      value: O.makeObservable(valueId, initialValue)\n    },\n    this\n  );\n});\n        /*]]>*/</script></p> entries total</span>\n      <span class=\"chart-sampling-warning\"><p data-bind=\"text: value\"><script data-this=\"{&quot;valueId&quot;:&quot;anon43fd5bff98de5ca7bcedbbc88d38068a&quot;,&quot;initialValue&quot;:&quot;&quot;}\" type=\"text/x-scoped-javascript\">/*<![CDATA[*/\nreq(\n['observable', 'knockout'],\nfunction (O, ko) {\n  ko.applyBindings({\n      value: O.makeObservable(valueId, initialValue)\n    },\n    this\n  );\n});\n        /*]]>*/</script></p></span>\n      <div>\n      </div>\n    </div></div>\n            </div></div>\n      </div>\n    </div></div>"
          },
          "output_type" : "execute_result",
          "execution_count" : 12,
          "time" : "Took: 1.967s, at 2018-01-26 09:32"
        }
      ]
    },
    {
      "metadata" : {
        "id" : "53156A7DDFD04E79AE1681DBA0E4F21A"
      },
      "cell_type" : "markdown",
      "source" : "# We can convert ProjectedExtent to SpatialKey...\n\nIn Spark - Geotrellis, instead of using ProjectedExtent, we can also use SpatialKey.\n\nA SpatialKey indicates the spatial positioning of a layer's tile. It's a grid or cube of Tiles. But in resume, we can say TileLayer is Tile simply.."
    },
    {
      "metadata" : {
        "trusted" : true,
        "input_collapsed" : false,
        "collapsed" : false,
        "id" : "690800C9ADA04031B136B60F2FC1693F"
      },
      "cell_type" : "code",
      "source" : [
        "// We find metadata (\"or \"Layer Metadata\", stores information critical to Tile Layer IO.\")\n",
        "val (_, metadata) = band.collectMetadata[SpatialKey](FloatingLayoutScheme())\n",
        "\n",
        "// and tiles\n",
        "val tiles = band.tileToLayout[SpatialKey](metadata)"
      ],
      "outputs" : [
        {
          "name" : "stdout",
          "output_type" : "stream",
          "text" : "metadata: geotrellis.spark.TileLayerMetadata[geotrellis.spark.SpatialKey] = TileLayerMetadata(float64,GridExtent(Extent(528585.0, 1156335.0, 758985.0, 1394415.0),30.0,30.0),Extent(528585.0, 1162785.0, 755415.0, 1394415.0),EPSG:32648,KeyBounds(SpatialKey(0,0),SpatialKey(29,30)))\ntiles: org.apache.spark.rdd.RDD[(geotrellis.spark.SpatialKey, geotrellis.raster.Tile)] = ShuffledRDD[21] at reduceByKey at TileRDDMerge.scala:51\n"
        },
        {
          "metadata" : { },
          "data" : {
            "text/html" : ""
          },
          "output_type" : "execute_result",
          "execution_count" : 13,
          "time" : "Took: 1.897s, at 2018-01-26 09:32"
        }
      ]
    },
    {
      "metadata" : {
        "trusted" : true,
        "input_collapsed" : false,
        "collapsed" : false,
        "presentation" : {
          "tabs_state" : "{\n  \"tab_id\": \"#tab589293548-0\"\n}",
          "pivot_chart_state" : "{\n  \"hiddenAttributes\": [],\n  \"menuLimit\": 200,\n  \"cols\": [],\n  \"rows\": [],\n  \"vals\": [],\n  \"exclusions\": {},\n  \"inclusions\": {},\n  \"unusedAttrsVertical\": 85,\n  \"autoSortUnusedAttrs\": false,\n  \"inclusionsInfo\": {},\n  \"aggregatorName\": \"Count\",\n  \"rendererName\": \"Table\"\n}"
        },
        "id" : "4E920CF719584CB28325EFAE527BFF58"
      },
      "cell_type" : "code",
      "source" : [
        "// What will we have in SpatialKey?\n",
        "tiles.map(l => l._1).take(10)"
      ],
      "outputs" : [
        {
          "name" : "stdout",
          "output_type" : "stream",
          "text" : "res20: Array[geotrellis.spark.SpatialKey] = Array(SpatialKey(10,26), SpatialKey(28,27), SpatialKey(6,17), SpatialKey(0,24), SpatialKey(27,11), SpatialKey(23,1), SpatialKey(24,14), SpatialKey(14,27), SpatialKey(29,13), SpatialKey(7,3))\n"
        },
        {
          "metadata" : { },
          "data" : {
            "text/html" : "<div>\n      <script data-this=\"{&quot;dataId&quot;:&quot;anon3e32ce704bba19a4c179d4b2caa10bee&quot;,&quot;dataInit&quot;:[],&quot;genId&quot;:&quot;589293548&quot;}\" type=\"text/x-scoped-javascript\">/*<![CDATA[*/req(['../javascripts/notebook/playground','../javascripts/notebook/magic/tabs'], \n      function(playground, _magictabs) {\n        // data ==> data-this (in observable.js's scopedEval) ==> this in JS => { dataId, dataInit, ... }\n        // this ==> scope (in observable.js's scopedEval) ==> this.parentElement ==> div.container below (toHtml)\n\n        playground.call(data,\n                        this\n                        ,\n                        {\n    \"f\": _magictabs,\n    \"o\": {}\n  }\n  \n                        \n                        \n                      );\n      }\n    );/*]]>*/</script>\n    <div>\n      <div>\n        <ul class=\"nav nav-tabs\" id=\"ul589293548\"><li>\n              <a href=\"#tab589293548-0\"><i class=\"fa fa-table\"/></a>\n            </li><li>\n              <a href=\"#tab589293548-1\"><i class=\"fa fa-dot-circle-o\"/></a>\n            </li><li>\n              <a href=\"#tab589293548-2\"><i class=\"fa fa-line-chart\"/></a>\n            </li><li>\n              <a href=\"#tab589293548-3\"><i class=\"fa fa-bar-chart\"/></a>\n            </li><li>\n              <a href=\"#tab589293548-4\"><i class=\"fa fa-cubes\"/></a>\n            </li></ul>\n\n        <div class=\"tab-content\" id=\"tab589293548\"><div class=\"tab-pane\" id=\"tab589293548-0\">\n            <div>\n      <script data-this=\"{&quot;dataId&quot;:&quot;anone2f1552ecfa89b09df63247d25a858d0&quot;,&quot;dataInit&quot;:[{&quot;col&quot;:10,&quot;row&quot;:26},{&quot;col&quot;:28,&quot;row&quot;:27},{&quot;col&quot;:6,&quot;row&quot;:17},{&quot;col&quot;:0,&quot;row&quot;:24},{&quot;col&quot;:27,&quot;row&quot;:11},{&quot;col&quot;:23,&quot;row&quot;:1},{&quot;col&quot;:24,&quot;row&quot;:14},{&quot;col&quot;:14,&quot;row&quot;:27},{&quot;col&quot;:29,&quot;row&quot;:13},{&quot;col&quot;:7,&quot;row&quot;:3}],&quot;genId&quot;:&quot;1124437821&quot;}\" type=\"text/x-scoped-javascript\">/*<![CDATA[*/req(['../javascripts/notebook/playground','../javascripts/notebook/magic/tableChart'], \n      function(playground, _magictableChart) {\n        // data ==> data-this (in observable.js's scopedEval) ==> this in JS => { dataId, dataInit, ... }\n        // this ==> scope (in observable.js's scopedEval) ==> this.parentElement ==> div.container below (toHtml)\n\n        playground.call(data,\n                        this\n                        ,\n                        {\n    \"f\": _magictableChart,\n    \"o\": {\"headers\":[\"col\",\"row\"],\"width\":600,\"height\":400}\n  }\n  \n                        \n                        \n                      );\n      }\n    );/*]]>*/</script>\n    <div>\n      <span class=\"chart-total-item-count\"><p data-bind=\"text: value\"><script data-this=\"{&quot;valueId&quot;:&quot;anon0fbd437e08d0e900a521e80173bdab0b&quot;,&quot;initialValue&quot;:&quot;10&quot;}\" type=\"text/x-scoped-javascript\">/*<![CDATA[*/\nreq(\n['observable', 'knockout'],\nfunction (O, ko) {\n  ko.applyBindings({\n      value: O.makeObservable(valueId, initialValue)\n    },\n    this\n  );\n});\n        /*]]>*/</script></p> entries total</span>\n      <span class=\"chart-sampling-warning\"><p data-bind=\"text: value\"><script data-this=\"{&quot;valueId&quot;:&quot;anonc567e3e8cd694556661201d70a76bcc7&quot;,&quot;initialValue&quot;:&quot;&quot;}\" type=\"text/x-scoped-javascript\">/*<![CDATA[*/\nreq(\n['observable', 'knockout'],\nfunction (O, ko) {\n  ko.applyBindings({\n      value: O.makeObservable(valueId, initialValue)\n    },\n    this\n  );\n});\n        /*]]>*/</script></p></span>\n      <div>\n      </div>\n    </div></div>\n            </div><div class=\"tab-pane\" id=\"tab589293548-1\">\n            <div>\n      <script data-this=\"{&quot;dataId&quot;:&quot;anon4ff301bc1700f9099bcb731ba6578397&quot;,&quot;dataInit&quot;:[{&quot;col&quot;:10,&quot;row&quot;:26},{&quot;col&quot;:28,&quot;row&quot;:27},{&quot;col&quot;:6,&quot;row&quot;:17},{&quot;col&quot;:0,&quot;row&quot;:24},{&quot;col&quot;:27,&quot;row&quot;:11},{&quot;col&quot;:23,&quot;row&quot;:1},{&quot;col&quot;:24,&quot;row&quot;:14},{&quot;col&quot;:14,&quot;row&quot;:27},{&quot;col&quot;:29,&quot;row&quot;:13},{&quot;col&quot;:7,&quot;row&quot;:3}],&quot;genId&quot;:&quot;487748347&quot;}\" type=\"text/x-scoped-javascript\">/*<![CDATA[*/req(['../javascripts/notebook/playground','../javascripts/notebook/magic/scatterChart'], \n      function(playground, _magicscatterChart) {\n        // data ==> data-this (in observable.js's scopedEval) ==> this in JS => { dataId, dataInit, ... }\n        // this ==> scope (in observable.js's scopedEval) ==> this.parentElement ==> div.container below (toHtml)\n\n        playground.call(data,\n                        this\n                        ,\n                        {\n    \"f\": _magicscatterChart,\n    \"o\": {\"x\":\"col\",\"y\":\"row\",\"width\":600,\"height\":400}\n  }\n  \n                        \n                        \n                      );\n      }\n    );/*]]>*/</script>\n    <div>\n      <span class=\"chart-total-item-count\"><p data-bind=\"text: value\"><script data-this=\"{&quot;valueId&quot;:&quot;anonfe183b8e63dfe7f6b39de689ca227bfd&quot;,&quot;initialValue&quot;:&quot;10&quot;}\" type=\"text/x-scoped-javascript\">/*<![CDATA[*/\nreq(\n['observable', 'knockout'],\nfunction (O, ko) {\n  ko.applyBindings({\n      value: O.makeObservable(valueId, initialValue)\n    },\n    this\n  );\n});\n        /*]]>*/</script></p> entries total</span>\n      <span class=\"chart-sampling-warning\"><p data-bind=\"text: value\"><script data-this=\"{&quot;valueId&quot;:&quot;anon2d93985a9d9dbfacee90694f9e300075&quot;,&quot;initialValue&quot;:&quot;&quot;}\" type=\"text/x-scoped-javascript\">/*<![CDATA[*/\nreq(\n['observable', 'knockout'],\nfunction (O, ko) {\n  ko.applyBindings({\n      value: O.makeObservable(valueId, initialValue)\n    },\n    this\n  );\n});\n        /*]]>*/</script></p></span>\n      <div>\n      </div>\n    </div></div>\n            </div><div class=\"tab-pane\" id=\"tab589293548-2\">\n            <div>\n      <script data-this=\"{&quot;dataId&quot;:&quot;anon398548ac7936e880adc4b3741719d551&quot;,&quot;dataInit&quot;:[{&quot;col&quot;:10,&quot;row&quot;:26},{&quot;col&quot;:28,&quot;row&quot;:27},{&quot;col&quot;:6,&quot;row&quot;:17},{&quot;col&quot;:0,&quot;row&quot;:24},{&quot;col&quot;:27,&quot;row&quot;:11},{&quot;col&quot;:23,&quot;row&quot;:1},{&quot;col&quot;:24,&quot;row&quot;:14},{&quot;col&quot;:14,&quot;row&quot;:27},{&quot;col&quot;:29,&quot;row&quot;:13},{&quot;col&quot;:7,&quot;row&quot;:3}],&quot;genId&quot;:&quot;1459401990&quot;}\" type=\"text/x-scoped-javascript\">/*<![CDATA[*/req(['../javascripts/notebook/playground','../javascripts/notebook/magic/lineChart'], \n      function(playground, _magiclineChart) {\n        // data ==> data-this (in observable.js's scopedEval) ==> this in JS => { dataId, dataInit, ... }\n        // this ==> scope (in observable.js's scopedEval) ==> this.parentElement ==> div.container below (toHtml)\n\n        playground.call(data,\n                        this\n                        ,\n                        {\n    \"f\": _magiclineChart,\n    \"o\": {\"x\":\"col\",\"y\":\"row\",\"width\":600,\"height\":400}\n  }\n  \n                        \n                        \n                      );\n      }\n    );/*]]>*/</script>\n    <div>\n      <span class=\"chart-total-item-count\"><p data-bind=\"text: value\"><script data-this=\"{&quot;valueId&quot;:&quot;anon8645fcad3a5929db6c455191d5882f4c&quot;,&quot;initialValue&quot;:&quot;10&quot;}\" type=\"text/x-scoped-javascript\">/*<![CDATA[*/\nreq(\n['observable', 'knockout'],\nfunction (O, ko) {\n  ko.applyBindings({\n      value: O.makeObservable(valueId, initialValue)\n    },\n    this\n  );\n});\n        /*]]>*/</script></p> entries total</span>\n      <span class=\"chart-sampling-warning\"><p data-bind=\"text: value\"><script data-this=\"{&quot;valueId&quot;:&quot;anone9ec5c7915b30a00e3a1b42b715dc41c&quot;,&quot;initialValue&quot;:&quot;&quot;}\" type=\"text/x-scoped-javascript\">/*<![CDATA[*/\nreq(\n['observable', 'knockout'],\nfunction (O, ko) {\n  ko.applyBindings({\n      value: O.makeObservable(valueId, initialValue)\n    },\n    this\n  );\n});\n        /*]]>*/</script></p></span>\n      <div>\n      </div>\n    </div></div>\n            </div><div class=\"tab-pane\" id=\"tab589293548-3\">\n            <div>\n      <script data-this=\"{&quot;dataId&quot;:&quot;anon3798aa4f0cdbfd54a1b29e774a9857e0&quot;,&quot;dataInit&quot;:[{&quot;col&quot;:10,&quot;row&quot;:26},{&quot;col&quot;:28,&quot;row&quot;:27},{&quot;col&quot;:6,&quot;row&quot;:17},{&quot;col&quot;:0,&quot;row&quot;:24},{&quot;col&quot;:27,&quot;row&quot;:11},{&quot;col&quot;:23,&quot;row&quot;:1},{&quot;col&quot;:24,&quot;row&quot;:14},{&quot;col&quot;:14,&quot;row&quot;:27},{&quot;col&quot;:29,&quot;row&quot;:13},{&quot;col&quot;:7,&quot;row&quot;:3}],&quot;genId&quot;:&quot;1383443273&quot;}\" type=\"text/x-scoped-javascript\">/*<![CDATA[*/req(['../javascripts/notebook/playground','../javascripts/notebook/magic/barChart'], \n      function(playground, _magicbarChart) {\n        // data ==> data-this (in observable.js's scopedEval) ==> this in JS => { dataId, dataInit, ... }\n        // this ==> scope (in observable.js's scopedEval) ==> this.parentElement ==> div.container below (toHtml)\n\n        playground.call(data,\n                        this\n                        ,\n                        {\n    \"f\": _magicbarChart,\n    \"o\": {\"x\":\"col\",\"y\":\"row\",\"width\":600,\"height\":400}\n  }\n  \n                        \n                        \n                      );\n      }\n    );/*]]>*/</script>\n    <div>\n      <span class=\"chart-total-item-count\"><p data-bind=\"text: value\"><script data-this=\"{&quot;valueId&quot;:&quot;anon6a758bbcc7ef72d504472ba0ed228510&quot;,&quot;initialValue&quot;:&quot;10&quot;}\" type=\"text/x-scoped-javascript\">/*<![CDATA[*/\nreq(\n['observable', 'knockout'],\nfunction (O, ko) {\n  ko.applyBindings({\n      value: O.makeObservable(valueId, initialValue)\n    },\n    this\n  );\n});\n        /*]]>*/</script></p> entries total</span>\n      <span class=\"chart-sampling-warning\"><p data-bind=\"text: value\"><script data-this=\"{&quot;valueId&quot;:&quot;anon15427558ce76e404acdee0f48f0259b6&quot;,&quot;initialValue&quot;:&quot;&quot;}\" type=\"text/x-scoped-javascript\">/*<![CDATA[*/\nreq(\n['observable', 'knockout'],\nfunction (O, ko) {\n  ko.applyBindings({\n      value: O.makeObservable(valueId, initialValue)\n    },\n    this\n  );\n});\n        /*]]>*/</script></p></span>\n      <div>\n      </div>\n    </div></div>\n            </div><div class=\"tab-pane\" id=\"tab589293548-4\">\n            <div>\n      <script data-this=\"{&quot;dataId&quot;:&quot;anon5eb0a0bb5b86b0646639920c34544db3&quot;,&quot;dataInit&quot;:[{&quot;col&quot;:10,&quot;row&quot;:26},{&quot;col&quot;:28,&quot;row&quot;:27},{&quot;col&quot;:6,&quot;row&quot;:17},{&quot;col&quot;:0,&quot;row&quot;:24},{&quot;col&quot;:27,&quot;row&quot;:11},{&quot;col&quot;:23,&quot;row&quot;:1},{&quot;col&quot;:24,&quot;row&quot;:14},{&quot;col&quot;:14,&quot;row&quot;:27},{&quot;col&quot;:29,&quot;row&quot;:13},{&quot;col&quot;:7,&quot;row&quot;:3}],&quot;genId&quot;:&quot;5299444&quot;}\" type=\"text/x-scoped-javascript\">/*<![CDATA[*/req(['../javascripts/notebook/playground','../javascripts/notebook/magic/pivotChart'], \n      function(playground, _magicpivotChart) {\n        // data ==> data-this (in observable.js's scopedEval) ==> this in JS => { dataId, dataInit, ... }\n        // this ==> scope (in observable.js's scopedEval) ==> this.parentElement ==> div.container below (toHtml)\n\n        playground.call(data,\n                        this\n                        ,\n                        {\n    \"f\": _magicpivotChart,\n    \"o\": {\"width\":600,\"height\":400,\"derivedAttributes\":{},\"extraOptions\":{}}\n  }\n  \n                        \n                        \n                      );\n      }\n    );/*]]>*/</script>\n    <div>\n      <span class=\"chart-total-item-count\"><p data-bind=\"text: value\"><script data-this=\"{&quot;valueId&quot;:&quot;anonc37be2d7b69be51999d8402eaf774757&quot;,&quot;initialValue&quot;:&quot;10&quot;}\" type=\"text/x-scoped-javascript\">/*<![CDATA[*/\nreq(\n['observable', 'knockout'],\nfunction (O, ko) {\n  ko.applyBindings({\n      value: O.makeObservable(valueId, initialValue)\n    },\n    this\n  );\n});\n        /*]]>*/</script></p> entries total</span>\n      <span class=\"chart-sampling-warning\"><p data-bind=\"text: value\"><script data-this=\"{&quot;valueId&quot;:&quot;anon6049447ac50d3b65dd24d980d58c8934&quot;,&quot;initialValue&quot;:&quot;&quot;}\" type=\"text/x-scoped-javascript\">/*<![CDATA[*/\nreq(\n['observable', 'knockout'],\nfunction (O, ko) {\n  ko.applyBindings({\n      value: O.makeObservable(valueId, initialValue)\n    },\n    this\n  );\n});\n        /*]]>*/</script></p></span>\n      <div>\n      </div>\n    </div></div>\n            </div></div>\n      </div>\n    </div></div>"
          },
          "output_type" : "execute_result",
          "execution_count" : 14,
          "time" : "Took: 3.289s, at 2018-01-26 09:32"
        }
      ]
    },
    {
      "metadata" : {
        "trusted" : true,
        "input_collapsed" : false,
        "collapsed" : false,
        "presentation" : {
          "tabs_state" : "{\n  \"tab_id\": \"#tab913047831-0\"\n}",
          "pivot_chart_state" : "{\n  \"hiddenAttributes\": [],\n  \"menuLimit\": 200,\n  \"cols\": [],\n  \"rows\": [],\n  \"vals\": [],\n  \"exclusions\": {},\n  \"inclusions\": {},\n  \"unusedAttrsVertical\": 85,\n  \"autoSortUnusedAttrs\": false,\n  \"inclusionsInfo\": {},\n  \"aggregatorName\": \"Count\",\n  \"rendererName\": \"Table\"\n}"
        },
        "id" : "1963F5F00F064DAC8371CB0091FE9824"
      },
      "cell_type" : "code",
      "source" : [
        "/*\n",
        "So we can see clearly here that we have in SpatialKey, we have 30 columns and 31 rows so the number of TileLayers is 30*31 = 960\n",
        "It's also number of Tiles!\n",
        "*/\n",
        "tiles.map(l => (l._1.col, l._1.row)).map(l => (l._1, 1)).reduceByKey(_ + _).take(50)"
      ],
      "outputs" : [
        {
          "name" : "stdout",
          "output_type" : "stream",
          "text" : "res22: Array[(Int, Int)] = Array((0,31), (1,31), (2,31), (3,31), (4,31), (5,31), (6,31), (7,31), (8,31), (9,31), (10,31), (11,31), (12,31), (13,31), (14,31), (15,31), (16,31), (17,31), (18,31), (19,31), (20,31), (21,31), (22,31), (23,31), (24,31), (25,31), (26,31), (27,31), (28,31), (29,31))\n"
        },
        {
          "metadata" : { },
          "data" : {
            "text/html" : "<div>\n      <script data-this=\"{&quot;dataId&quot;:&quot;anon607d0272b6b7c32472b9f20351cbb2ec&quot;,&quot;dataInit&quot;:[],&quot;genId&quot;:&quot;913047831&quot;}\" type=\"text/x-scoped-javascript\">/*<![CDATA[*/req(['../javascripts/notebook/playground','../javascripts/notebook/magic/tabs'], \n      function(playground, _magictabs) {\n        // data ==> data-this (in observable.js's scopedEval) ==> this in JS => { dataId, dataInit, ... }\n        // this ==> scope (in observable.js's scopedEval) ==> this.parentElement ==> div.container below (toHtml)\n\n        playground.call(data,\n                        this\n                        ,\n                        {\n    \"f\": _magictabs,\n    \"o\": {}\n  }\n  \n                        \n                        \n                      );\n      }\n    );/*]]>*/</script>\n    <div>\n      <div>\n        <ul class=\"nav nav-tabs\" id=\"ul913047831\"><li>\n              <a href=\"#tab913047831-0\"><i class=\"fa fa-table\"/></a>\n            </li><li>\n              <a href=\"#tab913047831-1\"><i class=\"fa fa-dot-circle-o\"/></a>\n            </li><li>\n              <a href=\"#tab913047831-2\"><i class=\"fa fa-line-chart\"/></a>\n            </li><li>\n              <a href=\"#tab913047831-3\"><i class=\"fa fa-bar-chart\"/></a>\n            </li><li>\n              <a href=\"#tab913047831-4\"><i class=\"fa fa-cubes\"/></a>\n            </li></ul>\n\n        <div class=\"tab-content\" id=\"tab913047831\"><div class=\"tab-pane\" id=\"tab913047831-0\">\n            <div>\n      <script data-this=\"{&quot;dataId&quot;:&quot;anon49a0c10c00033c0cfa2a8e4de6bfc7d2&quot;,&quot;dataInit&quot;:[{&quot;_1&quot;:0,&quot;_2&quot;:31},{&quot;_1&quot;:1,&quot;_2&quot;:31},{&quot;_1&quot;:2,&quot;_2&quot;:31},{&quot;_1&quot;:3,&quot;_2&quot;:31},{&quot;_1&quot;:4,&quot;_2&quot;:31},{&quot;_1&quot;:5,&quot;_2&quot;:31},{&quot;_1&quot;:6,&quot;_2&quot;:31},{&quot;_1&quot;:7,&quot;_2&quot;:31},{&quot;_1&quot;:8,&quot;_2&quot;:31},{&quot;_1&quot;:9,&quot;_2&quot;:31},{&quot;_1&quot;:10,&quot;_2&quot;:31},{&quot;_1&quot;:11,&quot;_2&quot;:31},{&quot;_1&quot;:12,&quot;_2&quot;:31},{&quot;_1&quot;:13,&quot;_2&quot;:31},{&quot;_1&quot;:14,&quot;_2&quot;:31},{&quot;_1&quot;:15,&quot;_2&quot;:31},{&quot;_1&quot;:16,&quot;_2&quot;:31},{&quot;_1&quot;:17,&quot;_2&quot;:31},{&quot;_1&quot;:18,&quot;_2&quot;:31},{&quot;_1&quot;:19,&quot;_2&quot;:31},{&quot;_1&quot;:20,&quot;_2&quot;:31},{&quot;_1&quot;:21,&quot;_2&quot;:31},{&quot;_1&quot;:22,&quot;_2&quot;:31},{&quot;_1&quot;:23,&quot;_2&quot;:31},{&quot;_1&quot;:24,&quot;_2&quot;:31},{&quot;_1&quot;:25,&quot;_2&quot;:31},{&quot;_1&quot;:26,&quot;_2&quot;:31},{&quot;_1&quot;:27,&quot;_2&quot;:31},{&quot;_1&quot;:28,&quot;_2&quot;:31},{&quot;_1&quot;:29,&quot;_2&quot;:31}],&quot;genId&quot;:&quot;817360454&quot;}\" type=\"text/x-scoped-javascript\">/*<![CDATA[*/req(['../javascripts/notebook/playground','../javascripts/notebook/magic/tableChart'], \n      function(playground, _magictableChart) {\n        // data ==> data-this (in observable.js's scopedEval) ==> this in JS => { dataId, dataInit, ... }\n        // this ==> scope (in observable.js's scopedEval) ==> this.parentElement ==> div.container below (toHtml)\n\n        playground.call(data,\n                        this\n                        ,\n                        {\n    \"f\": _magictableChart,\n    \"o\": {\"headers\":[\"_1\",\"_2\"],\"width\":600,\"height\":400}\n  }\n  \n                        \n                        \n                      );\n      }\n    );/*]]>*/</script>\n    <div>\n      <span class=\"chart-total-item-count\"><p data-bind=\"text: value\"><script data-this=\"{&quot;valueId&quot;:&quot;anon574d79064267d5ff28eef8cd2ba4ef9a&quot;,&quot;initialValue&quot;:&quot;30&quot;}\" type=\"text/x-scoped-javascript\">/*<![CDATA[*/\nreq(\n['observable', 'knockout'],\nfunction (O, ko) {\n  ko.applyBindings({\n      value: O.makeObservable(valueId, initialValue)\n    },\n    this\n  );\n});\n        /*]]>*/</script></p> entries total</span>\n      <span class=\"chart-sampling-warning\"><p data-bind=\"text: value\"><script data-this=\"{&quot;valueId&quot;:&quot;anondd007add88f008d5aff61ded091a33c4&quot;,&quot;initialValue&quot;:&quot;&quot;}\" type=\"text/x-scoped-javascript\">/*<![CDATA[*/\nreq(\n['observable', 'knockout'],\nfunction (O, ko) {\n  ko.applyBindings({\n      value: O.makeObservable(valueId, initialValue)\n    },\n    this\n  );\n});\n        /*]]>*/</script></p></span>\n      <div>\n      </div>\n    </div></div>\n            </div><div class=\"tab-pane\" id=\"tab913047831-1\">\n            <div>\n      <script data-this=\"{&quot;dataId&quot;:&quot;anon19b6025577f73395342358132d7c0397&quot;,&quot;dataInit&quot;:[{&quot;_1&quot;:0,&quot;_2&quot;:31},{&quot;_1&quot;:1,&quot;_2&quot;:31},{&quot;_1&quot;:2,&quot;_2&quot;:31},{&quot;_1&quot;:3,&quot;_2&quot;:31},{&quot;_1&quot;:4,&quot;_2&quot;:31},{&quot;_1&quot;:5,&quot;_2&quot;:31},{&quot;_1&quot;:6,&quot;_2&quot;:31},{&quot;_1&quot;:7,&quot;_2&quot;:31},{&quot;_1&quot;:8,&quot;_2&quot;:31},{&quot;_1&quot;:9,&quot;_2&quot;:31},{&quot;_1&quot;:10,&quot;_2&quot;:31},{&quot;_1&quot;:11,&quot;_2&quot;:31},{&quot;_1&quot;:12,&quot;_2&quot;:31},{&quot;_1&quot;:13,&quot;_2&quot;:31},{&quot;_1&quot;:14,&quot;_2&quot;:31},{&quot;_1&quot;:15,&quot;_2&quot;:31},{&quot;_1&quot;:16,&quot;_2&quot;:31},{&quot;_1&quot;:17,&quot;_2&quot;:31},{&quot;_1&quot;:18,&quot;_2&quot;:31},{&quot;_1&quot;:19,&quot;_2&quot;:31},{&quot;_1&quot;:20,&quot;_2&quot;:31},{&quot;_1&quot;:21,&quot;_2&quot;:31},{&quot;_1&quot;:22,&quot;_2&quot;:31},{&quot;_1&quot;:23,&quot;_2&quot;:31},{&quot;_1&quot;:24,&quot;_2&quot;:31},{&quot;_1&quot;:25,&quot;_2&quot;:31},{&quot;_1&quot;:26,&quot;_2&quot;:31},{&quot;_1&quot;:27,&quot;_2&quot;:31},{&quot;_1&quot;:28,&quot;_2&quot;:31},{&quot;_1&quot;:29,&quot;_2&quot;:31}],&quot;genId&quot;:&quot;747769597&quot;}\" type=\"text/x-scoped-javascript\">/*<![CDATA[*/req(['../javascripts/notebook/playground','../javascripts/notebook/magic/scatterChart'], \n      function(playground, _magicscatterChart) {\n        // data ==> data-this (in observable.js's scopedEval) ==> this in JS => { dataId, dataInit, ... }\n        // this ==> scope (in observable.js's scopedEval) ==> this.parentElement ==> div.container below (toHtml)\n\n        playground.call(data,\n                        this\n                        ,\n                        {\n    \"f\": _magicscatterChart,\n    \"o\": {\"x\":\"_1\",\"y\":\"_2\",\"width\":600,\"height\":400}\n  }\n  \n                        \n                        \n                      );\n      }\n    );/*]]>*/</script>\n    <div>\n      <span class=\"chart-total-item-count\"><p data-bind=\"text: value\"><script data-this=\"{&quot;valueId&quot;:&quot;anon3277bcad46a9b893680976f75e4e2ae2&quot;,&quot;initialValue&quot;:&quot;30&quot;}\" type=\"text/x-scoped-javascript\">/*<![CDATA[*/\nreq(\n['observable', 'knockout'],\nfunction (O, ko) {\n  ko.applyBindings({\n      value: O.makeObservable(valueId, initialValue)\n    },\n    this\n  );\n});\n        /*]]>*/</script></p> entries total</span>\n      <span class=\"chart-sampling-warning\"><p data-bind=\"text: value\"><script data-this=\"{&quot;valueId&quot;:&quot;anoned32c156c81165685959890800727a37&quot;,&quot;initialValue&quot;:&quot;&quot;}\" type=\"text/x-scoped-javascript\">/*<![CDATA[*/\nreq(\n['observable', 'knockout'],\nfunction (O, ko) {\n  ko.applyBindings({\n      value: O.makeObservable(valueId, initialValue)\n    },\n    this\n  );\n});\n        /*]]>*/</script></p></span>\n      <div>\n      </div>\n    </div></div>\n            </div><div class=\"tab-pane\" id=\"tab913047831-2\">\n            <div>\n      <script data-this=\"{&quot;dataId&quot;:&quot;anon6e2bd906cd4bbab5fae91b755a926e2d&quot;,&quot;dataInit&quot;:[{&quot;_1&quot;:0,&quot;_2&quot;:31},{&quot;_1&quot;:1,&quot;_2&quot;:31},{&quot;_1&quot;:2,&quot;_2&quot;:31},{&quot;_1&quot;:3,&quot;_2&quot;:31},{&quot;_1&quot;:4,&quot;_2&quot;:31},{&quot;_1&quot;:5,&quot;_2&quot;:31},{&quot;_1&quot;:6,&quot;_2&quot;:31},{&quot;_1&quot;:7,&quot;_2&quot;:31},{&quot;_1&quot;:8,&quot;_2&quot;:31},{&quot;_1&quot;:9,&quot;_2&quot;:31},{&quot;_1&quot;:10,&quot;_2&quot;:31},{&quot;_1&quot;:11,&quot;_2&quot;:31},{&quot;_1&quot;:12,&quot;_2&quot;:31},{&quot;_1&quot;:13,&quot;_2&quot;:31},{&quot;_1&quot;:14,&quot;_2&quot;:31},{&quot;_1&quot;:15,&quot;_2&quot;:31},{&quot;_1&quot;:16,&quot;_2&quot;:31},{&quot;_1&quot;:17,&quot;_2&quot;:31},{&quot;_1&quot;:18,&quot;_2&quot;:31},{&quot;_1&quot;:19,&quot;_2&quot;:31},{&quot;_1&quot;:20,&quot;_2&quot;:31},{&quot;_1&quot;:21,&quot;_2&quot;:31},{&quot;_1&quot;:22,&quot;_2&quot;:31},{&quot;_1&quot;:23,&quot;_2&quot;:31},{&quot;_1&quot;:24,&quot;_2&quot;:31},{&quot;_1&quot;:25,&quot;_2&quot;:31},{&quot;_1&quot;:26,&quot;_2&quot;:31},{&quot;_1&quot;:27,&quot;_2&quot;:31},{&quot;_1&quot;:28,&quot;_2&quot;:31},{&quot;_1&quot;:29,&quot;_2&quot;:31}],&quot;genId&quot;:&quot;1882629595&quot;}\" type=\"text/x-scoped-javascript\">/*<![CDATA[*/req(['../javascripts/notebook/playground','../javascripts/notebook/magic/lineChart'], \n      function(playground, _magiclineChart) {\n        // data ==> data-this (in observable.js's scopedEval) ==> this in JS => { dataId, dataInit, ... }\n        // this ==> scope (in observable.js's scopedEval) ==> this.parentElement ==> div.container below (toHtml)\n\n        playground.call(data,\n                        this\n                        ,\n                        {\n    \"f\": _magiclineChart,\n    \"o\": {\"x\":\"_1\",\"y\":\"_2\",\"width\":600,\"height\":400}\n  }\n  \n                        \n                        \n                      );\n      }\n    );/*]]>*/</script>\n    <div>\n      <span class=\"chart-total-item-count\"><p data-bind=\"text: value\"><script data-this=\"{&quot;valueId&quot;:&quot;anon9cc7a71e1e07e7079ff4174df12e5334&quot;,&quot;initialValue&quot;:&quot;30&quot;}\" type=\"text/x-scoped-javascript\">/*<![CDATA[*/\nreq(\n['observable', 'knockout'],\nfunction (O, ko) {\n  ko.applyBindings({\n      value: O.makeObservable(valueId, initialValue)\n    },\n    this\n  );\n});\n        /*]]>*/</script></p> entries total</span>\n      <span class=\"chart-sampling-warning\"><p data-bind=\"text: value\"><script data-this=\"{&quot;valueId&quot;:&quot;anona09a3b5f6c06ef074538040c83275089&quot;,&quot;initialValue&quot;:&quot;&quot;}\" type=\"text/x-scoped-javascript\">/*<![CDATA[*/\nreq(\n['observable', 'knockout'],\nfunction (O, ko) {\n  ko.applyBindings({\n      value: O.makeObservable(valueId, initialValue)\n    },\n    this\n  );\n});\n        /*]]>*/</script></p></span>\n      <div>\n      </div>\n    </div></div>\n            </div><div class=\"tab-pane\" id=\"tab913047831-3\">\n            <div>\n      <script data-this=\"{&quot;dataId&quot;:&quot;anon9ece25f6872b67bf9202a14bfd76c239&quot;,&quot;dataInit&quot;:[{&quot;_1&quot;:0,&quot;_2&quot;:31},{&quot;_1&quot;:1,&quot;_2&quot;:31},{&quot;_1&quot;:2,&quot;_2&quot;:31},{&quot;_1&quot;:3,&quot;_2&quot;:31},{&quot;_1&quot;:4,&quot;_2&quot;:31},{&quot;_1&quot;:5,&quot;_2&quot;:31},{&quot;_1&quot;:6,&quot;_2&quot;:31},{&quot;_1&quot;:7,&quot;_2&quot;:31},{&quot;_1&quot;:8,&quot;_2&quot;:31},{&quot;_1&quot;:9,&quot;_2&quot;:31},{&quot;_1&quot;:10,&quot;_2&quot;:31},{&quot;_1&quot;:11,&quot;_2&quot;:31},{&quot;_1&quot;:12,&quot;_2&quot;:31},{&quot;_1&quot;:13,&quot;_2&quot;:31},{&quot;_1&quot;:14,&quot;_2&quot;:31},{&quot;_1&quot;:15,&quot;_2&quot;:31},{&quot;_1&quot;:16,&quot;_2&quot;:31},{&quot;_1&quot;:17,&quot;_2&quot;:31},{&quot;_1&quot;:18,&quot;_2&quot;:31},{&quot;_1&quot;:19,&quot;_2&quot;:31},{&quot;_1&quot;:20,&quot;_2&quot;:31},{&quot;_1&quot;:21,&quot;_2&quot;:31},{&quot;_1&quot;:22,&quot;_2&quot;:31},{&quot;_1&quot;:23,&quot;_2&quot;:31},{&quot;_1&quot;:24,&quot;_2&quot;:31},{&quot;_1&quot;:25,&quot;_2&quot;:31},{&quot;_1&quot;:26,&quot;_2&quot;:31},{&quot;_1&quot;:27,&quot;_2&quot;:31},{&quot;_1&quot;:28,&quot;_2&quot;:31},{&quot;_1&quot;:29,&quot;_2&quot;:31}],&quot;genId&quot;:&quot;396653815&quot;}\" type=\"text/x-scoped-javascript\">/*<![CDATA[*/req(['../javascripts/notebook/playground','../javascripts/notebook/magic/barChart'], \n      function(playground, _magicbarChart) {\n        // data ==> data-this (in observable.js's scopedEval) ==> this in JS => { dataId, dataInit, ... }\n        // this ==> scope (in observable.js's scopedEval) ==> this.parentElement ==> div.container below (toHtml)\n\n        playground.call(data,\n                        this\n                        ,\n                        {\n    \"f\": _magicbarChart,\n    \"o\": {\"x\":\"_1\",\"y\":\"_2\",\"width\":600,\"height\":400}\n  }\n  \n                        \n                        \n                      );\n      }\n    );/*]]>*/</script>\n    <div>\n      <span class=\"chart-total-item-count\"><p data-bind=\"text: value\"><script data-this=\"{&quot;valueId&quot;:&quot;anonfc469acabd9dec6db0b71ba370b0e4c6&quot;,&quot;initialValue&quot;:&quot;30&quot;}\" type=\"text/x-scoped-javascript\">/*<![CDATA[*/\nreq(\n['observable', 'knockout'],\nfunction (O, ko) {\n  ko.applyBindings({\n      value: O.makeObservable(valueId, initialValue)\n    },\n    this\n  );\n});\n        /*]]>*/</script></p> entries total</span>\n      <span class=\"chart-sampling-warning\"><p data-bind=\"text: value\"><script data-this=\"{&quot;valueId&quot;:&quot;anon0c74eb0b6baed810fbf0963f1ffc49f2&quot;,&quot;initialValue&quot;:&quot;&quot;}\" type=\"text/x-scoped-javascript\">/*<![CDATA[*/\nreq(\n['observable', 'knockout'],\nfunction (O, ko) {\n  ko.applyBindings({\n      value: O.makeObservable(valueId, initialValue)\n    },\n    this\n  );\n});\n        /*]]>*/</script></p></span>\n      <div>\n      </div>\n    </div></div>\n            </div><div class=\"tab-pane\" id=\"tab913047831-4\">\n            <div>\n      <script data-this=\"{&quot;dataId&quot;:&quot;anon1bb3884bbe48bd0d762fad74808f93eb&quot;,&quot;dataInit&quot;:[{&quot;_1&quot;:0,&quot;_2&quot;:31},{&quot;_1&quot;:1,&quot;_2&quot;:31},{&quot;_1&quot;:2,&quot;_2&quot;:31},{&quot;_1&quot;:3,&quot;_2&quot;:31},{&quot;_1&quot;:4,&quot;_2&quot;:31},{&quot;_1&quot;:5,&quot;_2&quot;:31},{&quot;_1&quot;:6,&quot;_2&quot;:31},{&quot;_1&quot;:7,&quot;_2&quot;:31},{&quot;_1&quot;:8,&quot;_2&quot;:31},{&quot;_1&quot;:9,&quot;_2&quot;:31},{&quot;_1&quot;:10,&quot;_2&quot;:31},{&quot;_1&quot;:11,&quot;_2&quot;:31},{&quot;_1&quot;:12,&quot;_2&quot;:31},{&quot;_1&quot;:13,&quot;_2&quot;:31},{&quot;_1&quot;:14,&quot;_2&quot;:31},{&quot;_1&quot;:15,&quot;_2&quot;:31},{&quot;_1&quot;:16,&quot;_2&quot;:31},{&quot;_1&quot;:17,&quot;_2&quot;:31},{&quot;_1&quot;:18,&quot;_2&quot;:31},{&quot;_1&quot;:19,&quot;_2&quot;:31},{&quot;_1&quot;:20,&quot;_2&quot;:31},{&quot;_1&quot;:21,&quot;_2&quot;:31},{&quot;_1&quot;:22,&quot;_2&quot;:31},{&quot;_1&quot;:23,&quot;_2&quot;:31},{&quot;_1&quot;:24,&quot;_2&quot;:31},{&quot;_1&quot;:25,&quot;_2&quot;:31},{&quot;_1&quot;:26,&quot;_2&quot;:31},{&quot;_1&quot;:27,&quot;_2&quot;:31},{&quot;_1&quot;:28,&quot;_2&quot;:31},{&quot;_1&quot;:29,&quot;_2&quot;:31}],&quot;genId&quot;:&quot;730449897&quot;}\" type=\"text/x-scoped-javascript\">/*<![CDATA[*/req(['../javascripts/notebook/playground','../javascripts/notebook/magic/pivotChart'], \n      function(playground, _magicpivotChart) {\n        // data ==> data-this (in observable.js's scopedEval) ==> this in JS => { dataId, dataInit, ... }\n        // this ==> scope (in observable.js's scopedEval) ==> this.parentElement ==> div.container below (toHtml)\n\n        playground.call(data,\n                        this\n                        ,\n                        {\n    \"f\": _magicpivotChart,\n    \"o\": {\"width\":600,\"height\":400,\"derivedAttributes\":{},\"extraOptions\":{}}\n  }\n  \n                        \n                        \n                      );\n      }\n    );/*]]>*/</script>\n    <div>\n      <span class=\"chart-total-item-count\"><p data-bind=\"text: value\"><script data-this=\"{&quot;valueId&quot;:&quot;anonce831d5a6beb38a09378e009404024fb&quot;,&quot;initialValue&quot;:&quot;30&quot;}\" type=\"text/x-scoped-javascript\">/*<![CDATA[*/\nreq(\n['observable', 'knockout'],\nfunction (O, ko) {\n  ko.applyBindings({\n      value: O.makeObservable(valueId, initialValue)\n    },\n    this\n  );\n});\n        /*]]>*/</script></p> entries total</span>\n      <span class=\"chart-sampling-warning\"><p data-bind=\"text: value\"><script data-this=\"{&quot;valueId&quot;:&quot;anond09bb66d6c4c6b024d3100d8e618afdd&quot;,&quot;initialValue&quot;:&quot;&quot;}\" type=\"text/x-scoped-javascript\">/*<![CDATA[*/\nreq(\n['observable', 'knockout'],\nfunction (O, ko) {\n  ko.applyBindings({\n      value: O.makeObservable(valueId, initialValue)\n    },\n    this\n  );\n});\n        /*]]>*/</script></p></span>\n      <div>\n      </div>\n    </div></div>\n            </div></div>\n      </div>\n    </div></div>"
          },
          "output_type" : "execute_result",
          "execution_count" : 15,
          "time" : "Took: 2.634s, at 2018-01-26 09:32"
        }
      ]
    },
    {
      "metadata" : {
        "id" : "FF63C855A5E24DEFA082F136D115A983"
      },
      "cell_type" : "markdown",
      "source" : "# From RDD[SpatialKey, Tile] to Raster"
    },
    {
      "metadata" : {
        "trusted" : true,
        "input_collapsed" : false,
        "collapsed" : false,
        "id" : "B06259F4F2C444129D62A7AB6022F861"
      },
      "cell_type" : "code",
      "source" : [
        "// To be able to save to HDFS, we always need to convert RDD[ProjectedExtent, Tile] to Raster[Tile]\n",
        "// Here, we have many Tiles in this RDD, so we need to stitch all of them together\n",
        "// In this version of Geotrellis, we always have inside RDD multiple Tile (SingleBand or MultiBand)\n",
        "val raster = ContextRDD(tiles, metadata).stitch"
      ],
      "outputs" : [
        {
          "name" : "stdout",
          "output_type" : "stream",
          "text" : "raster: geotrellis.raster.Raster[geotrellis.raster.Tile] = Raster(DoubleConstantNoDataArrayTile([D@4de0e9c9,7680,7936),Extent(528585.0, 1156335.0, 758985.0, 1394415.0))\n"
        },
        {
          "metadata" : { },
          "data" : {
            "text/html" : ""
          },
          "output_type" : "execute_result",
          "execution_count" : 16,
          "time" : "Took: 3.255s, at 2018-01-26 09:32"
        }
      ]
    },
    {
      "metadata" : {
        "id" : "A949E1147C614DA58E478178F68F4F96"
      },
      "cell_type" : "markdown",
      "source" : "# From Raster to GeoTiff\n\nGeoTiff is raster data, but raster data needs to include CRS to become GeoTiff!"
    },
    {
      "metadata" : {
        "trusted" : true,
        "input_collapsed" : false,
        "collapsed" : false,
        "id" : "D1A3F3383AF54D659F6B71E0EBC7FA8C"
      },
      "cell_type" : "code",
      "source" : [
        "val geotiff = GeoTiff(raster, metadata.crs)"
      ],
      "outputs" : [
        {
          "name" : "stdout",
          "output_type" : "stream",
          "text" : "geotiff: geotrellis.raster.io.geotiff.SinglebandGeoTiff = SinglebandGeoTiff(DoubleConstantNoDataArrayTile([D@4de0e9c9,7680,7936),Extent(528585.0, 1156335.0, 758985.0, 1394415.0),EPSG:32648,Tags(Map(),List()),GeoTiffOptions(geotrellis.raster.io.geotiff.Striped@36dc0b51,geotrellis.raster.io.geotiff.compression.NoCompression$@6a859299,1,None))\n"
        },
        {
          "metadata" : { },
          "data" : {
            "text/html" : ""
          },
          "output_type" : "execute_result",
          "execution_count" : 17,
          "time" : "Took: 1.022s, at 2018-01-26 09:32"
        }
      ]
    }
  ],
  "nbformat" : 4
}