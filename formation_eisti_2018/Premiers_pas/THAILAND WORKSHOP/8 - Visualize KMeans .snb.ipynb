{
  "metadata" : {
    "id" : "57c182a2-0fbe-4721-9fc4-f74254eb7998",
    "name" : "8 - Visualize KMeans ",
    "user_save_timestamp" : "2018-01-08T10:00:53.605Z",
    "auto_save_timestamp" : "1970-01-01T00:00:00.000Z",
    "language_info" : {
      "name" : "scala",
      "file_extension" : "scala",
      "codemirror_mode" : "text/x-scala"
    },
    "trusted" : true,
    "sparkNotebook" : null,
    "customLocalRepo" : null,
    "customRepos" : [
      "osgeo % default % http://download.osgeo.org/webdav/geotools/ % maven"
    ],
    "customDeps" : [
      "org.locationtech.geotrellis % geotrellis-spark_2.11 % 1.2.0",
      "- org.apache.hadoop % hadoop-client % _",
      "- org.apache.spark % spark-core_2.11 % _",
      "- org.apache.spark % spark-mllib_2.11 % _",
      "- org.apache.spark % spark-repl_2.11 % _",
      "- org.scala-lang % _ % _"
    ],
    "customImports" : null,
    "customArgs" : null,
    "customSparkConf" : null,
    "customVars" : null
  },
  "cells" : [
    {
      "metadata" : {
        "id" : "832649D1DE8448AB82F3C55B5C2337C7"
      },
      "cell_type" : "markdown",
      "source" : "# Import libraries"
    },
    {
      "metadata" : {
        "trusted" : true,
        "input_collapsed" : false,
        "collapsed" : false,
        "id" : "BEA974C4F20540298704EF6055B877D6"
      },
      "cell_type" : "code",
      "source" : [
        "import geotrellis.raster._\n",
        "import geotrellis.raster.vectorize._\n",
        "import geotrellis.raster.vectorize\n",
        "import geotrellis.raster.io.geotiff._\n",
        "import geotrellis.raster.render._\n",
        "import geotrellis.raster.io.geotiff.GeoTiff\n",
        "import geotrellis.raster.resample._\n",
        "\n",
        "import geotrellis.spark._\n",
        "import geotrellis.spark.io._\n",
        "import geotrellis.spark.io.RasterReader\n",
        "import geotrellis.spark.io.hadoop._\n",
        "import geotrellis.spark.io.hadoop\n",
        "import geotrellis.spark.tiling._\n",
        "import geotrellis.spark.tiling.FloatingLayoutScheme\n",
        "\n",
        "import geotrellis.vector._\n",
        "\n",
        "import org.apache.spark.SparkContext\n",
        "import org.apache.spark.rdd._\n",
        "import org.apache.spark.rdd.RDD\n",
        "import org.apache.spark.HashPartitioner\n",
        "import org.apache.spark.mllib.linalg.{Vector, Vectors}\n",
        "import org.apache.spark.mllib.clustering.{KMeans, KMeansModel}\n",
        "\n",
        "import java.net.URI\n",
        "import scala.math.BigDecimal.RoundingMode\n",
        "import org.apache.hadoop.fs.Path"
      ],
      "outputs" : [ ]
    },
    {
      "metadata" : {
        "id" : "C4D09E15162E4D8D9D7A35125D7EE82C"
      },
      "cell_type" : "markdown",
      "source" : "# Important variables"
    },
    {
      "metadata" : {
        "trusted" : true,
        "input_collapsed" : false,
        "collapsed" : false,
        "id" : "7FDCF571A0AC47B58DB0A70A18F0BD64"
      },
      "cell_type" : "code",
      "source" : [
        "val rr = implicitly[RasterReader[HadoopGeoTiffRDD.Options, (ProjectedExtent, Tile)]]\n",
        "implicit val sparkContext = sc"
      ],
      "outputs" : [
        {
          "name" : "stdout",
          "output_type" : "stream",
          "text" : "rr: geotrellis.spark.io.RasterReader[geotrellis.spark.io.hadoop.HadoopGeoTiffRDD.Options,(geotrellis.vector.ProjectedExtent, geotrellis.raster.Tile)] = geotrellis.spark.io.RasterReader$$anon$1@61147ded\nsparkContext: org.apache.spark.SparkContext = org.apache.spark.SparkContext@298f7509\n"
        },
        {
          "metadata" : { },
          "data" : {
            "text/html" : ""
          },
          "output_type" : "execute_result",
          "execution_count" : 2,
          "time" : "Took: 1.816s, at 2018-01-18 13:45"
        }
      ]
    },
    {
      "metadata" : {
        "id" : "9AF7A48C32A441A981240FCA6AE995B1"
      },
      "cell_type" : "markdown",
      "source" : "# Parameters"
    },
    {
      "metadata" : {
        "trusted" : true,
        "input_collapsed" : false,
        "collapsed" : false,
        "id" : "7DE4DF07A5364D8F9204C6AB33E5C0E0"
      },
      "cell_type" : "code",
      "source" : [
        "val HdfsUrl = \"hdfs://hupi-factory-02-01-01-01/\"\n",
        "val dataRepo = \"user/factory02/thailand_workshop/data_multiBands/\"\n",
        "val saveRepo = \"user/factory02/thailand_workshop/kmeans/\"\n",
        "val landsatName = \"LC08_L1TP_125052_20171231_20180103_01_T1\"\n",
        "val k = 9\n",
        "// list of colors for PNG (17 colors for 17 models)\n",
        "val allColors = \"0:669999ff;1:8cd98cff;2:ffff00ff;3:000099ff;4:737373ff;5:006666ff;6:4dffffff;7:ff9f80ff;8:00ccffff;9:339966ff;10:00ffccff;11:6600ffff;12:cc3300ff;13:66ffccff;14:000000ff;15:ff66ffff;16:0066ccff;17:ff8000ff;18:3399ffff;19:003366ff\""
      ],
      "outputs" : [
        {
          "name" : "stdout",
          "output_type" : "stream",
          "text" : "HdfsUrl: String = hdfs://hupi-factory-02-01-01-01/\ndataRepo: String = user/factory02/thailand_workshop/data_multiBands/\nsaveRepo: String = user/factory02/thailand_workshop/kmeans/\nlandsatName: String = LC08_L1TP_125052_20171231_20180103_01_T1\nk: Int = 9\nallColors: String = 0:669999ff;1:8cd98cff;2:ffff00ff;3:000099ff;4:737373ff;5:006666ff;6:4dffffff;7:ff9f80ff;8:00ccffff;9:339966ff;10:00ffccff;11:6600ffff;12:cc3300ff;13:66ffccff;14:000000ff;15:ff66ffff;16:0066ccff;17:ff8000ff;18:3399ffff;19:003366ff\n"
        },
        {
          "metadata" : { },
          "data" : {
            "text/html" : ""
          },
          "output_type" : "execute_result",
          "execution_count" : 4,
          "time" : "Took: 1.549s, at 2018-01-18 13:45"
        }
      ]
    },
    {
      "metadata" : {
        "trusted" : true,
        "input_collapsed" : false,
        "collapsed" : false,
        "id" : "A6F202C35EB14E8CAC714326E9B47DAF"
      },
      "cell_type" : "code",
      "source" : [
        "// List of k colors\n",
        "val listColors = allColors.split(\";\").take(k).mkString(\";\")"
      ],
      "outputs" : [
        {
          "name" : "stdout",
          "output_type" : "stream",
          "text" : "listColors: String = 0:669999ff;1:8cd98cff;2:ffff00ff;3:000099ff;4:737373ff;5:006666ff;6:4dffffff;7:ff9f80ff;8:00ccffff\n"
        },
        {
          "metadata" : { },
          "data" : {
            "text/html" : ""
          },
          "output_type" : "execute_result",
          "execution_count" : 5,
          "time" : "Took: 1.388s, at 2018-01-18 13:45"
        }
      ]
    },
    {
      "metadata" : {
        "trusted" : true,
        "input_collapsed" : false,
        "collapsed" : false,
        "id" : "407635B908C2451D806A3B10FAAEE4FB"
      },
      "cell_type" : "code",
      "source" : [
        "val saveAddress = HdfsUrl + saveRepo + landsatName + \"/\" + k\n",
        "val savePath_illustration = new Path(saveAddress + \".png\")"
      ],
      "outputs" : [
        {
          "name" : "stdout",
          "output_type" : "stream",
          "text" : "saveAddress: String = hdfs://hupi-factory-02-01-01-01/user/factory02/thailand_workshop/kmeans/LC08_L1TP_125052_20171231_20180103_01_T1/9\nsavePath_illustration: org.apache.hadoop.fs.Path = hdfs://hupi-factory-02-01-01-01/user/factory02/thailand_workshop/kmeans/LC08_L1TP_125052_20171231_20180103_01_T1/9.png\n"
        },
        {
          "metadata" : { },
          "data" : {
            "text/html" : ""
          },
          "output_type" : "execute_result",
          "execution_count" : 6,
          "time" : "Took: 1.362s, at 2018-01-18 13:45"
        }
      ]
    },
    {
      "metadata" : {
        "id" : "CAA10203FB6848E78B2139818788DDDC"
      },
      "cell_type" : "markdown",
      "source" : "# To avoid duplicates in HDFS"
    },
    {
      "metadata" : {
        "trusted" : true,
        "input_collapsed" : false,
        "collapsed" : false,
        "id" : "E5712D6E322140128AD73739A2E3F486"
      },
      "cell_type" : "code",
      "source" : [
        "val conf = sc.hadoopConfiguration \n",
        "val fs = org.apache.hadoop.fs.FileSystem.get(new java.net.URI(HdfsUrl), conf)"
      ],
      "outputs" : [
        {
          "name" : "stdout",
          "output_type" : "stream",
          "text" : "conf: org.apache.hadoop.conf.Configuration = Configuration: core-default.xml, core-site.xml, mapred-default.xml, mapred-site.xml, yarn-default.xml, yarn-site.xml, hdfs-default.xml, hdfs-site.xml\nfs: org.apache.hadoop.fs.FileSystem = DFS[DFSClient[clientName=DFSClient_NONMAPREDUCE_-717805646_122, ugi=root (auth:SIMPLE)]]\n"
        },
        {
          "metadata" : { },
          "data" : {
            "text/html" : ""
          },
          "output_type" : "execute_result",
          "execution_count" : 7,
          "time" : "Took: 1.712s, at 2018-01-18 13:45"
        }
      ]
    },
    {
      "metadata" : {
        "trusted" : true,
        "input_collapsed" : false,
        "collapsed" : false,
        "id" : "FB4C57ADCF91483189D72FED003C35B8"
      },
      "cell_type" : "code",
      "source" : [
        "fs.delete(savePath_illustration,true)"
      ],
      "outputs" : [
        {
          "name" : "stdout",
          "output_type" : "stream",
          "text" : "res8: Boolean = false\n"
        },
        {
          "metadata" : { },
          "data" : {
            "text/html" : "false"
          },
          "output_type" : "execute_result",
          "execution_count" : 8,
          "time" : "Took: 1.839s, at 2018-01-18 13:45"
        }
      ]
    },
    {
      "metadata" : {
        "id" : "CCDED50A968747EC9129BFCD30776FD3"
      },
      "cell_type" : "markdown",
      "source" : "# Load multiBandgeoTiff from HDFS"
    },
    {
      "metadata" : {
        "trusted" : true,
        "input_collapsed" : false,
        "collapsed" : true,
        "id" : "7CA5B15F57EF4B21A9082669160B3548"
      },
      "cell_type" : "code",
      "source" : [
        "val options =\n",
        "HadoopGeoTiffRDD.Options(\n",
        "  numPartitions = Some(100)\n",
        ")"
      ],
      "outputs" : [ ]
    },
    {
      "metadata" : {
        "trusted" : true,
        "input_collapsed" : false,
        "collapsed" : false,
        "id" : "1C8565EA20B64F07B2E31F6D42F309CD"
      },
      "cell_type" : "code",
      "source" : [
        "// We get multi bands from HDFS (except band 8) \n",
        "val sourceTiles = sc.hadoopMultibandGeoTiffRDD(HdfsUrl + dataRepo + landsatName + \".tif\").repartition(100)"
      ],
      "outputs" : [
        {
          "name" : "stdout",
          "output_type" : "stream",
          "text" : "sourceTiles: org.apache.spark.rdd.RDD[(geotrellis.vector.ProjectedExtent, geotrellis.raster.MultibandTile)] = MapPartitionsRDD[7] at repartition at <console>:120\n"
        },
        {
          "metadata" : { },
          "data" : {
            "text/html" : ""
          },
          "output_type" : "execute_result",
          "execution_count" : 9,
          "time" : "Took: 4.367s, at 2018-01-18 13:45"
        }
      ]
    },
    {
      "metadata" : {
        "trusted" : true,
        "input_collapsed" : false,
        "collapsed" : false,
        "id" : "D917A9C17EA24F4C8CE15008D5CBF6A0"
      },
      "cell_type" : "code",
      "source" : [
        "// We convert multi tiles into one vector of features in RDD\n",
        "val rddArrayOfTiles = sourceTiles.map (l => (l._2.band(0).convert(DoubleConstantNoDataCellType).toArrayDouble(), \n",
        "                       l._2.band(1).convert(DoubleConstantNoDataCellType).toArrayDouble(), \n",
        "                       l._2.band(2).convert(DoubleConstantNoDataCellType).toArrayDouble(),\n",
        "                       l._2.band(3).convert(DoubleConstantNoDataCellType).toArrayDouble(), \n",
        "                       l._2.band(4).convert(DoubleConstantNoDataCellType).toArrayDouble(),\n",
        "                       l._2.band(5).convert(DoubleConstantNoDataCellType).toArrayDouble(), \n",
        "                       l._2.band(6).convert(DoubleConstantNoDataCellType).toArrayDouble(),\n",
        "                       l._2.band(7).convert(DoubleConstantNoDataCellType).toArrayDouble(),\n",
        "                       l._2.band(8).convert(DoubleConstantNoDataCellType).toArrayDouble(), \n",
        "                       l._2.band(9).convert(DoubleConstantNoDataCellType).toArrayDouble()))\n",
        ".map(l => l._1.zip(l._2).zip(l._3).zip(l._4).zip(l._5).zip(l._6).zip(l._7).zip(l._8).zip(l._9).zip(l._10))\n",
        ".map(l => l.map(k => Vectors.dense(k._1._1._1._1._1._1._1._1._1, k._1._1._1._1._1._1._1._1._2, \n",
        "                                   k._1._1._1._1._1._1._1._2, k._1._1._1._1._1._1._2,\n",
        "                                  k._1._1._1._1._1._2, k._1._1._1._1._2, k._1._1._1._2,\n",
        "                                   k._1._1._2, k._1._2, k._2)))"
      ],
      "outputs" : [
        {
          "name" : "stdout",
          "output_type" : "stream",
          "text" : "rddArrayOfTiles: org.apache.spark.rdd.RDD[Array[org.apache.spark.mllib.linalg.Vector]] = MapPartitionsRDD[10] at map at <console>:134\n"
        },
        {
          "metadata" : { },
          "data" : {
            "text/html" : ""
          },
          "output_type" : "execute_result",
          "execution_count" : 10,
          "time" : "Took: 1.775s, at 2018-01-18 13:45"
        }
      ]
    },
    {
      "metadata" : {
        "trusted" : true,
        "input_collapsed" : false,
        "collapsed" : false,
        "presentation" : {
          "tabs_state" : "{\n  \"tab_id\": \"#tab1847339495-0\"\n}",
          "pivot_chart_state" : "{\n  \"hiddenAttributes\": [],\n  \"menuLimit\": 200,\n  \"cols\": [],\n  \"rows\": [],\n  \"vals\": [],\n  \"exclusions\": {},\n  \"inclusions\": {},\n  \"unusedAttrsVertical\": 85,\n  \"autoSortUnusedAttrs\": false,\n  \"inclusionsInfo\": {},\n  \"aggregatorName\": \"Count\",\n  \"rendererName\": \"Table\"\n}"
        },
        "id" : "B2E98C85B4374893B473CBEBD596CAA2"
      },
      "cell_type" : "code",
      "source" : [
        "val input = rddArrayOfTiles.flatMap(l => l)"
      ],
      "outputs" : [
        {
          "name" : "stdout",
          "output_type" : "stream",
          "text" : "input: org.apache.spark.rdd.RDD[org.apache.spark.mllib.linalg.Vector] = MapPartitionsRDD[11] at flatMap at <console>:124\n"
        },
        {
          "metadata" : { },
          "data" : {
            "text/html" : ""
          },
          "output_type" : "execute_result",
          "execution_count" : 11,
          "time" : "Took: 1.306s, at 2018-01-18 13:45"
        }
      ]
    },
    {
      "metadata" : {
        "trusted" : true,
        "input_collapsed" : false,
        "collapsed" : true,
        "id" : "926D18D8CFFD431889A27844132F4DC7"
      },
      "cell_type" : "markdown",
      "source" : "# Load model to HDFS"
    },
    {
      "metadata" : {
        "trusted" : true,
        "input_collapsed" : false,
        "collapsed" : false,
        "id" : "F2083E1C498D45F0BF619864817D0EC9"
      },
      "cell_type" : "code",
      "source" : [
        "// To load the model (for later use)\n",
        "val clusters = KMeansModel.load(sc, saveAddress)"
      ],
      "outputs" : [
        {
          "name" : "stdout",
          "output_type" : "stream",
          "text" : "clusters: org.apache.spark.mllib.clustering.KMeansModel = org.apache.spark.mllib.clustering.KMeansModel@4d023088\n"
        },
        {
          "metadata" : { },
          "data" : {
            "text/html" : ""
          },
          "output_type" : "execute_result",
          "execution_count" : 12,
          "time" : "Took: 4.277s, at 2018-01-18 13:45"
        }
      ]
    },
    {
      "metadata" : {
        "id" : "55D303EA18554EF2801B9EE11E3D8276"
      },
      "cell_type" : "markdown",
      "source" : "# To find the clusters of the input"
    },
    {
      "metadata" : {
        "trusted" : true,
        "input_collapsed" : false,
        "collapsed" : false,
        "id" : "BBB2F2837AD040839BADEDA90C1740F1"
      },
      "cell_type" : "code",
      "source" : [
        "val results = clusters.predict(input)"
      ],
      "outputs" : [
        {
          "name" : "stdout",
          "output_type" : "stream",
          "text" : "results: org.apache.spark.rdd.RDD[Int] = MapPartitionsRDD[21] at map at KMeansModel.scala:69\n"
        },
        {
          "metadata" : { },
          "data" : {
            "text/html" : ""
          },
          "output_type" : "execute_result",
          "execution_count" : 13,
          "time" : "Took: 1.227s, at 2018-01-18 13:45"
        }
      ]
    },
    {
      "metadata" : {
        "trusted" : true,
        "input_collapsed" : false,
        "collapsed" : false,
        "presentation" : {
          "pivot_chart_state" : "{\n  \"hiddenAttributes\": [],\n  \"menuLimit\": 200,\n  \"cols\": [],\n  \"rows\": [],\n  \"vals\": [],\n  \"exclusions\": {},\n  \"inclusions\": {},\n  \"unusedAttrsVertical\": 85,\n  \"autoSortUnusedAttrs\": false,\n  \"inclusionsInfo\": {},\n  \"aggregatorName\": \"Count\",\n  \"rendererName\": \"Table\"\n}",
          "tabs_state" : "{\n  \"tab_id\": \"#tab744244281-0\"\n}"
        },
        "id" : "F3A85D95BB204DE6B8C8A0E8F6A6724F"
      },
      "cell_type" : "code",
      "source" : [
        "// number of element for each cluster\n",
        "results.map(l => (l, 1)).reduceByKey(_ + _).take(10)"
      ],
      "outputs" : [
        {
          "name" : "stdout",
          "output_type" : "stream",
          "text" : "res15: Array[(Int, Int)] = Array((0,11383641), (1,19517793), (2,3990193), (3,2643728), (4,892626), (5,2579935), (6,5605074), (7,6676567), (8,7658923))\n"
        },
        {
          "metadata" : { },
          "data" : {
            "text/html" : "<div>\n      <script data-this=\"{&quot;dataId&quot;:&quot;anon4c0dd16b3f8afba1a675d8c9783ae750&quot;,&quot;dataInit&quot;:[],&quot;genId&quot;:&quot;744244281&quot;}\" type=\"text/x-scoped-javascript\">/*<![CDATA[*/req(['../javascripts/notebook/playground','../javascripts/notebook/magic/tabs'], \n      function(playground, _magictabs) {\n        // data ==> data-this (in observable.js's scopedEval) ==> this in JS => { dataId, dataInit, ... }\n        // this ==> scope (in observable.js's scopedEval) ==> this.parentElement ==> div.container below (toHtml)\n\n        playground.call(data,\n                        this\n                        ,\n                        {\n    \"f\": _magictabs,\n    \"o\": {}\n  }\n  \n                        \n                        \n                      );\n      }\n    );/*]]>*/</script>\n    <div>\n      <div>\n        <ul class=\"nav nav-tabs\" id=\"ul744244281\"><li>\n              <a href=\"#tab744244281-0\"><i class=\"fa fa-table\"/></a>\n            </li><li>\n              <a href=\"#tab744244281-1\"><i class=\"fa fa-dot-circle-o\"/></a>\n            </li><li>\n              <a href=\"#tab744244281-2\"><i class=\"fa fa-line-chart\"/></a>\n            </li><li>\n              <a href=\"#tab744244281-3\"><i class=\"fa fa-bar-chart\"/></a>\n            </li><li>\n              <a href=\"#tab744244281-4\"><i class=\"fa fa-cubes\"/></a>\n            </li></ul>\n\n        <div class=\"tab-content\" id=\"tab744244281\"><div class=\"tab-pane\" id=\"tab744244281-0\">\n            <div>\n      <script data-this=\"{&quot;dataId&quot;:&quot;anon0f13d9fc7ee270031c1d471c143c275d&quot;,&quot;dataInit&quot;:[{&quot;_1&quot;:0,&quot;_2&quot;:11383641},{&quot;_1&quot;:1,&quot;_2&quot;:19517793},{&quot;_1&quot;:2,&quot;_2&quot;:3990193},{&quot;_1&quot;:3,&quot;_2&quot;:2643728},{&quot;_1&quot;:4,&quot;_2&quot;:892626},{&quot;_1&quot;:5,&quot;_2&quot;:2579935},{&quot;_1&quot;:6,&quot;_2&quot;:5605074},{&quot;_1&quot;:7,&quot;_2&quot;:6676567},{&quot;_1&quot;:8,&quot;_2&quot;:7658923}],&quot;genId&quot;:&quot;1026439402&quot;}\" type=\"text/x-scoped-javascript\">/*<![CDATA[*/req(['../javascripts/notebook/playground','../javascripts/notebook/magic/tableChart'], \n      function(playground, _magictableChart) {\n        // data ==> data-this (in observable.js's scopedEval) ==> this in JS => { dataId, dataInit, ... }\n        // this ==> scope (in observable.js's scopedEval) ==> this.parentElement ==> div.container below (toHtml)\n\n        playground.call(data,\n                        this\n                        ,\n                        {\n    \"f\": _magictableChart,\n    \"o\": {\"headers\":[\"_1\",\"_2\"],\"width\":600,\"height\":400}\n  }\n  \n                        \n                        \n                      );\n      }\n    );/*]]>*/</script>\n    <div>\n      <span class=\"chart-total-item-count\"><p data-bind=\"text: value\"><script data-this=\"{&quot;valueId&quot;:&quot;anon3568f69a6ca7be2d3388df98e9ef96b8&quot;,&quot;initialValue&quot;:&quot;9&quot;}\" type=\"text/x-scoped-javascript\">/*<![CDATA[*/\nreq(\n['observable', 'knockout'],\nfunction (O, ko) {\n  ko.applyBindings({\n      value: O.makeObservable(valueId, initialValue)\n    },\n    this\n  );\n});\n        /*]]>*/</script></p> entries total</span>\n      <span class=\"chart-sampling-warning\"><p data-bind=\"text: value\"><script data-this=\"{&quot;valueId&quot;:&quot;anonb578ea530e46b03504cfed8306db3110&quot;,&quot;initialValue&quot;:&quot;&quot;}\" type=\"text/x-scoped-javascript\">/*<![CDATA[*/\nreq(\n['observable', 'knockout'],\nfunction (O, ko) {\n  ko.applyBindings({\n      value: O.makeObservable(valueId, initialValue)\n    },\n    this\n  );\n});\n        /*]]>*/</script></p></span>\n      <div>\n      </div>\n    </div></div>\n            </div><div class=\"tab-pane\" id=\"tab744244281-1\">\n            <div>\n      <script data-this=\"{&quot;dataId&quot;:&quot;anon67b0a49c79ac724868794c8325ae412d&quot;,&quot;dataInit&quot;:[{&quot;_1&quot;:0,&quot;_2&quot;:11383641},{&quot;_1&quot;:1,&quot;_2&quot;:19517793},{&quot;_1&quot;:2,&quot;_2&quot;:3990193},{&quot;_1&quot;:3,&quot;_2&quot;:2643728},{&quot;_1&quot;:4,&quot;_2&quot;:892626},{&quot;_1&quot;:5,&quot;_2&quot;:2579935},{&quot;_1&quot;:6,&quot;_2&quot;:5605074},{&quot;_1&quot;:7,&quot;_2&quot;:6676567},{&quot;_1&quot;:8,&quot;_2&quot;:7658923}],&quot;genId&quot;:&quot;1392192544&quot;}\" type=\"text/x-scoped-javascript\">/*<![CDATA[*/req(['../javascripts/notebook/playground','../javascripts/notebook/magic/scatterChart'], \n      function(playground, _magicscatterChart) {\n        // data ==> data-this (in observable.js's scopedEval) ==> this in JS => { dataId, dataInit, ... }\n        // this ==> scope (in observable.js's scopedEval) ==> this.parentElement ==> div.container below (toHtml)\n\n        playground.call(data,\n                        this\n                        ,\n                        {\n    \"f\": _magicscatterChart,\n    \"o\": {\"x\":\"_1\",\"y\":\"_2\",\"width\":600,\"height\":400}\n  }\n  \n                        \n                        \n                      );\n      }\n    );/*]]>*/</script>\n    <div>\n      <span class=\"chart-total-item-count\"><p data-bind=\"text: value\"><script data-this=\"{&quot;valueId&quot;:&quot;anonb1f4b16a9826511d0919879110dc116d&quot;,&quot;initialValue&quot;:&quot;9&quot;}\" type=\"text/x-scoped-javascript\">/*<![CDATA[*/\nreq(\n['observable', 'knockout'],\nfunction (O, ko) {\n  ko.applyBindings({\n      value: O.makeObservable(valueId, initialValue)\n    },\n    this\n  );\n});\n        /*]]>*/</script></p> entries total</span>\n      <span class=\"chart-sampling-warning\"><p data-bind=\"text: value\"><script data-this=\"{&quot;valueId&quot;:&quot;anonca26a4261d341cae2133ae95d1107d7b&quot;,&quot;initialValue&quot;:&quot;&quot;}\" type=\"text/x-scoped-javascript\">/*<![CDATA[*/\nreq(\n['observable', 'knockout'],\nfunction (O, ko) {\n  ko.applyBindings({\n      value: O.makeObservable(valueId, initialValue)\n    },\n    this\n  );\n});\n        /*]]>*/</script></p></span>\n      <div>\n      </div>\n    </div></div>\n            </div><div class=\"tab-pane\" id=\"tab744244281-2\">\n            <div>\n      <script data-this=\"{&quot;dataId&quot;:&quot;anonc627add3806c9f5b10c9b3001db63678&quot;,&quot;dataInit&quot;:[{&quot;_1&quot;:0,&quot;_2&quot;:11383641},{&quot;_1&quot;:1,&quot;_2&quot;:19517793},{&quot;_1&quot;:2,&quot;_2&quot;:3990193},{&quot;_1&quot;:3,&quot;_2&quot;:2643728},{&quot;_1&quot;:4,&quot;_2&quot;:892626},{&quot;_1&quot;:5,&quot;_2&quot;:2579935},{&quot;_1&quot;:6,&quot;_2&quot;:5605074},{&quot;_1&quot;:7,&quot;_2&quot;:6676567},{&quot;_1&quot;:8,&quot;_2&quot;:7658923}],&quot;genId&quot;:&quot;1632245593&quot;}\" type=\"text/x-scoped-javascript\">/*<![CDATA[*/req(['../javascripts/notebook/playground','../javascripts/notebook/magic/lineChart'], \n      function(playground, _magiclineChart) {\n        // data ==> data-this (in observable.js's scopedEval) ==> this in JS => { dataId, dataInit, ... }\n        // this ==> scope (in observable.js's scopedEval) ==> this.parentElement ==> div.container below (toHtml)\n\n        playground.call(data,\n                        this\n                        ,\n                        {\n    \"f\": _magiclineChart,\n    \"o\": {\"x\":\"_1\",\"y\":\"_2\",\"width\":600,\"height\":400}\n  }\n  \n                        \n                        \n                      );\n      }\n    );/*]]>*/</script>\n    <div>\n      <span class=\"chart-total-item-count\"><p data-bind=\"text: value\"><script data-this=\"{&quot;valueId&quot;:&quot;anona2f919e3e54d5788a233ecfe0257a668&quot;,&quot;initialValue&quot;:&quot;9&quot;}\" type=\"text/x-scoped-javascript\">/*<![CDATA[*/\nreq(\n['observable', 'knockout'],\nfunction (O, ko) {\n  ko.applyBindings({\n      value: O.makeObservable(valueId, initialValue)\n    },\n    this\n  );\n});\n        /*]]>*/</script></p> entries total</span>\n      <span class=\"chart-sampling-warning\"><p data-bind=\"text: value\"><script data-this=\"{&quot;valueId&quot;:&quot;anon75636ba8b1577630cd04885b039c843a&quot;,&quot;initialValue&quot;:&quot;&quot;}\" type=\"text/x-scoped-javascript\">/*<![CDATA[*/\nreq(\n['observable', 'knockout'],\nfunction (O, ko) {\n  ko.applyBindings({\n      value: O.makeObservable(valueId, initialValue)\n    },\n    this\n  );\n});\n        /*]]>*/</script></p></span>\n      <div>\n      </div>\n    </div></div>\n            </div><div class=\"tab-pane\" id=\"tab744244281-3\">\n            <div>\n      <script data-this=\"{&quot;dataId&quot;:&quot;anon20737dd948d856c7dd1c28cf7a25837a&quot;,&quot;dataInit&quot;:[{&quot;_1&quot;:0,&quot;_2&quot;:11383641},{&quot;_1&quot;:1,&quot;_2&quot;:19517793},{&quot;_1&quot;:2,&quot;_2&quot;:3990193},{&quot;_1&quot;:3,&quot;_2&quot;:2643728},{&quot;_1&quot;:4,&quot;_2&quot;:892626},{&quot;_1&quot;:5,&quot;_2&quot;:2579935},{&quot;_1&quot;:6,&quot;_2&quot;:5605074},{&quot;_1&quot;:7,&quot;_2&quot;:6676567},{&quot;_1&quot;:8,&quot;_2&quot;:7658923}],&quot;genId&quot;:&quot;973463694&quot;}\" type=\"text/x-scoped-javascript\">/*<![CDATA[*/req(['../javascripts/notebook/playground','../javascripts/notebook/magic/barChart'], \n      function(playground, _magicbarChart) {\n        // data ==> data-this (in observable.js's scopedEval) ==> this in JS => { dataId, dataInit, ... }\n        // this ==> scope (in observable.js's scopedEval) ==> this.parentElement ==> div.container below (toHtml)\n\n        playground.call(data,\n                        this\n                        ,\n                        {\n    \"f\": _magicbarChart,\n    \"o\": {\"x\":\"_1\",\"y\":\"_2\",\"width\":600,\"height\":400}\n  }\n  \n                        \n                        \n                      );\n      }\n    );/*]]>*/</script>\n    <div>\n      <span class=\"chart-total-item-count\"><p data-bind=\"text: value\"><script data-this=\"{&quot;valueId&quot;:&quot;anona5a81691424a343ad5352792942ec39e&quot;,&quot;initialValue&quot;:&quot;9&quot;}\" type=\"text/x-scoped-javascript\">/*<![CDATA[*/\nreq(\n['observable', 'knockout'],\nfunction (O, ko) {\n  ko.applyBindings({\n      value: O.makeObservable(valueId, initialValue)\n    },\n    this\n  );\n});\n        /*]]>*/</script></p> entries total</span>\n      <span class=\"chart-sampling-warning\"><p data-bind=\"text: value\"><script data-this=\"{&quot;valueId&quot;:&quot;anonee321e161810c28dceddd7f4aaa8fd2f&quot;,&quot;initialValue&quot;:&quot;&quot;}\" type=\"text/x-scoped-javascript\">/*<![CDATA[*/\nreq(\n['observable', 'knockout'],\nfunction (O, ko) {\n  ko.applyBindings({\n      value: O.makeObservable(valueId, initialValue)\n    },\n    this\n  );\n});\n        /*]]>*/</script></p></span>\n      <div>\n      </div>\n    </div></div>\n            </div><div class=\"tab-pane\" id=\"tab744244281-4\">\n            <div>\n      <script data-this=\"{&quot;dataId&quot;:&quot;anona44750ccc0608eb32d84a8b717035076&quot;,&quot;dataInit&quot;:[{&quot;_1&quot;:0,&quot;_2&quot;:11383641},{&quot;_1&quot;:1,&quot;_2&quot;:19517793},{&quot;_1&quot;:2,&quot;_2&quot;:3990193},{&quot;_1&quot;:3,&quot;_2&quot;:2643728},{&quot;_1&quot;:4,&quot;_2&quot;:892626},{&quot;_1&quot;:5,&quot;_2&quot;:2579935},{&quot;_1&quot;:6,&quot;_2&quot;:5605074},{&quot;_1&quot;:7,&quot;_2&quot;:6676567},{&quot;_1&quot;:8,&quot;_2&quot;:7658923}],&quot;genId&quot;:&quot;37798356&quot;}\" type=\"text/x-scoped-javascript\">/*<![CDATA[*/req(['../javascripts/notebook/playground','../javascripts/notebook/magic/pivotChart'], \n      function(playground, _magicpivotChart) {\n        // data ==> data-this (in observable.js's scopedEval) ==> this in JS => { dataId, dataInit, ... }\n        // this ==> scope (in observable.js's scopedEval) ==> this.parentElement ==> div.container below (toHtml)\n\n        playground.call(data,\n                        this\n                        ,\n                        {\n    \"f\": _magicpivotChart,\n    \"o\": {\"width\":600,\"height\":400,\"derivedAttributes\":{},\"extraOptions\":{}}\n  }\n  \n                        \n                        \n                      );\n      }\n    );/*]]>*/</script>\n    <div>\n      <span class=\"chart-total-item-count\"><p data-bind=\"text: value\"><script data-this=\"{&quot;valueId&quot;:&quot;anonfabc3cec0f5f2cdaee0c1f60fb245bda&quot;,&quot;initialValue&quot;:&quot;9&quot;}\" type=\"text/x-scoped-javascript\">/*<![CDATA[*/\nreq(\n['observable', 'knockout'],\nfunction (O, ko) {\n  ko.applyBindings({\n      value: O.makeObservable(valueId, initialValue)\n    },\n    this\n  );\n});\n        /*]]>*/</script></p> entries total</span>\n      <span class=\"chart-sampling-warning\"><p data-bind=\"text: value\"><script data-this=\"{&quot;valueId&quot;:&quot;anonf52749ed5b7b75e882270754432a838e&quot;,&quot;initialValue&quot;:&quot;&quot;}\" type=\"text/x-scoped-javascript\">/*<![CDATA[*/\nreq(\n['observable', 'knockout'],\nfunction (O, ko) {\n  ko.applyBindings({\n      value: O.makeObservable(valueId, initialValue)\n    },\n    this\n  );\n});\n        /*]]>*/</script></p></span>\n      <div>\n      </div>\n    </div></div>\n            </div></div>\n      </div>\n    </div></div>"
          },
          "output_type" : "execute_result",
          "execution_count" : 14,
          "time" : "Took: 54.695s, at 2018-01-18 13:46"
        }
      ]
    },
    {
      "metadata" : {
        "trusted" : true,
        "input_collapsed" : false,
        "collapsed" : false,
        "id" : "4B100F46557149FA884F134290F93EA3"
      },
      "cell_type" : "code",
      "source" : [
        "/*\n",
        "val res = input.zip(results)\n",
        "\n",
        "// For cluster 0, we have\n",
        "res.filter(l => l._2 == 0).take(100)\n",
        "*/"
      ],
      "outputs" : [
        {
          "metadata" : { },
          "data" : {
            "text/html" : ""
          },
          "output_type" : "execute_result",
          "execution_count" : 15,
          "time" : "Took: 1.516s, at 2018-01-18 13:46"
        }
      ]
    },
    {
      "metadata" : {
        "id" : "E69A9DCF610D45499C82341F2E3CEAE2"
      },
      "cell_type" : "markdown",
      "source" : "# Visualization results\n\nFrom the multibandGeoTiff in HDFS, we will find the clusters of each pixel and create a PNG of k colors corresponding to number cluster.\n\n### 1/ To do that, firstly, we need to find the ProjectedExtent of the results"
    },
    {
      "metadata" : {
        "trusted" : true,
        "input_collapsed" : false,
        "collapsed" : false,
        "id" : "AFA847EA96A943268F87B69BE131B31A"
      },
      "cell_type" : "code",
      "source" : [
        "// We zip results of clusters with index \n",
        "val resultsWithIndex = results.zipWithIndex"
      ],
      "outputs" : [
        {
          "name" : "stdout",
          "output_type" : "stream",
          "text" : "resultsWithIndex: org.apache.spark.rdd.RDD[(Int, Long)] = ZippedWithIndexRDD[24] at zipWithIndex at <console>:134\n"
        },
        {
          "metadata" : { },
          "data" : {
            "text/html" : ""
          },
          "output_type" : "execute_result",
          "execution_count" : 16,
          "time" : "Took: 28.511s, at 2018-01-18 13:47"
        }
      ]
    },
    {
      "metadata" : {
        "trusted" : true,
        "input_collapsed" : false,
        "collapsed" : false,
        "id" : "AFAA52A4FDD3462C8690FE45DF790477"
      },
      "cell_type" : "code",
      "source" : [
        "// From sourceTiles, we need to get the number of columns and rows of each tile\n",
        "val nbColsAndRows = sourceTiles.map(l => (l._2.cols, l._2.rows)).zipWithIndex.map(l => (l._2, l._1))"
      ],
      "outputs" : [
        {
          "name" : "stdout",
          "output_type" : "stream",
          "text" : "nbColsAndRows: org.apache.spark.rdd.RDD[(Long, (Int, Int))] = MapPartitionsRDD[27] at map at <console>:122\n"
        },
        {
          "metadata" : { },
          "data" : {
            "text/html" : ""
          },
          "output_type" : "execute_result",
          "execution_count" : 17,
          "time" : "Took: 1.836s, at 2018-01-18 13:47"
        }
      ]
    },
    {
      "metadata" : {
        "trusted" : true,
        "input_collapsed" : false,
        "collapsed" : false,
        "id" : "76BD6772523D49068547274AF7CA5607"
      },
      "cell_type" : "code",
      "source" : [
        "// We compute lengths (number of pixels) of each tile \n",
        "val lengthTiles = nbColsAndRows.map(l => l._2._1 * l._2._2).collect()"
      ],
      "outputs" : [
        {
          "name" : "stdout",
          "output_type" : "stream",
          "text" : "lengthTiles: Array[Int] = Array(65536, 65536, 65536, 65536, 65536, 65536, 65536, 65536, 65536, 65536, 65536, 65536, 65536, 65536, 65536, 65536, 65536, 65536, 65536, 65536, 65536, 65536, 65536, 65536, 65536, 65536, 65536, 65536, 65536, 65536, 65536, 65536, 65536, 65536, 65536, 65536, 65536, 65536, 65536, 65536, 65536, 65536, 65536, 65536, 65536, 65536, 65536, 65536, 65536, 65536, 65536, 65536, 65536, 65536, 65536, 65536, 65536, 65536, 65536, 65536, 65536, 65536, 65536, 65536, 65536, 65536, 65536, 65536, 65536, 65536, 65536, 65536, 65536, 65536, 65536, 65536, 65536, 65536, 65536, 65536, 65536, 65536, 65536, 65536, 65536, 65536, 65536, 65536, 65536, 65536, 65536, 65536, 65536, 65536, 65536, 65536, 65536, 65536, 65536, 65536, 65536, 65536, 65536, 65536, 65536, 65536, 65536, 65536, 65536, 65..."
        },
        {
          "metadata" : { },
          "data" : {
            "text/html" : ""
          },
          "output_type" : "execute_result",
          "execution_count" : 18,
          "time" : "Took: 1.775s, at 2018-01-18 13:47"
        }
      ]
    },
    {
      "metadata" : {
        "trusted" : true,
        "input_collapsed" : false,
        "collapsed" : false,
        "id" : "1A0091BCF9A249E5A5C6BD0553566B97"
      },
      "cell_type" : "code",
      "source" : [
        "// Then we should find the key (index of tile) for each pixel\n",
        "\n",
        "// We compute the cumulative sum of the length of tiles\n",
        "var old = 0\n",
        "val cumSum = lengthTiles.map {\n",
        "  case (l) => \n",
        "  {\n",
        "    old = old + l\n",
        "    old\n",
        "  }\n",
        "}\n",
        "\n",
        "// We got the key by doing the logic below \n",
        "val resultsWithKey = resultsWithIndex.map {\n",
        "  case (value, index) => \n",
        "  {\n",
        "    var ind = 0\n",
        "    while(index >= cumSum(ind)) {\n",
        "      ind = ind + 1\n",
        "    } \n",
        "    (ind, value)\n",
        "  }\n",
        "}"
      ],
      "outputs" : [
        {
          "name" : "stdout",
          "output_type" : "stream",
          "text" : "old: Int = 60948480\ncumSum: Array[Int] = Array(65536, 131072, 196608, 262144, 327680, 393216, 458752, 524288, 589824, 655360, 720896, 786432, 851968, 917504, 983040, 1048576, 1114112, 1179648, 1245184, 1310720, 1376256, 1441792, 1507328, 1572864, 1638400, 1703936, 1769472, 1835008, 1900544, 1966080, 2031616, 2097152, 2162688, 2228224, 2293760, 2359296, 2424832, 2490368, 2555904, 2621440, 2686976, 2752512, 2818048, 2883584, 2949120, 3014656, 3080192, 3145728, 3211264, 3276800, 3342336, 3407872, 3473408, 3538944, 3604480, 3670016, 3735552, 3801088, 3866624, 3932160, 3997696, 4063232, 4128768, 4194304, 4259840, 4325376, 4390912, 4456448, 4521984, 4587520, 4653056, 4718592, 4784128, 4849664, 4915200, 4980736, 5046272, 5111808, 5177344, 5242880, 5308416, 5373952, 5439488, 5505024, 5570560, 5..."
        },
        {
          "metadata" : { },
          "data" : {
            "text/html" : ""
          },
          "output_type" : "execute_result",
          "execution_count" : 19,
          "time" : "Took: 1.613s, at 2018-01-18 13:47"
        }
      ]
    },
    {
      "metadata" : {
        "trusted" : true,
        "input_collapsed" : false,
        "collapsed" : false,
        "id" : "468A606A37F7425E86ADD9F90410C271"
      },
      "cell_type" : "code",
      "source" : [
        "// We group by key \n",
        "val resultsGrouped = resultsWithKey.map(l => (l._1.toLong, Array(l._2))).reduceByKey(_ ++ _)"
      ],
      "outputs" : [
        {
          "name" : "stdout",
          "output_type" : "stream",
          "text" : "resultsGrouped: org.apache.spark.rdd.RDD[(Long, Array[Int])] = ShuffledRDD[31] at reduceByKey at <console>:144\n"
        },
        {
          "metadata" : { },
          "data" : {
            "text/html" : ""
          },
          "output_type" : "execute_result",
          "execution_count" : 20,
          "time" : "Took: 1.507s, at 2018-01-18 13:47"
        }
      ]
    },
    {
      "metadata" : {
        "trusted" : true,
        "input_collapsed" : false,
        "collapsed" : false,
        "id" : "A0527E4411C749079A79432962C8B942"
      },
      "cell_type" : "code",
      "source" : [
        "// Now we got the same count as sourceTiles.count()\n",
        "// resultsGrouped.count()"
      ],
      "outputs" : [
        {
          "metadata" : { },
          "data" : {
            "text/html" : ""
          },
          "output_type" : "execute_result",
          "execution_count" : 21,
          "time" : "Took: 1.505s, at 2018-01-18 13:47"
        }
      ]
    },
    {
      "metadata" : {
        "trusted" : true,
        "input_collapsed" : false,
        "collapsed" : false,
        "id" : "06FF8CF66EBE4348AC6BC041FB347A2A"
      },
      "cell_type" : "code",
      "source" : [
        "// Then, we zip with index for RDD[ProjectedExtent]\n",
        "val peWithIndex = sourceTiles.map(l => l._1).zipWithIndex.map(l => (l._2, l._1))"
      ],
      "outputs" : [
        {
          "name" : "stdout",
          "output_type" : "stream",
          "text" : "peWithIndex: org.apache.spark.rdd.RDD[(Long, geotrellis.vector.ProjectedExtent)] = MapPartitionsRDD[34] at map at <console>:122\n"
        },
        {
          "metadata" : { },
          "data" : {
            "text/html" : ""
          },
          "output_type" : "execute_result",
          "execution_count" : 22,
          "time" : "Took: 1.802s, at 2018-01-18 13:47"
        }
      ]
    },
    {
      "metadata" : {
        "trusted" : true,
        "input_collapsed" : false,
        "collapsed" : false,
        "id" : "2DB504E34DB345F28576DED637C7CC1C"
      },
      "cell_type" : "code",
      "source" : [
        "// RDD of ProjectExtented with index of cluster and nb_cols and nb_rows\n",
        "val peWithClusterWithColsAndRows = peWithIndex.join(resultsGrouped).join(nbColsAndRows)"
      ],
      "outputs" : [
        {
          "name" : "stdout",
          "output_type" : "stream",
          "text" : "peWithClusterWithColsAndRows: org.apache.spark.rdd.RDD[(Long, ((geotrellis.vector.ProjectedExtent, Array[Int]), (Int, Int)))] = MapPartitionsRDD[40] at join at <console>:148\n"
        },
        {
          "metadata" : { },
          "data" : {
            "text/html" : ""
          },
          "output_type" : "execute_result",
          "execution_count" : 23,
          "time" : "Took: 1.368s, at 2018-01-18 13:47"
        }
      ]
    },
    {
      "metadata" : {
        "trusted" : true,
        "input_collapsed" : false,
        "collapsed" : false,
        "id" : "39F9430CBD25413A87E0576740E6C56B"
      },
      "cell_type" : "code",
      "source" : [
        "// Convert to IntArrayTile\n",
        "val kmeansTile = peWithClusterWithColsAndRows.map(l => (l._2._1._1, IntArrayTile(l._2._1._2, l._2._2._1, l._2._2._2).tile))"
      ],
      "outputs" : [
        {
          "name" : "stdout",
          "output_type" : "stream",
          "text" : "kmeansTile: org.apache.spark.rdd.RDD[(geotrellis.vector.ProjectedExtent, geotrellis.raster.Tile)] = MapPartitionsRDD[41] at map at <console>:150\n"
        },
        {
          "metadata" : { },
          "data" : {
            "text/html" : ""
          },
          "output_type" : "execute_result",
          "execution_count" : 24,
          "time" : "Took: 1.288s, at 2018-01-18 13:47"
        }
      ]
    },
    {
      "metadata" : {
        "id" : "F1D9C86A9B6C413A8BCEB30FA0EC657A"
      },
      "cell_type" : "markdown",
      "source" : "### Stiching Tiles into a single Geotiff"
    },
    {
      "metadata" : {
        "trusted" : true,
        "input_collapsed" : false,
        "collapsed" : false,
        "id" : "8F91FC767D5D485E8266D2F8D18CCE9D"
      },
      "cell_type" : "code",
      "source" : [
        "// Tile this RDD to a grid layout. This will transform our raster data into a\n",
        "// common grid format, and merge any overlapping data.\n",
        "val layoutScheme = FloatingLayoutScheme()\n",
        "\n",
        "// We gather the metadata that we will be targeting with the tiling here.\n",
        "// The return also gives us a zoom level, which we ignore.\n",
        "val (_: Int, metadata: TileLayerMetadata[SpatialKey]) = kmeansTile.collectMetadata[SpatialKey](layoutScheme)"
      ],
      "outputs" : [
        {
          "name" : "stdout",
          "output_type" : "stream",
          "text" : "layoutScheme: geotrellis.spark.tiling.FloatingLayoutScheme = geotrellis.spark.tiling.FloatingLayoutScheme@2d5eeec6\nmetadata: geotrellis.spark.TileLayerMetadata[geotrellis.spark.SpatialKey] = TileLayerMetadata(int32,GridExtent(Extent(528585.0, 1156335.0, 758985.0, 1394415.0),30.0,30.0),Extent(528585.0, 1156335.0, 758985.0, 1394415.0),EPSG:32648,KeyBounds(SpatialKey(0,0),SpatialKey(29,30)))\n"
        },
        {
          "metadata" : { },
          "data" : {
            "text/html" : ""
          },
          "output_type" : "execute_result",
          "execution_count" : 25,
          "time" : "Took: 8m45.753s, at 2018-01-18 13:56"
        }
      ]
    },
    {
      "metadata" : {
        "trusted" : true,
        "input_collapsed" : false,
        "collapsed" : false,
        "id" : "C46499983456400AB8221B6E9EB71C9E"
      },
      "cell_type" : "code",
      "source" : [
        "// Here we set some options for our tiling.\n",
        "// For this example, we will set the target partitioner to one\n",
        "// that has the same number of partitions as our original RDD.\n",
        "val tilerOptions =\n",
        "  Tiler.Options(\n",
        "    resampleMethod = Bilinear,\n",
        "    partitioner = new HashPartitioner(kmeansTile.partitions.length)\n",
        "  )"
      ],
      "outputs" : [
        {
          "name" : "stdout",
          "output_type" : "stream",
          "text" : "tilerOptions: geotrellis.spark.tiling.Tiler.Options = Options(Bilinear,Some(org.apache.spark.HashPartitioner@64))\n"
        },
        {
          "metadata" : { },
          "data" : {
            "text/html" : ""
          },
          "output_type" : "execute_result",
          "execution_count" : 26,
          "time" : "Took: 1.177s, at 2018-01-18 13:56"
        }
      ]
    },
    {
      "metadata" : {
        "trusted" : true,
        "input_collapsed" : false,
        "collapsed" : false,
        "id" : "A279F9673FBA4A2C8E94F38A150C14B0"
      },
      "cell_type" : "code",
      "source" : [
        "// Now we tile to an RDD with a SpaceTimeKey.\n",
        "val tiledRdd = kmeansTile.tileToLayout[SpatialKey](metadata, tilerOptions)"
      ],
      "outputs" : [
        {
          "name" : "stdout",
          "output_type" : "stream",
          "text" : "tiledRdd: org.apache.spark.rdd.RDD[(geotrellis.spark.SpatialKey, geotrellis.raster.Tile)] = ShuffledRDD[44] at reduceByKey at TileRDDMerge.scala:48\n"
        },
        {
          "metadata" : { },
          "data" : {
            "text/html" : ""
          },
          "output_type" : "execute_result",
          "execution_count" : 27,
          "time" : "Took: 1.546s, at 2018-01-18 13:56"
        }
      ]
    },
    {
      "metadata" : {
        "trusted" : true,
        "input_collapsed" : false,
        "collapsed" : false,
        "id" : "97905D344FC44AF6854389EDF558E445"
      },
      "cell_type" : "code",
      "source" : [
        "// At this point, we want to combine our RDD and our Metadata to get a TileLayerRDD[SpatialKey]\n",
        "val layerRdd: TileLayerRDD[SpatialKey] = ContextRDD(tiledRdd, metadata)"
      ],
      "outputs" : [
        {
          "name" : "stdout",
          "output_type" : "stream",
          "text" : "layerRdd: geotrellis.spark.TileLayerRDD[geotrellis.spark.SpatialKey] = ContextRDD[45] at RDD at ContextRDD.scala:35\n"
        },
        {
          "metadata" : { },
          "data" : {
            "text/html" : ""
          },
          "output_type" : "execute_result",
          "execution_count" : 28,
          "time" : "Took: 1.226s, at 2018-01-18 13:56"
        }
      ]
    },
    {
      "metadata" : {
        "trusted" : true,
        "input_collapsed" : false,
        "collapsed" : false,
        "id" : "868A96E7C8D9413182CC197BFDEFBEAB"
      },
      "cell_type" : "code",
      "source" : [
        "// We stitch all tiles into one Raster\n",
        "val raster_kmeans = layerRdd.stitch"
      ],
      "outputs" : [
        {
          "name" : "stdout",
          "output_type" : "stream",
          "text" : "raster_kmeans: geotrellis.raster.Raster[geotrellis.raster.Tile] = Raster(IntConstantNoDataArrayTile([I@34d6400f,7680,7936),Extent(528585.0, 1156335.0, 758985.0, 1394415.0))\n"
        },
        {
          "metadata" : { },
          "data" : {
            "text/html" : ""
          },
          "output_type" : "execute_result",
          "execution_count" : 29,
          "time" : "Took: 3.550s, at 2018-01-18 13:56"
        }
      ]
    },
    {
      "metadata" : {
        "id" : "26D323110D374E8384AA7F32308D326C"
      },
      "cell_type" : "markdown",
      "source" : "### Convert tile to png and save to HDFS "
    },
    {
      "metadata" : {
        "trusted" : true,
        "input_collapsed" : false,
        "collapsed" : false,
        "id" : "36CB32081E114C2AB0CCC401BE620E8C"
      },
      "cell_type" : "code",
      "source" : [
        "// Get color map from the application.conf settings file.\n",
        "val colorMap = ColorMap.fromStringDouble(listColors).get"
      ],
      "outputs" : [
        {
          "name" : "stdout",
          "output_type" : "stream",
          "text" : "colorMap: geotrellis.raster.render.ColorMap = geotrellis.raster.render.DoubleColorMap@7c22b259\n"
        },
        {
          "metadata" : { },
          "data" : {
            "text/html" : ""
          },
          "output_type" : "execute_result",
          "execution_count" : 30,
          "time" : "Took: 1.280s, at 2018-01-18 13:56"
        }
      ]
    },
    {
      "metadata" : {
        "trusted" : true,
        "input_collapsed" : false,
        "collapsed" : false,
        "id" : "7FA9BB0C363E4CA1BB5B12879DA78DE2"
      },
      "cell_type" : "code",
      "source" : [
        "// Convert tile to png\n",
        "val kmeans_png = raster_kmeans.tile.renderPng(colorMap)"
      ],
      "outputs" : [
        {
          "name" : "stdout",
          "output_type" : "stream",
          "text" : "kmeans_png: geotrellis.raster.render.Png = Png([B@185aa58c)\n"
        },
        {
          "metadata" : { },
          "data" : {
            "text/html" : ""
          },
          "output_type" : "execute_result",
          "execution_count" : 31,
          "time" : "Took: 9.351s, at 2018-01-18 13:56"
        }
      ]
    },
    {
      "metadata" : {
        "trusted" : true,
        "input_collapsed" : false,
        "collapsed" : false,
        "id" : "A5535D1FD6144F58B4B2D409CE6F97D0"
      },
      "cell_type" : "code",
      "source" : [
        "// Save png to HDFS\n",
        "kmeans_png.write(savePath_illustration)"
      ],
      "outputs" : [
        {
          "name" : "stdout",
          "output_type" : "stream",
          "text" : "No codec found for hdfs://hupi-factory-02-01-01-01/user/factory02/thailand_workshop/kmeans/LC08_L1TP_125052_20171231_20180103_01_T1/9.png, writing without compression.\n"
        },
        {
          "metadata" : { },
          "data" : {
            "text/html" : ""
          },
          "output_type" : "execute_result",
          "execution_count" : 32,
          "time" : "Took: 2.007s, at 2018-01-18 13:56"
        }
      ]
    }
  ],
  "nbformat" : 4
}