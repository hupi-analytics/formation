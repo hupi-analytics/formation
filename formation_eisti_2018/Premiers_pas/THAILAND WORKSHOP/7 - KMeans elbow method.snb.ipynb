{
  "metadata" : {
    "id" : "44ca0570-023d-42bf-9a09-a3fa3b61761e",
    "name" : "7 - KMeans elbow method",
    "user_save_timestamp" : "2018-01-08T10:00:53.605Z",
    "auto_save_timestamp" : "1970-01-01T00:00:00.000Z",
    "language_info" : {
      "name" : "scala",
      "file_extension" : "scala",
      "codemirror_mode" : "text/x-scala"
    },
    "trusted" : true,
    "sparkNotebook" : null,
    "customLocalRepo" : null,
    "customRepos" : [
      "osgeo % default % http://download.osgeo.org/webdav/geotools/ % maven"
    ],
    "customDeps" : [
      "org.locationtech.geotrellis % geotrellis-spark_2.11 % 1.2.0",
      "org.mongodb.spark %% mongo-spark-connector % 2.0.0",
      "org.mongodb % bson % 3.4.1"
    ],
    "customImports" : null,
    "customArgs" : null,
    "customSparkConf" : null,
    "customVars" : null
  },
  "cells" : [
    {
      "metadata" : {
        "id" : "832649D1DE8448AB82F3C55B5C2337C7"
      },
      "cell_type" : "markdown",
      "source" : "In this notebook, we will choose the optimal k with Elbow method\n\nsource : https://en.wikipedia.org/wiki/Determining_the_number_of_clusters_in_a_data_set\n\n\"The elbow method looks at the percentage of variance explained as a function of the number of clusters: One should choose a number of clusters so that adding another cluster doesn't give much better modeling of the data. More precisely, if one plots the percentage of variance explained by the clusters against the number of clusters, the first clusters will add much information (explain a lot of variance), but at some point the marginal gain will drop, giving an angle in the graph. The number of clusters is chosen at this point, hence the \"elbow criterion\". This \"elbow\" cannot always be unambiguously identified.[1] Percentage of variance explained is the ratio of the between-group variance to the total variance, also known as an F-test. A slight variation of this method plots the curvature of the within group variance.\""
    },
    {
      "metadata" : {
        "trusted" : true,
        "input_collapsed" : false,
        "collapsed" : false,
        "id" : "BEA974C4F20540298704EF6055B877D6"
      },
      "cell_type" : "code",
      "source" : [
        "import geotrellis.raster._\n",
        "import geotrellis.raster.vectorize._\n",
        "import geotrellis.raster.vectorize\n",
        "import geotrellis.raster.io.geotiff._\n",
        "import geotrellis.raster.render._\n",
        "import geotrellis.raster.io.geotiff.GeoTiff\n",
        "import geotrellis.raster.resample._\n",
        "\n",
        "import geotrellis.spark._\n",
        "import geotrellis.spark.io._\n",
        "import geotrellis.spark.io.RasterReader\n",
        "import geotrellis.spark.io.hadoop._\n",
        "import geotrellis.spark.io.hadoop\n",
        "import geotrellis.spark.tiling._\n",
        "import geotrellis.spark.tiling.FloatingLayoutScheme\n",
        "\n",
        "import geotrellis.vector._\n",
        "\n",
        "import org.apache.spark.SparkContext\n",
        "import org.apache.spark.rdd._\n",
        "import org.apache.spark.rdd.RDD\n",
        "import org.apache.spark.HashPartitioner\n",
        "import org.apache.spark.mllib.linalg.{Vector, Vectors}\n",
        "import org.apache.spark.mllib.clustering.{KMeans, KMeansModel}\n",
        "\n",
        "import java.net.URI\n",
        "import scala.math.BigDecimal.RoundingMode\n",
        "import org.apache.hadoop.fs.Path\n",
        "import scala.collection.mutable.ListBuffer"
      ],
      "outputs" : [
        {
          "name" : "stdout",
          "output_type" : "stream",
          "text" : "import geotrellis.raster._\nimport geotrellis.raster.vectorize._\nimport geotrellis.raster.vectorize\nimport geotrellis.raster.io.geotiff._\nimport geotrellis.raster.render._\nimport geotrellis.raster.io.geotiff.GeoTiff\nimport geotrellis.raster.resample._\nimport geotrellis.spark._\nimport geotrellis.spark.io._\nimport geotrellis.spark.io.RasterReader\nimport geotrellis.spark.io.hadoop._\nimport geotrellis.spark.io.hadoop\nimport geotrellis.spark.tiling._\nimport geotrellis.spark.tiling.FloatingLayoutScheme\nimport geotrellis.vector._\nimport org.apache.spark.SparkContext\nimport org.apache.spark.rdd._\nimport org.apache.spark.rdd.RDD\nimport org.apache.spark.HashPartitioner\nimport org.apache.spark.mllib.linalg.{Vector, Vectors}\nimport org.apache.spark.mllib.clustering.{KMeans, KMeansModel}\nimport java...."
        },
        {
          "metadata" : { },
          "data" : {
            "text/html" : ""
          },
          "output_type" : "execute_result",
          "execution_count" : 1,
          "time" : "Took: 1.919s, at 2018-01-18 13:16"
        }
      ]
    },
    {
      "metadata" : {
        "id" : "9AF7A48C32A441A981240FCA6AE995B1"
      },
      "cell_type" : "markdown",
      "source" : "# Parameters"
    },
    {
      "metadata" : {
        "trusted" : true,
        "input_collapsed" : false,
        "collapsed" : false,
        "id" : "7DE4DF07A5364D8F9204C6AB33E5C0E0"
      },
      "cell_type" : "code",
      "source" : [
        "val HdfsUrl = \"hdfs://hupi-factory-02-01-01-01/\"\n",
        "val dataRepo1 = \"user/factory02/thailand_workshop/data_multiBands/\"\n",
        "val dataRepo2 = \"user/factory02/thailand_workshop/kmeans/\"\n",
        "val landsatName = \"LC08_L1TP_125052_20171231_20180103_01_T1\""
      ],
      "outputs" : [
        {
          "name" : "stdout",
          "output_type" : "stream",
          "text" : "HdfsUrl: String = hdfs://hupi-factory-02-01-01-01/\ndataRepo1: String = user/factory02/thailand_workshop/data_multiBands/\ndataRepo2: String = user/factory02/thailand_workshop/kmeans/\nlandsatName: String = LC08_L1TP_125052_20171231_20180103_01_T1\n"
        },
        {
          "metadata" : { },
          "data" : {
            "text/html" : ""
          },
          "output_type" : "execute_result",
          "execution_count" : 2,
          "time" : "Took: 1.663s, at 2018-01-18 13:16"
        }
      ]
    },
    {
      "metadata" : {
        "id" : "8FA1514E04BF4346A5AEE1B4F18CE0B6"
      },
      "cell_type" : "markdown",
      "source" : "# Load GeoTiff from HDFS and create the dataset for Kmeans"
    },
    {
      "metadata" : {
        "trusted" : true,
        "input_collapsed" : false,
        "collapsed" : false,
        "id" : "6ECBC48C58914C6983A048255A764B31"
      },
      "cell_type" : "code",
      "source" : [
        "// We get multi bands from HDFS (except band 8) \n",
        "val sourceTiles = sc.hadoopMultibandGeoTiffRDD(HdfsUrl + dataRepo1 + landsatName + \".tif\").repartition(100)"
      ],
      "outputs" : [
        {
          "name" : "stdout",
          "output_type" : "stream",
          "text" : "sourceTiles: org.apache.spark.rdd.RDD[(geotrellis.vector.ProjectedExtent, geotrellis.raster.MultibandTile)] = MapPartitionsRDD[7] at repartition at <console>:119\n"
        },
        {
          "metadata" : { },
          "data" : {
            "text/html" : ""
          },
          "output_type" : "execute_result",
          "execution_count" : 3,
          "time" : "Took: 5.206s, at 2018-01-18 13:16"
        }
      ]
    },
    {
      "metadata" : {
        "trusted" : true,
        "input_collapsed" : false,
        "collapsed" : false,
        "id" : "D3B447EC5BE144848390B535B98DDF7E"
      },
      "cell_type" : "code",
      "source" : [
        "// We convert multi tiles into one vector of features in RDD\n",
        "val input = sourceTiles.map (l => (l._2.band(0).convert(DoubleConstantNoDataCellType).toArrayDouble(), \n",
        "                       l._2.band(1).convert(DoubleConstantNoDataCellType).toArrayDouble(), \n",
        "                       l._2.band(2).convert(DoubleConstantNoDataCellType).toArrayDouble(),\n",
        "                       l._2.band(3).convert(DoubleConstantNoDataCellType).toArrayDouble(), \n",
        "                       l._2.band(4).convert(DoubleConstantNoDataCellType).toArrayDouble(),\n",
        "                       l._2.band(5).convert(DoubleConstantNoDataCellType).toArrayDouble(), \n",
        "                       l._2.band(6).convert(DoubleConstantNoDataCellType).toArrayDouble(),\n",
        "                       l._2.band(7).convert(DoubleConstantNoDataCellType).toArrayDouble(),\n",
        "                       l._2.band(8).convert(DoubleConstantNoDataCellType).toArrayDouble(), \n",
        "                       l._2.band(9).convert(DoubleConstantNoDataCellType).toArrayDouble()))\n",
        ".map(l => l._1.zip(l._2).zip(l._3).zip(l._4).zip(l._5).zip(l._6).zip(l._7).zip(l._8).zip(l._9).zip(l._10))\n",
        ".map(l => l.map(k => Vectors.dense(k._1._1._1._1._1._1._1._1._1, k._1._1._1._1._1._1._1._1._2, \n",
        "                                   k._1._1._1._1._1._1._1._2, k._1._1._1._1._1._1._2,\n",
        "                                  k._1._1._1._1._1._2, k._1._1._1._1._2, k._1._1._1._2,\n",
        "                                   k._1._1._2, k._1._2, k._2))).flatMap(l => l)"
      ],
      "outputs" : [
        {
          "name" : "stdout",
          "output_type" : "stream",
          "text" : "input: org.apache.spark.rdd.RDD[org.apache.spark.mllib.linalg.Vector] = MapPartitionsRDD[11] at flatMap at <console>:135\n"
        },
        {
          "metadata" : { },
          "data" : {
            "text/html" : ""
          },
          "output_type" : "execute_result",
          "execution_count" : 4,
          "time" : "Took: 2.043s, at 2018-01-18 13:16"
        }
      ]
    },
    {
      "metadata" : {
        "id" : "B86668B0EA8443FC8A4E1B0018C7B4E4"
      },
      "cell_type" : "markdown",
      "source" : "# List of all Kmeans model in HDFS"
    },
    {
      "metadata" : {
        "trusted" : true,
        "input_collapsed" : false,
        "collapsed" : false,
        "id" : "E5712D6E322140128AD73739A2E3F486"
      },
      "cell_type" : "code",
      "source" : [
        "val conf = sc.hadoopConfiguration \n",
        "val fs = org.apache.hadoop.fs.FileSystem.get(new java.net.URI(HdfsUrl), conf)"
      ],
      "outputs" : [
        {
          "name" : "stdout",
          "output_type" : "stream",
          "text" : "conf: org.apache.hadoop.conf.Configuration = Configuration: core-default.xml, core-site.xml, mapred-default.xml, mapred-site.xml, yarn-default.xml, yarn-site.xml, hdfs-default.xml, hdfs-site.xml\nfs: org.apache.hadoop.fs.FileSystem = DFS[DFSClient[clientName=DFSClient_NONMAPREDUCE_-770781220_14, ugi=root (auth:SIMPLE)]]\n"
        },
        {
          "metadata" : { },
          "data" : {
            "text/html" : ""
          },
          "output_type" : "execute_result",
          "execution_count" : 5,
          "time" : "Took: 1.365s, at 2018-01-18 13:16"
        }
      ]
    },
    {
      "metadata" : {
        "trusted" : true,
        "input_collapsed" : false,
        "collapsed" : false,
        "id" : "06C16EB930A2432583D483C6AAF08A2B"
      },
      "cell_type" : "code",
      "source" : [
        "// List of all paths in HDFS except the png files\n",
        "val status = fs.listStatus(new Path(HdfsUrl + dataRepo2 + landsatName))\n",
        "val listPaths = status.map(l => l.getPath.toString).filter(l => !l.contains(\".png\"))"
      ],
      "outputs" : [
        {
          "name" : "stdout",
          "output_type" : "stream",
          "text" : "status: Array[org.apache.hadoop.fs.FileStatus] = Array(FileStatus{path=hdfs://hupi-factory-02-01-01-01/user/factory02/thailand_workshop/kmeans/LC08_L1TP_125052_20171231_20180103_01_T1/10; isDirectory=true; modification_time=1516034180793; access_time=0; owner=factory02; group=supergroup; permission=rwxrwxrwx; isSymlink=false}, FileStatus{path=hdfs://hupi-factory-02-01-01-01/user/factory02/thailand_workshop/kmeans/LC08_L1TP_125052_20171231_20180103_01_T1/11; isDirectory=true; modification_time=1516034817073; access_time=0; owner=factory02; group=supergroup; permission=rwxrwxrwx; isSymlink=false}, FileStatus{path=hdfs://hupi-factory-02-01-01-01/user/factory02/thailand_workshop/kmeans/LC08_L1TP_125052_20171231_20180103_01_T1/12; isDirectory=true; modification_time=1516035467422; access_tim..."
        },
        {
          "metadata" : { },
          "data" : {
            "text/html" : ""
          },
          "output_type" : "execute_result",
          "execution_count" : 6,
          "time" : "Took: 1.461s, at 2018-01-18 13:16"
        }
      ]
    },
    {
      "metadata" : {
        "trusted" : true,
        "input_collapsed" : false,
        "collapsed" : false,
        "id" : "13A2E21EAC0D4000B917E9275D9F9310"
      },
      "cell_type" : "code",
      "source" : [
        "val numberModels = listPaths.length\n",
        "val numClusters = new ListBuffer[String] \n",
        "val WSSSE = new ListBuffer[Double]"
      ],
      "outputs" : [
        {
          "name" : "stdout",
          "output_type" : "stream",
          "text" : "numberModels: Int = 28\nnumClusters: scala.collection.mutable.ListBuffer[String] = ListBuffer()\nWSSSE: scala.collection.mutable.ListBuffer[Double] = ListBuffer()\n"
        },
        {
          "metadata" : { },
          "data" : {
            "text/html" : ""
          },
          "output_type" : "execute_result",
          "execution_count" : 7,
          "time" : "Took: 1.376s, at 2018-01-18 13:16"
        }
      ]
    },
    {
      "metadata" : {
        "trusted" : true,
        "input_collapsed" : false,
        "collapsed" : false,
        "id" : "61734D0C13BA49CE87D397F96EF5453E"
      },
      "cell_type" : "code",
      "source" : [
        "// We do the loop that compute all WSSSE for each Kmeans model\n",
        "for (i <- 0 to (numberModels-1)) {\n",
        "  val k = listPaths(i).split(\"/\").last\n",
        "  val clusters = KMeansModel.load(sc, listPaths(i))\n",
        "  // Evaluate clustering by computing Within Set Sum of Squared Errors\n",
        "  val w = clusters.computeCost(input)\n",
        "  numClusters += k\n",
        "  WSSSE += w\n",
        "}"
      ],
      "outputs" : [
        {
          "metadata" : { },
          "data" : {
            "text/html" : ""
          },
          "output_type" : "execute_result",
          "execution_count" : 8,
          "time" : "Took: 6m41.181s, at 2018-01-18 13:23"
        }
      ]
    },
    {
      "metadata" : {
        "trusted" : true,
        "input_collapsed" : false,
        "collapsed" : false,
        "id" : "CCBCE66F77CB40BF828B1FEABF694B52"
      },
      "cell_type" : "code",
      "source" : [
        "// Create the coordinates x corresponding to k and y as WSSSE\n",
        "val x = numClusters.toList\n",
        "val y = WSSSE.toList"
      ],
      "outputs" : [
        {
          "name" : "stdout",
          "output_type" : "stream",
          "text" : "x: List[String] = List(10, 11, 12, 13, 14, 15, 16, 17, 18, 19, 20, 21, 22, 23, 24, 25, 26, 27, 28, 29, 3, 30, 4, 5, 6, 7, 8, 9)\ny: List[Double] = List(4.384089928208217E14, 4.1842139728097406E14, 3.9086565861284856E14, 3.742452438620692E14, 3.53610743052162E14, 3.324549553331858E14, 3.2241364549817894E14, 3.085211016961699E14, 3.0407603247552706E14, 2.882359468016868E14, 2.7660116444340216E14, 2.6765306530376616E14, 2.819800538417536E14, 2.614258714649371E14, 2.4379860183863322E14, 2.541478525077957E14, 2.3429985771893962E14, 2.3065466626481803E14, 2.2013649328224206E14, 2.147577336796469E14, 1.5196546950159248E15, 2.1482426800166603E14, 1.259330216368428E15, 8.643314888141961E14, 6.816967102565429E14, 6.082935922800558E14, 5.2728254483075056E14, 4.751226426587388E14)\n"
        },
        {
          "metadata" : { },
          "data" : {
            "text/html" : ""
          },
          "output_type" : "execute_result",
          "execution_count" : 9,
          "time" : "Took: 1.329s, at 2018-01-18 13:23"
        }
      ]
    },
    {
      "metadata" : {
        "trusted" : true,
        "input_collapsed" : false,
        "collapsed" : false,
        "id" : "D705AB655F874B208CA86DE6400ACDBD"
      },
      "cell_type" : "code",
      "source" : [
        "val wsssePerK = x.zip(y).sortBy(_._1).map(l => (l._1.toInt, l._2))"
      ],
      "outputs" : [
        {
          "name" : "stdout",
          "output_type" : "stream",
          "text" : "wsssePerK: List[(Int, Double)] = List((10,4.384089928208217E14), (11,4.1842139728097406E14), (12,3.9086565861284856E14), (13,3.742452438620692E14), (14,3.53610743052162E14), (15,3.324549553331858E14), (16,3.2241364549817894E14), (17,3.085211016961699E14), (18,3.0407603247552706E14), (19,2.882359468016868E14), (20,2.7660116444340216E14), (21,2.6765306530376616E14), (22,2.819800538417536E14), (23,2.614258714649371E14), (24,2.4379860183863322E14), (25,2.541478525077957E14), (26,2.3429985771893962E14), (27,2.3065466626481803E14), (28,2.2013649328224206E14), (29,2.147577336796469E14), (3,1.5196546950159248E15), (30,2.1482426800166603E14), (4,1.259330216368428E15), (5,8.643314888141961E14), (6,6.816967102565429E14), (7,6.082935922800558E14), (8,5.2728254483075056E14), (9,4.751226426587388E14))\n"
        },
        {
          "metadata" : { },
          "data" : {
            "text/html" : ""
          },
          "output_type" : "execute_result",
          "execution_count" : 10,
          "time" : "Took: 1.408s, at 2018-01-18 13:23"
        }
      ]
    },
    {
      "metadata" : {
        "id" : "DA92D9A25EB74D86B75D9619EA22EFA8"
      },
      "cell_type" : "markdown",
      "source" : "# Save results to MongoDB"
    },
    {
      "metadata" : {
        "trusted" : true,
        "input_collapsed" : false,
        "collapsed" : false,
        "id" : "ECD0E0F816FC438D80E03EA68138389A"
      },
      "cell_type" : "code",
      "source" : [
        "// Convert to df\n",
        "val df = sc.parallelize(wsssePerK).toDF(\"k\", \"wssse\")"
      ],
      "outputs" : [
        {
          "name" : "stdout",
          "output_type" : "stream",
          "text" : "df: org.apache.spark.sql.DataFrame = [k: int, wssse: double]\n"
        },
        {
          "metadata" : { },
          "data" : {
            "text/html" : ""
          },
          "output_type" : "execute_result",
          "execution_count" : 11,
          "time" : "Took: 1.774s, at 2018-01-18 13:23"
        }
      ]
    },
    {
      "metadata" : {
        "trusted" : true,
        "input_collapsed" : false,
        "collapsed" : false,
        "id" : "B6E187FF4BFB41D58D30DC6D1AC12BF9"
      },
      "cell_type" : "code",
      "source" : [
        "// We save the collection to Mongo by overwriting it\n",
        "df.write.format(\"com.mongodb.spark.sql\").option(\"uri\", s\"mongodb://10.100.2.7:27017/hupi.elbowMethodForKmeans\")\n",
        ".mode(\"overwrite\").save()"
      ],
      "outputs" : [
        {
          "metadata" : { },
          "data" : {
            "text/html" : ""
          },
          "output_type" : "execute_result",
          "execution_count" : 12,
          "time" : "Took: 2.484s, at 2018-01-18 13:23"
        }
      ]
    },
    {
      "metadata" : {
        "id" : "1938BE26519147BF879978857F07B22A"
      },
      "cell_type" : "markdown",
      "source" : "# VIsualizations of results in notebook"
    },
    {
      "metadata" : {
        "trusted" : true,
        "input_collapsed" : false,
        "collapsed" : false,
        "presentation" : {
          "tabs_state" : "{\n  \"tab_id\": \"#tab1042241848-2\"\n}",
          "pivot_chart_state" : "{\n  \"hiddenAttributes\": [],\n  \"menuLimit\": 200,\n  \"cols\": [],\n  \"rows\": [],\n  \"vals\": [],\n  \"exclusions\": {},\n  \"inclusions\": {},\n  \"unusedAttrsVertical\": 85,\n  \"autoSortUnusedAttrs\": false,\n  \"inclusionsInfo\": {},\n  \"aggregatorName\": \"Count\",\n  \"rendererName\": \"Table\"\n}"
        },
        "id" : "C7A47D9DDA744DFAB748E6E009188D13"
      },
      "cell_type" : "code",
      "source" : [
        "wsssePerK.sortBy(_._1)"
      ],
      "outputs" : [
        {
          "name" : "stdout",
          "output_type" : "stream",
          "text" : "res15: List[(Int, Double)] = List((3,1.5196546950159248E15), (4,1.259330216368428E15), (5,8.643314888141961E14), (6,6.816967102565429E14), (7,6.082935922800558E14), (8,5.2728254483075056E14), (9,4.751226426587388E14), (10,4.384089928208217E14), (11,4.1842139728097406E14), (12,3.9086565861284856E14), (13,3.742452438620692E14), (14,3.53610743052162E14), (15,3.324549553331858E14), (16,3.2241364549817894E14), (17,3.085211016961699E14), (18,3.0407603247552706E14), (19,2.882359468016868E14), (20,2.7660116444340216E14), (21,2.6765306530376616E14), (22,2.819800538417536E14), (23,2.614258714649371E14), (24,2.4379860183863322E14), (25,2.541478525077957E14), (26,2.3429985771893962E14), (27,2.3065466626481803E14), (28,2.2013649328224206E14), (29,2.147577336796469E14), (30,2.1482426800166603E14))\n"
        },
        {
          "metadata" : { },
          "data" : {
            "text/html" : "<div>\n      <script data-this=\"{&quot;dataId&quot;:&quot;anonb13ae37416eecb81056bb3b0dc925e1f&quot;,&quot;dataInit&quot;:[],&quot;genId&quot;:&quot;1042241848&quot;}\" type=\"text/x-scoped-javascript\">/*<![CDATA[*/req(['../javascripts/notebook/playground','../javascripts/notebook/magic/tabs'], \n      function(playground, _magictabs) {\n        // data ==> data-this (in observable.js's scopedEval) ==> this in JS => { dataId, dataInit, ... }\n        // this ==> scope (in observable.js's scopedEval) ==> this.parentElement ==> div.container below (toHtml)\n\n        playground.call(data,\n                        this\n                        ,\n                        {\n    \"f\": _magictabs,\n    \"o\": {}\n  }\n  \n                        \n                        \n                      );\n      }\n    );/*]]>*/</script>\n    <div>\n      <div>\n        <ul class=\"nav nav-tabs\" id=\"ul1042241848\"><li>\n              <a href=\"#tab1042241848-0\"><i class=\"fa fa-table\"/></a>\n            </li><li>\n              <a href=\"#tab1042241848-1\"><i class=\"fa fa-dot-circle-o\"/></a>\n            </li><li>\n              <a href=\"#tab1042241848-2\"><i class=\"fa fa-line-chart\"/></a>\n            </li><li>\n              <a href=\"#tab1042241848-3\"><i class=\"fa fa-bar-chart\"/></a>\n            </li><li>\n              <a href=\"#tab1042241848-4\"><i class=\"fa fa-cubes\"/></a>\n            </li></ul>\n\n        <div class=\"tab-content\" id=\"tab1042241848\"><div class=\"tab-pane\" id=\"tab1042241848-0\">\n            <div>\n      <script data-this=\"{&quot;dataId&quot;:&quot;anon406216d5264fb4e21dbc847b5c433ef7&quot;,&quot;dataInit&quot;:[{&quot;_1&quot;:3,&quot;_2&quot;:1519654695015924.8},{&quot;_1&quot;:4,&quot;_2&quot;:1259330216368428},{&quot;_1&quot;:5,&quot;_2&quot;:864331488814196.1},{&quot;_1&quot;:6,&quot;_2&quot;:681696710256542.9},{&quot;_1&quot;:7,&quot;_2&quot;:608293592280055.8},{&quot;_1&quot;:8,&quot;_2&quot;:527282544830750.56},{&quot;_1&quot;:9,&quot;_2&quot;:475122642658738.8},{&quot;_1&quot;:10,&quot;_2&quot;:438408992820821.7},{&quot;_1&quot;:11,&quot;_2&quot;:418421397280974.06},{&quot;_1&quot;:12,&quot;_2&quot;:390865658612848.56},{&quot;_1&quot;:13,&quot;_2&quot;:374245243862069.2},{&quot;_1&quot;:14,&quot;_2&quot;:353610743052162},{&quot;_1&quot;:15,&quot;_2&quot;:332454955333185.8},{&quot;_1&quot;:16,&quot;_2&quot;:322413645498178.94},{&quot;_1&quot;:17,&quot;_2&quot;:308521101696169.9},{&quot;_1&quot;:18,&quot;_2&quot;:304076032475527.06},{&quot;_1&quot;:19,&quot;_2&quot;:288235946801686.8},{&quot;_1&quot;:20,&quot;_2&quot;:276601164443402.16},{&quot;_1&quot;:21,&quot;_2&quot;:267653065303766.16},{&quot;_1&quot;:22,&quot;_2&quot;:281980053841753.6},{&quot;_1&quot;:23,&quot;_2&quot;:261425871464937.1},{&quot;_1&quot;:24,&quot;_2&quot;:243798601838633.22},{&quot;_1&quot;:25,&quot;_2&quot;:254147852507795.7},{&quot;_1&quot;:26,&quot;_2&quot;:234299857718939.62},{&quot;_1&quot;:27,&quot;_2&quot;:230654666264818.03},{&quot;_1&quot;:28,&quot;_2&quot;:220136493282242.06},{&quot;_1&quot;:29,&quot;_2&quot;:214757733679646.9},{&quot;_1&quot;:30,&quot;_2&quot;:214824268001666.03}],&quot;genId&quot;:&quot;867310428&quot;}\" type=\"text/x-scoped-javascript\">/*<![CDATA[*/req(['../javascripts/notebook/playground','../javascripts/notebook/magic/tableChart'], \n      function(playground, _magictableChart) {\n        // data ==> data-this (in observable.js's scopedEval) ==> this in JS => { dataId, dataInit, ... }\n        // this ==> scope (in observable.js's scopedEval) ==> this.parentElement ==> div.container below (toHtml)\n\n        playground.call(data,\n                        this\n                        ,\n                        {\n    \"f\": _magictableChart,\n    \"o\": {\"headers\":[\"_1\",\"_2\"],\"width\":600,\"height\":400}\n  }\n  \n                        \n                        \n                      );\n      }\n    );/*]]>*/</script>\n    <div>\n      <span class=\"chart-total-item-count\"><p data-bind=\"text: value\"><script data-this=\"{&quot;valueId&quot;:&quot;anondad4d751a8fb6bdb83ef2ec65c3facb7&quot;,&quot;initialValue&quot;:&quot;28&quot;}\" type=\"text/x-scoped-javascript\">/*<![CDATA[*/\nreq(\n['observable', 'knockout'],\nfunction (O, ko) {\n  ko.applyBindings({\n      value: O.makeObservable(valueId, initialValue)\n    },\n    this\n  );\n});\n        /*]]>*/</script></p> entries total</span>\n      <span class=\"chart-sampling-warning\"><p data-bind=\"text: value\"><script data-this=\"{&quot;valueId&quot;:&quot;anon01360a59d81645684d70726e54b430e2&quot;,&quot;initialValue&quot;:&quot;&quot;}\" type=\"text/x-scoped-javascript\">/*<![CDATA[*/\nreq(\n['observable', 'knockout'],\nfunction (O, ko) {\n  ko.applyBindings({\n      value: O.makeObservable(valueId, initialValue)\n    },\n    this\n  );\n});\n        /*]]>*/</script></p></span>\n      <div>\n      </div>\n    </div></div>\n            </div><div class=\"tab-pane\" id=\"tab1042241848-1\">\n            <div>\n      <script data-this=\"{&quot;dataId&quot;:&quot;anoneaa5b19dd66e50a53727ace64af8dab0&quot;,&quot;dataInit&quot;:[{&quot;_1&quot;:3,&quot;_2&quot;:1519654695015924.8},{&quot;_1&quot;:4,&quot;_2&quot;:1259330216368428},{&quot;_1&quot;:5,&quot;_2&quot;:864331488814196.1},{&quot;_1&quot;:6,&quot;_2&quot;:681696710256542.9},{&quot;_1&quot;:7,&quot;_2&quot;:608293592280055.8},{&quot;_1&quot;:8,&quot;_2&quot;:527282544830750.56},{&quot;_1&quot;:9,&quot;_2&quot;:475122642658738.8},{&quot;_1&quot;:10,&quot;_2&quot;:438408992820821.7},{&quot;_1&quot;:11,&quot;_2&quot;:418421397280974.06},{&quot;_1&quot;:12,&quot;_2&quot;:390865658612848.56},{&quot;_1&quot;:13,&quot;_2&quot;:374245243862069.2},{&quot;_1&quot;:14,&quot;_2&quot;:353610743052162},{&quot;_1&quot;:15,&quot;_2&quot;:332454955333185.8},{&quot;_1&quot;:16,&quot;_2&quot;:322413645498178.94},{&quot;_1&quot;:17,&quot;_2&quot;:308521101696169.9},{&quot;_1&quot;:18,&quot;_2&quot;:304076032475527.06},{&quot;_1&quot;:19,&quot;_2&quot;:288235946801686.8},{&quot;_1&quot;:20,&quot;_2&quot;:276601164443402.16},{&quot;_1&quot;:21,&quot;_2&quot;:267653065303766.16},{&quot;_1&quot;:22,&quot;_2&quot;:281980053841753.6},{&quot;_1&quot;:23,&quot;_2&quot;:261425871464937.1},{&quot;_1&quot;:24,&quot;_2&quot;:243798601838633.22},{&quot;_1&quot;:25,&quot;_2&quot;:254147852507795.7},{&quot;_1&quot;:26,&quot;_2&quot;:234299857718939.62},{&quot;_1&quot;:27,&quot;_2&quot;:230654666264818.03},{&quot;_1&quot;:28,&quot;_2&quot;:220136493282242.06},{&quot;_1&quot;:29,&quot;_2&quot;:214757733679646.9},{&quot;_1&quot;:30,&quot;_2&quot;:214824268001666.03}],&quot;genId&quot;:&quot;975855211&quot;}\" type=\"text/x-scoped-javascript\">/*<![CDATA[*/req(['../javascripts/notebook/playground','../javascripts/notebook/magic/scatterChart'], \n      function(playground, _magicscatterChart) {\n        // data ==> data-this (in observable.js's scopedEval) ==> this in JS => { dataId, dataInit, ... }\n        // this ==> scope (in observable.js's scopedEval) ==> this.parentElement ==> div.container below (toHtml)\n\n        playground.call(data,\n                        this\n                        ,\n                        {\n    \"f\": _magicscatterChart,\n    \"o\": {\"x\":\"_1\",\"y\":\"_2\",\"width\":600,\"height\":400}\n  }\n  \n                        \n                        \n                      );\n      }\n    );/*]]>*/</script>\n    <div>\n      <span class=\"chart-total-item-count\"><p data-bind=\"text: value\"><script data-this=\"{&quot;valueId&quot;:&quot;anon97e5a0e412fa8a7d815e8ea243960af9&quot;,&quot;initialValue&quot;:&quot;28&quot;}\" type=\"text/x-scoped-javascript\">/*<![CDATA[*/\nreq(\n['observable', 'knockout'],\nfunction (O, ko) {\n  ko.applyBindings({\n      value: O.makeObservable(valueId, initialValue)\n    },\n    this\n  );\n});\n        /*]]>*/</script></p> entries total</span>\n      <span class=\"chart-sampling-warning\"><p data-bind=\"text: value\"><script data-this=\"{&quot;valueId&quot;:&quot;anon1e5a471405bf258bbd10c8d1960be3d7&quot;,&quot;initialValue&quot;:&quot;&quot;}\" type=\"text/x-scoped-javascript\">/*<![CDATA[*/\nreq(\n['observable', 'knockout'],\nfunction (O, ko) {\n  ko.applyBindings({\n      value: O.makeObservable(valueId, initialValue)\n    },\n    this\n  );\n});\n        /*]]>*/</script></p></span>\n      <div>\n      </div>\n    </div></div>\n            </div><div class=\"tab-pane\" id=\"tab1042241848-2\">\n            <div>\n      <script data-this=\"{&quot;dataId&quot;:&quot;anonb5465c0a89cdf8065ac8e5bca39747c1&quot;,&quot;dataInit&quot;:[{&quot;_1&quot;:3,&quot;_2&quot;:1519654695015924.8},{&quot;_1&quot;:4,&quot;_2&quot;:1259330216368428},{&quot;_1&quot;:5,&quot;_2&quot;:864331488814196.1},{&quot;_1&quot;:6,&quot;_2&quot;:681696710256542.9},{&quot;_1&quot;:7,&quot;_2&quot;:608293592280055.8},{&quot;_1&quot;:8,&quot;_2&quot;:527282544830750.56},{&quot;_1&quot;:9,&quot;_2&quot;:475122642658738.8},{&quot;_1&quot;:10,&quot;_2&quot;:438408992820821.7},{&quot;_1&quot;:11,&quot;_2&quot;:418421397280974.06},{&quot;_1&quot;:12,&quot;_2&quot;:390865658612848.56},{&quot;_1&quot;:13,&quot;_2&quot;:374245243862069.2},{&quot;_1&quot;:14,&quot;_2&quot;:353610743052162},{&quot;_1&quot;:15,&quot;_2&quot;:332454955333185.8},{&quot;_1&quot;:16,&quot;_2&quot;:322413645498178.94},{&quot;_1&quot;:17,&quot;_2&quot;:308521101696169.9},{&quot;_1&quot;:18,&quot;_2&quot;:304076032475527.06},{&quot;_1&quot;:19,&quot;_2&quot;:288235946801686.8},{&quot;_1&quot;:20,&quot;_2&quot;:276601164443402.16},{&quot;_1&quot;:21,&quot;_2&quot;:267653065303766.16},{&quot;_1&quot;:22,&quot;_2&quot;:281980053841753.6},{&quot;_1&quot;:23,&quot;_2&quot;:261425871464937.1},{&quot;_1&quot;:24,&quot;_2&quot;:243798601838633.22},{&quot;_1&quot;:25,&quot;_2&quot;:254147852507795.7},{&quot;_1&quot;:26,&quot;_2&quot;:234299857718939.62},{&quot;_1&quot;:27,&quot;_2&quot;:230654666264818.03},{&quot;_1&quot;:28,&quot;_2&quot;:220136493282242.06},{&quot;_1&quot;:29,&quot;_2&quot;:214757733679646.9},{&quot;_1&quot;:30,&quot;_2&quot;:214824268001666.03}],&quot;genId&quot;:&quot;1448321669&quot;}\" type=\"text/x-scoped-javascript\">/*<![CDATA[*/req(['../javascripts/notebook/playground','../javascripts/notebook/magic/lineChart'], \n      function(playground, _magiclineChart) {\n        // data ==> data-this (in observable.js's scopedEval) ==> this in JS => { dataId, dataInit, ... }\n        // this ==> scope (in observable.js's scopedEval) ==> this.parentElement ==> div.container below (toHtml)\n\n        playground.call(data,\n                        this\n                        ,\n                        {\n    \"f\": _magiclineChart,\n    \"o\": {\"x\":\"_1\",\"y\":\"_2\",\"width\":600,\"height\":400}\n  }\n  \n                        \n                        \n                      );\n      }\n    );/*]]>*/</script>\n    <div>\n      <span class=\"chart-total-item-count\"><p data-bind=\"text: value\"><script data-this=\"{&quot;valueId&quot;:&quot;anon0bfd6ab63269282a258f19d11403c16b&quot;,&quot;initialValue&quot;:&quot;28&quot;}\" type=\"text/x-scoped-javascript\">/*<![CDATA[*/\nreq(\n['observable', 'knockout'],\nfunction (O, ko) {\n  ko.applyBindings({\n      value: O.makeObservable(valueId, initialValue)\n    },\n    this\n  );\n});\n        /*]]>*/</script></p> entries total</span>\n      <span class=\"chart-sampling-warning\"><p data-bind=\"text: value\"><script data-this=\"{&quot;valueId&quot;:&quot;anon0d7d8e93d5bbb6d1a2384ff4b470f0f8&quot;,&quot;initialValue&quot;:&quot;&quot;}\" type=\"text/x-scoped-javascript\">/*<![CDATA[*/\nreq(\n['observable', 'knockout'],\nfunction (O, ko) {\n  ko.applyBindings({\n      value: O.makeObservable(valueId, initialValue)\n    },\n    this\n  );\n});\n        /*]]>*/</script></p></span>\n      <div>\n      </div>\n    </div></div>\n            </div><div class=\"tab-pane\" id=\"tab1042241848-3\">\n            <div>\n      <script data-this=\"{&quot;dataId&quot;:&quot;anondc43b1dd6d8a4307e6fc30373bdfd015&quot;,&quot;dataInit&quot;:[{&quot;_1&quot;:3,&quot;_2&quot;:1519654695015924.8},{&quot;_1&quot;:4,&quot;_2&quot;:1259330216368428},{&quot;_1&quot;:5,&quot;_2&quot;:864331488814196.1},{&quot;_1&quot;:6,&quot;_2&quot;:681696710256542.9},{&quot;_1&quot;:7,&quot;_2&quot;:608293592280055.8},{&quot;_1&quot;:8,&quot;_2&quot;:527282544830750.56},{&quot;_1&quot;:9,&quot;_2&quot;:475122642658738.8},{&quot;_1&quot;:10,&quot;_2&quot;:438408992820821.7},{&quot;_1&quot;:11,&quot;_2&quot;:418421397280974.06},{&quot;_1&quot;:12,&quot;_2&quot;:390865658612848.56},{&quot;_1&quot;:13,&quot;_2&quot;:374245243862069.2},{&quot;_1&quot;:14,&quot;_2&quot;:353610743052162},{&quot;_1&quot;:15,&quot;_2&quot;:332454955333185.8},{&quot;_1&quot;:16,&quot;_2&quot;:322413645498178.94},{&quot;_1&quot;:17,&quot;_2&quot;:308521101696169.9},{&quot;_1&quot;:18,&quot;_2&quot;:304076032475527.06},{&quot;_1&quot;:19,&quot;_2&quot;:288235946801686.8},{&quot;_1&quot;:20,&quot;_2&quot;:276601164443402.16},{&quot;_1&quot;:21,&quot;_2&quot;:267653065303766.16},{&quot;_1&quot;:22,&quot;_2&quot;:281980053841753.6},{&quot;_1&quot;:23,&quot;_2&quot;:261425871464937.1},{&quot;_1&quot;:24,&quot;_2&quot;:243798601838633.22},{&quot;_1&quot;:25,&quot;_2&quot;:254147852507795.7},{&quot;_1&quot;:26,&quot;_2&quot;:234299857718939.62},{&quot;_1&quot;:27,&quot;_2&quot;:230654666264818.03},{&quot;_1&quot;:28,&quot;_2&quot;:220136493282242.06},{&quot;_1&quot;:29,&quot;_2&quot;:214757733679646.9},{&quot;_1&quot;:30,&quot;_2&quot;:214824268001666.03}],&quot;genId&quot;:&quot;409985726&quot;}\" type=\"text/x-scoped-javascript\">/*<![CDATA[*/req(['../javascripts/notebook/playground','../javascripts/notebook/magic/barChart'], \n      function(playground, _magicbarChart) {\n        // data ==> data-this (in observable.js's scopedEval) ==> this in JS => { dataId, dataInit, ... }\n        // this ==> scope (in observable.js's scopedEval) ==> this.parentElement ==> div.container below (toHtml)\n\n        playground.call(data,\n                        this\n                        ,\n                        {\n    \"f\": _magicbarChart,\n    \"o\": {\"x\":\"_1\",\"y\":\"_2\",\"width\":600,\"height\":400}\n  }\n  \n                        \n                        \n                      );\n      }\n    );/*]]>*/</script>\n    <div>\n      <span class=\"chart-total-item-count\"><p data-bind=\"text: value\"><script data-this=\"{&quot;valueId&quot;:&quot;anon6701eea956ca744708abfe5795211078&quot;,&quot;initialValue&quot;:&quot;28&quot;}\" type=\"text/x-scoped-javascript\">/*<![CDATA[*/\nreq(\n['observable', 'knockout'],\nfunction (O, ko) {\n  ko.applyBindings({\n      value: O.makeObservable(valueId, initialValue)\n    },\n    this\n  );\n});\n        /*]]>*/</script></p> entries total</span>\n      <span class=\"chart-sampling-warning\"><p data-bind=\"text: value\"><script data-this=\"{&quot;valueId&quot;:&quot;anonef47d1ba363657b623c2d46a180ee35c&quot;,&quot;initialValue&quot;:&quot;&quot;}\" type=\"text/x-scoped-javascript\">/*<![CDATA[*/\nreq(\n['observable', 'knockout'],\nfunction (O, ko) {\n  ko.applyBindings({\n      value: O.makeObservable(valueId, initialValue)\n    },\n    this\n  );\n});\n        /*]]>*/</script></p></span>\n      <div>\n      </div>\n    </div></div>\n            </div><div class=\"tab-pane\" id=\"tab1042241848-4\">\n            <div>\n      <script data-this=\"{&quot;dataId&quot;:&quot;anon346fbf136de1695ea98ac51777bcba12&quot;,&quot;dataInit&quot;:[{&quot;_1&quot;:3,&quot;_2&quot;:1519654695015924.8},{&quot;_1&quot;:4,&quot;_2&quot;:1259330216368428},{&quot;_1&quot;:5,&quot;_2&quot;:864331488814196.1},{&quot;_1&quot;:6,&quot;_2&quot;:681696710256542.9},{&quot;_1&quot;:7,&quot;_2&quot;:608293592280055.8},{&quot;_1&quot;:8,&quot;_2&quot;:527282544830750.56},{&quot;_1&quot;:9,&quot;_2&quot;:475122642658738.8},{&quot;_1&quot;:10,&quot;_2&quot;:438408992820821.7},{&quot;_1&quot;:11,&quot;_2&quot;:418421397280974.06},{&quot;_1&quot;:12,&quot;_2&quot;:390865658612848.56},{&quot;_1&quot;:13,&quot;_2&quot;:374245243862069.2},{&quot;_1&quot;:14,&quot;_2&quot;:353610743052162},{&quot;_1&quot;:15,&quot;_2&quot;:332454955333185.8},{&quot;_1&quot;:16,&quot;_2&quot;:322413645498178.94},{&quot;_1&quot;:17,&quot;_2&quot;:308521101696169.9},{&quot;_1&quot;:18,&quot;_2&quot;:304076032475527.06},{&quot;_1&quot;:19,&quot;_2&quot;:288235946801686.8},{&quot;_1&quot;:20,&quot;_2&quot;:276601164443402.16},{&quot;_1&quot;:21,&quot;_2&quot;:267653065303766.16},{&quot;_1&quot;:22,&quot;_2&quot;:281980053841753.6},{&quot;_1&quot;:23,&quot;_2&quot;:261425871464937.1},{&quot;_1&quot;:24,&quot;_2&quot;:243798601838633.22},{&quot;_1&quot;:25,&quot;_2&quot;:254147852507795.7},{&quot;_1&quot;:26,&quot;_2&quot;:234299857718939.62},{&quot;_1&quot;:27,&quot;_2&quot;:230654666264818.03},{&quot;_1&quot;:28,&quot;_2&quot;:220136493282242.06},{&quot;_1&quot;:29,&quot;_2&quot;:214757733679646.9},{&quot;_1&quot;:30,&quot;_2&quot;:214824268001666.03}],&quot;genId&quot;:&quot;2080083353&quot;}\" type=\"text/x-scoped-javascript\">/*<![CDATA[*/req(['../javascripts/notebook/playground','../javascripts/notebook/magic/pivotChart'], \n      function(playground, _magicpivotChart) {\n        // data ==> data-this (in observable.js's scopedEval) ==> this in JS => { dataId, dataInit, ... }\n        // this ==> scope (in observable.js's scopedEval) ==> this.parentElement ==> div.container below (toHtml)\n\n        playground.call(data,\n                        this\n                        ,\n                        {\n    \"f\": _magicpivotChart,\n    \"o\": {\"width\":600,\"height\":400,\"derivedAttributes\":{},\"extraOptions\":{}}\n  }\n  \n                        \n                        \n                      );\n      }\n    );/*]]>*/</script>\n    <div>\n      <span class=\"chart-total-item-count\"><p data-bind=\"text: value\"><script data-this=\"{&quot;valueId&quot;:&quot;anon09fcb5e2c72dc7136ed359df6d1671ae&quot;,&quot;initialValue&quot;:&quot;28&quot;}\" type=\"text/x-scoped-javascript\">/*<![CDATA[*/\nreq(\n['observable', 'knockout'],\nfunction (O, ko) {\n  ko.applyBindings({\n      value: O.makeObservable(valueId, initialValue)\n    },\n    this\n  );\n});\n        /*]]>*/</script></p> entries total</span>\n      <span class=\"chart-sampling-warning\"><p data-bind=\"text: value\"><script data-this=\"{&quot;valueId&quot;:&quot;anone059ea7d372fc99c0d8b26e7ce7aceb9&quot;,&quot;initialValue&quot;:&quot;&quot;}\" type=\"text/x-scoped-javascript\">/*<![CDATA[*/\nreq(\n['observable', 'knockout'],\nfunction (O, ko) {\n  ko.applyBindings({\n      value: O.makeObservable(valueId, initialValue)\n    },\n    this\n  );\n});\n        /*]]>*/</script></p></span>\n      <div>\n      </div>\n    </div></div>\n            </div></div>\n      </div>\n    </div></div>"
          },
          "output_type" : "execute_result",
          "execution_count" : 13,
          "time" : "Took: 2.010s, at 2018-01-18 13:23"
        }
      ]
    }
  ],
  "nbformat" : 4
}