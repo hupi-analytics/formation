{
  "metadata" : {
    "id" : "0ab5fea3-bd68-46cc-be6c-9353c2ca5879",
    "name" : "1 - Some core concepts of Geotrellis ",
    "user_save_timestamp" : "2018-01-08T09:58:58.509Z",
    "auto_save_timestamp" : "1970-01-01T00:00:00.000Z",
    "language_info" : {
      "name" : "scala",
      "file_extension" : "scala",
      "codemirror_mode" : "text/x-scala"
    },
    "trusted" : true,
    "sparkNotebook" : null,
    "customLocalRepo" : null,
    "customRepos" : [
      "osgeo % default % http://download.osgeo.org/webdav/geotools/ % maven"
    ],
    "customDeps" : [
      "org.locationtech.geotrellis % geotrellis-spark_2.11 % 1.2.0"
    ],
    "customImports" : null,
    "customArgs" : null,
    "customSparkConf" : null,
    "customVars" : null
  },
  "cells" : [
    {
      "metadata" : {
        "id" : "858EDAF5B9924BC1BD9BAC6E970621B4"
      },
      "cell_type" : "markdown",
      "source" : "# Useful links to read :\n\nhttp://geotrellis.readthedocs.io/en/latest/guide/core-concepts.html\n\nGithub :\nhttps://github.com/locationtech/geotrellis\n\nFunction :\nhttp://geotrellis.github.io/scaladocs/latest/#geotrellis.package"
    },
    {
      "metadata" : {
        "id" : "F35652A52FCA4E58A0B31BE98C2132A1"
      },
      "cell_type" : "markdown",
      "source" : "# Import libraries"
    },
    {
      "metadata" : {
        "trusted" : true,
        "input_collapsed" : false,
        "collapsed" : false,
        "id" : "064033D960D846E9880DCE8C4D7EE2C7"
      },
      "cell_type" : "code",
      "source" : [
        "import geotrellis.proj4._\n",
        "\n",
        "import geotrellis.spark._\n",
        "import geotrellis.spark.io.hadoop._\n",
        "import geotrellis.spark.io.hadoop.formats._\n",
        "import geotrellis.spark.io.RasterReader\n",
        "import geotrellis.spark.tiling.FloatingLayoutScheme\n",
        "\n",
        "import geotrellis.vector._\n",
        "\n",
        "import geotrellis.raster._\n",
        "import geotrellis.raster.render._\n",
        "import geotrellis.raster.io.geotiff._\n",
        "import geotrellis.raster.io.geotiff.reader.GeoTiffReader\n",
        "import geotrellis.raster.io.geotiff.tags.TiffTags\n",
        "import geotrellis.raster.io.geotiff.GeoTiff\n",
        "\n",
        "import org.apache.hadoop.conf.Configuration\n",
        "import org.apache.hadoop.fs.Path"
      ],
      "outputs" : [
        {
          "name" : "stdout",
          "output_type" : "stream",
          "text" : "import geotrellis.proj4._\nimport geotrellis.spark._\nimport geotrellis.spark.io.hadoop._\nimport geotrellis.spark.io.hadoop.formats._\nimport geotrellis.spark.io.RasterReader\nimport geotrellis.spark.tiling.FloatingLayoutScheme\nimport geotrellis.vector._\nimport geotrellis.raster._\nimport geotrellis.raster.render._\nimport geotrellis.raster.io.geotiff._\nimport geotrellis.raster.io.geotiff.reader.GeoTiffReader\nimport geotrellis.raster.io.geotiff.tags.TiffTags\nimport geotrellis.raster.io.geotiff.GeoTiff\nimport org.apache.hadoop.conf.Configuration\nimport org.apache.hadoop.fs.Path\n"
        },
        {
          "metadata" : { },
          "data" : {
            "text/html" : ""
          },
          "output_type" : "execute_result",
          "execution_count" : 1,
          "time" : "Took: 1.941s, at 2018-03-09 03:04"
        }
      ]
    },
    {
      "metadata" : {
        "id" : "A1A0901E462942F8842F5FCB37ACA9AC"
      },
      "cell_type" : "markdown",
      "source" : "# Important variables (to run everytime we use Geotrellis)"
    },
    {
      "metadata" : {
        "trusted" : true,
        "input_collapsed" : false,
        "collapsed" : false,
        "id" : "44256257F6B748D78FED9E399516350A"
      },
      "cell_type" : "code",
      "source" : [
        "// implicit variable (important variables to run the functions in the geotrellis library)\n",
        "implicit val sparkContext = sc\n",
        "\n",
        "val rr = implicitly[RasterReader[HadoopGeoTiffRDD.Options, (ProjectedExtent, Tile)]]"
      ],
      "outputs" : [
        {
          "name" : "stdout",
          "output_type" : "stream",
          "text" : "sparkContext: org.apache.spark.SparkContext = org.apache.spark.SparkContext@3783425c\nrr: geotrellis.spark.io.RasterReader[geotrellis.spark.io.hadoop.HadoopGeoTiffRDD.Options,(geotrellis.vector.ProjectedExtent, geotrellis.raster.Tile)] = geotrellis.spark.io.RasterReader$$anon$1@36ebd4df\n"
        },
        {
          "metadata" : { },
          "data" : {
            "text/html" : ""
          },
          "output_type" : "execute_result",
          "execution_count" : 2,
          "time" : "Took: 1.813s, at 2018-03-09 03:04"
        }
      ]
    },
    {
      "metadata" : {
        "id" : "3B2B78A1357645B3BA5C61909B82CA99"
      },
      "cell_type" : "markdown",
      "source" : "# Parameters"
    },
    {
      "metadata" : {
        "trusted" : true,
        "input_collapsed" : false,
        "collapsed" : false,
        "id" : "629CE1563D4A4F6184A410020813CD2A"
      },
      "cell_type" : "code",
      "source" : [
        "val HdfsUrl = \"hdfs://hupi-factory-02-01-01-01/\"\n",
        "val dataRepo = \"user/factory02/thailand_workshop/data_usgs/\"\n",
        "\n",
        "// Landsat8 \n",
        "val bandPath = \"LC08_L1TP_125052_20171231_20180103_01_T1\""
      ],
      "outputs" : [
        {
          "name" : "stdout",
          "output_type" : "stream",
          "text" : "HdfsUrl: String = hdfs://hupi-factory-02-01-01-01/\ndataRepo: String = user/factory02/thailand_workshop/data_usgs/\nbandPath: String = LC08_L1TP_125052_20171231_20180103_01_T1\n"
        },
        {
          "metadata" : { },
          "data" : {
            "text/html" : ""
          },
          "output_type" : "execute_result",
          "execution_count" : 3,
          "time" : "Took: 1.362s, at 2018-03-09 03:04"
        }
      ]
    },
    {
      "metadata" : {
        "id" : "BEF8EE75B39D4A72807188CC63534E62"
      },
      "cell_type" : "markdown",
      "source" : "# Load GeoTiff from HDFS\n\nWhen we read GeoTiff from HDFS, we will have a RDD[ProjectedExtent, Tile]\n\nFrom the documents of Geotrellis, some important concepts to know beforehand :\n\n- Tile is \"A grid of numeric cells that represent some data on the Earth\" \n- Cell is \"A single unit of data in some grid, also called a Location in GIS\"\n- In ProjectedExtent, we have extent and CRS. For definition, \"Extent: or \"Bounding Box\" represents some area on the Earth\".\n\nHere we have 2 ways to read, it's just 2 different ways to do the repartition"
    },
    {
      "metadata" : {
        "trusted" : true,
        "input_collapsed" : false,
        "collapsed" : false,
        "id" : "49EAEE3D97A14EC78ADF65A523FE94CD"
      },
      "cell_type" : "code",
      "source" : [
        "// To make the notebook run more efficiently \n",
        "val options =\n",
        "HadoopGeoTiffRDD.Options(\n",
        "  numPartitions = Some(100)\n",
        ")"
      ],
      "outputs" : [
        {
          "name" : "stdout",
          "output_type" : "stream",
          "text" : "options: geotrellis.spark.io.hadoop.HadoopGeoTiffRDD.Options = Options(List(.tif, .TIF, .tiff, .TIFF),None,TIFFTAG_DATETIME,yyyy:MM:dd HH:mm:ss,Some(256),Some(100),Some(134217728),None)\n"
        },
        {
          "metadata" : { },
          "data" : {
            "text/html" : ""
          },
          "output_type" : "execute_result",
          "execution_count" : 5,
          "time" : "Took: 1.254s, at 2018-03-09 03:05"
        }
      ]
    },
    {
      "metadata" : {
        "trusted" : true,
        "input_collapsed" : false,
        "collapsed" : false,
        "id" : "27CD2B6C4B424A6499382823162857DF"
      },
      "cell_type" : "code",
      "source" : [
        "// First option\n",
        "val band = HadoopGeoTiffRDD[ProjectedExtent, Tile](\n",
        "      new Path(HdfsUrl + dataRepo + bandPath + \"/\" + bandPath + \"_B1.TIF\"), \n",
        "      options).map(l => (l._1, l._2.convert(DoubleConstantNoDataCellType)))"
      ],
      "outputs" : [
        {
          "name" : "stdout",
          "output_type" : "stream",
          "text" : "<console>:83: error: error writing class iw: /tmp/spark-notebook-repl-f24afd82-78a6-4d08-8bd4-ce6ad56b1b88/class: /tmp/spark-notebook-repl-f24afd82-78a6-4d08-8bd4-ce6ad56b1b88/$line31 is not a directory\nclass $iw extends Serializable {\n      ^\n"
        }
      ]
    },
    {
      "metadata" : {
        "trusted" : true,
        "input_collapsed" : false,
        "collapsed" : false,
        "id" : "90C6960A71E342BC84578C99F751821F"
      },
      "cell_type" : "code",
      "source" : [
        "// Second option\n",
        "val band = sc.hadoopGeoTiffRDD(HdfsUrl + dataRepo + bandPath + \"/\" + bandPath + \"_B1.TIF\")\n",
        "        .map(l => (l._1, l._2.convert(DoubleConstantNoDataCellType))).repartition(100)"
      ],
      "outputs" : [
        {
          "name" : "stdout",
          "output_type" : "stream",
          "text" : "band: org.apache.spark.rdd.RDD[(geotrellis.vector.ProjectedExtent, geotrellis.raster.Tile)] = MapPartitionsRDD[13] at repartition at <console>:106\n"
        },
        {
          "metadata" : { },
          "data" : {
            "text/html" : ""
          },
          "output_type" : "execute_result",
          "execution_count" : 6,
          "time" : "Took: 1.787s, at 2018-02-08 04:16"
        }
      ]
    },
    {
      "metadata" : {
        "id" : "008BDE72CA5B40AD9BBE1E4EB4359668"
      },
      "cell_type" : "markdown",
      "source" : "# Inside RDD[ProjectedExtent, Tile].."
    },
    {
      "metadata" : {
        "trusted" : true,
        "input_collapsed" : false,
        "collapsed" : false,
        "id" : "B2E09F56F74A40CD86ADAE6517FA4D27"
      },
      "cell_type" : "code",
      "source" : [
        "// This version of Spark divides one GeoTiff into multiples Tiles (SingleBand or MultiBand)\n",
        "// So if we count the number of observations in RDD, we will have number of Tiles\n",
        "println(\"Number of Tiles in this band is \" + band.count())"
      ],
      "outputs" : [
        {
          "name" : "stdout",
          "output_type" : "stream",
          "text" : "Number of Tiles in this band is 930\n"
        },
        {
          "metadata" : { },
          "data" : {
            "text/html" : ""
          },
          "output_type" : "execute_result",
          "execution_count" : 7,
          "time" : "Took: 8.416s, at 2018-02-08 04:17"
        }
      ]
    },
    {
      "metadata" : {
        "trusted" : true,
        "input_collapsed" : false,
        "collapsed" : false,
        "id" : "F16B7235507E4ED8843155CBCECF5891"
      },
      "cell_type" : "code",
      "source" : [
        "// Number of Cells\n",
        "println(\"Number of Cells in this band is \" + band.map(l => l._2.toArrayDouble()).flatMap(l => l).count())"
      ],
      "outputs" : [
        {
          "name" : "stdout",
          "output_type" : "stream",
          "text" : "Number of Cells in this band is 58378481\n"
        },
        {
          "metadata" : { },
          "data" : {
            "text/html" : ""
          },
          "output_type" : "execute_result",
          "execution_count" : 8,
          "time" : "Took: 2.619s, at 2018-02-08 04:17"
        }
      ]
    },
    {
      "metadata" : {
        "trusted" : true,
        "input_collapsed" : false,
        "collapsed" : false,
        "presentation" : {
          "tabs_state" : "{\n  \"tab_id\": \"#tab1467448841-0\"\n}",
          "pivot_chart_state" : "{\n  \"hiddenAttributes\": [],\n  \"menuLimit\": 200,\n  \"cols\": [],\n  \"rows\": [],\n  \"vals\": [],\n  \"exclusions\": {},\n  \"inclusions\": {},\n  \"unusedAttrsVertical\": 85,\n  \"autoSortUnusedAttrs\": false,\n  \"inclusionsInfo\": {},\n  \"aggregatorName\": \"Count\",\n  \"rendererName\": \"Table\"\n}"
        },
        "id" : "BE482332064042FEACF43401C1829ACB"
      },
      "cell_type" : "code",
      "source" : [
        "// If we take some observations\n",
        "band.take(5)"
      ],
      "outputs" : [
        {
          "name" : "stdout",
          "output_type" : "stream",
          "text" : "res11: Array[(geotrellis.vector.ProjectedExtent, geotrellis.raster.Tile)] = Array((ProjectedExtent(Extent(551625.0, 1379055.0, 559305.0, 1386735.0),EPSG:32648),DoubleConstantNoDataArrayTile([D@70006b7f,256,256)), (ProjectedExtent(Extent(628425.0, 1348335.0, 636105.0, 1356015.0),EPSG:32648),DoubleConstantNoDataArrayTile([D@eb3c0b7,256,256)), (ProjectedExtent(Extent(705225.0, 1325295.0, 712905.0, 1332975.0),EPSG:32648),DoubleConstantNoDataArrayTile([D@78c61f1e,256,256)), (ProjectedExtent(Extent(551625.0, 1286895.0, 559305.0, 1294575.0),EPSG:32648),DoubleConstantNoDataArrayTile([D@48cccde0,256,256)), (ProjectedExtent(Extent(628425.0, 1279215.0, 636105.0, 1286895.0),EPSG:32648),DoubleConstantNoDataArrayTile([D@3be41c15,256,256)))\n"
        },
        {
          "metadata" : { },
          "data" : {
            "text/html" : "<div>\n      <script data-this=\"{&quot;dataId&quot;:&quot;anon615ffbda8f76bd5e9cd8eabbfcdb47e7&quot;,&quot;dataInit&quot;:[],&quot;genId&quot;:&quot;1467448841&quot;}\" type=\"text/x-scoped-javascript\">/*<![CDATA[*/req(['../javascripts/notebook/playground','../javascripts/notebook/magic/tabs'], \n      function(playground, _magictabs) {\n        // data ==> data-this (in observable.js's scopedEval) ==> this in JS => { dataId, dataInit, ... }\n        // this ==> scope (in observable.js's scopedEval) ==> this.parentElement ==> div.container below (toHtml)\n\n        playground.call(data,\n                        this\n                        ,\n                        {\n    \"f\": _magictabs,\n    \"o\": {}\n  }\n  \n                        \n                        \n                      );\n      }\n    );/*]]>*/</script>\n    <div>\n      <div>\n        <ul class=\"nav nav-tabs\" id=\"ul1467448841\"><li>\n              <a href=\"#tab1467448841-0\"><i class=\"fa fa-table\"/></a>\n            </li><li>\n              <a href=\"#tab1467448841-1\"><i class=\"fa fa-pie-chart\"/></a>\n            </li><li>\n              <a href=\"#tab1467448841-2\"><i class=\"fa fa-cubes\"/></a>\n            </li></ul>\n\n        <div class=\"tab-content\" id=\"tab1467448841\"><div class=\"tab-pane\" id=\"tab1467448841-0\">\n            <div>\n      <script data-this=\"{&quot;dataId&quot;:&quot;anon4e1b6cb34b8d14c0a0f5acaae4ba0db2&quot;,&quot;dataInit&quot;:[{&quot;_1&quot;:&quot;ProjectedExtent(Extent(551625.0, 1379055.0, 559305.0, 1386735.0),EPSG:32648)&quot;,&quot;_2&quot;:&quot;DoubleConstantNoDataArrayTile([D@70006b7f,256,256)&quot;},{&quot;_1&quot;:&quot;ProjectedExtent(Extent(628425.0, 1348335.0, 636105.0, 1356015.0),EPSG:32648)&quot;,&quot;_2&quot;:&quot;DoubleConstantNoDataArrayTile([D@eb3c0b7,256,256)&quot;},{&quot;_1&quot;:&quot;ProjectedExtent(Extent(705225.0, 1325295.0, 712905.0, 1332975.0),EPSG:32648)&quot;,&quot;_2&quot;:&quot;DoubleConstantNoDataArrayTile([D@78c61f1e,256,256)&quot;},{&quot;_1&quot;:&quot;ProjectedExtent(Extent(551625.0, 1286895.0, 559305.0, 1294575.0),EPSG:32648)&quot;,&quot;_2&quot;:&quot;DoubleConstantNoDataArrayTile([D@48cccde0,256,256)&quot;},{&quot;_1&quot;:&quot;ProjectedExtent(Extent(628425.0, 1279215.0, 636105.0, 1286895.0),EPSG:32648)&quot;,&quot;_2&quot;:&quot;DoubleConstantNoDataArrayTile([D@3be41c15,256,256)&quot;}],&quot;genId&quot;:&quot;1852183417&quot;}\" type=\"text/x-scoped-javascript\">/*<![CDATA[*/req(['../javascripts/notebook/playground','../javascripts/notebook/magic/tableChart'], \n      function(playground, _magictableChart) {\n        // data ==> data-this (in observable.js's scopedEval) ==> this in JS => { dataId, dataInit, ... }\n        // this ==> scope (in observable.js's scopedEval) ==> this.parentElement ==> div.container below (toHtml)\n\n        playground.call(data,\n                        this\n                        ,\n                        {\n    \"f\": _magictableChart,\n    \"o\": {\"headers\":[\"_1\",\"_2\"],\"width\":600,\"height\":400}\n  }\n  \n                        \n                        \n                      );\n      }\n    );/*]]>*/</script>\n    <div>\n      <span class=\"chart-total-item-count\"><p data-bind=\"text: value\"><script data-this=\"{&quot;valueId&quot;:&quot;anone69953748e35cb9bcb7b9478871f108f&quot;,&quot;initialValue&quot;:&quot;5&quot;}\" type=\"text/x-scoped-javascript\">/*<![CDATA[*/\nreq(\n['observable', 'knockout'],\nfunction (O, ko) {\n  ko.applyBindings({\n      value: O.makeObservable(valueId, initialValue)\n    },\n    this\n  );\n});\n        /*]]>*/</script></p> entries total</span>\n      <span class=\"chart-sampling-warning\"><p data-bind=\"text: value\"><script data-this=\"{&quot;valueId&quot;:&quot;anon2b43939edea7d140e2d3d1f5c49b68c0&quot;,&quot;initialValue&quot;:&quot;&quot;}\" type=\"text/x-scoped-javascript\">/*<![CDATA[*/\nreq(\n['observable', 'knockout'],\nfunction (O, ko) {\n  ko.applyBindings({\n      value: O.makeObservable(valueId, initialValue)\n    },\n    this\n  );\n});\n        /*]]>*/</script></p></span>\n      <div>\n      </div>\n    </div></div>\n            </div><div class=\"tab-pane\" id=\"tab1467448841-1\">\n            <div>\n      <script data-this=\"{&quot;dataId&quot;:&quot;anon7c161aab5121577ec96fc925c440e82e&quot;,&quot;dataInit&quot;:[{&quot;_1&quot;:&quot;ProjectedExtent(Extent(551625.0, 1379055.0, 559305.0, 1386735.0),EPSG:32648)&quot;,&quot;_2&quot;:&quot;DoubleConstantNoDataArrayTile([D@70006b7f,256,256)&quot;},{&quot;_1&quot;:&quot;ProjectedExtent(Extent(628425.0, 1348335.0, 636105.0, 1356015.0),EPSG:32648)&quot;,&quot;_2&quot;:&quot;DoubleConstantNoDataArrayTile([D@eb3c0b7,256,256)&quot;},{&quot;_1&quot;:&quot;ProjectedExtent(Extent(705225.0, 1325295.0, 712905.0, 1332975.0),EPSG:32648)&quot;,&quot;_2&quot;:&quot;DoubleConstantNoDataArrayTile([D@78c61f1e,256,256)&quot;},{&quot;_1&quot;:&quot;ProjectedExtent(Extent(551625.0, 1286895.0, 559305.0, 1294575.0),EPSG:32648)&quot;,&quot;_2&quot;:&quot;DoubleConstantNoDataArrayTile([D@48cccde0,256,256)&quot;},{&quot;_1&quot;:&quot;ProjectedExtent(Extent(628425.0, 1279215.0, 636105.0, 1286895.0),EPSG:32648)&quot;,&quot;_2&quot;:&quot;DoubleConstantNoDataArrayTile([D@3be41c15,256,256)&quot;}],&quot;genId&quot;:&quot;388222564&quot;}\" type=\"text/x-scoped-javascript\">/*<![CDATA[*/req(['../javascripts/notebook/playground','../javascripts/notebook/magic/pieChart'], \n      function(playground, _magicpieChart) {\n        // data ==> data-this (in observable.js's scopedEval) ==> this in JS => { dataId, dataInit, ... }\n        // this ==> scope (in observable.js's scopedEval) ==> this.parentElement ==> div.container below (toHtml)\n\n        playground.call(data,\n                        this\n                        ,\n                        {\n    \"f\": _magicpieChart,\n    \"o\": {\"series\":\"_1\",\"p\":\"_2\",\"width\":600,\"height\":400}\n  }\n  \n                        \n                        \n                      );\n      }\n    );/*]]>*/</script>\n    <div>\n      <span class=\"chart-total-item-count\"><p data-bind=\"text: value\"><script data-this=\"{&quot;valueId&quot;:&quot;anonc50f6af457b52a845950aee0813d9e9a&quot;,&quot;initialValue&quot;:&quot;5&quot;}\" type=\"text/x-scoped-javascript\">/*<![CDATA[*/\nreq(\n['observable', 'knockout'],\nfunction (O, ko) {\n  ko.applyBindings({\n      value: O.makeObservable(valueId, initialValue)\n    },\n    this\n  );\n});\n        /*]]>*/</script></p> entries total</span>\n      <span class=\"chart-sampling-warning\"><p data-bind=\"text: value\"><script data-this=\"{&quot;valueId&quot;:&quot;anon45a51c13d41e875f0760f7be43e306ca&quot;,&quot;initialValue&quot;:&quot;&quot;}\" type=\"text/x-scoped-javascript\">/*<![CDATA[*/\nreq(\n['observable', 'knockout'],\nfunction (O, ko) {\n  ko.applyBindings({\n      value: O.makeObservable(valueId, initialValue)\n    },\n    this\n  );\n});\n        /*]]>*/</script></p></span>\n      <div>\n      </div>\n    </div></div>\n            </div><div class=\"tab-pane\" id=\"tab1467448841-2\">\n            <div>\n      <script data-this=\"{&quot;dataId&quot;:&quot;anon51adb2d7cd6fd710d0e85add92cdc983&quot;,&quot;dataInit&quot;:[{&quot;_1&quot;:&quot;ProjectedExtent(Extent(551625.0, 1379055.0, 559305.0, 1386735.0),EPSG:32648)&quot;,&quot;_2&quot;:&quot;DoubleConstantNoDataArrayTile([D@70006b7f,256,256)&quot;},{&quot;_1&quot;:&quot;ProjectedExtent(Extent(628425.0, 1348335.0, 636105.0, 1356015.0),EPSG:32648)&quot;,&quot;_2&quot;:&quot;DoubleConstantNoDataArrayTile([D@eb3c0b7,256,256)&quot;},{&quot;_1&quot;:&quot;ProjectedExtent(Extent(705225.0, 1325295.0, 712905.0, 1332975.0),EPSG:32648)&quot;,&quot;_2&quot;:&quot;DoubleConstantNoDataArrayTile([D@78c61f1e,256,256)&quot;},{&quot;_1&quot;:&quot;ProjectedExtent(Extent(551625.0, 1286895.0, 559305.0, 1294575.0),EPSG:32648)&quot;,&quot;_2&quot;:&quot;DoubleConstantNoDataArrayTile([D@48cccde0,256,256)&quot;},{&quot;_1&quot;:&quot;ProjectedExtent(Extent(628425.0, 1279215.0, 636105.0, 1286895.0),EPSG:32648)&quot;,&quot;_2&quot;:&quot;DoubleConstantNoDataArrayTile([D@3be41c15,256,256)&quot;}],&quot;genId&quot;:&quot;1108970030&quot;}\" type=\"text/x-scoped-javascript\">/*<![CDATA[*/req(['../javascripts/notebook/playground','../javascripts/notebook/magic/pivotChart'], \n      function(playground, _magicpivotChart) {\n        // data ==> data-this (in observable.js's scopedEval) ==> this in JS => { dataId, dataInit, ... }\n        // this ==> scope (in observable.js's scopedEval) ==> this.parentElement ==> div.container below (toHtml)\n\n        playground.call(data,\n                        this\n                        ,\n                        {\n    \"f\": _magicpivotChart,\n    \"o\": {\"width\":600,\"height\":400,\"derivedAttributes\":{},\"extraOptions\":{}}\n  }\n  \n                        \n                        \n                      );\n      }\n    );/*]]>*/</script>\n    <div>\n      <span class=\"chart-total-item-count\"><p data-bind=\"text: value\"><script data-this=\"{&quot;valueId&quot;:&quot;anon4a4031e43df159eee91b40e909e61b63&quot;,&quot;initialValue&quot;:&quot;5&quot;}\" type=\"text/x-scoped-javascript\">/*<![CDATA[*/\nreq(\n['observable', 'knockout'],\nfunction (O, ko) {\n  ko.applyBindings({\n      value: O.makeObservable(valueId, initialValue)\n    },\n    this\n  );\n});\n        /*]]>*/</script></p> entries total</span>\n      <span class=\"chart-sampling-warning\"><p data-bind=\"text: value\"><script data-this=\"{&quot;valueId&quot;:&quot;anon69f50dc07a849da83842db24f9e49e5c&quot;,&quot;initialValue&quot;:&quot;&quot;}\" type=\"text/x-scoped-javascript\">/*<![CDATA[*/\nreq(\n['observable', 'knockout'],\nfunction (O, ko) {\n  ko.applyBindings({\n      value: O.makeObservable(valueId, initialValue)\n    },\n    this\n  );\n});\n        /*]]>*/</script></p></span>\n      <div>\n      </div>\n    </div></div>\n            </div></div>\n      </div>\n    </div></div>"
          },
          "output_type" : "execute_result",
          "execution_count" : 9,
          "time" : "Took: 1.795s, at 2018-02-08 04:18"
        }
      ]
    },
    {
      "metadata" : {
        "trusted" : true,
        "input_collapsed" : false,
        "collapsed" : false,
        "presentation" : {
          "tabs_state" : "{\n  \"tab_id\": \"#tab174724011-0\"\n}",
          "pivot_chart_state" : "{\n  \"hiddenAttributes\": [],\n  \"menuLimit\": 200,\n  \"cols\": [],\n  \"rows\": [],\n  \"vals\": [],\n  \"exclusions\": {},\n  \"inclusions\": {},\n  \"unusedAttrsVertical\": 85,\n  \"autoSortUnusedAttrs\": false,\n  \"inclusionsInfo\": {},\n  \"aggregatorName\": \"Count\",\n  \"rendererName\": \"Table\"\n}"
        },
        "id" : "EEB4984173E94A038B1964EC001586F1"
      },
      "cell_type" : "code",
      "source" : [
        "// ProjectedExtent\n",
        "band.map(l => l._1).take(10)"
      ],
      "outputs" : [
        {
          "name" : "stdout",
          "output_type" : "stream",
          "text" : "res13: Array[geotrellis.vector.ProjectedExtent] = Array(ProjectedExtent(Extent(551625.0, 1379055.0, 559305.0, 1386735.0),EPSG:32648), ProjectedExtent(Extent(628425.0, 1348335.0, 636105.0, 1356015.0),EPSG:32648), ProjectedExtent(Extent(705225.0, 1325295.0, 712905.0, 1332975.0),EPSG:32648), ProjectedExtent(Extent(551625.0, 1286895.0, 559305.0, 1294575.0),EPSG:32648), ProjectedExtent(Extent(628425.0, 1279215.0, 636105.0, 1286895.0),EPSG:32648), ProjectedExtent(Extent(705225.0, 1202415.0, 712905.0, 1210095.0),EPSG:32648), ProjectedExtent(Extent(551625.0, 1256175.0, 559305.0, 1263855.0),EPSG:32648), ProjectedExtent(Extent(628425.0, 1194735.0, 636105.0, 1202415.0),EPSG:32648), ProjectedExtent(Extent(705225.0, 1187055.0, 712905.0, 1194735.0),EPSG:32648), ProjectedExtent(Extent(559305.0, 137905..."
        },
        {
          "metadata" : { },
          "data" : {
            "text/html" : "<div>\n      <script data-this=\"{&quot;dataId&quot;:&quot;anon210e795573793754b7154eab629ca5f4&quot;,&quot;dataInit&quot;:[],&quot;genId&quot;:&quot;174724011&quot;}\" type=\"text/x-scoped-javascript\">/*<![CDATA[*/req(['../javascripts/notebook/playground','../javascripts/notebook/magic/tabs'], \n      function(playground, _magictabs) {\n        // data ==> data-this (in observable.js's scopedEval) ==> this in JS => { dataId, dataInit, ... }\n        // this ==> scope (in observable.js's scopedEval) ==> this.parentElement ==> div.container below (toHtml)\n\n        playground.call(data,\n                        this\n                        ,\n                        {\n    \"f\": _magictabs,\n    \"o\": {}\n  }\n  \n                        \n                        \n                      );\n      }\n    );/*]]>*/</script>\n    <div>\n      <div>\n        <ul class=\"nav nav-tabs\" id=\"ul174724011\"><li>\n              <a href=\"#tab174724011-0\"><i class=\"fa fa-table\"/></a>\n            </li><li>\n              <a href=\"#tab174724011-1\"><i class=\"fa fa-pie-chart\"/></a>\n            </li><li>\n              <a href=\"#tab174724011-2\"><i class=\"fa fa-cubes\"/></a>\n            </li></ul>\n\n        <div class=\"tab-content\" id=\"tab174724011\"><div class=\"tab-pane\" id=\"tab174724011-0\">\n            <div>\n      <script data-this=\"{&quot;dataId&quot;:&quot;anon0350f2816be7432d88fc25d4603b9acd&quot;,&quot;dataInit&quot;:[{&quot;extent&quot;:&quot;Extent(551625.0, 1379055.0, 559305.0, 1386735.0)&quot;,&quot;crs&quot;:&quot;EPSG:32648&quot;},{&quot;extent&quot;:&quot;Extent(628425.0, 1348335.0, 636105.0, 1356015.0)&quot;,&quot;crs&quot;:&quot;EPSG:32648&quot;},{&quot;extent&quot;:&quot;Extent(705225.0, 1325295.0, 712905.0, 1332975.0)&quot;,&quot;crs&quot;:&quot;EPSG:32648&quot;},{&quot;extent&quot;:&quot;Extent(551625.0, 1286895.0, 559305.0, 1294575.0)&quot;,&quot;crs&quot;:&quot;EPSG:32648&quot;},{&quot;extent&quot;:&quot;Extent(628425.0, 1279215.0, 636105.0, 1286895.0)&quot;,&quot;crs&quot;:&quot;EPSG:32648&quot;},{&quot;extent&quot;:&quot;Extent(705225.0, 1202415.0, 712905.0, 1210095.0)&quot;,&quot;crs&quot;:&quot;EPSG:32648&quot;},{&quot;extent&quot;:&quot;Extent(551625.0, 1256175.0, 559305.0, 1263855.0)&quot;,&quot;crs&quot;:&quot;EPSG:32648&quot;},{&quot;extent&quot;:&quot;Extent(628425.0, 1194735.0, 636105.0, 1202415.0)&quot;,&quot;crs&quot;:&quot;EPSG:32648&quot;},{&quot;extent&quot;:&quot;Extent(705225.0, 1187055.0, 712905.0, 1194735.0)&quot;,&quot;crs&quot;:&quot;EPSG:32648&quot;},{&quot;extent&quot;:&quot;Extent(559305.0, 1379055.0, 566985.0, 1386735.0)&quot;,&quot;crs&quot;:&quot;EPSG:32648&quot;}],&quot;genId&quot;:&quot;1710244470&quot;}\" type=\"text/x-scoped-javascript\">/*<![CDATA[*/req(['../javascripts/notebook/playground','../javascripts/notebook/magic/tableChart'], \n      function(playground, _magictableChart) {\n        // data ==> data-this (in observable.js's scopedEval) ==> this in JS => { dataId, dataInit, ... }\n        // this ==> scope (in observable.js's scopedEval) ==> this.parentElement ==> div.container below (toHtml)\n\n        playground.call(data,\n                        this\n                        ,\n                        {\n    \"f\": _magictableChart,\n    \"o\": {\"headers\":[\"extent\",\"crs\"],\"width\":600,\"height\":400}\n  }\n  \n                        \n                        \n                      );\n      }\n    );/*]]>*/</script>\n    <div>\n      <span class=\"chart-total-item-count\"><p data-bind=\"text: value\"><script data-this=\"{&quot;valueId&quot;:&quot;anon45e1063a423f7ed1073fab067bcdbe1a&quot;,&quot;initialValue&quot;:&quot;10&quot;}\" type=\"text/x-scoped-javascript\">/*<![CDATA[*/\nreq(\n['observable', 'knockout'],\nfunction (O, ko) {\n  ko.applyBindings({\n      value: O.makeObservable(valueId, initialValue)\n    },\n    this\n  );\n});\n        /*]]>*/</script></p> entries total</span>\n      <span class=\"chart-sampling-warning\"><p data-bind=\"text: value\"><script data-this=\"{&quot;valueId&quot;:&quot;anon7dde21dd3ccfceae121472e923859242&quot;,&quot;initialValue&quot;:&quot;&quot;}\" type=\"text/x-scoped-javascript\">/*<![CDATA[*/\nreq(\n['observable', 'knockout'],\nfunction (O, ko) {\n  ko.applyBindings({\n      value: O.makeObservable(valueId, initialValue)\n    },\n    this\n  );\n});\n        /*]]>*/</script></p></span>\n      <div>\n      </div>\n    </div></div>\n            </div><div class=\"tab-pane\" id=\"tab174724011-1\">\n            <div>\n      <script data-this=\"{&quot;dataId&quot;:&quot;anonbfc8ab43063aeae2344f4295a0ef5e85&quot;,&quot;dataInit&quot;:[{&quot;extent&quot;:&quot;Extent(551625.0, 1379055.0, 559305.0, 1386735.0)&quot;,&quot;crs&quot;:&quot;EPSG:32648&quot;},{&quot;extent&quot;:&quot;Extent(628425.0, 1348335.0, 636105.0, 1356015.0)&quot;,&quot;crs&quot;:&quot;EPSG:32648&quot;},{&quot;extent&quot;:&quot;Extent(705225.0, 1325295.0, 712905.0, 1332975.0)&quot;,&quot;crs&quot;:&quot;EPSG:32648&quot;},{&quot;extent&quot;:&quot;Extent(551625.0, 1286895.0, 559305.0, 1294575.0)&quot;,&quot;crs&quot;:&quot;EPSG:32648&quot;},{&quot;extent&quot;:&quot;Extent(628425.0, 1279215.0, 636105.0, 1286895.0)&quot;,&quot;crs&quot;:&quot;EPSG:32648&quot;},{&quot;extent&quot;:&quot;Extent(705225.0, 1202415.0, 712905.0, 1210095.0)&quot;,&quot;crs&quot;:&quot;EPSG:32648&quot;},{&quot;extent&quot;:&quot;Extent(551625.0, 1256175.0, 559305.0, 1263855.0)&quot;,&quot;crs&quot;:&quot;EPSG:32648&quot;},{&quot;extent&quot;:&quot;Extent(628425.0, 1194735.0, 636105.0, 1202415.0)&quot;,&quot;crs&quot;:&quot;EPSG:32648&quot;},{&quot;extent&quot;:&quot;Extent(705225.0, 1187055.0, 712905.0, 1194735.0)&quot;,&quot;crs&quot;:&quot;EPSG:32648&quot;},{&quot;extent&quot;:&quot;Extent(559305.0, 1379055.0, 566985.0, 1386735.0)&quot;,&quot;crs&quot;:&quot;EPSG:32648&quot;}],&quot;genId&quot;:&quot;1736346148&quot;}\" type=\"text/x-scoped-javascript\">/*<![CDATA[*/req(['../javascripts/notebook/playground','../javascripts/notebook/magic/pieChart'], \n      function(playground, _magicpieChart) {\n        // data ==> data-this (in observable.js's scopedEval) ==> this in JS => { dataId, dataInit, ... }\n        // this ==> scope (in observable.js's scopedEval) ==> this.parentElement ==> div.container below (toHtml)\n\n        playground.call(data,\n                        this\n                        ,\n                        {\n    \"f\": _magicpieChart,\n    \"o\": {\"series\":\"extent\",\"p\":\"crs\",\"width\":600,\"height\":400}\n  }\n  \n                        \n                        \n                      );\n      }\n    );/*]]>*/</script>\n    <div>\n      <span class=\"chart-total-item-count\"><p data-bind=\"text: value\"><script data-this=\"{&quot;valueId&quot;:&quot;anonbba8b78e47387d25edd1516e501e7434&quot;,&quot;initialValue&quot;:&quot;10&quot;}\" type=\"text/x-scoped-javascript\">/*<![CDATA[*/\nreq(\n['observable', 'knockout'],\nfunction (O, ko) {\n  ko.applyBindings({\n      value: O.makeObservable(valueId, initialValue)\n    },\n    this\n  );\n});\n        /*]]>*/</script></p> entries total</span>\n      <span class=\"chart-sampling-warning\"><p data-bind=\"text: value\"><script data-this=\"{&quot;valueId&quot;:&quot;anon91579cfc2eb55bac32f3d8a13d6101b7&quot;,&quot;initialValue&quot;:&quot;&quot;}\" type=\"text/x-scoped-javascript\">/*<![CDATA[*/\nreq(\n['observable', 'knockout'],\nfunction (O, ko) {\n  ko.applyBindings({\n      value: O.makeObservable(valueId, initialValue)\n    },\n    this\n  );\n});\n        /*]]>*/</script></p></span>\n      <div>\n      </div>\n    </div></div>\n            </div><div class=\"tab-pane\" id=\"tab174724011-2\">\n            <div>\n      <script data-this=\"{&quot;dataId&quot;:&quot;anon672f6f012420efb02be427eb76a897ef&quot;,&quot;dataInit&quot;:[{&quot;extent&quot;:&quot;Extent(551625.0, 1379055.0, 559305.0, 1386735.0)&quot;,&quot;crs&quot;:&quot;EPSG:32648&quot;},{&quot;extent&quot;:&quot;Extent(628425.0, 1348335.0, 636105.0, 1356015.0)&quot;,&quot;crs&quot;:&quot;EPSG:32648&quot;},{&quot;extent&quot;:&quot;Extent(705225.0, 1325295.0, 712905.0, 1332975.0)&quot;,&quot;crs&quot;:&quot;EPSG:32648&quot;},{&quot;extent&quot;:&quot;Extent(551625.0, 1286895.0, 559305.0, 1294575.0)&quot;,&quot;crs&quot;:&quot;EPSG:32648&quot;},{&quot;extent&quot;:&quot;Extent(628425.0, 1279215.0, 636105.0, 1286895.0)&quot;,&quot;crs&quot;:&quot;EPSG:32648&quot;},{&quot;extent&quot;:&quot;Extent(705225.0, 1202415.0, 712905.0, 1210095.0)&quot;,&quot;crs&quot;:&quot;EPSG:32648&quot;},{&quot;extent&quot;:&quot;Extent(551625.0, 1256175.0, 559305.0, 1263855.0)&quot;,&quot;crs&quot;:&quot;EPSG:32648&quot;},{&quot;extent&quot;:&quot;Extent(628425.0, 1194735.0, 636105.0, 1202415.0)&quot;,&quot;crs&quot;:&quot;EPSG:32648&quot;},{&quot;extent&quot;:&quot;Extent(705225.0, 1187055.0, 712905.0, 1194735.0)&quot;,&quot;crs&quot;:&quot;EPSG:32648&quot;},{&quot;extent&quot;:&quot;Extent(559305.0, 1379055.0, 566985.0, 1386735.0)&quot;,&quot;crs&quot;:&quot;EPSG:32648&quot;}],&quot;genId&quot;:&quot;2043357251&quot;}\" type=\"text/x-scoped-javascript\">/*<![CDATA[*/req(['../javascripts/notebook/playground','../javascripts/notebook/magic/pivotChart'], \n      function(playground, _magicpivotChart) {\n        // data ==> data-this (in observable.js's scopedEval) ==> this in JS => { dataId, dataInit, ... }\n        // this ==> scope (in observable.js's scopedEval) ==> this.parentElement ==> div.container below (toHtml)\n\n        playground.call(data,\n                        this\n                        ,\n                        {\n    \"f\": _magicpivotChart,\n    \"o\": {\"width\":600,\"height\":400,\"derivedAttributes\":{},\"extraOptions\":{}}\n  }\n  \n                        \n                        \n                      );\n      }\n    );/*]]>*/</script>\n    <div>\n      <span class=\"chart-total-item-count\"><p data-bind=\"text: value\"><script data-this=\"{&quot;valueId&quot;:&quot;anonf75edcfa82a51f3a505de90505e022df&quot;,&quot;initialValue&quot;:&quot;10&quot;}\" type=\"text/x-scoped-javascript\">/*<![CDATA[*/\nreq(\n['observable', 'knockout'],\nfunction (O, ko) {\n  ko.applyBindings({\n      value: O.makeObservable(valueId, initialValue)\n    },\n    this\n  );\n});\n        /*]]>*/</script></p> entries total</span>\n      <span class=\"chart-sampling-warning\"><p data-bind=\"text: value\"><script data-this=\"{&quot;valueId&quot;:&quot;anon1d5c48d9d343059b57cf50bf35dcaa76&quot;,&quot;initialValue&quot;:&quot;&quot;}\" type=\"text/x-scoped-javascript\">/*<![CDATA[*/\nreq(\n['observable', 'knockout'],\nfunction (O, ko) {\n  ko.applyBindings({\n      value: O.makeObservable(valueId, initialValue)\n    },\n    this\n  );\n});\n        /*]]>*/</script></p></span>\n      <div>\n      </div>\n    </div></div>\n            </div></div>\n      </div>\n    </div></div>"
          },
          "output_type" : "execute_result",
          "execution_count" : 10,
          "time" : "Took: 2.034s, at 2018-02-08 04:18"
        }
      ]
    },
    {
      "metadata" : {
        "trusted" : true,
        "input_collapsed" : false,
        "collapsed" : false,
        "presentation" : {
          "tabs_state" : "{\n  \"tab_id\": \"#tab1823324315-0\"\n}",
          "pivot_chart_state" : "{\n  \"hiddenAttributes\": [],\n  \"menuLimit\": 200,\n  \"cols\": [],\n  \"rows\": [],\n  \"vals\": [],\n  \"exclusions\": {},\n  \"inclusions\": {},\n  \"unusedAttrsVertical\": 85,\n  \"autoSortUnusedAttrs\": false,\n  \"inclusionsInfo\": {},\n  \"aggregatorName\": \"Count\",\n  \"rendererName\": \"Table\"\n}"
        },
        "id" : "453D34C0F9A14EC593954AE660187407"
      },
      "cell_type" : "code",
      "source" : [
        "// In extent, we can see details \n",
        "band.map(l => l._1.extent).take(10)"
      ],
      "outputs" : [
        {
          "name" : "stdout",
          "output_type" : "stream",
          "text" : "res15: Array[geotrellis.vector.Extent] = Array(Extent(551625.0, 1379055.0, 559305.0, 1386735.0), Extent(628425.0, 1348335.0, 636105.0, 1356015.0), Extent(705225.0, 1325295.0, 712905.0, 1332975.0), Extent(551625.0, 1286895.0, 559305.0, 1294575.0), Extent(628425.0, 1279215.0, 636105.0, 1286895.0), Extent(705225.0, 1202415.0, 712905.0, 1210095.0), Extent(551625.0, 1256175.0, 559305.0, 1263855.0), Extent(628425.0, 1194735.0, 636105.0, 1202415.0), Extent(705225.0, 1187055.0, 712905.0, 1194735.0), Extent(559305.0, 1379055.0, 566985.0, 1386735.0))\n"
        },
        {
          "metadata" : { },
          "data" : {
            "text/html" : "<div>\n      <script data-this=\"{&quot;dataId&quot;:&quot;anoncfa316ecd287950b83289c3fa4bf554c&quot;,&quot;dataInit&quot;:[],&quot;genId&quot;:&quot;1823324315&quot;}\" type=\"text/x-scoped-javascript\">/*<![CDATA[*/req(['../javascripts/notebook/playground','../javascripts/notebook/magic/tabs'], \n      function(playground, _magictabs) {\n        // data ==> data-this (in observable.js's scopedEval) ==> this in JS => { dataId, dataInit, ... }\n        // this ==> scope (in observable.js's scopedEval) ==> this.parentElement ==> div.container below (toHtml)\n\n        playground.call(data,\n                        this\n                        ,\n                        {\n    \"f\": _magictabs,\n    \"o\": {}\n  }\n  \n                        \n                        \n                      );\n      }\n    );/*]]>*/</script>\n    <div>\n      <div>\n        <ul class=\"nav nav-tabs\" id=\"ul1823324315\"><li>\n              <a href=\"#tab1823324315-0\"><i class=\"fa fa-table\"/></a>\n            </li><li>\n              <a href=\"#tab1823324315-1\"><i class=\"fa fa-cubes\"/></a>\n            </li></ul>\n\n        <div class=\"tab-content\" id=\"tab1823324315\"><div class=\"tab-pane\" id=\"tab1823324315-0\">\n            <div>\n      <script data-this=\"{&quot;dataId&quot;:&quot;anon14c04e91ef4061d24e2605a3762f0c89&quot;,&quot;dataInit&quot;:[{&quot;ymax&quot;:1386735,&quot;xmin&quot;:551625,&quot;height&quot;:7680,&quot;ymin&quot;:1379055,&quot;xmax&quot;:559305,&quot;width&quot;:7680},{&quot;ymax&quot;:1356015,&quot;xmin&quot;:628425,&quot;height&quot;:7680,&quot;ymin&quot;:1348335,&quot;xmax&quot;:636105,&quot;width&quot;:7680},{&quot;ymax&quot;:1332975,&quot;xmin&quot;:705225,&quot;height&quot;:7680,&quot;ymin&quot;:1325295,&quot;xmax&quot;:712905,&quot;width&quot;:7680},{&quot;ymax&quot;:1294575,&quot;xmin&quot;:551625,&quot;height&quot;:7680,&quot;ymin&quot;:1286895,&quot;xmax&quot;:559305,&quot;width&quot;:7680},{&quot;ymax&quot;:1286895,&quot;xmin&quot;:628425,&quot;height&quot;:7680,&quot;ymin&quot;:1279215,&quot;xmax&quot;:636105,&quot;width&quot;:7680},{&quot;ymax&quot;:1210095,&quot;xmin&quot;:705225,&quot;height&quot;:7680,&quot;ymin&quot;:1202415,&quot;xmax&quot;:712905,&quot;width&quot;:7680},{&quot;ymax&quot;:1263855,&quot;xmin&quot;:551625,&quot;height&quot;:7680,&quot;ymin&quot;:1256175,&quot;xmax&quot;:559305,&quot;width&quot;:7680},{&quot;ymax&quot;:1202415,&quot;xmin&quot;:628425,&quot;height&quot;:7680,&quot;ymin&quot;:1194735,&quot;xmax&quot;:636105,&quot;width&quot;:7680},{&quot;ymax&quot;:1194735,&quot;xmin&quot;:705225,&quot;height&quot;:7680,&quot;ymin&quot;:1187055,&quot;xmax&quot;:712905,&quot;width&quot;:7680},{&quot;ymax&quot;:1386735,&quot;xmin&quot;:559305,&quot;height&quot;:7680,&quot;ymin&quot;:1379055,&quot;xmax&quot;:566985,&quot;width&quot;:7680}],&quot;genId&quot;:&quot;1094151937&quot;}\" type=\"text/x-scoped-javascript\">/*<![CDATA[*/req(['../javascripts/notebook/playground','../javascripts/notebook/magic/tableChart'], \n      function(playground, _magictableChart) {\n        // data ==> data-this (in observable.js's scopedEval) ==> this in JS => { dataId, dataInit, ... }\n        // this ==> scope (in observable.js's scopedEval) ==> this.parentElement ==> div.container below (toHtml)\n\n        playground.call(data,\n                        this\n                        ,\n                        {\n    \"f\": _magictableChart,\n    \"o\": {\"headers\":[\"xmin\",\"ymin\",\"xmax\",\"ymax\",\"width\",\"height\"],\"width\":600,\"height\":400}\n  }\n  \n                        \n                        \n                      );\n      }\n    );/*]]>*/</script>\n    <div>\n      <span class=\"chart-total-item-count\"><p data-bind=\"text: value\"><script data-this=\"{&quot;valueId&quot;:&quot;anon19cbfb76568dafbd170ad8d2909105d8&quot;,&quot;initialValue&quot;:&quot;10&quot;}\" type=\"text/x-scoped-javascript\">/*<![CDATA[*/\nreq(\n['observable', 'knockout'],\nfunction (O, ko) {\n  ko.applyBindings({\n      value: O.makeObservable(valueId, initialValue)\n    },\n    this\n  );\n});\n        /*]]>*/</script></p> entries total</span>\n      <span class=\"chart-sampling-warning\"><p data-bind=\"text: value\"><script data-this=\"{&quot;valueId&quot;:&quot;anone44ee39185a69c28c6739e7c9862a142&quot;,&quot;initialValue&quot;:&quot;&quot;}\" type=\"text/x-scoped-javascript\">/*<![CDATA[*/\nreq(\n['observable', 'knockout'],\nfunction (O, ko) {\n  ko.applyBindings({\n      value: O.makeObservable(valueId, initialValue)\n    },\n    this\n  );\n});\n        /*]]>*/</script></p></span>\n      <div>\n      </div>\n    </div></div>\n            </div><div class=\"tab-pane\" id=\"tab1823324315-1\">\n            <div>\n      <script data-this=\"{&quot;dataId&quot;:&quot;anon5551b11243ec22812439a6067d609ebd&quot;,&quot;dataInit&quot;:[{&quot;ymax&quot;:1386735,&quot;xmin&quot;:551625,&quot;height&quot;:7680,&quot;ymin&quot;:1379055,&quot;xmax&quot;:559305,&quot;width&quot;:7680},{&quot;ymax&quot;:1356015,&quot;xmin&quot;:628425,&quot;height&quot;:7680,&quot;ymin&quot;:1348335,&quot;xmax&quot;:636105,&quot;width&quot;:7680},{&quot;ymax&quot;:1332975,&quot;xmin&quot;:705225,&quot;height&quot;:7680,&quot;ymin&quot;:1325295,&quot;xmax&quot;:712905,&quot;width&quot;:7680},{&quot;ymax&quot;:1294575,&quot;xmin&quot;:551625,&quot;height&quot;:7680,&quot;ymin&quot;:1286895,&quot;xmax&quot;:559305,&quot;width&quot;:7680},{&quot;ymax&quot;:1286895,&quot;xmin&quot;:628425,&quot;height&quot;:7680,&quot;ymin&quot;:1279215,&quot;xmax&quot;:636105,&quot;width&quot;:7680},{&quot;ymax&quot;:1210095,&quot;xmin&quot;:705225,&quot;height&quot;:7680,&quot;ymin&quot;:1202415,&quot;xmax&quot;:712905,&quot;width&quot;:7680},{&quot;ymax&quot;:1263855,&quot;xmin&quot;:551625,&quot;height&quot;:7680,&quot;ymin&quot;:1256175,&quot;xmax&quot;:559305,&quot;width&quot;:7680},{&quot;ymax&quot;:1202415,&quot;xmin&quot;:628425,&quot;height&quot;:7680,&quot;ymin&quot;:1194735,&quot;xmax&quot;:636105,&quot;width&quot;:7680},{&quot;ymax&quot;:1194735,&quot;xmin&quot;:705225,&quot;height&quot;:7680,&quot;ymin&quot;:1187055,&quot;xmax&quot;:712905,&quot;width&quot;:7680},{&quot;ymax&quot;:1386735,&quot;xmin&quot;:559305,&quot;height&quot;:7680,&quot;ymin&quot;:1379055,&quot;xmax&quot;:566985,&quot;width&quot;:7680}],&quot;genId&quot;:&quot;1258402918&quot;}\" type=\"text/x-scoped-javascript\">/*<![CDATA[*/req(['../javascripts/notebook/playground','../javascripts/notebook/magic/pivotChart'], \n      function(playground, _magicpivotChart) {\n        // data ==> data-this (in observable.js's scopedEval) ==> this in JS => { dataId, dataInit, ... }\n        // this ==> scope (in observable.js's scopedEval) ==> this.parentElement ==> div.container below (toHtml)\n\n        playground.call(data,\n                        this\n                        ,\n                        {\n    \"f\": _magicpivotChart,\n    \"o\": {\"width\":600,\"height\":400,\"derivedAttributes\":{},\"extraOptions\":{}}\n  }\n  \n                        \n                        \n                      );\n      }\n    );/*]]>*/</script>\n    <div>\n      <span class=\"chart-total-item-count\"><p data-bind=\"text: value\"><script data-this=\"{&quot;valueId&quot;:&quot;anon3e954915c8c1abc179e7ba26758ffc5c&quot;,&quot;initialValue&quot;:&quot;10&quot;}\" type=\"text/x-scoped-javascript\">/*<![CDATA[*/\nreq(\n['observable', 'knockout'],\nfunction (O, ko) {\n  ko.applyBindings({\n      value: O.makeObservable(valueId, initialValue)\n    },\n    this\n  );\n});\n        /*]]>*/</script></p> entries total</span>\n      <span class=\"chart-sampling-warning\"><p data-bind=\"text: value\"><script data-this=\"{&quot;valueId&quot;:&quot;anon6eb0c9c4e039b7a5a7107450bdc7fcb2&quot;,&quot;initialValue&quot;:&quot;&quot;}\" type=\"text/x-scoped-javascript\">/*<![CDATA[*/\nreq(\n['observable', 'knockout'],\nfunction (O, ko) {\n  ko.applyBindings({\n      value: O.makeObservable(valueId, initialValue)\n    },\n    this\n  );\n});\n        /*]]>*/</script></p></span>\n      <div>\n      </div>\n    </div></div>\n            </div></div>\n      </div>\n    </div></div>"
          },
          "output_type" : "execute_result",
          "execution_count" : 11,
          "time" : "Took: 1.485s, at 2018-02-08 04:18"
        }
      ]
    },
    {
      "metadata" : {
        "trusted" : true,
        "input_collapsed" : false,
        "collapsed" : false,
        "presentation" : {
          "tabs_state" : "{\n  \"tab_id\": \"#tab1345807163-0\"\n}",
          "pivot_chart_state" : "{\n  \"hiddenAttributes\": [],\n  \"menuLimit\": 200,\n  \"cols\": [],\n  \"rows\": [],\n  \"vals\": [],\n  \"exclusions\": {},\n  \"inclusions\": {},\n  \"unusedAttrsVertical\": 85,\n  \"autoSortUnusedAttrs\": false,\n  \"inclusionsInfo\": {},\n  \"aggregatorName\": \"Count\",\n  \"rendererName\": \"Table\"\n}"
        },
        "id" : "9EE2A176D3F443139814B03E6B118677"
      },
      "cell_type" : "code",
      "source" : [
        "// In second element of RDD, we have details of number cols and rows of each Tile in RDD\n",
        "band.map(l => l._2).take(10)"
      ],
      "outputs" : [
        {
          "name" : "stdout",
          "output_type" : "stream",
          "text" : "res17: Array[geotrellis.raster.Tile] = Array(DoubleConstantNoDataArrayTile([D@854269e,256,256), DoubleConstantNoDataArrayTile([D@518268fa,256,256), DoubleConstantNoDataArrayTile([D@406462ab,256,256), DoubleConstantNoDataArrayTile([D@ebb9b9d,256,256), DoubleConstantNoDataArrayTile([D@27f22c02,256,256), DoubleConstantNoDataArrayTile([D@657555be,256,256), DoubleConstantNoDataArrayTile([D@6671281,256,256), DoubleConstantNoDataArrayTile([D@54d206a3,256,256), DoubleConstantNoDataArrayTile([D@62f6b207,256,256), DoubleConstantNoDataArrayTile([D@2de1c342,256,256))\n"
        },
        {
          "metadata" : { },
          "data" : {
            "text/html" : "<div>\n      <script data-this=\"{&quot;dataId&quot;:&quot;anon6b75c86a40382741f6a654e92dffc970&quot;,&quot;dataInit&quot;:[],&quot;genId&quot;:&quot;1345807163&quot;}\" type=\"text/x-scoped-javascript\">/*<![CDATA[*/req(['../javascripts/notebook/playground','../javascripts/notebook/magic/tabs'], \n      function(playground, _magictabs) {\n        // data ==> data-this (in observable.js's scopedEval) ==> this in JS => { dataId, dataInit, ... }\n        // this ==> scope (in observable.js's scopedEval) ==> this.parentElement ==> div.container below (toHtml)\n\n        playground.call(data,\n                        this\n                        ,\n                        {\n    \"f\": _magictabs,\n    \"o\": {}\n  }\n  \n                        \n                        \n                      );\n      }\n    );/*]]>*/</script>\n    <div>\n      <div>\n        <ul class=\"nav nav-tabs\" id=\"ul1345807163\"><li>\n              <a href=\"#tab1345807163-0\"><i class=\"fa fa-table\"/></a>\n            </li><li>\n              <a href=\"#tab1345807163-1\"><i class=\"fa fa-cubes\"/></a>\n            </li></ul>\n\n        <div class=\"tab-content\" id=\"tab1345807163\"><div class=\"tab-pane\" id=\"tab1345807163-0\">\n            <div>\n      <script data-this=\"{&quot;dataId&quot;:&quot;anon5971d31b33d6c4aa40db587232a43abb&quot;,&quot;dataInit&quot;:[{&quot;cols&quot;:256,&quot;rows&quot;:256,&quot;cellType&quot;:&quot;float64&quot;},{&quot;cols&quot;:256,&quot;rows&quot;:256,&quot;cellType&quot;:&quot;float64&quot;},{&quot;cols&quot;:256,&quot;rows&quot;:256,&quot;cellType&quot;:&quot;float64&quot;},{&quot;cols&quot;:256,&quot;rows&quot;:256,&quot;cellType&quot;:&quot;float64&quot;},{&quot;cols&quot;:256,&quot;rows&quot;:256,&quot;cellType&quot;:&quot;float64&quot;},{&quot;cols&quot;:256,&quot;rows&quot;:256,&quot;cellType&quot;:&quot;float64&quot;},{&quot;cols&quot;:256,&quot;rows&quot;:256,&quot;cellType&quot;:&quot;float64&quot;},{&quot;cols&quot;:256,&quot;rows&quot;:256,&quot;cellType&quot;:&quot;float64&quot;},{&quot;cols&quot;:256,&quot;rows&quot;:256,&quot;cellType&quot;:&quot;float64&quot;},{&quot;cols&quot;:256,&quot;rows&quot;:256,&quot;cellType&quot;:&quot;float64&quot;}],&quot;genId&quot;:&quot;1605136817&quot;}\" type=\"text/x-scoped-javascript\">/*<![CDATA[*/req(['../javascripts/notebook/playground','../javascripts/notebook/magic/tableChart'], \n      function(playground, _magictableChart) {\n        // data ==> data-this (in observable.js's scopedEval) ==> this in JS => { dataId, dataInit, ... }\n        // this ==> scope (in observable.js's scopedEval) ==> this.parentElement ==> div.container below (toHtml)\n\n        playground.call(data,\n                        this\n                        ,\n                        {\n    \"f\": _magictableChart,\n    \"o\": {\"headers\":[\"cols\",\"rows\",\"cellType\"],\"width\":600,\"height\":400}\n  }\n  \n                        \n                        \n                      );\n      }\n    );/*]]>*/</script>\n    <div>\n      <span class=\"chart-total-item-count\"><p data-bind=\"text: value\"><script data-this=\"{&quot;valueId&quot;:&quot;anon96ca08fe7be68e61f13c51386d240ad5&quot;,&quot;initialValue&quot;:&quot;10&quot;}\" type=\"text/x-scoped-javascript\">/*<![CDATA[*/\nreq(\n['observable', 'knockout'],\nfunction (O, ko) {\n  ko.applyBindings({\n      value: O.makeObservable(valueId, initialValue)\n    },\n    this\n  );\n});\n        /*]]>*/</script></p> entries total</span>\n      <span class=\"chart-sampling-warning\"><p data-bind=\"text: value\"><script data-this=\"{&quot;valueId&quot;:&quot;anonfff1cd75ccca8113cf406eef920590d5&quot;,&quot;initialValue&quot;:&quot;&quot;}\" type=\"text/x-scoped-javascript\">/*<![CDATA[*/\nreq(\n['observable', 'knockout'],\nfunction (O, ko) {\n  ko.applyBindings({\n      value: O.makeObservable(valueId, initialValue)\n    },\n    this\n  );\n});\n        /*]]>*/</script></p></span>\n      <div>\n      </div>\n    </div></div>\n            </div><div class=\"tab-pane\" id=\"tab1345807163-1\">\n            <div>\n      <script data-this=\"{&quot;dataId&quot;:&quot;anon40a1335e347468964556191860832a38&quot;,&quot;dataInit&quot;:[{&quot;cols&quot;:256,&quot;rows&quot;:256,&quot;cellType&quot;:&quot;float64&quot;},{&quot;cols&quot;:256,&quot;rows&quot;:256,&quot;cellType&quot;:&quot;float64&quot;},{&quot;cols&quot;:256,&quot;rows&quot;:256,&quot;cellType&quot;:&quot;float64&quot;},{&quot;cols&quot;:256,&quot;rows&quot;:256,&quot;cellType&quot;:&quot;float64&quot;},{&quot;cols&quot;:256,&quot;rows&quot;:256,&quot;cellType&quot;:&quot;float64&quot;},{&quot;cols&quot;:256,&quot;rows&quot;:256,&quot;cellType&quot;:&quot;float64&quot;},{&quot;cols&quot;:256,&quot;rows&quot;:256,&quot;cellType&quot;:&quot;float64&quot;},{&quot;cols&quot;:256,&quot;rows&quot;:256,&quot;cellType&quot;:&quot;float64&quot;},{&quot;cols&quot;:256,&quot;rows&quot;:256,&quot;cellType&quot;:&quot;float64&quot;},{&quot;cols&quot;:256,&quot;rows&quot;:256,&quot;cellType&quot;:&quot;float64&quot;}],&quot;genId&quot;:&quot;1548639133&quot;}\" type=\"text/x-scoped-javascript\">/*<![CDATA[*/req(['../javascripts/notebook/playground','../javascripts/notebook/magic/pivotChart'], \n      function(playground, _magicpivotChart) {\n        // data ==> data-this (in observable.js's scopedEval) ==> this in JS => { dataId, dataInit, ... }\n        // this ==> scope (in observable.js's scopedEval) ==> this.parentElement ==> div.container below (toHtml)\n\n        playground.call(data,\n                        this\n                        ,\n                        {\n    \"f\": _magicpivotChart,\n    \"o\": {\"width\":600,\"height\":400,\"derivedAttributes\":{},\"extraOptions\":{}}\n  }\n  \n                        \n                        \n                      );\n      }\n    );/*]]>*/</script>\n    <div>\n      <span class=\"chart-total-item-count\"><p data-bind=\"text: value\"><script data-this=\"{&quot;valueId&quot;:&quot;anona235226ef95d928ffd16f929ecdfd8e3&quot;,&quot;initialValue&quot;:&quot;10&quot;}\" type=\"text/x-scoped-javascript\">/*<![CDATA[*/\nreq(\n['observable', 'knockout'],\nfunction (O, ko) {\n  ko.applyBindings({\n      value: O.makeObservable(valueId, initialValue)\n    },\n    this\n  );\n});\n        /*]]>*/</script></p> entries total</span>\n      <span class=\"chart-sampling-warning\"><p data-bind=\"text: value\"><script data-this=\"{&quot;valueId&quot;:&quot;anon2c8d3bf83ffe46a67738b48642ba7ea0&quot;,&quot;initialValue&quot;:&quot;&quot;}\" type=\"text/x-scoped-javascript\">/*<![CDATA[*/\nreq(\n['observable', 'knockout'],\nfunction (O, ko) {\n  ko.applyBindings({\n      value: O.makeObservable(valueId, initialValue)\n    },\n    this\n  );\n});\n        /*]]>*/</script></p></span>\n      <div>\n      </div>\n    </div></div>\n            </div></div>\n      </div>\n    </div></div>"
          },
          "output_type" : "execute_result",
          "execution_count" : 12,
          "time" : "Took: 1.806s, at 2018-02-08 04:18"
        }
      ]
    },
    {
      "metadata" : {
        "id" : "53156A7DDFD04E79AE1681DBA0E4F21A"
      },
      "cell_type" : "markdown",
      "source" : "# We can convert ProjectedExtent to SpatialKey...\n\nIn Spark - Geotrellis, instead of using ProjectedExtent, we can also use SpatialKey.\n\nA SpatialKey indicates the spatial positioning of a layer's tile. It's a grid or cube of Tiles. But in resume, we can say TileLayer is Tile simply.."
    },
    {
      "metadata" : {
        "trusted" : true,
        "input_collapsed" : false,
        "collapsed" : false,
        "id" : "690800C9ADA04031B136B60F2FC1693F"
      },
      "cell_type" : "code",
      "source" : [
        "// We find metadata (\"or \"Layer Metadata\", stores information critical to Tile Layer IO.\")\n",
        "val (_, metadata) = band.collectMetadata[SpatialKey](FloatingLayoutScheme())\n",
        "\n",
        "// and tiles\n",
        "val tiles = band.tileToLayout[SpatialKey](metadata)"
      ],
      "outputs" : [
        {
          "name" : "stdout",
          "output_type" : "stream",
          "text" : "metadata: geotrellis.spark.TileLayerMetadata[geotrellis.spark.SpatialKey] = TileLayerMetadata(float64,GridExtent(Extent(528585.0, 1156335.0, 758985.0, 1394415.0),30.0,30.0),Extent(528585.0, 1162785.0, 755415.0, 1394415.0),EPSG:32648,KeyBounds(SpatialKey(0,0),SpatialKey(29,30)))\ntiles: org.apache.spark.rdd.RDD[(geotrellis.spark.SpatialKey, geotrellis.raster.Tile)] = ShuffledRDD[21] at reduceByKey at TileRDDMerge.scala:51\n"
        },
        {
          "metadata" : { },
          "data" : {
            "text/html" : ""
          },
          "output_type" : "execute_result",
          "execution_count" : 13,
          "time" : "Took: 1.878s, at 2018-02-08 04:19"
        }
      ]
    },
    {
      "metadata" : {
        "trusted" : true,
        "input_collapsed" : false,
        "collapsed" : false,
        "presentation" : {
          "tabs_state" : "{\n  \"tab_id\": \"#tab589293548-0\"\n}",
          "pivot_chart_state" : "{\n  \"hiddenAttributes\": [],\n  \"menuLimit\": 200,\n  \"cols\": [],\n  \"rows\": [],\n  \"vals\": [],\n  \"exclusions\": {},\n  \"inclusions\": {},\n  \"unusedAttrsVertical\": 85,\n  \"autoSortUnusedAttrs\": false,\n  \"inclusionsInfo\": {},\n  \"aggregatorName\": \"Count\",\n  \"rendererName\": \"Table\"\n}"
        },
        "id" : "4E920CF719584CB28325EFAE527BFF58"
      },
      "cell_type" : "code",
      "source" : [
        "// What will we have in SpatialKey?\n",
        "tiles.map(l => l._1).take(10)"
      ],
      "outputs" : [
        {
          "name" : "stdout",
          "output_type" : "stream",
          "text" : "res20: Array[geotrellis.spark.SpatialKey] = Array(SpatialKey(10,26), SpatialKey(28,27), SpatialKey(6,17), SpatialKey(0,24), SpatialKey(27,11), SpatialKey(23,1), SpatialKey(24,14), SpatialKey(14,27), SpatialKey(29,13), SpatialKey(7,3))\n"
        },
        {
          "metadata" : { },
          "data" : {
            "text/html" : "<div>\n      <script data-this=\"{&quot;dataId&quot;:&quot;anon3e32ce704bba19a4c179d4b2caa10bee&quot;,&quot;dataInit&quot;:[],&quot;genId&quot;:&quot;589293548&quot;}\" type=\"text/x-scoped-javascript\">/*<![CDATA[*/req(['../javascripts/notebook/playground','../javascripts/notebook/magic/tabs'], \n      function(playground, _magictabs) {\n        // data ==> data-this (in observable.js's scopedEval) ==> this in JS => { dataId, dataInit, ... }\n        // this ==> scope (in observable.js's scopedEval) ==> this.parentElement ==> div.container below (toHtml)\n\n        playground.call(data,\n                        this\n                        ,\n                        {\n    \"f\": _magictabs,\n    \"o\": {}\n  }\n  \n                        \n                        \n                      );\n      }\n    );/*]]>*/</script>\n    <div>\n      <div>\n        <ul class=\"nav nav-tabs\" id=\"ul589293548\"><li>\n              <a href=\"#tab589293548-0\"><i class=\"fa fa-table\"/></a>\n            </li><li>\n              <a href=\"#tab589293548-1\"><i class=\"fa fa-dot-circle-o\"/></a>\n            </li><li>\n              <a href=\"#tab589293548-2\"><i class=\"fa fa-line-chart\"/></a>\n            </li><li>\n              <a href=\"#tab589293548-3\"><i class=\"fa fa-bar-chart\"/></a>\n            </li><li>\n              <a href=\"#tab589293548-4\"><i class=\"fa fa-cubes\"/></a>\n            </li></ul>\n\n        <div class=\"tab-content\" id=\"tab589293548\"><div class=\"tab-pane\" id=\"tab589293548-0\">\n            <div>\n      <script data-this=\"{&quot;dataId&quot;:&quot;anone2f1552ecfa89b09df63247d25a858d0&quot;,&quot;dataInit&quot;:[{&quot;col&quot;:10,&quot;row&quot;:26},{&quot;col&quot;:28,&quot;row&quot;:27},{&quot;col&quot;:6,&quot;row&quot;:17},{&quot;col&quot;:0,&quot;row&quot;:24},{&quot;col&quot;:27,&quot;row&quot;:11},{&quot;col&quot;:23,&quot;row&quot;:1},{&quot;col&quot;:24,&quot;row&quot;:14},{&quot;col&quot;:14,&quot;row&quot;:27},{&quot;col&quot;:29,&quot;row&quot;:13},{&quot;col&quot;:7,&quot;row&quot;:3}],&quot;genId&quot;:&quot;1124437821&quot;}\" type=\"text/x-scoped-javascript\">/*<![CDATA[*/req(['../javascripts/notebook/playground','../javascripts/notebook/magic/tableChart'], \n      function(playground, _magictableChart) {\n        // data ==> data-this (in observable.js's scopedEval) ==> this in JS => { dataId, dataInit, ... }\n        // this ==> scope (in observable.js's scopedEval) ==> this.parentElement ==> div.container below (toHtml)\n\n        playground.call(data,\n                        this\n                        ,\n                        {\n    \"f\": _magictableChart,\n    \"o\": {\"headers\":[\"col\",\"row\"],\"width\":600,\"height\":400}\n  }\n  \n                        \n                        \n                      );\n      }\n    );/*]]>*/</script>\n    <div>\n      <span class=\"chart-total-item-count\"><p data-bind=\"text: value\"><script data-this=\"{&quot;valueId&quot;:&quot;anon0fbd437e08d0e900a521e80173bdab0b&quot;,&quot;initialValue&quot;:&quot;10&quot;}\" type=\"text/x-scoped-javascript\">/*<![CDATA[*/\nreq(\n['observable', 'knockout'],\nfunction (O, ko) {\n  ko.applyBindings({\n      value: O.makeObservable(valueId, initialValue)\n    },\n    this\n  );\n});\n        /*]]>*/</script></p> entries total</span>\n      <span class=\"chart-sampling-warning\"><p data-bind=\"text: value\"><script data-this=\"{&quot;valueId&quot;:&quot;anonc567e3e8cd694556661201d70a76bcc7&quot;,&quot;initialValue&quot;:&quot;&quot;}\" type=\"text/x-scoped-javascript\">/*<![CDATA[*/\nreq(\n['observable', 'knockout'],\nfunction (O, ko) {\n  ko.applyBindings({\n      value: O.makeObservable(valueId, initialValue)\n    },\n    this\n  );\n});\n        /*]]>*/</script></p></span>\n      <div>\n      </div>\n    </div></div>\n            </div><div class=\"tab-pane\" id=\"tab589293548-1\">\n            <div>\n      <script data-this=\"{&quot;dataId&quot;:&quot;anon4ff301bc1700f9099bcb731ba6578397&quot;,&quot;dataInit&quot;:[{&quot;col&quot;:10,&quot;row&quot;:26},{&quot;col&quot;:28,&quot;row&quot;:27},{&quot;col&quot;:6,&quot;row&quot;:17},{&quot;col&quot;:0,&quot;row&quot;:24},{&quot;col&quot;:27,&quot;row&quot;:11},{&quot;col&quot;:23,&quot;row&quot;:1},{&quot;col&quot;:24,&quot;row&quot;:14},{&quot;col&quot;:14,&quot;row&quot;:27},{&quot;col&quot;:29,&quot;row&quot;:13},{&quot;col&quot;:7,&quot;row&quot;:3}],&quot;genId&quot;:&quot;487748347&quot;}\" type=\"text/x-scoped-javascript\">/*<![CDATA[*/req(['../javascripts/notebook/playground','../javascripts/notebook/magic/scatterChart'], \n      function(playground, _magicscatterChart) {\n        // data ==> data-this (in observable.js's scopedEval) ==> this in JS => { dataId, dataInit, ... }\n        // this ==> scope (in observable.js's scopedEval) ==> this.parentElement ==> div.container below (toHtml)\n\n        playground.call(data,\n                        this\n                        ,\n                        {\n    \"f\": _magicscatterChart,\n    \"o\": {\"x\":\"col\",\"y\":\"row\",\"width\":600,\"height\":400}\n  }\n  \n                        \n                        \n                      );\n      }\n    );/*]]>*/</script>\n    <div>\n      <span class=\"chart-total-item-count\"><p data-bind=\"text: value\"><script data-this=\"{&quot;valueId&quot;:&quot;anonfe183b8e63dfe7f6b39de689ca227bfd&quot;,&quot;initialValue&quot;:&quot;10&quot;}\" type=\"text/x-scoped-javascript\">/*<![CDATA[*/\nreq(\n['observable', 'knockout'],\nfunction (O, ko) {\n  ko.applyBindings({\n      value: O.makeObservable(valueId, initialValue)\n    },\n    this\n  );\n});\n        /*]]>*/</script></p> entries total</span>\n      <span class=\"chart-sampling-warning\"><p data-bind=\"text: value\"><script data-this=\"{&quot;valueId&quot;:&quot;anon2d93985a9d9dbfacee90694f9e300075&quot;,&quot;initialValue&quot;:&quot;&quot;}\" type=\"text/x-scoped-javascript\">/*<![CDATA[*/\nreq(\n['observable', 'knockout'],\nfunction (O, ko) {\n  ko.applyBindings({\n      value: O.makeObservable(valueId, initialValue)\n    },\n    this\n  );\n});\n        /*]]>*/</script></p></span>\n      <div>\n      </div>\n    </div></div>\n            </div><div class=\"tab-pane\" id=\"tab589293548-2\">\n            <div>\n      <script data-this=\"{&quot;dataId&quot;:&quot;anon398548ac7936e880adc4b3741719d551&quot;,&quot;dataInit&quot;:[{&quot;col&quot;:10,&quot;row&quot;:26},{&quot;col&quot;:28,&quot;row&quot;:27},{&quot;col&quot;:6,&quot;row&quot;:17},{&quot;col&quot;:0,&quot;row&quot;:24},{&quot;col&quot;:27,&quot;row&quot;:11},{&quot;col&quot;:23,&quot;row&quot;:1},{&quot;col&quot;:24,&quot;row&quot;:14},{&quot;col&quot;:14,&quot;row&quot;:27},{&quot;col&quot;:29,&quot;row&quot;:13},{&quot;col&quot;:7,&quot;row&quot;:3}],&quot;genId&quot;:&quot;1459401990&quot;}\" type=\"text/x-scoped-javascript\">/*<![CDATA[*/req(['../javascripts/notebook/playground','../javascripts/notebook/magic/lineChart'], \n      function(playground, _magiclineChart) {\n        // data ==> data-this (in observable.js's scopedEval) ==> this in JS => { dataId, dataInit, ... }\n        // this ==> scope (in observable.js's scopedEval) ==> this.parentElement ==> div.container below (toHtml)\n\n        playground.call(data,\n                        this\n                        ,\n                        {\n    \"f\": _magiclineChart,\n    \"o\": {\"x\":\"col\",\"y\":\"row\",\"width\":600,\"height\":400}\n  }\n  \n                        \n                        \n                      );\n      }\n    );/*]]>*/</script>\n    <div>\n      <span class=\"chart-total-item-count\"><p data-bind=\"text: value\"><script data-this=\"{&quot;valueId&quot;:&quot;anon8645fcad3a5929db6c455191d5882f4c&quot;,&quot;initialValue&quot;:&quot;10&quot;}\" type=\"text/x-scoped-javascript\">/*<![CDATA[*/\nreq(\n['observable', 'knockout'],\nfunction (O, ko) {\n  ko.applyBindings({\n      value: O.makeObservable(valueId, initialValue)\n    },\n    this\n  );\n});\n        /*]]>*/</script></p> entries total</span>\n      <span class=\"chart-sampling-warning\"><p data-bind=\"text: value\"><script data-this=\"{&quot;valueId&quot;:&quot;anone9ec5c7915b30a00e3a1b42b715dc41c&quot;,&quot;initialValue&quot;:&quot;&quot;}\" type=\"text/x-scoped-javascript\">/*<![CDATA[*/\nreq(\n['observable', 'knockout'],\nfunction (O, ko) {\n  ko.applyBindings({\n      value: O.makeObservable(valueId, initialValue)\n    },\n    this\n  );\n});\n        /*]]>*/</script></p></span>\n      <div>\n      </div>\n    </div></div>\n            </div><div class=\"tab-pane\" id=\"tab589293548-3\">\n            <div>\n      <script data-this=\"{&quot;dataId&quot;:&quot;anon3798aa4f0cdbfd54a1b29e774a9857e0&quot;,&quot;dataInit&quot;:[{&quot;col&quot;:10,&quot;row&quot;:26},{&quot;col&quot;:28,&quot;row&quot;:27},{&quot;col&quot;:6,&quot;row&quot;:17},{&quot;col&quot;:0,&quot;row&quot;:24},{&quot;col&quot;:27,&quot;row&quot;:11},{&quot;col&quot;:23,&quot;row&quot;:1},{&quot;col&quot;:24,&quot;row&quot;:14},{&quot;col&quot;:14,&quot;row&quot;:27},{&quot;col&quot;:29,&quot;row&quot;:13},{&quot;col&quot;:7,&quot;row&quot;:3}],&quot;genId&quot;:&quot;1383443273&quot;}\" type=\"text/x-scoped-javascript\">/*<![CDATA[*/req(['../javascripts/notebook/playground','../javascripts/notebook/magic/barChart'], \n      function(playground, _magicbarChart) {\n        // data ==> data-this (in observable.js's scopedEval) ==> this in JS => { dataId, dataInit, ... }\n        // this ==> scope (in observable.js's scopedEval) ==> this.parentElement ==> div.container below (toHtml)\n\n        playground.call(data,\n                        this\n                        ,\n                        {\n    \"f\": _magicbarChart,\n    \"o\": {\"x\":\"col\",\"y\":\"row\",\"width\":600,\"height\":400}\n  }\n  \n                        \n                        \n                      );\n      }\n    );/*]]>*/</script>\n    <div>\n      <span class=\"chart-total-item-count\"><p data-bind=\"text: value\"><script data-this=\"{&quot;valueId&quot;:&quot;anon6a758bbcc7ef72d504472ba0ed228510&quot;,&quot;initialValue&quot;:&quot;10&quot;}\" type=\"text/x-scoped-javascript\">/*<![CDATA[*/\nreq(\n['observable', 'knockout'],\nfunction (O, ko) {\n  ko.applyBindings({\n      value: O.makeObservable(valueId, initialValue)\n    },\n    this\n  );\n});\n        /*]]>*/</script></p> entries total</span>\n      <span class=\"chart-sampling-warning\"><p data-bind=\"text: value\"><script data-this=\"{&quot;valueId&quot;:&quot;anon15427558ce76e404acdee0f48f0259b6&quot;,&quot;initialValue&quot;:&quot;&quot;}\" type=\"text/x-scoped-javascript\">/*<![CDATA[*/\nreq(\n['observable', 'knockout'],\nfunction (O, ko) {\n  ko.applyBindings({\n      value: O.makeObservable(valueId, initialValue)\n    },\n    this\n  );\n});\n        /*]]>*/</script></p></span>\n      <div>\n      </div>\n    </div></div>\n            </div><div class=\"tab-pane\" id=\"tab589293548-4\">\n            <div>\n      <script data-this=\"{&quot;dataId&quot;:&quot;anon5eb0a0bb5b86b0646639920c34544db3&quot;,&quot;dataInit&quot;:[{&quot;col&quot;:10,&quot;row&quot;:26},{&quot;col&quot;:28,&quot;row&quot;:27},{&quot;col&quot;:6,&quot;row&quot;:17},{&quot;col&quot;:0,&quot;row&quot;:24},{&quot;col&quot;:27,&quot;row&quot;:11},{&quot;col&quot;:23,&quot;row&quot;:1},{&quot;col&quot;:24,&quot;row&quot;:14},{&quot;col&quot;:14,&quot;row&quot;:27},{&quot;col&quot;:29,&quot;row&quot;:13},{&quot;col&quot;:7,&quot;row&quot;:3}],&quot;genId&quot;:&quot;5299444&quot;}\" type=\"text/x-scoped-javascript\">/*<![CDATA[*/req(['../javascripts/notebook/playground','../javascripts/notebook/magic/pivotChart'], \n      function(playground, _magicpivotChart) {\n        // data ==> data-this (in observable.js's scopedEval) ==> this in JS => { dataId, dataInit, ... }\n        // this ==> scope (in observable.js's scopedEval) ==> this.parentElement ==> div.container below (toHtml)\n\n        playground.call(data,\n                        this\n                        ,\n                        {\n    \"f\": _magicpivotChart,\n    \"o\": {\"width\":600,\"height\":400,\"derivedAttributes\":{},\"extraOptions\":{}}\n  }\n  \n                        \n                        \n                      );\n      }\n    );/*]]>*/</script>\n    <div>\n      <span class=\"chart-total-item-count\"><p data-bind=\"text: value\"><script data-this=\"{&quot;valueId&quot;:&quot;anonc37be2d7b69be51999d8402eaf774757&quot;,&quot;initialValue&quot;:&quot;10&quot;}\" type=\"text/x-scoped-javascript\">/*<![CDATA[*/\nreq(\n['observable', 'knockout'],\nfunction (O, ko) {\n  ko.applyBindings({\n      value: O.makeObservable(valueId, initialValue)\n    },\n    this\n  );\n});\n        /*]]>*/</script></p> entries total</span>\n      <span class=\"chart-sampling-warning\"><p data-bind=\"text: value\"><script data-this=\"{&quot;valueId&quot;:&quot;anon6049447ac50d3b65dd24d980d58c8934&quot;,&quot;initialValue&quot;:&quot;&quot;}\" type=\"text/x-scoped-javascript\">/*<![CDATA[*/\nreq(\n['observable', 'knockout'],\nfunction (O, ko) {\n  ko.applyBindings({\n      value: O.makeObservable(valueId, initialValue)\n    },\n    this\n  );\n});\n        /*]]>*/</script></p></span>\n      <div>\n      </div>\n    </div></div>\n            </div></div>\n      </div>\n    </div></div>"
          },
          "output_type" : "execute_result",
          "execution_count" : 14,
          "time" : "Took: 3.289s, at 2018-01-26 09:32"
        }
      ]
    },
    {
      "metadata" : {
        "trusted" : true,
        "input_collapsed" : false,
        "collapsed" : false,
        "presentation" : {
          "tabs_state" : "{\n  \"tab_id\": \"#tab1696014314-0\"\n}",
          "pivot_chart_state" : "{\n  \"hiddenAttributes\": [],\n  \"menuLimit\": 200,\n  \"cols\": [],\n  \"rows\": [],\n  \"vals\": [],\n  \"exclusions\": {},\n  \"inclusions\": {},\n  \"unusedAttrsVertical\": 85,\n  \"autoSortUnusedAttrs\": false,\n  \"inclusionsInfo\": {},\n  \"aggregatorName\": \"Count\",\n  \"rendererName\": \"Table\"\n}"
        },
        "id" : "1963F5F00F064DAC8371CB0091FE9824"
      },
      "cell_type" : "code",
      "source" : [
        "/*\n",
        "So we can see clearly here that we have in SpatialKey, we have 30 columns and 31 rows so the number of TileLayers is 30*31 = 960\n",
        "It's also number of Tiles!\n",
        "*/\n",
        "tiles.map(l => (l._1.col, l._1.row)).map(l => (l._1, 1)).reduceByKey(_ + _).take(50)"
      ],
      "outputs" : [
        {
          "name" : "stdout",
          "output_type" : "stream",
          "text" : "res20: Array[(Int, Int)] = Array((0,31), (1,31), (2,31), (3,31), (4,31), (5,31), (6,31), (7,31), (8,31), (9,31), (10,31), (11,31), (12,31), (13,31), (14,31), (15,31), (16,31), (17,31), (18,31), (19,31), (20,31), (21,31), (22,31), (23,31), (24,31), (25,31), (26,31), (27,31), (28,31), (29,31))\n"
        },
        {
          "metadata" : { },
          "data" : {
            "text/html" : "<div>\n      <script data-this=\"{&quot;dataId&quot;:&quot;anona890ce548bbd118c56494305b6a1443a&quot;,&quot;dataInit&quot;:[],&quot;genId&quot;:&quot;1696014314&quot;}\" type=\"text/x-scoped-javascript\">/*<![CDATA[*/req(['../javascripts/notebook/playground','../javascripts/notebook/magic/tabs'], \n      function(playground, _magictabs) {\n        // data ==> data-this (in observable.js's scopedEval) ==> this in JS => { dataId, dataInit, ... }\n        // this ==> scope (in observable.js's scopedEval) ==> this.parentElement ==> div.container below (toHtml)\n\n        playground.call(data,\n                        this\n                        ,\n                        {\n    \"f\": _magictabs,\n    \"o\": {}\n  }\n  \n                        \n                        \n                      );\n      }\n    );/*]]>*/</script>\n    <div>\n      <div>\n        <ul class=\"nav nav-tabs\" id=\"ul1696014314\"><li>\n              <a href=\"#tab1696014314-0\"><i class=\"fa fa-table\"/></a>\n            </li><li>\n              <a href=\"#tab1696014314-1\"><i class=\"fa fa-dot-circle-o\"/></a>\n            </li><li>\n              <a href=\"#tab1696014314-2\"><i class=\"fa fa-line-chart\"/></a>\n            </li><li>\n              <a href=\"#tab1696014314-3\"><i class=\"fa fa-bar-chart\"/></a>\n            </li><li>\n              <a href=\"#tab1696014314-4\"><i class=\"fa fa-cubes\"/></a>\n            </li></ul>\n\n        <div class=\"tab-content\" id=\"tab1696014314\"><div class=\"tab-pane\" id=\"tab1696014314-0\">\n            <div>\n      <script data-this=\"{&quot;dataId&quot;:&quot;anon3d8cd093a64a654b6207c8e9404f0638&quot;,&quot;dataInit&quot;:[{&quot;_1&quot;:0,&quot;_2&quot;:31},{&quot;_1&quot;:1,&quot;_2&quot;:31},{&quot;_1&quot;:2,&quot;_2&quot;:31},{&quot;_1&quot;:3,&quot;_2&quot;:31},{&quot;_1&quot;:4,&quot;_2&quot;:31},{&quot;_1&quot;:5,&quot;_2&quot;:31},{&quot;_1&quot;:6,&quot;_2&quot;:31},{&quot;_1&quot;:7,&quot;_2&quot;:31},{&quot;_1&quot;:8,&quot;_2&quot;:31},{&quot;_1&quot;:9,&quot;_2&quot;:31},{&quot;_1&quot;:10,&quot;_2&quot;:31},{&quot;_1&quot;:11,&quot;_2&quot;:31},{&quot;_1&quot;:12,&quot;_2&quot;:31},{&quot;_1&quot;:13,&quot;_2&quot;:31},{&quot;_1&quot;:14,&quot;_2&quot;:31},{&quot;_1&quot;:15,&quot;_2&quot;:31},{&quot;_1&quot;:16,&quot;_2&quot;:31},{&quot;_1&quot;:17,&quot;_2&quot;:31},{&quot;_1&quot;:18,&quot;_2&quot;:31},{&quot;_1&quot;:19,&quot;_2&quot;:31},{&quot;_1&quot;:20,&quot;_2&quot;:31},{&quot;_1&quot;:21,&quot;_2&quot;:31},{&quot;_1&quot;:22,&quot;_2&quot;:31},{&quot;_1&quot;:23,&quot;_2&quot;:31},{&quot;_1&quot;:24,&quot;_2&quot;:31},{&quot;_1&quot;:25,&quot;_2&quot;:31},{&quot;_1&quot;:26,&quot;_2&quot;:31},{&quot;_1&quot;:27,&quot;_2&quot;:31},{&quot;_1&quot;:28,&quot;_2&quot;:31},{&quot;_1&quot;:29,&quot;_2&quot;:31}],&quot;genId&quot;:&quot;2269953&quot;}\" type=\"text/x-scoped-javascript\">/*<![CDATA[*/req(['../javascripts/notebook/playground','../javascripts/notebook/magic/tableChart'], \n      function(playground, _magictableChart) {\n        // data ==> data-this (in observable.js's scopedEval) ==> this in JS => { dataId, dataInit, ... }\n        // this ==> scope (in observable.js's scopedEval) ==> this.parentElement ==> div.container below (toHtml)\n\n        playground.call(data,\n                        this\n                        ,\n                        {\n    \"f\": _magictableChart,\n    \"o\": {\"headers\":[\"_1\",\"_2\"],\"width\":600,\"height\":400}\n  }\n  \n                        \n                        \n                      );\n      }\n    );/*]]>*/</script>\n    <div>\n      <span class=\"chart-total-item-count\"><p data-bind=\"text: value\"><script data-this=\"{&quot;valueId&quot;:&quot;anonad42026f80ec98bf4d596f7bf6796235&quot;,&quot;initialValue&quot;:&quot;30&quot;}\" type=\"text/x-scoped-javascript\">/*<![CDATA[*/\nreq(\n['observable', 'knockout'],\nfunction (O, ko) {\n  ko.applyBindings({\n      value: O.makeObservable(valueId, initialValue)\n    },\n    this\n  );\n});\n        /*]]>*/</script></p> entries total</span>\n      <span class=\"chart-sampling-warning\"><p data-bind=\"text: value\"><script data-this=\"{&quot;valueId&quot;:&quot;anon504da75ad84e815f2e29122ab7f869f3&quot;,&quot;initialValue&quot;:&quot;&quot;}\" type=\"text/x-scoped-javascript\">/*<![CDATA[*/\nreq(\n['observable', 'knockout'],\nfunction (O, ko) {\n  ko.applyBindings({\n      value: O.makeObservable(valueId, initialValue)\n    },\n    this\n  );\n});\n        /*]]>*/</script></p></span>\n      <div>\n      </div>\n    </div></div>\n            </div><div class=\"tab-pane\" id=\"tab1696014314-1\">\n            <div>\n      <script data-this=\"{&quot;dataId&quot;:&quot;anon91e74fd3a65d13f49e39001975821c6f&quot;,&quot;dataInit&quot;:[{&quot;_1&quot;:0,&quot;_2&quot;:31},{&quot;_1&quot;:1,&quot;_2&quot;:31},{&quot;_1&quot;:2,&quot;_2&quot;:31},{&quot;_1&quot;:3,&quot;_2&quot;:31},{&quot;_1&quot;:4,&quot;_2&quot;:31},{&quot;_1&quot;:5,&quot;_2&quot;:31},{&quot;_1&quot;:6,&quot;_2&quot;:31},{&quot;_1&quot;:7,&quot;_2&quot;:31},{&quot;_1&quot;:8,&quot;_2&quot;:31},{&quot;_1&quot;:9,&quot;_2&quot;:31},{&quot;_1&quot;:10,&quot;_2&quot;:31},{&quot;_1&quot;:11,&quot;_2&quot;:31},{&quot;_1&quot;:12,&quot;_2&quot;:31},{&quot;_1&quot;:13,&quot;_2&quot;:31},{&quot;_1&quot;:14,&quot;_2&quot;:31},{&quot;_1&quot;:15,&quot;_2&quot;:31},{&quot;_1&quot;:16,&quot;_2&quot;:31},{&quot;_1&quot;:17,&quot;_2&quot;:31},{&quot;_1&quot;:18,&quot;_2&quot;:31},{&quot;_1&quot;:19,&quot;_2&quot;:31},{&quot;_1&quot;:20,&quot;_2&quot;:31},{&quot;_1&quot;:21,&quot;_2&quot;:31},{&quot;_1&quot;:22,&quot;_2&quot;:31},{&quot;_1&quot;:23,&quot;_2&quot;:31},{&quot;_1&quot;:24,&quot;_2&quot;:31},{&quot;_1&quot;:25,&quot;_2&quot;:31},{&quot;_1&quot;:26,&quot;_2&quot;:31},{&quot;_1&quot;:27,&quot;_2&quot;:31},{&quot;_1&quot;:28,&quot;_2&quot;:31},{&quot;_1&quot;:29,&quot;_2&quot;:31}],&quot;genId&quot;:&quot;619589057&quot;}\" type=\"text/x-scoped-javascript\">/*<![CDATA[*/req(['../javascripts/notebook/playground','../javascripts/notebook/magic/scatterChart'], \n      function(playground, _magicscatterChart) {\n        // data ==> data-this (in observable.js's scopedEval) ==> this in JS => { dataId, dataInit, ... }\n        // this ==> scope (in observable.js's scopedEval) ==> this.parentElement ==> div.container below (toHtml)\n\n        playground.call(data,\n                        this\n                        ,\n                        {\n    \"f\": _magicscatterChart,\n    \"o\": {\"x\":\"_1\",\"y\":\"_2\",\"width\":600,\"height\":400}\n  }\n  \n                        \n                        \n                      );\n      }\n    );/*]]>*/</script>\n    <div>\n      <span class=\"chart-total-item-count\"><p data-bind=\"text: value\"><script data-this=\"{&quot;valueId&quot;:&quot;anona588676e6ba107ecc770d28859e00f4f&quot;,&quot;initialValue&quot;:&quot;30&quot;}\" type=\"text/x-scoped-javascript\">/*<![CDATA[*/\nreq(\n['observable', 'knockout'],\nfunction (O, ko) {\n  ko.applyBindings({\n      value: O.makeObservable(valueId, initialValue)\n    },\n    this\n  );\n});\n        /*]]>*/</script></p> entries total</span>\n      <span class=\"chart-sampling-warning\"><p data-bind=\"text: value\"><script data-this=\"{&quot;valueId&quot;:&quot;anon94a509cf98478b36bfaa166d66914f50&quot;,&quot;initialValue&quot;:&quot;&quot;}\" type=\"text/x-scoped-javascript\">/*<![CDATA[*/\nreq(\n['observable', 'knockout'],\nfunction (O, ko) {\n  ko.applyBindings({\n      value: O.makeObservable(valueId, initialValue)\n    },\n    this\n  );\n});\n        /*]]>*/</script></p></span>\n      <div>\n      </div>\n    </div></div>\n            </div><div class=\"tab-pane\" id=\"tab1696014314-2\">\n            <div>\n      <script data-this=\"{&quot;dataId&quot;:&quot;anonb9a80884992f66cabf2481b912c22771&quot;,&quot;dataInit&quot;:[{&quot;_1&quot;:0,&quot;_2&quot;:31},{&quot;_1&quot;:1,&quot;_2&quot;:31},{&quot;_1&quot;:2,&quot;_2&quot;:31},{&quot;_1&quot;:3,&quot;_2&quot;:31},{&quot;_1&quot;:4,&quot;_2&quot;:31},{&quot;_1&quot;:5,&quot;_2&quot;:31},{&quot;_1&quot;:6,&quot;_2&quot;:31},{&quot;_1&quot;:7,&quot;_2&quot;:31},{&quot;_1&quot;:8,&quot;_2&quot;:31},{&quot;_1&quot;:9,&quot;_2&quot;:31},{&quot;_1&quot;:10,&quot;_2&quot;:31},{&quot;_1&quot;:11,&quot;_2&quot;:31},{&quot;_1&quot;:12,&quot;_2&quot;:31},{&quot;_1&quot;:13,&quot;_2&quot;:31},{&quot;_1&quot;:14,&quot;_2&quot;:31},{&quot;_1&quot;:15,&quot;_2&quot;:31},{&quot;_1&quot;:16,&quot;_2&quot;:31},{&quot;_1&quot;:17,&quot;_2&quot;:31},{&quot;_1&quot;:18,&quot;_2&quot;:31},{&quot;_1&quot;:19,&quot;_2&quot;:31},{&quot;_1&quot;:20,&quot;_2&quot;:31},{&quot;_1&quot;:21,&quot;_2&quot;:31},{&quot;_1&quot;:22,&quot;_2&quot;:31},{&quot;_1&quot;:23,&quot;_2&quot;:31},{&quot;_1&quot;:24,&quot;_2&quot;:31},{&quot;_1&quot;:25,&quot;_2&quot;:31},{&quot;_1&quot;:26,&quot;_2&quot;:31},{&quot;_1&quot;:27,&quot;_2&quot;:31},{&quot;_1&quot;:28,&quot;_2&quot;:31},{&quot;_1&quot;:29,&quot;_2&quot;:31}],&quot;genId&quot;:&quot;1774400883&quot;}\" type=\"text/x-scoped-javascript\">/*<![CDATA[*/req(['../javascripts/notebook/playground','../javascripts/notebook/magic/lineChart'], \n      function(playground, _magiclineChart) {\n        // data ==> data-this (in observable.js's scopedEval) ==> this in JS => { dataId, dataInit, ... }\n        // this ==> scope (in observable.js's scopedEval) ==> this.parentElement ==> div.container below (toHtml)\n\n        playground.call(data,\n                        this\n                        ,\n                        {\n    \"f\": _magiclineChart,\n    \"o\": {\"x\":\"_1\",\"y\":\"_2\",\"width\":600,\"height\":400}\n  }\n  \n                        \n                        \n                      );\n      }\n    );/*]]>*/</script>\n    <div>\n      <span class=\"chart-total-item-count\"><p data-bind=\"text: value\"><script data-this=\"{&quot;valueId&quot;:&quot;anonbc7c001d58bdcb84010ad39a221360be&quot;,&quot;initialValue&quot;:&quot;30&quot;}\" type=\"text/x-scoped-javascript\">/*<![CDATA[*/\nreq(\n['observable', 'knockout'],\nfunction (O, ko) {\n  ko.applyBindings({\n      value: O.makeObservable(valueId, initialValue)\n    },\n    this\n  );\n});\n        /*]]>*/</script></p> entries total</span>\n      <span class=\"chart-sampling-warning\"><p data-bind=\"text: value\"><script data-this=\"{&quot;valueId&quot;:&quot;anon0aa548e01e485b64e3d73a8d844e2282&quot;,&quot;initialValue&quot;:&quot;&quot;}\" type=\"text/x-scoped-javascript\">/*<![CDATA[*/\nreq(\n['observable', 'knockout'],\nfunction (O, ko) {\n  ko.applyBindings({\n      value: O.makeObservable(valueId, initialValue)\n    },\n    this\n  );\n});\n        /*]]>*/</script></p></span>\n      <div>\n      </div>\n    </div></div>\n            </div><div class=\"tab-pane\" id=\"tab1696014314-3\">\n            <div>\n      <script data-this=\"{&quot;dataId&quot;:&quot;anon51aeb521655b8b615104d57f4e0816ef&quot;,&quot;dataInit&quot;:[{&quot;_1&quot;:0,&quot;_2&quot;:31},{&quot;_1&quot;:1,&quot;_2&quot;:31},{&quot;_1&quot;:2,&quot;_2&quot;:31},{&quot;_1&quot;:3,&quot;_2&quot;:31},{&quot;_1&quot;:4,&quot;_2&quot;:31},{&quot;_1&quot;:5,&quot;_2&quot;:31},{&quot;_1&quot;:6,&quot;_2&quot;:31},{&quot;_1&quot;:7,&quot;_2&quot;:31},{&quot;_1&quot;:8,&quot;_2&quot;:31},{&quot;_1&quot;:9,&quot;_2&quot;:31},{&quot;_1&quot;:10,&quot;_2&quot;:31},{&quot;_1&quot;:11,&quot;_2&quot;:31},{&quot;_1&quot;:12,&quot;_2&quot;:31},{&quot;_1&quot;:13,&quot;_2&quot;:31},{&quot;_1&quot;:14,&quot;_2&quot;:31},{&quot;_1&quot;:15,&quot;_2&quot;:31},{&quot;_1&quot;:16,&quot;_2&quot;:31},{&quot;_1&quot;:17,&quot;_2&quot;:31},{&quot;_1&quot;:18,&quot;_2&quot;:31},{&quot;_1&quot;:19,&quot;_2&quot;:31},{&quot;_1&quot;:20,&quot;_2&quot;:31},{&quot;_1&quot;:21,&quot;_2&quot;:31},{&quot;_1&quot;:22,&quot;_2&quot;:31},{&quot;_1&quot;:23,&quot;_2&quot;:31},{&quot;_1&quot;:24,&quot;_2&quot;:31},{&quot;_1&quot;:25,&quot;_2&quot;:31},{&quot;_1&quot;:26,&quot;_2&quot;:31},{&quot;_1&quot;:27,&quot;_2&quot;:31},{&quot;_1&quot;:28,&quot;_2&quot;:31},{&quot;_1&quot;:29,&quot;_2&quot;:31}],&quot;genId&quot;:&quot;1156150571&quot;}\" type=\"text/x-scoped-javascript\">/*<![CDATA[*/req(['../javascripts/notebook/playground','../javascripts/notebook/magic/barChart'], \n      function(playground, _magicbarChart) {\n        // data ==> data-this (in observable.js's scopedEval) ==> this in JS => { dataId, dataInit, ... }\n        // this ==> scope (in observable.js's scopedEval) ==> this.parentElement ==> div.container below (toHtml)\n\n        playground.call(data,\n                        this\n                        ,\n                        {\n    \"f\": _magicbarChart,\n    \"o\": {\"x\":\"_1\",\"y\":\"_2\",\"width\":600,\"height\":400}\n  }\n  \n                        \n                        \n                      );\n      }\n    );/*]]>*/</script>\n    <div>\n      <span class=\"chart-total-item-count\"><p data-bind=\"text: value\"><script data-this=\"{&quot;valueId&quot;:&quot;anon350a59415a8f6a0d462a87b528967e92&quot;,&quot;initialValue&quot;:&quot;30&quot;}\" type=\"text/x-scoped-javascript\">/*<![CDATA[*/\nreq(\n['observable', 'knockout'],\nfunction (O, ko) {\n  ko.applyBindings({\n      value: O.makeObservable(valueId, initialValue)\n    },\n    this\n  );\n});\n        /*]]>*/</script></p> entries total</span>\n      <span class=\"chart-sampling-warning\"><p data-bind=\"text: value\"><script data-this=\"{&quot;valueId&quot;:&quot;anon4e60977410d2fe425f16f612313c5929&quot;,&quot;initialValue&quot;:&quot;&quot;}\" type=\"text/x-scoped-javascript\">/*<![CDATA[*/\nreq(\n['observable', 'knockout'],\nfunction (O, ko) {\n  ko.applyBindings({\n      value: O.makeObservable(valueId, initialValue)\n    },\n    this\n  );\n});\n        /*]]>*/</script></p></span>\n      <div>\n      </div>\n    </div></div>\n            </div><div class=\"tab-pane\" id=\"tab1696014314-4\">\n            <div>\n      <script data-this=\"{&quot;dataId&quot;:&quot;anonbed5a00ef0f32446229d64d7bb96b406&quot;,&quot;dataInit&quot;:[{&quot;_1&quot;:0,&quot;_2&quot;:31},{&quot;_1&quot;:1,&quot;_2&quot;:31},{&quot;_1&quot;:2,&quot;_2&quot;:31},{&quot;_1&quot;:3,&quot;_2&quot;:31},{&quot;_1&quot;:4,&quot;_2&quot;:31},{&quot;_1&quot;:5,&quot;_2&quot;:31},{&quot;_1&quot;:6,&quot;_2&quot;:31},{&quot;_1&quot;:7,&quot;_2&quot;:31},{&quot;_1&quot;:8,&quot;_2&quot;:31},{&quot;_1&quot;:9,&quot;_2&quot;:31},{&quot;_1&quot;:10,&quot;_2&quot;:31},{&quot;_1&quot;:11,&quot;_2&quot;:31},{&quot;_1&quot;:12,&quot;_2&quot;:31},{&quot;_1&quot;:13,&quot;_2&quot;:31},{&quot;_1&quot;:14,&quot;_2&quot;:31},{&quot;_1&quot;:15,&quot;_2&quot;:31},{&quot;_1&quot;:16,&quot;_2&quot;:31},{&quot;_1&quot;:17,&quot;_2&quot;:31},{&quot;_1&quot;:18,&quot;_2&quot;:31},{&quot;_1&quot;:19,&quot;_2&quot;:31},{&quot;_1&quot;:20,&quot;_2&quot;:31},{&quot;_1&quot;:21,&quot;_2&quot;:31},{&quot;_1&quot;:22,&quot;_2&quot;:31},{&quot;_1&quot;:23,&quot;_2&quot;:31},{&quot;_1&quot;:24,&quot;_2&quot;:31},{&quot;_1&quot;:25,&quot;_2&quot;:31},{&quot;_1&quot;:26,&quot;_2&quot;:31},{&quot;_1&quot;:27,&quot;_2&quot;:31},{&quot;_1&quot;:28,&quot;_2&quot;:31},{&quot;_1&quot;:29,&quot;_2&quot;:31}],&quot;genId&quot;:&quot;1153087863&quot;}\" type=\"text/x-scoped-javascript\">/*<![CDATA[*/req(['../javascripts/notebook/playground','../javascripts/notebook/magic/pivotChart'], \n      function(playground, _magicpivotChart) {\n        // data ==> data-this (in observable.js's scopedEval) ==> this in JS => { dataId, dataInit, ... }\n        // this ==> scope (in observable.js's scopedEval) ==> this.parentElement ==> div.container below (toHtml)\n\n        playground.call(data,\n                        this\n                        ,\n                        {\n    \"f\": _magicpivotChart,\n    \"o\": {\"width\":600,\"height\":400,\"derivedAttributes\":{},\"extraOptions\":{}}\n  }\n  \n                        \n                        \n                      );\n      }\n    );/*]]>*/</script>\n    <div>\n      <span class=\"chart-total-item-count\"><p data-bind=\"text: value\"><script data-this=\"{&quot;valueId&quot;:&quot;anon1afd1dd8abbc2d89647497901eb10956&quot;,&quot;initialValue&quot;:&quot;30&quot;}\" type=\"text/x-scoped-javascript\">/*<![CDATA[*/\nreq(\n['observable', 'knockout'],\nfunction (O, ko) {\n  ko.applyBindings({\n      value: O.makeObservable(valueId, initialValue)\n    },\n    this\n  );\n});\n        /*]]>*/</script></p> entries total</span>\n      <span class=\"chart-sampling-warning\"><p data-bind=\"text: value\"><script data-this=\"{&quot;valueId&quot;:&quot;anondadd9620610a8e25cc4d0cce521dc228&quot;,&quot;initialValue&quot;:&quot;&quot;}\" type=\"text/x-scoped-javascript\">/*<![CDATA[*/\nreq(\n['observable', 'knockout'],\nfunction (O, ko) {\n  ko.applyBindings({\n      value: O.makeObservable(valueId, initialValue)\n    },\n    this\n  );\n});\n        /*]]>*/</script></p></span>\n      <div>\n      </div>\n    </div></div>\n            </div></div>\n      </div>\n    </div></div>"
          },
          "output_type" : "execute_result",
          "execution_count" : 14,
          "time" : "Took: 4.669s, at 2018-02-08 04:19"
        }
      ]
    },
    {
      "metadata" : {
        "id" : "FF63C855A5E24DEFA082F136D115A983"
      },
      "cell_type" : "markdown",
      "source" : "# From RDD[SpatialKey, Tile] to Raster"
    },
    {
      "metadata" : {
        "trusted" : true,
        "input_collapsed" : false,
        "collapsed" : false,
        "id" : "B06259F4F2C444129D62A7AB6022F861"
      },
      "cell_type" : "code",
      "source" : [
        "// To be able to save to HDFS, we always need to convert RDD[ProjectedExtent, Tile] to Raster[Tile]\n",
        "// Here, we have many Tiles in this RDD, so we need to stitch all of them together\n",
        "// In this version of Geotrellis, we always have inside RDD multiple Tile (SingleBand or MultiBand)\n",
        "val raster = ContextRDD(tiles, metadata).stitch"
      ],
      "outputs" : [
        {
          "name" : "stdout",
          "output_type" : "stream",
          "text" : "raster: geotrellis.raster.Raster[geotrellis.raster.Tile] = Raster(DoubleConstantNoDataArrayTile([D@2464cbd3,7680,7936),Extent(528585.0, 1156335.0, 758985.0, 1394415.0))\n"
        },
        {
          "metadata" : { },
          "data" : {
            "text/html" : ""
          },
          "output_type" : "execute_result",
          "execution_count" : 15,
          "time" : "Took: 3.966s, at 2018-02-08 04:19"
        }
      ]
    },
    {
      "metadata" : {
        "id" : "A949E1147C614DA58E478178F68F4F96"
      },
      "cell_type" : "markdown",
      "source" : "# From Raster to GeoTiff\n\nGeoTiff is raster data, but raster data needs to include CRS to become GeoTiff!"
    },
    {
      "metadata" : {
        "trusted" : true,
        "input_collapsed" : false,
        "collapsed" : false,
        "id" : "D1A3F3383AF54D659F6B71E0EBC7FA8C"
      },
      "cell_type" : "code",
      "source" : [
        "val geotiff = GeoTiff(raster, metadata.crs)"
      ],
      "outputs" : [
        {
          "name" : "stdout",
          "output_type" : "stream",
          "text" : "geotiff: geotrellis.raster.io.geotiff.SinglebandGeoTiff = SinglebandGeoTiff(DoubleConstantNoDataArrayTile([D@4de0e9c9,7680,7936),Extent(528585.0, 1156335.0, 758985.0, 1394415.0),EPSG:32648,Tags(Map(),List()),GeoTiffOptions(geotrellis.raster.io.geotiff.Striped@36dc0b51,geotrellis.raster.io.geotiff.compression.NoCompression$@6a859299,1,None))\n"
        },
        {
          "metadata" : { },
          "data" : {
            "text/html" : ""
          },
          "output_type" : "execute_result",
          "execution_count" : 17,
          "time" : "Took: 1.022s, at 2018-01-26 09:32"
        }
      ]
    }
  ],
  "nbformat" : 4
}