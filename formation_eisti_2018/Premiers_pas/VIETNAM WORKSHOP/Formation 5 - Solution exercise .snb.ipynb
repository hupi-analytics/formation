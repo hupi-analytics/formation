{
  "metadata" : {
    "id" : "bcc5c29f-80a0-4856-9c14-00c4ca49e288",
    "name" : "Formation 5 - Solution exercise ",
    "user_save_timestamp" : "1970-01-01T00:00:00.000Z",
    "auto_save_timestamp" : "1970-01-01T00:00:00.000Z",
    "language_info" : {
      "name" : "scala",
      "file_extension" : "scala",
      "codemirror_mode" : "text/x-scala"
    },
    "trusted" : true,
    "sparkNotebook" : null,
    "customLocalRepo" : null,
    "customRepos" : null,
    "customDeps" : [
      "org.mongodb.spark %% mongo-spark-connector % 2.1.0",
      "org.mongodb %% bson % 3.5.0"
    ],
    "customImports" : null,
    "customArgs" : null,
    "customSparkConf" : null,
    "customVars" : null
  },
  "cells" : [
    {
      "metadata" : {
        "id" : "69E1DBB6815249F695137621B1D60C2B"
      },
      "cell_type" : "markdown",
      "source" : "Here you can find the solution of exercise 1!\n\n### Read dataset (json format) from HDFS\n\nHere we use the dataset from hdfs://hupi-factory-02-01-01-01/user/hupi/dataset_torusVN/geoVietNam.json\n\nThe target variable will be temperature daily mean and the variables descriptives are : \n- High cloud cover daily mean\n- Low cloud cover daily mean\n- Mean Sea Level Pressure daily mean\n- Medium cloud cover daily mean\n- Relative humidity daily mean\n- Shortwave Radiation - backwards daily sum\n- Total Precipitation daily sum\n- Total cloud cover daily mean"
    },
    {
      "metadata" : {
        "trusted" : true,
        "input_collapsed" : false,
        "collapsed" : false,
        "id" : "0D38534BF68143DEBC792B0B58387773"
      },
      "cell_type" : "code",
      "source" : [
        "import org.apache.spark.sql.SparkSession\n",
        "\n",
        "val sparkSession = SparkSession\n",
        "  .builder()\n",
        "  .appName(\"linearRegModel_solution\")\n",
        "  .getOrCreate()\n",
        "\n",
        "// For implicit conversions like converting RDDs to DataFrames\n",
        "import sparkSession.implicits._\n",
        "\n",
        "val df = sparkSession.read.json(\"hdfs://hupi-factory-02-01-01-01/user/hupi/dataset_torusVN/geoVN.json\")"
      ],
      "outputs" : [
        {
          "name" : "stdout",
          "output_type" : "stream",
          "text" : "import org.apache.spark.sql.SparkSession\nsparkSession: org.apache.spark.sql.SparkSession = org.apache.spark.sql.SparkSession@481dd3c6\nimport sparkSession.implicits._\ndf: org.apache.spark.sql.DataFrame = [_corrupt_record: string]\n"
        },
        {
          "metadata" : { },
          "data" : {
            "text/html" : ""
          },
          "output_type" : "execute_result",
          "execution_count" : 2,
          "time" : "Took: 1.819s, at 2017-09-06 09:39"
        }
      ]
    },
    {
      "metadata" : {
        "trusted" : true,
        "input_collapsed" : false,
        "collapsed" : false,
        "id" : "82699A21D42B46578CC554CAC72B7A95"
      },
      "cell_type" : "code",
      "source" : [
        "df.show()"
      ],
      "outputs" : [
        {
          "name" : "stdout",
          "output_type" : "stream",
          "text" : "+--------------------+\n|     _corrupt_record|\n+--------------------+\n|                   [|\n|                   {|\n|       \"Year\": 2017,|\n|         \"Month\": 8,|\n|          \"Day\": 23,|\n|    \"City\": \"Ho C...|\n|      \"Lat\": 10.823,|\n|      \"Lon\": 106.63,|\n|    \"timestamp\": ...|\n|    \"Temperature ...|\n|    \"Relative hum...|\n|    \"Mean Sea Lev...|\n|    \"Total Precip...|\n|    \"Total cloud ...|\n|    \"High cloud c...|\n|    \"Medium cloud...|\n|    \"Low cloud co...|\n|    \"Shortwave Ra...|\n|    \"datestamp\":\"...|\n|                  },|\n+--------------------+\nonly showing top 20 rows\n\n"
        },
        {
          "metadata" : { },
          "data" : {
            "text/html" : ""
          },
          "output_type" : "execute_result",
          "execution_count" : 2,
          "time" : "Took: 4.186s, at 2017-09-06 06:53"
        }
      ]
    },
    {
      "metadata" : {
        "id" : "05D610D065824402B24AE50B20F37EBB"
      },
      "cell_type" : "markdown",
      "source" : "### The result is strange! it's not what you are expecting, right? \n\nIt's because the format of json needed in Spark is 1 object per line, here we have 1 object with multi-lines, so this code won't work, we should do this way.."
    },
    {
      "metadata" : {
        "trusted" : true,
        "input_collapsed" : false,
        "collapsed" : false,
        "presentation" : {
          "tabs_state" : "{\n  \"tab_id\": \"#tab1501212251-0\"\n}",
          "pivot_chart_state" : "{\n  \"hiddenAttributes\": [],\n  \"menuLimit\": 200,\n  \"cols\": [],\n  \"rows\": [],\n  \"vals\": [],\n  \"exclusions\": {},\n  \"inclusions\": {},\n  \"unusedAttrsVertical\": 85,\n  \"autoSortUnusedAttrs\": false,\n  \"inclusionsInfo\": {},\n  \"aggregatorName\": \"Count\",\n  \"rendererName\": \"Table\"\n}"
        },
        "id" : "7D20B9182CD34E1887E1AC69C21C695D"
      },
      "cell_type" : "code",
      "source" : [
        "val df = sparkSession.read.json(sparkContext.wholeTextFiles(\"hdfs://hupi-factory-02-01-01-01/user/hupi/dataset_torusVN/geoVN.json\").values)  "
      ],
      "outputs" : [
        {
          "name" : "stdout",
          "output_type" : "stream",
          "text" : "df: org.apache.spark.sql.DataFrame = [City: string, Day: bigint ... 15 more fields]\n"
        },
        {
          "metadata" : { },
          "data" : {
            "text/html" : ""
          },
          "output_type" : "execute_result",
          "execution_count" : 3,
          "time" : "Took: 1.367s, at 2017-09-06 09:40"
        }
      ]
    },
    {
      "metadata" : {
        "trusted" : true,
        "input_collapsed" : false,
        "collapsed" : false,
        "presentation" : {
          "tabs_state" : "{\n  \"tab_id\": \"#tab594551794-0\"\n}",
          "pivot_chart_state" : "{\n  \"hiddenAttributes\": [],\n  \"menuLimit\": 200,\n  \"cols\": [],\n  \"rows\": [],\n  \"vals\": [],\n  \"exclusions\": {},\n  \"inclusions\": {},\n  \"unusedAttrsVertical\": 85,\n  \"autoSortUnusedAttrs\": false,\n  \"inclusionsInfo\": {},\n  \"aggregatorName\": \"Count\",\n  \"rendererName\": \"Table\"\n}"
        },
        "id" : "4350A09EB48640BA805CB74960005A05"
      },
      "cell_type" : "code",
      "source" : [
        "df.take(2)"
      ],
      "outputs" : [
        {
          "name" : "stdout",
          "output_type" : "stream",
          "text" : "res79: Array[org.apache.spark.sql.Row] = Array([Ho Chi Minh,23,85.08,10.823,106.63,42.42,1007.0,89.46,8,86.92,2094.17,26.27,9.4,89.92,2017,23-08-2017,1503439200], [Ho Chi Minh,24,44.92,10.823,106.63,31.29,1007.35,70.12,8,82.5,3365.09,27.16,2.6,72.88,2017,24-08-2017,1503525600])\n"
        },
        {
          "metadata" : { },
          "data" : {
            "text/html" : "<div>\n      <script data-this=\"{&quot;dataId&quot;:&quot;anon88da4359ad7d18e829998610a0df41ab&quot;,&quot;dataInit&quot;:[],&quot;genId&quot;:&quot;594551794&quot;}\" type=\"text/x-scoped-javascript\">/*<![CDATA[*/req(['../javascripts/notebook/playground','../javascripts/notebook/magic/tabs'], \n      function(playground, _magictabs) {\n        // data ==> data-this (in observable.js's scopedEval) ==> this in JS => { dataId, dataInit, ... }\n        // this ==> scope (in observable.js's scopedEval) ==> this.parentElement ==> div.container below (toHtml)\n\n        playground.call(data,\n                        this\n                        ,\n                        {\n    \"f\": _magictabs,\n    \"o\": {}\n  }\n  \n                        \n                        \n                      );\n      }\n    );/*]]>*/</script>\n    <div>\n      <div>\n        <ul class=\"nav nav-tabs\" id=\"ul594551794\"><li>\n              <a href=\"#tab594551794-0\"><i class=\"fa fa-table\"/></a>\n            </li><li>\n              <a href=\"#tab594551794-1\"><i class=\"fa fa-cubes\"/></a>\n            </li></ul>\n\n        <div class=\"tab-content\" id=\"tab594551794\"><div class=\"tab-pane\" id=\"tab594551794-0\">\n            <div>\n      <script data-this=\"{&quot;dataId&quot;:&quot;anon2fc8db61c7bdb06b215f55da3d94b0bc&quot;,&quot;dataInit&quot;:[{&quot;Low cloud cover daily mean [low cld lay]&quot;:42.42,&quot;Shortwave Radiation - backwards daily sum [sfc]&quot;:2094.17,&quot;timestamp&quot;:1503439200,&quot;Temperature daily mean [2 m above gnd]&quot;:26.27,&quot;Month&quot;:8,&quot;Lon&quot;:106.63,&quot;Lat&quot;:10.823,&quot;High cloud cover daily mean [high cld lay]&quot;:85.08,&quot;datestamp&quot;:&quot;23-08-2017&quot;,&quot;Year&quot;:2017,&quot;Medium cloud cover daily mean [mid cld lay]&quot;:89.46,&quot;Day&quot;:23,&quot;Relative humidity daily mean [2 m above gnd]&quot;:86.92,&quot;Total Precipitation daily sum [sfc]&quot;:9.4,&quot;City&quot;:&quot;Ho Chi Minh&quot;,&quot;Mean Sea Level Pressure daily mean [MSL]&quot;:1007,&quot;Total cloud cover daily mean [sfc]&quot;:89.92},{&quot;Low cloud cover daily mean [low cld lay]&quot;:31.29,&quot;Shortwave Radiation - backwards daily sum [sfc]&quot;:3365.09,&quot;timestamp&quot;:1503525600,&quot;Temperature daily mean [2 m above gnd]&quot;:27.16,&quot;Month&quot;:8,&quot;Lon&quot;:106.63,&quot;Lat&quot;:10.823,&quot;High cloud cover daily mean [high cld lay]&quot;:44.92,&quot;datestamp&quot;:&quot;24-08-2017&quot;,&quot;Year&quot;:2017,&quot;Medium cloud cover daily mean [mid cld lay]&quot;:70.12,&quot;Day&quot;:24,&quot;Relative humidity daily mean [2 m above gnd]&quot;:82.5,&quot;Total Precipitation daily sum [sfc]&quot;:2.6,&quot;City&quot;:&quot;Ho Chi Minh&quot;,&quot;Mean Sea Level Pressure daily mean [MSL]&quot;:1007.35,&quot;Total cloud cover daily mean [sfc]&quot;:72.88}],&quot;genId&quot;:&quot;906557635&quot;}\" type=\"text/x-scoped-javascript\">/*<![CDATA[*/req(['../javascripts/notebook/playground','../javascripts/notebook/magic/tableChart'], \n      function(playground, _magictableChart) {\n        // data ==> data-this (in observable.js's scopedEval) ==> this in JS => { dataId, dataInit, ... }\n        // this ==> scope (in observable.js's scopedEval) ==> this.parentElement ==> div.container below (toHtml)\n\n        playground.call(data,\n                        this\n                        ,\n                        {\n    \"f\": _magictableChart,\n    \"o\": {\"headers\":[\"City\",\"Day\",\"High cloud cover daily mean [high cld lay]\",\"Lat\",\"Lon\",\"Low cloud cover daily mean [low cld lay]\",\"Mean Sea Level Pressure daily mean [MSL]\",\"Medium cloud cover daily mean [mid cld lay]\",\"Month\",\"Relative humidity daily mean [2 m above gnd]\",\"Shortwave Radiation - backwards daily sum [sfc]\",\"Temperature daily mean [2 m above gnd]\",\"Total Precipitation daily sum [sfc]\",\"Total cloud cover daily mean [sfc]\",\"Year\",\"datestamp\",\"timestamp\"],\"width\":600,\"height\":400}\n  }\n  \n                        \n                        \n                      );\n      }\n    );/*]]>*/</script>\n    <div>\n      <span class=\"chart-total-item-count\"><p data-bind=\"text: value\"><script data-this=\"{&quot;valueId&quot;:&quot;anonfd3c958686373c0badd5012d3bb57414&quot;,&quot;initialValue&quot;:&quot;2&quot;}\" type=\"text/x-scoped-javascript\">/*<![CDATA[*/\nreq(\n['observable', 'knockout'],\nfunction (O, ko) {\n  ko.applyBindings({\n      value: O.makeObservable(valueId, initialValue)\n    },\n    this\n  );\n});\n        /*]]>*/</script></p> entries total</span>\n      <span class=\"chart-sampling-warning\"><p data-bind=\"text: value\"><script data-this=\"{&quot;valueId&quot;:&quot;anon3d20ac4602e13b8b43f7e7c92e9f0da8&quot;,&quot;initialValue&quot;:&quot;&quot;}\" type=\"text/x-scoped-javascript\">/*<![CDATA[*/\nreq(\n['observable', 'knockout'],\nfunction (O, ko) {\n  ko.applyBindings({\n      value: O.makeObservable(valueId, initialValue)\n    },\n    this\n  );\n});\n        /*]]>*/</script></p></span>\n      <div>\n      </div>\n    </div></div>\n            </div><div class=\"tab-pane\" id=\"tab594551794-1\">\n            <div>\n      <script data-this=\"{&quot;dataId&quot;:&quot;anonecfc9bb4ce2e022b311d75fa0c41ca66&quot;,&quot;dataInit&quot;:[{&quot;Low cloud cover daily mean [low cld lay]&quot;:42.42,&quot;Shortwave Radiation - backwards daily sum [sfc]&quot;:2094.17,&quot;timestamp&quot;:1503439200,&quot;Temperature daily mean [2 m above gnd]&quot;:26.27,&quot;Month&quot;:8,&quot;Lon&quot;:106.63,&quot;Lat&quot;:10.823,&quot;High cloud cover daily mean [high cld lay]&quot;:85.08,&quot;datestamp&quot;:&quot;23-08-2017&quot;,&quot;Year&quot;:2017,&quot;Medium cloud cover daily mean [mid cld lay]&quot;:89.46,&quot;Day&quot;:23,&quot;Relative humidity daily mean [2 m above gnd]&quot;:86.92,&quot;Total Precipitation daily sum [sfc]&quot;:9.4,&quot;City&quot;:&quot;Ho Chi Minh&quot;,&quot;Mean Sea Level Pressure daily mean [MSL]&quot;:1007,&quot;Total cloud cover daily mean [sfc]&quot;:89.92},{&quot;Low cloud cover daily mean [low cld lay]&quot;:31.29,&quot;Shortwave Radiation - backwards daily sum [sfc]&quot;:3365.09,&quot;timestamp&quot;:1503525600,&quot;Temperature daily mean [2 m above gnd]&quot;:27.16,&quot;Month&quot;:8,&quot;Lon&quot;:106.63,&quot;Lat&quot;:10.823,&quot;High cloud cover daily mean [high cld lay]&quot;:44.92,&quot;datestamp&quot;:&quot;24-08-2017&quot;,&quot;Year&quot;:2017,&quot;Medium cloud cover daily mean [mid cld lay]&quot;:70.12,&quot;Day&quot;:24,&quot;Relative humidity daily mean [2 m above gnd]&quot;:82.5,&quot;Total Precipitation daily sum [sfc]&quot;:2.6,&quot;City&quot;:&quot;Ho Chi Minh&quot;,&quot;Mean Sea Level Pressure daily mean [MSL]&quot;:1007.35,&quot;Total cloud cover daily mean [sfc]&quot;:72.88}],&quot;genId&quot;:&quot;1808138692&quot;}\" type=\"text/x-scoped-javascript\">/*<![CDATA[*/req(['../javascripts/notebook/playground','../javascripts/notebook/magic/pivotChart'], \n      function(playground, _magicpivotChart) {\n        // data ==> data-this (in observable.js's scopedEval) ==> this in JS => { dataId, dataInit, ... }\n        // this ==> scope (in observable.js's scopedEval) ==> this.parentElement ==> div.container below (toHtml)\n\n        playground.call(data,\n                        this\n                        ,\n                        {\n    \"f\": _magicpivotChart,\n    \"o\": {\"width\":600,\"height\":400,\"derivedAttributes\":{},\"extraOptions\":{}}\n  }\n  \n                        \n                        \n                      );\n      }\n    );/*]]>*/</script>\n    <div>\n      <span class=\"chart-total-item-count\"><p data-bind=\"text: value\"><script data-this=\"{&quot;valueId&quot;:&quot;anon176a1ef8172d7b0698db8f96bb209100&quot;,&quot;initialValue&quot;:&quot;2&quot;}\" type=\"text/x-scoped-javascript\">/*<![CDATA[*/\nreq(\n['observable', 'knockout'],\nfunction (O, ko) {\n  ko.applyBindings({\n      value: O.makeObservable(valueId, initialValue)\n    },\n    this\n  );\n});\n        /*]]>*/</script></p> entries total</span>\n      <span class=\"chart-sampling-warning\"><p data-bind=\"text: value\"><script data-this=\"{&quot;valueId&quot;:&quot;anon3f7f461fc103b508cb2c46960331f9e0&quot;,&quot;initialValue&quot;:&quot;&quot;}\" type=\"text/x-scoped-javascript\">/*<![CDATA[*/\nreq(\n['observable', 'knockout'],\nfunction (O, ko) {\n  ko.applyBindings({\n      value: O.makeObservable(valueId, initialValue)\n    },\n    this\n  );\n});\n        /*]]>*/</script></p></span>\n      <div>\n      </div>\n    </div></div>\n            </div></div>\n      </div>\n    </div></div>"
          },
          "output_type" : "execute_result",
          "execution_count" : 46,
          "time" : "Took: 1.318s, at 2017-09-05 09:29"
        }
      ]
    },
    {
      "metadata" : {
        "trusted" : true,
        "input_collapsed" : false,
        "collapsed" : false,
        "presentation" : {
          "tabs_state" : "{\n  \"tab_id\": \"#tab591601986-0\"\n}",
          "pivot_chart_state" : "{\n  \"hiddenAttributes\": [],\n  \"menuLimit\": 200,\n  \"cols\": [],\n  \"rows\": [],\n  \"vals\": [],\n  \"exclusions\": {},\n  \"inclusions\": {},\n  \"unusedAttrsVertical\": 85,\n  \"autoSortUnusedAttrs\": false,\n  \"inclusionsInfo\": {},\n  \"aggregatorName\": \"Count\",\n  \"rendererName\": \"Table\"\n}"
        },
        "id" : "9D114AF58DBD47B484C9297FA57ABE6C"
      },
      "cell_type" : "code",
      "source" : [
        "// List of differents cities in the dataset\n",
        "df.select(\"City\").distinct.take(50)"
      ],
      "outputs" : [
        {
          "name" : "stdout",
          "output_type" : "stream",
          "text" : "res4: Array[org.apache.spark.sql.Row] = Array([Da Nang], [Can Tho], [Hue], [Ha Noi], [Ho Chi Minh])\n"
        },
        {
          "metadata" : { },
          "data" : {
            "text/html" : "<div>\n      <script data-this=\"{&quot;dataId&quot;:&quot;anonc64bba1eae5b1987946246b2caf74d27&quot;,&quot;dataInit&quot;:[],&quot;genId&quot;:&quot;591601986&quot;}\" type=\"text/x-scoped-javascript\">/*<![CDATA[*/req(['../javascripts/notebook/playground','../javascripts/notebook/magic/tabs'], \n      function(playground, _magictabs) {\n        // data ==> data-this (in observable.js's scopedEval) ==> this in JS => { dataId, dataInit, ... }\n        // this ==> scope (in observable.js's scopedEval) ==> this.parentElement ==> div.container below (toHtml)\n\n        playground.call(data,\n                        this\n                        ,\n                        {\n    \"f\": _magictabs,\n    \"o\": {}\n  }\n  \n                        \n                        \n                      );\n      }\n    );/*]]>*/</script>\n    <div>\n      <div>\n        <ul class=\"nav nav-tabs\" id=\"ul591601986\"><li>\n              <a href=\"#tab591601986-0\"><i class=\"fa fa-table\"/></a>\n            </li><li>\n              <a href=\"#tab591601986-1\"><i class=\"fa fa-cubes\"/></a>\n            </li></ul>\n\n        <div class=\"tab-content\" id=\"tab591601986\"><div class=\"tab-pane\" id=\"tab591601986-0\">\n            <div>\n      <script data-this=\"{&quot;dataId&quot;:&quot;anon2c804afbd9da84f8e757f0059358f0ae&quot;,&quot;dataInit&quot;:[{&quot;City&quot;:&quot;Da Nang&quot;},{&quot;City&quot;:&quot;Can Tho&quot;},{&quot;City&quot;:&quot;Hue&quot;},{&quot;City&quot;:&quot;Ha Noi&quot;},{&quot;City&quot;:&quot;Ho Chi Minh&quot;}],&quot;genId&quot;:&quot;592905512&quot;}\" type=\"text/x-scoped-javascript\">/*<![CDATA[*/req(['../javascripts/notebook/playground','../javascripts/notebook/magic/tableChart'], \n      function(playground, _magictableChart) {\n        // data ==> data-this (in observable.js's scopedEval) ==> this in JS => { dataId, dataInit, ... }\n        // this ==> scope (in observable.js's scopedEval) ==> this.parentElement ==> div.container below (toHtml)\n\n        playground.call(data,\n                        this\n                        ,\n                        {\n    \"f\": _magictableChart,\n    \"o\": {\"headers\":[\"City\"],\"width\":600,\"height\":400}\n  }\n  \n                        \n                        \n                      );\n      }\n    );/*]]>*/</script>\n    <div>\n      <span class=\"chart-total-item-count\"><p data-bind=\"text: value\"><script data-this=\"{&quot;valueId&quot;:&quot;anon88681cbc99a6b4290c6a72bf2695e026&quot;,&quot;initialValue&quot;:&quot;5&quot;}\" type=\"text/x-scoped-javascript\">/*<![CDATA[*/\nreq(\n['observable', 'knockout'],\nfunction (O, ko) {\n  ko.applyBindings({\n      value: O.makeObservable(valueId, initialValue)\n    },\n    this\n  );\n});\n        /*]]>*/</script></p> entries total</span>\n      <span class=\"chart-sampling-warning\"><p data-bind=\"text: value\"><script data-this=\"{&quot;valueId&quot;:&quot;anon22560e0e3dfcfc673fd41ccaa5876af0&quot;,&quot;initialValue&quot;:&quot;&quot;}\" type=\"text/x-scoped-javascript\">/*<![CDATA[*/\nreq(\n['observable', 'knockout'],\nfunction (O, ko) {\n  ko.applyBindings({\n      value: O.makeObservable(valueId, initialValue)\n    },\n    this\n  );\n});\n        /*]]>*/</script></p></span>\n      <div>\n      </div>\n    </div></div>\n            </div><div class=\"tab-pane\" id=\"tab591601986-1\">\n            <div>\n      <script data-this=\"{&quot;dataId&quot;:&quot;anon8f843c2fc92f53f731d191317ca10895&quot;,&quot;dataInit&quot;:[{&quot;City&quot;:&quot;Da Nang&quot;},{&quot;City&quot;:&quot;Can Tho&quot;},{&quot;City&quot;:&quot;Hue&quot;},{&quot;City&quot;:&quot;Ha Noi&quot;},{&quot;City&quot;:&quot;Ho Chi Minh&quot;}],&quot;genId&quot;:&quot;1245440613&quot;}\" type=\"text/x-scoped-javascript\">/*<![CDATA[*/req(['../javascripts/notebook/playground','../javascripts/notebook/magic/pivotChart'], \n      function(playground, _magicpivotChart) {\n        // data ==> data-this (in observable.js's scopedEval) ==> this in JS => { dataId, dataInit, ... }\n        // this ==> scope (in observable.js's scopedEval) ==> this.parentElement ==> div.container below (toHtml)\n\n        playground.call(data,\n                        this\n                        ,\n                        {\n    \"f\": _magicpivotChart,\n    \"o\": {\"width\":600,\"height\":400,\"derivedAttributes\":{},\"extraOptions\":{}}\n  }\n  \n                        \n                        \n                      );\n      }\n    );/*]]>*/</script>\n    <div>\n      <span class=\"chart-total-item-count\"><p data-bind=\"text: value\"><script data-this=\"{&quot;valueId&quot;:&quot;anon3258c48e56d0be91717f27c83be1a69c&quot;,&quot;initialValue&quot;:&quot;5&quot;}\" type=\"text/x-scoped-javascript\">/*<![CDATA[*/\nreq(\n['observable', 'knockout'],\nfunction (O, ko) {\n  ko.applyBindings({\n      value: O.makeObservable(valueId, initialValue)\n    },\n    this\n  );\n});\n        /*]]>*/</script></p> entries total</span>\n      <span class=\"chart-sampling-warning\"><p data-bind=\"text: value\"><script data-this=\"{&quot;valueId&quot;:&quot;anon7068afc4f8847b25291fbebab0701e30&quot;,&quot;initialValue&quot;:&quot;&quot;}\" type=\"text/x-scoped-javascript\">/*<![CDATA[*/\nreq(\n['observable', 'knockout'],\nfunction (O, ko) {\n  ko.applyBindings({\n      value: O.makeObservable(valueId, initialValue)\n    },\n    this\n  );\n});\n        /*]]>*/</script></p></span>\n      <div>\n      </div>\n    </div></div>\n            </div></div>\n      </div>\n    </div></div>"
          },
          "output_type" : "execute_result",
          "execution_count" : 4,
          "time" : "Took: 2.745s, at 2017-09-06 09:41"
        }
      ]
    },
    {
      "metadata" : {
        "trusted" : true,
        "input_collapsed" : false,
        "collapsed" : false,
        "id" : "AACB121EDB034612A3CCE5A3DA1B2D8E"
      },
      "cell_type" : "code",
      "source" : [
        "df.printSchema()"
      ],
      "outputs" : [
        {
          "name" : "stdout",
          "output_type" : "stream",
          "text" : "root\n |-- City: string (nullable = true)\n |-- Day: long (nullable = true)\n |-- High cloud cover daily mean [high cld lay]: double (nullable = true)\n |-- Lat: double (nullable = true)\n |-- Lon: double (nullable = true)\n |-- Low cloud cover daily mean [low cld lay]: double (nullable = true)\n |-- Mean Sea Level Pressure daily mean [MSL]: double (nullable = true)\n |-- Medium cloud cover daily mean [mid cld lay]: double (nullable = true)\n |-- Month: long (nullable = true)\n |-- Relative humidity daily mean [2 m above gnd]: double (nullable = true)\n |-- Shortwave Radiation - backwards daily sum [sfc]: double (nullable = true)\n |-- Temperature daily mean [2 m above gnd]: double (nullable = true)\n |-- Total Precipitation daily sum [sfc]: double (nullable = true)\n |-- Total cloud cover daily mean [sfc]: double (nullable = true)\n |-- Year: long (nullable = true)\n |-- datestamp: string (nullable = true)\n |-- timestamp: long (nullable = true)\n\n"
        },
        {
          "metadata" : { },
          "data" : {
            "text/html" : ""
          },
          "output_type" : "execute_result",
          "execution_count" : 5,
          "time" : "Took: 1.061s, at 2017-09-06 09:41"
        }
      ]
    },
    {
      "metadata" : {
        "id" : "38A28565EC8F42698D678C70FC3871A3"
      },
      "cell_type" : "markdown",
      "source" : "### Description of data "
    },
    {
      "metadata" : {
        "trusted" : true,
        "input_collapsed" : false,
        "collapsed" : false,
        "id" : "79725F389FFC495792E1579E1CCC36E2"
      },
      "cell_type" : "code",
      "source" : [
        "// Number of elements in data\n",
        "df.count()"
      ],
      "outputs" : [
        {
          "name" : "stdout",
          "output_type" : "stream",
          "text" : "res8: Long = 40\n"
        },
        {
          "metadata" : { },
          "data" : {
            "text/html" : "40"
          },
          "output_type" : "execute_result",
          "execution_count" : 6,
          "time" : "Took: 1.296s, at 2017-09-06 09:41"
        }
      ]
    },
    {
      "metadata" : {
        "id" : "F49ED1FF3D0342F7BFA00F0B895C5692"
      },
      "cell_type" : "markdown",
      "source" : "#### Statistics summary "
    },
    {
      "metadata" : {
        "trusted" : true,
        "input_collapsed" : false,
        "collapsed" : false,
        "id" : "4430EB202C68448082900331B7EE828B"
      },
      "cell_type" : "code",
      "source" : [
        "import org.apache.spark.mllib.linalg.Vectors\n",
        "import org.apache.spark.mllib.stat.{MultivariateStatisticalSummary, Statistics}"
      ],
      "outputs" : [
        {
          "name" : "stdout",
          "output_type" : "stream",
          "text" : "import org.apache.spark.mllib.linalg.Vectors\nimport org.apache.spark.mllib.stat.{MultivariateStatisticalSummary, Statistics}\n"
        },
        {
          "metadata" : { },
          "data" : {
            "text/html" : ""
          },
          "output_type" : "execute_result",
          "execution_count" : 8,
          "time" : "Took: 0.708s, at 2017-09-06 09:42"
        }
      ]
    },
    {
      "metadata" : {
        "trusted" : true,
        "input_collapsed" : false,
        "collapsed" : false,
        "id" : "13641E5ABEDF4B6C94F21C4776CB61DE"
      },
      "cell_type" : "code",
      "source" : [
        "// Convert df to RDD to be able to use the library MultiVariateStatisticalSummary. Here we choose only the necessary variables\n",
        "val rdd = df.drop(\"City\").drop(\"Day\").drop(\"Year\").drop(\"Month\").drop(\"timestamp\").drop(\"Lat\").drop(\"Lon\").drop(\"datestamp\")\n",
        "            .map(l => (l(6).asInstanceOf[Double], l(1).asInstanceOf[Double], l(2).asInstanceOf[Double],\n",
        "                       l(3).asInstanceOf[Double], l(4).asInstanceOf[Double], l(5).asInstanceOf[Double],\n",
        "                       l(0).asInstanceOf[Double], l(7).asInstanceOf[Double], l(8).asInstanceOf[Double])).rdd"
      ],
      "outputs" : [
        {
          "name" : "stdout",
          "output_type" : "stream",
          "text" : "rdd: org.apache.spark.rdd.RDD[(Double, Double, Double, Double, Double, Double, Double, Double, Double)] = MapPartitionsRDD[27] at rdd at <console>:102\n"
        },
        {
          "metadata" : { },
          "data" : {
            "text/html" : ""
          },
          "output_type" : "execute_result",
          "execution_count" : 16,
          "time" : "Took: 1.657s, at 2017-09-06 09:44"
        }
      ]
    },
    {
      "metadata" : {
        "trusted" : true,
        "input_collapsed" : false,
        "collapsed" : false,
        "presentation" : {
          "tabs_state" : "{\n  \"tab_id\": \"#tab2035949122-0\"\n}",
          "pivot_chart_state" : "{\n  \"hiddenAttributes\": [],\n  \"menuLimit\": 200,\n  \"cols\": [],\n  \"rows\": [],\n  \"vals\": [],\n  \"exclusions\": {},\n  \"inclusions\": {},\n  \"unusedAttrsVertical\": 85,\n  \"autoSortUnusedAttrs\": false,\n  \"inclusionsInfo\": {},\n  \"aggregatorName\": \"Count\",\n  \"rendererName\": \"Table\"\n}"
        },
        "id" : "4E49FF91D12D463B81F71EBCB0F90302"
      },
      "cell_type" : "code",
      "source" : [
        "rdd.collect()"
      ],
      "outputs" : [
        {
          "name" : "stdout",
          "output_type" : "stream",
          "text" : "res35: Array[(Double, Double, Double, Double, Double, Double, Double, Double, Double)] = Array((26.27,42.42,1007.0,89.46,86.92,2094.17,85.08,9.4,89.92), (27.16,31.29,1007.35,70.12,82.5,3365.09,44.92,2.6,72.88), (26.68,42.5,1007.31,84.71,86.17,2028.31,78.04,10.0,85.28), (26.49,60.21,1005.54,66.5,87.83,1682.99,62.83,14.4,73.17), (26.42,61.5,1005.94,97.12,86.46,2837.32,49.08,4.3,97.12), (26.32,71.67,1007.61,81.42,90.33,1815.6,84.62,16.2,87.58), (26.49,54.21,1008.26,47.79,87.62,1326.99,43.88,15.8,66.06), (27.36,15.46,1008.5,87.79,78.75,2969.04,85.71,0.2,88.34), (31.59,10.42,1000.1,69.62,73.17,4447.33,100.0,1.3,76.42), (31.12,45.29,1000.2,63.21,75.08,3931.13,100.0,5.3,84.5), (28.39,78.17,1004.56,76.75,85.38,1448.92,91.88,15.0,82.58), (26.83,55.62,1006.33,40.67,88.04,1940.2,54.46,8.2,69.68), ..."
        },
        {
          "metadata" : { },
          "data" : {
            "text/html" : "<div>\n      <script data-this=\"{&quot;dataId&quot;:&quot;anon4afaad44c20ebabb5cb099c73cc9fd7e&quot;,&quot;dataInit&quot;:[],&quot;genId&quot;:&quot;2035949122&quot;}\" type=\"text/x-scoped-javascript\">/*<![CDATA[*/req(['../javascripts/notebook/playground','../javascripts/notebook/magic/tabs'], \n      function(playground, _magictabs) {\n        // data ==> data-this (in observable.js's scopedEval) ==> this in JS => { dataId, dataInit, ... }\n        // this ==> scope (in observable.js's scopedEval) ==> this.parentElement ==> div.container below (toHtml)\n\n        playground.call(data,\n                        this\n                        ,\n                        {\n    \"f\": _magictabs,\n    \"o\": {}\n  }\n  \n                        \n                        \n                      );\n      }\n    );/*]]>*/</script>\n    <div>\n      <div>\n        <ul class=\"nav nav-tabs\" id=\"ul2035949122\"><li>\n              <a href=\"#tab2035949122-0\"><i class=\"fa fa-table\"/></a>\n            </li><li>\n              <a href=\"#tab2035949122-1\"><i class=\"fa fa-cubes\"/></a>\n            </li></ul>\n\n        <div class=\"tab-content\" id=\"tab2035949122\"><div class=\"tab-pane\" id=\"tab2035949122-0\">\n            <div>\n      <script data-this=\"{&quot;dataId&quot;:&quot;anonb7f9c8ce8c01ee5bb604b1c8b88845ae&quot;,&quot;dataInit&quot;:[{&quot;_3&quot;:1007,&quot;_8&quot;:9.4,&quot;_7&quot;:85.08,&quot;_2&quot;:42.42,&quot;_9&quot;:89.92,&quot;_6&quot;:2094.17,&quot;_1&quot;:26.27,&quot;_4&quot;:89.46,&quot;_5&quot;:86.92},{&quot;_3&quot;:1007.35,&quot;_8&quot;:2.6,&quot;_7&quot;:44.92,&quot;_2&quot;:31.29,&quot;_9&quot;:72.88,&quot;_6&quot;:3365.09,&quot;_1&quot;:27.16,&quot;_4&quot;:70.12,&quot;_5&quot;:82.5},{&quot;_3&quot;:1007.31,&quot;_8&quot;:10,&quot;_7&quot;:78.04,&quot;_2&quot;:42.5,&quot;_9&quot;:85.28,&quot;_6&quot;:2028.31,&quot;_1&quot;:26.68,&quot;_4&quot;:84.71,&quot;_5&quot;:86.17},{&quot;_3&quot;:1005.54,&quot;_8&quot;:14.4,&quot;_7&quot;:62.83,&quot;_2&quot;:60.21,&quot;_9&quot;:73.17,&quot;_6&quot;:1682.99,&quot;_1&quot;:26.49,&quot;_4&quot;:66.5,&quot;_5&quot;:87.83},{&quot;_3&quot;:1005.94,&quot;_8&quot;:4.3,&quot;_7&quot;:49.08,&quot;_2&quot;:61.5,&quot;_9&quot;:97.12,&quot;_6&quot;:2837.32,&quot;_1&quot;:26.42,&quot;_4&quot;:97.12,&quot;_5&quot;:86.46},{&quot;_3&quot;:1007.61,&quot;_8&quot;:16.2,&quot;_7&quot;:84.62,&quot;_2&quot;:71.67,&quot;_9&quot;:87.58,&quot;_6&quot;:1815.6,&quot;_1&quot;:26.32,&quot;_4&quot;:81.42,&quot;_5&quot;:90.33},{&quot;_3&quot;:1008.26,&quot;_8&quot;:15.8,&quot;_7&quot;:43.88,&quot;_2&quot;:54.21,&quot;_9&quot;:66.06,&quot;_6&quot;:1326.99,&quot;_1&quot;:26.49,&quot;_4&quot;:47.79,&quot;_5&quot;:87.62},{&quot;_3&quot;:1008.5,&quot;_8&quot;:0.2,&quot;_7&quot;:85.71,&quot;_2&quot;:15.46,&quot;_9&quot;:88.34,&quot;_6&quot;:2969.04,&quot;_1&quot;:27.36,&quot;_4&quot;:87.79,&quot;_5&quot;:78.75},{&quot;_3&quot;:1000.1,&quot;_8&quot;:1.3,&quot;_7&quot;:100,&quot;_2&quot;:10.42,&quot;_9&quot;:76.42,&quot;_6&quot;:4447.33,&quot;_1&quot;:31.59,&quot;_4&quot;:69.62,&quot;_5&quot;:73.17},{&quot;_3&quot;:1000.2,&quot;_8&quot;:5.3,&quot;_7&quot;:100,&quot;_2&quot;:45.29,&quot;_9&quot;:84.5,&quot;_6&quot;:3931.13,&quot;_1&quot;:31.12,&quot;_4&quot;:63.21,&quot;_5&quot;:75.08},{&quot;_3&quot;:1004.56,&quot;_8&quot;:15,&quot;_7&quot;:91.88,&quot;_2&quot;:78.17,&quot;_9&quot;:82.58,&quot;_6&quot;:1448.92,&quot;_1&quot;:28.39,&quot;_4&quot;:76.75,&quot;_5&quot;:85.38},{&quot;_3&quot;:1006.33,&quot;_8&quot;:8.2,&quot;_7&quot;:54.46,&quot;_2&quot;:55.62,&quot;_9&quot;:69.68,&quot;_6&quot;:1940.2,&quot;_1&quot;:26.83,&quot;_4&quot;:40.67,&quot;_5&quot;:88.04},{&quot;_3&quot;:1004.82,&quot;_8&quot;:0.5,&quot;_7&quot;:9.33,&quot;_2&quot;:19.5,&quot;_9&quot;:21.68,&quot;_6&quot;:5054.31,&quot;_1&quot;:28.17,&quot;_4&quot;:17.33,&quot;_5&quot;:76.54},{&quot;_3&quot;:1004.53,&quot;_8&quot;:0.1,&quot;_7&quot;:16.5,&quot;_2&quot;:6.88,&quot;_9&quot;:18.49,&quot;_6&quot;:6577.1,&quot;_1&quot;:29.43,&quot;_4&quot;:15.58,&quot;_5&quot;:71.33},{&quot;_3&quot;:1006,&quot;_8&quot;:55,&quot;_7&quot;:70.33,&quot;_2&quot;:76.5,&quot;_9&quot;:77.01,&quot;_6&quot;:1225.53,&quot;_1&quot;:26.45,&quot;_4&quot;:75.17,&quot;_5&quot;:93.67},{&quot;_3&quot;:1007.74,&quot;_8&quot;:63.8,&quot;_7&quot;:98.83,&quot;_2&quot;:88.5,&quot;_9&quot;:100,&quot;_6&quot;:1428.45,&quot;_1&quot;:25.86,&quot;_4&quot;:100,&quot;_5&quot;:91},{&quot;_3&quot;:1001.95,&quot;_8&quot;:0,&quot;_7&quot;:53.08,&quot;_2&quot;:3.12,&quot;_9&quot;:26.69,&quot;_6&quot;:6760.44,&quot;_1&quot;:30.55,&quot;_4&quot;:18.29,&quot;_5&quot;:70.62},{&quot;_3&quot;:1003.72,&quot;_8&quot;:0.5,&quot;_7&quot;:43.25,&quot;_2&quot;:11.58,&quot;_9&quot;:21.02,&quot;_6&quot;:5773.43,&quot;_1&quot;:29.49,&quot;_4&quot;:10.54,&quot;_5&quot;:76.62},{&quot;_3&quot;:1005.82,&quot;_8&quot;:5.6,&quot;_7&quot;:68.33,&quot;_2&quot;:35.5,&quot;_9&quot;:62.07,&quot;_6&quot;:2079.04,&quot;_1&quot;:27.89,&quot;_4&quot;:57,&quot;_5&quot;:84.79},{&quot;_3&quot;:1004.68,&quot;_8&quot;:21.3,&quot;_7&quot;:75.79,&quot;_2&quot;:58.67,&quot;_9&quot;:74.11,&quot;_6&quot;:1830.73,&quot;_1&quot;:26.82,&quot;_4&quot;:71.92,&quot;_5&quot;:89.75},{&quot;_3&quot;:1004.14,&quot;_8&quot;:33,&quot;_7&quot;:100,&quot;_2&quot;:100,&quot;_9&quot;:100,&quot;_6&quot;:1215.74,&quot;_1&quot;:25.95,&quot;_4&quot;:100,&quot;_5&quot;:95.67},{&quot;_3&quot;:1005.56,&quot;_8&quot;:7.3,&quot;_7&quot;:100,&quot;_2&quot;:73.67,&quot;_9&quot;:100,&quot;_6&quot;:1359.03,&quot;_1&quot;:26.58,&quot;_4&quot;:100,&quot;_5&quot;:92.92},{&quot;_3&quot;:1006.54,&quot;_8&quot;:16.9,&quot;_7&quot;:90.08,&quot;_2&quot;:39.42,&quot;_9&quot;:100,&quot;_6&quot;:857.07,&quot;_1&quot;:26.56,&quot;_4&quot;:100,&quot;_5&quot;:92.04},{&quot;_3&quot;:1008.12,&quot;_8&quot;:4.6,&quot;_7&quot;:41.21,&quot;_2&quot;:31.92,&quot;_9&quot;:90.17,&quot;_6&quot;:1815.6,&quot;_1&quot;:26.71,&quot;_4&quot;:90.17,&quot;_5&quot;:90.08},{&quot;_3&quot;:1007.3,&quot;_8&quot;:8.2,&quot;_7&quot;:80.38,&quot;_2&quot;:30.04,&quot;_9&quot;:89.5,&quot;_6&quot;:2021.19,&quot;_1&quot;:26.31,&quot;_4&quot;:89.42,&quot;_5&quot;:86.21},{&quot;_3&quot;:1007.59,&quot;_8&quot;:1,&quot;_7&quot;:56.12,&quot;_2&quot;:29.42,&quot;_9&quot;:73.61,&quot;_6&quot;:3737.11,&quot;_1&quot;:26.98,&quot;_4&quot;:71.79,&quot;_5&quot;:83.04},{&quot;_3&quot;:1007.5,&quot;_8&quot;:5,&quot;_7&quot;:81.25,&quot;_2&quot;:24.83,&quot;_9&quot;:86.75,&quot;_6&quot;:2503.57,&quot;_1&quot;:26.67,&quot;_4&quot;:86.08,&quot;_5&quot;:86.29},{&quot;_3&quot;:1005.81,&quot;_8&quot;:21.3,&quot;_7&quot;:54.25,&quot;_2&quot;:53.08,&quot;_9&quot;:72.91,&quot;_6&quot;:1610.9,&quot;_1&quot;:26.03,&quot;_4&quot;:63.21,&quot;_5&quot;:90.75},{&quot;_3&quot;:1006.34,&quot;_8&quot;:0,&quot;_7&quot;:47.17,&quot;_2&quot;:56.58,&quot;_9&quot;:100,&quot;_6&quot;:3079.4,&quot;_1&quot;:26.35,&quot;_4&quot;:100,&quot;_5&quot;:85.42},{&quot;_3&quot;:1007.73,&quot;_8&quot;:7.3,&quot;_7&quot;:96.04,&quot;_2&quot;:55.58,&quot;_9&quot;:83.17,&quot;_6&quot;:2756.33,&quot;_1&quot;:26.71,&quot;_4&quot;:67.96,&quot;_5&quot;:87.96},{&quot;_3&quot;:1008.41,&quot;_8&quot;:10.3,&quot;_7&quot;:63.83,&quot;_2&quot;:33.29,&quot;_9&quot;:65.8,&quot;_6&quot;:1450.7,&quot;_1&quot;:26.22,&quot;_4&quot;:58.25,&quot;_5&quot;:88.75},{&quot;_3&quot;:1008.59,&quot;_8&quot;:0,&quot;_7&quot;:88.83,&quot;_2&quot;:21.58,&quot;_9&quot;:77.25,&quot;_6&quot;:2683.35,&quot;_1&quot;:27.13,&quot;_4&quot;:64.79,&quot;_5&quot;:80.71},{&quot;_3&quot;:1001.86,&quot;_8&quot;:0,&quot;_7&quot;:81.42,&quot;_2&quot;:2.08,&quot;_9&quot;:31.63,&quot;_6&quot;:6545.06,&quot;_1&quot;:30.25,&quot;_4&quot;:14.62,&quot;_5&quot;:66.79},{&quot;_3&quot;:1003.74,&quot;_8&quot;:0,&quot;_7&quot;:36.83,&quot;_2&quot;:3.38,&quot;_9&quot;:14.38,&quot;_6&quot;:6813.84,&quot;_1&quot;:29.32,&quot;_4&quot;:2.46,&quot;_5&quot;:70.92},{&quot;_3&quot;:1005.67,&quot;_8&quot;:2.6,&quot;_7&quot;:83.83,&quot;_2&quot;:22.08,&quot;_9&quot;:59.08,&quot;_6&quot;:3221.8,&quot;_1&quot;:27.49,&quot;_4&quot;:50.54,&quot;_5&quot;:84},{&quot;_3&quot;:1004.28,&quot;_8&quot;:0.6,&quot;_7&quot;:61.12,&quot;_2&quot;:23.33,&quot;_9&quot;:74.67,&quot;_6&quot;:5428.11,&quot;_1&quot;:27.75,&quot;_4&quot;:74.12,&quot;_5&quot;:82.38},{&quot;_3&quot;:1003.91,&quot;_8&quot;:0.4,&quot;_7&quot;:60.5,&quot;_2&quot;:96.5,&quot;_9&quot;:99.08,&quot;_6&quot;:1386.62,&quot;_1&quot;:25.68,&quot;_4&quot;:80.58,&quot;_5&quot;:94.71},{&quot;_3&quot;:1005.37,&quot;_8&quot;:0.7,&quot;_7&quot;:90.33,&quot;_2&quot;:49.21,&quot;_9&quot;:99.17,&quot;_6&quot;:2720.73,&quot;_1&quot;:26.95,&quot;_4&quot;:96.42,&quot;_5&quot;:88.42},{&quot;_3&quot;:1006.57,&quot;_8&quot;:3.8,&quot;_7&quot;:90.17,&quot;_2&quot;:27.88,&quot;_9&quot;:100,&quot;_6&quot;:1396.41,&quot;_1&quot;:26.51,&quot;_4&quot;:100,&quot;_5&quot;:89.79},{&quot;_3&quot;:1008.11,&quot;_8&quot;:3.1,&quot;_7&quot;:43.12,&quot;_2&quot;:21.17,&quot;_9&quot;:62.44,&quot;_6&quot;:3414.93,&quot;_1&quot;:26.99,&quot;_4&quot;:62.25,&quot;_5&quot;:87.25}],&quot;genId&quot;:&quot;554685448&quot;}\" type=\"text/x-scoped-javascript\">/*<![CDATA[*/req(['../javascripts/notebook/playground','../javascripts/notebook/magic/tableChart'], \n      function(playground, _magictableChart) {\n        // data ==> data-this (in observable.js's scopedEval) ==> this in JS => { dataId, dataInit, ... }\n        // this ==> scope (in observable.js's scopedEval) ==> this.parentElement ==> div.container below (toHtml)\n\n        playground.call(data,\n                        this\n                        ,\n                        {\n    \"f\": _magictableChart,\n    \"o\": {\"headers\":[\"_1\",\"_2\",\"_3\",\"_4\",\"_5\",\"_6\",\"_7\",\"_8\",\"_9\"],\"width\":600,\"height\":400}\n  }\n  \n                        \n                        \n                      );\n      }\n    );/*]]>*/</script>\n    <div>\n      <span class=\"chart-total-item-count\"><p data-bind=\"text: value\"><script data-this=\"{&quot;valueId&quot;:&quot;anonacc3534d3f9888ff90e5c028dc3a8b81&quot;,&quot;initialValue&quot;:&quot;40&quot;}\" type=\"text/x-scoped-javascript\">/*<![CDATA[*/\nreq(\n['observable', 'knockout'],\nfunction (O, ko) {\n  ko.applyBindings({\n      value: O.makeObservable(valueId, initialValue)\n    },\n    this\n  );\n});\n        /*]]>*/</script></p> entries total</span>\n      <span class=\"chart-sampling-warning\"><p data-bind=\"text: value\"><script data-this=\"{&quot;valueId&quot;:&quot;anon33b3e7521efe26ef2de49eb1eda13fb5&quot;,&quot;initialValue&quot;:&quot;&quot;}\" type=\"text/x-scoped-javascript\">/*<![CDATA[*/\nreq(\n['observable', 'knockout'],\nfunction (O, ko) {\n  ko.applyBindings({\n      value: O.makeObservable(valueId, initialValue)\n    },\n    this\n  );\n});\n        /*]]>*/</script></p></span>\n      <div>\n      </div>\n    </div></div>\n            </div><div class=\"tab-pane\" id=\"tab2035949122-1\">\n            <div>\n      <script data-this=\"{&quot;dataId&quot;:&quot;anon0a0fb36c63d01e8b80033c323859cb8f&quot;,&quot;dataInit&quot;:[{&quot;_3&quot;:1007,&quot;_8&quot;:9.4,&quot;_7&quot;:85.08,&quot;_2&quot;:42.42,&quot;_9&quot;:89.92,&quot;_6&quot;:2094.17,&quot;_1&quot;:26.27,&quot;_4&quot;:89.46,&quot;_5&quot;:86.92},{&quot;_3&quot;:1007.35,&quot;_8&quot;:2.6,&quot;_7&quot;:44.92,&quot;_2&quot;:31.29,&quot;_9&quot;:72.88,&quot;_6&quot;:3365.09,&quot;_1&quot;:27.16,&quot;_4&quot;:70.12,&quot;_5&quot;:82.5},{&quot;_3&quot;:1007.31,&quot;_8&quot;:10,&quot;_7&quot;:78.04,&quot;_2&quot;:42.5,&quot;_9&quot;:85.28,&quot;_6&quot;:2028.31,&quot;_1&quot;:26.68,&quot;_4&quot;:84.71,&quot;_5&quot;:86.17},{&quot;_3&quot;:1005.54,&quot;_8&quot;:14.4,&quot;_7&quot;:62.83,&quot;_2&quot;:60.21,&quot;_9&quot;:73.17,&quot;_6&quot;:1682.99,&quot;_1&quot;:26.49,&quot;_4&quot;:66.5,&quot;_5&quot;:87.83},{&quot;_3&quot;:1005.94,&quot;_8&quot;:4.3,&quot;_7&quot;:49.08,&quot;_2&quot;:61.5,&quot;_9&quot;:97.12,&quot;_6&quot;:2837.32,&quot;_1&quot;:26.42,&quot;_4&quot;:97.12,&quot;_5&quot;:86.46},{&quot;_3&quot;:1007.61,&quot;_8&quot;:16.2,&quot;_7&quot;:84.62,&quot;_2&quot;:71.67,&quot;_9&quot;:87.58,&quot;_6&quot;:1815.6,&quot;_1&quot;:26.32,&quot;_4&quot;:81.42,&quot;_5&quot;:90.33},{&quot;_3&quot;:1008.26,&quot;_8&quot;:15.8,&quot;_7&quot;:43.88,&quot;_2&quot;:54.21,&quot;_9&quot;:66.06,&quot;_6&quot;:1326.99,&quot;_1&quot;:26.49,&quot;_4&quot;:47.79,&quot;_5&quot;:87.62},{&quot;_3&quot;:1008.5,&quot;_8&quot;:0.2,&quot;_7&quot;:85.71,&quot;_2&quot;:15.46,&quot;_9&quot;:88.34,&quot;_6&quot;:2969.04,&quot;_1&quot;:27.36,&quot;_4&quot;:87.79,&quot;_5&quot;:78.75},{&quot;_3&quot;:1000.1,&quot;_8&quot;:1.3,&quot;_7&quot;:100,&quot;_2&quot;:10.42,&quot;_9&quot;:76.42,&quot;_6&quot;:4447.33,&quot;_1&quot;:31.59,&quot;_4&quot;:69.62,&quot;_5&quot;:73.17},{&quot;_3&quot;:1000.2,&quot;_8&quot;:5.3,&quot;_7&quot;:100,&quot;_2&quot;:45.29,&quot;_9&quot;:84.5,&quot;_6&quot;:3931.13,&quot;_1&quot;:31.12,&quot;_4&quot;:63.21,&quot;_5&quot;:75.08},{&quot;_3&quot;:1004.56,&quot;_8&quot;:15,&quot;_7&quot;:91.88,&quot;_2&quot;:78.17,&quot;_9&quot;:82.58,&quot;_6&quot;:1448.92,&quot;_1&quot;:28.39,&quot;_4&quot;:76.75,&quot;_5&quot;:85.38},{&quot;_3&quot;:1006.33,&quot;_8&quot;:8.2,&quot;_7&quot;:54.46,&quot;_2&quot;:55.62,&quot;_9&quot;:69.68,&quot;_6&quot;:1940.2,&quot;_1&quot;:26.83,&quot;_4&quot;:40.67,&quot;_5&quot;:88.04},{&quot;_3&quot;:1004.82,&quot;_8&quot;:0.5,&quot;_7&quot;:9.33,&quot;_2&quot;:19.5,&quot;_9&quot;:21.68,&quot;_6&quot;:5054.31,&quot;_1&quot;:28.17,&quot;_4&quot;:17.33,&quot;_5&quot;:76.54},{&quot;_3&quot;:1004.53,&quot;_8&quot;:0.1,&quot;_7&quot;:16.5,&quot;_2&quot;:6.88,&quot;_9&quot;:18.49,&quot;_6&quot;:6577.1,&quot;_1&quot;:29.43,&quot;_4&quot;:15.58,&quot;_5&quot;:71.33},{&quot;_3&quot;:1006,&quot;_8&quot;:55,&quot;_7&quot;:70.33,&quot;_2&quot;:76.5,&quot;_9&quot;:77.01,&quot;_6&quot;:1225.53,&quot;_1&quot;:26.45,&quot;_4&quot;:75.17,&quot;_5&quot;:93.67},{&quot;_3&quot;:1007.74,&quot;_8&quot;:63.8,&quot;_7&quot;:98.83,&quot;_2&quot;:88.5,&quot;_9&quot;:100,&quot;_6&quot;:1428.45,&quot;_1&quot;:25.86,&quot;_4&quot;:100,&quot;_5&quot;:91},{&quot;_3&quot;:1001.95,&quot;_8&quot;:0,&quot;_7&quot;:53.08,&quot;_2&quot;:3.12,&quot;_9&quot;:26.69,&quot;_6&quot;:6760.44,&quot;_1&quot;:30.55,&quot;_4&quot;:18.29,&quot;_5&quot;:70.62},{&quot;_3&quot;:1003.72,&quot;_8&quot;:0.5,&quot;_7&quot;:43.25,&quot;_2&quot;:11.58,&quot;_9&quot;:21.02,&quot;_6&quot;:5773.43,&quot;_1&quot;:29.49,&quot;_4&quot;:10.54,&quot;_5&quot;:76.62},{&quot;_3&quot;:1005.82,&quot;_8&quot;:5.6,&quot;_7&quot;:68.33,&quot;_2&quot;:35.5,&quot;_9&quot;:62.07,&quot;_6&quot;:2079.04,&quot;_1&quot;:27.89,&quot;_4&quot;:57,&quot;_5&quot;:84.79},{&quot;_3&quot;:1004.68,&quot;_8&quot;:21.3,&quot;_7&quot;:75.79,&quot;_2&quot;:58.67,&quot;_9&quot;:74.11,&quot;_6&quot;:1830.73,&quot;_1&quot;:26.82,&quot;_4&quot;:71.92,&quot;_5&quot;:89.75},{&quot;_3&quot;:1004.14,&quot;_8&quot;:33,&quot;_7&quot;:100,&quot;_2&quot;:100,&quot;_9&quot;:100,&quot;_6&quot;:1215.74,&quot;_1&quot;:25.95,&quot;_4&quot;:100,&quot;_5&quot;:95.67},{&quot;_3&quot;:1005.56,&quot;_8&quot;:7.3,&quot;_7&quot;:100,&quot;_2&quot;:73.67,&quot;_9&quot;:100,&quot;_6&quot;:1359.03,&quot;_1&quot;:26.58,&quot;_4&quot;:100,&quot;_5&quot;:92.92},{&quot;_3&quot;:1006.54,&quot;_8&quot;:16.9,&quot;_7&quot;:90.08,&quot;_2&quot;:39.42,&quot;_9&quot;:100,&quot;_6&quot;:857.07,&quot;_1&quot;:26.56,&quot;_4&quot;:100,&quot;_5&quot;:92.04},{&quot;_3&quot;:1008.12,&quot;_8&quot;:4.6,&quot;_7&quot;:41.21,&quot;_2&quot;:31.92,&quot;_9&quot;:90.17,&quot;_6&quot;:1815.6,&quot;_1&quot;:26.71,&quot;_4&quot;:90.17,&quot;_5&quot;:90.08},{&quot;_3&quot;:1007.3,&quot;_8&quot;:8.2,&quot;_7&quot;:80.38,&quot;_2&quot;:30.04,&quot;_9&quot;:89.5,&quot;_6&quot;:2021.19,&quot;_1&quot;:26.31,&quot;_4&quot;:89.42,&quot;_5&quot;:86.21},{&quot;_3&quot;:1007.59,&quot;_8&quot;:1,&quot;_7&quot;:56.12,&quot;_2&quot;:29.42,&quot;_9&quot;:73.61,&quot;_6&quot;:3737.11,&quot;_1&quot;:26.98,&quot;_4&quot;:71.79,&quot;_5&quot;:83.04},{&quot;_3&quot;:1007.5,&quot;_8&quot;:5,&quot;_7&quot;:81.25,&quot;_2&quot;:24.83,&quot;_9&quot;:86.75,&quot;_6&quot;:2503.57,&quot;_1&quot;:26.67,&quot;_4&quot;:86.08,&quot;_5&quot;:86.29},{&quot;_3&quot;:1005.81,&quot;_8&quot;:21.3,&quot;_7&quot;:54.25,&quot;_2&quot;:53.08,&quot;_9&quot;:72.91,&quot;_6&quot;:1610.9,&quot;_1&quot;:26.03,&quot;_4&quot;:63.21,&quot;_5&quot;:90.75},{&quot;_3&quot;:1006.34,&quot;_8&quot;:0,&quot;_7&quot;:47.17,&quot;_2&quot;:56.58,&quot;_9&quot;:100,&quot;_6&quot;:3079.4,&quot;_1&quot;:26.35,&quot;_4&quot;:100,&quot;_5&quot;:85.42},{&quot;_3&quot;:1007.73,&quot;_8&quot;:7.3,&quot;_7&quot;:96.04,&quot;_2&quot;:55.58,&quot;_9&quot;:83.17,&quot;_6&quot;:2756.33,&quot;_1&quot;:26.71,&quot;_4&quot;:67.96,&quot;_5&quot;:87.96},{&quot;_3&quot;:1008.41,&quot;_8&quot;:10.3,&quot;_7&quot;:63.83,&quot;_2&quot;:33.29,&quot;_9&quot;:65.8,&quot;_6&quot;:1450.7,&quot;_1&quot;:26.22,&quot;_4&quot;:58.25,&quot;_5&quot;:88.75},{&quot;_3&quot;:1008.59,&quot;_8&quot;:0,&quot;_7&quot;:88.83,&quot;_2&quot;:21.58,&quot;_9&quot;:77.25,&quot;_6&quot;:2683.35,&quot;_1&quot;:27.13,&quot;_4&quot;:64.79,&quot;_5&quot;:80.71},{&quot;_3&quot;:1001.86,&quot;_8&quot;:0,&quot;_7&quot;:81.42,&quot;_2&quot;:2.08,&quot;_9&quot;:31.63,&quot;_6&quot;:6545.06,&quot;_1&quot;:30.25,&quot;_4&quot;:14.62,&quot;_5&quot;:66.79},{&quot;_3&quot;:1003.74,&quot;_8&quot;:0,&quot;_7&quot;:36.83,&quot;_2&quot;:3.38,&quot;_9&quot;:14.38,&quot;_6&quot;:6813.84,&quot;_1&quot;:29.32,&quot;_4&quot;:2.46,&quot;_5&quot;:70.92},{&quot;_3&quot;:1005.67,&quot;_8&quot;:2.6,&quot;_7&quot;:83.83,&quot;_2&quot;:22.08,&quot;_9&quot;:59.08,&quot;_6&quot;:3221.8,&quot;_1&quot;:27.49,&quot;_4&quot;:50.54,&quot;_5&quot;:84},{&quot;_3&quot;:1004.28,&quot;_8&quot;:0.6,&quot;_7&quot;:61.12,&quot;_2&quot;:23.33,&quot;_9&quot;:74.67,&quot;_6&quot;:5428.11,&quot;_1&quot;:27.75,&quot;_4&quot;:74.12,&quot;_5&quot;:82.38},{&quot;_3&quot;:1003.91,&quot;_8&quot;:0.4,&quot;_7&quot;:60.5,&quot;_2&quot;:96.5,&quot;_9&quot;:99.08,&quot;_6&quot;:1386.62,&quot;_1&quot;:25.68,&quot;_4&quot;:80.58,&quot;_5&quot;:94.71},{&quot;_3&quot;:1005.37,&quot;_8&quot;:0.7,&quot;_7&quot;:90.33,&quot;_2&quot;:49.21,&quot;_9&quot;:99.17,&quot;_6&quot;:2720.73,&quot;_1&quot;:26.95,&quot;_4&quot;:96.42,&quot;_5&quot;:88.42},{&quot;_3&quot;:1006.57,&quot;_8&quot;:3.8,&quot;_7&quot;:90.17,&quot;_2&quot;:27.88,&quot;_9&quot;:100,&quot;_6&quot;:1396.41,&quot;_1&quot;:26.51,&quot;_4&quot;:100,&quot;_5&quot;:89.79},{&quot;_3&quot;:1008.11,&quot;_8&quot;:3.1,&quot;_7&quot;:43.12,&quot;_2&quot;:21.17,&quot;_9&quot;:62.44,&quot;_6&quot;:3414.93,&quot;_1&quot;:26.99,&quot;_4&quot;:62.25,&quot;_5&quot;:87.25}],&quot;genId&quot;:&quot;1510900744&quot;}\" type=\"text/x-scoped-javascript\">/*<![CDATA[*/req(['../javascripts/notebook/playground','../javascripts/notebook/magic/pivotChart'], \n      function(playground, _magicpivotChart) {\n        // data ==> data-this (in observable.js's scopedEval) ==> this in JS => { dataId, dataInit, ... }\n        // this ==> scope (in observable.js's scopedEval) ==> this.parentElement ==> div.container below (toHtml)\n\n        playground.call(data,\n                        this\n                        ,\n                        {\n    \"f\": _magicpivotChart,\n    \"o\": {\"width\":600,\"height\":400,\"derivedAttributes\":{},\"extraOptions\":{}}\n  }\n  \n                        \n                        \n                      );\n      }\n    );/*]]>*/</script>\n    <div>\n      <span class=\"chart-total-item-count\"><p data-bind=\"text: value\"><script data-this=\"{&quot;valueId&quot;:&quot;anon7ecc8e7640056216f0aa88536b76182e&quot;,&quot;initialValue&quot;:&quot;40&quot;}\" type=\"text/x-scoped-javascript\">/*<![CDATA[*/\nreq(\n['observable', 'knockout'],\nfunction (O, ko) {\n  ko.applyBindings({\n      value: O.makeObservable(valueId, initialValue)\n    },\n    this\n  );\n});\n        /*]]>*/</script></p> entries total</span>\n      <span class=\"chart-sampling-warning\"><p data-bind=\"text: value\"><script data-this=\"{&quot;valueId&quot;:&quot;anon6f650ae802ff8938a4953c50267b812a&quot;,&quot;initialValue&quot;:&quot;&quot;}\" type=\"text/x-scoped-javascript\">/*<![CDATA[*/\nreq(\n['observable', 'knockout'],\nfunction (O, ko) {\n  ko.applyBindings({\n      value: O.makeObservable(valueId, initialValue)\n    },\n    this\n  );\n});\n        /*]]>*/</script></p></span>\n      <div>\n      </div>\n    </div></div>\n            </div></div>\n      </div>\n    </div></div>"
          },
          "output_type" : "execute_result",
          "execution_count" : 1,
          "time" : "Took: 1.027s, at 2017-09-06 09:52"
        }
      ]
    },
    {
      "metadata" : {
        "trusted" : true,
        "input_collapsed" : false,
        "collapsed" : false,
        "id" : "C7B4AEC1A57D43D1865EEA3066CB37D3"
      },
      "cell_type" : "code",
      "source" : [
        "// Convert rdd to the rdd of vectors\n",
        "val observations = rdd.map(l => Vectors.dense(l._1, l._2, l._3, l._4, l._5, l._6, l._7, l._8, l._9))"
      ],
      "outputs" : [
        {
          "name" : "stdout",
          "output_type" : "stream",
          "text" : "<console>:84: error: not found: value rdd\n       val observations = rdd.map(l => Vectors.dense(l._1, l._2, l._3, l._4, l._5, l._6, l._7, l._8, l._9))\n                          ^\n"
        }
      ]
    },
    {
      "metadata" : {
        "trusted" : true,
        "input_collapsed" : false,
        "collapsed" : false,
        "id" : "4F144177DFF6420A82B02FB08A5141A5"
      },
      "cell_type" : "code",
      "source" : [
        "// Compute column summary statistics.\n",
        "val summary: MultivariateStatisticalSummary = Statistics.colStats(observations)\n",
        "println(\"Vectors of observations' mean : \" + summary.mean)  \n",
        "println(\"Vectors of observations' variance : \" + summary.variance)  \n",
        "println(\"Vectors of observations' number of column not null : \" + summary.numNonzeros)  \n",
        "println()"
      ],
      "outputs" : [
        {
          "name" : "stdout",
          "output_type" : "stream",
          "text" : "Vectors of observations' mean : [27.372999999999998,41.60125,1005.7774999999998,67.84125,84.66675,2915.84025,69.06050000000002,9.390000000000002,73.85525]\nVectors of observations' variance : [2.256365128205129,678.8604830128204,4.685562820512852,788.4269907051283,51.62532506410257,3008952.402069167,561.1052356410256,192.21579487179488,626.8092255769232]\nVectors of observations' number of column not null : [40.0,40.0,40.0,40.0,40.0,40.0,40.0,35.0,40.0]\n\nsummary: org.apache.spark.mllib.stat.MultivariateStatisticalSummary = org.apache.spark.mllib.stat.MultivariateOnlineSummarizer@20f8c6f2\n"
        },
        {
          "metadata" : { },
          "data" : {
            "text/html" : ""
          },
          "output_type" : "execute_result",
          "execution_count" : 11,
          "time" : "Took: 1.398s, at 2017-09-06 06:54"
        }
      ]
    },
    {
      "metadata" : {
        "id" : "17ACA476AC8841B1ACFC71FF7021681D"
      },
      "cell_type" : "markdown",
      "source" : "#### Correlations of variables "
    },
    {
      "metadata" : {
        "trusted" : true,
        "input_collapsed" : false,
        "collapsed" : false,
        "id" : "9F140BCEA8084A1487608BB54BE542E6"
      },
      "cell_type" : "code",
      "source" : [
        "import org.apache.spark.mllib.linalg._\n",
        "import org.apache.spark.mllib.stat.Statistics\n",
        "import org.apache.spark.rdd.RDD"
      ],
      "outputs" : [
        {
          "name" : "stdout",
          "output_type" : "stream",
          "text" : "import org.apache.spark.mllib.linalg._\nimport org.apache.spark.mllib.stat.Statistics\nimport org.apache.spark.rdd.RDD\n"
        },
        {
          "metadata" : { },
          "data" : {
            "text/html" : ""
          },
          "output_type" : "execute_result",
          "execution_count" : 11,
          "time" : "Took: 0.690s, at 2017-09-06 09:43"
        }
      ]
    },
    {
      "metadata" : {
        "trusted" : true,
        "input_collapsed" : false,
        "collapsed" : false,
        "id" : "7B77CDB90F6547718F2EB229C07E70F6"
      },
      "cell_type" : "code",
      "source" : [
        "// calculate the correlation matrix using Pearson's method. Use \"spearman\" for Spearman's method\n",
        "// If a method is not specified, Pearson's method will be used by default.\n",
        "val correlMatrix: Matrix = Statistics.corr(observations, \"pearson\")\n",
        "//println(correlMatrix.toString)"
      ],
      "outputs" : [
        {
          "name" : "stdout",
          "output_type" : "stream",
          "text" : "correlMatrix: org.apache.spark.mllib.linalg.Matrix =\n1.0                   -0.6071271749991745  -0.7769139178723304    ... (9 total)\n-0.6071271749991745   1.0                  0.15213518644495438    ...\n-0.7769139178723304   0.15213518644495438  1.0                    ...\n-0.6317688824653139   0.5795801157147833   0.3987737633967863     ...\n-0.8783589380133455   0.7848585544175861   0.5355160905617118     ...\n0.7788360980837538    -0.7321669112163407  -0.5401236564390007    ...\n-0.07984925706043007  0.34275011990685916  -0.054919658480978115  ...\n-0.3896111580334033   0.6302167222500573   0.17145792931429643    ...\n-0.6190037706669987   0.6470804476922558   0.3584018763482733     ...\n"
        },
        {
          "metadata" : { },
          "data" : {
            "text/html" : ""
          },
          "output_type" : "execute_result",
          "execution_count" : 13,
          "time" : "Took: 2.172s, at 2017-09-06 06:54"
        }
      ]
    },
    {
      "metadata" : {
        "id" : "9E0FE30DA33C419B8FD513684AA77990"
      },
      "cell_type" : "markdown",
      "source" : "###  Convert to RDD labeledpoint\n\nIt's arbitrary to work with ML or MLLib when we create the model, but here in the end, we want to convert the model in PMML, so it's better to work with MLLib because the ML library is still not supported PMML converter yet..."
    },
    {
      "metadata" : {
        "trusted" : true,
        "input_collapsed" : false,
        "collapsed" : false,
        "id" : "C2A90C5B8CBE41D88975BFA9302B9544"
      },
      "cell_type" : "code",
      "source" : [
        "import org.apache.spark.mllib.linalg.Vectors\n",
        "import org.apache.spark.mllib.regression.LabeledPoint\n",
        "import org.apache.spark.mllib.regression.LinearRegressionModel\n",
        "import org.apache.spark.mllib.regression.LinearRegressionWithSGD"
      ],
      "outputs" : [
        {
          "name" : "stdout",
          "output_type" : "stream",
          "text" : "import org.apache.spark.mllib.linalg.Vectors\nimport org.apache.spark.mllib.regression.LabeledPoint\nimport org.apache.spark.mllib.regression.LinearRegressionModel\nimport org.apache.spark.mllib.regression.LinearRegressionWithSGD\n"
        },
        {
          "metadata" : { },
          "data" : {
            "text/html" : ""
          },
          "output_type" : "execute_result",
          "execution_count" : 18,
          "time" : "Took: 0.681s, at 2017-09-06 09:44"
        }
      ]
    },
    {
      "metadata" : {
        "trusted" : true,
        "input_collapsed" : false,
        "collapsed" : false,
        "id" : "36CC3C48CB6842358183FEA88AEF9760"
      },
      "cell_type" : "code",
      "source" : [
        "val dataLabeled = rdd.map(l => LabeledPoint(l._1, Vectors.dense(l._2, l._3, l._4, l._5, l._6, l._7, l._8, l._9)))                  "
      ],
      "outputs" : [
        {
          "name" : "stdout",
          "output_type" : "stream",
          "text" : "dataLabeled: org.apache.spark.rdd.RDD[org.apache.spark.mllib.regression.LabeledPoint] = MapPartitionsRDD[28] at map at <console>:108\n"
        },
        {
          "metadata" : { },
          "data" : {
            "text/html" : ""
          },
          "output_type" : "execute_result",
          "execution_count" : 19,
          "time" : "Took: 0.872s, at 2017-09-06 09:44"
        }
      ]
    },
    {
      "metadata" : {
        "trusted" : true,
        "input_collapsed" : false,
        "collapsed" : false,
        "presentation" : {
          "tabs_state" : "{\n  \"tab_id\": \"#tab2132779069-0\"\n}",
          "pivot_chart_state" : "{\n  \"hiddenAttributes\": [],\n  \"menuLimit\": 200,\n  \"cols\": [],\n  \"rows\": [],\n  \"vals\": [],\n  \"exclusions\": {},\n  \"inclusions\": {},\n  \"unusedAttrsVertical\": 85,\n  \"autoSortUnusedAttrs\": false,\n  \"inclusionsInfo\": {},\n  \"aggregatorName\": \"Count\",\n  \"rendererName\": \"Table\"\n}"
        },
        "id" : "8A0C8DDB1FB2475D924938468CFC2503"
      },
      "cell_type" : "code",
      "source" : [
        "dataLabeled.take(5)"
      ],
      "outputs" : [
        {
          "name" : "stdout",
          "output_type" : "stream",
          "text" : "res94: Array[org.apache.spark.mllib.regression.LabeledPoint] = Array((26.27,[42.42,1007.0,89.46,86.92,2094.17,85.08,9.4,89.92]), (27.16,[31.29,1007.35,70.12,82.5,3365.09,44.92,2.6,72.88]), (26.68,[42.5,1007.31,84.71,86.17,2028.31,78.04,10.0,85.28]), (26.49,[60.21,1005.54,66.5,87.83,1682.99,62.83,14.4,73.17]), (26.42,[61.5,1005.94,97.12,86.46,2837.32,49.08,4.3,97.12]))\n"
        },
        {
          "metadata" : { },
          "data" : {
            "text/html" : "<div>\n      <script data-this=\"{&quot;dataId&quot;:&quot;anon9ecf0f64d88090b0b792c516b2cb0132&quot;,&quot;dataInit&quot;:[],&quot;genId&quot;:&quot;2132779069&quot;}\" type=\"text/x-scoped-javascript\">/*<![CDATA[*/req(['../javascripts/notebook/playground','../javascripts/notebook/magic/tabs'], \n      function(playground, _magictabs) {\n        // data ==> data-this (in observable.js's scopedEval) ==> this in JS => { dataId, dataInit, ... }\n        // this ==> scope (in observable.js's scopedEval) ==> this.parentElement ==> div.container below (toHtml)\n\n        playground.call(data,\n                        this\n                        ,\n                        {\n    \"f\": _magictabs,\n    \"o\": {}\n  }\n  \n                        \n                        \n                      );\n      }\n    );/*]]>*/</script>\n    <div>\n      <div>\n        <ul class=\"nav nav-tabs\" id=\"ul2132779069\"><li>\n              <a href=\"#tab2132779069-0\"><i class=\"fa fa-table\"/></a>\n            </li><li>\n              <a href=\"#tab2132779069-1\"><i class=\"fa fa-cubes\"/></a>\n            </li></ul>\n\n        <div class=\"tab-content\" id=\"tab2132779069\"><div class=\"tab-pane\" id=\"tab2132779069-0\">\n            <div>\n      <script data-this=\"{&quot;dataId&quot;:&quot;anon8fb7e63ff414a313f3fd62f501ee0126&quot;,&quot;dataInit&quot;:[{&quot;label&quot;:26.27,&quot;features&quot;:&quot;[42.42,1007.0,89.46,86.92,2094.17,85.08,9.4,89.92]&quot;},{&quot;label&quot;:27.16,&quot;features&quot;:&quot;[31.29,1007.35,70.12,82.5,3365.09,44.92,2.6,72.88]&quot;},{&quot;label&quot;:26.68,&quot;features&quot;:&quot;[42.5,1007.31,84.71,86.17,2028.31,78.04,10.0,85.28]&quot;},{&quot;label&quot;:26.49,&quot;features&quot;:&quot;[60.21,1005.54,66.5,87.83,1682.99,62.83,14.4,73.17]&quot;},{&quot;label&quot;:26.42,&quot;features&quot;:&quot;[61.5,1005.94,97.12,86.46,2837.32,49.08,4.3,97.12]&quot;}],&quot;genId&quot;:&quot;568673446&quot;}\" type=\"text/x-scoped-javascript\">/*<![CDATA[*/req(['../javascripts/notebook/playground','../javascripts/notebook/magic/tableChart'], \n      function(playground, _magictableChart) {\n        // data ==> data-this (in observable.js's scopedEval) ==> this in JS => { dataId, dataInit, ... }\n        // this ==> scope (in observable.js's scopedEval) ==> this.parentElement ==> div.container below (toHtml)\n\n        playground.call(data,\n                        this\n                        ,\n                        {\n    \"f\": _magictableChart,\n    \"o\": {\"headers\":[\"label\",\"features\"],\"width\":600,\"height\":400}\n  }\n  \n                        \n                        \n                      );\n      }\n    );/*]]>*/</script>\n    <div>\n      <span class=\"chart-total-item-count\"><p data-bind=\"text: value\"><script data-this=\"{&quot;valueId&quot;:&quot;anona15a1bc615e097a5a821e9f5c3611add&quot;,&quot;initialValue&quot;:&quot;5&quot;}\" type=\"text/x-scoped-javascript\">/*<![CDATA[*/\nreq(\n['observable', 'knockout'],\nfunction (O, ko) {\n  ko.applyBindings({\n      value: O.makeObservable(valueId, initialValue)\n    },\n    this\n  );\n});\n        /*]]>*/</script></p> entries total</span>\n      <span class=\"chart-sampling-warning\"><p data-bind=\"text: value\"><script data-this=\"{&quot;valueId&quot;:&quot;anon2ecc8f3eba6241cbb718a7db2da8ac29&quot;,&quot;initialValue&quot;:&quot;&quot;}\" type=\"text/x-scoped-javascript\">/*<![CDATA[*/\nreq(\n['observable', 'knockout'],\nfunction (O, ko) {\n  ko.applyBindings({\n      value: O.makeObservable(valueId, initialValue)\n    },\n    this\n  );\n});\n        /*]]>*/</script></p></span>\n      <div>\n      </div>\n    </div></div>\n            </div><div class=\"tab-pane\" id=\"tab2132779069-1\">\n            <div>\n      <script data-this=\"{&quot;dataId&quot;:&quot;anon675aae818e0c00aa85feb26d7c4f87bb&quot;,&quot;dataInit&quot;:[{&quot;label&quot;:26.27,&quot;features&quot;:&quot;[42.42,1007.0,89.46,86.92,2094.17,85.08,9.4,89.92]&quot;},{&quot;label&quot;:27.16,&quot;features&quot;:&quot;[31.29,1007.35,70.12,82.5,3365.09,44.92,2.6,72.88]&quot;},{&quot;label&quot;:26.68,&quot;features&quot;:&quot;[42.5,1007.31,84.71,86.17,2028.31,78.04,10.0,85.28]&quot;},{&quot;label&quot;:26.49,&quot;features&quot;:&quot;[60.21,1005.54,66.5,87.83,1682.99,62.83,14.4,73.17]&quot;},{&quot;label&quot;:26.42,&quot;features&quot;:&quot;[61.5,1005.94,97.12,86.46,2837.32,49.08,4.3,97.12]&quot;}],&quot;genId&quot;:&quot;33988727&quot;}\" type=\"text/x-scoped-javascript\">/*<![CDATA[*/req(['../javascripts/notebook/playground','../javascripts/notebook/magic/pivotChart'], \n      function(playground, _magicpivotChart) {\n        // data ==> data-this (in observable.js's scopedEval) ==> this in JS => { dataId, dataInit, ... }\n        // this ==> scope (in observable.js's scopedEval) ==> this.parentElement ==> div.container below (toHtml)\n\n        playground.call(data,\n                        this\n                        ,\n                        {\n    \"f\": _magicpivotChart,\n    \"o\": {\"width\":600,\"height\":400,\"derivedAttributes\":{},\"extraOptions\":{}}\n  }\n  \n                        \n                        \n                      );\n      }\n    );/*]]>*/</script>\n    <div>\n      <span class=\"chart-total-item-count\"><p data-bind=\"text: value\"><script data-this=\"{&quot;valueId&quot;:&quot;anonf7c190365afdc543c8cb99cb041be996&quot;,&quot;initialValue&quot;:&quot;5&quot;}\" type=\"text/x-scoped-javascript\">/*<![CDATA[*/\nreq(\n['observable', 'knockout'],\nfunction (O, ko) {\n  ko.applyBindings({\n      value: O.makeObservable(valueId, initialValue)\n    },\n    this\n  );\n});\n        /*]]>*/</script></p> entries total</span>\n      <span class=\"chart-sampling-warning\"><p data-bind=\"text: value\"><script data-this=\"{&quot;valueId&quot;:&quot;anon11d3670c30fce33f2c910dbac8599eda&quot;,&quot;initialValue&quot;:&quot;&quot;}\" type=\"text/x-scoped-javascript\">/*<![CDATA[*/\nreq(\n['observable', 'knockout'],\nfunction (O, ko) {\n  ko.applyBindings({\n      value: O.makeObservable(valueId, initialValue)\n    },\n    this\n  );\n});\n        /*]]>*/</script></p></span>\n      <div>\n      </div>\n    </div></div>\n            </div></div>\n      </div>\n    </div></div>"
          },
          "output_type" : "execute_result",
          "execution_count" : 57,
          "time" : "Took: 1.372s, at 2017-09-05 09:30"
        }
      ]
    },
    {
      "metadata" : {
        "id" : "394ED2D646624DA79B3936C16F94A809"
      },
      "cell_type" : "markdown",
      "source" : "### Build a linear regression model "
    },
    {
      "metadata" : {
        "trusted" : true,
        "input_collapsed" : false,
        "collapsed" : false,
        "id" : "E305D86AF212465C88BDFF8B23175D95"
      },
      "cell_type" : "code",
      "source" : [
        "// Building the model\n",
        "val numIterations = 100\n",
        "val stepSize = 0.00000000001\n",
        "val model = LinearRegressionWithSGD.train(dataLabeled, numIterations, stepSize)"
      ],
      "outputs" : [
        {
          "name" : "stdout",
          "output_type" : "stream",
          "text" : "<console>:113: warning: object LinearRegressionWithSGD in package regression is deprecated: Use ml.regression.LinearRegression or LBFGS\n       val model = LinearRegressionWithSGD.train(dataLabeled, numIterations, stepSize)\n                   ^\nnumIterations: Int = 100\nstepSize: Double = 1.0E-11\nmodel: org.apache.spark.mllib.regression.LinearRegressionModel = org.apache.spark.mllib.regression.LinearRegressionModel: intercept = 0.0, numFeatures = 8\n"
        },
        {
          "metadata" : { },
          "data" : {
            "text/html" : ""
          },
          "output_type" : "execute_result",
          "execution_count" : 20,
          "time" : "Took: 1.401s, at 2017-09-06 09:45"
        }
      ]
    },
    {
      "metadata" : {
        "id" : "5DAB8E2EDCFF4A80A8A4DDC0C03074A4"
      },
      "cell_type" : "markdown",
      "source" : "### Evaluation of model "
    },
    {
      "metadata" : {
        "trusted" : true,
        "input_collapsed" : false,
        "collapsed" : false,
        "id" : "64614EC412164C5191C232908B63E699"
      },
      "cell_type" : "code",
      "source" : [
        "// Evaluate model on training examples and compute training error\n",
        "val valuesAndPreds = dataLabeled.map { point =>\n",
        "  val prediction = model.predict(point.features)\n",
        "  (point.label, prediction)\n",
        "}\n",
        "val MSE = valuesAndPreds.map{ case(v, p) => math.pow((v - p), 2) }.mean()\n",
        "println(\"training Mean Squared Error = \" + MSE)"
      ],
      "outputs" : [
        {
          "name" : "stdout",
          "output_type" : "stream",
          "text" : "training Mean Squared Error = 751.2262320762441\nvaluesAndPreds: org.apache.spark.rdd.RDD[(Double, Double)] = MapPartitionsRDD[35] at map at <console>:115\nMSE: Double = 751.2262320762441\n"
        },
        {
          "metadata" : { },
          "data" : {
            "text/html" : ""
          },
          "output_type" : "execute_result",
          "execution_count" : 21,
          "time" : "Took: 1.739s, at 2017-09-06 09:45"
        }
      ]
    },
    {
      "metadata" : {
        "id" : "1F64FB76AC1E4CFF80FD89D4CB31A16B"
      },
      "cell_type" : "markdown",
      "source" : "### To predict new value "
    },
    {
      "metadata" : {
        "trusted" : true,
        "input_collapsed" : false,
        "collapsed" : false,
        "id" : "082277E617D543D8B78F03514DA8A95B"
      },
      "cell_type" : "code",
      "source" : [
        "// We created the input to test, it should have the format RDD[Vector]\n",
        "val test = sc.parallelize(List(\"47.42,1017.0,91.46,80.92,2194.17,95.08,4.4,79.92\")).map(l => l.split(\",\"))\n",
        "              .map(l => Vectors.dense(l(0).toDouble, l(1).toDouble, l(2).toDouble, l(3).toDouble, \n",
        "                                      l(4).toDouble, l(5).toDouble, l(6).toDouble, l(7).toDouble))"
      ],
      "outputs" : [
        {
          "name" : "stdout",
          "output_type" : "stream",
          "text" : "test: org.apache.spark.rdd.RDD[org.apache.spark.mllib.linalg.Vector] = MapPartitionsRDD[44] at map at <console>:88\n"
        },
        {
          "metadata" : { },
          "data" : {
            "text/html" : ""
          },
          "output_type" : "execute_result",
          "execution_count" : 18,
          "time" : "Took: 0.982s, at 2017-09-06 06:55"
        }
      ]
    },
    {
      "metadata" : {
        "trusted" : true,
        "input_collapsed" : false,
        "collapsed" : false,
        "id" : "CA1A7E792E6644DB9EA9A3A793BA6EF3"
      },
      "cell_type" : "code",
      "source" : [
        "val predictResult = model.predict(test)"
      ],
      "outputs" : [
        {
          "name" : "stdout",
          "output_type" : "stream",
          "text" : "predictResult: org.apache.spark.rdd.RDD[Double] = MapPartitionsRDD[45] at mapPartitions at GeneralizedLinearAlgorithm.scala:70\n"
        },
        {
          "metadata" : { },
          "data" : {
            "text/html" : ""
          },
          "output_type" : "execute_result",
          "execution_count" : 19,
          "time" : "Took: 0.723s, at 2017-09-06 06:55"
        }
      ]
    },
    {
      "metadata" : {
        "trusted" : true,
        "input_collapsed" : false,
        "collapsed" : false,
        "presentation" : {
          "tabs_state" : "{\n  \"tab_id\": \"#tab145994627-0\"\n}",
          "pivot_chart_state" : "{\n  \"hiddenAttributes\": [],\n  \"menuLimit\": 200,\n  \"cols\": [],\n  \"rows\": [],\n  \"vals\": [],\n  \"exclusions\": {},\n  \"inclusions\": {},\n  \"unusedAttrsVertical\": 85,\n  \"autoSortUnusedAttrs\": false,\n  \"inclusionsInfo\": {},\n  \"aggregatorName\": \"Count\",\n  \"rendererName\": \"Table\"\n}"
        },
        "id" : "368883DA66F6469E8531060CFE977A50"
      },
      "cell_type" : "code",
      "source" : [
        "predictResult.collect()"
      ],
      "outputs" : [
        {
          "name" : "stdout",
          "output_type" : "stream",
          "text" : "res101: Array[Double] = Array(0.003554256277734528)\n"
        },
        {
          "metadata" : { },
          "data" : {
            "text/html" : "<div>\n      <script data-this=\"{&quot;dataId&quot;:&quot;anon84c10dae012bfffb7fff842ba64e56a5&quot;,&quot;dataInit&quot;:[],&quot;genId&quot;:&quot;145994627&quot;}\" type=\"text/x-scoped-javascript\">/*<![CDATA[*/req(['../javascripts/notebook/playground','../javascripts/notebook/magic/tabs'], \n      function(playground, _magictabs) {\n        // data ==> data-this (in observable.js's scopedEval) ==> this in JS => { dataId, dataInit, ... }\n        // this ==> scope (in observable.js's scopedEval) ==> this.parentElement ==> div.container below (toHtml)\n\n        playground.call(data,\n                        this\n                        ,\n                        {\n    \"f\": _magictabs,\n    \"o\": {}\n  }\n  \n                        \n                        \n                      );\n      }\n    );/*]]>*/</script>\n    <div>\n      <div>\n        <ul class=\"nav nav-tabs\" id=\"ul145994627\"><li>\n              <a href=\"#tab145994627-0\"><i class=\"fa fa-table\"/></a>\n            </li><li>\n              <a href=\"#tab145994627-1\"><i class=\"fa fa-dot-circle-o\"/></a>\n            </li><li>\n              <a href=\"#tab145994627-2\"><i class=\"fa fa-line-chart\"/></a>\n            </li><li>\n              <a href=\"#tab145994627-3\"><i class=\"fa fa-bar-chart\"/></a>\n            </li><li>\n              <a href=\"#tab145994627-4\"><i class=\"fa fa-cubes\"/></a>\n            </li></ul>\n\n        <div class=\"tab-content\" id=\"tab145994627\"><div class=\"tab-pane\" id=\"tab145994627-0\">\n            <div>\n      <script data-this=\"{&quot;dataId&quot;:&quot;anone946e3e0a5f7721f2ef15a9e0f5360df&quot;,&quot;dataInit&quot;:[{&quot;_1&quot;:0,&quot;_2&quot;:0.003554256277734528}],&quot;genId&quot;:&quot;990800418&quot;}\" type=\"text/x-scoped-javascript\">/*<![CDATA[*/req(['../javascripts/notebook/playground','../javascripts/notebook/magic/tableChart'], \n      function(playground, _magictableChart) {\n        // data ==> data-this (in observable.js's scopedEval) ==> this in JS => { dataId, dataInit, ... }\n        // this ==> scope (in observable.js's scopedEval) ==> this.parentElement ==> div.container below (toHtml)\n\n        playground.call(data,\n                        this\n                        ,\n                        {\n    \"f\": _magictableChart,\n    \"o\": {\"headers\":[\"_1\",\"_2\"],\"width\":600,\"height\":400}\n  }\n  \n                        \n                        \n                      );\n      }\n    );/*]]>*/</script>\n    <div>\n      <span class=\"chart-total-item-count\"><p data-bind=\"text: value\"><script data-this=\"{&quot;valueId&quot;:&quot;anonbaac38d9c1cc402da0c53c04c2209363&quot;,&quot;initialValue&quot;:&quot;1&quot;}\" type=\"text/x-scoped-javascript\">/*<![CDATA[*/\nreq(\n['observable', 'knockout'],\nfunction (O, ko) {\n  ko.applyBindings({\n      value: O.makeObservable(valueId, initialValue)\n    },\n    this\n  );\n});\n        /*]]>*/</script></p> entries total</span>\n      <span class=\"chart-sampling-warning\"><p data-bind=\"text: value\"><script data-this=\"{&quot;valueId&quot;:&quot;anon3c4a3bb13672892a0bb1f9c26d4239dc&quot;,&quot;initialValue&quot;:&quot;&quot;}\" type=\"text/x-scoped-javascript\">/*<![CDATA[*/\nreq(\n['observable', 'knockout'],\nfunction (O, ko) {\n  ko.applyBindings({\n      value: O.makeObservable(valueId, initialValue)\n    },\n    this\n  );\n});\n        /*]]>*/</script></p></span>\n      <div>\n      </div>\n    </div></div>\n            </div><div class=\"tab-pane\" id=\"tab145994627-1\">\n            <div>\n      <script data-this=\"{&quot;dataId&quot;:&quot;anonfc13e5ce99235cc73127df94ea5deb49&quot;,&quot;dataInit&quot;:[{&quot;_1&quot;:0,&quot;_2&quot;:0.003554256277734528}],&quot;genId&quot;:&quot;1747925997&quot;}\" type=\"text/x-scoped-javascript\">/*<![CDATA[*/req(['../javascripts/notebook/playground','../javascripts/notebook/magic/scatterChart'], \n      function(playground, _magicscatterChart) {\n        // data ==> data-this (in observable.js's scopedEval) ==> this in JS => { dataId, dataInit, ... }\n        // this ==> scope (in observable.js's scopedEval) ==> this.parentElement ==> div.container below (toHtml)\n\n        playground.call(data,\n                        this\n                        ,\n                        {\n    \"f\": _magicscatterChart,\n    \"o\": {\"x\":\"_1\",\"y\":\"_2\",\"width\":600,\"height\":400}\n  }\n  \n                        \n                        \n                      );\n      }\n    );/*]]>*/</script>\n    <div>\n      <span class=\"chart-total-item-count\"><p data-bind=\"text: value\"><script data-this=\"{&quot;valueId&quot;:&quot;anon0895081c733ebf622e0a5a6b67fde618&quot;,&quot;initialValue&quot;:&quot;1&quot;}\" type=\"text/x-scoped-javascript\">/*<![CDATA[*/\nreq(\n['observable', 'knockout'],\nfunction (O, ko) {\n  ko.applyBindings({\n      value: O.makeObservable(valueId, initialValue)\n    },\n    this\n  );\n});\n        /*]]>*/</script></p> entries total</span>\n      <span class=\"chart-sampling-warning\"><p data-bind=\"text: value\"><script data-this=\"{&quot;valueId&quot;:&quot;anonbe78799b9e28e3d77e820ee82716f5eb&quot;,&quot;initialValue&quot;:&quot;&quot;}\" type=\"text/x-scoped-javascript\">/*<![CDATA[*/\nreq(\n['observable', 'knockout'],\nfunction (O, ko) {\n  ko.applyBindings({\n      value: O.makeObservable(valueId, initialValue)\n    },\n    this\n  );\n});\n        /*]]>*/</script></p></span>\n      <div>\n      </div>\n    </div></div>\n            </div><div class=\"tab-pane\" id=\"tab145994627-2\">\n            <div>\n      <script data-this=\"{&quot;dataId&quot;:&quot;anon7521fed7e615c3bf84488278959381e4&quot;,&quot;dataInit&quot;:[{&quot;_1&quot;:0,&quot;_2&quot;:0.003554256277734528}],&quot;genId&quot;:&quot;1955958571&quot;}\" type=\"text/x-scoped-javascript\">/*<![CDATA[*/req(['../javascripts/notebook/playground','../javascripts/notebook/magic/lineChart'], \n      function(playground, _magiclineChart) {\n        // data ==> data-this (in observable.js's scopedEval) ==> this in JS => { dataId, dataInit, ... }\n        // this ==> scope (in observable.js's scopedEval) ==> this.parentElement ==> div.container below (toHtml)\n\n        playground.call(data,\n                        this\n                        ,\n                        {\n    \"f\": _magiclineChart,\n    \"o\": {\"x\":\"_1\",\"y\":\"_2\",\"width\":600,\"height\":400}\n  }\n  \n                        \n                        \n                      );\n      }\n    );/*]]>*/</script>\n    <div>\n      <span class=\"chart-total-item-count\"><p data-bind=\"text: value\"><script data-this=\"{&quot;valueId&quot;:&quot;anon788c152980c24c9964052c267ff4f4b3&quot;,&quot;initialValue&quot;:&quot;1&quot;}\" type=\"text/x-scoped-javascript\">/*<![CDATA[*/\nreq(\n['observable', 'knockout'],\nfunction (O, ko) {\n  ko.applyBindings({\n      value: O.makeObservable(valueId, initialValue)\n    },\n    this\n  );\n});\n        /*]]>*/</script></p> entries total</span>\n      <span class=\"chart-sampling-warning\"><p data-bind=\"text: value\"><script data-this=\"{&quot;valueId&quot;:&quot;anon40775f1c93ce3e60e343c890e8a9532f&quot;,&quot;initialValue&quot;:&quot;&quot;}\" type=\"text/x-scoped-javascript\">/*<![CDATA[*/\nreq(\n['observable', 'knockout'],\nfunction (O, ko) {\n  ko.applyBindings({\n      value: O.makeObservable(valueId, initialValue)\n    },\n    this\n  );\n});\n        /*]]>*/</script></p></span>\n      <div>\n      </div>\n    </div></div>\n            </div><div class=\"tab-pane\" id=\"tab145994627-3\">\n            <div>\n      <script data-this=\"{&quot;dataId&quot;:&quot;anon9fbc3d82e6d90aa3611b8ff0bd5d8fd8&quot;,&quot;dataInit&quot;:[{&quot;_1&quot;:0,&quot;_2&quot;:0.003554256277734528}],&quot;genId&quot;:&quot;974122029&quot;}\" type=\"text/x-scoped-javascript\">/*<![CDATA[*/req(['../javascripts/notebook/playground','../javascripts/notebook/magic/barChart'], \n      function(playground, _magicbarChart) {\n        // data ==> data-this (in observable.js's scopedEval) ==> this in JS => { dataId, dataInit, ... }\n        // this ==> scope (in observable.js's scopedEval) ==> this.parentElement ==> div.container below (toHtml)\n\n        playground.call(data,\n                        this\n                        ,\n                        {\n    \"f\": _magicbarChart,\n    \"o\": {\"x\":\"_1\",\"y\":\"_2\",\"width\":600,\"height\":400}\n  }\n  \n                        \n                        \n                      );\n      }\n    );/*]]>*/</script>\n    <div>\n      <span class=\"chart-total-item-count\"><p data-bind=\"text: value\"><script data-this=\"{&quot;valueId&quot;:&quot;anon63e84b057cca3a4a25ef2fdb18809985&quot;,&quot;initialValue&quot;:&quot;1&quot;}\" type=\"text/x-scoped-javascript\">/*<![CDATA[*/\nreq(\n['observable', 'knockout'],\nfunction (O, ko) {\n  ko.applyBindings({\n      value: O.makeObservable(valueId, initialValue)\n    },\n    this\n  );\n});\n        /*]]>*/</script></p> entries total</span>\n      <span class=\"chart-sampling-warning\"><p data-bind=\"text: value\"><script data-this=\"{&quot;valueId&quot;:&quot;anonc060a852c926ec61304282b29341e816&quot;,&quot;initialValue&quot;:&quot;&quot;}\" type=\"text/x-scoped-javascript\">/*<![CDATA[*/\nreq(\n['observable', 'knockout'],\nfunction (O, ko) {\n  ko.applyBindings({\n      value: O.makeObservable(valueId, initialValue)\n    },\n    this\n  );\n});\n        /*]]>*/</script></p></span>\n      <div>\n      </div>\n    </div></div>\n            </div><div class=\"tab-pane\" id=\"tab145994627-4\">\n            <div>\n      <script data-this=\"{&quot;dataId&quot;:&quot;anon2ac6d2a17ea5cbb832a2bd073e0022bb&quot;,&quot;dataInit&quot;:[{&quot;_1&quot;:0,&quot;_2&quot;:0.003554256277734528}],&quot;genId&quot;:&quot;428144734&quot;}\" type=\"text/x-scoped-javascript\">/*<![CDATA[*/req(['../javascripts/notebook/playground','../javascripts/notebook/magic/pivotChart'], \n      function(playground, _magicpivotChart) {\n        // data ==> data-this (in observable.js's scopedEval) ==> this in JS => { dataId, dataInit, ... }\n        // this ==> scope (in observable.js's scopedEval) ==> this.parentElement ==> div.container below (toHtml)\n\n        playground.call(data,\n                        this\n                        ,\n                        {\n    \"f\": _magicpivotChart,\n    \"o\": {\"width\":600,\"height\":400,\"derivedAttributes\":{},\"extraOptions\":{}}\n  }\n  \n                        \n                        \n                      );\n      }\n    );/*]]>*/</script>\n    <div>\n      <span class=\"chart-total-item-count\"><p data-bind=\"text: value\"><script data-this=\"{&quot;valueId&quot;:&quot;anon9e347f28a123cddf0696bdcf5356643e&quot;,&quot;initialValue&quot;:&quot;1&quot;}\" type=\"text/x-scoped-javascript\">/*<![CDATA[*/\nreq(\n['observable', 'knockout'],\nfunction (O, ko) {\n  ko.applyBindings({\n      value: O.makeObservable(valueId, initialValue)\n    },\n    this\n  );\n});\n        /*]]>*/</script></p> entries total</span>\n      <span class=\"chart-sampling-warning\"><p data-bind=\"text: value\"><script data-this=\"{&quot;valueId&quot;:&quot;anon38cb0fb3cde5c56ab11c4170ac1b39f3&quot;,&quot;initialValue&quot;:&quot;&quot;}\" type=\"text/x-scoped-javascript\">/*<![CDATA[*/\nreq(\n['observable', 'knockout'],\nfunction (O, ko) {\n  ko.applyBindings({\n      value: O.makeObservable(valueId, initialValue)\n    },\n    this\n  );\n});\n        /*]]>*/</script></p></span>\n      <div>\n      </div>\n    </div></div>\n            </div></div>\n      </div>\n    </div></div>"
          },
          "output_type" : "execute_result",
          "execution_count" : 62,
          "time" : "Took: 1.429s, at 2017-09-05 09:30"
        }
      ]
    },
    {
      "metadata" : {
        "id" : "2E6C3A0054F74A4A8C94930AAE3DB40B"
      },
      "cell_type" : "markdown",
      "source" : "### Conclusion :\n\nWithout any optimization and with the dataset not very big (40 observations), the quality of the model is not very good (because MSE is very big, this indicator means the difference between the real value and the predicted value and it shouldn't be big). To optimize this model, we can add more observations or more descriptives variables (here we just take randomly these variables as example), play with the parameters when we train the model, filter out the anomalies in the dataset or selection variables, etc."
    },
    {
      "metadata" : {
        "id" : "583B7F29D03B476C822E9CE82D032C97"
      },
      "cell_type" : "markdown",
      "source" : "### Convert to PMML "
    },
    {
      "metadata" : {
        "trusted" : true,
        "input_collapsed" : false,
        "collapsed" : false,
        "id" : "B9D7210742184628A41B4D788FAEA7F5"
      },
      "cell_type" : "code",
      "source" : [
        "// Export to PMML to a String in PMML format\n",
        "println(\"PMML Model:\\n\" + model.toPMML)"
      ],
      "outputs" : [
        {
          "metadata" : { },
          "data" : {
            "text/html" : ""
          },
          "output_type" : "execute_result",
          "execution_count" : 27,
          "time" : "Took: 1.739s, at 2017-09-06 09:48"
        }
      ]
    },
    {
      "metadata" : {
        "id" : "98241A73541F45C6A8974FAD78238DC1"
      },
      "cell_type" : "markdown",
      "source" : "### Steps to create an API in Hupi - Interface"
    },
    {
      "metadata" : {
        "id" : "2F789947D1EE4E898ABD3853579BB7DC"
      },
      "cell_type" : "markdown",
      "source" : "1/ After printing the PMML code, we can now copy (from </PMML version... to </PMML>) \n\n2/ You can now go to Hupi - Link, click on \"Predict\", here you can see all predict endpoints, click now on \"Create predict endpoint\", you fill in method name, then click on \"Add query object\", you will see \"Query Object\", click on it and paste the PMML code in \"Modele\". In Query Object, beside \"Modele\", we need to complete also : Name, Description (optional), Predict engine (here choose OpenScoring), Export type (csv, etc.). Then click on \"Submit\". One sign shows that Hupi understands the model is after clicking on submit, when you reopen \"Query Object\", there will have \"Summary\" in which it describes the model such as :\n\n{\n\"data\":{\n\"id\":\"someId\",\n\"miningFunction\":\"regression\",\n....\n}\n}\n\nIf you see something like this, the API is there! if not, there must be something wrong or you didn't copy properly the PMML code!"
    },
    {
      "metadata" : {
        "trusted" : true,
        "input_collapsed" : false,
        "collapsed" : true,
        "id" : "34B995A4DCF84A409C3ED7C88C7EC6FE"
      },
      "cell_type" : "markdown",
      "source" : "### Steps to make the predict result visible in Hupi - interface "
    },
    {
      "metadata" : {
        "id" : "E44E2B3CBBD24BC8B0FEE4370A333E30"
      },
      "cell_type" : "markdown",
      "source" : "1/ After having create the endpoint predict with PMML, we can now create a Widget. You can click on \"Widgets\", then \"Create widget\". Write a \"Name\" then click on \"Details\", fill in \"URI\", click and choose the endpoint predict that you recently created, and \"Render Type\" : csv. After this, click on \"Options\", we have to add the descriptives variables in the model (Attention : the names should be the same names as in the PMML code : in the PMML code, you can see DataField name = \"field_0\", ...Here field_0 is the name of your first descriptive variable. So now, we can click on \"add API params\", in the left, we fill \"field_0\" and the value in the right. Here we have 8 variables, so we need to create 8 lines like this...When you are done, click on \"Submit\"!\n\n2/ Then in the left, click on \"Widget Preview\" to see the output that will be shown in Hupi - Front. \n\n3/ What's left is just create a dashboard and add it in a theme, then add the Widget in the dashboard !"
    },
    {
      "metadata" : {
        "id" : "C562906D5173430A8DE03240ECE09E99"
      },
      "cell_type" : "markdown",
      "source" : "### To create the data visualizations in Hupi - Front\n\nHere we want to create some visualizations of the dataset in Hupi - Front, we have to save the dataset in the database MongoDB and then create the endpoint that use this collection and then widgets that describe data with graphics.\n\nTo be able to run the code below, we should add a dependency in \"Edit\" -> \"Edit notebook metadata\" -> \"customDeps\". See more in https://github.com/spark-notebook/spark-notebook/blob/master/docs/metadata.md"
    },
    {
      "metadata" : {
        "trusted" : true,
        "input_collapsed" : false,
        "collapsed" : false,
        "id" : "CAB1F7310ED24DF3858B5D1EF09F3A78"
      },
      "cell_type" : "code",
      "source" : [
        "import com.mongodb.spark._\n",
        "import com.mongodb.spark.config._\n",
        "import org.bson.Document"
      ],
      "outputs" : [
        {
          "name" : "stdout",
          "output_type" : "stream",
          "text" : "import com.mongodb.spark._\nimport com.mongodb.spark.config._\nimport org.bson.Document\n"
        },
        {
          "metadata" : { },
          "data" : {
            "text/html" : ""
          },
          "output_type" : "execute_result",
          "execution_count" : 21,
          "time" : "Took: 0.677s, at 2017-09-06 06:56"
        }
      ]
    },
    {
      "metadata" : {
        "id" : "F3C062F6562942D78614F0C18E934E06"
      },
      "cell_type" : "markdown",
      "source" : "#### We have 2 ways to save in MongoDB \n\nI will show all 2 ways :\n\nFrom DataFrame and RDD\n\n#### 1/ Save DataFrame in MongoDB"
    },
    {
      "metadata" : {
        "trusted" : true,
        "input_collapsed" : false,
        "collapsed" : false,
        "id" : "38FA30934A6248D5847EF1AAD474904F"
      },
      "cell_type" : "code",
      "source" : [
        "df.write.format(\"com.mongodb.spark.sql\").option(\"uri\", \"mongodb://10.100.2.7:27017/hupi.dataset_climateVn\")\n",
        ".mode(\"overwrite\").save()"
      ],
      "outputs" : [
        {
          "metadata" : { },
          "data" : {
            "text/html" : ""
          },
          "output_type" : "execute_result",
          "execution_count" : 24,
          "time" : "Took: 1.098s, at 2017-09-06 06:56"
        }
      ]
    },
    {
      "metadata" : {
        "trusted" : true,
        "input_collapsed" : false,
        "collapsed" : false,
        "id" : "B7E77BAF59A644CFBA10616ACB357E23"
      },
      "cell_type" : "code",
      "source" : [
        "df.printSchema()"
      ],
      "outputs" : [
        {
          "name" : "stdout",
          "output_type" : "stream",
          "text" : "root\n |-- City: string (nullable = true)\n |-- Day: long (nullable = true)\n |-- High cloud cover daily mean [high cld lay]: double (nullable = true)\n |-- Lat: double (nullable = true)\n |-- Lon: double (nullable = true)\n |-- Low cloud cover daily mean [low cld lay]: double (nullable = true)\n |-- Mean Sea Level Pressure daily mean [MSL]: double (nullable = true)\n |-- Medium cloud cover daily mean [mid cld lay]: double (nullable = true)\n |-- Month: long (nullable = true)\n |-- Relative humidity daily mean [2 m above gnd]: double (nullable = true)\n |-- Shortwave Radiation - backwards daily sum [sfc]: double (nullable = true)\n |-- Temperature daily mean [2 m above gnd]: double (nullable = true)\n |-- Total Precipitation daily sum [sfc]: double (nullable = true)\n |-- Total cloud cover daily mean [sfc]: double (nullable = true)\n |-- Year: long (nullable = true)\n |-- datestamp: string (nullable = true)\n |-- timestamp: long (nullable = true)\n\n"
        },
        {
          "metadata" : { },
          "data" : {
            "text/html" : ""
          },
          "output_type" : "execute_result",
          "execution_count" : 69,
          "time" : "Took: 1.495s, at 2017-09-05 09:54"
        }
      ]
    },
    {
      "metadata" : {
        "id" : "478EF64879714F978093DBDDF45308EA"
      },
      "cell_type" : "markdown",
      "source" : "#### 2/ Save RDD in MongoDB\n\nHere we will convert in the same time into good format to make a geoNear query in Mongo (the geometry coordinates with longitude and latitude). \n\nSee more on https://docs.mongodb.com/manual/geospatial-queries/"
    },
    {
      "metadata" : {
        "trusted" : true,
        "input_collapsed" : false,
        "collapsed" : false,
        "id" : "A3956EDA82554F45845616C8987543DD"
      },
      "cell_type" : "code",
      "source" : [
        "// Convert DF to RDD\n",
        "val rddMongo = df.map(l => (l(0).asInstanceOf[String], l(1).asInstanceOf[Long],\n",
        "                      l(2).asInstanceOf[Double], l(3).asInstanceOf[Double],\n",
        "                      l(4).asInstanceOf[Double], l(5).asInstanceOf[Double],\n",
        "                      l(6).asInstanceOf[Double], l(7).asInstanceOf[Double],\n",
        "                      l(8).asInstanceOf[Long], l(9).asInstanceOf[Double],\n",
        "                      l(10).asInstanceOf[Double], l(11).asInstanceOf[Double],\n",
        "                      l(12).asInstanceOf[Double], l(13).asInstanceOf[Double],\n",
        "                      l(14).asInstanceOf[Long], l(15).asInstanceOf[String],\n",
        "                      l(16).asInstanceOf[Long])).rdd"
      ],
      "outputs" : [
        {
          "name" : "stdout",
          "output_type" : "stream",
          "text" : "rddMongo: org.apache.spark.rdd.RDD[(String, Long, Double, Double, Double, Double, Double, Double, Long, Double, Double, Double, Double, Double, Long, String, Long)] = MapPartitionsRDD[68] at rdd at <console>:104\n"
        },
        {
          "metadata" : { },
          "data" : {
            "text/html" : ""
          },
          "output_type" : "execute_result",
          "execution_count" : 26,
          "time" : "Took: 0.921s, at 2017-09-06 06:57"
        }
      ]
    },
    {
      "metadata" : {
        "trusted" : true,
        "input_collapsed" : false,
        "collapsed" : false,
        "id" : "F6E93DC9CB7D41CB951BE579C4A3DDA7"
      },
      "cell_type" : "code",
      "source" : [
        "// convert rdd to good format \n",
        "val rdd_toSave = rddMongo.map(l => Document.parse(s\"{City: '${l._1}', Day: ${l._2}, High_cloud_cover_daily_mean: ${l._3},Low_cloud_cover_daily_mean: ${l._6}, Mean_Sea_Level_Pressure_daily_mean: ${l._7}, Medium_cloud_cover_daily_mean: ${l._8}, Month: ${l._9}, Relative_humidity_daily_mean: ${l._10}, Shortwave_Radiation_backwards_daily_sum: ${l._11},Temperature_daily_mean: ${l._12}, Total_Precipitation_daily_sum: ${l._13},Total_cloud_cover_daily_mean: ${l._14},Year: ${l._15},datestamp: '${l._16}',timestamp: ${l._17}, geometry: {type: 'Point', coordinates: [${l._5}, ${l._4}]}}\")) "
      ],
      "outputs" : [
        {
          "name" : "stdout",
          "output_type" : "stream",
          "text" : "rdd_toSave: org.apache.spark.rdd.RDD[org.bson.Document] = MapPartitionsRDD[158] at map at <console>:135\n"
        },
        {
          "metadata" : { },
          "data" : {
            "text/html" : ""
          },
          "output_type" : "execute_result",
          "execution_count" : 86,
          "time" : "Took: 1.112s, at 2017-09-05 10:16"
        }
      ]
    },
    {
      "metadata" : {
        "trusted" : true,
        "input_collapsed" : false,
        "collapsed" : false,
        "presentation" : {
          "tabs_state" : "{\n  \"tab_id\": \"#tab1763535853-0\"\n}",
          "pivot_chart_state" : "{\n  \"hiddenAttributes\": [],\n  \"menuLimit\": 200,\n  \"cols\": [],\n  \"rows\": [],\n  \"vals\": [],\n  \"exclusions\": {},\n  \"inclusions\": {},\n  \"unusedAttrsVertical\": 85,\n  \"autoSortUnusedAttrs\": false,\n  \"inclusionsInfo\": {},\n  \"aggregatorName\": \"Count\",\n  \"rendererName\": \"Table\"\n}"
        },
        "id" : "357AB910B753482785A0FCBC1A4D107C"
      },
      "cell_type" : "code",
      "source" : [
        "rdd_toSave.take(5)"
      ],
      "outputs" : [
        {
          "name" : "stdout",
          "output_type" : "stream",
          "text" : "res136: Array[org.bson.Document] = Array(Document{{City=Ho Chi Minh, Day=23, High_cloud_cover_daily_mean=85.08, Low_cloud_cover_daily_mean=42.42, Mean_Sea_Level_Pressure_daily_mean=1007.0, Medium_cloud_cover_daily_mean=89.46, Month=8, Relative_humidity_daily_mean=86.92, Shortwave_Radiation_backwards_daily_sum=2094.17, Temperature_daily_mean=26.27, Total_Precipitation_daily_sum=9.4, Total_cloud_cover_daily_mean=89.92, Year=2017, datestamp=23-08-2017, timestamp=1503439200, geometry=Document{{type=Point, coordinates=[106.63, 10.823]}}}}, Document{{City=Ho Chi Minh, Day=24, High_cloud_cover_daily_mean=44.92, Low_cloud_cover_daily_mean=31.29, Mean_Sea_Level_Pressure_daily_mean=1007.35, Medium_cloud_cover_daily_mean=70.12, Month=8, Relative_humidity_daily_mean=82.5, Shortwave_Radiation_backwa..."
        },
        {
          "metadata" : { },
          "data" : {
            "text/html" : "<div>\n      <script data-this=\"{&quot;dataId&quot;:&quot;anon34adb3c1062fd536f160e40b2a6058e2&quot;,&quot;dataInit&quot;:[],&quot;genId&quot;:&quot;1763535853&quot;}\" type=\"text/x-scoped-javascript\">/*<![CDATA[*/req(['../javascripts/notebook/playground','../javascripts/notebook/magic/tabs'], \n      function(playground, _magictabs) {\n        // data ==> data-this (in observable.js's scopedEval) ==> this in JS => { dataId, dataInit, ... }\n        // this ==> scope (in observable.js's scopedEval) ==> this.parentElement ==> div.container below (toHtml)\n\n        playground.call(data,\n                        this\n                        ,\n                        {\n    \"f\": _magictabs,\n    \"o\": {}\n  }\n  \n                        \n                        \n                      );\n      }\n    );/*]]>*/</script>\n    <div>\n      <div>\n        <ul class=\"nav nav-tabs\" id=\"ul1763535853\"><li>\n              <a href=\"#tab1763535853-0\"><i class=\"fa fa-table\"/></a>\n            </li><li>\n              <a href=\"#tab1763535853-1\"><i class=\"fa fa-cubes\"/></a>\n            </li></ul>\n\n        <div class=\"tab-content\" id=\"tab1763535853\"><div class=\"tab-pane\" id=\"tab1763535853-0\">\n            <div>\n      <script data-this=\"{&quot;dataId&quot;:&quot;anon1640bf9383453483e3367bd372685a0d&quot;,&quot;dataInit&quot;:[{&quot;documentAsMap&quot;:&quot;{City=Ho Chi Minh, Day=23, High_cloud_cover_daily_mean=85.08, Low_cloud_cover_daily_mean=42.42, Mean_Sea_Level_Pressure_daily_mean=1007.0, Medium_cloud_cover_daily_mean=89.46, Month=8, Relative_humidity_daily_mean=86.92, Shortwave_Radiation_backwards_daily_sum=2094.17, Temperature_daily_mean=26.27, Total_Precipitation_daily_sum=9.4, Total_cloud_cover_daily_mean=89.92, Year=2017, datestamp=23-08-2017, timestamp=1503439200, geometry=Document{{type=Point, coordinates=[106.63, 10.823]}}}&quot;},{&quot;documentAsMap&quot;:&quot;{City=Ho Chi Minh, Day=24, High_cloud_cover_daily_mean=44.92, Low_cloud_cover_daily_mean=31.29, Mean_Sea_Level_Pressure_daily_mean=1007.35, Medium_cloud_cover_daily_mean=70.12, Month=8, Relative_humidity_daily_mean=82.5, Shortwave_Radiation_backwards_daily_sum=3365.09, Temperature_daily_mean=27.16, Total_Precipitation_daily_sum=2.6, Total_cloud_cover_daily_mean=72.88, Year=2017, datestamp=24-08-2017, timestamp=1503525600, geometry=Document{{type=Point, coordinates=[106.63, 10.823]}}}&quot;},{&quot;documentAsMap&quot;:&quot;{City=Ho Chi Minh, Day=25, High_cloud_cover_daily_mean=78.04, Low_cloud_cover_daily_mean=42.5, Mean_Sea_Level_Pressure_daily_mean=1007.31, Medium_cloud_cover_daily_mean=84.71, Month=8, Relative_humidity_daily_mean=86.17, Shortwave_Radiation_backwards_daily_sum=2028.31, Temperature_daily_mean=26.68, Total_Precipitation_daily_sum=10.0, Total_cloud_cover_daily_mean=85.28, Year=2017, datestamp=25-08-2017, timestamp=1503612000, geometry=Document{{type=Point, coordinates=[106.63, 10.823]}}}&quot;},{&quot;documentAsMap&quot;:&quot;{City=Ho Chi Minh, Day=26, High_cloud_cover_daily_mean=62.83, Low_cloud_cover_daily_mean=60.21, Mean_Sea_Level_Pressure_daily_mean=1005.54, Medium_cloud_cover_daily_mean=66.5, Month=8, Relative_humidity_daily_mean=87.83, Shortwave_Radiation_backwards_daily_sum=1682.99, Temperature_daily_mean=26.49, Total_Precipitation_daily_sum=14.4, Total_cloud_cover_daily_mean=73.17, Year=2017, datestamp=26-08-2017, timestamp=1503698400, geometry=Document{{type=Point, coordinates=[106.63, 10.823]}}}&quot;},{&quot;documentAsMap&quot;:&quot;{City=Ho Chi Minh, Day=27, High_cloud_cover_daily_mean=49.08, Low_cloud_cover_daily_mean=61.5, Mean_Sea_Level_Pressure_daily_mean=1005.94, Medium_cloud_cover_daily_mean=97.12, Month=8, Relative_humidity_daily_mean=86.46, Shortwave_Radiation_backwards_daily_sum=2837.32, Temperature_daily_mean=26.42, Total_Precipitation_daily_sum=4.3, Total_cloud_cover_daily_mean=97.12, Year=2017, datestamp=27-08-2017, timestamp=1503784800, geometry=Document{{type=Point, coordinates=[106.63, 10.823]}}}&quot;}],&quot;genId&quot;:&quot;371087635&quot;}\" type=\"text/x-scoped-javascript\">/*<![CDATA[*/req(['../javascripts/notebook/playground','../javascripts/notebook/magic/tableChart'], \n      function(playground, _magictableChart) {\n        // data ==> data-this (in observable.js's scopedEval) ==> this in JS => { dataId, dataInit, ... }\n        // this ==> scope (in observable.js's scopedEval) ==> this.parentElement ==> div.container below (toHtml)\n\n        playground.call(data,\n                        this\n                        ,\n                        {\n    \"f\": _magictableChart,\n    \"o\": {\"headers\":[\"documentAsMap\"],\"width\":600,\"height\":400}\n  }\n  \n                        \n                        \n                      );\n      }\n    );/*]]>*/</script>\n    <div>\n      <span class=\"chart-total-item-count\"><p data-bind=\"text: value\"><script data-this=\"{&quot;valueId&quot;:&quot;anon110a1d442b90d246d44eadd3ada91a66&quot;,&quot;initialValue&quot;:&quot;5&quot;}\" type=\"text/x-scoped-javascript\">/*<![CDATA[*/\nreq(\n['observable', 'knockout'],\nfunction (O, ko) {\n  ko.applyBindings({\n      value: O.makeObservable(valueId, initialValue)\n    },\n    this\n  );\n});\n        /*]]>*/</script></p> entries total</span>\n      <span class=\"chart-sampling-warning\"><p data-bind=\"text: value\"><script data-this=\"{&quot;valueId&quot;:&quot;anon16b455d1051d9c4a510734590adf23c8&quot;,&quot;initialValue&quot;:&quot;&quot;}\" type=\"text/x-scoped-javascript\">/*<![CDATA[*/\nreq(\n['observable', 'knockout'],\nfunction (O, ko) {\n  ko.applyBindings({\n      value: O.makeObservable(valueId, initialValue)\n    },\n    this\n  );\n});\n        /*]]>*/</script></p></span>\n      <div>\n      </div>\n    </div></div>\n            </div><div class=\"tab-pane\" id=\"tab1763535853-1\">\n            <div>\n      <script data-this=\"{&quot;dataId&quot;:&quot;anonebcb778e272e2214a37b77935059ba01&quot;,&quot;dataInit&quot;:[{&quot;documentAsMap&quot;:&quot;{City=Ho Chi Minh, Day=23, High_cloud_cover_daily_mean=85.08, Low_cloud_cover_daily_mean=42.42, Mean_Sea_Level_Pressure_daily_mean=1007.0, Medium_cloud_cover_daily_mean=89.46, Month=8, Relative_humidity_daily_mean=86.92, Shortwave_Radiation_backwards_daily_sum=2094.17, Temperature_daily_mean=26.27, Total_Precipitation_daily_sum=9.4, Total_cloud_cover_daily_mean=89.92, Year=2017, datestamp=23-08-2017, timestamp=1503439200, geometry=Document{{type=Point, coordinates=[106.63, 10.823]}}}&quot;},{&quot;documentAsMap&quot;:&quot;{City=Ho Chi Minh, Day=24, High_cloud_cover_daily_mean=44.92, Low_cloud_cover_daily_mean=31.29, Mean_Sea_Level_Pressure_daily_mean=1007.35, Medium_cloud_cover_daily_mean=70.12, Month=8, Relative_humidity_daily_mean=82.5, Shortwave_Radiation_backwards_daily_sum=3365.09, Temperature_daily_mean=27.16, Total_Precipitation_daily_sum=2.6, Total_cloud_cover_daily_mean=72.88, Year=2017, datestamp=24-08-2017, timestamp=1503525600, geometry=Document{{type=Point, coordinates=[106.63, 10.823]}}}&quot;},{&quot;documentAsMap&quot;:&quot;{City=Ho Chi Minh, Day=25, High_cloud_cover_daily_mean=78.04, Low_cloud_cover_daily_mean=42.5, Mean_Sea_Level_Pressure_daily_mean=1007.31, Medium_cloud_cover_daily_mean=84.71, Month=8, Relative_humidity_daily_mean=86.17, Shortwave_Radiation_backwards_daily_sum=2028.31, Temperature_daily_mean=26.68, Total_Precipitation_daily_sum=10.0, Total_cloud_cover_daily_mean=85.28, Year=2017, datestamp=25-08-2017, timestamp=1503612000, geometry=Document{{type=Point, coordinates=[106.63, 10.823]}}}&quot;},{&quot;documentAsMap&quot;:&quot;{City=Ho Chi Minh, Day=26, High_cloud_cover_daily_mean=62.83, Low_cloud_cover_daily_mean=60.21, Mean_Sea_Level_Pressure_daily_mean=1005.54, Medium_cloud_cover_daily_mean=66.5, Month=8, Relative_humidity_daily_mean=87.83, Shortwave_Radiation_backwards_daily_sum=1682.99, Temperature_daily_mean=26.49, Total_Precipitation_daily_sum=14.4, Total_cloud_cover_daily_mean=73.17, Year=2017, datestamp=26-08-2017, timestamp=1503698400, geometry=Document{{type=Point, coordinates=[106.63, 10.823]}}}&quot;},{&quot;documentAsMap&quot;:&quot;{City=Ho Chi Minh, Day=27, High_cloud_cover_daily_mean=49.08, Low_cloud_cover_daily_mean=61.5, Mean_Sea_Level_Pressure_daily_mean=1005.94, Medium_cloud_cover_daily_mean=97.12, Month=8, Relative_humidity_daily_mean=86.46, Shortwave_Radiation_backwards_daily_sum=2837.32, Temperature_daily_mean=26.42, Total_Precipitation_daily_sum=4.3, Total_cloud_cover_daily_mean=97.12, Year=2017, datestamp=27-08-2017, timestamp=1503784800, geometry=Document{{type=Point, coordinates=[106.63, 10.823]}}}&quot;}],&quot;genId&quot;:&quot;592799005&quot;}\" type=\"text/x-scoped-javascript\">/*<![CDATA[*/req(['../javascripts/notebook/playground','../javascripts/notebook/magic/pivotChart'], \n      function(playground, _magicpivotChart) {\n        // data ==> data-this (in observable.js's scopedEval) ==> this in JS => { dataId, dataInit, ... }\n        // this ==> scope (in observable.js's scopedEval) ==> this.parentElement ==> div.container below (toHtml)\n\n        playground.call(data,\n                        this\n                        ,\n                        {\n    \"f\": _magicpivotChart,\n    \"o\": {\"width\":600,\"height\":400,\"derivedAttributes\":{},\"extraOptions\":{}}\n  }\n  \n                        \n                        \n                      );\n      }\n    );/*]]>*/</script>\n    <div>\n      <span class=\"chart-total-item-count\"><p data-bind=\"text: value\"><script data-this=\"{&quot;valueId&quot;:&quot;anoncba5e333b1a00f3f0ae561af0acdacd7&quot;,&quot;initialValue&quot;:&quot;5&quot;}\" type=\"text/x-scoped-javascript\">/*<![CDATA[*/\nreq(\n['observable', 'knockout'],\nfunction (O, ko) {\n  ko.applyBindings({\n      value: O.makeObservable(valueId, initialValue)\n    },\n    this\n  );\n});\n        /*]]>*/</script></p> entries total</span>\n      <span class=\"chart-sampling-warning\"><p data-bind=\"text: value\"><script data-this=\"{&quot;valueId&quot;:&quot;anonf46dfd2befa0bed697e15642df45cccf&quot;,&quot;initialValue&quot;:&quot;&quot;}\" type=\"text/x-scoped-javascript\">/*<![CDATA[*/\nreq(\n['observable', 'knockout'],\nfunction (O, ko) {\n  ko.applyBindings({\n      value: O.makeObservable(valueId, initialValue)\n    },\n    this\n  );\n});\n        /*]]>*/</script></p></span>\n      <div>\n      </div>\n    </div></div>\n            </div></div>\n      </div>\n    </div></div>"
          },
          "output_type" : "execute_result",
          "execution_count" : 87,
          "time" : "Took: 1.504s, at 2017-09-05 10:16"
        }
      ]
    },
    {
      "metadata" : {
        "trusted" : true,
        "input_collapsed" : false,
        "collapsed" : false,
        "id" : "1922AC17F7B14EFCB634FE4D6844A328"
      },
      "cell_type" : "code",
      "source" : [
        "import org.bson._\n",
        "import com.mongodb.spark.config._\n",
        "import com.mongodb.spark._\n",
        "import com.mongodb.spark.sql._\n",
        "\n",
        "val writeConfig = WriteConfig(Map(\"uri\" -> \"mongodb://10.100.2.7:27017/hupi.dataset_climateVn_forGeoNear\", \"format\" -> \"com.mongodb.spark.sql\"))"
      ],
      "outputs" : [
        {
          "name" : "stdout",
          "output_type" : "stream",
          "text" : "import org.bson._\nimport com.mongodb.spark.config._\nimport com.mongodb.spark._\nimport com.mongodb.spark.sql._\nwriteConfig: com.mongodb.spark.config.WriteConfig.Self = WriteConfig(hupi,dataset_climateVn_forGeoNear,Some(mongodb://10.100.2.7:27017/hupi.dataset_climateVn_forGeoNear),true,512,15,WriteConcernConfig(None,None,None,None))\n"
        },
        {
          "metadata" : { },
          "data" : {
            "text/html" : ""
          },
          "output_type" : "execute_result",
          "execution_count" : 88,
          "time" : "Took: 1.241s, at 2017-09-05 10:18"
        }
      ]
    },
    {
      "metadata" : {
        "trusted" : true,
        "input_collapsed" : false,
        "collapsed" : false,
        "id" : "9A09F67A410543C48529FAF322FEE614"
      },
      "cell_type" : "code",
      "source" : [
        "MongoSpark.save(rdd_toSave, writeConfig)"
      ],
      "outputs" : [
        {
          "metadata" : { },
          "data" : {
            "text/html" : ""
          },
          "output_type" : "execute_result",
          "execution_count" : 89,
          "time" : "Took: 1.837s, at 2017-09-05 10:19"
        }
      ]
    },
    {
      "metadata" : {
        "id" : "A2F70A9D0B1B48B09D1EB41661A00A82"
      },
      "cell_type" : "markdown",
      "source" : "### To check if data is in MongoDB "
    },
    {
      "metadata" : {
        "trusted" : true,
        "input_collapsed" : false,
        "collapsed" : false,
        "id" : "D8650480303148E38A499B7E0C6DAC13"
      },
      "cell_type" : "code",
      "source" : [
        "// We can try to print data from Mongo\n",
        "val readFromMongo = ReadConfig(Map(\"uri\" -> \"mongodb://10.100.2.7:27017/hupi.dataset_climateVn\", \n",
        "                                     \"format\" -> \"com.mongodb.spark.sql\"))\n",
        "val mongoRDD = MongoSpark.load(sc, readFromMongo).map{doc => Array(doc.getString(\"City\"), \n",
        "                              doc.getDouble(\"Lat\"), doc.getDouble(\"Lon\"), doc.getLong(\"Day\"),\n",
        "                              doc.getLong(\"Month\"), doc.getLong(\"Year\"), doc.getLong(\"timestamp\"),\n",
        "                              doc.getDouble(\"High cloud cover daily mean [high cld lay]\"), doc.getDouble(\"Low cloud cover daily mean [low cld lay]\"),\n",
        "                              doc.getDouble(\"Mean Sea Level Pressure daily mean [MSL]\"), doc.getDouble(\"Medium cloud cover daily mean [mid cld lay]\"),  \n",
        "                              doc.getDouble(\"Relative humidity daily mean [2 m above gnd]\"),\n",
        "                              doc.getDouble(\"Shortwave Radiation - backwards daily sum [sfc]\"), doc.getDouble(\"Temperature daily mean [2 m above gnd]\"),                                     \n",
        "                              doc.getDouble(\"Total Precipitation daily sum [sfc]\"), doc.getDouble(\"Total cloud cover daily mean [sfc]\") \n",
        "                              )}"
      ],
      "outputs" : [
        {
          "name" : "stdout",
          "output_type" : "stream",
          "text" : "readFromMongo: com.mongodb.spark.config.ReadConfig.Self = ReadConfig(hupi,dataset_climateVn,Some(mongodb://10.100.2.7:27017/hupi.dataset_climateVn),1000,DefaultMongoPartitioner,Map(),15,ReadPreferenceConfig(primary,None),ReadConcernConfig(None),false)\nmongoRDD: org.apache.spark.rdd.RDD[Array[Comparable[_ >: Long with Double with String <: Comparable[_ >: Long with Double with String <: java.io.Serializable] with java.io.Serializable] with java.io.Serializable]] = MapPartitionsRDD[72] at map at <console>:98\n"
        },
        {
          "metadata" : { },
          "data" : {
            "text/html" : ""
          },
          "output_type" : "execute_result",
          "execution_count" : 28,
          "time" : "Took: 0.968s, at 2017-09-06 06:57"
        }
      ]
    },
    {
      "metadata" : {
        "trusted" : true,
        "input_collapsed" : false,
        "collapsed" : false,
        "id" : "C8E853ABCF04460A80715B7F226D6CA0"
      },
      "cell_type" : "code",
      "source" : [
        "mongoRDD.count"
      ],
      "outputs" : [
        {
          "name" : "stdout",
          "output_type" : "stream",
          "text" : "res39: Long = 40\n"
        },
        {
          "metadata" : { },
          "data" : {
            "text/html" : "40"
          },
          "output_type" : "execute_result",
          "execution_count" : 29,
          "time" : "Took: 1.086s, at 2017-09-06 06:57"
        }
      ]
    },
    {
      "metadata" : {
        "trusted" : true,
        "input_collapsed" : false,
        "collapsed" : false,
        "presentation" : {
          "tabs_state" : "{\n  \"tab_id\": \"#tab1158008932-0\"\n}",
          "pivot_chart_state" : "{\n  \"hiddenAttributes\": [],\n  \"menuLimit\": 200,\n  \"cols\": [],\n  \"rows\": [],\n  \"vals\": [],\n  \"exclusions\": {},\n  \"inclusions\": {},\n  \"unusedAttrsVertical\": 85,\n  \"autoSortUnusedAttrs\": false,\n  \"inclusionsInfo\": {},\n  \"aggregatorName\": \"Count\",\n  \"rendererName\": \"Table\"\n}"
        },
        "id" : "577C670C687B408096994CEFE42C58CC"
      },
      "cell_type" : "code",
      "source" : [
        "mongoRDD.take(10)"
      ],
      "outputs" : [
        {
          "name" : "stdout",
          "output_type" : "stream",
          "text" : "res111: Array[Array[Comparable[_ >: Long with Double with String <: Comparable[_ >: Long with Double with String <: java.io.Serializable] with java.io.Serializable] with java.io.Serializable]] = Array(Array(Ho Chi Minh, 10.823, 106.63, 23, 8, 2017, 1503439200, 85.08, 42.42, 1007.0, 89.46, 86.92, 2094.17, 26.27, 9.4, 89.92), Array(Ho Chi Minh, 10.823, 106.63, 24, 8, 2017, 1503525600, 44.92, 31.29, 1007.35, 70.12, 82.5, 3365.09, 27.16, 2.6, 72.88), Array(Ho Chi Minh, 10.823, 106.63, 25, 8, 2017, 1503612000, 78.04, 42.5, 1007.31, 84.71, 86.17, 2028.31, 26.68, 10.0, 85.28), Array(Ho Chi Minh, 10.823, 106.63, 26, 8, 2017, 1503698400, 62.83, 60.21, 1005.54, 66.5, 87.83, 1682.99, 26.49, 14.4, 73.17), Array(Ho Chi Minh, 10.823, 106.63, 27, 8, 2017, 1503784800, 49.08, 61.5, 1005.94, 97.12, 86.46..."
        },
        {
          "metadata" : { },
          "data" : {
            "text/html" : "<div>\n      <script data-this=\"{&quot;dataId&quot;:&quot;anon892d5608f485908b40813fd6cc56fb40&quot;,&quot;dataInit&quot;:[],&quot;genId&quot;:&quot;1158008932&quot;}\" type=\"text/x-scoped-javascript\">/*<![CDATA[*/req(['../javascripts/notebook/playground','../javascripts/notebook/magic/tabs'], \n      function(playground, _magictabs) {\n        // data ==> data-this (in observable.js's scopedEval) ==> this in JS => { dataId, dataInit, ... }\n        // this ==> scope (in observable.js's scopedEval) ==> this.parentElement ==> div.container below (toHtml)\n\n        playground.call(data,\n                        this\n                        ,\n                        {\n    \"f\": _magictabs,\n    \"o\": {}\n  }\n  \n                        \n                        \n                      );\n      }\n    );/*]]>*/</script>\n    <div>\n      <div>\n        <ul class=\"nav nav-tabs\" id=\"ul1158008932\"><li>\n              <a href=\"#tab1158008932-0\"><i class=\"fa fa-table\"/></a>\n            </li><li>\n              <a href=\"#tab1158008932-1\"><i class=\"fa fa-cubes\"/></a>\n            </li></ul>\n\n        <div class=\"tab-content\" id=\"tab1158008932\"><div class=\"tab-pane\" id=\"tab1158008932-0\">\n            <div>\n      <script data-this=\"{&quot;dataId&quot;:&quot;anon0912aae0c5bd291be057c9bf7d2b199b&quot;,&quot;dataInit&quot;:[{},{},{},{},{},{},{},{},{},{}],&quot;genId&quot;:&quot;239316896&quot;}\" type=\"text/x-scoped-javascript\">/*<![CDATA[*/req(['../javascripts/notebook/playground','../javascripts/notebook/magic/tableChart'], \n      function(playground, _magictableChart) {\n        // data ==> data-this (in observable.js's scopedEval) ==> this in JS => { dataId, dataInit, ... }\n        // this ==> scope (in observable.js's scopedEval) ==> this.parentElement ==> div.container below (toHtml)\n\n        playground.call(data,\n                        this\n                        ,\n                        {\n    \"f\": _magictableChart,\n    \"o\": {\"headers\":[],\"width\":600,\"height\":400}\n  }\n  \n                        \n                        \n                      );\n      }\n    );/*]]>*/</script>\n    <div>\n      <span class=\"chart-total-item-count\"><p data-bind=\"text: value\"><script data-this=\"{&quot;valueId&quot;:&quot;anona8d0a2ada884ed90598d627502030cff&quot;,&quot;initialValue&quot;:&quot;10&quot;}\" type=\"text/x-scoped-javascript\">/*<![CDATA[*/\nreq(\n['observable', 'knockout'],\nfunction (O, ko) {\n  ko.applyBindings({\n      value: O.makeObservable(valueId, initialValue)\n    },\n    this\n  );\n});\n        /*]]>*/</script></p> entries total</span>\n      <span class=\"chart-sampling-warning\"><p data-bind=\"text: value\"><script data-this=\"{&quot;valueId&quot;:&quot;anon44c070e50e9d899e6b48211de3804532&quot;,&quot;initialValue&quot;:&quot;&quot;}\" type=\"text/x-scoped-javascript\">/*<![CDATA[*/\nreq(\n['observable', 'knockout'],\nfunction (O, ko) {\n  ko.applyBindings({\n      value: O.makeObservable(valueId, initialValue)\n    },\n    this\n  );\n});\n        /*]]>*/</script></p></span>\n      <div>\n      </div>\n    </div></div>\n            </div><div class=\"tab-pane\" id=\"tab1158008932-1\">\n            <div>\n      <script data-this=\"{&quot;dataId&quot;:&quot;anon11737c70e39e1f6e03c36206cbc6b502&quot;,&quot;dataInit&quot;:[{},{},{},{},{},{},{},{},{},{}],&quot;genId&quot;:&quot;39361708&quot;}\" type=\"text/x-scoped-javascript\">/*<![CDATA[*/req(['../javascripts/notebook/playground','../javascripts/notebook/magic/pivotChart'], \n      function(playground, _magicpivotChart) {\n        // data ==> data-this (in observable.js's scopedEval) ==> this in JS => { dataId, dataInit, ... }\n        // this ==> scope (in observable.js's scopedEval) ==> this.parentElement ==> div.container below (toHtml)\n\n        playground.call(data,\n                        this\n                        ,\n                        {\n    \"f\": _magicpivotChart,\n    \"o\": {\"width\":600,\"height\":400,\"derivedAttributes\":{},\"extraOptions\":{}}\n  }\n  \n                        \n                        \n                      );\n      }\n    );/*]]>*/</script>\n    <div>\n      <span class=\"chart-total-item-count\"><p data-bind=\"text: value\"><script data-this=\"{&quot;valueId&quot;:&quot;anona87d5c9e6040999c629ccfe35542b4d9&quot;,&quot;initialValue&quot;:&quot;10&quot;}\" type=\"text/x-scoped-javascript\">/*<![CDATA[*/\nreq(\n['observable', 'knockout'],\nfunction (O, ko) {\n  ko.applyBindings({\n      value: O.makeObservable(valueId, initialValue)\n    },\n    this\n  );\n});\n        /*]]>*/</script></p> entries total</span>\n      <span class=\"chart-sampling-warning\"><p data-bind=\"text: value\"><script data-this=\"{&quot;valueId&quot;:&quot;anonfc70803f9602aac2f98e176f2079e5a1&quot;,&quot;initialValue&quot;:&quot;&quot;}\" type=\"text/x-scoped-javascript\">/*<![CDATA[*/\nreq(\n['observable', 'knockout'],\nfunction (O, ko) {\n  ko.applyBindings({\n      value: O.makeObservable(valueId, initialValue)\n    },\n    this\n  );\n});\n        /*]]>*/</script></p></span>\n      <div>\n      </div>\n    </div></div>\n            </div></div>\n      </div>\n    </div></div>"
          },
          "output_type" : "execute_result",
          "execution_count" : 68,
          "time" : "Took: 1.451s, at 2017-09-05 09:30"
        }
      ]
    },
    {
      "metadata" : {
        "trusted" : true,
        "input_collapsed" : false,
        "collapsed" : true,
        "id" : "350FA1BE2A9542AC8DEE5C3642996469"
      },
      "cell_type" : "code",
      "source" : [
        ""
      ],
      "outputs" : [ ]
    }
  ],
  "nbformat" : 4
}