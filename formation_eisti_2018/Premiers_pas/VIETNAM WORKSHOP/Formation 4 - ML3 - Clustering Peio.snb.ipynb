{
  "metadata" : {
    "id" : "94fd8fd2-c6e0-49f0-b244-1ddc7cb89c5d",
    "name" : "Formation 4 - ML3 - Clustering Peio.snb.ipynb",
    "user_save_timestamp" : "2017-09-06T09:51:38.442Z",
    "auto_save_timestamp" : "1970-01-01T00:00:00.000Z",
    "language_info" : {
      "name" : "scala",
      "file_extension" : "scala",
      "codemirror_mode" : "text/x-scala"
    },
    "trusted" : true,
    "sparkNotebook" : null,
    "customLocalRepo" : null,
    "customRepos" : null,
    "customDeps" : null,
    "customImports" : null,
    "customArgs" : null,
    "customSparkConf" : null,
    "customVars" : null
  },
  "cells" : [
    {
      "metadata" : {
        "id" : "2147E55F77AE42158A2F84011B9D568E"
      },
      "cell_type" : "markdown",
      "source" : "<img src=http://fd.perso.eisti.fr/Logos/TORUS2.png>"
    },
    {
      "metadata" : {
        "id" : "5F687656ADF14F5B95AA9F6C8DF0035D"
      },
      "cell_type" : "markdown",
      "source" : "To illustrate clustering algorithm, we can use the traditional example : the Iris example with K-Means!\n\n\"K-means clustering is a method of vector quantization, originally from signal processing, that is popular for cluster analysis in data mining. k-means clustering aims to partition n observations into k clusters in which each observation belongs to the cluster with the nearest mean, serving as a prototype of the cluster.\"\n\n(source : https://en.wikipedia.org/wiki/K-means_clustering)"
    },
    {
      "metadata" : {
        "id" : "69E1DBB6815249F695137621B1D60C2B"
      },
      "cell_type" : "markdown",
      "source" : "### Read dataset (csv format) from HDFS\n\nHere we use the dataset from https://archive.ics.uci.edu/ml/machine-learning-databases/iris/iris.data\n\nThe target variable will be class (there are 3 classes : Iris Setosa, Iris Versicolour, Iris Virginica) and the variables descriptives are : \n- sepal length\n- sepal width\n- petal length\n- petal width"
    },
    {
      "metadata" : {
        "trusted" : true,
        "input_collapsed" : false,
        "collapsed" : false,
        "presentation" : {
          "tabs_state" : "{\n  \"tab_id\": \"#tab1599598013-0\"\n}",
          "pivot_chart_state" : "{\n  \"hiddenAttributes\": [],\n  \"menuLimit\": 200,\n  \"cols\": [],\n  \"rows\": [],\n  \"vals\": [],\n  \"exclusions\": {},\n  \"inclusions\": {},\n  \"unusedAttrsVertical\": 85,\n  \"autoSortUnusedAttrs\": false,\n  \"inclusionsInfo\": {},\n  \"aggregatorName\": \"Count\",\n  \"rendererName\": \"Table\"\n}"
        },
        "id" : "7D20B9182CD34E1887E1AC69C21C695D"
      },
      "cell_type" : "code",
      "source" : [
        "val sqlContext = new SQLContext(sc)\n",
        "\n",
        "val data = sqlContext.read.format(\"com.databricks.spark.csv\")\n",
        "              .option(\"header\", \"true\").option(\"inferSchema\", \"true\") \n",
        "              .load(\"hdfs://hupi-factory-02-01-01-01/user/hupi/dataset_torusVN/formation4_ML/iris.csv\")"
      ],
      "outputs" : [
        {
          "name" : "stdout",
          "output_type" : "stream",
          "text" : "<console>:67: warning: constructor SQLContext in class SQLContext is deprecated: Use SparkSession.builder instead\n       val sqlContext = new SQLContext(sc)\n                        ^\nsqlContext: org.apache.spark.sql.SQLContext = org.apache.spark.sql.SQLContext@1cfdf740\ndata: org.apache.spark.sql.DataFrame = [sepalLength: double, sepalWidth: double ... 3 more fields]\n"
        },
        {
          "metadata" : { },
          "data" : {
            "text/html" : ""
          },
          "output_type" : "execute_result",
          "execution_count" : 1,
          "time" : "Took: 4.006s, at 2017-09-06 10:03"
        }
      ]
    },
    {
      "metadata" : {
        "trusted" : true,
        "input_collapsed" : false,
        "collapsed" : false,
        "presentation" : {
          "tabs_state" : "{\n  \"tab_id\": \"#tab1154730564-0\"\n}",
          "pivot_chart_state" : "{\n  \"hiddenAttributes\": [],\n  \"menuLimit\": 200,\n  \"cols\": [],\n  \"rows\": [],\n  \"vals\": [],\n  \"exclusions\": {},\n  \"inclusions\": {},\n  \"unusedAttrsVertical\": 85,\n  \"autoSortUnusedAttrs\": false,\n  \"inclusionsInfo\": {},\n  \"aggregatorName\": \"Count\",\n  \"rendererName\": \"Table\"\n}"
        },
        "id" : "4350A09EB48640BA805CB74960005A05"
      },
      "cell_type" : "code",
      "source" : [
        "data.show()"
      ],
      "outputs" : [
        {
          "name" : "stdout",
          "output_type" : "stream",
          "text" : "+-----------+----------+-----------+----------+-----------+\n|sepalLength|sepalWidth|petalLength|petalWidth|      class|\n+-----------+----------+-----------+----------+-----------+\n|        5.1|       3.5|        1.4|       0.2|Iris-setosa|\n|        4.9|       3.0|        1.4|       0.2|Iris-setosa|\n|        4.7|       3.2|        1.3|       0.2|Iris-setosa|\n|        4.6|       3.1|        1.5|       0.2|Iris-setosa|\n|        5.0|       3.6|        1.4|       0.2|Iris-setosa|\n|        5.4|       3.9|        1.7|       0.4|Iris-setosa|\n|        4.6|       3.4|        1.4|       0.3|Iris-setosa|\n|        5.0|       3.4|        1.5|       0.2|Iris-setosa|\n|        4.4|       2.9|        1.4|       0.2|Iris-setosa|\n|        4.9|       3.1|        1.5|       0.1|Iris-setosa|\n|        5.4|       3.7|        1.5|       0.2|Iris-setosa|\n|        4.8|       3.4|        1.6|       0.2|Iris-setosa|\n|        4.8|       3.0|        1.4|       0.1|Iris-setosa|\n|        4.3|       3.0|        1.1|       0.1|Iris-setosa|\n|        5.8|       4.0|        1.2|       0.2|Iris-setosa|\n|        5.7|       4.4|        1.5|       0.4|Iris-setosa|\n|        5.4|       3.9|        1.3|       0.4|Iris-setosa|\n|        5.1|       3.5|        1.4|       0.3|Iris-setosa|\n|        5.7|       3.8|        1.7|       0.3|Iris-setosa|\n|        5.1|       3.8|        1.5|       0.3|Iris-setosa|\n+-----------+----------+-----------+----------+-----------+\nonly showing top 20 rows\n\n"
        },
        {
          "metadata" : { },
          "data" : {
            "text/html" : ""
          },
          "output_type" : "execute_result",
          "execution_count" : 2,
          "time" : "Took: 1.989s, at 2017-08-29 14:58"
        }
      ]
    },
    {
      "metadata" : {
        "id" : "9E0FE30DA33C419B8FD513684AA77990"
      },
      "cell_type" : "markdown",
      "source" : "###  Vector Assembler\n\nTo prepare for the construction of K-Means model by using ML library, we have to have a data with 1 column only (\"features\"). To have that, we need to put all the variables descriptives into a single vector column named \"features\"."
    },
    {
      "metadata" : {
        "trusted" : true,
        "input_collapsed" : false,
        "collapsed" : false,
        "id" : "C2A90C5B8CBE41D88975BFA9302B9544"
      },
      "cell_type" : "code",
      "source" : [
        "import org.apache.spark.ml.feature.VectorAssembler\n",
        "import org.apache.spark.ml.linalg.Vectors"
      ],
      "outputs" : [
        {
          "name" : "stdout",
          "output_type" : "stream",
          "text" : "import org.apache.spark.ml.feature.VectorAssembler\nimport org.apache.spark.ml.linalg.Vectors\n"
        },
        {
          "metadata" : { },
          "data" : {
            "text/html" : ""
          },
          "output_type" : "execute_result",
          "execution_count" : 2,
          "time" : "Took: 0.859s, at 2017-09-06 10:03"
        }
      ]
    },
    {
      "metadata" : {
        "trusted" : true,
        "input_collapsed" : false,
        "collapsed" : false,
        "id" : "36CC3C48CB6842358183FEA88AEF9760"
      },
      "cell_type" : "code",
      "source" : [
        "val assembler = new VectorAssembler()\n",
        "  .setInputCols(Array(\"sepalLength\", \"sepalWidth\", \"petalLength\", \"petalWidth\"))\n",
        "  .setOutputCol(\"features\")"
      ],
      "outputs" : [
        {
          "name" : "stdout",
          "output_type" : "stream",
          "text" : "assembler: org.apache.spark.ml.feature.VectorAssembler = vecAssembler_9d74ce7dd3a1\n"
        },
        {
          "metadata" : { },
          "data" : {
            "text/html" : ""
          },
          "output_type" : "execute_result",
          "execution_count" : 3,
          "time" : "Took: 0.926s, at 2017-09-06 10:03"
        }
      ]
    },
    {
      "metadata" : {
        "trusted" : true,
        "input_collapsed" : false,
        "collapsed" : false,
        "id" : "1121BE3C105944A09C40AC40C4D5A226"
      },
      "cell_type" : "code",
      "source" : [
        "val data_withGoodColumns = assembler.transform(data).select(\"features\")"
      ],
      "outputs" : [
        {
          "name" : "stdout",
          "output_type" : "stream",
          "text" : "data_withGoodColumns: org.apache.spark.sql.DataFrame = [features: vector]\n"
        },
        {
          "metadata" : { },
          "data" : {
            "text/html" : ""
          },
          "output_type" : "execute_result",
          "execution_count" : 4,
          "time" : "Took: 1.403s, at 2017-09-06 10:03"
        }
      ]
    },
    {
      "metadata" : {
        "trusted" : true,
        "input_collapsed" : false,
        "collapsed" : false,
        "presentation" : {
          "tabs_state" : "{\n  \"tab_id\": \"#tab1478363834-0\"\n}",
          "pivot_chart_state" : "{\n  \"hiddenAttributes\": [],\n  \"menuLimit\": 200,\n  \"cols\": [],\n  \"rows\": [],\n  \"vals\": [],\n  \"exclusions\": {},\n  \"inclusions\": {},\n  \"unusedAttrsVertical\": 85,\n  \"autoSortUnusedAttrs\": false,\n  \"inclusionsInfo\": {},\n  \"aggregatorName\": \"Count\",\n  \"rendererName\": \"Table\"\n}"
        },
        "id" : "38D6C7505EED48559ADE33852D0F4E09"
      },
      "cell_type" : "code",
      "source" : [
        "data_withGoodColumns.take(5)"
      ],
      "outputs" : [
        {
          "name" : "stdout",
          "output_type" : "stream",
          "text" : "res5: Array[org.apache.spark.sql.Row] = Array([[5.1,3.5,1.4,0.2]], [[4.9,3.0,1.4,0.2]], [[4.7,3.2,1.3,0.2]], [[4.6,3.1,1.5,0.2]], [[5.0,3.6,1.4,0.2]])\n"
        },
        {
          "metadata" : { },
          "data" : {
            "text/html" : "<div>\n      <script data-this=\"{&quot;dataId&quot;:&quot;anonf905b21f37dcd4e96bd7aa5715b56bb1&quot;,&quot;dataInit&quot;:[],&quot;genId&quot;:&quot;1478363834&quot;}\" type=\"text/x-scoped-javascript\">/*<![CDATA[*/req(['../javascripts/notebook/playground','../javascripts/notebook/magic/tabs'], \n      function(playground, _magictabs) {\n        // data ==> data-this (in observable.js's scopedEval) ==> this in JS => { dataId, dataInit, ... }\n        // this ==> scope (in observable.js's scopedEval) ==> this.parentElement ==> div.container below (toHtml)\n\n        playground.call(data,\n                        this\n                        ,\n                        {\n    \"f\": _magictabs,\n    \"o\": {}\n  }\n  \n                        \n                        \n                      );\n      }\n    );/*]]>*/</script>\n    <div>\n      <div>\n        <ul class=\"nav nav-tabs\" id=\"ul1478363834\"><li>\n              <a href=\"#tab1478363834-0\"><i class=\"fa fa-table\"/></a>\n            </li><li>\n              <a href=\"#tab1478363834-1\"><i class=\"fa fa-cubes\"/></a>\n            </li></ul>\n\n        <div class=\"tab-content\" id=\"tab1478363834\"><div class=\"tab-pane\" id=\"tab1478363834-0\">\n            <div>\n      <script data-this=\"{&quot;dataId&quot;:&quot;anon4e0eeb10fea8fa9b359031218d5f755a&quot;,&quot;dataInit&quot;:[{&quot;features&quot;:&quot;[5.1,3.5,1.4,0.2]&quot;},{&quot;features&quot;:&quot;[4.9,3.0,1.4,0.2]&quot;},{&quot;features&quot;:&quot;[4.7,3.2,1.3,0.2]&quot;},{&quot;features&quot;:&quot;[4.6,3.1,1.5,0.2]&quot;},{&quot;features&quot;:&quot;[5.0,3.6,1.4,0.2]&quot;}],&quot;genId&quot;:&quot;819118840&quot;}\" type=\"text/x-scoped-javascript\">/*<![CDATA[*/req(['../javascripts/notebook/playground','../javascripts/notebook/magic/tableChart'], \n      function(playground, _magictableChart) {\n        // data ==> data-this (in observable.js's scopedEval) ==> this in JS => { dataId, dataInit, ... }\n        // this ==> scope (in observable.js's scopedEval) ==> this.parentElement ==> div.container below (toHtml)\n\n        playground.call(data,\n                        this\n                        ,\n                        {\n    \"f\": _magictableChart,\n    \"o\": {\"headers\":[\"features\"],\"width\":600,\"height\":400}\n  }\n  \n                        \n                        \n                      );\n      }\n    );/*]]>*/</script>\n    <div>\n      <span class=\"chart-total-item-count\"><p data-bind=\"text: value\"><script data-this=\"{&quot;valueId&quot;:&quot;anon46039e55708782f80aa7e9b71db88691&quot;,&quot;initialValue&quot;:&quot;5&quot;}\" type=\"text/x-scoped-javascript\">/*<![CDATA[*/\nreq(\n['observable', 'knockout'],\nfunction (O, ko) {\n  ko.applyBindings({\n      value: O.makeObservable(valueId, initialValue)\n    },\n    this\n  );\n});\n        /*]]>*/</script></p> entries total</span>\n      <span class=\"chart-sampling-warning\"><p data-bind=\"text: value\"><script data-this=\"{&quot;valueId&quot;:&quot;anon0019f4edf818235c237850b4744d797d&quot;,&quot;initialValue&quot;:&quot;&quot;}\" type=\"text/x-scoped-javascript\">/*<![CDATA[*/\nreq(\n['observable', 'knockout'],\nfunction (O, ko) {\n  ko.applyBindings({\n      value: O.makeObservable(valueId, initialValue)\n    },\n    this\n  );\n});\n        /*]]>*/</script></p></span>\n      <div>\n      </div>\n    </div></div>\n            </div><div class=\"tab-pane\" id=\"tab1478363834-1\">\n            <div>\n      <script data-this=\"{&quot;dataId&quot;:&quot;anon48959ca222a9cb28a293f2daf711c43b&quot;,&quot;dataInit&quot;:[{&quot;features&quot;:&quot;[5.1,3.5,1.4,0.2]&quot;},{&quot;features&quot;:&quot;[4.9,3.0,1.4,0.2]&quot;},{&quot;features&quot;:&quot;[4.7,3.2,1.3,0.2]&quot;},{&quot;features&quot;:&quot;[4.6,3.1,1.5,0.2]&quot;},{&quot;features&quot;:&quot;[5.0,3.6,1.4,0.2]&quot;}],&quot;genId&quot;:&quot;2120254723&quot;}\" type=\"text/x-scoped-javascript\">/*<![CDATA[*/req(['../javascripts/notebook/playground','../javascripts/notebook/magic/pivotChart'], \n      function(playground, _magicpivotChart) {\n        // data ==> data-this (in observable.js's scopedEval) ==> this in JS => { dataId, dataInit, ... }\n        // this ==> scope (in observable.js's scopedEval) ==> this.parentElement ==> div.container below (toHtml)\n\n        playground.call(data,\n                        this\n                        ,\n                        {\n    \"f\": _magicpivotChart,\n    \"o\": {\"width\":600,\"height\":400,\"derivedAttributes\":{},\"extraOptions\":{}}\n  }\n  \n                        \n                        \n                      );\n      }\n    );/*]]>*/</script>\n    <div>\n      <span class=\"chart-total-item-count\"><p data-bind=\"text: value\"><script data-this=\"{&quot;valueId&quot;:&quot;anonca08417d8e704e7f2759b2a0d89533a3&quot;,&quot;initialValue&quot;:&quot;5&quot;}\" type=\"text/x-scoped-javascript\">/*<![CDATA[*/\nreq(\n['observable', 'knockout'],\nfunction (O, ko) {\n  ko.applyBindings({\n      value: O.makeObservable(valueId, initialValue)\n    },\n    this\n  );\n});\n        /*]]>*/</script></p> entries total</span>\n      <span class=\"chart-sampling-warning\"><p data-bind=\"text: value\"><script data-this=\"{&quot;valueId&quot;:&quot;anone9b0843d114dfdbd795e1686dbcb589a&quot;,&quot;initialValue&quot;:&quot;&quot;}\" type=\"text/x-scoped-javascript\">/*<![CDATA[*/\nreq(\n['observable', 'knockout'],\nfunction (O, ko) {\n  ko.applyBindings({\n      value: O.makeObservable(valueId, initialValue)\n    },\n    this\n  );\n});\n        /*]]>*/</script></p></span>\n      <div>\n      </div>\n    </div></div>\n            </div></div>\n      </div>\n    </div></div>"
          },
          "output_type" : "execute_result",
          "execution_count" : 5,
          "time" : "Took: 2.050s, at 2017-09-06 10:03"
        }
      ]
    },
    {
      "metadata" : {
        "id" : "394ED2D646624DA79B3936C16F94A809"
      },
      "cell_type" : "markdown",
      "source" : "### Build a K-Means model \n\nIn this example, we choose number of clusters = 3 because we know beforehand that there are 3 classes of Iris. For other cases that we don't know how many classes there are, we have to find the optimal K. One method that can helps us to find K is Elbow method (https://en.wikipedia.org/wiki/Elbow_method_(clustering))"
    },
    {
      "metadata" : {
        "trusted" : true,
        "input_collapsed" : false,
        "collapsed" : false,
        "id" : "E305D86AF212465C88BDFF8B23175D95"
      },
      "cell_type" : "code",
      "source" : [
        "import org.apache.spark.ml.clustering.KMeans\n",
        "\n",
        "// Trains a k-means model.\n",
        "val kmeans = new KMeans().setK(3).setSeed(1L)\n",
        "val model = kmeans.fit(data_withGoodColumns)"
      ],
      "outputs" : [
        {
          "name" : "stdout",
          "output_type" : "stream",
          "text" : "import org.apache.spark.ml.clustering.KMeans\nkmeans: org.apache.spark.ml.clustering.KMeans = kmeans_969dd67da099\nmodel: org.apache.spark.ml.clustering.KMeansModel = kmeans_969dd67da099\n"
        },
        {
          "metadata" : { },
          "data" : {
            "text/html" : ""
          },
          "output_type" : "execute_result",
          "execution_count" : 6,
          "time" : "Took: 2.081s, at 2017-09-06 10:03"
        }
      ]
    },
    {
      "metadata" : {
        "id" : "5DAB8E2EDCFF4A80A8A4DDC0C03074A4"
      },
      "cell_type" : "markdown",
      "source" : "### Evaluation of model "
    },
    {
      "metadata" : {
        "trusted" : true,
        "input_collapsed" : false,
        "collapsed" : false,
        "id" : "64614EC412164C5191C232908B63E699"
      },
      "cell_type" : "code",
      "source" : [
        "// Evaluate clustering by computing Within Set Sum of Squared Errors.\n",
        "val WSSSE = model.computeCost(data_withGoodColumns)\n",
        "println(s\"Within Set Sum of Squared Errors = $WSSSE\")"
      ],
      "outputs" : [
        {
          "name" : "stdout",
          "output_type" : "stream",
          "text" : "Within Set Sum of Squared Errors = 78.94506582597637\nWSSSE: Double = 78.94506582597637\n"
        },
        {
          "metadata" : { },
          "data" : {
            "text/html" : ""
          },
          "output_type" : "execute_result",
          "execution_count" : 7,
          "time" : "Took: 1.073s, at 2017-09-06 10:04"
        }
      ]
    },
    {
      "metadata" : {
        "trusted" : true,
        "input_collapsed" : false,
        "collapsed" : false,
        "id" : "7D57476E8F89408FBCFC3C76C9135697"
      },
      "cell_type" : "code",
      "source" : [
        "// Shows the result.\n",
        "println(\"Cluster Centers: \")\n",
        "model.clusterCenters.foreach(println)"
      ],
      "outputs" : [
        {
          "name" : "stdout",
          "output_type" : "stream",
          "text" : "Cluster Centers: \n[5.88360655737705,2.7409836065573776,4.388524590163936,1.4344262295081969]\n[6.853846153846153,3.0769230769230766,5.715384615384615,2.053846153846153]\n[5.005999999999999,3.4180000000000006,1.4640000000000002,0.2439999999999999]\n"
        },
        {
          "metadata" : { },
          "data" : {
            "text/html" : ""
          },
          "output_type" : "execute_result",
          "execution_count" : 8,
          "time" : "Took: 1.072s, at 2017-09-06 10:04"
        }
      ]
    },
    {
      "metadata" : {
        "trusted" : true,
        "input_collapsed" : false,
        "collapsed" : true,
        "id" : "25DA5FAAA278464A81438281B448721F"
      },
      "cell_type" : "code",
      "source" : [
        ""
      ],
      "outputs" : [ ]
    }
  ],
  "nbformat" : 4
}