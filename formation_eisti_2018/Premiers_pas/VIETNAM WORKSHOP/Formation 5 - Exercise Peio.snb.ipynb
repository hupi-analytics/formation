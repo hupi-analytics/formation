{
  "metadata" : {
    "id" : "79d1e581-1732-44a6-9be9-7e488537b713",
    "name" : "Formation 5 - Exercise Peio",
    "user_save_timestamp" : "1970-01-01T00:00:00.000Z",
    "auto_save_timestamp" : "1970-01-01T00:00:00.000Z",
    "language_info" : {
      "name" : "scala",
      "file_extension" : "scala",
      "codemirror_mode" : "text/x-scala"
    },
    "trusted" : true,
    "sparkNotebook" : null,
    "customLocalRepo" : null,
    "customRepos" : null,
    "customDeps" : null,
    "customImports" : null,
    "customArgs" : null,
    "customSparkConf" : null,
    "customVars" : null
  },
  "cells" : [
    {
      "metadata" : {
        "id" : "2021E860079A4BFA8136A6ED0A21F085"
      },
      "cell_type" : "markdown",
      "source" : "<img src=http://fd.perso.eisti.fr/Logos/TORUS2.png>"
    },
    {
      "metadata" : {
        "id" : "EBF9A2956F6E413680433166A00AB653"
      },
      "cell_type" : "markdown",
      "source" : "\n\n\n# Exercise time!\n\nSo, after all the lessons, it's your turn now to practice how to build a linear regression model in Spark!\n\n### Exercise 1 : \n\nIn HDFS of factory02 : \"hdfs://hupi-factory-02-01-01-01/user/hupi/dataset_torusVN/geoVN.json\", we have a small dataset (40 observations) of some characteristics of climate of some cities in Vietnam (source : https://www.meteoblue.com/en/weather/). \n\nLet's try building a linear regression model that predicts the temperature daily mean thanks to 8 variables below : \n- High cloud cover daily mean\n- Low cloud cover daily mean\n- Mean Sea Level Pressure daily mean\n- Medium cloud cover daily mean\n- Relative humidity daily mean\n- Shortwave Radiation - backwards daily sum\n- Total Precipitation daily sum\n- Total cloud cover daily mean\n\nTo put it simply, we'll just care about these numerical variables; otherwise in this dataset, we can also inspect the relation between temperature daily mean and the city (categorical variable).\n\n### Exercise 2 : \n\nCreate an API that can predict and give the result in the interface of Hupi. (suggestion : convert model to PMML format -> create an API in Hupi - Predict -> create a Widget...)\n\n### Exercise 3 :\n\nWith the dataset geoVN.json, let's create some visualizations in Hupi !"
    },
    {
      "metadata" : {
        "trusted" : true,
        "input_collapsed" : false,
        "collapsed" : false,
        "id" : "30AD90C695DC45788D886C7FE2BC1CA1"
      },
      "cell_type" : "code",
      "source" : [
        "import org.apache.spark.sql.SparkSession\n",
        "\n",
        "val sparkSession = SparkSession\n",
        "  .builder()\n",
        "  .appName(\"linearRegModel_solution\")\n",
        "  .getOrCreate()\n",
        "\n",
        "// For implicit conversions like converting RDDs to DataFrames\n",
        "import sparkSession.implicits._\n",
        "\n",
        "val df = sparkSession.read.json(\"hdfs://hupi-factory-02-01-01-01/user/hupi/dataset_torusVN/geoVN.json\")"
      ],
      "outputs" : [
        {
          "name" : "stdout",
          "output_type" : "stream",
          "text" : "import org.apache.spark.sql.SparkSession\nsparkSession: org.apache.spark.sql.SparkSession = org.apache.spark.sql.SparkSession@726f6ffc\nimport sparkSession.implicits._\ndf: org.apache.spark.sql.DataFrame = [_corrupt_record: string]\n"
        },
        {
          "metadata" : { },
          "data" : {
            "text/html" : ""
          },
          "output_type" : "execute_result",
          "execution_count" : 2,
          "time" : "Took: 4.822s, at 2017-09-06 10:11"
        }
      ]
    },
    {
      "metadata" : {
        "trusted" : true,
        "input_collapsed" : false,
        "collapsed" : false,
        "id" : "5DDF31A07FE94FD68DB64403400D216B"
      },
      "cell_type" : "code",
      "source" : [
        "df.show()"
      ],
      "outputs" : [
        {
          "name" : "stdout",
          "output_type" : "stream",
          "text" : "+--------------------+\n|     _corrupt_record|\n+--------------------+\n|                   [|\n|                   {|\n|       \"Year\": 2017,|\n|         \"Month\": 8,|\n|          \"Day\": 23,|\n|    \"City\": \"Ho C...|\n|      \"Lat\": 10.823,|\n|      \"Lon\": 106.63,|\n|    \"timestamp\": ...|\n|    \"Temperature ...|\n|    \"Relative hum...|\n|    \"Mean Sea Lev...|\n|    \"Total Precip...|\n|    \"Total cloud ...|\n|    \"High cloud c...|\n|    \"Medium cloud...|\n|    \"Low cloud co...|\n|    \"Shortwave Ra...|\n|    \"datestamp\":\"...|\n|                  },|\n+--------------------+\nonly showing top 20 rows\n\n"
        },
        {
          "metadata" : { },
          "data" : {
            "text/html" : ""
          },
          "output_type" : "execute_result",
          "execution_count" : 1,
          "time" : "Took: 2.035s, at 2017-09-06 10:11"
        }
      ]
    },
    {
      "metadata" : {
        "trusted" : true,
        "input_collapsed" : false,
        "collapsed" : false,
        "id" : "EC7893D40A4945BA84E8B91CCE9A4BCD"
      },
      "cell_type" : "code",
      "source" : [
        "val df = sparkSession.read.json(sparkContext.wholeTextFiles(\"hdfs://hupi-factory-02-01-01-01/user/hupi/dataset_torusVN/geoVN.json\").values)  "
      ],
      "outputs" : [
        {
          "name" : "stdout",
          "output_type" : "stream",
          "text" : "df: org.apache.spark.sql.DataFrame = [City: string, Day: bigint ... 15 more fields]\n"
        },
        {
          "metadata" : { },
          "data" : {
            "text/html" : ""
          },
          "output_type" : "execute_result",
          "execution_count" : 3,
          "time" : "Took: 1.096s, at 2017-09-06 10:12"
        }
      ]
    },
    {
      "metadata" : {
        "trusted" : true,
        "input_collapsed" : false,
        "collapsed" : false,
        "id" : "508E8346157C4B408782F962A79D7A89"
      },
      "cell_type" : "code",
      "source" : [
        "df.show()"
      ],
      "outputs" : [
        {
          "name" : "stdout",
          "output_type" : "stream",
          "text" : "+-----------+---+------------------------------------------+-------+-------+----------------------------------------+----------------------------------------+-------------------------------------------+-----+--------------------------------------------+-----------------------------------------------+--------------------------------------+-----------------------------------+----------------------------------+----+----------+----------+\n|       City|Day|High cloud cover daily mean [high cld lay]|    Lat|    Lon|Low cloud cover daily mean [low cld lay]|Mean Sea Level Pressure daily mean [MSL]|Medium cloud cover daily mean [mid cld lay]|Month|Relative humidity daily mean [2 m above gnd]|Shortwave Radiation - backwards daily sum [sfc]|Temperature daily mean [2 m above gnd]|Total Precipitation daily sum [sfc]|Total cloud cover daily mean [sfc]|Year| datestamp| timestamp|\n+-----------+---+------------------------------------------+-------+-------+----------------------------------------+----------------------------------------+-------------------------------------------+-----+--------------------------------------------+-----------------------------------------------+--------------------------------------+-----------------------------------+----------------------------------+----+----------+----------+\n|Ho Chi Minh| 23|                                     85.08| 10.823| 106.63|                                   42.42|                                  1007.0|                                      89.46|    8|                                       86.92|                                        2094.17|                                 26.27|                                9.4|                             89.92|2017|23-08-2017|1503439200|\n|Ho Chi Minh| 24|                                     44.92| 10.823| 106.63|                                   31.29|                                 1007.35|                                      70.12|    8|                                        82.5|                                        3365.09|                                 27.16|                                2.6|                             72.88|2017|24-08-2017|1503525600|\n|Ho Chi Minh| 25|                                     78.04| 10.823| 106.63|                                    42.5|                                 1007.31|                                      84.71|    8|                                       86.17|                                        2028.31|                                 26.68|                               10.0|                             85.28|2017|25-08-2017|1503612000|\n|Ho Chi Minh| 26|                                     62.83| 10.823| 106.63|                                   60.21|                                 1005.54|                                       66.5|    8|                                       87.83|                                        1682.99|                                 26.49|                               14.4|                             73.17|2017|26-08-2017|1503698400|\n|Ho Chi Minh| 27|                                     49.08| 10.823| 106.63|                                    61.5|                                 1005.94|                                      97.12|    8|                                       86.46|                                        2837.32|                                 26.42|                                4.3|                             97.12|2017|27-08-2017|1503784800|\n|Ho Chi Minh| 28|                                     84.62| 10.823| 106.63|                                   71.67|                                 1007.61|                                      81.42|    8|                                       90.33|                                         1815.6|                                 26.32|                               16.2|                             87.58|2017|28-08-2017|1503871200|\n|Ho Chi Minh| 29|                                     43.88| 10.823| 106.63|                                   54.21|                                 1008.26|                                      47.79|    8|                                       87.62|                                        1326.99|                                 26.49|                               15.8|                             66.06|2017|29-08-2017|1503957600|\n|Ho Chi Minh| 30|                                     85.71| 10.823| 106.63|                                   15.46|                                  1008.5|                                      87.79|    8|                                       78.75|                                        2969.04|                                 27.36|                                0.2|                             88.34|2017|30-08-2017|1504044000|\n|     Ha Noi| 23|                                     100.0|20.4737|106.023|                                   10.42|                                  1000.1|                                      69.62|    8|                                       73.17|                                        4447.33|                                 31.59|                                1.3|                             76.42|2017|23-08-2017|1503439200|\n|     Ha Noi| 24|                                     100.0|20.4737|106.023|                                   45.29|                                  1000.2|                                      63.21|    8|                                       75.08|                                        3931.13|                                 31.12|                                5.3|                              84.5|2017|24-08-2017|1503525600|\n|     Ha Noi| 25|                                     91.88|20.4737|106.023|                                   78.17|                                 1004.56|                                      76.75|    8|                                       85.38|                                        1448.92|                                 28.39|                               15.0|                             82.58|2017|25-08-2017|1503612000|\n|     Ha Noi| 26|                                     54.46|20.4737|106.023|                                   55.62|                                 1006.33|                                      40.67|    8|                                       88.04|                                         1940.2|                                 26.83|                                8.2|                             69.68|2017|26-08-2017|1503698400|\n|     Ha Noi| 27|                                      9.33|20.4737|106.023|                                    19.5|                                 1004.82|                                      17.33|    8|                                       76.54|                                        5054.31|                                 28.17|                                0.5|                             21.68|2017|27-08-2017|1503784800|\n|     Ha Noi| 28|                                      16.5|20.4737|106.023|                                    6.88|                                 1004.53|                                      15.58|    8|                                       71.33|                                         6577.1|                                 29.43|                                0.1|                             18.49|2017|28-08-2017|1503871200|\n|     Ha Noi| 29|                                     70.33|20.4737|106.023|                                    76.5|                                  1006.0|                                      75.17|    8|                                       93.67|                                        1225.53|                                 26.45|                               55.0|                             77.01|2017|29-08-2017|1503957600|\n|     Ha Noi| 30|                                     98.83|20.4737|106.023|                                    88.5|                                 1007.74|                                      100.0|    8|                                        91.0|                                        1428.45|                                 25.86|                               63.8|                             100.0|2017|30-08-2017|1504044000|\n|        Hue| 23|                                     53.08|16.4619|107.595|                                    3.12|                                 1001.95|                                      18.29|    8|                                       70.62|                                        6760.44|                                 30.55|                                0.0|                             26.69|2017|23-08-2017|1503439200|\n|        Hue| 24|                                     43.25|16.4619|107.595|                                   11.58|                                 1003.72|                                      10.54|    8|                                       76.62|                                        5773.43|                                 29.49|                                0.5|                             21.02|2017|24-08-2017|1503525600|\n|        Hue| 25|                                     68.33|16.4619|107.595|                                    35.5|                                 1005.82|                                       57.0|    8|                                       84.79|                                        2079.04|                                 27.89|                                5.6|                             62.07|2017|25-08-2017|1503612000|\n|        Hue| 26|                                     75.79|16.4619|107.595|                                   58.67|                                 1004.68|                                      71.92|    8|                                       89.75|                                        1830.73|                                 26.82|                               21.3|                             74.11|2017|26-08-2017|1503698400|\n+-----------+---+------------------------------------------+-------+-------+----------------------------------------+----------------------------------------+-------------------------------------------+-----+--------------------------------------------+-----------------------------------------------+--------------------------------------+-----------------------------------+----------------------------------+----+----------+----------+\nonly showing top 20 rows\n"
        },
        {
          "metadata" : { },
          "data" : {
            "text/html" : ""
          },
          "output_type" : "execute_result",
          "execution_count" : 4,
          "time" : "Took: 1.229s, at 2017-09-06 10:12"
        }
      ]
    },
    {
      "metadata" : {
        "trusted" : true,
        "input_collapsed" : false,
        "collapsed" : false,
        "id" : "E43A5A918CC14A388E260207120580A5"
      },
      "cell_type" : "code",
      "source" : [
        "import org.apache.spark.mllib.linalg.Vectors\n",
        "import org.apache.spark.mllib.stat.{MultivariateStatisticalSummary, Statistics}"
      ],
      "outputs" : [
        {
          "name" : "stdout",
          "output_type" : "stream",
          "text" : "import org.apache.spark.mllib.linalg.Vectors\nimport org.apache.spark.mllib.stat.{MultivariateStatisticalSummary, Statistics}\n"
        },
        {
          "metadata" : { },
          "data" : {
            "text/html" : ""
          },
          "output_type" : "execute_result",
          "execution_count" : 5,
          "time" : "Took: 0.765s, at 2017-09-06 10:13"
        }
      ]
    },
    {
      "metadata" : {
        "trusted" : true,
        "input_collapsed" : false,
        "collapsed" : false,
        "id" : "02E00260011F440A99784F9FED4F423A"
      },
      "cell_type" : "code",
      "source" : [
        "// Convert df to RDD to be able to use the library MultiVariateStatisticalSummary. Here we choose only the necessary variables\n",
        "val rdd = df.drop(\"City\").drop(\"Day\").drop(\"Year\").drop(\"Month\").drop(\"timestamp\").drop(\"Lat\").drop(\"Lon\").drop(\"datestamp\")\n",
        "            .map(l => (l(6).asInstanceOf[Double], l(1).asInstanceOf[Double], l(2).asInstanceOf[Double],\n",
        "                       l(3).asInstanceOf[Double], l(4).asInstanceOf[Double], l(5).asInstanceOf[Double],\n",
        "                       l(0).asInstanceOf[Double], l(7).asInstanceOf[Double], l(8).asInstanceOf[Double])).rdd"
      ],
      "outputs" : [
        {
          "name" : "stdout",
          "output_type" : "stream",
          "text" : "rdd: org.apache.spark.rdd.RDD[(Double, Double, Double, Double, Double, Double, Double, Double, Double)] = MapPartitionsRDD[17] at rdd at <console>:83\n"
        },
        {
          "metadata" : { },
          "data" : {
            "text/html" : ""
          },
          "output_type" : "execute_result",
          "execution_count" : 6,
          "time" : "Took: 1.786s, at 2017-09-06 10:13"
        }
      ]
    },
    {
      "metadata" : {
        "trusted" : true,
        "input_collapsed" : false,
        "collapsed" : false,
        "id" : "E9B33234DFCA4CFD9F77A7EA6354EA7A"
      },
      "cell_type" : "code",
      "source" : [
        "// Convert rdd to the rdd of vectors\n",
        "val observations = rdd.map(l => Vectors.dense(l._1, l._2, l._3, l._4, l._5, l._6, l._7, l._8, l._9))"
      ],
      "outputs" : [
        {
          "name" : "stdout",
          "output_type" : "stream",
          "text" : "observations: org.apache.spark.rdd.RDD[org.apache.spark.mllib.linalg.Vector] = MapPartitionsRDD[18] at map at <console>:82\n"
        },
        {
          "metadata" : { },
          "data" : {
            "text/html" : ""
          },
          "output_type" : "execute_result",
          "execution_count" : 7,
          "time" : "Took: 0.895s, at 2017-09-06 10:13"
        }
      ]
    },
    {
      "metadata" : {
        "trusted" : true,
        "input_collapsed" : false,
        "collapsed" : false,
        "id" : "D59A1F7AB5B74DAB801E79C96E4819E6"
      },
      "cell_type" : "code",
      "source" : [
        "// Compute column summary statistics.\n",
        "val summary: MultivariateStatisticalSummary = Statistics.colStats(observations)\n",
        "println(\"Vectors of observations' mean : \" + summary.mean)  \n",
        "println(\"Vectors of observations' variance : \" + summary.variance)  \n",
        "println(\"Vectors of observations' number of column not null : \" + summary.numNonzeros)  \n",
        "println()"
      ],
      "outputs" : [
        {
          "name" : "stdout",
          "output_type" : "stream",
          "text" : "Vectors of observations' mean : [27.372999999999998,41.60125,1005.7774999999998,67.84125,84.66675,2915.84025,69.06050000000002,9.390000000000002,73.85525]\nVectors of observations' variance : [2.256365128205129,678.8604830128204,4.685562820512852,788.4269907051283,51.62532506410257,3008952.402069167,561.1052356410256,192.21579487179488,626.8092255769232]\nVectors of observations' number of column not null : [40.0,40.0,40.0,40.0,40.0,40.0,40.0,35.0,40.0]\n\nsummary: org.apache.spark.mllib.stat.MultivariateStatisticalSummary = org.apache.spark.mllib.stat.MultivariateOnlineSummarizer@2983b5fe\n"
        },
        {
          "metadata" : { },
          "data" : {
            "text/html" : ""
          },
          "output_type" : "execute_result",
          "execution_count" : 8,
          "time" : "Took: 1.142s, at 2017-09-06 10:14"
        }
      ]
    },
    {
      "metadata" : {
        "trusted" : true,
        "input_collapsed" : false,
        "collapsed" : false,
        "presentation" : {
          "tabs_state" : "{\n  \"tab_id\": \"#tab663654740-0\"\n}",
          "pivot_chart_state" : "{\n  \"hiddenAttributes\": [],\n  \"menuLimit\": 200,\n  \"cols\": [],\n  \"rows\": [],\n  \"vals\": [],\n  \"exclusions\": {},\n  \"inclusions\": {},\n  \"unusedAttrsVertical\": 85,\n  \"autoSortUnusedAttrs\": false,\n  \"inclusionsInfo\": {},\n  \"aggregatorName\": \"Count\",\n  \"rendererName\": \"Table\"\n}"
        },
        "id" : "AA0A791E8A504B81A587FF16E2DE7215"
      },
      "cell_type" : "code",
      "source" : [
        "df.take(10)"
      ],
      "outputs" : [
        {
          "name" : "stdout",
          "output_type" : "stream",
          "text" : "res13: Array[org.apache.spark.sql.Row] = Array([Ho Chi Minh,23,85.08,10.823,106.63,42.42,1007.0,89.46,8,86.92,2094.17,26.27,9.4,89.92,2017,23-08-2017,1503439200], [Ho Chi Minh,24,44.92,10.823,106.63,31.29,1007.35,70.12,8,82.5,3365.09,27.16,2.6,72.88,2017,24-08-2017,1503525600], [Ho Chi Minh,25,78.04,10.823,106.63,42.5,1007.31,84.71,8,86.17,2028.31,26.68,10.0,85.28,2017,25-08-2017,1503612000], [Ho Chi Minh,26,62.83,10.823,106.63,60.21,1005.54,66.5,8,87.83,1682.99,26.49,14.4,73.17,2017,26-08-2017,1503698400], [Ho Chi Minh,27,49.08,10.823,106.63,61.5,1005.94,97.12,8,86.46,2837.32,26.42,4.3,97.12,2017,27-08-2017,1503784800], [Ho Chi Minh,28,84.62,10.823,106.63,71.67,1007.61,81.42,8,90.33,1815.6,26.32,16.2,87.58,2017,28-08-2017,1503871200], [Ho Chi Minh,29,43.88,10.823,106.63,54.21,1008.26,4..."
        },
        {
          "metadata" : { },
          "data" : {
            "text/html" : "<div>\n      <script data-this=\"{&quot;dataId&quot;:&quot;anonedccfa327d4653cb539a2bd0159296a0&quot;,&quot;dataInit&quot;:[],&quot;genId&quot;:&quot;663654740&quot;}\" type=\"text/x-scoped-javascript\">/*<![CDATA[*/req(['../javascripts/notebook/playground','../javascripts/notebook/magic/tabs'], \n      function(playground, _magictabs) {\n        // data ==> data-this (in observable.js's scopedEval) ==> this in JS => { dataId, dataInit, ... }\n        // this ==> scope (in observable.js's scopedEval) ==> this.parentElement ==> div.container below (toHtml)\n\n        playground.call(data,\n                        this\n                        ,\n                        {\n    \"f\": _magictabs,\n    \"o\": {}\n  }\n  \n                        \n                        \n                      );\n      }\n    );/*]]>*/</script>\n    <div>\n      <div>\n        <ul class=\"nav nav-tabs\" id=\"ul663654740\"><li>\n              <a href=\"#tab663654740-0\"><i class=\"fa fa-table\"/></a>\n            </li><li>\n              <a href=\"#tab663654740-1\"><i class=\"fa fa-cubes\"/></a>\n            </li></ul>\n\n        <div class=\"tab-content\" id=\"tab663654740\"><div class=\"tab-pane\" id=\"tab663654740-0\">\n            <div>\n      <script data-this=\"{&quot;dataId&quot;:&quot;anon696f2b53d8cc77efee6ab87ef45b247b&quot;,&quot;dataInit&quot;:[{&quot;Low cloud cover daily mean [low cld lay]&quot;:42.42,&quot;Shortwave Radiation - backwards daily sum [sfc]&quot;:2094.17,&quot;timestamp&quot;:1503439200,&quot;Temperature daily mean [2 m above gnd]&quot;:26.27,&quot;Month&quot;:8,&quot;Lon&quot;:106.63,&quot;Lat&quot;:10.823,&quot;High cloud cover daily mean [high cld lay]&quot;:85.08,&quot;datestamp&quot;:&quot;23-08-2017&quot;,&quot;Year&quot;:2017,&quot;Medium cloud cover daily mean [mid cld lay]&quot;:89.46,&quot;Day&quot;:23,&quot;Relative humidity daily mean [2 m above gnd]&quot;:86.92,&quot;Total Precipitation daily sum [sfc]&quot;:9.4,&quot;City&quot;:&quot;Ho Chi Minh&quot;,&quot;Mean Sea Level Pressure daily mean [MSL]&quot;:1007,&quot;Total cloud cover daily mean [sfc]&quot;:89.92},{&quot;Low cloud cover daily mean [low cld lay]&quot;:31.29,&quot;Shortwave Radiation - backwards daily sum [sfc]&quot;:3365.09,&quot;timestamp&quot;:1503525600,&quot;Temperature daily mean [2 m above gnd]&quot;:27.16,&quot;Month&quot;:8,&quot;Lon&quot;:106.63,&quot;Lat&quot;:10.823,&quot;High cloud cover daily mean [high cld lay]&quot;:44.92,&quot;datestamp&quot;:&quot;24-08-2017&quot;,&quot;Year&quot;:2017,&quot;Medium cloud cover daily mean [mid cld lay]&quot;:70.12,&quot;Day&quot;:24,&quot;Relative humidity daily mean [2 m above gnd]&quot;:82.5,&quot;Total Precipitation daily sum [sfc]&quot;:2.6,&quot;City&quot;:&quot;Ho Chi Minh&quot;,&quot;Mean Sea Level Pressure daily mean [MSL]&quot;:1007.35,&quot;Total cloud cover daily mean [sfc]&quot;:72.88},{&quot;Low cloud cover daily mean [low cld lay]&quot;:42.5,&quot;Shortwave Radiation - backwards daily sum [sfc]&quot;:2028.31,&quot;timestamp&quot;:1503612000,&quot;Temperature daily mean [2 m above gnd]&quot;:26.68,&quot;Month&quot;:8,&quot;Lon&quot;:106.63,&quot;Lat&quot;:10.823,&quot;High cloud cover daily mean [high cld lay]&quot;:78.04,&quot;datestamp&quot;:&quot;25-08-2017&quot;,&quot;Year&quot;:2017,&quot;Medium cloud cover daily mean [mid cld lay]&quot;:84.71,&quot;Day&quot;:25,&quot;Relative humidity daily mean [2 m above gnd]&quot;:86.17,&quot;Total Precipitation daily sum [sfc]&quot;:10,&quot;City&quot;:&quot;Ho Chi Minh&quot;,&quot;Mean Sea Level Pressure daily mean [MSL]&quot;:1007.31,&quot;Total cloud cover daily mean [sfc]&quot;:85.28},{&quot;Low cloud cover daily mean [low cld lay]&quot;:60.21,&quot;Shortwave Radiation - backwards daily sum [sfc]&quot;:1682.99,&quot;timestamp&quot;:1503698400,&quot;Temperature daily mean [2 m above gnd]&quot;:26.49,&quot;Month&quot;:8,&quot;Lon&quot;:106.63,&quot;Lat&quot;:10.823,&quot;High cloud cover daily mean [high cld lay]&quot;:62.83,&quot;datestamp&quot;:&quot;26-08-2017&quot;,&quot;Year&quot;:2017,&quot;Medium cloud cover daily mean [mid cld lay]&quot;:66.5,&quot;Day&quot;:26,&quot;Relative humidity daily mean [2 m above gnd]&quot;:87.83,&quot;Total Precipitation daily sum [sfc]&quot;:14.4,&quot;City&quot;:&quot;Ho Chi Minh&quot;,&quot;Mean Sea Level Pressure daily mean [MSL]&quot;:1005.54,&quot;Total cloud cover daily mean [sfc]&quot;:73.17},{&quot;Low cloud cover daily mean [low cld lay]&quot;:61.5,&quot;Shortwave Radiation - backwards daily sum [sfc]&quot;:2837.32,&quot;timestamp&quot;:1503784800,&quot;Temperature daily mean [2 m above gnd]&quot;:26.42,&quot;Month&quot;:8,&quot;Lon&quot;:106.63,&quot;Lat&quot;:10.823,&quot;High cloud cover daily mean [high cld lay]&quot;:49.08,&quot;datestamp&quot;:&quot;27-08-2017&quot;,&quot;Year&quot;:2017,&quot;Medium cloud cover daily mean [mid cld lay]&quot;:97.12,&quot;Day&quot;:27,&quot;Relative humidity daily mean [2 m above gnd]&quot;:86.46,&quot;Total Precipitation daily sum [sfc]&quot;:4.3,&quot;City&quot;:&quot;Ho Chi Minh&quot;,&quot;Mean Sea Level Pressure daily mean [MSL]&quot;:1005.94,&quot;Total cloud cover daily mean [sfc]&quot;:97.12},{&quot;Low cloud cover daily mean [low cld lay]&quot;:71.67,&quot;Shortwave Radiation - backwards daily sum [sfc]&quot;:1815.6,&quot;timestamp&quot;:1503871200,&quot;Temperature daily mean [2 m above gnd]&quot;:26.32,&quot;Month&quot;:8,&quot;Lon&quot;:106.63,&quot;Lat&quot;:10.823,&quot;High cloud cover daily mean [high cld lay]&quot;:84.62,&quot;datestamp&quot;:&quot;28-08-2017&quot;,&quot;Year&quot;:2017,&quot;Medium cloud cover daily mean [mid cld lay]&quot;:81.42,&quot;Day&quot;:28,&quot;Relative humidity daily mean [2 m above gnd]&quot;:90.33,&quot;Total Precipitation daily sum [sfc]&quot;:16.2,&quot;City&quot;:&quot;Ho Chi Minh&quot;,&quot;Mean Sea Level Pressure daily mean [MSL]&quot;:1007.61,&quot;Total cloud cover daily mean [sfc]&quot;:87.58},{&quot;Low cloud cover daily mean [low cld lay]&quot;:54.21,&quot;Shortwave Radiation - backwards daily sum [sfc]&quot;:1326.99,&quot;timestamp&quot;:1503957600,&quot;Temperature daily mean [2 m above gnd]&quot;:26.49,&quot;Month&quot;:8,&quot;Lon&quot;:106.63,&quot;Lat&quot;:10.823,&quot;High cloud cover daily mean [high cld lay]&quot;:43.88,&quot;datestamp&quot;:&quot;29-08-2017&quot;,&quot;Year&quot;:2017,&quot;Medium cloud cover daily mean [mid cld lay]&quot;:47.79,&quot;Day&quot;:29,&quot;Relative humidity daily mean [2 m above gnd]&quot;:87.62,&quot;Total Precipitation daily sum [sfc]&quot;:15.8,&quot;City&quot;:&quot;Ho Chi Minh&quot;,&quot;Mean Sea Level Pressure daily mean [MSL]&quot;:1008.26,&quot;Total cloud cover daily mean [sfc]&quot;:66.06},{&quot;Low cloud cover daily mean [low cld lay]&quot;:15.46,&quot;Shortwave Radiation - backwards daily sum [sfc]&quot;:2969.04,&quot;timestamp&quot;:1504044000,&quot;Temperature daily mean [2 m above gnd]&quot;:27.36,&quot;Month&quot;:8,&quot;Lon&quot;:106.63,&quot;Lat&quot;:10.823,&quot;High cloud cover daily mean [high cld lay]&quot;:85.71,&quot;datestamp&quot;:&quot;30-08-2017&quot;,&quot;Year&quot;:2017,&quot;Medium cloud cover daily mean [mid cld lay]&quot;:87.79,&quot;Day&quot;:30,&quot;Relative humidity daily mean [2 m above gnd]&quot;:78.75,&quot;Total Precipitation daily sum [sfc]&quot;:0.2,&quot;City&quot;:&quot;Ho Chi Minh&quot;,&quot;Mean Sea Level Pressure daily mean [MSL]&quot;:1008.5,&quot;Total cloud cover daily mean [sfc]&quot;:88.34},{&quot;Low cloud cover daily mean [low cld lay]&quot;:10.42,&quot;Shortwave Radiation - backwards daily sum [sfc]&quot;:4447.33,&quot;timestamp&quot;:1503439200,&quot;Temperature daily mean [2 m above gnd]&quot;:31.59,&quot;Month&quot;:8,&quot;Lon&quot;:106.023,&quot;Lat&quot;:20.4737,&quot;High cloud cover daily mean [high cld lay]&quot;:100,&quot;datestamp&quot;:&quot;23-08-2017&quot;,&quot;Year&quot;:2017,&quot;Medium cloud cover daily mean [mid cld lay]&quot;:69.62,&quot;Day&quot;:23,&quot;Relative humidity daily mean [2 m above gnd]&quot;:73.17,&quot;Total Precipitation daily sum [sfc]&quot;:1.3,&quot;City&quot;:&quot;Ha Noi&quot;,&quot;Mean Sea Level Pressure daily mean [MSL]&quot;:1000.1,&quot;Total cloud cover daily mean [sfc]&quot;:76.42},{&quot;Low cloud cover daily mean [low cld lay]&quot;:45.29,&quot;Shortwave Radiation - backwards daily sum [sfc]&quot;:3931.13,&quot;timestamp&quot;:1503525600,&quot;Temperature daily mean [2 m above gnd]&quot;:31.12,&quot;Month&quot;:8,&quot;Lon&quot;:106.023,&quot;Lat&quot;:20.4737,&quot;High cloud cover daily mean [high cld lay]&quot;:100,&quot;datestamp&quot;:&quot;24-08-2017&quot;,&quot;Year&quot;:2017,&quot;Medium cloud cover daily mean [mid cld lay]&quot;:63.21,&quot;Day&quot;:24,&quot;Relative humidity daily mean [2 m above gnd]&quot;:75.08,&quot;Total Precipitation daily sum [sfc]&quot;:5.3,&quot;City&quot;:&quot;Ha Noi&quot;,&quot;Mean Sea Level Pressure daily mean [MSL]&quot;:1000.2,&quot;Total cloud cover daily mean [sfc]&quot;:84.5}],&quot;genId&quot;:&quot;208606692&quot;}\" type=\"text/x-scoped-javascript\">/*<![CDATA[*/req(['../javascripts/notebook/playground','../javascripts/notebook/magic/tableChart'], \n      function(playground, _magictableChart) {\n        // data ==> data-this (in observable.js's scopedEval) ==> this in JS => { dataId, dataInit, ... }\n        // this ==> scope (in observable.js's scopedEval) ==> this.parentElement ==> div.container below (toHtml)\n\n        playground.call(data,\n                        this\n                        ,\n                        {\n    \"f\": _magictableChart,\n    \"o\": {\"headers\":[\"City\",\"Day\",\"High cloud cover daily mean [high cld lay]\",\"Lat\",\"Lon\",\"Low cloud cover daily mean [low cld lay]\",\"Mean Sea Level Pressure daily mean [MSL]\",\"Medium cloud cover daily mean [mid cld lay]\",\"Month\",\"Relative humidity daily mean [2 m above gnd]\",\"Shortwave Radiation - backwards daily sum [sfc]\",\"Temperature daily mean [2 m above gnd]\",\"Total Precipitation daily sum [sfc]\",\"Total cloud cover daily mean [sfc]\",\"Year\",\"datestamp\",\"timestamp\"],\"width\":600,\"height\":400}\n  }\n  \n                        \n                        \n                      );\n      }\n    );/*]]>*/</script>\n    <div>\n      <span class=\"chart-total-item-count\"><p data-bind=\"text: value\"><script data-this=\"{&quot;valueId&quot;:&quot;anon89610133f58eb4db8f9500d7a5325e68&quot;,&quot;initialValue&quot;:&quot;10&quot;}\" type=\"text/x-scoped-javascript\">/*<![CDATA[*/\nreq(\n['observable', 'knockout'],\nfunction (O, ko) {\n  ko.applyBindings({\n      value: O.makeObservable(valueId, initialValue)\n    },\n    this\n  );\n});\n        /*]]>*/</script></p> entries total</span>\n      <span class=\"chart-sampling-warning\"><p data-bind=\"text: value\"><script data-this=\"{&quot;valueId&quot;:&quot;anon1e1e4da6273b277582ada72191bd5a4e&quot;,&quot;initialValue&quot;:&quot;&quot;}\" type=\"text/x-scoped-javascript\">/*<![CDATA[*/\nreq(\n['observable', 'knockout'],\nfunction (O, ko) {\n  ko.applyBindings({\n      value: O.makeObservable(valueId, initialValue)\n    },\n    this\n  );\n});\n        /*]]>*/</script></p></span>\n      <div>\n      </div>\n    </div></div>\n            </div><div class=\"tab-pane\" id=\"tab663654740-1\">\n            <div>\n      <script data-this=\"{&quot;dataId&quot;:&quot;anonb7973deaacaf0278e44f6d537987712a&quot;,&quot;dataInit&quot;:[{&quot;Low cloud cover daily mean [low cld lay]&quot;:42.42,&quot;Shortwave Radiation - backwards daily sum [sfc]&quot;:2094.17,&quot;timestamp&quot;:1503439200,&quot;Temperature daily mean [2 m above gnd]&quot;:26.27,&quot;Month&quot;:8,&quot;Lon&quot;:106.63,&quot;Lat&quot;:10.823,&quot;High cloud cover daily mean [high cld lay]&quot;:85.08,&quot;datestamp&quot;:&quot;23-08-2017&quot;,&quot;Year&quot;:2017,&quot;Medium cloud cover daily mean [mid cld lay]&quot;:89.46,&quot;Day&quot;:23,&quot;Relative humidity daily mean [2 m above gnd]&quot;:86.92,&quot;Total Precipitation daily sum [sfc]&quot;:9.4,&quot;City&quot;:&quot;Ho Chi Minh&quot;,&quot;Mean Sea Level Pressure daily mean [MSL]&quot;:1007,&quot;Total cloud cover daily mean [sfc]&quot;:89.92},{&quot;Low cloud cover daily mean [low cld lay]&quot;:31.29,&quot;Shortwave Radiation - backwards daily sum [sfc]&quot;:3365.09,&quot;timestamp&quot;:1503525600,&quot;Temperature daily mean [2 m above gnd]&quot;:27.16,&quot;Month&quot;:8,&quot;Lon&quot;:106.63,&quot;Lat&quot;:10.823,&quot;High cloud cover daily mean [high cld lay]&quot;:44.92,&quot;datestamp&quot;:&quot;24-08-2017&quot;,&quot;Year&quot;:2017,&quot;Medium cloud cover daily mean [mid cld lay]&quot;:70.12,&quot;Day&quot;:24,&quot;Relative humidity daily mean [2 m above gnd]&quot;:82.5,&quot;Total Precipitation daily sum [sfc]&quot;:2.6,&quot;City&quot;:&quot;Ho Chi Minh&quot;,&quot;Mean Sea Level Pressure daily mean [MSL]&quot;:1007.35,&quot;Total cloud cover daily mean [sfc]&quot;:72.88},{&quot;Low cloud cover daily mean [low cld lay]&quot;:42.5,&quot;Shortwave Radiation - backwards daily sum [sfc]&quot;:2028.31,&quot;timestamp&quot;:1503612000,&quot;Temperature daily mean [2 m above gnd]&quot;:26.68,&quot;Month&quot;:8,&quot;Lon&quot;:106.63,&quot;Lat&quot;:10.823,&quot;High cloud cover daily mean [high cld lay]&quot;:78.04,&quot;datestamp&quot;:&quot;25-08-2017&quot;,&quot;Year&quot;:2017,&quot;Medium cloud cover daily mean [mid cld lay]&quot;:84.71,&quot;Day&quot;:25,&quot;Relative humidity daily mean [2 m above gnd]&quot;:86.17,&quot;Total Precipitation daily sum [sfc]&quot;:10,&quot;City&quot;:&quot;Ho Chi Minh&quot;,&quot;Mean Sea Level Pressure daily mean [MSL]&quot;:1007.31,&quot;Total cloud cover daily mean [sfc]&quot;:85.28},{&quot;Low cloud cover daily mean [low cld lay]&quot;:60.21,&quot;Shortwave Radiation - backwards daily sum [sfc]&quot;:1682.99,&quot;timestamp&quot;:1503698400,&quot;Temperature daily mean [2 m above gnd]&quot;:26.49,&quot;Month&quot;:8,&quot;Lon&quot;:106.63,&quot;Lat&quot;:10.823,&quot;High cloud cover daily mean [high cld lay]&quot;:62.83,&quot;datestamp&quot;:&quot;26-08-2017&quot;,&quot;Year&quot;:2017,&quot;Medium cloud cover daily mean [mid cld lay]&quot;:66.5,&quot;Day&quot;:26,&quot;Relative humidity daily mean [2 m above gnd]&quot;:87.83,&quot;Total Precipitation daily sum [sfc]&quot;:14.4,&quot;City&quot;:&quot;Ho Chi Minh&quot;,&quot;Mean Sea Level Pressure daily mean [MSL]&quot;:1005.54,&quot;Total cloud cover daily mean [sfc]&quot;:73.17},{&quot;Low cloud cover daily mean [low cld lay]&quot;:61.5,&quot;Shortwave Radiation - backwards daily sum [sfc]&quot;:2837.32,&quot;timestamp&quot;:1503784800,&quot;Temperature daily mean [2 m above gnd]&quot;:26.42,&quot;Month&quot;:8,&quot;Lon&quot;:106.63,&quot;Lat&quot;:10.823,&quot;High cloud cover daily mean [high cld lay]&quot;:49.08,&quot;datestamp&quot;:&quot;27-08-2017&quot;,&quot;Year&quot;:2017,&quot;Medium cloud cover daily mean [mid cld lay]&quot;:97.12,&quot;Day&quot;:27,&quot;Relative humidity daily mean [2 m above gnd]&quot;:86.46,&quot;Total Precipitation daily sum [sfc]&quot;:4.3,&quot;City&quot;:&quot;Ho Chi Minh&quot;,&quot;Mean Sea Level Pressure daily mean [MSL]&quot;:1005.94,&quot;Total cloud cover daily mean [sfc]&quot;:97.12},{&quot;Low cloud cover daily mean [low cld lay]&quot;:71.67,&quot;Shortwave Radiation - backwards daily sum [sfc]&quot;:1815.6,&quot;timestamp&quot;:1503871200,&quot;Temperature daily mean [2 m above gnd]&quot;:26.32,&quot;Month&quot;:8,&quot;Lon&quot;:106.63,&quot;Lat&quot;:10.823,&quot;High cloud cover daily mean [high cld lay]&quot;:84.62,&quot;datestamp&quot;:&quot;28-08-2017&quot;,&quot;Year&quot;:2017,&quot;Medium cloud cover daily mean [mid cld lay]&quot;:81.42,&quot;Day&quot;:28,&quot;Relative humidity daily mean [2 m above gnd]&quot;:90.33,&quot;Total Precipitation daily sum [sfc]&quot;:16.2,&quot;City&quot;:&quot;Ho Chi Minh&quot;,&quot;Mean Sea Level Pressure daily mean [MSL]&quot;:1007.61,&quot;Total cloud cover daily mean [sfc]&quot;:87.58},{&quot;Low cloud cover daily mean [low cld lay]&quot;:54.21,&quot;Shortwave Radiation - backwards daily sum [sfc]&quot;:1326.99,&quot;timestamp&quot;:1503957600,&quot;Temperature daily mean [2 m above gnd]&quot;:26.49,&quot;Month&quot;:8,&quot;Lon&quot;:106.63,&quot;Lat&quot;:10.823,&quot;High cloud cover daily mean [high cld lay]&quot;:43.88,&quot;datestamp&quot;:&quot;29-08-2017&quot;,&quot;Year&quot;:2017,&quot;Medium cloud cover daily mean [mid cld lay]&quot;:47.79,&quot;Day&quot;:29,&quot;Relative humidity daily mean [2 m above gnd]&quot;:87.62,&quot;Total Precipitation daily sum [sfc]&quot;:15.8,&quot;City&quot;:&quot;Ho Chi Minh&quot;,&quot;Mean Sea Level Pressure daily mean [MSL]&quot;:1008.26,&quot;Total cloud cover daily mean [sfc]&quot;:66.06},{&quot;Low cloud cover daily mean [low cld lay]&quot;:15.46,&quot;Shortwave Radiation - backwards daily sum [sfc]&quot;:2969.04,&quot;timestamp&quot;:1504044000,&quot;Temperature daily mean [2 m above gnd]&quot;:27.36,&quot;Month&quot;:8,&quot;Lon&quot;:106.63,&quot;Lat&quot;:10.823,&quot;High cloud cover daily mean [high cld lay]&quot;:85.71,&quot;datestamp&quot;:&quot;30-08-2017&quot;,&quot;Year&quot;:2017,&quot;Medium cloud cover daily mean [mid cld lay]&quot;:87.79,&quot;Day&quot;:30,&quot;Relative humidity daily mean [2 m above gnd]&quot;:78.75,&quot;Total Precipitation daily sum [sfc]&quot;:0.2,&quot;City&quot;:&quot;Ho Chi Minh&quot;,&quot;Mean Sea Level Pressure daily mean [MSL]&quot;:1008.5,&quot;Total cloud cover daily mean [sfc]&quot;:88.34},{&quot;Low cloud cover daily mean [low cld lay]&quot;:10.42,&quot;Shortwave Radiation - backwards daily sum [sfc]&quot;:4447.33,&quot;timestamp&quot;:1503439200,&quot;Temperature daily mean [2 m above gnd]&quot;:31.59,&quot;Month&quot;:8,&quot;Lon&quot;:106.023,&quot;Lat&quot;:20.4737,&quot;High cloud cover daily mean [high cld lay]&quot;:100,&quot;datestamp&quot;:&quot;23-08-2017&quot;,&quot;Year&quot;:2017,&quot;Medium cloud cover daily mean [mid cld lay]&quot;:69.62,&quot;Day&quot;:23,&quot;Relative humidity daily mean [2 m above gnd]&quot;:73.17,&quot;Total Precipitation daily sum [sfc]&quot;:1.3,&quot;City&quot;:&quot;Ha Noi&quot;,&quot;Mean Sea Level Pressure daily mean [MSL]&quot;:1000.1,&quot;Total cloud cover daily mean [sfc]&quot;:76.42},{&quot;Low cloud cover daily mean [low cld lay]&quot;:45.29,&quot;Shortwave Radiation - backwards daily sum [sfc]&quot;:3931.13,&quot;timestamp&quot;:1503525600,&quot;Temperature daily mean [2 m above gnd]&quot;:31.12,&quot;Month&quot;:8,&quot;Lon&quot;:106.023,&quot;Lat&quot;:20.4737,&quot;High cloud cover daily mean [high cld lay]&quot;:100,&quot;datestamp&quot;:&quot;24-08-2017&quot;,&quot;Year&quot;:2017,&quot;Medium cloud cover daily mean [mid cld lay]&quot;:63.21,&quot;Day&quot;:24,&quot;Relative humidity daily mean [2 m above gnd]&quot;:75.08,&quot;Total Precipitation daily sum [sfc]&quot;:5.3,&quot;City&quot;:&quot;Ha Noi&quot;,&quot;Mean Sea Level Pressure daily mean [MSL]&quot;:1000.2,&quot;Total cloud cover daily mean [sfc]&quot;:84.5}],&quot;genId&quot;:&quot;793650514&quot;}\" type=\"text/x-scoped-javascript\">/*<![CDATA[*/req(['../javascripts/notebook/playground','../javascripts/notebook/magic/pivotChart'], \n      function(playground, _magicpivotChart) {\n        // data ==> data-this (in observable.js's scopedEval) ==> this in JS => { dataId, dataInit, ... }\n        // this ==> scope (in observable.js's scopedEval) ==> this.parentElement ==> div.container below (toHtml)\n\n        playground.call(data,\n                        this\n                        ,\n                        {\n    \"f\": _magicpivotChart,\n    \"o\": {\"width\":600,\"height\":400,\"derivedAttributes\":{},\"extraOptions\":{}}\n  }\n  \n                        \n                        \n                      );\n      }\n    );/*]]>*/</script>\n    <div>\n      <span class=\"chart-total-item-count\"><p data-bind=\"text: value\"><script data-this=\"{&quot;valueId&quot;:&quot;anonccf96d1696104197149b1c5406ca078b&quot;,&quot;initialValue&quot;:&quot;10&quot;}\" type=\"text/x-scoped-javascript\">/*<![CDATA[*/\nreq(\n['observable', 'knockout'],\nfunction (O, ko) {\n  ko.applyBindings({\n      value: O.makeObservable(valueId, initialValue)\n    },\n    this\n  );\n});\n        /*]]>*/</script></p> entries total</span>\n      <span class=\"chart-sampling-warning\"><p data-bind=\"text: value\"><script data-this=\"{&quot;valueId&quot;:&quot;anon4dac64769e18c001fbcbd8a5bc753a47&quot;,&quot;initialValue&quot;:&quot;&quot;}\" type=\"text/x-scoped-javascript\">/*<![CDATA[*/\nreq(\n['observable', 'knockout'],\nfunction (O, ko) {\n  ko.applyBindings({\n      value: O.makeObservable(valueId, initialValue)\n    },\n    this\n  );\n});\n        /*]]>*/</script></p></span>\n      <div>\n      </div>\n    </div></div>\n            </div></div>\n      </div>\n    </div></div>"
          },
          "output_type" : "execute_result",
          "execution_count" : 9,
          "time" : "Took: 1.135s, at 2017-09-06 10:14"
        }
      ]
    },
    {
      "metadata" : {
        "trusted" : true,
        "input_collapsed" : false,
        "collapsed" : false,
        "presentation" : {
          "tabs_state" : "{\n  \"tab_id\": \"#tab64873962-0\"\n}",
          "pivot_chart_state" : "{\n  \"hiddenAttributes\": [],\n  \"menuLimit\": 200,\n  \"cols\": [],\n  \"rows\": [],\n  \"vals\": [],\n  \"exclusions\": {},\n  \"inclusions\": {},\n  \"unusedAttrsVertical\": 85,\n  \"autoSortUnusedAttrs\": false,\n  \"inclusionsInfo\": {},\n  \"aggregatorName\": \"Count\",\n  \"rendererName\": \"Table\"\n}"
        },
        "id" : "CBC73CA92C884BCD880EEB5FBFBEF3B2"
      },
      "cell_type" : "code",
      "source" : [
        "df.select(\"City\").distinct.take(10)"
      ],
      "outputs" : [
        {
          "name" : "stdout",
          "output_type" : "stream",
          "text" : "res15: Array[org.apache.spark.sql.Row] = Array([Da Nang], [Can Tho], [Hue], [Ha Noi], [Ho Chi Minh])\n"
        },
        {
          "metadata" : { },
          "data" : {
            "text/html" : "<div>\n      <script data-this=\"{&quot;dataId&quot;:&quot;anon3057450c30b332d4a305f69c16c0b4f0&quot;,&quot;dataInit&quot;:[],&quot;genId&quot;:&quot;64873962&quot;}\" type=\"text/x-scoped-javascript\">/*<![CDATA[*/req(['../javascripts/notebook/playground','../javascripts/notebook/magic/tabs'], \n      function(playground, _magictabs) {\n        // data ==> data-this (in observable.js's scopedEval) ==> this in JS => { dataId, dataInit, ... }\n        // this ==> scope (in observable.js's scopedEval) ==> this.parentElement ==> div.container below (toHtml)\n\n        playground.call(data,\n                        this\n                        ,\n                        {\n    \"f\": _magictabs,\n    \"o\": {}\n  }\n  \n                        \n                        \n                      );\n      }\n    );/*]]>*/</script>\n    <div>\n      <div>\n        <ul class=\"nav nav-tabs\" id=\"ul64873962\"><li>\n              <a href=\"#tab64873962-0\"><i class=\"fa fa-table\"/></a>\n            </li><li>\n              <a href=\"#tab64873962-1\"><i class=\"fa fa-cubes\"/></a>\n            </li></ul>\n\n        <div class=\"tab-content\" id=\"tab64873962\"><div class=\"tab-pane\" id=\"tab64873962-0\">\n            <div>\n      <script data-this=\"{&quot;dataId&quot;:&quot;anonc764af28825ae141c7d91b24962fbaed&quot;,&quot;dataInit&quot;:[{&quot;City&quot;:&quot;Da Nang&quot;},{&quot;City&quot;:&quot;Can Tho&quot;},{&quot;City&quot;:&quot;Hue&quot;},{&quot;City&quot;:&quot;Ha Noi&quot;},{&quot;City&quot;:&quot;Ho Chi Minh&quot;}],&quot;genId&quot;:&quot;103314321&quot;}\" type=\"text/x-scoped-javascript\">/*<![CDATA[*/req(['../javascripts/notebook/playground','../javascripts/notebook/magic/tableChart'], \n      function(playground, _magictableChart) {\n        // data ==> data-this (in observable.js's scopedEval) ==> this in JS => { dataId, dataInit, ... }\n        // this ==> scope (in observable.js's scopedEval) ==> this.parentElement ==> div.container below (toHtml)\n\n        playground.call(data,\n                        this\n                        ,\n                        {\n    \"f\": _magictableChart,\n    \"o\": {\"headers\":[\"City\"],\"width\":600,\"height\":400}\n  }\n  \n                        \n                        \n                      );\n      }\n    );/*]]>*/</script>\n    <div>\n      <span class=\"chart-total-item-count\"><p data-bind=\"text: value\"><script data-this=\"{&quot;valueId&quot;:&quot;anonf340a01349e23d2518acc9270a233a21&quot;,&quot;initialValue&quot;:&quot;5&quot;}\" type=\"text/x-scoped-javascript\">/*<![CDATA[*/\nreq(\n['observable', 'knockout'],\nfunction (O, ko) {\n  ko.applyBindings({\n      value: O.makeObservable(valueId, initialValue)\n    },\n    this\n  );\n});\n        /*]]>*/</script></p> entries total</span>\n      <span class=\"chart-sampling-warning\"><p data-bind=\"text: value\"><script data-this=\"{&quot;valueId&quot;:&quot;anonceb758f8de342654c135b627f40cc9d1&quot;,&quot;initialValue&quot;:&quot;&quot;}\" type=\"text/x-scoped-javascript\">/*<![CDATA[*/\nreq(\n['observable', 'knockout'],\nfunction (O, ko) {\n  ko.applyBindings({\n      value: O.makeObservable(valueId, initialValue)\n    },\n    this\n  );\n});\n        /*]]>*/</script></p></span>\n      <div>\n      </div>\n    </div></div>\n            </div><div class=\"tab-pane\" id=\"tab64873962-1\">\n            <div>\n      <script data-this=\"{&quot;dataId&quot;:&quot;anonf3dd06f8c21c203899d84de91fd26965&quot;,&quot;dataInit&quot;:[{&quot;City&quot;:&quot;Da Nang&quot;},{&quot;City&quot;:&quot;Can Tho&quot;},{&quot;City&quot;:&quot;Hue&quot;},{&quot;City&quot;:&quot;Ha Noi&quot;},{&quot;City&quot;:&quot;Ho Chi Minh&quot;}],&quot;genId&quot;:&quot;480511970&quot;}\" type=\"text/x-scoped-javascript\">/*<![CDATA[*/req(['../javascripts/notebook/playground','../javascripts/notebook/magic/pivotChart'], \n      function(playground, _magicpivotChart) {\n        // data ==> data-this (in observable.js's scopedEval) ==> this in JS => { dataId, dataInit, ... }\n        // this ==> scope (in observable.js's scopedEval) ==> this.parentElement ==> div.container below (toHtml)\n\n        playground.call(data,\n                        this\n                        ,\n                        {\n    \"f\": _magicpivotChart,\n    \"o\": {\"width\":600,\"height\":400,\"derivedAttributes\":{},\"extraOptions\":{}}\n  }\n  \n                        \n                        \n                      );\n      }\n    );/*]]>*/</script>\n    <div>\n      <span class=\"chart-total-item-count\"><p data-bind=\"text: value\"><script data-this=\"{&quot;valueId&quot;:&quot;anon57aadede202a33b4afc66edf9532ac94&quot;,&quot;initialValue&quot;:&quot;5&quot;}\" type=\"text/x-scoped-javascript\">/*<![CDATA[*/\nreq(\n['observable', 'knockout'],\nfunction (O, ko) {\n  ko.applyBindings({\n      value: O.makeObservable(valueId, initialValue)\n    },\n    this\n  );\n});\n        /*]]>*/</script></p> entries total</span>\n      <span class=\"chart-sampling-warning\"><p data-bind=\"text: value\"><script data-this=\"{&quot;valueId&quot;:&quot;anon2a567f045a5a7be6fc7051cbeda0681d&quot;,&quot;initialValue&quot;:&quot;&quot;}\" type=\"text/x-scoped-javascript\">/*<![CDATA[*/\nreq(\n['observable', 'knockout'],\nfunction (O, ko) {\n  ko.applyBindings({\n      value: O.makeObservable(valueId, initialValue)\n    },\n    this\n  );\n});\n        /*]]>*/</script></p></span>\n      <div>\n      </div>\n    </div></div>\n            </div></div>\n      </div>\n    </div></div>"
          },
          "output_type" : "execute_result",
          "execution_count" : 10,
          "time" : "Took: 1.883s, at 2017-09-06 10:15"
        }
      ]
    },
    {
      "metadata" : {
        "trusted" : true,
        "input_collapsed" : false,
        "collapsed" : false,
        "id" : "9731E4468F444311A1EA43EA520BC153"
      },
      "cell_type" : "code",
      "source" : [
        "import org.apache.spark.mllib.linalg.Vectors\n",
        "import org.apache.spark.mllib.stat.{MultivariateStatisticalSummary, Statistics}"
      ],
      "outputs" : [
        {
          "name" : "stdout",
          "output_type" : "stream",
          "text" : "import org.apache.spark.mllib.linalg.Vectors\nimport org.apache.spark.mllib.stat.{MultivariateStatisticalSummary, Statistics}\n"
        },
        {
          "metadata" : { },
          "data" : {
            "text/html" : ""
          },
          "output_type" : "execute_result",
          "execution_count" : 11,
          "time" : "Took: 0.671s, at 2017-09-06 10:15"
        }
      ]
    },
    {
      "metadata" : {
        "trusted" : true,
        "input_collapsed" : false,
        "collapsed" : false,
        "id" : "FAA8180FD2BD460D9433F621FCAC804F"
      },
      "cell_type" : "code",
      "source" : [
        "// Convert df to RDD to be able to use the library MultiVariateStatisticalSummary. Here we choose only the necessary variables\n",
        "val rdd = df.drop(\"City\").drop(\"Day\").drop(\"Year\").drop(\"Month\").drop(\"timestamp\").drop(\"Lat\").drop(\"Lon\").drop(\"datestamp\")\n",
        "            .map(l => (l(6).asInstanceOf[Double], l(1).asInstanceOf[Double], l(2).asInstanceOf[Double],\n",
        "                       l(3).asInstanceOf[Double], l(4).asInstanceOf[Double], l(5).asInstanceOf[Double],\n",
        "                       l(0).asInstanceOf[Double], l(7).asInstanceOf[Double], l(8).asInstanceOf[Double])).rdd"
      ],
      "outputs" : [
        {
          "name" : "stdout",
          "output_type" : "stream",
          "text" : "rdd: org.apache.spark.rdd.RDD[(Double, Double, Double, Double, Double, Double, Double, Double, Double)] = MapPartitionsRDD[32] at rdd at <console>:85\n"
        },
        {
          "metadata" : { },
          "data" : {
            "text/html" : ""
          },
          "output_type" : "execute_result",
          "execution_count" : 12,
          "time" : "Took: 0.904s, at 2017-09-06 10:16"
        }
      ]
    },
    {
      "metadata" : {
        "trusted" : true,
        "input_collapsed" : false,
        "collapsed" : false,
        "presentation" : {
          "tabs_state" : "{\n  \"tab_id\": \"#tab627444731-0\"\n}",
          "pivot_chart_state" : "{\n  \"hiddenAttributes\": [],\n  \"menuLimit\": 200,\n  \"cols\": [],\n  \"rows\": [],\n  \"vals\": [],\n  \"exclusions\": {},\n  \"inclusions\": {},\n  \"unusedAttrsVertical\": 85,\n  \"autoSortUnusedAttrs\": false,\n  \"inclusionsInfo\": {},\n  \"aggregatorName\": \"Count\",\n  \"rendererName\": \"Table\"\n}"
        },
        "id" : "045BF46103F44628AC61DDCBC94EA1BE"
      },
      "cell_type" : "code",
      "source" : [
        "rdd.take(2)"
      ],
      "outputs" : [
        {
          "name" : "stdout",
          "output_type" : "stream",
          "text" : "res21: Array[(Double, Double, Double, Double, Double, Double, Double, Double, Double)] = Array((26.27,42.42,1007.0,89.46,86.92,2094.17,85.08,9.4,89.92), (27.16,31.29,1007.35,70.12,82.5,3365.09,44.92,2.6,72.88))\n"
        },
        {
          "metadata" : { },
          "data" : {
            "text/html" : "<div>\n      <script data-this=\"{&quot;dataId&quot;:&quot;anon5f36255e50d42133801f3ef27b237c28&quot;,&quot;dataInit&quot;:[],&quot;genId&quot;:&quot;627444731&quot;}\" type=\"text/x-scoped-javascript\">/*<![CDATA[*/req(['../javascripts/notebook/playground','../javascripts/notebook/magic/tabs'], \n      function(playground, _magictabs) {\n        // data ==> data-this (in observable.js's scopedEval) ==> this in JS => { dataId, dataInit, ... }\n        // this ==> scope (in observable.js's scopedEval) ==> this.parentElement ==> div.container below (toHtml)\n\n        playground.call(data,\n                        this\n                        ,\n                        {\n    \"f\": _magictabs,\n    \"o\": {}\n  }\n  \n                        \n                        \n                      );\n      }\n    );/*]]>*/</script>\n    <div>\n      <div>\n        <ul class=\"nav nav-tabs\" id=\"ul627444731\"><li>\n              <a href=\"#tab627444731-0\"><i class=\"fa fa-table\"/></a>\n            </li><li>\n              <a href=\"#tab627444731-1\"><i class=\"fa fa-cubes\"/></a>\n            </li></ul>\n\n        <div class=\"tab-content\" id=\"tab627444731\"><div class=\"tab-pane\" id=\"tab627444731-0\">\n            <div>\n      <script data-this=\"{&quot;dataId&quot;:&quot;anonadb6a461c0b54e67df9dabc3b02f019e&quot;,&quot;dataInit&quot;:[{&quot;_3&quot;:1007,&quot;_8&quot;:9.4,&quot;_7&quot;:85.08,&quot;_2&quot;:42.42,&quot;_9&quot;:89.92,&quot;_6&quot;:2094.17,&quot;_1&quot;:26.27,&quot;_4&quot;:89.46,&quot;_5&quot;:86.92},{&quot;_3&quot;:1007.35,&quot;_8&quot;:2.6,&quot;_7&quot;:44.92,&quot;_2&quot;:31.29,&quot;_9&quot;:72.88,&quot;_6&quot;:3365.09,&quot;_1&quot;:27.16,&quot;_4&quot;:70.12,&quot;_5&quot;:82.5}],&quot;genId&quot;:&quot;979084595&quot;}\" type=\"text/x-scoped-javascript\">/*<![CDATA[*/req(['../javascripts/notebook/playground','../javascripts/notebook/magic/tableChart'], \n      function(playground, _magictableChart) {\n        // data ==> data-this (in observable.js's scopedEval) ==> this in JS => { dataId, dataInit, ... }\n        // this ==> scope (in observable.js's scopedEval) ==> this.parentElement ==> div.container below (toHtml)\n\n        playground.call(data,\n                        this\n                        ,\n                        {\n    \"f\": _magictableChart,\n    \"o\": {\"headers\":[\"_1\",\"_2\",\"_3\",\"_4\",\"_5\",\"_6\",\"_7\",\"_8\",\"_9\"],\"width\":600,\"height\":400}\n  }\n  \n                        \n                        \n                      );\n      }\n    );/*]]>*/</script>\n    <div>\n      <span class=\"chart-total-item-count\"><p data-bind=\"text: value\"><script data-this=\"{&quot;valueId&quot;:&quot;anon65995d7044495e5c6cb5735942b41077&quot;,&quot;initialValue&quot;:&quot;2&quot;}\" type=\"text/x-scoped-javascript\">/*<![CDATA[*/\nreq(\n['observable', 'knockout'],\nfunction (O, ko) {\n  ko.applyBindings({\n      value: O.makeObservable(valueId, initialValue)\n    },\n    this\n  );\n});\n        /*]]>*/</script></p> entries total</span>\n      <span class=\"chart-sampling-warning\"><p data-bind=\"text: value\"><script data-this=\"{&quot;valueId&quot;:&quot;anonc0b4304c192f698dd66c38c5a38643d0&quot;,&quot;initialValue&quot;:&quot;&quot;}\" type=\"text/x-scoped-javascript\">/*<![CDATA[*/\nreq(\n['observable', 'knockout'],\nfunction (O, ko) {\n  ko.applyBindings({\n      value: O.makeObservable(valueId, initialValue)\n    },\n    this\n  );\n});\n        /*]]>*/</script></p></span>\n      <div>\n      </div>\n    </div></div>\n            </div><div class=\"tab-pane\" id=\"tab627444731-1\">\n            <div>\n      <script data-this=\"{&quot;dataId&quot;:&quot;anona46196596b8199421fc11dc3ce2974a5&quot;,&quot;dataInit&quot;:[{&quot;_3&quot;:1007,&quot;_8&quot;:9.4,&quot;_7&quot;:85.08,&quot;_2&quot;:42.42,&quot;_9&quot;:89.92,&quot;_6&quot;:2094.17,&quot;_1&quot;:26.27,&quot;_4&quot;:89.46,&quot;_5&quot;:86.92},{&quot;_3&quot;:1007.35,&quot;_8&quot;:2.6,&quot;_7&quot;:44.92,&quot;_2&quot;:31.29,&quot;_9&quot;:72.88,&quot;_6&quot;:3365.09,&quot;_1&quot;:27.16,&quot;_4&quot;:70.12,&quot;_5&quot;:82.5}],&quot;genId&quot;:&quot;841094989&quot;}\" type=\"text/x-scoped-javascript\">/*<![CDATA[*/req(['../javascripts/notebook/playground','../javascripts/notebook/magic/pivotChart'], \n      function(playground, _magicpivotChart) {\n        // data ==> data-this (in observable.js's scopedEval) ==> this in JS => { dataId, dataInit, ... }\n        // this ==> scope (in observable.js's scopedEval) ==> this.parentElement ==> div.container below (toHtml)\n\n        playground.call(data,\n                        this\n                        ,\n                        {\n    \"f\": _magicpivotChart,\n    \"o\": {\"width\":600,\"height\":400,\"derivedAttributes\":{},\"extraOptions\":{}}\n  }\n  \n                        \n                        \n                      );\n      }\n    );/*]]>*/</script>\n    <div>\n      <span class=\"chart-total-item-count\"><p data-bind=\"text: value\"><script data-this=\"{&quot;valueId&quot;:&quot;anon9fb6bb71bc1cd55fdbd9ace30aa5a900&quot;,&quot;initialValue&quot;:&quot;2&quot;}\" type=\"text/x-scoped-javascript\">/*<![CDATA[*/\nreq(\n['observable', 'knockout'],\nfunction (O, ko) {\n  ko.applyBindings({\n      value: O.makeObservable(valueId, initialValue)\n    },\n    this\n  );\n});\n        /*]]>*/</script></p> entries total</span>\n      <span class=\"chart-sampling-warning\"><p data-bind=\"text: value\"><script data-this=\"{&quot;valueId&quot;:&quot;anon161c1ca26656be1b2b524870d037d667&quot;,&quot;initialValue&quot;:&quot;&quot;}\" type=\"text/x-scoped-javascript\">/*<![CDATA[*/\nreq(\n['observable', 'knockout'],\nfunction (O, ko) {\n  ko.applyBindings({\n      value: O.makeObservable(valueId, initialValue)\n    },\n    this\n  );\n});\n        /*]]>*/</script></p></span>\n      <div>\n      </div>\n    </div></div>\n            </div></div>\n      </div>\n    </div></div>"
          },
          "output_type" : "execute_result",
          "execution_count" : 14,
          "time" : "Took: 1.300s, at 2017-09-06 10:16"
        }
      ]
    },
    {
      "metadata" : {
        "trusted" : true,
        "input_collapsed" : false,
        "collapsed" : false,
        "id" : "8E7BAB999C25471196B8C8A986C32805"
      },
      "cell_type" : "code",
      "source" : [
        "val observations = rdd.map(l => Vectors.dense(l._1, l._2, l._3, l._4, l._5, l._6, l._7, l._8, l._9))"
      ],
      "outputs" : [
        {
          "name" : "stdout",
          "output_type" : "stream",
          "text" : "observations: org.apache.spark.rdd.RDD[org.apache.spark.mllib.linalg.Vector] = MapPartitionsRDD[33] at map at <console>:83\n"
        },
        {
          "metadata" : { },
          "data" : {
            "text/html" : ""
          },
          "output_type" : "execute_result",
          "execution_count" : 15,
          "time" : "Took: 0.696s, at 2017-09-06 10:17"
        }
      ]
    },
    {
      "metadata" : {
        "trusted" : true,
        "input_collapsed" : false,
        "collapsed" : false,
        "id" : "E204C17401184691AC2797C3240CF617"
      },
      "cell_type" : "code",
      "source" : [
        "// Compute column summary statistics.\n",
        "val summary: MultivariateStatisticalSummary = Statistics.colStats(observations)\n",
        "println(\"Vectors of observations' mean : \" + summary.mean)  \n",
        "println(\"Vectors of observations' variance : \" + summary.variance)  \n",
        "println(\"Vectors of observations' number of column not null : \" + summary.numNonzeros)  \n",
        "println()"
      ],
      "outputs" : [
        {
          "name" : "stdout",
          "output_type" : "stream",
          "text" : "Vectors of observations' mean : [27.372999999999998,41.60125,1005.7774999999998,67.84125,84.66675,2915.84025,69.06050000000002,9.390000000000002,73.85525]\nVectors of observations' variance : [2.256365128205129,678.8604830128204,4.685562820512852,788.4269907051283,51.62532506410257,3008952.402069167,561.1052356410256,192.21579487179488,626.8092255769232]\nVectors of observations' number of column not null : [40.0,40.0,40.0,40.0,40.0,40.0,40.0,35.0,40.0]\n\nsummary: org.apache.spark.mllib.stat.MultivariateStatisticalSummary = org.apache.spark.mllib.stat.MultivariateOnlineSummarizer@7c87c97f\n"
        },
        {
          "metadata" : { },
          "data" : {
            "text/html" : ""
          },
          "output_type" : "execute_result",
          "execution_count" : 16,
          "time" : "Took: 0.917s, at 2017-09-06 10:17"
        }
      ]
    },
    {
      "metadata" : {
        "trusted" : true,
        "input_collapsed" : false,
        "collapsed" : false,
        "id" : "F725B4D4DF284E29864A6E5D9CE81BA0"
      },
      "cell_type" : "code",
      "source" : [
        "import org.apache.spark.mllib.linalg._\n",
        "import org.apache.spark.mllib.stat.Statistics\n",
        "import org.apache.spark.rdd.RDD"
      ],
      "outputs" : [
        {
          "name" : "stdout",
          "output_type" : "stream",
          "text" : "import org.apache.spark.mllib.linalg._\nimport org.apache.spark.mllib.stat.Statistics\nimport org.apache.spark.rdd.RDD\n"
        },
        {
          "metadata" : { },
          "data" : {
            "text/html" : ""
          },
          "output_type" : "execute_result",
          "execution_count" : 17,
          "time" : "Took: 0.588s, at 2017-09-06 10:18"
        }
      ]
    },
    {
      "metadata" : {
        "trusted" : true,
        "input_collapsed" : false,
        "collapsed" : false,
        "id" : "850DE63B22774B609C80D78B42D36AD5"
      },
      "cell_type" : "code",
      "source" : [
        "// calculate the correlation matrix using Pearson's method. Use \"spearman\" for Spearman's method\n",
        "// If a method is not specified, Pearson's method will be used by default.\n",
        "val correlMatrix: Matrix = Statistics.corr(observations, \"pearson\")\n",
        "//println(correlMatrix.toString)"
      ],
      "outputs" : [
        {
          "name" : "stdout",
          "output_type" : "stream",
          "text" : "correlMatrix: org.apache.spark.mllib.linalg.Matrix =\n1.0                   -0.6071271749991745  -0.7769139178723304    ... (9 total)\n-0.6071271749991745   1.0                  0.15213518644495438    ...\n-0.7769139178723304   0.15213518644495438  1.0                    ...\n-0.6317688824653139   0.5795801157147833   0.3987737633967863     ...\n-0.8783589380133455   0.7848585544175861   0.5355160905617118     ...\n0.7788360980837538    -0.7321669112163407  -0.5401236564390007    ...\n-0.07984925706043007  0.34275011990685916  -0.054919658480978115  ...\n-0.3896111580334033   0.6302167222500573   0.17145792931429643    ...\n-0.6190037706669987   0.6470804476922558   0.3584018763482733     ...\n"
        },
        {
          "metadata" : { },
          "data" : {
            "text/html" : ""
          },
          "output_type" : "execute_result",
          "execution_count" : 18,
          "time" : "Took: 1.541s, at 2017-09-06 10:18"
        }
      ]
    },
    {
      "metadata" : {
        "trusted" : true,
        "input_collapsed" : false,
        "collapsed" : false,
        "id" : "01E62022720743908BB1B280292C56B9"
      },
      "cell_type" : "code",
      "source" : [
        "import org.apache.spark.mllib.linalg.Vectors\n",
        "import org.apache.spark.mllib.regression.LabeledPoint\n",
        "import org.apache.spark.mllib.regression.LinearRegressionModel\n",
        "import org.apache.spark.mllib.regression.LinearRegressionWithSGD"
      ],
      "outputs" : [
        {
          "name" : "stdout",
          "output_type" : "stream",
          "text" : "import org.apache.spark.mllib.linalg.Vectors\nimport org.apache.spark.mllib.regression.LabeledPoint\nimport org.apache.spark.mllib.regression.LinearRegressionModel\nimport org.apache.spark.mllib.regression.LinearRegressionWithSGD\n"
        },
        {
          "metadata" : { },
          "data" : {
            "text/html" : ""
          },
          "output_type" : "execute_result",
          "execution_count" : 19,
          "time" : "Took: 0.602s, at 2017-09-06 10:19"
        }
      ]
    },
    {
      "metadata" : {
        "trusted" : true,
        "input_collapsed" : false,
        "collapsed" : true,
        "id" : "1CD417075DE74BAE93F89AA03CA7F25B"
      },
      "cell_type" : "code",
      "source" : [
        "val dataLabeled = rdd.map(l => LabeledPoint(l._1, Vectors.dense(l._2, l._3, l._4, l._5, l._6, l._7, l._8, l._9)))                  "
      ],
      "outputs" : [ ]
    },
    {
      "metadata" : {
        "trusted" : true,
        "input_collapsed" : false,
        "collapsed" : true,
        "id" : "7037ACC90C6F467691EDC68DDC241EA0"
      },
      "cell_type" : "code",
      "source" : [
        "// Building the model\n",
        "val numIterations = 100\n",
        "val stepSize = 0.00000000001\n",
        "val model = LinearRegressionWithSGD.train(dataLabeled, numIterations, stepSize)"
      ],
      "outputs" : [ ]
    }
  ],
  "nbformat" : 4
}