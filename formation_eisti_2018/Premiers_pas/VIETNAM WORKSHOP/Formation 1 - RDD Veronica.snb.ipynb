{
  "metadata" : {
    "id" : "cab26aad-e943-4828-a669-5a2dfc37fdff",
    "name" : "Formation 1 - RDD Veronica",
    "user_save_timestamp" : "1970-01-01T00:00:00.000Z",
    "auto_save_timestamp" : "1970-01-01T00:00:00.000Z",
    "language_info" : {
      "name" : "scala",
      "file_extension" : "scala",
      "codemirror_mode" : "text/x-scala"
    },
    "trusted" : true,
    "sparkNotebook" : null,
    "customLocalRepo" : null,
    "customRepos" : null,
    "customDeps" : null,
    "customImports" : null,
    "customArgs" : null,
    "customSparkConf" : null,
    "customVars" : null
  },
  "cells" : [
    {
      "metadata" : {
        "id" : "F7F639F1BAFE4AA7807194E010ADA919"
      },
      "cell_type" : "markdown",
      "source" : "<img src=http://fd.perso.eisti.fr/Logos/TORUS2.png>\n\n\n# RDD Manipulations "
    },
    {
      "metadata" : {
        "id" : "30CC433AB76045F8BD496EF594E583F0"
      },
      "cell_type" : "markdown",
      "source" : "In this section, we will present to you some basics manipulations that we can do with RDD - Resilient Distributed Dataset, the basic abstraction in Spark. \n\nIn resume, \"it represents an immutable, partitioned collection of elements that can be operated on in parallel. This class contains the basic operations available on all RDDs, such as map, filter, and persist. In addition, PairRDDFunctions contains operations available only on RDDs of key-value pairs, such as groupByKey and join; DoubleRDDFunctions contains operations available only on RDDs of Doubles; and SequenceFileRDDFunctions contains operations available on RDDs that can be saved as SequenceFiles. All operations are automatically available on any RDD of the right type (e.g. RDD[(Int, Int)] through implicit.\n\nInternally, each RDD is characterized by five main properties:\n\n- A list of partitions \n- A function for computing each split \n- A list of dependencies on other RDDs \n- Optionally, a Partitioner for key-value RDDs (e.g. to say that the RDD is hash-partitioned) \n- Optionally, a list of preferred locations to compute each split on (e.g. block locations for an HDFS file)\n\nAll of the scheduling and execution in Spark is done based on these methods, allowing each RDD to implement its own way of computing itself. Indeed, users can implement custom RDDs (e.g. for reading data from a new storage system) by overriding these functions. Please refer to the Spark paper for more details on RDD internals.\"\n\n(Source : https://spark.apache.org/docs/latest/api/java/org/apache/spark/rdd/RDD.html).\n\nWhen we talk about RDD, we have actions and transformations. Transformations in RDD means we just convert the type of RDD1 to RDD2 without executing or trying to find out what will be the results, otherwise transformations in RDD won't take much time (ex : map, flatMap, etc.). Actions in RDD means we compute really the results (ex : count, collect, take, etc.).\n\nTo illustrate some basics actions and transformations in RDD, let's take a Word Counts example!"
    },
    {
      "metadata" : {
        "id" : "2709F980CE5245F497F9B15C9CF1F35F"
      },
      "cell_type" : "markdown",
      "source" : "### We read data from HDFS. By using sc, we have a RDD in the output"
    },
    {
      "metadata" : {
        "trusted" : true,
        "input_collapsed" : false,
        "collapsed" : false,
        "id" : "72B41204DF59495CBA7465A252AA06AC"
      },
      "cell_type" : "code",
      "source" : [
        "val data = sc.textFile(\"hdfs://hupi-factory-02-01-01-01/user/hupi/dataset_torusVN/WordCountDataset.txt\")\n",
        "\n",
        "/*\n",
        "Here we used sc.textFile to read a text file in HDFS, if you want to read a json file  \n",
        "\n",
        "import org.apache.spark.sql.SparkSession\n",
        "\n",
        "val spark = SparkSession\n",
        "  .builder()\n",
        "  .appName(\"Spark SQL basic example\") \n",
        "  .getOrCreate()\n",
        "\n",
        "// For implicit conversions like converting RDDs to DataFrames\n",
        "import spark.implicits._\n",
        "\n",
        "val df = spark.read.json(\"examples/src/main/resources/example.json\") // we have a Dataset here\n",
        "*/"
      ],
      "outputs" : [
        {
          "name" : "stdout",
          "output_type" : "stream",
          "text" : "data: org.apache.spark.rdd.RDD[String] = hdfs://hupi-factory-02-01-01-01/user/hupi/dataset_torusVN/WordCountDataset.txt MapPartitionsRDD[1] at textFile at <console>:67\n"
        },
        {
          "metadata" : { },
          "data" : {
            "text/html" : ""
          },
          "output_type" : "execute_result",
          "execution_count" : 1,
          "time" : "Took: 1.517s, at 2017-09-06 07:40"
        }
      ]
    },
    {
      "metadata" : {
        "id" : "97ECB351F08C42DD80F3043F49C19D22"
      },
      "cell_type" : "markdown",
      "source" : "### We count number of lines in data"
    },
    {
      "metadata" : {
        "trusted" : true,
        "input_collapsed" : false,
        "collapsed" : false,
        "id" : "E69AD26DF5FA47E78548FCF4F2F01E59"
      },
      "cell_type" : "code",
      "source" : [
        "data.count()"
      ],
      "outputs" : [
        {
          "name" : "stdout",
          "output_type" : "stream",
          "text" : "res2: Long = 4\n"
        },
        {
          "metadata" : { },
          "data" : {
            "text/html" : "4"
          },
          "output_type" : "execute_result",
          "execution_count" : 2,
          "time" : "Took: 2.138s, at 2017-09-05 02:30"
        }
      ]
    },
    {
      "metadata" : {
        "id" : "4F3B80A5B5A9441C81499D234598A0C4"
      },
      "cell_type" : "markdown",
      "source" : "### We can see all of data, but be careful of this action because if data is too big, it can crash the notebook!"
    },
    {
      "metadata" : {
        "trusted" : true,
        "input_collapsed" : false,
        "collapsed" : false,
        "presentation" : {
          "tabs_state" : "{\n  \"tab_id\": \"#tab1495862323-0\"\n}",
          "pivot_chart_state" : "{\n  \"hiddenAttributes\": [],\n  \"menuLimit\": 200,\n  \"cols\": [],\n  \"rows\": [],\n  \"vals\": [],\n  \"exclusions\": {},\n  \"inclusions\": {},\n  \"unusedAttrsVertical\": 85,\n  \"autoSortUnusedAttrs\": false,\n  \"inclusionsInfo\": {},\n  \"aggregatorName\": \"Count\",\n  \"rendererName\": \"Table\"\n}"
        },
        "id" : "3CD3833D84CD45CC98E62FBE8D3956F1"
      },
      "cell_type" : "code",
      "source" : [
        "data.collect()"
      ],
      "outputs" : [
        {
          "name" : "stdout",
          "output_type" : "stream",
          "text" : "res2: Array[String] = Array(A Resilient Distributed Dataset (RDD), the basic abstraction in Spark. Represents an immutable, partitioned collection of elements that can be operated on in parallel. This class contains the basic operations available on all RDDs, such as map, filter, and persist. In addition, PairRDDFunctions contains operations available only on RDDs of key-value pairs, such as groupByKey and join; DoubleRDDFunctions contains operations available only on RDDs of Doubles; and SequenceFileRDDFunctions contains operations available on RDDs that can be saved as SequenceFiles., Internally, each RDD is characterized by five main properties:, - A list of partitions - A function for computing each split - A list of dependencies on other RDDs - Optionally, a Partitioner for key-val..."
        },
        {
          "metadata" : { },
          "data" : {
            "text/html" : "<div>\n      <script data-this=\"{&quot;dataId&quot;:&quot;anonbdeac05630f72f599831f58ac2a16a16&quot;,&quot;dataInit&quot;:[],&quot;genId&quot;:&quot;1495862323&quot;}\" type=\"text/x-scoped-javascript\">/*<![CDATA[*/req(['../javascripts/notebook/playground','../javascripts/notebook/magic/tabs'], \n      function(playground, _magictabs) {\n        // data ==> data-this (in observable.js's scopedEval) ==> this in JS => { dataId, dataInit, ... }\n        // this ==> scope (in observable.js's scopedEval) ==> this.parentElement ==> div.container below (toHtml)\n\n        playground.call(data,\n                        this\n                        ,\n                        {\n    \"f\": _magictabs,\n    \"o\": {}\n  }\n  \n                        \n                        \n                      );\n      }\n    );/*]]>*/</script>\n    <div>\n      <div>\n        <ul class=\"nav nav-tabs\" id=\"ul1495862323\"><li>\n              <a href=\"#tab1495862323-0\"><i class=\"fa fa-table\"/></a>\n            </li><li>\n              <a href=\"#tab1495862323-1\"><i class=\"fa fa-cubes\"/></a>\n            </li></ul>\n\n        <div class=\"tab-content\" id=\"tab1495862323\"><div class=\"tab-pane\" id=\"tab1495862323-0\">\n            <div>\n      <script data-this=\"{&quot;dataId&quot;:&quot;anonf71761b3dfb0fd3a9c75251b229fd930&quot;,&quot;dataInit&quot;:[{&quot;string value&quot;:&quot;A Resilient Distributed Dataset (RDD), the basic abstraction in Spark. Represents an immutable, partitioned collection of elements that can be operated on in parallel. This class contains the basic operations available on all RDDs, such as map, filter, and persist. In addition, PairRDDFunctions contains operations available only on RDDs of key-value pairs, such as groupByKey and join; DoubleRDDFunctions contains operations available only on RDDs of Doubles; and SequenceFileRDDFunctions contains operations available on RDDs that can be saved as SequenceFiles.&quot;},{&quot;string value&quot;:&quot;Internally, each RDD is characterized by five main properties:&quot;},{&quot;string value&quot;:&quot;- A list of partitions - A function for computing each split - A list of dependencies on other RDDs - Optionally, a Partitioner for key-value RDDs (e.g. to say that the RDD is hash-partitioned) - Optionally, a list of preferred locations to compute each split on (e.g. block locations for an HDFS file)&quot;},{&quot;string value&quot;:&quot;All of the scheduling and execution in Spark is done based on these methods, allowing each RDD to implement its own way of computing itself. Indeed, users can implement custom RDDs (e.g. for reading data from a new storage system) by overriding these functions. Please refer to the Spark paper for more details on RDD internals.&quot;}],&quot;genId&quot;:&quot;1609473743&quot;}\" type=\"text/x-scoped-javascript\">/*<![CDATA[*/req(['../javascripts/notebook/playground','../javascripts/notebook/magic/tableChart'], \n      function(playground, _magictableChart) {\n        // data ==> data-this (in observable.js's scopedEval) ==> this in JS => { dataId, dataInit, ... }\n        // this ==> scope (in observable.js's scopedEval) ==> this.parentElement ==> div.container below (toHtml)\n\n        playground.call(data,\n                        this\n                        ,\n                        {\n    \"f\": _magictableChart,\n    \"o\": {\"headers\":[\"string value\"],\"width\":600,\"height\":400}\n  }\n  \n                        \n                        \n                      );\n      }\n    );/*]]>*/</script>\n    <div>\n      <span class=\"chart-total-item-count\"><p data-bind=\"text: value\"><script data-this=\"{&quot;valueId&quot;:&quot;anon7155de995e4f962a4193b5bf8daedc04&quot;,&quot;initialValue&quot;:&quot;4&quot;}\" type=\"text/x-scoped-javascript\">/*<![CDATA[*/\nreq(\n['observable', 'knockout'],\nfunction (O, ko) {\n  ko.applyBindings({\n      value: O.makeObservable(valueId, initialValue)\n    },\n    this\n  );\n});\n        /*]]>*/</script></p> entries total</span>\n      <span class=\"chart-sampling-warning\"><p data-bind=\"text: value\"><script data-this=\"{&quot;valueId&quot;:&quot;anon34a7e216c1507cbbad70ce77a8a28f40&quot;,&quot;initialValue&quot;:&quot;&quot;}\" type=\"text/x-scoped-javascript\">/*<![CDATA[*/\nreq(\n['observable', 'knockout'],\nfunction (O, ko) {\n  ko.applyBindings({\n      value: O.makeObservable(valueId, initialValue)\n    },\n    this\n  );\n});\n        /*]]>*/</script></p></span>\n      <div>\n      </div>\n    </div></div>\n            </div><div class=\"tab-pane\" id=\"tab1495862323-1\">\n            <div>\n      <script data-this=\"{&quot;dataId&quot;:&quot;anon4b8e0697e9b28aaae4e039a0b9677b77&quot;,&quot;dataInit&quot;:[{&quot;string value&quot;:&quot;A Resilient Distributed Dataset (RDD), the basic abstraction in Spark. Represents an immutable, partitioned collection of elements that can be operated on in parallel. This class contains the basic operations available on all RDDs, such as map, filter, and persist. In addition, PairRDDFunctions contains operations available only on RDDs of key-value pairs, such as groupByKey and join; DoubleRDDFunctions contains operations available only on RDDs of Doubles; and SequenceFileRDDFunctions contains operations available on RDDs that can be saved as SequenceFiles.&quot;},{&quot;string value&quot;:&quot;Internally, each RDD is characterized by five main properties:&quot;},{&quot;string value&quot;:&quot;- A list of partitions - A function for computing each split - A list of dependencies on other RDDs - Optionally, a Partitioner for key-value RDDs (e.g. to say that the RDD is hash-partitioned) - Optionally, a list of preferred locations to compute each split on (e.g. block locations for an HDFS file)&quot;},{&quot;string value&quot;:&quot;All of the scheduling and execution in Spark is done based on these methods, allowing each RDD to implement its own way of computing itself. Indeed, users can implement custom RDDs (e.g. for reading data from a new storage system) by overriding these functions. Please refer to the Spark paper for more details on RDD internals.&quot;}],&quot;genId&quot;:&quot;559970323&quot;}\" type=\"text/x-scoped-javascript\">/*<![CDATA[*/req(['../javascripts/notebook/playground','../javascripts/notebook/magic/pivotChart'], \n      function(playground, _magicpivotChart) {\n        // data ==> data-this (in observable.js's scopedEval) ==> this in JS => { dataId, dataInit, ... }\n        // this ==> scope (in observable.js's scopedEval) ==> this.parentElement ==> div.container below (toHtml)\n\n        playground.call(data,\n                        this\n                        ,\n                        {\n    \"f\": _magicpivotChart,\n    \"o\": {\"width\":600,\"height\":400,\"derivedAttributes\":{},\"extraOptions\":{}}\n  }\n  \n                        \n                        \n                      );\n      }\n    );/*]]>*/</script>\n    <div>\n      <span class=\"chart-total-item-count\"><p data-bind=\"text: value\"><script data-this=\"{&quot;valueId&quot;:&quot;anon70cad75d06dfa6b1ffd5b3249dd2e1a7&quot;,&quot;initialValue&quot;:&quot;4&quot;}\" type=\"text/x-scoped-javascript\">/*<![CDATA[*/\nreq(\n['observable', 'knockout'],\nfunction (O, ko) {\n  ko.applyBindings({\n      value: O.makeObservable(valueId, initialValue)\n    },\n    this\n  );\n});\n        /*]]>*/</script></p> entries total</span>\n      <span class=\"chart-sampling-warning\"><p data-bind=\"text: value\"><script data-this=\"{&quot;valueId&quot;:&quot;anone8d4f82c76269db89ccfde674ae15915&quot;,&quot;initialValue&quot;:&quot;&quot;}\" type=\"text/x-scoped-javascript\">/*<![CDATA[*/\nreq(\n['observable', 'knockout'],\nfunction (O, ko) {\n  ko.applyBindings({\n      value: O.makeObservable(valueId, initialValue)\n    },\n    this\n  );\n});\n        /*]]>*/</script></p></span>\n      <div>\n      </div>\n    </div></div>\n            </div></div>\n      </div>\n    </div></div>"
          },
          "output_type" : "execute_result",
          "execution_count" : 2,
          "time" : "Took: 2.265s, at 2017-09-06 07:41"
        }
      ]
    },
    {
      "metadata" : {
        "id" : "319B4B20D0C34BB1A7ABFC19539145AE"
      },
      "cell_type" : "markdown",
      "source" : "### We can also do this way..."
    },
    {
      "metadata" : {
        "trusted" : true,
        "input_collapsed" : false,
        "collapsed" : false,
        "id" : "9CDC717256F4470BBEEA3B4AD4BE72C9"
      },
      "cell_type" : "code",
      "source" : [
        "data.collect().foreach(println)"
      ],
      "outputs" : [
        {
          "name" : "stdout",
          "output_type" : "stream",
          "text" : "A Resilient Distributed Dataset (RDD), the basic abstraction in Spark. Represents an immutable, partitioned collection of elements that can be operated on in parallel. This class contains the basic operations available on all RDDs, such as map, filter, and persist. In addition, PairRDDFunctions contains operations available only on RDDs of key-value pairs, such as groupByKey and join; DoubleRDDFunctions contains operations available only on RDDs of Doubles; and SequenceFileRDDFunctions contains operations available on RDDs that can be saved as SequenceFiles.\nInternally, each RDD is characterized by five main properties:\n- A list of partitions - A function for computing each split - A list of dependencies on other RDDs - Optionally, a Partitioner for key-value RDDs (e.g. to say that the RDD is hash-partitioned) - Optionally, a list of preferred locations to compute each split on (e.g. block locations for an HDFS file)\nAll of the scheduling and execution in Spark is done based on these methods, allowing each RDD to implement its own way of computing itself. Indeed, users can implement custom RDDs (e.g. for reading data from a new storage system) by overriding these functions. Please refer to the Spark paper for more details on RDD internals.\n"
        },
        {
          "metadata" : { },
          "data" : {
            "text/html" : ""
          },
          "output_type" : "execute_result",
          "execution_count" : 3,
          "time" : "Took: 1.242s, at 2017-09-06 07:41"
        }
      ]
    },
    {
      "metadata" : {
        "id" : "7A6631679F184E5B8F76FE50599E7477"
      },
      "cell_type" : "markdown",
      "source" : "### But it's always better to take some n lines of data instead of collecting all data"
    },
    {
      "metadata" : {
        "trusted" : true,
        "input_collapsed" : false,
        "collapsed" : false,
        "presentation" : {
          "tabs_state" : "{\n  \"tab_id\": \"#tab94552775-0\"\n}",
          "pivot_chart_state" : "{\n  \"hiddenAttributes\": [],\n  \"menuLimit\": 200,\n  \"cols\": [],\n  \"rows\": [],\n  \"vals\": [],\n  \"exclusions\": {},\n  \"inclusions\": {},\n  \"unusedAttrsVertical\": 85,\n  \"autoSortUnusedAttrs\": false,\n  \"inclusionsInfo\": {},\n  \"aggregatorName\": \"Count\",\n  \"rendererName\": \"Table\"\n}"
        },
        "id" : "9DA8CC5811E5472EB619460851F6F99B"
      },
      "cell_type" : "code",
      "source" : [
        "data.take(3)"
      ],
      "outputs" : [
        {
          "name" : "stdout",
          "output_type" : "stream",
          "text" : "res8: Array[String] = Array(A Resilient Distributed Dataset (RDD), the basic abstraction in Spark. Represents an immutable, partitioned collection of elements that can be operated on in parallel. This class contains the basic operations available on all RDDs, such as map, filter, and persist. In addition, PairRDDFunctions contains operations available only on RDDs of key-value pairs, such as groupByKey and join; DoubleRDDFunctions contains operations available only on RDDs of Doubles; and SequenceFileRDDFunctions contains operations available on RDDs that can be saved as SequenceFiles., Internally, each RDD is characterized by five main properties:, - A list of partitions - A function for computing each split - A list of dependencies on other RDDs - Optionally, a Partitioner for key-val..."
        },
        {
          "metadata" : { },
          "data" : {
            "text/html" : "<div>\n      <script data-this=\"{&quot;dataId&quot;:&quot;anon05315f5ec6ff7c17e207b9ea3bb874b6&quot;,&quot;dataInit&quot;:[],&quot;genId&quot;:&quot;94552775&quot;}\" type=\"text/x-scoped-javascript\">/*<![CDATA[*/req(['../javascripts/notebook/playground','../javascripts/notebook/magic/tabs'], \n      function(playground, _magictabs) {\n        // data ==> data-this (in observable.js's scopedEval) ==> this in JS => { dataId, dataInit, ... }\n        // this ==> scope (in observable.js's scopedEval) ==> this.parentElement ==> div.container below (toHtml)\n\n        playground.call(data,\n                        this\n                        ,\n                        {\n    \"f\": _magictabs,\n    \"o\": {}\n  }\n  \n                        \n                        \n                      );\n      }\n    );/*]]>*/</script>\n    <div>\n      <div>\n        <ul class=\"nav nav-tabs\" id=\"ul94552775\"><li>\n              <a href=\"#tab94552775-0\"><i class=\"fa fa-table\"/></a>\n            </li><li>\n              <a href=\"#tab94552775-1\"><i class=\"fa fa-cubes\"/></a>\n            </li></ul>\n\n        <div class=\"tab-content\" id=\"tab94552775\"><div class=\"tab-pane\" id=\"tab94552775-0\">\n            <div>\n      <script data-this=\"{&quot;dataId&quot;:&quot;anon6c99b8e9d8b387d6f9544632158a55fc&quot;,&quot;dataInit&quot;:[{&quot;string value&quot;:&quot;A Resilient Distributed Dataset (RDD), the basic abstraction in Spark. Represents an immutable, partitioned collection of elements that can be operated on in parallel. This class contains the basic operations available on all RDDs, such as map, filter, and persist. In addition, PairRDDFunctions contains operations available only on RDDs of key-value pairs, such as groupByKey and join; DoubleRDDFunctions contains operations available only on RDDs of Doubles; and SequenceFileRDDFunctions contains operations available on RDDs that can be saved as SequenceFiles.&quot;},{&quot;string value&quot;:&quot;Internally, each RDD is characterized by five main properties:&quot;},{&quot;string value&quot;:&quot;- A list of partitions - A function for computing each split - A list of dependencies on other RDDs - Optionally, a Partitioner for key-value RDDs (e.g. to say that the RDD is hash-partitioned) - Optionally, a list of preferred locations to compute each split on (e.g. block locations for an HDFS file)&quot;}],&quot;genId&quot;:&quot;585038726&quot;}\" type=\"text/x-scoped-javascript\">/*<![CDATA[*/req(['../javascripts/notebook/playground','../javascripts/notebook/magic/tableChart'], \n      function(playground, _magictableChart) {\n        // data ==> data-this (in observable.js's scopedEval) ==> this in JS => { dataId, dataInit, ... }\n        // this ==> scope (in observable.js's scopedEval) ==> this.parentElement ==> div.container below (toHtml)\n\n        playground.call(data,\n                        this\n                        ,\n                        {\n    \"f\": _magictableChart,\n    \"o\": {\"headers\":[\"string value\"],\"width\":600,\"height\":400}\n  }\n  \n                        \n                        \n                      );\n      }\n    );/*]]>*/</script>\n    <div>\n      <span class=\"chart-total-item-count\"><p data-bind=\"text: value\"><script data-this=\"{&quot;valueId&quot;:&quot;anonfa20bbb33ac302ca72c1b88aa99fe703&quot;,&quot;initialValue&quot;:&quot;3&quot;}\" type=\"text/x-scoped-javascript\">/*<![CDATA[*/\nreq(\n['observable', 'knockout'],\nfunction (O, ko) {\n  ko.applyBindings({\n      value: O.makeObservable(valueId, initialValue)\n    },\n    this\n  );\n});\n        /*]]>*/</script></p> entries total</span>\n      <span class=\"chart-sampling-warning\"><p data-bind=\"text: value\"><script data-this=\"{&quot;valueId&quot;:&quot;anon203318c4489b310458f0dd2ea4224f03&quot;,&quot;initialValue&quot;:&quot;&quot;}\" type=\"text/x-scoped-javascript\">/*<![CDATA[*/\nreq(\n['observable', 'knockout'],\nfunction (O, ko) {\n  ko.applyBindings({\n      value: O.makeObservable(valueId, initialValue)\n    },\n    this\n  );\n});\n        /*]]>*/</script></p></span>\n      <div>\n      </div>\n    </div></div>\n            </div><div class=\"tab-pane\" id=\"tab94552775-1\">\n            <div>\n      <script data-this=\"{&quot;dataId&quot;:&quot;anon6a5c8c35b64095d3779b0bdca9bd58e5&quot;,&quot;dataInit&quot;:[{&quot;string value&quot;:&quot;A Resilient Distributed Dataset (RDD), the basic abstraction in Spark. Represents an immutable, partitioned collection of elements that can be operated on in parallel. This class contains the basic operations available on all RDDs, such as map, filter, and persist. In addition, PairRDDFunctions contains operations available only on RDDs of key-value pairs, such as groupByKey and join; DoubleRDDFunctions contains operations available only on RDDs of Doubles; and SequenceFileRDDFunctions contains operations available on RDDs that can be saved as SequenceFiles.&quot;},{&quot;string value&quot;:&quot;Internally, each RDD is characterized by five main properties:&quot;},{&quot;string value&quot;:&quot;- A list of partitions - A function for computing each split - A list of dependencies on other RDDs - Optionally, a Partitioner for key-value RDDs (e.g. to say that the RDD is hash-partitioned) - Optionally, a list of preferred locations to compute each split on (e.g. block locations for an HDFS file)&quot;}],&quot;genId&quot;:&quot;1821294283&quot;}\" type=\"text/x-scoped-javascript\">/*<![CDATA[*/req(['../javascripts/notebook/playground','../javascripts/notebook/magic/pivotChart'], \n      function(playground, _magicpivotChart) {\n        // data ==> data-this (in observable.js's scopedEval) ==> this in JS => { dataId, dataInit, ... }\n        // this ==> scope (in observable.js's scopedEval) ==> this.parentElement ==> div.container below (toHtml)\n\n        playground.call(data,\n                        this\n                        ,\n                        {\n    \"f\": _magicpivotChart,\n    \"o\": {\"width\":600,\"height\":400,\"derivedAttributes\":{},\"extraOptions\":{}}\n  }\n  \n                        \n                        \n                      );\n      }\n    );/*]]>*/</script>\n    <div>\n      <span class=\"chart-total-item-count\"><p data-bind=\"text: value\"><script data-this=\"{&quot;valueId&quot;:&quot;anona606a8b529ad4a88eb6cec2076a8839a&quot;,&quot;initialValue&quot;:&quot;3&quot;}\" type=\"text/x-scoped-javascript\">/*<![CDATA[*/\nreq(\n['observable', 'knockout'],\nfunction (O, ko) {\n  ko.applyBindings({\n      value: O.makeObservable(valueId, initialValue)\n    },\n    this\n  );\n});\n        /*]]>*/</script></p> entries total</span>\n      <span class=\"chart-sampling-warning\"><p data-bind=\"text: value\"><script data-this=\"{&quot;valueId&quot;:&quot;anona49351545dc451969331367de61d3e40&quot;,&quot;initialValue&quot;:&quot;&quot;}\" type=\"text/x-scoped-javascript\">/*<![CDATA[*/\nreq(\n['observable', 'knockout'],\nfunction (O, ko) {\n  ko.applyBindings({\n      value: O.makeObservable(valueId, initialValue)\n    },\n    this\n  );\n});\n        /*]]>*/</script></p></span>\n      <div>\n      </div>\n    </div></div>\n            </div></div>\n      </div>\n    </div></div>"
          },
          "output_type" : "execute_result",
          "execution_count" : 5,
          "time" : "Took: 0.988s, at 2017-09-06 07:46"
        }
      ]
    },
    {
      "metadata" : {
        "id" : "610AE498A6154550883010B0DEDD6ECF"
      },
      "cell_type" : "markdown",
      "source" : "### Next, we need to remove all the special characters in data by using regex. \n\nTo understand more about regex, you can find in this link (http://docs.oracle.com/javase/7/docs/api/java/util/regex/Pattern.html). In this transformation, we use map() to apply the function replaceAll for each element inside RDD."
    },
    {
      "metadata" : {
        "trusted" : true,
        "input_collapsed" : false,
        "collapsed" : false,
        "id" : "236BAAC8BA3843AA8AFBAD08AA7CF5C2"
      },
      "cell_type" : "code",
      "source" : [
        "val data_without_special_characters = data.map(l => l.replaceAll(\"\"\"[\\p{Punct}]\"\"\", \"\"))"
      ],
      "outputs" : [
        {
          "name" : "stdout",
          "output_type" : "stream",
          "text" : "data_without_special_characters: org.apache.spark.rdd.RDD[String] = MapPartitionsRDD[2] at map at <console>:69\n"
        },
        {
          "metadata" : { },
          "data" : {
            "text/html" : ""
          },
          "output_type" : "execute_result",
          "execution_count" : 6,
          "time" : "Took: 0.827s, at 2017-09-06 07:48"
        }
      ]
    },
    {
      "metadata" : {
        "trusted" : true,
        "input_collapsed" : false,
        "collapsed" : false,
        "presentation" : {
          "tabs_state" : "{\n  \"tab_id\": \"#tab548269677-0\"\n}",
          "pivot_chart_state" : "{\n  \"hiddenAttributes\": [],\n  \"menuLimit\": 200,\n  \"cols\": [],\n  \"rows\": [],\n  \"vals\": [],\n  \"exclusions\": {},\n  \"inclusions\": {},\n  \"unusedAttrsVertical\": 85,\n  \"autoSortUnusedAttrs\": false,\n  \"inclusionsInfo\": {},\n  \"aggregatorName\": \"Count\",\n  \"rendererName\": \"Table\"\n}"
        },
        "id" : "C45AD8A1E7D04F879E562E478BF6B3F7"
      },
      "cell_type" : "code",
      "source" : [
        "data_without_special_characters.take(10)"
      ],
      "outputs" : [
        {
          "name" : "stdout",
          "output_type" : "stream",
          "text" : "res11: Array[String] = Array(A Resilient Distributed Dataset RDD the basic abstraction in Spark Represents an immutable partitioned collection of elements that can be operated on in parallel This class contains the basic operations available on all RDDs such as map filter and persist In addition PairRDDFunctions contains operations available only on RDDs of keyvalue pairs such as groupByKey and join DoubleRDDFunctions contains operations available only on RDDs of Doubles and SequenceFileRDDFunctions contains operations available on RDDs that can be saved as SequenceFiles, Internally each RDD is characterized by five main properties, \" A list of partitions  A function for computing each split  A list of dependencies on other RDDs  Optionally a Partitioner for keyvalue RDDs eg to say that..."
        },
        {
          "metadata" : { },
          "data" : {
            "text/html" : "<div>\n      <script data-this=\"{&quot;dataId&quot;:&quot;anon019f0eb8ecf6f0e3d5a731a8330b0cb9&quot;,&quot;dataInit&quot;:[],&quot;genId&quot;:&quot;548269677&quot;}\" type=\"text/x-scoped-javascript\">/*<![CDATA[*/req(['../javascripts/notebook/playground','../javascripts/notebook/magic/tabs'], \n      function(playground, _magictabs) {\n        // data ==> data-this (in observable.js's scopedEval) ==> this in JS => { dataId, dataInit, ... }\n        // this ==> scope (in observable.js's scopedEval) ==> this.parentElement ==> div.container below (toHtml)\n\n        playground.call(data,\n                        this\n                        ,\n                        {\n    \"f\": _magictabs,\n    \"o\": {}\n  }\n  \n                        \n                        \n                      );\n      }\n    );/*]]>*/</script>\n    <div>\n      <div>\n        <ul class=\"nav nav-tabs\" id=\"ul548269677\"><li>\n              <a href=\"#tab548269677-0\"><i class=\"fa fa-table\"/></a>\n            </li><li>\n              <a href=\"#tab548269677-1\"><i class=\"fa fa-cubes\"/></a>\n            </li></ul>\n\n        <div class=\"tab-content\" id=\"tab548269677\"><div class=\"tab-pane\" id=\"tab548269677-0\">\n            <div>\n      <script data-this=\"{&quot;dataId&quot;:&quot;anonad305e547cb947976816f810af354055&quot;,&quot;dataInit&quot;:[{&quot;string value&quot;:&quot;A Resilient Distributed Dataset RDD the basic abstraction in Spark Represents an immutable partitioned collection of elements that can be operated on in parallel This class contains the basic operations available on all RDDs such as map filter and persist In addition PairRDDFunctions contains operations available only on RDDs of keyvalue pairs such as groupByKey and join DoubleRDDFunctions contains operations available only on RDDs of Doubles and SequenceFileRDDFunctions contains operations available on RDDs that can be saved as SequenceFiles&quot;},{&quot;string value&quot;:&quot;Internally each RDD is characterized by five main properties&quot;},{&quot;string value&quot;:&quot; A list of partitions  A function for computing each split  A list of dependencies on other RDDs  Optionally a Partitioner for keyvalue RDDs eg to say that the RDD is hashpartitioned  Optionally a list of preferred locations to compute each split on eg block locations for an HDFS file&quot;},{&quot;string value&quot;:&quot;All of the scheduling and execution in Spark is done based on these methods allowing each RDD to implement its own way of computing itself Indeed users can implement custom RDDs eg for reading data from a new storage system by overriding these functions Please refer to the Spark paper for more details on RDD internals&quot;}],&quot;genId&quot;:&quot;230906252&quot;}\" type=\"text/x-scoped-javascript\">/*<![CDATA[*/req(['../javascripts/notebook/playground','../javascripts/notebook/magic/tableChart'], \n      function(playground, _magictableChart) {\n        // data ==> data-this (in observable.js's scopedEval) ==> this in JS => { dataId, dataInit, ... }\n        // this ==> scope (in observable.js's scopedEval) ==> this.parentElement ==> div.container below (toHtml)\n\n        playground.call(data,\n                        this\n                        ,\n                        {\n    \"f\": _magictableChart,\n    \"o\": {\"headers\":[\"string value\"],\"width\":600,\"height\":400}\n  }\n  \n                        \n                        \n                      );\n      }\n    );/*]]>*/</script>\n    <div>\n      <span class=\"chart-total-item-count\"><p data-bind=\"text: value\"><script data-this=\"{&quot;valueId&quot;:&quot;anon7792fdccf78702e802e408f0d2b60950&quot;,&quot;initialValue&quot;:&quot;4&quot;}\" type=\"text/x-scoped-javascript\">/*<![CDATA[*/\nreq(\n['observable', 'knockout'],\nfunction (O, ko) {\n  ko.applyBindings({\n      value: O.makeObservable(valueId, initialValue)\n    },\n    this\n  );\n});\n        /*]]>*/</script></p> entries total</span>\n      <span class=\"chart-sampling-warning\"><p data-bind=\"text: value\"><script data-this=\"{&quot;valueId&quot;:&quot;anon6418bb782ccb2363cb3ef11143cab37a&quot;,&quot;initialValue&quot;:&quot;&quot;}\" type=\"text/x-scoped-javascript\">/*<![CDATA[*/\nreq(\n['observable', 'knockout'],\nfunction (O, ko) {\n  ko.applyBindings({\n      value: O.makeObservable(valueId, initialValue)\n    },\n    this\n  );\n});\n        /*]]>*/</script></p></span>\n      <div>\n      </div>\n    </div></div>\n            </div><div class=\"tab-pane\" id=\"tab548269677-1\">\n            <div>\n      <script data-this=\"{&quot;dataId&quot;:&quot;anon45787f0c884353af2d98c963717b3d56&quot;,&quot;dataInit&quot;:[{&quot;string value&quot;:&quot;A Resilient Distributed Dataset RDD the basic abstraction in Spark Represents an immutable partitioned collection of elements that can be operated on in parallel This class contains the basic operations available on all RDDs such as map filter and persist In addition PairRDDFunctions contains operations available only on RDDs of keyvalue pairs such as groupByKey and join DoubleRDDFunctions contains operations available only on RDDs of Doubles and SequenceFileRDDFunctions contains operations available on RDDs that can be saved as SequenceFiles&quot;},{&quot;string value&quot;:&quot;Internally each RDD is characterized by five main properties&quot;},{&quot;string value&quot;:&quot; A list of partitions  A function for computing each split  A list of dependencies on other RDDs  Optionally a Partitioner for keyvalue RDDs eg to say that the RDD is hashpartitioned  Optionally a list of preferred locations to compute each split on eg block locations for an HDFS file&quot;},{&quot;string value&quot;:&quot;All of the scheduling and execution in Spark is done based on these methods allowing each RDD to implement its own way of computing itself Indeed users can implement custom RDDs eg for reading data from a new storage system by overriding these functions Please refer to the Spark paper for more details on RDD internals&quot;}],&quot;genId&quot;:&quot;712739663&quot;}\" type=\"text/x-scoped-javascript\">/*<![CDATA[*/req(['../javascripts/notebook/playground','../javascripts/notebook/magic/pivotChart'], \n      function(playground, _magicpivotChart) {\n        // data ==> data-this (in observable.js's scopedEval) ==> this in JS => { dataId, dataInit, ... }\n        // this ==> scope (in observable.js's scopedEval) ==> this.parentElement ==> div.container below (toHtml)\n\n        playground.call(data,\n                        this\n                        ,\n                        {\n    \"f\": _magicpivotChart,\n    \"o\": {\"width\":600,\"height\":400,\"derivedAttributes\":{},\"extraOptions\":{}}\n  }\n  \n                        \n                        \n                      );\n      }\n    );/*]]>*/</script>\n    <div>\n      <span class=\"chart-total-item-count\"><p data-bind=\"text: value\"><script data-this=\"{&quot;valueId&quot;:&quot;anon7ae3c30e30147f82c91ba8a2a1cf0246&quot;,&quot;initialValue&quot;:&quot;4&quot;}\" type=\"text/x-scoped-javascript\">/*<![CDATA[*/\nreq(\n['observable', 'knockout'],\nfunction (O, ko) {\n  ko.applyBindings({\n      value: O.makeObservable(valueId, initialValue)\n    },\n    this\n  );\n});\n        /*]]>*/</script></p> entries total</span>\n      <span class=\"chart-sampling-warning\"><p data-bind=\"text: value\"><script data-this=\"{&quot;valueId&quot;:&quot;anon5f23ebac7216e95cbb550007cbe8ff58&quot;,&quot;initialValue&quot;:&quot;&quot;}\" type=\"text/x-scoped-javascript\">/*<![CDATA[*/\nreq(\n['observable', 'knockout'],\nfunction (O, ko) {\n  ko.applyBindings({\n      value: O.makeObservable(valueId, initialValue)\n    },\n    this\n  );\n});\n        /*]]>*/</script></p></span>\n      <div>\n      </div>\n    </div></div>\n            </div></div>\n      </div>\n    </div></div>"
          },
          "output_type" : "execute_result",
          "execution_count" : 7,
          "time" : "Took: 0.936s, at 2017-09-06 07:48"
        }
      ]
    },
    {
      "metadata" : {
        "id" : "3FF8C000B3E040C08FF3B713A5CC4B97"
      },
      "cell_type" : "markdown",
      "source" : "### Then, we split data into words and convert all into lower case. \n\nHere we use flatMap (simply equal to map() + \"flatten\" ). Here we want to transform an RDD of Array of String into an RDD of String and apply the function inside flatMap for each String. "
    },
    {
      "metadata" : {
        "trusted" : true,
        "input_collapsed" : false,
        "collapsed" : false,
        "id" : "2F99DB525A7A4BC789520B828E7FFD6F"
      },
      "cell_type" : "code",
      "source" : [
        "val words = data_without_special_characters.flatMap(l => l.split(\" \").map(l => l.toLowerCase))"
      ],
      "outputs" : [
        {
          "name" : "stdout",
          "output_type" : "stream",
          "text" : "words: org.apache.spark.rdd.RDD[String] = MapPartitionsRDD[3] at flatMap at <console>:71\n"
        },
        {
          "metadata" : { },
          "data" : {
            "text/html" : ""
          },
          "output_type" : "execute_result",
          "execution_count" : 8,
          "time" : "Took: 0.762s, at 2017-09-06 07:50"
        }
      ]
    },
    {
      "metadata" : {
        "trusted" : true,
        "input_collapsed" : false,
        "collapsed" : false,
        "presentation" : {
          "tabs_state" : "{\n  \"tab_id\": \"#tab838309767-0\"\n}",
          "pivot_chart_state" : "{\n  \"hiddenAttributes\": [],\n  \"menuLimit\": 200,\n  \"cols\": [],\n  \"rows\": [],\n  \"vals\": [],\n  \"exclusions\": {},\n  \"inclusions\": {},\n  \"unusedAttrsVertical\": 85,\n  \"autoSortUnusedAttrs\": false,\n  \"inclusionsInfo\": {},\n  \"aggregatorName\": \"Count\",\n  \"rendererName\": \"Table\"\n}"
        },
        "id" : "DCC367D8DEB344738DC8BFC2B676252A"
      },
      "cell_type" : "code",
      "source" : [
        "words.take(10)"
      ],
      "outputs" : [
        {
          "name" : "stdout",
          "output_type" : "stream",
          "text" : "res14: Array[String] = Array(a, resilient, distributed, dataset, rdd, the, basic, abstraction, in, spark)\n"
        },
        {
          "metadata" : { },
          "data" : {
            "text/html" : "<div>\n      <script data-this=\"{&quot;dataId&quot;:&quot;anon49588b6790a6ff98fe850b1758cc14e7&quot;,&quot;dataInit&quot;:[],&quot;genId&quot;:&quot;838309767&quot;}\" type=\"text/x-scoped-javascript\">/*<![CDATA[*/req(['../javascripts/notebook/playground','../javascripts/notebook/magic/tabs'], \n      function(playground, _magictabs) {\n        // data ==> data-this (in observable.js's scopedEval) ==> this in JS => { dataId, dataInit, ... }\n        // this ==> scope (in observable.js's scopedEval) ==> this.parentElement ==> div.container below (toHtml)\n\n        playground.call(data,\n                        this\n                        ,\n                        {\n    \"f\": _magictabs,\n    \"o\": {}\n  }\n  \n                        \n                        \n                      );\n      }\n    );/*]]>*/</script>\n    <div>\n      <div>\n        <ul class=\"nav nav-tabs\" id=\"ul838309767\"><li>\n              <a href=\"#tab838309767-0\"><i class=\"fa fa-table\"/></a>\n            </li><li>\n              <a href=\"#tab838309767-1\"><i class=\"fa fa-cubes\"/></a>\n            </li></ul>\n\n        <div class=\"tab-content\" id=\"tab838309767\"><div class=\"tab-pane\" id=\"tab838309767-0\">\n            <div>\n      <script data-this=\"{&quot;dataId&quot;:&quot;anon2a49ad879cc3e46104092371da6890f9&quot;,&quot;dataInit&quot;:[{&quot;string value&quot;:&quot;a&quot;},{&quot;string value&quot;:&quot;resilient&quot;},{&quot;string value&quot;:&quot;distributed&quot;},{&quot;string value&quot;:&quot;dataset&quot;},{&quot;string value&quot;:&quot;rdd&quot;},{&quot;string value&quot;:&quot;the&quot;},{&quot;string value&quot;:&quot;basic&quot;},{&quot;string value&quot;:&quot;abstraction&quot;},{&quot;string value&quot;:&quot;in&quot;},{&quot;string value&quot;:&quot;spark&quot;}],&quot;genId&quot;:&quot;786665328&quot;}\" type=\"text/x-scoped-javascript\">/*<![CDATA[*/req(['../javascripts/notebook/playground','../javascripts/notebook/magic/tableChart'], \n      function(playground, _magictableChart) {\n        // data ==> data-this (in observable.js's scopedEval) ==> this in JS => { dataId, dataInit, ... }\n        // this ==> scope (in observable.js's scopedEval) ==> this.parentElement ==> div.container below (toHtml)\n\n        playground.call(data,\n                        this\n                        ,\n                        {\n    \"f\": _magictableChart,\n    \"o\": {\"headers\":[\"string value\"],\"width\":600,\"height\":400}\n  }\n  \n                        \n                        \n                      );\n      }\n    );/*]]>*/</script>\n    <div>\n      <span class=\"chart-total-item-count\"><p data-bind=\"text: value\"><script data-this=\"{&quot;valueId&quot;:&quot;anon436bfcd1f4f55ab2d780220130d9c829&quot;,&quot;initialValue&quot;:&quot;10&quot;}\" type=\"text/x-scoped-javascript\">/*<![CDATA[*/\nreq(\n['observable', 'knockout'],\nfunction (O, ko) {\n  ko.applyBindings({\n      value: O.makeObservable(valueId, initialValue)\n    },\n    this\n  );\n});\n        /*]]>*/</script></p> entries total</span>\n      <span class=\"chart-sampling-warning\"><p data-bind=\"text: value\"><script data-this=\"{&quot;valueId&quot;:&quot;anon7c93f59bfbccf83018a5ef2f409d176f&quot;,&quot;initialValue&quot;:&quot;&quot;}\" type=\"text/x-scoped-javascript\">/*<![CDATA[*/\nreq(\n['observable', 'knockout'],\nfunction (O, ko) {\n  ko.applyBindings({\n      value: O.makeObservable(valueId, initialValue)\n    },\n    this\n  );\n});\n        /*]]>*/</script></p></span>\n      <div>\n      </div>\n    </div></div>\n            </div><div class=\"tab-pane\" id=\"tab838309767-1\">\n            <div>\n      <script data-this=\"{&quot;dataId&quot;:&quot;anon0daab8eb42e47a2326efd6b836dbc37b&quot;,&quot;dataInit&quot;:[{&quot;string value&quot;:&quot;a&quot;},{&quot;string value&quot;:&quot;resilient&quot;},{&quot;string value&quot;:&quot;distributed&quot;},{&quot;string value&quot;:&quot;dataset&quot;},{&quot;string value&quot;:&quot;rdd&quot;},{&quot;string value&quot;:&quot;the&quot;},{&quot;string value&quot;:&quot;basic&quot;},{&quot;string value&quot;:&quot;abstraction&quot;},{&quot;string value&quot;:&quot;in&quot;},{&quot;string value&quot;:&quot;spark&quot;}],&quot;genId&quot;:&quot;765416292&quot;}\" type=\"text/x-scoped-javascript\">/*<![CDATA[*/req(['../javascripts/notebook/playground','../javascripts/notebook/magic/pivotChart'], \n      function(playground, _magicpivotChart) {\n        // data ==> data-this (in observable.js's scopedEval) ==> this in JS => { dataId, dataInit, ... }\n        // this ==> scope (in observable.js's scopedEval) ==> this.parentElement ==> div.container below (toHtml)\n\n        playground.call(data,\n                        this\n                        ,\n                        {\n    \"f\": _magicpivotChart,\n    \"o\": {\"width\":600,\"height\":400,\"derivedAttributes\":{},\"extraOptions\":{}}\n  }\n  \n                        \n                        \n                      );\n      }\n    );/*]]>*/</script>\n    <div>\n      <span class=\"chart-total-item-count\"><p data-bind=\"text: value\"><script data-this=\"{&quot;valueId&quot;:&quot;anon0b8a812772c5fd96fb84090ce0e23594&quot;,&quot;initialValue&quot;:&quot;10&quot;}\" type=\"text/x-scoped-javascript\">/*<![CDATA[*/\nreq(\n['observable', 'knockout'],\nfunction (O, ko) {\n  ko.applyBindings({\n      value: O.makeObservable(valueId, initialValue)\n    },\n    this\n  );\n});\n        /*]]>*/</script></p> entries total</span>\n      <span class=\"chart-sampling-warning\"><p data-bind=\"text: value\"><script data-this=\"{&quot;valueId&quot;:&quot;anoned17d30145da3d143513b9965a485087&quot;,&quot;initialValue&quot;:&quot;&quot;}\" type=\"text/x-scoped-javascript\">/*<![CDATA[*/\nreq(\n['observable', 'knockout'],\nfunction (O, ko) {\n  ko.applyBindings({\n      value: O.makeObservable(valueId, initialValue)\n    },\n    this\n  );\n});\n        /*]]>*/</script></p></span>\n      <div>\n      </div>\n    </div></div>\n            </div></div>\n      </div>\n    </div></div>"
          },
          "output_type" : "execute_result",
          "execution_count" : 9,
          "time" : "Took: 0.933s, at 2017-09-06 07:50"
        }
      ]
    },
    {
      "metadata" : {
        "id" : "302B27262E84467EBDB181BA26A03FD0"
      },
      "cell_type" : "markdown",
      "source" : "### We can now count by key to compute the number of occurences of each word\n\nTo do this, we have 2 ways to do :\n\n#### 1/ First option :\n\nFor each element in RDD, we add 1 column with value 1, then by key (word), we compute the sum of value by using reduceByKey. When we do \"_ + _\" means everytime we have same key (word), we do the sum of its values."
    },
    {
      "metadata" : {
        "trusted" : true,
        "input_collapsed" : false,
        "collapsed" : false,
        "presentation" : {
          "tabs_state" : "{\n  \"tab_id\": \"#tab1758350316-2\"\n}",
          "pivot_chart_state" : "{\n  \"hiddenAttributes\": [],\n  \"menuLimit\": 200,\n  \"cols\": [],\n  \"rows\": [],\n  \"vals\": [],\n  \"exclusions\": {},\n  \"inclusions\": {},\n  \"unusedAttrsVertical\": 85,\n  \"autoSortUnusedAttrs\": false,\n  \"inclusionsInfo\": {},\n  \"aggregatorName\": \"Count\",\n  \"rendererName\": \"Table\"\n}"
        },
        "id" : "CF099AB943CE4C7795272C07CEBA5442"
      },
      "cell_type" : "code",
      "source" : [
        "val wordCount = words.map(l => (l, 1)).reduceByKey(_ + _)\n",
        "wordCount.collect()"
      ],
      "outputs" : [
        {
          "name" : "stdout",
          "output_type" : "stream",
          "text" : "wordCount: org.apache.spark.rdd.RDD[(String, Int)] = ShuffledRDD[11] at reduceByKey at <console>:87\nres32: Array[(String, Int)] = Array((reading,1), (this,1), (paper,1), (doublerddfunctions,1), (collection,1), (internally,1), (is,3), (its,1), (sequencefiles,1), (persist,1), (only,2), (data,1), (abstraction,1), (internals,1), (basic,2), (map,1), (sequencefilerddfunctions,1), (class,1), (methods,1), (scheduling,1), (execution,1), (new,1), (computing,2), (locations,2), (join,1), (other,1), (file,1), (from,1), (details,1), (dataset,1), (immutable,1), (refer,1), (can,3), (doubles,1), (split,2), (filter,1), (operated,1), (keyvalue,2), (eg,3), (as,3), (\"\",5), (operations,4), (done,1), (list,3), (please,1), (users,1), (five,1), (own,1), (rdd,5), (function,1), (addition,1), (itself,1), (characte..."
        },
        {
          "metadata" : { },
          "data" : {
            "text/html" : "<div>\n      <script data-this=\"{&quot;dataId&quot;:&quot;anonacf00892d10d778cad5bbb08ac069ac1&quot;,&quot;dataInit&quot;:[],&quot;genId&quot;:&quot;1758350316&quot;}\" type=\"text/x-scoped-javascript\">/*<![CDATA[*/req(['../javascripts/notebook/playground','../javascripts/notebook/magic/tabs'], \n      function(playground, _magictabs) {\n        // data ==> data-this (in observable.js's scopedEval) ==> this in JS => { dataId, dataInit, ... }\n        // this ==> scope (in observable.js's scopedEval) ==> this.parentElement ==> div.container below (toHtml)\n\n        playground.call(data,\n                        this\n                        ,\n                        {\n    \"f\": _magictabs,\n    \"o\": {}\n  }\n  \n                        \n                        \n                      );\n      }\n    );/*]]>*/</script>\n    <div>\n      <div>\n        <ul class=\"nav nav-tabs\" id=\"ul1758350316\"><li>\n              <a href=\"#tab1758350316-0\"><i class=\"fa fa-table\"/></a>\n            </li><li>\n              <a href=\"#tab1758350316-1\"><i class=\"fa fa-bar-chart\"/></a>\n            </li><li>\n              <a href=\"#tab1758350316-2\"><i class=\"fa fa-pie-chart\"/></a>\n            </li><li>\n              <a href=\"#tab1758350316-3\"><i class=\"fa fa-cubes\"/></a>\n            </li></ul>\n\n        <div class=\"tab-content\" id=\"tab1758350316\"><div class=\"tab-pane\" id=\"tab1758350316-0\">\n            <div>\n      <script data-this=\"{&quot;dataId&quot;:&quot;anon2e501f16a8cfe3b47a85781e3d473365&quot;,&quot;dataInit&quot;:[{&quot;_1&quot;:&quot;reading&quot;,&quot;_2&quot;:1},{&quot;_1&quot;:&quot;this&quot;,&quot;_2&quot;:1},{&quot;_1&quot;:&quot;paper&quot;,&quot;_2&quot;:1},{&quot;_1&quot;:&quot;doublerddfunctions&quot;,&quot;_2&quot;:1},{&quot;_1&quot;:&quot;collection&quot;,&quot;_2&quot;:1},{&quot;_1&quot;:&quot;internally&quot;,&quot;_2&quot;:1},{&quot;_1&quot;:&quot;is&quot;,&quot;_2&quot;:3},{&quot;_1&quot;:&quot;its&quot;,&quot;_2&quot;:1},{&quot;_1&quot;:&quot;sequencefiles&quot;,&quot;_2&quot;:1},{&quot;_1&quot;:&quot;persist&quot;,&quot;_2&quot;:1},{&quot;_1&quot;:&quot;only&quot;,&quot;_2&quot;:2},{&quot;_1&quot;:&quot;data&quot;,&quot;_2&quot;:1},{&quot;_1&quot;:&quot;abstraction&quot;,&quot;_2&quot;:1},{&quot;_1&quot;:&quot;internals&quot;,&quot;_2&quot;:1},{&quot;_1&quot;:&quot;basic&quot;,&quot;_2&quot;:2},{&quot;_1&quot;:&quot;map&quot;,&quot;_2&quot;:1},{&quot;_1&quot;:&quot;sequencefilerddfunctions&quot;,&quot;_2&quot;:1},{&quot;_1&quot;:&quot;class&quot;,&quot;_2&quot;:1},{&quot;_1&quot;:&quot;methods&quot;,&quot;_2&quot;:1},{&quot;_1&quot;:&quot;scheduling&quot;,&quot;_2&quot;:1},{&quot;_1&quot;:&quot;execution&quot;,&quot;_2&quot;:1},{&quot;_1&quot;:&quot;new&quot;,&quot;_2&quot;:1},{&quot;_1&quot;:&quot;computing&quot;,&quot;_2&quot;:2},{&quot;_1&quot;:&quot;locations&quot;,&quot;_2&quot;:2},{&quot;_1&quot;:&quot;join&quot;,&quot;_2&quot;:1},{&quot;_1&quot;:&quot;other&quot;,&quot;_2&quot;:1},{&quot;_1&quot;:&quot;file&quot;,&quot;_2&quot;:1},{&quot;_1&quot;:&quot;from&quot;,&quot;_2&quot;:1},{&quot;_1&quot;:&quot;details&quot;,&quot;_2&quot;:1},{&quot;_1&quot;:&quot;dataset&quot;,&quot;_2&quot;:1},{&quot;_1&quot;:&quot;immutable&quot;,&quot;_2&quot;:1},{&quot;_1&quot;:&quot;refer&quot;,&quot;_2&quot;:1},{&quot;_1&quot;:&quot;can&quot;,&quot;_2&quot;:3},{&quot;_1&quot;:&quot;doubles&quot;,&quot;_2&quot;:1},{&quot;_1&quot;:&quot;split&quot;,&quot;_2&quot;:2},{&quot;_1&quot;:&quot;filter&quot;,&quot;_2&quot;:1},{&quot;_1&quot;:&quot;operated&quot;,&quot;_2&quot;:1},{&quot;_1&quot;:&quot;keyvalue&quot;,&quot;_2&quot;:2},{&quot;_1&quot;:&quot;eg&quot;,&quot;_2&quot;:3},{&quot;_1&quot;:&quot;as&quot;,&quot;_2&quot;:3},{&quot;_1&quot;:&quot;&quot;,&quot;_2&quot;:5},{&quot;_1&quot;:&quot;operations&quot;,&quot;_2&quot;:4},{&quot;_1&quot;:&quot;done&quot;,&quot;_2&quot;:1},{&quot;_1&quot;:&quot;list&quot;,&quot;_2&quot;:3},{&quot;_1&quot;:&quot;please&quot;,&quot;_2&quot;:1},{&quot;_1&quot;:&quot;users&quot;,&quot;_2&quot;:1},{&quot;_1&quot;:&quot;five&quot;,&quot;_2&quot;:1},{&quot;_1&quot;:&quot;own&quot;,&quot;_2&quot;:1},{&quot;_1&quot;:&quot;rdd&quot;,&quot;_2&quot;:5},{&quot;_1&quot;:&quot;function&quot;,&quot;_2&quot;:1},{&quot;_1&quot;:&quot;addition&quot;,&quot;_2&quot;:1},{&quot;_1&quot;:&quot;itself&quot;,&quot;_2&quot;:1},{&quot;_1&quot;:&quot;characterized&quot;,&quot;_2&quot;:1},{&quot;_1&quot;:&quot;spark&quot;,&quot;_2&quot;:3},{&quot;_1&quot;:&quot;saved&quot;,&quot;_2&quot;:1},{&quot;_1&quot;:&quot;parallel&quot;,&quot;_2&quot;:1},{&quot;_1&quot;:&quot;on&quot;,&quot;_2&quot;:9},{&quot;_1&quot;:&quot;such&quot;,&quot;_2&quot;:2},{&quot;_1&quot;:&quot;each&quot;,&quot;_2&quot;:4},{&quot;_1&quot;:&quot;allowing&quot;,&quot;_2&quot;:1},{&quot;_1&quot;:&quot;partitioned&quot;,&quot;_2&quot;:1},{&quot;_1&quot;:&quot;in&quot;,&quot;_2&quot;:4},{&quot;_1&quot;:&quot;resilient&quot;,&quot;_2&quot;:1},{&quot;_1&quot;:&quot;storage&quot;,&quot;_2&quot;:1},{&quot;_1&quot;:&quot;for&quot;,&quot;_2&quot;:5},{&quot;_1&quot;:&quot;block&quot;,&quot;_2&quot;:1},{&quot;_1&quot;:&quot;indeed&quot;,&quot;_2&quot;:1},{&quot;_1&quot;:&quot;based&quot;,&quot;_2&quot;:1},{&quot;_1&quot;:&quot;distributed&quot;,&quot;_2&quot;:1},{&quot;_1&quot;:&quot;represents&quot;,&quot;_2&quot;:1},{&quot;_1&quot;:&quot;hdfs&quot;,&quot;_2&quot;:1},{&quot;_1&quot;:&quot;hashpartitioned&quot;,&quot;_2&quot;:1},{&quot;_1&quot;:&quot;rdds&quot;,&quot;_2&quot;:7},{&quot;_1&quot;:&quot;way&quot;,&quot;_2&quot;:1},{&quot;_1&quot;:&quot;partitions&quot;,&quot;_2&quot;:1},{&quot;_1&quot;:&quot;the&quot;,&quot;_2&quot;:5},{&quot;_1&quot;:&quot;these&quot;,&quot;_2&quot;:2},{&quot;_1&quot;:&quot;pairrddfunctions&quot;,&quot;_2&quot;:1},{&quot;_1&quot;:&quot;custom&quot;,&quot;_2&quot;:1},{&quot;_1&quot;:&quot;contains&quot;,&quot;_2&quot;:4},{&quot;_1&quot;:&quot;main&quot;,&quot;_2&quot;:1},{&quot;_1&quot;:&quot;that&quot;,&quot;_2&quot;:3},{&quot;_1&quot;:&quot;a&quot;,&quot;_2&quot;:7},{&quot;_1&quot;:&quot;preferred&quot;,&quot;_2&quot;:1},{&quot;_1&quot;:&quot;be&quot;,&quot;_2&quot;:2},{&quot;_1&quot;:&quot;say&quot;,&quot;_2&quot;:1},{&quot;_1&quot;:&quot;all&quot;,&quot;_2&quot;:2},{&quot;_1&quot;:&quot;to&quot;,&quot;_2&quot;:4},{&quot;_1&quot;:&quot;available&quot;,&quot;_2&quot;:4},{&quot;_1&quot;:&quot;overriding&quot;,&quot;_2&quot;:1},{&quot;_1&quot;:&quot;properties&quot;,&quot;_2&quot;:1},{&quot;_1&quot;:&quot;implement&quot;,&quot;_2&quot;:2},{&quot;_1&quot;:&quot;more&quot;,&quot;_2&quot;:1},{&quot;_1&quot;:&quot;of&quot;,&quot;_2&quot;:8},{&quot;_1&quot;:&quot;dependencies&quot;,&quot;_2&quot;:1},{&quot;_1&quot;:&quot;by&quot;,&quot;_2&quot;:2},{&quot;_1&quot;:&quot;an&quot;,&quot;_2&quot;:2},{&quot;_1&quot;:&quot;groupbykey&quot;,&quot;_2&quot;:1},{&quot;_1&quot;:&quot;functions&quot;,&quot;_2&quot;:1},{&quot;_1&quot;:&quot;partitioner&quot;,&quot;_2&quot;:1},{&quot;_1&quot;:&quot;and&quot;,&quot;_2&quot;:4},{&quot;_1&quot;:&quot;optionally&quot;,&quot;_2&quot;:2},{&quot;_1&quot;:&quot;pairs&quot;,&quot;_2&quot;:1},{&quot;_1&quot;:&quot;system&quot;,&quot;_2&quot;:1},{&quot;_1&quot;:&quot;compute&quot;,&quot;_2&quot;:1},{&quot;_1&quot;:&quot;elements&quot;,&quot;_2&quot;:1}],&quot;genId&quot;:&quot;16706941&quot;}\" type=\"text/x-scoped-javascript\">/*<![CDATA[*/req(['../javascripts/notebook/playground','../javascripts/notebook/magic/tableChart'], \n      function(playground, _magictableChart) {\n        // data ==> data-this (in observable.js's scopedEval) ==> this in JS => { dataId, dataInit, ... }\n        // this ==> scope (in observable.js's scopedEval) ==> this.parentElement ==> div.container below (toHtml)\n\n        playground.call(data,\n                        this\n                        ,\n                        {\n    \"f\": _magictableChart,\n    \"o\": {\"headers\":[\"_1\",\"_2\"],\"width\":600,\"height\":400}\n  }\n  \n                        \n                        \n                      );\n      }\n    );/*]]>*/</script>\n    <div>\n      <span class=\"chart-total-item-count\"><p data-bind=\"text: value\"><script data-this=\"{&quot;valueId&quot;:&quot;anon4fb59dc25a8faaac4d0b2d8f091b93bb&quot;,&quot;initialValue&quot;:&quot;106&quot;}\" type=\"text/x-scoped-javascript\">/*<![CDATA[*/\nreq(\n['observable', 'knockout'],\nfunction (O, ko) {\n  ko.applyBindings({\n      value: O.makeObservable(valueId, initialValue)\n    },\n    this\n  );\n});\n        /*]]>*/</script></p> entries total</span>\n      <span class=\"chart-sampling-warning\"><p data-bind=\"text: value\"><script data-this=\"{&quot;valueId&quot;:&quot;anonf8c2e5d0a5f07d9ca6b50db88510af60&quot;,&quot;initialValue&quot;:&quot;&quot;}\" type=\"text/x-scoped-javascript\">/*<![CDATA[*/\nreq(\n['observable', 'knockout'],\nfunction (O, ko) {\n  ko.applyBindings({\n      value: O.makeObservable(valueId, initialValue)\n    },\n    this\n  );\n});\n        /*]]>*/</script></p></span>\n      <div>\n      </div>\n    </div></div>\n            </div><div class=\"tab-pane\" id=\"tab1758350316-1\">\n            <div>\n      <script data-this=\"{&quot;dataId&quot;:&quot;anonf38e0313a8118625057f7e69f074d51c&quot;,&quot;dataInit&quot;:[{&quot;_1&quot;:&quot;reading&quot;,&quot;_2&quot;:1},{&quot;_1&quot;:&quot;this&quot;,&quot;_2&quot;:1},{&quot;_1&quot;:&quot;paper&quot;,&quot;_2&quot;:1},{&quot;_1&quot;:&quot;doublerddfunctions&quot;,&quot;_2&quot;:1},{&quot;_1&quot;:&quot;collection&quot;,&quot;_2&quot;:1},{&quot;_1&quot;:&quot;internally&quot;,&quot;_2&quot;:1},{&quot;_1&quot;:&quot;is&quot;,&quot;_2&quot;:3},{&quot;_1&quot;:&quot;its&quot;,&quot;_2&quot;:1},{&quot;_1&quot;:&quot;sequencefiles&quot;,&quot;_2&quot;:1},{&quot;_1&quot;:&quot;persist&quot;,&quot;_2&quot;:1},{&quot;_1&quot;:&quot;only&quot;,&quot;_2&quot;:2},{&quot;_1&quot;:&quot;data&quot;,&quot;_2&quot;:1},{&quot;_1&quot;:&quot;abstraction&quot;,&quot;_2&quot;:1},{&quot;_1&quot;:&quot;internals&quot;,&quot;_2&quot;:1},{&quot;_1&quot;:&quot;basic&quot;,&quot;_2&quot;:2},{&quot;_1&quot;:&quot;map&quot;,&quot;_2&quot;:1},{&quot;_1&quot;:&quot;sequencefilerddfunctions&quot;,&quot;_2&quot;:1},{&quot;_1&quot;:&quot;class&quot;,&quot;_2&quot;:1},{&quot;_1&quot;:&quot;methods&quot;,&quot;_2&quot;:1},{&quot;_1&quot;:&quot;scheduling&quot;,&quot;_2&quot;:1},{&quot;_1&quot;:&quot;execution&quot;,&quot;_2&quot;:1},{&quot;_1&quot;:&quot;new&quot;,&quot;_2&quot;:1},{&quot;_1&quot;:&quot;computing&quot;,&quot;_2&quot;:2},{&quot;_1&quot;:&quot;locations&quot;,&quot;_2&quot;:2},{&quot;_1&quot;:&quot;join&quot;,&quot;_2&quot;:1},{&quot;_1&quot;:&quot;other&quot;,&quot;_2&quot;:1},{&quot;_1&quot;:&quot;file&quot;,&quot;_2&quot;:1},{&quot;_1&quot;:&quot;from&quot;,&quot;_2&quot;:1},{&quot;_1&quot;:&quot;details&quot;,&quot;_2&quot;:1},{&quot;_1&quot;:&quot;dataset&quot;,&quot;_2&quot;:1},{&quot;_1&quot;:&quot;immutable&quot;,&quot;_2&quot;:1},{&quot;_1&quot;:&quot;refer&quot;,&quot;_2&quot;:1},{&quot;_1&quot;:&quot;can&quot;,&quot;_2&quot;:3},{&quot;_1&quot;:&quot;doubles&quot;,&quot;_2&quot;:1},{&quot;_1&quot;:&quot;split&quot;,&quot;_2&quot;:2},{&quot;_1&quot;:&quot;filter&quot;,&quot;_2&quot;:1},{&quot;_1&quot;:&quot;operated&quot;,&quot;_2&quot;:1},{&quot;_1&quot;:&quot;keyvalue&quot;,&quot;_2&quot;:2},{&quot;_1&quot;:&quot;eg&quot;,&quot;_2&quot;:3},{&quot;_1&quot;:&quot;as&quot;,&quot;_2&quot;:3},{&quot;_1&quot;:&quot;&quot;,&quot;_2&quot;:5},{&quot;_1&quot;:&quot;operations&quot;,&quot;_2&quot;:4},{&quot;_1&quot;:&quot;done&quot;,&quot;_2&quot;:1},{&quot;_1&quot;:&quot;list&quot;,&quot;_2&quot;:3},{&quot;_1&quot;:&quot;please&quot;,&quot;_2&quot;:1},{&quot;_1&quot;:&quot;users&quot;,&quot;_2&quot;:1},{&quot;_1&quot;:&quot;five&quot;,&quot;_2&quot;:1},{&quot;_1&quot;:&quot;own&quot;,&quot;_2&quot;:1},{&quot;_1&quot;:&quot;rdd&quot;,&quot;_2&quot;:5},{&quot;_1&quot;:&quot;function&quot;,&quot;_2&quot;:1},{&quot;_1&quot;:&quot;addition&quot;,&quot;_2&quot;:1},{&quot;_1&quot;:&quot;itself&quot;,&quot;_2&quot;:1},{&quot;_1&quot;:&quot;characterized&quot;,&quot;_2&quot;:1},{&quot;_1&quot;:&quot;spark&quot;,&quot;_2&quot;:3},{&quot;_1&quot;:&quot;saved&quot;,&quot;_2&quot;:1},{&quot;_1&quot;:&quot;parallel&quot;,&quot;_2&quot;:1},{&quot;_1&quot;:&quot;on&quot;,&quot;_2&quot;:9},{&quot;_1&quot;:&quot;such&quot;,&quot;_2&quot;:2},{&quot;_1&quot;:&quot;each&quot;,&quot;_2&quot;:4},{&quot;_1&quot;:&quot;allowing&quot;,&quot;_2&quot;:1},{&quot;_1&quot;:&quot;partitioned&quot;,&quot;_2&quot;:1},{&quot;_1&quot;:&quot;in&quot;,&quot;_2&quot;:4},{&quot;_1&quot;:&quot;resilient&quot;,&quot;_2&quot;:1},{&quot;_1&quot;:&quot;storage&quot;,&quot;_2&quot;:1},{&quot;_1&quot;:&quot;for&quot;,&quot;_2&quot;:5},{&quot;_1&quot;:&quot;block&quot;,&quot;_2&quot;:1},{&quot;_1&quot;:&quot;indeed&quot;,&quot;_2&quot;:1},{&quot;_1&quot;:&quot;based&quot;,&quot;_2&quot;:1},{&quot;_1&quot;:&quot;distributed&quot;,&quot;_2&quot;:1},{&quot;_1&quot;:&quot;represents&quot;,&quot;_2&quot;:1},{&quot;_1&quot;:&quot;hdfs&quot;,&quot;_2&quot;:1},{&quot;_1&quot;:&quot;hashpartitioned&quot;,&quot;_2&quot;:1},{&quot;_1&quot;:&quot;rdds&quot;,&quot;_2&quot;:7},{&quot;_1&quot;:&quot;way&quot;,&quot;_2&quot;:1},{&quot;_1&quot;:&quot;partitions&quot;,&quot;_2&quot;:1},{&quot;_1&quot;:&quot;the&quot;,&quot;_2&quot;:5},{&quot;_1&quot;:&quot;these&quot;,&quot;_2&quot;:2},{&quot;_1&quot;:&quot;pairrddfunctions&quot;,&quot;_2&quot;:1},{&quot;_1&quot;:&quot;custom&quot;,&quot;_2&quot;:1},{&quot;_1&quot;:&quot;contains&quot;,&quot;_2&quot;:4},{&quot;_1&quot;:&quot;main&quot;,&quot;_2&quot;:1},{&quot;_1&quot;:&quot;that&quot;,&quot;_2&quot;:3},{&quot;_1&quot;:&quot;a&quot;,&quot;_2&quot;:7},{&quot;_1&quot;:&quot;preferred&quot;,&quot;_2&quot;:1},{&quot;_1&quot;:&quot;be&quot;,&quot;_2&quot;:2},{&quot;_1&quot;:&quot;say&quot;,&quot;_2&quot;:1},{&quot;_1&quot;:&quot;all&quot;,&quot;_2&quot;:2},{&quot;_1&quot;:&quot;to&quot;,&quot;_2&quot;:4},{&quot;_1&quot;:&quot;available&quot;,&quot;_2&quot;:4},{&quot;_1&quot;:&quot;overriding&quot;,&quot;_2&quot;:1},{&quot;_1&quot;:&quot;properties&quot;,&quot;_2&quot;:1},{&quot;_1&quot;:&quot;implement&quot;,&quot;_2&quot;:2},{&quot;_1&quot;:&quot;more&quot;,&quot;_2&quot;:1},{&quot;_1&quot;:&quot;of&quot;,&quot;_2&quot;:8},{&quot;_1&quot;:&quot;dependencies&quot;,&quot;_2&quot;:1},{&quot;_1&quot;:&quot;by&quot;,&quot;_2&quot;:2},{&quot;_1&quot;:&quot;an&quot;,&quot;_2&quot;:2},{&quot;_1&quot;:&quot;groupbykey&quot;,&quot;_2&quot;:1},{&quot;_1&quot;:&quot;functions&quot;,&quot;_2&quot;:1},{&quot;_1&quot;:&quot;partitioner&quot;,&quot;_2&quot;:1},{&quot;_1&quot;:&quot;and&quot;,&quot;_2&quot;:4},{&quot;_1&quot;:&quot;optionally&quot;,&quot;_2&quot;:2},{&quot;_1&quot;:&quot;pairs&quot;,&quot;_2&quot;:1},{&quot;_1&quot;:&quot;system&quot;,&quot;_2&quot;:1},{&quot;_1&quot;:&quot;compute&quot;,&quot;_2&quot;:1},{&quot;_1&quot;:&quot;elements&quot;,&quot;_2&quot;:1}],&quot;genId&quot;:&quot;1974622334&quot;}\" type=\"text/x-scoped-javascript\">/*<![CDATA[*/req(['../javascripts/notebook/playground','../javascripts/notebook/magic/barChart'], \n      function(playground, _magicbarChart) {\n        // data ==> data-this (in observable.js's scopedEval) ==> this in JS => { dataId, dataInit, ... }\n        // this ==> scope (in observable.js's scopedEval) ==> this.parentElement ==> div.container below (toHtml)\n\n        playground.call(data,\n                        this\n                        ,\n                        {\n    \"f\": _magicbarChart,\n    \"o\": {\"x\":\"_1\",\"y\":\"_2\",\"width\":600,\"height\":400}\n  }\n  \n                        \n                        \n                      );\n      }\n    );/*]]>*/</script>\n    <div>\n      <span class=\"chart-total-item-count\"><p data-bind=\"text: value\"><script data-this=\"{&quot;valueId&quot;:&quot;anonda30f0c564109ff72ac42b44ec914fcc&quot;,&quot;initialValue&quot;:&quot;106&quot;}\" type=\"text/x-scoped-javascript\">/*<![CDATA[*/\nreq(\n['observable', 'knockout'],\nfunction (O, ko) {\n  ko.applyBindings({\n      value: O.makeObservable(valueId, initialValue)\n    },\n    this\n  );\n});\n        /*]]>*/</script></p> entries total</span>\n      <span class=\"chart-sampling-warning\"><p data-bind=\"text: value\"><script data-this=\"{&quot;valueId&quot;:&quot;anondf065047cbd49c75cc8fc5315e1d6f46&quot;,&quot;initialValue&quot;:&quot;&quot;}\" type=\"text/x-scoped-javascript\">/*<![CDATA[*/\nreq(\n['observable', 'knockout'],\nfunction (O, ko) {\n  ko.applyBindings({\n      value: O.makeObservable(valueId, initialValue)\n    },\n    this\n  );\n});\n        /*]]>*/</script></p></span>\n      <div>\n      </div>\n    </div></div>\n            </div><div class=\"tab-pane\" id=\"tab1758350316-2\">\n            <div>\n      <script data-this=\"{&quot;dataId&quot;:&quot;anonc52cc43492a0f58992afe4f3834a4345&quot;,&quot;dataInit&quot;:[{&quot;_1&quot;:&quot;reading&quot;,&quot;_2&quot;:1},{&quot;_1&quot;:&quot;this&quot;,&quot;_2&quot;:1},{&quot;_1&quot;:&quot;paper&quot;,&quot;_2&quot;:1},{&quot;_1&quot;:&quot;doublerddfunctions&quot;,&quot;_2&quot;:1},{&quot;_1&quot;:&quot;collection&quot;,&quot;_2&quot;:1},{&quot;_1&quot;:&quot;internally&quot;,&quot;_2&quot;:1},{&quot;_1&quot;:&quot;is&quot;,&quot;_2&quot;:3},{&quot;_1&quot;:&quot;its&quot;,&quot;_2&quot;:1},{&quot;_1&quot;:&quot;sequencefiles&quot;,&quot;_2&quot;:1},{&quot;_1&quot;:&quot;persist&quot;,&quot;_2&quot;:1},{&quot;_1&quot;:&quot;only&quot;,&quot;_2&quot;:2},{&quot;_1&quot;:&quot;data&quot;,&quot;_2&quot;:1},{&quot;_1&quot;:&quot;abstraction&quot;,&quot;_2&quot;:1},{&quot;_1&quot;:&quot;internals&quot;,&quot;_2&quot;:1},{&quot;_1&quot;:&quot;basic&quot;,&quot;_2&quot;:2},{&quot;_1&quot;:&quot;map&quot;,&quot;_2&quot;:1},{&quot;_1&quot;:&quot;sequencefilerddfunctions&quot;,&quot;_2&quot;:1},{&quot;_1&quot;:&quot;class&quot;,&quot;_2&quot;:1},{&quot;_1&quot;:&quot;methods&quot;,&quot;_2&quot;:1},{&quot;_1&quot;:&quot;scheduling&quot;,&quot;_2&quot;:1},{&quot;_1&quot;:&quot;execution&quot;,&quot;_2&quot;:1},{&quot;_1&quot;:&quot;new&quot;,&quot;_2&quot;:1},{&quot;_1&quot;:&quot;computing&quot;,&quot;_2&quot;:2},{&quot;_1&quot;:&quot;locations&quot;,&quot;_2&quot;:2},{&quot;_1&quot;:&quot;join&quot;,&quot;_2&quot;:1},{&quot;_1&quot;:&quot;other&quot;,&quot;_2&quot;:1},{&quot;_1&quot;:&quot;file&quot;,&quot;_2&quot;:1},{&quot;_1&quot;:&quot;from&quot;,&quot;_2&quot;:1},{&quot;_1&quot;:&quot;details&quot;,&quot;_2&quot;:1},{&quot;_1&quot;:&quot;dataset&quot;,&quot;_2&quot;:1},{&quot;_1&quot;:&quot;immutable&quot;,&quot;_2&quot;:1},{&quot;_1&quot;:&quot;refer&quot;,&quot;_2&quot;:1},{&quot;_1&quot;:&quot;can&quot;,&quot;_2&quot;:3},{&quot;_1&quot;:&quot;doubles&quot;,&quot;_2&quot;:1},{&quot;_1&quot;:&quot;split&quot;,&quot;_2&quot;:2},{&quot;_1&quot;:&quot;filter&quot;,&quot;_2&quot;:1},{&quot;_1&quot;:&quot;operated&quot;,&quot;_2&quot;:1},{&quot;_1&quot;:&quot;keyvalue&quot;,&quot;_2&quot;:2},{&quot;_1&quot;:&quot;eg&quot;,&quot;_2&quot;:3},{&quot;_1&quot;:&quot;as&quot;,&quot;_2&quot;:3},{&quot;_1&quot;:&quot;&quot;,&quot;_2&quot;:5},{&quot;_1&quot;:&quot;operations&quot;,&quot;_2&quot;:4},{&quot;_1&quot;:&quot;done&quot;,&quot;_2&quot;:1},{&quot;_1&quot;:&quot;list&quot;,&quot;_2&quot;:3},{&quot;_1&quot;:&quot;please&quot;,&quot;_2&quot;:1},{&quot;_1&quot;:&quot;users&quot;,&quot;_2&quot;:1},{&quot;_1&quot;:&quot;five&quot;,&quot;_2&quot;:1},{&quot;_1&quot;:&quot;own&quot;,&quot;_2&quot;:1},{&quot;_1&quot;:&quot;rdd&quot;,&quot;_2&quot;:5},{&quot;_1&quot;:&quot;function&quot;,&quot;_2&quot;:1},{&quot;_1&quot;:&quot;addition&quot;,&quot;_2&quot;:1},{&quot;_1&quot;:&quot;itself&quot;,&quot;_2&quot;:1},{&quot;_1&quot;:&quot;characterized&quot;,&quot;_2&quot;:1},{&quot;_1&quot;:&quot;spark&quot;,&quot;_2&quot;:3},{&quot;_1&quot;:&quot;saved&quot;,&quot;_2&quot;:1},{&quot;_1&quot;:&quot;parallel&quot;,&quot;_2&quot;:1},{&quot;_1&quot;:&quot;on&quot;,&quot;_2&quot;:9},{&quot;_1&quot;:&quot;such&quot;,&quot;_2&quot;:2},{&quot;_1&quot;:&quot;each&quot;,&quot;_2&quot;:4},{&quot;_1&quot;:&quot;allowing&quot;,&quot;_2&quot;:1},{&quot;_1&quot;:&quot;partitioned&quot;,&quot;_2&quot;:1},{&quot;_1&quot;:&quot;in&quot;,&quot;_2&quot;:4},{&quot;_1&quot;:&quot;resilient&quot;,&quot;_2&quot;:1},{&quot;_1&quot;:&quot;storage&quot;,&quot;_2&quot;:1},{&quot;_1&quot;:&quot;for&quot;,&quot;_2&quot;:5},{&quot;_1&quot;:&quot;block&quot;,&quot;_2&quot;:1},{&quot;_1&quot;:&quot;indeed&quot;,&quot;_2&quot;:1},{&quot;_1&quot;:&quot;based&quot;,&quot;_2&quot;:1},{&quot;_1&quot;:&quot;distributed&quot;,&quot;_2&quot;:1},{&quot;_1&quot;:&quot;represents&quot;,&quot;_2&quot;:1},{&quot;_1&quot;:&quot;hdfs&quot;,&quot;_2&quot;:1},{&quot;_1&quot;:&quot;hashpartitioned&quot;,&quot;_2&quot;:1},{&quot;_1&quot;:&quot;rdds&quot;,&quot;_2&quot;:7},{&quot;_1&quot;:&quot;way&quot;,&quot;_2&quot;:1},{&quot;_1&quot;:&quot;partitions&quot;,&quot;_2&quot;:1},{&quot;_1&quot;:&quot;the&quot;,&quot;_2&quot;:5},{&quot;_1&quot;:&quot;these&quot;,&quot;_2&quot;:2},{&quot;_1&quot;:&quot;pairrddfunctions&quot;,&quot;_2&quot;:1},{&quot;_1&quot;:&quot;custom&quot;,&quot;_2&quot;:1},{&quot;_1&quot;:&quot;contains&quot;,&quot;_2&quot;:4},{&quot;_1&quot;:&quot;main&quot;,&quot;_2&quot;:1},{&quot;_1&quot;:&quot;that&quot;,&quot;_2&quot;:3},{&quot;_1&quot;:&quot;a&quot;,&quot;_2&quot;:7},{&quot;_1&quot;:&quot;preferred&quot;,&quot;_2&quot;:1},{&quot;_1&quot;:&quot;be&quot;,&quot;_2&quot;:2},{&quot;_1&quot;:&quot;say&quot;,&quot;_2&quot;:1},{&quot;_1&quot;:&quot;all&quot;,&quot;_2&quot;:2},{&quot;_1&quot;:&quot;to&quot;,&quot;_2&quot;:4},{&quot;_1&quot;:&quot;available&quot;,&quot;_2&quot;:4},{&quot;_1&quot;:&quot;overriding&quot;,&quot;_2&quot;:1},{&quot;_1&quot;:&quot;properties&quot;,&quot;_2&quot;:1},{&quot;_1&quot;:&quot;implement&quot;,&quot;_2&quot;:2},{&quot;_1&quot;:&quot;more&quot;,&quot;_2&quot;:1},{&quot;_1&quot;:&quot;of&quot;,&quot;_2&quot;:8},{&quot;_1&quot;:&quot;dependencies&quot;,&quot;_2&quot;:1},{&quot;_1&quot;:&quot;by&quot;,&quot;_2&quot;:2},{&quot;_1&quot;:&quot;an&quot;,&quot;_2&quot;:2},{&quot;_1&quot;:&quot;groupbykey&quot;,&quot;_2&quot;:1},{&quot;_1&quot;:&quot;functions&quot;,&quot;_2&quot;:1},{&quot;_1&quot;:&quot;partitioner&quot;,&quot;_2&quot;:1},{&quot;_1&quot;:&quot;and&quot;,&quot;_2&quot;:4},{&quot;_1&quot;:&quot;optionally&quot;,&quot;_2&quot;:2},{&quot;_1&quot;:&quot;pairs&quot;,&quot;_2&quot;:1},{&quot;_1&quot;:&quot;system&quot;,&quot;_2&quot;:1},{&quot;_1&quot;:&quot;compute&quot;,&quot;_2&quot;:1},{&quot;_1&quot;:&quot;elements&quot;,&quot;_2&quot;:1}],&quot;genId&quot;:&quot;1361592423&quot;}\" type=\"text/x-scoped-javascript\">/*<![CDATA[*/req(['../javascripts/notebook/playground','../javascripts/notebook/magic/pieChart'], \n      function(playground, _magicpieChart) {\n        // data ==> data-this (in observable.js's scopedEval) ==> this in JS => { dataId, dataInit, ... }\n        // this ==> scope (in observable.js's scopedEval) ==> this.parentElement ==> div.container below (toHtml)\n\n        playground.call(data,\n                        this\n                        ,\n                        {\n    \"f\": _magicpieChart,\n    \"o\": {\"series\":\"_1\",\"p\":\"_2\",\"width\":600,\"height\":400}\n  }\n  \n                        \n                        \n                      );\n      }\n    );/*]]>*/</script>\n    <div>\n      <span class=\"chart-total-item-count\"><p data-bind=\"text: value\"><script data-this=\"{&quot;valueId&quot;:&quot;anon954271ec8746a6c78950e5c114f0d4f7&quot;,&quot;initialValue&quot;:&quot;106&quot;}\" type=\"text/x-scoped-javascript\">/*<![CDATA[*/\nreq(\n['observable', 'knockout'],\nfunction (O, ko) {\n  ko.applyBindings({\n      value: O.makeObservable(valueId, initialValue)\n    },\n    this\n  );\n});\n        /*]]>*/</script></p> entries total</span>\n      <span class=\"chart-sampling-warning\"><p data-bind=\"text: value\"><script data-this=\"{&quot;valueId&quot;:&quot;anon258fa8e0cdc603434444b6f81db4bc9e&quot;,&quot;initialValue&quot;:&quot;&quot;}\" type=\"text/x-scoped-javascript\">/*<![CDATA[*/\nreq(\n['observable', 'knockout'],\nfunction (O, ko) {\n  ko.applyBindings({\n      value: O.makeObservable(valueId, initialValue)\n    },\n    this\n  );\n});\n        /*]]>*/</script></p></span>\n      <div>\n      </div>\n    </div></div>\n            </div><div class=\"tab-pane\" id=\"tab1758350316-3\">\n            <div>\n      <script data-this=\"{&quot;dataId&quot;:&quot;anon3d4d01effddb3a6167fb7c37d11e5218&quot;,&quot;dataInit&quot;:[{&quot;_1&quot;:&quot;reading&quot;,&quot;_2&quot;:1},{&quot;_1&quot;:&quot;this&quot;,&quot;_2&quot;:1},{&quot;_1&quot;:&quot;paper&quot;,&quot;_2&quot;:1},{&quot;_1&quot;:&quot;doublerddfunctions&quot;,&quot;_2&quot;:1},{&quot;_1&quot;:&quot;collection&quot;,&quot;_2&quot;:1},{&quot;_1&quot;:&quot;internally&quot;,&quot;_2&quot;:1},{&quot;_1&quot;:&quot;is&quot;,&quot;_2&quot;:3},{&quot;_1&quot;:&quot;its&quot;,&quot;_2&quot;:1},{&quot;_1&quot;:&quot;sequencefiles&quot;,&quot;_2&quot;:1},{&quot;_1&quot;:&quot;persist&quot;,&quot;_2&quot;:1},{&quot;_1&quot;:&quot;only&quot;,&quot;_2&quot;:2},{&quot;_1&quot;:&quot;data&quot;,&quot;_2&quot;:1},{&quot;_1&quot;:&quot;abstraction&quot;,&quot;_2&quot;:1},{&quot;_1&quot;:&quot;internals&quot;,&quot;_2&quot;:1},{&quot;_1&quot;:&quot;basic&quot;,&quot;_2&quot;:2},{&quot;_1&quot;:&quot;map&quot;,&quot;_2&quot;:1},{&quot;_1&quot;:&quot;sequencefilerddfunctions&quot;,&quot;_2&quot;:1},{&quot;_1&quot;:&quot;class&quot;,&quot;_2&quot;:1},{&quot;_1&quot;:&quot;methods&quot;,&quot;_2&quot;:1},{&quot;_1&quot;:&quot;scheduling&quot;,&quot;_2&quot;:1},{&quot;_1&quot;:&quot;execution&quot;,&quot;_2&quot;:1},{&quot;_1&quot;:&quot;new&quot;,&quot;_2&quot;:1},{&quot;_1&quot;:&quot;computing&quot;,&quot;_2&quot;:2},{&quot;_1&quot;:&quot;locations&quot;,&quot;_2&quot;:2},{&quot;_1&quot;:&quot;join&quot;,&quot;_2&quot;:1},{&quot;_1&quot;:&quot;other&quot;,&quot;_2&quot;:1},{&quot;_1&quot;:&quot;file&quot;,&quot;_2&quot;:1},{&quot;_1&quot;:&quot;from&quot;,&quot;_2&quot;:1},{&quot;_1&quot;:&quot;details&quot;,&quot;_2&quot;:1},{&quot;_1&quot;:&quot;dataset&quot;,&quot;_2&quot;:1},{&quot;_1&quot;:&quot;immutable&quot;,&quot;_2&quot;:1},{&quot;_1&quot;:&quot;refer&quot;,&quot;_2&quot;:1},{&quot;_1&quot;:&quot;can&quot;,&quot;_2&quot;:3},{&quot;_1&quot;:&quot;doubles&quot;,&quot;_2&quot;:1},{&quot;_1&quot;:&quot;split&quot;,&quot;_2&quot;:2},{&quot;_1&quot;:&quot;filter&quot;,&quot;_2&quot;:1},{&quot;_1&quot;:&quot;operated&quot;,&quot;_2&quot;:1},{&quot;_1&quot;:&quot;keyvalue&quot;,&quot;_2&quot;:2},{&quot;_1&quot;:&quot;eg&quot;,&quot;_2&quot;:3},{&quot;_1&quot;:&quot;as&quot;,&quot;_2&quot;:3},{&quot;_1&quot;:&quot;&quot;,&quot;_2&quot;:5},{&quot;_1&quot;:&quot;operations&quot;,&quot;_2&quot;:4},{&quot;_1&quot;:&quot;done&quot;,&quot;_2&quot;:1},{&quot;_1&quot;:&quot;list&quot;,&quot;_2&quot;:3},{&quot;_1&quot;:&quot;please&quot;,&quot;_2&quot;:1},{&quot;_1&quot;:&quot;users&quot;,&quot;_2&quot;:1},{&quot;_1&quot;:&quot;five&quot;,&quot;_2&quot;:1},{&quot;_1&quot;:&quot;own&quot;,&quot;_2&quot;:1},{&quot;_1&quot;:&quot;rdd&quot;,&quot;_2&quot;:5},{&quot;_1&quot;:&quot;function&quot;,&quot;_2&quot;:1},{&quot;_1&quot;:&quot;addition&quot;,&quot;_2&quot;:1},{&quot;_1&quot;:&quot;itself&quot;,&quot;_2&quot;:1},{&quot;_1&quot;:&quot;characterized&quot;,&quot;_2&quot;:1},{&quot;_1&quot;:&quot;spark&quot;,&quot;_2&quot;:3},{&quot;_1&quot;:&quot;saved&quot;,&quot;_2&quot;:1},{&quot;_1&quot;:&quot;parallel&quot;,&quot;_2&quot;:1},{&quot;_1&quot;:&quot;on&quot;,&quot;_2&quot;:9},{&quot;_1&quot;:&quot;such&quot;,&quot;_2&quot;:2},{&quot;_1&quot;:&quot;each&quot;,&quot;_2&quot;:4},{&quot;_1&quot;:&quot;allowing&quot;,&quot;_2&quot;:1},{&quot;_1&quot;:&quot;partitioned&quot;,&quot;_2&quot;:1},{&quot;_1&quot;:&quot;in&quot;,&quot;_2&quot;:4},{&quot;_1&quot;:&quot;resilient&quot;,&quot;_2&quot;:1},{&quot;_1&quot;:&quot;storage&quot;,&quot;_2&quot;:1},{&quot;_1&quot;:&quot;for&quot;,&quot;_2&quot;:5},{&quot;_1&quot;:&quot;block&quot;,&quot;_2&quot;:1},{&quot;_1&quot;:&quot;indeed&quot;,&quot;_2&quot;:1},{&quot;_1&quot;:&quot;based&quot;,&quot;_2&quot;:1},{&quot;_1&quot;:&quot;distributed&quot;,&quot;_2&quot;:1},{&quot;_1&quot;:&quot;represents&quot;,&quot;_2&quot;:1},{&quot;_1&quot;:&quot;hdfs&quot;,&quot;_2&quot;:1},{&quot;_1&quot;:&quot;hashpartitioned&quot;,&quot;_2&quot;:1},{&quot;_1&quot;:&quot;rdds&quot;,&quot;_2&quot;:7},{&quot;_1&quot;:&quot;way&quot;,&quot;_2&quot;:1},{&quot;_1&quot;:&quot;partitions&quot;,&quot;_2&quot;:1},{&quot;_1&quot;:&quot;the&quot;,&quot;_2&quot;:5},{&quot;_1&quot;:&quot;these&quot;,&quot;_2&quot;:2},{&quot;_1&quot;:&quot;pairrddfunctions&quot;,&quot;_2&quot;:1},{&quot;_1&quot;:&quot;custom&quot;,&quot;_2&quot;:1},{&quot;_1&quot;:&quot;contains&quot;,&quot;_2&quot;:4},{&quot;_1&quot;:&quot;main&quot;,&quot;_2&quot;:1},{&quot;_1&quot;:&quot;that&quot;,&quot;_2&quot;:3},{&quot;_1&quot;:&quot;a&quot;,&quot;_2&quot;:7},{&quot;_1&quot;:&quot;preferred&quot;,&quot;_2&quot;:1},{&quot;_1&quot;:&quot;be&quot;,&quot;_2&quot;:2},{&quot;_1&quot;:&quot;say&quot;,&quot;_2&quot;:1},{&quot;_1&quot;:&quot;all&quot;,&quot;_2&quot;:2},{&quot;_1&quot;:&quot;to&quot;,&quot;_2&quot;:4},{&quot;_1&quot;:&quot;available&quot;,&quot;_2&quot;:4},{&quot;_1&quot;:&quot;overriding&quot;,&quot;_2&quot;:1},{&quot;_1&quot;:&quot;properties&quot;,&quot;_2&quot;:1},{&quot;_1&quot;:&quot;implement&quot;,&quot;_2&quot;:2},{&quot;_1&quot;:&quot;more&quot;,&quot;_2&quot;:1},{&quot;_1&quot;:&quot;of&quot;,&quot;_2&quot;:8},{&quot;_1&quot;:&quot;dependencies&quot;,&quot;_2&quot;:1},{&quot;_1&quot;:&quot;by&quot;,&quot;_2&quot;:2},{&quot;_1&quot;:&quot;an&quot;,&quot;_2&quot;:2},{&quot;_1&quot;:&quot;groupbykey&quot;,&quot;_2&quot;:1},{&quot;_1&quot;:&quot;functions&quot;,&quot;_2&quot;:1},{&quot;_1&quot;:&quot;partitioner&quot;,&quot;_2&quot;:1},{&quot;_1&quot;:&quot;and&quot;,&quot;_2&quot;:4},{&quot;_1&quot;:&quot;optionally&quot;,&quot;_2&quot;:2},{&quot;_1&quot;:&quot;pairs&quot;,&quot;_2&quot;:1},{&quot;_1&quot;:&quot;system&quot;,&quot;_2&quot;:1},{&quot;_1&quot;:&quot;compute&quot;,&quot;_2&quot;:1},{&quot;_1&quot;:&quot;elements&quot;,&quot;_2&quot;:1}],&quot;genId&quot;:&quot;167573485&quot;}\" type=\"text/x-scoped-javascript\">/*<![CDATA[*/req(['../javascripts/notebook/playground','../javascripts/notebook/magic/pivotChart'], \n      function(playground, _magicpivotChart) {\n        // data ==> data-this (in observable.js's scopedEval) ==> this in JS => { dataId, dataInit, ... }\n        // this ==> scope (in observable.js's scopedEval) ==> this.parentElement ==> div.container below (toHtml)\n\n        playground.call(data,\n                        this\n                        ,\n                        {\n    \"f\": _magicpivotChart,\n    \"o\": {\"width\":600,\"height\":400,\"derivedAttributes\":{},\"extraOptions\":{}}\n  }\n  \n                        \n                        \n                      );\n      }\n    );/*]]>*/</script>\n    <div>\n      <span class=\"chart-total-item-count\"><p data-bind=\"text: value\"><script data-this=\"{&quot;valueId&quot;:&quot;anonab870b0ea70c5d8f5bec2032a7053df7&quot;,&quot;initialValue&quot;:&quot;106&quot;}\" type=\"text/x-scoped-javascript\">/*<![CDATA[*/\nreq(\n['observable', 'knockout'],\nfunction (O, ko) {\n  ko.applyBindings({\n      value: O.makeObservable(valueId, initialValue)\n    },\n    this\n  );\n});\n        /*]]>*/</script></p> entries total</span>\n      <span class=\"chart-sampling-warning\"><p data-bind=\"text: value\"><script data-this=\"{&quot;valueId&quot;:&quot;anonbe2ca76161ef30f08dfc72a258ba7657&quot;,&quot;initialValue&quot;:&quot;&quot;}\" type=\"text/x-scoped-javascript\">/*<![CDATA[*/\nreq(\n['observable', 'knockout'],\nfunction (O, ko) {\n  ko.applyBindings({\n      value: O.makeObservable(valueId, initialValue)\n    },\n    this\n  );\n});\n        /*]]>*/</script></p></span>\n      <div>\n      </div>\n    </div></div>\n            </div></div>\n      </div>\n    </div></div>"
          },
          "output_type" : "execute_result",
          "execution_count" : 21,
          "time" : "Took: 1.175s, at 2017-09-06 08:17"
        }
      ]
    },
    {
      "metadata" : {
        "trusted" : true,
        "input_collapsed" : false,
        "collapsed" : false,
        "presentation" : {
          "tabs_state" : "{\n  \"tab_id\": \"#tab2008834640-0\"\n}",
          "pivot_chart_state" : "{\n  \"hiddenAttributes\": [],\n  \"menuLimit\": 200,\n  \"cols\": [],\n  \"rows\": [],\n  \"vals\": [],\n  \"exclusions\": {},\n  \"inclusions\": {},\n  \"unusedAttrsVertical\": 85,\n  \"autoSortUnusedAttrs\": false,\n  \"inclusionsInfo\": {},\n  \"aggregatorName\": \"Count\",\n  \"rendererName\": \"Table\"\n}"
        },
        "id" : "FD2BA5124E9D4A23868A692BA89C8A39"
      },
      "cell_type" : "code",
      "source" : [
        "words.collect().size"
      ],
      "outputs" : [
        {
          "name" : "stdout",
          "output_type" : "stream",
          "text" : "res30: Int = 198\n"
        },
        {
          "metadata" : { },
          "data" : {
            "text/html" : "198"
          },
          "output_type" : "execute_result",
          "execution_count" : 20,
          "time" : "Took: 0.937s, at 2017-09-06 08:14"
        }
      ]
    },
    {
      "metadata" : {
        "id" : "D7EB98FEFBC34C7E809486F9859A2026"
      },
      "cell_type" : "markdown",
      "source" : "#### 2/ Second option :\n\nWe do the same, for each element in RDD, we map with value 1. Then we groupByKey and compute the sum of list of the value"
    },
    {
      "metadata" : {
        "trusted" : true,
        "input_collapsed" : false,
        "collapsed" : false,
        "id" : "2E12AAAC9B784155B4A0950F561B39DE"
      },
      "cell_type" : "code",
      "source" : [
        "val wordCount = words.map(l => (l, 1)).groupByKey().map(l => (l._1, l._2.toList.sum))"
      ],
      "outputs" : [
        {
          "name" : "stdout",
          "output_type" : "stream",
          "text" : "wordCount: org.apache.spark.rdd.RDD[(String, Int)] = MapPartitionsRDD[8] at map at <console>:73\n"
        },
        {
          "metadata" : { },
          "data" : {
            "text/html" : ""
          },
          "output_type" : "execute_result",
          "execution_count" : 11,
          "time" : "Took: 0.826s, at 2017-09-06 07:51"
        }
      ]
    },
    {
      "metadata" : {
        "id" : "C0B137BCDC5B47329C6DC4CF8EF999F6"
      },
      "cell_type" : "markdown",
      "source" : "### For example if we want to find the count of \"is\", we can also do filter"
    },
    {
      "metadata" : {
        "trusted" : true,
        "input_collapsed" : false,
        "collapsed" : false,
        "presentation" : {
          "tabs_state" : "{\n  \"tab_id\": \"#tab1703971617-0\"\n}",
          "pivot_chart_state" : "{\n  \"hiddenAttributes\": [],\n  \"menuLimit\": 200,\n  \"cols\": [],\n  \"rows\": [],\n  \"vals\": [],\n  \"exclusions\": {},\n  \"inclusions\": {},\n  \"unusedAttrsVertical\": 85,\n  \"autoSortUnusedAttrs\": false,\n  \"inclusionsInfo\": {},\n  \"aggregatorName\": \"Count\",\n  \"rendererName\": \"Table\"\n}"
        },
        "id" : "B65D3F596049480D869EE3179A394C70"
      },
      "cell_type" : "code",
      "source" : [
        "wordCount.filter(l => l._1 == \"is\").take(10)"
      ],
      "outputs" : [
        {
          "name" : "stdout",
          "output_type" : "stream",
          "text" : "res18: Array[(String, Int)] = Array((is,3))\n"
        },
        {
          "metadata" : { },
          "data" : {
            "text/html" : "<div>\n      <script data-this=\"{&quot;dataId&quot;:&quot;anon48873fa9988265c1ec3d622540256f01&quot;,&quot;dataInit&quot;:[],&quot;genId&quot;:&quot;1703971617&quot;}\" type=\"text/x-scoped-javascript\">/*<![CDATA[*/req(['../javascripts/notebook/playground','../javascripts/notebook/magic/tabs'], \n      function(playground, _magictabs) {\n        // data ==> data-this (in observable.js's scopedEval) ==> this in JS => { dataId, dataInit, ... }\n        // this ==> scope (in observable.js's scopedEval) ==> this.parentElement ==> div.container below (toHtml)\n\n        playground.call(data,\n                        this\n                        ,\n                        {\n    \"f\": _magictabs,\n    \"o\": {}\n  }\n  \n                        \n                        \n                      );\n      }\n    );/*]]>*/</script>\n    <div>\n      <div>\n        <ul class=\"nav nav-tabs\" id=\"ul1703971617\"><li>\n              <a href=\"#tab1703971617-0\"><i class=\"fa fa-table\"/></a>\n            </li><li>\n              <a href=\"#tab1703971617-1\"><i class=\"fa fa-bar-chart\"/></a>\n            </li><li>\n              <a href=\"#tab1703971617-2\"><i class=\"fa fa-pie-chart\"/></a>\n            </li><li>\n              <a href=\"#tab1703971617-3\"><i class=\"fa fa-cubes\"/></a>\n            </li></ul>\n\n        <div class=\"tab-content\" id=\"tab1703971617\"><div class=\"tab-pane\" id=\"tab1703971617-0\">\n            <div>\n      <script data-this=\"{&quot;dataId&quot;:&quot;anon6f8c8fb7f6f455fdfcfd608900444dff&quot;,&quot;dataInit&quot;:[{&quot;_1&quot;:&quot;is&quot;,&quot;_2&quot;:3}],&quot;genId&quot;:&quot;28913742&quot;}\" type=\"text/x-scoped-javascript\">/*<![CDATA[*/req(['../javascripts/notebook/playground','../javascripts/notebook/magic/tableChart'], \n      function(playground, _magictableChart) {\n        // data ==> data-this (in observable.js's scopedEval) ==> this in JS => { dataId, dataInit, ... }\n        // this ==> scope (in observable.js's scopedEval) ==> this.parentElement ==> div.container below (toHtml)\n\n        playground.call(data,\n                        this\n                        ,\n                        {\n    \"f\": _magictableChart,\n    \"o\": {\"headers\":[\"_1\",\"_2\"],\"width\":600,\"height\":400}\n  }\n  \n                        \n                        \n                      );\n      }\n    );/*]]>*/</script>\n    <div>\n      <span class=\"chart-total-item-count\"><p data-bind=\"text: value\"><script data-this=\"{&quot;valueId&quot;:&quot;anon885ef93db30a238780fca17e7ce953eb&quot;,&quot;initialValue&quot;:&quot;1&quot;}\" type=\"text/x-scoped-javascript\">/*<![CDATA[*/\nreq(\n['observable', 'knockout'],\nfunction (O, ko) {\n  ko.applyBindings({\n      value: O.makeObservable(valueId, initialValue)\n    },\n    this\n  );\n});\n        /*]]>*/</script></p> entries total</span>\n      <span class=\"chart-sampling-warning\"><p data-bind=\"text: value\"><script data-this=\"{&quot;valueId&quot;:&quot;anon76ab370237e60736cfa539aa72442d69&quot;,&quot;initialValue&quot;:&quot;&quot;}\" type=\"text/x-scoped-javascript\">/*<![CDATA[*/\nreq(\n['observable', 'knockout'],\nfunction (O, ko) {\n  ko.applyBindings({\n      value: O.makeObservable(valueId, initialValue)\n    },\n    this\n  );\n});\n        /*]]>*/</script></p></span>\n      <div>\n      </div>\n    </div></div>\n            </div><div class=\"tab-pane\" id=\"tab1703971617-1\">\n            <div>\n      <script data-this=\"{&quot;dataId&quot;:&quot;anon6295c2cd5b4eb8c32dd30aab92ea45bf&quot;,&quot;dataInit&quot;:[{&quot;_1&quot;:&quot;is&quot;,&quot;_2&quot;:3}],&quot;genId&quot;:&quot;1899183167&quot;}\" type=\"text/x-scoped-javascript\">/*<![CDATA[*/req(['../javascripts/notebook/playground','../javascripts/notebook/magic/barChart'], \n      function(playground, _magicbarChart) {\n        // data ==> data-this (in observable.js's scopedEval) ==> this in JS => { dataId, dataInit, ... }\n        // this ==> scope (in observable.js's scopedEval) ==> this.parentElement ==> div.container below (toHtml)\n\n        playground.call(data,\n                        this\n                        ,\n                        {\n    \"f\": _magicbarChart,\n    \"o\": {\"x\":\"_1\",\"y\":\"_2\",\"width\":600,\"height\":400}\n  }\n  \n                        \n                        \n                      );\n      }\n    );/*]]>*/</script>\n    <div>\n      <span class=\"chart-total-item-count\"><p data-bind=\"text: value\"><script data-this=\"{&quot;valueId&quot;:&quot;anon20e27d844069d92540a6432ae5779bf5&quot;,&quot;initialValue&quot;:&quot;1&quot;}\" type=\"text/x-scoped-javascript\">/*<![CDATA[*/\nreq(\n['observable', 'knockout'],\nfunction (O, ko) {\n  ko.applyBindings({\n      value: O.makeObservable(valueId, initialValue)\n    },\n    this\n  );\n});\n        /*]]>*/</script></p> entries total</span>\n      <span class=\"chart-sampling-warning\"><p data-bind=\"text: value\"><script data-this=\"{&quot;valueId&quot;:&quot;anonca0973e4bce9a1a7f61acb5c989c3e1d&quot;,&quot;initialValue&quot;:&quot;&quot;}\" type=\"text/x-scoped-javascript\">/*<![CDATA[*/\nreq(\n['observable', 'knockout'],\nfunction (O, ko) {\n  ko.applyBindings({\n      value: O.makeObservable(valueId, initialValue)\n    },\n    this\n  );\n});\n        /*]]>*/</script></p></span>\n      <div>\n      </div>\n    </div></div>\n            </div><div class=\"tab-pane\" id=\"tab1703971617-2\">\n            <div>\n      <script data-this=\"{&quot;dataId&quot;:&quot;anon7d817428881a86197729e0dd1e73ca6d&quot;,&quot;dataInit&quot;:[{&quot;_1&quot;:&quot;is&quot;,&quot;_2&quot;:3}],&quot;genId&quot;:&quot;862373722&quot;}\" type=\"text/x-scoped-javascript\">/*<![CDATA[*/req(['../javascripts/notebook/playground','../javascripts/notebook/magic/pieChart'], \n      function(playground, _magicpieChart) {\n        // data ==> data-this (in observable.js's scopedEval) ==> this in JS => { dataId, dataInit, ... }\n        // this ==> scope (in observable.js's scopedEval) ==> this.parentElement ==> div.container below (toHtml)\n\n        playground.call(data,\n                        this\n                        ,\n                        {\n    \"f\": _magicpieChart,\n    \"o\": {\"series\":\"_1\",\"p\":\"_2\",\"width\":600,\"height\":400}\n  }\n  \n                        \n                        \n                      );\n      }\n    );/*]]>*/</script>\n    <div>\n      <span class=\"chart-total-item-count\"><p data-bind=\"text: value\"><script data-this=\"{&quot;valueId&quot;:&quot;anon40b6181312e1aa935a02838465043877&quot;,&quot;initialValue&quot;:&quot;1&quot;}\" type=\"text/x-scoped-javascript\">/*<![CDATA[*/\nreq(\n['observable', 'knockout'],\nfunction (O, ko) {\n  ko.applyBindings({\n      value: O.makeObservable(valueId, initialValue)\n    },\n    this\n  );\n});\n        /*]]>*/</script></p> entries total</span>\n      <span class=\"chart-sampling-warning\"><p data-bind=\"text: value\"><script data-this=\"{&quot;valueId&quot;:&quot;anonc2f97196f38976175325e4d599d44cf7&quot;,&quot;initialValue&quot;:&quot;&quot;}\" type=\"text/x-scoped-javascript\">/*<![CDATA[*/\nreq(\n['observable', 'knockout'],\nfunction (O, ko) {\n  ko.applyBindings({\n      value: O.makeObservable(valueId, initialValue)\n    },\n    this\n  );\n});\n        /*]]>*/</script></p></span>\n      <div>\n      </div>\n    </div></div>\n            </div><div class=\"tab-pane\" id=\"tab1703971617-3\">\n            <div>\n      <script data-this=\"{&quot;dataId&quot;:&quot;anonf56c3a9435b72d5d7b2cec384ca79f01&quot;,&quot;dataInit&quot;:[{&quot;_1&quot;:&quot;is&quot;,&quot;_2&quot;:3}],&quot;genId&quot;:&quot;2015393924&quot;}\" type=\"text/x-scoped-javascript\">/*<![CDATA[*/req(['../javascripts/notebook/playground','../javascripts/notebook/magic/pivotChart'], \n      function(playground, _magicpivotChart) {\n        // data ==> data-this (in observable.js's scopedEval) ==> this in JS => { dataId, dataInit, ... }\n        // this ==> scope (in observable.js's scopedEval) ==> this.parentElement ==> div.container below (toHtml)\n\n        playground.call(data,\n                        this\n                        ,\n                        {\n    \"f\": _magicpivotChart,\n    \"o\": {\"width\":600,\"height\":400,\"derivedAttributes\":{},\"extraOptions\":{}}\n  }\n  \n                        \n                        \n                      );\n      }\n    );/*]]>*/</script>\n    <div>\n      <span class=\"chart-total-item-count\"><p data-bind=\"text: value\"><script data-this=\"{&quot;valueId&quot;:&quot;anoncc263b69cdb4854d833317f308d1b1b8&quot;,&quot;initialValue&quot;:&quot;1&quot;}\" type=\"text/x-scoped-javascript\">/*<![CDATA[*/\nreq(\n['observable', 'knockout'],\nfunction (O, ko) {\n  ko.applyBindings({\n      value: O.makeObservable(valueId, initialValue)\n    },\n    this\n  );\n});\n        /*]]>*/</script></p> entries total</span>\n      <span class=\"chart-sampling-warning\"><p data-bind=\"text: value\"><script data-this=\"{&quot;valueId&quot;:&quot;anond88d4713ffd05d6cc3358f488ead47a1&quot;,&quot;initialValue&quot;:&quot;&quot;}\" type=\"text/x-scoped-javascript\">/*<![CDATA[*/\nreq(\n['observable', 'knockout'],\nfunction (O, ko) {\n  ko.applyBindings({\n      value: O.makeObservable(valueId, initialValue)\n    },\n    this\n  );\n});\n        /*]]>*/</script></p></span>\n      <div>\n      </div>\n    </div></div>\n            </div></div>\n      </div>\n    </div></div>"
          },
          "output_type" : "execute_result",
          "execution_count" : 12,
          "time" : "Took: 1.727s, at 2017-09-06 07:51"
        }
      ]
    },
    {
      "metadata" : {
        "id" : "3B8E0DF4D87F4A07AD9439F2DA1421C3"
      },
      "cell_type" : "markdown",
      "source" : "### So without any filter, the output will be "
    },
    {
      "metadata" : {
        "trusted" : true,
        "input_collapsed" : false,
        "collapsed" : false,
        "presentation" : {
          "tabs_state" : "{\n  \"tab_id\": \"#tab591644623-2\"\n}",
          "pivot_chart_state" : "{\n  \"hiddenAttributes\": [],\n  \"menuLimit\": 200,\n  \"cols\": [],\n  \"rows\": [],\n  \"vals\": [],\n  \"exclusions\": {},\n  \"inclusions\": {},\n  \"unusedAttrsVertical\": 85,\n  \"autoSortUnusedAttrs\": false,\n  \"inclusionsInfo\": {},\n  \"aggregatorName\": \"Count\",\n  \"rendererName\": \"Table\"\n}"
        },
        "id" : "AA346D5DB42C487BA3DA2705D902A04A"
      },
      "cell_type" : "code",
      "source" : [
        "wordCount.take(10)"
      ],
      "outputs" : [
        {
          "name" : "stdout",
          "output_type" : "stream",
          "text" : "res20: Array[(String, Int)] = Array((reading,1), (this,1), (paper,1), (doublerddfunctions,1), (collection,1), (internally,1), (its,1), (is,3), (sequencefiles,1), (persist,1))\n"
        },
        {
          "metadata" : { },
          "data" : {
            "text/html" : "<div>\n      <script data-this=\"{&quot;dataId&quot;:&quot;anon630897e279c6a375cb03057bf466de2f&quot;,&quot;dataInit&quot;:[],&quot;genId&quot;:&quot;591644623&quot;}\" type=\"text/x-scoped-javascript\">/*<![CDATA[*/req(['../javascripts/notebook/playground','../javascripts/notebook/magic/tabs'], \n      function(playground, _magictabs) {\n        // data ==> data-this (in observable.js's scopedEval) ==> this in JS => { dataId, dataInit, ... }\n        // this ==> scope (in observable.js's scopedEval) ==> this.parentElement ==> div.container below (toHtml)\n\n        playground.call(data,\n                        this\n                        ,\n                        {\n    \"f\": _magictabs,\n    \"o\": {}\n  }\n  \n                        \n                        \n                      );\n      }\n    );/*]]>*/</script>\n    <div>\n      <div>\n        <ul class=\"nav nav-tabs\" id=\"ul591644623\"><li>\n              <a href=\"#tab591644623-0\"><i class=\"fa fa-table\"/></a>\n            </li><li>\n              <a href=\"#tab591644623-1\"><i class=\"fa fa-bar-chart\"/></a>\n            </li><li>\n              <a href=\"#tab591644623-2\"><i class=\"fa fa-pie-chart\"/></a>\n            </li><li>\n              <a href=\"#tab591644623-3\"><i class=\"fa fa-cubes\"/></a>\n            </li></ul>\n\n        <div class=\"tab-content\" id=\"tab591644623\"><div class=\"tab-pane\" id=\"tab591644623-0\">\n            <div>\n      <script data-this=\"{&quot;dataId&quot;:&quot;anon9425f0ad66fab4c287396dd89bb57459&quot;,&quot;dataInit&quot;:[{&quot;_1&quot;:&quot;reading&quot;,&quot;_2&quot;:1},{&quot;_1&quot;:&quot;this&quot;,&quot;_2&quot;:1},{&quot;_1&quot;:&quot;paper&quot;,&quot;_2&quot;:1},{&quot;_1&quot;:&quot;doublerddfunctions&quot;,&quot;_2&quot;:1},{&quot;_1&quot;:&quot;collection&quot;,&quot;_2&quot;:1},{&quot;_1&quot;:&quot;internally&quot;,&quot;_2&quot;:1},{&quot;_1&quot;:&quot;its&quot;,&quot;_2&quot;:1},{&quot;_1&quot;:&quot;is&quot;,&quot;_2&quot;:3},{&quot;_1&quot;:&quot;sequencefiles&quot;,&quot;_2&quot;:1},{&quot;_1&quot;:&quot;persist&quot;,&quot;_2&quot;:1}],&quot;genId&quot;:&quot;489436867&quot;}\" type=\"text/x-scoped-javascript\">/*<![CDATA[*/req(['../javascripts/notebook/playground','../javascripts/notebook/magic/tableChart'], \n      function(playground, _magictableChart) {\n        // data ==> data-this (in observable.js's scopedEval) ==> this in JS => { dataId, dataInit, ... }\n        // this ==> scope (in observable.js's scopedEval) ==> this.parentElement ==> div.container below (toHtml)\n\n        playground.call(data,\n                        this\n                        ,\n                        {\n    \"f\": _magictableChart,\n    \"o\": {\"headers\":[\"_1\",\"_2\"],\"width\":600,\"height\":400}\n  }\n  \n                        \n                        \n                      );\n      }\n    );/*]]>*/</script>\n    <div>\n      <span class=\"chart-total-item-count\"><p data-bind=\"text: value\"><script data-this=\"{&quot;valueId&quot;:&quot;anon6eddad42526994be71dd5355765927cd&quot;,&quot;initialValue&quot;:&quot;10&quot;}\" type=\"text/x-scoped-javascript\">/*<![CDATA[*/\nreq(\n['observable', 'knockout'],\nfunction (O, ko) {\n  ko.applyBindings({\n      value: O.makeObservable(valueId, initialValue)\n    },\n    this\n  );\n});\n        /*]]>*/</script></p> entries total</span>\n      <span class=\"chart-sampling-warning\"><p data-bind=\"text: value\"><script data-this=\"{&quot;valueId&quot;:&quot;anon4021cb392fb2b8480011710ad0236060&quot;,&quot;initialValue&quot;:&quot;&quot;}\" type=\"text/x-scoped-javascript\">/*<![CDATA[*/\nreq(\n['observable', 'knockout'],\nfunction (O, ko) {\n  ko.applyBindings({\n      value: O.makeObservable(valueId, initialValue)\n    },\n    this\n  );\n});\n        /*]]>*/</script></p></span>\n      <div>\n      </div>\n    </div></div>\n            </div><div class=\"tab-pane\" id=\"tab591644623-1\">\n            <div>\n      <script data-this=\"{&quot;dataId&quot;:&quot;anond3335f9dd7184bbfa7bbe6c4617595a2&quot;,&quot;dataInit&quot;:[{&quot;_1&quot;:&quot;reading&quot;,&quot;_2&quot;:1},{&quot;_1&quot;:&quot;this&quot;,&quot;_2&quot;:1},{&quot;_1&quot;:&quot;paper&quot;,&quot;_2&quot;:1},{&quot;_1&quot;:&quot;doublerddfunctions&quot;,&quot;_2&quot;:1},{&quot;_1&quot;:&quot;collection&quot;,&quot;_2&quot;:1},{&quot;_1&quot;:&quot;internally&quot;,&quot;_2&quot;:1},{&quot;_1&quot;:&quot;its&quot;,&quot;_2&quot;:1},{&quot;_1&quot;:&quot;is&quot;,&quot;_2&quot;:3},{&quot;_1&quot;:&quot;sequencefiles&quot;,&quot;_2&quot;:1},{&quot;_1&quot;:&quot;persist&quot;,&quot;_2&quot;:1}],&quot;genId&quot;:&quot;341787844&quot;}\" type=\"text/x-scoped-javascript\">/*<![CDATA[*/req(['../javascripts/notebook/playground','../javascripts/notebook/magic/barChart'], \n      function(playground, _magicbarChart) {\n        // data ==> data-this (in observable.js's scopedEval) ==> this in JS => { dataId, dataInit, ... }\n        // this ==> scope (in observable.js's scopedEval) ==> this.parentElement ==> div.container below (toHtml)\n\n        playground.call(data,\n                        this\n                        ,\n                        {\n    \"f\": _magicbarChart,\n    \"o\": {\"x\":\"_1\",\"y\":\"_2\",\"width\":600,\"height\":400}\n  }\n  \n                        \n                        \n                      );\n      }\n    );/*]]>*/</script>\n    <div>\n      <span class=\"chart-total-item-count\"><p data-bind=\"text: value\"><script data-this=\"{&quot;valueId&quot;:&quot;anon007f86dc48bf7bb9a2125c33316ea16c&quot;,&quot;initialValue&quot;:&quot;10&quot;}\" type=\"text/x-scoped-javascript\">/*<![CDATA[*/\nreq(\n['observable', 'knockout'],\nfunction (O, ko) {\n  ko.applyBindings({\n      value: O.makeObservable(valueId, initialValue)\n    },\n    this\n  );\n});\n        /*]]>*/</script></p> entries total</span>\n      <span class=\"chart-sampling-warning\"><p data-bind=\"text: value\"><script data-this=\"{&quot;valueId&quot;:&quot;anon5642c2f1256ecb8b6620ab0c202f325e&quot;,&quot;initialValue&quot;:&quot;&quot;}\" type=\"text/x-scoped-javascript\">/*<![CDATA[*/\nreq(\n['observable', 'knockout'],\nfunction (O, ko) {\n  ko.applyBindings({\n      value: O.makeObservable(valueId, initialValue)\n    },\n    this\n  );\n});\n        /*]]>*/</script></p></span>\n      <div>\n      </div>\n    </div></div>\n            </div><div class=\"tab-pane\" id=\"tab591644623-2\">\n            <div>\n      <script data-this=\"{&quot;dataId&quot;:&quot;anondf3e40565c06381bc451f7fa188fc6e9&quot;,&quot;dataInit&quot;:[{&quot;_1&quot;:&quot;reading&quot;,&quot;_2&quot;:1},{&quot;_1&quot;:&quot;this&quot;,&quot;_2&quot;:1},{&quot;_1&quot;:&quot;paper&quot;,&quot;_2&quot;:1},{&quot;_1&quot;:&quot;doublerddfunctions&quot;,&quot;_2&quot;:1},{&quot;_1&quot;:&quot;collection&quot;,&quot;_2&quot;:1},{&quot;_1&quot;:&quot;internally&quot;,&quot;_2&quot;:1},{&quot;_1&quot;:&quot;its&quot;,&quot;_2&quot;:1},{&quot;_1&quot;:&quot;is&quot;,&quot;_2&quot;:3},{&quot;_1&quot;:&quot;sequencefiles&quot;,&quot;_2&quot;:1},{&quot;_1&quot;:&quot;persist&quot;,&quot;_2&quot;:1}],&quot;genId&quot;:&quot;1131572791&quot;}\" type=\"text/x-scoped-javascript\">/*<![CDATA[*/req(['../javascripts/notebook/playground','../javascripts/notebook/magic/pieChart'], \n      function(playground, _magicpieChart) {\n        // data ==> data-this (in observable.js's scopedEval) ==> this in JS => { dataId, dataInit, ... }\n        // this ==> scope (in observable.js's scopedEval) ==> this.parentElement ==> div.container below (toHtml)\n\n        playground.call(data,\n                        this\n                        ,\n                        {\n    \"f\": _magicpieChart,\n    \"o\": {\"series\":\"_1\",\"p\":\"_2\",\"width\":600,\"height\":400}\n  }\n  \n                        \n                        \n                      );\n      }\n    );/*]]>*/</script>\n    <div>\n      <span class=\"chart-total-item-count\"><p data-bind=\"text: value\"><script data-this=\"{&quot;valueId&quot;:&quot;anon77ea9299036396f9270e4455107dbb27&quot;,&quot;initialValue&quot;:&quot;10&quot;}\" type=\"text/x-scoped-javascript\">/*<![CDATA[*/\nreq(\n['observable', 'knockout'],\nfunction (O, ko) {\n  ko.applyBindings({\n      value: O.makeObservable(valueId, initialValue)\n    },\n    this\n  );\n});\n        /*]]>*/</script></p> entries total</span>\n      <span class=\"chart-sampling-warning\"><p data-bind=\"text: value\"><script data-this=\"{&quot;valueId&quot;:&quot;anon7690532e5793c8b338bef13ef8a9c920&quot;,&quot;initialValue&quot;:&quot;&quot;}\" type=\"text/x-scoped-javascript\">/*<![CDATA[*/\nreq(\n['observable', 'knockout'],\nfunction (O, ko) {\n  ko.applyBindings({\n      value: O.makeObservable(valueId, initialValue)\n    },\n    this\n  );\n});\n        /*]]>*/</script></p></span>\n      <div>\n      </div>\n    </div></div>\n            </div><div class=\"tab-pane\" id=\"tab591644623-3\">\n            <div>\n      <script data-this=\"{&quot;dataId&quot;:&quot;anon0664163b7374fb4c96d068f3211b8a36&quot;,&quot;dataInit&quot;:[{&quot;_1&quot;:&quot;reading&quot;,&quot;_2&quot;:1},{&quot;_1&quot;:&quot;this&quot;,&quot;_2&quot;:1},{&quot;_1&quot;:&quot;paper&quot;,&quot;_2&quot;:1},{&quot;_1&quot;:&quot;doublerddfunctions&quot;,&quot;_2&quot;:1},{&quot;_1&quot;:&quot;collection&quot;,&quot;_2&quot;:1},{&quot;_1&quot;:&quot;internally&quot;,&quot;_2&quot;:1},{&quot;_1&quot;:&quot;its&quot;,&quot;_2&quot;:1},{&quot;_1&quot;:&quot;is&quot;,&quot;_2&quot;:3},{&quot;_1&quot;:&quot;sequencefiles&quot;,&quot;_2&quot;:1},{&quot;_1&quot;:&quot;persist&quot;,&quot;_2&quot;:1}],&quot;genId&quot;:&quot;188117633&quot;}\" type=\"text/x-scoped-javascript\">/*<![CDATA[*/req(['../javascripts/notebook/playground','../javascripts/notebook/magic/pivotChart'], \n      function(playground, _magicpivotChart) {\n        // data ==> data-this (in observable.js's scopedEval) ==> this in JS => { dataId, dataInit, ... }\n        // this ==> scope (in observable.js's scopedEval) ==> this.parentElement ==> div.container below (toHtml)\n\n        playground.call(data,\n                        this\n                        ,\n                        {\n    \"f\": _magicpivotChart,\n    \"o\": {\"width\":600,\"height\":400,\"derivedAttributes\":{},\"extraOptions\":{}}\n  }\n  \n                        \n                        \n                      );\n      }\n    );/*]]>*/</script>\n    <div>\n      <span class=\"chart-total-item-count\"><p data-bind=\"text: value\"><script data-this=\"{&quot;valueId&quot;:&quot;anoneb9a82fec60d9a9b75ac6ec01e08ee93&quot;,&quot;initialValue&quot;:&quot;10&quot;}\" type=\"text/x-scoped-javascript\">/*<![CDATA[*/\nreq(\n['observable', 'knockout'],\nfunction (O, ko) {\n  ko.applyBindings({\n      value: O.makeObservable(valueId, initialValue)\n    },\n    this\n  );\n});\n        /*]]>*/</script></p> entries total</span>\n      <span class=\"chart-sampling-warning\"><p data-bind=\"text: value\"><script data-this=\"{&quot;valueId&quot;:&quot;anona638cd258396861d4b8705648b55273b&quot;,&quot;initialValue&quot;:&quot;&quot;}\" type=\"text/x-scoped-javascript\">/*<![CDATA[*/\nreq(\n['observable', 'knockout'],\nfunction (O, ko) {\n  ko.applyBindings({\n      value: O.makeObservable(valueId, initialValue)\n    },\n    this\n  );\n});\n        /*]]>*/</script></p></span>\n      <div>\n      </div>\n    </div></div>\n            </div></div>\n      </div>\n    </div></div>"
          },
          "output_type" : "execute_result",
          "execution_count" : 13,
          "time" : "Took: 0.935s, at 2017-09-06 07:52"
        }
      ]
    },
    {
      "metadata" : {
        "trusted" : true,
        "input_collapsed" : false,
        "collapsed" : true,
        "id" : "95ED7161E4CC48FB89BD6F60B0528C7A"
      },
      "cell_type" : "markdown",
      "source" : "### From RDD to DataFrame and Dataset\n\nWe can convert RDD to Dataset or DataFrame. In fact, in Spark, these 3 APIs (RDD, DataFrame ans Dataset) are the three types officially used. They can convert to each other. \n\nTo understand thoroughly when to use them, you can read at https://databricks.com/blog/2016/07/14/a-tale-of-three-apache-spark-apis-rdds-dataframes-and-datasets.html"
    },
    {
      "metadata" : {
        "id" : "0AB3728226A9467DB5FFE11D54EECEC9"
      },
      "cell_type" : "markdown",
      "source" : "#### From RDD to DataFrame"
    },
    {
      "metadata" : {
        "trusted" : true,
        "input_collapsed" : false,
        "collapsed" : false,
        "id" : "D565BD70228545D38AAA6730541DB835"
      },
      "cell_type" : "code",
      "source" : [
        "val sqlContext = new SQLContext(sc) \n",
        "import sqlContext.implicits._\n",
        "\n",
        "val df = wordCount.toDF(\"word\", \"count\")"
      ],
      "outputs" : [
        {
          "name" : "stdout",
          "output_type" : "stream",
          "text" : "<console>:75: warning: constructor SQLContext in class SQLContext is deprecated: Use SparkSession.builder instead\n       val sqlContext = new SQLContext(sc)\n                        ^\nsqlContext: org.apache.spark.sql.SQLContext = org.apache.spark.sql.SQLContext@61818e83\nimport sqlContext.implicits._\ndf: org.apache.spark.sql.DataFrame = [word: string, count: int]\n"
        },
        {
          "metadata" : { },
          "data" : {
            "text/html" : ""
          },
          "output_type" : "execute_result",
          "execution_count" : 14,
          "time" : "Took: 2.548s, at 2017-09-06 07:52"
        }
      ]
    },
    {
      "metadata" : {
        "trusted" : true,
        "input_collapsed" : false,
        "collapsed" : false,
        "id" : "DDF142AB89714CAA8083D7763D14C05A"
      },
      "cell_type" : "code",
      "source" : [
        "df.show()"
      ],
      "outputs" : [
        {
          "name" : "stdout",
          "output_type" : "stream",
          "text" : "+--------------------+-----+\n|                word|count|\n+--------------------+-----+\n|             reading|    1|\n|                this|    1|\n|               paper|    1|\n|  doublerddfunctions|    1|\n|          collection|    1|\n|          internally|    1|\n|                 its|    1|\n|                  is|    3|\n|       sequencefiles|    1|\n|             persist|    1|\n|                only|    2|\n|                data|    1|\n|         abstraction|    1|\n|           internals|    1|\n|               basic|    2|\n|                 map|    1|\n|sequencefilerddfu...|    1|\n|               class|    1|\n|             methods|    1|\n|          scheduling|    1|\n+--------------------+-----+\nonly showing top 20 rows\n\n"
        },
        {
          "metadata" : { },
          "data" : {
            "text/html" : ""
          },
          "output_type" : "execute_result",
          "execution_count" : 21,
          "time" : "Took: 1.570s, at 2017-08-29 12:50"
        }
      ]
    },
    {
      "metadata" : {
        "id" : "7E32A51004054ABB8873F4DE873E86E3"
      },
      "cell_type" : "markdown",
      "source" : "#### From RDD to Dataset"
    },
    {
      "metadata" : {
        "trusted" : true,
        "input_collapsed" : false,
        "collapsed" : false,
        "id" : "04161E75C8DE414F80DB56E6FC3BAA04"
      },
      "cell_type" : "code",
      "source" : [
        "import org.apache.spark.sql.types.{DoubleType, StringType, StructField, StructType}\n",
        "import org.apache.spark.sql.{Row, SparkSession}"
      ],
      "outputs" : [
        {
          "name" : "stdout",
          "output_type" : "stream",
          "text" : "import org.apache.spark.sql.types.{DoubleType, StringType, StructField, StructType}\nimport org.apache.spark.sql.{Row, SparkSession}\n"
        },
        {
          "metadata" : { },
          "data" : {
            "text/html" : ""
          },
          "output_type" : "execute_result",
          "execution_count" : 15,
          "time" : "Took: 0.672s, at 2017-09-06 07:52"
        }
      ]
    },
    {
      "metadata" : {
        "trusted" : true,
        "input_collapsed" : false,
        "collapsed" : false,
        "id" : "9E44A8AFEB4C4CDD99479C2882A78F8C"
      },
      "cell_type" : "code",
      "source" : [
        "val sparkSession = SparkSession.builder\n",
        "      .master(\"local\")\n",
        "      .appName(\"example\")\n",
        "      .getOrCreate()\n",
        "\n",
        "val sparkContext = sparkSession.sparkContext\n",
        "import sparkSession.implicits._"
      ],
      "outputs" : [
        {
          "name" : "stdout",
          "output_type" : "stream",
          "text" : "sparkSession: org.apache.spark.sql.SparkSession = org.apache.spark.sql.SparkSession@4795dc43\nsparkContext: org.apache.spark.SparkContext = org.apache.spark.SparkContext@1db78f2b\nimport sparkSession.implicits._\n"
        },
        {
          "metadata" : { },
          "data" : {
            "text/html" : ""
          },
          "output_type" : "execute_result",
          "execution_count" : 16,
          "time" : "Took: 1.285s, at 2017-09-06 07:52"
        }
      ]
    },
    {
      "metadata" : {
        "trusted" : true,
        "input_collapsed" : false,
        "collapsed" : false,
        "id" : "3263428CFDB047E984D0E9F30CA17B50"
      },
      "cell_type" : "code",
      "source" : [
        "val dataset = words_with_nbOccurences.toDS()"
      ],
      "outputs" : [
        {
          "name" : "stdout",
          "output_type" : "stream",
          "text" : "<console>:79: error: not found: value words_with_nbOccurences\n       val dataset = words_with_nbOccurences.toDS()\n                     ^\n"
        }
      ]
    },
    {
      "metadata" : {
        "trusted" : true,
        "input_collapsed" : false,
        "collapsed" : false,
        "id" : "7B4438CBC26D43A99D7E15A5B444DF5A"
      },
      "cell_type" : "code",
      "source" : [
        "dataset.show()"
      ],
      "outputs" : [
        {
          "name" : "stdout",
          "output_type" : "stream",
          "text" : "+--------------------+---+\n|                  _1| _2|\n+--------------------+---+\n|             reading|  1|\n|                this|  1|\n|               paper|  1|\n|  doublerddfunctions|  1|\n|          collection|  1|\n|          internally|  1|\n|                 its|  1|\n|                  is|  3|\n|       sequencefiles|  1|\n|             persist|  1|\n|                only|  2|\n|                data|  1|\n|         abstraction|  1|\n|           internals|  1|\n|               basic|  2|\n|                 map|  1|\n|sequencefilerddfu...|  1|\n|               class|  1|\n|             methods|  1|\n|          scheduling|  1|\n+--------------------+---+\nonly showing top 20 rows\n\n"
        },
        {
          "metadata" : { },
          "data" : {
            "text/html" : ""
          },
          "output_type" : "execute_result",
          "execution_count" : 4,
          "time" : "Took: 1.031s, at 2017-08-29 12:55"
        }
      ]
    },
    {
      "metadata" : {
        "trusted" : true,
        "input_collapsed" : false,
        "collapsed" : true,
        "id" : "C56176E7A0994D17843ED011185688CA"
      },
      "cell_type" : "code",
      "source" : [
        ""
      ],
      "outputs" : [ ]
    }
  ],
  "nbformat" : 4
}