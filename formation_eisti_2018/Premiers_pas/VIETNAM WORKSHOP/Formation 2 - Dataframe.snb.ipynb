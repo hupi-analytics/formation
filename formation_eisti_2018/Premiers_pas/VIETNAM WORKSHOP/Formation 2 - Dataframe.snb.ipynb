{
  "metadata" : {
    "id" : "4b46caa3-27ef-4543-81a3-c1eddb0c9ffa",
    "name" : "Formation 2 - Dataframe",
    "user_save_timestamp" : "1970-01-01T00:00:00.000Z",
    "auto_save_timestamp" : "1970-01-01T00:00:00.000Z",
    "language_info" : {
      "name" : "scala",
      "file_extension" : "scala",
      "codemirror_mode" : "text/x-scala"
    },
    "trusted" : true,
    "sparkNotebook" : null,
    "customLocalRepo" : null,
    "customRepos" : null,
    "customDeps" : null,
    "customImports" : null,
    "customArgs" : null,
    "customSparkConf" : null,
    "customVars" : null
  },
  "cells" : [
    {
      "metadata" : {
        "id" : "104BF1691D5F479E9FCACAD3711ACE42"
      },
      "cell_type" : "markdown",
      "source" : "<img src=http://fd.perso.eisti.fr/Logos/TORUS2.png>"
    },
    {
      "metadata" : {
        "id" : "9E3A8017789F4FB7886805BD5AA2655F"
      },
      "cell_type" : "markdown",
      "source" : "Another type of data abstraction which Spark officially provides now to use is DataFrame. \n\n\"a DataFrame is a distributed collection of data organized into named columns. It is conceptually equivalent to a table in a relational database or a data frame in R/Python, but with richer optimizations under the hood. DataFrames can be constructed from a wide array of sources such as: structured data files, tables in Hive, external databases, or existing RDDs.\" (source : https://databricks.com/blog/2015/02/17/introducing-dataframes-in-spark-for-large-scale-data-science.html)\n\nTo understand how DataFrame works, let's take an example from Databricks (https://docs.databricks.com/spark/latest/dataframes-datasets/introduction-to-dataframes-scala.html)"
    },
    {
      "metadata" : {
        "id" : "0DC3A6AECD924F23952254E7D984217C"
      },
      "cell_type" : "markdown",
      "source" : "### Firstly, we create a DataFrame "
    },
    {
      "metadata" : {
        "trusted" : true,
        "input_collapsed" : false,
        "collapsed" : false,
        "id" : "27C95D9BA61B402B9AF81E1C152DEDD2"
      },
      "cell_type" : "code",
      "source" : [
        "// Create the case classes for our domain\n",
        "case class Department(id: String, name: String)\n",
        "case class Employee(firstName: String, lastName: String, email: String, salary: Int)\n",
        "case class DepartmentWithEmployees(department: Department, employees: Seq[Employee])"
      ],
      "outputs" : [
        {
          "name" : "stdout",
          "output_type" : "stream",
          "text" : "defined class Department\ndefined class Employee\ndefined class DepartmentWithEmployees\n"
        },
        {
          "metadata" : { },
          "data" : {
            "text/html" : ""
          },
          "output_type" : "execute_result",
          "execution_count" : 1,
          "time" : "Took: 1.656s, at 2018-01-29 15:26"
        }
      ]
    },
    {
      "metadata" : {
        "trusted" : true,
        "input_collapsed" : false,
        "collapsed" : false,
        "id" : "0D3F8AD16C1D41D68DE82A02B4BD8C6F"
      },
      "cell_type" : "code",
      "source" : [
        "// Create the Departments\n",
        "val department1 = new Department(\"123456\", \"Computer Science\")\n",
        "val department2 = new Department(\"789012\", \"Mechanical Engineering\")\n",
        "val department3 = new Department(\"345678\", \"Theater and Drama\")\n",
        "val department4 = new Department(\"901234\", \"Indoor Recreation\")"
      ],
      "outputs" : [
        {
          "name" : "stdout",
          "output_type" : "stream",
          "text" : "department1: Department = Department(123456,Computer Science)\ndepartment2: Department = Department(789012,Mechanical Engineering)\ndepartment3: Department = Department(345678,Theater and Drama)\ndepartment4: Department = Department(901234,Indoor Recreation)\n"
        },
        {
          "metadata" : { },
          "data" : {
            "text/html" : ""
          },
          "output_type" : "execute_result",
          "execution_count" : 2,
          "time" : "Took: 1.129s, at 2018-01-29 15:26"
        }
      ]
    },
    {
      "metadata" : {
        "trusted" : true,
        "input_collapsed" : false,
        "collapsed" : false,
        "id" : "F55045AD4F6842F18B067AAA4FB1063B"
      },
      "cell_type" : "code",
      "source" : [
        "// Create the Employees\n",
        "val employee1 = new Employee(\"michael\", \"armbrust\", \"michael@berkeley.edu\", 100000)\n",
        "val employee2 = new Employee(\"xiangrui\", \"meng\", \"xiangrui@stanford.edu\", 120000)\n",
        "val employee3 = new Employee(\"matei\", null, \"matei@waterloo.edu\", 140000)\n",
        "val employee4 = new Employee(null, \"wendell\", \"wendell@princeton.edu\", 160000)"
      ],
      "outputs" : [
        {
          "name" : "stdout",
          "output_type" : "stream",
          "text" : "employee1: Employee = Employee(michael,armbrust,michael@berkeley.edu,100000)\nemployee2: Employee = Employee(xiangrui,meng,xiangrui@stanford.edu,120000)\nemployee3: Employee = Employee(matei,null,matei@waterloo.edu,140000)\nemployee4: Employee = Employee(null,wendell,wendell@princeton.edu,160000)\n"
        },
        {
          "metadata" : { },
          "data" : {
            "text/html" : ""
          },
          "output_type" : "execute_result",
          "execution_count" : 3,
          "time" : "Took: 0.941s, at 2018-01-29 15:26"
        }
      ]
    },
    {
      "metadata" : {
        "trusted" : true,
        "input_collapsed" : false,
        "collapsed" : false,
        "id" : "9839BBBBE8A748CB8FF4DE601226EEAE"
      },
      "cell_type" : "code",
      "source" : [
        "// Create the DepartmentWithEmployees instances from Departments and Employees\n",
        "val departmentWithEmployees1 = new DepartmentWithEmployees(department1, Seq(employee1, employee2))\n",
        "val departmentWithEmployees2 = new DepartmentWithEmployees(department2, Seq(employee3, employee4))\n",
        "val departmentWithEmployees3 = new DepartmentWithEmployees(department3, Seq(employee1, employee4))\n",
        "val departmentWithEmployees4 = new DepartmentWithEmployees(department4, Seq(employee2, employee3))"
      ],
      "outputs" : [
        {
          "name" : "stdout",
          "output_type" : "stream",
          "text" : "departmentWithEmployees1: DepartmentWithEmployees = DepartmentWithEmployees(Department(123456,Computer Science),List(Employee(michael,armbrust,michael@berkeley.edu,100000), Employee(xiangrui,meng,xiangrui@stanford.edu,120000)))\ndepartmentWithEmployees2: DepartmentWithEmployees = DepartmentWithEmployees(Department(789012,Mechanical Engineering),List(Employee(matei,null,matei@waterloo.edu,140000), Employee(null,wendell,wendell@princeton.edu,160000)))\ndepartmentWithEmployees3: DepartmentWithEmployees = DepartmentWithEmployees(Department(345678,Theater and Drama),List(Employee(michael,armbrust,michael@berkeley.edu,100000), Employee(null,wendell,wendell@princeton.edu,160000)))\ndepartmentWithEmployees4: DepartmentWithEmployees = DepartmentWithEmployees(Department(901234,Indoor Recreation),Lis..."
        },
        {
          "metadata" : { },
          "data" : {
            "text/html" : ""
          },
          "output_type" : "execute_result",
          "execution_count" : 4,
          "time" : "Took: 0.968s, at 2018-01-29 15:26"
        }
      ]
    },
    {
      "metadata" : {
        "trusted" : true,
        "input_collapsed" : false,
        "collapsed" : false,
        "presentation" : {
          "tabs_state" : "{\n  \"tab_id\": \"#tab915600933-0\"\n}",
          "pivot_chart_state" : "{\n  \"hiddenAttributes\": [],\n  \"menuLimit\": 200,\n  \"cols\": [],\n  \"rows\": [],\n  \"vals\": [],\n  \"exclusions\": {},\n  \"inclusions\": {},\n  \"unusedAttrsVertical\": 85,\n  \"autoSortUnusedAttrs\": false,\n  \"inclusionsInfo\": {},\n  \"aggregatorName\": \"Count\",\n  \"rendererName\": \"Table\"\n}"
        },
        "id" : "6E14D15331854F2D8798444CBF3AD7B4"
      },
      "cell_type" : "code",
      "source" : [
        "val departmentsWithEmployeesSeq1 = Seq(departmentWithEmployees1, departmentWithEmployees2)\n",
        "val dataframe1 = departmentsWithEmployeesSeq1.toDF()"
      ],
      "outputs" : [
        {
          "name" : "stdout",
          "output_type" : "stream",
          "text" : "departmentsWithEmployeesSeq1: Seq[DepartmentWithEmployees] = List(DepartmentWithEmployees(Department(123456,Computer Science),List(Employee(michael,armbrust,michael@berkeley.edu,100000), Employee(xiangrui,meng,xiangrui@stanford.edu,120000))), DepartmentWithEmployees(Department(789012,Mechanical Engineering),List(Employee(matei,null,matei@waterloo.edu,140000), Employee(null,wendell,wendell@princeton.edu,160000))))\ndataframe1: org.apache.spark.sql.DataFrame = [department: struct<id: string, name: string>, employees: array<struct<firstName:string,lastName:string,email:string,salary:int>>]\n"
        },
        {
          "metadata" : { },
          "data" : {
            "text/html" : ""
          },
          "output_type" : "execute_result",
          "execution_count" : 5,
          "time" : "Took: 2.805s, at 2018-01-29 15:27"
        }
      ]
    },
    {
      "metadata" : {
        "id" : "B4FDC439AAF44A17A55AC039CB73FAE2"
      },
      "cell_type" : "markdown",
      "source" : "### To display dataframe1 "
    },
    {
      "metadata" : {
        "trusted" : true,
        "input_collapsed" : false,
        "collapsed" : false,
        "presentation" : {
          "tabs_state" : "{\n  \"tab_id\": \"#tab1932745206-0\"\n}",
          "pivot_chart_state" : "{\n  \"hiddenAttributes\": [],\n  \"menuLimit\": 200,\n  \"cols\": [],\n  \"rows\": [],\n  \"vals\": [],\n  \"exclusions\": {},\n  \"inclusions\": {},\n  \"unusedAttrsVertical\": 85,\n  \"autoSortUnusedAttrs\": false,\n  \"inclusionsInfo\": {},\n  \"aggregatorName\": \"Count\",\n  \"rendererName\": \"Table\"\n}"
        },
        "id" : "6243372EE71741AA88D546802EEF5601"
      },
      "cell_type" : "code",
      "source" : [
        "display(dataframe1)"
      ],
      "outputs" : [
        {
          "name" : "stdout",
          "output_type" : "stream",
          "text" : "res6: notebook.front.Widget = <Tabs widget>\n"
        },
        {
          "metadata" : { },
          "data" : {
            "text/html" : "<div>\n      <script data-this=\"{&quot;dataId&quot;:&quot;anon7dd8e368616b5e01f2998fbbdf08a0e5&quot;,&quot;dataInit&quot;:[],&quot;genId&quot;:&quot;1932745206&quot;}\" type=\"text/x-scoped-javascript\">/*<![CDATA[*/req(['../javascripts/notebook/playground','../javascripts/notebook/magic/tabs'], \n      function(playground, _magictabs) {\n        // data ==> data-this (in observable.js's scopedEval) ==> this in JS => { dataId, dataInit, ... }\n        // this ==> scope (in observable.js's scopedEval) ==> this.parentElement ==> div.container below (toHtml)\n\n        playground.call(data,\n                        this\n                        ,\n                        {\n    \"f\": _magictabs,\n    \"o\": {}\n  }\n  \n                        \n                        \n                      );\n      }\n    );/*]]>*/</script>\n    <div>\n      <div>\n        <ul class=\"nav nav-tabs\" id=\"ul1932745206\"><li>\n              <a href=\"#tab1932745206-0\"><i class=\"fa fa-table\"/></a>\n            </li><li>\n              <a href=\"#tab1932745206-1\"><i class=\"fa fa-pie-chart\"/></a>\n            </li><li>\n              <a href=\"#tab1932745206-2\"><i class=\"fa fa-cubes\"/></a>\n            </li></ul>\n\n        <div class=\"tab-content\" id=\"tab1932745206\"><div class=\"tab-pane\" id=\"tab1932745206-0\">\n            <div>\n      <script data-this=\"{&quot;dataId&quot;:&quot;anon94d4696b8cc0addbf240b153ac74a78a&quot;,&quot;dataInit&quot;:[{&quot;department&quot;:&quot;[123456,Computer Science]&quot;,&quot;employees&quot;:[&quot;[michael,armbrust,michael@berkeley.edu,100000]&quot;,&quot;[xiangrui,meng,xiangrui@stanford.edu,120000]&quot;]},{&quot;department&quot;:&quot;[789012,Mechanical Engineering]&quot;,&quot;employees&quot;:[&quot;[matei,null,matei@waterloo.edu,140000]&quot;,&quot;[null,wendell,wendell@princeton.edu,160000]&quot;]}],&quot;genId&quot;:&quot;1978200681&quot;}\" type=\"text/x-scoped-javascript\">/*<![CDATA[*/req(['../javascripts/notebook/playground','../javascripts/notebook/magic/tableChart'], \n      function(playground, _magictableChart) {\n        // data ==> data-this (in observable.js's scopedEval) ==> this in JS => { dataId, dataInit, ... }\n        // this ==> scope (in observable.js's scopedEval) ==> this.parentElement ==> div.container below (toHtml)\n\n        playground.call(data,\n                        this\n                        ,\n                        {\n    \"f\": _magictableChart,\n    \"o\": {\"headers\":[\"department\",\"employees\"],\"width\":600,\"height\":400}\n  }\n  \n                        \n                        \n                      );\n      }\n    );/*]]>*/</script>\n    <div>\n      <span class=\"chart-total-item-count\"><p data-bind=\"text: value\"><script data-this=\"{&quot;valueId&quot;:&quot;anon699a5c325e8ec32f155124fa05b48937&quot;,&quot;initialValue&quot;:&quot;2&quot;}\" type=\"text/x-scoped-javascript\">/*<![CDATA[*/\nreq(\n['observable', 'knockout'],\nfunction (O, ko) {\n  ko.applyBindings({\n      value: O.makeObservable(valueId, initialValue)\n    },\n    this\n  );\n});\n        /*]]>*/</script></p> entries total</span>\n      <span class=\"chart-sampling-warning\"><p data-bind=\"text: value\"><script data-this=\"{&quot;valueId&quot;:&quot;anon2d3693c36bed4f7f0844031636fabbde&quot;,&quot;initialValue&quot;:&quot;&quot;}\" type=\"text/x-scoped-javascript\">/*<![CDATA[*/\nreq(\n['observable', 'knockout'],\nfunction (O, ko) {\n  ko.applyBindings({\n      value: O.makeObservable(valueId, initialValue)\n    },\n    this\n  );\n});\n        /*]]>*/</script></p></span>\n      <div>\n      </div>\n    </div></div>\n            </div><div class=\"tab-pane\" id=\"tab1932745206-1\">\n            <div>\n      <script data-this=\"{&quot;dataId&quot;:&quot;anon078ecd82f5f0f1c31da09393e342c766&quot;,&quot;dataInit&quot;:[{&quot;department&quot;:&quot;[123456,Computer Science]&quot;,&quot;employees&quot;:[&quot;[michael,armbrust,michael@berkeley.edu,100000]&quot;,&quot;[xiangrui,meng,xiangrui@stanford.edu,120000]&quot;]},{&quot;department&quot;:&quot;[789012,Mechanical Engineering]&quot;,&quot;employees&quot;:[&quot;[matei,null,matei@waterloo.edu,140000]&quot;,&quot;[null,wendell,wendell@princeton.edu,160000]&quot;]}],&quot;genId&quot;:&quot;715312445&quot;}\" type=\"text/x-scoped-javascript\">/*<![CDATA[*/req(['../javascripts/notebook/playground','../javascripts/notebook/magic/pieChart'], \n      function(playground, _magicpieChart) {\n        // data ==> data-this (in observable.js's scopedEval) ==> this in JS => { dataId, dataInit, ... }\n        // this ==> scope (in observable.js's scopedEval) ==> this.parentElement ==> div.container below (toHtml)\n\n        playground.call(data,\n                        this\n                        ,\n                        {\n    \"f\": _magicpieChart,\n    \"o\": {\"series\":\"department\",\"p\":\"employees\",\"width\":600,\"height\":400}\n  }\n  \n                        \n                        \n                      );\n      }\n    );/*]]>*/</script>\n    <div>\n      <span class=\"chart-total-item-count\"><p data-bind=\"text: value\"><script data-this=\"{&quot;valueId&quot;:&quot;anone33e1cb73721ac1300ab2dfb07f97e14&quot;,&quot;initialValue&quot;:&quot;2&quot;}\" type=\"text/x-scoped-javascript\">/*<![CDATA[*/\nreq(\n['observable', 'knockout'],\nfunction (O, ko) {\n  ko.applyBindings({\n      value: O.makeObservable(valueId, initialValue)\n    },\n    this\n  );\n});\n        /*]]>*/</script></p> entries total</span>\n      <span class=\"chart-sampling-warning\"><p data-bind=\"text: value\"><script data-this=\"{&quot;valueId&quot;:&quot;anonf272cf63d546d6572aaf070be5f71c0d&quot;,&quot;initialValue&quot;:&quot;&quot;}\" type=\"text/x-scoped-javascript\">/*<![CDATA[*/\nreq(\n['observable', 'knockout'],\nfunction (O, ko) {\n  ko.applyBindings({\n      value: O.makeObservable(valueId, initialValue)\n    },\n    this\n  );\n});\n        /*]]>*/</script></p></span>\n      <div>\n      </div>\n    </div></div>\n            </div><div class=\"tab-pane\" id=\"tab1932745206-2\">\n            <div>\n      <script data-this=\"{&quot;dataId&quot;:&quot;anon2111997521e01d397e34796f8cfc8941&quot;,&quot;dataInit&quot;:[{&quot;department&quot;:&quot;[123456,Computer Science]&quot;,&quot;employees&quot;:[&quot;[michael,armbrust,michael@berkeley.edu,100000]&quot;,&quot;[xiangrui,meng,xiangrui@stanford.edu,120000]&quot;]},{&quot;department&quot;:&quot;[789012,Mechanical Engineering]&quot;,&quot;employees&quot;:[&quot;[matei,null,matei@waterloo.edu,140000]&quot;,&quot;[null,wendell,wendell@princeton.edu,160000]&quot;]}],&quot;genId&quot;:&quot;187418414&quot;}\" type=\"text/x-scoped-javascript\">/*<![CDATA[*/req(['../javascripts/notebook/playground','../javascripts/notebook/magic/pivotChart'], \n      function(playground, _magicpivotChart) {\n        // data ==> data-this (in observable.js's scopedEval) ==> this in JS => { dataId, dataInit, ... }\n        // this ==> scope (in observable.js's scopedEval) ==> this.parentElement ==> div.container below (toHtml)\n\n        playground.call(data,\n                        this\n                        ,\n                        {\n    \"f\": _magicpivotChart,\n    \"o\": {\"width\":600,\"height\":400,\"derivedAttributes\":{},\"extraOptions\":{}}\n  }\n  \n                        \n                        \n                      );\n      }\n    );/*]]>*/</script>\n    <div>\n      <span class=\"chart-total-item-count\"><p data-bind=\"text: value\"><script data-this=\"{&quot;valueId&quot;:&quot;anon9b81a24d2a4c5d2396897630e6462d7e&quot;,&quot;initialValue&quot;:&quot;2&quot;}\" type=\"text/x-scoped-javascript\">/*<![CDATA[*/\nreq(\n['observable', 'knockout'],\nfunction (O, ko) {\n  ko.applyBindings({\n      value: O.makeObservable(valueId, initialValue)\n    },\n    this\n  );\n});\n        /*]]>*/</script></p> entries total</span>\n      <span class=\"chart-sampling-warning\"><p data-bind=\"text: value\"><script data-this=\"{&quot;valueId&quot;:&quot;anon80ac36c9b501711226800a296707465b&quot;,&quot;initialValue&quot;:&quot;&quot;}\" type=\"text/x-scoped-javascript\">/*<![CDATA[*/\nreq(\n['observable', 'knockout'],\nfunction (O, ko) {\n  ko.applyBindings({\n      value: O.makeObservable(valueId, initialValue)\n    },\n    this\n  );\n});\n        /*]]>*/</script></p></span>\n      <div>\n      </div>\n    </div></div>\n            </div></div>\n      </div>\n    </div></div>"
          },
          "output_type" : "execute_result",
          "execution_count" : 6,
          "time" : "Took: 1.683s, at 2018-01-29 15:27"
        }
      ]
    },
    {
      "metadata" : {
        "id" : "1BBF2CA7AE6D41A28F6F7669B3250BE5"
      },
      "cell_type" : "markdown",
      "source" : "### To print the schema of dataframe1 "
    },
    {
      "metadata" : {
        "trusted" : true,
        "input_collapsed" : false,
        "collapsed" : false,
        "id" : "3968D024D0204BCC8ACBA2F23BD0DD89"
      },
      "cell_type" : "code",
      "source" : [
        "dataframe1.printSchema()"
      ],
      "outputs" : [
        {
          "name" : "stdout",
          "output_type" : "stream",
          "text" : "root\n |-- department: struct (nullable = true)\n |    |-- id: string (nullable = true)\n |    |-- name: string (nullable = true)\n |-- employees: array (nullable = true)\n |    |-- element: struct (containsNull = true)\n |    |    |-- firstName: string (nullable = true)\n |    |    |-- lastName: string (nullable = true)\n |    |    |-- email: string (nullable = true)\n |    |    |-- salary: integer (nullable = false)\n\n"
        },
        {
          "metadata" : { },
          "data" : {
            "text/html" : ""
          },
          "output_type" : "execute_result",
          "execution_count" : 7,
          "time" : "Took: 1.101s, at 2018-01-29 15:27"
        }
      ]
    },
    {
      "metadata" : {
        "id" : "A931FF36D45A4620A823C7701EA6204D"
      },
      "cell_type" : "markdown",
      "source" : "### We create another dataframe... "
    },
    {
      "metadata" : {
        "trusted" : true,
        "input_collapsed" : false,
        "collapsed" : false,
        "presentation" : {
          "tabs_state" : "{\n  \"tab_id\": \"#tab147741794-0\"\n}",
          "pivot_chart_state" : "{\n  \"hiddenAttributes\": [],\n  \"menuLimit\": 200,\n  \"cols\": [],\n  \"rows\": [],\n  \"vals\": [],\n  \"exclusions\": {},\n  \"inclusions\": {},\n  \"unusedAttrsVertical\": 85,\n  \"autoSortUnusedAttrs\": false,\n  \"inclusionsInfo\": {},\n  \"aggregatorName\": \"Count\",\n  \"rendererName\": \"Table\"\n}"
        },
        "id" : "F47799E579C144EF86EF9FD4AB5ED884"
      },
      "cell_type" : "code",
      "source" : [
        "val departmentsWithEmployeesSeq2 = Seq(departmentWithEmployees3, departmentWithEmployees4)\n",
        "val dataframe2 = departmentsWithEmployeesSeq2.toDF()\n",
        "display(dataframe2)"
      ],
      "outputs" : [
        {
          "name" : "stdout",
          "output_type" : "stream",
          "text" : "departmentsWithEmployeesSeq2: Seq[DepartmentWithEmployees] = List(DepartmentWithEmployees(Department(345678,Theater and Drama),List(Employee(michael,armbrust,michael@berkeley.edu,100000), Employee(null,wendell,wendell@princeton.edu,160000))), DepartmentWithEmployees(Department(901234,Indoor Recreation),List(Employee(xiangrui,meng,xiangrui@stanford.edu,120000), Employee(matei,null,matei@waterloo.edu,140000))))\ndataframe2: org.apache.spark.sql.DataFrame = [department: struct<id: string, name: string>, employees: array<struct<firstName:string,lastName:string,email:string,salary:int>>]\nres10: notebook.front.Widget = <Tabs widget>\n"
        },
        {
          "metadata" : { },
          "data" : {
            "text/html" : "<div>\n      <script data-this=\"{&quot;dataId&quot;:&quot;anon6d1b78a63d46aa0d2d2975d8d560e609&quot;,&quot;dataInit&quot;:[],&quot;genId&quot;:&quot;147741794&quot;}\" type=\"text/x-scoped-javascript\">/*<![CDATA[*/req(['../javascripts/notebook/playground','../javascripts/notebook/magic/tabs'], \n      function(playground, _magictabs) {\n        // data ==> data-this (in observable.js's scopedEval) ==> this in JS => { dataId, dataInit, ... }\n        // this ==> scope (in observable.js's scopedEval) ==> this.parentElement ==> div.container below (toHtml)\n\n        playground.call(data,\n                        this\n                        ,\n                        {\n    \"f\": _magictabs,\n    \"o\": {}\n  }\n  \n                        \n                        \n                      );\n      }\n    );/*]]>*/</script>\n    <div>\n      <div>\n        <ul class=\"nav nav-tabs\" id=\"ul147741794\"><li>\n              <a href=\"#tab147741794-0\"><i class=\"fa fa-table\"/></a>\n            </li><li>\n              <a href=\"#tab147741794-1\"><i class=\"fa fa-pie-chart\"/></a>\n            </li><li>\n              <a href=\"#tab147741794-2\"><i class=\"fa fa-cubes\"/></a>\n            </li></ul>\n\n        <div class=\"tab-content\" id=\"tab147741794\"><div class=\"tab-pane\" id=\"tab147741794-0\">\n            <div>\n      <script data-this=\"{&quot;dataId&quot;:&quot;anon3389447e40183b1a1478c7954f9ba38e&quot;,&quot;dataInit&quot;:[{&quot;department&quot;:&quot;[345678,Theater and Drama]&quot;,&quot;employees&quot;:[&quot;[michael,armbrust,michael@berkeley.edu,100000]&quot;,&quot;[null,wendell,wendell@princeton.edu,160000]&quot;]},{&quot;department&quot;:&quot;[901234,Indoor Recreation]&quot;,&quot;employees&quot;:[&quot;[xiangrui,meng,xiangrui@stanford.edu,120000]&quot;,&quot;[matei,null,matei@waterloo.edu,140000]&quot;]}],&quot;genId&quot;:&quot;318762874&quot;}\" type=\"text/x-scoped-javascript\">/*<![CDATA[*/req(['../javascripts/notebook/playground','../javascripts/notebook/magic/tableChart'], \n      function(playground, _magictableChart) {\n        // data ==> data-this (in observable.js's scopedEval) ==> this in JS => { dataId, dataInit, ... }\n        // this ==> scope (in observable.js's scopedEval) ==> this.parentElement ==> div.container below (toHtml)\n\n        playground.call(data,\n                        this\n                        ,\n                        {\n    \"f\": _magictableChart,\n    \"o\": {\"headers\":[\"department\",\"employees\"],\"width\":600,\"height\":400}\n  }\n  \n                        \n                        \n                      );\n      }\n    );/*]]>*/</script>\n    <div>\n      <span class=\"chart-total-item-count\"><p data-bind=\"text: value\"><script data-this=\"{&quot;valueId&quot;:&quot;anon4d92066d4f4f9e825164384f7e6db57e&quot;,&quot;initialValue&quot;:&quot;2&quot;}\" type=\"text/x-scoped-javascript\">/*<![CDATA[*/\nreq(\n['observable', 'knockout'],\nfunction (O, ko) {\n  ko.applyBindings({\n      value: O.makeObservable(valueId, initialValue)\n    },\n    this\n  );\n});\n        /*]]>*/</script></p> entries total</span>\n      <span class=\"chart-sampling-warning\"><p data-bind=\"text: value\"><script data-this=\"{&quot;valueId&quot;:&quot;anon759e64f63a3151e11370397d2de4f53a&quot;,&quot;initialValue&quot;:&quot;&quot;}\" type=\"text/x-scoped-javascript\">/*<![CDATA[*/\nreq(\n['observable', 'knockout'],\nfunction (O, ko) {\n  ko.applyBindings({\n      value: O.makeObservable(valueId, initialValue)\n    },\n    this\n  );\n});\n        /*]]>*/</script></p></span>\n      <div>\n      </div>\n    </div></div>\n            </div><div class=\"tab-pane\" id=\"tab147741794-1\">\n            <div>\n      <script data-this=\"{&quot;dataId&quot;:&quot;anonf4f2d840c449140c7d970caf364598ff&quot;,&quot;dataInit&quot;:[{&quot;department&quot;:&quot;[345678,Theater and Drama]&quot;,&quot;employees&quot;:[&quot;[michael,armbrust,michael@berkeley.edu,100000]&quot;,&quot;[null,wendell,wendell@princeton.edu,160000]&quot;]},{&quot;department&quot;:&quot;[901234,Indoor Recreation]&quot;,&quot;employees&quot;:[&quot;[xiangrui,meng,xiangrui@stanford.edu,120000]&quot;,&quot;[matei,null,matei@waterloo.edu,140000]&quot;]}],&quot;genId&quot;:&quot;1135069136&quot;}\" type=\"text/x-scoped-javascript\">/*<![CDATA[*/req(['../javascripts/notebook/playground','../javascripts/notebook/magic/pieChart'], \n      function(playground, _magicpieChart) {\n        // data ==> data-this (in observable.js's scopedEval) ==> this in JS => { dataId, dataInit, ... }\n        // this ==> scope (in observable.js's scopedEval) ==> this.parentElement ==> div.container below (toHtml)\n\n        playground.call(data,\n                        this\n                        ,\n                        {\n    \"f\": _magicpieChart,\n    \"o\": {\"series\":\"department\",\"p\":\"employees\",\"width\":600,\"height\":400}\n  }\n  \n                        \n                        \n                      );\n      }\n    );/*]]>*/</script>\n    <div>\n      <span class=\"chart-total-item-count\"><p data-bind=\"text: value\"><script data-this=\"{&quot;valueId&quot;:&quot;anona9c880518e0edc828deaffccf8207d5f&quot;,&quot;initialValue&quot;:&quot;2&quot;}\" type=\"text/x-scoped-javascript\">/*<![CDATA[*/\nreq(\n['observable', 'knockout'],\nfunction (O, ko) {\n  ko.applyBindings({\n      value: O.makeObservable(valueId, initialValue)\n    },\n    this\n  );\n});\n        /*]]>*/</script></p> entries total</span>\n      <span class=\"chart-sampling-warning\"><p data-bind=\"text: value\"><script data-this=\"{&quot;valueId&quot;:&quot;anon35cfca472d46bdb59fc809f885b8fedd&quot;,&quot;initialValue&quot;:&quot;&quot;}\" type=\"text/x-scoped-javascript\">/*<![CDATA[*/\nreq(\n['observable', 'knockout'],\nfunction (O, ko) {\n  ko.applyBindings({\n      value: O.makeObservable(valueId, initialValue)\n    },\n    this\n  );\n});\n        /*]]>*/</script></p></span>\n      <div>\n      </div>\n    </div></div>\n            </div><div class=\"tab-pane\" id=\"tab147741794-2\">\n            <div>\n      <script data-this=\"{&quot;dataId&quot;:&quot;anon540dae25b4473fb448989932aa3e9725&quot;,&quot;dataInit&quot;:[{&quot;department&quot;:&quot;[345678,Theater and Drama]&quot;,&quot;employees&quot;:[&quot;[michael,armbrust,michael@berkeley.edu,100000]&quot;,&quot;[null,wendell,wendell@princeton.edu,160000]&quot;]},{&quot;department&quot;:&quot;[901234,Indoor Recreation]&quot;,&quot;employees&quot;:[&quot;[xiangrui,meng,xiangrui@stanford.edu,120000]&quot;,&quot;[matei,null,matei@waterloo.edu,140000]&quot;]}],&quot;genId&quot;:&quot;551839151&quot;}\" type=\"text/x-scoped-javascript\">/*<![CDATA[*/req(['../javascripts/notebook/playground','../javascripts/notebook/magic/pivotChart'], \n      function(playground, _magicpivotChart) {\n        // data ==> data-this (in observable.js's scopedEval) ==> this in JS => { dataId, dataInit, ... }\n        // this ==> scope (in observable.js's scopedEval) ==> this.parentElement ==> div.container below (toHtml)\n\n        playground.call(data,\n                        this\n                        ,\n                        {\n    \"f\": _magicpivotChart,\n    \"o\": {\"width\":600,\"height\":400,\"derivedAttributes\":{},\"extraOptions\":{}}\n  }\n  \n                        \n                        \n                      );\n      }\n    );/*]]>*/</script>\n    <div>\n      <span class=\"chart-total-item-count\"><p data-bind=\"text: value\"><script data-this=\"{&quot;valueId&quot;:&quot;anon05cd0127d40e78c8c4a08d4a838f5480&quot;,&quot;initialValue&quot;:&quot;2&quot;}\" type=\"text/x-scoped-javascript\">/*<![CDATA[*/\nreq(\n['observable', 'knockout'],\nfunction (O, ko) {\n  ko.applyBindings({\n      value: O.makeObservable(valueId, initialValue)\n    },\n    this\n  );\n});\n        /*]]>*/</script></p> entries total</span>\n      <span class=\"chart-sampling-warning\"><p data-bind=\"text: value\"><script data-this=\"{&quot;valueId&quot;:&quot;anon09c4fda3be1f96653a35f9d35bfbca95&quot;,&quot;initialValue&quot;:&quot;&quot;}\" type=\"text/x-scoped-javascript\">/*<![CDATA[*/\nreq(\n['observable', 'knockout'],\nfunction (O, ko) {\n  ko.applyBindings({\n      value: O.makeObservable(valueId, initialValue)\n    },\n    this\n  );\n});\n        /*]]>*/</script></p></span>\n      <div>\n      </div>\n    </div></div>\n            </div></div>\n      </div>\n    </div></div>"
          },
          "output_type" : "execute_result",
          "execution_count" : 8,
          "time" : "Took: 1.448s, at 2018-01-29 15:27"
        }
      ]
    },
    {
      "metadata" : {
        "id" : "0A2E652BDB744A559635BE64D9981839"
      },
      "cell_type" : "markdown",
      "source" : "### We can union 2 dataframes "
    },
    {
      "metadata" : {
        "trusted" : true,
        "input_collapsed" : false,
        "collapsed" : false,
        "presentation" : {
          "tabs_state" : "{\n  \"tab_id\": \"#tab7973880-0\"\n}",
          "pivot_chart_state" : "{\n  \"hiddenAttributes\": [],\n  \"menuLimit\": 200,\n  \"cols\": [],\n  \"rows\": [],\n  \"vals\": [],\n  \"exclusions\": {},\n  \"inclusions\": {},\n  \"unusedAttrsVertical\": 85,\n  \"autoSortUnusedAttrs\": false,\n  \"inclusionsInfo\": {},\n  \"aggregatorName\": \"Count\",\n  \"rendererName\": \"Row Heatmap\"\n}"
        },
        "id" : "270FBA528EC84853B8B624D6F0B1B2A2"
      },
      "cell_type" : "code",
      "source" : [
        "val unionDF = dataframe1.union(dataframe2)\n",
        "display(unionDF)"
      ],
      "outputs" : [
        {
          "name" : "stdout",
          "output_type" : "stream",
          "text" : "unionDF: org.apache.spark.sql.Dataset[org.apache.spark.sql.Row] = [department: struct<id: string, name: string>, employees: array<struct<firstName:string,lastName:string,email:string,salary:int>>]\nres12: notebook.front.Widget = <Tabs widget>\n"
        },
        {
          "metadata" : { },
          "data" : {
            "text/html" : "<div>\n      <script data-this=\"{&quot;dataId&quot;:&quot;anon1370bf30ae70b62fafb7613eca74e548&quot;,&quot;dataInit&quot;:[],&quot;genId&quot;:&quot;7973880&quot;}\" type=\"text/x-scoped-javascript\">/*<![CDATA[*/req(['../javascripts/notebook/playground','../javascripts/notebook/magic/tabs'], \n      function(playground, _magictabs) {\n        // data ==> data-this (in observable.js's scopedEval) ==> this in JS => { dataId, dataInit, ... }\n        // this ==> scope (in observable.js's scopedEval) ==> this.parentElement ==> div.container below (toHtml)\n\n        playground.call(data,\n                        this\n                        ,\n                        {\n    \"f\": _magictabs,\n    \"o\": {}\n  }\n  \n                        \n                        \n                      );\n      }\n    );/*]]>*/</script>\n    <div>\n      <div>\n        <ul class=\"nav nav-tabs\" id=\"ul7973880\"><li>\n              <a href=\"#tab7973880-0\"><i class=\"fa fa-table\"/></a>\n            </li><li>\n              <a href=\"#tab7973880-1\"><i class=\"fa fa-pie-chart\"/></a>\n            </li><li>\n              <a href=\"#tab7973880-2\"><i class=\"fa fa-cubes\"/></a>\n            </li></ul>\n\n        <div class=\"tab-content\" id=\"tab7973880\"><div class=\"tab-pane\" id=\"tab7973880-0\">\n            <div>\n      <script data-this=\"{&quot;dataId&quot;:&quot;anonced874c0d0c1c560b89daf194dd44a23&quot;,&quot;dataInit&quot;:[{&quot;department&quot;:&quot;[123456,Computer Science]&quot;,&quot;employees&quot;:[&quot;[michael,armbrust,michael@berkeley.edu,100000]&quot;,&quot;[xiangrui,meng,xiangrui@stanford.edu,120000]&quot;]},{&quot;department&quot;:&quot;[789012,Mechanical Engineering]&quot;,&quot;employees&quot;:[&quot;[matei,null,matei@waterloo.edu,140000]&quot;,&quot;[null,wendell,wendell@princeton.edu,160000]&quot;]},{&quot;department&quot;:&quot;[345678,Theater and Drama]&quot;,&quot;employees&quot;:[&quot;[michael,armbrust,michael@berkeley.edu,100000]&quot;,&quot;[null,wendell,wendell@princeton.edu,160000]&quot;]},{&quot;department&quot;:&quot;[901234,Indoor Recreation]&quot;,&quot;employees&quot;:[&quot;[xiangrui,meng,xiangrui@stanford.edu,120000]&quot;,&quot;[matei,null,matei@waterloo.edu,140000]&quot;]}],&quot;genId&quot;:&quot;413741205&quot;}\" type=\"text/x-scoped-javascript\">/*<![CDATA[*/req(['../javascripts/notebook/playground','../javascripts/notebook/magic/tableChart'], \n      function(playground, _magictableChart) {\n        // data ==> data-this (in observable.js's scopedEval) ==> this in JS => { dataId, dataInit, ... }\n        // this ==> scope (in observable.js's scopedEval) ==> this.parentElement ==> div.container below (toHtml)\n\n        playground.call(data,\n                        this\n                        ,\n                        {\n    \"f\": _magictableChart,\n    \"o\": {\"headers\":[\"department\",\"employees\"],\"width\":600,\"height\":400}\n  }\n  \n                        \n                        \n                      );\n      }\n    );/*]]>*/</script>\n    <div>\n      <span class=\"chart-total-item-count\"><p data-bind=\"text: value\"><script data-this=\"{&quot;valueId&quot;:&quot;anone5e1879112fbbe5e86108833c2ed9f9e&quot;,&quot;initialValue&quot;:&quot;4&quot;}\" type=\"text/x-scoped-javascript\">/*<![CDATA[*/\nreq(\n['observable', 'knockout'],\nfunction (O, ko) {\n  ko.applyBindings({\n      value: O.makeObservable(valueId, initialValue)\n    },\n    this\n  );\n});\n        /*]]>*/</script></p> entries total</span>\n      <span class=\"chart-sampling-warning\"><p data-bind=\"text: value\"><script data-this=\"{&quot;valueId&quot;:&quot;anon7e1a6d1e2d52fcf8678fa5ca7d95a7b9&quot;,&quot;initialValue&quot;:&quot;&quot;}\" type=\"text/x-scoped-javascript\">/*<![CDATA[*/\nreq(\n['observable', 'knockout'],\nfunction (O, ko) {\n  ko.applyBindings({\n      value: O.makeObservable(valueId, initialValue)\n    },\n    this\n  );\n});\n        /*]]>*/</script></p></span>\n      <div>\n      </div>\n    </div></div>\n            </div><div class=\"tab-pane\" id=\"tab7973880-1\">\n            <div>\n      <script data-this=\"{&quot;dataId&quot;:&quot;anone8c6be74dbb02e81aa5aba16b7715825&quot;,&quot;dataInit&quot;:[{&quot;department&quot;:&quot;[123456,Computer Science]&quot;,&quot;employees&quot;:[&quot;[michael,armbrust,michael@berkeley.edu,100000]&quot;,&quot;[xiangrui,meng,xiangrui@stanford.edu,120000]&quot;]},{&quot;department&quot;:&quot;[789012,Mechanical Engineering]&quot;,&quot;employees&quot;:[&quot;[matei,null,matei@waterloo.edu,140000]&quot;,&quot;[null,wendell,wendell@princeton.edu,160000]&quot;]},{&quot;department&quot;:&quot;[345678,Theater and Drama]&quot;,&quot;employees&quot;:[&quot;[michael,armbrust,michael@berkeley.edu,100000]&quot;,&quot;[null,wendell,wendell@princeton.edu,160000]&quot;]},{&quot;department&quot;:&quot;[901234,Indoor Recreation]&quot;,&quot;employees&quot;:[&quot;[xiangrui,meng,xiangrui@stanford.edu,120000]&quot;,&quot;[matei,null,matei@waterloo.edu,140000]&quot;]}],&quot;genId&quot;:&quot;637980233&quot;}\" type=\"text/x-scoped-javascript\">/*<![CDATA[*/req(['../javascripts/notebook/playground','../javascripts/notebook/magic/pieChart'], \n      function(playground, _magicpieChart) {\n        // data ==> data-this (in observable.js's scopedEval) ==> this in JS => { dataId, dataInit, ... }\n        // this ==> scope (in observable.js's scopedEval) ==> this.parentElement ==> div.container below (toHtml)\n\n        playground.call(data,\n                        this\n                        ,\n                        {\n    \"f\": _magicpieChart,\n    \"o\": {\"series\":\"department\",\"p\":\"employees\",\"width\":600,\"height\":400}\n  }\n  \n                        \n                        \n                      );\n      }\n    );/*]]>*/</script>\n    <div>\n      <span class=\"chart-total-item-count\"><p data-bind=\"text: value\"><script data-this=\"{&quot;valueId&quot;:&quot;anon42fcb7ef7833c2a441858c2ca4034a7f&quot;,&quot;initialValue&quot;:&quot;4&quot;}\" type=\"text/x-scoped-javascript\">/*<![CDATA[*/\nreq(\n['observable', 'knockout'],\nfunction (O, ko) {\n  ko.applyBindings({\n      value: O.makeObservable(valueId, initialValue)\n    },\n    this\n  );\n});\n        /*]]>*/</script></p> entries total</span>\n      <span class=\"chart-sampling-warning\"><p data-bind=\"text: value\"><script data-this=\"{&quot;valueId&quot;:&quot;anonc372bf2c7b87fbf3129bd41e315328ff&quot;,&quot;initialValue&quot;:&quot;&quot;}\" type=\"text/x-scoped-javascript\">/*<![CDATA[*/\nreq(\n['observable', 'knockout'],\nfunction (O, ko) {\n  ko.applyBindings({\n      value: O.makeObservable(valueId, initialValue)\n    },\n    this\n  );\n});\n        /*]]>*/</script></p></span>\n      <div>\n      </div>\n    </div></div>\n            </div><div class=\"tab-pane\" id=\"tab7973880-2\">\n            <div>\n      <script data-this=\"{&quot;dataId&quot;:&quot;anonf123aeccd261b38f30210347d842a59d&quot;,&quot;dataInit&quot;:[{&quot;department&quot;:&quot;[123456,Computer Science]&quot;,&quot;employees&quot;:[&quot;[michael,armbrust,michael@berkeley.edu,100000]&quot;,&quot;[xiangrui,meng,xiangrui@stanford.edu,120000]&quot;]},{&quot;department&quot;:&quot;[789012,Mechanical Engineering]&quot;,&quot;employees&quot;:[&quot;[matei,null,matei@waterloo.edu,140000]&quot;,&quot;[null,wendell,wendell@princeton.edu,160000]&quot;]},{&quot;department&quot;:&quot;[345678,Theater and Drama]&quot;,&quot;employees&quot;:[&quot;[michael,armbrust,michael@berkeley.edu,100000]&quot;,&quot;[null,wendell,wendell@princeton.edu,160000]&quot;]},{&quot;department&quot;:&quot;[901234,Indoor Recreation]&quot;,&quot;employees&quot;:[&quot;[xiangrui,meng,xiangrui@stanford.edu,120000]&quot;,&quot;[matei,null,matei@waterloo.edu,140000]&quot;]}],&quot;genId&quot;:&quot;391449054&quot;}\" type=\"text/x-scoped-javascript\">/*<![CDATA[*/req(['../javascripts/notebook/playground','../javascripts/notebook/magic/pivotChart'], \n      function(playground, _magicpivotChart) {\n        // data ==> data-this (in observable.js's scopedEval) ==> this in JS => { dataId, dataInit, ... }\n        // this ==> scope (in observable.js's scopedEval) ==> this.parentElement ==> div.container below (toHtml)\n\n        playground.call(data,\n                        this\n                        ,\n                        {\n    \"f\": _magicpivotChart,\n    \"o\": {\"width\":600,\"height\":400,\"derivedAttributes\":{},\"extraOptions\":{}}\n  }\n  \n                        \n                        \n                      );\n      }\n    );/*]]>*/</script>\n    <div>\n      <span class=\"chart-total-item-count\"><p data-bind=\"text: value\"><script data-this=\"{&quot;valueId&quot;:&quot;anon4d65011b9bd81be5ef91ae5c86c92d10&quot;,&quot;initialValue&quot;:&quot;4&quot;}\" type=\"text/x-scoped-javascript\">/*<![CDATA[*/\nreq(\n['observable', 'knockout'],\nfunction (O, ko) {\n  ko.applyBindings({\n      value: O.makeObservable(valueId, initialValue)\n    },\n    this\n  );\n});\n        /*]]>*/</script></p> entries total</span>\n      <span class=\"chart-sampling-warning\"><p data-bind=\"text: value\"><script data-this=\"{&quot;valueId&quot;:&quot;anonde7b3913e5036cb67e4824d2e56d71e1&quot;,&quot;initialValue&quot;:&quot;&quot;}\" type=\"text/x-scoped-javascript\">/*<![CDATA[*/\nreq(\n['observable', 'knockout'],\nfunction (O, ko) {\n  ko.applyBindings({\n      value: O.makeObservable(valueId, initialValue)\n    },\n    this\n  );\n});\n        /*]]>*/</script></p></span>\n      <div>\n      </div>\n    </div></div>\n            </div></div>\n      </div>\n    </div></div>"
          },
          "output_type" : "execute_result",
          "execution_count" : 9,
          "time" : "Took: 2.517s, at 2018-01-29 15:27"
        }
      ]
    },
    {
      "metadata" : {
        "id" : "401811E5B88E4A97878207DAEE53FED6"
      },
      "cell_type" : "markdown",
      "source" : "### To flatten the schema... "
    },
    {
      "metadata" : {
        "trusted" : true,
        "input_collapsed" : false,
        "collapsed" : false,
        "presentation" : {
          "tabs_state" : "{\n  \"tab_id\": \"#tab1954358257-0\"\n}",
          "pivot_chart_state" : "{\n  \"hiddenAttributes\": [],\n  \"menuLimit\": 200,\n  \"cols\": [],\n  \"rows\": [],\n  \"vals\": [],\n  \"exclusions\": {},\n  \"inclusions\": {},\n  \"unusedAttrsVertical\": 85,\n  \"autoSortUnusedAttrs\": false,\n  \"inclusionsInfo\": {},\n  \"aggregatorName\": \"Count\",\n  \"rendererName\": \"Table\"\n}"
        },
        "id" : "65CD3FF1BF4A48468C909BCC7D5A9C9A"
      },
      "cell_type" : "code",
      "source" : [
        "val explodeDF = unionDF.explode($\"employees\") {\n",
        "  case Row(employee: Seq[Row]) => employee.map{ employee =>\n",
        "    val firstName = employee(0).asInstanceOf[String]\n",
        "    val lastName = employee(1).asInstanceOf[String]\n",
        "    val email = employee(2).asInstanceOf[String]\n",
        "    val salary = employee(3).asInstanceOf[Int]\n",
        "    Employee(firstName, lastName, email, salary)\n",
        "  }\n",
        "}\n",
        "display(explodeDF)"
      ],
      "outputs" : [
        {
          "name" : "stdout",
          "output_type" : "stream",
          "text" : "<console>:97: warning: non-variable type argument org.apache.spark.sql.Row in type pattern Seq[org.apache.spark.sql.Row] (the underlying of Seq[org.apache.spark.sql.Row]) is unchecked since it is eliminated by erasure\n         case Row(employee: Seq[Row]) => employee.map{ employee =>\n                            ^\n<console>:96: warning: method explode in class Dataset is deprecated: use flatMap() or select() with functions.explode() instead\n       val explodeDF = unionDF.explode($\"employees\") {\n                               ^\nexplodeDF: org.apache.spark.sql.DataFrame = [department: struct<id: string, name: string>, employees: array<struct<firstName:string,lastName:string,email:string,salary:int>> ... 4 more fields]\nres14: notebook.front.Widget = <Tabs widget>\n"
        },
        {
          "metadata" : { },
          "data" : {
            "text/html" : "<div>\n      <script data-this=\"{&quot;dataId&quot;:&quot;anond4641ac241e3ebd30350f0bb1370cea1&quot;,&quot;dataInit&quot;:[],&quot;genId&quot;:&quot;1954358257&quot;}\" type=\"text/x-scoped-javascript\">/*<![CDATA[*/req(['../javascripts/notebook/playground','../javascripts/notebook/magic/tabs'], \n      function(playground, _magictabs) {\n        // data ==> data-this (in observable.js's scopedEval) ==> this in JS => { dataId, dataInit, ... }\n        // this ==> scope (in observable.js's scopedEval) ==> this.parentElement ==> div.container below (toHtml)\n\n        playground.call(data,\n                        this\n                        ,\n                        {\n    \"f\": _magictabs,\n    \"o\": {}\n  }\n  \n                        \n                        \n                      );\n      }\n    );/*]]>*/</script>\n    <div>\n      <div>\n        <ul class=\"nav nav-tabs\" id=\"ul1954358257\"><li>\n              <a href=\"#tab1954358257-0\"><i class=\"fa fa-table\"/></a>\n            </li><li>\n              <a href=\"#tab1954358257-1\"><i class=\"fa fa-cubes\"/></a>\n            </li></ul>\n\n        <div class=\"tab-content\" id=\"tab1954358257\"><div class=\"tab-pane\" id=\"tab1954358257-0\">\n            <div>\n      <script data-this=\"{&quot;dataId&quot;:&quot;anon13297b17486d057363009c33daf36285&quot;,&quot;dataInit&quot;:[{&quot;email&quot;:&quot;michael@berkeley.edu&quot;,&quot;employees&quot;:[&quot;[michael,armbrust,michael@berkeley.edu,100000]&quot;,&quot;[xiangrui,meng,xiangrui@stanford.edu,120000]&quot;],&quot;department&quot;:&quot;[123456,Computer Science]&quot;,&quot;salary&quot;:100000,&quot;lastName&quot;:&quot;armbrust&quot;,&quot;firstName&quot;:&quot;michael&quot;},{&quot;email&quot;:&quot;xiangrui@stanford.edu&quot;,&quot;employees&quot;:[&quot;[michael,armbrust,michael@berkeley.edu,100000]&quot;,&quot;[xiangrui,meng,xiangrui@stanford.edu,120000]&quot;],&quot;department&quot;:&quot;[123456,Computer Science]&quot;,&quot;salary&quot;:120000,&quot;lastName&quot;:&quot;meng&quot;,&quot;firstName&quot;:&quot;xiangrui&quot;},{&quot;email&quot;:&quot;matei@waterloo.edu&quot;,&quot;employees&quot;:[&quot;[matei,null,matei@waterloo.edu,140000]&quot;,&quot;[null,wendell,wendell@princeton.edu,160000]&quot;],&quot;department&quot;:&quot;[789012,Mechanical Engineering]&quot;,&quot;salary&quot;:140000,&quot;lastName&quot;:null,&quot;firstName&quot;:&quot;matei&quot;},{&quot;email&quot;:&quot;wendell@princeton.edu&quot;,&quot;employees&quot;:[&quot;[matei,null,matei@waterloo.edu,140000]&quot;,&quot;[null,wendell,wendell@princeton.edu,160000]&quot;],&quot;department&quot;:&quot;[789012,Mechanical Engineering]&quot;,&quot;salary&quot;:160000,&quot;lastName&quot;:&quot;wendell&quot;,&quot;firstName&quot;:null},{&quot;email&quot;:&quot;michael@berkeley.edu&quot;,&quot;employees&quot;:[&quot;[michael,armbrust,michael@berkeley.edu,100000]&quot;,&quot;[null,wendell,wendell@princeton.edu,160000]&quot;],&quot;department&quot;:&quot;[345678,Theater and Drama]&quot;,&quot;salary&quot;:100000,&quot;lastName&quot;:&quot;armbrust&quot;,&quot;firstName&quot;:&quot;michael&quot;},{&quot;email&quot;:&quot;wendell@princeton.edu&quot;,&quot;employees&quot;:[&quot;[michael,armbrust,michael@berkeley.edu,100000]&quot;,&quot;[null,wendell,wendell@princeton.edu,160000]&quot;],&quot;department&quot;:&quot;[345678,Theater and Drama]&quot;,&quot;salary&quot;:160000,&quot;lastName&quot;:&quot;wendell&quot;,&quot;firstName&quot;:null},{&quot;email&quot;:&quot;xiangrui@stanford.edu&quot;,&quot;employees&quot;:[&quot;[xiangrui,meng,xiangrui@stanford.edu,120000]&quot;,&quot;[matei,null,matei@waterloo.edu,140000]&quot;],&quot;department&quot;:&quot;[901234,Indoor Recreation]&quot;,&quot;salary&quot;:120000,&quot;lastName&quot;:&quot;meng&quot;,&quot;firstName&quot;:&quot;xiangrui&quot;},{&quot;email&quot;:&quot;matei@waterloo.edu&quot;,&quot;employees&quot;:[&quot;[xiangrui,meng,xiangrui@stanford.edu,120000]&quot;,&quot;[matei,null,matei@waterloo.edu,140000]&quot;],&quot;department&quot;:&quot;[901234,Indoor Recreation]&quot;,&quot;salary&quot;:140000,&quot;lastName&quot;:null,&quot;firstName&quot;:&quot;matei&quot;}],&quot;genId&quot;:&quot;1546046840&quot;}\" type=\"text/x-scoped-javascript\">/*<![CDATA[*/req(['../javascripts/notebook/playground','../javascripts/notebook/magic/tableChart'], \n      function(playground, _magictableChart) {\n        // data ==> data-this (in observable.js's scopedEval) ==> this in JS => { dataId, dataInit, ... }\n        // this ==> scope (in observable.js's scopedEval) ==> this.parentElement ==> div.container below (toHtml)\n\n        playground.call(data,\n                        this\n                        ,\n                        {\n    \"f\": _magictableChart,\n    \"o\": {\"headers\":[\"department\",\"employees\",\"firstName\",\"lastName\",\"email\",\"salary\"],\"width\":600,\"height\":400}\n  }\n  \n                        \n                        \n                      );\n      }\n    );/*]]>*/</script>\n    <div>\n      <span class=\"chart-total-item-count\"><p data-bind=\"text: value\"><script data-this=\"{&quot;valueId&quot;:&quot;anon8934f3b1ac429b906484b33d03ef4fc8&quot;,&quot;initialValue&quot;:&quot;8&quot;}\" type=\"text/x-scoped-javascript\">/*<![CDATA[*/\nreq(\n['observable', 'knockout'],\nfunction (O, ko) {\n  ko.applyBindings({\n      value: O.makeObservable(valueId, initialValue)\n    },\n    this\n  );\n});\n        /*]]>*/</script></p> entries total</span>\n      <span class=\"chart-sampling-warning\"><p data-bind=\"text: value\"><script data-this=\"{&quot;valueId&quot;:&quot;anon502030d52bb1017e8a98640288b065ec&quot;,&quot;initialValue&quot;:&quot;&quot;}\" type=\"text/x-scoped-javascript\">/*<![CDATA[*/\nreq(\n['observable', 'knockout'],\nfunction (O, ko) {\n  ko.applyBindings({\n      value: O.makeObservable(valueId, initialValue)\n    },\n    this\n  );\n});\n        /*]]>*/</script></p></span>\n      <div>\n      </div>\n    </div></div>\n            </div><div class=\"tab-pane\" id=\"tab1954358257-1\">\n            <div>\n      <script data-this=\"{&quot;dataId&quot;:&quot;anon87516e16cfb7ff8399ccb25f9f5cd2a0&quot;,&quot;dataInit&quot;:[{&quot;email&quot;:&quot;michael@berkeley.edu&quot;,&quot;employees&quot;:[&quot;[michael,armbrust,michael@berkeley.edu,100000]&quot;,&quot;[xiangrui,meng,xiangrui@stanford.edu,120000]&quot;],&quot;department&quot;:&quot;[123456,Computer Science]&quot;,&quot;salary&quot;:100000,&quot;lastName&quot;:&quot;armbrust&quot;,&quot;firstName&quot;:&quot;michael&quot;},{&quot;email&quot;:&quot;xiangrui@stanford.edu&quot;,&quot;employees&quot;:[&quot;[michael,armbrust,michael@berkeley.edu,100000]&quot;,&quot;[xiangrui,meng,xiangrui@stanford.edu,120000]&quot;],&quot;department&quot;:&quot;[123456,Computer Science]&quot;,&quot;salary&quot;:120000,&quot;lastName&quot;:&quot;meng&quot;,&quot;firstName&quot;:&quot;xiangrui&quot;},{&quot;email&quot;:&quot;matei@waterloo.edu&quot;,&quot;employees&quot;:[&quot;[matei,null,matei@waterloo.edu,140000]&quot;,&quot;[null,wendell,wendell@princeton.edu,160000]&quot;],&quot;department&quot;:&quot;[789012,Mechanical Engineering]&quot;,&quot;salary&quot;:140000,&quot;lastName&quot;:null,&quot;firstName&quot;:&quot;matei&quot;},{&quot;email&quot;:&quot;wendell@princeton.edu&quot;,&quot;employees&quot;:[&quot;[matei,null,matei@waterloo.edu,140000]&quot;,&quot;[null,wendell,wendell@princeton.edu,160000]&quot;],&quot;department&quot;:&quot;[789012,Mechanical Engineering]&quot;,&quot;salary&quot;:160000,&quot;lastName&quot;:&quot;wendell&quot;,&quot;firstName&quot;:null},{&quot;email&quot;:&quot;michael@berkeley.edu&quot;,&quot;employees&quot;:[&quot;[michael,armbrust,michael@berkeley.edu,100000]&quot;,&quot;[null,wendell,wendell@princeton.edu,160000]&quot;],&quot;department&quot;:&quot;[345678,Theater and Drama]&quot;,&quot;salary&quot;:100000,&quot;lastName&quot;:&quot;armbrust&quot;,&quot;firstName&quot;:&quot;michael&quot;},{&quot;email&quot;:&quot;wendell@princeton.edu&quot;,&quot;employees&quot;:[&quot;[michael,armbrust,michael@berkeley.edu,100000]&quot;,&quot;[null,wendell,wendell@princeton.edu,160000]&quot;],&quot;department&quot;:&quot;[345678,Theater and Drama]&quot;,&quot;salary&quot;:160000,&quot;lastName&quot;:&quot;wendell&quot;,&quot;firstName&quot;:null},{&quot;email&quot;:&quot;xiangrui@stanford.edu&quot;,&quot;employees&quot;:[&quot;[xiangrui,meng,xiangrui@stanford.edu,120000]&quot;,&quot;[matei,null,matei@waterloo.edu,140000]&quot;],&quot;department&quot;:&quot;[901234,Indoor Recreation]&quot;,&quot;salary&quot;:120000,&quot;lastName&quot;:&quot;meng&quot;,&quot;firstName&quot;:&quot;xiangrui&quot;},{&quot;email&quot;:&quot;matei@waterloo.edu&quot;,&quot;employees&quot;:[&quot;[xiangrui,meng,xiangrui@stanford.edu,120000]&quot;,&quot;[matei,null,matei@waterloo.edu,140000]&quot;],&quot;department&quot;:&quot;[901234,Indoor Recreation]&quot;,&quot;salary&quot;:140000,&quot;lastName&quot;:null,&quot;firstName&quot;:&quot;matei&quot;}],&quot;genId&quot;:&quot;1289119668&quot;}\" type=\"text/x-scoped-javascript\">/*<![CDATA[*/req(['../javascripts/notebook/playground','../javascripts/notebook/magic/pivotChart'], \n      function(playground, _magicpivotChart) {\n        // data ==> data-this (in observable.js's scopedEval) ==> this in JS => { dataId, dataInit, ... }\n        // this ==> scope (in observable.js's scopedEval) ==> this.parentElement ==> div.container below (toHtml)\n\n        playground.call(data,\n                        this\n                        ,\n                        {\n    \"f\": _magicpivotChart,\n    \"o\": {\"width\":600,\"height\":400,\"derivedAttributes\":{},\"extraOptions\":{}}\n  }\n  \n                        \n                        \n                      );\n      }\n    );/*]]>*/</script>\n    <div>\n      <span class=\"chart-total-item-count\"><p data-bind=\"text: value\"><script data-this=\"{&quot;valueId&quot;:&quot;anoned66c83defe3a893e19c519dd5afb206&quot;,&quot;initialValue&quot;:&quot;8&quot;}\" type=\"text/x-scoped-javascript\">/*<![CDATA[*/\nreq(\n['observable', 'knockout'],\nfunction (O, ko) {\n  ko.applyBindings({\n      value: O.makeObservable(valueId, initialValue)\n    },\n    this\n  );\n});\n        /*]]>*/</script></p> entries total</span>\n      <span class=\"chart-sampling-warning\"><p data-bind=\"text: value\"><script data-this=\"{&quot;valueId&quot;:&quot;anon4b3f09bff4eb19061c7601c00fbce3f6&quot;,&quot;initialValue&quot;:&quot;&quot;}\" type=\"text/x-scoped-javascript\">/*<![CDATA[*/\nreq(\n['observable', 'knockout'],\nfunction (O, ko) {\n  ko.applyBindings({\n      value: O.makeObservable(valueId, initialValue)\n    },\n    this\n  );\n});\n        /*]]>*/</script></p></span>\n      <div>\n      </div>\n    </div></div>\n            </div></div>\n      </div>\n    </div></div>"
          },
          "output_type" : "execute_result",
          "execution_count" : 10,
          "time" : "Took: 1.618s, at 2018-01-29 15:27"
        }
      ]
    },
    {
      "metadata" : {
        "id" : "01572A2BF2E94D8DAFFAC269901E1C13"
      },
      "cell_type" : "markdown",
      "source" : "### We can also select the first columns "
    },
    {
      "metadata" : {
        "trusted" : true,
        "input_collapsed" : false,
        "collapsed" : false,
        "id" : "14BBA60537CA467F86B89DE06C48A592"
      },
      "cell_type" : "code",
      "source" : [
        "explodeDF.select(\"email\")"
      ],
      "outputs" : [
        {
          "name" : "stdout",
          "output_type" : "stream",
          "text" : "res16: org.apache.spark.sql.DataFrame = [email: string]\n"
        },
        {
          "metadata" : { },
          "data" : {
            "text/html" : "<div class=\"df-canvas\">\n      <script data-this=\"{&quot;dataId&quot;:&quot;anon228b33dd4cb574eca5d74df271c553e4&quot;,&quot;partitionIndexId&quot;:&quot;anon088971465a421d1d3847881577dcf987&quot;,&quot;numPartitions&quot;:1,&quot;dfSchema&quot;:{&quot;type&quot;:&quot;struct&quot;,&quot;fields&quot;:[{&quot;name&quot;:&quot;email&quot;,&quot;type&quot;:&quot;string&quot;,&quot;nullable&quot;:true,&quot;metadata&quot;:{}}]}}\" type=\"text/x-scoped-javascript\">/*<![CDATA[*/req(['../javascripts/notebook/dataframe','../javascripts/notebook/consoleDir'], \n      function(dataframe, extension) {\n        dataframe.call(data, this, extension);\n      }\n    );/*]]>*/</script>\n      <link rel=\"stylesheet\" href=\"/assets/stylesheets/ipython/css/dataframe.css\" type=\"text/css\"/>\n    </div>"
          },
          "output_type" : "execute_result",
          "execution_count" : 11,
          "time" : "Took: 1.610s, at 2018-01-29 15:27"
        }
      ]
    },
    {
      "metadata" : {
        "id" : "CAA4C7BDA3A14B9F876FDE4E0E16A5FF"
      },
      "cell_type" : "markdown",
      "source" : "### or filter and sort... "
    },
    {
      "metadata" : {
        "trusted" : true,
        "input_collapsed" : false,
        "collapsed" : false,
        "presentation" : {
          "tabs_state" : "{\n  \"tab_id\": \"#tab1727444056-0\"\n}",
          "pivot_chart_state" : "{\n  \"hiddenAttributes\": [],\n  \"menuLimit\": 200,\n  \"cols\": [],\n  \"rows\": [],\n  \"vals\": [],\n  \"exclusions\": {},\n  \"inclusions\": {},\n  \"unusedAttrsVertical\": 85,\n  \"autoSortUnusedAttrs\": false,\n  \"inclusionsInfo\": {},\n  \"aggregatorName\": \"Count\",\n  \"rendererName\": \"Table\"\n}"
        },
        "id" : "78A6CA7CE4624E8AB01A3C7FFDBF84B6"
      },
      "cell_type" : "code",
      "source" : [
        "val filterDF = explodeDF\n",
        "  .filter($\"firstName\" === \"xiangrui\" || $\"firstName\" === \"michael\")\n",
        "  .sort($\"lastName\".asc)\n",
        "display(filterDF)"
      ],
      "outputs" : [
        {
          "name" : "stdout",
          "output_type" : "stream",
          "text" : "filterDF: org.apache.spark.sql.Dataset[org.apache.spark.sql.Row] = [department: struct<id: string, name: string>, employees: array<struct<firstName:string,lastName:string,email:string,salary:int>> ... 4 more fields]\nres18: notebook.front.Widget = <Tabs widget>\n"
        },
        {
          "metadata" : { },
          "data" : {
            "text/html" : "<div>\n      <script data-this=\"{&quot;dataId&quot;:&quot;anonc0eb7f78bbfa390c08649b69f5b10992&quot;,&quot;dataInit&quot;:[],&quot;genId&quot;:&quot;1727444056&quot;}\" type=\"text/x-scoped-javascript\">/*<![CDATA[*/req(['../javascripts/notebook/playground','../javascripts/notebook/magic/tabs'], \n      function(playground, _magictabs) {\n        // data ==> data-this (in observable.js's scopedEval) ==> this in JS => { dataId, dataInit, ... }\n        // this ==> scope (in observable.js's scopedEval) ==> this.parentElement ==> div.container below (toHtml)\n\n        playground.call(data,\n                        this\n                        ,\n                        {\n    \"f\": _magictabs,\n    \"o\": {}\n  }\n  \n                        \n                        \n                      );\n      }\n    );/*]]>*/</script>\n    <div>\n      <div>\n        <ul class=\"nav nav-tabs\" id=\"ul1727444056\"><li>\n              <a href=\"#tab1727444056-0\"><i class=\"fa fa-table\"/></a>\n            </li><li>\n              <a href=\"#tab1727444056-1\"><i class=\"fa fa-cubes\"/></a>\n            </li></ul>\n\n        <div class=\"tab-content\" id=\"tab1727444056\"><div class=\"tab-pane\" id=\"tab1727444056-0\">\n            <div>\n      <script data-this=\"{&quot;dataId&quot;:&quot;anonf2c9fde6c6a1ff435a175424050470ca&quot;,&quot;dataInit&quot;:[{&quot;email&quot;:&quot;michael@berkeley.edu&quot;,&quot;employees&quot;:[&quot;[michael,armbrust,michael@berkeley.edu,100000]&quot;,&quot;[null,wendell,wendell@princeton.edu,160000]&quot;],&quot;department&quot;:&quot;[345678,Theater and Drama]&quot;,&quot;salary&quot;:100000,&quot;lastName&quot;:&quot;armbrust&quot;,&quot;firstName&quot;:&quot;michael&quot;},{&quot;email&quot;:&quot;michael@berkeley.edu&quot;,&quot;employees&quot;:[&quot;[michael,armbrust,michael@berkeley.edu,100000]&quot;,&quot;[xiangrui,meng,xiangrui@stanford.edu,120000]&quot;],&quot;department&quot;:&quot;[123456,Computer Science]&quot;,&quot;salary&quot;:100000,&quot;lastName&quot;:&quot;armbrust&quot;,&quot;firstName&quot;:&quot;michael&quot;},{&quot;email&quot;:&quot;xiangrui@stanford.edu&quot;,&quot;employees&quot;:[&quot;[xiangrui,meng,xiangrui@stanford.edu,120000]&quot;,&quot;[matei,null,matei@waterloo.edu,140000]&quot;],&quot;department&quot;:&quot;[901234,Indoor Recreation]&quot;,&quot;salary&quot;:120000,&quot;lastName&quot;:&quot;meng&quot;,&quot;firstName&quot;:&quot;xiangrui&quot;},{&quot;email&quot;:&quot;xiangrui@stanford.edu&quot;,&quot;employees&quot;:[&quot;[michael,armbrust,michael@berkeley.edu,100000]&quot;,&quot;[xiangrui,meng,xiangrui@stanford.edu,120000]&quot;],&quot;department&quot;:&quot;[123456,Computer Science]&quot;,&quot;salary&quot;:120000,&quot;lastName&quot;:&quot;meng&quot;,&quot;firstName&quot;:&quot;xiangrui&quot;}],&quot;genId&quot;:&quot;1613558645&quot;}\" type=\"text/x-scoped-javascript\">/*<![CDATA[*/req(['../javascripts/notebook/playground','../javascripts/notebook/magic/tableChart'], \n      function(playground, _magictableChart) {\n        // data ==> data-this (in observable.js's scopedEval) ==> this in JS => { dataId, dataInit, ... }\n        // this ==> scope (in observable.js's scopedEval) ==> this.parentElement ==> div.container below (toHtml)\n\n        playground.call(data,\n                        this\n                        ,\n                        {\n    \"f\": _magictableChart,\n    \"o\": {\"headers\":[\"department\",\"employees\",\"firstName\",\"lastName\",\"email\",\"salary\"],\"width\":600,\"height\":400}\n  }\n  \n                        \n                        \n                      );\n      }\n    );/*]]>*/</script>\n    <div>\n      <span class=\"chart-total-item-count\"><p data-bind=\"text: value\"><script data-this=\"{&quot;valueId&quot;:&quot;anon1edf12b9e219a9c9c5663df701498d0e&quot;,&quot;initialValue&quot;:&quot;4&quot;}\" type=\"text/x-scoped-javascript\">/*<![CDATA[*/\nreq(\n['observable', 'knockout'],\nfunction (O, ko) {\n  ko.applyBindings({\n      value: O.makeObservable(valueId, initialValue)\n    },\n    this\n  );\n});\n        /*]]>*/</script></p> entries total</span>\n      <span class=\"chart-sampling-warning\"><p data-bind=\"text: value\"><script data-this=\"{&quot;valueId&quot;:&quot;anonf24f9563d934a019b23046c0632761c0&quot;,&quot;initialValue&quot;:&quot;&quot;}\" type=\"text/x-scoped-javascript\">/*<![CDATA[*/\nreq(\n['observable', 'knockout'],\nfunction (O, ko) {\n  ko.applyBindings({\n      value: O.makeObservable(valueId, initialValue)\n    },\n    this\n  );\n});\n        /*]]>*/</script></p></span>\n      <div>\n      </div>\n    </div></div>\n            </div><div class=\"tab-pane\" id=\"tab1727444056-1\">\n            <div>\n      <script data-this=\"{&quot;dataId&quot;:&quot;anonb39921fb46838a53e2b351b4c3fa45ca&quot;,&quot;dataInit&quot;:[{&quot;email&quot;:&quot;michael@berkeley.edu&quot;,&quot;employees&quot;:[&quot;[michael,armbrust,michael@berkeley.edu,100000]&quot;,&quot;[null,wendell,wendell@princeton.edu,160000]&quot;],&quot;department&quot;:&quot;[345678,Theater and Drama]&quot;,&quot;salary&quot;:100000,&quot;lastName&quot;:&quot;armbrust&quot;,&quot;firstName&quot;:&quot;michael&quot;},{&quot;email&quot;:&quot;michael@berkeley.edu&quot;,&quot;employees&quot;:[&quot;[michael,armbrust,michael@berkeley.edu,100000]&quot;,&quot;[xiangrui,meng,xiangrui@stanford.edu,120000]&quot;],&quot;department&quot;:&quot;[123456,Computer Science]&quot;,&quot;salary&quot;:100000,&quot;lastName&quot;:&quot;armbrust&quot;,&quot;firstName&quot;:&quot;michael&quot;},{&quot;email&quot;:&quot;xiangrui@stanford.edu&quot;,&quot;employees&quot;:[&quot;[xiangrui,meng,xiangrui@stanford.edu,120000]&quot;,&quot;[matei,null,matei@waterloo.edu,140000]&quot;],&quot;department&quot;:&quot;[901234,Indoor Recreation]&quot;,&quot;salary&quot;:120000,&quot;lastName&quot;:&quot;meng&quot;,&quot;firstName&quot;:&quot;xiangrui&quot;},{&quot;email&quot;:&quot;xiangrui@stanford.edu&quot;,&quot;employees&quot;:[&quot;[michael,armbrust,michael@berkeley.edu,100000]&quot;,&quot;[xiangrui,meng,xiangrui@stanford.edu,120000]&quot;],&quot;department&quot;:&quot;[123456,Computer Science]&quot;,&quot;salary&quot;:120000,&quot;lastName&quot;:&quot;meng&quot;,&quot;firstName&quot;:&quot;xiangrui&quot;}],&quot;genId&quot;:&quot;1871198129&quot;}\" type=\"text/x-scoped-javascript\">/*<![CDATA[*/req(['../javascripts/notebook/playground','../javascripts/notebook/magic/pivotChart'], \n      function(playground, _magicpivotChart) {\n        // data ==> data-this (in observable.js's scopedEval) ==> this in JS => { dataId, dataInit, ... }\n        // this ==> scope (in observable.js's scopedEval) ==> this.parentElement ==> div.container below (toHtml)\n\n        playground.call(data,\n                        this\n                        ,\n                        {\n    \"f\": _magicpivotChart,\n    \"o\": {\"width\":600,\"height\":400,\"derivedAttributes\":{},\"extraOptions\":{}}\n  }\n  \n                        \n                        \n                      );\n      }\n    );/*]]>*/</script>\n    <div>\n      <span class=\"chart-total-item-count\"><p data-bind=\"text: value\"><script data-this=\"{&quot;valueId&quot;:&quot;anon65bff7b17befd1ad563110e885cb330d&quot;,&quot;initialValue&quot;:&quot;4&quot;}\" type=\"text/x-scoped-javascript\">/*<![CDATA[*/\nreq(\n['observable', 'knockout'],\nfunction (O, ko) {\n  ko.applyBindings({\n      value: O.makeObservable(valueId, initialValue)\n    },\n    this\n  );\n});\n        /*]]>*/</script></p> entries total</span>\n      <span class=\"chart-sampling-warning\"><p data-bind=\"text: value\"><script data-this=\"{&quot;valueId&quot;:&quot;anon6732b7a961361f7e2c4d18d345e32077&quot;,&quot;initialValue&quot;:&quot;&quot;}\" type=\"text/x-scoped-javascript\">/*<![CDATA[*/\nreq(\n['observable', 'knockout'],\nfunction (O, ko) {\n  ko.applyBindings({\n      value: O.makeObservable(valueId, initialValue)\n    },\n    this\n  );\n});\n        /*]]>*/</script></p></span>\n      <div>\n      </div>\n    </div></div>\n            </div></div>\n      </div>\n    </div></div>"
          },
          "output_type" : "execute_result",
          "execution_count" : 12,
          "time" : "Took: 1.468s, at 2018-01-29 15:27"
        }
      ]
    },
    {
      "metadata" : {
        "id" : "09F3BE635DED401CB9407EC05AF158C9"
      },
      "cell_type" : "markdown",
      "source" : "### We can apply \"where\" directly inside Dataframe"
    },
    {
      "metadata" : {
        "trusted" : true,
        "input_collapsed" : false,
        "collapsed" : false,
        "presentation" : {
          "tabs_state" : "{\n  \"tab_id\": \"#tab110165778-0\"\n}",
          "pivot_chart_state" : "{\n  \"hiddenAttributes\": [],\n  \"menuLimit\": 200,\n  \"cols\": [],\n  \"rows\": [],\n  \"vals\": [],\n  \"exclusions\": {},\n  \"inclusions\": {},\n  \"unusedAttrsVertical\": 85,\n  \"autoSortUnusedAttrs\": false,\n  \"inclusionsInfo\": {},\n  \"aggregatorName\": \"Count\",\n  \"rendererName\": \"Table\"\n}"
        },
        "id" : "FA0AA0EDFDB144F8A364E73A29C66F13"
      },
      "cell_type" : "code",
      "source" : [
        "val whereDF = explodeDF.where(($\"firstName\" === \"xiangrui\") || ($\"firstName\" === \"michael\")).sort($\"lastName\".asc)\n",
        "display(whereDF)"
      ],
      "outputs" : [
        {
          "name" : "stdout",
          "output_type" : "stream",
          "text" : "whereDF: org.apache.spark.sql.Dataset[org.apache.spark.sql.Row] = [department: struct<id: string, name: string>, employees: array<struct<firstName:string,lastName:string,email:string,salary:int>> ... 4 more fields]\nres20: notebook.front.Widget = <Tabs widget>\n"
        },
        {
          "metadata" : { },
          "data" : {
            "text/html" : "<div>\n      <script data-this=\"{&quot;dataId&quot;:&quot;anone0f52ec5023973104af8469410608e87&quot;,&quot;dataInit&quot;:[],&quot;genId&quot;:&quot;110165778&quot;}\" type=\"text/x-scoped-javascript\">/*<![CDATA[*/req(['../javascripts/notebook/playground','../javascripts/notebook/magic/tabs'], \n      function(playground, _magictabs) {\n        // data ==> data-this (in observable.js's scopedEval) ==> this in JS => { dataId, dataInit, ... }\n        // this ==> scope (in observable.js's scopedEval) ==> this.parentElement ==> div.container below (toHtml)\n\n        playground.call(data,\n                        this\n                        ,\n                        {\n    \"f\": _magictabs,\n    \"o\": {}\n  }\n  \n                        \n                        \n                      );\n      }\n    );/*]]>*/</script>\n    <div>\n      <div>\n        <ul class=\"nav nav-tabs\" id=\"ul110165778\"><li>\n              <a href=\"#tab110165778-0\"><i class=\"fa fa-table\"/></a>\n            </li><li>\n              <a href=\"#tab110165778-1\"><i class=\"fa fa-cubes\"/></a>\n            </li></ul>\n\n        <div class=\"tab-content\" id=\"tab110165778\"><div class=\"tab-pane\" id=\"tab110165778-0\">\n            <div>\n      <script data-this=\"{&quot;dataId&quot;:&quot;anon0241cc76b97831982a028d585cfdcae6&quot;,&quot;dataInit&quot;:[{&quot;email&quot;:&quot;michael@berkeley.edu&quot;,&quot;employees&quot;:[&quot;[michael,armbrust,michael@berkeley.edu,100000]&quot;,&quot;[null,wendell,wendell@princeton.edu,160000]&quot;],&quot;department&quot;:&quot;[345678,Theater and Drama]&quot;,&quot;salary&quot;:100000,&quot;lastName&quot;:&quot;armbrust&quot;,&quot;firstName&quot;:&quot;michael&quot;},{&quot;email&quot;:&quot;michael@berkeley.edu&quot;,&quot;employees&quot;:[&quot;[michael,armbrust,michael@berkeley.edu,100000]&quot;,&quot;[xiangrui,meng,xiangrui@stanford.edu,120000]&quot;],&quot;department&quot;:&quot;[123456,Computer Science]&quot;,&quot;salary&quot;:100000,&quot;lastName&quot;:&quot;armbrust&quot;,&quot;firstName&quot;:&quot;michael&quot;},{&quot;email&quot;:&quot;xiangrui@stanford.edu&quot;,&quot;employees&quot;:[&quot;[michael,armbrust,michael@berkeley.edu,100000]&quot;,&quot;[xiangrui,meng,xiangrui@stanford.edu,120000]&quot;],&quot;department&quot;:&quot;[123456,Computer Science]&quot;,&quot;salary&quot;:120000,&quot;lastName&quot;:&quot;meng&quot;,&quot;firstName&quot;:&quot;xiangrui&quot;},{&quot;email&quot;:&quot;xiangrui@stanford.edu&quot;,&quot;employees&quot;:[&quot;[xiangrui,meng,xiangrui@stanford.edu,120000]&quot;,&quot;[matei,null,matei@waterloo.edu,140000]&quot;],&quot;department&quot;:&quot;[901234,Indoor Recreation]&quot;,&quot;salary&quot;:120000,&quot;lastName&quot;:&quot;meng&quot;,&quot;firstName&quot;:&quot;xiangrui&quot;}],&quot;genId&quot;:&quot;2028338619&quot;}\" type=\"text/x-scoped-javascript\">/*<![CDATA[*/req(['../javascripts/notebook/playground','../javascripts/notebook/magic/tableChart'], \n      function(playground, _magictableChart) {\n        // data ==> data-this (in observable.js's scopedEval) ==> this in JS => { dataId, dataInit, ... }\n        // this ==> scope (in observable.js's scopedEval) ==> this.parentElement ==> div.container below (toHtml)\n\n        playground.call(data,\n                        this\n                        ,\n                        {\n    \"f\": _magictableChart,\n    \"o\": {\"headers\":[\"department\",\"employees\",\"firstName\",\"lastName\",\"email\",\"salary\"],\"width\":600,\"height\":400}\n  }\n  \n                        \n                        \n                      );\n      }\n    );/*]]>*/</script>\n    <div>\n      <span class=\"chart-total-item-count\"><p data-bind=\"text: value\"><script data-this=\"{&quot;valueId&quot;:&quot;anonfa3ffb5f48f51ce4af8419677b40a078&quot;,&quot;initialValue&quot;:&quot;4&quot;}\" type=\"text/x-scoped-javascript\">/*<![CDATA[*/\nreq(\n['observable', 'knockout'],\nfunction (O, ko) {\n  ko.applyBindings({\n      value: O.makeObservable(valueId, initialValue)\n    },\n    this\n  );\n});\n        /*]]>*/</script></p> entries total</span>\n      <span class=\"chart-sampling-warning\"><p data-bind=\"text: value\"><script data-this=\"{&quot;valueId&quot;:&quot;anonaa1d8384081eebff9c78f5d4af1d2415&quot;,&quot;initialValue&quot;:&quot;&quot;}\" type=\"text/x-scoped-javascript\">/*<![CDATA[*/\nreq(\n['observable', 'knockout'],\nfunction (O, ko) {\n  ko.applyBindings({\n      value: O.makeObservable(valueId, initialValue)\n    },\n    this\n  );\n});\n        /*]]>*/</script></p></span>\n      <div>\n      </div>\n    </div></div>\n            </div><div class=\"tab-pane\" id=\"tab110165778-1\">\n            <div>\n      <script data-this=\"{&quot;dataId&quot;:&quot;anone879795473a4de27166e6e1953cce5fd&quot;,&quot;dataInit&quot;:[{&quot;email&quot;:&quot;michael@berkeley.edu&quot;,&quot;employees&quot;:[&quot;[michael,armbrust,michael@berkeley.edu,100000]&quot;,&quot;[null,wendell,wendell@princeton.edu,160000]&quot;],&quot;department&quot;:&quot;[345678,Theater and Drama]&quot;,&quot;salary&quot;:100000,&quot;lastName&quot;:&quot;armbrust&quot;,&quot;firstName&quot;:&quot;michael&quot;},{&quot;email&quot;:&quot;michael@berkeley.edu&quot;,&quot;employees&quot;:[&quot;[michael,armbrust,michael@berkeley.edu,100000]&quot;,&quot;[xiangrui,meng,xiangrui@stanford.edu,120000]&quot;],&quot;department&quot;:&quot;[123456,Computer Science]&quot;,&quot;salary&quot;:100000,&quot;lastName&quot;:&quot;armbrust&quot;,&quot;firstName&quot;:&quot;michael&quot;},{&quot;email&quot;:&quot;xiangrui@stanford.edu&quot;,&quot;employees&quot;:[&quot;[michael,armbrust,michael@berkeley.edu,100000]&quot;,&quot;[xiangrui,meng,xiangrui@stanford.edu,120000]&quot;],&quot;department&quot;:&quot;[123456,Computer Science]&quot;,&quot;salary&quot;:120000,&quot;lastName&quot;:&quot;meng&quot;,&quot;firstName&quot;:&quot;xiangrui&quot;},{&quot;email&quot;:&quot;xiangrui@stanford.edu&quot;,&quot;employees&quot;:[&quot;[xiangrui,meng,xiangrui@stanford.edu,120000]&quot;,&quot;[matei,null,matei@waterloo.edu,140000]&quot;],&quot;department&quot;:&quot;[901234,Indoor Recreation]&quot;,&quot;salary&quot;:120000,&quot;lastName&quot;:&quot;meng&quot;,&quot;firstName&quot;:&quot;xiangrui&quot;}],&quot;genId&quot;:&quot;231310956&quot;}\" type=\"text/x-scoped-javascript\">/*<![CDATA[*/req(['../javascripts/notebook/playground','../javascripts/notebook/magic/pivotChart'], \n      function(playground, _magicpivotChart) {\n        // data ==> data-this (in observable.js's scopedEval) ==> this in JS => { dataId, dataInit, ... }\n        // this ==> scope (in observable.js's scopedEval) ==> this.parentElement ==> div.container below (toHtml)\n\n        playground.call(data,\n                        this\n                        ,\n                        {\n    \"f\": _magicpivotChart,\n    \"o\": {\"width\":600,\"height\":400,\"derivedAttributes\":{},\"extraOptions\":{}}\n  }\n  \n                        \n                        \n                      );\n      }\n    );/*]]>*/</script>\n    <div>\n      <span class=\"chart-total-item-count\"><p data-bind=\"text: value\"><script data-this=\"{&quot;valueId&quot;:&quot;anonf07fceb6db291586d4ce56f25b753f39&quot;,&quot;initialValue&quot;:&quot;4&quot;}\" type=\"text/x-scoped-javascript\">/*<![CDATA[*/\nreq(\n['observable', 'knockout'],\nfunction (O, ko) {\n  ko.applyBindings({\n      value: O.makeObservable(valueId, initialValue)\n    },\n    this\n  );\n});\n        /*]]>*/</script></p> entries total</span>\n      <span class=\"chart-sampling-warning\"><p data-bind=\"text: value\"><script data-this=\"{&quot;valueId&quot;:&quot;anon2ff565ca7dc064cc270f5d8292b66049&quot;,&quot;initialValue&quot;:&quot;&quot;}\" type=\"text/x-scoped-javascript\">/*<![CDATA[*/\nreq(\n['observable', 'knockout'],\nfunction (O, ko) {\n  ko.applyBindings({\n      value: O.makeObservable(valueId, initialValue)\n    },\n    this\n  );\n});\n        /*]]>*/</script></p></span>\n      <div>\n      </div>\n    </div></div>\n            </div></div>\n      </div>\n    </div></div>"
          },
          "output_type" : "execute_result",
          "execution_count" : 13,
          "time" : "Took: 1.245s, at 2018-01-29 15:27"
        }
      ]
    },
    {
      "metadata" : {
        "id" : "EBE2D2137E29458F8E5ECE56862C6042"
      },
      "cell_type" : "markdown",
      "source" : "### From DataFrame to Dataset\n\nFor example, if we want to get 2 columns firstName and lastName and convert it to an RDD, we should know the type of theses 2 columns."
    },
    {
      "metadata" : {
        "trusted" : true,
        "input_collapsed" : false,
        "collapsed" : false,
        "id" : "55FA98EBCCBF4D1E89EB830A5AED149B"
      },
      "cell_type" : "code",
      "source" : [
        "val dataset = explodeDF.map(l => (l(2).asInstanceOf[String], l(3).asInstanceOf[String]))"
      ],
      "outputs" : [
        {
          "name" : "stdout",
          "output_type" : "stream",
          "text" : "dataset: org.apache.spark.sql.Dataset[(String, String)] = [_1: string, _2: string]\n"
        },
        {
          "metadata" : { },
          "data" : {
            "text/html" : ""
          },
          "output_type" : "execute_result",
          "execution_count" : 14,
          "time" : "Took: 0.917s, at 2018-01-29 15:27"
        }
      ]
    },
    {
      "metadata" : {
        "id" : "1EB1B8903ABA49378DF8F3E69DD46872"
      },
      "cell_type" : "markdown",
      "source" : "### We can also save a DataFrame with format Parquet"
    },
    {
      "metadata" : {
        "trusted" : true,
        "input_collapsed" : false,
        "collapsed" : false,
        "id" : "11E44843EB584AC18C365969729B43DF"
      },
      "cell_type" : "code",
      "source" : [
        "val savePath = \"hdfs://hupi-factory-02-01-01-01/user/hupi/dataset_torusVN/formation2_parquetEx\"\n",
        "\n",
        "unionDF.write.parquet(savePath)"
      ],
      "outputs" : [
        {
          "name" : "stdout",
          "output_type" : "stream",
          "text" : "org.apache.spark.sql.AnalysisException: path hdfs://hupi-factory-02-01-01-01/user/hupi/dataset_torusVN/formation2_parquetEx already exists.;\n  at org.apache.spark.sql.execution.datasources.InsertIntoHadoopFsRelationCommand.run(InsertIntoHadoopFsRelationCommand.scala:80)\n  at org.apache.spark.sql.execution.command.ExecutedCommandExec.sideEffectResult$lzycompute(commands.scala:58)\n  at org.apache.spark.sql.execution.command.ExecutedCommandExec.sideEffectResult(commands.scala:56)\n  at org.apache.spark.sql.execution.command.ExecutedCommandExec.doExecute(commands.scala:74)\n  at org.apache.spark.sql.execution.SparkPlan$$anonfun$execute$1.apply(SparkPlan.scala:114)\n  at org.apache.spark.sql.execution.SparkPlan$$anonfun$execute$1.apply(SparkPlan.scala:114)\n  at org.apache.spark.sql.execution.SparkPlan$$anonfun$executeQuery$1.apply(SparkPlan.scala:135)\n  at org.apache.spark.rdd.RDDOperationScope$.withScope(RDDOperationScope.scala:151)\n  at org.apache.spark.sql.execution.SparkPlan.executeQuery(SparkPlan.scala:132)\n  at org.apache.spark.sql.execution.SparkPlan.execute(SparkPlan.scala:113)\n  at org.apache.spark.sql.execution.QueryExecution.toRdd$lzycompute(QueryExecution.scala:92)\n  at org.apache.spark.sql.execution.QueryExecution.toRdd(QueryExecution.scala:92)\n  at org.apache.spark.sql.execution.datasources.DataSource.writeInFileFormat(DataSource.scala:484)\n  at org.apache.spark.sql.execution.datasources.DataSource.write(DataSource.scala:520)\n  at org.apache.spark.sql.DataFrameWriter.save(DataFrameWriter.scala:215)\n  at org.apache.spark.sql.DataFrameWriter.save(DataFrameWriter.scala:198)\n  at org.apache.spark.sql.DataFrameWriter.parquet(DataFrameWriter.scala:494)\n  ... 63 elided\n"
        }
      ]
    },
    {
      "metadata" : {
        "trusted" : true,
        "input_collapsed" : false,
        "collapsed" : false,
        "id" : "956DFAB9B52E48F2A99A6680FE4746CB"
      },
      "cell_type" : "code",
      "source" : [
        "// Then we can read this parquetFile\n",
        "val sqlContext = new org.apache.spark.sql.SQLContext(sc)\n",
        "val parquetDF = sqlContext.read.parquet(savePath)"
      ],
      "outputs" : [
        {
          "name" : "stdout",
          "output_type" : "stream",
          "text" : "<console>:69: error: not found: value savePath\n       val parquetDF = sqlContext.read.parquet(savePath)\n                                               ^\n"
        }
      ]
    },
    {
      "metadata" : {
        "trusted" : true,
        "input_collapsed" : false,
        "collapsed" : false,
        "id" : "7376D7F20EA144389F847DD6971C358D"
      },
      "cell_type" : "code",
      "source" : [
        "parquetDF.show()"
      ],
      "outputs" : [
        {
          "name" : "stdout",
          "output_type" : "stream",
          "text" : "<console>:69: error: not found: value parquetDF\n       parquetDF.show()\n       ^\n"
        }
      ]
    },
    {
      "metadata" : {
        "trusted" : true,
        "input_collapsed" : false,
        "collapsed" : false,
        "id" : "4C92090C0FEC49B9895578ADC7BE61F4"
      },
      "cell_type" : "code",
      "source" : [
        ""
      ],
      "outputs" : [
        {
          "metadata" : { },
          "data" : {
            "text/html" : ""
          },
          "output_type" : "execute_result",
          "execution_count" : 18,
          "time" : "Took: 0.890s, at 2018-01-29 15:27"
        }
      ]
    }
  ],
  "nbformat" : 4
}