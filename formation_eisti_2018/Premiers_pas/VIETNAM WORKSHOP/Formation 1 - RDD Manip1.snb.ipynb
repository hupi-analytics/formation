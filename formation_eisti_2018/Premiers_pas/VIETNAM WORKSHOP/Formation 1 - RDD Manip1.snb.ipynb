{
  "metadata" : {
    "id" : "9bdf906e-19af-437b-af1f-35d9bb05bf16",
    "name" : "Formation 1 - RDD Manip1",
    "user_save_timestamp" : "1970-01-01T00:00:00.000Z",
    "auto_save_timestamp" : "1970-01-01T00:00:00.000Z",
    "language_info" : {
      "name" : "scala",
      "file_extension" : "scala",
      "codemirror_mode" : "text/x-scala"
    },
    "trusted" : true,
    "sparkNotebook" : null,
    "customLocalRepo" : null,
    "customRepos" : null,
    "customDeps" : null,
    "customImports" : null,
    "customArgs" : null,
    "customSparkConf" : null,
    "customVars" : null
  },
  "cells" : [
    {
      "metadata" : {
        "id" : "F7F639F1BAFE4AA7807194E010ADA919"
      },
      "cell_type" : "markdown",
      "source" : "<img src=http://fd.perso.eisti.fr/Logos/TORUS2.png>\n\n\n# RDD Manipulations "
    },
    {
      "metadata" : {
        "id" : "30CC433AB76045F8BD496EF594E583F0"
      },
      "cell_type" : "markdown",
      "source" : "In this section, we will present to you some basics manipulations that we can do with RDD - Resilient Distributed Dataset, the basic abstraction in Spark. \n\nIn resume, \"it represents an immutable, partitioned collection of elements that can be operated on in parallel. This class contains the basic operations available on all RDDs, such as map, filter, and persist. In addition, PairRDDFunctions contains operations available only on RDDs of key-value pairs, such as groupByKey and join; DoubleRDDFunctions contains operations available only on RDDs of Doubles; and SequenceFileRDDFunctions contains operations available on RDDs that can be saved as SequenceFiles. All operations are automatically available on any RDD of the right type (e.g. RDD[(Int, Int)] through implicit.\n\nInternally, each RDD is characterized by five main properties:\n\n- A list of partitions \n- A function for computing each split \n- A list of dependencies on other RDDs \n- Optionally, a Partitioner for key-value RDDs (e.g. to say that the RDD is hash-partitioned) \n- Optionally, a list of preferred locations to compute each split on (e.g. block locations for an HDFS file)\n\nAll of the scheduling and execution in Spark is done based on these methods, allowing each RDD to implement its own way of computing itself. Indeed, users can implement custom RDDs (e.g. for reading data from a new storage system) by overriding these functions. Please refer to the Spark paper for more details on RDD internals.\"\n\n(Source : https://spark.apache.org/docs/latest/api/java/org/apache/spark/rdd/RDD.html).\n\nWhen we talk about RDD, we have actions and transformations. Transformations in RDD means we just convert the type of RDD1 to RDD2 without executing or trying to find out what will be the results, otherwise transformations in RDD won't take much time (ex : map, flatMap, etc.). Actions in RDD means we compute really the results (ex : count, collect, take, etc.).\n\nTo illustrate some basics actions and transformations in RDD, let's take a Word Counts example!"
    },
    {
      "metadata" : {
        "id" : "2709F980CE5245F497F9B15C9CF1F35F"
      },
      "cell_type" : "markdown",
      "source" : "### We read data from HDFS. By using sc, we have a RDD in the output"
    },
    {
      "metadata" : {
        "trusted" : true,
        "input_collapsed" : false,
        "collapsed" : false,
        "id" : "72B41204DF59495CBA7465A252AA06AC"
      },
      "cell_type" : "code",
      "source" : [
        "val data = sc.textFile(\"hdfs://hupi-factory-02-01-01-01/user/hupi/dataset_torusVN/WordCountDataset.txt\")\n",
        "\n",
        "/*\n",
        "Here we used sc.textFile to read a text file in HDFS, if you want to read a json file  \n",
        "\n",
        "import org.apache.spark.sql.SparkSession\n",
        "\n",
        "val spark = SparkSession\n",
        "  .builder()\n",
        "  .appName(\"Spark SQL basic example\") \n",
        "  .getOrCreate()\n",
        "\n",
        "// For implicit conversions like converting RDDs to DataFrames\n",
        "import spark.implicits._\n",
        "\n",
        "val df = spark.read.json(\"examples/src/main/resources/example.json\") // we have a Dataset here\n",
        "*/"
      ],
      "outputs" : [
        {
          "name" : "stdout",
          "output_type" : "stream",
          "text" : "data: org.apache.spark.rdd.RDD[String] = hdfs://hupi-factory-02-01-01-01/user/hupi/dataset_torusVN/WordCountDataset.txt MapPartitionsRDD[1] at textFile at <console>:67\n"
        },
        {
          "metadata" : { },
          "data" : {
            "text/html" : ""
          },
          "output_type" : "execute_result",
          "execution_count" : 1,
          "time" : "Took: 1.568s, at 2017-09-06 07:38"
        }
      ]
    },
    {
      "metadata" : {
        "id" : "97ECB351F08C42DD80F3043F49C19D22"
      },
      "cell_type" : "markdown",
      "source" : "### We count number of lines in data"
    },
    {
      "metadata" : {
        "trusted" : true,
        "input_collapsed" : false,
        "collapsed" : false,
        "id" : "E69AD26DF5FA47E78548FCF4F2F01E59"
      },
      "cell_type" : "code",
      "source" : [
        "data.count()"
      ],
      "outputs" : [
        {
          "name" : "stdout",
          "output_type" : "stream",
          "text" : "res2: Long = 4\n"
        },
        {
          "metadata" : { },
          "data" : {
            "text/html" : "4"
          },
          "output_type" : "execute_result",
          "execution_count" : 2,
          "time" : "Took: 2.563s, at 2017-09-06 07:40"
        }
      ]
    },
    {
      "metadata" : {
        "id" : "4F3B80A5B5A9441C81499D234598A0C4"
      },
      "cell_type" : "markdown",
      "source" : "### We can see all of data, but be careful of this action because if data is too big, it can crash the notebook!"
    },
    {
      "metadata" : {
        "trusted" : true,
        "input_collapsed" : false,
        "collapsed" : false,
        "presentation" : {
          "tabs_state" : "{\n  \"tab_id\": \"#tab1708134600-0\"\n}",
          "pivot_chart_state" : "{\n  \"hiddenAttributes\": [],\n  \"menuLimit\": 200,\n  \"cols\": [],\n  \"rows\": [],\n  \"vals\": [],\n  \"exclusions\": {},\n  \"inclusions\": {},\n  \"unusedAttrsVertical\": 85,\n  \"autoSortUnusedAttrs\": false,\n  \"inclusionsInfo\": {},\n  \"aggregatorName\": \"Count\",\n  \"rendererName\": \"Table\"\n}"
        },
        "id" : "3CD3833D84CD45CC98E62FBE8D3956F1"
      },
      "cell_type" : "code",
      "source" : [
        "data.collect()"
      ],
      "outputs" : [
        {
          "name" : "stdout",
          "output_type" : "stream",
          "text" : "res4: Array[String] = Array(A Resilient Distributed Dataset (RDD), the basic abstraction in Spark. Represents an immutable, partitioned collection of elements that can be operated on in parallel. This class contains the basic operations available on all RDDs, such as map, filter, and persist. In addition, PairRDDFunctions contains operations available only on RDDs of key-value pairs, such as groupByKey and join; DoubleRDDFunctions contains operations available only on RDDs of Doubles; and SequenceFileRDDFunctions contains operations available on RDDs that can be saved as SequenceFiles., Internally, each RDD is characterized by five main properties:, - A list of partitions - A function for computing each split - A list of dependencies on other RDDs - Optionally, a Partitioner for key-val..."
        },
        {
          "metadata" : { },
          "data" : {
            "text/html" : "<div>\n      <script data-this=\"{&quot;dataId&quot;:&quot;anonff6cea06b01cafee14e920462d0b586b&quot;,&quot;dataInit&quot;:[],&quot;genId&quot;:&quot;1708134600&quot;}\" type=\"text/x-scoped-javascript\">/*<![CDATA[*/req(['../javascripts/notebook/playground','../javascripts/notebook/magic/tabs'], \n      function(playground, _magictabs) {\n        // data ==> data-this (in observable.js's scopedEval) ==> this in JS => { dataId, dataInit, ... }\n        // this ==> scope (in observable.js's scopedEval) ==> this.parentElement ==> div.container below (toHtml)\n\n        playground.call(data,\n                        this\n                        ,\n                        {\n    \"f\": _magictabs,\n    \"o\": {}\n  }\n  \n                        \n                        \n                      );\n      }\n    );/*]]>*/</script>\n    <div>\n      <div>\n        <ul class=\"nav nav-tabs\" id=\"ul1708134600\"><li>\n              <a href=\"#tab1708134600-0\"><i class=\"fa fa-table\"/></a>\n            </li><li>\n              <a href=\"#tab1708134600-1\"><i class=\"fa fa-cubes\"/></a>\n            </li></ul>\n\n        <div class=\"tab-content\" id=\"tab1708134600\"><div class=\"tab-pane\" id=\"tab1708134600-0\">\n            <div>\n      <script data-this=\"{&quot;dataId&quot;:&quot;anonc16eecac7a5dbb1caa5605dcfb0c45fb&quot;,&quot;dataInit&quot;:[{&quot;string value&quot;:&quot;A Resilient Distributed Dataset (RDD), the basic abstraction in Spark. Represents an immutable, partitioned collection of elements that can be operated on in parallel. This class contains the basic operations available on all RDDs, such as map, filter, and persist. In addition, PairRDDFunctions contains operations available only on RDDs of key-value pairs, such as groupByKey and join; DoubleRDDFunctions contains operations available only on RDDs of Doubles; and SequenceFileRDDFunctions contains operations available on RDDs that can be saved as SequenceFiles.&quot;},{&quot;string value&quot;:&quot;Internally, each RDD is characterized by five main properties:&quot;},{&quot;string value&quot;:&quot;- A list of partitions - A function for computing each split - A list of dependencies on other RDDs - Optionally, a Partitioner for key-value RDDs (e.g. to say that the RDD is hash-partitioned) - Optionally, a list of preferred locations to compute each split on (e.g. block locations for an HDFS file)&quot;},{&quot;string value&quot;:&quot;All of the scheduling and execution in Spark is done based on these methods, allowing each RDD to implement its own way of computing itself. Indeed, users can implement custom RDDs (e.g. for reading data from a new storage system) by overriding these functions. Please refer to the Spark paper for more details on RDD internals.&quot;}],&quot;genId&quot;:&quot;484528317&quot;}\" type=\"text/x-scoped-javascript\">/*<![CDATA[*/req(['../javascripts/notebook/playground','../javascripts/notebook/magic/tableChart'], \n      function(playground, _magictableChart) {\n        // data ==> data-this (in observable.js's scopedEval) ==> this in JS => { dataId, dataInit, ... }\n        // this ==> scope (in observable.js's scopedEval) ==> this.parentElement ==> div.container below (toHtml)\n\n        playground.call(data,\n                        this\n                        ,\n                        {\n    \"f\": _magictableChart,\n    \"o\": {\"headers\":[\"string value\"],\"width\":600,\"height\":400}\n  }\n  \n                        \n                        \n                      );\n      }\n    );/*]]>*/</script>\n    <div>\n      <span class=\"chart-total-item-count\"><p data-bind=\"text: value\"><script data-this=\"{&quot;valueId&quot;:&quot;anon233a04f607e2463fb7897e3e373d494a&quot;,&quot;initialValue&quot;:&quot;4&quot;}\" type=\"text/x-scoped-javascript\">/*<![CDATA[*/\nreq(\n['observable', 'knockout'],\nfunction (O, ko) {\n  ko.applyBindings({\n      value: O.makeObservable(valueId, initialValue)\n    },\n    this\n  );\n});\n        /*]]>*/</script></p> entries total</span>\n      <span class=\"chart-sampling-warning\"><p data-bind=\"text: value\"><script data-this=\"{&quot;valueId&quot;:&quot;anone83dbe16422f503256c17d9fc7f0b63e&quot;,&quot;initialValue&quot;:&quot;&quot;}\" type=\"text/x-scoped-javascript\">/*<![CDATA[*/\nreq(\n['observable', 'knockout'],\nfunction (O, ko) {\n  ko.applyBindings({\n      value: O.makeObservable(valueId, initialValue)\n    },\n    this\n  );\n});\n        /*]]>*/</script></p></span>\n      <div>\n      </div>\n    </div></div>\n            </div><div class=\"tab-pane\" id=\"tab1708134600-1\">\n            <div>\n      <script data-this=\"{&quot;dataId&quot;:&quot;anon65d653205a0c480d46bb1935265a0f1a&quot;,&quot;dataInit&quot;:[{&quot;string value&quot;:&quot;A Resilient Distributed Dataset (RDD), the basic abstraction in Spark. Represents an immutable, partitioned collection of elements that can be operated on in parallel. This class contains the basic operations available on all RDDs, such as map, filter, and persist. In addition, PairRDDFunctions contains operations available only on RDDs of key-value pairs, such as groupByKey and join; DoubleRDDFunctions contains operations available only on RDDs of Doubles; and SequenceFileRDDFunctions contains operations available on RDDs that can be saved as SequenceFiles.&quot;},{&quot;string value&quot;:&quot;Internally, each RDD is characterized by five main properties:&quot;},{&quot;string value&quot;:&quot;- A list of partitions - A function for computing each split - A list of dependencies on other RDDs - Optionally, a Partitioner for key-value RDDs (e.g. to say that the RDD is hash-partitioned) - Optionally, a list of preferred locations to compute each split on (e.g. block locations for an HDFS file)&quot;},{&quot;string value&quot;:&quot;All of the scheduling and execution in Spark is done based on these methods, allowing each RDD to implement its own way of computing itself. Indeed, users can implement custom RDDs (e.g. for reading data from a new storage system) by overriding these functions. Please refer to the Spark paper for more details on RDD internals.&quot;}],&quot;genId&quot;:&quot;1021685195&quot;}\" type=\"text/x-scoped-javascript\">/*<![CDATA[*/req(['../javascripts/notebook/playground','../javascripts/notebook/magic/pivotChart'], \n      function(playground, _magicpivotChart) {\n        // data ==> data-this (in observable.js's scopedEval) ==> this in JS => { dataId, dataInit, ... }\n        // this ==> scope (in observable.js's scopedEval) ==> this.parentElement ==> div.container below (toHtml)\n\n        playground.call(data,\n                        this\n                        ,\n                        {\n    \"f\": _magicpivotChart,\n    \"o\": {\"width\":600,\"height\":400,\"derivedAttributes\":{},\"extraOptions\":{}}\n  }\n  \n                        \n                        \n                      );\n      }\n    );/*]]>*/</script>\n    <div>\n      <span class=\"chart-total-item-count\"><p data-bind=\"text: value\"><script data-this=\"{&quot;valueId&quot;:&quot;anonedf602e2f04a1f8c21d1d9248333832a&quot;,&quot;initialValue&quot;:&quot;4&quot;}\" type=\"text/x-scoped-javascript\">/*<![CDATA[*/\nreq(\n['observable', 'knockout'],\nfunction (O, ko) {\n  ko.applyBindings({\n      value: O.makeObservable(valueId, initialValue)\n    },\n    this\n  );\n});\n        /*]]>*/</script></p> entries total</span>\n      <span class=\"chart-sampling-warning\"><p data-bind=\"text: value\"><script data-this=\"{&quot;valueId&quot;:&quot;anondd0e1b571ebc9c3625a9b5115d0ef8e0&quot;,&quot;initialValue&quot;:&quot;&quot;}\" type=\"text/x-scoped-javascript\">/*<![CDATA[*/\nreq(\n['observable', 'knockout'],\nfunction (O, ko) {\n  ko.applyBindings({\n      value: O.makeObservable(valueId, initialValue)\n    },\n    this\n  );\n});\n        /*]]>*/</script></p></span>\n      <div>\n      </div>\n    </div></div>\n            </div></div>\n      </div>\n    </div></div>"
          },
          "output_type" : "execute_result",
          "execution_count" : 3,
          "time" : "Took: 1.313s, at 2017-09-04 10:40"
        }
      ]
    },
    {
      "metadata" : {
        "id" : "319B4B20D0C34BB1A7ABFC19539145AE"
      },
      "cell_type" : "markdown",
      "source" : "### We can also do this way..."
    },
    {
      "metadata" : {
        "trusted" : true,
        "input_collapsed" : false,
        "collapsed" : false,
        "id" : "9CDC717256F4470BBEEA3B4AD4BE72C9"
      },
      "cell_type" : "code",
      "source" : [
        "data.collect().foreach(println)"
      ],
      "outputs" : [
        {
          "name" : "stdout",
          "output_type" : "stream",
          "text" : "A Resilient Distributed Dataset (RDD), the basic abstraction in Spark. Represents an immutable, partitioned collection of elements that can be operated on in parallel. This class contains the basic operations available on all RDDs, such as map, filter, and persist. In addition, PairRDDFunctions contains operations available only on RDDs of key-value pairs, such as groupByKey and join; DoubleRDDFunctions contains operations available only on RDDs of Doubles; and SequenceFileRDDFunctions contains operations available on RDDs that can be saved as SequenceFiles.\nInternally, each RDD is characterized by five main properties:\n- A list of partitions - A function for computing each split - A list of dependencies on other RDDs - Optionally, a Partitioner for key-value RDDs (e.g. to say that the RDD is hash-partitioned) - Optionally, a list of preferred locations to compute each split on (e.g. block locations for an HDFS file)\nAll of the scheduling and execution in Spark is done based on these methods, allowing each RDD to implement its own way of computing itself. Indeed, users can implement custom RDDs (e.g. for reading data from a new storage system) by overriding these functions. Please refer to the Spark paper for more details on RDD internals.\n"
        },
        {
          "metadata" : { },
          "data" : {
            "text/html" : ""
          },
          "output_type" : "execute_result",
          "execution_count" : 4,
          "time" : "Took: 1.320s, at 2017-09-04 10:41"
        }
      ]
    },
    {
      "metadata" : {
        "id" : "7A6631679F184E5B8F76FE50599E7477"
      },
      "cell_type" : "markdown",
      "source" : "### But it's always better to take some n lines of data instead of collecting all data"
    },
    {
      "metadata" : {
        "trusted" : true,
        "input_collapsed" : false,
        "collapsed" : false,
        "presentation" : {
          "tabs_state" : "{\n  \"tab_id\": \"#tab475620123-0\"\n}",
          "pivot_chart_state" : "{\n  \"hiddenAttributes\": [],\n  \"menuLimit\": 200,\n  \"cols\": [],\n  \"rows\": [],\n  \"vals\": [],\n  \"exclusions\": {},\n  \"inclusions\": {},\n  \"unusedAttrsVertical\": 85,\n  \"autoSortUnusedAttrs\": false,\n  \"inclusionsInfo\": {},\n  \"aggregatorName\": \"Count\",\n  \"rendererName\": \"Table\"\n}"
        },
        "id" : "9DA8CC5811E5472EB619460851F6F99B"
      },
      "cell_type" : "code",
      "source" : [
        "data.take(2)"
      ],
      "outputs" : [
        {
          "name" : "stdout",
          "output_type" : "stream",
          "text" : "res4: Array[String] = Array(A Resilient Distributed Dataset (RDD), the basic abstraction in Spark. Represents an immutable, partitioned collection of elements that can be operated on in parallel. This class contains the basic operations available on all RDDs, such as map, filter, and persist. In addition, PairRDDFunctions contains operations available only on RDDs of key-value pairs, such as groupByKey and join; DoubleRDDFunctions contains operations available only on RDDs of Doubles; and SequenceFileRDDFunctions contains operations available on RDDs that can be saved as SequenceFiles., Internally, each RDD is characterized by five main properties:)\n"
        },
        {
          "metadata" : { },
          "data" : {
            "text/html" : "<div>\n      <script data-this=\"{&quot;dataId&quot;:&quot;anonf467b30ad54e27ac69206b2a41d4ecc5&quot;,&quot;dataInit&quot;:[],&quot;genId&quot;:&quot;475620123&quot;}\" type=\"text/x-scoped-javascript\">/*<![CDATA[*/req(['../javascripts/notebook/playground','../javascripts/notebook/magic/tabs'], \n      function(playground, _magictabs) {\n        // data ==> data-this (in observable.js's scopedEval) ==> this in JS => { dataId, dataInit, ... }\n        // this ==> scope (in observable.js's scopedEval) ==> this.parentElement ==> div.container below (toHtml)\n\n        playground.call(data,\n                        this\n                        ,\n                        {\n    \"f\": _magictabs,\n    \"o\": {}\n  }\n  \n                        \n                        \n                      );\n      }\n    );/*]]>*/</script>\n    <div>\n      <div>\n        <ul class=\"nav nav-tabs\" id=\"ul475620123\"><li>\n              <a href=\"#tab475620123-0\"><i class=\"fa fa-table\"/></a>\n            </li><li>\n              <a href=\"#tab475620123-1\"><i class=\"fa fa-cubes\"/></a>\n            </li></ul>\n\n        <div class=\"tab-content\" id=\"tab475620123\"><div class=\"tab-pane\" id=\"tab475620123-0\">\n            <div>\n      <script data-this=\"{&quot;dataId&quot;:&quot;anon79faa2d1f4b3a7c78d0bd603f729b99a&quot;,&quot;dataInit&quot;:[{&quot;string value&quot;:&quot;A Resilient Distributed Dataset (RDD), the basic abstraction in Spark. Represents an immutable, partitioned collection of elements that can be operated on in parallel. This class contains the basic operations available on all RDDs, such as map, filter, and persist. In addition, PairRDDFunctions contains operations available only on RDDs of key-value pairs, such as groupByKey and join; DoubleRDDFunctions contains operations available only on RDDs of Doubles; and SequenceFileRDDFunctions contains operations available on RDDs that can be saved as SequenceFiles.&quot;},{&quot;string value&quot;:&quot;Internally, each RDD is characterized by five main properties:&quot;}],&quot;genId&quot;:&quot;1114461988&quot;}\" type=\"text/x-scoped-javascript\">/*<![CDATA[*/req(['../javascripts/notebook/playground','../javascripts/notebook/magic/tableChart'], \n      function(playground, _magictableChart) {\n        // data ==> data-this (in observable.js's scopedEval) ==> this in JS => { dataId, dataInit, ... }\n        // this ==> scope (in observable.js's scopedEval) ==> this.parentElement ==> div.container below (toHtml)\n\n        playground.call(data,\n                        this\n                        ,\n                        {\n    \"f\": _magictableChart,\n    \"o\": {\"headers\":[\"string value\"],\"width\":600,\"height\":400}\n  }\n  \n                        \n                        \n                      );\n      }\n    );/*]]>*/</script>\n    <div>\n      <span class=\"chart-total-item-count\"><p data-bind=\"text: value\"><script data-this=\"{&quot;valueId&quot;:&quot;anone5812692ea7835ca3cbbd65eb014a377&quot;,&quot;initialValue&quot;:&quot;2&quot;}\" type=\"text/x-scoped-javascript\">/*<![CDATA[*/\nreq(\n['observable', 'knockout'],\nfunction (O, ko) {\n  ko.applyBindings({\n      value: O.makeObservable(valueId, initialValue)\n    },\n    this\n  );\n});\n        /*]]>*/</script></p> entries total</span>\n      <span class=\"chart-sampling-warning\"><p data-bind=\"text: value\"><script data-this=\"{&quot;valueId&quot;:&quot;anon7e847153c3eba7fd2ec3cd702a9cbacc&quot;,&quot;initialValue&quot;:&quot;&quot;}\" type=\"text/x-scoped-javascript\">/*<![CDATA[*/\nreq(\n['observable', 'knockout'],\nfunction (O, ko) {\n  ko.applyBindings({\n      value: O.makeObservable(valueId, initialValue)\n    },\n    this\n  );\n});\n        /*]]>*/</script></p></span>\n      <div>\n      </div>\n    </div></div>\n            </div><div class=\"tab-pane\" id=\"tab475620123-1\">\n            <div>\n      <script data-this=\"{&quot;dataId&quot;:&quot;anonb1f1c3b71ad931bcdbde980c9ed9e862&quot;,&quot;dataInit&quot;:[{&quot;string value&quot;:&quot;A Resilient Distributed Dataset (RDD), the basic abstraction in Spark. Represents an immutable, partitioned collection of elements that can be operated on in parallel. This class contains the basic operations available on all RDDs, such as map, filter, and persist. In addition, PairRDDFunctions contains operations available only on RDDs of key-value pairs, such as groupByKey and join; DoubleRDDFunctions contains operations available only on RDDs of Doubles; and SequenceFileRDDFunctions contains operations available on RDDs that can be saved as SequenceFiles.&quot;},{&quot;string value&quot;:&quot;Internally, each RDD is characterized by five main properties:&quot;}],&quot;genId&quot;:&quot;152137273&quot;}\" type=\"text/x-scoped-javascript\">/*<![CDATA[*/req(['../javascripts/notebook/playground','../javascripts/notebook/magic/pivotChart'], \n      function(playground, _magicpivotChart) {\n        // data ==> data-this (in observable.js's scopedEval) ==> this in JS => { dataId, dataInit, ... }\n        // this ==> scope (in observable.js's scopedEval) ==> this.parentElement ==> div.container below (toHtml)\n\n        playground.call(data,\n                        this\n                        ,\n                        {\n    \"f\": _magicpivotChart,\n    \"o\": {\"width\":600,\"height\":400,\"derivedAttributes\":{},\"extraOptions\":{}}\n  }\n  \n                        \n                        \n                      );\n      }\n    );/*]]>*/</script>\n    <div>\n      <span class=\"chart-total-item-count\"><p data-bind=\"text: value\"><script data-this=\"{&quot;valueId&quot;:&quot;anon98d7a552713ae4caa0d8d6cf3b33fc4d&quot;,&quot;initialValue&quot;:&quot;2&quot;}\" type=\"text/x-scoped-javascript\">/*<![CDATA[*/\nreq(\n['observable', 'knockout'],\nfunction (O, ko) {\n  ko.applyBindings({\n      value: O.makeObservable(valueId, initialValue)\n    },\n    this\n  );\n});\n        /*]]>*/</script></p> entries total</span>\n      <span class=\"chart-sampling-warning\"><p data-bind=\"text: value\"><script data-this=\"{&quot;valueId&quot;:&quot;anon84f2a6d7781c916a6ce81eb2df8c6b85&quot;,&quot;initialValue&quot;:&quot;&quot;}\" type=\"text/x-scoped-javascript\">/*<![CDATA[*/\nreq(\n['observable', 'knockout'],\nfunction (O, ko) {\n  ko.applyBindings({\n      value: O.makeObservable(valueId, initialValue)\n    },\n    this\n  );\n});\n        /*]]>*/</script></p></span>\n      <div>\n      </div>\n    </div></div>\n            </div></div>\n      </div>\n    </div></div>"
          },
          "output_type" : "execute_result",
          "execution_count" : 3,
          "time" : "Took: 1.227s, at 2017-09-06 07:43"
        }
      ]
    },
    {
      "metadata" : {
        "id" : "610AE498A6154550883010B0DEDD6ECF"
      },
      "cell_type" : "markdown",
      "source" : "### Next, we need to remove all the special characters in data by using regex. \n\nTo understand more about regex, you can find in this link (http://docs.oracle.com/javase/7/docs/api/java/util/regex/Pattern.html). In this transformation, we use map() to apply the function replaceAll for each element inside RDD."
    },
    {
      "metadata" : {
        "trusted" : true,
        "input_collapsed" : false,
        "collapsed" : false,
        "id" : "236BAAC8BA3843AA8AFBAD08AA7CF5C2"
      },
      "cell_type" : "code",
      "source" : [
        "val data_without_special_characters = data.map(l => l.replaceAll(\"\"\"[\\p{Punct}]\"\"\", \"\"))"
      ],
      "outputs" : [
        {
          "name" : "stdout",
          "output_type" : "stream",
          "text" : "data_without_special_characters: org.apache.spark.rdd.RDD[String] = MapPartitionsRDD[2] at map at <console>:69\n"
        },
        {
          "metadata" : { },
          "data" : {
            "text/html" : ""
          },
          "output_type" : "execute_result",
          "execution_count" : 4,
          "time" : "Took: 0.894s, at 2017-09-06 08:07"
        }
      ]
    },
    {
      "metadata" : {
        "trusted" : true,
        "input_collapsed" : false,
        "collapsed" : false,
        "presentation" : {
          "tabs_state" : "{\n  \"tab_id\": \"#tab1347787546-0\"\n}",
          "pivot_chart_state" : "{\n  \"hiddenAttributes\": [],\n  \"menuLimit\": 200,\n  \"cols\": [],\n  \"rows\": [],\n  \"vals\": [],\n  \"exclusions\": {},\n  \"inclusions\": {},\n  \"unusedAttrsVertical\": 85,\n  \"autoSortUnusedAttrs\": false,\n  \"inclusionsInfo\": {},\n  \"aggregatorName\": \"Count\",\n  \"rendererName\": \"Table\"\n}"
        },
        "id" : "C45AD8A1E7D04F879E562E478BF6B3F7"
      },
      "cell_type" : "code",
      "source" : [
        "data_without_special_characters.take(10)"
      ],
      "outputs" : [
        {
          "name" : "stdout",
          "output_type" : "stream",
          "text" : "res14: Array[String] = Array(A Resilient Distributed Dataset RDD the basic abstraction in Spark Represents an immutable partitioned collection of elements that can be operated on in parallel This class contains the basic operations available on all RDDs such as map filter and persist In addition PairRDDFunctions contains operations available only on RDDs of keyvalue pairs such as groupByKey and join DoubleRDDFunctions contains operations available only on RDDs of Doubles and SequenceFileRDDFunctions contains operations available on RDDs that can be saved as SequenceFiles, Internally each RDD is characterized by five main properties, \" A list of partitions  A function for computing each split  A list of dependencies on other RDDs  Optionally a Partitioner for keyvalue RDDs eg to say that..."
        },
        {
          "metadata" : { },
          "data" : {
            "text/html" : "<div>\n      <script data-this=\"{&quot;dataId&quot;:&quot;anoned4aa0a06a5cd6a5ab4aa8d9738c2055&quot;,&quot;dataInit&quot;:[],&quot;genId&quot;:&quot;1347787546&quot;}\" type=\"text/x-scoped-javascript\">/*<![CDATA[*/req(['../javascripts/notebook/playground','../javascripts/notebook/magic/tabs'], \n      function(playground, _magictabs) {\n        // data ==> data-this (in observable.js's scopedEval) ==> this in JS => { dataId, dataInit, ... }\n        // this ==> scope (in observable.js's scopedEval) ==> this.parentElement ==> div.container below (toHtml)\n\n        playground.call(data,\n                        this\n                        ,\n                        {\n    \"f\": _magictabs,\n    \"o\": {}\n  }\n  \n                        \n                        \n                      );\n      }\n    );/*]]>*/</script>\n    <div>\n      <div>\n        <ul class=\"nav nav-tabs\" id=\"ul1347787546\"><li>\n              <a href=\"#tab1347787546-0\"><i class=\"fa fa-table\"/></a>\n            </li><li>\n              <a href=\"#tab1347787546-1\"><i class=\"fa fa-cubes\"/></a>\n            </li></ul>\n\n        <div class=\"tab-content\" id=\"tab1347787546\"><div class=\"tab-pane\" id=\"tab1347787546-0\">\n            <div>\n      <script data-this=\"{&quot;dataId&quot;:&quot;anona1f418866b4a160e63f41018b37d7126&quot;,&quot;dataInit&quot;:[{&quot;string value&quot;:&quot;A Resilient Distributed Dataset RDD the basic abstraction in Spark Represents an immutable partitioned collection of elements that can be operated on in parallel This class contains the basic operations available on all RDDs such as map filter and persist In addition PairRDDFunctions contains operations available only on RDDs of keyvalue pairs such as groupByKey and join DoubleRDDFunctions contains operations available only on RDDs of Doubles and SequenceFileRDDFunctions contains operations available on RDDs that can be saved as SequenceFiles&quot;},{&quot;string value&quot;:&quot;Internally each RDD is characterized by five main properties&quot;},{&quot;string value&quot;:&quot; A list of partitions  A function for computing each split  A list of dependencies on other RDDs  Optionally a Partitioner for keyvalue RDDs eg to say that the RDD is hashpartitioned  Optionally a list of preferred locations to compute each split on eg block locations for an HDFS file&quot;},{&quot;string value&quot;:&quot;All of the scheduling and execution in Spark is done based on these methods allowing each RDD to implement its own way of computing itself Indeed users can implement custom RDDs eg for reading data from a new storage system by overriding these functions Please refer to the Spark paper for more details on RDD internals&quot;}],&quot;genId&quot;:&quot;637158699&quot;}\" type=\"text/x-scoped-javascript\">/*<![CDATA[*/req(['../javascripts/notebook/playground','../javascripts/notebook/magic/tableChart'], \n      function(playground, _magictableChart) {\n        // data ==> data-this (in observable.js's scopedEval) ==> this in JS => { dataId, dataInit, ... }\n        // this ==> scope (in observable.js's scopedEval) ==> this.parentElement ==> div.container below (toHtml)\n\n        playground.call(data,\n                        this\n                        ,\n                        {\n    \"f\": _magictableChart,\n    \"o\": {\"headers\":[\"string value\"],\"width\":600,\"height\":400}\n  }\n  \n                        \n                        \n                      );\n      }\n    );/*]]>*/</script>\n    <div>\n      <span class=\"chart-total-item-count\"><p data-bind=\"text: value\"><script data-this=\"{&quot;valueId&quot;:&quot;anon54acdfa8e9d088f65a02d156ad438057&quot;,&quot;initialValue&quot;:&quot;4&quot;}\" type=\"text/x-scoped-javascript\">/*<![CDATA[*/\nreq(\n['observable', 'knockout'],\nfunction (O, ko) {\n  ko.applyBindings({\n      value: O.makeObservable(valueId, initialValue)\n    },\n    this\n  );\n});\n        /*]]>*/</script></p> entries total</span>\n      <span class=\"chart-sampling-warning\"><p data-bind=\"text: value\"><script data-this=\"{&quot;valueId&quot;:&quot;anonf035c9064feeac77541a792037c1218a&quot;,&quot;initialValue&quot;:&quot;&quot;}\" type=\"text/x-scoped-javascript\">/*<![CDATA[*/\nreq(\n['observable', 'knockout'],\nfunction (O, ko) {\n  ko.applyBindings({\n      value: O.makeObservable(valueId, initialValue)\n    },\n    this\n  );\n});\n        /*]]>*/</script></p></span>\n      <div>\n      </div>\n    </div></div>\n            </div><div class=\"tab-pane\" id=\"tab1347787546-1\">\n            <div>\n      <script data-this=\"{&quot;dataId&quot;:&quot;anon1a713e4028df11eb3bfce1cc7d5f5253&quot;,&quot;dataInit&quot;:[{&quot;string value&quot;:&quot;A Resilient Distributed Dataset RDD the basic abstraction in Spark Represents an immutable partitioned collection of elements that can be operated on in parallel This class contains the basic operations available on all RDDs such as map filter and persist In addition PairRDDFunctions contains operations available only on RDDs of keyvalue pairs such as groupByKey and join DoubleRDDFunctions contains operations available only on RDDs of Doubles and SequenceFileRDDFunctions contains operations available on RDDs that can be saved as SequenceFiles&quot;},{&quot;string value&quot;:&quot;Internally each RDD is characterized by five main properties&quot;},{&quot;string value&quot;:&quot; A list of partitions  A function for computing each split  A list of dependencies on other RDDs  Optionally a Partitioner for keyvalue RDDs eg to say that the RDD is hashpartitioned  Optionally a list of preferred locations to compute each split on eg block locations for an HDFS file&quot;},{&quot;string value&quot;:&quot;All of the scheduling and execution in Spark is done based on these methods allowing each RDD to implement its own way of computing itself Indeed users can implement custom RDDs eg for reading data from a new storage system by overriding these functions Please refer to the Spark paper for more details on RDD internals&quot;}],&quot;genId&quot;:&quot;1410616515&quot;}\" type=\"text/x-scoped-javascript\">/*<![CDATA[*/req(['../javascripts/notebook/playground','../javascripts/notebook/magic/pivotChart'], \n      function(playground, _magicpivotChart) {\n        // data ==> data-this (in observable.js's scopedEval) ==> this in JS => { dataId, dataInit, ... }\n        // this ==> scope (in observable.js's scopedEval) ==> this.parentElement ==> div.container below (toHtml)\n\n        playground.call(data,\n                        this\n                        ,\n                        {\n    \"f\": _magicpivotChart,\n    \"o\": {\"width\":600,\"height\":400,\"derivedAttributes\":{},\"extraOptions\":{}}\n  }\n  \n                        \n                        \n                      );\n      }\n    );/*]]>*/</script>\n    <div>\n      <span class=\"chart-total-item-count\"><p data-bind=\"text: value\"><script data-this=\"{&quot;valueId&quot;:&quot;anonf80de9f6b9d75af48669b97c71357418&quot;,&quot;initialValue&quot;:&quot;4&quot;}\" type=\"text/x-scoped-javascript\">/*<![CDATA[*/\nreq(\n['observable', 'knockout'],\nfunction (O, ko) {\n  ko.applyBindings({\n      value: O.makeObservable(valueId, initialValue)\n    },\n    this\n  );\n});\n        /*]]>*/</script></p> entries total</span>\n      <span class=\"chart-sampling-warning\"><p data-bind=\"text: value\"><script data-this=\"{&quot;valueId&quot;:&quot;anonfba7ba34742242cd5b8469cc56504f96&quot;,&quot;initialValue&quot;:&quot;&quot;}\" type=\"text/x-scoped-javascript\">/*<![CDATA[*/\nreq(\n['observable', 'knockout'],\nfunction (O, ko) {\n  ko.applyBindings({\n      value: O.makeObservable(valueId, initialValue)\n    },\n    this\n  );\n});\n        /*]]>*/</script></p></span>\n      <div>\n      </div>\n    </div></div>\n            </div></div>\n      </div>\n    </div></div>"
          },
          "output_type" : "execute_result",
          "execution_count" : 9,
          "time" : "Took: 1.328s, at 2017-09-04 10:43"
        }
      ]
    },
    {
      "metadata" : {
        "id" : "3FF8C000B3E040C08FF3B713A5CC4B97"
      },
      "cell_type" : "markdown",
      "source" : "### Then, we split data into words and convert all into lower case. \n\nHere we use flatMap (simply equal to map() + \"flatten\" ). Here we want to transform an RDD of Array of String into an RDD of String and apply the function inside flatMap for each String. "
    },
    {
      "metadata" : {
        "trusted" : true,
        "input_collapsed" : false,
        "collapsed" : false,
        "id" : "2F99DB525A7A4BC789520B828E7FFD6F"
      },
      "cell_type" : "code",
      "source" : [
        "val words = data_without_special_characters.flatMap(l => l.split(\" \").map(l => l.toLowerCase))"
      ],
      "outputs" : [
        {
          "name" : "stdout",
          "output_type" : "stream",
          "text" : "words: org.apache.spark.rdd.RDD[String] = MapPartitionsRDD[3] at flatMap at <console>:71\n"
        },
        {
          "metadata" : { },
          "data" : {
            "text/html" : ""
          },
          "output_type" : "execute_result",
          "execution_count" : 5,
          "time" : "Took: 0.910s, at 2017-09-06 08:11"
        }
      ]
    },
    {
      "metadata" : {
        "trusted" : true,
        "input_collapsed" : false,
        "collapsed" : false,
        "presentation" : {
          "tabs_state" : "{\n  \"tab_id\": \"#tab476418672-0\"\n}",
          "pivot_chart_state" : "{\n  \"hiddenAttributes\": [],\n  \"menuLimit\": 200,\n  \"cols\": [],\n  \"rows\": [],\n  \"vals\": [],\n  \"exclusions\": {},\n  \"inclusions\": {},\n  \"unusedAttrsVertical\": 85,\n  \"autoSortUnusedAttrs\": false,\n  \"inclusionsInfo\": {},\n  \"aggregatorName\": \"Count\",\n  \"rendererName\": \"Table\"\n}"
        },
        "id" : "DCC367D8DEB344738DC8BFC2B676252A"
      },
      "cell_type" : "code",
      "source" : [
        "words.collect().s"
      ],
      "outputs" : [
        {
          "name" : "stdout",
          "output_type" : "stream",
          "text" : "res10: Int = 198\n"
        },
        {
          "metadata" : { },
          "data" : {
            "text/html" : "198"
          },
          "output_type" : "execute_result",
          "execution_count" : 7,
          "time" : "Took: 0.939s, at 2017-09-06 08:13"
        }
      ]
    },
    {
      "metadata" : {
        "id" : "302B27262E84467EBDB181BA26A03FD0"
      },
      "cell_type" : "markdown",
      "source" : "### We can now count by key to compute the number of occurences of each word\n\nTo do this, we have 2 ways to do :\n\n#### 1/ First option :\n\nFor each element in RDD, we add 1 column with value 1, then by key (word), we compute the sum of value by using reduceByKey. When we do \"_ + _\" means everytime we have same key (word), we do the sum of its values."
    },
    {
      "metadata" : {
        "trusted" : true,
        "input_collapsed" : false,
        "collapsed" : false,
        "presentation" : {
          "tabs_state" : "{\n  \"tab_id\": \"#tab1004654569-2\"\n}",
          "pivot_chart_state" : "{\n  \"hiddenAttributes\": [],\n  \"menuLimit\": 200,\n  \"cols\": [],\n  \"rows\": [],\n  \"vals\": [],\n  \"exclusions\": {},\n  \"inclusions\": {},\n  \"unusedAttrsVertical\": 85,\n  \"autoSortUnusedAttrs\": false,\n  \"inclusionsInfo\": {},\n  \"aggregatorName\": \"Count\",\n  \"rendererName\": \"Table\"\n}"
        },
        "id" : "CF099AB943CE4C7795272C07CEBA5442"
      },
      "cell_type" : "code",
      "source" : [
        "val wordCount = words.map(l => (l, 1)).reduceByKey(_ + _)\n",
        "wordCount.collect()"
      ],
      "outputs" : [
        {
          "name" : "stdout",
          "output_type" : "stream",
          "text" : "wordCount: org.apache.spark.rdd.RDD[(String, Int)] = ShuffledRDD[9] at reduceByKey at <console>:75\nres17: Array[(String, Int)] = Array((reading,1), (this,1), (paper,1), (doublerddfunctions,1), (collection,1), (internally,1), (is,3), (its,1), (sequencefiles,1), (persist,1), (only,2), (data,1), (abstraction,1), (internals,1), (basic,2), (map,1), (sequencefilerddfunctions,1), (class,1), (methods,1), (scheduling,1), (execution,1), (new,1), (computing,2), (locations,2), (join,1), (other,1), (file,1), (from,1), (details,1), (dataset,1), (immutable,1), (refer,1), (can,3), (doubles,1), (split,2), (filter,1), (operated,1), (keyvalue,2), (eg,3), (as,3), (\"\",5), (operations,4), (done,1), (list,3), (please,1), (users,1), (five,1), (own,1), (rdd,5), (function,1), (addition,1), (itself,1), (character..."
        },
        {
          "metadata" : { },
          "data" : {
            "text/html" : "<div>\n      <script data-this=\"{&quot;dataId&quot;:&quot;anon1ea055a2ffc4f1534928441db2f7f372&quot;,&quot;dataInit&quot;:[],&quot;genId&quot;:&quot;1004654569&quot;}\" type=\"text/x-scoped-javascript\">/*<![CDATA[*/req(['../javascripts/notebook/playground','../javascripts/notebook/magic/tabs'], \n      function(playground, _magictabs) {\n        // data ==> data-this (in observable.js's scopedEval) ==> this in JS => { dataId, dataInit, ... }\n        // this ==> scope (in observable.js's scopedEval) ==> this.parentElement ==> div.container below (toHtml)\n\n        playground.call(data,\n                        this\n                        ,\n                        {\n    \"f\": _magictabs,\n    \"o\": {}\n  }\n  \n                        \n                        \n                      );\n      }\n    );/*]]>*/</script>\n    <div>\n      <div>\n        <ul class=\"nav nav-tabs\" id=\"ul1004654569\"><li>\n              <a href=\"#tab1004654569-0\"><i class=\"fa fa-table\"/></a>\n            </li><li>\n              <a href=\"#tab1004654569-1\"><i class=\"fa fa-bar-chart\"/></a>\n            </li><li>\n              <a href=\"#tab1004654569-2\"><i class=\"fa fa-pie-chart\"/></a>\n            </li><li>\n              <a href=\"#tab1004654569-3\"><i class=\"fa fa-cubes\"/></a>\n            </li></ul>\n\n        <div class=\"tab-content\" id=\"tab1004654569\"><div class=\"tab-pane\" id=\"tab1004654569-0\">\n            <div>\n      <script data-this=\"{&quot;dataId&quot;:&quot;anon51c69426baac222cff049fa7c803169f&quot;,&quot;dataInit&quot;:[{&quot;_1&quot;:&quot;reading&quot;,&quot;_2&quot;:1},{&quot;_1&quot;:&quot;this&quot;,&quot;_2&quot;:1},{&quot;_1&quot;:&quot;paper&quot;,&quot;_2&quot;:1},{&quot;_1&quot;:&quot;doublerddfunctions&quot;,&quot;_2&quot;:1},{&quot;_1&quot;:&quot;collection&quot;,&quot;_2&quot;:1},{&quot;_1&quot;:&quot;internally&quot;,&quot;_2&quot;:1},{&quot;_1&quot;:&quot;is&quot;,&quot;_2&quot;:3},{&quot;_1&quot;:&quot;its&quot;,&quot;_2&quot;:1},{&quot;_1&quot;:&quot;sequencefiles&quot;,&quot;_2&quot;:1},{&quot;_1&quot;:&quot;persist&quot;,&quot;_2&quot;:1},{&quot;_1&quot;:&quot;only&quot;,&quot;_2&quot;:2},{&quot;_1&quot;:&quot;data&quot;,&quot;_2&quot;:1},{&quot;_1&quot;:&quot;abstraction&quot;,&quot;_2&quot;:1},{&quot;_1&quot;:&quot;internals&quot;,&quot;_2&quot;:1},{&quot;_1&quot;:&quot;basic&quot;,&quot;_2&quot;:2},{&quot;_1&quot;:&quot;map&quot;,&quot;_2&quot;:1},{&quot;_1&quot;:&quot;sequencefilerddfunctions&quot;,&quot;_2&quot;:1},{&quot;_1&quot;:&quot;class&quot;,&quot;_2&quot;:1},{&quot;_1&quot;:&quot;methods&quot;,&quot;_2&quot;:1},{&quot;_1&quot;:&quot;scheduling&quot;,&quot;_2&quot;:1},{&quot;_1&quot;:&quot;execution&quot;,&quot;_2&quot;:1},{&quot;_1&quot;:&quot;new&quot;,&quot;_2&quot;:1},{&quot;_1&quot;:&quot;computing&quot;,&quot;_2&quot;:2},{&quot;_1&quot;:&quot;locations&quot;,&quot;_2&quot;:2},{&quot;_1&quot;:&quot;join&quot;,&quot;_2&quot;:1},{&quot;_1&quot;:&quot;other&quot;,&quot;_2&quot;:1},{&quot;_1&quot;:&quot;file&quot;,&quot;_2&quot;:1},{&quot;_1&quot;:&quot;from&quot;,&quot;_2&quot;:1},{&quot;_1&quot;:&quot;details&quot;,&quot;_2&quot;:1},{&quot;_1&quot;:&quot;dataset&quot;,&quot;_2&quot;:1},{&quot;_1&quot;:&quot;immutable&quot;,&quot;_2&quot;:1},{&quot;_1&quot;:&quot;refer&quot;,&quot;_2&quot;:1},{&quot;_1&quot;:&quot;can&quot;,&quot;_2&quot;:3},{&quot;_1&quot;:&quot;doubles&quot;,&quot;_2&quot;:1},{&quot;_1&quot;:&quot;split&quot;,&quot;_2&quot;:2},{&quot;_1&quot;:&quot;filter&quot;,&quot;_2&quot;:1},{&quot;_1&quot;:&quot;operated&quot;,&quot;_2&quot;:1},{&quot;_1&quot;:&quot;keyvalue&quot;,&quot;_2&quot;:2},{&quot;_1&quot;:&quot;eg&quot;,&quot;_2&quot;:3},{&quot;_1&quot;:&quot;as&quot;,&quot;_2&quot;:3},{&quot;_1&quot;:&quot;&quot;,&quot;_2&quot;:5},{&quot;_1&quot;:&quot;operations&quot;,&quot;_2&quot;:4},{&quot;_1&quot;:&quot;done&quot;,&quot;_2&quot;:1},{&quot;_1&quot;:&quot;list&quot;,&quot;_2&quot;:3},{&quot;_1&quot;:&quot;please&quot;,&quot;_2&quot;:1},{&quot;_1&quot;:&quot;users&quot;,&quot;_2&quot;:1},{&quot;_1&quot;:&quot;five&quot;,&quot;_2&quot;:1},{&quot;_1&quot;:&quot;own&quot;,&quot;_2&quot;:1},{&quot;_1&quot;:&quot;rdd&quot;,&quot;_2&quot;:5},{&quot;_1&quot;:&quot;function&quot;,&quot;_2&quot;:1},{&quot;_1&quot;:&quot;addition&quot;,&quot;_2&quot;:1},{&quot;_1&quot;:&quot;itself&quot;,&quot;_2&quot;:1},{&quot;_1&quot;:&quot;characterized&quot;,&quot;_2&quot;:1},{&quot;_1&quot;:&quot;spark&quot;,&quot;_2&quot;:3},{&quot;_1&quot;:&quot;saved&quot;,&quot;_2&quot;:1},{&quot;_1&quot;:&quot;parallel&quot;,&quot;_2&quot;:1},{&quot;_1&quot;:&quot;on&quot;,&quot;_2&quot;:9},{&quot;_1&quot;:&quot;such&quot;,&quot;_2&quot;:2},{&quot;_1&quot;:&quot;each&quot;,&quot;_2&quot;:4},{&quot;_1&quot;:&quot;allowing&quot;,&quot;_2&quot;:1},{&quot;_1&quot;:&quot;partitioned&quot;,&quot;_2&quot;:1},{&quot;_1&quot;:&quot;in&quot;,&quot;_2&quot;:4},{&quot;_1&quot;:&quot;resilient&quot;,&quot;_2&quot;:1},{&quot;_1&quot;:&quot;storage&quot;,&quot;_2&quot;:1},{&quot;_1&quot;:&quot;for&quot;,&quot;_2&quot;:5},{&quot;_1&quot;:&quot;block&quot;,&quot;_2&quot;:1},{&quot;_1&quot;:&quot;indeed&quot;,&quot;_2&quot;:1},{&quot;_1&quot;:&quot;based&quot;,&quot;_2&quot;:1},{&quot;_1&quot;:&quot;distributed&quot;,&quot;_2&quot;:1},{&quot;_1&quot;:&quot;represents&quot;,&quot;_2&quot;:1},{&quot;_1&quot;:&quot;hdfs&quot;,&quot;_2&quot;:1},{&quot;_1&quot;:&quot;hashpartitioned&quot;,&quot;_2&quot;:1},{&quot;_1&quot;:&quot;rdds&quot;,&quot;_2&quot;:7},{&quot;_1&quot;:&quot;way&quot;,&quot;_2&quot;:1},{&quot;_1&quot;:&quot;partitions&quot;,&quot;_2&quot;:1},{&quot;_1&quot;:&quot;the&quot;,&quot;_2&quot;:5},{&quot;_1&quot;:&quot;these&quot;,&quot;_2&quot;:2},{&quot;_1&quot;:&quot;pairrddfunctions&quot;,&quot;_2&quot;:1},{&quot;_1&quot;:&quot;custom&quot;,&quot;_2&quot;:1},{&quot;_1&quot;:&quot;contains&quot;,&quot;_2&quot;:4},{&quot;_1&quot;:&quot;main&quot;,&quot;_2&quot;:1},{&quot;_1&quot;:&quot;that&quot;,&quot;_2&quot;:3},{&quot;_1&quot;:&quot;a&quot;,&quot;_2&quot;:7},{&quot;_1&quot;:&quot;preferred&quot;,&quot;_2&quot;:1},{&quot;_1&quot;:&quot;be&quot;,&quot;_2&quot;:2},{&quot;_1&quot;:&quot;say&quot;,&quot;_2&quot;:1},{&quot;_1&quot;:&quot;all&quot;,&quot;_2&quot;:2},{&quot;_1&quot;:&quot;to&quot;,&quot;_2&quot;:4},{&quot;_1&quot;:&quot;available&quot;,&quot;_2&quot;:4},{&quot;_1&quot;:&quot;overriding&quot;,&quot;_2&quot;:1},{&quot;_1&quot;:&quot;properties&quot;,&quot;_2&quot;:1},{&quot;_1&quot;:&quot;implement&quot;,&quot;_2&quot;:2},{&quot;_1&quot;:&quot;more&quot;,&quot;_2&quot;:1},{&quot;_1&quot;:&quot;of&quot;,&quot;_2&quot;:8},{&quot;_1&quot;:&quot;dependencies&quot;,&quot;_2&quot;:1},{&quot;_1&quot;:&quot;by&quot;,&quot;_2&quot;:2},{&quot;_1&quot;:&quot;an&quot;,&quot;_2&quot;:2},{&quot;_1&quot;:&quot;groupbykey&quot;,&quot;_2&quot;:1},{&quot;_1&quot;:&quot;functions&quot;,&quot;_2&quot;:1},{&quot;_1&quot;:&quot;partitioner&quot;,&quot;_2&quot;:1},{&quot;_1&quot;:&quot;and&quot;,&quot;_2&quot;:4},{&quot;_1&quot;:&quot;optionally&quot;,&quot;_2&quot;:2},{&quot;_1&quot;:&quot;pairs&quot;,&quot;_2&quot;:1},{&quot;_1&quot;:&quot;system&quot;,&quot;_2&quot;:1},{&quot;_1&quot;:&quot;compute&quot;,&quot;_2&quot;:1},{&quot;_1&quot;:&quot;elements&quot;,&quot;_2&quot;:1}],&quot;genId&quot;:&quot;1077699989&quot;}\" type=\"text/x-scoped-javascript\">/*<![CDATA[*/req(['../javascripts/notebook/playground','../javascripts/notebook/magic/tableChart'], \n      function(playground, _magictableChart) {\n        // data ==> data-this (in observable.js's scopedEval) ==> this in JS => { dataId, dataInit, ... }\n        // this ==> scope (in observable.js's scopedEval) ==> this.parentElement ==> div.container below (toHtml)\n\n        playground.call(data,\n                        this\n                        ,\n                        {\n    \"f\": _magictableChart,\n    \"o\": {\"headers\":[\"_1\",\"_2\"],\"width\":600,\"height\":400}\n  }\n  \n                        \n                        \n                      );\n      }\n    );/*]]>*/</script>\n    <div>\n      <span class=\"chart-total-item-count\"><p data-bind=\"text: value\"><script data-this=\"{&quot;valueId&quot;:&quot;anon0ccd7372d1a4d9abea93de15861ce006&quot;,&quot;initialValue&quot;:&quot;106&quot;}\" type=\"text/x-scoped-javascript\">/*<![CDATA[*/\nreq(\n['observable', 'knockout'],\nfunction (O, ko) {\n  ko.applyBindings({\n      value: O.makeObservable(valueId, initialValue)\n    },\n    this\n  );\n});\n        /*]]>*/</script></p> entries total</span>\n      <span class=\"chart-sampling-warning\"><p data-bind=\"text: value\"><script data-this=\"{&quot;valueId&quot;:&quot;anon8a76a28990a407f9c5f9ec04f3eddbc4&quot;,&quot;initialValue&quot;:&quot;&quot;}\" type=\"text/x-scoped-javascript\">/*<![CDATA[*/\nreq(\n['observable', 'knockout'],\nfunction (O, ko) {\n  ko.applyBindings({\n      value: O.makeObservable(valueId, initialValue)\n    },\n    this\n  );\n});\n        /*]]>*/</script></p></span>\n      <div>\n      </div>\n    </div></div>\n            </div><div class=\"tab-pane\" id=\"tab1004654569-1\">\n            <div>\n      <script data-this=\"{&quot;dataId&quot;:&quot;anoncd2d8eec9f2233591fc36ec3f9dd037c&quot;,&quot;dataInit&quot;:[{&quot;_1&quot;:&quot;reading&quot;,&quot;_2&quot;:1},{&quot;_1&quot;:&quot;this&quot;,&quot;_2&quot;:1},{&quot;_1&quot;:&quot;paper&quot;,&quot;_2&quot;:1},{&quot;_1&quot;:&quot;doublerddfunctions&quot;,&quot;_2&quot;:1},{&quot;_1&quot;:&quot;collection&quot;,&quot;_2&quot;:1},{&quot;_1&quot;:&quot;internally&quot;,&quot;_2&quot;:1},{&quot;_1&quot;:&quot;is&quot;,&quot;_2&quot;:3},{&quot;_1&quot;:&quot;its&quot;,&quot;_2&quot;:1},{&quot;_1&quot;:&quot;sequencefiles&quot;,&quot;_2&quot;:1},{&quot;_1&quot;:&quot;persist&quot;,&quot;_2&quot;:1},{&quot;_1&quot;:&quot;only&quot;,&quot;_2&quot;:2},{&quot;_1&quot;:&quot;data&quot;,&quot;_2&quot;:1},{&quot;_1&quot;:&quot;abstraction&quot;,&quot;_2&quot;:1},{&quot;_1&quot;:&quot;internals&quot;,&quot;_2&quot;:1},{&quot;_1&quot;:&quot;basic&quot;,&quot;_2&quot;:2},{&quot;_1&quot;:&quot;map&quot;,&quot;_2&quot;:1},{&quot;_1&quot;:&quot;sequencefilerddfunctions&quot;,&quot;_2&quot;:1},{&quot;_1&quot;:&quot;class&quot;,&quot;_2&quot;:1},{&quot;_1&quot;:&quot;methods&quot;,&quot;_2&quot;:1},{&quot;_1&quot;:&quot;scheduling&quot;,&quot;_2&quot;:1},{&quot;_1&quot;:&quot;execution&quot;,&quot;_2&quot;:1},{&quot;_1&quot;:&quot;new&quot;,&quot;_2&quot;:1},{&quot;_1&quot;:&quot;computing&quot;,&quot;_2&quot;:2},{&quot;_1&quot;:&quot;locations&quot;,&quot;_2&quot;:2},{&quot;_1&quot;:&quot;join&quot;,&quot;_2&quot;:1},{&quot;_1&quot;:&quot;other&quot;,&quot;_2&quot;:1},{&quot;_1&quot;:&quot;file&quot;,&quot;_2&quot;:1},{&quot;_1&quot;:&quot;from&quot;,&quot;_2&quot;:1},{&quot;_1&quot;:&quot;details&quot;,&quot;_2&quot;:1},{&quot;_1&quot;:&quot;dataset&quot;,&quot;_2&quot;:1},{&quot;_1&quot;:&quot;immutable&quot;,&quot;_2&quot;:1},{&quot;_1&quot;:&quot;refer&quot;,&quot;_2&quot;:1},{&quot;_1&quot;:&quot;can&quot;,&quot;_2&quot;:3},{&quot;_1&quot;:&quot;doubles&quot;,&quot;_2&quot;:1},{&quot;_1&quot;:&quot;split&quot;,&quot;_2&quot;:2},{&quot;_1&quot;:&quot;filter&quot;,&quot;_2&quot;:1},{&quot;_1&quot;:&quot;operated&quot;,&quot;_2&quot;:1},{&quot;_1&quot;:&quot;keyvalue&quot;,&quot;_2&quot;:2},{&quot;_1&quot;:&quot;eg&quot;,&quot;_2&quot;:3},{&quot;_1&quot;:&quot;as&quot;,&quot;_2&quot;:3},{&quot;_1&quot;:&quot;&quot;,&quot;_2&quot;:5},{&quot;_1&quot;:&quot;operations&quot;,&quot;_2&quot;:4},{&quot;_1&quot;:&quot;done&quot;,&quot;_2&quot;:1},{&quot;_1&quot;:&quot;list&quot;,&quot;_2&quot;:3},{&quot;_1&quot;:&quot;please&quot;,&quot;_2&quot;:1},{&quot;_1&quot;:&quot;users&quot;,&quot;_2&quot;:1},{&quot;_1&quot;:&quot;five&quot;,&quot;_2&quot;:1},{&quot;_1&quot;:&quot;own&quot;,&quot;_2&quot;:1},{&quot;_1&quot;:&quot;rdd&quot;,&quot;_2&quot;:5},{&quot;_1&quot;:&quot;function&quot;,&quot;_2&quot;:1},{&quot;_1&quot;:&quot;addition&quot;,&quot;_2&quot;:1},{&quot;_1&quot;:&quot;itself&quot;,&quot;_2&quot;:1},{&quot;_1&quot;:&quot;characterized&quot;,&quot;_2&quot;:1},{&quot;_1&quot;:&quot;spark&quot;,&quot;_2&quot;:3},{&quot;_1&quot;:&quot;saved&quot;,&quot;_2&quot;:1},{&quot;_1&quot;:&quot;parallel&quot;,&quot;_2&quot;:1},{&quot;_1&quot;:&quot;on&quot;,&quot;_2&quot;:9},{&quot;_1&quot;:&quot;such&quot;,&quot;_2&quot;:2},{&quot;_1&quot;:&quot;each&quot;,&quot;_2&quot;:4},{&quot;_1&quot;:&quot;allowing&quot;,&quot;_2&quot;:1},{&quot;_1&quot;:&quot;partitioned&quot;,&quot;_2&quot;:1},{&quot;_1&quot;:&quot;in&quot;,&quot;_2&quot;:4},{&quot;_1&quot;:&quot;resilient&quot;,&quot;_2&quot;:1},{&quot;_1&quot;:&quot;storage&quot;,&quot;_2&quot;:1},{&quot;_1&quot;:&quot;for&quot;,&quot;_2&quot;:5},{&quot;_1&quot;:&quot;block&quot;,&quot;_2&quot;:1},{&quot;_1&quot;:&quot;indeed&quot;,&quot;_2&quot;:1},{&quot;_1&quot;:&quot;based&quot;,&quot;_2&quot;:1},{&quot;_1&quot;:&quot;distributed&quot;,&quot;_2&quot;:1},{&quot;_1&quot;:&quot;represents&quot;,&quot;_2&quot;:1},{&quot;_1&quot;:&quot;hdfs&quot;,&quot;_2&quot;:1},{&quot;_1&quot;:&quot;hashpartitioned&quot;,&quot;_2&quot;:1},{&quot;_1&quot;:&quot;rdds&quot;,&quot;_2&quot;:7},{&quot;_1&quot;:&quot;way&quot;,&quot;_2&quot;:1},{&quot;_1&quot;:&quot;partitions&quot;,&quot;_2&quot;:1},{&quot;_1&quot;:&quot;the&quot;,&quot;_2&quot;:5},{&quot;_1&quot;:&quot;these&quot;,&quot;_2&quot;:2},{&quot;_1&quot;:&quot;pairrddfunctions&quot;,&quot;_2&quot;:1},{&quot;_1&quot;:&quot;custom&quot;,&quot;_2&quot;:1},{&quot;_1&quot;:&quot;contains&quot;,&quot;_2&quot;:4},{&quot;_1&quot;:&quot;main&quot;,&quot;_2&quot;:1},{&quot;_1&quot;:&quot;that&quot;,&quot;_2&quot;:3},{&quot;_1&quot;:&quot;a&quot;,&quot;_2&quot;:7},{&quot;_1&quot;:&quot;preferred&quot;,&quot;_2&quot;:1},{&quot;_1&quot;:&quot;be&quot;,&quot;_2&quot;:2},{&quot;_1&quot;:&quot;say&quot;,&quot;_2&quot;:1},{&quot;_1&quot;:&quot;all&quot;,&quot;_2&quot;:2},{&quot;_1&quot;:&quot;to&quot;,&quot;_2&quot;:4},{&quot;_1&quot;:&quot;available&quot;,&quot;_2&quot;:4},{&quot;_1&quot;:&quot;overriding&quot;,&quot;_2&quot;:1},{&quot;_1&quot;:&quot;properties&quot;,&quot;_2&quot;:1},{&quot;_1&quot;:&quot;implement&quot;,&quot;_2&quot;:2},{&quot;_1&quot;:&quot;more&quot;,&quot;_2&quot;:1},{&quot;_1&quot;:&quot;of&quot;,&quot;_2&quot;:8},{&quot;_1&quot;:&quot;dependencies&quot;,&quot;_2&quot;:1},{&quot;_1&quot;:&quot;by&quot;,&quot;_2&quot;:2},{&quot;_1&quot;:&quot;an&quot;,&quot;_2&quot;:2},{&quot;_1&quot;:&quot;groupbykey&quot;,&quot;_2&quot;:1},{&quot;_1&quot;:&quot;functions&quot;,&quot;_2&quot;:1},{&quot;_1&quot;:&quot;partitioner&quot;,&quot;_2&quot;:1},{&quot;_1&quot;:&quot;and&quot;,&quot;_2&quot;:4},{&quot;_1&quot;:&quot;optionally&quot;,&quot;_2&quot;:2},{&quot;_1&quot;:&quot;pairs&quot;,&quot;_2&quot;:1},{&quot;_1&quot;:&quot;system&quot;,&quot;_2&quot;:1},{&quot;_1&quot;:&quot;compute&quot;,&quot;_2&quot;:1},{&quot;_1&quot;:&quot;elements&quot;,&quot;_2&quot;:1}],&quot;genId&quot;:&quot;220355199&quot;}\" type=\"text/x-scoped-javascript\">/*<![CDATA[*/req(['../javascripts/notebook/playground','../javascripts/notebook/magic/barChart'], \n      function(playground, _magicbarChart) {\n        // data ==> data-this (in observable.js's scopedEval) ==> this in JS => { dataId, dataInit, ... }\n        // this ==> scope (in observable.js's scopedEval) ==> this.parentElement ==> div.container below (toHtml)\n\n        playground.call(data,\n                        this\n                        ,\n                        {\n    \"f\": _magicbarChart,\n    \"o\": {\"x\":\"_1\",\"y\":\"_2\",\"width\":600,\"height\":400}\n  }\n  \n                        \n                        \n                      );\n      }\n    );/*]]>*/</script>\n    <div>\n      <span class=\"chart-total-item-count\"><p data-bind=\"text: value\"><script data-this=\"{&quot;valueId&quot;:&quot;anon0c280d8394fa69e05252fbbe2de1b6f3&quot;,&quot;initialValue&quot;:&quot;106&quot;}\" type=\"text/x-scoped-javascript\">/*<![CDATA[*/\nreq(\n['observable', 'knockout'],\nfunction (O, ko) {\n  ko.applyBindings({\n      value: O.makeObservable(valueId, initialValue)\n    },\n    this\n  );\n});\n        /*]]>*/</script></p> entries total</span>\n      <span class=\"chart-sampling-warning\"><p data-bind=\"text: value\"><script data-this=\"{&quot;valueId&quot;:&quot;anon69205619256aa72e7c3a4bc4b4193d1e&quot;,&quot;initialValue&quot;:&quot;&quot;}\" type=\"text/x-scoped-javascript\">/*<![CDATA[*/\nreq(\n['observable', 'knockout'],\nfunction (O, ko) {\n  ko.applyBindings({\n      value: O.makeObservable(valueId, initialValue)\n    },\n    this\n  );\n});\n        /*]]>*/</script></p></span>\n      <div>\n      </div>\n    </div></div>\n            </div><div class=\"tab-pane\" id=\"tab1004654569-2\">\n            <div>\n      <script data-this=\"{&quot;dataId&quot;:&quot;anonac95155fbc2dc610bf7435df59223a8e&quot;,&quot;dataInit&quot;:[{&quot;_1&quot;:&quot;reading&quot;,&quot;_2&quot;:1},{&quot;_1&quot;:&quot;this&quot;,&quot;_2&quot;:1},{&quot;_1&quot;:&quot;paper&quot;,&quot;_2&quot;:1},{&quot;_1&quot;:&quot;doublerddfunctions&quot;,&quot;_2&quot;:1},{&quot;_1&quot;:&quot;collection&quot;,&quot;_2&quot;:1},{&quot;_1&quot;:&quot;internally&quot;,&quot;_2&quot;:1},{&quot;_1&quot;:&quot;is&quot;,&quot;_2&quot;:3},{&quot;_1&quot;:&quot;its&quot;,&quot;_2&quot;:1},{&quot;_1&quot;:&quot;sequencefiles&quot;,&quot;_2&quot;:1},{&quot;_1&quot;:&quot;persist&quot;,&quot;_2&quot;:1},{&quot;_1&quot;:&quot;only&quot;,&quot;_2&quot;:2},{&quot;_1&quot;:&quot;data&quot;,&quot;_2&quot;:1},{&quot;_1&quot;:&quot;abstraction&quot;,&quot;_2&quot;:1},{&quot;_1&quot;:&quot;internals&quot;,&quot;_2&quot;:1},{&quot;_1&quot;:&quot;basic&quot;,&quot;_2&quot;:2},{&quot;_1&quot;:&quot;map&quot;,&quot;_2&quot;:1},{&quot;_1&quot;:&quot;sequencefilerddfunctions&quot;,&quot;_2&quot;:1},{&quot;_1&quot;:&quot;class&quot;,&quot;_2&quot;:1},{&quot;_1&quot;:&quot;methods&quot;,&quot;_2&quot;:1},{&quot;_1&quot;:&quot;scheduling&quot;,&quot;_2&quot;:1},{&quot;_1&quot;:&quot;execution&quot;,&quot;_2&quot;:1},{&quot;_1&quot;:&quot;new&quot;,&quot;_2&quot;:1},{&quot;_1&quot;:&quot;computing&quot;,&quot;_2&quot;:2},{&quot;_1&quot;:&quot;locations&quot;,&quot;_2&quot;:2},{&quot;_1&quot;:&quot;join&quot;,&quot;_2&quot;:1},{&quot;_1&quot;:&quot;other&quot;,&quot;_2&quot;:1},{&quot;_1&quot;:&quot;file&quot;,&quot;_2&quot;:1},{&quot;_1&quot;:&quot;from&quot;,&quot;_2&quot;:1},{&quot;_1&quot;:&quot;details&quot;,&quot;_2&quot;:1},{&quot;_1&quot;:&quot;dataset&quot;,&quot;_2&quot;:1},{&quot;_1&quot;:&quot;immutable&quot;,&quot;_2&quot;:1},{&quot;_1&quot;:&quot;refer&quot;,&quot;_2&quot;:1},{&quot;_1&quot;:&quot;can&quot;,&quot;_2&quot;:3},{&quot;_1&quot;:&quot;doubles&quot;,&quot;_2&quot;:1},{&quot;_1&quot;:&quot;split&quot;,&quot;_2&quot;:2},{&quot;_1&quot;:&quot;filter&quot;,&quot;_2&quot;:1},{&quot;_1&quot;:&quot;operated&quot;,&quot;_2&quot;:1},{&quot;_1&quot;:&quot;keyvalue&quot;,&quot;_2&quot;:2},{&quot;_1&quot;:&quot;eg&quot;,&quot;_2&quot;:3},{&quot;_1&quot;:&quot;as&quot;,&quot;_2&quot;:3},{&quot;_1&quot;:&quot;&quot;,&quot;_2&quot;:5},{&quot;_1&quot;:&quot;operations&quot;,&quot;_2&quot;:4},{&quot;_1&quot;:&quot;done&quot;,&quot;_2&quot;:1},{&quot;_1&quot;:&quot;list&quot;,&quot;_2&quot;:3},{&quot;_1&quot;:&quot;please&quot;,&quot;_2&quot;:1},{&quot;_1&quot;:&quot;users&quot;,&quot;_2&quot;:1},{&quot;_1&quot;:&quot;five&quot;,&quot;_2&quot;:1},{&quot;_1&quot;:&quot;own&quot;,&quot;_2&quot;:1},{&quot;_1&quot;:&quot;rdd&quot;,&quot;_2&quot;:5},{&quot;_1&quot;:&quot;function&quot;,&quot;_2&quot;:1},{&quot;_1&quot;:&quot;addition&quot;,&quot;_2&quot;:1},{&quot;_1&quot;:&quot;itself&quot;,&quot;_2&quot;:1},{&quot;_1&quot;:&quot;characterized&quot;,&quot;_2&quot;:1},{&quot;_1&quot;:&quot;spark&quot;,&quot;_2&quot;:3},{&quot;_1&quot;:&quot;saved&quot;,&quot;_2&quot;:1},{&quot;_1&quot;:&quot;parallel&quot;,&quot;_2&quot;:1},{&quot;_1&quot;:&quot;on&quot;,&quot;_2&quot;:9},{&quot;_1&quot;:&quot;such&quot;,&quot;_2&quot;:2},{&quot;_1&quot;:&quot;each&quot;,&quot;_2&quot;:4},{&quot;_1&quot;:&quot;allowing&quot;,&quot;_2&quot;:1},{&quot;_1&quot;:&quot;partitioned&quot;,&quot;_2&quot;:1},{&quot;_1&quot;:&quot;in&quot;,&quot;_2&quot;:4},{&quot;_1&quot;:&quot;resilient&quot;,&quot;_2&quot;:1},{&quot;_1&quot;:&quot;storage&quot;,&quot;_2&quot;:1},{&quot;_1&quot;:&quot;for&quot;,&quot;_2&quot;:5},{&quot;_1&quot;:&quot;block&quot;,&quot;_2&quot;:1},{&quot;_1&quot;:&quot;indeed&quot;,&quot;_2&quot;:1},{&quot;_1&quot;:&quot;based&quot;,&quot;_2&quot;:1},{&quot;_1&quot;:&quot;distributed&quot;,&quot;_2&quot;:1},{&quot;_1&quot;:&quot;represents&quot;,&quot;_2&quot;:1},{&quot;_1&quot;:&quot;hdfs&quot;,&quot;_2&quot;:1},{&quot;_1&quot;:&quot;hashpartitioned&quot;,&quot;_2&quot;:1},{&quot;_1&quot;:&quot;rdds&quot;,&quot;_2&quot;:7},{&quot;_1&quot;:&quot;way&quot;,&quot;_2&quot;:1},{&quot;_1&quot;:&quot;partitions&quot;,&quot;_2&quot;:1},{&quot;_1&quot;:&quot;the&quot;,&quot;_2&quot;:5},{&quot;_1&quot;:&quot;these&quot;,&quot;_2&quot;:2},{&quot;_1&quot;:&quot;pairrddfunctions&quot;,&quot;_2&quot;:1},{&quot;_1&quot;:&quot;custom&quot;,&quot;_2&quot;:1},{&quot;_1&quot;:&quot;contains&quot;,&quot;_2&quot;:4},{&quot;_1&quot;:&quot;main&quot;,&quot;_2&quot;:1},{&quot;_1&quot;:&quot;that&quot;,&quot;_2&quot;:3},{&quot;_1&quot;:&quot;a&quot;,&quot;_2&quot;:7},{&quot;_1&quot;:&quot;preferred&quot;,&quot;_2&quot;:1},{&quot;_1&quot;:&quot;be&quot;,&quot;_2&quot;:2},{&quot;_1&quot;:&quot;say&quot;,&quot;_2&quot;:1},{&quot;_1&quot;:&quot;all&quot;,&quot;_2&quot;:2},{&quot;_1&quot;:&quot;to&quot;,&quot;_2&quot;:4},{&quot;_1&quot;:&quot;available&quot;,&quot;_2&quot;:4},{&quot;_1&quot;:&quot;overriding&quot;,&quot;_2&quot;:1},{&quot;_1&quot;:&quot;properties&quot;,&quot;_2&quot;:1},{&quot;_1&quot;:&quot;implement&quot;,&quot;_2&quot;:2},{&quot;_1&quot;:&quot;more&quot;,&quot;_2&quot;:1},{&quot;_1&quot;:&quot;of&quot;,&quot;_2&quot;:8},{&quot;_1&quot;:&quot;dependencies&quot;,&quot;_2&quot;:1},{&quot;_1&quot;:&quot;by&quot;,&quot;_2&quot;:2},{&quot;_1&quot;:&quot;an&quot;,&quot;_2&quot;:2},{&quot;_1&quot;:&quot;groupbykey&quot;,&quot;_2&quot;:1},{&quot;_1&quot;:&quot;functions&quot;,&quot;_2&quot;:1},{&quot;_1&quot;:&quot;partitioner&quot;,&quot;_2&quot;:1},{&quot;_1&quot;:&quot;and&quot;,&quot;_2&quot;:4},{&quot;_1&quot;:&quot;optionally&quot;,&quot;_2&quot;:2},{&quot;_1&quot;:&quot;pairs&quot;,&quot;_2&quot;:1},{&quot;_1&quot;:&quot;system&quot;,&quot;_2&quot;:1},{&quot;_1&quot;:&quot;compute&quot;,&quot;_2&quot;:1},{&quot;_1&quot;:&quot;elements&quot;,&quot;_2&quot;:1}],&quot;genId&quot;:&quot;401696833&quot;}\" type=\"text/x-scoped-javascript\">/*<![CDATA[*/req(['../javascripts/notebook/playground','../javascripts/notebook/magic/pieChart'], \n      function(playground, _magicpieChart) {\n        // data ==> data-this (in observable.js's scopedEval) ==> this in JS => { dataId, dataInit, ... }\n        // this ==> scope (in observable.js's scopedEval) ==> this.parentElement ==> div.container below (toHtml)\n\n        playground.call(data,\n                        this\n                        ,\n                        {\n    \"f\": _magicpieChart,\n    \"o\": {\"series\":\"_1\",\"p\":\"_2\",\"width\":600,\"height\":400}\n  }\n  \n                        \n                        \n                      );\n      }\n    );/*]]>*/</script>\n    <div>\n      <span class=\"chart-total-item-count\"><p data-bind=\"text: value\"><script data-this=\"{&quot;valueId&quot;:&quot;anon2c88aac90d05e01319b261337af1dfd6&quot;,&quot;initialValue&quot;:&quot;106&quot;}\" type=\"text/x-scoped-javascript\">/*<![CDATA[*/\nreq(\n['observable', 'knockout'],\nfunction (O, ko) {\n  ko.applyBindings({\n      value: O.makeObservable(valueId, initialValue)\n    },\n    this\n  );\n});\n        /*]]>*/</script></p> entries total</span>\n      <span class=\"chart-sampling-warning\"><p data-bind=\"text: value\"><script data-this=\"{&quot;valueId&quot;:&quot;anonc9169e9ffc6ebc291fdcea0d5515a482&quot;,&quot;initialValue&quot;:&quot;&quot;}\" type=\"text/x-scoped-javascript\">/*<![CDATA[*/\nreq(\n['observable', 'knockout'],\nfunction (O, ko) {\n  ko.applyBindings({\n      value: O.makeObservable(valueId, initialValue)\n    },\n    this\n  );\n});\n        /*]]>*/</script></p></span>\n      <div>\n      </div>\n    </div></div>\n            </div><div class=\"tab-pane\" id=\"tab1004654569-3\">\n            <div>\n      <script data-this=\"{&quot;dataId&quot;:&quot;anon17ae6c9c465238e483500b9705c94b2a&quot;,&quot;dataInit&quot;:[{&quot;_1&quot;:&quot;reading&quot;,&quot;_2&quot;:1},{&quot;_1&quot;:&quot;this&quot;,&quot;_2&quot;:1},{&quot;_1&quot;:&quot;paper&quot;,&quot;_2&quot;:1},{&quot;_1&quot;:&quot;doublerddfunctions&quot;,&quot;_2&quot;:1},{&quot;_1&quot;:&quot;collection&quot;,&quot;_2&quot;:1},{&quot;_1&quot;:&quot;internally&quot;,&quot;_2&quot;:1},{&quot;_1&quot;:&quot;is&quot;,&quot;_2&quot;:3},{&quot;_1&quot;:&quot;its&quot;,&quot;_2&quot;:1},{&quot;_1&quot;:&quot;sequencefiles&quot;,&quot;_2&quot;:1},{&quot;_1&quot;:&quot;persist&quot;,&quot;_2&quot;:1},{&quot;_1&quot;:&quot;only&quot;,&quot;_2&quot;:2},{&quot;_1&quot;:&quot;data&quot;,&quot;_2&quot;:1},{&quot;_1&quot;:&quot;abstraction&quot;,&quot;_2&quot;:1},{&quot;_1&quot;:&quot;internals&quot;,&quot;_2&quot;:1},{&quot;_1&quot;:&quot;basic&quot;,&quot;_2&quot;:2},{&quot;_1&quot;:&quot;map&quot;,&quot;_2&quot;:1},{&quot;_1&quot;:&quot;sequencefilerddfunctions&quot;,&quot;_2&quot;:1},{&quot;_1&quot;:&quot;class&quot;,&quot;_2&quot;:1},{&quot;_1&quot;:&quot;methods&quot;,&quot;_2&quot;:1},{&quot;_1&quot;:&quot;scheduling&quot;,&quot;_2&quot;:1},{&quot;_1&quot;:&quot;execution&quot;,&quot;_2&quot;:1},{&quot;_1&quot;:&quot;new&quot;,&quot;_2&quot;:1},{&quot;_1&quot;:&quot;computing&quot;,&quot;_2&quot;:2},{&quot;_1&quot;:&quot;locations&quot;,&quot;_2&quot;:2},{&quot;_1&quot;:&quot;join&quot;,&quot;_2&quot;:1},{&quot;_1&quot;:&quot;other&quot;,&quot;_2&quot;:1},{&quot;_1&quot;:&quot;file&quot;,&quot;_2&quot;:1},{&quot;_1&quot;:&quot;from&quot;,&quot;_2&quot;:1},{&quot;_1&quot;:&quot;details&quot;,&quot;_2&quot;:1},{&quot;_1&quot;:&quot;dataset&quot;,&quot;_2&quot;:1},{&quot;_1&quot;:&quot;immutable&quot;,&quot;_2&quot;:1},{&quot;_1&quot;:&quot;refer&quot;,&quot;_2&quot;:1},{&quot;_1&quot;:&quot;can&quot;,&quot;_2&quot;:3},{&quot;_1&quot;:&quot;doubles&quot;,&quot;_2&quot;:1},{&quot;_1&quot;:&quot;split&quot;,&quot;_2&quot;:2},{&quot;_1&quot;:&quot;filter&quot;,&quot;_2&quot;:1},{&quot;_1&quot;:&quot;operated&quot;,&quot;_2&quot;:1},{&quot;_1&quot;:&quot;keyvalue&quot;,&quot;_2&quot;:2},{&quot;_1&quot;:&quot;eg&quot;,&quot;_2&quot;:3},{&quot;_1&quot;:&quot;as&quot;,&quot;_2&quot;:3},{&quot;_1&quot;:&quot;&quot;,&quot;_2&quot;:5},{&quot;_1&quot;:&quot;operations&quot;,&quot;_2&quot;:4},{&quot;_1&quot;:&quot;done&quot;,&quot;_2&quot;:1},{&quot;_1&quot;:&quot;list&quot;,&quot;_2&quot;:3},{&quot;_1&quot;:&quot;please&quot;,&quot;_2&quot;:1},{&quot;_1&quot;:&quot;users&quot;,&quot;_2&quot;:1},{&quot;_1&quot;:&quot;five&quot;,&quot;_2&quot;:1},{&quot;_1&quot;:&quot;own&quot;,&quot;_2&quot;:1},{&quot;_1&quot;:&quot;rdd&quot;,&quot;_2&quot;:5},{&quot;_1&quot;:&quot;function&quot;,&quot;_2&quot;:1},{&quot;_1&quot;:&quot;addition&quot;,&quot;_2&quot;:1},{&quot;_1&quot;:&quot;itself&quot;,&quot;_2&quot;:1},{&quot;_1&quot;:&quot;characterized&quot;,&quot;_2&quot;:1},{&quot;_1&quot;:&quot;spark&quot;,&quot;_2&quot;:3},{&quot;_1&quot;:&quot;saved&quot;,&quot;_2&quot;:1},{&quot;_1&quot;:&quot;parallel&quot;,&quot;_2&quot;:1},{&quot;_1&quot;:&quot;on&quot;,&quot;_2&quot;:9},{&quot;_1&quot;:&quot;such&quot;,&quot;_2&quot;:2},{&quot;_1&quot;:&quot;each&quot;,&quot;_2&quot;:4},{&quot;_1&quot;:&quot;allowing&quot;,&quot;_2&quot;:1},{&quot;_1&quot;:&quot;partitioned&quot;,&quot;_2&quot;:1},{&quot;_1&quot;:&quot;in&quot;,&quot;_2&quot;:4},{&quot;_1&quot;:&quot;resilient&quot;,&quot;_2&quot;:1},{&quot;_1&quot;:&quot;storage&quot;,&quot;_2&quot;:1},{&quot;_1&quot;:&quot;for&quot;,&quot;_2&quot;:5},{&quot;_1&quot;:&quot;block&quot;,&quot;_2&quot;:1},{&quot;_1&quot;:&quot;indeed&quot;,&quot;_2&quot;:1},{&quot;_1&quot;:&quot;based&quot;,&quot;_2&quot;:1},{&quot;_1&quot;:&quot;distributed&quot;,&quot;_2&quot;:1},{&quot;_1&quot;:&quot;represents&quot;,&quot;_2&quot;:1},{&quot;_1&quot;:&quot;hdfs&quot;,&quot;_2&quot;:1},{&quot;_1&quot;:&quot;hashpartitioned&quot;,&quot;_2&quot;:1},{&quot;_1&quot;:&quot;rdds&quot;,&quot;_2&quot;:7},{&quot;_1&quot;:&quot;way&quot;,&quot;_2&quot;:1},{&quot;_1&quot;:&quot;partitions&quot;,&quot;_2&quot;:1},{&quot;_1&quot;:&quot;the&quot;,&quot;_2&quot;:5},{&quot;_1&quot;:&quot;these&quot;,&quot;_2&quot;:2},{&quot;_1&quot;:&quot;pairrddfunctions&quot;,&quot;_2&quot;:1},{&quot;_1&quot;:&quot;custom&quot;,&quot;_2&quot;:1},{&quot;_1&quot;:&quot;contains&quot;,&quot;_2&quot;:4},{&quot;_1&quot;:&quot;main&quot;,&quot;_2&quot;:1},{&quot;_1&quot;:&quot;that&quot;,&quot;_2&quot;:3},{&quot;_1&quot;:&quot;a&quot;,&quot;_2&quot;:7},{&quot;_1&quot;:&quot;preferred&quot;,&quot;_2&quot;:1},{&quot;_1&quot;:&quot;be&quot;,&quot;_2&quot;:2},{&quot;_1&quot;:&quot;say&quot;,&quot;_2&quot;:1},{&quot;_1&quot;:&quot;all&quot;,&quot;_2&quot;:2},{&quot;_1&quot;:&quot;to&quot;,&quot;_2&quot;:4},{&quot;_1&quot;:&quot;available&quot;,&quot;_2&quot;:4},{&quot;_1&quot;:&quot;overriding&quot;,&quot;_2&quot;:1},{&quot;_1&quot;:&quot;properties&quot;,&quot;_2&quot;:1},{&quot;_1&quot;:&quot;implement&quot;,&quot;_2&quot;:2},{&quot;_1&quot;:&quot;more&quot;,&quot;_2&quot;:1},{&quot;_1&quot;:&quot;of&quot;,&quot;_2&quot;:8},{&quot;_1&quot;:&quot;dependencies&quot;,&quot;_2&quot;:1},{&quot;_1&quot;:&quot;by&quot;,&quot;_2&quot;:2},{&quot;_1&quot;:&quot;an&quot;,&quot;_2&quot;:2},{&quot;_1&quot;:&quot;groupbykey&quot;,&quot;_2&quot;:1},{&quot;_1&quot;:&quot;functions&quot;,&quot;_2&quot;:1},{&quot;_1&quot;:&quot;partitioner&quot;,&quot;_2&quot;:1},{&quot;_1&quot;:&quot;and&quot;,&quot;_2&quot;:4},{&quot;_1&quot;:&quot;optionally&quot;,&quot;_2&quot;:2},{&quot;_1&quot;:&quot;pairs&quot;,&quot;_2&quot;:1},{&quot;_1&quot;:&quot;system&quot;,&quot;_2&quot;:1},{&quot;_1&quot;:&quot;compute&quot;,&quot;_2&quot;:1},{&quot;_1&quot;:&quot;elements&quot;,&quot;_2&quot;:1}],&quot;genId&quot;:&quot;1393683148&quot;}\" type=\"text/x-scoped-javascript\">/*<![CDATA[*/req(['../javascripts/notebook/playground','../javascripts/notebook/magic/pivotChart'], \n      function(playground, _magicpivotChart) {\n        // data ==> data-this (in observable.js's scopedEval) ==> this in JS => { dataId, dataInit, ... }\n        // this ==> scope (in observable.js's scopedEval) ==> this.parentElement ==> div.container below (toHtml)\n\n        playground.call(data,\n                        this\n                        ,\n                        {\n    \"f\": _magicpivotChart,\n    \"o\": {\"width\":600,\"height\":400,\"derivedAttributes\":{},\"extraOptions\":{}}\n  }\n  \n                        \n                        \n                      );\n      }\n    );/*]]>*/</script>\n    <div>\n      <span class=\"chart-total-item-count\"><p data-bind=\"text: value\"><script data-this=\"{&quot;valueId&quot;:&quot;anon25706dd8ad5806bb4aaad879b04f2873&quot;,&quot;initialValue&quot;:&quot;106&quot;}\" type=\"text/x-scoped-javascript\">/*<![CDATA[*/\nreq(\n['observable', 'knockout'],\nfunction (O, ko) {\n  ko.applyBindings({\n      value: O.makeObservable(valueId, initialValue)\n    },\n    this\n  );\n});\n        /*]]>*/</script></p> entries total</span>\n      <span class=\"chart-sampling-warning\"><p data-bind=\"text: value\"><script data-this=\"{&quot;valueId&quot;:&quot;anon88afb23ca0bd6a7afc50733e99fb26ce&quot;,&quot;initialValue&quot;:&quot;&quot;}\" type=\"text/x-scoped-javascript\">/*<![CDATA[*/\nreq(\n['observable', 'knockout'],\nfunction (O, ko) {\n  ko.applyBindings({\n      value: O.makeObservable(valueId, initialValue)\n    },\n    this\n  );\n});\n        /*]]>*/</script></p></span>\n      <div>\n      </div>\n    </div></div>\n            </div></div>\n      </div>\n    </div></div>"
          },
          "output_type" : "execute_result",
          "execution_count" : 11,
          "time" : "Took: 1.108s, at 2017-09-06 08:19"
        }
      ]
    },
    {
      "metadata" : {
        "id" : "D7EB98FEFBC34C7E809486F9859A2026"
      },
      "cell_type" : "markdown",
      "source" : "#### 2/ Second option :\n\nWe do the same, for each element in RDD, we map with value 1. Then we groupByKey and compute the sum of list of the value"
    },
    {
      "metadata" : {
        "trusted" : true,
        "input_collapsed" : false,
        "collapsed" : false,
        "id" : "2E12AAAC9B784155B4A0950F561B39DE"
      },
      "cell_type" : "code",
      "source" : [
        "val wordCount = words.map(l => (l, 1)).groupByKey().map(l => (l._1, l._2.toList.sum))\n"
      ],
      "outputs" : [
        {
          "name" : "stdout",
          "output_type" : "stream",
          "text" : "wordCount: org.apache.spark.rdd.RDD[(String, Int)] = MapPartitionsRDD[12] at map at <console>:73\n"
        },
        {
          "metadata" : { },
          "data" : {
            "text/html" : ""
          },
          "output_type" : "execute_result",
          "execution_count" : 12,
          "time" : "Took: 0.790s, at 2017-09-06 08:21"
        }
      ]
    },
    {
      "metadata" : {
        "id" : "C0B137BCDC5B47329C6DC4CF8EF999F6"
      },
      "cell_type" : "markdown",
      "source" : "### For example if we want to find the count of \"is\", we can also do filter"
    },
    {
      "metadata" : {
        "trusted" : true,
        "input_collapsed" : false,
        "collapsed" : false,
        "presentation" : {
          "tabs_state" : "{\n  \"tab_id\": \"#tab2104666102-0\"\n}",
          "pivot_chart_state" : "{\n  \"hiddenAttributes\": [],\n  \"menuLimit\": 200,\n  \"cols\": [],\n  \"rows\": [],\n  \"vals\": [],\n  \"exclusions\": {},\n  \"inclusions\": {},\n  \"unusedAttrsVertical\": 85,\n  \"autoSortUnusedAttrs\": false,\n  \"inclusionsInfo\": {},\n  \"aggregatorName\": \"Count\",\n  \"rendererName\": \"Table\"\n}"
        },
        "id" : "B65D3F596049480D869EE3179A394C70"
      },
      "cell_type" : "code",
      "source" : [
        "wordCount.filter(l => l._1 == \"is\").take(10)"
      ],
      "outputs" : [
        {
          "name" : "stdout",
          "output_type" : "stream",
          "text" : "res8: Array[(String, Int)] = Array((is,3))\n"
        },
        {
          "metadata" : { },
          "data" : {
            "text/html" : "<div>\n      <script data-this=\"{&quot;dataId&quot;:&quot;anon322305156982d2a1f136852353d1377b&quot;,&quot;dataInit&quot;:[],&quot;genId&quot;:&quot;2104666102&quot;}\" type=\"text/x-scoped-javascript\">/*<![CDATA[*/req(['../javascripts/notebook/playground','../javascripts/notebook/magic/tabs'], \n      function(playground, _magictabs) {\n        // data ==> data-this (in observable.js's scopedEval) ==> this in JS => { dataId, dataInit, ... }\n        // this ==> scope (in observable.js's scopedEval) ==> this.parentElement ==> div.container below (toHtml)\n\n        playground.call(data,\n                        this\n                        ,\n                        {\n    \"f\": _magictabs,\n    \"o\": {}\n  }\n  \n                        \n                        \n                      );\n      }\n    );/*]]>*/</script>\n    <div>\n      <div>\n        <ul class=\"nav nav-tabs\" id=\"ul2104666102\"><li>\n              <a href=\"#tab2104666102-0\"><i class=\"fa fa-table\"/></a>\n            </li><li>\n              <a href=\"#tab2104666102-1\"><i class=\"fa fa-bar-chart\"/></a>\n            </li><li>\n              <a href=\"#tab2104666102-2\"><i class=\"fa fa-pie-chart\"/></a>\n            </li><li>\n              <a href=\"#tab2104666102-3\"><i class=\"fa fa-cubes\"/></a>\n            </li></ul>\n\n        <div class=\"tab-content\" id=\"tab2104666102\"><div class=\"tab-pane\" id=\"tab2104666102-0\">\n            <div>\n      <script data-this=\"{&quot;dataId&quot;:&quot;anon1586f45b9eb0feeb4d31a8c21d5e0c28&quot;,&quot;dataInit&quot;:[{&quot;_1&quot;:&quot;is&quot;,&quot;_2&quot;:3}],&quot;genId&quot;:&quot;573600060&quot;}\" type=\"text/x-scoped-javascript\">/*<![CDATA[*/req(['../javascripts/notebook/playground','../javascripts/notebook/magic/tableChart'], \n      function(playground, _magictableChart) {\n        // data ==> data-this (in observable.js's scopedEval) ==> this in JS => { dataId, dataInit, ... }\n        // this ==> scope (in observable.js's scopedEval) ==> this.parentElement ==> div.container below (toHtml)\n\n        playground.call(data,\n                        this\n                        ,\n                        {\n    \"f\": _magictableChart,\n    \"o\": {\"headers\":[\"_1\",\"_2\"],\"width\":600,\"height\":400}\n  }\n  \n                        \n                        \n                      );\n      }\n    );/*]]>*/</script>\n    <div>\n      <span class=\"chart-total-item-count\"><p data-bind=\"text: value\"><script data-this=\"{&quot;valueId&quot;:&quot;anona5f6fe2cef96ef898803a483f1a6c202&quot;,&quot;initialValue&quot;:&quot;1&quot;}\" type=\"text/x-scoped-javascript\">/*<![CDATA[*/\nreq(\n['observable', 'knockout'],\nfunction (O, ko) {\n  ko.applyBindings({\n      value: O.makeObservable(valueId, initialValue)\n    },\n    this\n  );\n});\n        /*]]>*/</script></p> entries total</span>\n      <span class=\"chart-sampling-warning\"><p data-bind=\"text: value\"><script data-this=\"{&quot;valueId&quot;:&quot;anoncc48b3cbebbabd824d3e19602b55acf0&quot;,&quot;initialValue&quot;:&quot;&quot;}\" type=\"text/x-scoped-javascript\">/*<![CDATA[*/\nreq(\n['observable', 'knockout'],\nfunction (O, ko) {\n  ko.applyBindings({\n      value: O.makeObservable(valueId, initialValue)\n    },\n    this\n  );\n});\n        /*]]>*/</script></p></span>\n      <div>\n      </div>\n    </div></div>\n            </div><div class=\"tab-pane\" id=\"tab2104666102-1\">\n            <div>\n      <script data-this=\"{&quot;dataId&quot;:&quot;anon13f43d952addaa52afc8cb2a0c8114ae&quot;,&quot;dataInit&quot;:[{&quot;_1&quot;:&quot;is&quot;,&quot;_2&quot;:3}],&quot;genId&quot;:&quot;49706601&quot;}\" type=\"text/x-scoped-javascript\">/*<![CDATA[*/req(['../javascripts/notebook/playground','../javascripts/notebook/magic/barChart'], \n      function(playground, _magicbarChart) {\n        // data ==> data-this (in observable.js's scopedEval) ==> this in JS => { dataId, dataInit, ... }\n        // this ==> scope (in observable.js's scopedEval) ==> this.parentElement ==> div.container below (toHtml)\n\n        playground.call(data,\n                        this\n                        ,\n                        {\n    \"f\": _magicbarChart,\n    \"o\": {\"x\":\"_1\",\"y\":\"_2\",\"width\":600,\"height\":400}\n  }\n  \n                        \n                        \n                      );\n      }\n    );/*]]>*/</script>\n    <div>\n      <span class=\"chart-total-item-count\"><p data-bind=\"text: value\"><script data-this=\"{&quot;valueId&quot;:&quot;anon0b38fd36106d53e00ec2e5b082d3b6dc&quot;,&quot;initialValue&quot;:&quot;1&quot;}\" type=\"text/x-scoped-javascript\">/*<![CDATA[*/\nreq(\n['observable', 'knockout'],\nfunction (O, ko) {\n  ko.applyBindings({\n      value: O.makeObservable(valueId, initialValue)\n    },\n    this\n  );\n});\n        /*]]>*/</script></p> entries total</span>\n      <span class=\"chart-sampling-warning\"><p data-bind=\"text: value\"><script data-this=\"{&quot;valueId&quot;:&quot;anond5ec9199cec5498bd60330b689e44a80&quot;,&quot;initialValue&quot;:&quot;&quot;}\" type=\"text/x-scoped-javascript\">/*<![CDATA[*/\nreq(\n['observable', 'knockout'],\nfunction (O, ko) {\n  ko.applyBindings({\n      value: O.makeObservable(valueId, initialValue)\n    },\n    this\n  );\n});\n        /*]]>*/</script></p></span>\n      <div>\n      </div>\n    </div></div>\n            </div><div class=\"tab-pane\" id=\"tab2104666102-2\">\n            <div>\n      <script data-this=\"{&quot;dataId&quot;:&quot;anon5cf3b635e51e449f6b4781e41b41dc3f&quot;,&quot;dataInit&quot;:[{&quot;_1&quot;:&quot;is&quot;,&quot;_2&quot;:3}],&quot;genId&quot;:&quot;1533879698&quot;}\" type=\"text/x-scoped-javascript\">/*<![CDATA[*/req(['../javascripts/notebook/playground','../javascripts/notebook/magic/pieChart'], \n      function(playground, _magicpieChart) {\n        // data ==> data-this (in observable.js's scopedEval) ==> this in JS => { dataId, dataInit, ... }\n        // this ==> scope (in observable.js's scopedEval) ==> this.parentElement ==> div.container below (toHtml)\n\n        playground.call(data,\n                        this\n                        ,\n                        {\n    \"f\": _magicpieChart,\n    \"o\": {\"series\":\"_1\",\"p\":\"_2\",\"width\":600,\"height\":400}\n  }\n  \n                        \n                        \n                      );\n      }\n    );/*]]>*/</script>\n    <div>\n      <span class=\"chart-total-item-count\"><p data-bind=\"text: value\"><script data-this=\"{&quot;valueId&quot;:&quot;anonc357cfa5ed6f1a5f69d618ef3b86fa21&quot;,&quot;initialValue&quot;:&quot;1&quot;}\" type=\"text/x-scoped-javascript\">/*<![CDATA[*/\nreq(\n['observable', 'knockout'],\nfunction (O, ko) {\n  ko.applyBindings({\n      value: O.makeObservable(valueId, initialValue)\n    },\n    this\n  );\n});\n        /*]]>*/</script></p> entries total</span>\n      <span class=\"chart-sampling-warning\"><p data-bind=\"text: value\"><script data-this=\"{&quot;valueId&quot;:&quot;anon91a5b042462fa61aeaaac6feb027c1b3&quot;,&quot;initialValue&quot;:&quot;&quot;}\" type=\"text/x-scoped-javascript\">/*<![CDATA[*/\nreq(\n['observable', 'knockout'],\nfunction (O, ko) {\n  ko.applyBindings({\n      value: O.makeObservable(valueId, initialValue)\n    },\n    this\n  );\n});\n        /*]]>*/</script></p></span>\n      <div>\n      </div>\n    </div></div>\n            </div><div class=\"tab-pane\" id=\"tab2104666102-3\">\n            <div>\n      <script data-this=\"{&quot;dataId&quot;:&quot;anon7ff23faf895ef579acde1543b0059e39&quot;,&quot;dataInit&quot;:[{&quot;_1&quot;:&quot;is&quot;,&quot;_2&quot;:3}],&quot;genId&quot;:&quot;1638788491&quot;}\" type=\"text/x-scoped-javascript\">/*<![CDATA[*/req(['../javascripts/notebook/playground','../javascripts/notebook/magic/pivotChart'], \n      function(playground, _magicpivotChart) {\n        // data ==> data-this (in observable.js's scopedEval) ==> this in JS => { dataId, dataInit, ... }\n        // this ==> scope (in observable.js's scopedEval) ==> this.parentElement ==> div.container below (toHtml)\n\n        playground.call(data,\n                        this\n                        ,\n                        {\n    \"f\": _magicpivotChart,\n    \"o\": {\"width\":600,\"height\":400,\"derivedAttributes\":{},\"extraOptions\":{}}\n  }\n  \n                        \n                        \n                      );\n      }\n    );/*]]>*/</script>\n    <div>\n      <span class=\"chart-total-item-count\"><p data-bind=\"text: value\"><script data-this=\"{&quot;valueId&quot;:&quot;anon5ba35e288a9db744527f67b2b8f3c6f7&quot;,&quot;initialValue&quot;:&quot;1&quot;}\" type=\"text/x-scoped-javascript\">/*<![CDATA[*/\nreq(\n['observable', 'knockout'],\nfunction (O, ko) {\n  ko.applyBindings({\n      value: O.makeObservable(valueId, initialValue)\n    },\n    this\n  );\n});\n        /*]]>*/</script></p> entries total</span>\n      <span class=\"chart-sampling-warning\"><p data-bind=\"text: value\"><script data-this=\"{&quot;valueId&quot;:&quot;anon865495e039bd805b087fbe09a7445f9b&quot;,&quot;initialValue&quot;:&quot;&quot;}\" type=\"text/x-scoped-javascript\">/*<![CDATA[*/\nreq(\n['observable', 'knockout'],\nfunction (O, ko) {\n  ko.applyBindings({\n      value: O.makeObservable(valueId, initialValue)\n    },\n    this\n  );\n});\n        /*]]>*/</script></p></span>\n      <div>\n      </div>\n    </div></div>\n            </div></div>\n      </div>\n    </div></div>"
          },
          "output_type" : "execute_result",
          "execution_count" : 7,
          "time" : "Took: 1.869s, at 2017-09-05 02:44"
        }
      ]
    },
    {
      "metadata" : {
        "id" : "3B8E0DF4D87F4A07AD9439F2DA1421C3"
      },
      "cell_type" : "markdown",
      "source" : "### So without any filter, the output will be "
    },
    {
      "metadata" : {
        "trusted" : true,
        "input_collapsed" : false,
        "collapsed" : false,
        "presentation" : {
          "tabs_state" : "{\n  \"tab_id\": \"#tab1952622027-0\"\n}",
          "pivot_chart_state" : "{\n  \"hiddenAttributes\": [],\n  \"menuLimit\": 200,\n  \"cols\": [],\n  \"rows\": [],\n  \"vals\": [],\n  \"exclusions\": {},\n  \"inclusions\": {},\n  \"unusedAttrsVertical\": 85,\n  \"autoSortUnusedAttrs\": false,\n  \"inclusionsInfo\": {},\n  \"aggregatorName\": \"Count\",\n  \"rendererName\": \"Table\"\n}"
        },
        "id" : "AA346D5DB42C487BA3DA2705D902A04A"
      },
      "cell_type" : "code",
      "source" : [
        "wordCount.take(10)"
      ],
      "outputs" : [
        {
          "name" : "stdout",
          "output_type" : "stream",
          "text" : "res23: Array[(String, Int)] = Array((reading,1), (this,1), (paper,1), (doublerddfunctions,1), (collection,1), (internally,1), (its,1), (is,3), (sequencefiles,1), (persist,1))\n"
        },
        {
          "metadata" : { },
          "data" : {
            "text/html" : "<div>\n      <script data-this=\"{&quot;dataId&quot;:&quot;anon4c697b76cb4157cb5dc0ec9b482cfea7&quot;,&quot;dataInit&quot;:[],&quot;genId&quot;:&quot;1952622027&quot;}\" type=\"text/x-scoped-javascript\">/*<![CDATA[*/req(['../javascripts/notebook/playground','../javascripts/notebook/magic/tabs'], \n      function(playground, _magictabs) {\n        // data ==> data-this (in observable.js's scopedEval) ==> this in JS => { dataId, dataInit, ... }\n        // this ==> scope (in observable.js's scopedEval) ==> this.parentElement ==> div.container below (toHtml)\n\n        playground.call(data,\n                        this\n                        ,\n                        {\n    \"f\": _magictabs,\n    \"o\": {}\n  }\n  \n                        \n                        \n                      );\n      }\n    );/*]]>*/</script>\n    <div>\n      <div>\n        <ul class=\"nav nav-tabs\" id=\"ul1952622027\"><li>\n              <a href=\"#tab1952622027-0\"><i class=\"fa fa-table\"/></a>\n            </li><li>\n              <a href=\"#tab1952622027-1\"><i class=\"fa fa-bar-chart\"/></a>\n            </li><li>\n              <a href=\"#tab1952622027-2\"><i class=\"fa fa-pie-chart\"/></a>\n            </li><li>\n              <a href=\"#tab1952622027-3\"><i class=\"fa fa-cubes\"/></a>\n            </li></ul>\n\n        <div class=\"tab-content\" id=\"tab1952622027\"><div class=\"tab-pane\" id=\"tab1952622027-0\">\n            <div>\n      <script data-this=\"{&quot;dataId&quot;:&quot;anon698a09db1d7e1bc0018a2fee4ad89f00&quot;,&quot;dataInit&quot;:[{&quot;_1&quot;:&quot;reading&quot;,&quot;_2&quot;:1},{&quot;_1&quot;:&quot;this&quot;,&quot;_2&quot;:1},{&quot;_1&quot;:&quot;paper&quot;,&quot;_2&quot;:1},{&quot;_1&quot;:&quot;doublerddfunctions&quot;,&quot;_2&quot;:1},{&quot;_1&quot;:&quot;collection&quot;,&quot;_2&quot;:1},{&quot;_1&quot;:&quot;internally&quot;,&quot;_2&quot;:1},{&quot;_1&quot;:&quot;its&quot;,&quot;_2&quot;:1},{&quot;_1&quot;:&quot;is&quot;,&quot;_2&quot;:3},{&quot;_1&quot;:&quot;sequencefiles&quot;,&quot;_2&quot;:1},{&quot;_1&quot;:&quot;persist&quot;,&quot;_2&quot;:1}],&quot;genId&quot;:&quot;2103246242&quot;}\" type=\"text/x-scoped-javascript\">/*<![CDATA[*/req(['../javascripts/notebook/playground','../javascripts/notebook/magic/tableChart'], \n      function(playground, _magictableChart) {\n        // data ==> data-this (in observable.js's scopedEval) ==> this in JS => { dataId, dataInit, ... }\n        // this ==> scope (in observable.js's scopedEval) ==> this.parentElement ==> div.container below (toHtml)\n\n        playground.call(data,\n                        this\n                        ,\n                        {\n    \"f\": _magictableChart,\n    \"o\": {\"headers\":[\"_1\",\"_2\"],\"width\":600,\"height\":400}\n  }\n  \n                        \n                        \n                      );\n      }\n    );/*]]>*/</script>\n    <div>\n      <span class=\"chart-total-item-count\"><p data-bind=\"text: value\"><script data-this=\"{&quot;valueId&quot;:&quot;anon04c189a14f96ab4a169341c1c2a7fc4d&quot;,&quot;initialValue&quot;:&quot;10&quot;}\" type=\"text/x-scoped-javascript\">/*<![CDATA[*/\nreq(\n['observable', 'knockout'],\nfunction (O, ko) {\n  ko.applyBindings({\n      value: O.makeObservable(valueId, initialValue)\n    },\n    this\n  );\n});\n        /*]]>*/</script></p> entries total</span>\n      <span class=\"chart-sampling-warning\"><p data-bind=\"text: value\"><script data-this=\"{&quot;valueId&quot;:&quot;anon6435d5fd4f54736355797aca40841c4f&quot;,&quot;initialValue&quot;:&quot;&quot;}\" type=\"text/x-scoped-javascript\">/*<![CDATA[*/\nreq(\n['observable', 'knockout'],\nfunction (O, ko) {\n  ko.applyBindings({\n      value: O.makeObservable(valueId, initialValue)\n    },\n    this\n  );\n});\n        /*]]>*/</script></p></span>\n      <div>\n      </div>\n    </div></div>\n            </div><div class=\"tab-pane\" id=\"tab1952622027-1\">\n            <div>\n      <script data-this=\"{&quot;dataId&quot;:&quot;anon2328f6b3ba97e018f0bd0d27cfcc2cac&quot;,&quot;dataInit&quot;:[{&quot;_1&quot;:&quot;reading&quot;,&quot;_2&quot;:1},{&quot;_1&quot;:&quot;this&quot;,&quot;_2&quot;:1},{&quot;_1&quot;:&quot;paper&quot;,&quot;_2&quot;:1},{&quot;_1&quot;:&quot;doublerddfunctions&quot;,&quot;_2&quot;:1},{&quot;_1&quot;:&quot;collection&quot;,&quot;_2&quot;:1},{&quot;_1&quot;:&quot;internally&quot;,&quot;_2&quot;:1},{&quot;_1&quot;:&quot;its&quot;,&quot;_2&quot;:1},{&quot;_1&quot;:&quot;is&quot;,&quot;_2&quot;:3},{&quot;_1&quot;:&quot;sequencefiles&quot;,&quot;_2&quot;:1},{&quot;_1&quot;:&quot;persist&quot;,&quot;_2&quot;:1}],&quot;genId&quot;:&quot;661509372&quot;}\" type=\"text/x-scoped-javascript\">/*<![CDATA[*/req(['../javascripts/notebook/playground','../javascripts/notebook/magic/barChart'], \n      function(playground, _magicbarChart) {\n        // data ==> data-this (in observable.js's scopedEval) ==> this in JS => { dataId, dataInit, ... }\n        // this ==> scope (in observable.js's scopedEval) ==> this.parentElement ==> div.container below (toHtml)\n\n        playground.call(data,\n                        this\n                        ,\n                        {\n    \"f\": _magicbarChart,\n    \"o\": {\"x\":\"_1\",\"y\":\"_2\",\"width\":600,\"height\":400}\n  }\n  \n                        \n                        \n                      );\n      }\n    );/*]]>*/</script>\n    <div>\n      <span class=\"chart-total-item-count\"><p data-bind=\"text: value\"><script data-this=\"{&quot;valueId&quot;:&quot;anonb49cb12d5335225576fa644e4f1f7667&quot;,&quot;initialValue&quot;:&quot;10&quot;}\" type=\"text/x-scoped-javascript\">/*<![CDATA[*/\nreq(\n['observable', 'knockout'],\nfunction (O, ko) {\n  ko.applyBindings({\n      value: O.makeObservable(valueId, initialValue)\n    },\n    this\n  );\n});\n        /*]]>*/</script></p> entries total</span>\n      <span class=\"chart-sampling-warning\"><p data-bind=\"text: value\"><script data-this=\"{&quot;valueId&quot;:&quot;anoneb5688c6a6e65d7c180394ba81e3547b&quot;,&quot;initialValue&quot;:&quot;&quot;}\" type=\"text/x-scoped-javascript\">/*<![CDATA[*/\nreq(\n['observable', 'knockout'],\nfunction (O, ko) {\n  ko.applyBindings({\n      value: O.makeObservable(valueId, initialValue)\n    },\n    this\n  );\n});\n        /*]]>*/</script></p></span>\n      <div>\n      </div>\n    </div></div>\n            </div><div class=\"tab-pane\" id=\"tab1952622027-2\">\n            <div>\n      <script data-this=\"{&quot;dataId&quot;:&quot;anon4c309025cb824c125cd0c222c377f023&quot;,&quot;dataInit&quot;:[{&quot;_1&quot;:&quot;reading&quot;,&quot;_2&quot;:1},{&quot;_1&quot;:&quot;this&quot;,&quot;_2&quot;:1},{&quot;_1&quot;:&quot;paper&quot;,&quot;_2&quot;:1},{&quot;_1&quot;:&quot;doublerddfunctions&quot;,&quot;_2&quot;:1},{&quot;_1&quot;:&quot;collection&quot;,&quot;_2&quot;:1},{&quot;_1&quot;:&quot;internally&quot;,&quot;_2&quot;:1},{&quot;_1&quot;:&quot;its&quot;,&quot;_2&quot;:1},{&quot;_1&quot;:&quot;is&quot;,&quot;_2&quot;:3},{&quot;_1&quot;:&quot;sequencefiles&quot;,&quot;_2&quot;:1},{&quot;_1&quot;:&quot;persist&quot;,&quot;_2&quot;:1}],&quot;genId&quot;:&quot;1142935439&quot;}\" type=\"text/x-scoped-javascript\">/*<![CDATA[*/req(['../javascripts/notebook/playground','../javascripts/notebook/magic/pieChart'], \n      function(playground, _magicpieChart) {\n        // data ==> data-this (in observable.js's scopedEval) ==> this in JS => { dataId, dataInit, ... }\n        // this ==> scope (in observable.js's scopedEval) ==> this.parentElement ==> div.container below (toHtml)\n\n        playground.call(data,\n                        this\n                        ,\n                        {\n    \"f\": _magicpieChart,\n    \"o\": {\"series\":\"_1\",\"p\":\"_2\",\"width\":600,\"height\":400}\n  }\n  \n                        \n                        \n                      );\n      }\n    );/*]]>*/</script>\n    <div>\n      <span class=\"chart-total-item-count\"><p data-bind=\"text: value\"><script data-this=\"{&quot;valueId&quot;:&quot;anon8321207f71f6b669a3496515ca3d6cd5&quot;,&quot;initialValue&quot;:&quot;10&quot;}\" type=\"text/x-scoped-javascript\">/*<![CDATA[*/\nreq(\n['observable', 'knockout'],\nfunction (O, ko) {\n  ko.applyBindings({\n      value: O.makeObservable(valueId, initialValue)\n    },\n    this\n  );\n});\n        /*]]>*/</script></p> entries total</span>\n      <span class=\"chart-sampling-warning\"><p data-bind=\"text: value\"><script data-this=\"{&quot;valueId&quot;:&quot;anon9670eb82235674954abc43f86e8204d9&quot;,&quot;initialValue&quot;:&quot;&quot;}\" type=\"text/x-scoped-javascript\">/*<![CDATA[*/\nreq(\n['observable', 'knockout'],\nfunction (O, ko) {\n  ko.applyBindings({\n      value: O.makeObservable(valueId, initialValue)\n    },\n    this\n  );\n});\n        /*]]>*/</script></p></span>\n      <div>\n      </div>\n    </div></div>\n            </div><div class=\"tab-pane\" id=\"tab1952622027-3\">\n            <div>\n      <script data-this=\"{&quot;dataId&quot;:&quot;anonc5faa1b9aa22b485736115c96b62ea05&quot;,&quot;dataInit&quot;:[{&quot;_1&quot;:&quot;reading&quot;,&quot;_2&quot;:1},{&quot;_1&quot;:&quot;this&quot;,&quot;_2&quot;:1},{&quot;_1&quot;:&quot;paper&quot;,&quot;_2&quot;:1},{&quot;_1&quot;:&quot;doublerddfunctions&quot;,&quot;_2&quot;:1},{&quot;_1&quot;:&quot;collection&quot;,&quot;_2&quot;:1},{&quot;_1&quot;:&quot;internally&quot;,&quot;_2&quot;:1},{&quot;_1&quot;:&quot;its&quot;,&quot;_2&quot;:1},{&quot;_1&quot;:&quot;is&quot;,&quot;_2&quot;:3},{&quot;_1&quot;:&quot;sequencefiles&quot;,&quot;_2&quot;:1},{&quot;_1&quot;:&quot;persist&quot;,&quot;_2&quot;:1}],&quot;genId&quot;:&quot;559481931&quot;}\" type=\"text/x-scoped-javascript\">/*<![CDATA[*/req(['../javascripts/notebook/playground','../javascripts/notebook/magic/pivotChart'], \n      function(playground, _magicpivotChart) {\n        // data ==> data-this (in observable.js's scopedEval) ==> this in JS => { dataId, dataInit, ... }\n        // this ==> scope (in observable.js's scopedEval) ==> this.parentElement ==> div.container below (toHtml)\n\n        playground.call(data,\n                        this\n                        ,\n                        {\n    \"f\": _magicpivotChart,\n    \"o\": {\"width\":600,\"height\":400,\"derivedAttributes\":{},\"extraOptions\":{}}\n  }\n  \n                        \n                        \n                      );\n      }\n    );/*]]>*/</script>\n    <div>\n      <span class=\"chart-total-item-count\"><p data-bind=\"text: value\"><script data-this=\"{&quot;valueId&quot;:&quot;anone8c24beea7b87addcb5f37f3cc7c8828&quot;,&quot;initialValue&quot;:&quot;10&quot;}\" type=\"text/x-scoped-javascript\">/*<![CDATA[*/\nreq(\n['observable', 'knockout'],\nfunction (O, ko) {\n  ko.applyBindings({\n      value: O.makeObservable(valueId, initialValue)\n    },\n    this\n  );\n});\n        /*]]>*/</script></p> entries total</span>\n      <span class=\"chart-sampling-warning\"><p data-bind=\"text: value\"><script data-this=\"{&quot;valueId&quot;:&quot;anonbbc19a0ca9e2fe410087903e2f5d9ee7&quot;,&quot;initialValue&quot;:&quot;&quot;}\" type=\"text/x-scoped-javascript\">/*<![CDATA[*/\nreq(\n['observable', 'knockout'],\nfunction (O, ko) {\n  ko.applyBindings({\n      value: O.makeObservable(valueId, initialValue)\n    },\n    this\n  );\n});\n        /*]]>*/</script></p></span>\n      <div>\n      </div>\n    </div></div>\n            </div></div>\n      </div>\n    </div></div>"
          },
          "output_type" : "execute_result",
          "execution_count" : 15,
          "time" : "Took: 0.928s, at 2017-09-04 10:43"
        }
      ]
    },
    {
      "metadata" : {
        "trusted" : true,
        "input_collapsed" : false,
        "collapsed" : true,
        "id" : "95ED7161E4CC48FB89BD6F60B0528C7A"
      },
      "cell_type" : "markdown",
      "source" : "### From RDD to DataFrame and Dataset\n\nWe can convert RDD to Dataset or DataFrame. In fact, in Spark, these 3 APIs (RDD, DataFrame ans Dataset) are the three types officially used. They can convert to each other. \n\nTo understand thoroughly when to use them, you can read at https://databricks.com/blog/2016/07/14/a-tale-of-three-apache-spark-apis-rdds-dataframes-and-datasets.html"
    },
    {
      "metadata" : {
        "id" : "0AB3728226A9467DB5FFE11D54EECEC9"
      },
      "cell_type" : "markdown",
      "source" : "#### From RDD to DataFrame"
    },
    {
      "metadata" : {
        "trusted" : true,
        "input_collapsed" : false,
        "collapsed" : false,
        "id" : "D565BD70228545D38AAA6730541DB835"
      },
      "cell_type" : "code",
      "source" : [
        "val sqlContext = new SQLContext(sc) \n",
        "import sqlContext.implicits._\n",
        "\n",
        "val df = wordCount.toDF(\"word\", \"count\")"
      ],
      "outputs" : [
        {
          "name" : "stdout",
          "output_type" : "stream",
          "text" : "<console>:75: warning: constructor SQLContext in class SQLContext is deprecated: Use SparkSession.builder instead\n       val sqlContext = new SQLContext(sc)\n                        ^\nsqlContext: org.apache.spark.sql.SQLContext = org.apache.spark.sql.SQLContext@194699f1\nimport sqlContext.implicits._\ndf: org.apache.spark.sql.DataFrame = [word: string, count: int]\n"
        },
        {
          "metadata" : { },
          "data" : {
            "text/html" : ""
          },
          "output_type" : "execute_result",
          "execution_count" : 8,
          "time" : "Took: 2.616s, at 2017-09-05 02:44"
        }
      ]
    },
    {
      "metadata" : {
        "trusted" : true,
        "input_collapsed" : false,
        "collapsed" : false,
        "id" : "DDF142AB89714CAA8083D7763D14C05A"
      },
      "cell_type" : "code",
      "source" : [
        "df.show()"
      ],
      "outputs" : [
        {
          "name" : "stdout",
          "output_type" : "stream",
          "text" : "+--------------------+-----+\n|                word|count|\n+--------------------+-----+\n|             reading|    1|\n|                this|    1|\n|               paper|    1|\n|  doublerddfunctions|    1|\n|          collection|    1|\n|          internally|    1|\n|                 its|    1|\n|                  is|    3|\n|       sequencefiles|    1|\n|             persist|    1|\n|                only|    2|\n|                data|    1|\n|         abstraction|    1|\n|           internals|    1|\n|               basic|    2|\n|                 map|    1|\n|sequencefilerddfu...|    1|\n|               class|    1|\n|             methods|    1|\n|          scheduling|    1|\n+--------------------+-----+\nonly showing top 20 rows\n\n"
        },
        {
          "metadata" : { },
          "data" : {
            "text/html" : ""
          },
          "output_type" : "execute_result",
          "execution_count" : 21,
          "time" : "Took: 1.570s, at 2017-08-29 12:50"
        }
      ]
    },
    {
      "metadata" : {
        "id" : "7E32A51004054ABB8873F4DE873E86E3"
      },
      "cell_type" : "markdown",
      "source" : "#### From RDD to Dataset"
    },
    {
      "metadata" : {
        "trusted" : true,
        "input_collapsed" : false,
        "collapsed" : false,
        "id" : "04161E75C8DE414F80DB56E6FC3BAA04"
      },
      "cell_type" : "code",
      "source" : [
        "import org.apache.spark.sql.types.{DoubleType, StringType, StructField, StructType}\n",
        "import org.apache.spark.sql.{Row, SparkSession}"
      ],
      "outputs" : [
        {
          "name" : "stdout",
          "output_type" : "stream",
          "text" : "import org.apache.spark.sql.types.{DoubleType, StringType, StructField, StructType}\nimport org.apache.spark.sql.{Row, SparkSession}\n"
        },
        {
          "metadata" : { },
          "data" : {
            "text/html" : ""
          },
          "output_type" : "execute_result",
          "execution_count" : 22,
          "time" : "Took: 0.706s, at 2017-08-29 12:51"
        }
      ]
    },
    {
      "metadata" : {
        "trusted" : true,
        "input_collapsed" : false,
        "collapsed" : false,
        "id" : "9E44A8AFEB4C4CDD99479C2882A78F8C"
      },
      "cell_type" : "code",
      "source" : [
        "val sparkSession = SparkSession.builder\n",
        "      .master(\"local\")\n",
        "      .appName(\"example\")\n",
        "      .getOrCreate()\n",
        "\n",
        "val sparkContext = sparkSession.sparkContext\n",
        "import sparkSession.implicits._"
      ],
      "outputs" : [
        {
          "name" : "stdout",
          "output_type" : "stream",
          "text" : "sparkSession: org.apache.spark.sql.SparkSession = org.apache.spark.sql.SparkSession@4925c3d7\nsparkContext: org.apache.spark.SparkContext = org.apache.spark.SparkContext@2405fc0d\nimport sparkSession.implicits._\n"
        },
        {
          "metadata" : { },
          "data" : {
            "text/html" : ""
          },
          "output_type" : "execute_result",
          "execution_count" : 23,
          "time" : "Took: 1.327s, at 2017-08-29 12:52"
        }
      ]
    },
    {
      "metadata" : {
        "trusted" : true,
        "input_collapsed" : false,
        "collapsed" : false,
        "id" : "3263428CFDB047E984D0E9F30CA17B50"
      },
      "cell_type" : "code",
      "source" : [
        "val dataset = words_with_nbOccurences.toDS()"
      ],
      "outputs" : [
        {
          "name" : "stdout",
          "output_type" : "stream",
          "text" : "dataset: org.apache.spark.sql.Dataset[(String, Int)] = [_1: string, _2: int]\n"
        },
        {
          "metadata" : { },
          "data" : {
            "text/html" : ""
          },
          "output_type" : "execute_result",
          "execution_count" : 3,
          "time" : "Took: 0.843s, at 2017-08-29 12:54"
        }
      ]
    },
    {
      "metadata" : {
        "trusted" : true,
        "input_collapsed" : false,
        "collapsed" : false,
        "id" : "7B4438CBC26D43A99D7E15A5B444DF5A"
      },
      "cell_type" : "code",
      "source" : [
        "dataset.show()"
      ],
      "outputs" : [
        {
          "name" : "stdout",
          "output_type" : "stream",
          "text" : "+--------------------+---+\n|                  _1| _2|\n+--------------------+---+\n|             reading|  1|\n|                this|  1|\n|               paper|  1|\n|  doublerddfunctions|  1|\n|          collection|  1|\n|          internally|  1|\n|                 its|  1|\n|                  is|  3|\n|       sequencefiles|  1|\n|             persist|  1|\n|                only|  2|\n|                data|  1|\n|         abstraction|  1|\n|           internals|  1|\n|               basic|  2|\n|                 map|  1|\n|sequencefilerddfu...|  1|\n|               class|  1|\n|             methods|  1|\n|          scheduling|  1|\n+--------------------+---+\nonly showing top 20 rows\n\n"
        },
        {
          "metadata" : { },
          "data" : {
            "text/html" : ""
          },
          "output_type" : "execute_result",
          "execution_count" : 4,
          "time" : "Took: 1.031s, at 2017-08-29 12:55"
        }
      ]
    },
    {
      "metadata" : {
        "trusted" : true,
        "input_collapsed" : false,
        "collapsed" : true,
        "id" : "C56176E7A0994D17843ED011185688CA"
      },
      "cell_type" : "code",
      "source" : [
        ""
      ],
      "outputs" : [ ]
    }
  ],
  "nbformat" : 4
}