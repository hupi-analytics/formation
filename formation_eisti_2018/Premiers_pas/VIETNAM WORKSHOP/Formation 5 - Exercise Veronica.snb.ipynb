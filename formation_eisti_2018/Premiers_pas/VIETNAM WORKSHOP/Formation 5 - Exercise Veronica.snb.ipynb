{
  "metadata" : {
    "id" : "f8d9e87c-495d-4ae1-b436-b0fee51bfeee",
    "name" : "Formation 5 - Exercise Veronica",
    "user_save_timestamp" : "1970-01-01T00:00:00.000Z",
    "auto_save_timestamp" : "1970-01-01T00:00:00.000Z",
    "language_info" : {
      "name" : "scala",
      "file_extension" : "scala",
      "codemirror_mode" : "text/x-scala"
    },
    "trusted" : true,
    "sparkNotebook" : null,
    "customLocalRepo" : null,
    "customRepos" : null,
    "customDeps" : null,
    "customImports" : null,
    "customArgs" : null,
    "customSparkConf" : null,
    "customVars" : null
  },
  "cells" : [
    {
      "metadata" : {
        "id" : "2021E860079A4BFA8136A6ED0A21F085"
      },
      "cell_type" : "markdown",
      "source" : "<img src=http://fd.perso.eisti.fr/Logos/TORUS2.png>"
    },
    {
      "metadata" : {
        "id" : "EBF9A2956F6E413680433166A00AB653"
      },
      "cell_type" : "markdown",
      "source" : "\n\n\n# Exercise time!\n\nSo, after all the lessons, it's your turn now to practice how to build a linear regression model in Spark!\n\n### Exercise 1 : \n\nIn HDFS of factory02 : \"hdfs://hupi-factory-02-01-01-01/user/hupi/dataset_torusVN/geoVN.json\", we have a small dataset (40 observations) of some characteristics of climate of some cities in Vietnam (source : https://www.meteoblue.com/en/weather/). \n\nLet's try building a linear regression model that predicts the temperature daily mean thanks to 8 variables below : \n- High cloud cover daily mean\n- Low cloud cover daily mean\n- Mean Sea Level Pressure daily mean\n- Medium cloud cover daily mean\n- Relative humidity daily mean\n- Shortwave Radiation - backwards daily sum\n- Total Precipitation daily sum\n- Total cloud cover daily mean\n\nTo put it simply, we'll just care about these numerical variables; otherwise in this dataset, we can also inspect the relation between temperature daily mean and the city (categorical variable).\n\n### Exercise 2 : \n\nCreate an API that can predict and give the result in the interface of Hupi. (suggestion : convert model to PMML format -> create an API in Hupi - Predict -> create a Widget...)\n\n### Exercise 3 :\n\nWith the dataset geoVN.json, let's create some visualizations in Hupi !"
    },
    {
      "metadata" : {
        "trusted" : true,
        "input_collapsed" : false,
        "collapsed" : true,
        "id" : "30AD90C695DC45788D886C7FE2BC1CA1"
      },
      "cell_type" : "code",
      "source" : [
        ""
      ],
      "outputs" : [ ]
    }
  ],
  "nbformat" : 4
}