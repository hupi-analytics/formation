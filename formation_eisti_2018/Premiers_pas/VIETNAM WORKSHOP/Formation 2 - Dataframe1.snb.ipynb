{
  "metadata" : {
    "id" : "41363fac-3e44-4175-be67-42e789a0d469",
    "name" : "Formation 2 - Dataframe1",
    "user_save_timestamp" : "1970-01-01T00:00:00.000Z",
    "auto_save_timestamp" : "1970-01-01T00:00:00.000Z",
    "language_info" : {
      "name" : "scala",
      "file_extension" : "scala",
      "codemirror_mode" : "text/x-scala"
    },
    "trusted" : true,
    "sparkNotebook" : null,
    "customLocalRepo" : null,
    "customRepos" : null,
    "customDeps" : null,
    "customImports" : null,
    "customArgs" : null,
    "customSparkConf" : null,
    "customVars" : null
  },
  "cells" : [
    {
      "metadata" : {
        "id" : "104BF1691D5F479E9FCACAD3711ACE42"
      },
      "cell_type" : "markdown",
      "source" : "<img src=http://fd.perso.eisti.fr/Logos/TORUS2.png>"
    },
    {
      "metadata" : {
        "id" : "9E3A8017789F4FB7886805BD5AA2655F"
      },
      "cell_type" : "markdown",
      "source" : "Another type of data abstraction which Spark officially provides now to use is DataFrame. \n\n\"a DataFrame is a distributed collection of data organized into named columns. It is conceptually equivalent to a table in a relational database or a data frame in R/Python, but with richer optimizations under the hood. DataFrames can be constructed from a wide array of sources such as: structured data files, tables in Hive, external databases, or existing RDDs.\" (source : https://databricks.com/blog/2015/02/17/introducing-dataframes-in-spark-for-large-scale-data-science.html)\n\nTo understand how DataFrame works, let's take an example from Databricks (https://docs.databricks.com/spark/latest/dataframes-datasets/introduction-to-dataframes-scala.html)"
    },
    {
      "metadata" : {
        "id" : "0DC3A6AECD924F23952254E7D984217C"
      },
      "cell_type" : "markdown",
      "source" : "### Firstly, we create a DataFrame "
    },
    {
      "metadata" : {
        "trusted" : true,
        "input_collapsed" : false,
        "collapsed" : false,
        "id" : "27C95D9BA61B402B9AF81E1C152DEDD2"
      },
      "cell_type" : "code",
      "source" : [
        "// Create the case classes for our domain\n",
        "case class Department(id: String, name: String)\n",
        "case class Employee(firstName: String, lastName: String, email: String, salary: Int)\n",
        "case class DepartmentWithEmployees(department: Department, employees: Seq[Employee])"
      ],
      "outputs" : [
        {
          "name" : "stdout",
          "output_type" : "stream",
          "text" : "defined class Department\ndefined class Employee\ndefined class DepartmentWithEmployees\n"
        },
        {
          "metadata" : { },
          "data" : {
            "text/html" : ""
          },
          "output_type" : "execute_result",
          "execution_count" : 1,
          "time" : "Took: 1.397s, at 2017-08-30 12:28"
        }
      ]
    },
    {
      "metadata" : {
        "trusted" : true,
        "input_collapsed" : false,
        "collapsed" : false,
        "id" : "0D3F8AD16C1D41D68DE82A02B4BD8C6F"
      },
      "cell_type" : "code",
      "source" : [
        "// Create the Departments\n",
        "val department1 = new Department(\"123456\", \"Computer Science\")\n",
        "val department2 = new Department(\"789012\", \"Mechanical Engineering\")\n",
        "val department3 = new Department(\"345678\", \"Theater and Drama\")\n",
        "val department4 = new Department(\"901234\", \"Indoor Recreation\")"
      ],
      "outputs" : [
        {
          "name" : "stdout",
          "output_type" : "stream",
          "text" : "department1: Department = Department(123456,Computer Science)\ndepartment2: Department = Department(789012,Mechanical Engineering)\ndepartment3: Department = Department(345678,Theater and Drama)\ndepartment4: Department = Department(901234,Indoor Recreation)\n"
        },
        {
          "metadata" : { },
          "data" : {
            "text/html" : ""
          },
          "output_type" : "execute_result",
          "execution_count" : 2,
          "time" : "Took: 0.972s, at 2017-08-30 12:28"
        }
      ]
    },
    {
      "metadata" : {
        "trusted" : true,
        "input_collapsed" : false,
        "collapsed" : false,
        "id" : "F55045AD4F6842F18B067AAA4FB1063B"
      },
      "cell_type" : "code",
      "source" : [
        "// Create the Employees\n",
        "val employee1 = new Employee(\"michael\", \"armbrust\", \"michael@berkeley.edu\", 100000)\n",
        "val employee2 = new Employee(\"xiangrui\", \"meng\", \"xiangrui@stanford.edu\", 120000)\n",
        "val employee3 = new Employee(\"matei\", null, \"matei@waterloo.edu\", 140000)\n",
        "val employee4 = new Employee(null, \"wendell\", \"wendell@princeton.edu\", 160000)"
      ],
      "outputs" : [
        {
          "name" : "stdout",
          "output_type" : "stream",
          "text" : "employee1: Employee = Employee(michael,armbrust,michael@berkeley.edu,100000)\nemployee2: Employee = Employee(xiangrui,meng,xiangrui@stanford.edu,120000)\nemployee3: Employee = Employee(matei,null,matei@waterloo.edu,140000)\nemployee4: Employee = Employee(null,wendell,wendell@princeton.edu,160000)\n"
        },
        {
          "metadata" : { },
          "data" : {
            "text/html" : ""
          },
          "output_type" : "execute_result",
          "execution_count" : 3,
          "time" : "Took: 0.829s, at 2017-08-30 12:28"
        }
      ]
    },
    {
      "metadata" : {
        "trusted" : true,
        "input_collapsed" : false,
        "collapsed" : false,
        "id" : "9839BBBBE8A748CB8FF4DE601226EEAE"
      },
      "cell_type" : "code",
      "source" : [
        "// Create the DepartmentWithEmployees instances from Departments and Employees\n",
        "val departmentWithEmployees1 = new DepartmentWithEmployees(department1, Seq(employee1, employee2))\n",
        "val departmentWithEmployees2 = new DepartmentWithEmployees(department2, Seq(employee3, employee4))\n",
        "val departmentWithEmployees3 = new DepartmentWithEmployees(department3, Seq(employee1, employee4))\n",
        "val departmentWithEmployees4 = new DepartmentWithEmployees(department4, Seq(employee2, employee3))"
      ],
      "outputs" : [
        {
          "name" : "stdout",
          "output_type" : "stream",
          "text" : "departmentWithEmployees1: DepartmentWithEmployees = DepartmentWithEmployees(Department(123456,Computer Science),List(Employee(michael,armbrust,michael@berkeley.edu,100000), Employee(xiangrui,meng,xiangrui@stanford.edu,120000)))\ndepartmentWithEmployees2: DepartmentWithEmployees = DepartmentWithEmployees(Department(789012,Mechanical Engineering),List(Employee(matei,null,matei@waterloo.edu,140000), Employee(null,wendell,wendell@princeton.edu,160000)))\ndepartmentWithEmployees3: DepartmentWithEmployees = DepartmentWithEmployees(Department(345678,Theater and Drama),List(Employee(michael,armbrust,michael@berkeley.edu,100000), Employee(null,wendell,wendell@princeton.edu,160000)))\ndepartmentWithEmployees4: DepartmentWithEmployees = DepartmentWithEmployees(Department(901234,Indoor Recreation),Lis..."
        },
        {
          "metadata" : { },
          "data" : {
            "text/html" : ""
          },
          "output_type" : "execute_result",
          "execution_count" : 4,
          "time" : "Took: 0.880s, at 2017-08-30 12:28"
        }
      ]
    },
    {
      "metadata" : {
        "trusted" : true,
        "input_collapsed" : false,
        "collapsed" : false,
        "presentation" : {
          "tabs_state" : "{\n  \"tab_id\": \"#tab915600933-0\"\n}",
          "pivot_chart_state" : "{\n  \"hiddenAttributes\": [],\n  \"menuLimit\": 200,\n  \"cols\": [],\n  \"rows\": [],\n  \"vals\": [],\n  \"exclusions\": {},\n  \"inclusions\": {},\n  \"unusedAttrsVertical\": 85,\n  \"autoSortUnusedAttrs\": false,\n  \"inclusionsInfo\": {},\n  \"aggregatorName\": \"Count\",\n  \"rendererName\": \"Table\"\n}"
        },
        "id" : "6E14D15331854F2D8798444CBF3AD7B4"
      },
      "cell_type" : "code",
      "source" : [
        "val departmentsWithEmployeesSeq1 = Seq(departmentWithEmployees1, departmentWithEmployees2)\n",
        "val dataframe1 = departmentsWithEmployeesSeq1.toDF()"
      ],
      "outputs" : [
        {
          "name" : "stdout",
          "output_type" : "stream",
          "text" : "departmentsWithEmployeesSeq1: Seq[DepartmentWithEmployees] = List(DepartmentWithEmployees(Department(123456,Computer Science),List(Employee(michael,armbrust,michael@berkeley.edu,100000), Employee(xiangrui,meng,xiangrui@stanford.edu,120000))), DepartmentWithEmployees(Department(789012,Mechanical Engineering),List(Employee(matei,null,matei@waterloo.edu,140000), Employee(null,wendell,wendell@princeton.edu,160000))))\ndataframe1: org.apache.spark.sql.DataFrame = [department: struct<id: string, name: string>, employees: array<struct<firstName:string,lastName:string,email:string,salary:int>>]\n"
        },
        {
          "metadata" : { },
          "data" : {
            "text/html" : ""
          },
          "output_type" : "execute_result",
          "execution_count" : 5,
          "time" : "Took: 2.530s, at 2017-08-30 12:28"
        }
      ]
    },
    {
      "metadata" : {
        "id" : "B4FDC439AAF44A17A55AC039CB73FAE2"
      },
      "cell_type" : "markdown",
      "source" : "### To display dataframe1 "
    },
    {
      "metadata" : {
        "trusted" : true,
        "input_collapsed" : false,
        "collapsed" : false,
        "presentation" : {
          "tabs_state" : "{\n  \"tab_id\": \"#tab1054493414-1\"\n}",
          "pivot_chart_state" : "{\n  \"hiddenAttributes\": [],\n  \"menuLimit\": 200,\n  \"cols\": [],\n  \"rows\": [],\n  \"vals\": [],\n  \"exclusions\": {},\n  \"inclusions\": {},\n  \"unusedAttrsVertical\": 85,\n  \"autoSortUnusedAttrs\": false,\n  \"inclusionsInfo\": {},\n  \"aggregatorName\": \"Count\",\n  \"rendererName\": \"Table\"\n}"
        },
        "id" : "6243372EE71741AA88D546802EEF5601"
      },
      "cell_type" : "code",
      "source" : [
        "display(dataframe1)"
      ],
      "outputs" : [
        {
          "name" : "stdout",
          "output_type" : "stream",
          "text" : "res6: notebook.front.Widget = <Tabs widget>\n"
        },
        {
          "metadata" : { },
          "data" : {
            "text/html" : "<div>\n      <script data-this=\"{&quot;dataId&quot;:&quot;anon93055f865113c9c92d53ab43012de13b&quot;,&quot;dataInit&quot;:[],&quot;genId&quot;:&quot;1054493414&quot;}\" type=\"text/x-scoped-javascript\">/*<![CDATA[*/req(['../javascripts/notebook/playground','../javascripts/notebook/magic/tabs'], \n      function(playground, _magictabs) {\n        // data ==> data-this (in observable.js's scopedEval) ==> this in JS => { dataId, dataInit, ... }\n        // this ==> scope (in observable.js's scopedEval) ==> this.parentElement ==> div.container below (toHtml)\n\n        playground.call(data,\n                        this\n                        ,\n                        {\n    \"f\": _magictabs,\n    \"o\": {}\n  }\n  \n                        \n                        \n                      );\n      }\n    );/*]]>*/</script>\n    <div>\n      <div>\n        <ul class=\"nav nav-tabs\" id=\"ul1054493414\"><li>\n              <a href=\"#tab1054493414-0\"><i class=\"fa fa-table\"/></a>\n            </li><li>\n              <a href=\"#tab1054493414-1\"><i class=\"fa fa-pie-chart\"/></a>\n            </li><li>\n              <a href=\"#tab1054493414-2\"><i class=\"fa fa-cubes\"/></a>\n            </li></ul>\n\n        <div class=\"tab-content\" id=\"tab1054493414\"><div class=\"tab-pane\" id=\"tab1054493414-0\">\n            <div>\n      <script data-this=\"{&quot;dataId&quot;:&quot;anonc28ed08a68d0bee1ec07fcdfd09216ee&quot;,&quot;dataInit&quot;:[{&quot;department&quot;:&quot;[123456,Computer Science]&quot;,&quot;employees&quot;:[&quot;[michael,armbrust,michael@berkeley.edu,100000]&quot;,&quot;[xiangrui,meng,xiangrui@stanford.edu,120000]&quot;]},{&quot;department&quot;:&quot;[789012,Mechanical Engineering]&quot;,&quot;employees&quot;:[&quot;[matei,null,matei@waterloo.edu,140000]&quot;,&quot;[null,wendell,wendell@princeton.edu,160000]&quot;]}],&quot;genId&quot;:&quot;1098558336&quot;}\" type=\"text/x-scoped-javascript\">/*<![CDATA[*/req(['../javascripts/notebook/playground','../javascripts/notebook/magic/tableChart'], \n      function(playground, _magictableChart) {\n        // data ==> data-this (in observable.js's scopedEval) ==> this in JS => { dataId, dataInit, ... }\n        // this ==> scope (in observable.js's scopedEval) ==> this.parentElement ==> div.container below (toHtml)\n\n        playground.call(data,\n                        this\n                        ,\n                        {\n    \"f\": _magictableChart,\n    \"o\": {\"headers\":[\"department\",\"employees\"],\"width\":600,\"height\":400}\n  }\n  \n                        \n                        \n                      );\n      }\n    );/*]]>*/</script>\n    <div>\n      <span class=\"chart-total-item-count\"><p data-bind=\"text: value\"><script data-this=\"{&quot;valueId&quot;:&quot;anon2cff005e69c1b519c3a5542bd337ed9b&quot;,&quot;initialValue&quot;:&quot;2&quot;}\" type=\"text/x-scoped-javascript\">/*<![CDATA[*/\nreq(\n['observable', 'knockout'],\nfunction (O, ko) {\n  ko.applyBindings({\n      value: O.makeObservable(valueId, initialValue)\n    },\n    this\n  );\n});\n        /*]]>*/</script></p> entries total</span>\n      <span class=\"chart-sampling-warning\"><p data-bind=\"text: value\"><script data-this=\"{&quot;valueId&quot;:&quot;anon7c587431d9c649cee589615d29dcc68f&quot;,&quot;initialValue&quot;:&quot;&quot;}\" type=\"text/x-scoped-javascript\">/*<![CDATA[*/\nreq(\n['observable', 'knockout'],\nfunction (O, ko) {\n  ko.applyBindings({\n      value: O.makeObservable(valueId, initialValue)\n    },\n    this\n  );\n});\n        /*]]>*/</script></p></span>\n      <div>\n      </div>\n    </div></div>\n            </div><div class=\"tab-pane\" id=\"tab1054493414-1\">\n            <div>\n      <script data-this=\"{&quot;dataId&quot;:&quot;anon6f8698acd40218c883b432b0b27f35b2&quot;,&quot;dataInit&quot;:[{&quot;department&quot;:&quot;[123456,Computer Science]&quot;,&quot;employees&quot;:[&quot;[michael,armbrust,michael@berkeley.edu,100000]&quot;,&quot;[xiangrui,meng,xiangrui@stanford.edu,120000]&quot;]},{&quot;department&quot;:&quot;[789012,Mechanical Engineering]&quot;,&quot;employees&quot;:[&quot;[matei,null,matei@waterloo.edu,140000]&quot;,&quot;[null,wendell,wendell@princeton.edu,160000]&quot;]}],&quot;genId&quot;:&quot;1562628993&quot;}\" type=\"text/x-scoped-javascript\">/*<![CDATA[*/req(['../javascripts/notebook/playground','../javascripts/notebook/magic/pieChart'], \n      function(playground, _magicpieChart) {\n        // data ==> data-this (in observable.js's scopedEval) ==> this in JS => { dataId, dataInit, ... }\n        // this ==> scope (in observable.js's scopedEval) ==> this.parentElement ==> div.container below (toHtml)\n\n        playground.call(data,\n                        this\n                        ,\n                        {\n    \"f\": _magicpieChart,\n    \"o\": {\"series\":\"department\",\"p\":\"employees\",\"width\":600,\"height\":400}\n  }\n  \n                        \n                        \n                      );\n      }\n    );/*]]>*/</script>\n    <div>\n      <span class=\"chart-total-item-count\"><p data-bind=\"text: value\"><script data-this=\"{&quot;valueId&quot;:&quot;anon517ca4223a5a0b0c657e74ff66c05cdb&quot;,&quot;initialValue&quot;:&quot;2&quot;}\" type=\"text/x-scoped-javascript\">/*<![CDATA[*/\nreq(\n['observable', 'knockout'],\nfunction (O, ko) {\n  ko.applyBindings({\n      value: O.makeObservable(valueId, initialValue)\n    },\n    this\n  );\n});\n        /*]]>*/</script></p> entries total</span>\n      <span class=\"chart-sampling-warning\"><p data-bind=\"text: value\"><script data-this=\"{&quot;valueId&quot;:&quot;anon246fc4257b973981f693d6de710a2831&quot;,&quot;initialValue&quot;:&quot;&quot;}\" type=\"text/x-scoped-javascript\">/*<![CDATA[*/\nreq(\n['observable', 'knockout'],\nfunction (O, ko) {\n  ko.applyBindings({\n      value: O.makeObservable(valueId, initialValue)\n    },\n    this\n  );\n});\n        /*]]>*/</script></p></span>\n      <div>\n      </div>\n    </div></div>\n            </div><div class=\"tab-pane\" id=\"tab1054493414-2\">\n            <div>\n      <script data-this=\"{&quot;dataId&quot;:&quot;anon221175c451504b29222c1a22c664389a&quot;,&quot;dataInit&quot;:[{&quot;department&quot;:&quot;[123456,Computer Science]&quot;,&quot;employees&quot;:[&quot;[michael,armbrust,michael@berkeley.edu,100000]&quot;,&quot;[xiangrui,meng,xiangrui@stanford.edu,120000]&quot;]},{&quot;department&quot;:&quot;[789012,Mechanical Engineering]&quot;,&quot;employees&quot;:[&quot;[matei,null,matei@waterloo.edu,140000]&quot;,&quot;[null,wendell,wendell@princeton.edu,160000]&quot;]}],&quot;genId&quot;:&quot;1972974734&quot;}\" type=\"text/x-scoped-javascript\">/*<![CDATA[*/req(['../javascripts/notebook/playground','../javascripts/notebook/magic/pivotChart'], \n      function(playground, _magicpivotChart) {\n        // data ==> data-this (in observable.js's scopedEval) ==> this in JS => { dataId, dataInit, ... }\n        // this ==> scope (in observable.js's scopedEval) ==> this.parentElement ==> div.container below (toHtml)\n\n        playground.call(data,\n                        this\n                        ,\n                        {\n    \"f\": _magicpivotChart,\n    \"o\": {\"width\":600,\"height\":400,\"derivedAttributes\":{},\"extraOptions\":{}}\n  }\n  \n                        \n                        \n                      );\n      }\n    );/*]]>*/</script>\n    <div>\n      <span class=\"chart-total-item-count\"><p data-bind=\"text: value\"><script data-this=\"{&quot;valueId&quot;:&quot;anon8ec7a1e7fab3c9cb208f960accffe63f&quot;,&quot;initialValue&quot;:&quot;2&quot;}\" type=\"text/x-scoped-javascript\">/*<![CDATA[*/\nreq(\n['observable', 'knockout'],\nfunction (O, ko) {\n  ko.applyBindings({\n      value: O.makeObservable(valueId, initialValue)\n    },\n    this\n  );\n});\n        /*]]>*/</script></p> entries total</span>\n      <span class=\"chart-sampling-warning\"><p data-bind=\"text: value\"><script data-this=\"{&quot;valueId&quot;:&quot;anon03c0dae3487cce413d0ac88fdfcd2dd8&quot;,&quot;initialValue&quot;:&quot;&quot;}\" type=\"text/x-scoped-javascript\">/*<![CDATA[*/\nreq(\n['observable', 'knockout'],\nfunction (O, ko) {\n  ko.applyBindings({\n      value: O.makeObservable(valueId, initialValue)\n    },\n    this\n  );\n});\n        /*]]>*/</script></p></span>\n      <div>\n      </div>\n    </div></div>\n            </div></div>\n      </div>\n    </div></div>"
          },
          "output_type" : "execute_result",
          "execution_count" : 6,
          "time" : "Took: 1.529s, at 2017-08-30 12:28"
        }
      ]
    },
    {
      "metadata" : {
        "id" : "1BBF2CA7AE6D41A28F6F7669B3250BE5"
      },
      "cell_type" : "markdown",
      "source" : "### To print the schema of dataframe1 "
    },
    {
      "metadata" : {
        "trusted" : true,
        "input_collapsed" : false,
        "collapsed" : false,
        "id" : "3968D024D0204BCC8ACBA2F23BD0DD89"
      },
      "cell_type" : "code",
      "source" : [
        "dataframe1.printSchema()"
      ],
      "outputs" : [
        {
          "name" : "stdout",
          "output_type" : "stream",
          "text" : "root\n |-- department: struct (nullable = true)\n |    |-- id: string (nullable = true)\n |    |-- name: string (nullable = true)\n |-- employees: array (nullable = true)\n |    |-- element: struct (containsNull = true)\n |    |    |-- firstName: string (nullable = true)\n |    |    |-- lastName: string (nullable = true)\n |    |    |-- email: string (nullable = true)\n |    |    |-- salary: integer (nullable = false)\n\n"
        },
        {
          "metadata" : { },
          "data" : {
            "text/html" : ""
          },
          "output_type" : "execute_result",
          "execution_count" : 7,
          "time" : "Took: 0.965s, at 2017-08-30 12:28"
        }
      ]
    },
    {
      "metadata" : {
        "id" : "A931FF36D45A4620A823C7701EA6204D"
      },
      "cell_type" : "markdown",
      "source" : "### We create another dataframe... "
    },
    {
      "metadata" : {
        "trusted" : true,
        "input_collapsed" : false,
        "collapsed" : false,
        "presentation" : {
          "tabs_state" : "{\n  \"tab_id\": \"#tab82350166-0\"\n}",
          "pivot_chart_state" : "{\n  \"hiddenAttributes\": [],\n  \"menuLimit\": 200,\n  \"cols\": [],\n  \"rows\": [],\n  \"vals\": [],\n  \"exclusions\": {},\n  \"inclusions\": {},\n  \"unusedAttrsVertical\": 85,\n  \"autoSortUnusedAttrs\": false,\n  \"inclusionsInfo\": {},\n  \"aggregatorName\": \"Count\",\n  \"rendererName\": \"Table\"\n}"
        },
        "id" : "F47799E579C144EF86EF9FD4AB5ED884"
      },
      "cell_type" : "code",
      "source" : [
        "val departmentsWithEmployeesSeq2 = Seq(departmentWithEmployees3, departmentWithEmployees4)\n",
        "val dataframe2 = departmentsWithEmployeesSeq2.toDF()\n",
        "display(dataframe2)"
      ],
      "outputs" : [
        {
          "name" : "stdout",
          "output_type" : "stream",
          "text" : "departmentsWithEmployeesSeq2: Seq[DepartmentWithEmployees] = List(DepartmentWithEmployees(Department(345678,Theater and Drama),List(Employee(michael,armbrust,michael@berkeley.edu,100000), Employee(null,wendell,wendell@princeton.edu,160000))), DepartmentWithEmployees(Department(901234,Indoor Recreation),List(Employee(xiangrui,meng,xiangrui@stanford.edu,120000), Employee(matei,null,matei@waterloo.edu,140000))))\ndataframe2: org.apache.spark.sql.DataFrame = [department: struct<id: string, name: string>, employees: array<struct<firstName:string,lastName:string,email:string,salary:int>>]\nres10: notebook.front.Widget = <Tabs widget>\n"
        },
        {
          "metadata" : { },
          "data" : {
            "text/html" : "<div>\n      <script data-this=\"{&quot;dataId&quot;:&quot;anon41fda74478d61064624d676fc7ea1a54&quot;,&quot;dataInit&quot;:[],&quot;genId&quot;:&quot;82350166&quot;}\" type=\"text/x-scoped-javascript\">/*<![CDATA[*/req(['../javascripts/notebook/playground','../javascripts/notebook/magic/tabs'], \n      function(playground, _magictabs) {\n        // data ==> data-this (in observable.js's scopedEval) ==> this in JS => { dataId, dataInit, ... }\n        // this ==> scope (in observable.js's scopedEval) ==> this.parentElement ==> div.container below (toHtml)\n\n        playground.call(data,\n                        this\n                        ,\n                        {\n    \"f\": _magictabs,\n    \"o\": {}\n  }\n  \n                        \n                        \n                      );\n      }\n    );/*]]>*/</script>\n    <div>\n      <div>\n        <ul class=\"nav nav-tabs\" id=\"ul82350166\"><li>\n              <a href=\"#tab82350166-0\"><i class=\"fa fa-table\"/></a>\n            </li><li>\n              <a href=\"#tab82350166-1\"><i class=\"fa fa-pie-chart\"/></a>\n            </li><li>\n              <a href=\"#tab82350166-2\"><i class=\"fa fa-cubes\"/></a>\n            </li></ul>\n\n        <div class=\"tab-content\" id=\"tab82350166\"><div class=\"tab-pane\" id=\"tab82350166-0\">\n            <div>\n      <script data-this=\"{&quot;dataId&quot;:&quot;anond95a139f17eced9b965860ba919101f9&quot;,&quot;dataInit&quot;:[{&quot;department&quot;:&quot;[345678,Theater and Drama]&quot;,&quot;employees&quot;:[&quot;[michael,armbrust,michael@berkeley.edu,100000]&quot;,&quot;[null,wendell,wendell@princeton.edu,160000]&quot;]},{&quot;department&quot;:&quot;[901234,Indoor Recreation]&quot;,&quot;employees&quot;:[&quot;[xiangrui,meng,xiangrui@stanford.edu,120000]&quot;,&quot;[matei,null,matei@waterloo.edu,140000]&quot;]}],&quot;genId&quot;:&quot;1568196491&quot;}\" type=\"text/x-scoped-javascript\">/*<![CDATA[*/req(['../javascripts/notebook/playground','../javascripts/notebook/magic/tableChart'], \n      function(playground, _magictableChart) {\n        // data ==> data-this (in observable.js's scopedEval) ==> this in JS => { dataId, dataInit, ... }\n        // this ==> scope (in observable.js's scopedEval) ==> this.parentElement ==> div.container below (toHtml)\n\n        playground.call(data,\n                        this\n                        ,\n                        {\n    \"f\": _magictableChart,\n    \"o\": {\"headers\":[\"department\",\"employees\"],\"width\":600,\"height\":400}\n  }\n  \n                        \n                        \n                      );\n      }\n    );/*]]>*/</script>\n    <div>\n      <span class=\"chart-total-item-count\"><p data-bind=\"text: value\"><script data-this=\"{&quot;valueId&quot;:&quot;anonf8f7a7c229aea22a6d4035bb4acb1f8f&quot;,&quot;initialValue&quot;:&quot;2&quot;}\" type=\"text/x-scoped-javascript\">/*<![CDATA[*/\nreq(\n['observable', 'knockout'],\nfunction (O, ko) {\n  ko.applyBindings({\n      value: O.makeObservable(valueId, initialValue)\n    },\n    this\n  );\n});\n        /*]]>*/</script></p> entries total</span>\n      <span class=\"chart-sampling-warning\"><p data-bind=\"text: value\"><script data-this=\"{&quot;valueId&quot;:&quot;anon42e81a8f7b12dbdfb0b7f7faa4abff25&quot;,&quot;initialValue&quot;:&quot;&quot;}\" type=\"text/x-scoped-javascript\">/*<![CDATA[*/\nreq(\n['observable', 'knockout'],\nfunction (O, ko) {\n  ko.applyBindings({\n      value: O.makeObservable(valueId, initialValue)\n    },\n    this\n  );\n});\n        /*]]>*/</script></p></span>\n      <div>\n      </div>\n    </div></div>\n            </div><div class=\"tab-pane\" id=\"tab82350166-1\">\n            <div>\n      <script data-this=\"{&quot;dataId&quot;:&quot;anon81563aed3a0baa5f59809d1132bd81a0&quot;,&quot;dataInit&quot;:[{&quot;department&quot;:&quot;[345678,Theater and Drama]&quot;,&quot;employees&quot;:[&quot;[michael,armbrust,michael@berkeley.edu,100000]&quot;,&quot;[null,wendell,wendell@princeton.edu,160000]&quot;]},{&quot;department&quot;:&quot;[901234,Indoor Recreation]&quot;,&quot;employees&quot;:[&quot;[xiangrui,meng,xiangrui@stanford.edu,120000]&quot;,&quot;[matei,null,matei@waterloo.edu,140000]&quot;]}],&quot;genId&quot;:&quot;417375319&quot;}\" type=\"text/x-scoped-javascript\">/*<![CDATA[*/req(['../javascripts/notebook/playground','../javascripts/notebook/magic/pieChart'], \n      function(playground, _magicpieChart) {\n        // data ==> data-this (in observable.js's scopedEval) ==> this in JS => { dataId, dataInit, ... }\n        // this ==> scope (in observable.js's scopedEval) ==> this.parentElement ==> div.container below (toHtml)\n\n        playground.call(data,\n                        this\n                        ,\n                        {\n    \"f\": _magicpieChart,\n    \"o\": {\"series\":\"department\",\"p\":\"employees\",\"width\":600,\"height\":400}\n  }\n  \n                        \n                        \n                      );\n      }\n    );/*]]>*/</script>\n    <div>\n      <span class=\"chart-total-item-count\"><p data-bind=\"text: value\"><script data-this=\"{&quot;valueId&quot;:&quot;anon5626278c2acbbf2ce1206b1d61d803e9&quot;,&quot;initialValue&quot;:&quot;2&quot;}\" type=\"text/x-scoped-javascript\">/*<![CDATA[*/\nreq(\n['observable', 'knockout'],\nfunction (O, ko) {\n  ko.applyBindings({\n      value: O.makeObservable(valueId, initialValue)\n    },\n    this\n  );\n});\n        /*]]>*/</script></p> entries total</span>\n      <span class=\"chart-sampling-warning\"><p data-bind=\"text: value\"><script data-this=\"{&quot;valueId&quot;:&quot;anoncaf0bb26a81af8774ce5462069e69929&quot;,&quot;initialValue&quot;:&quot;&quot;}\" type=\"text/x-scoped-javascript\">/*<![CDATA[*/\nreq(\n['observable', 'knockout'],\nfunction (O, ko) {\n  ko.applyBindings({\n      value: O.makeObservable(valueId, initialValue)\n    },\n    this\n  );\n});\n        /*]]>*/</script></p></span>\n      <div>\n      </div>\n    </div></div>\n            </div><div class=\"tab-pane\" id=\"tab82350166-2\">\n            <div>\n      <script data-this=\"{&quot;dataId&quot;:&quot;anonfb084d32e05e13301946ec03c758af51&quot;,&quot;dataInit&quot;:[{&quot;department&quot;:&quot;[345678,Theater and Drama]&quot;,&quot;employees&quot;:[&quot;[michael,armbrust,michael@berkeley.edu,100000]&quot;,&quot;[null,wendell,wendell@princeton.edu,160000]&quot;]},{&quot;department&quot;:&quot;[901234,Indoor Recreation]&quot;,&quot;employees&quot;:[&quot;[xiangrui,meng,xiangrui@stanford.edu,120000]&quot;,&quot;[matei,null,matei@waterloo.edu,140000]&quot;]}],&quot;genId&quot;:&quot;286657151&quot;}\" type=\"text/x-scoped-javascript\">/*<![CDATA[*/req(['../javascripts/notebook/playground','../javascripts/notebook/magic/pivotChart'], \n      function(playground, _magicpivotChart) {\n        // data ==> data-this (in observable.js's scopedEval) ==> this in JS => { dataId, dataInit, ... }\n        // this ==> scope (in observable.js's scopedEval) ==> this.parentElement ==> div.container below (toHtml)\n\n        playground.call(data,\n                        this\n                        ,\n                        {\n    \"f\": _magicpivotChart,\n    \"o\": {\"width\":600,\"height\":400,\"derivedAttributes\":{},\"extraOptions\":{}}\n  }\n  \n                        \n                        \n                      );\n      }\n    );/*]]>*/</script>\n    <div>\n      <span class=\"chart-total-item-count\"><p data-bind=\"text: value\"><script data-this=\"{&quot;valueId&quot;:&quot;anon5befcfaf6c2ae973905cc9a38d015417&quot;,&quot;initialValue&quot;:&quot;2&quot;}\" type=\"text/x-scoped-javascript\">/*<![CDATA[*/\nreq(\n['observable', 'knockout'],\nfunction (O, ko) {\n  ko.applyBindings({\n      value: O.makeObservable(valueId, initialValue)\n    },\n    this\n  );\n});\n        /*]]>*/</script></p> entries total</span>\n      <span class=\"chart-sampling-warning\"><p data-bind=\"text: value\"><script data-this=\"{&quot;valueId&quot;:&quot;anon9ffb9cc387c5d8d973d6869e349a6f75&quot;,&quot;initialValue&quot;:&quot;&quot;}\" type=\"text/x-scoped-javascript\">/*<![CDATA[*/\nreq(\n['observable', 'knockout'],\nfunction (O, ko) {\n  ko.applyBindings({\n      value: O.makeObservable(valueId, initialValue)\n    },\n    this\n  );\n});\n        /*]]>*/</script></p></span>\n      <div>\n      </div>\n    </div></div>\n            </div></div>\n      </div>\n    </div></div>"
          },
          "output_type" : "execute_result",
          "execution_count" : 8,
          "time" : "Took: 1.338s, at 2017-08-30 12:28"
        }
      ]
    },
    {
      "metadata" : {
        "id" : "0A2E652BDB744A559635BE64D9981839"
      },
      "cell_type" : "markdown",
      "source" : "### We can union 2 dataframes "
    },
    {
      "metadata" : {
        "trusted" : true,
        "input_collapsed" : false,
        "collapsed" : false,
        "presentation" : {
          "tabs_state" : "{\n  \"tab_id\": \"#tab219210162-2\"\n}",
          "pivot_chart_state" : "{\n  \"hiddenAttributes\": [],\n  \"menuLimit\": 200,\n  \"cols\": [],\n  \"rows\": [],\n  \"vals\": [],\n  \"exclusions\": {},\n  \"inclusions\": {},\n  \"unusedAttrsVertical\": 85,\n  \"autoSortUnusedAttrs\": false,\n  \"inclusionsInfo\": {},\n  \"aggregatorName\": \"Count\",\n  \"rendererName\": \"Row Heatmap\"\n}"
        },
        "id" : "270FBA528EC84853B8B624D6F0B1B2A2"
      },
      "cell_type" : "code",
      "source" : [
        "val unionDF = dataframe1.union(dataframe2)\n",
        "display(unionDF)"
      ],
      "outputs" : [
        {
          "name" : "stdout",
          "output_type" : "stream",
          "text" : "unionDF: org.apache.spark.sql.Dataset[org.apache.spark.sql.Row] = [department: struct<id: string, name: string>, employees: array<struct<firstName:string,lastName:string,email:string,salary:int>>]\nres12: notebook.front.Widget = <Tabs widget>\n"
        },
        {
          "metadata" : { },
          "data" : {
            "text/html" : "<div>\n      <script data-this=\"{&quot;dataId&quot;:&quot;anonc7e99c8019a117255ef27a6314b045b2&quot;,&quot;dataInit&quot;:[],&quot;genId&quot;:&quot;219210162&quot;}\" type=\"text/x-scoped-javascript\">/*<![CDATA[*/req(['../javascripts/notebook/playground','../javascripts/notebook/magic/tabs'], \n      function(playground, _magictabs) {\n        // data ==> data-this (in observable.js's scopedEval) ==> this in JS => { dataId, dataInit, ... }\n        // this ==> scope (in observable.js's scopedEval) ==> this.parentElement ==> div.container below (toHtml)\n\n        playground.call(data,\n                        this\n                        ,\n                        {\n    \"f\": _magictabs,\n    \"o\": {}\n  }\n  \n                        \n                        \n                      );\n      }\n    );/*]]>*/</script>\n    <div>\n      <div>\n        <ul class=\"nav nav-tabs\" id=\"ul219210162\"><li>\n              <a href=\"#tab219210162-0\"><i class=\"fa fa-table\"/></a>\n            </li><li>\n              <a href=\"#tab219210162-1\"><i class=\"fa fa-pie-chart\"/></a>\n            </li><li>\n              <a href=\"#tab219210162-2\"><i class=\"fa fa-cubes\"/></a>\n            </li></ul>\n\n        <div class=\"tab-content\" id=\"tab219210162\"><div class=\"tab-pane\" id=\"tab219210162-0\">\n            <div>\n      <script data-this=\"{&quot;dataId&quot;:&quot;anon7a1623f62e0f2b5903157bee1f7d4bb8&quot;,&quot;dataInit&quot;:[{&quot;department&quot;:&quot;[123456,Computer Science]&quot;,&quot;employees&quot;:[&quot;[michael,armbrust,michael@berkeley.edu,100000]&quot;,&quot;[xiangrui,meng,xiangrui@stanford.edu,120000]&quot;]},{&quot;department&quot;:&quot;[789012,Mechanical Engineering]&quot;,&quot;employees&quot;:[&quot;[matei,null,matei@waterloo.edu,140000]&quot;,&quot;[null,wendell,wendell@princeton.edu,160000]&quot;]},{&quot;department&quot;:&quot;[345678,Theater and Drama]&quot;,&quot;employees&quot;:[&quot;[michael,armbrust,michael@berkeley.edu,100000]&quot;,&quot;[null,wendell,wendell@princeton.edu,160000]&quot;]},{&quot;department&quot;:&quot;[901234,Indoor Recreation]&quot;,&quot;employees&quot;:[&quot;[xiangrui,meng,xiangrui@stanford.edu,120000]&quot;,&quot;[matei,null,matei@waterloo.edu,140000]&quot;]}],&quot;genId&quot;:&quot;1310412855&quot;}\" type=\"text/x-scoped-javascript\">/*<![CDATA[*/req(['../javascripts/notebook/playground','../javascripts/notebook/magic/tableChart'], \n      function(playground, _magictableChart) {\n        // data ==> data-this (in observable.js's scopedEval) ==> this in JS => { dataId, dataInit, ... }\n        // this ==> scope (in observable.js's scopedEval) ==> this.parentElement ==> div.container below (toHtml)\n\n        playground.call(data,\n                        this\n                        ,\n                        {\n    \"f\": _magictableChart,\n    \"o\": {\"headers\":[\"department\",\"employees\"],\"width\":600,\"height\":400}\n  }\n  \n                        \n                        \n                      );\n      }\n    );/*]]>*/</script>\n    <div>\n      <span class=\"chart-total-item-count\"><p data-bind=\"text: value\"><script data-this=\"{&quot;valueId&quot;:&quot;anon12b215789c4f1eb91f8cdcf73030aeaf&quot;,&quot;initialValue&quot;:&quot;4&quot;}\" type=\"text/x-scoped-javascript\">/*<![CDATA[*/\nreq(\n['observable', 'knockout'],\nfunction (O, ko) {\n  ko.applyBindings({\n      value: O.makeObservable(valueId, initialValue)\n    },\n    this\n  );\n});\n        /*]]>*/</script></p> entries total</span>\n      <span class=\"chart-sampling-warning\"><p data-bind=\"text: value\"><script data-this=\"{&quot;valueId&quot;:&quot;anon8b1dfff72f7129989238ca8b426e2acd&quot;,&quot;initialValue&quot;:&quot;&quot;}\" type=\"text/x-scoped-javascript\">/*<![CDATA[*/\nreq(\n['observable', 'knockout'],\nfunction (O, ko) {\n  ko.applyBindings({\n      value: O.makeObservable(valueId, initialValue)\n    },\n    this\n  );\n});\n        /*]]>*/</script></p></span>\n      <div>\n      </div>\n    </div></div>\n            </div><div class=\"tab-pane\" id=\"tab219210162-1\">\n            <div>\n      <script data-this=\"{&quot;dataId&quot;:&quot;anon09bcfa93542a745609fed013fdda98ca&quot;,&quot;dataInit&quot;:[{&quot;department&quot;:&quot;[123456,Computer Science]&quot;,&quot;employees&quot;:[&quot;[michael,armbrust,michael@berkeley.edu,100000]&quot;,&quot;[xiangrui,meng,xiangrui@stanford.edu,120000]&quot;]},{&quot;department&quot;:&quot;[789012,Mechanical Engineering]&quot;,&quot;employees&quot;:[&quot;[matei,null,matei@waterloo.edu,140000]&quot;,&quot;[null,wendell,wendell@princeton.edu,160000]&quot;]},{&quot;department&quot;:&quot;[345678,Theater and Drama]&quot;,&quot;employees&quot;:[&quot;[michael,armbrust,michael@berkeley.edu,100000]&quot;,&quot;[null,wendell,wendell@princeton.edu,160000]&quot;]},{&quot;department&quot;:&quot;[901234,Indoor Recreation]&quot;,&quot;employees&quot;:[&quot;[xiangrui,meng,xiangrui@stanford.edu,120000]&quot;,&quot;[matei,null,matei@waterloo.edu,140000]&quot;]}],&quot;genId&quot;:&quot;1446448144&quot;}\" type=\"text/x-scoped-javascript\">/*<![CDATA[*/req(['../javascripts/notebook/playground','../javascripts/notebook/magic/pieChart'], \n      function(playground, _magicpieChart) {\n        // data ==> data-this (in observable.js's scopedEval) ==> this in JS => { dataId, dataInit, ... }\n        // this ==> scope (in observable.js's scopedEval) ==> this.parentElement ==> div.container below (toHtml)\n\n        playground.call(data,\n                        this\n                        ,\n                        {\n    \"f\": _magicpieChart,\n    \"o\": {\"series\":\"department\",\"p\":\"employees\",\"width\":600,\"height\":400}\n  }\n  \n                        \n                        \n                      );\n      }\n    );/*]]>*/</script>\n    <div>\n      <span class=\"chart-total-item-count\"><p data-bind=\"text: value\"><script data-this=\"{&quot;valueId&quot;:&quot;anon7898d8b3bf82aa0ed670b6200cd83042&quot;,&quot;initialValue&quot;:&quot;4&quot;}\" type=\"text/x-scoped-javascript\">/*<![CDATA[*/\nreq(\n['observable', 'knockout'],\nfunction (O, ko) {\n  ko.applyBindings({\n      value: O.makeObservable(valueId, initialValue)\n    },\n    this\n  );\n});\n        /*]]>*/</script></p> entries total</span>\n      <span class=\"chart-sampling-warning\"><p data-bind=\"text: value\"><script data-this=\"{&quot;valueId&quot;:&quot;anon306b82c3fe2bc2407e818849facb3585&quot;,&quot;initialValue&quot;:&quot;&quot;}\" type=\"text/x-scoped-javascript\">/*<![CDATA[*/\nreq(\n['observable', 'knockout'],\nfunction (O, ko) {\n  ko.applyBindings({\n      value: O.makeObservable(valueId, initialValue)\n    },\n    this\n  );\n});\n        /*]]>*/</script></p></span>\n      <div>\n      </div>\n    </div></div>\n            </div><div class=\"tab-pane\" id=\"tab219210162-2\">\n            <div>\n      <script data-this=\"{&quot;dataId&quot;:&quot;anone723da025d4a8c34d5f2520407e2b625&quot;,&quot;dataInit&quot;:[{&quot;department&quot;:&quot;[123456,Computer Science]&quot;,&quot;employees&quot;:[&quot;[michael,armbrust,michael@berkeley.edu,100000]&quot;,&quot;[xiangrui,meng,xiangrui@stanford.edu,120000]&quot;]},{&quot;department&quot;:&quot;[789012,Mechanical Engineering]&quot;,&quot;employees&quot;:[&quot;[matei,null,matei@waterloo.edu,140000]&quot;,&quot;[null,wendell,wendell@princeton.edu,160000]&quot;]},{&quot;department&quot;:&quot;[345678,Theater and Drama]&quot;,&quot;employees&quot;:[&quot;[michael,armbrust,michael@berkeley.edu,100000]&quot;,&quot;[null,wendell,wendell@princeton.edu,160000]&quot;]},{&quot;department&quot;:&quot;[901234,Indoor Recreation]&quot;,&quot;employees&quot;:[&quot;[xiangrui,meng,xiangrui@stanford.edu,120000]&quot;,&quot;[matei,null,matei@waterloo.edu,140000]&quot;]}],&quot;genId&quot;:&quot;362056613&quot;}\" type=\"text/x-scoped-javascript\">/*<![CDATA[*/req(['../javascripts/notebook/playground','../javascripts/notebook/magic/pivotChart'], \n      function(playground, _magicpivotChart) {\n        // data ==> data-this (in observable.js's scopedEval) ==> this in JS => { dataId, dataInit, ... }\n        // this ==> scope (in observable.js's scopedEval) ==> this.parentElement ==> div.container below (toHtml)\n\n        playground.call(data,\n                        this\n                        ,\n                        {\n    \"f\": _magicpivotChart,\n    \"o\": {\"width\":600,\"height\":400,\"derivedAttributes\":{},\"extraOptions\":{}}\n  }\n  \n                        \n                        \n                      );\n      }\n    );/*]]>*/</script>\n    <div>\n      <span class=\"chart-total-item-count\"><p data-bind=\"text: value\"><script data-this=\"{&quot;valueId&quot;:&quot;anon4270938a028beba925d516c04093c701&quot;,&quot;initialValue&quot;:&quot;4&quot;}\" type=\"text/x-scoped-javascript\">/*<![CDATA[*/\nreq(\n['observable', 'knockout'],\nfunction (O, ko) {\n  ko.applyBindings({\n      value: O.makeObservable(valueId, initialValue)\n    },\n    this\n  );\n});\n        /*]]>*/</script></p> entries total</span>\n      <span class=\"chart-sampling-warning\"><p data-bind=\"text: value\"><script data-this=\"{&quot;valueId&quot;:&quot;anoncc7f703422ab193fd67fcae81c3487af&quot;,&quot;initialValue&quot;:&quot;&quot;}\" type=\"text/x-scoped-javascript\">/*<![CDATA[*/\nreq(\n['observable', 'knockout'],\nfunction (O, ko) {\n  ko.applyBindings({\n      value: O.makeObservable(valueId, initialValue)\n    },\n    this\n  );\n});\n        /*]]>*/</script></p></span>\n      <div>\n      </div>\n    </div></div>\n            </div></div>\n      </div>\n    </div></div>"
          },
          "output_type" : "execute_result",
          "execution_count" : 9,
          "time" : "Took: 2.191s, at 2017-08-30 12:28"
        }
      ]
    },
    {
      "metadata" : {
        "id" : "401811E5B88E4A97878207DAEE53FED6"
      },
      "cell_type" : "markdown",
      "source" : "### To flatten the schema... "
    },
    {
      "metadata" : {
        "trusted" : true,
        "input_collapsed" : false,
        "collapsed" : false,
        "presentation" : {
          "tabs_state" : "{\n  \"tab_id\": \"#tab381841222-0\"\n}",
          "pivot_chart_state" : "{\n  \"hiddenAttributes\": [],\n  \"menuLimit\": 200,\n  \"cols\": [],\n  \"rows\": [],\n  \"vals\": [],\n  \"exclusions\": {},\n  \"inclusions\": {},\n  \"unusedAttrsVertical\": 85,\n  \"autoSortUnusedAttrs\": false,\n  \"inclusionsInfo\": {},\n  \"aggregatorName\": \"Count\",\n  \"rendererName\": \"Table\"\n}"
        },
        "id" : "65CD3FF1BF4A48468C909BCC7D5A9C9A"
      },
      "cell_type" : "code",
      "source" : [
        "val explodeDF = unionDF.explode($\"employees\") {\n",
        "  case Row(employee: Seq[Row]) => employee.map{ employee =>\n",
        "    val firstName = employee(0).asInstanceOf[String]\n",
        "    val lastName = employee(1).asInstanceOf[String]\n",
        "    val email = employee(2).asInstanceOf[String]\n",
        "    val salary = employee(3).asInstanceOf[Int]\n",
        "    Employee(firstName, lastName, email, salary)\n",
        "  }\n",
        "}\n",
        "display(explodeDF)"
      ],
      "outputs" : [
        {
          "name" : "stdout",
          "output_type" : "stream",
          "text" : "<console>:97: warning: non-variable type argument org.apache.spark.sql.Row in type pattern Seq[org.apache.spark.sql.Row] (the underlying of Seq[org.apache.spark.sql.Row]) is unchecked since it is eliminated by erasure\n         case Row(employee: Seq[Row]) => employee.map{ employee =>\n                            ^\n<console>:96: warning: method explode in class Dataset is deprecated: use flatMap() or select() with functions.explode() instead\n       val explodeDF = unionDF.explode($\"employees\") {\n                               ^\nexplodeDF: org.apache.spark.sql.DataFrame = [department: struct<id: string, name: string>, employees: array<struct<firstName:string,lastName:string,email:string,salary:int>> ... 4 more fields]\nres14: notebook.front.Widget = <Tabs widget>\n"
        },
        {
          "metadata" : { },
          "data" : {
            "text/html" : "<div>\n      <script data-this=\"{&quot;dataId&quot;:&quot;anon9e455a5944f8c9b1af3157012dc5053c&quot;,&quot;dataInit&quot;:[],&quot;genId&quot;:&quot;381841222&quot;}\" type=\"text/x-scoped-javascript\">/*<![CDATA[*/req(['../javascripts/notebook/playground','../javascripts/notebook/magic/tabs'], \n      function(playground, _magictabs) {\n        // data ==> data-this (in observable.js's scopedEval) ==> this in JS => { dataId, dataInit, ... }\n        // this ==> scope (in observable.js's scopedEval) ==> this.parentElement ==> div.container below (toHtml)\n\n        playground.call(data,\n                        this\n                        ,\n                        {\n    \"f\": _magictabs,\n    \"o\": {}\n  }\n  \n                        \n                        \n                      );\n      }\n    );/*]]>*/</script>\n    <div>\n      <div>\n        <ul class=\"nav nav-tabs\" id=\"ul381841222\"><li>\n              <a href=\"#tab381841222-0\"><i class=\"fa fa-table\"/></a>\n            </li><li>\n              <a href=\"#tab381841222-1\"><i class=\"fa fa-cubes\"/></a>\n            </li></ul>\n\n        <div class=\"tab-content\" id=\"tab381841222\"><div class=\"tab-pane\" id=\"tab381841222-0\">\n            <div>\n      <script data-this=\"{&quot;dataId&quot;:&quot;anonddca074c040bbe0b58ca7a85dedcdf18&quot;,&quot;dataInit&quot;:[{&quot;email&quot;:&quot;michael@berkeley.edu&quot;,&quot;employees&quot;:[&quot;[michael,armbrust,michael@berkeley.edu,100000]&quot;,&quot;[xiangrui,meng,xiangrui@stanford.edu,120000]&quot;],&quot;department&quot;:&quot;[123456,Computer Science]&quot;,&quot;salary&quot;:100000,&quot;lastName&quot;:&quot;armbrust&quot;,&quot;firstName&quot;:&quot;michael&quot;},{&quot;email&quot;:&quot;xiangrui@stanford.edu&quot;,&quot;employees&quot;:[&quot;[michael,armbrust,michael@berkeley.edu,100000]&quot;,&quot;[xiangrui,meng,xiangrui@stanford.edu,120000]&quot;],&quot;department&quot;:&quot;[123456,Computer Science]&quot;,&quot;salary&quot;:120000,&quot;lastName&quot;:&quot;meng&quot;,&quot;firstName&quot;:&quot;xiangrui&quot;},{&quot;email&quot;:&quot;matei@waterloo.edu&quot;,&quot;employees&quot;:[&quot;[matei,null,matei@waterloo.edu,140000]&quot;,&quot;[null,wendell,wendell@princeton.edu,160000]&quot;],&quot;department&quot;:&quot;[789012,Mechanical Engineering]&quot;,&quot;salary&quot;:140000,&quot;lastName&quot;:null,&quot;firstName&quot;:&quot;matei&quot;},{&quot;email&quot;:&quot;wendell@princeton.edu&quot;,&quot;employees&quot;:[&quot;[matei,null,matei@waterloo.edu,140000]&quot;,&quot;[null,wendell,wendell@princeton.edu,160000]&quot;],&quot;department&quot;:&quot;[789012,Mechanical Engineering]&quot;,&quot;salary&quot;:160000,&quot;lastName&quot;:&quot;wendell&quot;,&quot;firstName&quot;:null},{&quot;email&quot;:&quot;michael@berkeley.edu&quot;,&quot;employees&quot;:[&quot;[michael,armbrust,michael@berkeley.edu,100000]&quot;,&quot;[null,wendell,wendell@princeton.edu,160000]&quot;],&quot;department&quot;:&quot;[345678,Theater and Drama]&quot;,&quot;salary&quot;:100000,&quot;lastName&quot;:&quot;armbrust&quot;,&quot;firstName&quot;:&quot;michael&quot;},{&quot;email&quot;:&quot;wendell@princeton.edu&quot;,&quot;employees&quot;:[&quot;[michael,armbrust,michael@berkeley.edu,100000]&quot;,&quot;[null,wendell,wendell@princeton.edu,160000]&quot;],&quot;department&quot;:&quot;[345678,Theater and Drama]&quot;,&quot;salary&quot;:160000,&quot;lastName&quot;:&quot;wendell&quot;,&quot;firstName&quot;:null},{&quot;email&quot;:&quot;xiangrui@stanford.edu&quot;,&quot;employees&quot;:[&quot;[xiangrui,meng,xiangrui@stanford.edu,120000]&quot;,&quot;[matei,null,matei@waterloo.edu,140000]&quot;],&quot;department&quot;:&quot;[901234,Indoor Recreation]&quot;,&quot;salary&quot;:120000,&quot;lastName&quot;:&quot;meng&quot;,&quot;firstName&quot;:&quot;xiangrui&quot;},{&quot;email&quot;:&quot;matei@waterloo.edu&quot;,&quot;employees&quot;:[&quot;[xiangrui,meng,xiangrui@stanford.edu,120000]&quot;,&quot;[matei,null,matei@waterloo.edu,140000]&quot;],&quot;department&quot;:&quot;[901234,Indoor Recreation]&quot;,&quot;salary&quot;:140000,&quot;lastName&quot;:null,&quot;firstName&quot;:&quot;matei&quot;}],&quot;genId&quot;:&quot;753649251&quot;}\" type=\"text/x-scoped-javascript\">/*<![CDATA[*/req(['../javascripts/notebook/playground','../javascripts/notebook/magic/tableChart'], \n      function(playground, _magictableChart) {\n        // data ==> data-this (in observable.js's scopedEval) ==> this in JS => { dataId, dataInit, ... }\n        // this ==> scope (in observable.js's scopedEval) ==> this.parentElement ==> div.container below (toHtml)\n\n        playground.call(data,\n                        this\n                        ,\n                        {\n    \"f\": _magictableChart,\n    \"o\": {\"headers\":[\"department\",\"employees\",\"firstName\",\"lastName\",\"email\",\"salary\"],\"width\":600,\"height\":400}\n  }\n  \n                        \n                        \n                      );\n      }\n    );/*]]>*/</script>\n    <div>\n      <span class=\"chart-total-item-count\"><p data-bind=\"text: value\"><script data-this=\"{&quot;valueId&quot;:&quot;anon4bf26b51b523675f4a6ca547a5b00e38&quot;,&quot;initialValue&quot;:&quot;8&quot;}\" type=\"text/x-scoped-javascript\">/*<![CDATA[*/\nreq(\n['observable', 'knockout'],\nfunction (O, ko) {\n  ko.applyBindings({\n      value: O.makeObservable(valueId, initialValue)\n    },\n    this\n  );\n});\n        /*]]>*/</script></p> entries total</span>\n      <span class=\"chart-sampling-warning\"><p data-bind=\"text: value\"><script data-this=\"{&quot;valueId&quot;:&quot;anona1b023ed3147f6c9275a56e18e2d7679&quot;,&quot;initialValue&quot;:&quot;&quot;}\" type=\"text/x-scoped-javascript\">/*<![CDATA[*/\nreq(\n['observable', 'knockout'],\nfunction (O, ko) {\n  ko.applyBindings({\n      value: O.makeObservable(valueId, initialValue)\n    },\n    this\n  );\n});\n        /*]]>*/</script></p></span>\n      <div>\n      </div>\n    </div></div>\n            </div><div class=\"tab-pane\" id=\"tab381841222-1\">\n            <div>\n      <script data-this=\"{&quot;dataId&quot;:&quot;anon406ff79589c13354204836e7f2258680&quot;,&quot;dataInit&quot;:[{&quot;email&quot;:&quot;michael@berkeley.edu&quot;,&quot;employees&quot;:[&quot;[michael,armbrust,michael@berkeley.edu,100000]&quot;,&quot;[xiangrui,meng,xiangrui@stanford.edu,120000]&quot;],&quot;department&quot;:&quot;[123456,Computer Science]&quot;,&quot;salary&quot;:100000,&quot;lastName&quot;:&quot;armbrust&quot;,&quot;firstName&quot;:&quot;michael&quot;},{&quot;email&quot;:&quot;xiangrui@stanford.edu&quot;,&quot;employees&quot;:[&quot;[michael,armbrust,michael@berkeley.edu,100000]&quot;,&quot;[xiangrui,meng,xiangrui@stanford.edu,120000]&quot;],&quot;department&quot;:&quot;[123456,Computer Science]&quot;,&quot;salary&quot;:120000,&quot;lastName&quot;:&quot;meng&quot;,&quot;firstName&quot;:&quot;xiangrui&quot;},{&quot;email&quot;:&quot;matei@waterloo.edu&quot;,&quot;employees&quot;:[&quot;[matei,null,matei@waterloo.edu,140000]&quot;,&quot;[null,wendell,wendell@princeton.edu,160000]&quot;],&quot;department&quot;:&quot;[789012,Mechanical Engineering]&quot;,&quot;salary&quot;:140000,&quot;lastName&quot;:null,&quot;firstName&quot;:&quot;matei&quot;},{&quot;email&quot;:&quot;wendell@princeton.edu&quot;,&quot;employees&quot;:[&quot;[matei,null,matei@waterloo.edu,140000]&quot;,&quot;[null,wendell,wendell@princeton.edu,160000]&quot;],&quot;department&quot;:&quot;[789012,Mechanical Engineering]&quot;,&quot;salary&quot;:160000,&quot;lastName&quot;:&quot;wendell&quot;,&quot;firstName&quot;:null},{&quot;email&quot;:&quot;michael@berkeley.edu&quot;,&quot;employees&quot;:[&quot;[michael,armbrust,michael@berkeley.edu,100000]&quot;,&quot;[null,wendell,wendell@princeton.edu,160000]&quot;],&quot;department&quot;:&quot;[345678,Theater and Drama]&quot;,&quot;salary&quot;:100000,&quot;lastName&quot;:&quot;armbrust&quot;,&quot;firstName&quot;:&quot;michael&quot;},{&quot;email&quot;:&quot;wendell@princeton.edu&quot;,&quot;employees&quot;:[&quot;[michael,armbrust,michael@berkeley.edu,100000]&quot;,&quot;[null,wendell,wendell@princeton.edu,160000]&quot;],&quot;department&quot;:&quot;[345678,Theater and Drama]&quot;,&quot;salary&quot;:160000,&quot;lastName&quot;:&quot;wendell&quot;,&quot;firstName&quot;:null},{&quot;email&quot;:&quot;xiangrui@stanford.edu&quot;,&quot;employees&quot;:[&quot;[xiangrui,meng,xiangrui@stanford.edu,120000]&quot;,&quot;[matei,null,matei@waterloo.edu,140000]&quot;],&quot;department&quot;:&quot;[901234,Indoor Recreation]&quot;,&quot;salary&quot;:120000,&quot;lastName&quot;:&quot;meng&quot;,&quot;firstName&quot;:&quot;xiangrui&quot;},{&quot;email&quot;:&quot;matei@waterloo.edu&quot;,&quot;employees&quot;:[&quot;[xiangrui,meng,xiangrui@stanford.edu,120000]&quot;,&quot;[matei,null,matei@waterloo.edu,140000]&quot;],&quot;department&quot;:&quot;[901234,Indoor Recreation]&quot;,&quot;salary&quot;:140000,&quot;lastName&quot;:null,&quot;firstName&quot;:&quot;matei&quot;}],&quot;genId&quot;:&quot;403623496&quot;}\" type=\"text/x-scoped-javascript\">/*<![CDATA[*/req(['../javascripts/notebook/playground','../javascripts/notebook/magic/pivotChart'], \n      function(playground, _magicpivotChart) {\n        // data ==> data-this (in observable.js's scopedEval) ==> this in JS => { dataId, dataInit, ... }\n        // this ==> scope (in observable.js's scopedEval) ==> this.parentElement ==> div.container below (toHtml)\n\n        playground.call(data,\n                        this\n                        ,\n                        {\n    \"f\": _magicpivotChart,\n    \"o\": {\"width\":600,\"height\":400,\"derivedAttributes\":{},\"extraOptions\":{}}\n  }\n  \n                        \n                        \n                      );\n      }\n    );/*]]>*/</script>\n    <div>\n      <span class=\"chart-total-item-count\"><p data-bind=\"text: value\"><script data-this=\"{&quot;valueId&quot;:&quot;anon0693bbfdeab65c09ccc0b5e9cdb19300&quot;,&quot;initialValue&quot;:&quot;8&quot;}\" type=\"text/x-scoped-javascript\">/*<![CDATA[*/\nreq(\n['observable', 'knockout'],\nfunction (O, ko) {\n  ko.applyBindings({\n      value: O.makeObservable(valueId, initialValue)\n    },\n    this\n  );\n});\n        /*]]>*/</script></p> entries total</span>\n      <span class=\"chart-sampling-warning\"><p data-bind=\"text: value\"><script data-this=\"{&quot;valueId&quot;:&quot;anon769a6c44a139df2936052d4b0a723346&quot;,&quot;initialValue&quot;:&quot;&quot;}\" type=\"text/x-scoped-javascript\">/*<![CDATA[*/\nreq(\n['observable', 'knockout'],\nfunction (O, ko) {\n  ko.applyBindings({\n      value: O.makeObservable(valueId, initialValue)\n    },\n    this\n  );\n});\n        /*]]>*/</script></p></span>\n      <div>\n      </div>\n    </div></div>\n            </div></div>\n      </div>\n    </div></div>"
          },
          "output_type" : "execute_result",
          "execution_count" : 10,
          "time" : "Took: 1.450s, at 2017-08-30 12:28"
        }
      ]
    },
    {
      "metadata" : {
        "id" : "01572A2BF2E94D8DAFFAC269901E1C13"
      },
      "cell_type" : "markdown",
      "source" : "### We can also select the first columns "
    },
    {
      "metadata" : {
        "trusted" : true,
        "input_collapsed" : false,
        "collapsed" : false,
        "id" : "14BBA60537CA467F86B89DE06C48A592"
      },
      "cell_type" : "code",
      "source" : [
        "explodeDF.select(\"email\")"
      ],
      "outputs" : [
        {
          "name" : "stdout",
          "output_type" : "stream",
          "text" : "res16: org.apache.spark.sql.DataFrame = [email: string]\n"
        },
        {
          "metadata" : { },
          "data" : {
            "text/html" : "<div class=\"df-canvas\">\n      <script data-this=\"{&quot;dataId&quot;:&quot;anonead4eeb07fc7138bd0da7c528e158122&quot;,&quot;partitionIndexId&quot;:&quot;anon6574933cdd42a04289971d5925d667d8&quot;,&quot;numPartitions&quot;:1,&quot;dfSchema&quot;:{&quot;type&quot;:&quot;struct&quot;,&quot;fields&quot;:[{&quot;name&quot;:&quot;email&quot;,&quot;type&quot;:&quot;string&quot;,&quot;nullable&quot;:true,&quot;metadata&quot;:{}}]}}\" type=\"text/x-scoped-javascript\">/*<![CDATA[*/req(['../javascripts/notebook/dataframe','../javascripts/notebook/consoleDir'], \n      function(dataframe, extension) {\n        dataframe.call(data, this, extension);\n      }\n    );/*]]>*/</script>\n      <link rel=\"stylesheet\" href=\"/assets/stylesheets/ipython/css/dataframe.css\" type=\"text/css\"/>\n    </div>"
          },
          "output_type" : "execute_result",
          "execution_count" : 11,
          "time" : "Took: 1.280s, at 2017-08-30 12:28"
        }
      ]
    },
    {
      "metadata" : {
        "id" : "CAA4C7BDA3A14B9F876FDE4E0E16A5FF"
      },
      "cell_type" : "markdown",
      "source" : "### or filter and sort... "
    },
    {
      "metadata" : {
        "trusted" : true,
        "input_collapsed" : false,
        "collapsed" : false,
        "presentation" : {
          "tabs_state" : "{\n  \"tab_id\": \"#tab1861786431-0\"\n}",
          "pivot_chart_state" : "{\n  \"hiddenAttributes\": [],\n  \"menuLimit\": 200,\n  \"cols\": [],\n  \"rows\": [],\n  \"vals\": [],\n  \"exclusions\": {},\n  \"inclusions\": {},\n  \"unusedAttrsVertical\": 85,\n  \"autoSortUnusedAttrs\": false,\n  \"inclusionsInfo\": {},\n  \"aggregatorName\": \"Count\",\n  \"rendererName\": \"Table\"\n}"
        },
        "id" : "78A6CA7CE4624E8AB01A3C7FFDBF84B6"
      },
      "cell_type" : "code",
      "source" : [
        "val filterDF = explodeDF\n",
        "  .filter($\"firstName\" === \"xiangrui\" || $\"firstName\" === \"michael\")\n",
        "  .sort($\"lastName\".asc)\n",
        "display(filterDF)"
      ],
      "outputs" : [
        {
          "name" : "stdout",
          "output_type" : "stream",
          "text" : "filterDF: org.apache.spark.sql.Dataset[org.apache.spark.sql.Row] = [department: struct<id: string, name: string>, employees: array<struct<firstName:string,lastName:string,email:string,salary:int>> ... 4 more fields]\nres18: notebook.front.Widget = <Tabs widget>\n"
        },
        {
          "metadata" : { },
          "data" : {
            "text/html" : "<div>\n      <script data-this=\"{&quot;dataId&quot;:&quot;anon25091ed8821f090ba7b53b06be88073e&quot;,&quot;dataInit&quot;:[],&quot;genId&quot;:&quot;1861786431&quot;}\" type=\"text/x-scoped-javascript\">/*<![CDATA[*/req(['../javascripts/notebook/playground','../javascripts/notebook/magic/tabs'], \n      function(playground, _magictabs) {\n        // data ==> data-this (in observable.js's scopedEval) ==> this in JS => { dataId, dataInit, ... }\n        // this ==> scope (in observable.js's scopedEval) ==> this.parentElement ==> div.container below (toHtml)\n\n        playground.call(data,\n                        this\n                        ,\n                        {\n    \"f\": _magictabs,\n    \"o\": {}\n  }\n  \n                        \n                        \n                      );\n      }\n    );/*]]>*/</script>\n    <div>\n      <div>\n        <ul class=\"nav nav-tabs\" id=\"ul1861786431\"><li>\n              <a href=\"#tab1861786431-0\"><i class=\"fa fa-table\"/></a>\n            </li><li>\n              <a href=\"#tab1861786431-1\"><i class=\"fa fa-cubes\"/></a>\n            </li></ul>\n\n        <div class=\"tab-content\" id=\"tab1861786431\"><div class=\"tab-pane\" id=\"tab1861786431-0\">\n            <div>\n      <script data-this=\"{&quot;dataId&quot;:&quot;anon70369e491029ea52a054a5cb5bf6152e&quot;,&quot;dataInit&quot;:[{&quot;email&quot;:&quot;michael@berkeley.edu&quot;,&quot;employees&quot;:[&quot;[michael,armbrust,michael@berkeley.edu,100000]&quot;,&quot;[xiangrui,meng,xiangrui@stanford.edu,120000]&quot;],&quot;department&quot;:&quot;[123456,Computer Science]&quot;,&quot;salary&quot;:100000,&quot;lastName&quot;:&quot;armbrust&quot;,&quot;firstName&quot;:&quot;michael&quot;},{&quot;email&quot;:&quot;michael@berkeley.edu&quot;,&quot;employees&quot;:[&quot;[michael,armbrust,michael@berkeley.edu,100000]&quot;,&quot;[null,wendell,wendell@princeton.edu,160000]&quot;],&quot;department&quot;:&quot;[345678,Theater and Drama]&quot;,&quot;salary&quot;:100000,&quot;lastName&quot;:&quot;armbrust&quot;,&quot;firstName&quot;:&quot;michael&quot;},{&quot;email&quot;:&quot;xiangrui@stanford.edu&quot;,&quot;employees&quot;:[&quot;[michael,armbrust,michael@berkeley.edu,100000]&quot;,&quot;[xiangrui,meng,xiangrui@stanford.edu,120000]&quot;],&quot;department&quot;:&quot;[123456,Computer Science]&quot;,&quot;salary&quot;:120000,&quot;lastName&quot;:&quot;meng&quot;,&quot;firstName&quot;:&quot;xiangrui&quot;},{&quot;email&quot;:&quot;xiangrui@stanford.edu&quot;,&quot;employees&quot;:[&quot;[xiangrui,meng,xiangrui@stanford.edu,120000]&quot;,&quot;[matei,null,matei@waterloo.edu,140000]&quot;],&quot;department&quot;:&quot;[901234,Indoor Recreation]&quot;,&quot;salary&quot;:120000,&quot;lastName&quot;:&quot;meng&quot;,&quot;firstName&quot;:&quot;xiangrui&quot;}],&quot;genId&quot;:&quot;1424771552&quot;}\" type=\"text/x-scoped-javascript\">/*<![CDATA[*/req(['../javascripts/notebook/playground','../javascripts/notebook/magic/tableChart'], \n      function(playground, _magictableChart) {\n        // data ==> data-this (in observable.js's scopedEval) ==> this in JS => { dataId, dataInit, ... }\n        // this ==> scope (in observable.js's scopedEval) ==> this.parentElement ==> div.container below (toHtml)\n\n        playground.call(data,\n                        this\n                        ,\n                        {\n    \"f\": _magictableChart,\n    \"o\": {\"headers\":[\"department\",\"employees\",\"firstName\",\"lastName\",\"email\",\"salary\"],\"width\":600,\"height\":400}\n  }\n  \n                        \n                        \n                      );\n      }\n    );/*]]>*/</script>\n    <div>\n      <span class=\"chart-total-item-count\"><p data-bind=\"text: value\"><script data-this=\"{&quot;valueId&quot;:&quot;anonc19bab8dbf1872be91b94a4ba62109d8&quot;,&quot;initialValue&quot;:&quot;4&quot;}\" type=\"text/x-scoped-javascript\">/*<![CDATA[*/\nreq(\n['observable', 'knockout'],\nfunction (O, ko) {\n  ko.applyBindings({\n      value: O.makeObservable(valueId, initialValue)\n    },\n    this\n  );\n});\n        /*]]>*/</script></p> entries total</span>\n      <span class=\"chart-sampling-warning\"><p data-bind=\"text: value\"><script data-this=\"{&quot;valueId&quot;:&quot;anon9df8c0d90e6b2eff5b8040162a695be7&quot;,&quot;initialValue&quot;:&quot;&quot;}\" type=\"text/x-scoped-javascript\">/*<![CDATA[*/\nreq(\n['observable', 'knockout'],\nfunction (O, ko) {\n  ko.applyBindings({\n      value: O.makeObservable(valueId, initialValue)\n    },\n    this\n  );\n});\n        /*]]>*/</script></p></span>\n      <div>\n      </div>\n    </div></div>\n            </div><div class=\"tab-pane\" id=\"tab1861786431-1\">\n            <div>\n      <script data-this=\"{&quot;dataId&quot;:&quot;anon45b5fb7c635f215804e4f0ebe4d16a66&quot;,&quot;dataInit&quot;:[{&quot;email&quot;:&quot;michael@berkeley.edu&quot;,&quot;employees&quot;:[&quot;[michael,armbrust,michael@berkeley.edu,100000]&quot;,&quot;[xiangrui,meng,xiangrui@stanford.edu,120000]&quot;],&quot;department&quot;:&quot;[123456,Computer Science]&quot;,&quot;salary&quot;:100000,&quot;lastName&quot;:&quot;armbrust&quot;,&quot;firstName&quot;:&quot;michael&quot;},{&quot;email&quot;:&quot;michael@berkeley.edu&quot;,&quot;employees&quot;:[&quot;[michael,armbrust,michael@berkeley.edu,100000]&quot;,&quot;[null,wendell,wendell@princeton.edu,160000]&quot;],&quot;department&quot;:&quot;[345678,Theater and Drama]&quot;,&quot;salary&quot;:100000,&quot;lastName&quot;:&quot;armbrust&quot;,&quot;firstName&quot;:&quot;michael&quot;},{&quot;email&quot;:&quot;xiangrui@stanford.edu&quot;,&quot;employees&quot;:[&quot;[michael,armbrust,michael@berkeley.edu,100000]&quot;,&quot;[xiangrui,meng,xiangrui@stanford.edu,120000]&quot;],&quot;department&quot;:&quot;[123456,Computer Science]&quot;,&quot;salary&quot;:120000,&quot;lastName&quot;:&quot;meng&quot;,&quot;firstName&quot;:&quot;xiangrui&quot;},{&quot;email&quot;:&quot;xiangrui@stanford.edu&quot;,&quot;employees&quot;:[&quot;[xiangrui,meng,xiangrui@stanford.edu,120000]&quot;,&quot;[matei,null,matei@waterloo.edu,140000]&quot;],&quot;department&quot;:&quot;[901234,Indoor Recreation]&quot;,&quot;salary&quot;:120000,&quot;lastName&quot;:&quot;meng&quot;,&quot;firstName&quot;:&quot;xiangrui&quot;}],&quot;genId&quot;:&quot;1137415073&quot;}\" type=\"text/x-scoped-javascript\">/*<![CDATA[*/req(['../javascripts/notebook/playground','../javascripts/notebook/magic/pivotChart'], \n      function(playground, _magicpivotChart) {\n        // data ==> data-this (in observable.js's scopedEval) ==> this in JS => { dataId, dataInit, ... }\n        // this ==> scope (in observable.js's scopedEval) ==> this.parentElement ==> div.container below (toHtml)\n\n        playground.call(data,\n                        this\n                        ,\n                        {\n    \"f\": _magicpivotChart,\n    \"o\": {\"width\":600,\"height\":400,\"derivedAttributes\":{},\"extraOptions\":{}}\n  }\n  \n                        \n                        \n                      );\n      }\n    );/*]]>*/</script>\n    <div>\n      <span class=\"chart-total-item-count\"><p data-bind=\"text: value\"><script data-this=\"{&quot;valueId&quot;:&quot;anonb5b9dd53026d3f1a6ece4becc0d43f29&quot;,&quot;initialValue&quot;:&quot;4&quot;}\" type=\"text/x-scoped-javascript\">/*<![CDATA[*/\nreq(\n['observable', 'knockout'],\nfunction (O, ko) {\n  ko.applyBindings({\n      value: O.makeObservable(valueId, initialValue)\n    },\n    this\n  );\n});\n        /*]]>*/</script></p> entries total</span>\n      <span class=\"chart-sampling-warning\"><p data-bind=\"text: value\"><script data-this=\"{&quot;valueId&quot;:&quot;anoncf1e879203ed7ea9b6e7d6c1fac658a1&quot;,&quot;initialValue&quot;:&quot;&quot;}\" type=\"text/x-scoped-javascript\">/*<![CDATA[*/\nreq(\n['observable', 'knockout'],\nfunction (O, ko) {\n  ko.applyBindings({\n      value: O.makeObservable(valueId, initialValue)\n    },\n    this\n  );\n});\n        /*]]>*/</script></p></span>\n      <div>\n      </div>\n    </div></div>\n            </div></div>\n      </div>\n    </div></div>"
          },
          "output_type" : "execute_result",
          "execution_count" : 12,
          "time" : "Took: 1.236s, at 2017-08-30 12:28"
        }
      ]
    },
    {
      "metadata" : {
        "id" : "09F3BE635DED401CB9407EC05AF158C9"
      },
      "cell_type" : "markdown",
      "source" : "### We can apply \"where\" directly inside Dataframe"
    },
    {
      "metadata" : {
        "trusted" : true,
        "input_collapsed" : false,
        "collapsed" : false,
        "presentation" : {
          "tabs_state" : "{\n  \"tab_id\": \"#tab1466016325-0\"\n}",
          "pivot_chart_state" : "{\n  \"hiddenAttributes\": [],\n  \"menuLimit\": 200,\n  \"cols\": [],\n  \"rows\": [],\n  \"vals\": [],\n  \"exclusions\": {},\n  \"inclusions\": {},\n  \"unusedAttrsVertical\": 85,\n  \"autoSortUnusedAttrs\": false,\n  \"inclusionsInfo\": {},\n  \"aggregatorName\": \"Count\",\n  \"rendererName\": \"Table\"\n}"
        },
        "id" : "FA0AA0EDFDB144F8A364E73A29C66F13"
      },
      "cell_type" : "code",
      "source" : [
        "val whereDF = explodeDF.where(($\"firstName\" === \"xiangrui\") || ($\"firstName\" === \"michael\")).sort($\"lastName\".asc)\n",
        "display(whereDF)"
      ],
      "outputs" : [
        {
          "name" : "stdout",
          "output_type" : "stream",
          "text" : "whereDF: org.apache.spark.sql.Dataset[org.apache.spark.sql.Row] = [department: struct<id: string, name: string>, employees: array<struct<firstName:string,lastName:string,email:string,salary:int>> ... 4 more fields]\nres20: notebook.front.Widget = <Tabs widget>\n"
        },
        {
          "metadata" : { },
          "data" : {
            "text/html" : "<div>\n      <script data-this=\"{&quot;dataId&quot;:&quot;anonce5365781c861555a721270b91f1b5e2&quot;,&quot;dataInit&quot;:[],&quot;genId&quot;:&quot;1466016325&quot;}\" type=\"text/x-scoped-javascript\">/*<![CDATA[*/req(['../javascripts/notebook/playground','../javascripts/notebook/magic/tabs'], \n      function(playground, _magictabs) {\n        // data ==> data-this (in observable.js's scopedEval) ==> this in JS => { dataId, dataInit, ... }\n        // this ==> scope (in observable.js's scopedEval) ==> this.parentElement ==> div.container below (toHtml)\n\n        playground.call(data,\n                        this\n                        ,\n                        {\n    \"f\": _magictabs,\n    \"o\": {}\n  }\n  \n                        \n                        \n                      );\n      }\n    );/*]]>*/</script>\n    <div>\n      <div>\n        <ul class=\"nav nav-tabs\" id=\"ul1466016325\"><li>\n              <a href=\"#tab1466016325-0\"><i class=\"fa fa-table\"/></a>\n            </li><li>\n              <a href=\"#tab1466016325-1\"><i class=\"fa fa-cubes\"/></a>\n            </li></ul>\n\n        <div class=\"tab-content\" id=\"tab1466016325\"><div class=\"tab-pane\" id=\"tab1466016325-0\">\n            <div>\n      <script data-this=\"{&quot;dataId&quot;:&quot;anonab5294cc373f4132c505b2c8c58ef916&quot;,&quot;dataInit&quot;:[{&quot;email&quot;:&quot;michael@berkeley.edu&quot;,&quot;employees&quot;:[&quot;[michael,armbrust,michael@berkeley.edu,100000]&quot;,&quot;[xiangrui,meng,xiangrui@stanford.edu,120000]&quot;],&quot;department&quot;:&quot;[123456,Computer Science]&quot;,&quot;salary&quot;:100000,&quot;lastName&quot;:&quot;armbrust&quot;,&quot;firstName&quot;:&quot;michael&quot;},{&quot;email&quot;:&quot;michael@berkeley.edu&quot;,&quot;employees&quot;:[&quot;[michael,armbrust,michael@berkeley.edu,100000]&quot;,&quot;[null,wendell,wendell@princeton.edu,160000]&quot;],&quot;department&quot;:&quot;[345678,Theater and Drama]&quot;,&quot;salary&quot;:100000,&quot;lastName&quot;:&quot;armbrust&quot;,&quot;firstName&quot;:&quot;michael&quot;},{&quot;email&quot;:&quot;xiangrui@stanford.edu&quot;,&quot;employees&quot;:[&quot;[michael,armbrust,michael@berkeley.edu,100000]&quot;,&quot;[xiangrui,meng,xiangrui@stanford.edu,120000]&quot;],&quot;department&quot;:&quot;[123456,Computer Science]&quot;,&quot;salary&quot;:120000,&quot;lastName&quot;:&quot;meng&quot;,&quot;firstName&quot;:&quot;xiangrui&quot;},{&quot;email&quot;:&quot;xiangrui@stanford.edu&quot;,&quot;employees&quot;:[&quot;[xiangrui,meng,xiangrui@stanford.edu,120000]&quot;,&quot;[matei,null,matei@waterloo.edu,140000]&quot;],&quot;department&quot;:&quot;[901234,Indoor Recreation]&quot;,&quot;salary&quot;:120000,&quot;lastName&quot;:&quot;meng&quot;,&quot;firstName&quot;:&quot;xiangrui&quot;}],&quot;genId&quot;:&quot;1012756407&quot;}\" type=\"text/x-scoped-javascript\">/*<![CDATA[*/req(['../javascripts/notebook/playground','../javascripts/notebook/magic/tableChart'], \n      function(playground, _magictableChart) {\n        // data ==> data-this (in observable.js's scopedEval) ==> this in JS => { dataId, dataInit, ... }\n        // this ==> scope (in observable.js's scopedEval) ==> this.parentElement ==> div.container below (toHtml)\n\n        playground.call(data,\n                        this\n                        ,\n                        {\n    \"f\": _magictableChart,\n    \"o\": {\"headers\":[\"department\",\"employees\",\"firstName\",\"lastName\",\"email\",\"salary\"],\"width\":600,\"height\":400}\n  }\n  \n                        \n                        \n                      );\n      }\n    );/*]]>*/</script>\n    <div>\n      <span class=\"chart-total-item-count\"><p data-bind=\"text: value\"><script data-this=\"{&quot;valueId&quot;:&quot;anon0b64b2cc6b94d7a7b40faded7fe795d5&quot;,&quot;initialValue&quot;:&quot;4&quot;}\" type=\"text/x-scoped-javascript\">/*<![CDATA[*/\nreq(\n['observable', 'knockout'],\nfunction (O, ko) {\n  ko.applyBindings({\n      value: O.makeObservable(valueId, initialValue)\n    },\n    this\n  );\n});\n        /*]]>*/</script></p> entries total</span>\n      <span class=\"chart-sampling-warning\"><p data-bind=\"text: value\"><script data-this=\"{&quot;valueId&quot;:&quot;anonbba559a8dca73a77b87ae64065f127c8&quot;,&quot;initialValue&quot;:&quot;&quot;}\" type=\"text/x-scoped-javascript\">/*<![CDATA[*/\nreq(\n['observable', 'knockout'],\nfunction (O, ko) {\n  ko.applyBindings({\n      value: O.makeObservable(valueId, initialValue)\n    },\n    this\n  );\n});\n        /*]]>*/</script></p></span>\n      <div>\n      </div>\n    </div></div>\n            </div><div class=\"tab-pane\" id=\"tab1466016325-1\">\n            <div>\n      <script data-this=\"{&quot;dataId&quot;:&quot;anond6241e47a689cd640a3e6be678a3ffba&quot;,&quot;dataInit&quot;:[{&quot;email&quot;:&quot;michael@berkeley.edu&quot;,&quot;employees&quot;:[&quot;[michael,armbrust,michael@berkeley.edu,100000]&quot;,&quot;[xiangrui,meng,xiangrui@stanford.edu,120000]&quot;],&quot;department&quot;:&quot;[123456,Computer Science]&quot;,&quot;salary&quot;:100000,&quot;lastName&quot;:&quot;armbrust&quot;,&quot;firstName&quot;:&quot;michael&quot;},{&quot;email&quot;:&quot;michael@berkeley.edu&quot;,&quot;employees&quot;:[&quot;[michael,armbrust,michael@berkeley.edu,100000]&quot;,&quot;[null,wendell,wendell@princeton.edu,160000]&quot;],&quot;department&quot;:&quot;[345678,Theater and Drama]&quot;,&quot;salary&quot;:100000,&quot;lastName&quot;:&quot;armbrust&quot;,&quot;firstName&quot;:&quot;michael&quot;},{&quot;email&quot;:&quot;xiangrui@stanford.edu&quot;,&quot;employees&quot;:[&quot;[michael,armbrust,michael@berkeley.edu,100000]&quot;,&quot;[xiangrui,meng,xiangrui@stanford.edu,120000]&quot;],&quot;department&quot;:&quot;[123456,Computer Science]&quot;,&quot;salary&quot;:120000,&quot;lastName&quot;:&quot;meng&quot;,&quot;firstName&quot;:&quot;xiangrui&quot;},{&quot;email&quot;:&quot;xiangrui@stanford.edu&quot;,&quot;employees&quot;:[&quot;[xiangrui,meng,xiangrui@stanford.edu,120000]&quot;,&quot;[matei,null,matei@waterloo.edu,140000]&quot;],&quot;department&quot;:&quot;[901234,Indoor Recreation]&quot;,&quot;salary&quot;:120000,&quot;lastName&quot;:&quot;meng&quot;,&quot;firstName&quot;:&quot;xiangrui&quot;}],&quot;genId&quot;:&quot;703624117&quot;}\" type=\"text/x-scoped-javascript\">/*<![CDATA[*/req(['../javascripts/notebook/playground','../javascripts/notebook/magic/pivotChart'], \n      function(playground, _magicpivotChart) {\n        // data ==> data-this (in observable.js's scopedEval) ==> this in JS => { dataId, dataInit, ... }\n        // this ==> scope (in observable.js's scopedEval) ==> this.parentElement ==> div.container below (toHtml)\n\n        playground.call(data,\n                        this\n                        ,\n                        {\n    \"f\": _magicpivotChart,\n    \"o\": {\"width\":600,\"height\":400,\"derivedAttributes\":{},\"extraOptions\":{}}\n  }\n  \n                        \n                        \n                      );\n      }\n    );/*]]>*/</script>\n    <div>\n      <span class=\"chart-total-item-count\"><p data-bind=\"text: value\"><script data-this=\"{&quot;valueId&quot;:&quot;anon7c951aa46259212fb0c146951655f85c&quot;,&quot;initialValue&quot;:&quot;4&quot;}\" type=\"text/x-scoped-javascript\">/*<![CDATA[*/\nreq(\n['observable', 'knockout'],\nfunction (O, ko) {\n  ko.applyBindings({\n      value: O.makeObservable(valueId, initialValue)\n    },\n    this\n  );\n});\n        /*]]>*/</script></p> entries total</span>\n      <span class=\"chart-sampling-warning\"><p data-bind=\"text: value\"><script data-this=\"{&quot;valueId&quot;:&quot;anon7d77fc96075a0ba75976751db42c815a&quot;,&quot;initialValue&quot;:&quot;&quot;}\" type=\"text/x-scoped-javascript\">/*<![CDATA[*/\nreq(\n['observable', 'knockout'],\nfunction (O, ko) {\n  ko.applyBindings({\n      value: O.makeObservable(valueId, initialValue)\n    },\n    this\n  );\n});\n        /*]]>*/</script></p></span>\n      <div>\n      </div>\n    </div></div>\n            </div></div>\n      </div>\n    </div></div>"
          },
          "output_type" : "execute_result",
          "execution_count" : 13,
          "time" : "Took: 1.071s, at 2017-08-30 12:29"
        }
      ]
    },
    {
      "metadata" : {
        "id" : "EBE2D2137E29458F8E5ECE56862C6042"
      },
      "cell_type" : "markdown",
      "source" : "### From DataFrame to Dataset\n\nFor example, if we want to get 2 columns firstName and lastName and convert it to an RDD, we should know the type of theses 2 columns."
    },
    {
      "metadata" : {
        "trusted" : true,
        "input_collapsed" : false,
        "collapsed" : false,
        "id" : "55FA98EBCCBF4D1E89EB830A5AED149B"
      },
      "cell_type" : "code",
      "source" : [
        "val dataset = explodeDF.map(l => (l(2).asInstanceOf[String], l(3).asInstanceOf[String]))"
      ],
      "outputs" : [
        {
          "name" : "stdout",
          "output_type" : "stream",
          "text" : "dataset: org.apache.spark.sql.Dataset[(String, String)] = [_1: string, _2: string]\n"
        },
        {
          "metadata" : { },
          "data" : {
            "text/html" : ""
          },
          "output_type" : "execute_result",
          "execution_count" : 14,
          "time" : "Took: 0.899s, at 2017-08-30 12:29"
        }
      ]
    },
    {
      "metadata" : {
        "id" : "1EB1B8903ABA49378DF8F3E69DD46872"
      },
      "cell_type" : "markdown",
      "source" : "### We can also save a DataFrame with format Parquet"
    },
    {
      "metadata" : {
        "trusted" : true,
        "input_collapsed" : false,
        "collapsed" : false,
        "id" : "11E44843EB584AC18C365969729B43DF"
      },
      "cell_type" : "code",
      "source" : [
        "val savePath = \"hdfs://hupi-factory-02-01-01-01/user/hupi/dataset_torusVN/formation2_parquetEx\"\n",
        "\n",
        "unionDF.write.parquet(savePath)"
      ],
      "outputs" : [
        {
          "name" : "stdout",
          "output_type" : "stream",
          "text" : "savePath: String = hdfs://hupi-factory-02-01-01-01/user/hupi/dataset_torusVN/formation2_parquetEx\n"
        },
        {
          "metadata" : { },
          "data" : {
            "text/html" : ""
          },
          "output_type" : "execute_result",
          "execution_count" : 15,
          "time" : "Took: 0.602s, at 2017-08-30 12:29"
        }
      ]
    },
    {
      "metadata" : {
        "trusted" : true,
        "input_collapsed" : false,
        "collapsed" : false,
        "id" : "956DFAB9B52E48F2A99A6680FE4746CB"
      },
      "cell_type" : "code",
      "source" : [
        "// Then we can read this parquetFile\n",
        "val sqlContext = new org.apache.spark.sql.SQLContext(sc)\n",
        "val parquetDF = sqlContext.read.parquet(savePath)"
      ],
      "outputs" : [
        {
          "name" : "stdout",
          "output_type" : "stream",
          "text" : "<console>:70: warning: constructor SQLContext in class SQLContext is deprecated: Use SparkSession.builder instead\n       val sqlContext = new org.apache.spark.sql.SQLContext(sc)\n                        ^\nsqlContext: org.apache.spark.sql.SQLContext = org.apache.spark.sql.SQLContext@7a7426aa\nparquetDF: org.apache.spark.sql.DataFrame = [department: struct<id: string, name: string>, employees: array<struct<firstName:string,lastName:string,email:string,salary:int>>]\n"
        },
        {
          "metadata" : { },
          "data" : {
            "text/html" : ""
          },
          "output_type" : "execute_result",
          "execution_count" : 17,
          "time" : "Took: 1.307s, at 2017-08-30 12:30"
        }
      ]
    },
    {
      "metadata" : {
        "trusted" : true,
        "input_collapsed" : false,
        "collapsed" : false,
        "id" : "7376D7F20EA144389F847DD6971C358D"
      },
      "cell_type" : "code",
      "source" : [
        "parquetDF.show()"
      ],
      "outputs" : [
        {
          "name" : "stdout",
          "output_type" : "stream",
          "text" : "+--------------------+--------------------+\n|          department|           employees|\n+--------------------+--------------------+\n|[123456,Computer ...|[[michael,armbrus...|\n|[345678,Theater a...|[[michael,armbrus...|\n|[789012,Mechanica...|[[matei,null,mate...|\n|[901234,Indoor Re...|[[xiangrui,meng,n...|\n+--------------------+--------------------+\n\n"
        },
        {
          "metadata" : { },
          "data" : {
            "text/html" : ""
          },
          "output_type" : "execute_result",
          "execution_count" : 18,
          "time" : "Took: 1.365s, at 2017-08-30 12:30"
        }
      ]
    },
    {
      "metadata" : {
        "trusted" : true,
        "input_collapsed" : false,
        "collapsed" : true,
        "id" : "4C92090C0FEC49B9895578ADC7BE61F4"
      },
      "cell_type" : "code",
      "source" : [
        ""
      ],
      "outputs" : [ ]
    }
  ]
}