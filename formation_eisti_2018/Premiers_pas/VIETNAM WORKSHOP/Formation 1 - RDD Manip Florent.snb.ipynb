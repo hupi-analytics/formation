{
  "metadata" : {
    "id" : "144213d0-76fa-4b6a-84a9-1c8e89cd23c0",
    "name" : "Formation 1 - RDD Manip Florent",
    "user_save_timestamp" : "1970-01-01T00:00:00.000Z",
    "auto_save_timestamp" : "1970-01-01T00:00:00.000Z",
    "language_info" : {
      "name" : "scala",
      "file_extension" : "scala",
      "codemirror_mode" : "text/x-scala"
    },
    "trusted" : true,
    "sparkNotebook" : null,
    "customLocalRepo" : null,
    "customRepos" : null,
    "customDeps" : null,
    "customImports" : null,
    "customArgs" : null,
    "customSparkConf" : null,
    "customVars" : null
  },
  "cells" : [
    {
      "metadata" : {
        "id" : "F7F639F1BAFE4AA7807194E010ADA919"
      },
      "cell_type" : "markdown",
      "source" : "<img src=http://fd.perso.eisti.fr/Logos/TORUS2.png>\n\n\n# RDD Manipulations "
    },
    {
      "metadata" : {
        "id" : "30CC433AB76045F8BD496EF594E583F0"
      },
      "cell_type" : "markdown",
      "source" : "In this section, we will present to you some basics manipulations that we can do with RDD - Resilient Distributed Dataset, the basic abstraction in Spark. \n\nIn resume, \"it represents an immutable, partitioned collection of elements that can be operated on in parallel. This class contains the basic operations available on all RDDs, such as map, filter, and persist. In addition, PairRDDFunctions contains operations available only on RDDs of key-value pairs, such as groupByKey and join; DoubleRDDFunctions contains operations available only on RDDs of Doubles; and SequenceFileRDDFunctions contains operations available on RDDs that can be saved as SequenceFiles. All operations are automatically available on any RDD of the right type (e.g. RDD[(Int, Int)] through implicit.\n\nInternally, each RDD is characterized by five main properties:\n\n- A list of partitions \n- A function for computing each split \n- A list of dependencies on other RDDs \n- Optionally, a Partitioner for key-value RDDs (e.g. to say that the RDD is hash-partitioned) \n- Optionally, a list of preferred locations to compute each split on (e.g. block locations for an HDFS file)\n\nAll of the scheduling and execution in Spark is done based on these methods, allowing each RDD to implement its own way of computing itself. Indeed, users can implement custom RDDs (e.g. for reading data from a new storage system) by overriding these functions. Please refer to the Spark paper for more details on RDD internals.\"\n\n(Source : https://spark.apache.org/docs/latest/api/java/org/apache/spark/rdd/RDD.html).\n\nWhen we talk about RDD, we have actions and transformations. Transformations in RDD means we just convert the type of RDD1 to RDD2 without executing or trying to find out what will be the results, otherwise transformations in RDD won't take much time (ex : map, flatMap, etc.). Actions in RDD means we compute really the results (ex : count, collect, take, etc.).\n\nTo illustrate some basics actions and transformations in RDD, let's take a Word Counts example!"
    },
    {
      "metadata" : {
        "id" : "2709F980CE5245F497F9B15C9CF1F35F"
      },
      "cell_type" : "markdown",
      "source" : "### We read data from HDFS. By using sc, we have a RDD in the output"
    },
    {
      "metadata" : {
        "trusted" : true,
        "input_collapsed" : false,
        "collapsed" : false,
        "id" : "72B41204DF59495CBA7465A252AA06AC"
      },
      "cell_type" : "code",
      "source" : [
        "val data = sc.textFile(\"hdfs://hupi-factory-02-01-01-01/user/hupi/dataset_torusVN/WordCountDataset.txt\")\n",
        "\n",
        "/*\n",
        "Here we used sc.textFile to read a text file in HDFS, if you want to read a json file  \n",
        "\n",
        "import org.apache.spark.sql.SparkSession\n",
        "\n",
        "val spark = SparkSession\n",
        "  .builder()\n",
        "  .appName(\"Spark SQL basic example\") \n",
        "  .getOrCreate()\n",
        "\n",
        "// For implicit conversions like converting RDDs to DataFrames\n",
        "import spark.implicits._\n",
        "\n",
        "val df = spark.read.json(\"examples/src/main/resources/example.json\") // we have a Dataset here\n",
        "*/"
      ],
      "outputs" : [
        {
          "name" : "stdout",
          "output_type" : "stream",
          "text" : "data: org.apache.spark.rdd.RDD[String] = hdfs://hupi-factory-02-01-01-01/user/hupi/dataset_torusVN/WordCountDataset.txt MapPartitionsRDD[1] at textFile at <console>:67\n"
        },
        {
          "metadata" : { },
          "data" : {
            "text/html" : ""
          },
          "output_type" : "execute_result",
          "execution_count" : 1,
          "time" : "Took: 1.664s, at 2017-09-06 07:45"
        }
      ]
    },
    {
      "metadata" : {
        "id" : "97ECB351F08C42DD80F3043F49C19D22"
      },
      "cell_type" : "markdown",
      "source" : "### We count number of lines in data"
    },
    {
      "metadata" : {
        "trusted" : true,
        "input_collapsed" : false,
        "collapsed" : false,
        "id" : "E69AD26DF5FA47E78548FCF4F2F01E59"
      },
      "cell_type" : "code",
      "source" : [
        "data.count()"
      ],
      "outputs" : [
        {
          "name" : "stdout",
          "output_type" : "stream",
          "text" : "res4: Long = 4\n"
        },
        {
          "metadata" : { },
          "data" : {
            "text/html" : "4"
          },
          "output_type" : "execute_result",
          "execution_count" : 3,
          "time" : "Took: 1.108s, at 2017-09-06 07:46"
        }
      ]
    },
    {
      "metadata" : {
        "id" : "4F3B80A5B5A9441C81499D234598A0C4"
      },
      "cell_type" : "markdown",
      "source" : "### We can see all of data, but be careful of this action because if data is too big, it can crash the notebook!"
    },
    {
      "metadata" : {
        "trusted" : true,
        "input_collapsed" : false,
        "collapsed" : false,
        "presentation" : {
          "tabs_state" : "{\n  \"tab_id\": \"#tab1398858425-0\"\n}",
          "pivot_chart_state" : "{\n  \"hiddenAttributes\": [],\n  \"menuLimit\": 200,\n  \"cols\": [],\n  \"rows\": [],\n  \"vals\": [],\n  \"exclusions\": {},\n  \"inclusions\": {},\n  \"unusedAttrsVertical\": 85,\n  \"autoSortUnusedAttrs\": false,\n  \"inclusionsInfo\": {},\n  \"aggregatorName\": \"Count\",\n  \"rendererName\": \"Table\"\n}"
        },
        "id" : "3CD3833D84CD45CC98E62FBE8D3956F1"
      },
      "cell_type" : "code",
      "source" : [
        "data.collect()"
      ],
      "outputs" : [
        {
          "name" : "stdout",
          "output_type" : "stream",
          "text" : "res6: Array[String] = Array(A Resilient Distributed Dataset (RDD), the basic abstraction in Spark. Represents an immutable, partitioned collection of elements that can be operated on in parallel. This class contains the basic operations available on all RDDs, such as map, filter, and persist. In addition, PairRDDFunctions contains operations available only on RDDs of key-value pairs, such as groupByKey and join; DoubleRDDFunctions contains operations available only on RDDs of Doubles; and SequenceFileRDDFunctions contains operations available on RDDs that can be saved as SequenceFiles., Internally, each RDD is characterized by five main properties:, - A list of partitions - A function for computing each split - A list of dependencies on other RDDs - Optionally, a Partitioner for key-val..."
        },
        {
          "metadata" : { },
          "data" : {
            "text/html" : "<div>\n      <script data-this=\"{&quot;dataId&quot;:&quot;anonbb5ba0b5e079c959887717920cba26e3&quot;,&quot;dataInit&quot;:[],&quot;genId&quot;:&quot;1398858425&quot;}\" type=\"text/x-scoped-javascript\">/*<![CDATA[*/req(['../javascripts/notebook/playground','../javascripts/notebook/magic/tabs'], \n      function(playground, _magictabs) {\n        // data ==> data-this (in observable.js's scopedEval) ==> this in JS => { dataId, dataInit, ... }\n        // this ==> scope (in observable.js's scopedEval) ==> this.parentElement ==> div.container below (toHtml)\n\n        playground.call(data,\n                        this\n                        ,\n                        {\n    \"f\": _magictabs,\n    \"o\": {}\n  }\n  \n                        \n                        \n                      );\n      }\n    );/*]]>*/</script>\n    <div>\n      <div>\n        <ul class=\"nav nav-tabs\" id=\"ul1398858425\"><li>\n              <a href=\"#tab1398858425-0\"><i class=\"fa fa-table\"/></a>\n            </li><li>\n              <a href=\"#tab1398858425-1\"><i class=\"fa fa-cubes\"/></a>\n            </li></ul>\n\n        <div class=\"tab-content\" id=\"tab1398858425\"><div class=\"tab-pane\" id=\"tab1398858425-0\">\n            <div>\n      <script data-this=\"{&quot;dataId&quot;:&quot;anoncf4cdd3f7cd4fd16d56f5c5f3db74e83&quot;,&quot;dataInit&quot;:[{&quot;string value&quot;:&quot;A Resilient Distributed Dataset (RDD), the basic abstraction in Spark. Represents an immutable, partitioned collection of elements that can be operated on in parallel. This class contains the basic operations available on all RDDs, such as map, filter, and persist. In addition, PairRDDFunctions contains operations available only on RDDs of key-value pairs, such as groupByKey and join; DoubleRDDFunctions contains operations available only on RDDs of Doubles; and SequenceFileRDDFunctions contains operations available on RDDs that can be saved as SequenceFiles.&quot;},{&quot;string value&quot;:&quot;Internally, each RDD is characterized by five main properties:&quot;},{&quot;string value&quot;:&quot;- A list of partitions - A function for computing each split - A list of dependencies on other RDDs - Optionally, a Partitioner for key-value RDDs (e.g. to say that the RDD is hash-partitioned) - Optionally, a list of preferred locations to compute each split on (e.g. block locations for an HDFS file)&quot;},{&quot;string value&quot;:&quot;All of the scheduling and execution in Spark is done based on these methods, allowing each RDD to implement its own way of computing itself. Indeed, users can implement custom RDDs (e.g. for reading data from a new storage system) by overriding these functions. Please refer to the Spark paper for more details on RDD internals.&quot;}],&quot;genId&quot;:&quot;1687301173&quot;}\" type=\"text/x-scoped-javascript\">/*<![CDATA[*/req(['../javascripts/notebook/playground','../javascripts/notebook/magic/tableChart'], \n      function(playground, _magictableChart) {\n        // data ==> data-this (in observable.js's scopedEval) ==> this in JS => { dataId, dataInit, ... }\n        // this ==> scope (in observable.js's scopedEval) ==> this.parentElement ==> div.container below (toHtml)\n\n        playground.call(data,\n                        this\n                        ,\n                        {\n    \"f\": _magictableChart,\n    \"o\": {\"headers\":[\"string value\"],\"width\":600,\"height\":400}\n  }\n  \n                        \n                        \n                      );\n      }\n    );/*]]>*/</script>\n    <div>\n      <span class=\"chart-total-item-count\"><p data-bind=\"text: value\"><script data-this=\"{&quot;valueId&quot;:&quot;anonac2f9ef17aba345d02d2e90efffccd63&quot;,&quot;initialValue&quot;:&quot;4&quot;}\" type=\"text/x-scoped-javascript\">/*<![CDATA[*/\nreq(\n['observable', 'knockout'],\nfunction (O, ko) {\n  ko.applyBindings({\n      value: O.makeObservable(valueId, initialValue)\n    },\n    this\n  );\n});\n        /*]]>*/</script></p> entries total</span>\n      <span class=\"chart-sampling-warning\"><p data-bind=\"text: value\"><script data-this=\"{&quot;valueId&quot;:&quot;anonc0e617b417fc7e10eace25f0e27fdfe7&quot;,&quot;initialValue&quot;:&quot;&quot;}\" type=\"text/x-scoped-javascript\">/*<![CDATA[*/\nreq(\n['observable', 'knockout'],\nfunction (O, ko) {\n  ko.applyBindings({\n      value: O.makeObservable(valueId, initialValue)\n    },\n    this\n  );\n});\n        /*]]>*/</script></p></span>\n      <div>\n      </div>\n    </div></div>\n            </div><div class=\"tab-pane\" id=\"tab1398858425-1\">\n            <div>\n      <script data-this=\"{&quot;dataId&quot;:&quot;anonbdcebaafa7bf5605ba8b6700720b8908&quot;,&quot;dataInit&quot;:[{&quot;string value&quot;:&quot;A Resilient Distributed Dataset (RDD), the basic abstraction in Spark. Represents an immutable, partitioned collection of elements that can be operated on in parallel. This class contains the basic operations available on all RDDs, such as map, filter, and persist. In addition, PairRDDFunctions contains operations available only on RDDs of key-value pairs, such as groupByKey and join; DoubleRDDFunctions contains operations available only on RDDs of Doubles; and SequenceFileRDDFunctions contains operations available on RDDs that can be saved as SequenceFiles.&quot;},{&quot;string value&quot;:&quot;Internally, each RDD is characterized by five main properties:&quot;},{&quot;string value&quot;:&quot;- A list of partitions - A function for computing each split - A list of dependencies on other RDDs - Optionally, a Partitioner for key-value RDDs (e.g. to say that the RDD is hash-partitioned) - Optionally, a list of preferred locations to compute each split on (e.g. block locations for an HDFS file)&quot;},{&quot;string value&quot;:&quot;All of the scheduling and execution in Spark is done based on these methods, allowing each RDD to implement its own way of computing itself. Indeed, users can implement custom RDDs (e.g. for reading data from a new storage system) by overriding these functions. Please refer to the Spark paper for more details on RDD internals.&quot;}],&quot;genId&quot;:&quot;783157481&quot;}\" type=\"text/x-scoped-javascript\">/*<![CDATA[*/req(['../javascripts/notebook/playground','../javascripts/notebook/magic/pivotChart'], \n      function(playground, _magicpivotChart) {\n        // data ==> data-this (in observable.js's scopedEval) ==> this in JS => { dataId, dataInit, ... }\n        // this ==> scope (in observable.js's scopedEval) ==> this.parentElement ==> div.container below (toHtml)\n\n        playground.call(data,\n                        this\n                        ,\n                        {\n    \"f\": _magicpivotChart,\n    \"o\": {\"width\":600,\"height\":400,\"derivedAttributes\":{},\"extraOptions\":{}}\n  }\n  \n                        \n                        \n                      );\n      }\n    );/*]]>*/</script>\n    <div>\n      <span class=\"chart-total-item-count\"><p data-bind=\"text: value\"><script data-this=\"{&quot;valueId&quot;:&quot;anon482a6e37959ee19ad73a710b519fd170&quot;,&quot;initialValue&quot;:&quot;4&quot;}\" type=\"text/x-scoped-javascript\">/*<![CDATA[*/\nreq(\n['observable', 'knockout'],\nfunction (O, ko) {\n  ko.applyBindings({\n      value: O.makeObservable(valueId, initialValue)\n    },\n    this\n  );\n});\n        /*]]>*/</script></p> entries total</span>\n      <span class=\"chart-sampling-warning\"><p data-bind=\"text: value\"><script data-this=\"{&quot;valueId&quot;:&quot;anon6ceb542ccfcec8efbcc183df679c9679&quot;,&quot;initialValue&quot;:&quot;&quot;}\" type=\"text/x-scoped-javascript\">/*<![CDATA[*/\nreq(\n['observable', 'knockout'],\nfunction (O, ko) {\n  ko.applyBindings({\n      value: O.makeObservable(valueId, initialValue)\n    },\n    this\n  );\n});\n        /*]]>*/</script></p></span>\n      <div>\n      </div>\n    </div></div>\n            </div></div>\n      </div>\n    </div></div>"
          },
          "output_type" : "execute_result",
          "execution_count" : 4,
          "time" : "Took: 1.138s, at 2017-09-06 07:46"
        }
      ]
    },
    {
      "metadata" : {
        "id" : "319B4B20D0C34BB1A7ABFC19539145AE"
      },
      "cell_type" : "markdown",
      "source" : "### We can also do this way..."
    },
    {
      "metadata" : {
        "trusted" : true,
        "input_collapsed" : false,
        "collapsed" : false,
        "id" : "9CDC717256F4470BBEEA3B4AD4BE72C9"
      },
      "cell_type" : "code",
      "source" : [
        "data.collect().foreach(println)"
      ],
      "outputs" : [
        {
          "name" : "stdout",
          "output_type" : "stream",
          "text" : "A Resilient Distributed Dataset (RDD), the basic abstraction in Spark. Represents an immutable, partitioned collection of elements that can be operated on in parallel. This class contains the basic operations available on all RDDs, such as map, filter, and persist. In addition, PairRDDFunctions contains operations available only on RDDs of key-value pairs, such as groupByKey and join; DoubleRDDFunctions contains operations available only on RDDs of Doubles; and SequenceFileRDDFunctions contains operations available on RDDs that can be saved as SequenceFiles.\nInternally, each RDD is characterized by five main properties:\n- A list of partitions - A function for computing each split - A list of dependencies on other RDDs - Optionally, a Partitioner for key-value RDDs (e.g. to say that the RDD is hash-partitioned) - Optionally, a list of preferred locations to compute each split on (e.g. block locations for an HDFS file)\nAll of the scheduling and execution in Spark is done based on these methods, allowing each RDD to implement its own way of computing itself. Indeed, users can implement custom RDDs (e.g. for reading data from a new storage system) by overriding these functions. Please refer to the Spark paper for more details on RDD internals.\n"
        },
        {
          "metadata" : { },
          "data" : {
            "text/html" : ""
          },
          "output_type" : "execute_result",
          "execution_count" : 5,
          "time" : "Took: 1.120s, at 2017-09-06 07:46"
        }
      ]
    },
    {
      "metadata" : {
        "id" : "7A6631679F184E5B8F76FE50599E7477"
      },
      "cell_type" : "markdown",
      "source" : "### But it's always better to take some n lines of data instead of collecting all data"
    },
    {
      "metadata" : {
        "trusted" : true,
        "input_collapsed" : false,
        "collapsed" : false,
        "presentation" : {
          "tabs_state" : "{\n  \"tab_id\": \"#tab1275103287-0\"\n}",
          "pivot_chart_state" : "{\n  \"hiddenAttributes\": [],\n  \"menuLimit\": 200,\n  \"cols\": [],\n  \"rows\": [],\n  \"vals\": [],\n  \"exclusions\": {},\n  \"inclusions\": {},\n  \"unusedAttrsVertical\": 85,\n  \"autoSortUnusedAttrs\": false,\n  \"inclusionsInfo\": {},\n  \"aggregatorName\": \"Count\",\n  \"rendererName\": \"Table\"\n}"
        },
        "id" : "9DA8CC5811E5472EB619460851F6F99B"
      },
      "cell_type" : "code",
      "source" : [
        "data.take(2)"
      ],
      "outputs" : [
        {
          "name" : "stdout",
          "output_type" : "stream",
          "text" : "res11: Array[String] = Array(A Resilient Distributed Dataset (RDD), the basic abstraction in Spark. Represents an immutable, partitioned collection of elements that can be operated on in parallel. This class contains the basic operations available on all RDDs, such as map, filter, and persist. In addition, PairRDDFunctions contains operations available only on RDDs of key-value pairs, such as groupByKey and join; DoubleRDDFunctions contains operations available only on RDDs of Doubles; and SequenceFileRDDFunctions contains operations available on RDDs that can be saved as SequenceFiles., Internally, each RDD is characterized by five main properties:)\n"
        },
        {
          "metadata" : { },
          "data" : {
            "text/html" : "<div>\n      <script data-this=\"{&quot;dataId&quot;:&quot;anon4340eb6aaae1799b3f96f23616443af5&quot;,&quot;dataInit&quot;:[],&quot;genId&quot;:&quot;1275103287&quot;}\" type=\"text/x-scoped-javascript\">/*<![CDATA[*/req(['../javascripts/notebook/playground','../javascripts/notebook/magic/tabs'], \n      function(playground, _magictabs) {\n        // data ==> data-this (in observable.js's scopedEval) ==> this in JS => { dataId, dataInit, ... }\n        // this ==> scope (in observable.js's scopedEval) ==> this.parentElement ==> div.container below (toHtml)\n\n        playground.call(data,\n                        this\n                        ,\n                        {\n    \"f\": _magictabs,\n    \"o\": {}\n  }\n  \n                        \n                        \n                      );\n      }\n    );/*]]>*/</script>\n    <div>\n      <div>\n        <ul class=\"nav nav-tabs\" id=\"ul1275103287\"><li>\n              <a href=\"#tab1275103287-0\"><i class=\"fa fa-table\"/></a>\n            </li><li>\n              <a href=\"#tab1275103287-1\"><i class=\"fa fa-cubes\"/></a>\n            </li></ul>\n\n        <div class=\"tab-content\" id=\"tab1275103287\"><div class=\"tab-pane\" id=\"tab1275103287-0\">\n            <div>\n      <script data-this=\"{&quot;dataId&quot;:&quot;anon0eb311d184cb2f574a9f041349a83f0b&quot;,&quot;dataInit&quot;:[{&quot;string value&quot;:&quot;A Resilient Distributed Dataset (RDD), the basic abstraction in Spark. Represents an immutable, partitioned collection of elements that can be operated on in parallel. This class contains the basic operations available on all RDDs, such as map, filter, and persist. In addition, PairRDDFunctions contains operations available only on RDDs of key-value pairs, such as groupByKey and join; DoubleRDDFunctions contains operations available only on RDDs of Doubles; and SequenceFileRDDFunctions contains operations available on RDDs that can be saved as SequenceFiles.&quot;},{&quot;string value&quot;:&quot;Internally, each RDD is characterized by five main properties:&quot;}],&quot;genId&quot;:&quot;1061958538&quot;}\" type=\"text/x-scoped-javascript\">/*<![CDATA[*/req(['../javascripts/notebook/playground','../javascripts/notebook/magic/tableChart'], \n      function(playground, _magictableChart) {\n        // data ==> data-this (in observable.js's scopedEval) ==> this in JS => { dataId, dataInit, ... }\n        // this ==> scope (in observable.js's scopedEval) ==> this.parentElement ==> div.container below (toHtml)\n\n        playground.call(data,\n                        this\n                        ,\n                        {\n    \"f\": _magictableChart,\n    \"o\": {\"headers\":[\"string value\"],\"width\":600,\"height\":400}\n  }\n  \n                        \n                        \n                      );\n      }\n    );/*]]>*/</script>\n    <div>\n      <span class=\"chart-total-item-count\"><p data-bind=\"text: value\"><script data-this=\"{&quot;valueId&quot;:&quot;anone5c4ead51d2fd6d9341cbeb3e78112a4&quot;,&quot;initialValue&quot;:&quot;2&quot;}\" type=\"text/x-scoped-javascript\">/*<![CDATA[*/\nreq(\n['observable', 'knockout'],\nfunction (O, ko) {\n  ko.applyBindings({\n      value: O.makeObservable(valueId, initialValue)\n    },\n    this\n  );\n});\n        /*]]>*/</script></p> entries total</span>\n      <span class=\"chart-sampling-warning\"><p data-bind=\"text: value\"><script data-this=\"{&quot;valueId&quot;:&quot;anon423ad703305ee650a0c65a4566bcd142&quot;,&quot;initialValue&quot;:&quot;&quot;}\" type=\"text/x-scoped-javascript\">/*<![CDATA[*/\nreq(\n['observable', 'knockout'],\nfunction (O, ko) {\n  ko.applyBindings({\n      value: O.makeObservable(valueId, initialValue)\n    },\n    this\n  );\n});\n        /*]]>*/</script></p></span>\n      <div>\n      </div>\n    </div></div>\n            </div><div class=\"tab-pane\" id=\"tab1275103287-1\">\n            <div>\n      <script data-this=\"{&quot;dataId&quot;:&quot;anonb20aa0dea7bca06b48f8e0847987fc9f&quot;,&quot;dataInit&quot;:[{&quot;string value&quot;:&quot;A Resilient Distributed Dataset (RDD), the basic abstraction in Spark. Represents an immutable, partitioned collection of elements that can be operated on in parallel. This class contains the basic operations available on all RDDs, such as map, filter, and persist. In addition, PairRDDFunctions contains operations available only on RDDs of key-value pairs, such as groupByKey and join; DoubleRDDFunctions contains operations available only on RDDs of Doubles; and SequenceFileRDDFunctions contains operations available on RDDs that can be saved as SequenceFiles.&quot;},{&quot;string value&quot;:&quot;Internally, each RDD is characterized by five main properties:&quot;}],&quot;genId&quot;:&quot;351355023&quot;}\" type=\"text/x-scoped-javascript\">/*<![CDATA[*/req(['../javascripts/notebook/playground','../javascripts/notebook/magic/pivotChart'], \n      function(playground, _magicpivotChart) {\n        // data ==> data-this (in observable.js's scopedEval) ==> this in JS => { dataId, dataInit, ... }\n        // this ==> scope (in observable.js's scopedEval) ==> this.parentElement ==> div.container below (toHtml)\n\n        playground.call(data,\n                        this\n                        ,\n                        {\n    \"f\": _magicpivotChart,\n    \"o\": {\"width\":600,\"height\":400,\"derivedAttributes\":{},\"extraOptions\":{}}\n  }\n  \n                        \n                        \n                      );\n      }\n    );/*]]>*/</script>\n    <div>\n      <span class=\"chart-total-item-count\"><p data-bind=\"text: value\"><script data-this=\"{&quot;valueId&quot;:&quot;anona0797a398a92fb3c5ec224a9c6c798b6&quot;,&quot;initialValue&quot;:&quot;2&quot;}\" type=\"text/x-scoped-javascript\">/*<![CDATA[*/\nreq(\n['observable', 'knockout'],\nfunction (O, ko) {\n  ko.applyBindings({\n      value: O.makeObservable(valueId, initialValue)\n    },\n    this\n  );\n});\n        /*]]>*/</script></p> entries total</span>\n      <span class=\"chart-sampling-warning\"><p data-bind=\"text: value\"><script data-this=\"{&quot;valueId&quot;:&quot;anonc1173f556a4c36f1c07bb6e687fdce40&quot;,&quot;initialValue&quot;:&quot;&quot;}\" type=\"text/x-scoped-javascript\">/*<![CDATA[*/\nreq(\n['observable', 'knockout'],\nfunction (O, ko) {\n  ko.applyBindings({\n      value: O.makeObservable(valueId, initialValue)\n    },\n    this\n  );\n});\n        /*]]>*/</script></p></span>\n      <div>\n      </div>\n    </div></div>\n            </div></div>\n      </div>\n    </div></div>"
          },
          "output_type" : "execute_result",
          "execution_count" : 7,
          "time" : "Took: 0.936s, at 2017-09-04 10:42"
        }
      ]
    },
    {
      "metadata" : {
        "id" : "610AE498A6154550883010B0DEDD6ECF"
      },
      "cell_type" : "markdown",
      "source" : "### Next, we need to remove all the special characters in data by using regex. \n\nTo understand more about regex, you can find in this link (http://docs.oracle.com/javase/7/docs/api/java/util/regex/Pattern.html). In this transformation, we use map() to apply the function replaceAll for each element inside RDD."
    },
    {
      "metadata" : {
        "trusted" : true,
        "input_collapsed" : false,
        "collapsed" : false,
        "id" : "236BAAC8BA3843AA8AFBAD08AA7CF5C2"
      },
      "cell_type" : "code",
      "source" : [
        "val data_without_special_characters = data.map(l => l.replaceAll(\"\"\"[\\p{Punct}]\"\"\", \"\"))"
      ],
      "outputs" : [
        {
          "name" : "stdout",
          "output_type" : "stream",
          "text" : "data_without_special_characters: org.apache.spark.rdd.RDD[String] = MapPartitionsRDD[5] at map at <console>:69\n"
        },
        {
          "metadata" : { },
          "data" : {
            "text/html" : ""
          },
          "output_type" : "execute_result",
          "execution_count" : 14,
          "time" : "Took: 0.595s, at 2017-09-06 08:09"
        }
      ]
    },
    {
      "metadata" : {
        "trusted" : true,
        "input_collapsed" : false,
        "collapsed" : false,
        "presentation" : {
          "tabs_state" : "{\n  \"tab_id\": \"#tab1962494979-0\"\n}",
          "pivot_chart_state" : "{\n  \"hiddenAttributes\": [],\n  \"menuLimit\": 200,\n  \"cols\": [],\n  \"rows\": [],\n  \"vals\": [],\n  \"exclusions\": {},\n  \"inclusions\": {},\n  \"unusedAttrsVertical\": 85,\n  \"autoSortUnusedAttrs\": false,\n  \"inclusionsInfo\": {},\n  \"aggregatorName\": \"Count\",\n  \"rendererName\": \"Table\"\n}"
        },
        "id" : "C45AD8A1E7D04F879E562E478BF6B3F7"
      },
      "cell_type" : "code",
      "source" : [
        "data_without_special_characters.take(5)\n"
      ],
      "outputs" : [
        {
          "name" : "stdout",
          "output_type" : "stream",
          "text" : "res24: Array[String] = Array(A Resilient Distributed Dataset RDD the basic abstraction in Spark Represents an immutable partitioned collection of elements that can be operated on in parallel This class contains the basic operations available on all RDDs such as map filter and persist In addition PairRDDFunctions contains operations available only on RDDs of keyvalue pairs such as groupByKey and join DoubleRDDFunctions contains operations available only on RDDs of Doubles and SequenceFileRDDFunctions contains operations available on RDDs that can be saved as SequenceFiles, Internally each RDD is characterized by five main properties, \" A list of partitions  A function for computing each split  A list of dependencies on other RDDs  Optionally a Partitioner for keyvalue RDDs eg to say that..."
        },
        {
          "metadata" : { },
          "data" : {
            "text/html" : "<div>\n      <script data-this=\"{&quot;dataId&quot;:&quot;anon203de1efd761d9fbc29038d3e8f3ddd3&quot;,&quot;dataInit&quot;:[],&quot;genId&quot;:&quot;1962494979&quot;}\" type=\"text/x-scoped-javascript\">/*<![CDATA[*/req(['../javascripts/notebook/playground','../javascripts/notebook/magic/tabs'], \n      function(playground, _magictabs) {\n        // data ==> data-this (in observable.js's scopedEval) ==> this in JS => { dataId, dataInit, ... }\n        // this ==> scope (in observable.js's scopedEval) ==> this.parentElement ==> div.container below (toHtml)\n\n        playground.call(data,\n                        this\n                        ,\n                        {\n    \"f\": _magictabs,\n    \"o\": {}\n  }\n  \n                        \n                        \n                      );\n      }\n    );/*]]>*/</script>\n    <div>\n      <div>\n        <ul class=\"nav nav-tabs\" id=\"ul1962494979\"><li>\n              <a href=\"#tab1962494979-0\"><i class=\"fa fa-table\"/></a>\n            </li><li>\n              <a href=\"#tab1962494979-1\"><i class=\"fa fa-cubes\"/></a>\n            </li></ul>\n\n        <div class=\"tab-content\" id=\"tab1962494979\"><div class=\"tab-pane\" id=\"tab1962494979-0\">\n            <div>\n      <script data-this=\"{&quot;dataId&quot;:&quot;anon4c65eac7e56935070adda8988b0da458&quot;,&quot;dataInit&quot;:[{&quot;string value&quot;:&quot;A Resilient Distributed Dataset RDD the basic abstraction in Spark Represents an immutable partitioned collection of elements that can be operated on in parallel This class contains the basic operations available on all RDDs such as map filter and persist In addition PairRDDFunctions contains operations available only on RDDs of keyvalue pairs such as groupByKey and join DoubleRDDFunctions contains operations available only on RDDs of Doubles and SequenceFileRDDFunctions contains operations available on RDDs that can be saved as SequenceFiles&quot;},{&quot;string value&quot;:&quot;Internally each RDD is characterized by five main properties&quot;},{&quot;string value&quot;:&quot; A list of partitions  A function for computing each split  A list of dependencies on other RDDs  Optionally a Partitioner for keyvalue RDDs eg to say that the RDD is hashpartitioned  Optionally a list of preferred locations to compute each split on eg block locations for an HDFS file&quot;},{&quot;string value&quot;:&quot;All of the scheduling and execution in Spark is done based on these methods allowing each RDD to implement its own way of computing itself Indeed users can implement&quot;},{&quot;string value&quot;:&quot;custom RDDs eg for reading data from a new storage system by overriding these functions Please refer to the Spark paper for more details on RDD internals&quot;}],&quot;genId&quot;:&quot;1883759116&quot;}\" type=\"text/x-scoped-javascript\">/*<![CDATA[*/req(['../javascripts/notebook/playground','../javascripts/notebook/magic/tableChart'], \n      function(playground, _magictableChart) {\n        // data ==> data-this (in observable.js's scopedEval) ==> this in JS => { dataId, dataInit, ... }\n        // this ==> scope (in observable.js's scopedEval) ==> this.parentElement ==> div.container below (toHtml)\n\n        playground.call(data,\n                        this\n                        ,\n                        {\n    \"f\": _magictableChart,\n    \"o\": {\"headers\":[\"string value\"],\"width\":600,\"height\":400}\n  }\n  \n                        \n                        \n                      );\n      }\n    );/*]]>*/</script>\n    <div>\n      <span class=\"chart-total-item-count\"><p data-bind=\"text: value\"><script data-this=\"{&quot;valueId&quot;:&quot;anoncd097b089010e4952e64c2e0e9116c0b&quot;,&quot;initialValue&quot;:&quot;5&quot;}\" type=\"text/x-scoped-javascript\">/*<![CDATA[*/\nreq(\n['observable', 'knockout'],\nfunction (O, ko) {\n  ko.applyBindings({\n      value: O.makeObservable(valueId, initialValue)\n    },\n    this\n  );\n});\n        /*]]>*/</script></p> entries total</span>\n      <span class=\"chart-sampling-warning\"><p data-bind=\"text: value\"><script data-this=\"{&quot;valueId&quot;:&quot;anondc47958901a1824323e0bae75a5cd604&quot;,&quot;initialValue&quot;:&quot;&quot;}\" type=\"text/x-scoped-javascript\">/*<![CDATA[*/\nreq(\n['observable', 'knockout'],\nfunction (O, ko) {\n  ko.applyBindings({\n      value: O.makeObservable(valueId, initialValue)\n    },\n    this\n  );\n});\n        /*]]>*/</script></p></span>\n      <div>\n      </div>\n    </div></div>\n            </div><div class=\"tab-pane\" id=\"tab1962494979-1\">\n            <div>\n      <script data-this=\"{&quot;dataId&quot;:&quot;anonab51280b7375b627fef612b2db6c4dcb&quot;,&quot;dataInit&quot;:[{&quot;string value&quot;:&quot;A Resilient Distributed Dataset RDD the basic abstraction in Spark Represents an immutable partitioned collection of elements that can be operated on in parallel This class contains the basic operations available on all RDDs such as map filter and persist In addition PairRDDFunctions contains operations available only on RDDs of keyvalue pairs such as groupByKey and join DoubleRDDFunctions contains operations available only on RDDs of Doubles and SequenceFileRDDFunctions contains operations available on RDDs that can be saved as SequenceFiles&quot;},{&quot;string value&quot;:&quot;Internally each RDD is characterized by five main properties&quot;},{&quot;string value&quot;:&quot; A list of partitions  A function for computing each split  A list of dependencies on other RDDs  Optionally a Partitioner for keyvalue RDDs eg to say that the RDD is hashpartitioned  Optionally a list of preferred locations to compute each split on eg block locations for an HDFS file&quot;},{&quot;string value&quot;:&quot;All of the scheduling and execution in Spark is done based on these methods allowing each RDD to implement its own way of computing itself Indeed users can implement&quot;},{&quot;string value&quot;:&quot;custom RDDs eg for reading data from a new storage system by overriding these functions Please refer to the Spark paper for more details on RDD internals&quot;}],&quot;genId&quot;:&quot;1240835145&quot;}\" type=\"text/x-scoped-javascript\">/*<![CDATA[*/req(['../javascripts/notebook/playground','../javascripts/notebook/magic/pivotChart'], \n      function(playground, _magicpivotChart) {\n        // data ==> data-this (in observable.js's scopedEval) ==> this in JS => { dataId, dataInit, ... }\n        // this ==> scope (in observable.js's scopedEval) ==> this.parentElement ==> div.container below (toHtml)\n\n        playground.call(data,\n                        this\n                        ,\n                        {\n    \"f\": _magicpivotChart,\n    \"o\": {\"width\":600,\"height\":400,\"derivedAttributes\":{},\"extraOptions\":{}}\n  }\n  \n                        \n                        \n                      );\n      }\n    );/*]]>*/</script>\n    <div>\n      <span class=\"chart-total-item-count\"><p data-bind=\"text: value\"><script data-this=\"{&quot;valueId&quot;:&quot;anona7796730f0654049a67c74251d1332f5&quot;,&quot;initialValue&quot;:&quot;5&quot;}\" type=\"text/x-scoped-javascript\">/*<![CDATA[*/\nreq(\n['observable', 'knockout'],\nfunction (O, ko) {\n  ko.applyBindings({\n      value: O.makeObservable(valueId, initialValue)\n    },\n    this\n  );\n});\n        /*]]>*/</script></p> entries total</span>\n      <span class=\"chart-sampling-warning\"><p data-bind=\"text: value\"><script data-this=\"{&quot;valueId&quot;:&quot;anon46bdf6ea4798f47c9b931be7829d002b&quot;,&quot;initialValue&quot;:&quot;&quot;}\" type=\"text/x-scoped-javascript\">/*<![CDATA[*/\nreq(\n['observable', 'knockout'],\nfunction (O, ko) {\n  ko.applyBindings({\n      value: O.makeObservable(valueId, initialValue)\n    },\n    this\n  );\n});\n        /*]]>*/</script></p></span>\n      <div>\n      </div>\n    </div></div>\n            </div></div>\n      </div>\n    </div></div>"
          },
          "output_type" : "execute_result",
          "execution_count" : 15,
          "time" : "Took: 0.808s, at 2017-09-06 08:09"
        }
      ]
    },
    {
      "metadata" : {
        "id" : "3FF8C000B3E040C08FF3B713A5CC4B97"
      },
      "cell_type" : "markdown",
      "source" : "### Then, we split data into words and convert all into lower case. \n\nHere we use flatMap (simply equal to map() + \"flatten\" ). Here we want to transform an RDD of Array of String into an RDD of String and apply the function inside flatMap for each String. "
    },
    {
      "metadata" : {
        "trusted" : true,
        "input_collapsed" : false,
        "collapsed" : false,
        "id" : "2F99DB525A7A4BC789520B828E7FFD6F"
      },
      "cell_type" : "code",
      "source" : [
        "//val words = data_without_special_characters.flatMap(l => l.split(\" \").map(l => l.toLowerCase))\n",
        "val words = data_without_special_characters.flatMap(l => l.toLowerCase.split(\" \"))"
      ],
      "outputs" : [
        {
          "name" : "stdout",
          "output_type" : "stream",
          "text" : "words: org.apache.spark.rdd.RDD[String] = MapPartitionsRDD[15] at flatMap at <console>:72\n"
        },
        {
          "metadata" : { },
          "data" : {
            "text/html" : ""
          },
          "output_type" : "execute_result",
          "execution_count" : 27,
          "time" : "Took: 0.560s, at 2017-09-06 08:11"
        }
      ]
    },
    {
      "metadata" : {
        "trusted" : true,
        "input_collapsed" : false,
        "collapsed" : false,
        "presentation" : {
          "tabs_state" : "{\n  \"tab_id\": \"#tab424726568-0\"\n}",
          "pivot_chart_state" : "{\n  \"hiddenAttributes\": [],\n  \"menuLimit\": 200,\n  \"cols\": [],\n  \"rows\": [],\n  \"vals\": [],\n  \"exclusions\": {},\n  \"inclusions\": {},\n  \"unusedAttrsVertical\": 85,\n  \"autoSortUnusedAttrs\": false,\n  \"inclusionsInfo\": {},\n  \"aggregatorName\": \"Count\",\n  \"rendererName\": \"Table\"\n}"
        },
        "id" : "DCC367D8DEB344738DC8BFC2B676252A"
      },
      "cell_type" : "code",
      "source" : [
        "words.count()"
      ],
      "outputs" : [
        {
          "name" : "stdout",
          "output_type" : "stream",
          "text" : "res41: Long = 198\n"
        },
        {
          "metadata" : { },
          "data" : {
            "text/html" : "198"
          },
          "output_type" : "execute_result",
          "execution_count" : 29,
          "time" : "Took: 0.761s, at 2017-09-06 08:13"
        }
      ]
    },
    {
      "metadata" : {
        "id" : "302B27262E84467EBDB181BA26A03FD0"
      },
      "cell_type" : "markdown",
      "source" : "### We can now count by key to compute the number of occurences of each word\n\nTo do this, we have 2 ways to do :\n\n#### 1/ First option :\n\nFor each element in RDD, we add 1 column with value 1, then by key (word), we compute the sum of value by using reduceByKey. When we do \"_ + _\" means everytime we have same key (word), we do the sum of its values."
    },
    {
      "metadata" : {
        "trusted" : true,
        "input_collapsed" : false,
        "collapsed" : false,
        "presentation" : {
          "tabs_state" : "{\n  \"tab_id\": \"#tab102531648-3\"\n}",
          "pivot_chart_state" : "{\n  \"hiddenAttributes\": [],\n  \"menuLimit\": 200,\n  \"cols\": [],\n  \"rows\": [],\n  \"vals\": [\n    \"_1\"\n  ],\n  \"exclusions\": {},\n  \"inclusions\": {},\n  \"unusedAttrsVertical\": 85,\n  \"autoSortUnusedAttrs\": false,\n  \"inclusionsInfo\": {},\n  \"aggregatorName\": \"Integer Sum\",\n  \"rendererName\": \"Table\"\n}"
        },
        "id" : "CF099AB943CE4C7795272C07CEBA5442"
      },
      "cell_type" : "code",
      "source" : [
        "val wordCount = words.map(l => (l, 1)).reduceByKey(_ + _)\n",
        "\n"
      ],
      "outputs" : [
        {
          "name" : "stdout",
          "output_type" : "stream",
          "text" : "wordCount: org.apache.spark.rdd.RDD[(String, Int)] = ShuffledRDD[42] at reduceByKey at <console>:73\n"
        },
        {
          "metadata" : { },
          "data" : {
            "text/html" : ""
          },
          "output_type" : "execute_result",
          "execution_count" : 44,
          "time" : "Took: 0.685s, at 2017-09-06 08:24"
        }
      ]
    },
    {
      "metadata" : {
        "id" : "D7EB98FEFBC34C7E809486F9859A2026"
      },
      "cell_type" : "markdown",
      "source" : "#### 2/ Second option :\n\nWe do the same, for each element in RDD, we map with value 1. Then we groupByKey and compute the sum of list of the value"
    },
    {
      "metadata" : {
        "trusted" : true,
        "input_collapsed" : false,
        "collapsed" : false,
        "id" : "2E12AAAC9B784155B4A0950F561B39DE"
      },
      "cell_type" : "code",
      "source" : [
        "val wordCount = words.map(l => (l, 1)).groupByKey().map(l => (l._1, l._2.toList.sum))"
      ],
      "outputs" : [
        {
          "name" : "stdout",
          "output_type" : "stream",
          "text" : "wordCount: org.apache.spark.rdd.RDD[(String, Int)] = MapPartitionsRDD[36] at map at <console>:73\n"
        },
        {
          "metadata" : { },
          "data" : {
            "text/html" : ""
          },
          "output_type" : "execute_result",
          "execution_count" : 41,
          "time" : "Took: 0.630s, at 2017-09-06 08:24"
        }
      ]
    },
    {
      "metadata" : {
        "id" : "C0B137BCDC5B47329C6DC4CF8EF999F6"
      },
      "cell_type" : "markdown",
      "source" : "### For example if we want to find the count of \"is\", we can also do filter"
    },
    {
      "metadata" : {
        "trusted" : true,
        "input_collapsed" : false,
        "collapsed" : false,
        "presentation" : {
          "tabs_state" : "{\n  \"tab_id\": \"#tab1434551494-0\"\n}",
          "pivot_chart_state" : "{\n  \"hiddenAttributes\": [],\n  \"menuLimit\": 200,\n  \"cols\": [],\n  \"rows\": [],\n  \"vals\": [],\n  \"exclusions\": {},\n  \"inclusions\": {},\n  \"unusedAttrsVertical\": 85,\n  \"autoSortUnusedAttrs\": false,\n  \"inclusionsInfo\": {},\n  \"aggregatorName\": \"Count\",\n  \"rendererName\": \"Table\"\n}"
        },
        "id" : "B65D3F596049480D869EE3179A394C70"
      },
      "cell_type" : "code",
      "source" : [
        "wordCount.filter(l => l._1 == \"is\").take(10).take(1)"
      ],
      "outputs" : [
        {
          "name" : "stdout",
          "output_type" : "stream",
          "text" : "res69: Array[(String, Int)] = Array((is,3))\n"
        },
        {
          "metadata" : { },
          "data" : {
            "text/html" : "<div>\n      <script data-this=\"{&quot;dataId&quot;:&quot;anon17c54a3b39df3f7c52dfa65a7aeb3ddc&quot;,&quot;dataInit&quot;:[],&quot;genId&quot;:&quot;1434551494&quot;}\" type=\"text/x-scoped-javascript\">/*<![CDATA[*/req(['../javascripts/notebook/playground','../javascripts/notebook/magic/tabs'], \n      function(playground, _magictabs) {\n        // data ==> data-this (in observable.js's scopedEval) ==> this in JS => { dataId, dataInit, ... }\n        // this ==> scope (in observable.js's scopedEval) ==> this.parentElement ==> div.container below (toHtml)\n\n        playground.call(data,\n                        this\n                        ,\n                        {\n    \"f\": _magictabs,\n    \"o\": {}\n  }\n  \n                        \n                        \n                      );\n      }\n    );/*]]>*/</script>\n    <div>\n      <div>\n        <ul class=\"nav nav-tabs\" id=\"ul1434551494\"><li>\n              <a href=\"#tab1434551494-0\"><i class=\"fa fa-table\"/></a>\n            </li><li>\n              <a href=\"#tab1434551494-1\"><i class=\"fa fa-bar-chart\"/></a>\n            </li><li>\n              <a href=\"#tab1434551494-2\"><i class=\"fa fa-pie-chart\"/></a>\n            </li><li>\n              <a href=\"#tab1434551494-3\"><i class=\"fa fa-cubes\"/></a>\n            </li></ul>\n\n        <div class=\"tab-content\" id=\"tab1434551494\"><div class=\"tab-pane\" id=\"tab1434551494-0\">\n            <div>\n      <script data-this=\"{&quot;dataId&quot;:&quot;anon8b0c4eecf28972163188ded67b001ee4&quot;,&quot;dataInit&quot;:[{&quot;_1&quot;:&quot;is&quot;,&quot;_2&quot;:3}],&quot;genId&quot;:&quot;976410847&quot;}\" type=\"text/x-scoped-javascript\">/*<![CDATA[*/req(['../javascripts/notebook/playground','../javascripts/notebook/magic/tableChart'], \n      function(playground, _magictableChart) {\n        // data ==> data-this (in observable.js's scopedEval) ==> this in JS => { dataId, dataInit, ... }\n        // this ==> scope (in observable.js's scopedEval) ==> this.parentElement ==> div.container below (toHtml)\n\n        playground.call(data,\n                        this\n                        ,\n                        {\n    \"f\": _magictableChart,\n    \"o\": {\"headers\":[\"_1\",\"_2\"],\"width\":600,\"height\":400}\n  }\n  \n                        \n                        \n                      );\n      }\n    );/*]]>*/</script>\n    <div>\n      <span class=\"chart-total-item-count\"><p data-bind=\"text: value\"><script data-this=\"{&quot;valueId&quot;:&quot;anon81df15b648e3a0186809f6866980d55d&quot;,&quot;initialValue&quot;:&quot;1&quot;}\" type=\"text/x-scoped-javascript\">/*<![CDATA[*/\nreq(\n['observable', 'knockout'],\nfunction (O, ko) {\n  ko.applyBindings({\n      value: O.makeObservable(valueId, initialValue)\n    },\n    this\n  );\n});\n        /*]]>*/</script></p> entries total</span>\n      <span class=\"chart-sampling-warning\"><p data-bind=\"text: value\"><script data-this=\"{&quot;valueId&quot;:&quot;anon7876fbdcbd334e964adfeb8706c29b21&quot;,&quot;initialValue&quot;:&quot;&quot;}\" type=\"text/x-scoped-javascript\">/*<![CDATA[*/\nreq(\n['observable', 'knockout'],\nfunction (O, ko) {\n  ko.applyBindings({\n      value: O.makeObservable(valueId, initialValue)\n    },\n    this\n  );\n});\n        /*]]>*/</script></p></span>\n      <div>\n      </div>\n    </div></div>\n            </div><div class=\"tab-pane\" id=\"tab1434551494-1\">\n            <div>\n      <script data-this=\"{&quot;dataId&quot;:&quot;anonb47fc0fc5accbc4d25af671e55a996e7&quot;,&quot;dataInit&quot;:[{&quot;_1&quot;:&quot;is&quot;,&quot;_2&quot;:3}],&quot;genId&quot;:&quot;1304969507&quot;}\" type=\"text/x-scoped-javascript\">/*<![CDATA[*/req(['../javascripts/notebook/playground','../javascripts/notebook/magic/barChart'], \n      function(playground, _magicbarChart) {\n        // data ==> data-this (in observable.js's scopedEval) ==> this in JS => { dataId, dataInit, ... }\n        // this ==> scope (in observable.js's scopedEval) ==> this.parentElement ==> div.container below (toHtml)\n\n        playground.call(data,\n                        this\n                        ,\n                        {\n    \"f\": _magicbarChart,\n    \"o\": {\"x\":\"_1\",\"y\":\"_2\",\"width\":600,\"height\":400}\n  }\n  \n                        \n                        \n                      );\n      }\n    );/*]]>*/</script>\n    <div>\n      <span class=\"chart-total-item-count\"><p data-bind=\"text: value\"><script data-this=\"{&quot;valueId&quot;:&quot;anon9e8c25b646e7101587051dedfb5be0b0&quot;,&quot;initialValue&quot;:&quot;1&quot;}\" type=\"text/x-scoped-javascript\">/*<![CDATA[*/\nreq(\n['observable', 'knockout'],\nfunction (O, ko) {\n  ko.applyBindings({\n      value: O.makeObservable(valueId, initialValue)\n    },\n    this\n  );\n});\n        /*]]>*/</script></p> entries total</span>\n      <span class=\"chart-sampling-warning\"><p data-bind=\"text: value\"><script data-this=\"{&quot;valueId&quot;:&quot;anond41a6798d63ede3d08084ec86a334a9c&quot;,&quot;initialValue&quot;:&quot;&quot;}\" type=\"text/x-scoped-javascript\">/*<![CDATA[*/\nreq(\n['observable', 'knockout'],\nfunction (O, ko) {\n  ko.applyBindings({\n      value: O.makeObservable(valueId, initialValue)\n    },\n    this\n  );\n});\n        /*]]>*/</script></p></span>\n      <div>\n      </div>\n    </div></div>\n            </div><div class=\"tab-pane\" id=\"tab1434551494-2\">\n            <div>\n      <script data-this=\"{&quot;dataId&quot;:&quot;anon25f4bb7ab375bb14fff1eed35e628fd9&quot;,&quot;dataInit&quot;:[{&quot;_1&quot;:&quot;is&quot;,&quot;_2&quot;:3}],&quot;genId&quot;:&quot;23973655&quot;}\" type=\"text/x-scoped-javascript\">/*<![CDATA[*/req(['../javascripts/notebook/playground','../javascripts/notebook/magic/pieChart'], \n      function(playground, _magicpieChart) {\n        // data ==> data-this (in observable.js's scopedEval) ==> this in JS => { dataId, dataInit, ... }\n        // this ==> scope (in observable.js's scopedEval) ==> this.parentElement ==> div.container below (toHtml)\n\n        playground.call(data,\n                        this\n                        ,\n                        {\n    \"f\": _magicpieChart,\n    \"o\": {\"series\":\"_1\",\"p\":\"_2\",\"width\":600,\"height\":400}\n  }\n  \n                        \n                        \n                      );\n      }\n    );/*]]>*/</script>\n    <div>\n      <span class=\"chart-total-item-count\"><p data-bind=\"text: value\"><script data-this=\"{&quot;valueId&quot;:&quot;anoncf85a65de71eb6c38ca0d34ba8c0b29f&quot;,&quot;initialValue&quot;:&quot;1&quot;}\" type=\"text/x-scoped-javascript\">/*<![CDATA[*/\nreq(\n['observable', 'knockout'],\nfunction (O, ko) {\n  ko.applyBindings({\n      value: O.makeObservable(valueId, initialValue)\n    },\n    this\n  );\n});\n        /*]]>*/</script></p> entries total</span>\n      <span class=\"chart-sampling-warning\"><p data-bind=\"text: value\"><script data-this=\"{&quot;valueId&quot;:&quot;anon27969e42597d35f4ee443b3c7439c4ee&quot;,&quot;initialValue&quot;:&quot;&quot;}\" type=\"text/x-scoped-javascript\">/*<![CDATA[*/\nreq(\n['observable', 'knockout'],\nfunction (O, ko) {\n  ko.applyBindings({\n      value: O.makeObservable(valueId, initialValue)\n    },\n    this\n  );\n});\n        /*]]>*/</script></p></span>\n      <div>\n      </div>\n    </div></div>\n            </div><div class=\"tab-pane\" id=\"tab1434551494-3\">\n            <div>\n      <script data-this=\"{&quot;dataId&quot;:&quot;anon77dba48e2a4bfb1d18d490dbfca9b3e5&quot;,&quot;dataInit&quot;:[{&quot;_1&quot;:&quot;is&quot;,&quot;_2&quot;:3}],&quot;genId&quot;:&quot;389277730&quot;}\" type=\"text/x-scoped-javascript\">/*<![CDATA[*/req(['../javascripts/notebook/playground','../javascripts/notebook/magic/pivotChart'], \n      function(playground, _magicpivotChart) {\n        // data ==> data-this (in observable.js's scopedEval) ==> this in JS => { dataId, dataInit, ... }\n        // this ==> scope (in observable.js's scopedEval) ==> this.parentElement ==> div.container below (toHtml)\n\n        playground.call(data,\n                        this\n                        ,\n                        {\n    \"f\": _magicpivotChart,\n    \"o\": {\"width\":600,\"height\":400,\"derivedAttributes\":{},\"extraOptions\":{}}\n  }\n  \n                        \n                        \n                      );\n      }\n    );/*]]>*/</script>\n    <div>\n      <span class=\"chart-total-item-count\"><p data-bind=\"text: value\"><script data-this=\"{&quot;valueId&quot;:&quot;anonb47e79c350c422ff3f9f640351b35d14&quot;,&quot;initialValue&quot;:&quot;1&quot;}\" type=\"text/x-scoped-javascript\">/*<![CDATA[*/\nreq(\n['observable', 'knockout'],\nfunction (O, ko) {\n  ko.applyBindings({\n      value: O.makeObservable(valueId, initialValue)\n    },\n    this\n  );\n});\n        /*]]>*/</script></p> entries total</span>\n      <span class=\"chart-sampling-warning\"><p data-bind=\"text: value\"><script data-this=\"{&quot;valueId&quot;:&quot;anon096dc3e86d0d030b065ebbac7abf1c5e&quot;,&quot;initialValue&quot;:&quot;&quot;}\" type=\"text/x-scoped-javascript\">/*<![CDATA[*/\nreq(\n['observable', 'knockout'],\nfunction (O, ko) {\n  ko.applyBindings({\n      value: O.makeObservable(valueId, initialValue)\n    },\n    this\n  );\n});\n        /*]]>*/</script></p></span>\n      <div>\n      </div>\n    </div></div>\n            </div></div>\n      </div>\n    </div></div>"
          },
          "output_type" : "execute_result",
          "execution_count" : 48,
          "time" : "Took: 0.849s, at 2017-09-06 08:25"
        }
      ]
    },
    {
      "metadata" : {
        "id" : "3B8E0DF4D87F4A07AD9439F2DA1421C3"
      },
      "cell_type" : "markdown",
      "source" : "### So without any filter, the output will be "
    },
    {
      "metadata" : {
        "trusted" : true,
        "input_collapsed" : false,
        "collapsed" : false,
        "presentation" : {
          "tabs_state" : "{\n  \"tab_id\": \"#tab1952622027-2\"\n}",
          "pivot_chart_state" : "{\n  \"hiddenAttributes\": [],\n  \"menuLimit\": 200,\n  \"cols\": [],\n  \"rows\": [],\n  \"vals\": [\n    \"_1\"\n  ],\n  \"exclusions\": {},\n  \"inclusions\": {},\n  \"unusedAttrsVertical\": 85,\n  \"autoSortUnusedAttrs\": false,\n  \"inclusionsInfo\": {},\n  \"aggregatorName\": \"Count Unique Values\",\n  \"rendererName\": \"Scatter Chart\"\n}"
        },
        "id" : "AA346D5DB42C487BA3DA2705D902A04A"
      },
      "cell_type" : "code",
      "source" : [
        "wordCount.take(10)"
      ],
      "outputs" : [
        {
          "name" : "stdout",
          "output_type" : "stream",
          "text" : "res23: Array[(String, Int)] = Array((reading,1), (this,1), (paper,1), (doublerddfunctions,1), (collection,1), (internally,1), (its,1), (is,3), (sequencefiles,1), (persist,1))\n"
        },
        {
          "metadata" : { },
          "data" : {
            "text/html" : "<div>\n      <script data-this=\"{&quot;dataId&quot;:&quot;anon4c697b76cb4157cb5dc0ec9b482cfea7&quot;,&quot;dataInit&quot;:[],&quot;genId&quot;:&quot;1952622027&quot;}\" type=\"text/x-scoped-javascript\">/*<![CDATA[*/req(['../javascripts/notebook/playground','../javascripts/notebook/magic/tabs'], \n      function(playground, _magictabs) {\n        // data ==> data-this (in observable.js's scopedEval) ==> this in JS => { dataId, dataInit, ... }\n        // this ==> scope (in observable.js's scopedEval) ==> this.parentElement ==> div.container below (toHtml)\n\n        playground.call(data,\n                        this\n                        ,\n                        {\n    \"f\": _magictabs,\n    \"o\": {}\n  }\n  \n                        \n                        \n                      );\n      }\n    );/*]]>*/</script>\n    <div>\n      <div>\n        <ul class=\"nav nav-tabs\" id=\"ul1952622027\"><li>\n              <a href=\"#tab1952622027-0\"><i class=\"fa fa-table\"/></a>\n            </li><li>\n              <a href=\"#tab1952622027-1\"><i class=\"fa fa-bar-chart\"/></a>\n            </li><li>\n              <a href=\"#tab1952622027-2\"><i class=\"fa fa-pie-chart\"/></a>\n            </li><li>\n              <a href=\"#tab1952622027-3\"><i class=\"fa fa-cubes\"/></a>\n            </li></ul>\n\n        <div class=\"tab-content\" id=\"tab1952622027\"><div class=\"tab-pane\" id=\"tab1952622027-0\">\n            <div>\n      <script data-this=\"{&quot;dataId&quot;:&quot;anon698a09db1d7e1bc0018a2fee4ad89f00&quot;,&quot;dataInit&quot;:[{&quot;_1&quot;:&quot;reading&quot;,&quot;_2&quot;:1},{&quot;_1&quot;:&quot;this&quot;,&quot;_2&quot;:1},{&quot;_1&quot;:&quot;paper&quot;,&quot;_2&quot;:1},{&quot;_1&quot;:&quot;doublerddfunctions&quot;,&quot;_2&quot;:1},{&quot;_1&quot;:&quot;collection&quot;,&quot;_2&quot;:1},{&quot;_1&quot;:&quot;internally&quot;,&quot;_2&quot;:1},{&quot;_1&quot;:&quot;its&quot;,&quot;_2&quot;:1},{&quot;_1&quot;:&quot;is&quot;,&quot;_2&quot;:3},{&quot;_1&quot;:&quot;sequencefiles&quot;,&quot;_2&quot;:1},{&quot;_1&quot;:&quot;persist&quot;,&quot;_2&quot;:1}],&quot;genId&quot;:&quot;2103246242&quot;}\" type=\"text/x-scoped-javascript\">/*<![CDATA[*/req(['../javascripts/notebook/playground','../javascripts/notebook/magic/tableChart'], \n      function(playground, _magictableChart) {\n        // data ==> data-this (in observable.js's scopedEval) ==> this in JS => { dataId, dataInit, ... }\n        // this ==> scope (in observable.js's scopedEval) ==> this.parentElement ==> div.container below (toHtml)\n\n        playground.call(data,\n                        this\n                        ,\n                        {\n    \"f\": _magictableChart,\n    \"o\": {\"headers\":[\"_1\",\"_2\"],\"width\":600,\"height\":400}\n  }\n  \n                        \n                        \n                      );\n      }\n    );/*]]>*/</script>\n    <div>\n      <span class=\"chart-total-item-count\"><p data-bind=\"text: value\"><script data-this=\"{&quot;valueId&quot;:&quot;anon04c189a14f96ab4a169341c1c2a7fc4d&quot;,&quot;initialValue&quot;:&quot;10&quot;}\" type=\"text/x-scoped-javascript\">/*<![CDATA[*/\nreq(\n['observable', 'knockout'],\nfunction (O, ko) {\n  ko.applyBindings({\n      value: O.makeObservable(valueId, initialValue)\n    },\n    this\n  );\n});\n        /*]]>*/</script></p> entries total</span>\n      <span class=\"chart-sampling-warning\"><p data-bind=\"text: value\"><script data-this=\"{&quot;valueId&quot;:&quot;anon6435d5fd4f54736355797aca40841c4f&quot;,&quot;initialValue&quot;:&quot;&quot;}\" type=\"text/x-scoped-javascript\">/*<![CDATA[*/\nreq(\n['observable', 'knockout'],\nfunction (O, ko) {\n  ko.applyBindings({\n      value: O.makeObservable(valueId, initialValue)\n    },\n    this\n  );\n});\n        /*]]>*/</script></p></span>\n      <div>\n      </div>\n    </div></div>\n            </div><div class=\"tab-pane\" id=\"tab1952622027-1\">\n            <div>\n      <script data-this=\"{&quot;dataId&quot;:&quot;anon2328f6b3ba97e018f0bd0d27cfcc2cac&quot;,&quot;dataInit&quot;:[{&quot;_1&quot;:&quot;reading&quot;,&quot;_2&quot;:1},{&quot;_1&quot;:&quot;this&quot;,&quot;_2&quot;:1},{&quot;_1&quot;:&quot;paper&quot;,&quot;_2&quot;:1},{&quot;_1&quot;:&quot;doublerddfunctions&quot;,&quot;_2&quot;:1},{&quot;_1&quot;:&quot;collection&quot;,&quot;_2&quot;:1},{&quot;_1&quot;:&quot;internally&quot;,&quot;_2&quot;:1},{&quot;_1&quot;:&quot;its&quot;,&quot;_2&quot;:1},{&quot;_1&quot;:&quot;is&quot;,&quot;_2&quot;:3},{&quot;_1&quot;:&quot;sequencefiles&quot;,&quot;_2&quot;:1},{&quot;_1&quot;:&quot;persist&quot;,&quot;_2&quot;:1}],&quot;genId&quot;:&quot;661509372&quot;}\" type=\"text/x-scoped-javascript\">/*<![CDATA[*/req(['../javascripts/notebook/playground','../javascripts/notebook/magic/barChart'], \n      function(playground, _magicbarChart) {\n        // data ==> data-this (in observable.js's scopedEval) ==> this in JS => { dataId, dataInit, ... }\n        // this ==> scope (in observable.js's scopedEval) ==> this.parentElement ==> div.container below (toHtml)\n\n        playground.call(data,\n                        this\n                        ,\n                        {\n    \"f\": _magicbarChart,\n    \"o\": {\"x\":\"_1\",\"y\":\"_2\",\"width\":600,\"height\":400}\n  }\n  \n                        \n                        \n                      );\n      }\n    );/*]]>*/</script>\n    <div>\n      <span class=\"chart-total-item-count\"><p data-bind=\"text: value\"><script data-this=\"{&quot;valueId&quot;:&quot;anonb49cb12d5335225576fa644e4f1f7667&quot;,&quot;initialValue&quot;:&quot;10&quot;}\" type=\"text/x-scoped-javascript\">/*<![CDATA[*/\nreq(\n['observable', 'knockout'],\nfunction (O, ko) {\n  ko.applyBindings({\n      value: O.makeObservable(valueId, initialValue)\n    },\n    this\n  );\n});\n        /*]]>*/</script></p> entries total</span>\n      <span class=\"chart-sampling-warning\"><p data-bind=\"text: value\"><script data-this=\"{&quot;valueId&quot;:&quot;anoneb5688c6a6e65d7c180394ba81e3547b&quot;,&quot;initialValue&quot;:&quot;&quot;}\" type=\"text/x-scoped-javascript\">/*<![CDATA[*/\nreq(\n['observable', 'knockout'],\nfunction (O, ko) {\n  ko.applyBindings({\n      value: O.makeObservable(valueId, initialValue)\n    },\n    this\n  );\n});\n        /*]]>*/</script></p></span>\n      <div>\n      </div>\n    </div></div>\n            </div><div class=\"tab-pane\" id=\"tab1952622027-2\">\n            <div>\n      <script data-this=\"{&quot;dataId&quot;:&quot;anon4c309025cb824c125cd0c222c377f023&quot;,&quot;dataInit&quot;:[{&quot;_1&quot;:&quot;reading&quot;,&quot;_2&quot;:1},{&quot;_1&quot;:&quot;this&quot;,&quot;_2&quot;:1},{&quot;_1&quot;:&quot;paper&quot;,&quot;_2&quot;:1},{&quot;_1&quot;:&quot;doublerddfunctions&quot;,&quot;_2&quot;:1},{&quot;_1&quot;:&quot;collection&quot;,&quot;_2&quot;:1},{&quot;_1&quot;:&quot;internally&quot;,&quot;_2&quot;:1},{&quot;_1&quot;:&quot;its&quot;,&quot;_2&quot;:1},{&quot;_1&quot;:&quot;is&quot;,&quot;_2&quot;:3},{&quot;_1&quot;:&quot;sequencefiles&quot;,&quot;_2&quot;:1},{&quot;_1&quot;:&quot;persist&quot;,&quot;_2&quot;:1}],&quot;genId&quot;:&quot;1142935439&quot;}\" type=\"text/x-scoped-javascript\">/*<![CDATA[*/req(['../javascripts/notebook/playground','../javascripts/notebook/magic/pieChart'], \n      function(playground, _magicpieChart) {\n        // data ==> data-this (in observable.js's scopedEval) ==> this in JS => { dataId, dataInit, ... }\n        // this ==> scope (in observable.js's scopedEval) ==> this.parentElement ==> div.container below (toHtml)\n\n        playground.call(data,\n                        this\n                        ,\n                        {\n    \"f\": _magicpieChart,\n    \"o\": {\"series\":\"_1\",\"p\":\"_2\",\"width\":600,\"height\":400}\n  }\n  \n                        \n                        \n                      );\n      }\n    );/*]]>*/</script>\n    <div>\n      <span class=\"chart-total-item-count\"><p data-bind=\"text: value\"><script data-this=\"{&quot;valueId&quot;:&quot;anon8321207f71f6b669a3496515ca3d6cd5&quot;,&quot;initialValue&quot;:&quot;10&quot;}\" type=\"text/x-scoped-javascript\">/*<![CDATA[*/\nreq(\n['observable', 'knockout'],\nfunction (O, ko) {\n  ko.applyBindings({\n      value: O.makeObservable(valueId, initialValue)\n    },\n    this\n  );\n});\n        /*]]>*/</script></p> entries total</span>\n      <span class=\"chart-sampling-warning\"><p data-bind=\"text: value\"><script data-this=\"{&quot;valueId&quot;:&quot;anon9670eb82235674954abc43f86e8204d9&quot;,&quot;initialValue&quot;:&quot;&quot;}\" type=\"text/x-scoped-javascript\">/*<![CDATA[*/\nreq(\n['observable', 'knockout'],\nfunction (O, ko) {\n  ko.applyBindings({\n      value: O.makeObservable(valueId, initialValue)\n    },\n    this\n  );\n});\n        /*]]>*/</script></p></span>\n      <div>\n      </div>\n    </div></div>\n            </div><div class=\"tab-pane\" id=\"tab1952622027-3\">\n            <div>\n      <script data-this=\"{&quot;dataId&quot;:&quot;anonc5faa1b9aa22b485736115c96b62ea05&quot;,&quot;dataInit&quot;:[{&quot;_1&quot;:&quot;reading&quot;,&quot;_2&quot;:1},{&quot;_1&quot;:&quot;this&quot;,&quot;_2&quot;:1},{&quot;_1&quot;:&quot;paper&quot;,&quot;_2&quot;:1},{&quot;_1&quot;:&quot;doublerddfunctions&quot;,&quot;_2&quot;:1},{&quot;_1&quot;:&quot;collection&quot;,&quot;_2&quot;:1},{&quot;_1&quot;:&quot;internally&quot;,&quot;_2&quot;:1},{&quot;_1&quot;:&quot;its&quot;,&quot;_2&quot;:1},{&quot;_1&quot;:&quot;is&quot;,&quot;_2&quot;:3},{&quot;_1&quot;:&quot;sequencefiles&quot;,&quot;_2&quot;:1},{&quot;_1&quot;:&quot;persist&quot;,&quot;_2&quot;:1}],&quot;genId&quot;:&quot;559481931&quot;}\" type=\"text/x-scoped-javascript\">/*<![CDATA[*/req(['../javascripts/notebook/playground','../javascripts/notebook/magic/pivotChart'], \n      function(playground, _magicpivotChart) {\n        // data ==> data-this (in observable.js's scopedEval) ==> this in JS => { dataId, dataInit, ... }\n        // this ==> scope (in observable.js's scopedEval) ==> this.parentElement ==> div.container below (toHtml)\n\n        playground.call(data,\n                        this\n                        ,\n                        {\n    \"f\": _magicpivotChart,\n    \"o\": {\"width\":600,\"height\":400,\"derivedAttributes\":{},\"extraOptions\":{}}\n  }\n  \n                        \n                        \n                      );\n      }\n    );/*]]>*/</script>\n    <div>\n      <span class=\"chart-total-item-count\"><p data-bind=\"text: value\"><script data-this=\"{&quot;valueId&quot;:&quot;anone8c24beea7b87addcb5f37f3cc7c8828&quot;,&quot;initialValue&quot;:&quot;10&quot;}\" type=\"text/x-scoped-javascript\">/*<![CDATA[*/\nreq(\n['observable', 'knockout'],\nfunction (O, ko) {\n  ko.applyBindings({\n      value: O.makeObservable(valueId, initialValue)\n    },\n    this\n  );\n});\n        /*]]>*/</script></p> entries total</span>\n      <span class=\"chart-sampling-warning\"><p data-bind=\"text: value\"><script data-this=\"{&quot;valueId&quot;:&quot;anonbbc19a0ca9e2fe410087903e2f5d9ee7&quot;,&quot;initialValue&quot;:&quot;&quot;}\" type=\"text/x-scoped-javascript\">/*<![CDATA[*/\nreq(\n['observable', 'knockout'],\nfunction (O, ko) {\n  ko.applyBindings({\n      value: O.makeObservable(valueId, initialValue)\n    },\n    this\n  );\n});\n        /*]]>*/</script></p></span>\n      <div>\n      </div>\n    </div></div>\n            </div></div>\n      </div>\n    </div></div>"
          },
          "output_type" : "execute_result",
          "execution_count" : 15,
          "time" : "Took: 0.928s, at 2017-09-04 10:43"
        }
      ]
    },
    {
      "metadata" : {
        "trusted" : true,
        "input_collapsed" : false,
        "collapsed" : true,
        "id" : "95ED7161E4CC48FB89BD6F60B0528C7A"
      },
      "cell_type" : "markdown",
      "source" : "### From RDD to DataFrame and Dataset\n\nWe can convert RDD to Dataset or DataFrame. In fact, in Spark, these 3 APIs (RDD, DataFrame ans Dataset) are the three types officially used. They can convert to each other. \n\nTo understand thoroughly when to use them, you can read at https://databricks.com/blog/2016/07/14/a-tale-of-three-apache-spark-apis-rdds-dataframes-and-datasets.html"
    },
    {
      "metadata" : {
        "id" : "0AB3728226A9467DB5FFE11D54EECEC9"
      },
      "cell_type" : "markdown",
      "source" : "#### From RDD to DataFrame"
    },
    {
      "metadata" : {
        "trusted" : true,
        "input_collapsed" : false,
        "collapsed" : false,
        "id" : "D565BD70228545D38AAA6730541DB835"
      },
      "cell_type" : "code",
      "source" : [
        "val sqlContext = new SQLContext(sc) \n",
        "import sqlContext.implicits._\n",
        "wordCount.collect()\n",
        "val df = wordCount.toDF(\"word\", \"count\")"
      ],
      "outputs" : [
        {
          "name" : "stdout",
          "output_type" : "stream",
          "text" : "<console>:75: warning: constructor SQLContext in class SQLContext is deprecated: Use SparkSession.builder instead\n       val sqlContext = new SQLContext(sc)\n                        ^\nsqlContext: org.apache.spark.sql.SQLContext = org.apache.spark.sql.SQLContext@7488525f\nimport sqlContext.implicits._\ndf: org.apache.spark.sql.DataFrame = [word: string, count: int]\n"
        },
        {
          "metadata" : { },
          "data" : {
            "text/html" : ""
          },
          "output_type" : "execute_result",
          "execution_count" : 49,
          "time" : "Took: 2.406s, at 2017-09-06 08:26"
        }
      ]
    },
    {
      "metadata" : {
        "trusted" : true,
        "input_collapsed" : false,
        "collapsed" : false,
        "id" : "DDF142AB89714CAA8083D7763D14C05A"
      },
      "cell_type" : "code",
      "source" : [
        "df.show()"
      ],
      "outputs" : [
        {
          "name" : "stdout",
          "output_type" : "stream",
          "text" : "+--------------------+-----+\n|                word|count|\n+--------------------+-----+\n|             reading|    1|\n|                this|    1|\n|               paper|    1|\n|  doublerddfunctions|    1|\n|          collection|    1|\n|          internally|    1|\n|                 its|    1|\n|                  is|    3|\n|       sequencefiles|    1|\n|             persist|    1|\n|                only|    2|\n|                data|    1|\n|         abstraction|    1|\n|           internals|    1|\n|               basic|    2|\n|                 map|    1|\n|sequencefilerddfu...|    1|\n|               class|    1|\n|             methods|    1|\n|          scheduling|    1|\n+--------------------+-----+\nonly showing top 20 rows\n\n"
        },
        {
          "metadata" : { },
          "data" : {
            "text/html" : ""
          },
          "output_type" : "execute_result",
          "execution_count" : 21,
          "time" : "Took: 1.570s, at 2017-08-29 12:50"
        }
      ]
    },
    {
      "metadata" : {
        "id" : "7E32A51004054ABB8873F4DE873E86E3"
      },
      "cell_type" : "markdown",
      "source" : "#### From RDD to Dataset"
    },
    {
      "metadata" : {
        "trusted" : true,
        "input_collapsed" : false,
        "collapsed" : false,
        "id" : "04161E75C8DE414F80DB56E6FC3BAA04"
      },
      "cell_type" : "code",
      "source" : [
        "import org.apache.spark.sql.types.{DoubleType, StringType, StructField, StructType}\n",
        "import org.apache.spark.sql.{Row, SparkSession}"
      ],
      "outputs" : [
        {
          "name" : "stdout",
          "output_type" : "stream",
          "text" : "import org.apache.spark.sql.types.{DoubleType, StringType, StructField, StructType}\nimport org.apache.spark.sql.{Row, SparkSession}\n"
        },
        {
          "metadata" : { },
          "data" : {
            "text/html" : ""
          },
          "output_type" : "execute_result",
          "execution_count" : 22,
          "time" : "Took: 0.706s, at 2017-08-29 12:51"
        }
      ]
    },
    {
      "metadata" : {
        "trusted" : true,
        "input_collapsed" : false,
        "collapsed" : false,
        "id" : "9E44A8AFEB4C4CDD99479C2882A78F8C"
      },
      "cell_type" : "code",
      "source" : [
        "val sparkSession = SparkSession.builder\n",
        "      .master(\"local\")\n",
        "      .appName(\"example\")\n",
        "      .getOrCreate()\n",
        "\n",
        "val sparkContext = sparkSession.sparkContext\n",
        "import sparkSession.implicits._"
      ],
      "outputs" : [
        {
          "name" : "stdout",
          "output_type" : "stream",
          "text" : "sparkSession: org.apache.spark.sql.SparkSession = org.apache.spark.sql.SparkSession@4925c3d7\nsparkContext: org.apache.spark.SparkContext = org.apache.spark.SparkContext@2405fc0d\nimport sparkSession.implicits._\n"
        },
        {
          "metadata" : { },
          "data" : {
            "text/html" : ""
          },
          "output_type" : "execute_result",
          "execution_count" : 23,
          "time" : "Took: 1.327s, at 2017-08-29 12:52"
        }
      ]
    },
    {
      "metadata" : {
        "trusted" : true,
        "input_collapsed" : false,
        "collapsed" : false,
        "id" : "3263428CFDB047E984D0E9F30CA17B50"
      },
      "cell_type" : "code",
      "source" : [
        "val dataset = words_with_nbOccurences.toDS()"
      ],
      "outputs" : [
        {
          "name" : "stdout",
          "output_type" : "stream",
          "text" : "dataset: org.apache.spark.sql.Dataset[(String, Int)] = [_1: string, _2: int]\n"
        },
        {
          "metadata" : { },
          "data" : {
            "text/html" : ""
          },
          "output_type" : "execute_result",
          "execution_count" : 3,
          "time" : "Took: 0.843s, at 2017-08-29 12:54"
        }
      ]
    },
    {
      "metadata" : {
        "trusted" : true,
        "input_collapsed" : false,
        "collapsed" : false,
        "id" : "7B4438CBC26D43A99D7E15A5B444DF5A"
      },
      "cell_type" : "code",
      "source" : [
        "dataset.show()"
      ],
      "outputs" : [
        {
          "name" : "stdout",
          "output_type" : "stream",
          "text" : "+--------------------+---+\n|                  _1| _2|\n+--------------------+---+\n|             reading|  1|\n|                this|  1|\n|               paper|  1|\n|  doublerddfunctions|  1|\n|          collection|  1|\n|          internally|  1|\n|                 its|  1|\n|                  is|  3|\n|       sequencefiles|  1|\n|             persist|  1|\n|                only|  2|\n|                data|  1|\n|         abstraction|  1|\n|           internals|  1|\n|               basic|  2|\n|                 map|  1|\n|sequencefilerddfu...|  1|\n|               class|  1|\n|             methods|  1|\n|          scheduling|  1|\n+--------------------+---+\nonly showing top 20 rows\n\n"
        },
        {
          "metadata" : { },
          "data" : {
            "text/html" : ""
          },
          "output_type" : "execute_result",
          "execution_count" : 4,
          "time" : "Took: 1.031s, at 2017-08-29 12:55"
        }
      ]
    },
    {
      "metadata" : {
        "trusted" : true,
        "input_collapsed" : false,
        "collapsed" : true,
        "id" : "C56176E7A0994D17843ED011185688CA"
      },
      "cell_type" : "code",
      "source" : [
        ""
      ],
      "outputs" : [ ]
    }
  ],
  "nbformat" : 4
}