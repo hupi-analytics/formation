{
  "metadata" : {
    "id" : "9cff8803-5a13-445b-8901-d825397b2dd2",
    "name" : "Formation 1 - RDD Manip7",
    "user_save_timestamp" : "1970-01-01T00:00:00.000Z",
    "auto_save_timestamp" : "1970-01-01T00:00:00.000Z",
    "language_info" : {
      "name" : "scala",
      "file_extension" : "scala",
      "codemirror_mode" : "text/x-scala"
    },
    "trusted" : true,
    "sparkNotebook" : null,
    "customLocalRepo" : null,
    "customRepos" : null,
    "customDeps" : null,
    "customImports" : null,
    "customArgs" : null,
    "customSparkConf" : null,
    "customVars" : null
  },
  "cells" : [
    {
      "metadata" : {
        "id" : "F7F639F1BAFE4AA7807194E010ADA919"
      },
      "cell_type" : "markdown",
      "source" : "<img src=http://fd.perso.eisti.fr/Logos/TORUS2.png>\n\n\n# RDD Manipulations "
    },
    {
      "metadata" : {
        "id" : "30CC433AB76045F8BD496EF594E583F0"
      },
      "cell_type" : "markdown",
      "source" : "In this section, we will present to you some basics manipulations that we can do with RDD - Resilient Distributed Dataset, the basic abstraction in Spark. \n\nIn resume, \"it represents an immutable, partitioned collection of elements that can be operated on in parallel. This class contains the basic operations available on all RDDs, such as map, filter, and persist. In addition, PairRDDFunctions contains operations available only on RDDs of key-value pairs, such as groupByKey and join; DoubleRDDFunctions contains operations available only on RDDs of Doubles; and SequenceFileRDDFunctions contains operations available on RDDs that can be saved as SequenceFiles. All operations are automatically available on any RDD of the right type (e.g. RDD[(Int, Int)] through implicit.\n\nInternally, each RDD is characterized by five main properties:\n\n- A list of partitions \n- A function for computing each split \n- A list of dependencies on other RDDs \n- Optionally, a Partitioner for key-value RDDs (e.g. to say that the RDD is hash-partitioned) \n- Optionally, a list of preferred locations to compute each split on (e.g. block locations for an HDFS file)\n\nAll of the scheduling and execution in Spark is done based on these methods, allowing each RDD to implement its own way of computing itself. Indeed, users can implement custom RDDs (e.g. for reading data from a new storage system) by overriding these functions. Please refer to the Spark paper for more details on RDD internals.\"\n\n(Source : https://spark.apache.org/docs/latest/api/java/org/apache/spark/rdd/RDD.html).\n\nWhen we talk about RDD, we have actions and transformations. Transformations in RDD means we just convert the type of RDD1 to RDD2 without executing or trying to find out what will be the results, otherwise transformations in RDD won't take much time (ex : map, flatMap, etc.). Actions in RDD means we compute really the results (ex : count, collect, take, etc.).\n\nTo illustrate some basics actions and transformations in RDD, let's take a Word Counts example!"
    },
    {
      "metadata" : {
        "id" : "2709F980CE5245F497F9B15C9CF1F35F"
      },
      "cell_type" : "markdown",
      "source" : "### We read data from HDFS. By using sc, we have a RDD in the output"
    },
    {
      "metadata" : {
        "trusted" : true,
        "input_collapsed" : false,
        "collapsed" : false,
        "id" : "72B41204DF59495CBA7465A252AA06AC"
      },
      "cell_type" : "code",
      "source" : [
        "val data = sc.textFile(\"hdfs://hupi-factory-02-01-01-01/user/hupi/dataset_torusVN/WordCountDataset.txt\")\n",
        "\n",
        "/*\n",
        "Here we used sc.textFile to read a text file in HDFS, if you want to read a json file  \n",
        "\n",
        "import org.apache.spark.sql.SparkSession\n",
        "\n",
        "val spark = SparkSession\n",
        "  .builder()\n",
        "  .appName(\"Spark SQL basic example\") \n",
        "  .getOrCreate()\n",
        "\n",
        "// For implicit conversions like converting RDDs to DataFrames\n",
        "import spark.implicits._\n",
        "\n",
        "val df = spark.read.json(\"examples/src/main/resources/example.json\") // we have a Dataset here\n",
        "*/"
      ],
      "outputs" : [
        {
          "name" : "stdout",
          "output_type" : "stream",
          "text" : "data: org.apache.spark.rdd.RDD[String] = hdfs://hupi-factory-02-01-01-01/user/hupi/dataset_torusVN/WordCountDataset.txt MapPartitionsRDD[1] at textFile at <console>:67\n"
        },
        {
          "metadata" : { },
          "data" : {
            "text/html" : ""
          },
          "output_type" : "execute_result",
          "execution_count" : 1,
          "time" : "Took: 1.626s, at 2017-09-06 08:16"
        }
      ]
    },
    {
      "metadata" : {
        "id" : "97ECB351F08C42DD80F3043F49C19D22"
      },
      "cell_type" : "markdown",
      "source" : "### We count number of lines in data"
    },
    {
      "metadata" : {
        "trusted" : true,
        "input_collapsed" : false,
        "collapsed" : false,
        "id" : "E69AD26DF5FA47E78548FCF4F2F01E59"
      },
      "cell_type" : "code",
      "source" : [
        "data.count()"
      ],
      "outputs" : [
        {
          "name" : "stdout",
          "output_type" : "stream",
          "text" : "res6: Long = 4\n"
        },
        {
          "metadata" : { },
          "data" : {
            "text/html" : "4"
          },
          "output_type" : "execute_result",
          "execution_count" : 2,
          "time" : "Took: 1.020s, at 2017-09-06 08:17"
        }
      ]
    },
    {
      "metadata" : {
        "id" : "4F3B80A5B5A9441C81499D234598A0C4"
      },
      "cell_type" : "markdown",
      "source" : "### We can see all of data, but be careful of this action because if data is too big, it can crash the notebook!"
    },
    {
      "metadata" : {
        "trusted" : true,
        "input_collapsed" : false,
        "collapsed" : false,
        "presentation" : {
          "tabs_state" : "{\n  \"tab_id\": \"#tab293169833-0\"\n}",
          "pivot_chart_state" : "{\n  \"hiddenAttributes\": [],\n  \"menuLimit\": 200,\n  \"cols\": [],\n  \"rows\": [],\n  \"vals\": [],\n  \"exclusions\": {},\n  \"inclusions\": {},\n  \"unusedAttrsVertical\": 85,\n  \"autoSortUnusedAttrs\": false,\n  \"inclusionsInfo\": {},\n  \"aggregatorName\": \"Count\",\n  \"rendererName\": \"Table\"\n}"
        },
        "id" : "3CD3833D84CD45CC98E62FBE8D3956F1"
      },
      "cell_type" : "code",
      "source" : [
        "data.collect()"
      ],
      "outputs" : [
        {
          "name" : "stdout",
          "output_type" : "stream",
          "text" : "res16: Array[String] = Array(A Resilient Distributed Dataset (RDD), the basic abstraction in Spark. Represents an immutable, partitioned collection of elements that can be operated on in parallel. This class contains the basic operations available on all RDDs, such as map, filter, and persist. In addition, PairRDDFunctions contains operations available only on RDDs of key-value pairs, such as groupByKey and join; DoubleRDDFunctions contains operations available only on RDDs of Doubles; and SequenceFileRDDFunctions contains operations available on RDDs that can be saved as SequenceFiles., Internally, each RDD is characterized by five main properties:, - A list of partitions - A function for computing each split - A list of dependencies on other RDDs - Optionally, a Partitioner for key-va..."
        },
        {
          "metadata" : { },
          "data" : {
            "text/html" : "<div>\n      <script data-this=\"{&quot;dataId&quot;:&quot;anoneeb4944568facdf8884c2cd9922fa1dd&quot;,&quot;dataInit&quot;:[],&quot;genId&quot;:&quot;293169833&quot;}\" type=\"text/x-scoped-javascript\">/*<![CDATA[*/req(['../javascripts/notebook/playground','../javascripts/notebook/magic/tabs'], \n      function(playground, _magictabs) {\n        // data ==> data-this (in observable.js's scopedEval) ==> this in JS => { dataId, dataInit, ... }\n        // this ==> scope (in observable.js's scopedEval) ==> this.parentElement ==> div.container below (toHtml)\n\n        playground.call(data,\n                        this\n                        ,\n                        {\n    \"f\": _magictabs,\n    \"o\": {}\n  }\n  \n                        \n                        \n                      );\n      }\n    );/*]]>*/</script>\n    <div>\n      <div>\n        <ul class=\"nav nav-tabs\" id=\"ul293169833\"><li>\n              <a href=\"#tab293169833-0\"><i class=\"fa fa-table\"/></a>\n            </li><li>\n              <a href=\"#tab293169833-1\"><i class=\"fa fa-cubes\"/></a>\n            </li></ul>\n\n        <div class=\"tab-content\" id=\"tab293169833\"><div class=\"tab-pane\" id=\"tab293169833-0\">\n            <div>\n      <script data-this=\"{&quot;dataId&quot;:&quot;anon63d963dc6ff5ae8ca6758b48b871d770&quot;,&quot;dataInit&quot;:[{&quot;string value&quot;:&quot;A Resilient Distributed Dataset (RDD), the basic abstraction in Spark. Represents an immutable, partitioned collection of elements that can be operated on in parallel. This class contains the basic operations available on all RDDs, such as map, filter, and persist. In addition, PairRDDFunctions contains operations available only on RDDs of key-value pairs, such as groupByKey and join; DoubleRDDFunctions contains operations available only on RDDs of Doubles; and SequenceFileRDDFunctions contains operations available on RDDs that can be saved as SequenceFiles.&quot;},{&quot;string value&quot;:&quot;Internally, each RDD is characterized by five main properties:&quot;},{&quot;string value&quot;:&quot;- A list of partitions - A function for computing each split - A list of dependencies on other RDDs - Optionally, a Partitioner for key-value RDDs (e.g. to say that the RDD is hash-partitioned) - Optionally, a list of preferred locations to compute each split on (e.g. block locations for an HDFS file)&quot;},{&quot;string value&quot;:&quot;All of the scheduling and execution in Spark is done based on these methods, allowing each RDD to implement its own way of computing itself. Indeed, users can implement custom RDDs (e.g. for reading data from a new storage system) by overriding these functions. Please refer to the Spark paper for more details on RDD internals.&quot;}],&quot;genId&quot;:&quot;1963323049&quot;}\" type=\"text/x-scoped-javascript\">/*<![CDATA[*/req(['../javascripts/notebook/playground','../javascripts/notebook/magic/tableChart'], \n      function(playground, _magictableChart) {\n        // data ==> data-this (in observable.js's scopedEval) ==> this in JS => { dataId, dataInit, ... }\n        // this ==> scope (in observable.js's scopedEval) ==> this.parentElement ==> div.container below (toHtml)\n\n        playground.call(data,\n                        this\n                        ,\n                        {\n    \"f\": _magictableChart,\n    \"o\": {\"headers\":[\"string value\"],\"width\":600,\"height\":400}\n  }\n  \n                        \n                        \n                      );\n      }\n    );/*]]>*/</script>\n    <div>\n      <span class=\"chart-total-item-count\"><p data-bind=\"text: value\"><script data-this=\"{&quot;valueId&quot;:&quot;anon313c6aaf8be58b1920c84d23811de1f8&quot;,&quot;initialValue&quot;:&quot;4&quot;}\" type=\"text/x-scoped-javascript\">/*<![CDATA[*/\nreq(\n['observable', 'knockout'],\nfunction (O, ko) {\n  ko.applyBindings({\n      value: O.makeObservable(valueId, initialValue)\n    },\n    this\n  );\n});\n        /*]]>*/</script></p> entries total</span>\n      <span class=\"chart-sampling-warning\"><p data-bind=\"text: value\"><script data-this=\"{&quot;valueId&quot;:&quot;anon8ca19b6d23cb15347b7f40b560aad290&quot;,&quot;initialValue&quot;:&quot;&quot;}\" type=\"text/x-scoped-javascript\">/*<![CDATA[*/\nreq(\n['observable', 'knockout'],\nfunction (O, ko) {\n  ko.applyBindings({\n      value: O.makeObservable(valueId, initialValue)\n    },\n    this\n  );\n});\n        /*]]>*/</script></p></span>\n      <div>\n      </div>\n    </div></div>\n            </div><div class=\"tab-pane\" id=\"tab293169833-1\">\n            <div>\n      <script data-this=\"{&quot;dataId&quot;:&quot;anon0c209eb0ee4bffc96602d7663fe6aee8&quot;,&quot;dataInit&quot;:[{&quot;string value&quot;:&quot;A Resilient Distributed Dataset (RDD), the basic abstraction in Spark. Represents an immutable, partitioned collection of elements that can be operated on in parallel. This class contains the basic operations available on all RDDs, such as map, filter, and persist. In addition, PairRDDFunctions contains operations available only on RDDs of key-value pairs, such as groupByKey and join; DoubleRDDFunctions contains operations available only on RDDs of Doubles; and SequenceFileRDDFunctions contains operations available on RDDs that can be saved as SequenceFiles.&quot;},{&quot;string value&quot;:&quot;Internally, each RDD is characterized by five main properties:&quot;},{&quot;string value&quot;:&quot;- A list of partitions - A function for computing each split - A list of dependencies on other RDDs - Optionally, a Partitioner for key-value RDDs (e.g. to say that the RDD is hash-partitioned) - Optionally, a list of preferred locations to compute each split on (e.g. block locations for an HDFS file)&quot;},{&quot;string value&quot;:&quot;All of the scheduling and execution in Spark is done based on these methods, allowing each RDD to implement its own way of computing itself. Indeed, users can implement custom RDDs (e.g. for reading data from a new storage system) by overriding these functions. Please refer to the Spark paper for more details on RDD internals.&quot;}],&quot;genId&quot;:&quot;1112954722&quot;}\" type=\"text/x-scoped-javascript\">/*<![CDATA[*/req(['../javascripts/notebook/playground','../javascripts/notebook/magic/pivotChart'], \n      function(playground, _magicpivotChart) {\n        // data ==> data-this (in observable.js's scopedEval) ==> this in JS => { dataId, dataInit, ... }\n        // this ==> scope (in observable.js's scopedEval) ==> this.parentElement ==> div.container below (toHtml)\n\n        playground.call(data,\n                        this\n                        ,\n                        {\n    \"f\": _magicpivotChart,\n    \"o\": {\"width\":600,\"height\":400,\"derivedAttributes\":{},\"extraOptions\":{}}\n  }\n  \n                        \n                        \n                      );\n      }\n    );/*]]>*/</script>\n    <div>\n      <span class=\"chart-total-item-count\"><p data-bind=\"text: value\"><script data-this=\"{&quot;valueId&quot;:&quot;anon4eb6c32c6e76a181c6074abbfd1f37a9&quot;,&quot;initialValue&quot;:&quot;4&quot;}\" type=\"text/x-scoped-javascript\">/*<![CDATA[*/\nreq(\n['observable', 'knockout'],\nfunction (O, ko) {\n  ko.applyBindings({\n      value: O.makeObservable(valueId, initialValue)\n    },\n    this\n  );\n});\n        /*]]>*/</script></p> entries total</span>\n      <span class=\"chart-sampling-warning\"><p data-bind=\"text: value\"><script data-this=\"{&quot;valueId&quot;:&quot;anonef2e1c2b64959a271b78f15d80d0e2d4&quot;,&quot;initialValue&quot;:&quot;&quot;}\" type=\"text/x-scoped-javascript\">/*<![CDATA[*/\nreq(\n['observable', 'knockout'],\nfunction (O, ko) {\n  ko.applyBindings({\n      value: O.makeObservable(valueId, initialValue)\n    },\n    this\n  );\n});\n        /*]]>*/</script></p></span>\n      <div>\n      </div>\n    </div></div>\n            </div></div>\n      </div>\n    </div></div>"
          },
          "output_type" : "execute_result",
          "execution_count" : 9,
          "time" : "Took: 0.980s, at 2017-09-06 07:57"
        }
      ]
    },
    {
      "metadata" : {
        "id" : "319B4B20D0C34BB1A7ABFC19539145AE"
      },
      "cell_type" : "markdown",
      "source" : "### We can also do this way..."
    },
    {
      "metadata" : {
        "trusted" : true,
        "input_collapsed" : false,
        "collapsed" : false,
        "id" : "9CDC717256F4470BBEEA3B4AD4BE72C9"
      },
      "cell_type" : "code",
      "source" : [
        "data.collect().foreach(println)"
      ],
      "outputs" : [
        {
          "name" : "stdout",
          "output_type" : "stream",
          "text" : "A Resilient Distributed Dataset (RDD), the basic abstraction in Spark. Represents an immutable, partitioned collection of elements that can be operated on in parallel. This class contains the basic operations available on all RDDs, such as map, filter, and persist. In addition, PairRDDFunctions contains operations available only on RDDs of key-value pairs, such as groupByKey and join; DoubleRDDFunctions contains operations available only on RDDs of Doubles; and SequenceFileRDDFunctions contains operations available on RDDs that can be saved as SequenceFiles.\nInternally, each RDD is characterized by five main properties:\n- A list of partitions - A function for computing each split - A list of dependencies on other RDDs - Optionally, a Partitioner for key-value RDDs (e.g. to say that the RDD is hash-partitioned) - Optionally, a list of preferred locations to compute each split on (e.g. block locations for an HDFS file)\nAll of the scheduling and execution in Spark is done based on these methods, allowing each RDD to implement its own way of computing itself. Indeed, users can implement custom RDDs (e.g. for reading data from a new storage system) by overriding these functions. Please refer to the Spark paper for more details on RDD internals.\n"
        },
        {
          "metadata" : { },
          "data" : {
            "text/html" : ""
          },
          "output_type" : "execute_result",
          "execution_count" : 10,
          "time" : "Took: 1.045s, at 2017-09-06 07:57"
        }
      ]
    },
    {
      "metadata" : {
        "id" : "7A6631679F184E5B8F76FE50599E7477"
      },
      "cell_type" : "markdown",
      "source" : "### But it's always better to take some n lines of data instead of collecting all data"
    },
    {
      "metadata" : {
        "trusted" : true,
        "input_collapsed" : false,
        "collapsed" : false,
        "presentation" : {
          "tabs_state" : "{\n  \"tab_id\": \"#tab271821812-0\"\n}",
          "pivot_chart_state" : "{\n  \"hiddenAttributes\": [],\n  \"menuLimit\": 200,\n  \"cols\": [],\n  \"rows\": [],\n  \"vals\": [],\n  \"exclusions\": {},\n  \"inclusions\": {},\n  \"unusedAttrsVertical\": 85,\n  \"autoSortUnusedAttrs\": false,\n  \"inclusionsInfo\": {},\n  \"aggregatorName\": \"Count\",\n  \"rendererName\": \"Table\"\n}"
        },
        "id" : "AC56F25AA9754AEF8981686612D5D4CC"
      },
      "cell_type" : "code",
      "source" : [
        "data.take(5).takeRight(2)"
      ],
      "outputs" : [
        {
          "name" : "stdout",
          "output_type" : "stream",
          "text" : "<console>:69: error: object take is not a member of package data\n       data.take(5).takeRight(2)\n            ^\n"
        }
      ]
    },
    {
      "metadata" : {
        "id" : "610AE498A6154550883010B0DEDD6ECF"
      },
      "cell_type" : "markdown",
      "source" : "### Next, we need to remove all the special characters in data by using regex. \n\nTo understand more about regex, you can find in this link (http://docs.oracle.com/javase/7/docs/api/java/util/regex/Pattern.html). In this transformation, we use map() to apply the function replaceAll for each element inside RDD."
    },
    {
      "metadata" : {
        "trusted" : true,
        "input_collapsed" : false,
        "collapsed" : false,
        "id" : "236BAAC8BA3843AA8AFBAD08AA7CF5C2"
      },
      "cell_type" : "code",
      "source" : [
        "val data_without_special_characters = data.map(l => l.replaceAll(\"\"\"[\\p{Punct}]\"\"\", \"\"))"
      ],
      "outputs" : [
        {
          "name" : "stdout",
          "output_type" : "stream",
          "text" : "data_without_special_characters: org.apache.spark.rdd.RDD[String] = MapPartitionsRDD[2] at map at <console>:69\n"
        },
        {
          "metadata" : { },
          "data" : {
            "text/html" : ""
          },
          "output_type" : "execute_result",
          "execution_count" : 3,
          "time" : "Took: 0.841s, at 2017-09-06 08:17"
        }
      ]
    },
    {
      "metadata" : {
        "trusted" : true,
        "input_collapsed" : false,
        "collapsed" : false,
        "presentation" : {
          "tabs_state" : "{\n  \"tab_id\": \"#tab2143294284-0\"\n}",
          "pivot_chart_state" : "{\n  \"hiddenAttributes\": [],\n  \"menuLimit\": 200,\n  \"cols\": [],\n  \"rows\": [],\n  \"vals\": [],\n  \"exclusions\": {},\n  \"inclusions\": {},\n  \"unusedAttrsVertical\": 85,\n  \"autoSortUnusedAttrs\": false,\n  \"inclusionsInfo\": {},\n  \"aggregatorName\": \"Count\",\n  \"rendererName\": \"Table\"\n}"
        },
        "id" : "C45AD8A1E7D04F879E562E478BF6B3F7"
      },
      "cell_type" : "code",
      "source" : [
        "data_without_special_characters.take(100)"
      ],
      "outputs" : [
        {
          "name" : "stdout",
          "output_type" : "stream",
          "text" : "res28: Array[String] = Array(A Resilient Distributed Dataset RDD the basic abstraction in Spark Represents an immutable partitioned collection of elements that can be operated on in parallel This class contains the basic operations available on all RDDs such as map filter and persist In addition PairRDDFunctions contains operations available only on RDDs of keyvalue pairs such as groupByKey and join DoubleRDDFunctions contains operations available only on RDDs of Doubles and SequenceFileRDDFunctions contains operations available on RDDs that can be saved as SequenceFiles, Internally each RDD is characterized by five main properties, \" A list of partitions  A function for computing each split  A list of dependencies on other RDDs  Optionally a Partitioner for keyvalue RDDs eg to say that..."
        },
        {
          "metadata" : { },
          "data" : {
            "text/html" : "<div>\n      <script data-this=\"{&quot;dataId&quot;:&quot;anon9e098f1da90a120f83fd30ca15b52383&quot;,&quot;dataInit&quot;:[],&quot;genId&quot;:&quot;2143294284&quot;}\" type=\"text/x-scoped-javascript\">/*<![CDATA[*/req(['../javascripts/notebook/playground','../javascripts/notebook/magic/tabs'], \n      function(playground, _magictabs) {\n        // data ==> data-this (in observable.js's scopedEval) ==> this in JS => { dataId, dataInit, ... }\n        // this ==> scope (in observable.js's scopedEval) ==> this.parentElement ==> div.container below (toHtml)\n\n        playground.call(data,\n                        this\n                        ,\n                        {\n    \"f\": _magictabs,\n    \"o\": {}\n  }\n  \n                        \n                        \n                      );\n      }\n    );/*]]>*/</script>\n    <div>\n      <div>\n        <ul class=\"nav nav-tabs\" id=\"ul2143294284\"><li>\n              <a href=\"#tab2143294284-0\"><i class=\"fa fa-table\"/></a>\n            </li><li>\n              <a href=\"#tab2143294284-1\"><i class=\"fa fa-cubes\"/></a>\n            </li></ul>\n\n        <div class=\"tab-content\" id=\"tab2143294284\"><div class=\"tab-pane\" id=\"tab2143294284-0\">\n            <div>\n      <script data-this=\"{&quot;dataId&quot;:&quot;anond704aa5f03e41f207229be4c324aff16&quot;,&quot;dataInit&quot;:[{&quot;string value&quot;:&quot;A Resilient Distributed Dataset RDD the basic abstraction in Spark Represents an immutable partitioned collection of elements that can be operated on in parallel This class contains the basic operations available on all RDDs such as map filter and persist In addition PairRDDFunctions contains operations available only on RDDs of keyvalue pairs such as groupByKey and join DoubleRDDFunctions contains operations available only on RDDs of Doubles and SequenceFileRDDFunctions contains operations available on RDDs that can be saved as SequenceFiles&quot;},{&quot;string value&quot;:&quot;Internally each RDD is characterized by five main properties&quot;},{&quot;string value&quot;:&quot; A list of partitions  A function for computing each split  A list of dependencies on other RDDs  Optionally a Partitioner for keyvalue RDDs eg to say that the RDD is hashpartitioned  Optionally a list of preferred locations to compute each split on eg block locations for an HDFS file&quot;},{&quot;string value&quot;:&quot;All of the scheduling and execution in Spark is done based on these methods allowing each RDD to implement its own way of computing itself Indeed users can implement custom RDDs eg for reading data from a new storage system by overriding these functions Please refer to the Spark paper for more details on RDD internals&quot;}],&quot;genId&quot;:&quot;1841047991&quot;}\" type=\"text/x-scoped-javascript\">/*<![CDATA[*/req(['../javascripts/notebook/playground','../javascripts/notebook/magic/tableChart'], \n      function(playground, _magictableChart) {\n        // data ==> data-this (in observable.js's scopedEval) ==> this in JS => { dataId, dataInit, ... }\n        // this ==> scope (in observable.js's scopedEval) ==> this.parentElement ==> div.container below (toHtml)\n\n        playground.call(data,\n                        this\n                        ,\n                        {\n    \"f\": _magictableChart,\n    \"o\": {\"headers\":[\"string value\"],\"width\":600,\"height\":400}\n  }\n  \n                        \n                        \n                      );\n      }\n    );/*]]>*/</script>\n    <div>\n      <span class=\"chart-total-item-count\"><p data-bind=\"text: value\"><script data-this=\"{&quot;valueId&quot;:&quot;anona3dd530a869c222cb0080bb479b1ce85&quot;,&quot;initialValue&quot;:&quot;4&quot;}\" type=\"text/x-scoped-javascript\">/*<![CDATA[*/\nreq(\n['observable', 'knockout'],\nfunction (O, ko) {\n  ko.applyBindings({\n      value: O.makeObservable(valueId, initialValue)\n    },\n    this\n  );\n});\n        /*]]>*/</script></p> entries total</span>\n      <span class=\"chart-sampling-warning\"><p data-bind=\"text: value\"><script data-this=\"{&quot;valueId&quot;:&quot;anon6ef2be1fa1ce8f25efa57561c00d9c66&quot;,&quot;initialValue&quot;:&quot;&quot;}\" type=\"text/x-scoped-javascript\">/*<![CDATA[*/\nreq(\n['observable', 'knockout'],\nfunction (O, ko) {\n  ko.applyBindings({\n      value: O.makeObservable(valueId, initialValue)\n    },\n    this\n  );\n});\n        /*]]>*/</script></p></span>\n      <div>\n      </div>\n    </div></div>\n            </div><div class=\"tab-pane\" id=\"tab2143294284-1\">\n            <div>\n      <script data-this=\"{&quot;dataId&quot;:&quot;anond648d982942140be7db0f66527639084&quot;,&quot;dataInit&quot;:[{&quot;string value&quot;:&quot;A Resilient Distributed Dataset RDD the basic abstraction in Spark Represents an immutable partitioned collection of elements that can be operated on in parallel This class contains the basic operations available on all RDDs such as map filter and persist In addition PairRDDFunctions contains operations available only on RDDs of keyvalue pairs such as groupByKey and join DoubleRDDFunctions contains operations available only on RDDs of Doubles and SequenceFileRDDFunctions contains operations available on RDDs that can be saved as SequenceFiles&quot;},{&quot;string value&quot;:&quot;Internally each RDD is characterized by five main properties&quot;},{&quot;string value&quot;:&quot; A list of partitions  A function for computing each split  A list of dependencies on other RDDs  Optionally a Partitioner for keyvalue RDDs eg to say that the RDD is hashpartitioned  Optionally a list of preferred locations to compute each split on eg block locations for an HDFS file&quot;},{&quot;string value&quot;:&quot;All of the scheduling and execution in Spark is done based on these methods allowing each RDD to implement its own way of computing itself Indeed users can implement custom RDDs eg for reading data from a new storage system by overriding these functions Please refer to the Spark paper for more details on RDD internals&quot;}],&quot;genId&quot;:&quot;1506435162&quot;}\" type=\"text/x-scoped-javascript\">/*<![CDATA[*/req(['../javascripts/notebook/playground','../javascripts/notebook/magic/pivotChart'], \n      function(playground, _magicpivotChart) {\n        // data ==> data-this (in observable.js's scopedEval) ==> this in JS => { dataId, dataInit, ... }\n        // this ==> scope (in observable.js's scopedEval) ==> this.parentElement ==> div.container below (toHtml)\n\n        playground.call(data,\n                        this\n                        ,\n                        {\n    \"f\": _magicpivotChart,\n    \"o\": {\"width\":600,\"height\":400,\"derivedAttributes\":{},\"extraOptions\":{}}\n  }\n  \n                        \n                        \n                      );\n      }\n    );/*]]>*/</script>\n    <div>\n      <span class=\"chart-total-item-count\"><p data-bind=\"text: value\"><script data-this=\"{&quot;valueId&quot;:&quot;anonab51923da0460863c21f249f22e0cf17&quot;,&quot;initialValue&quot;:&quot;4&quot;}\" type=\"text/x-scoped-javascript\">/*<![CDATA[*/\nreq(\n['observable', 'knockout'],\nfunction (O, ko) {\n  ko.applyBindings({\n      value: O.makeObservable(valueId, initialValue)\n    },\n    this\n  );\n});\n        /*]]>*/</script></p> entries total</span>\n      <span class=\"chart-sampling-warning\"><p data-bind=\"text: value\"><script data-this=\"{&quot;valueId&quot;:&quot;anon7a3590644de76a68f6bb27f89b81d665&quot;,&quot;initialValue&quot;:&quot;&quot;}\" type=\"text/x-scoped-javascript\">/*<![CDATA[*/\nreq(\n['observable', 'knockout'],\nfunction (O, ko) {\n  ko.applyBindings({\n      value: O.makeObservable(valueId, initialValue)\n    },\n    this\n  );\n});\n        /*]]>*/</script></p></span>\n      <div>\n      </div>\n    </div></div>\n            </div></div>\n      </div>\n    </div></div>"
          },
          "output_type" : "execute_result",
          "execution_count" : 16,
          "time" : "Took: 0.820s, at 2017-09-06 08:00"
        }
      ]
    },
    {
      "metadata" : {
        "id" : "3FF8C000B3E040C08FF3B713A5CC4B97"
      },
      "cell_type" : "markdown",
      "source" : "### Then, we split data into words and convert all into lower case. \n\nHere we use flatMap (simply equal to map() + \"flatten\" ). Here we want to transform an RDD of Array of String into an RDD of String and apply the function inside flatMap for each String. "
    },
    {
      "metadata" : {
        "trusted" : true,
        "input_collapsed" : false,
        "collapsed" : false,
        "id" : "2F99DB525A7A4BC789520B828E7FFD6F"
      },
      "cell_type" : "code",
      "source" : [
        "val words = data_without_special_characters.flatMap(l => l.split(\" \").map(l => l.toLowerCase))"
      ],
      "outputs" : [
        {
          "name" : "stdout",
          "output_type" : "stream",
          "text" : "words: org.apache.spark.rdd.RDD[String] = MapPartitionsRDD[3] at flatMap at <console>:71\n"
        },
        {
          "metadata" : { },
          "data" : {
            "text/html" : ""
          },
          "output_type" : "execute_result",
          "execution_count" : 4,
          "time" : "Took: 0.799s, at 2017-09-06 08:17"
        }
      ]
    },
    {
      "metadata" : {
        "trusted" : true,
        "input_collapsed" : false,
        "collapsed" : false,
        "presentation" : {
          "tabs_state" : "{\n  \"tab_id\": \"#tab1987298196-0\"\n}",
          "pivot_chart_state" : "{\n  \"hiddenAttributes\": [],\n  \"menuLimit\": 200,\n  \"cols\": [],\n  \"rows\": [],\n  \"vals\": [],\n  \"exclusions\": {},\n  \"inclusions\": {},\n  \"unusedAttrsVertical\": 85,\n  \"autoSortUnusedAttrs\": false,\n  \"inclusionsInfo\": {},\n  \"aggregatorName\": \"Count\",\n  \"rendererName\": \"Table\"\n}"
        },
        "id" : "DCC367D8DEB344738DC8BFC2B676252A"
      },
      "cell_type" : "code",
      "source" : [
        "words.take(100)"
      ],
      "outputs" : [
        {
          "name" : "stdout",
          "output_type" : "stream",
          "text" : "res31: Array[String] = Array(a, resilient, distributed, dataset, rdd, the, basic, abstraction, in, spark, represents, an, immutable, partitioned, collection, of, elements, that, can, be, operated, on, in, parallel, this, class, contains, the, basic, operations, available, on, all, rdds, such, as, map, filter, and, persist, in, addition, pairrddfunctions, contains, operations, available, only, on, rdds, of, keyvalue, pairs, such, as, groupbykey, and, join, doublerddfunctions, contains, operations, available, only, on, rdds, of, doubles, and, sequencefilerddfunctions, contains, operations, available, on, rdds, that, can, be, saved, as, sequencefiles, internally, each, rdd, is, characterized, by, five, main, properties, \"\", a, list, of, partitions, \"\", a, function, for, computing, each, sp..."
        },
        {
          "metadata" : { },
          "data" : {
            "text/html" : "<div>\n      <script data-this=\"{&quot;dataId&quot;:&quot;anonde3805a23574359e8977a492f0b8272e&quot;,&quot;dataInit&quot;:[],&quot;genId&quot;:&quot;1987298196&quot;}\" type=\"text/x-scoped-javascript\">/*<![CDATA[*/req(['../javascripts/notebook/playground','../javascripts/notebook/magic/tabs'], \n      function(playground, _magictabs) {\n        // data ==> data-this (in observable.js's scopedEval) ==> this in JS => { dataId, dataInit, ... }\n        // this ==> scope (in observable.js's scopedEval) ==> this.parentElement ==> div.container below (toHtml)\n\n        playground.call(data,\n                        this\n                        ,\n                        {\n    \"f\": _magictabs,\n    \"o\": {}\n  }\n  \n                        \n                        \n                      );\n      }\n    );/*]]>*/</script>\n    <div>\n      <div>\n        <ul class=\"nav nav-tabs\" id=\"ul1987298196\"><li>\n              <a href=\"#tab1987298196-0\"><i class=\"fa fa-table\"/></a>\n            </li><li>\n              <a href=\"#tab1987298196-1\"><i class=\"fa fa-cubes\"/></a>\n            </li></ul>\n\n        <div class=\"tab-content\" id=\"tab1987298196\"><div class=\"tab-pane\" id=\"tab1987298196-0\">\n            <div>\n      <script data-this=\"{&quot;dataId&quot;:&quot;anon3b53c201661f05c088526ce8dac71388&quot;,&quot;dataInit&quot;:[{&quot;string value&quot;:&quot;a&quot;},{&quot;string value&quot;:&quot;resilient&quot;},{&quot;string value&quot;:&quot;distributed&quot;},{&quot;string value&quot;:&quot;dataset&quot;},{&quot;string value&quot;:&quot;rdd&quot;},{&quot;string value&quot;:&quot;the&quot;},{&quot;string value&quot;:&quot;basic&quot;},{&quot;string value&quot;:&quot;abstraction&quot;},{&quot;string value&quot;:&quot;in&quot;},{&quot;string value&quot;:&quot;spark&quot;},{&quot;string value&quot;:&quot;represents&quot;},{&quot;string value&quot;:&quot;an&quot;},{&quot;string value&quot;:&quot;immutable&quot;},{&quot;string value&quot;:&quot;partitioned&quot;},{&quot;string value&quot;:&quot;collection&quot;},{&quot;string value&quot;:&quot;of&quot;},{&quot;string value&quot;:&quot;elements&quot;},{&quot;string value&quot;:&quot;that&quot;},{&quot;string value&quot;:&quot;can&quot;},{&quot;string value&quot;:&quot;be&quot;},{&quot;string value&quot;:&quot;operated&quot;},{&quot;string value&quot;:&quot;on&quot;},{&quot;string value&quot;:&quot;in&quot;},{&quot;string value&quot;:&quot;parallel&quot;},{&quot;string value&quot;:&quot;this&quot;},{&quot;string value&quot;:&quot;class&quot;},{&quot;string value&quot;:&quot;contains&quot;},{&quot;string value&quot;:&quot;the&quot;},{&quot;string value&quot;:&quot;basic&quot;},{&quot;string value&quot;:&quot;operations&quot;},{&quot;string value&quot;:&quot;available&quot;},{&quot;string value&quot;:&quot;on&quot;},{&quot;string value&quot;:&quot;all&quot;},{&quot;string value&quot;:&quot;rdds&quot;},{&quot;string value&quot;:&quot;such&quot;},{&quot;string value&quot;:&quot;as&quot;},{&quot;string value&quot;:&quot;map&quot;},{&quot;string value&quot;:&quot;filter&quot;},{&quot;string value&quot;:&quot;and&quot;},{&quot;string value&quot;:&quot;persist&quot;},{&quot;string value&quot;:&quot;in&quot;},{&quot;string value&quot;:&quot;addition&quot;},{&quot;string value&quot;:&quot;pairrddfunctions&quot;},{&quot;string value&quot;:&quot;contains&quot;},{&quot;string value&quot;:&quot;operations&quot;},{&quot;string value&quot;:&quot;available&quot;},{&quot;string value&quot;:&quot;only&quot;},{&quot;string value&quot;:&quot;on&quot;},{&quot;string value&quot;:&quot;rdds&quot;},{&quot;string value&quot;:&quot;of&quot;},{&quot;string value&quot;:&quot;keyvalue&quot;},{&quot;string value&quot;:&quot;pairs&quot;},{&quot;string value&quot;:&quot;such&quot;},{&quot;string value&quot;:&quot;as&quot;},{&quot;string value&quot;:&quot;groupbykey&quot;},{&quot;string value&quot;:&quot;and&quot;},{&quot;string value&quot;:&quot;join&quot;},{&quot;string value&quot;:&quot;doublerddfunctions&quot;},{&quot;string value&quot;:&quot;contains&quot;},{&quot;string value&quot;:&quot;operations&quot;},{&quot;string value&quot;:&quot;available&quot;},{&quot;string value&quot;:&quot;only&quot;},{&quot;string value&quot;:&quot;on&quot;},{&quot;string value&quot;:&quot;rdds&quot;},{&quot;string value&quot;:&quot;of&quot;},{&quot;string value&quot;:&quot;doubles&quot;},{&quot;string value&quot;:&quot;and&quot;},{&quot;string value&quot;:&quot;sequencefilerddfunctions&quot;},{&quot;string value&quot;:&quot;contains&quot;},{&quot;string value&quot;:&quot;operations&quot;},{&quot;string value&quot;:&quot;available&quot;},{&quot;string value&quot;:&quot;on&quot;},{&quot;string value&quot;:&quot;rdds&quot;},{&quot;string value&quot;:&quot;that&quot;},{&quot;string value&quot;:&quot;can&quot;},{&quot;string value&quot;:&quot;be&quot;},{&quot;string value&quot;:&quot;saved&quot;},{&quot;string value&quot;:&quot;as&quot;},{&quot;string value&quot;:&quot;sequencefiles&quot;},{&quot;string value&quot;:&quot;internally&quot;},{&quot;string value&quot;:&quot;each&quot;},{&quot;string value&quot;:&quot;rdd&quot;},{&quot;string value&quot;:&quot;is&quot;},{&quot;string value&quot;:&quot;characterized&quot;},{&quot;string value&quot;:&quot;by&quot;},{&quot;string value&quot;:&quot;five&quot;},{&quot;string value&quot;:&quot;main&quot;},{&quot;string value&quot;:&quot;properties&quot;},{&quot;string value&quot;:&quot;&quot;},{&quot;string value&quot;:&quot;a&quot;},{&quot;string value&quot;:&quot;list&quot;},{&quot;string value&quot;:&quot;of&quot;},{&quot;string value&quot;:&quot;partitions&quot;},{&quot;string value&quot;:&quot;&quot;},{&quot;string value&quot;:&quot;a&quot;},{&quot;string value&quot;:&quot;function&quot;},{&quot;string value&quot;:&quot;for&quot;},{&quot;string value&quot;:&quot;computing&quot;},{&quot;string value&quot;:&quot;each&quot;},{&quot;string value&quot;:&quot;split&quot;}],&quot;genId&quot;:&quot;1828259185&quot;}\" type=\"text/x-scoped-javascript\">/*<![CDATA[*/req(['../javascripts/notebook/playground','../javascripts/notebook/magic/tableChart'], \n      function(playground, _magictableChart) {\n        // data ==> data-this (in observable.js's scopedEval) ==> this in JS => { dataId, dataInit, ... }\n        // this ==> scope (in observable.js's scopedEval) ==> this.parentElement ==> div.container below (toHtml)\n\n        playground.call(data,\n                        this\n                        ,\n                        {\n    \"f\": _magictableChart,\n    \"o\": {\"headers\":[\"string value\"],\"width\":600,\"height\":400}\n  }\n  \n                        \n                        \n                      );\n      }\n    );/*]]>*/</script>\n    <div>\n      <span class=\"chart-total-item-count\"><p data-bind=\"text: value\"><script data-this=\"{&quot;valueId&quot;:&quot;anon74d374f09addfec425358352f9d83abb&quot;,&quot;initialValue&quot;:&quot;100&quot;}\" type=\"text/x-scoped-javascript\">/*<![CDATA[*/\nreq(\n['observable', 'knockout'],\nfunction (O, ko) {\n  ko.applyBindings({\n      value: O.makeObservable(valueId, initialValue)\n    },\n    this\n  );\n});\n        /*]]>*/</script></p> entries total</span>\n      <span class=\"chart-sampling-warning\"><p data-bind=\"text: value\"><script data-this=\"{&quot;valueId&quot;:&quot;anon843e533cbd6f93935f96998faa224850&quot;,&quot;initialValue&quot;:&quot;&quot;}\" type=\"text/x-scoped-javascript\">/*<![CDATA[*/\nreq(\n['observable', 'knockout'],\nfunction (O, ko) {\n  ko.applyBindings({\n      value: O.makeObservable(valueId, initialValue)\n    },\n    this\n  );\n});\n        /*]]>*/</script></p></span>\n      <div>\n      </div>\n    </div></div>\n            </div><div class=\"tab-pane\" id=\"tab1987298196-1\">\n            <div>\n      <script data-this=\"{&quot;dataId&quot;:&quot;anon3b2570ed40823d0fb729b7ca09c65be0&quot;,&quot;dataInit&quot;:[{&quot;string value&quot;:&quot;a&quot;},{&quot;string value&quot;:&quot;resilient&quot;},{&quot;string value&quot;:&quot;distributed&quot;},{&quot;string value&quot;:&quot;dataset&quot;},{&quot;string value&quot;:&quot;rdd&quot;},{&quot;string value&quot;:&quot;the&quot;},{&quot;string value&quot;:&quot;basic&quot;},{&quot;string value&quot;:&quot;abstraction&quot;},{&quot;string value&quot;:&quot;in&quot;},{&quot;string value&quot;:&quot;spark&quot;},{&quot;string value&quot;:&quot;represents&quot;},{&quot;string value&quot;:&quot;an&quot;},{&quot;string value&quot;:&quot;immutable&quot;},{&quot;string value&quot;:&quot;partitioned&quot;},{&quot;string value&quot;:&quot;collection&quot;},{&quot;string value&quot;:&quot;of&quot;},{&quot;string value&quot;:&quot;elements&quot;},{&quot;string value&quot;:&quot;that&quot;},{&quot;string value&quot;:&quot;can&quot;},{&quot;string value&quot;:&quot;be&quot;},{&quot;string value&quot;:&quot;operated&quot;},{&quot;string value&quot;:&quot;on&quot;},{&quot;string value&quot;:&quot;in&quot;},{&quot;string value&quot;:&quot;parallel&quot;},{&quot;string value&quot;:&quot;this&quot;},{&quot;string value&quot;:&quot;class&quot;},{&quot;string value&quot;:&quot;contains&quot;},{&quot;string value&quot;:&quot;the&quot;},{&quot;string value&quot;:&quot;basic&quot;},{&quot;string value&quot;:&quot;operations&quot;},{&quot;string value&quot;:&quot;available&quot;},{&quot;string value&quot;:&quot;on&quot;},{&quot;string value&quot;:&quot;all&quot;},{&quot;string value&quot;:&quot;rdds&quot;},{&quot;string value&quot;:&quot;such&quot;},{&quot;string value&quot;:&quot;as&quot;},{&quot;string value&quot;:&quot;map&quot;},{&quot;string value&quot;:&quot;filter&quot;},{&quot;string value&quot;:&quot;and&quot;},{&quot;string value&quot;:&quot;persist&quot;},{&quot;string value&quot;:&quot;in&quot;},{&quot;string value&quot;:&quot;addition&quot;},{&quot;string value&quot;:&quot;pairrddfunctions&quot;},{&quot;string value&quot;:&quot;contains&quot;},{&quot;string value&quot;:&quot;operations&quot;},{&quot;string value&quot;:&quot;available&quot;},{&quot;string value&quot;:&quot;only&quot;},{&quot;string value&quot;:&quot;on&quot;},{&quot;string value&quot;:&quot;rdds&quot;},{&quot;string value&quot;:&quot;of&quot;},{&quot;string value&quot;:&quot;keyvalue&quot;},{&quot;string value&quot;:&quot;pairs&quot;},{&quot;string value&quot;:&quot;such&quot;},{&quot;string value&quot;:&quot;as&quot;},{&quot;string value&quot;:&quot;groupbykey&quot;},{&quot;string value&quot;:&quot;and&quot;},{&quot;string value&quot;:&quot;join&quot;},{&quot;string value&quot;:&quot;doublerddfunctions&quot;},{&quot;string value&quot;:&quot;contains&quot;},{&quot;string value&quot;:&quot;operations&quot;},{&quot;string value&quot;:&quot;available&quot;},{&quot;string value&quot;:&quot;only&quot;},{&quot;string value&quot;:&quot;on&quot;},{&quot;string value&quot;:&quot;rdds&quot;},{&quot;string value&quot;:&quot;of&quot;},{&quot;string value&quot;:&quot;doubles&quot;},{&quot;string value&quot;:&quot;and&quot;},{&quot;string value&quot;:&quot;sequencefilerddfunctions&quot;},{&quot;string value&quot;:&quot;contains&quot;},{&quot;string value&quot;:&quot;operations&quot;},{&quot;string value&quot;:&quot;available&quot;},{&quot;string value&quot;:&quot;on&quot;},{&quot;string value&quot;:&quot;rdds&quot;},{&quot;string value&quot;:&quot;that&quot;},{&quot;string value&quot;:&quot;can&quot;},{&quot;string value&quot;:&quot;be&quot;},{&quot;string value&quot;:&quot;saved&quot;},{&quot;string value&quot;:&quot;as&quot;},{&quot;string value&quot;:&quot;sequencefiles&quot;},{&quot;string value&quot;:&quot;internally&quot;},{&quot;string value&quot;:&quot;each&quot;},{&quot;string value&quot;:&quot;rdd&quot;},{&quot;string value&quot;:&quot;is&quot;},{&quot;string value&quot;:&quot;characterized&quot;},{&quot;string value&quot;:&quot;by&quot;},{&quot;string value&quot;:&quot;five&quot;},{&quot;string value&quot;:&quot;main&quot;},{&quot;string value&quot;:&quot;properties&quot;},{&quot;string value&quot;:&quot;&quot;},{&quot;string value&quot;:&quot;a&quot;},{&quot;string value&quot;:&quot;list&quot;},{&quot;string value&quot;:&quot;of&quot;},{&quot;string value&quot;:&quot;partitions&quot;},{&quot;string value&quot;:&quot;&quot;},{&quot;string value&quot;:&quot;a&quot;},{&quot;string value&quot;:&quot;function&quot;},{&quot;string value&quot;:&quot;for&quot;},{&quot;string value&quot;:&quot;computing&quot;},{&quot;string value&quot;:&quot;each&quot;},{&quot;string value&quot;:&quot;split&quot;}],&quot;genId&quot;:&quot;176663998&quot;}\" type=\"text/x-scoped-javascript\">/*<![CDATA[*/req(['../javascripts/notebook/playground','../javascripts/notebook/magic/pivotChart'], \n      function(playground, _magicpivotChart) {\n        // data ==> data-this (in observable.js's scopedEval) ==> this in JS => { dataId, dataInit, ... }\n        // this ==> scope (in observable.js's scopedEval) ==> this.parentElement ==> div.container below (toHtml)\n\n        playground.call(data,\n                        this\n                        ,\n                        {\n    \"f\": _magicpivotChart,\n    \"o\": {\"width\":600,\"height\":400,\"derivedAttributes\":{},\"extraOptions\":{}}\n  }\n  \n                        \n                        \n                      );\n      }\n    );/*]]>*/</script>\n    <div>\n      <span class=\"chart-total-item-count\"><p data-bind=\"text: value\"><script data-this=\"{&quot;valueId&quot;:&quot;anon41b3a66f3a052dc4fd640eccab08f0cf&quot;,&quot;initialValue&quot;:&quot;100&quot;}\" type=\"text/x-scoped-javascript\">/*<![CDATA[*/\nreq(\n['observable', 'knockout'],\nfunction (O, ko) {\n  ko.applyBindings({\n      value: O.makeObservable(valueId, initialValue)\n    },\n    this\n  );\n});\n        /*]]>*/</script></p> entries total</span>\n      <span class=\"chart-sampling-warning\"><p data-bind=\"text: value\"><script data-this=\"{&quot;valueId&quot;:&quot;anon0bdd731244b9819d0f35365376c10bc6&quot;,&quot;initialValue&quot;:&quot;&quot;}\" type=\"text/x-scoped-javascript\">/*<![CDATA[*/\nreq(\n['observable', 'knockout'],\nfunction (O, ko) {\n  ko.applyBindings({\n      value: O.makeObservable(valueId, initialValue)\n    },\n    this\n  );\n});\n        /*]]>*/</script></p></span>\n      <div>\n      </div>\n    </div></div>\n            </div></div>\n      </div>\n    </div></div>"
          },
          "output_type" : "execute_result",
          "execution_count" : 18,
          "time" : "Took: 0.795s, at 2017-09-06 08:01"
        }
      ]
    },
    {
      "metadata" : {
        "id" : "302B27262E84467EBDB181BA26A03FD0"
      },
      "cell_type" : "markdown",
      "source" : "### We can now count by key to compute the number of occurences of each word\n\nTo do this, we have 2 ways to do :\n\n#### 1/ First option :\n\nFor each element in RDD, we add 1 column with value 1, then by key (word), we compute the sum of value by using reduceByKey. When we do \"_ + _\" means everytime we have same key (word), we do the sum of its values."
    },
    {
      "metadata" : {
        "trusted" : true,
        "input_collapsed" : false,
        "collapsed" : false,
        "id" : "CF099AB943CE4C7795272C07CEBA5442"
      },
      "cell_type" : "code",
      "source" : [
        "val wordCount = words.map(l => (l, 1)).reduceByKey(_ + _)"
      ],
      "outputs" : [
        {
          "name" : "stdout",
          "output_type" : "stream",
          "text" : "wordCount: org.apache.spark.rdd.RDD[(String, Int)] = ShuffledRDD[5] at reduceByKey at <console>:73\n"
        },
        {
          "metadata" : { },
          "data" : {
            "text/html" : ""
          },
          "output_type" : "execute_result",
          "execution_count" : 5,
          "time" : "Took: 1.158s, at 2017-09-06 08:18"
        }
      ]
    },
    {
      "metadata" : {
        "trusted" : true,
        "input_collapsed" : false,
        "collapsed" : false,
        "presentation" : {
          "tabs_state" : "{\n  \"tab_id\": \"#tab341071993-0\"\n}",
          "pivot_chart_state" : "{\n  \"hiddenAttributes\": [],\n  \"menuLimit\": 200,\n  \"cols\": [],\n  \"rows\": [],\n  \"vals\": [],\n  \"exclusions\": {},\n  \"inclusions\": {},\n  \"unusedAttrsVertical\": 85,\n  \"autoSortUnusedAttrs\": false,\n  \"inclusionsInfo\": {},\n  \"aggregatorName\": \"Count\",\n  \"rendererName\": \"Table\"\n}"
        },
        "id" : "24DE5A9BCE3D4D979A8792FD30BFC41C"
      },
      "cell_type" : "code",
      "source" : [
        "wordCount.collect()"
      ],
      "outputs" : [
        {
          "name" : "stdout",
          "output_type" : "stream",
          "text" : "res13: Array[(String, Int)] = Array((reading,1), (this,1), (paper,1), (doublerddfunctions,1), (collection,1), (internally,1), (is,3), (its,1), (sequencefiles,1), (persist,1), (only,2), (data,1), (abstraction,1), (internals,1), (basic,2), (map,1), (sequencefilerddfunctions,1), (class,1), (methods,1), (scheduling,1), (execution,1), (new,1), (computing,2), (locations,2), (join,1), (other,1), (file,1), (from,1), (details,1), (dataset,1), (immutable,1), (refer,1), (can,3), (doubles,1), (split,2), (filter,1), (operated,1), (keyvalue,2), (eg,3), (as,3), (\"\",5), (operations,4), (done,1), (list,3), (please,1), (users,1), (five,1), (own,1), (rdd,5), (function,1), (addition,1), (itself,1), (characterized,1), (spark,3), (saved,1), (parallel,1), (on,9), (such,2), (each,4), (allowing,1), (partitioned..."
        },
        {
          "metadata" : { },
          "data" : {
            "text/html" : "<div>\n      <script data-this=\"{&quot;dataId&quot;:&quot;anon3772b6beb8877ba2aa1acb508746cbb5&quot;,&quot;dataInit&quot;:[],&quot;genId&quot;:&quot;341071993&quot;}\" type=\"text/x-scoped-javascript\">/*<![CDATA[*/req(['../javascripts/notebook/playground','../javascripts/notebook/magic/tabs'], \n      function(playground, _magictabs) {\n        // data ==> data-this (in observable.js's scopedEval) ==> this in JS => { dataId, dataInit, ... }\n        // this ==> scope (in observable.js's scopedEval) ==> this.parentElement ==> div.container below (toHtml)\n\n        playground.call(data,\n                        this\n                        ,\n                        {\n    \"f\": _magictabs,\n    \"o\": {}\n  }\n  \n                        \n                        \n                      );\n      }\n    );/*]]>*/</script>\n    <div>\n      <div>\n        <ul class=\"nav nav-tabs\" id=\"ul341071993\"><li>\n              <a href=\"#tab341071993-0\"><i class=\"fa fa-table\"/></a>\n            </li><li>\n              <a href=\"#tab341071993-1\"><i class=\"fa fa-bar-chart\"/></a>\n            </li><li>\n              <a href=\"#tab341071993-2\"><i class=\"fa fa-pie-chart\"/></a>\n            </li><li>\n              <a href=\"#tab341071993-3\"><i class=\"fa fa-cubes\"/></a>\n            </li></ul>\n\n        <div class=\"tab-content\" id=\"tab341071993\"><div class=\"tab-pane\" id=\"tab341071993-0\">\n            <div>\n      <script data-this=\"{&quot;dataId&quot;:&quot;anonaa2324aeec08af5c291d350dca4b13fd&quot;,&quot;dataInit&quot;:[{&quot;_1&quot;:&quot;reading&quot;,&quot;_2&quot;:1},{&quot;_1&quot;:&quot;this&quot;,&quot;_2&quot;:1},{&quot;_1&quot;:&quot;paper&quot;,&quot;_2&quot;:1},{&quot;_1&quot;:&quot;doublerddfunctions&quot;,&quot;_2&quot;:1},{&quot;_1&quot;:&quot;collection&quot;,&quot;_2&quot;:1},{&quot;_1&quot;:&quot;internally&quot;,&quot;_2&quot;:1},{&quot;_1&quot;:&quot;is&quot;,&quot;_2&quot;:3},{&quot;_1&quot;:&quot;its&quot;,&quot;_2&quot;:1},{&quot;_1&quot;:&quot;sequencefiles&quot;,&quot;_2&quot;:1},{&quot;_1&quot;:&quot;persist&quot;,&quot;_2&quot;:1},{&quot;_1&quot;:&quot;only&quot;,&quot;_2&quot;:2},{&quot;_1&quot;:&quot;data&quot;,&quot;_2&quot;:1},{&quot;_1&quot;:&quot;abstraction&quot;,&quot;_2&quot;:1},{&quot;_1&quot;:&quot;internals&quot;,&quot;_2&quot;:1},{&quot;_1&quot;:&quot;basic&quot;,&quot;_2&quot;:2},{&quot;_1&quot;:&quot;map&quot;,&quot;_2&quot;:1},{&quot;_1&quot;:&quot;sequencefilerddfunctions&quot;,&quot;_2&quot;:1},{&quot;_1&quot;:&quot;class&quot;,&quot;_2&quot;:1},{&quot;_1&quot;:&quot;methods&quot;,&quot;_2&quot;:1},{&quot;_1&quot;:&quot;scheduling&quot;,&quot;_2&quot;:1},{&quot;_1&quot;:&quot;execution&quot;,&quot;_2&quot;:1},{&quot;_1&quot;:&quot;new&quot;,&quot;_2&quot;:1},{&quot;_1&quot;:&quot;computing&quot;,&quot;_2&quot;:2},{&quot;_1&quot;:&quot;locations&quot;,&quot;_2&quot;:2},{&quot;_1&quot;:&quot;join&quot;,&quot;_2&quot;:1},{&quot;_1&quot;:&quot;other&quot;,&quot;_2&quot;:1},{&quot;_1&quot;:&quot;file&quot;,&quot;_2&quot;:1},{&quot;_1&quot;:&quot;from&quot;,&quot;_2&quot;:1},{&quot;_1&quot;:&quot;details&quot;,&quot;_2&quot;:1},{&quot;_1&quot;:&quot;dataset&quot;,&quot;_2&quot;:1},{&quot;_1&quot;:&quot;immutable&quot;,&quot;_2&quot;:1},{&quot;_1&quot;:&quot;refer&quot;,&quot;_2&quot;:1},{&quot;_1&quot;:&quot;can&quot;,&quot;_2&quot;:3},{&quot;_1&quot;:&quot;doubles&quot;,&quot;_2&quot;:1},{&quot;_1&quot;:&quot;split&quot;,&quot;_2&quot;:2},{&quot;_1&quot;:&quot;filter&quot;,&quot;_2&quot;:1},{&quot;_1&quot;:&quot;operated&quot;,&quot;_2&quot;:1},{&quot;_1&quot;:&quot;keyvalue&quot;,&quot;_2&quot;:2},{&quot;_1&quot;:&quot;eg&quot;,&quot;_2&quot;:3},{&quot;_1&quot;:&quot;as&quot;,&quot;_2&quot;:3},{&quot;_1&quot;:&quot;&quot;,&quot;_2&quot;:5},{&quot;_1&quot;:&quot;operations&quot;,&quot;_2&quot;:4},{&quot;_1&quot;:&quot;done&quot;,&quot;_2&quot;:1},{&quot;_1&quot;:&quot;list&quot;,&quot;_2&quot;:3},{&quot;_1&quot;:&quot;please&quot;,&quot;_2&quot;:1},{&quot;_1&quot;:&quot;users&quot;,&quot;_2&quot;:1},{&quot;_1&quot;:&quot;five&quot;,&quot;_2&quot;:1},{&quot;_1&quot;:&quot;own&quot;,&quot;_2&quot;:1},{&quot;_1&quot;:&quot;rdd&quot;,&quot;_2&quot;:5},{&quot;_1&quot;:&quot;function&quot;,&quot;_2&quot;:1},{&quot;_1&quot;:&quot;addition&quot;,&quot;_2&quot;:1},{&quot;_1&quot;:&quot;itself&quot;,&quot;_2&quot;:1},{&quot;_1&quot;:&quot;characterized&quot;,&quot;_2&quot;:1},{&quot;_1&quot;:&quot;spark&quot;,&quot;_2&quot;:3},{&quot;_1&quot;:&quot;saved&quot;,&quot;_2&quot;:1},{&quot;_1&quot;:&quot;parallel&quot;,&quot;_2&quot;:1},{&quot;_1&quot;:&quot;on&quot;,&quot;_2&quot;:9},{&quot;_1&quot;:&quot;such&quot;,&quot;_2&quot;:2},{&quot;_1&quot;:&quot;each&quot;,&quot;_2&quot;:4},{&quot;_1&quot;:&quot;allowing&quot;,&quot;_2&quot;:1},{&quot;_1&quot;:&quot;partitioned&quot;,&quot;_2&quot;:1},{&quot;_1&quot;:&quot;in&quot;,&quot;_2&quot;:4},{&quot;_1&quot;:&quot;resilient&quot;,&quot;_2&quot;:1},{&quot;_1&quot;:&quot;storage&quot;,&quot;_2&quot;:1},{&quot;_1&quot;:&quot;for&quot;,&quot;_2&quot;:5},{&quot;_1&quot;:&quot;block&quot;,&quot;_2&quot;:1},{&quot;_1&quot;:&quot;indeed&quot;,&quot;_2&quot;:1},{&quot;_1&quot;:&quot;based&quot;,&quot;_2&quot;:1},{&quot;_1&quot;:&quot;distributed&quot;,&quot;_2&quot;:1},{&quot;_1&quot;:&quot;represents&quot;,&quot;_2&quot;:1},{&quot;_1&quot;:&quot;hdfs&quot;,&quot;_2&quot;:1},{&quot;_1&quot;:&quot;hashpartitioned&quot;,&quot;_2&quot;:1},{&quot;_1&quot;:&quot;rdds&quot;,&quot;_2&quot;:7},{&quot;_1&quot;:&quot;way&quot;,&quot;_2&quot;:1},{&quot;_1&quot;:&quot;partitions&quot;,&quot;_2&quot;:1},{&quot;_1&quot;:&quot;the&quot;,&quot;_2&quot;:5},{&quot;_1&quot;:&quot;these&quot;,&quot;_2&quot;:2},{&quot;_1&quot;:&quot;pairrddfunctions&quot;,&quot;_2&quot;:1},{&quot;_1&quot;:&quot;custom&quot;,&quot;_2&quot;:1},{&quot;_1&quot;:&quot;contains&quot;,&quot;_2&quot;:4},{&quot;_1&quot;:&quot;main&quot;,&quot;_2&quot;:1},{&quot;_1&quot;:&quot;that&quot;,&quot;_2&quot;:3},{&quot;_1&quot;:&quot;a&quot;,&quot;_2&quot;:7},{&quot;_1&quot;:&quot;preferred&quot;,&quot;_2&quot;:1},{&quot;_1&quot;:&quot;be&quot;,&quot;_2&quot;:2},{&quot;_1&quot;:&quot;say&quot;,&quot;_2&quot;:1},{&quot;_1&quot;:&quot;all&quot;,&quot;_2&quot;:2},{&quot;_1&quot;:&quot;to&quot;,&quot;_2&quot;:4},{&quot;_1&quot;:&quot;available&quot;,&quot;_2&quot;:4},{&quot;_1&quot;:&quot;overriding&quot;,&quot;_2&quot;:1},{&quot;_1&quot;:&quot;properties&quot;,&quot;_2&quot;:1},{&quot;_1&quot;:&quot;implement&quot;,&quot;_2&quot;:2},{&quot;_1&quot;:&quot;more&quot;,&quot;_2&quot;:1},{&quot;_1&quot;:&quot;of&quot;,&quot;_2&quot;:8},{&quot;_1&quot;:&quot;dependencies&quot;,&quot;_2&quot;:1},{&quot;_1&quot;:&quot;by&quot;,&quot;_2&quot;:2},{&quot;_1&quot;:&quot;an&quot;,&quot;_2&quot;:2},{&quot;_1&quot;:&quot;groupbykey&quot;,&quot;_2&quot;:1},{&quot;_1&quot;:&quot;functions&quot;,&quot;_2&quot;:1},{&quot;_1&quot;:&quot;partitioner&quot;,&quot;_2&quot;:1},{&quot;_1&quot;:&quot;and&quot;,&quot;_2&quot;:4},{&quot;_1&quot;:&quot;optionally&quot;,&quot;_2&quot;:2},{&quot;_1&quot;:&quot;pairs&quot;,&quot;_2&quot;:1},{&quot;_1&quot;:&quot;system&quot;,&quot;_2&quot;:1},{&quot;_1&quot;:&quot;compute&quot;,&quot;_2&quot;:1},{&quot;_1&quot;:&quot;elements&quot;,&quot;_2&quot;:1}],&quot;genId&quot;:&quot;1153665510&quot;}\" type=\"text/x-scoped-javascript\">/*<![CDATA[*/req(['../javascripts/notebook/playground','../javascripts/notebook/magic/tableChart'], \n      function(playground, _magictableChart) {\n        // data ==> data-this (in observable.js's scopedEval) ==> this in JS => { dataId, dataInit, ... }\n        // this ==> scope (in observable.js's scopedEval) ==> this.parentElement ==> div.container below (toHtml)\n\n        playground.call(data,\n                        this\n                        ,\n                        {\n    \"f\": _magictableChart,\n    \"o\": {\"headers\":[\"_1\",\"_2\"],\"width\":600,\"height\":400}\n  }\n  \n                        \n                        \n                      );\n      }\n    );/*]]>*/</script>\n    <div>\n      <span class=\"chart-total-item-count\"><p data-bind=\"text: value\"><script data-this=\"{&quot;valueId&quot;:&quot;anoncabd001e6faa643bbcfc59dfb70d9312&quot;,&quot;initialValue&quot;:&quot;106&quot;}\" type=\"text/x-scoped-javascript\">/*<![CDATA[*/\nreq(\n['observable', 'knockout'],\nfunction (O, ko) {\n  ko.applyBindings({\n      value: O.makeObservable(valueId, initialValue)\n    },\n    this\n  );\n});\n        /*]]>*/</script></p> entries total</span>\n      <span class=\"chart-sampling-warning\"><p data-bind=\"text: value\"><script data-this=\"{&quot;valueId&quot;:&quot;anondae0f975ab5af34e4742cf0a5f715c45&quot;,&quot;initialValue&quot;:&quot;&quot;}\" type=\"text/x-scoped-javascript\">/*<![CDATA[*/\nreq(\n['observable', 'knockout'],\nfunction (O, ko) {\n  ko.applyBindings({\n      value: O.makeObservable(valueId, initialValue)\n    },\n    this\n  );\n});\n        /*]]>*/</script></p></span>\n      <div>\n      </div>\n    </div></div>\n            </div><div class=\"tab-pane\" id=\"tab341071993-1\">\n            <div>\n      <script data-this=\"{&quot;dataId&quot;:&quot;anone09820cc1de794a51ae5af4a51cc45ae&quot;,&quot;dataInit&quot;:[{&quot;_1&quot;:&quot;reading&quot;,&quot;_2&quot;:1},{&quot;_1&quot;:&quot;this&quot;,&quot;_2&quot;:1},{&quot;_1&quot;:&quot;paper&quot;,&quot;_2&quot;:1},{&quot;_1&quot;:&quot;doublerddfunctions&quot;,&quot;_2&quot;:1},{&quot;_1&quot;:&quot;collection&quot;,&quot;_2&quot;:1},{&quot;_1&quot;:&quot;internally&quot;,&quot;_2&quot;:1},{&quot;_1&quot;:&quot;is&quot;,&quot;_2&quot;:3},{&quot;_1&quot;:&quot;its&quot;,&quot;_2&quot;:1},{&quot;_1&quot;:&quot;sequencefiles&quot;,&quot;_2&quot;:1},{&quot;_1&quot;:&quot;persist&quot;,&quot;_2&quot;:1},{&quot;_1&quot;:&quot;only&quot;,&quot;_2&quot;:2},{&quot;_1&quot;:&quot;data&quot;,&quot;_2&quot;:1},{&quot;_1&quot;:&quot;abstraction&quot;,&quot;_2&quot;:1},{&quot;_1&quot;:&quot;internals&quot;,&quot;_2&quot;:1},{&quot;_1&quot;:&quot;basic&quot;,&quot;_2&quot;:2},{&quot;_1&quot;:&quot;map&quot;,&quot;_2&quot;:1},{&quot;_1&quot;:&quot;sequencefilerddfunctions&quot;,&quot;_2&quot;:1},{&quot;_1&quot;:&quot;class&quot;,&quot;_2&quot;:1},{&quot;_1&quot;:&quot;methods&quot;,&quot;_2&quot;:1},{&quot;_1&quot;:&quot;scheduling&quot;,&quot;_2&quot;:1},{&quot;_1&quot;:&quot;execution&quot;,&quot;_2&quot;:1},{&quot;_1&quot;:&quot;new&quot;,&quot;_2&quot;:1},{&quot;_1&quot;:&quot;computing&quot;,&quot;_2&quot;:2},{&quot;_1&quot;:&quot;locations&quot;,&quot;_2&quot;:2},{&quot;_1&quot;:&quot;join&quot;,&quot;_2&quot;:1},{&quot;_1&quot;:&quot;other&quot;,&quot;_2&quot;:1},{&quot;_1&quot;:&quot;file&quot;,&quot;_2&quot;:1},{&quot;_1&quot;:&quot;from&quot;,&quot;_2&quot;:1},{&quot;_1&quot;:&quot;details&quot;,&quot;_2&quot;:1},{&quot;_1&quot;:&quot;dataset&quot;,&quot;_2&quot;:1},{&quot;_1&quot;:&quot;immutable&quot;,&quot;_2&quot;:1},{&quot;_1&quot;:&quot;refer&quot;,&quot;_2&quot;:1},{&quot;_1&quot;:&quot;can&quot;,&quot;_2&quot;:3},{&quot;_1&quot;:&quot;doubles&quot;,&quot;_2&quot;:1},{&quot;_1&quot;:&quot;split&quot;,&quot;_2&quot;:2},{&quot;_1&quot;:&quot;filter&quot;,&quot;_2&quot;:1},{&quot;_1&quot;:&quot;operated&quot;,&quot;_2&quot;:1},{&quot;_1&quot;:&quot;keyvalue&quot;,&quot;_2&quot;:2},{&quot;_1&quot;:&quot;eg&quot;,&quot;_2&quot;:3},{&quot;_1&quot;:&quot;as&quot;,&quot;_2&quot;:3},{&quot;_1&quot;:&quot;&quot;,&quot;_2&quot;:5},{&quot;_1&quot;:&quot;operations&quot;,&quot;_2&quot;:4},{&quot;_1&quot;:&quot;done&quot;,&quot;_2&quot;:1},{&quot;_1&quot;:&quot;list&quot;,&quot;_2&quot;:3},{&quot;_1&quot;:&quot;please&quot;,&quot;_2&quot;:1},{&quot;_1&quot;:&quot;users&quot;,&quot;_2&quot;:1},{&quot;_1&quot;:&quot;five&quot;,&quot;_2&quot;:1},{&quot;_1&quot;:&quot;own&quot;,&quot;_2&quot;:1},{&quot;_1&quot;:&quot;rdd&quot;,&quot;_2&quot;:5},{&quot;_1&quot;:&quot;function&quot;,&quot;_2&quot;:1},{&quot;_1&quot;:&quot;addition&quot;,&quot;_2&quot;:1},{&quot;_1&quot;:&quot;itself&quot;,&quot;_2&quot;:1},{&quot;_1&quot;:&quot;characterized&quot;,&quot;_2&quot;:1},{&quot;_1&quot;:&quot;spark&quot;,&quot;_2&quot;:3},{&quot;_1&quot;:&quot;saved&quot;,&quot;_2&quot;:1},{&quot;_1&quot;:&quot;parallel&quot;,&quot;_2&quot;:1},{&quot;_1&quot;:&quot;on&quot;,&quot;_2&quot;:9},{&quot;_1&quot;:&quot;such&quot;,&quot;_2&quot;:2},{&quot;_1&quot;:&quot;each&quot;,&quot;_2&quot;:4},{&quot;_1&quot;:&quot;allowing&quot;,&quot;_2&quot;:1},{&quot;_1&quot;:&quot;partitioned&quot;,&quot;_2&quot;:1},{&quot;_1&quot;:&quot;in&quot;,&quot;_2&quot;:4},{&quot;_1&quot;:&quot;resilient&quot;,&quot;_2&quot;:1},{&quot;_1&quot;:&quot;storage&quot;,&quot;_2&quot;:1},{&quot;_1&quot;:&quot;for&quot;,&quot;_2&quot;:5},{&quot;_1&quot;:&quot;block&quot;,&quot;_2&quot;:1},{&quot;_1&quot;:&quot;indeed&quot;,&quot;_2&quot;:1},{&quot;_1&quot;:&quot;based&quot;,&quot;_2&quot;:1},{&quot;_1&quot;:&quot;distributed&quot;,&quot;_2&quot;:1},{&quot;_1&quot;:&quot;represents&quot;,&quot;_2&quot;:1},{&quot;_1&quot;:&quot;hdfs&quot;,&quot;_2&quot;:1},{&quot;_1&quot;:&quot;hashpartitioned&quot;,&quot;_2&quot;:1},{&quot;_1&quot;:&quot;rdds&quot;,&quot;_2&quot;:7},{&quot;_1&quot;:&quot;way&quot;,&quot;_2&quot;:1},{&quot;_1&quot;:&quot;partitions&quot;,&quot;_2&quot;:1},{&quot;_1&quot;:&quot;the&quot;,&quot;_2&quot;:5},{&quot;_1&quot;:&quot;these&quot;,&quot;_2&quot;:2},{&quot;_1&quot;:&quot;pairrddfunctions&quot;,&quot;_2&quot;:1},{&quot;_1&quot;:&quot;custom&quot;,&quot;_2&quot;:1},{&quot;_1&quot;:&quot;contains&quot;,&quot;_2&quot;:4},{&quot;_1&quot;:&quot;main&quot;,&quot;_2&quot;:1},{&quot;_1&quot;:&quot;that&quot;,&quot;_2&quot;:3},{&quot;_1&quot;:&quot;a&quot;,&quot;_2&quot;:7},{&quot;_1&quot;:&quot;preferred&quot;,&quot;_2&quot;:1},{&quot;_1&quot;:&quot;be&quot;,&quot;_2&quot;:2},{&quot;_1&quot;:&quot;say&quot;,&quot;_2&quot;:1},{&quot;_1&quot;:&quot;all&quot;,&quot;_2&quot;:2},{&quot;_1&quot;:&quot;to&quot;,&quot;_2&quot;:4},{&quot;_1&quot;:&quot;available&quot;,&quot;_2&quot;:4},{&quot;_1&quot;:&quot;overriding&quot;,&quot;_2&quot;:1},{&quot;_1&quot;:&quot;properties&quot;,&quot;_2&quot;:1},{&quot;_1&quot;:&quot;implement&quot;,&quot;_2&quot;:2},{&quot;_1&quot;:&quot;more&quot;,&quot;_2&quot;:1},{&quot;_1&quot;:&quot;of&quot;,&quot;_2&quot;:8},{&quot;_1&quot;:&quot;dependencies&quot;,&quot;_2&quot;:1},{&quot;_1&quot;:&quot;by&quot;,&quot;_2&quot;:2},{&quot;_1&quot;:&quot;an&quot;,&quot;_2&quot;:2},{&quot;_1&quot;:&quot;groupbykey&quot;,&quot;_2&quot;:1},{&quot;_1&quot;:&quot;functions&quot;,&quot;_2&quot;:1},{&quot;_1&quot;:&quot;partitioner&quot;,&quot;_2&quot;:1},{&quot;_1&quot;:&quot;and&quot;,&quot;_2&quot;:4},{&quot;_1&quot;:&quot;optionally&quot;,&quot;_2&quot;:2},{&quot;_1&quot;:&quot;pairs&quot;,&quot;_2&quot;:1},{&quot;_1&quot;:&quot;system&quot;,&quot;_2&quot;:1},{&quot;_1&quot;:&quot;compute&quot;,&quot;_2&quot;:1},{&quot;_1&quot;:&quot;elements&quot;,&quot;_2&quot;:1}],&quot;genId&quot;:&quot;2040374811&quot;}\" type=\"text/x-scoped-javascript\">/*<![CDATA[*/req(['../javascripts/notebook/playground','../javascripts/notebook/magic/barChart'], \n      function(playground, _magicbarChart) {\n        // data ==> data-this (in observable.js's scopedEval) ==> this in JS => { dataId, dataInit, ... }\n        // this ==> scope (in observable.js's scopedEval) ==> this.parentElement ==> div.container below (toHtml)\n\n        playground.call(data,\n                        this\n                        ,\n                        {\n    \"f\": _magicbarChart,\n    \"o\": {\"x\":\"_1\",\"y\":\"_2\",\"width\":600,\"height\":400}\n  }\n  \n                        \n                        \n                      );\n      }\n    );/*]]>*/</script>\n    <div>\n      <span class=\"chart-total-item-count\"><p data-bind=\"text: value\"><script data-this=\"{&quot;valueId&quot;:&quot;anon2ad9f36117d701888b9ff0b0026b5784&quot;,&quot;initialValue&quot;:&quot;106&quot;}\" type=\"text/x-scoped-javascript\">/*<![CDATA[*/\nreq(\n['observable', 'knockout'],\nfunction (O, ko) {\n  ko.applyBindings({\n      value: O.makeObservable(valueId, initialValue)\n    },\n    this\n  );\n});\n        /*]]>*/</script></p> entries total</span>\n      <span class=\"chart-sampling-warning\"><p data-bind=\"text: value\"><script data-this=\"{&quot;valueId&quot;:&quot;anonc6a4cbfc68554e3f573c62f9c25ee83d&quot;,&quot;initialValue&quot;:&quot;&quot;}\" type=\"text/x-scoped-javascript\">/*<![CDATA[*/\nreq(\n['observable', 'knockout'],\nfunction (O, ko) {\n  ko.applyBindings({\n      value: O.makeObservable(valueId, initialValue)\n    },\n    this\n  );\n});\n        /*]]>*/</script></p></span>\n      <div>\n      </div>\n    </div></div>\n            </div><div class=\"tab-pane\" id=\"tab341071993-2\">\n            <div>\n      <script data-this=\"{&quot;dataId&quot;:&quot;anon9cda6e6e750b3ffd2c00b1bf8513c220&quot;,&quot;dataInit&quot;:[{&quot;_1&quot;:&quot;reading&quot;,&quot;_2&quot;:1},{&quot;_1&quot;:&quot;this&quot;,&quot;_2&quot;:1},{&quot;_1&quot;:&quot;paper&quot;,&quot;_2&quot;:1},{&quot;_1&quot;:&quot;doublerddfunctions&quot;,&quot;_2&quot;:1},{&quot;_1&quot;:&quot;collection&quot;,&quot;_2&quot;:1},{&quot;_1&quot;:&quot;internally&quot;,&quot;_2&quot;:1},{&quot;_1&quot;:&quot;is&quot;,&quot;_2&quot;:3},{&quot;_1&quot;:&quot;its&quot;,&quot;_2&quot;:1},{&quot;_1&quot;:&quot;sequencefiles&quot;,&quot;_2&quot;:1},{&quot;_1&quot;:&quot;persist&quot;,&quot;_2&quot;:1},{&quot;_1&quot;:&quot;only&quot;,&quot;_2&quot;:2},{&quot;_1&quot;:&quot;data&quot;,&quot;_2&quot;:1},{&quot;_1&quot;:&quot;abstraction&quot;,&quot;_2&quot;:1},{&quot;_1&quot;:&quot;internals&quot;,&quot;_2&quot;:1},{&quot;_1&quot;:&quot;basic&quot;,&quot;_2&quot;:2},{&quot;_1&quot;:&quot;map&quot;,&quot;_2&quot;:1},{&quot;_1&quot;:&quot;sequencefilerddfunctions&quot;,&quot;_2&quot;:1},{&quot;_1&quot;:&quot;class&quot;,&quot;_2&quot;:1},{&quot;_1&quot;:&quot;methods&quot;,&quot;_2&quot;:1},{&quot;_1&quot;:&quot;scheduling&quot;,&quot;_2&quot;:1},{&quot;_1&quot;:&quot;execution&quot;,&quot;_2&quot;:1},{&quot;_1&quot;:&quot;new&quot;,&quot;_2&quot;:1},{&quot;_1&quot;:&quot;computing&quot;,&quot;_2&quot;:2},{&quot;_1&quot;:&quot;locations&quot;,&quot;_2&quot;:2},{&quot;_1&quot;:&quot;join&quot;,&quot;_2&quot;:1},{&quot;_1&quot;:&quot;other&quot;,&quot;_2&quot;:1},{&quot;_1&quot;:&quot;file&quot;,&quot;_2&quot;:1},{&quot;_1&quot;:&quot;from&quot;,&quot;_2&quot;:1},{&quot;_1&quot;:&quot;details&quot;,&quot;_2&quot;:1},{&quot;_1&quot;:&quot;dataset&quot;,&quot;_2&quot;:1},{&quot;_1&quot;:&quot;immutable&quot;,&quot;_2&quot;:1},{&quot;_1&quot;:&quot;refer&quot;,&quot;_2&quot;:1},{&quot;_1&quot;:&quot;can&quot;,&quot;_2&quot;:3},{&quot;_1&quot;:&quot;doubles&quot;,&quot;_2&quot;:1},{&quot;_1&quot;:&quot;split&quot;,&quot;_2&quot;:2},{&quot;_1&quot;:&quot;filter&quot;,&quot;_2&quot;:1},{&quot;_1&quot;:&quot;operated&quot;,&quot;_2&quot;:1},{&quot;_1&quot;:&quot;keyvalue&quot;,&quot;_2&quot;:2},{&quot;_1&quot;:&quot;eg&quot;,&quot;_2&quot;:3},{&quot;_1&quot;:&quot;as&quot;,&quot;_2&quot;:3},{&quot;_1&quot;:&quot;&quot;,&quot;_2&quot;:5},{&quot;_1&quot;:&quot;operations&quot;,&quot;_2&quot;:4},{&quot;_1&quot;:&quot;done&quot;,&quot;_2&quot;:1},{&quot;_1&quot;:&quot;list&quot;,&quot;_2&quot;:3},{&quot;_1&quot;:&quot;please&quot;,&quot;_2&quot;:1},{&quot;_1&quot;:&quot;users&quot;,&quot;_2&quot;:1},{&quot;_1&quot;:&quot;five&quot;,&quot;_2&quot;:1},{&quot;_1&quot;:&quot;own&quot;,&quot;_2&quot;:1},{&quot;_1&quot;:&quot;rdd&quot;,&quot;_2&quot;:5},{&quot;_1&quot;:&quot;function&quot;,&quot;_2&quot;:1},{&quot;_1&quot;:&quot;addition&quot;,&quot;_2&quot;:1},{&quot;_1&quot;:&quot;itself&quot;,&quot;_2&quot;:1},{&quot;_1&quot;:&quot;characterized&quot;,&quot;_2&quot;:1},{&quot;_1&quot;:&quot;spark&quot;,&quot;_2&quot;:3},{&quot;_1&quot;:&quot;saved&quot;,&quot;_2&quot;:1},{&quot;_1&quot;:&quot;parallel&quot;,&quot;_2&quot;:1},{&quot;_1&quot;:&quot;on&quot;,&quot;_2&quot;:9},{&quot;_1&quot;:&quot;such&quot;,&quot;_2&quot;:2},{&quot;_1&quot;:&quot;each&quot;,&quot;_2&quot;:4},{&quot;_1&quot;:&quot;allowing&quot;,&quot;_2&quot;:1},{&quot;_1&quot;:&quot;partitioned&quot;,&quot;_2&quot;:1},{&quot;_1&quot;:&quot;in&quot;,&quot;_2&quot;:4},{&quot;_1&quot;:&quot;resilient&quot;,&quot;_2&quot;:1},{&quot;_1&quot;:&quot;storage&quot;,&quot;_2&quot;:1},{&quot;_1&quot;:&quot;for&quot;,&quot;_2&quot;:5},{&quot;_1&quot;:&quot;block&quot;,&quot;_2&quot;:1},{&quot;_1&quot;:&quot;indeed&quot;,&quot;_2&quot;:1},{&quot;_1&quot;:&quot;based&quot;,&quot;_2&quot;:1},{&quot;_1&quot;:&quot;distributed&quot;,&quot;_2&quot;:1},{&quot;_1&quot;:&quot;represents&quot;,&quot;_2&quot;:1},{&quot;_1&quot;:&quot;hdfs&quot;,&quot;_2&quot;:1},{&quot;_1&quot;:&quot;hashpartitioned&quot;,&quot;_2&quot;:1},{&quot;_1&quot;:&quot;rdds&quot;,&quot;_2&quot;:7},{&quot;_1&quot;:&quot;way&quot;,&quot;_2&quot;:1},{&quot;_1&quot;:&quot;partitions&quot;,&quot;_2&quot;:1},{&quot;_1&quot;:&quot;the&quot;,&quot;_2&quot;:5},{&quot;_1&quot;:&quot;these&quot;,&quot;_2&quot;:2},{&quot;_1&quot;:&quot;pairrddfunctions&quot;,&quot;_2&quot;:1},{&quot;_1&quot;:&quot;custom&quot;,&quot;_2&quot;:1},{&quot;_1&quot;:&quot;contains&quot;,&quot;_2&quot;:4},{&quot;_1&quot;:&quot;main&quot;,&quot;_2&quot;:1},{&quot;_1&quot;:&quot;that&quot;,&quot;_2&quot;:3},{&quot;_1&quot;:&quot;a&quot;,&quot;_2&quot;:7},{&quot;_1&quot;:&quot;preferred&quot;,&quot;_2&quot;:1},{&quot;_1&quot;:&quot;be&quot;,&quot;_2&quot;:2},{&quot;_1&quot;:&quot;say&quot;,&quot;_2&quot;:1},{&quot;_1&quot;:&quot;all&quot;,&quot;_2&quot;:2},{&quot;_1&quot;:&quot;to&quot;,&quot;_2&quot;:4},{&quot;_1&quot;:&quot;available&quot;,&quot;_2&quot;:4},{&quot;_1&quot;:&quot;overriding&quot;,&quot;_2&quot;:1},{&quot;_1&quot;:&quot;properties&quot;,&quot;_2&quot;:1},{&quot;_1&quot;:&quot;implement&quot;,&quot;_2&quot;:2},{&quot;_1&quot;:&quot;more&quot;,&quot;_2&quot;:1},{&quot;_1&quot;:&quot;of&quot;,&quot;_2&quot;:8},{&quot;_1&quot;:&quot;dependencies&quot;,&quot;_2&quot;:1},{&quot;_1&quot;:&quot;by&quot;,&quot;_2&quot;:2},{&quot;_1&quot;:&quot;an&quot;,&quot;_2&quot;:2},{&quot;_1&quot;:&quot;groupbykey&quot;,&quot;_2&quot;:1},{&quot;_1&quot;:&quot;functions&quot;,&quot;_2&quot;:1},{&quot;_1&quot;:&quot;partitioner&quot;,&quot;_2&quot;:1},{&quot;_1&quot;:&quot;and&quot;,&quot;_2&quot;:4},{&quot;_1&quot;:&quot;optionally&quot;,&quot;_2&quot;:2},{&quot;_1&quot;:&quot;pairs&quot;,&quot;_2&quot;:1},{&quot;_1&quot;:&quot;system&quot;,&quot;_2&quot;:1},{&quot;_1&quot;:&quot;compute&quot;,&quot;_2&quot;:1},{&quot;_1&quot;:&quot;elements&quot;,&quot;_2&quot;:1}],&quot;genId&quot;:&quot;1290185086&quot;}\" type=\"text/x-scoped-javascript\">/*<![CDATA[*/req(['../javascripts/notebook/playground','../javascripts/notebook/magic/pieChart'], \n      function(playground, _magicpieChart) {\n        // data ==> data-this (in observable.js's scopedEval) ==> this in JS => { dataId, dataInit, ... }\n        // this ==> scope (in observable.js's scopedEval) ==> this.parentElement ==> div.container below (toHtml)\n\n        playground.call(data,\n                        this\n                        ,\n                        {\n    \"f\": _magicpieChart,\n    \"o\": {\"series\":\"_1\",\"p\":\"_2\",\"width\":600,\"height\":400}\n  }\n  \n                        \n                        \n                      );\n      }\n    );/*]]>*/</script>\n    <div>\n      <span class=\"chart-total-item-count\"><p data-bind=\"text: value\"><script data-this=\"{&quot;valueId&quot;:&quot;anonb1d12083b88d157c2895d841da5a5373&quot;,&quot;initialValue&quot;:&quot;106&quot;}\" type=\"text/x-scoped-javascript\">/*<![CDATA[*/\nreq(\n['observable', 'knockout'],\nfunction (O, ko) {\n  ko.applyBindings({\n      value: O.makeObservable(valueId, initialValue)\n    },\n    this\n  );\n});\n        /*]]>*/</script></p> entries total</span>\n      <span class=\"chart-sampling-warning\"><p data-bind=\"text: value\"><script data-this=\"{&quot;valueId&quot;:&quot;anon646f6592cda371dda80f53c6952d23d2&quot;,&quot;initialValue&quot;:&quot;&quot;}\" type=\"text/x-scoped-javascript\">/*<![CDATA[*/\nreq(\n['observable', 'knockout'],\nfunction (O, ko) {\n  ko.applyBindings({\n      value: O.makeObservable(valueId, initialValue)\n    },\n    this\n  );\n});\n        /*]]>*/</script></p></span>\n      <div>\n      </div>\n    </div></div>\n            </div><div class=\"tab-pane\" id=\"tab341071993-3\">\n            <div>\n      <script data-this=\"{&quot;dataId&quot;:&quot;anon3f18a08f8777b962c05d0bca4c5fa32d&quot;,&quot;dataInit&quot;:[{&quot;_1&quot;:&quot;reading&quot;,&quot;_2&quot;:1},{&quot;_1&quot;:&quot;this&quot;,&quot;_2&quot;:1},{&quot;_1&quot;:&quot;paper&quot;,&quot;_2&quot;:1},{&quot;_1&quot;:&quot;doublerddfunctions&quot;,&quot;_2&quot;:1},{&quot;_1&quot;:&quot;collection&quot;,&quot;_2&quot;:1},{&quot;_1&quot;:&quot;internally&quot;,&quot;_2&quot;:1},{&quot;_1&quot;:&quot;is&quot;,&quot;_2&quot;:3},{&quot;_1&quot;:&quot;its&quot;,&quot;_2&quot;:1},{&quot;_1&quot;:&quot;sequencefiles&quot;,&quot;_2&quot;:1},{&quot;_1&quot;:&quot;persist&quot;,&quot;_2&quot;:1},{&quot;_1&quot;:&quot;only&quot;,&quot;_2&quot;:2},{&quot;_1&quot;:&quot;data&quot;,&quot;_2&quot;:1},{&quot;_1&quot;:&quot;abstraction&quot;,&quot;_2&quot;:1},{&quot;_1&quot;:&quot;internals&quot;,&quot;_2&quot;:1},{&quot;_1&quot;:&quot;basic&quot;,&quot;_2&quot;:2},{&quot;_1&quot;:&quot;map&quot;,&quot;_2&quot;:1},{&quot;_1&quot;:&quot;sequencefilerddfunctions&quot;,&quot;_2&quot;:1},{&quot;_1&quot;:&quot;class&quot;,&quot;_2&quot;:1},{&quot;_1&quot;:&quot;methods&quot;,&quot;_2&quot;:1},{&quot;_1&quot;:&quot;scheduling&quot;,&quot;_2&quot;:1},{&quot;_1&quot;:&quot;execution&quot;,&quot;_2&quot;:1},{&quot;_1&quot;:&quot;new&quot;,&quot;_2&quot;:1},{&quot;_1&quot;:&quot;computing&quot;,&quot;_2&quot;:2},{&quot;_1&quot;:&quot;locations&quot;,&quot;_2&quot;:2},{&quot;_1&quot;:&quot;join&quot;,&quot;_2&quot;:1},{&quot;_1&quot;:&quot;other&quot;,&quot;_2&quot;:1},{&quot;_1&quot;:&quot;file&quot;,&quot;_2&quot;:1},{&quot;_1&quot;:&quot;from&quot;,&quot;_2&quot;:1},{&quot;_1&quot;:&quot;details&quot;,&quot;_2&quot;:1},{&quot;_1&quot;:&quot;dataset&quot;,&quot;_2&quot;:1},{&quot;_1&quot;:&quot;immutable&quot;,&quot;_2&quot;:1},{&quot;_1&quot;:&quot;refer&quot;,&quot;_2&quot;:1},{&quot;_1&quot;:&quot;can&quot;,&quot;_2&quot;:3},{&quot;_1&quot;:&quot;doubles&quot;,&quot;_2&quot;:1},{&quot;_1&quot;:&quot;split&quot;,&quot;_2&quot;:2},{&quot;_1&quot;:&quot;filter&quot;,&quot;_2&quot;:1},{&quot;_1&quot;:&quot;operated&quot;,&quot;_2&quot;:1},{&quot;_1&quot;:&quot;keyvalue&quot;,&quot;_2&quot;:2},{&quot;_1&quot;:&quot;eg&quot;,&quot;_2&quot;:3},{&quot;_1&quot;:&quot;as&quot;,&quot;_2&quot;:3},{&quot;_1&quot;:&quot;&quot;,&quot;_2&quot;:5},{&quot;_1&quot;:&quot;operations&quot;,&quot;_2&quot;:4},{&quot;_1&quot;:&quot;done&quot;,&quot;_2&quot;:1},{&quot;_1&quot;:&quot;list&quot;,&quot;_2&quot;:3},{&quot;_1&quot;:&quot;please&quot;,&quot;_2&quot;:1},{&quot;_1&quot;:&quot;users&quot;,&quot;_2&quot;:1},{&quot;_1&quot;:&quot;five&quot;,&quot;_2&quot;:1},{&quot;_1&quot;:&quot;own&quot;,&quot;_2&quot;:1},{&quot;_1&quot;:&quot;rdd&quot;,&quot;_2&quot;:5},{&quot;_1&quot;:&quot;function&quot;,&quot;_2&quot;:1},{&quot;_1&quot;:&quot;addition&quot;,&quot;_2&quot;:1},{&quot;_1&quot;:&quot;itself&quot;,&quot;_2&quot;:1},{&quot;_1&quot;:&quot;characterized&quot;,&quot;_2&quot;:1},{&quot;_1&quot;:&quot;spark&quot;,&quot;_2&quot;:3},{&quot;_1&quot;:&quot;saved&quot;,&quot;_2&quot;:1},{&quot;_1&quot;:&quot;parallel&quot;,&quot;_2&quot;:1},{&quot;_1&quot;:&quot;on&quot;,&quot;_2&quot;:9},{&quot;_1&quot;:&quot;such&quot;,&quot;_2&quot;:2},{&quot;_1&quot;:&quot;each&quot;,&quot;_2&quot;:4},{&quot;_1&quot;:&quot;allowing&quot;,&quot;_2&quot;:1},{&quot;_1&quot;:&quot;partitioned&quot;,&quot;_2&quot;:1},{&quot;_1&quot;:&quot;in&quot;,&quot;_2&quot;:4},{&quot;_1&quot;:&quot;resilient&quot;,&quot;_2&quot;:1},{&quot;_1&quot;:&quot;storage&quot;,&quot;_2&quot;:1},{&quot;_1&quot;:&quot;for&quot;,&quot;_2&quot;:5},{&quot;_1&quot;:&quot;block&quot;,&quot;_2&quot;:1},{&quot;_1&quot;:&quot;indeed&quot;,&quot;_2&quot;:1},{&quot;_1&quot;:&quot;based&quot;,&quot;_2&quot;:1},{&quot;_1&quot;:&quot;distributed&quot;,&quot;_2&quot;:1},{&quot;_1&quot;:&quot;represents&quot;,&quot;_2&quot;:1},{&quot;_1&quot;:&quot;hdfs&quot;,&quot;_2&quot;:1},{&quot;_1&quot;:&quot;hashpartitioned&quot;,&quot;_2&quot;:1},{&quot;_1&quot;:&quot;rdds&quot;,&quot;_2&quot;:7},{&quot;_1&quot;:&quot;way&quot;,&quot;_2&quot;:1},{&quot;_1&quot;:&quot;partitions&quot;,&quot;_2&quot;:1},{&quot;_1&quot;:&quot;the&quot;,&quot;_2&quot;:5},{&quot;_1&quot;:&quot;these&quot;,&quot;_2&quot;:2},{&quot;_1&quot;:&quot;pairrddfunctions&quot;,&quot;_2&quot;:1},{&quot;_1&quot;:&quot;custom&quot;,&quot;_2&quot;:1},{&quot;_1&quot;:&quot;contains&quot;,&quot;_2&quot;:4},{&quot;_1&quot;:&quot;main&quot;,&quot;_2&quot;:1},{&quot;_1&quot;:&quot;that&quot;,&quot;_2&quot;:3},{&quot;_1&quot;:&quot;a&quot;,&quot;_2&quot;:7},{&quot;_1&quot;:&quot;preferred&quot;,&quot;_2&quot;:1},{&quot;_1&quot;:&quot;be&quot;,&quot;_2&quot;:2},{&quot;_1&quot;:&quot;say&quot;,&quot;_2&quot;:1},{&quot;_1&quot;:&quot;all&quot;,&quot;_2&quot;:2},{&quot;_1&quot;:&quot;to&quot;,&quot;_2&quot;:4},{&quot;_1&quot;:&quot;available&quot;,&quot;_2&quot;:4},{&quot;_1&quot;:&quot;overriding&quot;,&quot;_2&quot;:1},{&quot;_1&quot;:&quot;properties&quot;,&quot;_2&quot;:1},{&quot;_1&quot;:&quot;implement&quot;,&quot;_2&quot;:2},{&quot;_1&quot;:&quot;more&quot;,&quot;_2&quot;:1},{&quot;_1&quot;:&quot;of&quot;,&quot;_2&quot;:8},{&quot;_1&quot;:&quot;dependencies&quot;,&quot;_2&quot;:1},{&quot;_1&quot;:&quot;by&quot;,&quot;_2&quot;:2},{&quot;_1&quot;:&quot;an&quot;,&quot;_2&quot;:2},{&quot;_1&quot;:&quot;groupbykey&quot;,&quot;_2&quot;:1},{&quot;_1&quot;:&quot;functions&quot;,&quot;_2&quot;:1},{&quot;_1&quot;:&quot;partitioner&quot;,&quot;_2&quot;:1},{&quot;_1&quot;:&quot;and&quot;,&quot;_2&quot;:4},{&quot;_1&quot;:&quot;optionally&quot;,&quot;_2&quot;:2},{&quot;_1&quot;:&quot;pairs&quot;,&quot;_2&quot;:1},{&quot;_1&quot;:&quot;system&quot;,&quot;_2&quot;:1},{&quot;_1&quot;:&quot;compute&quot;,&quot;_2&quot;:1},{&quot;_1&quot;:&quot;elements&quot;,&quot;_2&quot;:1}],&quot;genId&quot;:&quot;920459361&quot;}\" type=\"text/x-scoped-javascript\">/*<![CDATA[*/req(['../javascripts/notebook/playground','../javascripts/notebook/magic/pivotChart'], \n      function(playground, _magicpivotChart) {\n        // data ==> data-this (in observable.js's scopedEval) ==> this in JS => { dataId, dataInit, ... }\n        // this ==> scope (in observable.js's scopedEval) ==> this.parentElement ==> div.container below (toHtml)\n\n        playground.call(data,\n                        this\n                        ,\n                        {\n    \"f\": _magicpivotChart,\n    \"o\": {\"width\":600,\"height\":400,\"derivedAttributes\":{},\"extraOptions\":{}}\n  }\n  \n                        \n                        \n                      );\n      }\n    );/*]]>*/</script>\n    <div>\n      <span class=\"chart-total-item-count\"><p data-bind=\"text: value\"><script data-this=\"{&quot;valueId&quot;:&quot;anon7589f3b3d6685825112a5e48da405ec2&quot;,&quot;initialValue&quot;:&quot;106&quot;}\" type=\"text/x-scoped-javascript\">/*<![CDATA[*/\nreq(\n['observable', 'knockout'],\nfunction (O, ko) {\n  ko.applyBindings({\n      value: O.makeObservable(valueId, initialValue)\n    },\n    this\n  );\n});\n        /*]]>*/</script></p> entries total</span>\n      <span class=\"chart-sampling-warning\"><p data-bind=\"text: value\"><script data-this=\"{&quot;valueId&quot;:&quot;anon02e7447829febe52837e7b5ea9d5462a&quot;,&quot;initialValue&quot;:&quot;&quot;}\" type=\"text/x-scoped-javascript\">/*<![CDATA[*/\nreq(\n['observable', 'knockout'],\nfunction (O, ko) {\n  ko.applyBindings({\n      value: O.makeObservable(valueId, initialValue)\n    },\n    this\n  );\n});\n        /*]]>*/</script></p></span>\n      <div>\n      </div>\n    </div></div>\n            </div></div>\n      </div>\n    </div></div>"
          },
          "output_type" : "execute_result",
          "execution_count" : 7,
          "time" : "Took: 1.073s, at 2017-09-06 08:18"
        }
      ]
    },
    {
      "metadata" : {
        "id" : "D7EB98FEFBC34C7E809486F9859A2026"
      },
      "cell_type" : "markdown",
      "source" : "#### 2/ Second option :\n\nWe do the same, for each element in RDD, we map with value 1. Then we groupByKey and compute the sum of list of the value"
    },
    {
      "metadata" : {
        "trusted" : true,
        "input_collapsed" : false,
        "collapsed" : false,
        "id" : "2E12AAAC9B784155B4A0950F561B39DE"
      },
      "cell_type" : "code",
      "source" : [
        "val wordCount = words.map(l => (l, 1)).groupByKey().map(l => (l._1, l._2.toList.sum))"
      ],
      "outputs" : [
        {
          "name" : "stdout",
          "output_type" : "stream",
          "text" : "wordCount: org.apache.spark.rdd.RDD[(String, Int)] = MapPartitionsRDD[9] at map at <console>:73\n"
        },
        {
          "metadata" : { },
          "data" : {
            "text/html" : ""
          },
          "output_type" : "execute_result",
          "execution_count" : 20,
          "time" : "Took: 0.771s, at 2017-09-06 08:03"
        }
      ]
    },
    {
      "metadata" : {
        "id" : "C0B137BCDC5B47329C6DC4CF8EF999F6"
      },
      "cell_type" : "markdown",
      "source" : "### For example if we want to find the count of \"is\", we can also do filter"
    },
    {
      "metadata" : {
        "trusted" : true,
        "input_collapsed" : false,
        "collapsed" : false,
        "presentation" : {
          "tabs_state" : "{\n  \"tab_id\": \"#tab1129376465-0\"\n}",
          "pivot_chart_state" : "{\n  \"hiddenAttributes\": [],\n  \"menuLimit\": 200,\n  \"cols\": [],\n  \"rows\": [],\n  \"vals\": [],\n  \"exclusions\": {},\n  \"inclusions\": {},\n  \"unusedAttrsVertical\": 85,\n  \"autoSortUnusedAttrs\": false,\n  \"inclusionsInfo\": {},\n  \"aggregatorName\": \"Count\",\n  \"rendererName\": \"Table\"\n}"
        },
        "id" : "B65D3F596049480D869EE3179A394C70"
      },
      "cell_type" : "code",
      "source" : [
        "wordCount.filter(l => l._1 == \"of\").take(10)"
      ],
      "outputs" : [
        {
          "name" : "stdout",
          "output_type" : "stream",
          "text" : "res15: Array[(String, Int)] = Array((of,8))\n"
        },
        {
          "metadata" : { },
          "data" : {
            "text/html" : "<div>\n      <script data-this=\"{&quot;dataId&quot;:&quot;anon9eaf2439cd245ce467be2cf45d859f39&quot;,&quot;dataInit&quot;:[],&quot;genId&quot;:&quot;1129376465&quot;}\" type=\"text/x-scoped-javascript\">/*<![CDATA[*/req(['../javascripts/notebook/playground','../javascripts/notebook/magic/tabs'], \n      function(playground, _magictabs) {\n        // data ==> data-this (in observable.js's scopedEval) ==> this in JS => { dataId, dataInit, ... }\n        // this ==> scope (in observable.js's scopedEval) ==> this.parentElement ==> div.container below (toHtml)\n\n        playground.call(data,\n                        this\n                        ,\n                        {\n    \"f\": _magictabs,\n    \"o\": {}\n  }\n  \n                        \n                        \n                      );\n      }\n    );/*]]>*/</script>\n    <div>\n      <div>\n        <ul class=\"nav nav-tabs\" id=\"ul1129376465\"><li>\n              <a href=\"#tab1129376465-0\"><i class=\"fa fa-table\"/></a>\n            </li><li>\n              <a href=\"#tab1129376465-1\"><i class=\"fa fa-bar-chart\"/></a>\n            </li><li>\n              <a href=\"#tab1129376465-2\"><i class=\"fa fa-pie-chart\"/></a>\n            </li><li>\n              <a href=\"#tab1129376465-3\"><i class=\"fa fa-cubes\"/></a>\n            </li></ul>\n\n        <div class=\"tab-content\" id=\"tab1129376465\"><div class=\"tab-pane\" id=\"tab1129376465-0\">\n            <div>\n      <script data-this=\"{&quot;dataId&quot;:&quot;anon19e389ef95e81190578f2bd4b43ede31&quot;,&quot;dataInit&quot;:[{&quot;_1&quot;:&quot;of&quot;,&quot;_2&quot;:8}],&quot;genId&quot;:&quot;64232346&quot;}\" type=\"text/x-scoped-javascript\">/*<![CDATA[*/req(['../javascripts/notebook/playground','../javascripts/notebook/magic/tableChart'], \n      function(playground, _magictableChart) {\n        // data ==> data-this (in observable.js's scopedEval) ==> this in JS => { dataId, dataInit, ... }\n        // this ==> scope (in observable.js's scopedEval) ==> this.parentElement ==> div.container below (toHtml)\n\n        playground.call(data,\n                        this\n                        ,\n                        {\n    \"f\": _magictableChart,\n    \"o\": {\"headers\":[\"_1\",\"_2\"],\"width\":600,\"height\":400}\n  }\n  \n                        \n                        \n                      );\n      }\n    );/*]]>*/</script>\n    <div>\n      <span class=\"chart-total-item-count\"><p data-bind=\"text: value\"><script data-this=\"{&quot;valueId&quot;:&quot;anonc56ef48cbb827dcc80c3502a65c88be0&quot;,&quot;initialValue&quot;:&quot;1&quot;}\" type=\"text/x-scoped-javascript\">/*<![CDATA[*/\nreq(\n['observable', 'knockout'],\nfunction (O, ko) {\n  ko.applyBindings({\n      value: O.makeObservable(valueId, initialValue)\n    },\n    this\n  );\n});\n        /*]]>*/</script></p> entries total</span>\n      <span class=\"chart-sampling-warning\"><p data-bind=\"text: value\"><script data-this=\"{&quot;valueId&quot;:&quot;anone4202387ffaefcb307b01660f86a4d85&quot;,&quot;initialValue&quot;:&quot;&quot;}\" type=\"text/x-scoped-javascript\">/*<![CDATA[*/\nreq(\n['observable', 'knockout'],\nfunction (O, ko) {\n  ko.applyBindings({\n      value: O.makeObservable(valueId, initialValue)\n    },\n    this\n  );\n});\n        /*]]>*/</script></p></span>\n      <div>\n      </div>\n    </div></div>\n            </div><div class=\"tab-pane\" id=\"tab1129376465-1\">\n            <div>\n      <script data-this=\"{&quot;dataId&quot;:&quot;anon9e979ccb02f2d13efbbef4cd3ba70a94&quot;,&quot;dataInit&quot;:[{&quot;_1&quot;:&quot;of&quot;,&quot;_2&quot;:8}],&quot;genId&quot;:&quot;1580369765&quot;}\" type=\"text/x-scoped-javascript\">/*<![CDATA[*/req(['../javascripts/notebook/playground','../javascripts/notebook/magic/barChart'], \n      function(playground, _magicbarChart) {\n        // data ==> data-this (in observable.js's scopedEval) ==> this in JS => { dataId, dataInit, ... }\n        // this ==> scope (in observable.js's scopedEval) ==> this.parentElement ==> div.container below (toHtml)\n\n        playground.call(data,\n                        this\n                        ,\n                        {\n    \"f\": _magicbarChart,\n    \"o\": {\"x\":\"_1\",\"y\":\"_2\",\"width\":600,\"height\":400}\n  }\n  \n                        \n                        \n                      );\n      }\n    );/*]]>*/</script>\n    <div>\n      <span class=\"chart-total-item-count\"><p data-bind=\"text: value\"><script data-this=\"{&quot;valueId&quot;:&quot;anone929911008e6644c7bb7c569a403fb9d&quot;,&quot;initialValue&quot;:&quot;1&quot;}\" type=\"text/x-scoped-javascript\">/*<![CDATA[*/\nreq(\n['observable', 'knockout'],\nfunction (O, ko) {\n  ko.applyBindings({\n      value: O.makeObservable(valueId, initialValue)\n    },\n    this\n  );\n});\n        /*]]>*/</script></p> entries total</span>\n      <span class=\"chart-sampling-warning\"><p data-bind=\"text: value\"><script data-this=\"{&quot;valueId&quot;:&quot;anon03c66940dfc741bdd39480fb04e9a349&quot;,&quot;initialValue&quot;:&quot;&quot;}\" type=\"text/x-scoped-javascript\">/*<![CDATA[*/\nreq(\n['observable', 'knockout'],\nfunction (O, ko) {\n  ko.applyBindings({\n      value: O.makeObservable(valueId, initialValue)\n    },\n    this\n  );\n});\n        /*]]>*/</script></p></span>\n      <div>\n      </div>\n    </div></div>\n            </div><div class=\"tab-pane\" id=\"tab1129376465-2\">\n            <div>\n      <script data-this=\"{&quot;dataId&quot;:&quot;anonf6daf99f8f3e35362f2576e73df16eae&quot;,&quot;dataInit&quot;:[{&quot;_1&quot;:&quot;of&quot;,&quot;_2&quot;:8}],&quot;genId&quot;:&quot;1419618168&quot;}\" type=\"text/x-scoped-javascript\">/*<![CDATA[*/req(['../javascripts/notebook/playground','../javascripts/notebook/magic/pieChart'], \n      function(playground, _magicpieChart) {\n        // data ==> data-this (in observable.js's scopedEval) ==> this in JS => { dataId, dataInit, ... }\n        // this ==> scope (in observable.js's scopedEval) ==> this.parentElement ==> div.container below (toHtml)\n\n        playground.call(data,\n                        this\n                        ,\n                        {\n    \"f\": _magicpieChart,\n    \"o\": {\"series\":\"_1\",\"p\":\"_2\",\"width\":600,\"height\":400}\n  }\n  \n                        \n                        \n                      );\n      }\n    );/*]]>*/</script>\n    <div>\n      <span class=\"chart-total-item-count\"><p data-bind=\"text: value\"><script data-this=\"{&quot;valueId&quot;:&quot;anon1ef97fca91bd2228f56c8a95820198fe&quot;,&quot;initialValue&quot;:&quot;1&quot;}\" type=\"text/x-scoped-javascript\">/*<![CDATA[*/\nreq(\n['observable', 'knockout'],\nfunction (O, ko) {\n  ko.applyBindings({\n      value: O.makeObservable(valueId, initialValue)\n    },\n    this\n  );\n});\n        /*]]>*/</script></p> entries total</span>\n      <span class=\"chart-sampling-warning\"><p data-bind=\"text: value\"><script data-this=\"{&quot;valueId&quot;:&quot;anon7fd81aa2d77406c0f10810d31b0d179b&quot;,&quot;initialValue&quot;:&quot;&quot;}\" type=\"text/x-scoped-javascript\">/*<![CDATA[*/\nreq(\n['observable', 'knockout'],\nfunction (O, ko) {\n  ko.applyBindings({\n      value: O.makeObservable(valueId, initialValue)\n    },\n    this\n  );\n});\n        /*]]>*/</script></p></span>\n      <div>\n      </div>\n    </div></div>\n            </div><div class=\"tab-pane\" id=\"tab1129376465-3\">\n            <div>\n      <script data-this=\"{&quot;dataId&quot;:&quot;anon83c130c5a5b839c3bdab223cf48cbdb4&quot;,&quot;dataInit&quot;:[{&quot;_1&quot;:&quot;of&quot;,&quot;_2&quot;:8}],&quot;genId&quot;:&quot;2129733988&quot;}\" type=\"text/x-scoped-javascript\">/*<![CDATA[*/req(['../javascripts/notebook/playground','../javascripts/notebook/magic/pivotChart'], \n      function(playground, _magicpivotChart) {\n        // data ==> data-this (in observable.js's scopedEval) ==> this in JS => { dataId, dataInit, ... }\n        // this ==> scope (in observable.js's scopedEval) ==> this.parentElement ==> div.container below (toHtml)\n\n        playground.call(data,\n                        this\n                        ,\n                        {\n    \"f\": _magicpivotChart,\n    \"o\": {\"width\":600,\"height\":400,\"derivedAttributes\":{},\"extraOptions\":{}}\n  }\n  \n                        \n                        \n                      );\n      }\n    );/*]]>*/</script>\n    <div>\n      <span class=\"chart-total-item-count\"><p data-bind=\"text: value\"><script data-this=\"{&quot;valueId&quot;:&quot;anonb4860c4a6e91dac9bd5979550eb6205b&quot;,&quot;initialValue&quot;:&quot;1&quot;}\" type=\"text/x-scoped-javascript\">/*<![CDATA[*/\nreq(\n['observable', 'knockout'],\nfunction (O, ko) {\n  ko.applyBindings({\n      value: O.makeObservable(valueId, initialValue)\n    },\n    this\n  );\n});\n        /*]]>*/</script></p> entries total</span>\n      <span class=\"chart-sampling-warning\"><p data-bind=\"text: value\"><script data-this=\"{&quot;valueId&quot;:&quot;anon7f95933bde92c7dd3c6c4cbfaa9648e3&quot;,&quot;initialValue&quot;:&quot;&quot;}\" type=\"text/x-scoped-javascript\">/*<![CDATA[*/\nreq(\n['observable', 'knockout'],\nfunction (O, ko) {\n  ko.applyBindings({\n      value: O.makeObservable(valueId, initialValue)\n    },\n    this\n  );\n});\n        /*]]>*/</script></p></span>\n      <div>\n      </div>\n    </div></div>\n            </div></div>\n      </div>\n    </div></div>"
          },
          "output_type" : "execute_result",
          "execution_count" : 8,
          "time" : "Took: 1.123s, at 2017-09-06 08:20"
        }
      ]
    },
    {
      "metadata" : {
        "id" : "3B8E0DF4D87F4A07AD9439F2DA1421C3"
      },
      "cell_type" : "markdown",
      "source" : "### So without any filter, the output will be "
    },
    {
      "metadata" : {
        "trusted" : true,
        "input_collapsed" : false,
        "collapsed" : false,
        "presentation" : {
          "tabs_state" : "{\n  \"tab_id\": \"#tab1945182945-0\"\n}",
          "pivot_chart_state" : "{\n  \"hiddenAttributes\": [],\n  \"menuLimit\": 200,\n  \"cols\": [],\n  \"rows\": [],\n  \"vals\": [],\n  \"exclusions\": {},\n  \"inclusions\": {},\n  \"unusedAttrsVertical\": 85,\n  \"autoSortUnusedAttrs\": false,\n  \"inclusionsInfo\": {},\n  \"aggregatorName\": \"Count\",\n  \"rendererName\": \"Table\"\n}"
        },
        "id" : "AA346D5DB42C487BA3DA2705D902A04A"
      },
      "cell_type" : "code",
      "source" : [
        "wordCount.take(12)"
      ],
      "outputs" : [
        {
          "name" : "stdout",
          "output_type" : "stream",
          "text" : "res12: Array[(String, Int)] = Array((reading,1), (this,1), (paper,1), (doublerddfunctions,1), (collection,1), (internally,1), (is,3), (its,1), (sequencefiles,1), (persist,1), (only,2), (data,1))\n"
        },
        {
          "metadata" : { },
          "data" : {
            "text/html" : "<div>\n      <script data-this=\"{&quot;dataId&quot;:&quot;anon3c88bdf6757854693dc29b869d603d95&quot;,&quot;dataInit&quot;:[],&quot;genId&quot;:&quot;1945182945&quot;}\" type=\"text/x-scoped-javascript\">/*<![CDATA[*/req(['../javascripts/notebook/playground','../javascripts/notebook/magic/tabs'], \n      function(playground, _magictabs) {\n        // data ==> data-this (in observable.js's scopedEval) ==> this in JS => { dataId, dataInit, ... }\n        // this ==> scope (in observable.js's scopedEval) ==> this.parentElement ==> div.container below (toHtml)\n\n        playground.call(data,\n                        this\n                        ,\n                        {\n    \"f\": _magictabs,\n    \"o\": {}\n  }\n  \n                        \n                        \n                      );\n      }\n    );/*]]>*/</script>\n    <div>\n      <div>\n        <ul class=\"nav nav-tabs\" id=\"ul1945182945\"><li>\n              <a href=\"#tab1945182945-0\"><i class=\"fa fa-table\"/></a>\n            </li><li>\n              <a href=\"#tab1945182945-1\"><i class=\"fa fa-bar-chart\"/></a>\n            </li><li>\n              <a href=\"#tab1945182945-2\"><i class=\"fa fa-pie-chart\"/></a>\n            </li><li>\n              <a href=\"#tab1945182945-3\"><i class=\"fa fa-cubes\"/></a>\n            </li></ul>\n\n        <div class=\"tab-content\" id=\"tab1945182945\"><div class=\"tab-pane\" id=\"tab1945182945-0\">\n            <div>\n      <script data-this=\"{&quot;dataId&quot;:&quot;anon8112a34a68c5ccc53b0e9a935ecd64ca&quot;,&quot;dataInit&quot;:[{&quot;_1&quot;:&quot;reading&quot;,&quot;_2&quot;:1},{&quot;_1&quot;:&quot;this&quot;,&quot;_2&quot;:1},{&quot;_1&quot;:&quot;paper&quot;,&quot;_2&quot;:1},{&quot;_1&quot;:&quot;doublerddfunctions&quot;,&quot;_2&quot;:1},{&quot;_1&quot;:&quot;collection&quot;,&quot;_2&quot;:1},{&quot;_1&quot;:&quot;internally&quot;,&quot;_2&quot;:1},{&quot;_1&quot;:&quot;is&quot;,&quot;_2&quot;:3},{&quot;_1&quot;:&quot;its&quot;,&quot;_2&quot;:1},{&quot;_1&quot;:&quot;sequencefiles&quot;,&quot;_2&quot;:1},{&quot;_1&quot;:&quot;persist&quot;,&quot;_2&quot;:1},{&quot;_1&quot;:&quot;only&quot;,&quot;_2&quot;:2},{&quot;_1&quot;:&quot;data&quot;,&quot;_2&quot;:1}],&quot;genId&quot;:&quot;1457677252&quot;}\" type=\"text/x-scoped-javascript\">/*<![CDATA[*/req(['../javascripts/notebook/playground','../javascripts/notebook/magic/tableChart'], \n      function(playground, _magictableChart) {\n        // data ==> data-this (in observable.js's scopedEval) ==> this in JS => { dataId, dataInit, ... }\n        // this ==> scope (in observable.js's scopedEval) ==> this.parentElement ==> div.container below (toHtml)\n\n        playground.call(data,\n                        this\n                        ,\n                        {\n    \"f\": _magictableChart,\n    \"o\": {\"headers\":[\"_1\",\"_2\"],\"width\":600,\"height\":400}\n  }\n  \n                        \n                        \n                      );\n      }\n    );/*]]>*/</script>\n    <div>\n      <span class=\"chart-total-item-count\"><p data-bind=\"text: value\"><script data-this=\"{&quot;valueId&quot;:&quot;anonfb42556cb9e2c05dd88bfef89aa1743e&quot;,&quot;initialValue&quot;:&quot;12&quot;}\" type=\"text/x-scoped-javascript\">/*<![CDATA[*/\nreq(\n['observable', 'knockout'],\nfunction (O, ko) {\n  ko.applyBindings({\n      value: O.makeObservable(valueId, initialValue)\n    },\n    this\n  );\n});\n        /*]]>*/</script></p> entries total</span>\n      <span class=\"chart-sampling-warning\"><p data-bind=\"text: value\"><script data-this=\"{&quot;valueId&quot;:&quot;anon143b3360d2361c980510900304576a44&quot;,&quot;initialValue&quot;:&quot;&quot;}\" type=\"text/x-scoped-javascript\">/*<![CDATA[*/\nreq(\n['observable', 'knockout'],\nfunction (O, ko) {\n  ko.applyBindings({\n      value: O.makeObservable(valueId, initialValue)\n    },\n    this\n  );\n});\n        /*]]>*/</script></p></span>\n      <div>\n      </div>\n    </div></div>\n            </div><div class=\"tab-pane\" id=\"tab1945182945-1\">\n            <div>\n      <script data-this=\"{&quot;dataId&quot;:&quot;anonb61df39e71a0afcc845cfb86a14b18ac&quot;,&quot;dataInit&quot;:[{&quot;_1&quot;:&quot;reading&quot;,&quot;_2&quot;:1},{&quot;_1&quot;:&quot;this&quot;,&quot;_2&quot;:1},{&quot;_1&quot;:&quot;paper&quot;,&quot;_2&quot;:1},{&quot;_1&quot;:&quot;doublerddfunctions&quot;,&quot;_2&quot;:1},{&quot;_1&quot;:&quot;collection&quot;,&quot;_2&quot;:1},{&quot;_1&quot;:&quot;internally&quot;,&quot;_2&quot;:1},{&quot;_1&quot;:&quot;is&quot;,&quot;_2&quot;:3},{&quot;_1&quot;:&quot;its&quot;,&quot;_2&quot;:1},{&quot;_1&quot;:&quot;sequencefiles&quot;,&quot;_2&quot;:1},{&quot;_1&quot;:&quot;persist&quot;,&quot;_2&quot;:1},{&quot;_1&quot;:&quot;only&quot;,&quot;_2&quot;:2},{&quot;_1&quot;:&quot;data&quot;,&quot;_2&quot;:1}],&quot;genId&quot;:&quot;1226598893&quot;}\" type=\"text/x-scoped-javascript\">/*<![CDATA[*/req(['../javascripts/notebook/playground','../javascripts/notebook/magic/barChart'], \n      function(playground, _magicbarChart) {\n        // data ==> data-this (in observable.js's scopedEval) ==> this in JS => { dataId, dataInit, ... }\n        // this ==> scope (in observable.js's scopedEval) ==> this.parentElement ==> div.container below (toHtml)\n\n        playground.call(data,\n                        this\n                        ,\n                        {\n    \"f\": _magicbarChart,\n    \"o\": {\"x\":\"_1\",\"y\":\"_2\",\"width\":600,\"height\":400}\n  }\n  \n                        \n                        \n                      );\n      }\n    );/*]]>*/</script>\n    <div>\n      <span class=\"chart-total-item-count\"><p data-bind=\"text: value\"><script data-this=\"{&quot;valueId&quot;:&quot;anon1d8ae6d8384dde29847be1cd8411fb56&quot;,&quot;initialValue&quot;:&quot;12&quot;}\" type=\"text/x-scoped-javascript\">/*<![CDATA[*/\nreq(\n['observable', 'knockout'],\nfunction (O, ko) {\n  ko.applyBindings({\n      value: O.makeObservable(valueId, initialValue)\n    },\n    this\n  );\n});\n        /*]]>*/</script></p> entries total</span>\n      <span class=\"chart-sampling-warning\"><p data-bind=\"text: value\"><script data-this=\"{&quot;valueId&quot;:&quot;anon5f7004c59d6cf622b9e1c339ef038036&quot;,&quot;initialValue&quot;:&quot;&quot;}\" type=\"text/x-scoped-javascript\">/*<![CDATA[*/\nreq(\n['observable', 'knockout'],\nfunction (O, ko) {\n  ko.applyBindings({\n      value: O.makeObservable(valueId, initialValue)\n    },\n    this\n  );\n});\n        /*]]>*/</script></p></span>\n      <div>\n      </div>\n    </div></div>\n            </div><div class=\"tab-pane\" id=\"tab1945182945-2\">\n            <div>\n      <script data-this=\"{&quot;dataId&quot;:&quot;anon49fe1481a1c39ec8f63b18a979a29dfe&quot;,&quot;dataInit&quot;:[{&quot;_1&quot;:&quot;reading&quot;,&quot;_2&quot;:1},{&quot;_1&quot;:&quot;this&quot;,&quot;_2&quot;:1},{&quot;_1&quot;:&quot;paper&quot;,&quot;_2&quot;:1},{&quot;_1&quot;:&quot;doublerddfunctions&quot;,&quot;_2&quot;:1},{&quot;_1&quot;:&quot;collection&quot;,&quot;_2&quot;:1},{&quot;_1&quot;:&quot;internally&quot;,&quot;_2&quot;:1},{&quot;_1&quot;:&quot;is&quot;,&quot;_2&quot;:3},{&quot;_1&quot;:&quot;its&quot;,&quot;_2&quot;:1},{&quot;_1&quot;:&quot;sequencefiles&quot;,&quot;_2&quot;:1},{&quot;_1&quot;:&quot;persist&quot;,&quot;_2&quot;:1},{&quot;_1&quot;:&quot;only&quot;,&quot;_2&quot;:2},{&quot;_1&quot;:&quot;data&quot;,&quot;_2&quot;:1}],&quot;genId&quot;:&quot;1059637654&quot;}\" type=\"text/x-scoped-javascript\">/*<![CDATA[*/req(['../javascripts/notebook/playground','../javascripts/notebook/magic/pieChart'], \n      function(playground, _magicpieChart) {\n        // data ==> data-this (in observable.js's scopedEval) ==> this in JS => { dataId, dataInit, ... }\n        // this ==> scope (in observable.js's scopedEval) ==> this.parentElement ==> div.container below (toHtml)\n\n        playground.call(data,\n                        this\n                        ,\n                        {\n    \"f\": _magicpieChart,\n    \"o\": {\"series\":\"_1\",\"p\":\"_2\",\"width\":600,\"height\":400}\n  }\n  \n                        \n                        \n                      );\n      }\n    );/*]]>*/</script>\n    <div>\n      <span class=\"chart-total-item-count\"><p data-bind=\"text: value\"><script data-this=\"{&quot;valueId&quot;:&quot;anonc1efb2c8bab3c67de725695e9c603c76&quot;,&quot;initialValue&quot;:&quot;12&quot;}\" type=\"text/x-scoped-javascript\">/*<![CDATA[*/\nreq(\n['observable', 'knockout'],\nfunction (O, ko) {\n  ko.applyBindings({\n      value: O.makeObservable(valueId, initialValue)\n    },\n    this\n  );\n});\n        /*]]>*/</script></p> entries total</span>\n      <span class=\"chart-sampling-warning\"><p data-bind=\"text: value\"><script data-this=\"{&quot;valueId&quot;:&quot;anon684dd39897de68696766f3ec41f0270f&quot;,&quot;initialValue&quot;:&quot;&quot;}\" type=\"text/x-scoped-javascript\">/*<![CDATA[*/\nreq(\n['observable', 'knockout'],\nfunction (O, ko) {\n  ko.applyBindings({\n      value: O.makeObservable(valueId, initialValue)\n    },\n    this\n  );\n});\n        /*]]>*/</script></p></span>\n      <div>\n      </div>\n    </div></div>\n            </div><div class=\"tab-pane\" id=\"tab1945182945-3\">\n            <div>\n      <script data-this=\"{&quot;dataId&quot;:&quot;anond25f5a5254abffab59940528cdc778c3&quot;,&quot;dataInit&quot;:[{&quot;_1&quot;:&quot;reading&quot;,&quot;_2&quot;:1},{&quot;_1&quot;:&quot;this&quot;,&quot;_2&quot;:1},{&quot;_1&quot;:&quot;paper&quot;,&quot;_2&quot;:1},{&quot;_1&quot;:&quot;doublerddfunctions&quot;,&quot;_2&quot;:1},{&quot;_1&quot;:&quot;collection&quot;,&quot;_2&quot;:1},{&quot;_1&quot;:&quot;internally&quot;,&quot;_2&quot;:1},{&quot;_1&quot;:&quot;is&quot;,&quot;_2&quot;:3},{&quot;_1&quot;:&quot;its&quot;,&quot;_2&quot;:1},{&quot;_1&quot;:&quot;sequencefiles&quot;,&quot;_2&quot;:1},{&quot;_1&quot;:&quot;persist&quot;,&quot;_2&quot;:1},{&quot;_1&quot;:&quot;only&quot;,&quot;_2&quot;:2},{&quot;_1&quot;:&quot;data&quot;,&quot;_2&quot;:1}],&quot;genId&quot;:&quot;1528173790&quot;}\" type=\"text/x-scoped-javascript\">/*<![CDATA[*/req(['../javascripts/notebook/playground','../javascripts/notebook/magic/pivotChart'], \n      function(playground, _magicpivotChart) {\n        // data ==> data-this (in observable.js's scopedEval) ==> this in JS => { dataId, dataInit, ... }\n        // this ==> scope (in observable.js's scopedEval) ==> this.parentElement ==> div.container below (toHtml)\n\n        playground.call(data,\n                        this\n                        ,\n                        {\n    \"f\": _magicpivotChart,\n    \"o\": {\"width\":600,\"height\":400,\"derivedAttributes\":{},\"extraOptions\":{}}\n  }\n  \n                        \n                        \n                      );\n      }\n    );/*]]>*/</script>\n    <div>\n      <span class=\"chart-total-item-count\"><p data-bind=\"text: value\"><script data-this=\"{&quot;valueId&quot;:&quot;anonac9f3efe9ca2ab4f888789f34d7bf2a4&quot;,&quot;initialValue&quot;:&quot;12&quot;}\" type=\"text/x-scoped-javascript\">/*<![CDATA[*/\nreq(\n['observable', 'knockout'],\nfunction (O, ko) {\n  ko.applyBindings({\n      value: O.makeObservable(valueId, initialValue)\n    },\n    this\n  );\n});\n        /*]]>*/</script></p> entries total</span>\n      <span class=\"chart-sampling-warning\"><p data-bind=\"text: value\"><script data-this=\"{&quot;valueId&quot;:&quot;anonfa7c55de8aab5bfa95d8d9701c6a32c2&quot;,&quot;initialValue&quot;:&quot;&quot;}\" type=\"text/x-scoped-javascript\">/*<![CDATA[*/\nreq(\n['observable', 'knockout'],\nfunction (O, ko) {\n  ko.applyBindings({\n      value: O.makeObservable(valueId, initialValue)\n    },\n    this\n  );\n});\n        /*]]>*/</script></p></span>\n      <div>\n      </div>\n    </div></div>\n            </div></div>\n      </div>\n    </div></div>"
          },
          "output_type" : "execute_result",
          "execution_count" : 7,
          "time" : "Took: 1.034s, at 2017-09-06 08:12"
        }
      ]
    },
    {
      "metadata" : {
        "trusted" : true,
        "input_collapsed" : false,
        "collapsed" : true,
        "id" : "95ED7161E4CC48FB89BD6F60B0528C7A"
      },
      "cell_type" : "markdown",
      "source" : "### From RDD to DataFrame and Dataset\n\nWe can convert RDD to Dataset or DataFrame. In fact, in Spark, these 3 APIs (RDD, DataFrame ans Dataset) are the three types officially used. They can convert to each other. \n\nTo understand thoroughly when to use them, you can read at https://databricks.com/blog/2016/07/14/a-tale-of-three-apache-spark-apis-rdds-dataframes-and-datasets.html"
    },
    {
      "metadata" : {
        "id" : "0AB3728226A9467DB5FFE11D54EECEC9"
      },
      "cell_type" : "markdown",
      "source" : "#### From RDD to DataFrame"
    },
    {
      "metadata" : {
        "trusted" : true,
        "input_collapsed" : false,
        "collapsed" : false,
        "id" : "D565BD70228545D38AAA6730541DB835"
      },
      "cell_type" : "code",
      "source" : [
        "val sqlContext = new SQLContext(sc) \n",
        "import sqlContext.implicits._\n",
        "\n",
        "val df = wordCount.toDF(\"word\", \"count\")"
      ],
      "outputs" : [
        {
          "name" : "stdout",
          "output_type" : "stream",
          "text" : "<console>:75: warning: constructor SQLContext in class SQLContext is deprecated: Use SparkSession.builder instead\n       val sqlContext = new SQLContext(sc)\n                        ^\nsqlContext: org.apache.spark.sql.SQLContext = org.apache.spark.sql.SQLContext@194699f1\nimport sqlContext.implicits._\ndf: org.apache.spark.sql.DataFrame = [word: string, count: int]\n"
        },
        {
          "metadata" : { },
          "data" : {
            "text/html" : ""
          },
          "output_type" : "execute_result",
          "execution_count" : 8,
          "time" : "Took: 2.616s, at 2017-09-05 02:44"
        }
      ]
    },
    {
      "metadata" : {
        "trusted" : true,
        "input_collapsed" : false,
        "collapsed" : false,
        "id" : "DDF142AB89714CAA8083D7763D14C05A"
      },
      "cell_type" : "code",
      "source" : [
        "df.show()"
      ],
      "outputs" : [
        {
          "name" : "stdout",
          "output_type" : "stream",
          "text" : "+--------------------+-----+\n|                word|count|\n+--------------------+-----+\n|             reading|    1|\n|                this|    1|\n|               paper|    1|\n|  doublerddfunctions|    1|\n|          collection|    1|\n|          internally|    1|\n|                 its|    1|\n|                  is|    3|\n|       sequencefiles|    1|\n|             persist|    1|\n|                only|    2|\n|                data|    1|\n|         abstraction|    1|\n|           internals|    1|\n|               basic|    2|\n|                 map|    1|\n|sequencefilerddfu...|    1|\n|               class|    1|\n|             methods|    1|\n|          scheduling|    1|\n+--------------------+-----+\nonly showing top 20 rows\n\n"
        },
        {
          "metadata" : { },
          "data" : {
            "text/html" : ""
          },
          "output_type" : "execute_result",
          "execution_count" : 21,
          "time" : "Took: 1.570s, at 2017-08-29 12:50"
        }
      ]
    },
    {
      "metadata" : {
        "id" : "7E32A51004054ABB8873F4DE873E86E3"
      },
      "cell_type" : "markdown",
      "source" : "#### From RDD to Dataset"
    },
    {
      "metadata" : {
        "trusted" : true,
        "input_collapsed" : false,
        "collapsed" : false,
        "id" : "04161E75C8DE414F80DB56E6FC3BAA04"
      },
      "cell_type" : "code",
      "source" : [
        "import org.apache.spark.sql.types.{DoubleType, StringType, StructField, StructType}\n",
        "import org.apache.spark.sql.{Row, SparkSession}"
      ],
      "outputs" : [
        {
          "name" : "stdout",
          "output_type" : "stream",
          "text" : "import org.apache.spark.sql.types.{DoubleType, StringType, StructField, StructType}\nimport org.apache.spark.sql.{Row, SparkSession}\n"
        },
        {
          "metadata" : { },
          "data" : {
            "text/html" : ""
          },
          "output_type" : "execute_result",
          "execution_count" : 22,
          "time" : "Took: 0.706s, at 2017-08-29 12:51"
        }
      ]
    },
    {
      "metadata" : {
        "trusted" : true,
        "input_collapsed" : false,
        "collapsed" : false,
        "id" : "9E44A8AFEB4C4CDD99479C2882A78F8C"
      },
      "cell_type" : "code",
      "source" : [
        "val sparkSession = SparkSession.builder\n",
        "      .master(\"local\")\n",
        "      .appName(\"example\")\n",
        "      .getOrCreate()\n",
        "\n",
        "val sparkContext = sparkSession.sparkContext\n",
        "import sparkSession.implicits._"
      ],
      "outputs" : [
        {
          "name" : "stdout",
          "output_type" : "stream",
          "text" : "sparkSession: org.apache.spark.sql.SparkSession = org.apache.spark.sql.SparkSession@4925c3d7\nsparkContext: org.apache.spark.SparkContext = org.apache.spark.SparkContext@2405fc0d\nimport sparkSession.implicits._\n"
        },
        {
          "metadata" : { },
          "data" : {
            "text/html" : ""
          },
          "output_type" : "execute_result",
          "execution_count" : 23,
          "time" : "Took: 1.327s, at 2017-08-29 12:52"
        }
      ]
    },
    {
      "metadata" : {
        "trusted" : true,
        "input_collapsed" : false,
        "collapsed" : false,
        "id" : "3263428CFDB047E984D0E9F30CA17B50"
      },
      "cell_type" : "code",
      "source" : [
        "val dataset = words_with_nbOccurences.toDS()"
      ],
      "outputs" : [
        {
          "name" : "stdout",
          "output_type" : "stream",
          "text" : "dataset: org.apache.spark.sql.Dataset[(String, Int)] = [_1: string, _2: int]\n"
        },
        {
          "metadata" : { },
          "data" : {
            "text/html" : ""
          },
          "output_type" : "execute_result",
          "execution_count" : 3,
          "time" : "Took: 0.843s, at 2017-08-29 12:54"
        }
      ]
    },
    {
      "metadata" : {
        "trusted" : true,
        "input_collapsed" : false,
        "collapsed" : false,
        "id" : "7B4438CBC26D43A99D7E15A5B444DF5A"
      },
      "cell_type" : "code",
      "source" : [
        "dataset.show()"
      ],
      "outputs" : [
        {
          "name" : "stdout",
          "output_type" : "stream",
          "text" : "+--------------------+---+\n|                  _1| _2|\n+--------------------+---+\n|             reading|  1|\n|                this|  1|\n|               paper|  1|\n|  doublerddfunctions|  1|\n|          collection|  1|\n|          internally|  1|\n|                 its|  1|\n|                  is|  3|\n|       sequencefiles|  1|\n|             persist|  1|\n|                only|  2|\n|                data|  1|\n|         abstraction|  1|\n|           internals|  1|\n|               basic|  2|\n|                 map|  1|\n|sequencefilerddfu...|  1|\n|               class|  1|\n|             methods|  1|\n|          scheduling|  1|\n+--------------------+---+\nonly showing top 20 rows\n\n"
        },
        {
          "metadata" : { },
          "data" : {
            "text/html" : ""
          },
          "output_type" : "execute_result",
          "execution_count" : 4,
          "time" : "Took: 1.031s, at 2017-08-29 12:55"
        }
      ]
    },
    {
      "metadata" : {
        "trusted" : true,
        "input_collapsed" : false,
        "collapsed" : true,
        "id" : "C56176E7A0994D17843ED011185688CA"
      },
      "cell_type" : "code",
      "source" : [
        ""
      ],
      "outputs" : [ ]
    }
  ],
  "nbformat" : 4
}