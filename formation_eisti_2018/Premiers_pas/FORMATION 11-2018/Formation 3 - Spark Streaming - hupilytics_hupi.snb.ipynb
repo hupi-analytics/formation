{
  "metadata" : {
    "id" : "e18f723b-ea63-411c-98f2-0f780e813e01",
    "name" : "Formation 3 - Spark Streaming - hupilytics_hupi",
    "user_save_timestamp" : "2018-11-20T15:25:19.165Z",
    "auto_save_timestamp" : "1970-01-01T00:00:00.000Z",
    "language_info" : {
      "name" : "scala",
      "file_extension" : "scala",
      "codemirror_mode" : "text/x-scala"
    },
    "trusted" : true,
    "sparkNotebook" : null,
    "customLocalRepo" : null,
    "customRepos" : null,
    "customDeps" : [
      "org.apache.spark % spark-streaming-kafka-0-8_2.11 % 2.2.0"
    ],
    "customImports" : null,
    "customArgs" : null,
    "customSparkConf" : null,
    "customVars" : null
  },
  "cells" : [
    {
      "metadata" : {
        "id" : "A47A0BCADB5B468E8A3C71B74CB86E2A"
      },
      "cell_type" : "markdown",
      "source" : "### Spark Streaming\n\nSpark Streaming is an extension of the core Spark API that enables scalable, high-throughput, \nfault-tolerant stream processing of live data streams. Data can be ingested from many sources like \nKafka, Flume, Kinesis, or TCP sockets, and can be processed using complex algorithms expressed \nwith high-level functions like map, reduce, join and window. Finally, processed data can be \npushed out to filesystems, databases, and live dashboards. In fact, you can apply Spark’s machine learning and graph processing algorithms on data streams."
    },
    {
      "metadata" : {
        "id" : "C5CFCAAC9A21424A83EB2A2A45EE3BF2"
      },
      "cell_type" : "markdown",
      "source" : "First, we import the names of the Spark Streaming classes and some implicit conversions from StreamingContext into our environment in order to add useful methods to other classes we need (like DStream). StreamingContext is the main entry point for all streaming functionality. We create a local StreamingContext with two execution threads, and a batch interval of 1 second."
    },
    {
      "metadata" : {
        "trusted" : true,
        "input_collapsed" : false,
        "collapsed" : false,
        "id" : "C9BB1D25CB1946838F4A2067B4187257"
      },
      "cell_type" : "code",
      "source" : [
        "import org.apache.spark.streaming._\n",
        "import org.apache.spark.streaming.StreamingContext._\n",
        "import org.apache.spark.streaming.kafka._\n",
        "import org.apache.spark.SparkConf"
      ],
      "outputs" : [
        {
          "name" : "stderr",
          "output_type" : "stream",
          "text" : "The cell was cancelled.\n"
        }
      ]
    },
    {
      "metadata" : {
        "trusted" : true,
        "input_collapsed" : false,
        "collapsed" : false,
        "id" : "A8C0CE835D564BF686EDBFB0F10CA91E"
      },
      "cell_type" : "code",
      "source" : [
        "//val sparkConf = new SparkConf().setAppName(\"DirectKafkaWordCount\")\n",
        "val sparkConf = new SparkConf().setAppName(\"Test Kafka2\") //sparkContext.getConf\n",
        "val ssc =  new StreamingContext(sparkContext, Seconds(5))\n",
        "//ssc.checkpoint(\"checkpoint\")\n",
        "//val Array(zkQuorum, group, topics, numThreads) = args*/\n",
        "val zkQuorum = \"hupi-factory-02-02-05-01:2181\"\n",
        "val group = \"DEMO_HUPI_VINCENT\"\n",
        "val topics = \"factory02_hupilytics\"\n",
        "val numThreads = \"1\"\n",
        "// pour ecrire dans HDFS\n",
        "val hdfsUrl = \"hdfs://hupi-factory-02-01-01-01/user/factory02/hupilytics_events/\"\n",
        "val saveRepo = \"test1\" "
      ],
      "outputs" : [
        {
          "name" : "stdout",
          "output_type" : "stream",
          "text" : "sparkConf: org.apache.spark.SparkConf = org.apache.spark.SparkConf@10be299e\nssc: org.apache.spark.streaming.StreamingContext = org.apache.spark.streaming.StreamingContext@5abdc031\nzkQuorum: String = hupi-factory-02-02-05-01:2181\ngroup: String = DEMO_HUPI_VINCENT\ntopics: String = factory02_hupilytics\nnumThreads: String = 1\nhdfsUrl: String = hdfs://hupi-factory-02-01-01-01/user/factory02/hupilytics_events/\nsaveRepo: String = test1\n"
        },
        {
          "metadata" : { },
          "data" : {
            "text/html" : ""
          },
          "output_type" : "execute_result",
          "execution_count" : 2,
          "time" : "Took: 1.364s, at 2018-12-11 16:25"
        }
      ]
    },
    {
      "metadata" : {
        "trusted" : true,
        "input_collapsed" : false,
        "collapsed" : false,
        "id" : "8C8736B6C8B74121837D457BCC32DC33"
      },
      "cell_type" : "code",
      "source" : [
        "// Print What is read from Kafka code\n",
        "val topicMap = topics.split(\",\").map((_, numThreads.toInt)).toMap\n",
        "val streamdata = KafkaUtils.createStream(ssc, zkQuorum, group, topicMap)"
      ],
      "outputs" : [
        {
          "name" : "stdout",
          "output_type" : "stream",
          "text" : "topicMap: scala.collection.immutable.Map[String,Int] = Map(factory02_hupilytics -> 1)\nstreamdata: org.apache.spark.streaming.dstream.ReceiverInputDStream[(String, String)] = org.apache.spark.streaming.kafka.KafkaInputDStream@5f7d9de3\n"
        },
        {
          "metadata" : { },
          "data" : {
            "text/html" : ""
          },
          "output_type" : "execute_result",
          "execution_count" : 4,
          "time" : "Took: 1.493s, at 2018-12-11 16:25"
        }
      ]
    },
    {
      "metadata" : {
        "trusted" : true,
        "input_collapsed" : false,
        "collapsed" : false,
        "id" : "E586CF2233C64667A40641CAC12FE854"
      },
      "cell_type" : "code",
      "source" : [
        "val idsite = 1\n",
        "streamdata.foreachRDD {\n",
        "  rdd => {\n",
        "    val lines = rdd.map(_._2).filter(myString => myString.contains(s\"\"\"\\\"idsite\\\":\"$idsite\"\"\"))//.map(myString => FilterIdsite.newResult(idsite, myString))\n",
        "    val nbLines = lines.count()\n",
        "    // ecrire dans HDFS\n",
        "    //if (nbLines != 0) {\n",
        "     // lines.toDF(\"value\").coalesce(1).write.mode(SaveMode.Append).save(hdfsUrl + saveRepo)\n",
        "    //}\n",
        "    // imprimer sur le console\n",
        "    println(\"lines pushed are \" + nbLines)\n",
        "    lines.collect().foreach(println)\n",
        "  }\n",
        "}"
      ],
      "outputs" : [
        {
          "name" : "stdout",
          "output_type" : "stream",
          "text" : "idsite: Int = 1\n"
        },
        {
          "metadata" : { },
          "data" : {
            "text/html" : ""
          },
          "output_type" : "execute_result",
          "execution_count" : 5,
          "time" : "Took: 1.765s, at 2018-12-11 16:25"
        }
      ]
    },
    {
      "metadata" : {
        "trusted" : true,
        "input_collapsed" : false,
        "collapsed" : false,
        "id" : "C2384F65AA764F988E4E47C19BECB27B"
      },
      "cell_type" : "code",
      "source" : [
        "ssc.start()\n",
        "ssc.awaitTermination()"
      ],
      "outputs" : [
        {
          "name" : "stdout",
          "output_type" : "stream",
          "text" : "lines pushed are 0\nlines pushed are 0\nlines pushed are 0\nlines pushed are 0\nlines pushed are 0\nlines pushed are 0\nlines pushed are 2\n{\"action_name\":\"Accessoires de maison\",\"idsite\":\"10\",\"rec\":\"1\",\"r\":\"005061\",\"h\":\"17\",\"m\":\"26\",\"s\":\"32\",\"url\":\"http://localhost:8080/8-accessoires-de-maison\",\"urlref\":\"http://localhost:8080/accessoires-de-maison/7-mug-the-adventure-begins.html\",\"_id\":\"91c4cd4093d25475\",\"_idts\":\"1542748424\",\"_idvc\":\"7\",\"_idn\":\"0\",\"_refts\":\"0\",\"_viewts\":\"1544545425\",\"send_image\":\"0\",\"pdf\":\"1\",\"qt\":\"0\",\"realp\":\"0\",\"wma\":\"0\",\"dir\":\"0\",\"fla\":\"0\",\"java\":\"0\",\"gears\":\"0\",\"ag\":\"0\",\"cookie\":\"1\",\"res\":\"1280x1024\",\"cvar\":{\"1\":[\"current_ts\",\"1544545592\"],\"30\":[\"products_impression\",\"6,7,8,9,10,11,15,19\"],\"42\":[\"lang\",\"FR\"],\"43\":[\"currency\",\"EUR\"]},\"gt_ms\":\"560\",\"client\":\"factory02\",\"topic\":\"hupilytics\",\"current_ts\":\"1544545592\",\"products_impression\":\"6,7,8,9,10,11,15,19\",\"lang\":\"FR\",\"currency\":\"EUR\",\"ua\":\"Mozilla/5.0 (Macintosh; Intel Mac OS X 10_14_1) AppleWebKit/537.36 (KHTML, like Gecko) Chrome/70.0.3538.110 Safari/537.36\",\"ip\":\"80.12.58.103\",\"action\":\"add\"}\n{\"e_c\":\"Product Click\",\"e_a\":\"Clic\",\"e_n\":\"product\",\"idsite\":\"10\",\"rec\":\"1\",\"r\":\"395304\",\"h\":\"17\",\"m\":\"26\",\"s\":\"33\",\"url\":\"http://localhost:8080/accessoires-de-maison/7-mug-the-adventure-begins.html\",\"urlref\":\"http://localhost:8080/8-accessoires-de-maison\",\"_id\":\"91c4cd4093d25475\",\"_idts\":\"1542748424\",\"_idvc\":\"7\",\"_idn\":\"0\",\"_refts\":\"0\",\"_viewts\":\"1544545425\",\"send_image\":\"0\",\"pdf\":\"1\",\"qt\":\"0\",\"realp\":\"0\",\"wma\":\"0\",\"dir\":\"0\",\"fla\":\"0\",\"java\":\"0\",\"gears\":\"0\",\"ag\":\"0\",\"cookie\":\"1\",\"res\":\"1280x1024\",\"cvar\":{\"1\":[\"current_ts\",\"1544545593\"],\"2\":[\"_pkp\",\"11.90\"],\"3\":[\"_pks\",\"7\"],\"4\":[\"_pkn\",\"\\\"Mug The adventure begins\\\"\"],\"5\":[\"_pkc\",\"\\\"accessoires-de-maison\\\"\"],\"42\":[\"lang\",\"FR\"],\"43\":[\"currency\",\"EUR\"]},\"gt_ms\":\"317\",\"client\":\"factory02\",\"topic\":\"hupilytics\",\"current_ts\":\"1544545593\",\"_pkp\":\"11.90\",\"_pks\":\"7\",\"_pkn\":\"\\\"Mug The adventure begins\\\"\",\"_pkc\":\"\\\"accessoires-de-maison\\\"\",\"lang\":\"FR\",\"currency\":\"EUR\",\"ua\":\"Mozilla/5.0 (Macintosh; Intel Mac OS X 10_14_1) AppleWebKit/537.36 (KHTML, like Gecko) Chrome/70.0.3538.110 Safari/537.36\",\"ip\":\"80.12.58.103\",\"action\":\"add\"}\nlines pushed are 0\nlines pushed are 0\nlines pushed are 0\nlines pushed are 0\nlines pushed are 0\nlines pushed are 0\nlines pushed are 0\nlines pushed are 0\nlines pushed are 0\nlines pushed are 0\nlines pushed are 0\nlines pushed are 0\nlines pushed are 0\nlines pushed are 2\n{\"action_name\":\"Accessoires\",\"idsite\":\"10\",\"rec\":\"1\",\"r\":\"798806\",\"h\":\"17\",\"m\":\"27\",\"s\":\"42\",\"url\":\"http://localhost:8080/6-accessoires\",\"urlref\":\"http://localhost:8080/accessoires-de-maison/7-mug-the-adventure-begins.html\",\"_id\":\"91c4cd4093d25475\",\"_idts\":\"1542748424\",\"_idvc\":\"7\",\"_idn\":\"0\",\"_refts\":\"0\",\"_viewts\":\"1544545425\",\"send_image\":\"0\",\"pdf\":\"1\",\"qt\":\"0\",\"realp\":\"0\",\"wma\":\"0\",\"dir\":\"0\",\"fla\":\"0\",\"java\":\"0\",\"gears\":\"0\",\"ag\":\"0\",\"cookie\":\"1\",\"res\":\"1280x1024\",\"cvar\":{\"1\":[\"current_ts\",\"1544545662\"],\"30\":[\"products_impression\",\"7,6,8,10,9,11,15,16,17,18,19\"],\"42\":[\"lang\",\"FR\"],\"43\":[\"currency\",\"EUR\"]},\"gt_ms\":\"655\",\"client\":\"factory02\",\"topic\":\"hupilytics\",\"current_ts\":\"1544545662\",\"products_impression\":\"7,6,8,10,9,11,15,16,17,18,19\",\"lang\":\"FR\",\"currency\":\"EUR\",\"ua\":\"Mozilla/5.0 (Macintosh; Intel Mac OS X 10_14_1) AppleWebKit/537.36 (KHTML, like Gecko) Chrome/70.0.3538.110 Safari/537.36\",\"ip\":\"80.12.58.103\",\"action\":\"add\"}\n{\"e_c\":\"Product Click\",\"e_a\":\"Clic\",\"e_n\":\"product\",\"idsite\":\"10\",\"rec\":\"1\",\"r\":\"445564\",\"h\":\"17\",\"m\":\"27\",\"s\":\"44\",\"url\":\"http://localhost:8080/accessoires-de-maison/7-mug-the-adventure-begins.html\",\"urlref\":\"http://localhost:8080/6-accessoires\",\"_id\":\"91c4cd4093d25475\",\"_idts\":\"1542748424\",\"_idvc\":\"7\",\"_idn\":\"0\",\"_refts\":\"0\",\"_viewts\":\"1544545425\",\"send_image\":\"0\",\"pdf\":\"1\",\"qt\":\"0\",\"realp\":\"0\",\"wma\":\"0\",\"dir\":\"0\",\"fla\":\"0\",\"java\":\"0\",\"gears\":\"0\",\"ag\":\"0\",\"cookie\":\"1\",\"res\":\"1280x1024\",\"cvar\":{\"1\":[\"current_ts\",\"1544545664\"],\"2\":[\"_pkp\",\"11.90\"],\"3\":[\"_pks\",\"7\"],\"4\":[\"_pkn\",\"\\\"Mug The adventure begins\\\"\"],\"5\":[\"_pkc\",\"\\\"accessoires-de-maison\\\"\"],\"42\":[\"lang\",\"FR\"],\"43\":[\"currency\",\"EUR\"]},\"gt_ms\":\"327\",\"client\":\"factory02\",\"topic\":\"hupilytics\",\"current_ts\":\"1544545664\",\"_pkp\":\"11.90\",\"_pks\":\"7\",\"_pkn\":\"\\\"Mug The adventure begins\\\"\",\"_pkc\":\"\\\"accessoires-de-maison\\\"\",\"lang\":\"FR\",\"currency\":\"EUR\",\"ua\":\"Mozilla/5.0 (Macintosh; Intel Mac OS X 10_14_1) AppleWebKit/537.36 (KHTML, like Gecko) Chrome/70.0.3538.110 Safari/537.36\",\"ip\":\"80.12.58.103\",\"action\":\"add\"}\nlines pushed are 0\nlines pushed are 0\nlines pushed are 0\nlines pushed are 0\nlines pushed are 0\nlines pushed are 0\nlines pushed are 0\nlines pushed are 0\nlines pushed are 0\nlines pushed are 0\nlines pushed are 0\nlines pushed are 0\nlines pushed are 0\nlines pushed are 0\nlines pushed are 1\n{\"action_name\":\"Accessoires\",\"idsite\":\"10\",\"rec\":\"1\",\"r\":\"416982\",\"h\":\"17\",\"m\":\"28\",\"s\":\"56\",\"url\":\"http://localhost:8080/6-accessoires\",\"urlref\":\"http://localhost:8080/accessoires-de-maison/7-mug-the-adventure-begins.html\",\"_id\":\"91c4cd4093d25475\",\"_idts\":\"1542748424\",\"_idvc\":\"7\",\"_idn\":\"0\",\"_refts\":\"0\",\"_viewts\":\"1544545425\",\"send_image\":\"0\",\"pdf\":\"1\",\"qt\":\"0\",\"realp\":\"0\",\"wma\":\"0\",\"dir\":\"0\",\"fla\":\"0\",\"java\":\"0\",\"gears\":\"0\",\"ag\":\"0\",\"cookie\":\"1\",\"res\":\"1280x1024\",\"cvar\":{\"1\":[\"current_ts\",\"1544545736\"],\"30\":[\"products_impression\",\"7,6,8,10,9,11,15,16,17,18,19\"],\"42\":[\"lang\",\"FR\"],\"43\":[\"currency\",\"EUR\"]},\"gt_ms\":\"495\",\"client\":\"factory02\",\"topic\":\"hupilytics\",\"current_ts\":\"1544545736\",\"products_impression\":\"7,6,8,10,9,11,15,16,17,18,19\",\"lang\":\"FR\",\"currency\":\"EUR\",\"ua\":\"Mozilla/5.0 (Macintosh; Intel Mac OS X 10_14_1) AppleWebKit/537.36 (KHTML, like Gecko) Chrome/70.0.3538.110 Safari/537.36\",\"ip\":\"80.12.58.103\",\"action\":\"add\"}\nlines pushed are 2\n{\"action_name\":\"V?tements\",\"idsite\":\"10\",\"rec\":\"1\",\"r\":\"591841\",\"h\":\"17\",\"m\":\"29\",\"s\":\"1\",\"url\":\"http://localhost:8080/3-vetements\",\"urlref\":\"http://localhost:8080/6-accessoires?q=Cat?gories-Accessoires+de+maison\",\"_id\":\"91c4cd4093d25475\",\"_idts\":\"1542748424\",\"_idvc\":\"7\",\"_idn\":\"0\",\"_refts\":\"0\",\"_viewts\":\"1544545425\",\"send_image\":\"0\",\"pdf\":\"1\",\"qt\":\"0\",\"realp\":\"0\",\"wma\":\"0\",\"dir\":\"0\",\"fla\":\"0\",\"java\":\"0\",\"gears\":\"0\",\"ag\":\"0\",\"cookie\":\"1\",\"res\":\"1280x1024\",\"cvar\":{\"1\":[\"current_ts\",\"1544545741\"],\"30\":[\"products_impression\",\"1,2\"],\"42\":[\"lang\",\"FR\"],\"43\":[\"currency\",\"EUR\"]},\"gt_ms\":\"286\",\"client\":\"factory02\",\"topic\":\"hupilytics\",\"current_ts\":\"1544545741\",\"products_impression\":\"1,2\",\"lang\":\"FR\",\"currency\":\"EUR\",\"ua\":\"Mozilla/5.0 (Macintosh; Intel Mac OS X 10_14_1) AppleWebKit/537.36 (KHTML, like Gecko) Chrome/70.0.3538.110 Safari/537.36\",\"ip\":\"80.12.58.103\",\"action\":\"add\"}\n{\"e_c\":\"Product Click\",\"e_a\":\"Clic\",\"e_n\":\"product\",\"idsite\":\"10\",\"rec\":\"1\",\"r\":\"299606\",\"h\":\"17\",\"m\":\"29\",\"s\":\"3\",\"url\":\"http://localhost:8080/hommes/1-1-hummingbird-printed-t-shirt.html#/1-taille-s/8-couleur-blanc\",\"urlref\":\"http://localhost:8080/3-vetements\",\"_id\":\"91c4cd4093d25475\",\"_idts\":\"1542748424\",\"_idvc\":\"7\",\"_idn\":\"0\",\"_refts\":\"0\",\"_viewts\":\"1544545425\",\"send_image\":\"0\",\"pdf\":\"1\",\"qt\":\"0\",\"realp\":\"0\",\"wma\":\"0\",\"dir\":\"0\",\"fla\":\"0\",\"java\":\"0\",\"gears\":\"0\",\"ag\":\"0\",\"cookie\":\"1\",\"res\":\"1280x1024\",\"cvar\":{\"1\":[\"current_ts\",\"1544545743\"],\"2\":[\"_pkp\",\"23.90\"],\"3\":[\"_pks\",\"1\"],\"4\":[\"_pkn\",\"\\\"T-shirt imprim\\\\u00e9 colibri\\\"\"],\"5\":[\"_pkc\",\"\\\"hommes\\\"\"],\"42\":[\"lang\",\"FR\"],\"43\":[\"currency\",\"EUR\"]},\"gt_ms\":\"288\",\"client\":\"factory02\",\"topic\":\"hupilytics\",\"current_ts\":\"1544545743\",\"_pkp\":\"23.90\",\"_pks\":\"1\",\"_pkn\":\"\\\"T-shirt imprim\\\\u00e9 colibri\\\"\",\"_pkc\":\"\\\"hommes\\\"\",\"lang\":\"FR\",\"currency\":\"EUR\",\"ua\":\"Mozilla/5.0 (Macintosh; Intel Mac OS X 10_14_1) AppleWebKit/537.36 (KHTML, like Gecko) Chrome/70.0.3538.110 Safari/537.36\",\"ip\":\"80.12.58.103\",\"action\":\"add\"}\nlines pushed are 0\nlines pushed are 0\nlines pushed are 0\nlines pushed are 0\nlines pushed are 0\nlines pushed are 0\nlines pushed are 0\nlines pushed are 0\nlines pushed are 0\nlines pushed are 0\nlines pushed are 0\nlines pushed are 0\nlines pushed are 0\nlines pushed are 0\nlines pushed are 0\nlines pushed are 0\nlines pushed are 0\nlines pushed are 0\nlines pushed are 0\nlines pushed are 0\nlines pushed are 0\nlines pushed are 0\nlines pushed are 0\nlines pushed are 0\nlines pushed are 0\nlines pushed are 0\nlines pushed are 0\nlines pushed are 0\nlines pushed are 0\nlines pushed are 0\nlines pushed are 0\nlines pushed are 0\nlines pushed are 0\nlines pushed are 0\nlines pushed are 0\nlines pushed are 0\nlines pushed are 0\nlines pushed are 0\nlines pushed are 0\nlines pushed are 0\nlines pushed are 0\nlines pushed are 0\nlines pushed are 0\nlines pushed are 0\nlines pushed are 0\nlines pushed are 0\nlines pushed are 0\nlines pushed are 0\nlines pushed are 0\nlines pushed are 0\nlines pushed are 0\nlines pushed are 0\nlines pushed are 0\nlines pushed are 0\nlines pushed are 0\nlines pushed are 0\nlines pushed are 0\nlines pushed are 0\nlines pushed are 0\nlines pushed are 0\nlines pushed are 0\nlines pushed are 0\nlines pushed are 0\nlines pushed are 0\nlines pushed are 0\nlines pushed are 2\n{\"action_name\":\"V?tements\",\"idsite\":\"10\",\"rec\":\"1\",\"r\":\"849953\",\"h\":\"17\",\"m\":\"34\",\"s\":\"31\",\"url\":\"http://localhost:8080/3-vetements\",\"urlref\":\"http://localhost:8080/hommes/1-1-hummingbird-printed-t-shirt.html\",\"_id\":\"91c4cd4093d25475\",\"_idts\":\"1542748424\",\"_idvc\":\"7\",\"_idn\":\"0\",\"_refts\":\"0\",\"_viewts\":\"1544545425\",\"send_image\":\"0\",\"pdf\":\"1\",\"qt\":\"0\",\"realp\":\"0\",\"wma\":\"0\",\"dir\":\"0\",\"fla\":\"0\",\"java\":\"0\",\"gears\":\"0\",\"ag\":\"0\",\"cookie\":\"1\",\"res\":\"1280x1024\",\"cvar\":{\"1\":[\"current_ts\",\"1544546071\"],\"30\":[\"products_impression\",\"1,2\"],\"42\":[\"lang\",\"FR\"],\"43\":[\"currency\",\"EUR\"]},\"gt_ms\":\"276\",\"client\":\"factory02\",\"topic\":\"hupilytics\",\"current_ts\":\"1544546071\",\"products_impression\":\"1,2\",\"lang\":\"FR\",\"currency\":\"EUR\",\"ua\":\"Mozilla/5.0 (Macintosh; Intel Mac OS X 10_14_1) AppleWebKit/537.36 (KHTML, like Gecko) Chrome/70.0.3538.110 Safari/537.36\",\"ip\":\"80.12.58.103\",\"action\":\"add\"}\n{\"e_c\":\"Product Click\",\"e_a\":\"Clic\",\"e_n\":\"product\",\"idsite\":\"10\",\"rec\":\"1\",\"r\":\"395675\",\"h\":\"17\",\"m\":\"34\",\"s\":\"33\",\"url\":\"http://localhost:8080/accueil/2-9-brown-bear-printed-sweater.html#/1-taille-s\",\"urlref\":\"http://localhost:8080/3-vetements\",\"_id\":\"91c4cd4093d25475\",\"_idts\":\"1542748424\",\"_idvc\":\"7\",\"_idn\":\"0\",\"_refts\":\"0\",\"_viewts\":\"1544545425\",\"send_image\":\"0\",\"pdf\":\"1\",\"qt\":\"0\",\"realp\":\"0\",\"wma\":\"0\",\"dir\":\"0\",\"fla\":\"0\",\"java\":\"0\",\"gears\":\"0\",\"ag\":\"0\",\"cookie\":\"1\",\"res\":\"1280x1024\",\"cvar\":{\"1\":[\"current_ts\",\"1544546073\"],\"2\":[\"_pkp\",\"35.90\"],\"3\":[\"_pks\",\"2\"],\"4\":[\"_pkn\",\"\\\"Pull imprim\\\\u00e9 colibri\\\"\"],\"5\":[\"_pkc\",\"\\\"accueil\\\"\"],\"42\":[\"lang\",\"FR\"],\"43\":[\"currency\",\"EUR\"]},\"gt_ms\":\"273\",\"client\":\"factory02\",\"topic\":\"hupilytics\",\"current_ts\":\"1544546073\",\"_pkp\":\"35.90\",\"_pks\":\"2\",\"_pkn\":\"\\\"Pull imprim\\\\u00e9 colibri\\\"\",\"_pkc\":\"\\\"accueil\\\"\",\"lang\":\"FR\",\"currency\":\"EUR\",\"ua\":\"Mozilla/5.0 (Macintosh; Intel Mac OS X 10_14_1) AppleWebKit/537.36 (KHTML, like Gecko) Chrome/70.0.3538.110 Safari/537.36\",\"ip\":\"80.12.58.103\",\"action\":\"add\"}"
        },
        {
          "name" : "stderr",
          "output_type" : "stream",
          "text" : "The cell was cancelled.\n"
        }
      ]
    },
    {
      "metadata" : {
        "trusted" : true,
        "input_collapsed" : false,
        "collapsed" : true,
        "id" : "1982B9D867AF4342BFA2B3CA7FE0280C"
      },
      "cell_type" : "code",
      "source" : [
        "ssc.stop()"
      ],
      "outputs" : [ ]
    },
    {
      "metadata" : {
        "trusted" : true,
        "input_collapsed" : false,
        "collapsed" : true,
        "id" : "56A5722FD2DB4CC283065B813E9E4029"
      },
      "cell_type" : "code",
      "source" : [
        ""
      ],
      "outputs" : [ ]
    }
  ],
  "nbformat" : 4
}