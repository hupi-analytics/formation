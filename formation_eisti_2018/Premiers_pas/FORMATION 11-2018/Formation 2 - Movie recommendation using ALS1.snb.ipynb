{
  "metadata" : {
    "id" : "e4684a49-e5bd-484f-90b6-7677f83bae4e",
    "name" : "Formation 2 - Movie recommendation using ALS1",
    "user_save_timestamp" : "1970-01-01T00:00:00.000Z",
    "auto_save_timestamp" : "1970-01-01T00:00:00.000Z",
    "language_info" : {
      "name" : "scala",
      "file_extension" : "scala",
      "codemirror_mode" : "text/x-scala"
    },
    "trusted" : true,
    "sparkNotebook" : null,
    "customLocalRepo" : null,
    "customRepos" : null,
    "customDeps" : null,
    "customImports" : null,
    "customArgs" : null,
    "customSparkConf" : null,
    "customVars" : null
  },
  "cells" : [
    {
      "metadata" : {
        "id" : "F7C8BBE8DC8D4FE5849573C2283FA4D9"
      },
      "cell_type" : "markdown",
      "source" : "# Movie recommendation using ALS\nhttps://medium.com/@navdeepsingh_2336/scala-machine-learning-projects-recommendation-systems-d41d9eebbb06\n\nhttps://medium.com/radon-dev/als-implicit-collaborative-filtering-5ed653ba39fe\n\nhttps://bugra.github.io/work/notes/2014-04-19/alternating-least-squares-method-for-collaborative-filtering/\n\nhttps://fr.wikipedia.org/wiki/Filtrage_collaboratif"
    },
    {
      "metadata" : {
        "id" : "3304FDFB19A843FAAD90990157FEB506"
      },
      "cell_type" : "markdown",
      "source" : "## Import packages "
    },
    {
      "metadata" : {
        "trusted" : true,
        "input_collapsed" : false,
        "collapsed" : false,
        "id" : "D60B705F8C5747A695605B69DC463024"
      },
      "cell_type" : "code",
      "source" : [
        "import org.apache.spark.mllib.recommendation.ALS\n",
        "import org.apache.spark.mllib.recommendation.MatrixFactorizationModel\n",
        "import org.apache.spark.mllib.recommendation.Rating\n",
        "\n",
        "import scala.Tuple2\n",
        "import org.apache.spark.rdd.RDD"
      ],
      "outputs" : [
        {
          "name" : "stdout",
          "output_type" : "stream",
          "text" : "import org.apache.spark.mllib.recommendation.ALS\nimport org.apache.spark.mllib.recommendation.MatrixFactorizationModel\nimport org.apache.spark.mllib.recommendation.Rating\nimport scala.Tuple2\nimport org.apache.spark.rdd.RDD\n"
        },
        {
          "metadata" : { },
          "data" : {
            "text/html" : ""
          },
          "output_type" : "execute_result",
          "execution_count" : 1,
          "time" : "Took: 1.240s, at 2018-11-19 07:49"
        }
      ]
    },
    {
      "metadata" : {
        "id" : "1BBE83F85EA24C7D810D9E795EAD0269"
      },
      "cell_type" : "markdown",
      "source" : "## Read data "
    },
    {
      "metadata" : {
        "trusted" : true,
        "input_collapsed" : false,
        "collapsed" : false,
        "id" : "C2781900450D4CA48D3B2DAE2C9ED1B1"
      },
      "cell_type" : "code",
      "source" : [
        "val pathRatings = \"hdfs://hupi-factory-02-01-01-01/user/factory02/movieLens20m/ratings.csv\"\n",
        "val pathMovies = \"hdfs://hupi-factory-02-01-01-01/user/factory02/movieLens20m/movies.csv\""
      ],
      "outputs" : [
        {
          "name" : "stdout",
          "output_type" : "stream",
          "text" : "pathRatings: String = hdfs://hupi-factory-02-01-01-01/user/factory02/movieLens20m/ratings.csv\npathMovies: String = hdfs://hupi-factory-02-01-01-01/user/factory02/movieLens20m/movies.csv\n"
        },
        {
          "metadata" : { },
          "data" : {
            "text/html" : ""
          },
          "output_type" : "execute_result",
          "execution_count" : 2,
          "time" : "Took: 2.120s, at 2018-11-19 07:49"
        }
      ]
    },
    {
      "metadata" : {
        "trusted" : true,
        "input_collapsed" : false,
        "collapsed" : false,
        "id" : "B47A54F9806F498D986C887CCB1D000B"
      },
      "cell_type" : "code",
      "source" : [
        "val df1 = sparkSession.read.format(\"com.databricks.spark.csv\").option(\"header\", true).load(pathRatings)\n",
        "val df2 = sparkSession.read.format(\"com.databricks.spark.csv\").option(\"header\", \"true\").load(pathMovies)"
      ],
      "outputs" : [
        {
          "name" : "stdout",
          "output_type" : "stream",
          "text" : "df1: org.apache.spark.sql.DataFrame = [userId: string, movieId: string ... 2 more fields]\ndf2: org.apache.spark.sql.DataFrame = [movieId: string, title: string ... 1 more field]\n"
        },
        {
          "metadata" : { },
          "data" : {
            "text/html" : ""
          },
          "output_type" : "execute_result",
          "execution_count" : 7,
          "time" : "Took: 5.394s, at 2018-11-19 07:49"
        }
      ]
    },
    {
      "metadata" : {
        "trusted" : true,
        "input_collapsed" : false,
        "collapsed" : false,
        "id" : "75F922986DA243F2869D0535B0022852"
      },
      "cell_type" : "code",
      "source" : [
        "val ratingsDF = df1.select(df1.col(\"userId\"), df1.col(\"movieId\"), df1.col(\"rating\"), df1.col(\"timestamp\"))\n",
        "ratingsDF.show(false)"
      ],
      "outputs" : [
        {
          "name" : "stdout",
          "output_type" : "stream",
          "text" : "+------+-------+------+----------+\n|userId|movieId|rating|timestamp |\n+------+-------+------+----------+\n|1     |2      |3.5   |1112486027|\n|1     |29     |3.5   |1112484676|\n|1     |32     |3.5   |1112484819|\n|1     |47     |3.5   |1112484727|\n|1     |50     |3.5   |1112484580|\n|1     |112    |3.5   |1094785740|\n|1     |151    |4.0   |1094785734|\n|1     |223    |4.0   |1112485573|\n|1     |253    |4.0   |1112484940|\n|1     |260    |4.0   |1112484826|\n|1     |293    |4.0   |1112484703|\n|1     |296    |4.0   |1112484767|\n|1     |318    |4.0   |1112484798|\n|1     |337    |3.5   |1094785709|\n|1     |367    |3.5   |1112485980|\n|1     |541    |4.0   |1112484603|\n|1     |589    |3.5   |1112485557|\n|1     |593    |3.5   |1112484661|\n|1     |653    |3.0   |1094785691|\n|1     |919    |3.5   |1094785621|\n+------+-------+------+----------+\nonly showing top 20 rows\n\nratingsDF: org.apache.spark.sql.DataFrame = [userId: string, movieId: string ... 2 more fields]\n"
        },
        {
          "metadata" : { },
          "data" : {
            "text/html" : ""
          },
          "output_type" : "execute_result",
          "execution_count" : 12,
          "time" : "Took: 1.903s, at 2018-11-19 07:50"
        }
      ]
    },
    {
      "metadata" : {
        "trusted" : true,
        "input_collapsed" : false,
        "collapsed" : false,
        "id" : "574E3BB90C3D4A68ABC923393CBAD65A"
      },
      "cell_type" : "code",
      "source" : [
        "val moviesDF = df2.select(df2.col(\"movieId\"), df2.col(\"title\"), df2.col(\"genres\"))"
      ],
      "outputs" : [
        {
          "name" : "stdout",
          "output_type" : "stream",
          "text" : "moviesDF: org.apache.spark.sql.DataFrame = [movieId: string, title: string ... 1 more field]\n"
        },
        {
          "metadata" : { },
          "data" : {
            "text/html" : ""
          },
          "output_type" : "execute_result",
          "execution_count" : 13,
          "time" : "Took: 1.534s, at 2018-11-19 07:50"
        }
      ]
    },
    {
      "metadata" : {
        "trusted" : true,
        "input_collapsed" : false,
        "collapsed" : false,
        "id" : "A69629F5BEC94207888B703931A967C5"
      },
      "cell_type" : "code",
      "source" : [
        "// Create temporary tables\n",
        "ratingsDF.createOrReplaceTempView(\"ratings\")\n",
        "moviesDF.createOrReplaceTempView(\"movies\")"
      ],
      "outputs" : [
        {
          "metadata" : { },
          "data" : {
            "text/html" : ""
          },
          "output_type" : "execute_result",
          "execution_count" : 14,
          "time" : "Took: 3.489s, at 2018-11-19 07:50"
        }
      ]
    },
    {
      "metadata" : {
        "id" : "1987DDD386174E32A39F1EBD6D661835"
      },
      "cell_type" : "markdown",
      "source" : "## Explore data "
    },
    {
      "metadata" : {
        "trusted" : true,
        "input_collapsed" : false,
        "collapsed" : false,
        "id" : "10052ACAB2FB4A29A48AD3AC92B6DFFE"
      },
      "cell_type" : "code",
      "source" : [
        "val numRatings = ratingsDF.count()"
      ],
      "outputs" : [
        {
          "name" : "stdout",
          "output_type" : "stream",
          "text" : "numRatings: Long = 20000263\n"
        },
        {
          "metadata" : { },
          "data" : {
            "text/html" : ""
          },
          "output_type" : "execute_result",
          "execution_count" : 15,
          "time" : "Took: 18.533s, at 2018-11-19 07:50"
        }
      ]
    },
    {
      "metadata" : {
        "trusted" : true,
        "input_collapsed" : false,
        "collapsed" : false,
        "id" : "2219FBE4FF1549E48B0DAA9B0D707F0F"
      },
      "cell_type" : "code",
      "source" : [
        "val numUsers = ratingsDF.select(ratingsDF.col(\"userId\")).distinct().count()"
      ],
      "outputs" : [
        {
          "name" : "stdout",
          "output_type" : "stream",
          "text" : "numUsers: Long = 138493\n"
        },
        {
          "metadata" : { },
          "data" : {
            "text/html" : ""
          },
          "output_type" : "execute_result",
          "execution_count" : 16,
          "time" : "Took: 15.042s, at 2018-11-19 07:50"
        }
      ]
    },
    {
      "metadata" : {
        "trusted" : true,
        "input_collapsed" : false,
        "collapsed" : false,
        "id" : "69FC1904DF0445999831B5E7E0F4E16F"
      },
      "cell_type" : "code",
      "source" : [
        "val numMovies = ratingsDF.select(ratingsDF.col(\"movieId\")).distinct().count() "
      ],
      "outputs" : [
        {
          "name" : "stdout",
          "output_type" : "stream",
          "text" : "numMovies: Long = 26744\n"
        },
        {
          "metadata" : { },
          "data" : {
            "text/html" : ""
          },
          "output_type" : "execute_result",
          "execution_count" : 17,
          "time" : "Took: 6.575s, at 2018-11-19 07:50"
        }
      ]
    },
    {
      "metadata" : {
        "trusted" : true,
        "input_collapsed" : false,
        "collapsed" : false,
        "id" : "ED7C4D98547E4F9D8772AF17BA0CCF35"
      },
      "cell_type" : "code",
      "source" : [
        "println(\"Got \" + numRatings + \" ratings from \" + numUsers + \" users on \" + numMovies + \" movies.\")"
      ],
      "outputs" : [
        {
          "name" : "stdout",
          "output_type" : "stream",
          "text" : "Got 20000263 ratings from 138493 users on 26744 movies.\n"
        },
        {
          "metadata" : { },
          "data" : {
            "text/html" : ""
          },
          "output_type" : "execute_result",
          "execution_count" : 18,
          "time" : "Took: 0.931s, at 2018-11-19 07:50"
        }
      ]
    },
    {
      "metadata" : {
        "id" : "3FE25A6720A04B9885B4D6CCEAEFA2E9"
      },
      "cell_type" : "markdown",
      "source" : "Get the max, min ratings along with the count of users who have rated a movie"
    },
    {
      "metadata" : {
        "trusted" : true,
        "input_collapsed" : false,
        "collapsed" : false,
        "id" : "6D43E0A72D334843865425D989A1EAA4"
      },
      "cell_type" : "code",
      "source" : [
        "val results = sparkSession.sql(\"\"\"\n",
        "  select movies.title, movierates.maxr, movierates.minr, movierates.cntu \n",
        "  from(SELECT ratings.movieId, max(ratings.rating) as maxr, min(ratings.rating) as minr, \n",
        "          count(distinct userId) as cntu\n",
        "      FROM ratings group by ratings.movieId) movierates\n",
        "  join movies on movierates.movieId=movies.movieId\n",
        "\"\"\")"
      ],
      "outputs" : [
        {
          "name" : "stdout",
          "output_type" : "stream",
          "text" : "results: org.apache.spark.sql.DataFrame = [title: string, maxr: string ... 2 more fields]\n"
        },
        {
          "metadata" : { },
          "data" : {
            "text/html" : ""
          },
          "output_type" : "execute_result",
          "execution_count" : 19,
          "time" : "Took: 0.792s, at 2018-11-19 07:50"
        }
      ]
    },
    {
      "metadata" : {
        "trusted" : true,
        "input_collapsed" : false,
        "collapsed" : false,
        "id" : "9AE64B745FEE4134801EFA85D898C4EA"
      },
      "cell_type" : "code",
      "source" : [
        "results.show(false)"
      ],
      "outputs" : [
        {
          "name" : "stdout",
          "output_type" : "stream",
          "text" : "+--------------------------------------------------+----+----+-----+\n|title                                             |maxr|minr|cntu |\n+--------------------------------------------------+----+----+-----+\n|Battle of Los Angeles (2011)                      |5.0 |0.5 |22   |\n|Frozen Planet (2011)                              |5.0 |0.5 |31   |\n|One-Eyed Monster (2008)                           |4.0 |0.5 |4    |\n|Deep in the Valley (American Hot Babes) (2009)    |3.0 |0.5 |5    |\n|Only God Forgives (2013)                          |5.0 |0.5 |167  |\n|Pyaar Ka Punchnama (2011)                         |4.5 |2.0 |4    |\n|Love and Lemons (Sm? citroner gula) (2013)        |3.0 |3.0 |3    |\n|Deathsport (1978)                                 |3.0 |1.0 |3    |\n|Narrien illat (1970)                              |2.0 |2.0 |1    |\n|Toy Story of Terror (2013)                        |5.0 |0.5 |60   |\n|Tortured (2008)                                   |2.5 |2.5 |1    |\n|World War II: When Lions Roared (1994)            |4.0 |2.5 |2    |\n|It's the Easter Beagle, Charlie Brown! (1974)     |4.0 |3.0 |7    |\n|Crocodile (2000)                                  |1.5 |0.5 |4    |\n|Wind Journeys, The (Viajes del viento, Los) (2009)|5.0 |3.0 |3    |\n|Noordzee, Texas (North Sea Texas) (2011)          |5.0 |2.0 |7    |\n|Platoon (1986)                                    |5.0 |0.5 |15808|\n|Apartment 1303 (2007)                             |3.5 |2.5 |2    |\n|Bitter Feast (2010)                               |3.5 |3.5 |1    |\n|Full House (O. Henry's Full House) (1952)         |4.0 |3.0 |5    |\n+--------------------------------------------------+----+----+-----+\nonly showing top 20 rows\n\n"
        },
        {
          "metadata" : { },
          "data" : {
            "text/html" : ""
          },
          "output_type" : "execute_result",
          "execution_count" : 20,
          "time" : "Took: 34.550s, at 2018-11-19 07:51"
        }
      ]
    },
    {
      "metadata" : {
        "id" : "40035551D52F4358BBDDB516E39E471B"
      },
      "cell_type" : "markdown",
      "source" : "The 10 most active users and how many times they rated a movie"
    },
    {
      "metadata" : {
        "trusted" : true,
        "input_collapsed" : false,
        "collapsed" : false,
        "id" : "4150F1A68661433383EFA8904849951F"
      },
      "cell_type" : "code",
      "source" : [
        "val mostActiveUsersSchemaRDD = sparkSession.sql(\"\"\"\n",
        "  SELECT ratings.userId, count(*) as ct \n",
        "  from ratings \n",
        "  group by ratings.userId \n",
        "  order by ct desc \n",
        "  limit 10\n",
        "\"\"\")"
      ],
      "outputs" : [
        {
          "name" : "stdout",
          "output_type" : "stream",
          "text" : "mostActiveUsersSchemaRDD: org.apache.spark.sql.DataFrame = [userId: string, ct: bigint]\n"
        },
        {
          "metadata" : { },
          "data" : {
            "text/html" : ""
          },
          "output_type" : "execute_result",
          "execution_count" : 34,
          "time" : "Took: 0.627s, at 2018-11-19 07:52"
        }
      ]
    },
    {
      "metadata" : {
        "trusted" : true,
        "input_collapsed" : false,
        "collapsed" : false,
        "id" : "57D44B162E4C445D89A6A8A3B95CB932"
      },
      "cell_type" : "code",
      "source" : [
        "mostActiveUsersSchemaRDD.show(false)"
      ],
      "outputs" : [
        {
          "name" : "stdout",
          "output_type" : "stream",
          "text" : "+------+----+\n|userId|ct  |\n+------+----+\n|118205|9254|\n|8405  |7515|\n|82418 |5646|\n|121535|5520|\n|125794|5491|\n|74142 |5447|\n|34576 |5356|\n|131904|5330|\n|83090 |5169|\n|59477 |4988|\n+------+----+\n\n"
        },
        {
          "metadata" : { },
          "data" : {
            "text/html" : ""
          },
          "output_type" : "execute_result",
          "execution_count" : 35,
          "time" : "Took: 7.347s, at 2018-11-19 07:53"
        }
      ]
    },
    {
      "metadata" : {
        "id" : "C3119DB8741E429781703E3408FD8039"
      },
      "cell_type" : "markdown",
      "source" : "Let’s have a look at a particular user and find the movies that, say user, 668 rated higher than 4"
    },
    {
      "metadata" : {
        "trusted" : true,
        "input_collapsed" : false,
        "collapsed" : false,
        "id" : "33A9A8431D6946638BB027D2029CBDDB"
      },
      "cell_type" : "code",
      "source" : [
        "val results2 = sparkSession.sql(\"\"\"\n",
        "  SELECT ratings.userId, ratings.movieId, ratings.rating, movies.title \n",
        "  FROM ratings \n",
        "  JOIN movies ON movies.movieId=ratings.movieId\n",
        "  where ratings.userId=668 and ratings.rating > 4\n",
        "\"\"\") "
      ],
      "outputs" : [
        {
          "name" : "stdout",
          "output_type" : "stream",
          "text" : "results2: org.apache.spark.sql.DataFrame = [userId: string, movieId: string ... 2 more fields]\n"
        },
        {
          "metadata" : { },
          "data" : {
            "text/html" : ""
          },
          "output_type" : "execute_result",
          "execution_count" : 36,
          "time" : "Took: 0.677s, at 2018-11-19 07:53"
        }
      ]
    },
    {
      "metadata" : {
        "trusted" : true,
        "input_collapsed" : false,
        "collapsed" : false,
        "id" : "7CDB5D2BDDBB4B93A47E8465E5D717E3"
      },
      "cell_type" : "code",
      "source" : [
        "results2.show(false)"
      ],
      "outputs" : [
        {
          "name" : "stdout",
          "output_type" : "stream",
          "text" : "+------+-------+------+----------------------------------------------------+\n|userId|movieId|rating|title                                               |\n+------+-------+------+----------------------------------------------------+\n|668   |175    |4.5   |Kids (1995)                                         |\n|668   |296    |5.0   |Pulp Fiction (1994)                                 |\n|668   |1258   |4.5   |Shining, The (1980)                                 |\n|668   |1285   |4.5   |Heathers (1989)                                     |\n|668   |2174   |4.5   |Beetlejuice (1988)                                  |\n|668   |2395   |5.0   |Rushmore (1998)                                     |\n|668   |2915   |4.5   |Risky Business (1983)                               |\n|668   |2959   |4.5   |Fight Club (1999)                                   |\n|668   |4973   |5.0   |Amelie (Fabuleux destin d'Am?lie Poulain, Le) (2001)|\n|668   |4979   |5.0   |Royal Tenenbaums, The (2001)                        |\n|668   |7361   |5.0   |Eternal Sunshine of the Spotless Mind (2004)        |\n|668   |7438   |5.0   |Kill Bill: Vol. 2 (2004)                            |\n|668   |33880  |5.0   |Me and You and Everyone We Know (2005)              |\n+------+-------+------+----------------------------------------------------+\n\n"
        },
        {
          "metadata" : { },
          "data" : {
            "text/html" : ""
          },
          "output_type" : "execute_result",
          "execution_count" : 37,
          "time" : "Took: 20.904s, at 2018-11-19 07:53"
        }
      ]
    },
    {
      "metadata" : {
        "id" : "B34F39E785884BCDB181DDA635417412"
      },
      "cell_type" : "markdown",
      "source" : "## Split data \n\nSplit ratings RDD into training RDD (75%) & test RDD (25%)"
    },
    {
      "metadata" : {
        "trusted" : true,
        "input_collapsed" : false,
        "collapsed" : false,
        "id" : "0536D7435A3D47C0880AF723B328E582"
      },
      "cell_type" : "code",
      "source" : [
        "val splits = ratingsDF.randomSplit(Array(0.75, 0.25), seed = 12345L)\n",
        "val (trainingData, testData) = (splits(0), splits(1))\n",
        "\n",
        "val numTraining = trainingData.count()\n",
        "val numTest = testData.count()\n",
        "\n",
        "println(\"Training: \" + numTraining + \" test: \" + numTest)"
      ],
      "outputs" : [
        {
          "name" : "stdout",
          "output_type" : "stream",
          "text" : "Training: 15002884 test: 4997379\nsplits: Array[org.apache.spark.sql.Dataset[org.apache.spark.sql.Row]] = Array([userId: string, movieId: string ... 2 more fields], [userId: string, movieId: string ... 2 more fields])\ntrainingData: org.apache.spark.sql.Dataset[org.apache.spark.sql.Row] = [userId: string, movieId: string ... 2 more fields]\ntestData: org.apache.spark.sql.Dataset[org.apache.spark.sql.Row] = [userId: string, movieId: string ... 2 more fields]\nnumTraining: Long = 15002884\nnumTest: Long = 4997379\n"
        },
        {
          "metadata" : { },
          "data" : {
            "text/html" : ""
          },
          "output_type" : "execute_result",
          "execution_count" : 25,
          "time" : "Took: 23.133s, at 2018-11-19 07:51"
        }
      ]
    },
    {
      "metadata" : {
        "id" : "6806B87B869C45228470A5BA0FA1FC84"
      },
      "cell_type" : "markdown",
      "source" : "## Prepare data for training model "
    },
    {
      "metadata" : {
        "trusted" : true,
        "input_collapsed" : false,
        "collapsed" : false,
        "id" : "24F60C8314364477BFF350F31EBBAF99"
      },
      "cell_type" : "code",
      "source" : [
        "// For trainingData\n",
        "val ratingsRDD = trainingData.rdd.map(row => { \n",
        "  val userId = row.getString(0)\n",
        "  val movieId = row.getString(1)\n",
        "  val ratings = row.getString(2)\n",
        "  Rating(userId.toInt, movieId.toInt, ratings.toDouble)\n",
        "})"
      ],
      "outputs" : [
        {
          "name" : "stdout",
          "output_type" : "stream",
          "text" : "ratingsRDD: org.apache.spark.rdd.RDD[org.apache.spark.mllib.recommendation.Rating] = MapPartitionsRDD[76] at map at <console>:75\n"
        },
        {
          "metadata" : { },
          "data" : {
            "text/html" : ""
          },
          "output_type" : "execute_result",
          "execution_count" : 26,
          "time" : "Took: 0.919s, at 2018-11-19 07:51"
        }
      ]
    },
    {
      "metadata" : {
        "trusted" : true,
        "input_collapsed" : false,
        "collapsed" : false,
        "id" : "E92E7609AC1D46C5BC9E482C116ED646"
      },
      "cell_type" : "code",
      "source" : [
        "// For testData\n",
        "val testRDD = testData.rdd.map(row => {\n",
        "  val userId = row.getString(0)\n",
        "  val movieId = row.getString(1)\n",
        "  val ratings = row.getString(2)\n",
        "  Rating(userId.toInt, movieId.toInt, ratings.toDouble)\n",
        "})"
      ],
      "outputs" : [
        {
          "name" : "stdout",
          "output_type" : "stream",
          "text" : "testRDD: org.apache.spark.rdd.RDD[org.apache.spark.mllib.recommendation.Rating] = MapPartitionsRDD[81] at map at <console>:75\n"
        },
        {
          "metadata" : { },
          "data" : {
            "text/html" : ""
          },
          "output_type" : "execute_result",
          "execution_count" : 27,
          "time" : "Took: 0.749s, at 2018-11-19 07:51"
        }
      ]
    },
    {
      "metadata" : {
        "id" : "76C7CAB49DEF417689492FC833ABBD38"
      },
      "cell_type" : "markdown",
      "source" : "## Build ALS model "
    },
    {
      "metadata" : {
        "trusted" : true,
        "input_collapsed" : false,
        "collapsed" : false,
        "id" : "B579F5BE26D4483BAC3AF5DB2525DB34"
      },
      "cell_type" : "code",
      "source" : [
        "// les hyper-paramètres du modèle\n",
        "val rank = 20\n",
        "val numIterations = 15\n",
        "val lambda = 0.10\n",
        "val alpha = 1.00 \n",
        "val block = -1\n",
        "val seed = 12345L\n",
        "val implicitPrefs = false"
      ],
      "outputs" : [
        {
          "name" : "stdout",
          "output_type" : "stream",
          "text" : "rank: Int = 20\nnumIterations: Int = 15\nlambda: Double = 0.1\nalpha: Double = 1.0\nblock: Int = -1\nseed: Long = 12345\nimplicitPrefs: Boolean = false\n"
        },
        {
          "metadata" : { },
          "data" : {
            "text/html" : ""
          },
          "output_type" : "execute_result",
          "execution_count" : 28,
          "time" : "Took: 0.600s, at 2018-11-19 07:51"
        }
      ]
    },
    {
      "metadata" : {
        "trusted" : true,
        "input_collapsed" : false,
        "collapsed" : false,
        "id" : "FDF14232FAA84FDC818DA3B3272C11C8"
      },
      "cell_type" : "code",
      "source" : [
        "val model = new ALS().setIterations(numIterations) .setBlocks(block).setAlpha(alpha)\n",
        "  .setLambda(lambda)\n",
        "  .setRank(rank) .setSeed(seed)\n",
        "  .setImplicitPrefs(implicitPrefs)\n",
        "  .run(ratingsRDD)"
      ],
      "outputs" : [
        {
          "name" : "stdout",
          "output_type" : "stream",
          "text" : "model: org.apache.spark.mllib.recommendation.MatrixFactorizationModel = org.apache.spark.mllib.recommendation.MatrixFactorizationModel@4fd89dd7\n"
        },
        {
          "metadata" : { },
          "data" : {
            "text/html" : ""
          },
          "output_type" : "execute_result",
          "execution_count" : 29,
          "time" : "Took: 56.559s, at 2018-11-19 07:52"
        }
      ]
    },
    {
      "metadata" : {
        "id" : "E985D25CFCF1496E82856DB6FD4A3553"
      },
      "cell_type" : "markdown",
      "source" : "## Predict "
    },
    {
      "metadata" : {
        "trusted" : true,
        "input_collapsed" : false,
        "collapsed" : false,
        "id" : "9BE97AF72B90458581C4BF21C4C45967"
      },
      "cell_type" : "code",
      "source" : [
        "println(\"Rating:(UserID, MovieID, Rating)\")\n",
        "\n",
        "println(\"----------------------------------\")\n",
        "\n",
        "val topRecsForUser = model.recommendProducts(668, 6) \n",
        "\n",
        "for (rating <- topRecsForUser) { println(rating.toString()) } \n",
        "println(\"----------------------------------\")"
      ],
      "outputs" : [
        {
          "name" : "stdout",
          "output_type" : "stream",
          "text" : "Rating:(UserID, MovieID, Rating)\n----------------------------------\nRating(668,98595,5.740206979348404)\nRating(668,117907,5.704248251716616)\nRating(668,112423,5.511863334836015)\nRating(668,104317,5.437270557417177)\nRating(668,89056,5.421782564053725)\nRating(668,128830,5.342475209729571)\n----------------------------------\ntopRecsForUser: Array[org.apache.spark.mllib.recommendation.Rating] = Array(Rating(668,98595,5.740206979348404), Rating(668,117907,5.704248251716616), Rating(668,112423,5.511863334836015), Rating(668,104317,5.437270557417177), Rating(668,89056,5.421782564053725), Rating(668,128830,5.342475209729571))\n"
        },
        {
          "metadata" : { },
          "data" : {
            "text/html" : ""
          },
          "output_type" : "execute_result",
          "execution_count" : 30,
          "time" : "Took: 1.081s, at 2018-11-19 07:52"
        }
      ]
    },
    {
      "metadata" : {
        "id" : "247CA1869C2D47929C9F7FBDC9FDA480"
      },
      "cell_type" : "markdown",
      "source" : "## Evaluate model "
    },
    {
      "metadata" : {
        "trusted" : true,
        "input_collapsed" : false,
        "collapsed" : false,
        "id" : "ECD99B225FF94AC7ACFDDA875446B062"
      },
      "cell_type" : "code",
      "source" : [
        "def computeRmse(model: MatrixFactorizationModel, \n",
        "                data: RDD[Rating], \n",
        "                implicitPrefs: Boolean): Double = { \n",
        "  val predictions: RDD[Rating] = model.predict(data.map(x => (x.user, x.product))) \n",
        "  val predictionsAndRatings = predictions.map { x => ((x.user, x.product), x.rating) } \n",
        "        .join(data.map(x => ((x.user, x.product), x.rating))).values \n",
        "  if (implicitPrefs) { println(\"(Prediction, Rating)\") \n",
        "                      println(predictionsAndRatings.take(5).mkString(\"n\")) \n",
        "                     } \n",
        "  math.sqrt(predictionsAndRatings.map(x => (x._1 - x._2) * (x._1 - x._2)).mean())\n",
        "}"
      ],
      "outputs" : [
        {
          "name" : "stdout",
          "output_type" : "stream",
          "text" : "computeRmse: (model: org.apache.spark.mllib.recommendation.MatrixFactorizationModel, data: org.apache.spark.rdd.RDD[org.apache.spark.mllib.recommendation.Rating], implicitPrefs: Boolean)Double\n"
        },
        {
          "metadata" : { },
          "data" : {
            "text/html" : ""
          },
          "output_type" : "execute_result",
          "execution_count" : 32,
          "time" : "Took: 0.841s, at 2018-11-19 07:52"
        }
      ]
    },
    {
      "metadata" : {
        "trusted" : true,
        "input_collapsed" : false,
        "collapsed" : false,
        "id" : "73A83C752C58444384D3C1B6F42F91FE"
      },
      "cell_type" : "code",
      "source" : [
        "val rmseTest = computeRmse(model, testRDD, true)\n",
        "\n",
        "println(\"Test RMSE: = \" + rmseTest) //Less is better"
      ],
      "outputs" : [
        {
          "name" : "stdout",
          "output_type" : "stream",
          "text" : "(Prediction, Rating)\n(4.104696463479858,5.0)n(4.149396123497152,4.5)n(3.9602610672116043,3.5)n(3.8000647397782297,3.5)n(3.813269417867101,5.0)\nTest RMSE: = 0.8055232578571584\nrmseTest: Double = 0.8055232578571584\n"
        },
        {
          "metadata" : { },
          "data" : {
            "text/html" : ""
          },
          "output_type" : "execute_result",
          "execution_count" : 38,
          "time" : "Took: 52.975s, at 2018-11-19 07:54"
        }
      ]
    },
    {
      "metadata" : {
        "trusted" : true,
        "input_collapsed" : false,
        "collapsed" : false,
        "id" : "B98D0FBB093F429F8F4263C827F5A04F"
      },
      "cell_type" : "code",
      "source" : [
        "println(\"Recommendations: (MovieId => Rating)\") \n",
        "println(\"----------------------------------\") \n",
        "val recommendationsUser = model.recommendProducts(668, 6) \n",
        "\n",
        "recommendationsUser.map(rating => (rating.product, rating.rating)).foreach(println) \n",
        "println(\"----------------------------------\")"
      ],
      "outputs" : [
        {
          "name" : "stdout",
          "output_type" : "stream",
          "text" : "Recommendations: (MovieId => Rating)\n----------------------------------\n(98595,5.740206979348404)\n(117907,5.704248251716616)\n(112423,5.511863334836015)\n(104317,5.437270557417177)\n(89056,5.421782564053725)\n(128830,5.342475209729571)\n----------------------------------\nrecommendationsUser: Array[org.apache.spark.mllib.recommendation.Rating] = Array(Rating(668,98595,5.740206979348404), Rating(668,117907,5.704248251716616), Rating(668,112423,5.511863334836015), Rating(668,104317,5.437270557417177), Rating(668,89056,5.421782564053725), Rating(668,128830,5.342475209729571))\n"
        },
        {
          "metadata" : { },
          "data" : {
            "text/html" : ""
          },
          "output_type" : "execute_result",
          "execution_count" : 33,
          "time" : "Took: 1.040s, at 2018-11-19 07:52"
        }
      ]
    },
    {
      "metadata" : {
        "trusted" : true,
        "input_collapsed" : false,
        "collapsed" : true,
        "id" : "311655A837D64D1D9D4C675CA1DFA574"
      },
      "cell_type" : "code",
      "source" : [
        ""
      ],
      "outputs" : [ ]
    }
  ]
}