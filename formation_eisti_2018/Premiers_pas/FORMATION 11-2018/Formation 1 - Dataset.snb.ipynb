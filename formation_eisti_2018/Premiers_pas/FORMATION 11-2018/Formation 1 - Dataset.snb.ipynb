{
  "metadata" : {
    "id" : "118c567b-dab1-4f7e-a56f-cdd32fee45cf",
    "name" : "Formation 1 - Dataset.snb.ipynb",
    "user_save_timestamp" : "2018-11-16T15:51:29.837Z",
    "auto_save_timestamp" : "1970-01-01T00:00:00.000Z",
    "language_info" : {
      "name" : "scala",
      "file_extension" : "scala",
      "codemirror_mode" : "text/x-scala"
    },
    "trusted" : true,
    "sparkNotebook" : null,
    "customLocalRepo" : null,
    "customRepos" : null,
    "customDeps" : null,
    "customImports" : null,
    "customArgs" : null,
    "customSparkConf" : null,
    "customVars" : null
  },
  "cells" : [
    {
      "metadata" : {
        "id" : "BE555D8579C0470D89D5BB09B2C3F120"
      },
      "cell_type" : "markdown",
      "source" : "# Dataset"
    },
    {
      "metadata" : {
        "id" : "49A54D4461E44BC183B3219CEB46F30F"
      },
      "cell_type" : "markdown",
      "source" : "In this section, we will borrow the same example like Formation 1 : Word Count example but instead of working with RDD, we'll work with Dataset. \n\nThe definition of Dataset is \"a strongly typed collection of domain-specific objects that can be transformed in parallel using functional or relational operations. Each dataset also has an untyped view called a DataFrame, which is a Dataset of Row.\" (source : https://spark.apache.org/docs/2.1.0/api/java/org/apache/spark/sql/Dataset.html)\n\nIn short, we can say that Dataset combines RDD and Dataframe with higher performance. In short, we can operate transformations of RDD inside a Dataset that has a structured schema like Dataframe.   \n\nLet's try to do the word count with Dataset!\n\nFor more explanation : http://blog.madhukaraphatak.com/introduction-to-spark-two-part-2/"
    },
    {
      "metadata" : {
        "id" : "E0E268B407964189A51E78706F68FD6D"
      },
      "cell_type" : "markdown",
      "source" : "### Firstly, to work with Dataset, we always need to import the library of SparkSession (entry point for Dataset API like sc, entry point for RDD)  "
    },
    {
      "metadata" : {
        "trusted" : true,
        "input_collapsed" : false,
        "collapsed" : false,
        "id" : "0AD59E4E01EA45C28CC2E06A8D4AEEB5"
      },
      "cell_type" : "code",
      "source" : [
        "import org.apache.spark.sql.SparkSession"
      ],
      "outputs" : [
        {
          "name" : "stdout",
          "output_type" : "stream",
          "text" : "import org.apache.spark.sql.SparkSession\n"
        },
        {
          "metadata" : { },
          "data" : {
            "text/html" : ""
          },
          "output_type" : "execute_result",
          "execution_count" : 1,
          "time" : "Took: 1.338s, at 2018-12-11 11:32"
        }
      ]
    },
    {
      "metadata" : {
        "id" : "303EBEAEC24448F98545A078017D709A"
      },
      "cell_type" : "markdown",
      "source" : "### And define its parameters and change the configurations (if necessary).."
    },
    {
      "metadata" : {
        "trusted" : true,
        "input_collapsed" : false,
        "collapsed" : false,
        "id" : "F8B0D2B4341B454D8880C5B24755F50C"
      },
      "cell_type" : "code",
      "source" : [
        "val sparkSession = SparkSession.builder\n",
        "      .master(\"local\")\n",
        "      .appName(\"WordCountExample\")\n",
        "      .getOrCreate()"
      ],
      "outputs" : [
        {
          "name" : "stdout",
          "output_type" : "stream",
          "text" : "sparkSession: org.apache.spark.sql.SparkSession = org.apache.spark.sql.SparkSession@7d4d7a08\n"
        },
        {
          "metadata" : { },
          "data" : {
            "text/html" : ""
          },
          "output_type" : "execute_result",
          "execution_count" : 2,
          "time" : "Took: 1.222s, at 2018-12-11 11:32"
        }
      ]
    },
    {
      "metadata" : {
        "id" : "D85E37644AC54870B7719B7D33B32D1C"
      },
      "cell_type" : "markdown",
      "source" : "### Read data from HDFS "
    },
    {
      "metadata" : {
        "trusted" : true,
        "input_collapsed" : false,
        "collapsed" : false,
        "id" : "60E203280FBD405C8259A588C2DF8A48"
      },
      "cell_type" : "code",
      "source" : [
        "import sparkSession.implicits._\n",
        "val data = sparkSession.read.text(\"hdfs://hupi-factory-02-01-01-01/user/hupi/dataset_torusVN/WordCountDataset.txt\").as[String]"
      ],
      "outputs" : [
        {
          "name" : "stdout",
          "output_type" : "stream",
          "text" : "import sparkSession.implicits._\ndata: org.apache.spark.sql.Dataset[String] = [value: string]\n"
        },
        {
          "metadata" : { },
          "data" : {
            "text/html" : ""
          },
          "output_type" : "execute_result",
          "execution_count" : 3,
          "time" : "Took: 3.666s, at 2018-12-11 11:33"
        }
      ]
    },
    {
      "metadata" : {
        "trusted" : true,
        "input_collapsed" : false,
        "collapsed" : false,
        "id" : "A6E83EE520F1411EB6CFD27A03A84E5D"
      },
      "cell_type" : "code",
      "source" : [
        "data.printSchema()"
      ],
      "outputs" : [
        {
          "name" : "stdout",
          "output_type" : "stream",
          "text" : "root\n |-- value: string (nullable = true)\n\n"
        },
        {
          "metadata" : { },
          "data" : {
            "text/html" : ""
          },
          "output_type" : "execute_result",
          "execution_count" : 4,
          "time" : "Took: 1.237s, at 2018-12-11 11:33"
        }
      ]
    },
    {
      "metadata" : {
        "id" : "19DB1584EE2641EBB0B6E8F5BAB80A06"
      },
      "cell_type" : "markdown",
      "source" : "### In a Dataset, we can do some transformations like for RDD "
    },
    {
      "metadata" : {
        "trusted" : true,
        "input_collapsed" : false,
        "collapsed" : false,
        "presentation" : {
          "tabs_state" : "{\n  \"tab_id\": \"#tab345780007-0\"\n}",
          "pivot_chart_state" : "{\n  \"hiddenAttributes\": [],\n  \"menuLimit\": 200,\n  \"cols\": [],\n  \"rows\": [],\n  \"vals\": [],\n  \"exclusions\": {},\n  \"inclusions\": {},\n  \"unusedAttrsVertical\": 85,\n  \"autoSortUnusedAttrs\": false,\n  \"inclusionsInfo\": {},\n  \"aggregatorName\": \"Count\",\n  \"rendererName\": \"Table\"\n}"
        },
        "id" : "980763E5C34A4B10BF06A41AF3EC396E"
      },
      "cell_type" : "code",
      "source" : [
        "data.filter(l => l.contains(\"the\")).take(1)"
      ],
      "outputs" : [
        {
          "name" : "stdout",
          "output_type" : "stream",
          "text" : "res6: Array[String] = Array(A Resilient Distributed Dataset (RDD), the basic abstraction in Spark. Represents an immutable, partitioned collection of elements that can be operated on in parallel. This class contains the basic operations available on all RDDs, such as map, filter, and persist. In addition, PairRDDFunctions contains operations available only on RDDs of key-value pairs, such as groupByKey and join; DoubleRDDFunctions contains operations available only on RDDs of Doubles; and SequenceFileRDDFunctions contains operations available on RDDs that can be saved as SequenceFiles.)\n"
        },
        {
          "metadata" : { },
          "data" : {
            "text/html" : "<div>\n      <script data-this=\"{&quot;dataId&quot;:&quot;anoneca9512633471f6067db46aa1c1a3bdd&quot;,&quot;dataInit&quot;:[],&quot;genId&quot;:&quot;345780007&quot;}\" type=\"text/x-scoped-javascript\">/*<![CDATA[*/req(['../javascripts/notebook/playground','../javascripts/notebook/magic/tabs'], \n      function(playground, _magictabs) {\n        // data ==> data-this (in observable.js's scopedEval) ==> this in JS => { dataId, dataInit, ... }\n        // this ==> scope (in observable.js's scopedEval) ==> this.parentElement ==> div.container below (toHtml)\n\n        playground.call(data,\n                        this\n                        ,\n                        {\n    \"f\": _magictabs,\n    \"o\": {}\n  }\n  \n                        \n                        \n                      );\n      }\n    );/*]]>*/</script>\n    <div>\n      <div>\n        <ul class=\"nav nav-tabs\" id=\"ul345780007\"><li>\n              <a href=\"#tab345780007-0\"><i class=\"fa fa-table\"/></a>\n            </li><li>\n              <a href=\"#tab345780007-1\"><i class=\"fa fa-cubes\"/></a>\n            </li></ul>\n\n        <div class=\"tab-content\" id=\"tab345780007\"><div class=\"tab-pane\" id=\"tab345780007-0\">\n            <div>\n      <script data-this=\"{&quot;dataId&quot;:&quot;anon11eee9b2ca1366ccae7dda13da33f154&quot;,&quot;dataInit&quot;:[{&quot;string value&quot;:&quot;A Resilient Distributed Dataset (RDD), the basic abstraction in Spark. Represents an immutable, partitioned collection of elements that can be operated on in parallel. This class contains the basic operations available on all RDDs, such as map, filter, and persist. In addition, PairRDDFunctions contains operations available only on RDDs of key-value pairs, such as groupByKey and join; DoubleRDDFunctions contains operations available only on RDDs of Doubles; and SequenceFileRDDFunctions contains operations available on RDDs that can be saved as SequenceFiles.&quot;}],&quot;genId&quot;:&quot;1527635873&quot;}\" type=\"text/x-scoped-javascript\">/*<![CDATA[*/req(['../javascripts/notebook/playground','../javascripts/notebook/magic/tableChart'], \n      function(playground, _magictableChart) {\n        // data ==> data-this (in observable.js's scopedEval) ==> this in JS => { dataId, dataInit, ... }\n        // this ==> scope (in observable.js's scopedEval) ==> this.parentElement ==> div.container below (toHtml)\n\n        playground.call(data,\n                        this\n                        ,\n                        {\n    \"f\": _magictableChart,\n    \"o\": {\"headers\":[\"string value\"],\"width\":600,\"height\":400}\n  }\n  \n                        \n                        \n                      );\n      }\n    );/*]]>*/</script>\n    <div>\n      <span class=\"chart-total-item-count\"><p data-bind=\"text: value\"><script data-this=\"{&quot;valueId&quot;:&quot;anon07154dba7d129e74f716f8468c7b3b1a&quot;,&quot;initialValue&quot;:&quot;1&quot;}\" type=\"text/x-scoped-javascript\">/*<![CDATA[*/\nreq(\n['observable', 'knockout'],\nfunction (O, ko) {\n  ko.applyBindings({\n      value: O.makeObservable(valueId, initialValue)\n    },\n    this\n  );\n});\n        /*]]>*/</script></p> entries total</span>\n      <span class=\"chart-sampling-warning\"><p data-bind=\"text: value\"><script data-this=\"{&quot;valueId&quot;:&quot;anon013c6afc5740d48e7861af2b689ec7df&quot;,&quot;initialValue&quot;:&quot;&quot;}\" type=\"text/x-scoped-javascript\">/*<![CDATA[*/\nreq(\n['observable', 'knockout'],\nfunction (O, ko) {\n  ko.applyBindings({\n      value: O.makeObservable(valueId, initialValue)\n    },\n    this\n  );\n});\n        /*]]>*/</script></p></span>\n      <div>\n      </div>\n    </div></div>\n            </div><div class=\"tab-pane\" id=\"tab345780007-1\">\n            <div>\n      <script data-this=\"{&quot;dataId&quot;:&quot;anon6653e368b89d40ae0c5a963dd804996f&quot;,&quot;dataInit&quot;:[{&quot;string value&quot;:&quot;A Resilient Distributed Dataset (RDD), the basic abstraction in Spark. Represents an immutable, partitioned collection of elements that can be operated on in parallel. This class contains the basic operations available on all RDDs, such as map, filter, and persist. In addition, PairRDDFunctions contains operations available only on RDDs of key-value pairs, such as groupByKey and join; DoubleRDDFunctions contains operations available only on RDDs of Doubles; and SequenceFileRDDFunctions contains operations available on RDDs that can be saved as SequenceFiles.&quot;}],&quot;genId&quot;:&quot;708723161&quot;}\" type=\"text/x-scoped-javascript\">/*<![CDATA[*/req(['../javascripts/notebook/playground','../javascripts/notebook/magic/pivotChart'], \n      function(playground, _magicpivotChart) {\n        // data ==> data-this (in observable.js's scopedEval) ==> this in JS => { dataId, dataInit, ... }\n        // this ==> scope (in observable.js's scopedEval) ==> this.parentElement ==> div.container below (toHtml)\n\n        playground.call(data,\n                        this\n                        ,\n                        {\n    \"f\": _magicpivotChart,\n    \"o\": {\"width\":600,\"height\":400,\"derivedAttributes\":{},\"extraOptions\":{}}\n  }\n  \n                        \n                        \n                      );\n      }\n    );/*]]>*/</script>\n    <div>\n      <span class=\"chart-total-item-count\"><p data-bind=\"text: value\"><script data-this=\"{&quot;valueId&quot;:&quot;anon7e7208af28b6880cd3a2c522c4a8c569&quot;,&quot;initialValue&quot;:&quot;1&quot;}\" type=\"text/x-scoped-javascript\">/*<![CDATA[*/\nreq(\n['observable', 'knockout'],\nfunction (O, ko) {\n  ko.applyBindings({\n      value: O.makeObservable(valueId, initialValue)\n    },\n    this\n  );\n});\n        /*]]>*/</script></p> entries total</span>\n      <span class=\"chart-sampling-warning\"><p data-bind=\"text: value\"><script data-this=\"{&quot;valueId&quot;:&quot;anonf32be15354c5155e59e2f2ce6967a81b&quot;,&quot;initialValue&quot;:&quot;&quot;}\" type=\"text/x-scoped-javascript\">/*<![CDATA[*/\nreq(\n['observable', 'knockout'],\nfunction (O, ko) {\n  ko.applyBindings({\n      value: O.makeObservable(valueId, initialValue)\n    },\n    this\n  );\n});\n        /*]]>*/</script></p></span>\n      <div>\n      </div>\n    </div></div>\n            </div></div>\n      </div>\n    </div></div>"
          },
          "output_type" : "execute_result",
          "execution_count" : 5,
          "time" : "Took: 3.828s, at 2018-12-11 11:34"
        }
      ]
    },
    {
      "metadata" : {
        "trusted" : true,
        "input_collapsed" : false,
        "collapsed" : false,
        "id" : "BD686A6C2FEB40A39DF0364E21E31643"
      },
      "cell_type" : "code",
      "source" : [
        "data.count()"
      ],
      "outputs" : [
        {
          "name" : "stdout",
          "output_type" : "stream",
          "text" : "res8: Long = 4\n"
        },
        {
          "metadata" : { },
          "data" : {
            "text/html" : "4"
          },
          "output_type" : "execute_result",
          "execution_count" : 6,
          "time" : "Took: 1.600s, at 2018-12-11 11:34"
        }
      ]
    },
    {
      "metadata" : {
        "trusted" : true,
        "input_collapsed" : false,
        "collapsed" : false,
        "presentation" : {
          "tabs_state" : "{\n  \"tab_id\": \"#tab1648072066-0\"\n}",
          "pivot_chart_state" : "{\n  \"hiddenAttributes\": [],\n  \"menuLimit\": 200,\n  \"cols\": [],\n  \"rows\": [],\n  \"vals\": [],\n  \"exclusions\": {},\n  \"inclusions\": {},\n  \"unusedAttrsVertical\": 85,\n  \"autoSortUnusedAttrs\": false,\n  \"inclusionsInfo\": {},\n  \"aggregatorName\": \"Count\",\n  \"rendererName\": \"Table\"\n}"
        },
        "id" : "017AD58F380F48D48F7F9F7B87840DC1"
      },
      "cell_type" : "code",
      "source" : [
        "data.take(2)"
      ],
      "outputs" : [
        {
          "name" : "stdout",
          "output_type" : "stream",
          "text" : "res10: Array[String] = Array(A Resilient Distributed Dataset (RDD), the basic abstraction in Spark. Represents an immutable, partitioned collection of elements that can be operated on in parallel. This class contains the basic operations available on all RDDs, such as map, filter, and persist. In addition, PairRDDFunctions contains operations available only on RDDs of key-value pairs, such as groupByKey and join; DoubleRDDFunctions contains operations available only on RDDs of Doubles; and SequenceFileRDDFunctions contains operations available on RDDs that can be saved as SequenceFiles., Internally, each RDD is characterized by five main properties:)\n"
        },
        {
          "metadata" : { },
          "data" : {
            "text/html" : "<div>\n      <script data-this=\"{&quot;dataId&quot;:&quot;anon0ec4006a44570619b2b5dafa8eb7acba&quot;,&quot;dataInit&quot;:[],&quot;genId&quot;:&quot;1648072066&quot;}\" type=\"text/x-scoped-javascript\">/*<![CDATA[*/req(['../javascripts/notebook/playground','../javascripts/notebook/magic/tabs'], \n      function(playground, _magictabs) {\n        // data ==> data-this (in observable.js's scopedEval) ==> this in JS => { dataId, dataInit, ... }\n        // this ==> scope (in observable.js's scopedEval) ==> this.parentElement ==> div.container below (toHtml)\n\n        playground.call(data,\n                        this\n                        ,\n                        {\n    \"f\": _magictabs,\n    \"o\": {}\n  }\n  \n                        \n                        \n                      );\n      }\n    );/*]]>*/</script>\n    <div>\n      <div>\n        <ul class=\"nav nav-tabs\" id=\"ul1648072066\"><li>\n              <a href=\"#tab1648072066-0\"><i class=\"fa fa-table\"/></a>\n            </li><li>\n              <a href=\"#tab1648072066-1\"><i class=\"fa fa-cubes\"/></a>\n            </li></ul>\n\n        <div class=\"tab-content\" id=\"tab1648072066\"><div class=\"tab-pane\" id=\"tab1648072066-0\">\n            <div>\n      <script data-this=\"{&quot;dataId&quot;:&quot;anond88898cb38593962583ad20e07f04471&quot;,&quot;dataInit&quot;:[{&quot;string value&quot;:&quot;A Resilient Distributed Dataset (RDD), the basic abstraction in Spark. Represents an immutable, partitioned collection of elements that can be operated on in parallel. This class contains the basic operations available on all RDDs, such as map, filter, and persist. In addition, PairRDDFunctions contains operations available only on RDDs of key-value pairs, such as groupByKey and join; DoubleRDDFunctions contains operations available only on RDDs of Doubles; and SequenceFileRDDFunctions contains operations available on RDDs that can be saved as SequenceFiles.&quot;},{&quot;string value&quot;:&quot;Internally, each RDD is characterized by five main properties:&quot;}],&quot;genId&quot;:&quot;2106004071&quot;}\" type=\"text/x-scoped-javascript\">/*<![CDATA[*/req(['../javascripts/notebook/playground','../javascripts/notebook/magic/tableChart'], \n      function(playground, _magictableChart) {\n        // data ==> data-this (in observable.js's scopedEval) ==> this in JS => { dataId, dataInit, ... }\n        // this ==> scope (in observable.js's scopedEval) ==> this.parentElement ==> div.container below (toHtml)\n\n        playground.call(data,\n                        this\n                        ,\n                        {\n    \"f\": _magictableChart,\n    \"o\": {\"headers\":[\"string value\"],\"width\":600,\"height\":400}\n  }\n  \n                        \n                        \n                      );\n      }\n    );/*]]>*/</script>\n    <div>\n      <span class=\"chart-total-item-count\"><p data-bind=\"text: value\"><script data-this=\"{&quot;valueId&quot;:&quot;anon6f59fea897281cd0fc4aba3e6f178b3d&quot;,&quot;initialValue&quot;:&quot;2&quot;}\" type=\"text/x-scoped-javascript\">/*<![CDATA[*/\nreq(\n['observable', 'knockout'],\nfunction (O, ko) {\n  ko.applyBindings({\n      value: O.makeObservable(valueId, initialValue)\n    },\n    this\n  );\n});\n        /*]]>*/</script></p> entries total</span>\n      <span class=\"chart-sampling-warning\"><p data-bind=\"text: value\"><script data-this=\"{&quot;valueId&quot;:&quot;anonb584ed58df71f22783b21ccaa00b753e&quot;,&quot;initialValue&quot;:&quot;&quot;}\" type=\"text/x-scoped-javascript\">/*<![CDATA[*/\nreq(\n['observable', 'knockout'],\nfunction (O, ko) {\n  ko.applyBindings({\n      value: O.makeObservable(valueId, initialValue)\n    },\n    this\n  );\n});\n        /*]]>*/</script></p></span>\n      <div>\n      </div>\n    </div></div>\n            </div><div class=\"tab-pane\" id=\"tab1648072066-1\">\n            <div>\n      <script data-this=\"{&quot;dataId&quot;:&quot;anonc8156ca27ec82513f3381a807bdd7dfb&quot;,&quot;dataInit&quot;:[{&quot;string value&quot;:&quot;A Resilient Distributed Dataset (RDD), the basic abstraction in Spark. Represents an immutable, partitioned collection of elements that can be operated on in parallel. This class contains the basic operations available on all RDDs, such as map, filter, and persist. In addition, PairRDDFunctions contains operations available only on RDDs of key-value pairs, such as groupByKey and join; DoubleRDDFunctions contains operations available only on RDDs of Doubles; and SequenceFileRDDFunctions contains operations available on RDDs that can be saved as SequenceFiles.&quot;},{&quot;string value&quot;:&quot;Internally, each RDD is characterized by five main properties:&quot;}],&quot;genId&quot;:&quot;201078818&quot;}\" type=\"text/x-scoped-javascript\">/*<![CDATA[*/req(['../javascripts/notebook/playground','../javascripts/notebook/magic/pivotChart'], \n      function(playground, _magicpivotChart) {\n        // data ==> data-this (in observable.js's scopedEval) ==> this in JS => { dataId, dataInit, ... }\n        // this ==> scope (in observable.js's scopedEval) ==> this.parentElement ==> div.container below (toHtml)\n\n        playground.call(data,\n                        this\n                        ,\n                        {\n    \"f\": _magicpivotChart,\n    \"o\": {\"width\":600,\"height\":400,\"derivedAttributes\":{},\"extraOptions\":{}}\n  }\n  \n                        \n                        \n                      );\n      }\n    );/*]]>*/</script>\n    <div>\n      <span class=\"chart-total-item-count\"><p data-bind=\"text: value\"><script data-this=\"{&quot;valueId&quot;:&quot;anond1d86382e971e4be5817bd2484abcf9e&quot;,&quot;initialValue&quot;:&quot;2&quot;}\" type=\"text/x-scoped-javascript\">/*<![CDATA[*/\nreq(\n['observable', 'knockout'],\nfunction (O, ko) {\n  ko.applyBindings({\n      value: O.makeObservable(valueId, initialValue)\n    },\n    this\n  );\n});\n        /*]]>*/</script></p> entries total</span>\n      <span class=\"chart-sampling-warning\"><p data-bind=\"text: value\"><script data-this=\"{&quot;valueId&quot;:&quot;anon8b31807f47615459a832049bd2358524&quot;,&quot;initialValue&quot;:&quot;&quot;}\" type=\"text/x-scoped-javascript\">/*<![CDATA[*/\nreq(\n['observable', 'knockout'],\nfunction (O, ko) {\n  ko.applyBindings({\n      value: O.makeObservable(valueId, initialValue)\n    },\n    this\n  );\n});\n        /*]]>*/</script></p></span>\n      <div>\n      </div>\n    </div></div>\n            </div></div>\n      </div>\n    </div></div>"
          },
          "output_type" : "execute_result",
          "execution_count" : 7,
          "time" : "Took: 1.217s, at 2018-11-19 11:00"
        }
      ]
    },
    {
      "metadata" : {
        "id" : "0BFF13C342B746F18EBA905320CC7D90"
      },
      "cell_type" : "markdown",
      "source" : "### We can also apply function that we use for Dataframe "
    },
    {
      "metadata" : {
        "trusted" : true,
        "input_collapsed" : false,
        "collapsed" : false,
        "id" : "892A515FF0B849879BCD9C0748C9EC8D"
      },
      "cell_type" : "code",
      "source" : [
        "data.printSchema()"
      ],
      "outputs" : [
        {
          "name" : "stdout",
          "output_type" : "stream",
          "text" : "root\n |-- value: string (nullable = true)\n\n"
        },
        {
          "metadata" : { },
          "data" : {
            "text/html" : ""
          },
          "output_type" : "execute_result",
          "execution_count" : 8,
          "time" : "Took: 1.051s, at 2018-11-19 11:00"
        }
      ]
    },
    {
      "metadata" : {
        "trusted" : true,
        "input_collapsed" : false,
        "collapsed" : false,
        "id" : "84071700EA6046438F5BB9A1AB658EE3"
      },
      "cell_type" : "code",
      "source" : [
        "data.show()"
      ],
      "outputs" : [
        {
          "name" : "stdout",
          "output_type" : "stream",
          "text" : "+--------------------+\n|               value|\n+--------------------+\n|A Resilient Distr...|\n|Internally, each ...|\n|- A list of parti...|\n|All of the schedu...|\n+--------------------+\n\n"
        },
        {
          "metadata" : { },
          "data" : {
            "text/html" : ""
          },
          "output_type" : "execute_result",
          "execution_count" : 8,
          "time" : "Took: 1.082s, at 2018-11-19 08:09"
        }
      ]
    },
    {
      "metadata" : {
        "trusted" : true,
        "input_collapsed" : false,
        "collapsed" : false,
        "presentation" : {
          "tabs_state" : "{\n  \"tab_id\": \"#tab1035999237-0\"\n}",
          "pivot_chart_state" : "{\n  \"hiddenAttributes\": [],\n  \"menuLimit\": 200,\n  \"cols\": [],\n  \"rows\": [],\n  \"vals\": [],\n  \"exclusions\": {},\n  \"inclusions\": {},\n  \"unusedAttrsVertical\": 85,\n  \"autoSortUnusedAttrs\": false,\n  \"inclusionsInfo\": {},\n  \"aggregatorName\": \"Count\",\n  \"rendererName\": \"Table\"\n}"
        },
        "id" : "715A9190466844E89181A6822BD04D24"
      },
      "cell_type" : "code",
      "source" : [
        "data.select(\"value\").take(2)"
      ],
      "outputs" : [
        {
          "name" : "stdout",
          "output_type" : "stream",
          "text" : "res14: Array[org.apache.spark.sql.Row] = Array([A Resilient Distributed Dataset (RDD), the basic abstraction in Spark. Represents an immutable, partitioned collection of elements that can be operated on in parallel. This class contains the basic operations available on all RDDs, such as map, filter, and persist. In addition, PairRDDFunctions contains operations available only on RDDs of key-value pairs, such as groupByKey and join; DoubleRDDFunctions contains operations available only on RDDs of Doubles; and SequenceFileRDDFunctions contains operations available on RDDs that can be saved as SequenceFiles.], [Internally, each RDD is characterized by five main properties:])\n"
        },
        {
          "metadata" : { },
          "data" : {
            "text/html" : "<div>\n      <script data-this=\"{&quot;dataId&quot;:&quot;anon88597d4bfa699d9813b3505c03d2d2d0&quot;,&quot;dataInit&quot;:[],&quot;genId&quot;:&quot;1035999237&quot;}\" type=\"text/x-scoped-javascript\">/*<![CDATA[*/req(['../javascripts/notebook/playground','../javascripts/notebook/magic/tabs'], \n      function(playground, _magictabs) {\n        // data ==> data-this (in observable.js's scopedEval) ==> this in JS => { dataId, dataInit, ... }\n        // this ==> scope (in observable.js's scopedEval) ==> this.parentElement ==> div.container below (toHtml)\n\n        playground.call(data,\n                        this\n                        ,\n                        {\n    \"f\": _magictabs,\n    \"o\": {}\n  }\n  \n                        \n                        \n                      );\n      }\n    );/*]]>*/</script>\n    <div>\n      <div>\n        <ul class=\"nav nav-tabs\" id=\"ul1035999237\"><li>\n              <a href=\"#tab1035999237-0\"><i class=\"fa fa-table\"/></a>\n            </li><li>\n              <a href=\"#tab1035999237-1\"><i class=\"fa fa-cubes\"/></a>\n            </li></ul>\n\n        <div class=\"tab-content\" id=\"tab1035999237\"><div class=\"tab-pane\" id=\"tab1035999237-0\">\n            <div>\n      <script data-this=\"{&quot;dataId&quot;:&quot;anone1ba942111fca1083dd5a14c0dfa0717&quot;,&quot;dataInit&quot;:[{&quot;value&quot;:&quot;A Resilient Distributed Dataset (RDD), the basic abstraction in Spark. Represents an immutable, partitioned collection of elements that can be operated on in parallel. This class contains the basic operations available on all RDDs, such as map, filter, and persist. In addition, PairRDDFunctions contains operations available only on RDDs of key-value pairs, such as groupByKey and join; DoubleRDDFunctions contains operations available only on RDDs of Doubles; and SequenceFileRDDFunctions contains operations available on RDDs that can be saved as SequenceFiles.&quot;},{&quot;value&quot;:&quot;Internally, each RDD is characterized by five main properties:&quot;}],&quot;genId&quot;:&quot;1513023504&quot;}\" type=\"text/x-scoped-javascript\">/*<![CDATA[*/req(['../javascripts/notebook/playground','../javascripts/notebook/magic/tableChart'], \n      function(playground, _magictableChart) {\n        // data ==> data-this (in observable.js's scopedEval) ==> this in JS => { dataId, dataInit, ... }\n        // this ==> scope (in observable.js's scopedEval) ==> this.parentElement ==> div.container below (toHtml)\n\n        playground.call(data,\n                        this\n                        ,\n                        {\n    \"f\": _magictableChart,\n    \"o\": {\"headers\":[\"value\"],\"width\":600,\"height\":400}\n  }\n  \n                        \n                        \n                      );\n      }\n    );/*]]>*/</script>\n    <div>\n      <span class=\"chart-total-item-count\"><p data-bind=\"text: value\"><script data-this=\"{&quot;valueId&quot;:&quot;anon6abde9d5a120b4470c36221cce6409cd&quot;,&quot;initialValue&quot;:&quot;2&quot;}\" type=\"text/x-scoped-javascript\">/*<![CDATA[*/\nreq(\n['observable', 'knockout'],\nfunction (O, ko) {\n  ko.applyBindings({\n      value: O.makeObservable(valueId, initialValue)\n    },\n    this\n  );\n});\n        /*]]>*/</script></p> entries total</span>\n      <span class=\"chart-sampling-warning\"><p data-bind=\"text: value\"><script data-this=\"{&quot;valueId&quot;:&quot;anondf4c2919ea7bb7273cd4236f5fdef5c1&quot;,&quot;initialValue&quot;:&quot;&quot;}\" type=\"text/x-scoped-javascript\">/*<![CDATA[*/\nreq(\n['observable', 'knockout'],\nfunction (O, ko) {\n  ko.applyBindings({\n      value: O.makeObservable(valueId, initialValue)\n    },\n    this\n  );\n});\n        /*]]>*/</script></p></span>\n      <div>\n      </div>\n    </div></div>\n            </div><div class=\"tab-pane\" id=\"tab1035999237-1\">\n            <div>\n      <script data-this=\"{&quot;dataId&quot;:&quot;anoncebaa4fdff948d9bf7572445ef1c5055&quot;,&quot;dataInit&quot;:[{&quot;value&quot;:&quot;A Resilient Distributed Dataset (RDD), the basic abstraction in Spark. Represents an immutable, partitioned collection of elements that can be operated on in parallel. This class contains the basic operations available on all RDDs, such as map, filter, and persist. In addition, PairRDDFunctions contains operations available only on RDDs of key-value pairs, such as groupByKey and join; DoubleRDDFunctions contains operations available only on RDDs of Doubles; and SequenceFileRDDFunctions contains operations available on RDDs that can be saved as SequenceFiles.&quot;},{&quot;value&quot;:&quot;Internally, each RDD is characterized by five main properties:&quot;}],&quot;genId&quot;:&quot;97626079&quot;}\" type=\"text/x-scoped-javascript\">/*<![CDATA[*/req(['../javascripts/notebook/playground','../javascripts/notebook/magic/pivotChart'], \n      function(playground, _magicpivotChart) {\n        // data ==> data-this (in observable.js's scopedEval) ==> this in JS => { dataId, dataInit, ... }\n        // this ==> scope (in observable.js's scopedEval) ==> this.parentElement ==> div.container below (toHtml)\n\n        playground.call(data,\n                        this\n                        ,\n                        {\n    \"f\": _magicpivotChart,\n    \"o\": {\"width\":600,\"height\":400,\"derivedAttributes\":{},\"extraOptions\":{}}\n  }\n  \n                        \n                        \n                      );\n      }\n    );/*]]>*/</script>\n    <div>\n      <span class=\"chart-total-item-count\"><p data-bind=\"text: value\"><script data-this=\"{&quot;valueId&quot;:&quot;anon6ecc1288dcfc006fd4467a72c18539e7&quot;,&quot;initialValue&quot;:&quot;2&quot;}\" type=\"text/x-scoped-javascript\">/*<![CDATA[*/\nreq(\n['observable', 'knockout'],\nfunction (O, ko) {\n  ko.applyBindings({\n      value: O.makeObservable(valueId, initialValue)\n    },\n    this\n  );\n});\n        /*]]>*/</script></p> entries total</span>\n      <span class=\"chart-sampling-warning\"><p data-bind=\"text: value\"><script data-this=\"{&quot;valueId&quot;:&quot;anone69e8d9340455ca5b0b16130bf18c5c2&quot;,&quot;initialValue&quot;:&quot;&quot;}\" type=\"text/x-scoped-javascript\">/*<![CDATA[*/\nreq(\n['observable', 'knockout'],\nfunction (O, ko) {\n  ko.applyBindings({\n      value: O.makeObservable(valueId, initialValue)\n    },\n    this\n  );\n});\n        /*]]>*/</script></p></span>\n      <div>\n      </div>\n    </div></div>\n            </div></div>\n      </div>\n    </div></div>"
          },
          "output_type" : "execute_result",
          "execution_count" : 9,
          "time" : "Took: 1.239s, at 2018-11-19 11:02"
        }
      ]
    },
    {
      "metadata" : {
        "id" : "6298BA4F4C714967BA1D90C3543B7D38"
      },
      "cell_type" : "markdown",
      "source" : "### Back to the Word Count Example, after having the Dataset data, we need to do flatMap inside Dataset and convert to Dataset of words"
    },
    {
      "metadata" : {
        "trusted" : true,
        "input_collapsed" : false,
        "collapsed" : false,
        "id" : "619EDA9E4FAB4253B4E68A633102AAD1"
      },
      "cell_type" : "code",
      "source" : [
        "val words = data.flatMap(value => value.split(\"\\\\s+\")) // or split(\" \")"
      ],
      "outputs" : [
        {
          "name" : "stdout",
          "output_type" : "stream",
          "text" : "words: org.apache.spark.sql.Dataset[String] = [value: string]\n"
        },
        {
          "metadata" : { },
          "data" : {
            "text/html" : ""
          },
          "output_type" : "execute_result",
          "execution_count" : 7,
          "time" : "Took: 0.989s, at 2018-12-11 11:34"
        }
      ]
    },
    {
      "metadata" : {
        "trusted" : true,
        "input_collapsed" : false,
        "collapsed" : false,
        "presentation" : {
          "tabs_state" : "{\n  \"tab_id\": \"#tab1471497098-0\"\n}",
          "pivot_chart_state" : "{\n  \"hiddenAttributes\": [],\n  \"menuLimit\": 200,\n  \"cols\": [],\n  \"rows\": [],\n  \"vals\": [],\n  \"exclusions\": {},\n  \"inclusions\": {},\n  \"unusedAttrsVertical\": 85,\n  \"autoSortUnusedAttrs\": false,\n  \"inclusionsInfo\": {},\n  \"aggregatorName\": \"Count\",\n  \"rendererName\": \"Table\"\n}"
        },
        "id" : "EFD346E5B30A4986B2FF133C231108F8"
      },
      "cell_type" : "code",
      "source" : [
        "words.take(2)"
      ],
      "outputs" : [
        {
          "name" : "stdout",
          "output_type" : "stream",
          "text" : "res11: Array[String] = Array(A, Resilient)\n"
        },
        {
          "metadata" : { },
          "data" : {
            "text/html" : "<div>\n      <script data-this=\"{&quot;dataId&quot;:&quot;anon453e3b8816f7d7b2cc2ae9bffd20ab08&quot;,&quot;dataInit&quot;:[],&quot;genId&quot;:&quot;1471497098&quot;}\" type=\"text/x-scoped-javascript\">/*<![CDATA[*/req(['../javascripts/notebook/playground','../javascripts/notebook/magic/tabs'], \n      function(playground, _magictabs) {\n        // data ==> data-this (in observable.js's scopedEval) ==> this in JS => { dataId, dataInit, ... }\n        // this ==> scope (in observable.js's scopedEval) ==> this.parentElement ==> div.container below (toHtml)\n\n        playground.call(data,\n                        this\n                        ,\n                        {\n    \"f\": _magictabs,\n    \"o\": {}\n  }\n  \n                        \n                        \n                      );\n      }\n    );/*]]>*/</script>\n    <div>\n      <div>\n        <ul class=\"nav nav-tabs\" id=\"ul1471497098\"><li>\n              <a href=\"#tab1471497098-0\"><i class=\"fa fa-table\"/></a>\n            </li><li>\n              <a href=\"#tab1471497098-1\"><i class=\"fa fa-cubes\"/></a>\n            </li></ul>\n\n        <div class=\"tab-content\" id=\"tab1471497098\"><div class=\"tab-pane\" id=\"tab1471497098-0\">\n            <div>\n      <script data-this=\"{&quot;dataId&quot;:&quot;anondcf7ced3412dede9e29f4d6eb2046584&quot;,&quot;dataInit&quot;:[{&quot;string value&quot;:&quot;A&quot;},{&quot;string value&quot;:&quot;Resilient&quot;}],&quot;genId&quot;:&quot;418656861&quot;}\" type=\"text/x-scoped-javascript\">/*<![CDATA[*/req(['../javascripts/notebook/playground','../javascripts/notebook/magic/tableChart'], \n      function(playground, _magictableChart) {\n        // data ==> data-this (in observable.js's scopedEval) ==> this in JS => { dataId, dataInit, ... }\n        // this ==> scope (in observable.js's scopedEval) ==> this.parentElement ==> div.container below (toHtml)\n\n        playground.call(data,\n                        this\n                        ,\n                        {\n    \"f\": _magictableChart,\n    \"o\": {\"headers\":[\"string value\"],\"width\":600,\"height\":400}\n  }\n  \n                        \n                        \n                      );\n      }\n    );/*]]>*/</script>\n    <div>\n      <span class=\"chart-total-item-count\"><p data-bind=\"text: value\"><script data-this=\"{&quot;valueId&quot;:&quot;anon3ad6ff22fa26f41e3259d3a72e4ae30f&quot;,&quot;initialValue&quot;:&quot;2&quot;}\" type=\"text/x-scoped-javascript\">/*<![CDATA[*/\nreq(\n['observable', 'knockout'],\nfunction (O, ko) {\n  ko.applyBindings({\n      value: O.makeObservable(valueId, initialValue)\n    },\n    this\n  );\n});\n        /*]]>*/</script></p> entries total</span>\n      <span class=\"chart-sampling-warning\"><p data-bind=\"text: value\"><script data-this=\"{&quot;valueId&quot;:&quot;anonb5095b901e4e288c782f1a05d7e26adb&quot;,&quot;initialValue&quot;:&quot;&quot;}\" type=\"text/x-scoped-javascript\">/*<![CDATA[*/\nreq(\n['observable', 'knockout'],\nfunction (O, ko) {\n  ko.applyBindings({\n      value: O.makeObservable(valueId, initialValue)\n    },\n    this\n  );\n});\n        /*]]>*/</script></p></span>\n      <div>\n      </div>\n    </div></div>\n            </div><div class=\"tab-pane\" id=\"tab1471497098-1\">\n            <div>\n      <script data-this=\"{&quot;dataId&quot;:&quot;anon960f686948ceebe155bfbfc664305dd8&quot;,&quot;dataInit&quot;:[{&quot;string value&quot;:&quot;A&quot;},{&quot;string value&quot;:&quot;Resilient&quot;}],&quot;genId&quot;:&quot;157510871&quot;}\" type=\"text/x-scoped-javascript\">/*<![CDATA[*/req(['../javascripts/notebook/playground','../javascripts/notebook/magic/pivotChart'], \n      function(playground, _magicpivotChart) {\n        // data ==> data-this (in observable.js's scopedEval) ==> this in JS => { dataId, dataInit, ... }\n        // this ==> scope (in observable.js's scopedEval) ==> this.parentElement ==> div.container below (toHtml)\n\n        playground.call(data,\n                        this\n                        ,\n                        {\n    \"f\": _magicpivotChart,\n    \"o\": {\"width\":600,\"height\":400,\"derivedAttributes\":{},\"extraOptions\":{}}\n  }\n  \n                        \n                        \n                      );\n      }\n    );/*]]>*/</script>\n    <div>\n      <span class=\"chart-total-item-count\"><p data-bind=\"text: value\"><script data-this=\"{&quot;valueId&quot;:&quot;anonf1aaf127daf6933ac9b83d4edec5c503&quot;,&quot;initialValue&quot;:&quot;2&quot;}\" type=\"text/x-scoped-javascript\">/*<![CDATA[*/\nreq(\n['observable', 'knockout'],\nfunction (O, ko) {\n  ko.applyBindings({\n      value: O.makeObservable(valueId, initialValue)\n    },\n    this\n  );\n});\n        /*]]>*/</script></p> entries total</span>\n      <span class=\"chart-sampling-warning\"><p data-bind=\"text: value\"><script data-this=\"{&quot;valueId&quot;:&quot;anonb38b4fb3d02ace6caf8e09b7b19fed67&quot;,&quot;initialValue&quot;:&quot;&quot;}\" type=\"text/x-scoped-javascript\">/*<![CDATA[*/\nreq(\n['observable', 'knockout'],\nfunction (O, ko) {\n  ko.applyBindings({\n      value: O.makeObservable(valueId, initialValue)\n    },\n    this\n  );\n});\n        /*]]>*/</script></p></span>\n      <div>\n      </div>\n    </div></div>\n            </div></div>\n      </div>\n    </div></div>"
          },
          "output_type" : "execute_result",
          "execution_count" : 8,
          "time" : "Took: 1.306s, at 2018-12-11 11:34"
        }
      ]
    },
    {
      "metadata" : {
        "id" : "B0C8F7F4A51149649A55CA43B9BA0B86"
      },
      "cell_type" : "markdown",
      "source" : "### Next, we convert all into lower case and then do groupByKey"
    },
    {
      "metadata" : {
        "trusted" : true,
        "input_collapsed" : false,
        "collapsed" : false,
        "id" : "13F62395BAAD45EC99906172CA025F3B"
      },
      "cell_type" : "code",
      "source" : [
        "val groupedWords = words.groupByKey(_.toLowerCase)"
      ],
      "outputs" : [
        {
          "name" : "stdout",
          "output_type" : "stream",
          "text" : "groupedWords: org.apache.spark.sql.KeyValueGroupedDataset[String,String] = org.apache.spark.sql.KeyValueGroupedDataset@4239d140\n"
        },
        {
          "metadata" : { },
          "data" : {
            "text/html" : ""
          },
          "output_type" : "execute_result",
          "execution_count" : 9,
          "time" : "Took: 0.867s, at 2018-12-11 11:35"
        }
      ]
    },
    {
      "metadata" : {
        "id" : "B036E37A3A98437EAA0BB54EB84F0809"
      },
      "cell_type" : "markdown",
      "source" : "### And finally, we do count() to have list of count of each words"
    },
    {
      "metadata" : {
        "trusted" : true,
        "input_collapsed" : false,
        "collapsed" : false,
        "id" : "D1BC574DE925496B868C8A17B1A6BC59"
      },
      "cell_type" : "code",
      "source" : [
        "val counts = groupedWords.count()"
      ],
      "outputs" : [
        {
          "name" : "stdout",
          "output_type" : "stream",
          "text" : "counts: org.apache.spark.sql.Dataset[(String, Long)] = [value: string, count(1): bigint]\n"
        },
        {
          "metadata" : { },
          "data" : {
            "text/html" : ""
          },
          "output_type" : "execute_result",
          "execution_count" : 10,
          "time" : "Took: 1.051s, at 2018-12-11 11:35"
        }
      ]
    },
    {
      "metadata" : {
        "trusted" : true,
        "input_collapsed" : false,
        "collapsed" : false,
        "id" : "826CD2CCE8A04AF084604DF6391290CC"
      },
      "cell_type" : "code",
      "source" : [
        "groupedWords.count()"
      ],
      "outputs" : [
        {
          "name" : "stdout",
          "output_type" : "stream",
          "text" : "res19: org.apache.spark.sql.Dataset[(String, Long)] = [value: string, count(1): bigint]\n"
        },
        {
          "metadata" : { },
          "data" : {
            "text/html" : "<div class=\"df-canvas\">\n      <script data-this=\"{&quot;dataId&quot;:&quot;anon3ef410a57ae2e3eea73bc7cfb9518155&quot;,&quot;partitionIndexId&quot;:&quot;anonbdfbb27b4de36695b7af34cb8b24a78d&quot;,&quot;numPartitions&quot;:5,&quot;dfSchema&quot;:{&quot;type&quot;:&quot;struct&quot;,&quot;fields&quot;:[{&quot;name&quot;:&quot;value&quot;,&quot;type&quot;:&quot;string&quot;,&quot;nullable&quot;:true,&quot;metadata&quot;:{}},{&quot;name&quot;:&quot;count(1)&quot;,&quot;type&quot;:&quot;long&quot;,&quot;nullable&quot;:false,&quot;metadata&quot;:{}}]}}\" type=\"text/x-scoped-javascript\">/*<![CDATA[*/req(['../javascripts/notebook/dataframe','../javascripts/notebook/consoleDir'], \n      function(dataframe, extension) {\n        dataframe.call(data, this, extension);\n      }\n    );/*]]>*/</script>\n      <link rel=\"stylesheet\" href=\"/assets/stylesheets/ipython/css/dataframe.css\" type=\"text/css\"/>\n    </div>"
          },
          "output_type" : "execute_result",
          "execution_count" : 13,
          "time" : "Took: 2.354s, at 2018-12-11 11:36"
        }
      ]
    },
    {
      "metadata" : {
        "trusted" : true,
        "input_collapsed" : false,
        "collapsed" : false,
        "presentation" : {
          "tabs_state" : "{\n  \"tab_id\": \"#tab1261769206-0\"\n}",
          "pivot_chart_state" : "{\n  \"hiddenAttributes\": [],\n  \"menuLimit\": 200,\n  \"cols\": [],\n  \"rows\": [],\n  \"vals\": [],\n  \"exclusions\": {},\n  \"inclusions\": {},\n  \"unusedAttrsVertical\": 85,\n  \"autoSortUnusedAttrs\": false,\n  \"inclusionsInfo\": {},\n  \"aggregatorName\": \"Count\",\n  \"rendererName\": \"Table\"\n}"
        },
        "id" : "AA528BD891CD4C968BE91C17DECA66A4"
      },
      "cell_type" : "code",
      "source" : [
        "counts.collect()"
      ],
      "outputs" : [
        {
          "name" : "stdout",
          "output_type" : "stream",
          "text" : "res17: Array[(String, Long)] = Array((indeed,,1), ((e.g.,3), (reading,1), (hash-partitioned),1), (methods,,1), (by,2), (based,1), (new,1), (own,1), (more,1), (collection,1), (saved,1), (itself.,1), (can,3), (allowing,1), (for,5), (main,1), (please,1), (operated,1), (in,4), (contains,4), ((rdd),,1), (represents,1), (say,1), (join;,1), (partitioned,1), (be,2), (doublerddfunctions,1), (partitions,1), (distributed,1), (these,2), (addition,,1), (split,2), (paper,1), (system),1), (internally,,1), (rdd,4), (resilient,1), (such,2), (implement,2), (other,1), (is,3), (on,9), (execution,1), (each,4), (spark.,1), (groupbykey,1), (properties:,1), (refer,1), (dataset,1), (data,1), (its,1), (basic,2), (only,2), (-,5), (map,,1), (rdds,,1), (spark,2), (done,1), (the,5), (pairrddfunctions,1), (characteri..."
        },
        {
          "metadata" : { },
          "data" : {
            "text/html" : "<div>\n      <script data-this=\"{&quot;dataId&quot;:&quot;anond22337f9dadbdff437fa0c1dfd7b8098&quot;,&quot;dataInit&quot;:[],&quot;genId&quot;:&quot;1261769206&quot;}\" type=\"text/x-scoped-javascript\">/*<![CDATA[*/req(['../javascripts/notebook/playground','../javascripts/notebook/magic/tabs'], \n      function(playground, _magictabs) {\n        // data ==> data-this (in observable.js's scopedEval) ==> this in JS => { dataId, dataInit, ... }\n        // this ==> scope (in observable.js's scopedEval) ==> this.parentElement ==> div.container below (toHtml)\n\n        playground.call(data,\n                        this\n                        ,\n                        {\n    \"f\": _magictabs,\n    \"o\": {}\n  }\n  \n                        \n                        \n                      );\n      }\n    );/*]]>*/</script>\n    <div>\n      <div>\n        <ul class=\"nav nav-tabs\" id=\"ul1261769206\"><li>\n              <a href=\"#tab1261769206-0\"><i class=\"fa fa-table\"/></a>\n            </li><li>\n              <a href=\"#tab1261769206-1\"><i class=\"fa fa-bar-chart\"/></a>\n            </li><li>\n              <a href=\"#tab1261769206-2\"><i class=\"fa fa-pie-chart\"/></a>\n            </li><li>\n              <a href=\"#tab1261769206-3\"><i class=\"fa fa-cubes\"/></a>\n            </li></ul>\n\n        <div class=\"tab-content\" id=\"tab1261769206\"><div class=\"tab-pane\" id=\"tab1261769206-0\">\n            <div>\n      <script data-this=\"{&quot;dataId&quot;:&quot;anon95a400d3a918517d7dabb4cf6499cea7&quot;,&quot;dataInit&quot;:[{&quot;_1&quot;:&quot;indeed,&quot;,&quot;_2&quot;:1},{&quot;_1&quot;:&quot;(e.g.&quot;,&quot;_2&quot;:3},{&quot;_1&quot;:&quot;reading&quot;,&quot;_2&quot;:1},{&quot;_1&quot;:&quot;hash-partitioned)&quot;,&quot;_2&quot;:1},{&quot;_1&quot;:&quot;methods,&quot;,&quot;_2&quot;:1},{&quot;_1&quot;:&quot;by&quot;,&quot;_2&quot;:2},{&quot;_1&quot;:&quot;based&quot;,&quot;_2&quot;:1},{&quot;_1&quot;:&quot;new&quot;,&quot;_2&quot;:1},{&quot;_1&quot;:&quot;own&quot;,&quot;_2&quot;:1},{&quot;_1&quot;:&quot;more&quot;,&quot;_2&quot;:1},{&quot;_1&quot;:&quot;collection&quot;,&quot;_2&quot;:1},{&quot;_1&quot;:&quot;saved&quot;,&quot;_2&quot;:1},{&quot;_1&quot;:&quot;itself.&quot;,&quot;_2&quot;:1},{&quot;_1&quot;:&quot;can&quot;,&quot;_2&quot;:3},{&quot;_1&quot;:&quot;allowing&quot;,&quot;_2&quot;:1},{&quot;_1&quot;:&quot;for&quot;,&quot;_2&quot;:5},{&quot;_1&quot;:&quot;main&quot;,&quot;_2&quot;:1},{&quot;_1&quot;:&quot;please&quot;,&quot;_2&quot;:1},{&quot;_1&quot;:&quot;operated&quot;,&quot;_2&quot;:1},{&quot;_1&quot;:&quot;in&quot;,&quot;_2&quot;:4},{&quot;_1&quot;:&quot;contains&quot;,&quot;_2&quot;:4},{&quot;_1&quot;:&quot;(rdd),&quot;,&quot;_2&quot;:1},{&quot;_1&quot;:&quot;represents&quot;,&quot;_2&quot;:1},{&quot;_1&quot;:&quot;say&quot;,&quot;_2&quot;:1},{&quot;_1&quot;:&quot;join;&quot;,&quot;_2&quot;:1},{&quot;_1&quot;:&quot;partitioned&quot;,&quot;_2&quot;:1},{&quot;_1&quot;:&quot;be&quot;,&quot;_2&quot;:2},{&quot;_1&quot;:&quot;doublerddfunctions&quot;,&quot;_2&quot;:1},{&quot;_1&quot;:&quot;partitions&quot;,&quot;_2&quot;:1},{&quot;_1&quot;:&quot;distributed&quot;,&quot;_2&quot;:1},{&quot;_1&quot;:&quot;these&quot;,&quot;_2&quot;:2},{&quot;_1&quot;:&quot;addition,&quot;,&quot;_2&quot;:1},{&quot;_1&quot;:&quot;split&quot;,&quot;_2&quot;:2},{&quot;_1&quot;:&quot;paper&quot;,&quot;_2&quot;:1},{&quot;_1&quot;:&quot;system)&quot;,&quot;_2&quot;:1},{&quot;_1&quot;:&quot;internally,&quot;,&quot;_2&quot;:1},{&quot;_1&quot;:&quot;rdd&quot;,&quot;_2&quot;:4},{&quot;_1&quot;:&quot;resilient&quot;,&quot;_2&quot;:1},{&quot;_1&quot;:&quot;such&quot;,&quot;_2&quot;:2},{&quot;_1&quot;:&quot;implement&quot;,&quot;_2&quot;:2},{&quot;_1&quot;:&quot;other&quot;,&quot;_2&quot;:1},{&quot;_1&quot;:&quot;is&quot;,&quot;_2&quot;:3},{&quot;_1&quot;:&quot;on&quot;,&quot;_2&quot;:9},{&quot;_1&quot;:&quot;execution&quot;,&quot;_2&quot;:1},{&quot;_1&quot;:&quot;each&quot;,&quot;_2&quot;:4},{&quot;_1&quot;:&quot;spark.&quot;,&quot;_2&quot;:1},{&quot;_1&quot;:&quot;groupbykey&quot;,&quot;_2&quot;:1},{&quot;_1&quot;:&quot;properties:&quot;,&quot;_2&quot;:1},{&quot;_1&quot;:&quot;refer&quot;,&quot;_2&quot;:1},{&quot;_1&quot;:&quot;dataset&quot;,&quot;_2&quot;:1},{&quot;_1&quot;:&quot;data&quot;,&quot;_2&quot;:1},{&quot;_1&quot;:&quot;its&quot;,&quot;_2&quot;:1},{&quot;_1&quot;:&quot;basic&quot;,&quot;_2&quot;:2},{&quot;_1&quot;:&quot;only&quot;,&quot;_2&quot;:2},{&quot;_1&quot;:&quot;-&quot;,&quot;_2&quot;:5},{&quot;_1&quot;:&quot;map,&quot;,&quot;_2&quot;:1},{&quot;_1&quot;:&quot;rdds,&quot;,&quot;_2&quot;:1},{&quot;_1&quot;:&quot;spark&quot;,&quot;_2&quot;:2},{&quot;_1&quot;:&quot;done&quot;,&quot;_2&quot;:1},{&quot;_1&quot;:&quot;the&quot;,&quot;_2&quot;:5},{&quot;_1&quot;:&quot;pairrddfunctions&quot;,&quot;_2&quot;:1},{&quot;_1&quot;:&quot;characterized&quot;,&quot;_2&quot;:1},{&quot;_1&quot;:&quot;block&quot;,&quot;_2&quot;:1},{&quot;_1&quot;:&quot;function&quot;,&quot;_2&quot;:1},{&quot;_1&quot;:&quot;overriding&quot;,&quot;_2&quot;:1},{&quot;_1&quot;:&quot;computing&quot;,&quot;_2&quot;:2},{&quot;_1&quot;:&quot;filter,&quot;,&quot;_2&quot;:1},{&quot;_1&quot;:&quot;scheduling&quot;,&quot;_2&quot;:1},{&quot;_1&quot;:&quot;file)&quot;,&quot;_2&quot;:1},{&quot;_1&quot;:&quot;from&quot;,&quot;_2&quot;:1},{&quot;_1&quot;:&quot;compute&quot;,&quot;_2&quot;:1},{&quot;_1&quot;:&quot;list&quot;,&quot;_2&quot;:3},{&quot;_1&quot;:&quot;details&quot;,&quot;_2&quot;:1},{&quot;_1&quot;:&quot;rdds&quot;,&quot;_2&quot;:6},{&quot;_1&quot;:&quot;pairs,&quot;,&quot;_2&quot;:1},{&quot;_1&quot;:&quot;preferred&quot;,&quot;_2&quot;:1},{&quot;_1&quot;:&quot;and&quot;,&quot;_2&quot;:4},{&quot;_1&quot;:&quot;doubles;&quot;,&quot;_2&quot;:1},{&quot;_1&quot;:&quot;class&quot;,&quot;_2&quot;:1},{&quot;_1&quot;:&quot;operations&quot;,&quot;_2&quot;:4},{&quot;_1&quot;:&quot;partitioner&quot;,&quot;_2&quot;:1},{&quot;_1&quot;:&quot;internals.&quot;,&quot;_2&quot;:1},{&quot;_1&quot;:&quot;abstraction&quot;,&quot;_2&quot;:1},{&quot;_1&quot;:&quot;key-value&quot;,&quot;_2&quot;:2},{&quot;_1&quot;:&quot;of&quot;,&quot;_2&quot;:8},{&quot;_1&quot;:&quot;custom&quot;,&quot;_2&quot;:1},{&quot;_1&quot;:&quot;parallel.&quot;,&quot;_2&quot;:1},{&quot;_1&quot;:&quot;an&quot;,&quot;_2&quot;:2},{&quot;_1&quot;:&quot;users&quot;,&quot;_2&quot;:1},{&quot;_1&quot;:&quot;way&quot;,&quot;_2&quot;:1},{&quot;_1&quot;:&quot;that&quot;,&quot;_2&quot;:3},{&quot;_1&quot;:&quot;optionally,&quot;,&quot;_2&quot;:2},{&quot;_1&quot;:&quot;hdfs&quot;,&quot;_2&quot;:1},{&quot;_1&quot;:&quot;immutable,&quot;,&quot;_2&quot;:1},{&quot;_1&quot;:&quot;all&quot;,&quot;_2&quot;:2},{&quot;_1&quot;:&quot;sequencefiles.&quot;,&quot;_2&quot;:1},{&quot;_1&quot;:&quot;a&quot;,&quot;_2&quot;:7},{&quot;_1&quot;:&quot;available&quot;,&quot;_2&quot;:4},{&quot;_1&quot;:&quot;as&quot;,&quot;_2&quot;:3},{&quot;_1&quot;:&quot;this&quot;,&quot;_2&quot;:1},{&quot;_1&quot;:&quot;five&quot;,&quot;_2&quot;:1},{&quot;_1&quot;:&quot;persist.&quot;,&quot;_2&quot;:1},{&quot;_1&quot;:&quot;to&quot;,&quot;_2&quot;:4},{&quot;_1&quot;:&quot;locations&quot;,&quot;_2&quot;:2},{&quot;_1&quot;:&quot;storage&quot;,&quot;_2&quot;:1},{&quot;_1&quot;:&quot;functions.&quot;,&quot;_2&quot;:1},{&quot;_1&quot;:&quot;elements&quot;,&quot;_2&quot;:1},{&quot;_1&quot;:&quot;dependencies&quot;,&quot;_2&quot;:1},{&quot;_1&quot;:&quot;sequencefilerddfunctions&quot;,&quot;_2&quot;:1}],&quot;genId&quot;:&quot;794904117&quot;}\" type=\"text/x-scoped-javascript\">/*<![CDATA[*/req(['../javascripts/notebook/playground','../javascripts/notebook/magic/tableChart'], \n      function(playground, _magictableChart) {\n        // data ==> data-this (in observable.js's scopedEval) ==> this in JS => { dataId, dataInit, ... }\n        // this ==> scope (in observable.js's scopedEval) ==> this.parentElement ==> div.container below (toHtml)\n\n        playground.call(data,\n                        this\n                        ,\n                        {\n    \"f\": _magictableChart,\n    \"o\": {\"headers\":[\"_1\",\"_2\"],\"width\":600,\"height\":400}\n  }\n  \n                        \n                        \n                      );\n      }\n    );/*]]>*/</script>\n    <div>\n      <span class=\"chart-total-item-count\"><p data-bind=\"text: value\"><script data-this=\"{&quot;valueId&quot;:&quot;anon0b25d8122e2cb503ff3c9053632319ae&quot;,&quot;initialValue&quot;:&quot;109&quot;}\" type=\"text/x-scoped-javascript\">/*<![CDATA[*/\nreq(\n['observable', 'knockout'],\nfunction (O, ko) {\n  ko.applyBindings({\n      value: O.makeObservable(valueId, initialValue)\n    },\n    this\n  );\n});\n        /*]]>*/</script></p> entries total</span>\n      <span class=\"chart-sampling-warning\"><p data-bind=\"text: value\"><script data-this=\"{&quot;valueId&quot;:&quot;anon3cdee70f5c630913aa246733b3d36d6d&quot;,&quot;initialValue&quot;:&quot;&quot;}\" type=\"text/x-scoped-javascript\">/*<![CDATA[*/\nreq(\n['observable', 'knockout'],\nfunction (O, ko) {\n  ko.applyBindings({\n      value: O.makeObservable(valueId, initialValue)\n    },\n    this\n  );\n});\n        /*]]>*/</script></p></span>\n      <div>\n      </div>\n    </div></div>\n            </div><div class=\"tab-pane\" id=\"tab1261769206-1\">\n            <div>\n      <script data-this=\"{&quot;dataId&quot;:&quot;anon89bab2d1dfc5a9f1c88d146fe0b4d9a9&quot;,&quot;dataInit&quot;:[{&quot;_1&quot;:&quot;indeed,&quot;,&quot;_2&quot;:1},{&quot;_1&quot;:&quot;(e.g.&quot;,&quot;_2&quot;:3},{&quot;_1&quot;:&quot;reading&quot;,&quot;_2&quot;:1},{&quot;_1&quot;:&quot;hash-partitioned)&quot;,&quot;_2&quot;:1},{&quot;_1&quot;:&quot;methods,&quot;,&quot;_2&quot;:1},{&quot;_1&quot;:&quot;by&quot;,&quot;_2&quot;:2},{&quot;_1&quot;:&quot;based&quot;,&quot;_2&quot;:1},{&quot;_1&quot;:&quot;new&quot;,&quot;_2&quot;:1},{&quot;_1&quot;:&quot;own&quot;,&quot;_2&quot;:1},{&quot;_1&quot;:&quot;more&quot;,&quot;_2&quot;:1},{&quot;_1&quot;:&quot;collection&quot;,&quot;_2&quot;:1},{&quot;_1&quot;:&quot;saved&quot;,&quot;_2&quot;:1},{&quot;_1&quot;:&quot;itself.&quot;,&quot;_2&quot;:1},{&quot;_1&quot;:&quot;can&quot;,&quot;_2&quot;:3},{&quot;_1&quot;:&quot;allowing&quot;,&quot;_2&quot;:1},{&quot;_1&quot;:&quot;for&quot;,&quot;_2&quot;:5},{&quot;_1&quot;:&quot;main&quot;,&quot;_2&quot;:1},{&quot;_1&quot;:&quot;please&quot;,&quot;_2&quot;:1},{&quot;_1&quot;:&quot;operated&quot;,&quot;_2&quot;:1},{&quot;_1&quot;:&quot;in&quot;,&quot;_2&quot;:4},{&quot;_1&quot;:&quot;contains&quot;,&quot;_2&quot;:4},{&quot;_1&quot;:&quot;(rdd),&quot;,&quot;_2&quot;:1},{&quot;_1&quot;:&quot;represents&quot;,&quot;_2&quot;:1},{&quot;_1&quot;:&quot;say&quot;,&quot;_2&quot;:1},{&quot;_1&quot;:&quot;join;&quot;,&quot;_2&quot;:1},{&quot;_1&quot;:&quot;partitioned&quot;,&quot;_2&quot;:1},{&quot;_1&quot;:&quot;be&quot;,&quot;_2&quot;:2},{&quot;_1&quot;:&quot;doublerddfunctions&quot;,&quot;_2&quot;:1},{&quot;_1&quot;:&quot;partitions&quot;,&quot;_2&quot;:1},{&quot;_1&quot;:&quot;distributed&quot;,&quot;_2&quot;:1},{&quot;_1&quot;:&quot;these&quot;,&quot;_2&quot;:2},{&quot;_1&quot;:&quot;addition,&quot;,&quot;_2&quot;:1},{&quot;_1&quot;:&quot;split&quot;,&quot;_2&quot;:2},{&quot;_1&quot;:&quot;paper&quot;,&quot;_2&quot;:1},{&quot;_1&quot;:&quot;system)&quot;,&quot;_2&quot;:1},{&quot;_1&quot;:&quot;internally,&quot;,&quot;_2&quot;:1},{&quot;_1&quot;:&quot;rdd&quot;,&quot;_2&quot;:4},{&quot;_1&quot;:&quot;resilient&quot;,&quot;_2&quot;:1},{&quot;_1&quot;:&quot;such&quot;,&quot;_2&quot;:2},{&quot;_1&quot;:&quot;implement&quot;,&quot;_2&quot;:2},{&quot;_1&quot;:&quot;other&quot;,&quot;_2&quot;:1},{&quot;_1&quot;:&quot;is&quot;,&quot;_2&quot;:3},{&quot;_1&quot;:&quot;on&quot;,&quot;_2&quot;:9},{&quot;_1&quot;:&quot;execution&quot;,&quot;_2&quot;:1},{&quot;_1&quot;:&quot;each&quot;,&quot;_2&quot;:4},{&quot;_1&quot;:&quot;spark.&quot;,&quot;_2&quot;:1},{&quot;_1&quot;:&quot;groupbykey&quot;,&quot;_2&quot;:1},{&quot;_1&quot;:&quot;properties:&quot;,&quot;_2&quot;:1},{&quot;_1&quot;:&quot;refer&quot;,&quot;_2&quot;:1},{&quot;_1&quot;:&quot;dataset&quot;,&quot;_2&quot;:1},{&quot;_1&quot;:&quot;data&quot;,&quot;_2&quot;:1},{&quot;_1&quot;:&quot;its&quot;,&quot;_2&quot;:1},{&quot;_1&quot;:&quot;basic&quot;,&quot;_2&quot;:2},{&quot;_1&quot;:&quot;only&quot;,&quot;_2&quot;:2},{&quot;_1&quot;:&quot;-&quot;,&quot;_2&quot;:5},{&quot;_1&quot;:&quot;map,&quot;,&quot;_2&quot;:1},{&quot;_1&quot;:&quot;rdds,&quot;,&quot;_2&quot;:1},{&quot;_1&quot;:&quot;spark&quot;,&quot;_2&quot;:2},{&quot;_1&quot;:&quot;done&quot;,&quot;_2&quot;:1},{&quot;_1&quot;:&quot;the&quot;,&quot;_2&quot;:5},{&quot;_1&quot;:&quot;pairrddfunctions&quot;,&quot;_2&quot;:1},{&quot;_1&quot;:&quot;characterized&quot;,&quot;_2&quot;:1},{&quot;_1&quot;:&quot;block&quot;,&quot;_2&quot;:1},{&quot;_1&quot;:&quot;function&quot;,&quot;_2&quot;:1},{&quot;_1&quot;:&quot;overriding&quot;,&quot;_2&quot;:1},{&quot;_1&quot;:&quot;computing&quot;,&quot;_2&quot;:2},{&quot;_1&quot;:&quot;filter,&quot;,&quot;_2&quot;:1},{&quot;_1&quot;:&quot;scheduling&quot;,&quot;_2&quot;:1},{&quot;_1&quot;:&quot;file)&quot;,&quot;_2&quot;:1},{&quot;_1&quot;:&quot;from&quot;,&quot;_2&quot;:1},{&quot;_1&quot;:&quot;compute&quot;,&quot;_2&quot;:1},{&quot;_1&quot;:&quot;list&quot;,&quot;_2&quot;:3},{&quot;_1&quot;:&quot;details&quot;,&quot;_2&quot;:1},{&quot;_1&quot;:&quot;rdds&quot;,&quot;_2&quot;:6},{&quot;_1&quot;:&quot;pairs,&quot;,&quot;_2&quot;:1},{&quot;_1&quot;:&quot;preferred&quot;,&quot;_2&quot;:1},{&quot;_1&quot;:&quot;and&quot;,&quot;_2&quot;:4},{&quot;_1&quot;:&quot;doubles;&quot;,&quot;_2&quot;:1},{&quot;_1&quot;:&quot;class&quot;,&quot;_2&quot;:1},{&quot;_1&quot;:&quot;operations&quot;,&quot;_2&quot;:4},{&quot;_1&quot;:&quot;partitioner&quot;,&quot;_2&quot;:1},{&quot;_1&quot;:&quot;internals.&quot;,&quot;_2&quot;:1},{&quot;_1&quot;:&quot;abstraction&quot;,&quot;_2&quot;:1},{&quot;_1&quot;:&quot;key-value&quot;,&quot;_2&quot;:2},{&quot;_1&quot;:&quot;of&quot;,&quot;_2&quot;:8},{&quot;_1&quot;:&quot;custom&quot;,&quot;_2&quot;:1},{&quot;_1&quot;:&quot;parallel.&quot;,&quot;_2&quot;:1},{&quot;_1&quot;:&quot;an&quot;,&quot;_2&quot;:2},{&quot;_1&quot;:&quot;users&quot;,&quot;_2&quot;:1},{&quot;_1&quot;:&quot;way&quot;,&quot;_2&quot;:1},{&quot;_1&quot;:&quot;that&quot;,&quot;_2&quot;:3},{&quot;_1&quot;:&quot;optionally,&quot;,&quot;_2&quot;:2},{&quot;_1&quot;:&quot;hdfs&quot;,&quot;_2&quot;:1},{&quot;_1&quot;:&quot;immutable,&quot;,&quot;_2&quot;:1},{&quot;_1&quot;:&quot;all&quot;,&quot;_2&quot;:2},{&quot;_1&quot;:&quot;sequencefiles.&quot;,&quot;_2&quot;:1},{&quot;_1&quot;:&quot;a&quot;,&quot;_2&quot;:7},{&quot;_1&quot;:&quot;available&quot;,&quot;_2&quot;:4},{&quot;_1&quot;:&quot;as&quot;,&quot;_2&quot;:3},{&quot;_1&quot;:&quot;this&quot;,&quot;_2&quot;:1},{&quot;_1&quot;:&quot;five&quot;,&quot;_2&quot;:1},{&quot;_1&quot;:&quot;persist.&quot;,&quot;_2&quot;:1},{&quot;_1&quot;:&quot;to&quot;,&quot;_2&quot;:4},{&quot;_1&quot;:&quot;locations&quot;,&quot;_2&quot;:2},{&quot;_1&quot;:&quot;storage&quot;,&quot;_2&quot;:1},{&quot;_1&quot;:&quot;functions.&quot;,&quot;_2&quot;:1},{&quot;_1&quot;:&quot;elements&quot;,&quot;_2&quot;:1},{&quot;_1&quot;:&quot;dependencies&quot;,&quot;_2&quot;:1},{&quot;_1&quot;:&quot;sequencefilerddfunctions&quot;,&quot;_2&quot;:1}],&quot;genId&quot;:&quot;916357832&quot;}\" type=\"text/x-scoped-javascript\">/*<![CDATA[*/req(['../javascripts/notebook/playground','../javascripts/notebook/magic/barChart'], \n      function(playground, _magicbarChart) {\n        // data ==> data-this (in observable.js's scopedEval) ==> this in JS => { dataId, dataInit, ... }\n        // this ==> scope (in observable.js's scopedEval) ==> this.parentElement ==> div.container below (toHtml)\n\n        playground.call(data,\n                        this\n                        ,\n                        {\n    \"f\": _magicbarChart,\n    \"o\": {\"x\":\"_1\",\"y\":\"_2\",\"width\":600,\"height\":400}\n  }\n  \n                        \n                        \n                      );\n      }\n    );/*]]>*/</script>\n    <div>\n      <span class=\"chart-total-item-count\"><p data-bind=\"text: value\"><script data-this=\"{&quot;valueId&quot;:&quot;anon7d0d7815c04416504fb26ca1712f9126&quot;,&quot;initialValue&quot;:&quot;109&quot;}\" type=\"text/x-scoped-javascript\">/*<![CDATA[*/\nreq(\n['observable', 'knockout'],\nfunction (O, ko) {\n  ko.applyBindings({\n      value: O.makeObservable(valueId, initialValue)\n    },\n    this\n  );\n});\n        /*]]>*/</script></p> entries total</span>\n      <span class=\"chart-sampling-warning\"><p data-bind=\"text: value\"><script data-this=\"{&quot;valueId&quot;:&quot;anon56b6b26495f547d1ac5c49836c8c76d1&quot;,&quot;initialValue&quot;:&quot;&quot;}\" type=\"text/x-scoped-javascript\">/*<![CDATA[*/\nreq(\n['observable', 'knockout'],\nfunction (O, ko) {\n  ko.applyBindings({\n      value: O.makeObservable(valueId, initialValue)\n    },\n    this\n  );\n});\n        /*]]>*/</script></p></span>\n      <div>\n      </div>\n    </div></div>\n            </div><div class=\"tab-pane\" id=\"tab1261769206-2\">\n            <div>\n      <script data-this=\"{&quot;dataId&quot;:&quot;anon3994406476298fb22428665eeb59d267&quot;,&quot;dataInit&quot;:[{&quot;_1&quot;:&quot;indeed,&quot;,&quot;_2&quot;:1},{&quot;_1&quot;:&quot;(e.g.&quot;,&quot;_2&quot;:3},{&quot;_1&quot;:&quot;reading&quot;,&quot;_2&quot;:1},{&quot;_1&quot;:&quot;hash-partitioned)&quot;,&quot;_2&quot;:1},{&quot;_1&quot;:&quot;methods,&quot;,&quot;_2&quot;:1},{&quot;_1&quot;:&quot;by&quot;,&quot;_2&quot;:2},{&quot;_1&quot;:&quot;based&quot;,&quot;_2&quot;:1},{&quot;_1&quot;:&quot;new&quot;,&quot;_2&quot;:1},{&quot;_1&quot;:&quot;own&quot;,&quot;_2&quot;:1},{&quot;_1&quot;:&quot;more&quot;,&quot;_2&quot;:1},{&quot;_1&quot;:&quot;collection&quot;,&quot;_2&quot;:1},{&quot;_1&quot;:&quot;saved&quot;,&quot;_2&quot;:1},{&quot;_1&quot;:&quot;itself.&quot;,&quot;_2&quot;:1},{&quot;_1&quot;:&quot;can&quot;,&quot;_2&quot;:3},{&quot;_1&quot;:&quot;allowing&quot;,&quot;_2&quot;:1},{&quot;_1&quot;:&quot;for&quot;,&quot;_2&quot;:5},{&quot;_1&quot;:&quot;main&quot;,&quot;_2&quot;:1},{&quot;_1&quot;:&quot;please&quot;,&quot;_2&quot;:1},{&quot;_1&quot;:&quot;operated&quot;,&quot;_2&quot;:1},{&quot;_1&quot;:&quot;in&quot;,&quot;_2&quot;:4},{&quot;_1&quot;:&quot;contains&quot;,&quot;_2&quot;:4},{&quot;_1&quot;:&quot;(rdd),&quot;,&quot;_2&quot;:1},{&quot;_1&quot;:&quot;represents&quot;,&quot;_2&quot;:1},{&quot;_1&quot;:&quot;say&quot;,&quot;_2&quot;:1},{&quot;_1&quot;:&quot;join;&quot;,&quot;_2&quot;:1},{&quot;_1&quot;:&quot;partitioned&quot;,&quot;_2&quot;:1},{&quot;_1&quot;:&quot;be&quot;,&quot;_2&quot;:2},{&quot;_1&quot;:&quot;doublerddfunctions&quot;,&quot;_2&quot;:1},{&quot;_1&quot;:&quot;partitions&quot;,&quot;_2&quot;:1},{&quot;_1&quot;:&quot;distributed&quot;,&quot;_2&quot;:1},{&quot;_1&quot;:&quot;these&quot;,&quot;_2&quot;:2},{&quot;_1&quot;:&quot;addition,&quot;,&quot;_2&quot;:1},{&quot;_1&quot;:&quot;split&quot;,&quot;_2&quot;:2},{&quot;_1&quot;:&quot;paper&quot;,&quot;_2&quot;:1},{&quot;_1&quot;:&quot;system)&quot;,&quot;_2&quot;:1},{&quot;_1&quot;:&quot;internally,&quot;,&quot;_2&quot;:1},{&quot;_1&quot;:&quot;rdd&quot;,&quot;_2&quot;:4},{&quot;_1&quot;:&quot;resilient&quot;,&quot;_2&quot;:1},{&quot;_1&quot;:&quot;such&quot;,&quot;_2&quot;:2},{&quot;_1&quot;:&quot;implement&quot;,&quot;_2&quot;:2},{&quot;_1&quot;:&quot;other&quot;,&quot;_2&quot;:1},{&quot;_1&quot;:&quot;is&quot;,&quot;_2&quot;:3},{&quot;_1&quot;:&quot;on&quot;,&quot;_2&quot;:9},{&quot;_1&quot;:&quot;execution&quot;,&quot;_2&quot;:1},{&quot;_1&quot;:&quot;each&quot;,&quot;_2&quot;:4},{&quot;_1&quot;:&quot;spark.&quot;,&quot;_2&quot;:1},{&quot;_1&quot;:&quot;groupbykey&quot;,&quot;_2&quot;:1},{&quot;_1&quot;:&quot;properties:&quot;,&quot;_2&quot;:1},{&quot;_1&quot;:&quot;refer&quot;,&quot;_2&quot;:1},{&quot;_1&quot;:&quot;dataset&quot;,&quot;_2&quot;:1},{&quot;_1&quot;:&quot;data&quot;,&quot;_2&quot;:1},{&quot;_1&quot;:&quot;its&quot;,&quot;_2&quot;:1},{&quot;_1&quot;:&quot;basic&quot;,&quot;_2&quot;:2},{&quot;_1&quot;:&quot;only&quot;,&quot;_2&quot;:2},{&quot;_1&quot;:&quot;-&quot;,&quot;_2&quot;:5},{&quot;_1&quot;:&quot;map,&quot;,&quot;_2&quot;:1},{&quot;_1&quot;:&quot;rdds,&quot;,&quot;_2&quot;:1},{&quot;_1&quot;:&quot;spark&quot;,&quot;_2&quot;:2},{&quot;_1&quot;:&quot;done&quot;,&quot;_2&quot;:1},{&quot;_1&quot;:&quot;the&quot;,&quot;_2&quot;:5},{&quot;_1&quot;:&quot;pairrddfunctions&quot;,&quot;_2&quot;:1},{&quot;_1&quot;:&quot;characterized&quot;,&quot;_2&quot;:1},{&quot;_1&quot;:&quot;block&quot;,&quot;_2&quot;:1},{&quot;_1&quot;:&quot;function&quot;,&quot;_2&quot;:1},{&quot;_1&quot;:&quot;overriding&quot;,&quot;_2&quot;:1},{&quot;_1&quot;:&quot;computing&quot;,&quot;_2&quot;:2},{&quot;_1&quot;:&quot;filter,&quot;,&quot;_2&quot;:1},{&quot;_1&quot;:&quot;scheduling&quot;,&quot;_2&quot;:1},{&quot;_1&quot;:&quot;file)&quot;,&quot;_2&quot;:1},{&quot;_1&quot;:&quot;from&quot;,&quot;_2&quot;:1},{&quot;_1&quot;:&quot;compute&quot;,&quot;_2&quot;:1},{&quot;_1&quot;:&quot;list&quot;,&quot;_2&quot;:3},{&quot;_1&quot;:&quot;details&quot;,&quot;_2&quot;:1},{&quot;_1&quot;:&quot;rdds&quot;,&quot;_2&quot;:6},{&quot;_1&quot;:&quot;pairs,&quot;,&quot;_2&quot;:1},{&quot;_1&quot;:&quot;preferred&quot;,&quot;_2&quot;:1},{&quot;_1&quot;:&quot;and&quot;,&quot;_2&quot;:4},{&quot;_1&quot;:&quot;doubles;&quot;,&quot;_2&quot;:1},{&quot;_1&quot;:&quot;class&quot;,&quot;_2&quot;:1},{&quot;_1&quot;:&quot;operations&quot;,&quot;_2&quot;:4},{&quot;_1&quot;:&quot;partitioner&quot;,&quot;_2&quot;:1},{&quot;_1&quot;:&quot;internals.&quot;,&quot;_2&quot;:1},{&quot;_1&quot;:&quot;abstraction&quot;,&quot;_2&quot;:1},{&quot;_1&quot;:&quot;key-value&quot;,&quot;_2&quot;:2},{&quot;_1&quot;:&quot;of&quot;,&quot;_2&quot;:8},{&quot;_1&quot;:&quot;custom&quot;,&quot;_2&quot;:1},{&quot;_1&quot;:&quot;parallel.&quot;,&quot;_2&quot;:1},{&quot;_1&quot;:&quot;an&quot;,&quot;_2&quot;:2},{&quot;_1&quot;:&quot;users&quot;,&quot;_2&quot;:1},{&quot;_1&quot;:&quot;way&quot;,&quot;_2&quot;:1},{&quot;_1&quot;:&quot;that&quot;,&quot;_2&quot;:3},{&quot;_1&quot;:&quot;optionally,&quot;,&quot;_2&quot;:2},{&quot;_1&quot;:&quot;hdfs&quot;,&quot;_2&quot;:1},{&quot;_1&quot;:&quot;immutable,&quot;,&quot;_2&quot;:1},{&quot;_1&quot;:&quot;all&quot;,&quot;_2&quot;:2},{&quot;_1&quot;:&quot;sequencefiles.&quot;,&quot;_2&quot;:1},{&quot;_1&quot;:&quot;a&quot;,&quot;_2&quot;:7},{&quot;_1&quot;:&quot;available&quot;,&quot;_2&quot;:4},{&quot;_1&quot;:&quot;as&quot;,&quot;_2&quot;:3},{&quot;_1&quot;:&quot;this&quot;,&quot;_2&quot;:1},{&quot;_1&quot;:&quot;five&quot;,&quot;_2&quot;:1},{&quot;_1&quot;:&quot;persist.&quot;,&quot;_2&quot;:1},{&quot;_1&quot;:&quot;to&quot;,&quot;_2&quot;:4},{&quot;_1&quot;:&quot;locations&quot;,&quot;_2&quot;:2},{&quot;_1&quot;:&quot;storage&quot;,&quot;_2&quot;:1},{&quot;_1&quot;:&quot;functions.&quot;,&quot;_2&quot;:1},{&quot;_1&quot;:&quot;elements&quot;,&quot;_2&quot;:1},{&quot;_1&quot;:&quot;dependencies&quot;,&quot;_2&quot;:1},{&quot;_1&quot;:&quot;sequencefilerddfunctions&quot;,&quot;_2&quot;:1}],&quot;genId&quot;:&quot;791664523&quot;}\" type=\"text/x-scoped-javascript\">/*<![CDATA[*/req(['../javascripts/notebook/playground','../javascripts/notebook/magic/pieChart'], \n      function(playground, _magicpieChart) {\n        // data ==> data-this (in observable.js's scopedEval) ==> this in JS => { dataId, dataInit, ... }\n        // this ==> scope (in observable.js's scopedEval) ==> this.parentElement ==> div.container below (toHtml)\n\n        playground.call(data,\n                        this\n                        ,\n                        {\n    \"f\": _magicpieChart,\n    \"o\": {\"series\":\"_1\",\"p\":\"_2\",\"width\":600,\"height\":400}\n  }\n  \n                        \n                        \n                      );\n      }\n    );/*]]>*/</script>\n    <div>\n      <span class=\"chart-total-item-count\"><p data-bind=\"text: value\"><script data-this=\"{&quot;valueId&quot;:&quot;anon7386fe5640b9123e9372e72e54925d39&quot;,&quot;initialValue&quot;:&quot;109&quot;}\" type=\"text/x-scoped-javascript\">/*<![CDATA[*/\nreq(\n['observable', 'knockout'],\nfunction (O, ko) {\n  ko.applyBindings({\n      value: O.makeObservable(valueId, initialValue)\n    },\n    this\n  );\n});\n        /*]]>*/</script></p> entries total</span>\n      <span class=\"chart-sampling-warning\"><p data-bind=\"text: value\"><script data-this=\"{&quot;valueId&quot;:&quot;anon52ade09d44273c0927e0e214f3bcc52d&quot;,&quot;initialValue&quot;:&quot;&quot;}\" type=\"text/x-scoped-javascript\">/*<![CDATA[*/\nreq(\n['observable', 'knockout'],\nfunction (O, ko) {\n  ko.applyBindings({\n      value: O.makeObservable(valueId, initialValue)\n    },\n    this\n  );\n});\n        /*]]>*/</script></p></span>\n      <div>\n      </div>\n    </div></div>\n            </div><div class=\"tab-pane\" id=\"tab1261769206-3\">\n            <div>\n      <script data-this=\"{&quot;dataId&quot;:&quot;anon58e4ffd5adcfe28fa1e98fd08acbab0a&quot;,&quot;dataInit&quot;:[{&quot;_1&quot;:&quot;indeed,&quot;,&quot;_2&quot;:1},{&quot;_1&quot;:&quot;(e.g.&quot;,&quot;_2&quot;:3},{&quot;_1&quot;:&quot;reading&quot;,&quot;_2&quot;:1},{&quot;_1&quot;:&quot;hash-partitioned)&quot;,&quot;_2&quot;:1},{&quot;_1&quot;:&quot;methods,&quot;,&quot;_2&quot;:1},{&quot;_1&quot;:&quot;by&quot;,&quot;_2&quot;:2},{&quot;_1&quot;:&quot;based&quot;,&quot;_2&quot;:1},{&quot;_1&quot;:&quot;new&quot;,&quot;_2&quot;:1},{&quot;_1&quot;:&quot;own&quot;,&quot;_2&quot;:1},{&quot;_1&quot;:&quot;more&quot;,&quot;_2&quot;:1},{&quot;_1&quot;:&quot;collection&quot;,&quot;_2&quot;:1},{&quot;_1&quot;:&quot;saved&quot;,&quot;_2&quot;:1},{&quot;_1&quot;:&quot;itself.&quot;,&quot;_2&quot;:1},{&quot;_1&quot;:&quot;can&quot;,&quot;_2&quot;:3},{&quot;_1&quot;:&quot;allowing&quot;,&quot;_2&quot;:1},{&quot;_1&quot;:&quot;for&quot;,&quot;_2&quot;:5},{&quot;_1&quot;:&quot;main&quot;,&quot;_2&quot;:1},{&quot;_1&quot;:&quot;please&quot;,&quot;_2&quot;:1},{&quot;_1&quot;:&quot;operated&quot;,&quot;_2&quot;:1},{&quot;_1&quot;:&quot;in&quot;,&quot;_2&quot;:4},{&quot;_1&quot;:&quot;contains&quot;,&quot;_2&quot;:4},{&quot;_1&quot;:&quot;(rdd),&quot;,&quot;_2&quot;:1},{&quot;_1&quot;:&quot;represents&quot;,&quot;_2&quot;:1},{&quot;_1&quot;:&quot;say&quot;,&quot;_2&quot;:1},{&quot;_1&quot;:&quot;join;&quot;,&quot;_2&quot;:1},{&quot;_1&quot;:&quot;partitioned&quot;,&quot;_2&quot;:1},{&quot;_1&quot;:&quot;be&quot;,&quot;_2&quot;:2},{&quot;_1&quot;:&quot;doublerddfunctions&quot;,&quot;_2&quot;:1},{&quot;_1&quot;:&quot;partitions&quot;,&quot;_2&quot;:1},{&quot;_1&quot;:&quot;distributed&quot;,&quot;_2&quot;:1},{&quot;_1&quot;:&quot;these&quot;,&quot;_2&quot;:2},{&quot;_1&quot;:&quot;addition,&quot;,&quot;_2&quot;:1},{&quot;_1&quot;:&quot;split&quot;,&quot;_2&quot;:2},{&quot;_1&quot;:&quot;paper&quot;,&quot;_2&quot;:1},{&quot;_1&quot;:&quot;system)&quot;,&quot;_2&quot;:1},{&quot;_1&quot;:&quot;internally,&quot;,&quot;_2&quot;:1},{&quot;_1&quot;:&quot;rdd&quot;,&quot;_2&quot;:4},{&quot;_1&quot;:&quot;resilient&quot;,&quot;_2&quot;:1},{&quot;_1&quot;:&quot;such&quot;,&quot;_2&quot;:2},{&quot;_1&quot;:&quot;implement&quot;,&quot;_2&quot;:2},{&quot;_1&quot;:&quot;other&quot;,&quot;_2&quot;:1},{&quot;_1&quot;:&quot;is&quot;,&quot;_2&quot;:3},{&quot;_1&quot;:&quot;on&quot;,&quot;_2&quot;:9},{&quot;_1&quot;:&quot;execution&quot;,&quot;_2&quot;:1},{&quot;_1&quot;:&quot;each&quot;,&quot;_2&quot;:4},{&quot;_1&quot;:&quot;spark.&quot;,&quot;_2&quot;:1},{&quot;_1&quot;:&quot;groupbykey&quot;,&quot;_2&quot;:1},{&quot;_1&quot;:&quot;properties:&quot;,&quot;_2&quot;:1},{&quot;_1&quot;:&quot;refer&quot;,&quot;_2&quot;:1},{&quot;_1&quot;:&quot;dataset&quot;,&quot;_2&quot;:1},{&quot;_1&quot;:&quot;data&quot;,&quot;_2&quot;:1},{&quot;_1&quot;:&quot;its&quot;,&quot;_2&quot;:1},{&quot;_1&quot;:&quot;basic&quot;,&quot;_2&quot;:2},{&quot;_1&quot;:&quot;only&quot;,&quot;_2&quot;:2},{&quot;_1&quot;:&quot;-&quot;,&quot;_2&quot;:5},{&quot;_1&quot;:&quot;map,&quot;,&quot;_2&quot;:1},{&quot;_1&quot;:&quot;rdds,&quot;,&quot;_2&quot;:1},{&quot;_1&quot;:&quot;spark&quot;,&quot;_2&quot;:2},{&quot;_1&quot;:&quot;done&quot;,&quot;_2&quot;:1},{&quot;_1&quot;:&quot;the&quot;,&quot;_2&quot;:5},{&quot;_1&quot;:&quot;pairrddfunctions&quot;,&quot;_2&quot;:1},{&quot;_1&quot;:&quot;characterized&quot;,&quot;_2&quot;:1},{&quot;_1&quot;:&quot;block&quot;,&quot;_2&quot;:1},{&quot;_1&quot;:&quot;function&quot;,&quot;_2&quot;:1},{&quot;_1&quot;:&quot;overriding&quot;,&quot;_2&quot;:1},{&quot;_1&quot;:&quot;computing&quot;,&quot;_2&quot;:2},{&quot;_1&quot;:&quot;filter,&quot;,&quot;_2&quot;:1},{&quot;_1&quot;:&quot;scheduling&quot;,&quot;_2&quot;:1},{&quot;_1&quot;:&quot;file)&quot;,&quot;_2&quot;:1},{&quot;_1&quot;:&quot;from&quot;,&quot;_2&quot;:1},{&quot;_1&quot;:&quot;compute&quot;,&quot;_2&quot;:1},{&quot;_1&quot;:&quot;list&quot;,&quot;_2&quot;:3},{&quot;_1&quot;:&quot;details&quot;,&quot;_2&quot;:1},{&quot;_1&quot;:&quot;rdds&quot;,&quot;_2&quot;:6},{&quot;_1&quot;:&quot;pairs,&quot;,&quot;_2&quot;:1},{&quot;_1&quot;:&quot;preferred&quot;,&quot;_2&quot;:1},{&quot;_1&quot;:&quot;and&quot;,&quot;_2&quot;:4},{&quot;_1&quot;:&quot;doubles;&quot;,&quot;_2&quot;:1},{&quot;_1&quot;:&quot;class&quot;,&quot;_2&quot;:1},{&quot;_1&quot;:&quot;operations&quot;,&quot;_2&quot;:4},{&quot;_1&quot;:&quot;partitioner&quot;,&quot;_2&quot;:1},{&quot;_1&quot;:&quot;internals.&quot;,&quot;_2&quot;:1},{&quot;_1&quot;:&quot;abstraction&quot;,&quot;_2&quot;:1},{&quot;_1&quot;:&quot;key-value&quot;,&quot;_2&quot;:2},{&quot;_1&quot;:&quot;of&quot;,&quot;_2&quot;:8},{&quot;_1&quot;:&quot;custom&quot;,&quot;_2&quot;:1},{&quot;_1&quot;:&quot;parallel.&quot;,&quot;_2&quot;:1},{&quot;_1&quot;:&quot;an&quot;,&quot;_2&quot;:2},{&quot;_1&quot;:&quot;users&quot;,&quot;_2&quot;:1},{&quot;_1&quot;:&quot;way&quot;,&quot;_2&quot;:1},{&quot;_1&quot;:&quot;that&quot;,&quot;_2&quot;:3},{&quot;_1&quot;:&quot;optionally,&quot;,&quot;_2&quot;:2},{&quot;_1&quot;:&quot;hdfs&quot;,&quot;_2&quot;:1},{&quot;_1&quot;:&quot;immutable,&quot;,&quot;_2&quot;:1},{&quot;_1&quot;:&quot;all&quot;,&quot;_2&quot;:2},{&quot;_1&quot;:&quot;sequencefiles.&quot;,&quot;_2&quot;:1},{&quot;_1&quot;:&quot;a&quot;,&quot;_2&quot;:7},{&quot;_1&quot;:&quot;available&quot;,&quot;_2&quot;:4},{&quot;_1&quot;:&quot;as&quot;,&quot;_2&quot;:3},{&quot;_1&quot;:&quot;this&quot;,&quot;_2&quot;:1},{&quot;_1&quot;:&quot;five&quot;,&quot;_2&quot;:1},{&quot;_1&quot;:&quot;persist.&quot;,&quot;_2&quot;:1},{&quot;_1&quot;:&quot;to&quot;,&quot;_2&quot;:4},{&quot;_1&quot;:&quot;locations&quot;,&quot;_2&quot;:2},{&quot;_1&quot;:&quot;storage&quot;,&quot;_2&quot;:1},{&quot;_1&quot;:&quot;functions.&quot;,&quot;_2&quot;:1},{&quot;_1&quot;:&quot;elements&quot;,&quot;_2&quot;:1},{&quot;_1&quot;:&quot;dependencies&quot;,&quot;_2&quot;:1},{&quot;_1&quot;:&quot;sequencefilerddfunctions&quot;,&quot;_2&quot;:1}],&quot;genId&quot;:&quot;1172834114&quot;}\" type=\"text/x-scoped-javascript\">/*<![CDATA[*/req(['../javascripts/notebook/playground','../javascripts/notebook/magic/pivotChart'], \n      function(playground, _magicpivotChart) {\n        // data ==> data-this (in observable.js's scopedEval) ==> this in JS => { dataId, dataInit, ... }\n        // this ==> scope (in observable.js's scopedEval) ==> this.parentElement ==> div.container below (toHtml)\n\n        playground.call(data,\n                        this\n                        ,\n                        {\n    \"f\": _magicpivotChart,\n    \"o\": {\"width\":600,\"height\":400,\"derivedAttributes\":{},\"extraOptions\":{}}\n  }\n  \n                        \n                        \n                      );\n      }\n    );/*]]>*/</script>\n    <div>\n      <span class=\"chart-total-item-count\"><p data-bind=\"text: value\"><script data-this=\"{&quot;valueId&quot;:&quot;anonbce35fe084376c34465fe2e217c7db81&quot;,&quot;initialValue&quot;:&quot;109&quot;}\" type=\"text/x-scoped-javascript\">/*<![CDATA[*/\nreq(\n['observable', 'knockout'],\nfunction (O, ko) {\n  ko.applyBindings({\n      value: O.makeObservable(valueId, initialValue)\n    },\n    this\n  );\n});\n        /*]]>*/</script></p> entries total</span>\n      <span class=\"chart-sampling-warning\"><p data-bind=\"text: value\"><script data-this=\"{&quot;valueId&quot;:&quot;anon467c5e122f6b3c657a2a1a41ab3d54a3&quot;,&quot;initialValue&quot;:&quot;&quot;}\" type=\"text/x-scoped-javascript\">/*<![CDATA[*/\nreq(\n['observable', 'knockout'],\nfunction (O, ko) {\n  ko.applyBindings({\n      value: O.makeObservable(valueId, initialValue)\n    },\n    this\n  );\n});\n        /*]]>*/</script></p></span>\n      <div>\n      </div>\n    </div></div>\n            </div></div>\n      </div>\n    </div></div>"
          },
          "output_type" : "execute_result",
          "execution_count" : 12,
          "time" : "Took: 2.726s, at 2018-12-11 11:36"
        }
      ]
    },
    {
      "metadata" : {
        "trusted" : true,
        "input_collapsed" : false,
        "collapsed" : false,
        "id" : "AE3EAEB655654A5481CF58FAD24941DC"
      },
      "cell_type" : "code",
      "source" : [
        "counts.show()"
      ],
      "outputs" : [
        {
          "name" : "stdout",
          "output_type" : "stream",
          "text" : "+-----------------+--------+\n|            value|count(1)|\n+-----------------+--------+\n|          indeed,|       1|\n|            (e.g.|       3|\n|          reading|       1|\n|hash-partitioned)|       1|\n|         methods,|       1|\n|               by|       2|\n|            based|       1|\n|              new|       1|\n|              own|       1|\n|             more|       1|\n|       collection|       1|\n|            saved|       1|\n|          itself.|       1|\n|              can|       3|\n|         allowing|       1|\n|              for|       5|\n|             main|       1|\n|           please|       1|\n|         operated|       1|\n|               in|       4|\n+-----------------+--------+\nonly showing top 20 rows\n\n"
        },
        {
          "metadata" : { },
          "data" : {
            "text/html" : ""
          },
          "output_type" : "execute_result",
          "execution_count" : 14,
          "time" : "Took: 1.907s, at 2018-11-19 08:09"
        }
      ]
    },
    {
      "metadata" : {
        "trusted" : true,
        "input_collapsed" : false,
        "collapsed" : true,
        "id" : "32208D331F6541DE807228324BA4EEB7"
      },
      "cell_type" : "code",
      "source" : [
        ""
      ],
      "outputs" : [ ]
    }
  ],
  "nbformat" : 4
}