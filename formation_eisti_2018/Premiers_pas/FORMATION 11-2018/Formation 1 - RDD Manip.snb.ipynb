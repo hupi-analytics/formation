{
  "metadata" : {
    "id" : "22b90da6-d9cb-4982-88c1-3c3ad92bb14d",
    "name" : "Formation 1 - RDD Manip.snb.ipynb",
    "user_save_timestamp" : "2018-11-16T15:45:08.220Z",
    "auto_save_timestamp" : "1970-01-01T00:00:00.000Z",
    "language_info" : {
      "name" : "scala",
      "file_extension" : "scala",
      "codemirror_mode" : "text/x-scala"
    },
    "trusted" : true,
    "sparkNotebook" : null,
    "customLocalRepo" : null,
    "customRepos" : null,
    "customDeps" : null,
    "customImports" : null,
    "customArgs" : null,
    "customSparkConf" : null,
    "customVars" : null
  },
  "cells" : [
    {
      "metadata" : {
        "trusted" : true,
        "input_collapsed" : false,
        "collapsed" : true,
        "id" : "3FD05E8D637649F387C73987A06C1DAA"
      },
      "cell_type" : "code",
      "source" : [
        ""
      ],
      "outputs" : [ ]
    },
    {
      "metadata" : {
        "id" : "F7F639F1BAFE4AA7807194E010ADA919"
      },
      "cell_type" : "markdown",
      "source" : "# RDD Manipulations "
    },
    {
      "metadata" : {
        "id" : "30CC433AB76045F8BD496EF594E583F0"
      },
      "cell_type" : "markdown",
      "source" : "In this section, we will present to you some basics manipulations that we can do with RDD - Resilient Distributed Dataset, the basic abstraction in Spark. \n\nIn resume, \"it represents an immutable, partitioned collection of elements that can be operated on in parallel. This class contains the basic operations available on all RDDs, such as map, filter, and persist. In addition, PairRDDFunctions contains operations available only on RDDs of key-value pairs, such as groupByKey and join; DoubleRDDFunctions contains operations available only on RDDs of Doubles; and SequenceFileRDDFunctions contains operations available on RDDs that can be saved as SequenceFiles. All operations are automatically available on any RDD of the right type (e.g. RDD[(Int, Int)] through implicit.\n\nInternally, each RDD is characterized by five main properties:\n\n- A list of partitions \n- A function for computing each split \n- A list of dependencies on other RDDs \n- Optionally, a Partitioner for key-value RDDs (e.g. to say that the RDD is hash-partitioned) \n- Optionally, a list of preferred locations to compute each split on (e.g. block locations for an HDFS file)\n\nAll of the scheduling and execution in Spark is done based on these methods, allowing each RDD to implement its own way of computing itself. Indeed, users can implement custom RDDs (e.g. for reading data from a new storage system) by overriding these functions. Please refer to the Spark paper for more details on RDD internals.\"\n\n(Source : https://spark.apache.org/docs/latest/api/java/org/apache/spark/rdd/RDD.html).\n\nWhen we talk about RDD, we have actions and transformations. Transformations in RDD means we just convert the type of RDD1 to RDD2 without executing or trying to find out what will be the results, otherwise transformations in RDD won't take much time (ex : map, flatMap, etc.). Actions in RDD means we compute really the results (ex : count, collect, take, etc.).\n\nTo illustrate some basics actions and transformations in RDD, let's take a Word Counts example!"
    },
    {
      "metadata" : {
        "id" : "2709F980CE5245F497F9B15C9CF1F35F"
      },
      "cell_type" : "markdown",
      "source" : "### We read data from HDFS. By using sc, we have a RDD in the output"
    },
    {
      "metadata" : {
        "trusted" : true,
        "input_collapsed" : false,
        "collapsed" : false,
        "id" : "72B41204DF59495CBA7465A252AA06AC"
      },
      "cell_type" : "code",
      "source" : [
        "val data = sc.textFile(\"hdfs://hupi-factory-02-01-01-01/user/j.larre/big data.txt\")\n",
        "\n",
        "/*\n",
        "Here we used sc.textFile to read a text file in HDFS, if you want to read a json file  \n",
        "\n",
        "import org.apache.spark.sql.SparkSession\n",
        "\n",
        "val spark = SparkSession\n",
        "  .builder()\n",
        "  .appName(\"Spark SQL basic example\") \n",
        "  .getOrCreate()\n",
        "\n",
        "// For implicit conversions like converting RDDs to DataFrames\n",
        "import spark.implicits._\n",
        "\n",
        "val df = spark.read.json(\"examples/src/main/resources/example.json\") // we have a Dataset here\n",
        "*/"
      ],
      "outputs" : [
        {
          "name" : "stdout",
          "output_type" : "stream",
          "text" : "data: org.apache.spark.rdd.RDD[String] = hdfs://hupi-factory-02-01-01-01/user/j.larre/big data.txt MapPartitionsRDD[5] at textFile at <console>:67\n"
        },
        {
          "metadata" : { },
          "data" : {
            "text/html" : ""
          },
          "output_type" : "execute_result",
          "execution_count" : 8,
          "time" : "Took: 0.828s, at 2018-12-11 10:48"
        }
      ]
    },
    {
      "metadata" : {
        "id" : "97ECB351F08C42DD80F3043F49C19D22"
      },
      "cell_type" : "markdown",
      "source" : "### We count number of lines in data"
    },
    {
      "metadata" : {
        "trusted" : true,
        "input_collapsed" : false,
        "collapsed" : false,
        "id" : "E69AD26DF5FA47E78548FCF4F2F01E59"
      },
      "cell_type" : "code",
      "source" : [
        "data.count()"
      ],
      "outputs" : [
        {
          "name" : "stdout",
          "output_type" : "stream",
          "text" : "res5: Long = 14\n"
        },
        {
          "metadata" : { },
          "data" : {
            "text/html" : "14"
          },
          "output_type" : "execute_result",
          "execution_count" : 4,
          "time" : "Took: 1.118s, at 2018-12-11 10:24"
        }
      ]
    },
    {
      "metadata" : {
        "id" : "4F3B80A5B5A9441C81499D234598A0C4"
      },
      "cell_type" : "markdown",
      "source" : "### We can see all of data, but be careful of this action because if data is too big, it can crash the notebook!"
    },
    {
      "metadata" : {
        "trusted" : true,
        "input_collapsed" : false,
        "collapsed" : false,
        "presentation" : {
          "tabs_state" : "{\n  \"tab_id\": \"#tab163141309-0\"\n}",
          "pivot_chart_state" : "{\n  \"hiddenAttributes\": [],\n  \"menuLimit\": 200,\n  \"cols\": [],\n  \"rows\": [],\n  \"vals\": [],\n  \"exclusions\": {},\n  \"inclusions\": {},\n  \"unusedAttrsVertical\": 85,\n  \"autoSortUnusedAttrs\": false,\n  \"inclusionsInfo\": {},\n  \"aggregatorName\": \"Count\",\n  \"rendererName\": \"Table\"\n}"
        },
        "id" : "3CD3833D84CD45CC98E62FBE8D3956F1"
      },
      "cell_type" : "code",
      "source" : [
        "data.collect()"
      ],
      "outputs" : [
        {
          "name" : "stdout",
          "output_type" : "stream",
          "text" : "res21: Array[String] = Array(\"En termes g?n?raux, la science des donn?es est l'extraction de connaissance d'ensembles de donn?es1,2. Elle emploie des techniques et des th?ories tir?es de plusieurs autres \", domaines plus larges des math?matiques, la statistique principalement, la th?orie de l'information et la technologie de l'information, notamment le traitement de signal, des, \" mod?les probabilistes, l'apprentissage automatique, l'apprentissage statistique, la programmation informatique, l'ing?nierie de donn?es, la reconnaissance de formes et l'apprentissage,\", \" la visualisation, l'analytique proph?tique, la mod?lisation d'incertitude, le stockage de donn?es, la compression de donn?es et le calcul ? haute performance. Les m?thodes qui s'adaptent\", \" aux donn?es de masse sont particu..."
        },
        {
          "metadata" : { },
          "data" : {
            "text/html" : "<div>\n      <script data-this=\"{&quot;dataId&quot;:&quot;anon053120b36203cbfe04fa2b5ca5687256&quot;,&quot;dataInit&quot;:[],&quot;genId&quot;:&quot;163141309&quot;}\" type=\"text/x-scoped-javascript\">/*<![CDATA[*/req(['../javascripts/notebook/playground','../javascripts/notebook/magic/tabs'], \n      function(playground, _magictabs) {\n        // data ==> data-this (in observable.js's scopedEval) ==> this in JS => { dataId, dataInit, ... }\n        // this ==> scope (in observable.js's scopedEval) ==> this.parentElement ==> div.container below (toHtml)\n\n        playground.call(data,\n                        this\n                        ,\n                        {\n    \"f\": _magictabs,\n    \"o\": {}\n  }\n  \n                        \n                        \n                      );\n      }\n    );/*]]>*/</script>\n    <div>\n      <div>\n        <ul class=\"nav nav-tabs\" id=\"ul163141309\"><li>\n              <a href=\"#tab163141309-0\"><i class=\"fa fa-table\"/></a>\n            </li><li>\n              <a href=\"#tab163141309-1\"><i class=\"fa fa-cubes\"/></a>\n            </li></ul>\n\n        <div class=\"tab-content\" id=\"tab163141309\"><div class=\"tab-pane\" id=\"tab163141309-0\">\n            <div>\n      <script data-this=\"{&quot;dataId&quot;:&quot;anoncced6d7706092b8df00fe3ba5fcde7d8&quot;,&quot;dataInit&quot;:[{&quot;string value&quot;:&quot;En termes g�n�raux, la science des donn�es est l'extraction de connaissance d'ensembles de donn�es1,2. Elle emploie des techniques et des th�ories tir�es de plusieurs autres &quot;},{&quot;string value&quot;:&quot;domaines plus larges des math�matiques, la statistique principalement, la th�orie de l'information et la technologie de l'information, notamment le traitement de signal, des&quot;},{&quot;string value&quot;:&quot; mod�les probabilistes, l'apprentissage automatique, l'apprentissage statistique, la programmation informatique, l'ing�nierie de donn�es, la reconnaissance de formes et l'apprentissage,&quot;},{&quot;string value&quot;:&quot; la visualisation, l'analytique proph�tique, la mod�lisation d'incertitude, le stockage de donn�es, la compression de donn�es et le calcul � haute performance. Les m�thodes qui s'adaptent&quot;},{&quot;string value&quot;:&quot; aux donn�es de masse sont particuli�rement int�ressantes dans la science des donn�es, bien que la discipline ne soit g�n�ralement pas consid�r�e comme limit�e � ces donn�es.&quot;},{&quot;string value&quot;:&quot;&quot;},{&quot;string value&quot;:&quot;&quot;},{&quot;string value&quot;:&quot;Les diff�rentes disciplines de la science des donn�es.&quot;},{&quot;string value&quot;:&quot;La science des donn�es (en anglais data science3) est une discipline qui s'appuie sur des outils math�matiques, de statistiques, d&quot;},{&quot;string value&quot;:&quot;'informatique (cette science est principalement une � science des donn�es num�riques �4) et de visualisation des donn�es. &quot;},{&quot;string value&quot;:&quot;Elle est en plein d�veloppement, dans le monde universitaire ainsi que dans le secteur priv� et le secteur public. Moore en 1991 a d�fini la statistique &quot;},{&quot;string value&quot;:&quot;comme la science des donn�es5 (d�finition reprise par d'autres dont James T. McClave et al. en 19976) et U. Beck en 20017 oppose la science des donn�es � &quot;},{&quot;string value&quot;:&quot;la science de l'exp�rience, voyant une dissociation croissante entre ces deux types de science, que tendrait selon lui � encourager une soci�t� de la gestion du &quot;},{&quot;string value&quot;:&quot;risque au sein d'une � civilisation du danger �8.&quot;}],&quot;genId&quot;:&quot;2120323601&quot;}\" type=\"text/x-scoped-javascript\">/*<![CDATA[*/req(['../javascripts/notebook/playground','../javascripts/notebook/magic/tableChart'], \n      function(playground, _magictableChart) {\n        // data ==> data-this (in observable.js's scopedEval) ==> this in JS => { dataId, dataInit, ... }\n        // this ==> scope (in observable.js's scopedEval) ==> this.parentElement ==> div.container below (toHtml)\n\n        playground.call(data,\n                        this\n                        ,\n                        {\n    \"f\": _magictableChart,\n    \"o\": {\"headers\":[\"string value\"],\"width\":600,\"height\":400}\n  }\n  \n                        \n                        \n                      );\n      }\n    );/*]]>*/</script>\n    <div>\n      <span class=\"chart-total-item-count\"><p data-bind=\"text: value\"><script data-this=\"{&quot;valueId&quot;:&quot;anon5f4435417113b435c65b87a456c0ffb7&quot;,&quot;initialValue&quot;:&quot;14&quot;}\" type=\"text/x-scoped-javascript\">/*<![CDATA[*/\nreq(\n['observable', 'knockout'],\nfunction (O, ko) {\n  ko.applyBindings({\n      value: O.makeObservable(valueId, initialValue)\n    },\n    this\n  );\n});\n        /*]]>*/</script></p> entries total</span>\n      <span class=\"chart-sampling-warning\"><p data-bind=\"text: value\"><script data-this=\"{&quot;valueId&quot;:&quot;anon16b1015d6ab7c8773c8dc4d4a0708242&quot;,&quot;initialValue&quot;:&quot;&quot;}\" type=\"text/x-scoped-javascript\">/*<![CDATA[*/\nreq(\n['observable', 'knockout'],\nfunction (O, ko) {\n  ko.applyBindings({\n      value: O.makeObservable(valueId, initialValue)\n    },\n    this\n  );\n});\n        /*]]>*/</script></p></span>\n      <div>\n      </div>\n    </div></div>\n            </div><div class=\"tab-pane\" id=\"tab163141309-1\">\n            <div>\n      <script data-this=\"{&quot;dataId&quot;:&quot;anon8c8dd3511b6b2cd40d08c9cfd8900f36&quot;,&quot;dataInit&quot;:[{&quot;string value&quot;:&quot;En termes g�n�raux, la science des donn�es est l'extraction de connaissance d'ensembles de donn�es1,2. Elle emploie des techniques et des th�ories tir�es de plusieurs autres &quot;},{&quot;string value&quot;:&quot;domaines plus larges des math�matiques, la statistique principalement, la th�orie de l'information et la technologie de l'information, notamment le traitement de signal, des&quot;},{&quot;string value&quot;:&quot; mod�les probabilistes, l'apprentissage automatique, l'apprentissage statistique, la programmation informatique, l'ing�nierie de donn�es, la reconnaissance de formes et l'apprentissage,&quot;},{&quot;string value&quot;:&quot; la visualisation, l'analytique proph�tique, la mod�lisation d'incertitude, le stockage de donn�es, la compression de donn�es et le calcul � haute performance. Les m�thodes qui s'adaptent&quot;},{&quot;string value&quot;:&quot; aux donn�es de masse sont particuli�rement int�ressantes dans la science des donn�es, bien que la discipline ne soit g�n�ralement pas consid�r�e comme limit�e � ces donn�es.&quot;},{&quot;string value&quot;:&quot;&quot;},{&quot;string value&quot;:&quot;&quot;},{&quot;string value&quot;:&quot;Les diff�rentes disciplines de la science des donn�es.&quot;},{&quot;string value&quot;:&quot;La science des donn�es (en anglais data science3) est une discipline qui s'appuie sur des outils math�matiques, de statistiques, d&quot;},{&quot;string value&quot;:&quot;'informatique (cette science est principalement une � science des donn�es num�riques �4) et de visualisation des donn�es. &quot;},{&quot;string value&quot;:&quot;Elle est en plein d�veloppement, dans le monde universitaire ainsi que dans le secteur priv� et le secteur public. Moore en 1991 a d�fini la statistique &quot;},{&quot;string value&quot;:&quot;comme la science des donn�es5 (d�finition reprise par d'autres dont James T. McClave et al. en 19976) et U. Beck en 20017 oppose la science des donn�es � &quot;},{&quot;string value&quot;:&quot;la science de l'exp�rience, voyant une dissociation croissante entre ces deux types de science, que tendrait selon lui � encourager une soci�t� de la gestion du &quot;},{&quot;string value&quot;:&quot;risque au sein d'une � civilisation du danger �8.&quot;}],&quot;genId&quot;:&quot;632639887&quot;}\" type=\"text/x-scoped-javascript\">/*<![CDATA[*/req(['../javascripts/notebook/playground','../javascripts/notebook/magic/pivotChart'], \n      function(playground, _magicpivotChart) {\n        // data ==> data-this (in observable.js's scopedEval) ==> this in JS => { dataId, dataInit, ... }\n        // this ==> scope (in observable.js's scopedEval) ==> this.parentElement ==> div.container below (toHtml)\n\n        playground.call(data,\n                        this\n                        ,\n                        {\n    \"f\": _magicpivotChart,\n    \"o\": {\"width\":600,\"height\":400,\"derivedAttributes\":{},\"extraOptions\":{}}\n  }\n  \n                        \n                        \n                      );\n      }\n    );/*]]>*/</script>\n    <div>\n      <span class=\"chart-total-item-count\"><p data-bind=\"text: value\"><script data-this=\"{&quot;valueId&quot;:&quot;anon3f8d4901b6c73759fd5390580724edcf&quot;,&quot;initialValue&quot;:&quot;14&quot;}\" type=\"text/x-scoped-javascript\">/*<![CDATA[*/\nreq(\n['observable', 'knockout'],\nfunction (O, ko) {\n  ko.applyBindings({\n      value: O.makeObservable(valueId, initialValue)\n    },\n    this\n  );\n});\n        /*]]>*/</script></p> entries total</span>\n      <span class=\"chart-sampling-warning\"><p data-bind=\"text: value\"><script data-this=\"{&quot;valueId&quot;:&quot;anon49bcdb6063cc357b21606e7f1851b517&quot;,&quot;initialValue&quot;:&quot;&quot;}\" type=\"text/x-scoped-javascript\">/*<![CDATA[*/\nreq(\n['observable', 'knockout'],\nfunction (O, ko) {\n  ko.applyBindings({\n      value: O.makeObservable(valueId, initialValue)\n    },\n    this\n  );\n});\n        /*]]>*/</script></p></span>\n      <div>\n      </div>\n    </div></div>\n            </div></div>\n      </div>\n    </div></div>"
          },
          "output_type" : "execute_result",
          "execution_count" : 9,
          "time" : "Took: 0.938s, at 2018-12-11 10:48"
        }
      ]
    },
    {
      "metadata" : {
        "id" : "319B4B20D0C34BB1A7ABFC19539145AE"
      },
      "cell_type" : "markdown",
      "source" : "### We can also do this way..."
    },
    {
      "metadata" : {
        "trusted" : true,
        "input_collapsed" : false,
        "collapsed" : false,
        "id" : "9CDC717256F4470BBEEA3B4AD4BE72C9"
      },
      "cell_type" : "code",
      "source" : [
        "data.collect().foreach(println)"
      ],
      "outputs" : [
        {
          "name" : "stdout",
          "output_type" : "stream",
          "text" : "En termes g?n?raux, la science des donn?es est l'extraction de connaissance d'ensembles de donn?es1,2. Elle emploie des techniques et des th?ories tir?es de plusieurs autres \ndomaines plus larges des math?matiques, la statistique principalement, la th?orie de l'information et la technologie de l'information, notamment le traitement de signal, des\n mod?les probabilistes, l'apprentissage automatique, l'apprentissage statistique, la programmation informatique, l'ing?nierie de donn?es, la reconnaissance de formes et l'apprentissage,\n la visualisation, l'analytique proph?tique, la mod?lisation d'incertitude, le stockage de donn?es, la compression de donn?es et le calcul ? haute performance. Les m?thodes qui s'adaptent\n aux donn?es de masse sont particuli?rement int?ressantes dans la science des donn?es, bien que la discipline ne soit g?n?ralement pas consid?r?e comme limit?e ? ces donn?es.\n\n\nLes diff?rentes disciplines de la science des donn?es.\nLa science des donn?es (en anglais data science3) est une discipline qui s'appuie sur des outils math?matiques, de statistiques, d\n'informatique (cette science est principalement une ? science des donn?es num?riques ?4) et de visualisation des donn?es. \nElle est en plein d?veloppement, dans le monde universitaire ainsi que dans le secteur priv? et le secteur public. Moore en 1991 a d?fini la statistique \ncomme la science des donn?es5 (d?finition reprise par d'autres dont James T. McClave et al. en 19976) et U. Beck en 20017 oppose la science des donn?es ? \nla science de l'exp?rience, voyant une dissociation croissante entre ces deux types de science, que tendrait selon lui ? encourager une soci?t? de la gestion du \nrisque au sein d'une ? civilisation du danger ?8.\n"
        },
        {
          "metadata" : { },
          "data" : {
            "text/html" : ""
          },
          "output_type" : "execute_result",
          "execution_count" : 10,
          "time" : "Took: 1.086s, at 2018-12-11 10:48"
        }
      ]
    },
    {
      "metadata" : {
        "id" : "7A6631679F184E5B8F76FE50599E7477"
      },
      "cell_type" : "markdown",
      "source" : "### But it's always better to take some n lines of data instead of collecting all data"
    },
    {
      "metadata" : {
        "trusted" : true,
        "input_collapsed" : false,
        "collapsed" : false,
        "presentation" : {
          "tabs_state" : "{\n  \"tab_id\": \"#tab1989354323-0\"\n}",
          "pivot_chart_state" : "{\n  \"hiddenAttributes\": [],\n  \"menuLimit\": 200,\n  \"cols\": [],\n  \"rows\": [],\n  \"vals\": [],\n  \"exclusions\": {},\n  \"inclusions\": {},\n  \"unusedAttrsVertical\": 85,\n  \"autoSortUnusedAttrs\": false,\n  \"inclusionsInfo\": {},\n  \"aggregatorName\": \"Count\",\n  \"rendererName\": \"Table\"\n}"
        },
        "id" : "9DA8CC5811E5472EB619460851F6F99B"
      },
      "cell_type" : "code",
      "source" : [
        "data.take(2)"
      ],
      "outputs" : [
        {
          "name" : "stdout",
          "output_type" : "stream",
          "text" : "res25: Array[String] = Array(\"En termes g?n?raux, la science des donn?es est l'extraction de connaissance d'ensembles de donn?es1,2. Elle emploie des techniques et des th?ories tir?es de plusieurs autres \", domaines plus larges des math?matiques, la statistique principalement, la th?orie de l'information et la technologie de l'information, notamment le traitement de signal, des)\n"
        },
        {
          "metadata" : { },
          "data" : {
            "text/html" : "<div>\n      <script data-this=\"{&quot;dataId&quot;:&quot;anonf578faec612f82e4369025a6f1abcd0a&quot;,&quot;dataInit&quot;:[],&quot;genId&quot;:&quot;1989354323&quot;}\" type=\"text/x-scoped-javascript\">/*<![CDATA[*/req(['../javascripts/notebook/playground','../javascripts/notebook/magic/tabs'], \n      function(playground, _magictabs) {\n        // data ==> data-this (in observable.js's scopedEval) ==> this in JS => { dataId, dataInit, ... }\n        // this ==> scope (in observable.js's scopedEval) ==> this.parentElement ==> div.container below (toHtml)\n\n        playground.call(data,\n                        this\n                        ,\n                        {\n    \"f\": _magictabs,\n    \"o\": {}\n  }\n  \n                        \n                        \n                      );\n      }\n    );/*]]>*/</script>\n    <div>\n      <div>\n        <ul class=\"nav nav-tabs\" id=\"ul1989354323\"><li>\n              <a href=\"#tab1989354323-0\"><i class=\"fa fa-table\"/></a>\n            </li><li>\n              <a href=\"#tab1989354323-1\"><i class=\"fa fa-cubes\"/></a>\n            </li></ul>\n\n        <div class=\"tab-content\" id=\"tab1989354323\"><div class=\"tab-pane\" id=\"tab1989354323-0\">\n            <div>\n      <script data-this=\"{&quot;dataId&quot;:&quot;anona73094b3482db1ad4d95ed578e2e23ba&quot;,&quot;dataInit&quot;:[{&quot;string value&quot;:&quot;En termes g�n�raux, la science des donn�es est l'extraction de connaissance d'ensembles de donn�es1,2. Elle emploie des techniques et des th�ories tir�es de plusieurs autres &quot;},{&quot;string value&quot;:&quot;domaines plus larges des math�matiques, la statistique principalement, la th�orie de l'information et la technologie de l'information, notamment le traitement de signal, des&quot;}],&quot;genId&quot;:&quot;330412925&quot;}\" type=\"text/x-scoped-javascript\">/*<![CDATA[*/req(['../javascripts/notebook/playground','../javascripts/notebook/magic/tableChart'], \n      function(playground, _magictableChart) {\n        // data ==> data-this (in observable.js's scopedEval) ==> this in JS => { dataId, dataInit, ... }\n        // this ==> scope (in observable.js's scopedEval) ==> this.parentElement ==> div.container below (toHtml)\n\n        playground.call(data,\n                        this\n                        ,\n                        {\n    \"f\": _magictableChart,\n    \"o\": {\"headers\":[\"string value\"],\"width\":600,\"height\":400}\n  }\n  \n                        \n                        \n                      );\n      }\n    );/*]]>*/</script>\n    <div>\n      <span class=\"chart-total-item-count\"><p data-bind=\"text: value\"><script data-this=\"{&quot;valueId&quot;:&quot;anond748c85b965855e1fd2561d717351934&quot;,&quot;initialValue&quot;:&quot;2&quot;}\" type=\"text/x-scoped-javascript\">/*<![CDATA[*/\nreq(\n['observable', 'knockout'],\nfunction (O, ko) {\n  ko.applyBindings({\n      value: O.makeObservable(valueId, initialValue)\n    },\n    this\n  );\n});\n        /*]]>*/</script></p> entries total</span>\n      <span class=\"chart-sampling-warning\"><p data-bind=\"text: value\"><script data-this=\"{&quot;valueId&quot;:&quot;anonc0b28c59964f8044e6a07315c191d3ab&quot;,&quot;initialValue&quot;:&quot;&quot;}\" type=\"text/x-scoped-javascript\">/*<![CDATA[*/\nreq(\n['observable', 'knockout'],\nfunction (O, ko) {\n  ko.applyBindings({\n      value: O.makeObservable(valueId, initialValue)\n    },\n    this\n  );\n});\n        /*]]>*/</script></p></span>\n      <div>\n      </div>\n    </div></div>\n            </div><div class=\"tab-pane\" id=\"tab1989354323-1\">\n            <div>\n      <script data-this=\"{&quot;dataId&quot;:&quot;anonf28f53b7e927852ade9a8d430951176f&quot;,&quot;dataInit&quot;:[{&quot;string value&quot;:&quot;En termes g�n�raux, la science des donn�es est l'extraction de connaissance d'ensembles de donn�es1,2. Elle emploie des techniques et des th�ories tir�es de plusieurs autres &quot;},{&quot;string value&quot;:&quot;domaines plus larges des math�matiques, la statistique principalement, la th�orie de l'information et la technologie de l'information, notamment le traitement de signal, des&quot;}],&quot;genId&quot;:&quot;1337704783&quot;}\" type=\"text/x-scoped-javascript\">/*<![CDATA[*/req(['../javascripts/notebook/playground','../javascripts/notebook/magic/pivotChart'], \n      function(playground, _magicpivotChart) {\n        // data ==> data-this (in observable.js's scopedEval) ==> this in JS => { dataId, dataInit, ... }\n        // this ==> scope (in observable.js's scopedEval) ==> this.parentElement ==> div.container below (toHtml)\n\n        playground.call(data,\n                        this\n                        ,\n                        {\n    \"f\": _magicpivotChart,\n    \"o\": {\"width\":600,\"height\":400,\"derivedAttributes\":{},\"extraOptions\":{}}\n  }\n  \n                        \n                        \n                      );\n      }\n    );/*]]>*/</script>\n    <div>\n      <span class=\"chart-total-item-count\"><p data-bind=\"text: value\"><script data-this=\"{&quot;valueId&quot;:&quot;anon2b31db9e86e5531268b9f32ed32b80a6&quot;,&quot;initialValue&quot;:&quot;2&quot;}\" type=\"text/x-scoped-javascript\">/*<![CDATA[*/\nreq(\n['observable', 'knockout'],\nfunction (O, ko) {\n  ko.applyBindings({\n      value: O.makeObservable(valueId, initialValue)\n    },\n    this\n  );\n});\n        /*]]>*/</script></p> entries total</span>\n      <span class=\"chart-sampling-warning\"><p data-bind=\"text: value\"><script data-this=\"{&quot;valueId&quot;:&quot;anon8df24618fad5d70ab9076ae31891ea39&quot;,&quot;initialValue&quot;:&quot;&quot;}\" type=\"text/x-scoped-javascript\">/*<![CDATA[*/\nreq(\n['observable', 'knockout'],\nfunction (O, ko) {\n  ko.applyBindings({\n      value: O.makeObservable(valueId, initialValue)\n    },\n    this\n  );\n});\n        /*]]>*/</script></p></span>\n      <div>\n      </div>\n    </div></div>\n            </div></div>\n      </div>\n    </div></div>"
          },
          "output_type" : "execute_result",
          "execution_count" : 11,
          "time" : "Took: 0.934s, at 2018-12-11 10:48"
        }
      ]
    },
    {
      "metadata" : {
        "id" : "610AE498A6154550883010B0DEDD6ECF"
      },
      "cell_type" : "markdown",
      "source" : "### Next, we need to remove all the special characters in data by using regex. \n\nTo understand more about regex, you can find in this link (http://docs.oracle.com/javase/7/docs/api/java/util/regex/Pattern.html). In this transformation, we use map() to apply the function replaceAll for each element inside RDD."
    },
    {
      "metadata" : {
        "trusted" : true,
        "input_collapsed" : false,
        "collapsed" : false,
        "id" : "236BAAC8BA3843AA8AFBAD08AA7CF5C2"
      },
      "cell_type" : "code",
      "source" : [
        "val data_without_special_characters = data.map(l => l.replaceAll(\"\"\"[\\p{Punct}]\"\"\", \"\"))"
      ],
      "outputs" : [
        {
          "name" : "stdout",
          "output_type" : "stream",
          "text" : "data_without_special_characters: org.apache.spark.rdd.RDD[String] = MapPartitionsRDD[7] at map at <console>:69\n"
        },
        {
          "metadata" : { },
          "data" : {
            "text/html" : ""
          },
          "output_type" : "execute_result",
          "execution_count" : 13,
          "time" : "Took: 0.604s, at 2018-12-11 10:48"
        }
      ]
    },
    {
      "metadata" : {
        "trusted" : true,
        "input_collapsed" : false,
        "collapsed" : false,
        "presentation" : {
          "tabs_state" : "{\n  \"tab_id\": \"#tab749045179-0\"\n}",
          "pivot_chart_state" : "{\n  \"hiddenAttributes\": [],\n  \"menuLimit\": 200,\n  \"cols\": [],\n  \"rows\": [],\n  \"vals\": [],\n  \"exclusions\": {},\n  \"inclusions\": {},\n  \"unusedAttrsVertical\": 85,\n  \"autoSortUnusedAttrs\": false,\n  \"inclusionsInfo\": {},\n  \"aggregatorName\": \"Count\",\n  \"rendererName\": \"Table\"\n}"
        },
        "id" : "C45AD8A1E7D04F879E562E478BF6B3F7"
      },
      "cell_type" : "code",
      "source" : [
        "data_without_special_characters.take(10)"
      ],
      "outputs" : [
        {
          "name" : "stdout",
          "output_type" : "stream",
          "text" : "res29: Array[String] = Array(\"En termes g?n?raux la science des donn?es est lextraction de connaissance densembles de donn?es12 Elle emploie des techniques et des th?ories tir?es de plusieurs autres \", domaines plus larges des math?matiques la statistique principalement la th?orie de linformation et la technologie de linformation notamment le traitement de signal des, \" mod?les probabilistes lapprentissage automatique lapprentissage statistique la programmation informatique ling?nierie de donn?es la reconnaissance de formes et lapprentissage\", \" la visualisation lanalytique proph?tique la mod?lisation dincertitude le stockage de donn?es la compression de donn?es et le calcul ? haute performance Les m?thodes qui sadaptent\", \" aux donn?es de masse sont particuli?rement int?ressantes dans ..."
        },
        {
          "metadata" : { },
          "data" : {
            "text/html" : "<div>\n      <script data-this=\"{&quot;dataId&quot;:&quot;anon4b91d3bfd31ca59de40490c4290aa412&quot;,&quot;dataInit&quot;:[],&quot;genId&quot;:&quot;749045179&quot;}\" type=\"text/x-scoped-javascript\">/*<![CDATA[*/req(['../javascripts/notebook/playground','../javascripts/notebook/magic/tabs'], \n      function(playground, _magictabs) {\n        // data ==> data-this (in observable.js's scopedEval) ==> this in JS => { dataId, dataInit, ... }\n        // this ==> scope (in observable.js's scopedEval) ==> this.parentElement ==> div.container below (toHtml)\n\n        playground.call(data,\n                        this\n                        ,\n                        {\n    \"f\": _magictabs,\n    \"o\": {}\n  }\n  \n                        \n                        \n                      );\n      }\n    );/*]]>*/</script>\n    <div>\n      <div>\n        <ul class=\"nav nav-tabs\" id=\"ul749045179\"><li>\n              <a href=\"#tab749045179-0\"><i class=\"fa fa-table\"/></a>\n            </li><li>\n              <a href=\"#tab749045179-1\"><i class=\"fa fa-cubes\"/></a>\n            </li></ul>\n\n        <div class=\"tab-content\" id=\"tab749045179\"><div class=\"tab-pane\" id=\"tab749045179-0\">\n            <div>\n      <script data-this=\"{&quot;dataId&quot;:&quot;anon446ac1a2d35af05f32126311c67fa732&quot;,&quot;dataInit&quot;:[{&quot;string value&quot;:&quot;En termes g�n�raux la science des donn�es est lextraction de connaissance densembles de donn�es12 Elle emploie des techniques et des th�ories tir�es de plusieurs autres &quot;},{&quot;string value&quot;:&quot;domaines plus larges des math�matiques la statistique principalement la th�orie de linformation et la technologie de linformation notamment le traitement de signal des&quot;},{&quot;string value&quot;:&quot; mod�les probabilistes lapprentissage automatique lapprentissage statistique la programmation informatique ling�nierie de donn�es la reconnaissance de formes et lapprentissage&quot;},{&quot;string value&quot;:&quot; la visualisation lanalytique proph�tique la mod�lisation dincertitude le stockage de donn�es la compression de donn�es et le calcul � haute performance Les m�thodes qui sadaptent&quot;},{&quot;string value&quot;:&quot; aux donn�es de masse sont particuli�rement int�ressantes dans la science des donn�es bien que la discipline ne soit g�n�ralement pas consid�r�e comme limit�e � ces donn�es&quot;},{&quot;string value&quot;:&quot;&quot;},{&quot;string value&quot;:&quot;&quot;},{&quot;string value&quot;:&quot;Les diff�rentes disciplines de la science des donn�es&quot;},{&quot;string value&quot;:&quot;La science des donn�es en anglais data science3 est une discipline qui sappuie sur des outils math�matiques de statistiques d&quot;},{&quot;string value&quot;:&quot;informatique cette science est principalement une � science des donn�es num�riques �4 et de visualisation des donn�es &quot;}],&quot;genId&quot;:&quot;986202133&quot;}\" type=\"text/x-scoped-javascript\">/*<![CDATA[*/req(['../javascripts/notebook/playground','../javascripts/notebook/magic/tableChart'], \n      function(playground, _magictableChart) {\n        // data ==> data-this (in observable.js's scopedEval) ==> this in JS => { dataId, dataInit, ... }\n        // this ==> scope (in observable.js's scopedEval) ==> this.parentElement ==> div.container below (toHtml)\n\n        playground.call(data,\n                        this\n                        ,\n                        {\n    \"f\": _magictableChart,\n    \"o\": {\"headers\":[\"string value\"],\"width\":600,\"height\":400}\n  }\n  \n                        \n                        \n                      );\n      }\n    );/*]]>*/</script>\n    <div>\n      <span class=\"chart-total-item-count\"><p data-bind=\"text: value\"><script data-this=\"{&quot;valueId&quot;:&quot;anon3b4cdbfc48eede24fe166a5b1763ee25&quot;,&quot;initialValue&quot;:&quot;10&quot;}\" type=\"text/x-scoped-javascript\">/*<![CDATA[*/\nreq(\n['observable', 'knockout'],\nfunction (O, ko) {\n  ko.applyBindings({\n      value: O.makeObservable(valueId, initialValue)\n    },\n    this\n  );\n});\n        /*]]>*/</script></p> entries total</span>\n      <span class=\"chart-sampling-warning\"><p data-bind=\"text: value\"><script data-this=\"{&quot;valueId&quot;:&quot;anon7d6602b515548077b513a01c64b57398&quot;,&quot;initialValue&quot;:&quot;&quot;}\" type=\"text/x-scoped-javascript\">/*<![CDATA[*/\nreq(\n['observable', 'knockout'],\nfunction (O, ko) {\n  ko.applyBindings({\n      value: O.makeObservable(valueId, initialValue)\n    },\n    this\n  );\n});\n        /*]]>*/</script></p></span>\n      <div>\n      </div>\n    </div></div>\n            </div><div class=\"tab-pane\" id=\"tab749045179-1\">\n            <div>\n      <script data-this=\"{&quot;dataId&quot;:&quot;anon7b5f2462f7de58ef268e2430deff3d8f&quot;,&quot;dataInit&quot;:[{&quot;string value&quot;:&quot;En termes g�n�raux la science des donn�es est lextraction de connaissance densembles de donn�es12 Elle emploie des techniques et des th�ories tir�es de plusieurs autres &quot;},{&quot;string value&quot;:&quot;domaines plus larges des math�matiques la statistique principalement la th�orie de linformation et la technologie de linformation notamment le traitement de signal des&quot;},{&quot;string value&quot;:&quot; mod�les probabilistes lapprentissage automatique lapprentissage statistique la programmation informatique ling�nierie de donn�es la reconnaissance de formes et lapprentissage&quot;},{&quot;string value&quot;:&quot; la visualisation lanalytique proph�tique la mod�lisation dincertitude le stockage de donn�es la compression de donn�es et le calcul � haute performance Les m�thodes qui sadaptent&quot;},{&quot;string value&quot;:&quot; aux donn�es de masse sont particuli�rement int�ressantes dans la science des donn�es bien que la discipline ne soit g�n�ralement pas consid�r�e comme limit�e � ces donn�es&quot;},{&quot;string value&quot;:&quot;&quot;},{&quot;string value&quot;:&quot;&quot;},{&quot;string value&quot;:&quot;Les diff�rentes disciplines de la science des donn�es&quot;},{&quot;string value&quot;:&quot;La science des donn�es en anglais data science3 est une discipline qui sappuie sur des outils math�matiques de statistiques d&quot;},{&quot;string value&quot;:&quot;informatique cette science est principalement une � science des donn�es num�riques �4 et de visualisation des donn�es &quot;}],&quot;genId&quot;:&quot;570070459&quot;}\" type=\"text/x-scoped-javascript\">/*<![CDATA[*/req(['../javascripts/notebook/playground','../javascripts/notebook/magic/pivotChart'], \n      function(playground, _magicpivotChart) {\n        // data ==> data-this (in observable.js's scopedEval) ==> this in JS => { dataId, dataInit, ... }\n        // this ==> scope (in observable.js's scopedEval) ==> this.parentElement ==> div.container below (toHtml)\n\n        playground.call(data,\n                        this\n                        ,\n                        {\n    \"f\": _magicpivotChart,\n    \"o\": {\"width\":600,\"height\":400,\"derivedAttributes\":{},\"extraOptions\":{}}\n  }\n  \n                        \n                        \n                      );\n      }\n    );/*]]>*/</script>\n    <div>\n      <span class=\"chart-total-item-count\"><p data-bind=\"text: value\"><script data-this=\"{&quot;valueId&quot;:&quot;anon5c2a084a17ec3088ffa60f35d83d53fa&quot;,&quot;initialValue&quot;:&quot;10&quot;}\" type=\"text/x-scoped-javascript\">/*<![CDATA[*/\nreq(\n['observable', 'knockout'],\nfunction (O, ko) {\n  ko.applyBindings({\n      value: O.makeObservable(valueId, initialValue)\n    },\n    this\n  );\n});\n        /*]]>*/</script></p> entries total</span>\n      <span class=\"chart-sampling-warning\"><p data-bind=\"text: value\"><script data-this=\"{&quot;valueId&quot;:&quot;anonb0d1018ccfee5376b98e9bb4bc62f80b&quot;,&quot;initialValue&quot;:&quot;&quot;}\" type=\"text/x-scoped-javascript\">/*<![CDATA[*/\nreq(\n['observable', 'knockout'],\nfunction (O, ko) {\n  ko.applyBindings({\n      value: O.makeObservable(valueId, initialValue)\n    },\n    this\n  );\n});\n        /*]]>*/</script></p></span>\n      <div>\n      </div>\n    </div></div>\n            </div></div>\n      </div>\n    </div></div>"
          },
          "output_type" : "execute_result",
          "execution_count" : 14,
          "time" : "Took: 0.832s, at 2018-12-11 10:49"
        }
      ]
    },
    {
      "metadata" : {
        "id" : "3FF8C000B3E040C08FF3B713A5CC4B97"
      },
      "cell_type" : "markdown",
      "source" : "### Then, we split data into words and convert all into lower case. \n\nHere we use flatMap (simply equal to map() + \"flatten\" ). Here we want to transform an RDD of Array of String into an RDD of String and apply the function inside flatMap for each String. "
    },
    {
      "metadata" : {
        "trusted" : true,
        "input_collapsed" : false,
        "collapsed" : false,
        "id" : "2F99DB525A7A4BC789520B828E7FFD6F"
      },
      "cell_type" : "code",
      "source" : [
        "val words = data_without_special_characters.flatMap(l => l.split(\" \").map(l => l.toLowerCase))"
      ],
      "outputs" : [
        {
          "name" : "stdout",
          "output_type" : "stream",
          "text" : "words: org.apache.spark.rdd.RDD[String] = MapPartitionsRDD[9] at flatMap at <console>:71\n"
        },
        {
          "metadata" : { },
          "data" : {
            "text/html" : ""
          },
          "output_type" : "execute_result",
          "execution_count" : 16,
          "time" : "Took: 0.665s, at 2018-12-11 10:49"
        }
      ]
    },
    {
      "metadata" : {
        "trusted" : true,
        "input_collapsed" : false,
        "collapsed" : false,
        "presentation" : {
          "tabs_state" : "{\n  \"tab_id\": \"#tab2045947137-0\"\n}",
          "pivot_chart_state" : "{\n  \"hiddenAttributes\": [],\n  \"menuLimit\": 200,\n  \"cols\": [],\n  \"rows\": [],\n  \"vals\": [],\n  \"exclusions\": {},\n  \"inclusions\": {},\n  \"unusedAttrsVertical\": 85,\n  \"autoSortUnusedAttrs\": false,\n  \"inclusionsInfo\": {},\n  \"aggregatorName\": \"Count\",\n  \"rendererName\": \"Table\"\n}"
        },
        "id" : "DCC367D8DEB344738DC8BFC2B676252A"
      },
      "cell_type" : "code",
      "source" : [
        "words.take(10)"
      ],
      "outputs" : [
        {
          "name" : "stdout",
          "output_type" : "stream",
          "text" : "<console>:69: error: not found: value words\n       words.take(10)\n       ^\n"
        }
      ]
    },
    {
      "metadata" : {
        "id" : "302B27262E84467EBDB181BA26A03FD0"
      },
      "cell_type" : "markdown",
      "source" : "### We can now count by key to compute the number of occurences of each word\n\nTo do this, we have 2 ways to do :\n\n#### 1/ First option :\n\nFor each element in RDD, we add 1 column with value 1, then by key (word), we compute the sum of value by using reduceByKey. When we do \"_ + _\" means everytime we have same key (word), we do the sum of its values."
    },
    {
      "metadata" : {
        "trusted" : true,
        "input_collapsed" : false,
        "collapsed" : false,
        "id" : "CF099AB943CE4C7795272C07CEBA5442"
      },
      "cell_type" : "code",
      "source" : [
        "val wordCount = words.map(l => (l, 1)).reduceByKey(_ + _)"
      ],
      "outputs" : [
        {
          "name" : "stdout",
          "output_type" : "stream",
          "text" : "wordCount: org.apache.spark.rdd.RDD[(String, Int)] = ShuffledRDD[11] at reduceByKey at <console>:73\n"
        },
        {
          "metadata" : { },
          "data" : {
            "text/html" : ""
          },
          "output_type" : "execute_result",
          "execution_count" : 17,
          "time" : "Took: 0.977s, at 2018-12-11 10:49"
        }
      ]
    },
    {
      "metadata" : {
        "id" : "D7EB98FEFBC34C7E809486F9859A2026"
      },
      "cell_type" : "markdown",
      "source" : "#### 2/ Second option :\n\nWe do the same, for each element in RDD, we map with value 1. Then we groupByKey and compute the sum of list of the value"
    },
    {
      "metadata" : {
        "trusted" : true,
        "input_collapsed" : false,
        "collapsed" : false,
        "id" : "2E12AAAC9B784155B4A0950F561B39DE"
      },
      "cell_type" : "code",
      "source" : [
        "val wordCount = words.map(l => (l, 1)).groupByKey().map(l => (l._1, l._2.toList.sum))"
      ],
      "outputs" : [
        {
          "name" : "stdout",
          "output_type" : "stream",
          "text" : "<console>:67: error: not found: value words\n       val wordCount = words.map(l => (l, 1)).groupByKey().map(l => (l._1, l._2.toList.sum))\n                       ^\n"
        }
      ]
    },
    {
      "metadata" : {
        "id" : "C0B137BCDC5B47329C6DC4CF8EF999F6"
      },
      "cell_type" : "markdown",
      "source" : "### For example if we want to find the count of \"is\", we can also do filter"
    },
    {
      "metadata" : {
        "trusted" : true,
        "input_collapsed" : false,
        "collapsed" : false,
        "presentation" : {
          "tabs_state" : "{\n  \"tab_id\": \"#tab1366741517-0\"\n}",
          "pivot_chart_state" : "{\n  \"hiddenAttributes\": [],\n  \"menuLimit\": 200,\n  \"cols\": [],\n  \"rows\": [],\n  \"vals\": [],\n  \"exclusions\": {},\n  \"inclusions\": {},\n  \"unusedAttrsVertical\": 85,\n  \"autoSortUnusedAttrs\": false,\n  \"inclusionsInfo\": {},\n  \"aggregatorName\": \"Count\",\n  \"rendererName\": \"Table\"\n}"
        },
        "id" : "B65D3F596049480D869EE3179A394C70"
      },
      "cell_type" : "code",
      "source" : [
        "wordCount.filter(l => l._1 == \"is\").take(10)"
      ],
      "outputs" : [
        {
          "name" : "stdout",
          "output_type" : "stream",
          "text" : "res34: Array[(String, Int)] = Array()\n"
        },
        {
          "metadata" : { },
          "data" : {
            "text/html" : "empty array"
          },
          "output_type" : "execute_result",
          "execution_count" : 18,
          "time" : "Took: 1.315s, at 2018-12-11 10:49"
        }
      ]
    },
    {
      "metadata" : {
        "id" : "3B8E0DF4D87F4A07AD9439F2DA1421C3"
      },
      "cell_type" : "markdown",
      "source" : "### So without any filter, the output will be "
    },
    {
      "metadata" : {
        "trusted" : true,
        "input_collapsed" : false,
        "collapsed" : false,
        "presentation" : {
          "tabs_state" : "{\n  \"tab_id\": \"#tab633241867-0\"\n}",
          "pivot_chart_state" : "{\n  \"hiddenAttributes\": [],\n  \"menuLimit\": 200,\n  \"cols\": [],\n  \"rows\": [],\n  \"vals\": [],\n  \"exclusions\": {},\n  \"inclusions\": {},\n  \"unusedAttrsVertical\": 85,\n  \"autoSortUnusedAttrs\": false,\n  \"inclusionsInfo\": {},\n  \"aggregatorName\": \"Count\",\n  \"rendererName\": \"Table\"\n}"
        },
        "id" : "AA346D5DB42C487BA3DA2705D902A04A"
      },
      "cell_type" : "code",
      "source" : [
        "wordCount.take(10)"
      ],
      "outputs" : [
        {
          "name" : "stdout",
          "output_type" : "stream",
          "text" : "<console>:69: error: not found: value wordCount\n       wordCount.take(10)\n       ^\n"
        }
      ]
    },
    {
      "metadata" : {
        "trusted" : true,
        "input_collapsed" : false,
        "collapsed" : true,
        "id" : "95ED7161E4CC48FB89BD6F60B0528C7A"
      },
      "cell_type" : "markdown",
      "source" : "### From RDD to DataFrame and Dataset\n\nWe can convert RDD to Dataset or DataFrame. In fact, in Spark, these 3 APIs (RDD, DataFrame ans Dataset) are the three types officially used. They can convert to each other. \n\nTo understand thoroughly when to use them, you can read at https://databricks.com/blog/2016/07/14/a-tale-of-three-apache-spark-apis-rdds-dataframes-and-datasets.html"
    },
    {
      "metadata" : {
        "id" : "0AB3728226A9467DB5FFE11D54EECEC9"
      },
      "cell_type" : "markdown",
      "source" : "#### From RDD to DataFrame"
    },
    {
      "metadata" : {
        "trusted" : true,
        "input_collapsed" : false,
        "collapsed" : false,
        "id" : "D6C3C0C67E1942418BDDB4C6E2935875"
      },
      "cell_type" : "code",
      "source" : [
        "wordCount"
      ],
      "outputs" : [
        {
          "name" : "stdout",
          "output_type" : "stream",
          "text" : "res28: org.apache.spark.rdd.RDD[(String, Int)] = MapPartitionsRDD[18] at map at <console>:73\n"
        },
        {
          "metadata" : { },
          "data" : {
            "text/html" : "MapPartitionsRDD[18] at map at &lt;console&gt;:73"
          },
          "output_type" : "execute_result",
          "execution_count" : 19,
          "time" : "Took: 0.757s, at 2018-11-19 10:16"
        }
      ]
    },
    {
      "metadata" : {
        "trusted" : true,
        "input_collapsed" : false,
        "collapsed" : false,
        "id" : "D565BD70228545D38AAA6730541DB835"
      },
      "cell_type" : "code",
      "source" : [
        "val df = wordCount.toDF(\"word\", \"count\")"
      ],
      "outputs" : [
        {
          "name" : "stdout",
          "output_type" : "stream",
          "text" : "df: org.apache.spark.sql.DataFrame = [word: string, count: int]\n"
        },
        {
          "metadata" : { },
          "data" : {
            "text/html" : ""
          },
          "output_type" : "execute_result",
          "execution_count" : 21,
          "time" : "Took: 2.181s, at 2018-11-19 10:17"
        }
      ]
    },
    {
      "metadata" : {
        "trusted" : true,
        "input_collapsed" : false,
        "collapsed" : false,
        "id" : "49954BCA47BD4411B43479803EAEB5A4"
      },
      "cell_type" : "code",
      "source" : [
        "//val wc = df.select(\"count\").sum\n",
        "val count = df.groupBy().sum().show()"
      ],
      "outputs" : [
        {
          "name" : "stdout",
          "output_type" : "stream",
          "text" : "+----------+\n|sum(count)|\n+----------+\n|       198|\n+----------+\n\ncount: Unit = ()\n"
        },
        {
          "metadata" : { },
          "data" : {
            "text/html" : ""
          },
          "output_type" : "execute_result",
          "execution_count" : 32,
          "time" : "Took: 0.799s, at 2018-11-19 10:41"
        }
      ]
    },
    {
      "metadata" : {
        "trusted" : true,
        "input_collapsed" : false,
        "collapsed" : true,
        "id" : "43D1EDB2B34443F498632819AAC0BABA"
      },
      "cell_type" : "code",
      "source" : [
        "al count = df.sum("
      ],
      "outputs" : [ ]
    },
    {
      "metadata" : {
        "trusted" : true,
        "input_collapsed" : false,
        "collapsed" : false,
        "id" : "DDF142AB89714CAA8083D7763D14C05A"
      },
      "cell_type" : "code",
      "source" : [
        "df.show()"
      ],
      "outputs" : [
        {
          "name" : "stdout",
          "output_type" : "stream",
          "text" : "+--------------------+-----+\n|                word|count|\n+--------------------+-----+\n|             reading|    1|\n|                this|    1|\n|               paper|    1|\n|  doublerddfunctions|    1|\n|          collection|    1|\n|          internally|    1|\n|                 its|    1|\n|                  is|    3|\n|       sequencefiles|    1|\n|             persist|    1|\n|                only|    2|\n|                data|    1|\n|         abstraction|    1|\n|           internals|    1|\n|               basic|    2|\n|                 map|    1|\n|sequencefilerddfu...|    1|\n|               class|    1|\n|             methods|    1|\n|          scheduling|    1|\n+--------------------+-----+\nonly showing top 20 rows\n\n"
        },
        {
          "metadata" : { },
          "data" : {
            "text/html" : ""
          },
          "output_type" : "execute_result",
          "execution_count" : 22,
          "time" : "Took: 1.658s, at 2018-11-19 10:17"
        }
      ]
    },
    {
      "metadata" : {
        "id" : "7E32A51004054ABB8873F4DE873E86E3"
      },
      "cell_type" : "markdown",
      "source" : "#### From RDD to Dataset"
    },
    {
      "metadata" : {
        "trusted" : true,
        "input_collapsed" : false,
        "collapsed" : false,
        "id" : "04161E75C8DE414F80DB56E6FC3BAA04"
      },
      "cell_type" : "code",
      "source" : [
        "import org.apache.spark.sql.types.{DoubleType, StringType, StructField, StructType}\n",
        "import org.apache.spark.sql.{Row, SparkSession}"
      ],
      "outputs" : [
        {
          "name" : "stdout",
          "output_type" : "stream",
          "text" : "import org.apache.spark.sql.types.{DoubleType, StringType, StructField, StructType}\nimport org.apache.spark.sql.{Row, SparkSession}\n"
        },
        {
          "metadata" : { },
          "data" : {
            "text/html" : ""
          },
          "output_type" : "execute_result",
          "execution_count" : 23,
          "time" : "Took: 0.661s, at 2018-11-19 10:17"
        }
      ]
    },
    {
      "metadata" : {
        "trusted" : true,
        "input_collapsed" : false,
        "collapsed" : false,
        "id" : "9E44A8AFEB4C4CDD99479C2882A78F8C"
      },
      "cell_type" : "code",
      "source" : [
        "val sparkSession = SparkSession.builder\n",
        "      .master(\"local\")\n",
        "      .appName(\"example\")\n",
        "      .getOrCreate()\n",
        "\n",
        "//val sparkContext = sparkSession.sparkContext\n",
        "import sparkSession.implicits._"
      ],
      "outputs" : [
        {
          "name" : "stdout",
          "output_type" : "stream",
          "text" : "sparkSession: org.apache.spark.sql.SparkSession = org.apache.spark.sql.SparkSession@62682cdb\nimport sparkSession.implicits._\n"
        },
        {
          "metadata" : { },
          "data" : {
            "text/html" : ""
          },
          "output_type" : "execute_result",
          "execution_count" : 24,
          "time" : "Took: 1.280s, at 2018-11-19 10:17"
        }
      ]
    },
    {
      "metadata" : {
        "trusted" : true,
        "input_collapsed" : false,
        "collapsed" : false,
        "id" : "3263428CFDB047E984D0E9F30CA17B50"
      },
      "cell_type" : "code",
      "source" : [
        "val dataset = wordCount.toDS()"
      ],
      "outputs" : [
        {
          "name" : "stdout",
          "output_type" : "stream",
          "text" : "dataset: org.apache.spark.sql.Dataset[(String, Int)] = [_1: string, _2: int]\n"
        },
        {
          "metadata" : { },
          "data" : {
            "text/html" : ""
          },
          "output_type" : "execute_result",
          "execution_count" : 25,
          "time" : "Took: 0.903s, at 2018-11-19 10:17"
        }
      ]
    },
    {
      "metadata" : {
        "trusted" : true,
        "input_collapsed" : false,
        "collapsed" : false,
        "id" : "7B4438CBC26D43A99D7E15A5B444DF5A"
      },
      "cell_type" : "code",
      "source" : [
        "dataset.show()"
      ],
      "outputs" : [
        {
          "name" : "stdout",
          "output_type" : "stream",
          "text" : "+--------------------+---+\n|                  _1| _2|\n+--------------------+---+\n|             reading|  1|\n|                this|  1|\n|               paper|  1|\n|  doublerddfunctions|  1|\n|          collection|  1|\n|          internally|  1|\n|                 its|  1|\n|                  is|  3|\n|       sequencefiles|  1|\n|             persist|  1|\n|                only|  2|\n|                data|  1|\n|         abstraction|  1|\n|           internals|  1|\n|               basic|  2|\n|                 map|  1|\n|sequencefilerddfu...|  1|\n|               class|  1|\n|             methods|  1|\n|          scheduling|  1|\n+--------------------+---+\nonly showing top 20 rows\n\n"
        },
        {
          "metadata" : { },
          "data" : {
            "text/html" : ""
          },
          "output_type" : "execute_result",
          "execution_count" : 26,
          "time" : "Took: 0.993s, at 2018-11-19 10:17"
        }
      ]
    },
    {
      "metadata" : {
        "trusted" : true,
        "input_collapsed" : false,
        "collapsed" : false,
        "id" : "C56176E7A0994D17843ED011185688CA"
      },
      "cell_type" : "code",
      "source" : [
        "dataset.map(a => a._2).reduce((i,j) => i+j)"
      ],
      "outputs" : [
        {
          "name" : "stdout",
          "output_type" : "stream",
          "text" : "res46: Int = 198\n"
        },
        {
          "metadata" : { },
          "data" : {
            "text/html" : "198"
          },
          "output_type" : "execute_result",
          "execution_count" : 33,
          "time" : "Took: 1.092s, at 2018-11-19 10:45"
        }
      ]
    },
    {
      "metadata" : {
        "trusted" : true,
        "input_collapsed" : false,
        "collapsed" : true,
        "id" : "25321648D4D14638BDEC2A269907CD38"
      },
      "cell_type" : "code",
      "source" : [
        ""
      ],
      "outputs" : [ ]
    }
  ],
  "nbformat" : 4
}