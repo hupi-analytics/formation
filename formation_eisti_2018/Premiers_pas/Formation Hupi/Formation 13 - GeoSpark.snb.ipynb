{
  "metadata" : {
    "id" : "6699c8c8-b218-4012-979b-3d1a039e9cf7",
    "name" : "Formation 13 - GeoSpark",
    "user_save_timestamp" : "1970-01-01T00:00:00.000Z",
    "auto_save_timestamp" : "1970-01-01T00:00:00.000Z",
    "language_info" : {
      "name" : "scala",
      "file_extension" : "scala",
      "codemirror_mode" : "text/x-scala"
    },
    "trusted" : true,
    "sparkNotebook" : null,
    "customLocalRepo" : null,
    "customRepos" : null,
    "customDeps" : [
      "org.datasyslab % geospark % 0.7.0",
      "org.datasyslab % babylon % 0.2.0"
    ],
    "customImports" : null,
    "customArgs" : null,
    "customSparkConf" : null,
    "customVars" : null
  },
  "cells" : [
    {
      "metadata" : {
        "id" : "BD431DDA55E54BDE84952EC814FE0452"
      },
      "cell_type" : "markdown",
      "source" : "### GeoSpark\nGeoSpark is a cluster computing system for processing large-scale spatial data.\nGeoSpark extends Apache Spark with a set of out-of-the-box Spatial Resilient Distributed\nDatasets (SRDDs) that efficiently load, process, and analyze large-scale spatial data across \nmachines. GeoSpark provides APIs for Apache Spark programmer to easily develop their spatial \nanalysis programs with Spatial Resilient Distributed Datasets (SRDDs) which have in house support \nfor geometrical and Spatial Queries (Range, K Nearest Neighbors, Join).\n"
    },
    {
      "metadata" : {
        "trusted" : true,
        "input_collapsed" : false,
        "collapsed" : false,
        "id" : "7BE8086B967444A38BB8CFFAD35BCB0B"
      },
      "cell_type" : "code",
      "source" : [
        "import org.apache.spark.SparkContext\n",
        "import org.apache.spark.SparkConf\n",
        "import org.apache.spark.storage.StorageLevel;"
      ],
      "outputs" : [
        {
          "name" : "stdout",
          "output_type" : "stream",
          "text" : "import org.apache.spark.SparkContext\nimport org.apache.spark.SparkConf\nimport org.apache.spark.storage.StorageLevel\n"
        },
        {
          "metadata" : { },
          "data" : {
            "text/html" : ""
          },
          "output_type" : "execute_result",
          "execution_count" : 1,
          "time" : "Took: 1.044s, at 2017-09-01 07:38"
        }
      ]
    },
    {
      "metadata" : {
        "trusted" : true,
        "input_collapsed" : false,
        "collapsed" : false,
        "id" : "0DBE3C26A9A1465C81E80857B2EC2A8C"
      },
      "cell_type" : "code",
      "source" : [
        "/*---------------------------- Start an example Spatial Range Query without Index ----------------------------*/\n",
        "import org.datasyslab.geospark.spatialOperator.RangeQuery; \n",
        "import org.datasyslab.geospark.spatialRDD.PointRDD;\n",
        "import com.vividsolutions.jts.geom.Envelope;\n",
        "import org.datasyslab.geospark.enums.FileDataSplitter;"
      ],
      "outputs" : [
        {
          "name" : "stdout",
          "output_type" : "stream",
          "text" : "import org.datasyslab.geospark.spatialOperator.RangeQuery\nimport org.datasyslab.geospark.spatialRDD.PointRDD\nimport com.vividsolutions.jts.geom.Envelope\nimport org.datasyslab.geospark.enums.FileDataSplitter\n"
        },
        {
          "metadata" : { },
          "data" : {
            "text/html" : ""
          },
          "output_type" : "execute_result",
          "execution_count" : 2,
          "time" : "Took: 0.901s, at 2017-09-01 07:38"
        }
      ]
    },
    {
      "metadata" : {
        "trusted" : true,
        "input_collapsed" : false,
        "collapsed" : false,
        "id" : "9D5ECB0EC93F496494EB3615FE84F3EB"
      },
      "cell_type" : "code",
      "source" : [
        "val queryEnvelope=new Envelope (-113.79,-109.73,32.99,35.08);\n",
        "/* Range query window format: minX, maxX, minY, maxY*/\n",
        "val objectRDD = new PointRDD(sc, \"hdfs://hupi-factory-02-01-01-01:8020/user/hupi/dataset_torusGeoSpark/arealm.csv\", 0, \n",
        "                             FileDataSplitter.CSV, false, StorageLevel.MEMORY_ONLY);\n",
        "/* \n",
        " * 0 is the starting column of spatial data in the input file. \n",
        " * FileDataSplitter.CSV means the data format is CSV. We CSV, TSV, WKT, GeoJSON and self-defined format mapper.\n",
        " * false means each spatial object doesn't need to carry the original input tuple with it.\n",
        " */\n",
        "val resultSize = RangeQuery.SpatialRangeQuery(objectRDD, queryEnvelope, false, false).count();"
      ],
      "outputs" : [
        {
          "name" : "stdout",
          "output_type" : "stream",
          "text" : "queryEnvelope: com.vividsolutions.jts.geom.Envelope = Env[-113.79 : -109.73, 32.99 : 35.08]\nobjectRDD: org.datasyslab.geospark.spatialRDD.PointRDD = org.datasyslab.geospark.spatialRDD.PointRDD@7a15fad\nresultSize: Long = 445\n"
        },
        {
          "metadata" : { },
          "data" : {
            "text/html" : ""
          },
          "output_type" : "execute_result",
          "execution_count" : 3,
          "time" : "Took: 3.587s, at 2017-09-01 07:40"
        }
      ]
    },
    {
      "metadata" : {
        "trusted" : true,
        "input_collapsed" : false,
        "collapsed" : true,
        "id" : "037FF2C50C864B268ABDCE31B548E7F7"
      },
      "cell_type" : "code",
      "source" : [
        "/* \n",
        " * The O means consider a point only if it is fully covered by the query window when doing query.\n",
        " * The first false means don't consider objects intersect but not fully covered by the query window.\n",
        " * The second false means don't use spatial index.\n",
        " */"
      ],
      "outputs" : [ ]
    },
    {
      "metadata" : {
        "trusted" : true,
        "input_collapsed" : false,
        "collapsed" : false,
        "id" : "F46BB33194ED4395A6BEC067CA8D5036"
      },
      "cell_type" : "code",
      "source" : [
        "/*---------------------------- Start an example Spatial Range Query with Index ----------------------------*/\n",
        "import org.datasyslab.geospark.spatialOperator.RangeQuery; \n",
        "import org.datasyslab.geospark.spatialRDD.PointRDD;\n",
        "import com.vividsolutions.jts.geom.Envelope;\n",
        "import org.datasyslab.geospark.enums.FileDataSplitter;\n",
        "import org.datasyslab.geospark.enums.IndexType;\n",
        "\n",
        "val queryEnvelope=new Envelope (-113.79,-109.73,32.99,35.08);\n",
        "/* Range query window format: minX, maxX, minY, maxY*/\n",
        "val objectRDD = new PointRDD(sc, \"hdfs://hupi-factory-02-01-01-01:8020/user/hupi/dataset_torusGeoSpark/arealm.csv\", 0, \n",
        "                             FileDataSplitter.CSV, false, StorageLevel.MEMORY_ONLY);\n",
        "/* \n",
        " * 0 is the starting column of spatial data in the input file. \n",
        " * FileDataSplitter.CSV enum means the data format is CSV. We CSV, TSV, WKT, GeoJSON and self-defined format mapper.\n",
        " * false means each spatial object doesn't need to carry the original input tuple with it.\n",
        " */\n",
        "objectRDD.buildIndex(IndexType.RTREE,false);\n",
        "/* \n",
        " * IndexType.RTREE enum means the index type is R-tree. We support R-Tree index and Quad-Tree index.\n",
        " * false means just build index on original spatial RDD instead of spatial partitioned RDD. ONLY set true when doing Spatial Join Query.\n",
        " */\n",
        "val resultSize = RangeQuery.SpatialRangeQuery(objectRDD, queryEnvelope, false, true).count();\n",
        "/* \n",
        " * The O means consider a point only if it is fully covered by the query window when doing query.\n",
        " * The first false means don't consider objects intersect but not fully covered by the query window.\n",
        " * The true means use spatial index which has been built before.\n",
        " */\n",
        "/*---------------------------- End an example Spatial Range Query with Index ----------------------------*/"
      ],
      "outputs" : [
        {
          "name" : "stdout",
          "output_type" : "stream",
          "text" : "import org.datasyslab.geospark.spatialOperator.RangeQuery\nimport org.datasyslab.geospark.spatialRDD.PointRDD\nimport com.vividsolutions.jts.geom.Envelope\nimport org.datasyslab.geospark.enums.FileDataSplitter\nimport org.datasyslab.geospark.enums.IndexType\nqueryEnvelope: com.vividsolutions.jts.geom.Envelope = Env[-113.79 : -109.73, 32.99 : 35.08]\nobjectRDD: org.datasyslab.geospark.spatialRDD.PointRDD = org.datasyslab.geospark.spatialRDD.PointRDD@1e5f5126\nresultSize: Long = 445\n"
        },
        {
          "metadata" : { },
          "data" : {
            "text/html" : ""
          },
          "output_type" : "execute_result",
          "execution_count" : 4,
          "time" : "Took: 1.632s, at 2017-09-01 07:42"
        }
      ]
    },
    {
      "metadata" : {
        "trusted" : true,
        "input_collapsed" : false,
        "collapsed" : true,
        "id" : "8AABEEE8684948F7850CF1FCED30FE15"
      },
      "cell_type" : "code",
      "source" : [
        ""
      ],
      "outputs" : [ ]
    }
  ],
  "nbformat" : 4
}