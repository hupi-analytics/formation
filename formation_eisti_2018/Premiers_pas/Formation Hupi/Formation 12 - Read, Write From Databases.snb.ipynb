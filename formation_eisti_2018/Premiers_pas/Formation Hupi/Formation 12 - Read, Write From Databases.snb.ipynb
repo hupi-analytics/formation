{
  "metadata" : {
    "id" : "de973d8d-60d3-4702-b9d4-a50f73815125",
    "name" : "Formation 12 - Read, Write From Databases",
    "user_save_timestamp" : "1970-01-01T00:00:00.000Z",
    "auto_save_timestamp" : "1970-01-01T00:00:00.000Z",
    "language_info" : {
      "name" : "scala",
      "file_extension" : "scala",
      "codemirror_mode" : "text/x-scala"
    },
    "trusted" : true,
    "sparkNotebook" : null,
    "customLocalRepo" : null,
    "customRepos" : null,
    "customDeps" : [
      "org.mongodb.spark %% mongo-spark-connector % 2.1.0",
      "org.mongodb % bson % 3.4.1"
    ],
    "customImports" : null,
    "customArgs" : null,
    "customSparkConf" : null,
    "customVars" : null
  },
  "cells" : [
    {
      "metadata" : {
        "trusted" : true,
        "input_collapsed" : false,
        "collapsed" : false,
        "id" : "374F5103718047639D6F9F4E6C769B1C"
      },
      "cell_type" : "code",
      "source" : [
        "/// MONGO CONFIGURATION\n",
        "val MONGO_HOST=\"10.100.2.7\"\n",
        "val MONGO_PORT = \"27017\"\n",
        "val MONGO_DB = \"hupi\"\n",
        "//val MONGO_USERNAME = \"hupi\"\n",
        "//val MONGO_PASSWORD = \"Hupi123!\" \n",
        "// Escaping '!' because it is a special character in the uri"
      ],
      "outputs" : [
        {
          "name" : "stdout",
          "output_type" : "stream",
          "text" : "MONGO_HOST: String = 10.100.2.7\nMONGO_PORT: String = 27017\nMONGO_DB: String = hupi\n"
        },
        {
          "metadata" : { },
          "data" : {
            "text/html" : ""
          },
          "output_type" : "execute_result",
          "execution_count" : 1,
          "time" : "Took: 1.142s, at 2017-09-05 08:05"
        }
      ]
    },
    {
      "metadata" : {
        "id" : "25055825B88F45E5A69DDD07FB2729DE"
      },
      "cell_type" : "markdown",
      "source" : "### Adding Dependencies to Notebook\nTo Add dependencies to spark notebook, you need click on 'Edit' and there you see an option\n 'Edit Notebook Metadata'. Click on it and you will see the conf of the notebook. \n\nNow add this conf:-\n\n  \"customDeps\": [\n    \"org.mongodb.spark %% mongo-spark-connector % 2.0.0\",\n    \"org.mongodb % bson % 3.4.1\"\n  ]"
    },
    {
      "metadata" : {
        "id" : "D9AC2389ADBB4C6B8086709E344CDF5A"
      },
      "cell_type" : "markdown",
      "source" : "We can Save RDDs in mongo, When saving RDD data into MongoDB, the data must be convertible to a \nBSON document\nThe following example creates a 10 document RDD and saves it to the MongoDB collection specified in the WriteConfig Object"
    },
    {
      "metadata" : {
        "trusted" : true,
        "input_collapsed" : false,
        "collapsed" : false,
        "id" : "03C046DB4B5C445281DF03C68C92C661"
      },
      "cell_type" : "code",
      "source" : [
        "import com.mongodb.spark.config._\n",
        "\n",
        "// Creating mongo url to connect with username password\n",
        "//val mongo_uri = s\"mongodb://$MONGO_USERNAME:$MONGO_PASSWORD@$MONGO_HOST:$MONGO_PORT/$MONGO_DB\"\n",
        "// Without username password\n",
        "val mongo_uri = s\"mongodb://$MONGO_HOST:$MONGO_PORT/$MONGO_DB\"\n",
        "\n",
        "// Creating WRITE config for mongo\n",
        "// Choosing mongo collection to store the data to\n",
        "val MONGO_COLLECTION = \"formation_test\"\n",
        "val writeConfig = WriteConfig(Map(\"uri\" -> mongo_uri, \"format\" -> \"com.mongodb.spark.sql\", \n",
        "                                  \"collection\" -> MONGO_COLLECTION, \"writeConcern.w\" -> \"majority\"))\n",
        "\n"
      ],
      "outputs" : [
        {
          "name" : "stdout",
          "output_type" : "stream",
          "text" : "import com.mongodb.spark.config._\nmongo_uri: String = mongodb://10.100.2.7:27017/hupi\nMONGO_COLLECTION: String = formation_test\nwriteConfig: com.mongodb.spark.config.WriteConfig.Self = WriteConfig(hupi,formation_test,Some(mongodb://10.100.2.7:27017/hupi),true,512,15,WriteConcernConfig(None,Some(majority),None,None))\n"
        },
        {
          "metadata" : { },
          "data" : {
            "text/html" : ""
          },
          "output_type" : "execute_result",
          "execution_count" : 2,
          "time" : "Took: 1.215s, at 2017-09-05 08:05"
        }
      ]
    },
    {
      "metadata" : {
        "trusted" : true,
        "input_collapsed" : false,
        "collapsed" : false,
        "id" : "5F0346B9050C451F8E2D2812F961048D"
      },
      "cell_type" : "code",
      "source" : [
        "import org.bson.Document\n",
        "import scala.collection.JavaConverters._\n",
        "import com.mongodb.spark._\n",
        "\n",
        "val sparkDocuments = sc.parallelize((1 to 10).map(i => Document.parse(s\"{spark: $i}\")))\n",
        "\n",
        "MongoSpark.save(sparkDocuments, writeConfig)"
      ],
      "outputs" : [
        {
          "name" : "stdout",
          "output_type" : "stream",
          "text" : "import org.bson.Document\nimport scala.collection.JavaConverters._\nimport com.mongodb.spark._\nsparkDocuments: org.apache.spark.rdd.RDD[org.bson.Document] = ParallelCollectionRDD[5] at parallelize at <console>:91\n"
        },
        {
          "metadata" : { },
          "data" : {
            "text/html" : ""
          },
          "output_type" : "execute_result",
          "execution_count" : 9,
          "time" : "Took: 1.243s, at 2017-09-05 08:10"
        }
      ]
    },
    {
      "metadata" : {
        "id" : "B2932D34C5C44822847C6C6A2E891767"
      },
      "cell_type" : "markdown",
      "source" : "### Reading from Mongo\nFor reading, we create a ReadConfig Object and use Mongospark to read the specified collection we want."
    },
    {
      "metadata" : {
        "trusted" : true,
        "input_collapsed" : false,
        "collapsed" : false,
        "presentation" : {
          "tabs_state" : "{\n  \"tab_id\": \"#tab1053979748-0\"\n}",
          "pivot_chart_state" : "{\n  \"hiddenAttributes\": [],\n  \"menuLimit\": 200,\n  \"cols\": [],\n  \"rows\": [],\n  \"vals\": [],\n  \"exclusions\": {},\n  \"inclusions\": {},\n  \"unusedAttrsVertical\": 85,\n  \"autoSortUnusedAttrs\": false,\n  \"inclusionsInfo\": {},\n  \"aggregatorName\": \"Count\",\n  \"rendererName\": \"Table\"\n}"
        },
        "id" : "D29551E3930A4344AEE85B120D575940"
      },
      "cell_type" : "code",
      "source" : [
        "// Reading from Mongo, We use ReadConfig object to connect and read from mongo\n",
        "\n",
        "val readConfig = ReadConfig(Map(\"uri\" -> mongo_uri, \"format\" -> \"com.mongodb.spark.sql\", \n",
        "                                  \"collection\" -> MONGO_COLLECTION, \n",
        "                                \"readPreference.name\" -> \"secondaryPreferred\"))\n",
        "                            \n",
        "val customRdd = MongoSpark.load(sc, readConfig)\n",
        "\n",
        "customRdd.collect()"
      ],
      "outputs" : [
        {
          "name" : "stdout",
          "output_type" : "stream",
          "text" : "readConfig: com.mongodb.spark.config.ReadConfig.Self = ReadConfig(hupi,formation_test,Some(mongodb://10.100.2.7:27017/hupi),1000,DefaultMongoPartitioner,Map(),15,ReadPreferenceConfig(secondaryPreferred,None),ReadConcernConfig(None),false)\ncustomRdd: com.mongodb.spark.rdd.MongoRDD[org.bson.Document] = MongoRDD[6] at RDD at MongoRDD.scala:52\nres16: Array[org.bson.Document] = Array(Document{{_id=59ae5abc46e0fb70f445e646, spark=7}}, Document{{_id=59ae5abc46e0fb70f445e647, spark=2}}, Document{{_id=59ae5abc46e0fb70f445e648, spark=1}}, Document{{_id=59ae5abc46e0fb70f445e649, spark=3}}, Document{{_id=59ae5abc46e0fb70f445e64a, spark=9}}, Document{{_id=59ae5abc46e0fb70f445e64b, spark=6}}, Document{{_id=59ae5abc46e0fb70f445e64c, spark=8}}, Document{{_id=59ae5abc46e0fb70f445e64d, spark=4}}, Documen..."
        },
        {
          "metadata" : { },
          "data" : {
            "text/html" : "<div>\n      <script data-this=\"{&quot;dataId&quot;:&quot;anonab921da8f7786dbc8ee503b8d0e2c35a&quot;,&quot;dataInit&quot;:[],&quot;genId&quot;:&quot;1053979748&quot;}\" type=\"text/x-scoped-javascript\">/*<![CDATA[*/req(['../javascripts/notebook/playground','../javascripts/notebook/magic/tabs'], \n      function(playground, _magictabs) {\n        // data ==> data-this (in observable.js's scopedEval) ==> this in JS => { dataId, dataInit, ... }\n        // this ==> scope (in observable.js's scopedEval) ==> this.parentElement ==> div.container below (toHtml)\n\n        playground.call(data,\n                        this\n                        ,\n                        {\n    \"f\": _magictabs,\n    \"o\": {}\n  }\n  \n                        \n                        \n                      );\n      }\n    );/*]]>*/</script>\n    <div>\n      <div>\n        <ul class=\"nav nav-tabs\" id=\"ul1053979748\"><li>\n              <a href=\"#tab1053979748-0\"><i class=\"fa fa-table\"/></a>\n            </li><li>\n              <a href=\"#tab1053979748-1\"><i class=\"fa fa-cubes\"/></a>\n            </li></ul>\n\n        <div class=\"tab-content\" id=\"tab1053979748\"><div class=\"tab-pane\" id=\"tab1053979748-0\">\n            <div>\n      <script data-this=\"{&quot;dataId&quot;:&quot;anon1a14b0bbf02be159ecb8e2e2f96bfb06&quot;,&quot;dataInit&quot;:[{&quot;documentAsMap&quot;:&quot;{_id=59ae5abc46e0fb70f445e646, spark=7}&quot;},{&quot;documentAsMap&quot;:&quot;{_id=59ae5abc46e0fb70f445e647, spark=2}&quot;},{&quot;documentAsMap&quot;:&quot;{_id=59ae5abc46e0fb70f445e648, spark=1}&quot;},{&quot;documentAsMap&quot;:&quot;{_id=59ae5abc46e0fb70f445e649, spark=3}&quot;},{&quot;documentAsMap&quot;:&quot;{_id=59ae5abc46e0fb70f445e64a, spark=9}&quot;},{&quot;documentAsMap&quot;:&quot;{_id=59ae5abc46e0fb70f445e64b, spark=6}&quot;},{&quot;documentAsMap&quot;:&quot;{_id=59ae5abc46e0fb70f445e64c, spark=8}&quot;},{&quot;documentAsMap&quot;:&quot;{_id=59ae5abc46e0fb70f445e64d, spark=4}&quot;},{&quot;documentAsMap&quot;:&quot;{_id=59ae5abc46e0fb70f445e64e, spark=5}&quot;},{&quot;documentAsMap&quot;:&quot;{_id=59ae5abc46e0fb70f445e64f, spark=10}&quot;},{&quot;documentAsMap&quot;:&quot;{_id=59ae5c0a46e0fb70f445e659, spark=1}&quot;},{&quot;documentAsMap&quot;:&quot;{_id=59ae5c0a46e0fb70f445e65a, spark=8}&quot;},{&quot;documentAsMap&quot;:&quot;{_id=59ae5c0a46e0fb70f445e65b, spark=3}&quot;},{&quot;documentAsMap&quot;:&quot;{_id=59ae5c0a46e0fb70f445e65c, spark=2}&quot;},{&quot;documentAsMap&quot;:&quot;{_id=59ae5c0a46e0fb70f445e65d, spark=9}&quot;},{&quot;documentAsMap&quot;:&quot;{_id=59ae5c0a46e0fb70f445e65e, spark=10}&quot;},{&quot;documentAsMap&quot;:&quot;{_id=59ae5c0a46e0fb70f445e65f, spark=7}&quot;},{&quot;documentAsMap&quot;:&quot;{_id=59ae5c0a46e0fb70f445e660, spark=4}&quot;},{&quot;documentAsMap&quot;:&quot;{_id=59ae5c0a46e0fb70f445e661, spark=5}&quot;},{&quot;documentAsMap&quot;:&quot;{_id=59ae5c0a46e0fb70f445e662, spark=6}&quot;}],&quot;genId&quot;:&quot;1576385795&quot;}\" type=\"text/x-scoped-javascript\">/*<![CDATA[*/req(['../javascripts/notebook/playground','../javascripts/notebook/magic/tableChart'], \n      function(playground, _magictableChart) {\n        // data ==> data-this (in observable.js's scopedEval) ==> this in JS => { dataId, dataInit, ... }\n        // this ==> scope (in observable.js's scopedEval) ==> this.parentElement ==> div.container below (toHtml)\n\n        playground.call(data,\n                        this\n                        ,\n                        {\n    \"f\": _magictableChart,\n    \"o\": {\"headers\":[\"documentAsMap\"],\"width\":600,\"height\":400}\n  }\n  \n                        \n                        \n                      );\n      }\n    );/*]]>*/</script>\n    <div>\n      <span class=\"chart-total-item-count\"><p data-bind=\"text: value\"><script data-this=\"{&quot;valueId&quot;:&quot;anonbd4e69b5056c88ab90dec4e5db1912e9&quot;,&quot;initialValue&quot;:&quot;20&quot;}\" type=\"text/x-scoped-javascript\">/*<![CDATA[*/\nreq(\n['observable', 'knockout'],\nfunction (O, ko) {\n  ko.applyBindings({\n      value: O.makeObservable(valueId, initialValue)\n    },\n    this\n  );\n});\n        /*]]>*/</script></p> entries total</span>\n      <span class=\"chart-sampling-warning\"><p data-bind=\"text: value\"><script data-this=\"{&quot;valueId&quot;:&quot;anon5afdbe47abc7b2a3020b172c2a5584ec&quot;,&quot;initialValue&quot;:&quot;&quot;}\" type=\"text/x-scoped-javascript\">/*<![CDATA[*/\nreq(\n['observable', 'knockout'],\nfunction (O, ko) {\n  ko.applyBindings({\n      value: O.makeObservable(valueId, initialValue)\n    },\n    this\n  );\n});\n        /*]]>*/</script></p></span>\n      <div>\n      </div>\n    </div></div>\n            </div><div class=\"tab-pane\" id=\"tab1053979748-1\">\n            <div>\n      <script data-this=\"{&quot;dataId&quot;:&quot;anone2c51bf0e71c50b993e7609cbc4017f6&quot;,&quot;dataInit&quot;:[{&quot;documentAsMap&quot;:&quot;{_id=59ae5abc46e0fb70f445e646, spark=7}&quot;},{&quot;documentAsMap&quot;:&quot;{_id=59ae5abc46e0fb70f445e647, spark=2}&quot;},{&quot;documentAsMap&quot;:&quot;{_id=59ae5abc46e0fb70f445e648, spark=1}&quot;},{&quot;documentAsMap&quot;:&quot;{_id=59ae5abc46e0fb70f445e649, spark=3}&quot;},{&quot;documentAsMap&quot;:&quot;{_id=59ae5abc46e0fb70f445e64a, spark=9}&quot;},{&quot;documentAsMap&quot;:&quot;{_id=59ae5abc46e0fb70f445e64b, spark=6}&quot;},{&quot;documentAsMap&quot;:&quot;{_id=59ae5abc46e0fb70f445e64c, spark=8}&quot;},{&quot;documentAsMap&quot;:&quot;{_id=59ae5abc46e0fb70f445e64d, spark=4}&quot;},{&quot;documentAsMap&quot;:&quot;{_id=59ae5abc46e0fb70f445e64e, spark=5}&quot;},{&quot;documentAsMap&quot;:&quot;{_id=59ae5abc46e0fb70f445e64f, spark=10}&quot;},{&quot;documentAsMap&quot;:&quot;{_id=59ae5c0a46e0fb70f445e659, spark=1}&quot;},{&quot;documentAsMap&quot;:&quot;{_id=59ae5c0a46e0fb70f445e65a, spark=8}&quot;},{&quot;documentAsMap&quot;:&quot;{_id=59ae5c0a46e0fb70f445e65b, spark=3}&quot;},{&quot;documentAsMap&quot;:&quot;{_id=59ae5c0a46e0fb70f445e65c, spark=2}&quot;},{&quot;documentAsMap&quot;:&quot;{_id=59ae5c0a46e0fb70f445e65d, spark=9}&quot;},{&quot;documentAsMap&quot;:&quot;{_id=59ae5c0a46e0fb70f445e65e, spark=10}&quot;},{&quot;documentAsMap&quot;:&quot;{_id=59ae5c0a46e0fb70f445e65f, spark=7}&quot;},{&quot;documentAsMap&quot;:&quot;{_id=59ae5c0a46e0fb70f445e660, spark=4}&quot;},{&quot;documentAsMap&quot;:&quot;{_id=59ae5c0a46e0fb70f445e661, spark=5}&quot;},{&quot;documentAsMap&quot;:&quot;{_id=59ae5c0a46e0fb70f445e662, spark=6}&quot;}],&quot;genId&quot;:&quot;1962703791&quot;}\" type=\"text/x-scoped-javascript\">/*<![CDATA[*/req(['../javascripts/notebook/playground','../javascripts/notebook/magic/pivotChart'], \n      function(playground, _magicpivotChart) {\n        // data ==> data-this (in observable.js's scopedEval) ==> this in JS => { dataId, dataInit, ... }\n        // this ==> scope (in observable.js's scopedEval) ==> this.parentElement ==> div.container below (toHtml)\n\n        playground.call(data,\n                        this\n                        ,\n                        {\n    \"f\": _magicpivotChart,\n    \"o\": {\"width\":600,\"height\":400,\"derivedAttributes\":{},\"extraOptions\":{}}\n  }\n  \n                        \n                        \n                      );\n      }\n    );/*]]>*/</script>\n    <div>\n      <span class=\"chart-total-item-count\"><p data-bind=\"text: value\"><script data-this=\"{&quot;valueId&quot;:&quot;anond2b5d88c1bbb59436b29012f37e14ecc&quot;,&quot;initialValue&quot;:&quot;20&quot;}\" type=\"text/x-scoped-javascript\">/*<![CDATA[*/\nreq(\n['observable', 'knockout'],\nfunction (O, ko) {\n  ko.applyBindings({\n      value: O.makeObservable(valueId, initialValue)\n    },\n    this\n  );\n});\n        /*]]>*/</script></p> entries total</span>\n      <span class=\"chart-sampling-warning\"><p data-bind=\"text: value\"><script data-this=\"{&quot;valueId&quot;:&quot;anon4e240e6d3e67fae4cc315d50f62f3c26&quot;,&quot;initialValue&quot;:&quot;&quot;}\" type=\"text/x-scoped-javascript\">/*<![CDATA[*/\nreq(\n['observable', 'knockout'],\nfunction (O, ko) {\n  ko.applyBindings({\n      value: O.makeObservable(valueId, initialValue)\n    },\n    this\n  );\n});\n        /*]]>*/</script></p></span>\n      <div>\n      </div>\n    </div></div>\n            </div></div>\n      </div>\n    </div></div>"
          },
          "output_type" : "execute_result",
          "execution_count" : 10,
          "time" : "Took: 1.275s, at 2017-09-05 08:11"
        }
      ]
    },
    {
      "metadata" : {
        "trusted" : true,
        "input_collapsed" : false,
        "collapsed" : true,
        "id" : "ECD111A138E3499AAD156C92DDDD84D5"
      },
      "cell_type" : "code",
      "source" : [
        ""
      ],
      "outputs" : [ ]
    }
  ],
  "nbformat" : 4
}