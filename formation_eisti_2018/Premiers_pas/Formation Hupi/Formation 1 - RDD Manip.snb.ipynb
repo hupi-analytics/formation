{
  "metadata" : {
    "id" : "20d54284-dd54-4323-a5ee-04a26a66d6d0",
    "name" : "Formation 1 - RDD Manip",
    "user_save_timestamp" : "1970-01-01T00:00:00.000Z",
    "auto_save_timestamp" : "1970-01-01T00:00:00.000Z",
    "language_info" : {
      "name" : "scala",
      "file_extension" : "scala",
      "codemirror_mode" : "text/x-scala"
    },
    "trusted" : true,
    "sparkNotebook" : null,
    "customLocalRepo" : null,
    "customRepos" : null,
    "customDeps" : null,
    "customImports" : null,
    "customArgs" : null,
    "customSparkConf" : null,
    "customVars" : null
  },
  "cells" : [
    {
      "metadata" : {
        "id" : "F7F639F1BAFE4AA7807194E010ADA919"
      },
      "cell_type" : "markdown",
      "source" : "<img src=http://fd.perso.eisti.fr/Logos/TORUS2.png>\n\n\n# RDD Manipulations "
    },
    {
      "metadata" : {
        "id" : "30CC433AB76045F8BD496EF594E583F0"
      },
      "cell_type" : "markdown",
      "source" : "In this section, we will present to you some basics manipulations that we can do with RDD - Resilient Distributed Dataset, the basic abstraction in Spark. \n\nIn resume, \"it represents an immutable, partitioned collection of elements that can be operated on in parallel. This class contains the basic operations available on all RDDs, such as map, filter, and persist. In addition, PairRDDFunctions contains operations available only on RDDs of key-value pairs, such as groupByKey and join; DoubleRDDFunctions contains operations available only on RDDs of Doubles; and SequenceFileRDDFunctions contains operations available on RDDs that can be saved as SequenceFiles. All operations are automatically available on any RDD of the right type (e.g. RDD[(Int, Int)] through implicit.\n\nInternally, each RDD is characterized by five main properties:\n\n- A list of partitions \n- A function for computing each split \n- A list of dependencies on other RDDs \n- Optionally, a Partitioner for key-value RDDs (e.g. to say that the RDD is hash-partitioned) \n- Optionally, a list of preferred locations to compute each split on (e.g. block locations for an HDFS file)\n\nAll of the scheduling and execution in Spark is done based on these methods, allowing each RDD to implement its own way of computing itself. Indeed, users can implement custom RDDs (e.g. for reading data from a new storage system) by overriding these functions. Please refer to the Spark paper for more details on RDD internals.\"\n\n(Source : https://spark.apache.org/docs/latest/api/java/org/apache/spark/rdd/RDD.html).\n\nWhen we talk about RDD, we have actions and transformations. Transformations in RDD means we just convert the type of RDD1 to RDD2 without executing or trying to find out what will be the results, otherwise transformations in RDD won't take much time (ex : map, flatMap, etc.). Actions in RDD means we compute really the results (ex : count, collect, take, etc.).\n\nTo illustrate some basics actions and transformations in RDD, let's take a Word Counts example!"
    },
    {
      "metadata" : {
        "id" : "2709F980CE5245F497F9B15C9CF1F35F"
      },
      "cell_type" : "markdown",
      "source" : "### We read data from HDFS. By using sc, we have a RDD in the output"
    },
    {
      "metadata" : {
        "trusted" : true,
        "input_collapsed" : false,
        "collapsed" : false,
        "id" : "72B41204DF59495CBA7465A252AA06AC"
      },
      "cell_type" : "code",
      "source" : [
        "val data = sc.textFile(\"hdfs://hupi-factory-02-01-01-01/user/hupi/dataset_torusVN/WordCountDataset.txt\")\n",
        "\n",
        "/*\n",
        "Here we used sc.textFile to read a text file in HDFS, if you want to read a json file  \n",
        "\n",
        "import org.apache.spark.sql.SparkSession\n",
        "\n",
        "val spark = SparkSession\n",
        "  .builder()\n",
        "  .appName(\"Spark SQL basic example\") \n",
        "  .getOrCreate()\n",
        "\n",
        "// For implicit conversions like converting RDDs to DataFrames\n",
        "import spark.implicits._\n",
        "\n",
        "val df = spark.read.json(\"examples/src/main/resources/example.json\") // we have a Dataset here\n",
        "*/"
      ],
      "outputs" : [
        {
          "name" : "stdout",
          "output_type" : "stream",
          "text" : "data: org.apache.spark.rdd.RDD[String] = hdfs://hupi-factory-02-01-01-01/user/hupi/dataset_torusVN/WordCountDataset.txt MapPartitionsRDD[1] at textFile at <console>:67\n"
        },
        {
          "metadata" : { },
          "data" : {
            "text/html" : ""
          },
          "output_type" : "execute_result",
          "execution_count" : 1,
          "time" : "Took: 1.884s, at 2019-01-18 14:51"
        }
      ]
    },
    {
      "metadata" : {
        "id" : "97ECB351F08C42DD80F3043F49C19D22"
      },
      "cell_type" : "markdown",
      "source" : "### We count number of lines in data"
    },
    {
      "metadata" : {
        "trusted" : true,
        "input_collapsed" : false,
        "collapsed" : false,
        "id" : "E69AD26DF5FA47E78548FCF4F2F01E59"
      },
      "cell_type" : "code",
      "source" : [
        "data.count()"
      ],
      "outputs" : [
        {
          "name" : "stdout",
          "output_type" : "stream",
          "text" : "res2: Long = 4\n"
        },
        {
          "metadata" : { },
          "data" : {
            "text/html" : "4"
          },
          "output_type" : "execute_result",
          "execution_count" : 2,
          "time" : "Took: 2.687s, at 2019-01-18 14:56"
        }
      ]
    },
    {
      "metadata" : {
        "id" : "4F3B80A5B5A9441C81499D234598A0C4"
      },
      "cell_type" : "markdown",
      "source" : "### We can see all of data, but be careful of this action because if data is too big, it can crash the notebook!"
    },
    {
      "metadata" : {
        "trusted" : true,
        "input_collapsed" : false,
        "collapsed" : false,
        "presentation" : {
          "tabs_state" : "{\n  \"tab_id\": \"#tab1756332791-0\"\n}",
          "pivot_chart_state" : "{\n  \"hiddenAttributes\": [],\n  \"menuLimit\": 200,\n  \"cols\": [],\n  \"rows\": [],\n  \"vals\": [],\n  \"exclusions\": {},\n  \"inclusions\": {},\n  \"unusedAttrsVertical\": 85,\n  \"autoSortUnusedAttrs\": false,\n  \"inclusionsInfo\": {},\n  \"aggregatorName\": \"Count\",\n  \"rendererName\": \"Table\"\n}"
        },
        "id" : "3CD3833D84CD45CC98E62FBE8D3956F1"
      },
      "cell_type" : "code",
      "source" : [
        "data.collect()"
      ],
      "outputs" : [
        {
          "name" : "stdout",
          "output_type" : "stream",
          "text" : "res4: Array[String] = Array(A Resilient Distributed Dataset (RDD), the basic abstraction in Spark. Represents an immutable, partitioned collection of elements that can be operated on in parallel. This class contains the basic operations available on all RDDs, such as map, filter, and persist. In addition, PairRDDFunctions contains operations available only on RDDs of key-value pairs, such as groupByKey and join; DoubleRDDFunctions contains operations available only on RDDs of Doubles; and SequenceFileRDDFunctions contains operations available on RDDs that can be saved as SequenceFiles., Internally, each RDD is characterized by five main properties:, - A list of partitions - A function for computing each split - A list of dependencies on other RDDs - Optionally, a Partitioner for key-val..."
        },
        {
          "metadata" : { },
          "data" : {
            "text/html" : "<div>\n      <script data-this=\"{&quot;dataId&quot;:&quot;anon0e8321afbb01ab1ea82ed388b842d1a4&quot;,&quot;dataInit&quot;:[],&quot;genId&quot;:&quot;1756332791&quot;}\" type=\"text/x-scoped-javascript\">/*<![CDATA[*/req(['../javascripts/notebook/playground','../javascripts/notebook/magic/tabs'], \n      function(playground, _magictabs) {\n        // data ==> data-this (in observable.js's scopedEval) ==> this in JS => { dataId, dataInit, ... }\n        // this ==> scope (in observable.js's scopedEval) ==> this.parentElement ==> div.container below (toHtml)\n\n        playground.call(data,\n                        this\n                        ,\n                        {\n    \"f\": _magictabs,\n    \"o\": {}\n  }\n  \n                        \n                        \n                      );\n      }\n    );/*]]>*/</script>\n    <div>\n      <div>\n        <ul class=\"nav nav-tabs\" id=\"ul1756332791\"><li>\n              <a href=\"#tab1756332791-0\"><i class=\"fa fa-table\"/></a>\n            </li><li>\n              <a href=\"#tab1756332791-1\"><i class=\"fa fa-cubes\"/></a>\n            </li></ul>\n\n        <div class=\"tab-content\" id=\"tab1756332791\"><div class=\"tab-pane\" id=\"tab1756332791-0\">\n            <div>\n      <script data-this=\"{&quot;dataId&quot;:&quot;anonc9c8894ec5a85873a5bcf58ce958d893&quot;,&quot;dataInit&quot;:[{&quot;string value&quot;:&quot;A Resilient Distributed Dataset (RDD), the basic abstraction in Spark. Represents an immutable, partitioned collection of elements that can be operated on in parallel. This class contains the basic operations available on all RDDs, such as map, filter, and persist. In addition, PairRDDFunctions contains operations available only on RDDs of key-value pairs, such as groupByKey and join; DoubleRDDFunctions contains operations available only on RDDs of Doubles; and SequenceFileRDDFunctions contains operations available on RDDs that can be saved as SequenceFiles.&quot;},{&quot;string value&quot;:&quot;Internally, each RDD is characterized by five main properties:&quot;},{&quot;string value&quot;:&quot;- A list of partitions - A function for computing each split - A list of dependencies on other RDDs - Optionally, a Partitioner for key-value RDDs (e.g. to say that the RDD is hash-partitioned) - Optionally, a list of preferred locations to compute each split on (e.g. block locations for an HDFS file)&quot;},{&quot;string value&quot;:&quot;All of the scheduling and execution in Spark is done based on these methods, allowing each RDD to implement its own way of computing itself. Indeed, users can implement custom RDDs (e.g. for reading data from a new storage system) by overriding these functions. Please refer to the Spark paper for more details on RDD internals.&quot;}],&quot;genId&quot;:&quot;124076415&quot;}\" type=\"text/x-scoped-javascript\">/*<![CDATA[*/req(['../javascripts/notebook/playground','../javascripts/notebook/magic/tableChart'], \n      function(playground, _magictableChart) {\n        // data ==> data-this (in observable.js's scopedEval) ==> this in JS => { dataId, dataInit, ... }\n        // this ==> scope (in observable.js's scopedEval) ==> this.parentElement ==> div.container below (toHtml)\n\n        playground.call(data,\n                        this\n                        ,\n                        {\n    \"f\": _magictableChart,\n    \"o\": {\"headers\":[\"string value\"],\"width\":600,\"height\":400}\n  }\n  \n                        \n                        \n                      );\n      }\n    );/*]]>*/</script>\n    <div>\n      <span class=\"chart-total-item-count\"><p data-bind=\"text: value\"><script data-this=\"{&quot;valueId&quot;:&quot;anond2781f88c03eb722f8f3c63ef3e6bb18&quot;,&quot;initialValue&quot;:&quot;4&quot;}\" type=\"text/x-scoped-javascript\">/*<![CDATA[*/\nreq(\n['observable', 'knockout'],\nfunction (O, ko) {\n  ko.applyBindings({\n      value: O.makeObservable(valueId, initialValue)\n    },\n    this\n  );\n});\n        /*]]>*/</script></p> entries total</span>\n      <span class=\"chart-sampling-warning\"><p data-bind=\"text: value\"><script data-this=\"{&quot;valueId&quot;:&quot;anon0888804a71be034db0682bb558630502&quot;,&quot;initialValue&quot;:&quot;&quot;}\" type=\"text/x-scoped-javascript\">/*<![CDATA[*/\nreq(\n['observable', 'knockout'],\nfunction (O, ko) {\n  ko.applyBindings({\n      value: O.makeObservable(valueId, initialValue)\n    },\n    this\n  );\n});\n        /*]]>*/</script></p></span>\n      <div>\n      </div>\n    </div></div>\n            </div><div class=\"tab-pane\" id=\"tab1756332791-1\">\n            <div>\n      <script data-this=\"{&quot;dataId&quot;:&quot;anone461bfce9e2d59584becdd0b4b1dbd1b&quot;,&quot;dataInit&quot;:[{&quot;string value&quot;:&quot;A Resilient Distributed Dataset (RDD), the basic abstraction in Spark. Represents an immutable, partitioned collection of elements that can be operated on in parallel. This class contains the basic operations available on all RDDs, such as map, filter, and persist. In addition, PairRDDFunctions contains operations available only on RDDs of key-value pairs, such as groupByKey and join; DoubleRDDFunctions contains operations available only on RDDs of Doubles; and SequenceFileRDDFunctions contains operations available on RDDs that can be saved as SequenceFiles.&quot;},{&quot;string value&quot;:&quot;Internally, each RDD is characterized by five main properties:&quot;},{&quot;string value&quot;:&quot;- A list of partitions - A function for computing each split - A list of dependencies on other RDDs - Optionally, a Partitioner for key-value RDDs (e.g. to say that the RDD is hash-partitioned) - Optionally, a list of preferred locations to compute each split on (e.g. block locations for an HDFS file)&quot;},{&quot;string value&quot;:&quot;All of the scheduling and execution in Spark is done based on these methods, allowing each RDD to implement its own way of computing itself. Indeed, users can implement custom RDDs (e.g. for reading data from a new storage system) by overriding these functions. Please refer to the Spark paper for more details on RDD internals.&quot;}],&quot;genId&quot;:&quot;2003140435&quot;}\" type=\"text/x-scoped-javascript\">/*<![CDATA[*/req(['../javascripts/notebook/playground','../javascripts/notebook/magic/pivotChart'], \n      function(playground, _magicpivotChart) {\n        // data ==> data-this (in observable.js's scopedEval) ==> this in JS => { dataId, dataInit, ... }\n        // this ==> scope (in observable.js's scopedEval) ==> this.parentElement ==> div.container below (toHtml)\n\n        playground.call(data,\n                        this\n                        ,\n                        {\n    \"f\": _magicpivotChart,\n    \"o\": {\"width\":600,\"height\":400,\"derivedAttributes\":{},\"extraOptions\":{}}\n  }\n  \n                        \n                        \n                      );\n      }\n    );/*]]>*/</script>\n    <div>\n      <span class=\"chart-total-item-count\"><p data-bind=\"text: value\"><script data-this=\"{&quot;valueId&quot;:&quot;anon0d7f39b8bfa2cc0f48715d127843ddda&quot;,&quot;initialValue&quot;:&quot;4&quot;}\" type=\"text/x-scoped-javascript\">/*<![CDATA[*/\nreq(\n['observable', 'knockout'],\nfunction (O, ko) {\n  ko.applyBindings({\n      value: O.makeObservable(valueId, initialValue)\n    },\n    this\n  );\n});\n        /*]]>*/</script></p> entries total</span>\n      <span class=\"chart-sampling-warning\"><p data-bind=\"text: value\"><script data-this=\"{&quot;valueId&quot;:&quot;anon2c7c40f108800cade762013138d0fea5&quot;,&quot;initialValue&quot;:&quot;&quot;}\" type=\"text/x-scoped-javascript\">/*<![CDATA[*/\nreq(\n['observable', 'knockout'],\nfunction (O, ko) {\n  ko.applyBindings({\n      value: O.makeObservable(valueId, initialValue)\n    },\n    this\n  );\n});\n        /*]]>*/</script></p></span>\n      <div>\n      </div>\n    </div></div>\n            </div></div>\n      </div>\n    </div></div>"
          },
          "output_type" : "execute_result",
          "execution_count" : 3,
          "time" : "Took: 1.454s, at 2019-01-18 15:00"
        }
      ]
    },
    {
      "metadata" : {
        "id" : "319B4B20D0C34BB1A7ABFC19539145AE"
      },
      "cell_type" : "markdown",
      "source" : "### We can also do this way..."
    },
    {
      "metadata" : {
        "trusted" : true,
        "input_collapsed" : false,
        "collapsed" : false,
        "id" : "9CDC717256F4470BBEEA3B4AD4BE72C9"
      },
      "cell_type" : "code",
      "source" : [
        "data.collect().foreach(println)"
      ],
      "outputs" : [
        {
          "name" : "stdout",
          "output_type" : "stream",
          "text" : "A Resilient Distributed Dataset (RDD), the basic abstraction in Spark. Represents an immutable, partitioned collection of elements that can be operated on in parallel. This class contains the basic operations available on all RDDs, such as map, filter, and persist. In addition, PairRDDFunctions contains operations available only on RDDs of key-value pairs, such as groupByKey and join; DoubleRDDFunctions contains operations available only on RDDs of Doubles; and SequenceFileRDDFunctions contains operations available on RDDs that can be saved as SequenceFiles.\nInternally, each RDD is characterized by five main properties:\n- A list of partitions - A function for computing each split - A list of dependencies on other RDDs - Optionally, a Partitioner for key-value RDDs (e.g. to say that the RDD is hash-partitioned) - Optionally, a list of preferred locations to compute each split on (e.g. block locations for an HDFS file)\nAll of the scheduling and execution in Spark is done based on these methods, allowing each RDD to implement its own way of computing itself. Indeed, users can implement custom RDDs (e.g. for reading data from a new storage system) by overriding these functions. Please refer to the Spark paper for more details on RDD internals.\n"
        },
        {
          "metadata" : { },
          "data" : {
            "text/html" : ""
          },
          "output_type" : "execute_result",
          "execution_count" : 4,
          "time" : "Took: 1.395s, at 2019-01-18 15:01"
        }
      ]
    },
    {
      "metadata" : {
        "id" : "7A6631679F184E5B8F76FE50599E7477"
      },
      "cell_type" : "markdown",
      "source" : "### But it's always better to take some n lines of data instead of collecting all data"
    },
    {
      "metadata" : {
        "trusted" : true,
        "input_collapsed" : false,
        "collapsed" : false,
        "presentation" : {
          "tabs_state" : "{\n  \"tab_id\": \"#tab1072610265-0\"\n}",
          "pivot_chart_state" : "{\n  \"hiddenAttributes\": [],\n  \"menuLimit\": 200,\n  \"cols\": [],\n  \"rows\": [],\n  \"vals\": [],\n  \"exclusions\": {},\n  \"inclusions\": {},\n  \"unusedAttrsVertical\": 85,\n  \"autoSortUnusedAttrs\": false,\n  \"inclusionsInfo\": {},\n  \"aggregatorName\": \"Count\",\n  \"rendererName\": \"Table\"\n}"
        },
        "id" : "9DA8CC5811E5472EB619460851F6F99B"
      },
      "cell_type" : "code",
      "source" : [
        "data.take(2)"
      ],
      "outputs" : [
        {
          "name" : "stdout",
          "output_type" : "stream",
          "text" : "res8: Array[String] = Array(A Resilient Distributed Dataset (RDD), the basic abstraction in Spark. Represents an immutable, partitioned collection of elements that can be operated on in parallel. This class contains the basic operations available on all RDDs, such as map, filter, and persist. In addition, PairRDDFunctions contains operations available only on RDDs of key-value pairs, such as groupByKey and join; DoubleRDDFunctions contains operations available only on RDDs of Doubles; and SequenceFileRDDFunctions contains operations available on RDDs that can be saved as SequenceFiles., Internally, each RDD is characterized by five main properties:)\n"
        },
        {
          "metadata" : { },
          "data" : {
            "text/html" : "<div>\n      <script data-this=\"{&quot;dataId&quot;:&quot;anon128eaf0098b0e8a10a353beca36513e1&quot;,&quot;dataInit&quot;:[],&quot;genId&quot;:&quot;1072610265&quot;}\" type=\"text/x-scoped-javascript\">/*<![CDATA[*/req(['../javascripts/notebook/playground','../javascripts/notebook/magic/tabs'], \n      function(playground, _magictabs) {\n        // data ==> data-this (in observable.js's scopedEval) ==> this in JS => { dataId, dataInit, ... }\n        // this ==> scope (in observable.js's scopedEval) ==> this.parentElement ==> div.container below (toHtml)\n\n        playground.call(data,\n                        this\n                        ,\n                        {\n    \"f\": _magictabs,\n    \"o\": {}\n  }\n  \n                        \n                        \n                      );\n      }\n    );/*]]>*/</script>\n    <div>\n      <div>\n        <ul class=\"nav nav-tabs\" id=\"ul1072610265\"><li>\n              <a href=\"#tab1072610265-0\"><i class=\"fa fa-table\"/></a>\n            </li><li>\n              <a href=\"#tab1072610265-1\"><i class=\"fa fa-cubes\"/></a>\n            </li></ul>\n\n        <div class=\"tab-content\" id=\"tab1072610265\"><div class=\"tab-pane\" id=\"tab1072610265-0\">\n            <div>\n      <script data-this=\"{&quot;dataId&quot;:&quot;anon5105de0afab5b7cd314fbe441af23eaa&quot;,&quot;dataInit&quot;:[{&quot;string value&quot;:&quot;A Resilient Distributed Dataset (RDD), the basic abstraction in Spark. Represents an immutable, partitioned collection of elements that can be operated on in parallel. This class contains the basic operations available on all RDDs, such as map, filter, and persist. In addition, PairRDDFunctions contains operations available only on RDDs of key-value pairs, such as groupByKey and join; DoubleRDDFunctions contains operations available only on RDDs of Doubles; and SequenceFileRDDFunctions contains operations available on RDDs that can be saved as SequenceFiles.&quot;},{&quot;string value&quot;:&quot;Internally, each RDD is characterized by five main properties:&quot;}],&quot;genId&quot;:&quot;1373371832&quot;}\" type=\"text/x-scoped-javascript\">/*<![CDATA[*/req(['../javascripts/notebook/playground','../javascripts/notebook/magic/tableChart'], \n      function(playground, _magictableChart) {\n        // data ==> data-this (in observable.js's scopedEval) ==> this in JS => { dataId, dataInit, ... }\n        // this ==> scope (in observable.js's scopedEval) ==> this.parentElement ==> div.container below (toHtml)\n\n        playground.call(data,\n                        this\n                        ,\n                        {\n    \"f\": _magictableChart,\n    \"o\": {\"headers\":[\"string value\"],\"width\":600,\"height\":400}\n  }\n  \n                        \n                        \n                      );\n      }\n    );/*]]>*/</script>\n    <div>\n      <span class=\"chart-total-item-count\"><p data-bind=\"text: value\"><script data-this=\"{&quot;valueId&quot;:&quot;anonb63d852ba88794d8eb2e55f63f8941de&quot;,&quot;initialValue&quot;:&quot;2&quot;}\" type=\"text/x-scoped-javascript\">/*<![CDATA[*/\nreq(\n['observable', 'knockout'],\nfunction (O, ko) {\n  ko.applyBindings({\n      value: O.makeObservable(valueId, initialValue)\n    },\n    this\n  );\n});\n        /*]]>*/</script></p> entries total</span>\n      <span class=\"chart-sampling-warning\"><p data-bind=\"text: value\"><script data-this=\"{&quot;valueId&quot;:&quot;anondde4a434a2c833c8665fdd7432a8b5dc&quot;,&quot;initialValue&quot;:&quot;&quot;}\" type=\"text/x-scoped-javascript\">/*<![CDATA[*/\nreq(\n['observable', 'knockout'],\nfunction (O, ko) {\n  ko.applyBindings({\n      value: O.makeObservable(valueId, initialValue)\n    },\n    this\n  );\n});\n        /*]]>*/</script></p></span>\n      <div>\n      </div>\n    </div></div>\n            </div><div class=\"tab-pane\" id=\"tab1072610265-1\">\n            <div>\n      <script data-this=\"{&quot;dataId&quot;:&quot;anon493a6c836ce4b27f03d6afe8efd482f7&quot;,&quot;dataInit&quot;:[{&quot;string value&quot;:&quot;A Resilient Distributed Dataset (RDD), the basic abstraction in Spark. Represents an immutable, partitioned collection of elements that can be operated on in parallel. This class contains the basic operations available on all RDDs, such as map, filter, and persist. In addition, PairRDDFunctions contains operations available only on RDDs of key-value pairs, such as groupByKey and join; DoubleRDDFunctions contains operations available only on RDDs of Doubles; and SequenceFileRDDFunctions contains operations available on RDDs that can be saved as SequenceFiles.&quot;},{&quot;string value&quot;:&quot;Internally, each RDD is characterized by five main properties:&quot;}],&quot;genId&quot;:&quot;922888093&quot;}\" type=\"text/x-scoped-javascript\">/*<![CDATA[*/req(['../javascripts/notebook/playground','../javascripts/notebook/magic/pivotChart'], \n      function(playground, _magicpivotChart) {\n        // data ==> data-this (in observable.js's scopedEval) ==> this in JS => { dataId, dataInit, ... }\n        // this ==> scope (in observable.js's scopedEval) ==> this.parentElement ==> div.container below (toHtml)\n\n        playground.call(data,\n                        this\n                        ,\n                        {\n    \"f\": _magicpivotChart,\n    \"o\": {\"width\":600,\"height\":400,\"derivedAttributes\":{},\"extraOptions\":{}}\n  }\n  \n                        \n                        \n                      );\n      }\n    );/*]]>*/</script>\n    <div>\n      <span class=\"chart-total-item-count\"><p data-bind=\"text: value\"><script data-this=\"{&quot;valueId&quot;:&quot;anona5dc23d9e84598b07c0837716529d596&quot;,&quot;initialValue&quot;:&quot;2&quot;}\" type=\"text/x-scoped-javascript\">/*<![CDATA[*/\nreq(\n['observable', 'knockout'],\nfunction (O, ko) {\n  ko.applyBindings({\n      value: O.makeObservable(valueId, initialValue)\n    },\n    this\n  );\n});\n        /*]]>*/</script></p> entries total</span>\n      <span class=\"chart-sampling-warning\"><p data-bind=\"text: value\"><script data-this=\"{&quot;valueId&quot;:&quot;anon3d3f15645e0dd826312a9fe14e72cfb4&quot;,&quot;initialValue&quot;:&quot;&quot;}\" type=\"text/x-scoped-javascript\">/*<![CDATA[*/\nreq(\n['observable', 'knockout'],\nfunction (O, ko) {\n  ko.applyBindings({\n      value: O.makeObservable(valueId, initialValue)\n    },\n    this\n  );\n});\n        /*]]>*/</script></p></span>\n      <div>\n      </div>\n    </div></div>\n            </div></div>\n      </div>\n    </div></div>"
          },
          "output_type" : "execute_result",
          "execution_count" : 5,
          "time" : "Took: 1.122s, at 2019-01-18 15:01"
        }
      ]
    },
    {
      "metadata" : {
        "id" : "610AE498A6154550883010B0DEDD6ECF"
      },
      "cell_type" : "markdown",
      "source" : "### Next, we need to remove all the special characters in data by using regex. \n\nTo understand more about regex, you can find in this link (http://docs.oracle.com/javase/7/docs/api/java/util/regex/Pattern.html). In this transformation, we use map() to apply the function replaceAll for each element inside RDD."
    },
    {
      "metadata" : {
        "trusted" : true,
        "input_collapsed" : false,
        "collapsed" : false,
        "id" : "236BAAC8BA3843AA8AFBAD08AA7CF5C2"
      },
      "cell_type" : "code",
      "source" : [
        "val data_without_special_characters = \n",
        "data.map(l => l.replaceAll(\"\"\"[\\p{Punct}]\"\"\", \"\"))"
      ],
      "outputs" : [
        {
          "name" : "stdout",
          "output_type" : "stream",
          "text" : "data_without_special_characters: org.apache.spark.rdd.RDD[String] = MapPartitionsRDD[3] at map at <console>:70\n"
        },
        {
          "metadata" : { },
          "data" : {
            "text/html" : ""
          },
          "output_type" : "execute_result",
          "execution_count" : 7,
          "time" : "Took: 0.819s, at 2019-01-18 15:04"
        }
      ]
    },
    {
      "metadata" : {
        "trusted" : true,
        "input_collapsed" : false,
        "collapsed" : false,
        "presentation" : {
          "tabs_state" : "{\n  \"tab_id\": \"#tab1779364424-0\"\n}",
          "pivot_chart_state" : "{\n  \"hiddenAttributes\": [],\n  \"menuLimit\": 200,\n  \"cols\": [],\n  \"rows\": [],\n  \"vals\": [],\n  \"exclusions\": {},\n  \"inclusions\": {},\n  \"unusedAttrsVertical\": 85,\n  \"autoSortUnusedAttrs\": false,\n  \"inclusionsInfo\": {},\n  \"aggregatorName\": \"Count\",\n  \"rendererName\": \"Table\"\n}"
        },
        "id" : "C45AD8A1E7D04F879E562E478BF6B3F7"
      },
      "cell_type" : "code",
      "source" : [
        "data_without_special_characters.take(10)"
      ],
      "outputs" : [
        {
          "name" : "stdout",
          "output_type" : "stream",
          "text" : "res12: Array[String] = Array(A Resilient Distributed Dataset RDD the basic abstraction in Spark Represents an immutable partitioned collection of elements that can be operated on in parallel This class contains the basic operations available on all RDDs such as map filter and persist In addition PairRDDFunctions contains operations available only on RDDs of keyvalue pairs such as groupByKey and join DoubleRDDFunctions contains operations available only on RDDs of Doubles and SequenceFileRDDFunctions contains operations available on RDDs that can be saved as SequenceFiles, Internally each RDD is characterized by five main properties, \" A list of partitions  A function for computing each split  A list of dependencies on other RDDs  Optionally a Partitioner for keyvalue RDDs eg to say that..."
        },
        {
          "metadata" : { },
          "data" : {
            "text/html" : "<div>\n      <script data-this=\"{&quot;dataId&quot;:&quot;anon65f11dec6a6796181f1e1aaff7acea71&quot;,&quot;dataInit&quot;:[],&quot;genId&quot;:&quot;1779364424&quot;}\" type=\"text/x-scoped-javascript\">/*<![CDATA[*/req(['../javascripts/notebook/playground','../javascripts/notebook/magic/tabs'], \n      function(playground, _magictabs) {\n        // data ==> data-this (in observable.js's scopedEval) ==> this in JS => { dataId, dataInit, ... }\n        // this ==> scope (in observable.js's scopedEval) ==> this.parentElement ==> div.container below (toHtml)\n\n        playground.call(data,\n                        this\n                        ,\n                        {\n    \"f\": _magictabs,\n    \"o\": {}\n  }\n  \n                        \n                        \n                      );\n      }\n    );/*]]>*/</script>\n    <div>\n      <div>\n        <ul class=\"nav nav-tabs\" id=\"ul1779364424\"><li>\n              <a href=\"#tab1779364424-0\"><i class=\"fa fa-table\"/></a>\n            </li><li>\n              <a href=\"#tab1779364424-1\"><i class=\"fa fa-cubes\"/></a>\n            </li></ul>\n\n        <div class=\"tab-content\" id=\"tab1779364424\"><div class=\"tab-pane\" id=\"tab1779364424-0\">\n            <div>\n      <script data-this=\"{&quot;dataId&quot;:&quot;anonddf623ec5014bda01146e4440b9f7667&quot;,&quot;dataInit&quot;:[{&quot;string value&quot;:&quot;A Resilient Distributed Dataset RDD the basic abstraction in Spark Represents an immutable partitioned collection of elements that can be operated on in parallel This class contains the basic operations available on all RDDs such as map filter and persist In addition PairRDDFunctions contains operations available only on RDDs of keyvalue pairs such as groupByKey and join DoubleRDDFunctions contains operations available only on RDDs of Doubles and SequenceFileRDDFunctions contains operations available on RDDs that can be saved as SequenceFiles&quot;},{&quot;string value&quot;:&quot;Internally each RDD is characterized by five main properties&quot;},{&quot;string value&quot;:&quot; A list of partitions  A function for computing each split  A list of dependencies on other RDDs  Optionally a Partitioner for keyvalue RDDs eg to say that the RDD is hashpartitioned  Optionally a list of preferred locations to compute each split on eg block locations for an HDFS file&quot;},{&quot;string value&quot;:&quot;All of the scheduling and execution in Spark is done based on these methods allowing each RDD to implement its own way of computing itself Indeed users can implement custom RDDs eg for reading data from a new storage system by overriding these functions Please refer to the Spark paper for more details on RDD internals&quot;}],&quot;genId&quot;:&quot;555860283&quot;}\" type=\"text/x-scoped-javascript\">/*<![CDATA[*/req(['../javascripts/notebook/playground','../javascripts/notebook/magic/tableChart'], \n      function(playground, _magictableChart) {\n        // data ==> data-this (in observable.js's scopedEval) ==> this in JS => { dataId, dataInit, ... }\n        // this ==> scope (in observable.js's scopedEval) ==> this.parentElement ==> div.container below (toHtml)\n\n        playground.call(data,\n                        this\n                        ,\n                        {\n    \"f\": _magictableChart,\n    \"o\": {\"headers\":[\"string value\"],\"width\":600,\"height\":400}\n  }\n  \n                        \n                        \n                      );\n      }\n    );/*]]>*/</script>\n    <div>\n      <span class=\"chart-total-item-count\"><p data-bind=\"text: value\"><script data-this=\"{&quot;valueId&quot;:&quot;anon47db0ccd93a40ec8b1b2c97bd75e1c37&quot;,&quot;initialValue&quot;:&quot;4&quot;}\" type=\"text/x-scoped-javascript\">/*<![CDATA[*/\nreq(\n['observable', 'knockout'],\nfunction (O, ko) {\n  ko.applyBindings({\n      value: O.makeObservable(valueId, initialValue)\n    },\n    this\n  );\n});\n        /*]]>*/</script></p> entries total</span>\n      <span class=\"chart-sampling-warning\"><p data-bind=\"text: value\"><script data-this=\"{&quot;valueId&quot;:&quot;anon1434d5ffc27f96ba37ca684371b8d49b&quot;,&quot;initialValue&quot;:&quot;&quot;}\" type=\"text/x-scoped-javascript\">/*<![CDATA[*/\nreq(\n['observable', 'knockout'],\nfunction (O, ko) {\n  ko.applyBindings({\n      value: O.makeObservable(valueId, initialValue)\n    },\n    this\n  );\n});\n        /*]]>*/</script></p></span>\n      <div>\n      </div>\n    </div></div>\n            </div><div class=\"tab-pane\" id=\"tab1779364424-1\">\n            <div>\n      <script data-this=\"{&quot;dataId&quot;:&quot;anon272c9373f000d7d35891594e96301c05&quot;,&quot;dataInit&quot;:[{&quot;string value&quot;:&quot;A Resilient Distributed Dataset RDD the basic abstraction in Spark Represents an immutable partitioned collection of elements that can be operated on in parallel This class contains the basic operations available on all RDDs such as map filter and persist In addition PairRDDFunctions contains operations available only on RDDs of keyvalue pairs such as groupByKey and join DoubleRDDFunctions contains operations available only on RDDs of Doubles and SequenceFileRDDFunctions contains operations available on RDDs that can be saved as SequenceFiles&quot;},{&quot;string value&quot;:&quot;Internally each RDD is characterized by five main properties&quot;},{&quot;string value&quot;:&quot; A list of partitions  A function for computing each split  A list of dependencies on other RDDs  Optionally a Partitioner for keyvalue RDDs eg to say that the RDD is hashpartitioned  Optionally a list of preferred locations to compute each split on eg block locations for an HDFS file&quot;},{&quot;string value&quot;:&quot;All of the scheduling and execution in Spark is done based on these methods allowing each RDD to implement its own way of computing itself Indeed users can implement custom RDDs eg for reading data from a new storage system by overriding these functions Please refer to the Spark paper for more details on RDD internals&quot;}],&quot;genId&quot;:&quot;1012908804&quot;}\" type=\"text/x-scoped-javascript\">/*<![CDATA[*/req(['../javascripts/notebook/playground','../javascripts/notebook/magic/pivotChart'], \n      function(playground, _magicpivotChart) {\n        // data ==> data-this (in observable.js's scopedEval) ==> this in JS => { dataId, dataInit, ... }\n        // this ==> scope (in observable.js's scopedEval) ==> this.parentElement ==> div.container below (toHtml)\n\n        playground.call(data,\n                        this\n                        ,\n                        {\n    \"f\": _magicpivotChart,\n    \"o\": {\"width\":600,\"height\":400,\"derivedAttributes\":{},\"extraOptions\":{}}\n  }\n  \n                        \n                        \n                      );\n      }\n    );/*]]>*/</script>\n    <div>\n      <span class=\"chart-total-item-count\"><p data-bind=\"text: value\"><script data-this=\"{&quot;valueId&quot;:&quot;anon9b7ae0ea3f3d448d1b25a2af133d77cf&quot;,&quot;initialValue&quot;:&quot;4&quot;}\" type=\"text/x-scoped-javascript\">/*<![CDATA[*/\nreq(\n['observable', 'knockout'],\nfunction (O, ko) {\n  ko.applyBindings({\n      value: O.makeObservable(valueId, initialValue)\n    },\n    this\n  );\n});\n        /*]]>*/</script></p> entries total</span>\n      <span class=\"chart-sampling-warning\"><p data-bind=\"text: value\"><script data-this=\"{&quot;valueId&quot;:&quot;anon9c18efcb4e0863daabd4fe248ac0c7d2&quot;,&quot;initialValue&quot;:&quot;&quot;}\" type=\"text/x-scoped-javascript\">/*<![CDATA[*/\nreq(\n['observable', 'knockout'],\nfunction (O, ko) {\n  ko.applyBindings({\n      value: O.makeObservable(valueId, initialValue)\n    },\n    this\n  );\n});\n        /*]]>*/</script></p></span>\n      <div>\n      </div>\n    </div></div>\n            </div></div>\n      </div>\n    </div></div>"
          },
          "output_type" : "execute_result",
          "execution_count" : 8,
          "time" : "Took: 1.465s, at 2019-01-18 15:06"
        }
      ]
    },
    {
      "metadata" : {
        "id" : "3FF8C000B3E040C08FF3B713A5CC4B97"
      },
      "cell_type" : "markdown",
      "source" : "### Then, we split data into words and convert all into lower case. \n\nHere we use flatMap (simply equal to map() + \"flatten\" ). Here we want to transform an RDD of Array of String into an RDD of String and apply the function inside flatMap for each String. "
    },
    {
      "metadata" : {
        "trusted" : true,
        "input_collapsed" : false,
        "collapsed" : false,
        "id" : "2F99DB525A7A4BC789520B828E7FFD6F"
      },
      "cell_type" : "code",
      "source" : [
        "val words = \n",
        "data_without_special_characters.flatMap(l => l.split(\" \").map(l => l.toLowerCase))"
      ],
      "outputs" : [
        {
          "name" : "stdout",
          "output_type" : "stream",
          "text" : "words: org.apache.spark.rdd.RDD[String] = MapPartitionsRDD[5] at flatMap at <console>:72\n"
        },
        {
          "metadata" : { },
          "data" : {
            "text/html" : ""
          },
          "output_type" : "execute_result",
          "execution_count" : 10,
          "time" : "Took: 0.806s, at 2019-01-18 15:11"
        }
      ]
    },
    {
      "metadata" : {
        "trusted" : true,
        "input_collapsed" : false,
        "collapsed" : false,
        "presentation" : {
          "tabs_state" : "{\n  \"tab_id\": \"#tab1083388899-0\"\n}",
          "pivot_chart_state" : "{\n  \"hiddenAttributes\": [],\n  \"menuLimit\": 200,\n  \"cols\": [],\n  \"rows\": [],\n  \"vals\": [],\n  \"exclusions\": {},\n  \"inclusions\": {},\n  \"unusedAttrsVertical\": 85,\n  \"autoSortUnusedAttrs\": false,\n  \"inclusionsInfo\": {},\n  \"aggregatorName\": \"Count\",\n  \"rendererName\": \"Table\"\n}"
        },
        "id" : "DCC367D8DEB344738DC8BFC2B676252A"
      },
      "cell_type" : "code",
      "source" : [
        "words.take(10)"
      ],
      "outputs" : [
        {
          "name" : "stdout",
          "output_type" : "stream",
          "text" : "res15: Array[String] = Array(a, resilient, distributed, dataset, rdd, the, basic, abstraction, in, spark)\n"
        },
        {
          "metadata" : { },
          "data" : {
            "text/html" : "<div>\n      <script data-this=\"{&quot;dataId&quot;:&quot;anon8d72fa569de558b5b3e7974d4cb0bde0&quot;,&quot;dataInit&quot;:[],&quot;genId&quot;:&quot;1083388899&quot;}\" type=\"text/x-scoped-javascript\">/*<![CDATA[*/req(['../javascripts/notebook/playground','../javascripts/notebook/magic/tabs'], \n      function(playground, _magictabs) {\n        // data ==> data-this (in observable.js's scopedEval) ==> this in JS => { dataId, dataInit, ... }\n        // this ==> scope (in observable.js's scopedEval) ==> this.parentElement ==> div.container below (toHtml)\n\n        playground.call(data,\n                        this\n                        ,\n                        {\n    \"f\": _magictabs,\n    \"o\": {}\n  }\n  \n                        \n                        \n                      );\n      }\n    );/*]]>*/</script>\n    <div>\n      <div>\n        <ul class=\"nav nav-tabs\" id=\"ul1083388899\"><li>\n              <a href=\"#tab1083388899-0\"><i class=\"fa fa-table\"/></a>\n            </li><li>\n              <a href=\"#tab1083388899-1\"><i class=\"fa fa-cubes\"/></a>\n            </li></ul>\n\n        <div class=\"tab-content\" id=\"tab1083388899\"><div class=\"tab-pane\" id=\"tab1083388899-0\">\n            <div>\n      <script data-this=\"{&quot;dataId&quot;:&quot;anon08d5755e476c87709cfbfef318ad7a22&quot;,&quot;dataInit&quot;:[{&quot;string value&quot;:&quot;a&quot;},{&quot;string value&quot;:&quot;resilient&quot;},{&quot;string value&quot;:&quot;distributed&quot;},{&quot;string value&quot;:&quot;dataset&quot;},{&quot;string value&quot;:&quot;rdd&quot;},{&quot;string value&quot;:&quot;the&quot;},{&quot;string value&quot;:&quot;basic&quot;},{&quot;string value&quot;:&quot;abstraction&quot;},{&quot;string value&quot;:&quot;in&quot;},{&quot;string value&quot;:&quot;spark&quot;}],&quot;genId&quot;:&quot;1137874930&quot;}\" type=\"text/x-scoped-javascript\">/*<![CDATA[*/req(['../javascripts/notebook/playground','../javascripts/notebook/magic/tableChart'], \n      function(playground, _magictableChart) {\n        // data ==> data-this (in observable.js's scopedEval) ==> this in JS => { dataId, dataInit, ... }\n        // this ==> scope (in observable.js's scopedEval) ==> this.parentElement ==> div.container below (toHtml)\n\n        playground.call(data,\n                        this\n                        ,\n                        {\n    \"f\": _magictableChart,\n    \"o\": {\"headers\":[\"string value\"],\"width\":600,\"height\":400}\n  }\n  \n                        \n                        \n                      );\n      }\n    );/*]]>*/</script>\n    <div>\n      <span class=\"chart-total-item-count\"><p data-bind=\"text: value\"><script data-this=\"{&quot;valueId&quot;:&quot;anon2289b0ed771378ccd390e267d4004308&quot;,&quot;initialValue&quot;:&quot;10&quot;}\" type=\"text/x-scoped-javascript\">/*<![CDATA[*/\nreq(\n['observable', 'knockout'],\nfunction (O, ko) {\n  ko.applyBindings({\n      value: O.makeObservable(valueId, initialValue)\n    },\n    this\n  );\n});\n        /*]]>*/</script></p> entries total</span>\n      <span class=\"chart-sampling-warning\"><p data-bind=\"text: value\"><script data-this=\"{&quot;valueId&quot;:&quot;anon71394e2e3bd86184f221199fef8876d2&quot;,&quot;initialValue&quot;:&quot;&quot;}\" type=\"text/x-scoped-javascript\">/*<![CDATA[*/\nreq(\n['observable', 'knockout'],\nfunction (O, ko) {\n  ko.applyBindings({\n      value: O.makeObservable(valueId, initialValue)\n    },\n    this\n  );\n});\n        /*]]>*/</script></p></span>\n      <div>\n      </div>\n    </div></div>\n            </div><div class=\"tab-pane\" id=\"tab1083388899-1\">\n            <div>\n      <script data-this=\"{&quot;dataId&quot;:&quot;anonbb54afd13173ac2661c280ead087f826&quot;,&quot;dataInit&quot;:[{&quot;string value&quot;:&quot;a&quot;},{&quot;string value&quot;:&quot;resilient&quot;},{&quot;string value&quot;:&quot;distributed&quot;},{&quot;string value&quot;:&quot;dataset&quot;},{&quot;string value&quot;:&quot;rdd&quot;},{&quot;string value&quot;:&quot;the&quot;},{&quot;string value&quot;:&quot;basic&quot;},{&quot;string value&quot;:&quot;abstraction&quot;},{&quot;string value&quot;:&quot;in&quot;},{&quot;string value&quot;:&quot;spark&quot;}],&quot;genId&quot;:&quot;1300176663&quot;}\" type=\"text/x-scoped-javascript\">/*<![CDATA[*/req(['../javascripts/notebook/playground','../javascripts/notebook/magic/pivotChart'], \n      function(playground, _magicpivotChart) {\n        // data ==> data-this (in observable.js's scopedEval) ==> this in JS => { dataId, dataInit, ... }\n        // this ==> scope (in observable.js's scopedEval) ==> this.parentElement ==> div.container below (toHtml)\n\n        playground.call(data,\n                        this\n                        ,\n                        {\n    \"f\": _magicpivotChart,\n    \"o\": {\"width\":600,\"height\":400,\"derivedAttributes\":{},\"extraOptions\":{}}\n  }\n  \n                        \n                        \n                      );\n      }\n    );/*]]>*/</script>\n    <div>\n      <span class=\"chart-total-item-count\"><p data-bind=\"text: value\"><script data-this=\"{&quot;valueId&quot;:&quot;anon1331e5949305fd5722ae6b3eb74e20e2&quot;,&quot;initialValue&quot;:&quot;10&quot;}\" type=\"text/x-scoped-javascript\">/*<![CDATA[*/\nreq(\n['observable', 'knockout'],\nfunction (O, ko) {\n  ko.applyBindings({\n      value: O.makeObservable(valueId, initialValue)\n    },\n    this\n  );\n});\n        /*]]>*/</script></p> entries total</span>\n      <span class=\"chart-sampling-warning\"><p data-bind=\"text: value\"><script data-this=\"{&quot;valueId&quot;:&quot;anonfbc4af5eea66f616085eaaff99c2fe1c&quot;,&quot;initialValue&quot;:&quot;&quot;}\" type=\"text/x-scoped-javascript\">/*<![CDATA[*/\nreq(\n['observable', 'knockout'],\nfunction (O, ko) {\n  ko.applyBindings({\n      value: O.makeObservable(valueId, initialValue)\n    },\n    this\n  );\n});\n        /*]]>*/</script></p></span>\n      <div>\n      </div>\n    </div></div>\n            </div></div>\n      </div>\n    </div></div>"
          },
          "output_type" : "execute_result",
          "execution_count" : 10,
          "time" : "Took: 1.412s, at 2018-12-21 14:56"
        }
      ]
    },
    {
      "metadata" : {
        "id" : "302B27262E84467EBDB181BA26A03FD0"
      },
      "cell_type" : "markdown",
      "source" : "### We can now count by key to compute the number of occurences of each word\n\nTo do this, we have 2 ways to do :\n\n#### 1/ First option :\n\nFor each element in RDD, we add 1 column with value 1, then by key (word), we compute the sum of value by using reduceByKey. When we do \"_ + _\" means everytime we have same key (word), we do the sum of its values."
    },
    {
      "metadata" : {
        "trusted" : true,
        "input_collapsed" : false,
        "collapsed" : false,
        "id" : "CF099AB943CE4C7795272C07CEBA5442"
      },
      "cell_type" : "code",
      "source" : [
        "val wordCount = words.map(l => (l, 1)).reduceByKey(_ + _)"
      ],
      "outputs" : [
        {
          "name" : "stdout",
          "output_type" : "stream",
          "text" : "wordCount: org.apache.spark.rdd.RDD[(String, Int)] = ShuffledRDD[7] at reduceByKey at <console>:73\n"
        },
        {
          "metadata" : { },
          "data" : {
            "text/html" : ""
          },
          "output_type" : "execute_result",
          "execution_count" : 11,
          "time" : "Took: 1.120s, at 2018-12-21 14:56"
        }
      ]
    },
    {
      "metadata" : {
        "trusted" : true,
        "input_collapsed" : false,
        "collapsed" : false,
        "presentation" : {
          "tabs_state" : "{\n  \"tab_id\": \"#tab1288925739-0\"\n}",
          "pivot_chart_state" : "{\n  \"hiddenAttributes\": [],\n  \"menuLimit\": 200,\n  \"cols\": [],\n  \"rows\": [],\n  \"vals\": [],\n  \"exclusions\": {},\n  \"inclusions\": {},\n  \"unusedAttrsVertical\": 85,\n  \"autoSortUnusedAttrs\": false,\n  \"inclusionsInfo\": {},\n  \"aggregatorName\": \"Count\",\n  \"rendererName\": \"Table\"\n}"
        },
        "id" : "58829AA2B22443EAA5AC6A0DCA89B5D0"
      },
      "cell_type" : "code",
      "source" : [
        "wordCount.collect()"
      ],
      "outputs" : [
        {
          "name" : "stdout",
          "output_type" : "stream",
          "text" : "res18: Array[(String, Int)] = Array((reading,1), (this,1), (paper,1), (doublerddfunctions,1), (collection,1), (internally,1), (is,3), (its,1), (sequencefiles,1), (persist,1), (only,2), (data,1), (abstraction,1), (internals,1), (basic,2), (map,1), (sequencefilerddfunctions,1), (class,1), (methods,1), (scheduling,1), (execution,1), (new,1), (computing,2), (locations,2), (join,1), (other,1), (file,1), (from,1), (details,1), (dataset,1), (immutable,1), (refer,1), (can,3), (doubles,1), (split,2), (filter,1), (operated,1), (keyvalue,2), (eg,3), (as,3), (\"\",5), (operations,4), (done,1), (list,3), (please,1), (users,1), (five,1), (own,1), (rdd,5), (function,1), (addition,1), (itself,1), (characterized,1), (spark,3), (saved,1), (parallel,1), (on,9), (such,2), (each,4), (allowing,1), (partitioned..."
        },
        {
          "metadata" : { },
          "data" : {
            "text/html" : "<div>\n      <script data-this=\"{&quot;dataId&quot;:&quot;anonb0781083e2463f0e3e93c949bc3c72a2&quot;,&quot;dataInit&quot;:[],&quot;genId&quot;:&quot;1288925739&quot;}\" type=\"text/x-scoped-javascript\">/*<![CDATA[*/req(['../javascripts/notebook/playground','../javascripts/notebook/magic/tabs'], \n      function(playground, _magictabs) {\n        // data ==> data-this (in observable.js's scopedEval) ==> this in JS => { dataId, dataInit, ... }\n        // this ==> scope (in observable.js's scopedEval) ==> this.parentElement ==> div.container below (toHtml)\n\n        playground.call(data,\n                        this\n                        ,\n                        {\n    \"f\": _magictabs,\n    \"o\": {}\n  }\n  \n                        \n                        \n                      );\n      }\n    );/*]]>*/</script>\n    <div>\n      <div>\n        <ul class=\"nav nav-tabs\" id=\"ul1288925739\"><li>\n              <a href=\"#tab1288925739-0\"><i class=\"fa fa-table\"/></a>\n            </li><li>\n              <a href=\"#tab1288925739-1\"><i class=\"fa fa-bar-chart\"/></a>\n            </li><li>\n              <a href=\"#tab1288925739-2\"><i class=\"fa fa-pie-chart\"/></a>\n            </li><li>\n              <a href=\"#tab1288925739-3\"><i class=\"fa fa-cubes\"/></a>\n            </li></ul>\n\n        <div class=\"tab-content\" id=\"tab1288925739\"><div class=\"tab-pane\" id=\"tab1288925739-0\">\n            <div>\n      <script data-this=\"{&quot;dataId&quot;:&quot;anonf29c3bb4a100b26f37f7f27895c798c1&quot;,&quot;dataInit&quot;:[{&quot;_1&quot;:&quot;reading&quot;,&quot;_2&quot;:1},{&quot;_1&quot;:&quot;this&quot;,&quot;_2&quot;:1},{&quot;_1&quot;:&quot;paper&quot;,&quot;_2&quot;:1},{&quot;_1&quot;:&quot;doublerddfunctions&quot;,&quot;_2&quot;:1},{&quot;_1&quot;:&quot;collection&quot;,&quot;_2&quot;:1},{&quot;_1&quot;:&quot;internally&quot;,&quot;_2&quot;:1},{&quot;_1&quot;:&quot;is&quot;,&quot;_2&quot;:3},{&quot;_1&quot;:&quot;its&quot;,&quot;_2&quot;:1},{&quot;_1&quot;:&quot;sequencefiles&quot;,&quot;_2&quot;:1},{&quot;_1&quot;:&quot;persist&quot;,&quot;_2&quot;:1},{&quot;_1&quot;:&quot;only&quot;,&quot;_2&quot;:2},{&quot;_1&quot;:&quot;data&quot;,&quot;_2&quot;:1},{&quot;_1&quot;:&quot;abstraction&quot;,&quot;_2&quot;:1},{&quot;_1&quot;:&quot;internals&quot;,&quot;_2&quot;:1},{&quot;_1&quot;:&quot;basic&quot;,&quot;_2&quot;:2},{&quot;_1&quot;:&quot;map&quot;,&quot;_2&quot;:1},{&quot;_1&quot;:&quot;sequencefilerddfunctions&quot;,&quot;_2&quot;:1},{&quot;_1&quot;:&quot;class&quot;,&quot;_2&quot;:1},{&quot;_1&quot;:&quot;methods&quot;,&quot;_2&quot;:1},{&quot;_1&quot;:&quot;scheduling&quot;,&quot;_2&quot;:1},{&quot;_1&quot;:&quot;execution&quot;,&quot;_2&quot;:1},{&quot;_1&quot;:&quot;new&quot;,&quot;_2&quot;:1},{&quot;_1&quot;:&quot;computing&quot;,&quot;_2&quot;:2},{&quot;_1&quot;:&quot;locations&quot;,&quot;_2&quot;:2},{&quot;_1&quot;:&quot;join&quot;,&quot;_2&quot;:1},{&quot;_1&quot;:&quot;other&quot;,&quot;_2&quot;:1},{&quot;_1&quot;:&quot;file&quot;,&quot;_2&quot;:1},{&quot;_1&quot;:&quot;from&quot;,&quot;_2&quot;:1},{&quot;_1&quot;:&quot;details&quot;,&quot;_2&quot;:1},{&quot;_1&quot;:&quot;dataset&quot;,&quot;_2&quot;:1},{&quot;_1&quot;:&quot;immutable&quot;,&quot;_2&quot;:1},{&quot;_1&quot;:&quot;refer&quot;,&quot;_2&quot;:1},{&quot;_1&quot;:&quot;can&quot;,&quot;_2&quot;:3},{&quot;_1&quot;:&quot;doubles&quot;,&quot;_2&quot;:1},{&quot;_1&quot;:&quot;split&quot;,&quot;_2&quot;:2},{&quot;_1&quot;:&quot;filter&quot;,&quot;_2&quot;:1},{&quot;_1&quot;:&quot;operated&quot;,&quot;_2&quot;:1},{&quot;_1&quot;:&quot;keyvalue&quot;,&quot;_2&quot;:2},{&quot;_1&quot;:&quot;eg&quot;,&quot;_2&quot;:3},{&quot;_1&quot;:&quot;as&quot;,&quot;_2&quot;:3},{&quot;_1&quot;:&quot;&quot;,&quot;_2&quot;:5},{&quot;_1&quot;:&quot;operations&quot;,&quot;_2&quot;:4},{&quot;_1&quot;:&quot;done&quot;,&quot;_2&quot;:1},{&quot;_1&quot;:&quot;list&quot;,&quot;_2&quot;:3},{&quot;_1&quot;:&quot;please&quot;,&quot;_2&quot;:1},{&quot;_1&quot;:&quot;users&quot;,&quot;_2&quot;:1},{&quot;_1&quot;:&quot;five&quot;,&quot;_2&quot;:1},{&quot;_1&quot;:&quot;own&quot;,&quot;_2&quot;:1},{&quot;_1&quot;:&quot;rdd&quot;,&quot;_2&quot;:5},{&quot;_1&quot;:&quot;function&quot;,&quot;_2&quot;:1},{&quot;_1&quot;:&quot;addition&quot;,&quot;_2&quot;:1},{&quot;_1&quot;:&quot;itself&quot;,&quot;_2&quot;:1},{&quot;_1&quot;:&quot;characterized&quot;,&quot;_2&quot;:1},{&quot;_1&quot;:&quot;spark&quot;,&quot;_2&quot;:3},{&quot;_1&quot;:&quot;saved&quot;,&quot;_2&quot;:1},{&quot;_1&quot;:&quot;parallel&quot;,&quot;_2&quot;:1},{&quot;_1&quot;:&quot;on&quot;,&quot;_2&quot;:9},{&quot;_1&quot;:&quot;such&quot;,&quot;_2&quot;:2},{&quot;_1&quot;:&quot;each&quot;,&quot;_2&quot;:4},{&quot;_1&quot;:&quot;allowing&quot;,&quot;_2&quot;:1},{&quot;_1&quot;:&quot;partitioned&quot;,&quot;_2&quot;:1},{&quot;_1&quot;:&quot;in&quot;,&quot;_2&quot;:4},{&quot;_1&quot;:&quot;resilient&quot;,&quot;_2&quot;:1},{&quot;_1&quot;:&quot;storage&quot;,&quot;_2&quot;:1},{&quot;_1&quot;:&quot;for&quot;,&quot;_2&quot;:5},{&quot;_1&quot;:&quot;block&quot;,&quot;_2&quot;:1},{&quot;_1&quot;:&quot;indeed&quot;,&quot;_2&quot;:1},{&quot;_1&quot;:&quot;based&quot;,&quot;_2&quot;:1},{&quot;_1&quot;:&quot;distributed&quot;,&quot;_2&quot;:1},{&quot;_1&quot;:&quot;represents&quot;,&quot;_2&quot;:1},{&quot;_1&quot;:&quot;hdfs&quot;,&quot;_2&quot;:1},{&quot;_1&quot;:&quot;hashpartitioned&quot;,&quot;_2&quot;:1},{&quot;_1&quot;:&quot;rdds&quot;,&quot;_2&quot;:7},{&quot;_1&quot;:&quot;way&quot;,&quot;_2&quot;:1},{&quot;_1&quot;:&quot;partitions&quot;,&quot;_2&quot;:1},{&quot;_1&quot;:&quot;the&quot;,&quot;_2&quot;:5},{&quot;_1&quot;:&quot;these&quot;,&quot;_2&quot;:2},{&quot;_1&quot;:&quot;pairrddfunctions&quot;,&quot;_2&quot;:1},{&quot;_1&quot;:&quot;custom&quot;,&quot;_2&quot;:1},{&quot;_1&quot;:&quot;contains&quot;,&quot;_2&quot;:4},{&quot;_1&quot;:&quot;main&quot;,&quot;_2&quot;:1},{&quot;_1&quot;:&quot;that&quot;,&quot;_2&quot;:3},{&quot;_1&quot;:&quot;a&quot;,&quot;_2&quot;:7},{&quot;_1&quot;:&quot;preferred&quot;,&quot;_2&quot;:1},{&quot;_1&quot;:&quot;be&quot;,&quot;_2&quot;:2},{&quot;_1&quot;:&quot;say&quot;,&quot;_2&quot;:1},{&quot;_1&quot;:&quot;all&quot;,&quot;_2&quot;:2},{&quot;_1&quot;:&quot;to&quot;,&quot;_2&quot;:4},{&quot;_1&quot;:&quot;available&quot;,&quot;_2&quot;:4},{&quot;_1&quot;:&quot;overriding&quot;,&quot;_2&quot;:1},{&quot;_1&quot;:&quot;properties&quot;,&quot;_2&quot;:1},{&quot;_1&quot;:&quot;implement&quot;,&quot;_2&quot;:2},{&quot;_1&quot;:&quot;more&quot;,&quot;_2&quot;:1},{&quot;_1&quot;:&quot;of&quot;,&quot;_2&quot;:8},{&quot;_1&quot;:&quot;dependencies&quot;,&quot;_2&quot;:1},{&quot;_1&quot;:&quot;by&quot;,&quot;_2&quot;:2},{&quot;_1&quot;:&quot;an&quot;,&quot;_2&quot;:2},{&quot;_1&quot;:&quot;groupbykey&quot;,&quot;_2&quot;:1},{&quot;_1&quot;:&quot;functions&quot;,&quot;_2&quot;:1},{&quot;_1&quot;:&quot;partitioner&quot;,&quot;_2&quot;:1},{&quot;_1&quot;:&quot;and&quot;,&quot;_2&quot;:4},{&quot;_1&quot;:&quot;optionally&quot;,&quot;_2&quot;:2},{&quot;_1&quot;:&quot;pairs&quot;,&quot;_2&quot;:1},{&quot;_1&quot;:&quot;system&quot;,&quot;_2&quot;:1},{&quot;_1&quot;:&quot;compute&quot;,&quot;_2&quot;:1},{&quot;_1&quot;:&quot;elements&quot;,&quot;_2&quot;:1}],&quot;genId&quot;:&quot;970682070&quot;}\" type=\"text/x-scoped-javascript\">/*<![CDATA[*/req(['../javascripts/notebook/playground','../javascripts/notebook/magic/tableChart'], \n      function(playground, _magictableChart) {\n        // data ==> data-this (in observable.js's scopedEval) ==> this in JS => { dataId, dataInit, ... }\n        // this ==> scope (in observable.js's scopedEval) ==> this.parentElement ==> div.container below (toHtml)\n\n        playground.call(data,\n                        this\n                        ,\n                        {\n    \"f\": _magictableChart,\n    \"o\": {\"headers\":[\"_1\",\"_2\"],\"width\":600,\"height\":400}\n  }\n  \n                        \n                        \n                      );\n      }\n    );/*]]>*/</script>\n    <div>\n      <span class=\"chart-total-item-count\"><p data-bind=\"text: value\"><script data-this=\"{&quot;valueId&quot;:&quot;anonfb1d476678574b673c9020b48a713789&quot;,&quot;initialValue&quot;:&quot;106&quot;}\" type=\"text/x-scoped-javascript\">/*<![CDATA[*/\nreq(\n['observable', 'knockout'],\nfunction (O, ko) {\n  ko.applyBindings({\n      value: O.makeObservable(valueId, initialValue)\n    },\n    this\n  );\n});\n        /*]]>*/</script></p> entries total</span>\n      <span class=\"chart-sampling-warning\"><p data-bind=\"text: value\"><script data-this=\"{&quot;valueId&quot;:&quot;anon784a8340bc2532ad1b0973a76fbdeddc&quot;,&quot;initialValue&quot;:&quot;&quot;}\" type=\"text/x-scoped-javascript\">/*<![CDATA[*/\nreq(\n['observable', 'knockout'],\nfunction (O, ko) {\n  ko.applyBindings({\n      value: O.makeObservable(valueId, initialValue)\n    },\n    this\n  );\n});\n        /*]]>*/</script></p></span>\n      <div>\n      </div>\n    </div></div>\n            </div><div class=\"tab-pane\" id=\"tab1288925739-1\">\n            <div>\n      <script data-this=\"{&quot;dataId&quot;:&quot;anon107f7b9924732231d163a2ca4758afe0&quot;,&quot;dataInit&quot;:[{&quot;_1&quot;:&quot;reading&quot;,&quot;_2&quot;:1},{&quot;_1&quot;:&quot;this&quot;,&quot;_2&quot;:1},{&quot;_1&quot;:&quot;paper&quot;,&quot;_2&quot;:1},{&quot;_1&quot;:&quot;doublerddfunctions&quot;,&quot;_2&quot;:1},{&quot;_1&quot;:&quot;collection&quot;,&quot;_2&quot;:1},{&quot;_1&quot;:&quot;internally&quot;,&quot;_2&quot;:1},{&quot;_1&quot;:&quot;is&quot;,&quot;_2&quot;:3},{&quot;_1&quot;:&quot;its&quot;,&quot;_2&quot;:1},{&quot;_1&quot;:&quot;sequencefiles&quot;,&quot;_2&quot;:1},{&quot;_1&quot;:&quot;persist&quot;,&quot;_2&quot;:1},{&quot;_1&quot;:&quot;only&quot;,&quot;_2&quot;:2},{&quot;_1&quot;:&quot;data&quot;,&quot;_2&quot;:1},{&quot;_1&quot;:&quot;abstraction&quot;,&quot;_2&quot;:1},{&quot;_1&quot;:&quot;internals&quot;,&quot;_2&quot;:1},{&quot;_1&quot;:&quot;basic&quot;,&quot;_2&quot;:2},{&quot;_1&quot;:&quot;map&quot;,&quot;_2&quot;:1},{&quot;_1&quot;:&quot;sequencefilerddfunctions&quot;,&quot;_2&quot;:1},{&quot;_1&quot;:&quot;class&quot;,&quot;_2&quot;:1},{&quot;_1&quot;:&quot;methods&quot;,&quot;_2&quot;:1},{&quot;_1&quot;:&quot;scheduling&quot;,&quot;_2&quot;:1},{&quot;_1&quot;:&quot;execution&quot;,&quot;_2&quot;:1},{&quot;_1&quot;:&quot;new&quot;,&quot;_2&quot;:1},{&quot;_1&quot;:&quot;computing&quot;,&quot;_2&quot;:2},{&quot;_1&quot;:&quot;locations&quot;,&quot;_2&quot;:2},{&quot;_1&quot;:&quot;join&quot;,&quot;_2&quot;:1},{&quot;_1&quot;:&quot;other&quot;,&quot;_2&quot;:1},{&quot;_1&quot;:&quot;file&quot;,&quot;_2&quot;:1},{&quot;_1&quot;:&quot;from&quot;,&quot;_2&quot;:1},{&quot;_1&quot;:&quot;details&quot;,&quot;_2&quot;:1},{&quot;_1&quot;:&quot;dataset&quot;,&quot;_2&quot;:1},{&quot;_1&quot;:&quot;immutable&quot;,&quot;_2&quot;:1},{&quot;_1&quot;:&quot;refer&quot;,&quot;_2&quot;:1},{&quot;_1&quot;:&quot;can&quot;,&quot;_2&quot;:3},{&quot;_1&quot;:&quot;doubles&quot;,&quot;_2&quot;:1},{&quot;_1&quot;:&quot;split&quot;,&quot;_2&quot;:2},{&quot;_1&quot;:&quot;filter&quot;,&quot;_2&quot;:1},{&quot;_1&quot;:&quot;operated&quot;,&quot;_2&quot;:1},{&quot;_1&quot;:&quot;keyvalue&quot;,&quot;_2&quot;:2},{&quot;_1&quot;:&quot;eg&quot;,&quot;_2&quot;:3},{&quot;_1&quot;:&quot;as&quot;,&quot;_2&quot;:3},{&quot;_1&quot;:&quot;&quot;,&quot;_2&quot;:5},{&quot;_1&quot;:&quot;operations&quot;,&quot;_2&quot;:4},{&quot;_1&quot;:&quot;done&quot;,&quot;_2&quot;:1},{&quot;_1&quot;:&quot;list&quot;,&quot;_2&quot;:3},{&quot;_1&quot;:&quot;please&quot;,&quot;_2&quot;:1},{&quot;_1&quot;:&quot;users&quot;,&quot;_2&quot;:1},{&quot;_1&quot;:&quot;five&quot;,&quot;_2&quot;:1},{&quot;_1&quot;:&quot;own&quot;,&quot;_2&quot;:1},{&quot;_1&quot;:&quot;rdd&quot;,&quot;_2&quot;:5},{&quot;_1&quot;:&quot;function&quot;,&quot;_2&quot;:1},{&quot;_1&quot;:&quot;addition&quot;,&quot;_2&quot;:1},{&quot;_1&quot;:&quot;itself&quot;,&quot;_2&quot;:1},{&quot;_1&quot;:&quot;characterized&quot;,&quot;_2&quot;:1},{&quot;_1&quot;:&quot;spark&quot;,&quot;_2&quot;:3},{&quot;_1&quot;:&quot;saved&quot;,&quot;_2&quot;:1},{&quot;_1&quot;:&quot;parallel&quot;,&quot;_2&quot;:1},{&quot;_1&quot;:&quot;on&quot;,&quot;_2&quot;:9},{&quot;_1&quot;:&quot;such&quot;,&quot;_2&quot;:2},{&quot;_1&quot;:&quot;each&quot;,&quot;_2&quot;:4},{&quot;_1&quot;:&quot;allowing&quot;,&quot;_2&quot;:1},{&quot;_1&quot;:&quot;partitioned&quot;,&quot;_2&quot;:1},{&quot;_1&quot;:&quot;in&quot;,&quot;_2&quot;:4},{&quot;_1&quot;:&quot;resilient&quot;,&quot;_2&quot;:1},{&quot;_1&quot;:&quot;storage&quot;,&quot;_2&quot;:1},{&quot;_1&quot;:&quot;for&quot;,&quot;_2&quot;:5},{&quot;_1&quot;:&quot;block&quot;,&quot;_2&quot;:1},{&quot;_1&quot;:&quot;indeed&quot;,&quot;_2&quot;:1},{&quot;_1&quot;:&quot;based&quot;,&quot;_2&quot;:1},{&quot;_1&quot;:&quot;distributed&quot;,&quot;_2&quot;:1},{&quot;_1&quot;:&quot;represents&quot;,&quot;_2&quot;:1},{&quot;_1&quot;:&quot;hdfs&quot;,&quot;_2&quot;:1},{&quot;_1&quot;:&quot;hashpartitioned&quot;,&quot;_2&quot;:1},{&quot;_1&quot;:&quot;rdds&quot;,&quot;_2&quot;:7},{&quot;_1&quot;:&quot;way&quot;,&quot;_2&quot;:1},{&quot;_1&quot;:&quot;partitions&quot;,&quot;_2&quot;:1},{&quot;_1&quot;:&quot;the&quot;,&quot;_2&quot;:5},{&quot;_1&quot;:&quot;these&quot;,&quot;_2&quot;:2},{&quot;_1&quot;:&quot;pairrddfunctions&quot;,&quot;_2&quot;:1},{&quot;_1&quot;:&quot;custom&quot;,&quot;_2&quot;:1},{&quot;_1&quot;:&quot;contains&quot;,&quot;_2&quot;:4},{&quot;_1&quot;:&quot;main&quot;,&quot;_2&quot;:1},{&quot;_1&quot;:&quot;that&quot;,&quot;_2&quot;:3},{&quot;_1&quot;:&quot;a&quot;,&quot;_2&quot;:7},{&quot;_1&quot;:&quot;preferred&quot;,&quot;_2&quot;:1},{&quot;_1&quot;:&quot;be&quot;,&quot;_2&quot;:2},{&quot;_1&quot;:&quot;say&quot;,&quot;_2&quot;:1},{&quot;_1&quot;:&quot;all&quot;,&quot;_2&quot;:2},{&quot;_1&quot;:&quot;to&quot;,&quot;_2&quot;:4},{&quot;_1&quot;:&quot;available&quot;,&quot;_2&quot;:4},{&quot;_1&quot;:&quot;overriding&quot;,&quot;_2&quot;:1},{&quot;_1&quot;:&quot;properties&quot;,&quot;_2&quot;:1},{&quot;_1&quot;:&quot;implement&quot;,&quot;_2&quot;:2},{&quot;_1&quot;:&quot;more&quot;,&quot;_2&quot;:1},{&quot;_1&quot;:&quot;of&quot;,&quot;_2&quot;:8},{&quot;_1&quot;:&quot;dependencies&quot;,&quot;_2&quot;:1},{&quot;_1&quot;:&quot;by&quot;,&quot;_2&quot;:2},{&quot;_1&quot;:&quot;an&quot;,&quot;_2&quot;:2},{&quot;_1&quot;:&quot;groupbykey&quot;,&quot;_2&quot;:1},{&quot;_1&quot;:&quot;functions&quot;,&quot;_2&quot;:1},{&quot;_1&quot;:&quot;partitioner&quot;,&quot;_2&quot;:1},{&quot;_1&quot;:&quot;and&quot;,&quot;_2&quot;:4},{&quot;_1&quot;:&quot;optionally&quot;,&quot;_2&quot;:2},{&quot;_1&quot;:&quot;pairs&quot;,&quot;_2&quot;:1},{&quot;_1&quot;:&quot;system&quot;,&quot;_2&quot;:1},{&quot;_1&quot;:&quot;compute&quot;,&quot;_2&quot;:1},{&quot;_1&quot;:&quot;elements&quot;,&quot;_2&quot;:1}],&quot;genId&quot;:&quot;1312553199&quot;}\" type=\"text/x-scoped-javascript\">/*<![CDATA[*/req(['../javascripts/notebook/playground','../javascripts/notebook/magic/barChart'], \n      function(playground, _magicbarChart) {\n        // data ==> data-this (in observable.js's scopedEval) ==> this in JS => { dataId, dataInit, ... }\n        // this ==> scope (in observable.js's scopedEval) ==> this.parentElement ==> div.container below (toHtml)\n\n        playground.call(data,\n                        this\n                        ,\n                        {\n    \"f\": _magicbarChart,\n    \"o\": {\"x\":\"_1\",\"y\":\"_2\",\"width\":600,\"height\":400}\n  }\n  \n                        \n                        \n                      );\n      }\n    );/*]]>*/</script>\n    <div>\n      <span class=\"chart-total-item-count\"><p data-bind=\"text: value\"><script data-this=\"{&quot;valueId&quot;:&quot;anonbbd3cbae0f596af47f343015cae8740c&quot;,&quot;initialValue&quot;:&quot;106&quot;}\" type=\"text/x-scoped-javascript\">/*<![CDATA[*/\nreq(\n['observable', 'knockout'],\nfunction (O, ko) {\n  ko.applyBindings({\n      value: O.makeObservable(valueId, initialValue)\n    },\n    this\n  );\n});\n        /*]]>*/</script></p> entries total</span>\n      <span class=\"chart-sampling-warning\"><p data-bind=\"text: value\"><script data-this=\"{&quot;valueId&quot;:&quot;anon23af53940b7ebc38d0bdadc3547ab799&quot;,&quot;initialValue&quot;:&quot;&quot;}\" type=\"text/x-scoped-javascript\">/*<![CDATA[*/\nreq(\n['observable', 'knockout'],\nfunction (O, ko) {\n  ko.applyBindings({\n      value: O.makeObservable(valueId, initialValue)\n    },\n    this\n  );\n});\n        /*]]>*/</script></p></span>\n      <div>\n      </div>\n    </div></div>\n            </div><div class=\"tab-pane\" id=\"tab1288925739-2\">\n            <div>\n      <script data-this=\"{&quot;dataId&quot;:&quot;anone59803425ce0b6fa3204b58d6b9847bb&quot;,&quot;dataInit&quot;:[{&quot;_1&quot;:&quot;reading&quot;,&quot;_2&quot;:1},{&quot;_1&quot;:&quot;this&quot;,&quot;_2&quot;:1},{&quot;_1&quot;:&quot;paper&quot;,&quot;_2&quot;:1},{&quot;_1&quot;:&quot;doublerddfunctions&quot;,&quot;_2&quot;:1},{&quot;_1&quot;:&quot;collection&quot;,&quot;_2&quot;:1},{&quot;_1&quot;:&quot;internally&quot;,&quot;_2&quot;:1},{&quot;_1&quot;:&quot;is&quot;,&quot;_2&quot;:3},{&quot;_1&quot;:&quot;its&quot;,&quot;_2&quot;:1},{&quot;_1&quot;:&quot;sequencefiles&quot;,&quot;_2&quot;:1},{&quot;_1&quot;:&quot;persist&quot;,&quot;_2&quot;:1},{&quot;_1&quot;:&quot;only&quot;,&quot;_2&quot;:2},{&quot;_1&quot;:&quot;data&quot;,&quot;_2&quot;:1},{&quot;_1&quot;:&quot;abstraction&quot;,&quot;_2&quot;:1},{&quot;_1&quot;:&quot;internals&quot;,&quot;_2&quot;:1},{&quot;_1&quot;:&quot;basic&quot;,&quot;_2&quot;:2},{&quot;_1&quot;:&quot;map&quot;,&quot;_2&quot;:1},{&quot;_1&quot;:&quot;sequencefilerddfunctions&quot;,&quot;_2&quot;:1},{&quot;_1&quot;:&quot;class&quot;,&quot;_2&quot;:1},{&quot;_1&quot;:&quot;methods&quot;,&quot;_2&quot;:1},{&quot;_1&quot;:&quot;scheduling&quot;,&quot;_2&quot;:1},{&quot;_1&quot;:&quot;execution&quot;,&quot;_2&quot;:1},{&quot;_1&quot;:&quot;new&quot;,&quot;_2&quot;:1},{&quot;_1&quot;:&quot;computing&quot;,&quot;_2&quot;:2},{&quot;_1&quot;:&quot;locations&quot;,&quot;_2&quot;:2},{&quot;_1&quot;:&quot;join&quot;,&quot;_2&quot;:1},{&quot;_1&quot;:&quot;other&quot;,&quot;_2&quot;:1},{&quot;_1&quot;:&quot;file&quot;,&quot;_2&quot;:1},{&quot;_1&quot;:&quot;from&quot;,&quot;_2&quot;:1},{&quot;_1&quot;:&quot;details&quot;,&quot;_2&quot;:1},{&quot;_1&quot;:&quot;dataset&quot;,&quot;_2&quot;:1},{&quot;_1&quot;:&quot;immutable&quot;,&quot;_2&quot;:1},{&quot;_1&quot;:&quot;refer&quot;,&quot;_2&quot;:1},{&quot;_1&quot;:&quot;can&quot;,&quot;_2&quot;:3},{&quot;_1&quot;:&quot;doubles&quot;,&quot;_2&quot;:1},{&quot;_1&quot;:&quot;split&quot;,&quot;_2&quot;:2},{&quot;_1&quot;:&quot;filter&quot;,&quot;_2&quot;:1},{&quot;_1&quot;:&quot;operated&quot;,&quot;_2&quot;:1},{&quot;_1&quot;:&quot;keyvalue&quot;,&quot;_2&quot;:2},{&quot;_1&quot;:&quot;eg&quot;,&quot;_2&quot;:3},{&quot;_1&quot;:&quot;as&quot;,&quot;_2&quot;:3},{&quot;_1&quot;:&quot;&quot;,&quot;_2&quot;:5},{&quot;_1&quot;:&quot;operations&quot;,&quot;_2&quot;:4},{&quot;_1&quot;:&quot;done&quot;,&quot;_2&quot;:1},{&quot;_1&quot;:&quot;list&quot;,&quot;_2&quot;:3},{&quot;_1&quot;:&quot;please&quot;,&quot;_2&quot;:1},{&quot;_1&quot;:&quot;users&quot;,&quot;_2&quot;:1},{&quot;_1&quot;:&quot;five&quot;,&quot;_2&quot;:1},{&quot;_1&quot;:&quot;own&quot;,&quot;_2&quot;:1},{&quot;_1&quot;:&quot;rdd&quot;,&quot;_2&quot;:5},{&quot;_1&quot;:&quot;function&quot;,&quot;_2&quot;:1},{&quot;_1&quot;:&quot;addition&quot;,&quot;_2&quot;:1},{&quot;_1&quot;:&quot;itself&quot;,&quot;_2&quot;:1},{&quot;_1&quot;:&quot;characterized&quot;,&quot;_2&quot;:1},{&quot;_1&quot;:&quot;spark&quot;,&quot;_2&quot;:3},{&quot;_1&quot;:&quot;saved&quot;,&quot;_2&quot;:1},{&quot;_1&quot;:&quot;parallel&quot;,&quot;_2&quot;:1},{&quot;_1&quot;:&quot;on&quot;,&quot;_2&quot;:9},{&quot;_1&quot;:&quot;such&quot;,&quot;_2&quot;:2},{&quot;_1&quot;:&quot;each&quot;,&quot;_2&quot;:4},{&quot;_1&quot;:&quot;allowing&quot;,&quot;_2&quot;:1},{&quot;_1&quot;:&quot;partitioned&quot;,&quot;_2&quot;:1},{&quot;_1&quot;:&quot;in&quot;,&quot;_2&quot;:4},{&quot;_1&quot;:&quot;resilient&quot;,&quot;_2&quot;:1},{&quot;_1&quot;:&quot;storage&quot;,&quot;_2&quot;:1},{&quot;_1&quot;:&quot;for&quot;,&quot;_2&quot;:5},{&quot;_1&quot;:&quot;block&quot;,&quot;_2&quot;:1},{&quot;_1&quot;:&quot;indeed&quot;,&quot;_2&quot;:1},{&quot;_1&quot;:&quot;based&quot;,&quot;_2&quot;:1},{&quot;_1&quot;:&quot;distributed&quot;,&quot;_2&quot;:1},{&quot;_1&quot;:&quot;represents&quot;,&quot;_2&quot;:1},{&quot;_1&quot;:&quot;hdfs&quot;,&quot;_2&quot;:1},{&quot;_1&quot;:&quot;hashpartitioned&quot;,&quot;_2&quot;:1},{&quot;_1&quot;:&quot;rdds&quot;,&quot;_2&quot;:7},{&quot;_1&quot;:&quot;way&quot;,&quot;_2&quot;:1},{&quot;_1&quot;:&quot;partitions&quot;,&quot;_2&quot;:1},{&quot;_1&quot;:&quot;the&quot;,&quot;_2&quot;:5},{&quot;_1&quot;:&quot;these&quot;,&quot;_2&quot;:2},{&quot;_1&quot;:&quot;pairrddfunctions&quot;,&quot;_2&quot;:1},{&quot;_1&quot;:&quot;custom&quot;,&quot;_2&quot;:1},{&quot;_1&quot;:&quot;contains&quot;,&quot;_2&quot;:4},{&quot;_1&quot;:&quot;main&quot;,&quot;_2&quot;:1},{&quot;_1&quot;:&quot;that&quot;,&quot;_2&quot;:3},{&quot;_1&quot;:&quot;a&quot;,&quot;_2&quot;:7},{&quot;_1&quot;:&quot;preferred&quot;,&quot;_2&quot;:1},{&quot;_1&quot;:&quot;be&quot;,&quot;_2&quot;:2},{&quot;_1&quot;:&quot;say&quot;,&quot;_2&quot;:1},{&quot;_1&quot;:&quot;all&quot;,&quot;_2&quot;:2},{&quot;_1&quot;:&quot;to&quot;,&quot;_2&quot;:4},{&quot;_1&quot;:&quot;available&quot;,&quot;_2&quot;:4},{&quot;_1&quot;:&quot;overriding&quot;,&quot;_2&quot;:1},{&quot;_1&quot;:&quot;properties&quot;,&quot;_2&quot;:1},{&quot;_1&quot;:&quot;implement&quot;,&quot;_2&quot;:2},{&quot;_1&quot;:&quot;more&quot;,&quot;_2&quot;:1},{&quot;_1&quot;:&quot;of&quot;,&quot;_2&quot;:8},{&quot;_1&quot;:&quot;dependencies&quot;,&quot;_2&quot;:1},{&quot;_1&quot;:&quot;by&quot;,&quot;_2&quot;:2},{&quot;_1&quot;:&quot;an&quot;,&quot;_2&quot;:2},{&quot;_1&quot;:&quot;groupbykey&quot;,&quot;_2&quot;:1},{&quot;_1&quot;:&quot;functions&quot;,&quot;_2&quot;:1},{&quot;_1&quot;:&quot;partitioner&quot;,&quot;_2&quot;:1},{&quot;_1&quot;:&quot;and&quot;,&quot;_2&quot;:4},{&quot;_1&quot;:&quot;optionally&quot;,&quot;_2&quot;:2},{&quot;_1&quot;:&quot;pairs&quot;,&quot;_2&quot;:1},{&quot;_1&quot;:&quot;system&quot;,&quot;_2&quot;:1},{&quot;_1&quot;:&quot;compute&quot;,&quot;_2&quot;:1},{&quot;_1&quot;:&quot;elements&quot;,&quot;_2&quot;:1}],&quot;genId&quot;:&quot;257805160&quot;}\" type=\"text/x-scoped-javascript\">/*<![CDATA[*/req(['../javascripts/notebook/playground','../javascripts/notebook/magic/pieChart'], \n      function(playground, _magicpieChart) {\n        // data ==> data-this (in observable.js's scopedEval) ==> this in JS => { dataId, dataInit, ... }\n        // this ==> scope (in observable.js's scopedEval) ==> this.parentElement ==> div.container below (toHtml)\n\n        playground.call(data,\n                        this\n                        ,\n                        {\n    \"f\": _magicpieChart,\n    \"o\": {\"series\":\"_1\",\"p\":\"_2\",\"width\":600,\"height\":400}\n  }\n  \n                        \n                        \n                      );\n      }\n    );/*]]>*/</script>\n    <div>\n      <span class=\"chart-total-item-count\"><p data-bind=\"text: value\"><script data-this=\"{&quot;valueId&quot;:&quot;anon4fdf6776b9278f03b6d6cbc28a2c8713&quot;,&quot;initialValue&quot;:&quot;106&quot;}\" type=\"text/x-scoped-javascript\">/*<![CDATA[*/\nreq(\n['observable', 'knockout'],\nfunction (O, ko) {\n  ko.applyBindings({\n      value: O.makeObservable(valueId, initialValue)\n    },\n    this\n  );\n});\n        /*]]>*/</script></p> entries total</span>\n      <span class=\"chart-sampling-warning\"><p data-bind=\"text: value\"><script data-this=\"{&quot;valueId&quot;:&quot;anon10bb89a796eecf7a01b59d8bdd94f1d2&quot;,&quot;initialValue&quot;:&quot;&quot;}\" type=\"text/x-scoped-javascript\">/*<![CDATA[*/\nreq(\n['observable', 'knockout'],\nfunction (O, ko) {\n  ko.applyBindings({\n      value: O.makeObservable(valueId, initialValue)\n    },\n    this\n  );\n});\n        /*]]>*/</script></p></span>\n      <div>\n      </div>\n    </div></div>\n            </div><div class=\"tab-pane\" id=\"tab1288925739-3\">\n            <div>\n      <script data-this=\"{&quot;dataId&quot;:&quot;anon37137d425feb3926be936a43cf2b1a42&quot;,&quot;dataInit&quot;:[{&quot;_1&quot;:&quot;reading&quot;,&quot;_2&quot;:1},{&quot;_1&quot;:&quot;this&quot;,&quot;_2&quot;:1},{&quot;_1&quot;:&quot;paper&quot;,&quot;_2&quot;:1},{&quot;_1&quot;:&quot;doublerddfunctions&quot;,&quot;_2&quot;:1},{&quot;_1&quot;:&quot;collection&quot;,&quot;_2&quot;:1},{&quot;_1&quot;:&quot;internally&quot;,&quot;_2&quot;:1},{&quot;_1&quot;:&quot;is&quot;,&quot;_2&quot;:3},{&quot;_1&quot;:&quot;its&quot;,&quot;_2&quot;:1},{&quot;_1&quot;:&quot;sequencefiles&quot;,&quot;_2&quot;:1},{&quot;_1&quot;:&quot;persist&quot;,&quot;_2&quot;:1},{&quot;_1&quot;:&quot;only&quot;,&quot;_2&quot;:2},{&quot;_1&quot;:&quot;data&quot;,&quot;_2&quot;:1},{&quot;_1&quot;:&quot;abstraction&quot;,&quot;_2&quot;:1},{&quot;_1&quot;:&quot;internals&quot;,&quot;_2&quot;:1},{&quot;_1&quot;:&quot;basic&quot;,&quot;_2&quot;:2},{&quot;_1&quot;:&quot;map&quot;,&quot;_2&quot;:1},{&quot;_1&quot;:&quot;sequencefilerddfunctions&quot;,&quot;_2&quot;:1},{&quot;_1&quot;:&quot;class&quot;,&quot;_2&quot;:1},{&quot;_1&quot;:&quot;methods&quot;,&quot;_2&quot;:1},{&quot;_1&quot;:&quot;scheduling&quot;,&quot;_2&quot;:1},{&quot;_1&quot;:&quot;execution&quot;,&quot;_2&quot;:1},{&quot;_1&quot;:&quot;new&quot;,&quot;_2&quot;:1},{&quot;_1&quot;:&quot;computing&quot;,&quot;_2&quot;:2},{&quot;_1&quot;:&quot;locations&quot;,&quot;_2&quot;:2},{&quot;_1&quot;:&quot;join&quot;,&quot;_2&quot;:1},{&quot;_1&quot;:&quot;other&quot;,&quot;_2&quot;:1},{&quot;_1&quot;:&quot;file&quot;,&quot;_2&quot;:1},{&quot;_1&quot;:&quot;from&quot;,&quot;_2&quot;:1},{&quot;_1&quot;:&quot;details&quot;,&quot;_2&quot;:1},{&quot;_1&quot;:&quot;dataset&quot;,&quot;_2&quot;:1},{&quot;_1&quot;:&quot;immutable&quot;,&quot;_2&quot;:1},{&quot;_1&quot;:&quot;refer&quot;,&quot;_2&quot;:1},{&quot;_1&quot;:&quot;can&quot;,&quot;_2&quot;:3},{&quot;_1&quot;:&quot;doubles&quot;,&quot;_2&quot;:1},{&quot;_1&quot;:&quot;split&quot;,&quot;_2&quot;:2},{&quot;_1&quot;:&quot;filter&quot;,&quot;_2&quot;:1},{&quot;_1&quot;:&quot;operated&quot;,&quot;_2&quot;:1},{&quot;_1&quot;:&quot;keyvalue&quot;,&quot;_2&quot;:2},{&quot;_1&quot;:&quot;eg&quot;,&quot;_2&quot;:3},{&quot;_1&quot;:&quot;as&quot;,&quot;_2&quot;:3},{&quot;_1&quot;:&quot;&quot;,&quot;_2&quot;:5},{&quot;_1&quot;:&quot;operations&quot;,&quot;_2&quot;:4},{&quot;_1&quot;:&quot;done&quot;,&quot;_2&quot;:1},{&quot;_1&quot;:&quot;list&quot;,&quot;_2&quot;:3},{&quot;_1&quot;:&quot;please&quot;,&quot;_2&quot;:1},{&quot;_1&quot;:&quot;users&quot;,&quot;_2&quot;:1},{&quot;_1&quot;:&quot;five&quot;,&quot;_2&quot;:1},{&quot;_1&quot;:&quot;own&quot;,&quot;_2&quot;:1},{&quot;_1&quot;:&quot;rdd&quot;,&quot;_2&quot;:5},{&quot;_1&quot;:&quot;function&quot;,&quot;_2&quot;:1},{&quot;_1&quot;:&quot;addition&quot;,&quot;_2&quot;:1},{&quot;_1&quot;:&quot;itself&quot;,&quot;_2&quot;:1},{&quot;_1&quot;:&quot;characterized&quot;,&quot;_2&quot;:1},{&quot;_1&quot;:&quot;spark&quot;,&quot;_2&quot;:3},{&quot;_1&quot;:&quot;saved&quot;,&quot;_2&quot;:1},{&quot;_1&quot;:&quot;parallel&quot;,&quot;_2&quot;:1},{&quot;_1&quot;:&quot;on&quot;,&quot;_2&quot;:9},{&quot;_1&quot;:&quot;such&quot;,&quot;_2&quot;:2},{&quot;_1&quot;:&quot;each&quot;,&quot;_2&quot;:4},{&quot;_1&quot;:&quot;allowing&quot;,&quot;_2&quot;:1},{&quot;_1&quot;:&quot;partitioned&quot;,&quot;_2&quot;:1},{&quot;_1&quot;:&quot;in&quot;,&quot;_2&quot;:4},{&quot;_1&quot;:&quot;resilient&quot;,&quot;_2&quot;:1},{&quot;_1&quot;:&quot;storage&quot;,&quot;_2&quot;:1},{&quot;_1&quot;:&quot;for&quot;,&quot;_2&quot;:5},{&quot;_1&quot;:&quot;block&quot;,&quot;_2&quot;:1},{&quot;_1&quot;:&quot;indeed&quot;,&quot;_2&quot;:1},{&quot;_1&quot;:&quot;based&quot;,&quot;_2&quot;:1},{&quot;_1&quot;:&quot;distributed&quot;,&quot;_2&quot;:1},{&quot;_1&quot;:&quot;represents&quot;,&quot;_2&quot;:1},{&quot;_1&quot;:&quot;hdfs&quot;,&quot;_2&quot;:1},{&quot;_1&quot;:&quot;hashpartitioned&quot;,&quot;_2&quot;:1},{&quot;_1&quot;:&quot;rdds&quot;,&quot;_2&quot;:7},{&quot;_1&quot;:&quot;way&quot;,&quot;_2&quot;:1},{&quot;_1&quot;:&quot;partitions&quot;,&quot;_2&quot;:1},{&quot;_1&quot;:&quot;the&quot;,&quot;_2&quot;:5},{&quot;_1&quot;:&quot;these&quot;,&quot;_2&quot;:2},{&quot;_1&quot;:&quot;pairrddfunctions&quot;,&quot;_2&quot;:1},{&quot;_1&quot;:&quot;custom&quot;,&quot;_2&quot;:1},{&quot;_1&quot;:&quot;contains&quot;,&quot;_2&quot;:4},{&quot;_1&quot;:&quot;main&quot;,&quot;_2&quot;:1},{&quot;_1&quot;:&quot;that&quot;,&quot;_2&quot;:3},{&quot;_1&quot;:&quot;a&quot;,&quot;_2&quot;:7},{&quot;_1&quot;:&quot;preferred&quot;,&quot;_2&quot;:1},{&quot;_1&quot;:&quot;be&quot;,&quot;_2&quot;:2},{&quot;_1&quot;:&quot;say&quot;,&quot;_2&quot;:1},{&quot;_1&quot;:&quot;all&quot;,&quot;_2&quot;:2},{&quot;_1&quot;:&quot;to&quot;,&quot;_2&quot;:4},{&quot;_1&quot;:&quot;available&quot;,&quot;_2&quot;:4},{&quot;_1&quot;:&quot;overriding&quot;,&quot;_2&quot;:1},{&quot;_1&quot;:&quot;properties&quot;,&quot;_2&quot;:1},{&quot;_1&quot;:&quot;implement&quot;,&quot;_2&quot;:2},{&quot;_1&quot;:&quot;more&quot;,&quot;_2&quot;:1},{&quot;_1&quot;:&quot;of&quot;,&quot;_2&quot;:8},{&quot;_1&quot;:&quot;dependencies&quot;,&quot;_2&quot;:1},{&quot;_1&quot;:&quot;by&quot;,&quot;_2&quot;:2},{&quot;_1&quot;:&quot;an&quot;,&quot;_2&quot;:2},{&quot;_1&quot;:&quot;groupbykey&quot;,&quot;_2&quot;:1},{&quot;_1&quot;:&quot;functions&quot;,&quot;_2&quot;:1},{&quot;_1&quot;:&quot;partitioner&quot;,&quot;_2&quot;:1},{&quot;_1&quot;:&quot;and&quot;,&quot;_2&quot;:4},{&quot;_1&quot;:&quot;optionally&quot;,&quot;_2&quot;:2},{&quot;_1&quot;:&quot;pairs&quot;,&quot;_2&quot;:1},{&quot;_1&quot;:&quot;system&quot;,&quot;_2&quot;:1},{&quot;_1&quot;:&quot;compute&quot;,&quot;_2&quot;:1},{&quot;_1&quot;:&quot;elements&quot;,&quot;_2&quot;:1}],&quot;genId&quot;:&quot;1160224487&quot;}\" type=\"text/x-scoped-javascript\">/*<![CDATA[*/req(['../javascripts/notebook/playground','../javascripts/notebook/magic/pivotChart'], \n      function(playground, _magicpivotChart) {\n        // data ==> data-this (in observable.js's scopedEval) ==> this in JS => { dataId, dataInit, ... }\n        // this ==> scope (in observable.js's scopedEval) ==> this.parentElement ==> div.container below (toHtml)\n\n        playground.call(data,\n                        this\n                        ,\n                        {\n    \"f\": _magicpivotChart,\n    \"o\": {\"width\":600,\"height\":400,\"derivedAttributes\":{},\"extraOptions\":{}}\n  }\n  \n                        \n                        \n                      );\n      }\n    );/*]]>*/</script>\n    <div>\n      <span class=\"chart-total-item-count\"><p data-bind=\"text: value\"><script data-this=\"{&quot;valueId&quot;:&quot;anon6cbc03533f44067ef688455366d321ae&quot;,&quot;initialValue&quot;:&quot;106&quot;}\" type=\"text/x-scoped-javascript\">/*<![CDATA[*/\nreq(\n['observable', 'knockout'],\nfunction (O, ko) {\n  ko.applyBindings({\n      value: O.makeObservable(valueId, initialValue)\n    },\n    this\n  );\n});\n        /*]]>*/</script></p> entries total</span>\n      <span class=\"chart-sampling-warning\"><p data-bind=\"text: value\"><script data-this=\"{&quot;valueId&quot;:&quot;anonae34f4684bfbd779b6f5530ab01f2f4a&quot;,&quot;initialValue&quot;:&quot;&quot;}\" type=\"text/x-scoped-javascript\">/*<![CDATA[*/\nreq(\n['observable', 'knockout'],\nfunction (O, ko) {\n  ko.applyBindings({\n      value: O.makeObservable(valueId, initialValue)\n    },\n    this\n  );\n});\n        /*]]>*/</script></p></span>\n      <div>\n      </div>\n    </div></div>\n            </div></div>\n      </div>\n    </div></div>"
          },
          "output_type" : "execute_result",
          "execution_count" : 12,
          "time" : "Took: 1.616s, at 2018-12-21 14:57"
        }
      ]
    },
    {
      "metadata" : {
        "id" : "D7EB98FEFBC34C7E809486F9859A2026"
      },
      "cell_type" : "markdown",
      "source" : "#### 2/ Second option :\n\nWe do the same, for each element in RDD, we map with value 1. Then we groupByKey and compute the sum of list of the value"
    },
    {
      "metadata" : {
        "trusted" : true,
        "input_collapsed" : false,
        "collapsed" : true,
        "id" : "2E12AAAC9B784155B4A0950F561B39DE"
      },
      "cell_type" : "code",
      "source" : [
        "val wordCount = words.map(l => (l, 1)).groupByKey().map(l => (l._1, l._2.toList.sum))"
      ],
      "outputs" : [ ]
    },
    {
      "metadata" : {
        "id" : "C0B137BCDC5B47329C6DC4CF8EF999F6"
      },
      "cell_type" : "markdown",
      "source" : "### For example if we want to find the count of \"is\", we can also do filter"
    },
    {
      "metadata" : {
        "trusted" : true,
        "input_collapsed" : false,
        "collapsed" : true,
        "presentation" : {
          "tabs_state" : "{\n  \"tab_id\": \"#tab1563794469-0\"\n}",
          "pivot_chart_state" : "{\n  \"hiddenAttributes\": [],\n  \"menuLimit\": 200,\n  \"cols\": [],\n  \"rows\": [],\n  \"vals\": [],\n  \"exclusions\": {},\n  \"inclusions\": {},\n  \"unusedAttrsVertical\": 85,\n  \"autoSortUnusedAttrs\": false,\n  \"inclusionsInfo\": {},\n  \"aggregatorName\": \"Count\",\n  \"rendererName\": \"Table\"\n}"
        },
        "id" : "B65D3F596049480D869EE3179A394C70"
      },
      "cell_type" : "code",
      "source" : [
        "wordCount.filter(l => l._1 == \"is\").take(10)"
      ],
      "outputs" : [ ]
    },
    {
      "metadata" : {
        "id" : "3B8E0DF4D87F4A07AD9439F2DA1421C3"
      },
      "cell_type" : "markdown",
      "source" : "### So without any filter, the output will be "
    },
    {
      "metadata" : {
        "trusted" : true,
        "input_collapsed" : false,
        "collapsed" : true,
        "presentation" : {
          "tabs_state" : "{\n  \"tab_id\": \"#tab1718469246-1\"\n}",
          "pivot_chart_state" : "{\n  \"hiddenAttributes\": [],\n  \"menuLimit\": 200,\n  \"cols\": [],\n  \"rows\": [],\n  \"vals\": [],\n  \"exclusions\": {},\n  \"inclusions\": {},\n  \"unusedAttrsVertical\": 85,\n  \"autoSortUnusedAttrs\": false,\n  \"inclusionsInfo\": {},\n  \"aggregatorName\": \"Count\",\n  \"rendererName\": \"Table\"\n}"
        },
        "id" : "AA346D5DB42C487BA3DA2705D902A04A"
      },
      "cell_type" : "code",
      "source" : [
        "wordCount.take(10)"
      ],
      "outputs" : [ ]
    },
    {
      "metadata" : {
        "trusted" : true,
        "input_collapsed" : false,
        "collapsed" : true,
        "id" : "95ED7161E4CC48FB89BD6F60B0528C7A"
      },
      "cell_type" : "markdown",
      "source" : "### From RDD to DataFrame and Dataset\n\nWe can convert RDD to Dataset or DataFrame. In fact, in Spark, these 3 APIs (RDD, DataFrame ans Dataset) are the three types officially used. They can convert to each other. \n\nTo understand thoroughly when to use them, you can read at https://databricks.com/blog/2016/07/14/a-tale-of-three-apache-spark-apis-rdds-dataframes-and-datasets.html"
    },
    {
      "metadata" : {
        "id" : "0AB3728226A9467DB5FFE11D54EECEC9"
      },
      "cell_type" : "markdown",
      "source" : "#### From RDD to DataFrame"
    },
    {
      "metadata" : {
        "trusted" : true,
        "input_collapsed" : false,
        "collapsed" : true,
        "id" : "D565BD70228545D38AAA6730541DB835"
      },
      "cell_type" : "code",
      "source" : [
        "val sqlContext = new SQLContext(sc) \n",
        "import sqlContext.implicits._\n",
        "\n",
        "val df = wordCount.toDF(\"word\", \"count\")"
      ],
      "outputs" : [ ]
    },
    {
      "metadata" : {
        "trusted" : true,
        "input_collapsed" : false,
        "collapsed" : true,
        "id" : "DDF142AB89714CAA8083D7763D14C05A"
      },
      "cell_type" : "code",
      "source" : [
        "df.show()"
      ],
      "outputs" : [ ]
    },
    {
      "metadata" : {
        "id" : "7E32A51004054ABB8873F4DE873E86E3"
      },
      "cell_type" : "markdown",
      "source" : "#### From RDD to Dataset"
    },
    {
      "metadata" : {
        "trusted" : true,
        "input_collapsed" : false,
        "collapsed" : true,
        "id" : "04161E75C8DE414F80DB56E6FC3BAA04"
      },
      "cell_type" : "code",
      "source" : [
        "import org.apache.spark.sql.types.{DoubleType, StringType, StructField, StructType}\n",
        "import org.apache.spark.sql.{Row, SparkSession}"
      ],
      "outputs" : [ ]
    },
    {
      "metadata" : {
        "trusted" : true,
        "input_collapsed" : false,
        "collapsed" : true,
        "id" : "9E44A8AFEB4C4CDD99479C2882A78F8C"
      },
      "cell_type" : "code",
      "source" : [
        "val sparkSession = SparkSession.builder\n",
        "      .master(\"local\")\n",
        "      .appName(\"example\")\n",
        "      .getOrCreate()\n",
        "\n",
        "val sparkContext = sparkSession.sparkContext\n",
        "import sparkSession.implicits._"
      ],
      "outputs" : [ ]
    },
    {
      "metadata" : {
        "trusted" : true,
        "input_collapsed" : false,
        "collapsed" : true,
        "id" : "3263428CFDB047E984D0E9F30CA17B50"
      },
      "cell_type" : "code",
      "source" : [
        "val dataset = words_with_nbOccurences.toDS()"
      ],
      "outputs" : [ ]
    },
    {
      "metadata" : {
        "trusted" : true,
        "input_collapsed" : false,
        "collapsed" : true,
        "id" : "7B4438CBC26D43A99D7E15A5B444DF5A"
      },
      "cell_type" : "code",
      "source" : [
        "dataset.show()"
      ],
      "outputs" : [ ]
    },
    {
      "metadata" : {
        "trusted" : true,
        "input_collapsed" : false,
        "collapsed" : true,
        "id" : "C56176E7A0994D17843ED011185688CA"
      },
      "cell_type" : "code",
      "source" : [
        ""
      ],
      "outputs" : [ ]
    }
  ],
  "nbformat" : 4
}